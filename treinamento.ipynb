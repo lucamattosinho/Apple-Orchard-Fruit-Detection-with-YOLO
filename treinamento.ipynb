{
 "cells": [
  {
   "cell_type": "markdown",
   "metadata": {},
   "source": [
    "# Treinamento"
   ]
  },
  {
   "cell_type": "code",
   "execution_count": null,
   "metadata": {},
   "outputs": [
    {
     "name": "stdout",
     "output_type": "stream",
     "text": [
      "\u001b[34m\u001b[1mTuner: \u001b[0mInitialized Tuner instance with 'tune_dir=runs\\detect\\tune'\n",
      "\u001b[34m\u001b[1mTuner: \u001b[0m Learn about tuning at https://docs.ultralytics.com/guides/hyperparameter-tuning\n",
      "\u001b[34m\u001b[1mTuner: \u001b[0mStarting iteration 1/300 with hyperparameters: {'lr0': 0.01, 'lrf': 0.01, 'momentum': 0.937, 'weight_decay': 0.0005, 'warmup_epochs': 3.0, 'warmup_momentum': 0.8, 'box': 7.5, 'cls': 0.5, 'dfl': 1.5, 'hsv_h': 0.015, 'hsv_s': 0.7, 'hsv_v': 0.4, 'degrees': 0.0, 'translate': 0.1, 'scale': 0.5, 'shear': 0.0, 'perspective': 0.0, 'flipud': 0.0, 'fliplr': 0.5, 'bgr': 0.0, 'mosaic': 1.0, 'mixup': 0.0, 'copy_paste': 0.0}\n",
      "Saved runs\\detect\\tune\\tune_scatter_plots.png\n",
      "Saved runs\\detect\\tune\\tune_fitness.png\n",
      "\n",
      "\u001b[34m\u001b[1mTuner: \u001b[0m1/300 iterations complete  (394.87s)\n",
      "\u001b[34m\u001b[1mTuner: \u001b[0mResults saved to \u001b[1mruns\\detect\\tune\u001b[0m\n",
      "\u001b[34m\u001b[1mTuner: \u001b[0mBest fitness=0.63946 observed at iteration 1\n",
      "\u001b[34m\u001b[1mTuner: \u001b[0mBest fitness metrics are {'metrics/precision(B)': 0.88633, 'metrics/recall(B)': 0.82444, 'metrics/mAP50(B)': 0.91891, 'metrics/mAP50-95(B)': 0.60841, 'val/box_loss': 1.20376, 'val/cls_loss': 0.70545, 'val/dfl_loss': 1.18977, 'fitness': 0.63946}\n",
      "\u001b[34m\u001b[1mTuner: \u001b[0mBest fitness model is runs\\detect\\train3\n",
      "\u001b[34m\u001b[1mTuner: \u001b[0mBest fitness hyperparameters are printed below.\n",
      "\n",
      "Printing '\u001b[1m\u001b[30mruns\\detect\\tune\\best_hyperparameters.yaml\u001b[0m'\n",
      "\n",
      "lr0: 0.01\n",
      "lrf: 0.01\n",
      "momentum: 0.937\n",
      "weight_decay: 0.0005\n",
      "warmup_epochs: 3.0\n",
      "warmup_momentum: 0.8\n",
      "box: 7.5\n",
      "cls: 0.5\n",
      "dfl: 1.5\n",
      "hsv_h: 0.015\n",
      "hsv_s: 0.7\n",
      "hsv_v: 0.4\n",
      "degrees: 0.0\n",
      "translate: 0.1\n",
      "scale: 0.5\n",
      "shear: 0.0\n",
      "perspective: 0.0\n",
      "flipud: 0.0\n",
      "fliplr: 0.5\n",
      "bgr: 0.0\n",
      "mosaic: 1.0\n",
      "mixup: 0.0\n",
      "copy_paste: 0.0\n",
      "\n",
      "\u001b[34m\u001b[1mTuner: \u001b[0mStarting iteration 2/300 with hyperparameters: {'lr0': 0.00953, 'lrf': 0.01042, 'momentum': 0.93701, 'weight_decay': 0.0005, 'warmup_epochs': 3.35748, 'warmup_momentum': 0.81988, 'box': 7.25154, 'cls': 0.51224, 'dfl': 1.35028, 'hsv_h': 0.015, 'hsv_s': 0.75858, 'hsv_v': 0.4, 'degrees': 0.0, 'translate': 0.11502, 'scale': 0.49119, 'shear': 0.0, 'perspective': 0.0, 'flipud': 0.0, 'fliplr': 0.5, 'bgr': 0.0, 'mosaic': 0.95767, 'mixup': 0.0, 'copy_paste': 0.0}\n",
      "Saved runs\\detect\\tune\\tune_scatter_plots.png\n",
      "Saved runs\\detect\\tune\\tune_fitness.png\n",
      "\n",
      "\u001b[34m\u001b[1mTuner: \u001b[0m2/300 iterations complete  (826.78s)\n",
      "\u001b[34m\u001b[1mTuner: \u001b[0mResults saved to \u001b[1mruns\\detect\\tune\u001b[0m\n",
      "\u001b[34m\u001b[1mTuner: \u001b[0mBest fitness=0.645 observed at iteration 2\n",
      "\u001b[34m\u001b[1mTuner: \u001b[0mBest fitness metrics are {'metrics/precision(B)': 0.87466, 'metrics/recall(B)': 0.83716, 'metrics/mAP50(B)': 0.91842, 'metrics/mAP50-95(B)': 0.61462, 'val/box_loss': 1.15464, 'val/cls_loss': 0.70591, 'val/dfl_loss': 1.05917, 'fitness': 0.645}\n",
      "\u001b[34m\u001b[1mTuner: \u001b[0mBest fitness model is runs\\detect\\train4\n",
      "\u001b[34m\u001b[1mTuner: \u001b[0mBest fitness hyperparameters are printed below.\n",
      "\n",
      "Printing '\u001b[1m\u001b[30mruns\\detect\\tune\\best_hyperparameters.yaml\u001b[0m'\n",
      "\n",
      "lr0: 0.00953\n",
      "lrf: 0.01042\n",
      "momentum: 0.93701\n",
      "weight_decay: 0.0005\n",
      "warmup_epochs: 3.35748\n",
      "warmup_momentum: 0.81988\n",
      "box: 7.25154\n",
      "cls: 0.51224\n",
      "dfl: 1.35028\n",
      "hsv_h: 0.015\n",
      "hsv_s: 0.75858\n",
      "hsv_v: 0.4\n",
      "degrees: 0.0\n",
      "translate: 0.11502\n",
      "scale: 0.49119\n",
      "shear: 0.0\n",
      "perspective: 0.0\n",
      "flipud: 0.0\n",
      "fliplr: 0.5\n",
      "bgr: 0.0\n",
      "mosaic: 0.95767\n",
      "mixup: 0.0\n",
      "copy_paste: 0.0\n",
      "\n",
      "\u001b[34m\u001b[1mTuner: \u001b[0mStarting iteration 3/300 with hyperparameters: {'lr0': 0.00948, 'lrf': 0.01042, 'momentum': 0.93992, 'weight_decay': 0.00049, 'warmup_epochs': 3.3279, 'warmup_momentum': 0.81367, 'box': 7.28784, 'cls': 0.50267, 'dfl': 1.37151, 'hsv_h': 0.01501, 'hsv_s': 0.75858, 'hsv_v': 0.4, 'degrees': 0.0, 'translate': 0.11436, 'scale': 0.48745, 'shear': 0.0, 'perspective': 0.0, 'flipud': 0.0, 'fliplr': 0.49552, 'bgr': 0.0, 'mosaic': 0.95767, 'mixup': 0.0, 'copy_paste': 0.0}\n",
      "Saved runs\\detect\\tune\\tune_scatter_plots.png\n",
      "Saved runs\\detect\\tune\\tune_fitness.png\n",
      "\n",
      "\u001b[34m\u001b[1mTuner: \u001b[0m3/300 iterations complete  (1217.01s)\n",
      "\u001b[34m\u001b[1mTuner: \u001b[0mResults saved to \u001b[1mruns\\detect\\tune\u001b[0m\n",
      "\u001b[34m\u001b[1mTuner: \u001b[0mBest fitness=0.645 observed at iteration 2\n",
      "\u001b[34m\u001b[1mTuner: \u001b[0mBest fitness metrics are {'metrics/precision(B)': 0.87466, 'metrics/recall(B)': 0.83716, 'metrics/mAP50(B)': 0.91842, 'metrics/mAP50-95(B)': 0.61462, 'val/box_loss': 1.15464, 'val/cls_loss': 0.70591, 'val/dfl_loss': 1.05917, 'fitness': 0.645}\n",
      "\u001b[34m\u001b[1mTuner: \u001b[0mBest fitness model is runs\\detect\\train4\n",
      "\u001b[34m\u001b[1mTuner: \u001b[0mBest fitness hyperparameters are printed below.\n",
      "\n",
      "Printing '\u001b[1m\u001b[30mruns\\detect\\tune\\best_hyperparameters.yaml\u001b[0m'\n",
      "\n",
      "lr0: 0.00953\n",
      "lrf: 0.01042\n",
      "momentum: 0.93701\n",
      "weight_decay: 0.0005\n",
      "warmup_epochs: 3.35748\n",
      "warmup_momentum: 0.81988\n",
      "box: 7.25154\n",
      "cls: 0.51224\n",
      "dfl: 1.35028\n",
      "hsv_h: 0.015\n",
      "hsv_s: 0.75858\n",
      "hsv_v: 0.4\n",
      "degrees: 0.0\n",
      "translate: 0.11502\n",
      "scale: 0.49119\n",
      "shear: 0.0\n",
      "perspective: 0.0\n",
      "flipud: 0.0\n",
      "fliplr: 0.5\n",
      "bgr: 0.0\n",
      "mosaic: 0.95767\n",
      "mixup: 0.0\n",
      "copy_paste: 0.0\n",
      "\n",
      "\u001b[34m\u001b[1mTuner: \u001b[0mStarting iteration 4/300 with hyperparameters: {'lr0': 0.00957, 'lrf': 0.01104, 'momentum': 0.94081, 'weight_decay': 0.0005, 'warmup_epochs': 3.29107, 'warmup_momentum': 0.87008, 'box': 6.87107, 'cls': 0.52739, 'dfl': 1.27572, 'hsv_h': 0.01482, 'hsv_s': 0.7755, 'hsv_v': 0.4, 'degrees': 0.0, 'translate': 0.11502, 'scale': 0.51215, 'shear': 0.0, 'perspective': 0.0, 'flipud': 0.0, 'fliplr': 0.44059, 'bgr': 0.0, 'mosaic': 1.0, 'mixup': 0.0, 'copy_paste': 0.0}\n",
      "Saved runs\\detect\\tune\\tune_scatter_plots.png\n",
      "Saved runs\\detect\\tune\\tune_fitness.png\n",
      "\n",
      "\u001b[34m\u001b[1mTuner: \u001b[0m4/300 iterations complete  (1603.77s)\n",
      "\u001b[34m\u001b[1mTuner: \u001b[0mResults saved to \u001b[1mruns\\detect\\tune\u001b[0m\n",
      "\u001b[34m\u001b[1mTuner: \u001b[0mBest fitness=0.645 observed at iteration 2\n",
      "\u001b[34m\u001b[1mTuner: \u001b[0mBest fitness metrics are {'metrics/precision(B)': 0.87466, 'metrics/recall(B)': 0.83716, 'metrics/mAP50(B)': 0.91842, 'metrics/mAP50-95(B)': 0.61462, 'val/box_loss': 1.15464, 'val/cls_loss': 0.70591, 'val/dfl_loss': 1.05917, 'fitness': 0.645}\n",
      "\u001b[34m\u001b[1mTuner: \u001b[0mBest fitness model is runs\\detect\\train4\n",
      "\u001b[34m\u001b[1mTuner: \u001b[0mBest fitness hyperparameters are printed below.\n",
      "\n",
      "Printing '\u001b[1m\u001b[30mruns\\detect\\tune\\best_hyperparameters.yaml\u001b[0m'\n",
      "\n",
      "lr0: 0.00953\n",
      "lrf: 0.01042\n",
      "momentum: 0.93701\n",
      "weight_decay: 0.0005\n",
      "warmup_epochs: 3.35748\n",
      "warmup_momentum: 0.81988\n",
      "box: 7.25154\n",
      "cls: 0.51224\n",
      "dfl: 1.35028\n",
      "hsv_h: 0.015\n",
      "hsv_s: 0.75858\n",
      "hsv_v: 0.4\n",
      "degrees: 0.0\n",
      "translate: 0.11502\n",
      "scale: 0.49119\n",
      "shear: 0.0\n",
      "perspective: 0.0\n",
      "flipud: 0.0\n",
      "fliplr: 0.5\n",
      "bgr: 0.0\n",
      "mosaic: 0.95767\n",
      "mixup: 0.0\n",
      "copy_paste: 0.0\n",
      "\n",
      "\u001b[34m\u001b[1mTuner: \u001b[0mStarting iteration 5/300 with hyperparameters: {'lr0': 0.0065, 'lrf': 0.01199, 'momentum': 0.91916, 'weight_decay': 0.0005, 'warmup_epochs': 2.69256, 'warmup_momentum': 0.67657, 'box': 7.21712, 'cls': 0.5063, 'dfl': 1.35028, 'hsv_h': 0.01563, 'hsv_s': 0.86895, 'hsv_v': 0.42102, 'degrees': 0.0, 'translate': 0.11323, 'scale': 0.36983, 'shear': 0.0, 'perspective': 0.0, 'flipud': 0.0, 'fliplr': 0.52414, 'bgr': 0.0, 'mosaic': 1.0, 'mixup': 0.0, 'copy_paste': 0.0}\n",
      "Saved runs\\detect\\tune\\tune_scatter_plots.png\n",
      "Saved runs\\detect\\tune\\tune_fitness.png\n",
      "\n",
      "\u001b[34m\u001b[1mTuner: \u001b[0m5/300 iterations complete  (1986.09s)\n",
      "\u001b[34m\u001b[1mTuner: \u001b[0mResults saved to \u001b[1mruns\\detect\\tune\u001b[0m\n",
      "\u001b[34m\u001b[1mTuner: \u001b[0mBest fitness=0.64611 observed at iteration 5\n",
      "\u001b[34m\u001b[1mTuner: \u001b[0mBest fitness metrics are {'metrics/precision(B)': 0.88598, 'metrics/recall(B)': 0.82617, 'metrics/mAP50(B)': 0.92038, 'metrics/mAP50-95(B)': 0.61563, 'val/box_loss': 1.14461, 'val/cls_loss': 0.68817, 'val/dfl_loss': 1.0473, 'fitness': 0.64611}\n",
      "\u001b[34m\u001b[1mTuner: \u001b[0mBest fitness model is runs\\detect\\train7\n",
      "\u001b[34m\u001b[1mTuner: \u001b[0mBest fitness hyperparameters are printed below.\n",
      "\n",
      "Printing '\u001b[1m\u001b[30mruns\\detect\\tune\\best_hyperparameters.yaml\u001b[0m'\n",
      "\n",
      "lr0: 0.0065\n",
      "lrf: 0.01199\n",
      "momentum: 0.91916\n",
      "weight_decay: 0.0005\n",
      "warmup_epochs: 2.69256\n",
      "warmup_momentum: 0.67657\n",
      "box: 7.21712\n",
      "cls: 0.5063\n",
      "dfl: 1.35028\n",
      "hsv_h: 0.01563\n",
      "hsv_s: 0.86895\n",
      "hsv_v: 0.42102\n",
      "degrees: 0.0\n",
      "translate: 0.11323\n",
      "scale: 0.36983\n",
      "shear: 0.0\n",
      "perspective: 0.0\n",
      "flipud: 0.0\n",
      "fliplr: 0.52414\n",
      "bgr: 0.0\n",
      "mosaic: 1.0\n",
      "mixup: 0.0\n",
      "copy_paste: 0.0\n",
      "\n",
      "\u001b[34m\u001b[1mTuner: \u001b[0mStarting iteration 6/300 with hyperparameters: {'lr0': 0.00965, 'lrf': 0.01094, 'momentum': 0.92607, 'weight_decay': 0.00053, 'warmup_epochs': 3.22608, 'warmup_momentum': 0.81988, 'box': 7.25154, 'cls': 0.52191, 'dfl': 1.36245, 'hsv_h': 0.0143, 'hsv_s': 0.74382, 'hsv_v': 0.38306, 'degrees': 0.0, 'translate': 0.12228, 'scale': 0.49119, 'shear': 0.0, 'perspective': 0.0, 'flipud': 0.0, 'fliplr': 0.50427, 'bgr': 0.0, 'mosaic': 1.0, 'mixup': 0.0, 'copy_paste': 0.0}\n",
      "Saved runs\\detect\\tune\\tune_scatter_plots.png\n",
      "Saved runs\\detect\\tune\\tune_fitness.png\n",
      "\n",
      "\u001b[34m\u001b[1mTuner: \u001b[0m6/300 iterations complete  (2361.29s)\n",
      "\u001b[34m\u001b[1mTuner: \u001b[0mResults saved to \u001b[1mruns\\detect\\tune\u001b[0m\n",
      "\u001b[34m\u001b[1mTuner: \u001b[0mBest fitness=0.64611 observed at iteration 5\n",
      "\u001b[34m\u001b[1mTuner: \u001b[0mBest fitness metrics are {'metrics/precision(B)': 0.88598, 'metrics/recall(B)': 0.82617, 'metrics/mAP50(B)': 0.92038, 'metrics/mAP50-95(B)': 0.61563, 'val/box_loss': 1.14461, 'val/cls_loss': 0.68817, 'val/dfl_loss': 1.0473, 'fitness': 0.64611}\n",
      "\u001b[34m\u001b[1mTuner: \u001b[0mBest fitness model is runs\\detect\\train7\n",
      "\u001b[34m\u001b[1mTuner: \u001b[0mBest fitness hyperparameters are printed below.\n",
      "\n",
      "Printing '\u001b[1m\u001b[30mruns\\detect\\tune\\best_hyperparameters.yaml\u001b[0m'\n",
      "\n",
      "lr0: 0.0065\n",
      "lrf: 0.01199\n",
      "momentum: 0.91916\n",
      "weight_decay: 0.0005\n",
      "warmup_epochs: 2.69256\n",
      "warmup_momentum: 0.67657\n",
      "box: 7.21712\n",
      "cls: 0.5063\n",
      "dfl: 1.35028\n",
      "hsv_h: 0.01563\n",
      "hsv_s: 0.86895\n",
      "hsv_v: 0.42102\n",
      "degrees: 0.0\n",
      "translate: 0.11323\n",
      "scale: 0.36983\n",
      "shear: 0.0\n",
      "perspective: 0.0\n",
      "flipud: 0.0\n",
      "fliplr: 0.52414\n",
      "bgr: 0.0\n",
      "mosaic: 1.0\n",
      "mixup: 0.0\n",
      "copy_paste: 0.0\n",
      "\n",
      "\u001b[34m\u001b[1mTuner: \u001b[0mStarting iteration 7/300 with hyperparameters: {'lr0': 0.01131, 'lrf': 0.01141, 'momentum': 0.93072, 'weight_decay': 0.0005, 'warmup_epochs': 3.1399, 'warmup_momentum': 0.5985, 'box': 6.30287, 'cls': 0.45964, 'dfl': 1.35028, 'hsv_h': 0.01917, 'hsv_s': 0.47252, 'hsv_v': 0.43703, 'degrees': 0.0, 'translate': 0.11502, 'scale': 0.49119, 'shear': 0.0, 'perspective': 0.0, 'flipud': 0.0, 'fliplr': 0.41068, 'bgr': 0.0, 'mosaic': 0.85598, 'mixup': 0.0, 'copy_paste': 0.0}\n",
      "Saved runs\\detect\\tune\\tune_scatter_plots.png\n",
      "Saved runs\\detect\\tune\\tune_fitness.png\n",
      "\n",
      "\u001b[34m\u001b[1mTuner: \u001b[0m7/300 iterations complete  (2731.64s)\n",
      "\u001b[34m\u001b[1mTuner: \u001b[0mResults saved to \u001b[1mruns\\detect\\tune\u001b[0m\n",
      "\u001b[34m\u001b[1mTuner: \u001b[0mBest fitness=0.64611 observed at iteration 5\n",
      "\u001b[34m\u001b[1mTuner: \u001b[0mBest fitness metrics are {'metrics/precision(B)': 0.88598, 'metrics/recall(B)': 0.82617, 'metrics/mAP50(B)': 0.92038, 'metrics/mAP50-95(B)': 0.61563, 'val/box_loss': 1.14461, 'val/cls_loss': 0.68817, 'val/dfl_loss': 1.0473, 'fitness': 0.64611}\n",
      "\u001b[34m\u001b[1mTuner: \u001b[0mBest fitness model is runs\\detect\\train7\n",
      "\u001b[34m\u001b[1mTuner: \u001b[0mBest fitness hyperparameters are printed below.\n",
      "\n",
      "Printing '\u001b[1m\u001b[30mruns\\detect\\tune\\best_hyperparameters.yaml\u001b[0m'\n",
      "\n",
      "lr0: 0.0065\n",
      "lrf: 0.01199\n",
      "momentum: 0.91916\n",
      "weight_decay: 0.0005\n",
      "warmup_epochs: 2.69256\n",
      "warmup_momentum: 0.67657\n",
      "box: 7.21712\n",
      "cls: 0.5063\n",
      "dfl: 1.35028\n",
      "hsv_h: 0.01563\n",
      "hsv_s: 0.86895\n",
      "hsv_v: 0.42102\n",
      "degrees: 0.0\n",
      "translate: 0.11323\n",
      "scale: 0.36983\n",
      "shear: 0.0\n",
      "perspective: 0.0\n",
      "flipud: 0.0\n",
      "fliplr: 0.52414\n",
      "bgr: 0.0\n",
      "mosaic: 1.0\n",
      "mixup: 0.0\n",
      "copy_paste: 0.0\n",
      "\n",
      "\u001b[34m\u001b[1mTuner: \u001b[0mStarting iteration 8/300 with hyperparameters: {'lr0': 0.00933, 'lrf': 0.01022, 'momentum': 0.93992, 'weight_decay': 0.00051, 'warmup_epochs': 3.49866, 'warmup_momentum': 0.76702, 'box': 7.43287, 'cls': 0.51691, 'dfl': 1.3678, 'hsv_h': 0.01497, 'hsv_s': 0.77719, 'hsv_v': 0.4092, 'degrees': 0.0, 'translate': 0.11585, 'scale': 0.50417, 'shear': 0.0, 'perspective': 0.0, 'flipud': 0.0, 'fliplr': 0.496, 'bgr': 0.0, 'mosaic': 0.93937, 'mixup': 0.0, 'copy_paste': 0.0}\n",
      "Saved runs\\detect\\tune\\tune_scatter_plots.png\n",
      "Saved runs\\detect\\tune\\tune_fitness.png\n",
      "\n",
      "\u001b[34m\u001b[1mTuner: \u001b[0m8/300 iterations complete  (3108.18s)\n",
      "\u001b[34m\u001b[1mTuner: \u001b[0mResults saved to \u001b[1mruns\\detect\\tune\u001b[0m\n",
      "\u001b[34m\u001b[1mTuner: \u001b[0mBest fitness=0.64611 observed at iteration 5\n",
      "\u001b[34m\u001b[1mTuner: \u001b[0mBest fitness metrics are {'metrics/precision(B)': 0.88598, 'metrics/recall(B)': 0.82617, 'metrics/mAP50(B)': 0.92038, 'metrics/mAP50-95(B)': 0.61563, 'val/box_loss': 1.14461, 'val/cls_loss': 0.68817, 'val/dfl_loss': 1.0473, 'fitness': 0.64611}\n",
      "\u001b[34m\u001b[1mTuner: \u001b[0mBest fitness model is runs\\detect\\train7\n",
      "\u001b[34m\u001b[1mTuner: \u001b[0mBest fitness hyperparameters are printed below.\n",
      "\n",
      "Printing '\u001b[1m\u001b[30mruns\\detect\\tune\\best_hyperparameters.yaml\u001b[0m'\n",
      "\n",
      "lr0: 0.0065\n",
      "lrf: 0.01199\n",
      "momentum: 0.91916\n",
      "weight_decay: 0.0005\n",
      "warmup_epochs: 2.69256\n",
      "warmup_momentum: 0.67657\n",
      "box: 7.21712\n",
      "cls: 0.5063\n",
      "dfl: 1.35028\n",
      "hsv_h: 0.01563\n",
      "hsv_s: 0.86895\n",
      "hsv_v: 0.42102\n",
      "degrees: 0.0\n",
      "translate: 0.11323\n",
      "scale: 0.36983\n",
      "shear: 0.0\n",
      "perspective: 0.0\n",
      "flipud: 0.0\n",
      "fliplr: 0.52414\n",
      "bgr: 0.0\n",
      "mosaic: 1.0\n",
      "mixup: 0.0\n",
      "copy_paste: 0.0\n",
      "\n",
      "\u001b[34m\u001b[1mTuner: \u001b[0mStarting iteration 9/300 with hyperparameters: {'lr0': 0.0065, 'lrf': 0.01199, 'momentum': 0.91742, 'weight_decay': 0.00051, 'warmup_epochs': 2.69256, 'warmup_momentum': 0.67481, 'box': 7.14094, 'cls': 0.50892, 'dfl': 1.34006, 'hsv_h': 0.01566, 'hsv_s': 0.87239, 'hsv_v': 0.4212, 'degrees': 0.0, 'translate': 0.11652, 'scale': 0.3678, 'shear': 0.0, 'perspective': 0.0, 'flipud': 0.0, 'fliplr': 0.53804, 'bgr': 0.0, 'mosaic': 1.0, 'mixup': 0.0, 'copy_paste': 0.0}\n",
      "Saved runs\\detect\\tune\\tune_scatter_plots.png\n",
      "Saved runs\\detect\\tune\\tune_fitness.png\n",
      "\n",
      "\u001b[34m\u001b[1mTuner: \u001b[0m9/300 iterations complete  (3488.05s)\n",
      "\u001b[34m\u001b[1mTuner: \u001b[0mResults saved to \u001b[1mruns\\detect\\tune\u001b[0m\n",
      "\u001b[34m\u001b[1mTuner: \u001b[0mBest fitness=0.64852 observed at iteration 9\n",
      "\u001b[34m\u001b[1mTuner: \u001b[0mBest fitness metrics are {'metrics/precision(B)': 0.89082, 'metrics/recall(B)': 0.82727, 'metrics/mAP50(B)': 0.92143, 'metrics/mAP50-95(B)': 0.61819, 'val/box_loss': 1.13026, 'val/cls_loss': 0.68873, 'val/dfl_loss': 1.01862, 'fitness': 0.64852}\n",
      "\u001b[34m\u001b[1mTuner: \u001b[0mBest fitness model is runs\\detect\\train11\n",
      "\u001b[34m\u001b[1mTuner: \u001b[0mBest fitness hyperparameters are printed below.\n",
      "\n",
      "Printing '\u001b[1m\u001b[30mruns\\detect\\tune\\best_hyperparameters.yaml\u001b[0m'\n",
      "\n",
      "lr0: 0.0065\n",
      "lrf: 0.01199\n",
      "momentum: 0.91742\n",
      "weight_decay: 0.00051\n",
      "warmup_epochs: 2.69256\n",
      "warmup_momentum: 0.67481\n",
      "box: 7.14094\n",
      "cls: 0.50892\n",
      "dfl: 1.34006\n",
      "hsv_h: 0.01566\n",
      "hsv_s: 0.87239\n",
      "hsv_v: 0.4212\n",
      "degrees: 0.0\n",
      "translate: 0.11652\n",
      "scale: 0.3678\n",
      "shear: 0.0\n",
      "perspective: 0.0\n",
      "flipud: 0.0\n",
      "fliplr: 0.53804\n",
      "bgr: 0.0\n",
      "mosaic: 1.0\n",
      "mixup: 0.0\n",
      "copy_paste: 0.0\n",
      "\n",
      "\u001b[34m\u001b[1mTuner: \u001b[0mStarting iteration 10/300 with hyperparameters: {'lr0': 0.00759, 'lrf': 0.01199, 'momentum': 0.86202, 'weight_decay': 0.00051, 'warmup_epochs': 2.7086, 'warmup_momentum': 0.59742, 'box': 8.88586, 'cls': 0.47447, 'dfl': 1.8454, 'hsv_h': 0.01103, 'hsv_s': 0.9, 'hsv_v': 0.32774, 'degrees': 0.0, 'translate': 0.12875, 'scale': 0.40831, 'shear': 0.0, 'perspective': 0.0, 'flipud': 0.0, 'fliplr': 0.57048, 'bgr': 0.0, 'mosaic': 1.0, 'mixup': 0.0, 'copy_paste': 0.0}\n",
      "Saved runs\\detect\\tune\\tune_scatter_plots.png\n",
      "Saved runs\\detect\\tune\\tune_fitness.png\n",
      "\n",
      "\u001b[34m\u001b[1mTuner: \u001b[0m10/300 iterations complete  (3864.95s)\n",
      "\u001b[34m\u001b[1mTuner: \u001b[0mResults saved to \u001b[1mruns\\detect\\tune\u001b[0m\n",
      "\u001b[34m\u001b[1mTuner: \u001b[0mBest fitness=0.64852 observed at iteration 9\n",
      "\u001b[34m\u001b[1mTuner: \u001b[0mBest fitness metrics are {'metrics/precision(B)': 0.89082, 'metrics/recall(B)': 0.82727, 'metrics/mAP50(B)': 0.92143, 'metrics/mAP50-95(B)': 0.61819, 'val/box_loss': 1.13026, 'val/cls_loss': 0.68873, 'val/dfl_loss': 1.01862, 'fitness': 0.64852}\n",
      "\u001b[34m\u001b[1mTuner: \u001b[0mBest fitness model is runs\\detect\\train11\n",
      "\u001b[34m\u001b[1mTuner: \u001b[0mBest fitness hyperparameters are printed below.\n",
      "\n",
      "Printing '\u001b[1m\u001b[30mruns\\detect\\tune\\best_hyperparameters.yaml\u001b[0m'\n",
      "\n",
      "lr0: 0.0065\n",
      "lrf: 0.01199\n",
      "momentum: 0.91742\n",
      "weight_decay: 0.00051\n",
      "warmup_epochs: 2.69256\n",
      "warmup_momentum: 0.67481\n",
      "box: 7.14094\n",
      "cls: 0.50892\n",
      "dfl: 1.34006\n",
      "hsv_h: 0.01566\n",
      "hsv_s: 0.87239\n",
      "hsv_v: 0.4212\n",
      "degrees: 0.0\n",
      "translate: 0.11652\n",
      "scale: 0.3678\n",
      "shear: 0.0\n",
      "perspective: 0.0\n",
      "flipud: 0.0\n",
      "fliplr: 0.53804\n",
      "bgr: 0.0\n",
      "mosaic: 1.0\n",
      "mixup: 0.0\n",
      "copy_paste: 0.0\n",
      "\n",
      "\u001b[34m\u001b[1mTuner: \u001b[0mStarting iteration 11/300 with hyperparameters: {'lr0': 0.0065, 'lrf': 0.0132, 'momentum': 0.91473, 'weight_decay': 0.00046, 'warmup_epochs': 2.08942, 'warmup_momentum': 0.70474, 'box': 7.90365, 'cls': 0.61293, 'dfl': 1.25351, 'hsv_h': 0.01392, 'hsv_s': 0.7104, 'hsv_v': 0.52212, 'degrees': 0.0, 'translate': 0.12441, 'scale': 0.44403, 'shear': 0.0, 'perspective': 0.0, 'flipud': 0.0, 'fliplr': 0.39068, 'bgr': 0.0, 'mosaic': 0.87313, 'mixup': 0.0, 'copy_paste': 0.0}\n",
      "Saved runs\\detect\\tune\\tune_scatter_plots.png\n",
      "Saved runs\\detect\\tune\\tune_fitness.png\n",
      "\n",
      "\u001b[34m\u001b[1mTuner: \u001b[0m11/300 iterations complete  (4256.75s)\n",
      "\u001b[34m\u001b[1mTuner: \u001b[0mResults saved to \u001b[1mruns\\detect\\tune\u001b[0m\n",
      "\u001b[34m\u001b[1mTuner: \u001b[0mBest fitness=0.65 observed at iteration 11\n",
      "\u001b[34m\u001b[1mTuner: \u001b[0mBest fitness metrics are {'metrics/precision(B)': 0.89602, 'metrics/recall(B)': 0.82795, 'metrics/mAP50(B)': 0.92421, 'metrics/mAP50-95(B)': 0.61953, 'val/box_loss': 1.25063, 'val/cls_loss': 0.82702, 'val/dfl_loss': 0.979, 'fitness': 0.65}\n",
      "\u001b[34m\u001b[1mTuner: \u001b[0mBest fitness model is runs\\detect\\train13\n",
      "\u001b[34m\u001b[1mTuner: \u001b[0mBest fitness hyperparameters are printed below.\n",
      "\n",
      "Printing '\u001b[1m\u001b[30mruns\\detect\\tune\\best_hyperparameters.yaml\u001b[0m'\n",
      "\n",
      "lr0: 0.0065\n",
      "lrf: 0.0132\n",
      "momentum: 0.91473\n",
      "weight_decay: 0.00046\n",
      "warmup_epochs: 2.08942\n",
      "warmup_momentum: 0.70474\n",
      "box: 7.90365\n",
      "cls: 0.61293\n",
      "dfl: 1.25351\n",
      "hsv_h: 0.01392\n",
      "hsv_s: 0.7104\n",
      "hsv_v: 0.52212\n",
      "degrees: 0.0\n",
      "translate: 0.12441\n",
      "scale: 0.44403\n",
      "shear: 0.0\n",
      "perspective: 0.0\n",
      "flipud: 0.0\n",
      "fliplr: 0.39068\n",
      "bgr: 0.0\n",
      "mosaic: 0.87313\n",
      "mixup: 0.0\n",
      "copy_paste: 0.0\n",
      "\n",
      "\u001b[34m\u001b[1mTuner: \u001b[0mStarting iteration 12/300 with hyperparameters: {'lr0': 0.00642, 'lrf': 0.01191, 'momentum': 0.9116, 'weight_decay': 0.0005, 'warmup_epochs': 2.57872, 'warmup_momentum': 0.67657, 'box': 7.16234, 'cls': 0.52161, 'dfl': 1.35028, 'hsv_h': 0.01618, 'hsv_s': 0.85699, 'hsv_v': 0.44037, 'degrees': 0.0, 'translate': 0.1093, 'scale': 0.38017, 'shear': 0.0, 'perspective': 0.0, 'flipud': 0.0, 'fliplr': 0.53176, 'bgr': 0.0, 'mosaic': 1.0, 'mixup': 0.0, 'copy_paste': 0.0}\n",
      "Saved runs\\detect\\tune\\tune_scatter_plots.png\n",
      "Saved runs\\detect\\tune\\tune_fitness.png\n",
      "\n",
      "\u001b[34m\u001b[1mTuner: \u001b[0m12/300 iterations complete  (4637.55s)\n",
      "\u001b[34m\u001b[1mTuner: \u001b[0mResults saved to \u001b[1mruns\\detect\\tune\u001b[0m\n",
      "\u001b[34m\u001b[1mTuner: \u001b[0mBest fitness=0.65 observed at iteration 11\n",
      "\u001b[34m\u001b[1mTuner: \u001b[0mBest fitness metrics are {'metrics/precision(B)': 0.89602, 'metrics/recall(B)': 0.82795, 'metrics/mAP50(B)': 0.92421, 'metrics/mAP50-95(B)': 0.61953, 'val/box_loss': 1.25063, 'val/cls_loss': 0.82702, 'val/dfl_loss': 0.979, 'fitness': 0.65}\n",
      "\u001b[34m\u001b[1mTuner: \u001b[0mBest fitness model is runs\\detect\\train13\n",
      "\u001b[34m\u001b[1mTuner: \u001b[0mBest fitness hyperparameters are printed below.\n",
      "\n",
      "Printing '\u001b[1m\u001b[30mruns\\detect\\tune\\best_hyperparameters.yaml\u001b[0m'\n",
      "\n",
      "lr0: 0.0065\n",
      "lrf: 0.0132\n",
      "momentum: 0.91473\n",
      "weight_decay: 0.00046\n",
      "warmup_epochs: 2.08942\n",
      "warmup_momentum: 0.70474\n",
      "box: 7.90365\n",
      "cls: 0.61293\n",
      "dfl: 1.25351\n",
      "hsv_h: 0.01392\n",
      "hsv_s: 0.7104\n",
      "hsv_v: 0.52212\n",
      "degrees: 0.0\n",
      "translate: 0.12441\n",
      "scale: 0.44403\n",
      "shear: 0.0\n",
      "perspective: 0.0\n",
      "flipud: 0.0\n",
      "fliplr: 0.39068\n",
      "bgr: 0.0\n",
      "mosaic: 0.87313\n",
      "mixup: 0.0\n",
      "copy_paste: 0.0\n",
      "\n",
      "\u001b[34m\u001b[1mTuner: \u001b[0mStarting iteration 13/300 with hyperparameters: {'lr0': 0.00655, 'lrf': 0.01409, 'momentum': 0.86042, 'weight_decay': 0.00044, 'warmup_epochs': 2.95403, 'warmup_momentum': 0.72731, 'box': 7.3637, 'cls': 0.56015, 'dfl': 1.15707, 'hsv_h': 0.01677, 'hsv_s': 0.68597, 'hsv_v': 0.42293, 'degrees': 0.0, 'translate': 0.11181, 'scale': 0.36684, 'shear': 0.0, 'perspective': 0.0, 'flipud': 0.0, 'fliplr': 0.45957, 'bgr': 0.0, 'mosaic': 1.0, 'mixup': 0.0, 'copy_paste': 0.0}\n",
      "Saved runs\\detect\\tune\\tune_scatter_plots.png\n",
      "Saved runs\\detect\\tune\\tune_fitness.png\n",
      "\n",
      "\u001b[34m\u001b[1mTuner: \u001b[0m13/300 iterations complete  (5018.88s)\n",
      "\u001b[34m\u001b[1mTuner: \u001b[0mResults saved to \u001b[1mruns\\detect\\tune\u001b[0m\n",
      "\u001b[34m\u001b[1mTuner: \u001b[0mBest fitness=0.65509 observed at iteration 13\n",
      "\u001b[34m\u001b[1mTuner: \u001b[0mBest fitness metrics are {'metrics/precision(B)': 0.90204, 'metrics/recall(B)': 0.83592, 'metrics/mAP50(B)': 0.92983, 'metrics/mAP50-95(B)': 0.62457, 'val/box_loss': 1.16033, 'val/cls_loss': 0.73755, 'val/dfl_loss': 0.88543, 'fitness': 0.65509}\n",
      "\u001b[34m\u001b[1mTuner: \u001b[0mBest fitness model is runs\\detect\\train15\n",
      "\u001b[34m\u001b[1mTuner: \u001b[0mBest fitness hyperparameters are printed below.\n",
      "\n",
      "Printing '\u001b[1m\u001b[30mruns\\detect\\tune\\best_hyperparameters.yaml\u001b[0m'\n",
      "\n",
      "lr0: 0.00655\n",
      "lrf: 0.01409\n",
      "momentum: 0.86042\n",
      "weight_decay: 0.00044\n",
      "warmup_epochs: 2.95403\n",
      "warmup_momentum: 0.72731\n",
      "box: 7.3637\n",
      "cls: 0.56015\n",
      "dfl: 1.15707\n",
      "hsv_h: 0.01677\n",
      "hsv_s: 0.68597\n",
      "hsv_v: 0.42293\n",
      "degrees: 0.0\n",
      "translate: 0.11181\n",
      "scale: 0.36684\n",
      "shear: 0.0\n",
      "perspective: 0.0\n",
      "flipud: 0.0\n",
      "fliplr: 0.45957\n",
      "bgr: 0.0\n",
      "mosaic: 1.0\n",
      "mixup: 0.0\n",
      "copy_paste: 0.0\n",
      "\n",
      "\u001b[34m\u001b[1mTuner: \u001b[0mStarting iteration 14/300 with hyperparameters: {'lr0': 0.00676, 'lrf': 0.01371, 'momentum': 0.86042, 'weight_decay': 0.00045, 'warmup_epochs': 2.96667, 'warmup_momentum': 0.72731, 'box': 7.3637, 'cls': 0.57978, 'dfl': 1.05019, 'hsv_h': 0.01575, 'hsv_s': 0.68518, 'hsv_v': 0.43209, 'degrees': 0.0, 'translate': 0.10759, 'scale': 0.36684, 'shear': 0.0, 'perspective': 0.0, 'flipud': 0.0, 'fliplr': 0.47017, 'bgr': 0.0, 'mosaic': 0.99945, 'mixup': 0.0, 'copy_paste': 0.0}\n",
      "Saved runs\\detect\\tune\\tune_scatter_plots.png\n",
      "Saved runs\\detect\\tune\\tune_fitness.png\n",
      "\n",
      "\u001b[34m\u001b[1mTuner: \u001b[0m14/300 iterations complete  (5391.16s)\n",
      "\u001b[34m\u001b[1mTuner: \u001b[0mResults saved to \u001b[1mruns\\detect\\tune\u001b[0m\n",
      "\u001b[34m\u001b[1mTuner: \u001b[0mBest fitness=0.65509 observed at iteration 13\n",
      "\u001b[34m\u001b[1mTuner: \u001b[0mBest fitness metrics are {'metrics/precision(B)': 0.90204, 'metrics/recall(B)': 0.83592, 'metrics/mAP50(B)': 0.92983, 'metrics/mAP50-95(B)': 0.62457, 'val/box_loss': 1.16033, 'val/cls_loss': 0.73755, 'val/dfl_loss': 0.88543, 'fitness': 0.65509}\n",
      "\u001b[34m\u001b[1mTuner: \u001b[0mBest fitness model is runs\\detect\\train15\n",
      "\u001b[34m\u001b[1mTuner: \u001b[0mBest fitness hyperparameters are printed below.\n",
      "\n",
      "Printing '\u001b[1m\u001b[30mruns\\detect\\tune\\best_hyperparameters.yaml\u001b[0m'\n",
      "\n",
      "lr0: 0.00655\n",
      "lrf: 0.01409\n",
      "momentum: 0.86042\n",
      "weight_decay: 0.00044\n",
      "warmup_epochs: 2.95403\n",
      "warmup_momentum: 0.72731\n",
      "box: 7.3637\n",
      "cls: 0.56015\n",
      "dfl: 1.15707\n",
      "hsv_h: 0.01677\n",
      "hsv_s: 0.68597\n",
      "hsv_v: 0.42293\n",
      "degrees: 0.0\n",
      "translate: 0.11181\n",
      "scale: 0.36684\n",
      "shear: 0.0\n",
      "perspective: 0.0\n",
      "flipud: 0.0\n",
      "fliplr: 0.45957\n",
      "bgr: 0.0\n",
      "mosaic: 1.0\n",
      "mixup: 0.0\n",
      "copy_paste: 0.0\n",
      "\n",
      "\u001b[34m\u001b[1mTuner: \u001b[0mStarting iteration 15/300 with hyperparameters: {'lr0': 0.00531, 'lrf': 0.01108, 'momentum': 0.88337, 'weight_decay': 0.00046, 'warmup_epochs': 2.55799, 'warmup_momentum': 0.70474, 'box': 8.78634, 'cls': 0.61293, 'dfl': 1.25351, 'hsv_h': 0.01392, 'hsv_s': 0.77122, 'hsv_v': 0.7185, 'degrees': 0.0, 'translate': 0.11413, 'scale': 0.42103, 'shear': 0.0, 'perspective': 0.0, 'flipud': 0.0, 'fliplr': 0.2897, 'bgr': 0.0, 'mosaic': 0.91697, 'mixup': 0.0, 'copy_paste': 0.0}\n",
      "Saved runs\\detect\\tune\\tune_scatter_plots.png\n",
      "Saved runs\\detect\\tune\\tune_fitness.png\n",
      "\n",
      "\u001b[34m\u001b[1mTuner: \u001b[0m15/300 iterations complete  (5774.38s)\n",
      "\u001b[34m\u001b[1mTuner: \u001b[0mResults saved to \u001b[1mruns\\detect\\tune\u001b[0m\n",
      "\u001b[34m\u001b[1mTuner: \u001b[0mBest fitness=0.65509 observed at iteration 13\n",
      "\u001b[34m\u001b[1mTuner: \u001b[0mBest fitness metrics are {'metrics/precision(B)': 0.90204, 'metrics/recall(B)': 0.83592, 'metrics/mAP50(B)': 0.92983, 'metrics/mAP50-95(B)': 0.62457, 'val/box_loss': 1.16033, 'val/cls_loss': 0.73755, 'val/dfl_loss': 0.88543, 'fitness': 0.65509}\n",
      "\u001b[34m\u001b[1mTuner: \u001b[0mBest fitness model is runs\\detect\\train15\n",
      "\u001b[34m\u001b[1mTuner: \u001b[0mBest fitness hyperparameters are printed below.\n",
      "\n",
      "Printing '\u001b[1m\u001b[30mruns\\detect\\tune\\best_hyperparameters.yaml\u001b[0m'\n",
      "\n",
      "lr0: 0.00655\n",
      "lrf: 0.01409\n",
      "momentum: 0.86042\n",
      "weight_decay: 0.00044\n",
      "warmup_epochs: 2.95403\n",
      "warmup_momentum: 0.72731\n",
      "box: 7.3637\n",
      "cls: 0.56015\n",
      "dfl: 1.15707\n",
      "hsv_h: 0.01677\n",
      "hsv_s: 0.68597\n",
      "hsv_v: 0.42293\n",
      "degrees: 0.0\n",
      "translate: 0.11181\n",
      "scale: 0.36684\n",
      "shear: 0.0\n",
      "perspective: 0.0\n",
      "flipud: 0.0\n",
      "fliplr: 0.45957\n",
      "bgr: 0.0\n",
      "mosaic: 1.0\n",
      "mixup: 0.0\n",
      "copy_paste: 0.0\n",
      "\n",
      "\u001b[34m\u001b[1mTuner: \u001b[0mStarting iteration 16/300 with hyperparameters: {'lr0': 0.00492, 'lrf': 0.01222, 'momentum': 0.85123, 'weight_decay': 0.00045, 'warmup_epochs': 2.55799, 'warmup_momentum': 0.69414, 'box': 8.35819, 'cls': 0.62828, 'dfl': 1.28665, 'hsv_h': 0.01484, 'hsv_s': 0.67167, 'hsv_v': 0.64857, 'degrees': 0.0, 'translate': 0.11644, 'scale': 0.45209, 'shear': 0.0, 'perspective': 0.0, 'flipud': 0.0, 'fliplr': 0.28389, 'bgr': 0.0, 'mosaic': 0.82448, 'mixup': 0.0, 'copy_paste': 0.0}\n",
      "Saved runs\\detect\\tune\\tune_scatter_plots.png\n",
      "Saved runs\\detect\\tune\\tune_fitness.png\n",
      "\n",
      "\u001b[34m\u001b[1mTuner: \u001b[0m16/300 iterations complete  (6154.62s)\n",
      "\u001b[34m\u001b[1mTuner: \u001b[0mResults saved to \u001b[1mruns\\detect\\tune\u001b[0m\n",
      "\u001b[34m\u001b[1mTuner: \u001b[0mBest fitness=0.65798 observed at iteration 16\n",
      "\u001b[34m\u001b[1mTuner: \u001b[0mBest fitness metrics are {'metrics/precision(B)': 0.89174, 'metrics/recall(B)': 0.85129, 'metrics/mAP50(B)': 0.93149, 'metrics/mAP50-95(B)': 0.6276, 'val/box_loss': 1.3099, 'val/cls_loss': 0.81882, 'val/dfl_loss': 0.98132, 'fitness': 0.65798}\n",
      "\u001b[34m\u001b[1mTuner: \u001b[0mBest fitness model is runs\\detect\\train18\n",
      "\u001b[34m\u001b[1mTuner: \u001b[0mBest fitness hyperparameters are printed below.\n",
      "\n",
      "Printing '\u001b[1m\u001b[30mruns\\detect\\tune\\best_hyperparameters.yaml\u001b[0m'\n",
      "\n",
      "lr0: 0.00492\n",
      "lrf: 0.01222\n",
      "momentum: 0.85123\n",
      "weight_decay: 0.00045\n",
      "warmup_epochs: 2.55799\n",
      "warmup_momentum: 0.69414\n",
      "box: 8.35819\n",
      "cls: 0.62828\n",
      "dfl: 1.28665\n",
      "hsv_h: 0.01484\n",
      "hsv_s: 0.67167\n",
      "hsv_v: 0.64857\n",
      "degrees: 0.0\n",
      "translate: 0.11644\n",
      "scale: 0.45209\n",
      "shear: 0.0\n",
      "perspective: 0.0\n",
      "flipud: 0.0\n",
      "fliplr: 0.28389\n",
      "bgr: 0.0\n",
      "mosaic: 0.82448\n",
      "mixup: 0.0\n",
      "copy_paste: 0.0\n",
      "\n",
      "\u001b[34m\u001b[1mTuner: \u001b[0mStarting iteration 17/300 with hyperparameters: {'lr0': 0.0041, 'lrf': 0.01248, 'momentum': 0.85123, 'weight_decay': 0.00046, 'warmup_epochs': 2.38655, 'warmup_momentum': 0.6659, 'box': 9.17296, 'cls': 0.62828, 'dfl': 1.25464, 'hsv_h': 0.01454, 'hsv_s': 0.63475, 'hsv_v': 0.71498, 'degrees': 0.0, 'translate': 0.11042, 'scale': 0.43256, 'shear': 0.0, 'perspective': 0.0, 'flipud': 0.0, 'fliplr': 0.30204, 'bgr': 0.0, 'mosaic': 0.8628, 'mixup': 0.0, 'copy_paste': 0.0}\n",
      "Saved runs\\detect\\tune\\tune_scatter_plots.png\n",
      "Saved runs\\detect\\tune\\tune_fitness.png\n",
      "\n",
      "\u001b[34m\u001b[1mTuner: \u001b[0m17/300 iterations complete  (6534.50s)\n",
      "\u001b[34m\u001b[1mTuner: \u001b[0mResults saved to \u001b[1mruns\\detect\\tune\u001b[0m\n",
      "\u001b[34m\u001b[1mTuner: \u001b[0mBest fitness=0.65798 observed at iteration 16\n",
      "\u001b[34m\u001b[1mTuner: \u001b[0mBest fitness metrics are {'metrics/precision(B)': 0.89174, 'metrics/recall(B)': 0.85129, 'metrics/mAP50(B)': 0.93149, 'metrics/mAP50-95(B)': 0.6276, 'val/box_loss': 1.3099, 'val/cls_loss': 0.81882, 'val/dfl_loss': 0.98132, 'fitness': 0.65798}\n",
      "\u001b[34m\u001b[1mTuner: \u001b[0mBest fitness model is runs\\detect\\train18\n",
      "\u001b[34m\u001b[1mTuner: \u001b[0mBest fitness hyperparameters are printed below.\n",
      "\n",
      "Printing '\u001b[1m\u001b[30mruns\\detect\\tune\\best_hyperparameters.yaml\u001b[0m'\n",
      "\n",
      "lr0: 0.00492\n",
      "lrf: 0.01222\n",
      "momentum: 0.85123\n",
      "weight_decay: 0.00045\n",
      "warmup_epochs: 2.55799\n",
      "warmup_momentum: 0.69414\n",
      "box: 8.35819\n",
      "cls: 0.62828\n",
      "dfl: 1.28665\n",
      "hsv_h: 0.01484\n",
      "hsv_s: 0.67167\n",
      "hsv_v: 0.64857\n",
      "degrees: 0.0\n",
      "translate: 0.11644\n",
      "scale: 0.45209\n",
      "shear: 0.0\n",
      "perspective: 0.0\n",
      "flipud: 0.0\n",
      "fliplr: 0.28389\n",
      "bgr: 0.0\n",
      "mosaic: 0.82448\n",
      "mixup: 0.0\n",
      "copy_paste: 0.0\n",
      "\n",
      "\u001b[34m\u001b[1mTuner: \u001b[0mStarting iteration 18/300 with hyperparameters: {'lr0': 0.00531, 'lrf': 0.0108, 'momentum': 0.89094, 'weight_decay': 0.00048, 'warmup_epochs': 2.56589, 'warmup_momentum': 0.67892, 'box': 8.96919, 'cls': 0.61293, 'dfl': 1.26639, 'hsv_h': 0.01364, 'hsv_s': 0.77122, 'hsv_v': 0.76969, 'degrees': 0.0, 'translate': 0.11174, 'scale': 0.42844, 'shear': 0.0, 'perspective': 0.0, 'flipud': 0.0, 'fliplr': 0.28298, 'bgr': 0.0, 'mosaic': 0.91697, 'mixup': 0.0, 'copy_paste': 0.0}\n",
      "Saved runs\\detect\\tune\\tune_scatter_plots.png\n",
      "Saved runs\\detect\\tune\\tune_fitness.png\n",
      "\n",
      "\u001b[34m\u001b[1mTuner: \u001b[0m18/300 iterations complete  (6906.99s)\n",
      "\u001b[34m\u001b[1mTuner: \u001b[0mResults saved to \u001b[1mruns\\detect\\tune\u001b[0m\n",
      "\u001b[34m\u001b[1mTuner: \u001b[0mBest fitness=0.65798 observed at iteration 16\n",
      "\u001b[34m\u001b[1mTuner: \u001b[0mBest fitness metrics are {'metrics/precision(B)': 0.89174, 'metrics/recall(B)': 0.85129, 'metrics/mAP50(B)': 0.93149, 'metrics/mAP50-95(B)': 0.6276, 'val/box_loss': 1.3099, 'val/cls_loss': 0.81882, 'val/dfl_loss': 0.98132, 'fitness': 0.65798}\n",
      "\u001b[34m\u001b[1mTuner: \u001b[0mBest fitness model is runs\\detect\\train18\n",
      "\u001b[34m\u001b[1mTuner: \u001b[0mBest fitness hyperparameters are printed below.\n",
      "\n",
      "Printing '\u001b[1m\u001b[30mruns\\detect\\tune\\best_hyperparameters.yaml\u001b[0m'\n",
      "\n",
      "lr0: 0.00492\n",
      "lrf: 0.01222\n",
      "momentum: 0.85123\n",
      "weight_decay: 0.00045\n",
      "warmup_epochs: 2.55799\n",
      "warmup_momentum: 0.69414\n",
      "box: 8.35819\n",
      "cls: 0.62828\n",
      "dfl: 1.28665\n",
      "hsv_h: 0.01484\n",
      "hsv_s: 0.67167\n",
      "hsv_v: 0.64857\n",
      "degrees: 0.0\n",
      "translate: 0.11644\n",
      "scale: 0.45209\n",
      "shear: 0.0\n",
      "perspective: 0.0\n",
      "flipud: 0.0\n",
      "fliplr: 0.28389\n",
      "bgr: 0.0\n",
      "mosaic: 0.82448\n",
      "mixup: 0.0\n",
      "copy_paste: 0.0\n",
      "\n",
      "\u001b[34m\u001b[1mTuner: \u001b[0mStarting iteration 19/300 with hyperparameters: {'lr0': 0.00374, 'lrf': 0.01108, 'momentum': 0.88337, 'weight_decay': 0.00041, 'warmup_epochs': 1.49406, 'warmup_momentum': 0.69967, 'box': 10.4086, 'cls': 0.57888, 'dfl': 1.26994, 'hsv_h': 0.0148, 'hsv_s': 0.7518, 'hsv_v': 0.69313, 'degrees': 0.0, 'translate': 0.10334, 'scale': 0.40255, 'shear': 0.0, 'perspective': 0.0, 'flipud': 0.0, 'fliplr': 0.27207, 'bgr': 0.0, 'mosaic': 1.0, 'mixup': 0.0, 'copy_paste': 0.0}\n",
      "Saved runs\\detect\\tune\\tune_scatter_plots.png\n",
      "Saved runs\\detect\\tune\\tune_fitness.png\n",
      "\n",
      "\u001b[34m\u001b[1mTuner: \u001b[0m19/300 iterations complete  (7281.75s)\n",
      "\u001b[34m\u001b[1mTuner: \u001b[0mResults saved to \u001b[1mruns\\detect\\tune\u001b[0m\n",
      "\u001b[34m\u001b[1mTuner: \u001b[0mBest fitness=0.65798 observed at iteration 16\n",
      "\u001b[34m\u001b[1mTuner: \u001b[0mBest fitness metrics are {'metrics/precision(B)': 0.89174, 'metrics/recall(B)': 0.85129, 'metrics/mAP50(B)': 0.93149, 'metrics/mAP50-95(B)': 0.6276, 'val/box_loss': 1.3099, 'val/cls_loss': 0.81882, 'val/dfl_loss': 0.98132, 'fitness': 0.65798}\n",
      "\u001b[34m\u001b[1mTuner: \u001b[0mBest fitness model is runs\\detect\\train18\n",
      "\u001b[34m\u001b[1mTuner: \u001b[0mBest fitness hyperparameters are printed below.\n",
      "\n",
      "Printing '\u001b[1m\u001b[30mruns\\detect\\tune\\best_hyperparameters.yaml\u001b[0m'\n",
      "\n",
      "lr0: 0.00492\n",
      "lrf: 0.01222\n",
      "momentum: 0.85123\n",
      "weight_decay: 0.00045\n",
      "warmup_epochs: 2.55799\n",
      "warmup_momentum: 0.69414\n",
      "box: 8.35819\n",
      "cls: 0.62828\n",
      "dfl: 1.28665\n",
      "hsv_h: 0.01484\n",
      "hsv_s: 0.67167\n",
      "hsv_v: 0.64857\n",
      "degrees: 0.0\n",
      "translate: 0.11644\n",
      "scale: 0.45209\n",
      "shear: 0.0\n",
      "perspective: 0.0\n",
      "flipud: 0.0\n",
      "fliplr: 0.28389\n",
      "bgr: 0.0\n",
      "mosaic: 0.82448\n",
      "mixup: 0.0\n",
      "copy_paste: 0.0\n",
      "\n",
      "\u001b[34m\u001b[1mTuner: \u001b[0mStarting iteration 20/300 with hyperparameters: {'lr0': 0.00374, 'lrf': 0.00955, 'momentum': 0.91898, 'weight_decay': 0.00041, 'warmup_epochs': 1.55495, 'warmup_momentum': 0.72661, 'box': 10.4086, 'cls': 0.63969, 'dfl': 1.26994, 'hsv_h': 0.0148, 'hsv_s': 0.76656, 'hsv_v': 0.76199, 'degrees': 0.0, 'translate': 0.10334, 'scale': 0.37745, 'shear': 0.0, 'perspective': 0.0, 'flipud': 0.0, 'fliplr': 0.2706, 'bgr': 0.0, 'mosaic': 1.0, 'mixup': 0.0, 'copy_paste': 0.0}\n",
      "Saved runs\\detect\\tune\\tune_scatter_plots.png\n",
      "Saved runs\\detect\\tune\\tune_fitness.png\n",
      "\n",
      "\u001b[34m\u001b[1mTuner: \u001b[0m20/300 iterations complete  (7659.96s)\n",
      "\u001b[34m\u001b[1mTuner: \u001b[0mResults saved to \u001b[1mruns\\detect\\tune\u001b[0m\n",
      "\u001b[34m\u001b[1mTuner: \u001b[0mBest fitness=0.65798 observed at iteration 16\n",
      "\u001b[34m\u001b[1mTuner: \u001b[0mBest fitness metrics are {'metrics/precision(B)': 0.89174, 'metrics/recall(B)': 0.85129, 'metrics/mAP50(B)': 0.93149, 'metrics/mAP50-95(B)': 0.6276, 'val/box_loss': 1.3099, 'val/cls_loss': 0.81882, 'val/dfl_loss': 0.98132, 'fitness': 0.65798}\n",
      "\u001b[34m\u001b[1mTuner: \u001b[0mBest fitness model is runs\\detect\\train18\n",
      "\u001b[34m\u001b[1mTuner: \u001b[0mBest fitness hyperparameters are printed below.\n",
      "\n",
      "Printing '\u001b[1m\u001b[30mruns\\detect\\tune\\best_hyperparameters.yaml\u001b[0m'\n",
      "\n",
      "lr0: 0.00492\n",
      "lrf: 0.01222\n",
      "momentum: 0.85123\n",
      "weight_decay: 0.00045\n",
      "warmup_epochs: 2.55799\n",
      "warmup_momentum: 0.69414\n",
      "box: 8.35819\n",
      "cls: 0.62828\n",
      "dfl: 1.28665\n",
      "hsv_h: 0.01484\n",
      "hsv_s: 0.67167\n",
      "hsv_v: 0.64857\n",
      "degrees: 0.0\n",
      "translate: 0.11644\n",
      "scale: 0.45209\n",
      "shear: 0.0\n",
      "perspective: 0.0\n",
      "flipud: 0.0\n",
      "fliplr: 0.28389\n",
      "bgr: 0.0\n",
      "mosaic: 0.82448\n",
      "mixup: 0.0\n",
      "copy_paste: 0.0\n",
      "\n",
      "\u001b[34m\u001b[1mTuner: \u001b[0mStarting iteration 21/300 with hyperparameters: {'lr0': 0.00655, 'lrf': 0.01393, 'momentum': 0.85182, 'weight_decay': 0.00044, 'warmup_epochs': 2.99799, 'warmup_momentum': 0.73065, 'box': 7.09609, 'cls': 0.61397, 'dfl': 1.19256, 'hsv_h': 0.01621, 'hsv_s': 0.68704, 'hsv_v': 0.42437, 'degrees': 0.0, 'translate': 0.11329, 'scale': 0.36121, 'shear': 0.0, 'perspective': 0.0, 'flipud': 0.0, 'fliplr': 0.4778, 'bgr': 0.0, 'mosaic': 1.0, 'mixup': 0.0, 'copy_paste': 0.0}\n",
      "Saved runs\\detect\\tune\\tune_scatter_plots.png\n",
      "Saved runs\\detect\\tune\\tune_fitness.png\n",
      "\n",
      "\u001b[34m\u001b[1mTuner: \u001b[0m21/300 iterations complete  (8033.37s)\n",
      "\u001b[34m\u001b[1mTuner: \u001b[0mResults saved to \u001b[1mruns\\detect\\tune\u001b[0m\n",
      "\u001b[34m\u001b[1mTuner: \u001b[0mBest fitness=0.65798 observed at iteration 16\n",
      "\u001b[34m\u001b[1mTuner: \u001b[0mBest fitness metrics are {'metrics/precision(B)': 0.89174, 'metrics/recall(B)': 0.85129, 'metrics/mAP50(B)': 0.93149, 'metrics/mAP50-95(B)': 0.6276, 'val/box_loss': 1.3099, 'val/cls_loss': 0.81882, 'val/dfl_loss': 0.98132, 'fitness': 0.65798}\n",
      "\u001b[34m\u001b[1mTuner: \u001b[0mBest fitness model is runs\\detect\\train18\n",
      "\u001b[34m\u001b[1mTuner: \u001b[0mBest fitness hyperparameters are printed below.\n",
      "\n",
      "Printing '\u001b[1m\u001b[30mruns\\detect\\tune\\best_hyperparameters.yaml\u001b[0m'\n",
      "\n",
      "lr0: 0.00492\n",
      "lrf: 0.01222\n",
      "momentum: 0.85123\n",
      "weight_decay: 0.00045\n",
      "warmup_epochs: 2.55799\n",
      "warmup_momentum: 0.69414\n",
      "box: 8.35819\n",
      "cls: 0.62828\n",
      "dfl: 1.28665\n",
      "hsv_h: 0.01484\n",
      "hsv_s: 0.67167\n",
      "hsv_v: 0.64857\n",
      "degrees: 0.0\n",
      "translate: 0.11644\n",
      "scale: 0.45209\n",
      "shear: 0.0\n",
      "perspective: 0.0\n",
      "flipud: 0.0\n",
      "fliplr: 0.28389\n",
      "bgr: 0.0\n",
      "mosaic: 0.82448\n",
      "mixup: 0.0\n",
      "copy_paste: 0.0\n",
      "\n",
      "\u001b[34m\u001b[1mTuner: \u001b[0mStarting iteration 22/300 with hyperparameters: {'lr0': 0.00455, 'lrf': 0.01306, 'momentum': 0.88359, 'weight_decay': 0.00043, 'warmup_epochs': 1.99991, 'warmup_momentum': 0.57774, 'box': 10.33882, 'cls': 0.62828, 'dfl': 1.67638, 'hsv_h': 0.01484, 'hsv_s': 0.80615, 'hsv_v': 0.70657, 'degrees': 0.0, 'translate': 0.08812, 'scale': 0.45209, 'shear': 0.0, 'perspective': 0.0, 'flipud': 0.0, 'fliplr': 0.28389, 'bgr': 0.0, 'mosaic': 0.82448, 'mixup': 0.0, 'copy_paste': 0.0}\n",
      "Saved runs\\detect\\tune\\tune_scatter_plots.png\n",
      "Saved runs\\detect\\tune\\tune_fitness.png\n",
      "\n",
      "\u001b[34m\u001b[1mTuner: \u001b[0m22/300 iterations complete  (8410.24s)\n",
      "\u001b[34m\u001b[1mTuner: \u001b[0mResults saved to \u001b[1mruns\\detect\\tune\u001b[0m\n",
      "\u001b[34m\u001b[1mTuner: \u001b[0mBest fitness=0.65798 observed at iteration 16\n",
      "\u001b[34m\u001b[1mTuner: \u001b[0mBest fitness metrics are {'metrics/precision(B)': 0.89174, 'metrics/recall(B)': 0.85129, 'metrics/mAP50(B)': 0.93149, 'metrics/mAP50-95(B)': 0.6276, 'val/box_loss': 1.3099, 'val/cls_loss': 0.81882, 'val/dfl_loss': 0.98132, 'fitness': 0.65798}\n",
      "\u001b[34m\u001b[1mTuner: \u001b[0mBest fitness model is runs\\detect\\train18\n",
      "\u001b[34m\u001b[1mTuner: \u001b[0mBest fitness hyperparameters are printed below.\n",
      "\n",
      "Printing '\u001b[1m\u001b[30mruns\\detect\\tune\\best_hyperparameters.yaml\u001b[0m'\n",
      "\n",
      "lr0: 0.00492\n",
      "lrf: 0.01222\n",
      "momentum: 0.85123\n",
      "weight_decay: 0.00045\n",
      "warmup_epochs: 2.55799\n",
      "warmup_momentum: 0.69414\n",
      "box: 8.35819\n",
      "cls: 0.62828\n",
      "dfl: 1.28665\n",
      "hsv_h: 0.01484\n",
      "hsv_s: 0.67167\n",
      "hsv_v: 0.64857\n",
      "degrees: 0.0\n",
      "translate: 0.11644\n",
      "scale: 0.45209\n",
      "shear: 0.0\n",
      "perspective: 0.0\n",
      "flipud: 0.0\n",
      "fliplr: 0.28389\n",
      "bgr: 0.0\n",
      "mosaic: 0.82448\n",
      "mixup: 0.0\n",
      "copy_paste: 0.0\n",
      "\n",
      "\u001b[34m\u001b[1mTuner: \u001b[0mStarting iteration 23/300 with hyperparameters: {'lr0': 0.00369, 'lrf': 0.00942, 'momentum': 0.90446, 'weight_decay': 0.00047, 'warmup_epochs': 1.66895, 'warmup_momentum': 0.74311, 'box': 10.09004, 'cls': 0.62285, 'dfl': 1.10198, 'hsv_h': 0.01516, 'hsv_s': 0.76126, 'hsv_v': 0.69313, 'degrees': 0.0, 'translate': 0.10532, 'scale': 0.38305, 'shear': 0.0, 'perspective': 0.0, 'flipud': 0.0, 'fliplr': 0.24847, 'bgr': 0.0, 'mosaic': 0.81984, 'mixup': 0.0, 'copy_paste': 0.0}\n",
      "Saved runs\\detect\\tune\\tune_scatter_plots.png\n",
      "Saved runs\\detect\\tune\\tune_fitness.png\n",
      "\n",
      "\u001b[34m\u001b[1mTuner: \u001b[0m23/300 iterations complete  (8815.51s)\n",
      "\u001b[34m\u001b[1mTuner: \u001b[0mResults saved to \u001b[1mruns\\detect\\tune\u001b[0m\n",
      "\u001b[34m\u001b[1mTuner: \u001b[0mBest fitness=0.65798 observed at iteration 16\n",
      "\u001b[34m\u001b[1mTuner: \u001b[0mBest fitness metrics are {'metrics/precision(B)': 0.89174, 'metrics/recall(B)': 0.85129, 'metrics/mAP50(B)': 0.93149, 'metrics/mAP50-95(B)': 0.6276, 'val/box_loss': 1.3099, 'val/cls_loss': 0.81882, 'val/dfl_loss': 0.98132, 'fitness': 0.65798}\n",
      "\u001b[34m\u001b[1mTuner: \u001b[0mBest fitness model is runs\\detect\\train18\n",
      "\u001b[34m\u001b[1mTuner: \u001b[0mBest fitness hyperparameters are printed below.\n",
      "\n",
      "Printing '\u001b[1m\u001b[30mruns\\detect\\tune\\best_hyperparameters.yaml\u001b[0m'\n",
      "\n",
      "lr0: 0.00492\n",
      "lrf: 0.01222\n",
      "momentum: 0.85123\n",
      "weight_decay: 0.00045\n",
      "warmup_epochs: 2.55799\n",
      "warmup_momentum: 0.69414\n",
      "box: 8.35819\n",
      "cls: 0.62828\n",
      "dfl: 1.28665\n",
      "hsv_h: 0.01484\n",
      "hsv_s: 0.67167\n",
      "hsv_v: 0.64857\n",
      "degrees: 0.0\n",
      "translate: 0.11644\n",
      "scale: 0.45209\n",
      "shear: 0.0\n",
      "perspective: 0.0\n",
      "flipud: 0.0\n",
      "fliplr: 0.28389\n",
      "bgr: 0.0\n",
      "mosaic: 0.82448\n",
      "mixup: 0.0\n",
      "copy_paste: 0.0\n",
      "\n",
      "\u001b[34m\u001b[1mTuner: \u001b[0mStarting iteration 24/300 with hyperparameters: {'lr0': 0.0037, 'lrf': 0.01126, 'momentum': 0.89851, 'weight_decay': 0.00041, 'warmup_epochs': 1.27925, 'warmup_momentum': 0.74428, 'box': 11.46535, 'cls': 0.56389, 'dfl': 1.2472, 'hsv_h': 0.0148, 'hsv_s': 0.7518, 'hsv_v': 0.57636, 'degrees': 0.0, 'translate': 0.10939, 'scale': 0.39277, 'shear': 0.0, 'perspective': 0.0, 'flipud': 0.0, 'fliplr': 0.27207, 'bgr': 0.0, 'mosaic': 0.9895, 'mixup': 0.0, 'copy_paste': 0.0}\n",
      "Saved runs\\detect\\tune\\tune_scatter_plots.png\n",
      "Saved runs\\detect\\tune\\tune_fitness.png\n",
      "\n",
      "\u001b[34m\u001b[1mTuner: \u001b[0m24/300 iterations complete  (9198.28s)\n",
      "\u001b[34m\u001b[1mTuner: \u001b[0mResults saved to \u001b[1mruns\\detect\\tune\u001b[0m\n",
      "\u001b[34m\u001b[1mTuner: \u001b[0mBest fitness=0.65798 observed at iteration 16\n",
      "\u001b[34m\u001b[1mTuner: \u001b[0mBest fitness metrics are {'metrics/precision(B)': 0.89174, 'metrics/recall(B)': 0.85129, 'metrics/mAP50(B)': 0.93149, 'metrics/mAP50-95(B)': 0.6276, 'val/box_loss': 1.3099, 'val/cls_loss': 0.81882, 'val/dfl_loss': 0.98132, 'fitness': 0.65798}\n",
      "\u001b[34m\u001b[1mTuner: \u001b[0mBest fitness model is runs\\detect\\train18\n",
      "\u001b[34m\u001b[1mTuner: \u001b[0mBest fitness hyperparameters are printed below.\n",
      "\n",
      "Printing '\u001b[1m\u001b[30mruns\\detect\\tune\\best_hyperparameters.yaml\u001b[0m'\n",
      "\n",
      "lr0: 0.00492\n",
      "lrf: 0.01222\n",
      "momentum: 0.85123\n",
      "weight_decay: 0.00045\n",
      "warmup_epochs: 2.55799\n",
      "warmup_momentum: 0.69414\n",
      "box: 8.35819\n",
      "cls: 0.62828\n",
      "dfl: 1.28665\n",
      "hsv_h: 0.01484\n",
      "hsv_s: 0.67167\n",
      "hsv_v: 0.64857\n",
      "degrees: 0.0\n",
      "translate: 0.11644\n",
      "scale: 0.45209\n",
      "shear: 0.0\n",
      "perspective: 0.0\n",
      "flipud: 0.0\n",
      "fliplr: 0.28389\n",
      "bgr: 0.0\n",
      "mosaic: 0.82448\n",
      "mixup: 0.0\n",
      "copy_paste: 0.0\n",
      "\n",
      "\u001b[34m\u001b[1mTuner: \u001b[0mStarting iteration 25/300 with hyperparameters: {'lr0': 0.003, 'lrf': 0.01004, 'momentum': 0.94241, 'weight_decay': 0.0004, 'warmup_epochs': 1.86104, 'warmup_momentum': 0.69967, 'box': 10.26566, 'cls': 0.61282, 'dfl': 1.362, 'hsv_h': 0.0154, 'hsv_s': 0.62495, 'hsv_v': 0.8009, 'degrees': 0.0, 'translate': 0.09298, 'scale': 0.41915, 'shear': 0.0, 'perspective': 0.0, 'flipud': 0.0, 'fliplr': 0.27213, 'bgr': 0.0, 'mosaic': 0.81045, 'mixup': 0.0, 'copy_paste': 0.0}\n",
      "Saved runs\\detect\\tune\\tune_scatter_plots.png\n",
      "Saved runs\\detect\\tune\\tune_fitness.png\n",
      "\n",
      "\u001b[34m\u001b[1mTuner: \u001b[0m25/300 iterations complete  (9574.09s)\n",
      "\u001b[34m\u001b[1mTuner: \u001b[0mResults saved to \u001b[1mruns\\detect\\tune\u001b[0m\n",
      "\u001b[34m\u001b[1mTuner: \u001b[0mBest fitness=0.65798 observed at iteration 16\n",
      "\u001b[34m\u001b[1mTuner: \u001b[0mBest fitness metrics are {'metrics/precision(B)': 0.89174, 'metrics/recall(B)': 0.85129, 'metrics/mAP50(B)': 0.93149, 'metrics/mAP50-95(B)': 0.6276, 'val/box_loss': 1.3099, 'val/cls_loss': 0.81882, 'val/dfl_loss': 0.98132, 'fitness': 0.65798}\n",
      "\u001b[34m\u001b[1mTuner: \u001b[0mBest fitness model is runs\\detect\\train18\n",
      "\u001b[34m\u001b[1mTuner: \u001b[0mBest fitness hyperparameters are printed below.\n",
      "\n",
      "Printing '\u001b[1m\u001b[30mruns\\detect\\tune\\best_hyperparameters.yaml\u001b[0m'\n",
      "\n",
      "lr0: 0.00492\n",
      "lrf: 0.01222\n",
      "momentum: 0.85123\n",
      "weight_decay: 0.00045\n",
      "warmup_epochs: 2.55799\n",
      "warmup_momentum: 0.69414\n",
      "box: 8.35819\n",
      "cls: 0.62828\n",
      "dfl: 1.28665\n",
      "hsv_h: 0.01484\n",
      "hsv_s: 0.67167\n",
      "hsv_v: 0.64857\n",
      "degrees: 0.0\n",
      "translate: 0.11644\n",
      "scale: 0.45209\n",
      "shear: 0.0\n",
      "perspective: 0.0\n",
      "flipud: 0.0\n",
      "fliplr: 0.28389\n",
      "bgr: 0.0\n",
      "mosaic: 0.82448\n",
      "mixup: 0.0\n",
      "copy_paste: 0.0\n",
      "\n",
      "\u001b[34m\u001b[1mTuner: \u001b[0mStarting iteration 26/300 with hyperparameters: {'lr0': 0.00455, 'lrf': 0.01192, 'momentum': 0.7891, 'weight_decay': 0.00035, 'warmup_epochs': 1.90346, 'warmup_momentum': 0.64877, 'box': 5.26671, 'cls': 0.58047, 'dfl': 1.19725, 'hsv_h': 0.01638, 'hsv_s': 0.72166, 'hsv_v': 0.59295, 'degrees': 0.0, 'translate': 0.12015, 'scale': 0.40284, 'shear': 0.0, 'perspective': 0.0, 'flipud': 0.0, 'fliplr': 0.3341, 'bgr': 0.0, 'mosaic': 0.92252, 'mixup': 0.0, 'copy_paste': 0.0}\n",
      "Saved runs\\detect\\tune\\tune_scatter_plots.png\n",
      "Saved runs\\detect\\tune\\tune_fitness.png\n",
      "\n",
      "\u001b[34m\u001b[1mTuner: \u001b[0m26/300 iterations complete  (9951.87s)\n",
      "\u001b[34m\u001b[1mTuner: \u001b[0mResults saved to \u001b[1mruns\\detect\\tune\u001b[0m\n",
      "\u001b[34m\u001b[1mTuner: \u001b[0mBest fitness=0.65798 observed at iteration 16\n",
      "\u001b[34m\u001b[1mTuner: \u001b[0mBest fitness metrics are {'metrics/precision(B)': 0.89174, 'metrics/recall(B)': 0.85129, 'metrics/mAP50(B)': 0.93149, 'metrics/mAP50-95(B)': 0.6276, 'val/box_loss': 1.3099, 'val/cls_loss': 0.81882, 'val/dfl_loss': 0.98132, 'fitness': 0.65798}\n",
      "\u001b[34m\u001b[1mTuner: \u001b[0mBest fitness model is runs\\detect\\train18\n",
      "\u001b[34m\u001b[1mTuner: \u001b[0mBest fitness hyperparameters are printed below.\n",
      "\n",
      "Printing '\u001b[1m\u001b[30mruns\\detect\\tune\\best_hyperparameters.yaml\u001b[0m'\n",
      "\n",
      "lr0: 0.00492\n",
      "lrf: 0.01222\n",
      "momentum: 0.85123\n",
      "weight_decay: 0.00045\n",
      "warmup_epochs: 2.55799\n",
      "warmup_momentum: 0.69414\n",
      "box: 8.35819\n",
      "cls: 0.62828\n",
      "dfl: 1.28665\n",
      "hsv_h: 0.01484\n",
      "hsv_s: 0.67167\n",
      "hsv_v: 0.64857\n",
      "degrees: 0.0\n",
      "translate: 0.11644\n",
      "scale: 0.45209\n",
      "shear: 0.0\n",
      "perspective: 0.0\n",
      "flipud: 0.0\n",
      "fliplr: 0.28389\n",
      "bgr: 0.0\n",
      "mosaic: 0.82448\n",
      "mixup: 0.0\n",
      "copy_paste: 0.0\n",
      "\n",
      "\u001b[34m\u001b[1mTuner: \u001b[0mStarting iteration 27/300 with hyperparameters: {'lr0': 0.00492, 'lrf': 0.0121, 'momentum': 0.85452, 'weight_decay': 0.00042, 'warmup_epochs': 2.25247, 'warmup_momentum': 0.69414, 'box': 8.46565, 'cls': 0.67407, 'dfl': 1.42127, 'hsv_h': 0.01371, 'hsv_s': 0.67167, 'hsv_v': 0.64857, 'degrees': 0.0, 'translate': 0.11348, 'scale': 0.44198, 'shear': 0.0, 'perspective': 0.0, 'flipud': 0.0, 'fliplr': 0.26646, 'bgr': 0.0, 'mosaic': 0.82419, 'mixup': 0.0, 'copy_paste': 0.0}\n",
      "Saved runs\\detect\\tune\\tune_scatter_plots.png\n",
      "Saved runs\\detect\\tune\\tune_fitness.png\n",
      "\n",
      "\u001b[34m\u001b[1mTuner: \u001b[0m27/300 iterations complete  (10338.42s)\n",
      "\u001b[34m\u001b[1mTuner: \u001b[0mResults saved to \u001b[1mruns\\detect\\tune\u001b[0m\n",
      "\u001b[34m\u001b[1mTuner: \u001b[0mBest fitness=0.65798 observed at iteration 16\n",
      "\u001b[34m\u001b[1mTuner: \u001b[0mBest fitness metrics are {'metrics/precision(B)': 0.89174, 'metrics/recall(B)': 0.85129, 'metrics/mAP50(B)': 0.93149, 'metrics/mAP50-95(B)': 0.6276, 'val/box_loss': 1.3099, 'val/cls_loss': 0.81882, 'val/dfl_loss': 0.98132, 'fitness': 0.65798}\n",
      "\u001b[34m\u001b[1mTuner: \u001b[0mBest fitness model is runs\\detect\\train18\n",
      "\u001b[34m\u001b[1mTuner: \u001b[0mBest fitness hyperparameters are printed below.\n",
      "\n",
      "Printing '\u001b[1m\u001b[30mruns\\detect\\tune\\best_hyperparameters.yaml\u001b[0m'\n",
      "\n",
      "lr0: 0.00492\n",
      "lrf: 0.01222\n",
      "momentum: 0.85123\n",
      "weight_decay: 0.00045\n",
      "warmup_epochs: 2.55799\n",
      "warmup_momentum: 0.69414\n",
      "box: 8.35819\n",
      "cls: 0.62828\n",
      "dfl: 1.28665\n",
      "hsv_h: 0.01484\n",
      "hsv_s: 0.67167\n",
      "hsv_v: 0.64857\n",
      "degrees: 0.0\n",
      "translate: 0.11644\n",
      "scale: 0.45209\n",
      "shear: 0.0\n",
      "perspective: 0.0\n",
      "flipud: 0.0\n",
      "fliplr: 0.28389\n",
      "bgr: 0.0\n",
      "mosaic: 0.82448\n",
      "mixup: 0.0\n",
      "copy_paste: 0.0\n",
      "\n",
      "\u001b[34m\u001b[1mTuner: \u001b[0mStarting iteration 28/300 with hyperparameters: {'lr0': 0.00431, 'lrf': 0.01222, 'momentum': 0.87461, 'weight_decay': 0.00051, 'warmup_epochs': 2.2016, 'warmup_momentum': 0.70523, 'box': 8.93351, 'cls': 0.62828, 'dfl': 1.31871, 'hsv_h': 0.01669, 'hsv_s': 0.67167, 'hsv_v': 0.66882, 'degrees': 0.0, 'translate': 0.11702, 'scale': 0.45975, 'shear': 0.0, 'perspective': 0.0, 'flipud': 0.0, 'fliplr': 0.25145, 'bgr': 0.0, 'mosaic': 0.82434, 'mixup': 0.0, 'copy_paste': 0.0}\n",
      "Saved runs\\detect\\tune\\tune_scatter_plots.png\n",
      "Saved runs\\detect\\tune\\tune_fitness.png\n",
      "\n",
      "\u001b[34m\u001b[1mTuner: \u001b[0m28/300 iterations complete  (10717.72s)\n",
      "\u001b[34m\u001b[1mTuner: \u001b[0mResults saved to \u001b[1mruns\\detect\\tune\u001b[0m\n",
      "\u001b[34m\u001b[1mTuner: \u001b[0mBest fitness=0.65798 observed at iteration 16\n",
      "\u001b[34m\u001b[1mTuner: \u001b[0mBest fitness metrics are {'metrics/precision(B)': 0.89174, 'metrics/recall(B)': 0.85129, 'metrics/mAP50(B)': 0.93149, 'metrics/mAP50-95(B)': 0.6276, 'val/box_loss': 1.3099, 'val/cls_loss': 0.81882, 'val/dfl_loss': 0.98132, 'fitness': 0.65798}\n",
      "\u001b[34m\u001b[1mTuner: \u001b[0mBest fitness model is runs\\detect\\train18\n",
      "\u001b[34m\u001b[1mTuner: \u001b[0mBest fitness hyperparameters are printed below.\n",
      "\n",
      "Printing '\u001b[1m\u001b[30mruns\\detect\\tune\\best_hyperparameters.yaml\u001b[0m'\n",
      "\n",
      "lr0: 0.00492\n",
      "lrf: 0.01222\n",
      "momentum: 0.85123\n",
      "weight_decay: 0.00045\n",
      "warmup_epochs: 2.55799\n",
      "warmup_momentum: 0.69414\n",
      "box: 8.35819\n",
      "cls: 0.62828\n",
      "dfl: 1.28665\n",
      "hsv_h: 0.01484\n",
      "hsv_s: 0.67167\n",
      "hsv_v: 0.64857\n",
      "degrees: 0.0\n",
      "translate: 0.11644\n",
      "scale: 0.45209\n",
      "shear: 0.0\n",
      "perspective: 0.0\n",
      "flipud: 0.0\n",
      "fliplr: 0.28389\n",
      "bgr: 0.0\n",
      "mosaic: 0.82448\n",
      "mixup: 0.0\n",
      "copy_paste: 0.0\n",
      "\n",
      "\u001b[34m\u001b[1mTuner: \u001b[0mStarting iteration 29/300 with hyperparameters: {'lr0': 0.00374, 'lrf': 0.01153, 'momentum': 0.87994, 'weight_decay': 0.00036, 'warmup_epochs': 1.53866, 'warmup_momentum': 0.69967, 'box': 10.89865, 'cls': 0.63666, 'dfl': 1.23765, 'hsv_h': 0.01389, 'hsv_s': 0.74104, 'hsv_v': 0.6753, 'degrees': 0.0, 'translate': 0.11482, 'scale': 0.42855, 'shear': 0.0, 'perspective': 0.0, 'flipud': 0.0, 'fliplr': 0.27821, 'bgr': 0.0, 'mosaic': 1.0, 'mixup': 0.0, 'copy_paste': 0.0}\n",
      "Saved runs\\detect\\tune\\tune_scatter_plots.png\n",
      "Saved runs\\detect\\tune\\tune_fitness.png\n",
      "\n",
      "\u001b[34m\u001b[1mTuner: \u001b[0m29/300 iterations complete  (11098.00s)\n",
      "\u001b[34m\u001b[1mTuner: \u001b[0mResults saved to \u001b[1mruns\\detect\\tune\u001b[0m\n",
      "\u001b[34m\u001b[1mTuner: \u001b[0mBest fitness=0.65798 observed at iteration 16\n",
      "\u001b[34m\u001b[1mTuner: \u001b[0mBest fitness metrics are {'metrics/precision(B)': 0.89174, 'metrics/recall(B)': 0.85129, 'metrics/mAP50(B)': 0.93149, 'metrics/mAP50-95(B)': 0.6276, 'val/box_loss': 1.3099, 'val/cls_loss': 0.81882, 'val/dfl_loss': 0.98132, 'fitness': 0.65798}\n",
      "\u001b[34m\u001b[1mTuner: \u001b[0mBest fitness model is runs\\detect\\train18\n",
      "\u001b[34m\u001b[1mTuner: \u001b[0mBest fitness hyperparameters are printed below.\n",
      "\n",
      "Printing '\u001b[1m\u001b[30mruns\\detect\\tune\\best_hyperparameters.yaml\u001b[0m'\n",
      "\n",
      "lr0: 0.00492\n",
      "lrf: 0.01222\n",
      "momentum: 0.85123\n",
      "weight_decay: 0.00045\n",
      "warmup_epochs: 2.55799\n",
      "warmup_momentum: 0.69414\n",
      "box: 8.35819\n",
      "cls: 0.62828\n",
      "dfl: 1.28665\n",
      "hsv_h: 0.01484\n",
      "hsv_s: 0.67167\n",
      "hsv_v: 0.64857\n",
      "degrees: 0.0\n",
      "translate: 0.11644\n",
      "scale: 0.45209\n",
      "shear: 0.0\n",
      "perspective: 0.0\n",
      "flipud: 0.0\n",
      "fliplr: 0.28389\n",
      "bgr: 0.0\n",
      "mosaic: 0.82448\n",
      "mixup: 0.0\n",
      "copy_paste: 0.0\n",
      "\n",
      "\u001b[34m\u001b[1mTuner: \u001b[0mStarting iteration 30/300 with hyperparameters: {'lr0': 0.004, 'lrf': 0.01222, 'momentum': 0.8835, 'weight_decay': 0.0005, 'warmup_epochs': 2.37762, 'warmup_momentum': 0.65813, 'box': 8.6076, 'cls': 0.68053, 'dfl': 1.27937, 'hsv_h': 0.01709, 'hsv_s': 0.70182, 'hsv_v': 0.71715, 'degrees': 0.0, 'translate': 0.11702, 'scale': 0.42654, 'shear': 0.0, 'perspective': 0.0, 'flipud': 0.0, 'fliplr': 0.25145, 'bgr': 0.0, 'mosaic': 0.80428, 'mixup': 0.0, 'copy_paste': 0.0}\n",
      "Saved runs\\detect\\tune\\tune_scatter_plots.png\n",
      "Saved runs\\detect\\tune\\tune_fitness.png\n",
      "\n",
      "\u001b[34m\u001b[1mTuner: \u001b[0m30/300 iterations complete  (11476.23s)\n",
      "\u001b[34m\u001b[1mTuner: \u001b[0mResults saved to \u001b[1mruns\\detect\\tune\u001b[0m\n",
      "\u001b[34m\u001b[1mTuner: \u001b[0mBest fitness=0.65798 observed at iteration 16\n",
      "\u001b[34m\u001b[1mTuner: \u001b[0mBest fitness metrics are {'metrics/precision(B)': 0.89174, 'metrics/recall(B)': 0.85129, 'metrics/mAP50(B)': 0.93149, 'metrics/mAP50-95(B)': 0.6276, 'val/box_loss': 1.3099, 'val/cls_loss': 0.81882, 'val/dfl_loss': 0.98132, 'fitness': 0.65798}\n",
      "\u001b[34m\u001b[1mTuner: \u001b[0mBest fitness model is runs\\detect\\train18\n",
      "\u001b[34m\u001b[1mTuner: \u001b[0mBest fitness hyperparameters are printed below.\n",
      "\n",
      "Printing '\u001b[1m\u001b[30mruns\\detect\\tune\\best_hyperparameters.yaml\u001b[0m'\n",
      "\n",
      "lr0: 0.00492\n",
      "lrf: 0.01222\n",
      "momentum: 0.85123\n",
      "weight_decay: 0.00045\n",
      "warmup_epochs: 2.55799\n",
      "warmup_momentum: 0.69414\n",
      "box: 8.35819\n",
      "cls: 0.62828\n",
      "dfl: 1.28665\n",
      "hsv_h: 0.01484\n",
      "hsv_s: 0.67167\n",
      "hsv_v: 0.64857\n",
      "degrees: 0.0\n",
      "translate: 0.11644\n",
      "scale: 0.45209\n",
      "shear: 0.0\n",
      "perspective: 0.0\n",
      "flipud: 0.0\n",
      "fliplr: 0.28389\n",
      "bgr: 0.0\n",
      "mosaic: 0.82448\n",
      "mixup: 0.0\n",
      "copy_paste: 0.0\n",
      "\n",
      "\u001b[34m\u001b[1mTuner: \u001b[0mStarting iteration 31/300 with hyperparameters: {'lr0': 0.00376, 'lrf': 0.01191, 'momentum': 0.87672, 'weight_decay': 0.00047, 'warmup_epochs': 2.32713, 'warmup_momentum': 0.66777, 'box': 8.68533, 'cls': 0.68053, 'dfl': 1.19324, 'hsv_h': 0.01585, 'hsv_s': 0.70182, 'hsv_v': 0.68082, 'degrees': 0.0, 'translate': 0.12254, 'scale': 0.43627, 'shear': 0.0, 'perspective': 0.0, 'flipud': 0.0, 'fliplr': 0.27459, 'bgr': 0.0, 'mosaic': 0.83012, 'mixup': 0.0, 'copy_paste': 0.0}\n",
      "Saved runs\\detect\\tune\\tune_scatter_plots.png\n",
      "Saved runs\\detect\\tune\\tune_fitness.png\n",
      "\n",
      "\u001b[34m\u001b[1mTuner: \u001b[0m31/300 iterations complete  (11855.94s)\n",
      "\u001b[34m\u001b[1mTuner: \u001b[0mResults saved to \u001b[1mruns\\detect\\tune\u001b[0m\n",
      "\u001b[34m\u001b[1mTuner: \u001b[0mBest fitness=0.65798 observed at iteration 16\n",
      "\u001b[34m\u001b[1mTuner: \u001b[0mBest fitness metrics are {'metrics/precision(B)': 0.89174, 'metrics/recall(B)': 0.85129, 'metrics/mAP50(B)': 0.93149, 'metrics/mAP50-95(B)': 0.6276, 'val/box_loss': 1.3099, 'val/cls_loss': 0.81882, 'val/dfl_loss': 0.98132, 'fitness': 0.65798}\n",
      "\u001b[34m\u001b[1mTuner: \u001b[0mBest fitness model is runs\\detect\\train18\n",
      "\u001b[34m\u001b[1mTuner: \u001b[0mBest fitness hyperparameters are printed below.\n",
      "\n",
      "Printing '\u001b[1m\u001b[30mruns\\detect\\tune\\best_hyperparameters.yaml\u001b[0m'\n",
      "\n",
      "lr0: 0.00492\n",
      "lrf: 0.01222\n",
      "momentum: 0.85123\n",
      "weight_decay: 0.00045\n",
      "warmup_epochs: 2.55799\n",
      "warmup_momentum: 0.69414\n",
      "box: 8.35819\n",
      "cls: 0.62828\n",
      "dfl: 1.28665\n",
      "hsv_h: 0.01484\n",
      "hsv_s: 0.67167\n",
      "hsv_v: 0.64857\n",
      "degrees: 0.0\n",
      "translate: 0.11644\n",
      "scale: 0.45209\n",
      "shear: 0.0\n",
      "perspective: 0.0\n",
      "flipud: 0.0\n",
      "fliplr: 0.28389\n",
      "bgr: 0.0\n",
      "mosaic: 0.82448\n",
      "mixup: 0.0\n",
      "copy_paste: 0.0\n",
      "\n",
      "\u001b[34m\u001b[1mTuner: \u001b[0mStarting iteration 32/300 with hyperparameters: {'lr0': 0.00337, 'lrf': 0.01231, 'momentum': 0.90794, 'weight_decay': 0.00038, 'warmup_epochs': 1.3624, 'warmup_momentum': 0.71567, 'box': 10.90289, 'cls': 0.48274, 'dfl': 1.3388, 'hsv_h': 0.01752, 'hsv_s': 0.75347, 'hsv_v': 0.67203, 'degrees': 0.0, 'translate': 0.1029, 'scale': 0.37554, 'shear': 0.0, 'perspective': 0.0, 'flipud': 0.0, 'fliplr': 0.32034, 'bgr': 0.0, 'mosaic': 0.94781, 'mixup': 0.0, 'copy_paste': 0.0}\n",
      "Saved runs\\detect\\tune\\tune_scatter_plots.png\n",
      "Saved runs\\detect\\tune\\tune_fitness.png\n",
      "\n",
      "\u001b[34m\u001b[1mTuner: \u001b[0m32/300 iterations complete  (12239.38s)\n",
      "\u001b[34m\u001b[1mTuner: \u001b[0mResults saved to \u001b[1mruns\\detect\\tune\u001b[0m\n",
      "\u001b[34m\u001b[1mTuner: \u001b[0mBest fitness=0.65798 observed at iteration 16\n",
      "\u001b[34m\u001b[1mTuner: \u001b[0mBest fitness metrics are {'metrics/precision(B)': 0.89174, 'metrics/recall(B)': 0.85129, 'metrics/mAP50(B)': 0.93149, 'metrics/mAP50-95(B)': 0.6276, 'val/box_loss': 1.3099, 'val/cls_loss': 0.81882, 'val/dfl_loss': 0.98132, 'fitness': 0.65798}\n",
      "\u001b[34m\u001b[1mTuner: \u001b[0mBest fitness model is runs\\detect\\train18\n",
      "\u001b[34m\u001b[1mTuner: \u001b[0mBest fitness hyperparameters are printed below.\n",
      "\n",
      "Printing '\u001b[1m\u001b[30mruns\\detect\\tune\\best_hyperparameters.yaml\u001b[0m'\n",
      "\n",
      "lr0: 0.00492\n",
      "lrf: 0.01222\n",
      "momentum: 0.85123\n",
      "weight_decay: 0.00045\n",
      "warmup_epochs: 2.55799\n",
      "warmup_momentum: 0.69414\n",
      "box: 8.35819\n",
      "cls: 0.62828\n",
      "dfl: 1.28665\n",
      "hsv_h: 0.01484\n",
      "hsv_s: 0.67167\n",
      "hsv_v: 0.64857\n",
      "degrees: 0.0\n",
      "translate: 0.11644\n",
      "scale: 0.45209\n",
      "shear: 0.0\n",
      "perspective: 0.0\n",
      "flipud: 0.0\n",
      "fliplr: 0.28389\n",
      "bgr: 0.0\n",
      "mosaic: 0.82448\n",
      "mixup: 0.0\n",
      "copy_paste: 0.0\n",
      "\n",
      "\u001b[34m\u001b[1mTuner: \u001b[0mStarting iteration 33/300 with hyperparameters: {'lr0': 0.00424, 'lrf': 0.01337, 'momentum': 0.89883, 'weight_decay': 0.0005, 'warmup_epochs': 2.0292, 'warmup_momentum': 0.77459, 'box': 9.20854, 'cls': 0.59534, 'dfl': 1.44116, 'hsv_h': 0.01714, 'hsv_s': 0.67167, 'hsv_v': 0.67694, 'degrees': 0.0, 'translate': 0.11537, 'scale': 0.45975, 'shear': 0.0, 'perspective': 0.0, 'flipud': 0.0, 'fliplr': 0.26055, 'bgr': 0.0, 'mosaic': 0.76877, 'mixup': 0.0, 'copy_paste': 0.0}\n",
      "Saved runs\\detect\\tune\\tune_scatter_plots.png\n",
      "Saved runs\\detect\\tune\\tune_fitness.png\n",
      "\n",
      "\u001b[34m\u001b[1mTuner: \u001b[0m33/300 iterations complete  (12620.78s)\n",
      "\u001b[34m\u001b[1mTuner: \u001b[0mResults saved to \u001b[1mruns\\detect\\tune\u001b[0m\n",
      "\u001b[34m\u001b[1mTuner: \u001b[0mBest fitness=0.65798 observed at iteration 16\n",
      "\u001b[34m\u001b[1mTuner: \u001b[0mBest fitness metrics are {'metrics/precision(B)': 0.89174, 'metrics/recall(B)': 0.85129, 'metrics/mAP50(B)': 0.93149, 'metrics/mAP50-95(B)': 0.6276, 'val/box_loss': 1.3099, 'val/cls_loss': 0.81882, 'val/dfl_loss': 0.98132, 'fitness': 0.65798}\n",
      "\u001b[34m\u001b[1mTuner: \u001b[0mBest fitness model is runs\\detect\\train18\n",
      "\u001b[34m\u001b[1mTuner: \u001b[0mBest fitness hyperparameters are printed below.\n",
      "\n",
      "Printing '\u001b[1m\u001b[30mruns\\detect\\tune\\best_hyperparameters.yaml\u001b[0m'\n",
      "\n",
      "lr0: 0.00492\n",
      "lrf: 0.01222\n",
      "momentum: 0.85123\n",
      "weight_decay: 0.00045\n",
      "warmup_epochs: 2.55799\n",
      "warmup_momentum: 0.69414\n",
      "box: 8.35819\n",
      "cls: 0.62828\n",
      "dfl: 1.28665\n",
      "hsv_h: 0.01484\n",
      "hsv_s: 0.67167\n",
      "hsv_v: 0.64857\n",
      "degrees: 0.0\n",
      "translate: 0.11644\n",
      "scale: 0.45209\n",
      "shear: 0.0\n",
      "perspective: 0.0\n",
      "flipud: 0.0\n",
      "fliplr: 0.28389\n",
      "bgr: 0.0\n",
      "mosaic: 0.82448\n",
      "mixup: 0.0\n",
      "copy_paste: 0.0\n",
      "\n",
      "\u001b[34m\u001b[1mTuner: \u001b[0mStarting iteration 34/300 with hyperparameters: {'lr0': 0.00503, 'lrf': 0.01222, 'momentum': 0.85123, 'weight_decay': 0.00045, 'warmup_epochs': 2.60335, 'warmup_momentum': 0.68958, 'box': 8.43476, 'cls': 0.62828, 'dfl': 1.28665, 'hsv_h': 0.01506, 'hsv_s': 0.66208, 'hsv_v': 0.64699, 'degrees': 0.0, 'translate': 0.11874, 'scale': 0.45209, 'shear': 0.0, 'perspective': 0.0, 'flipud': 0.0, 'fliplr': 0.28218, 'bgr': 0.0, 'mosaic': 0.84849, 'mixup': 0.0, 'copy_paste': 0.0}\n",
      "Saved runs\\detect\\tune\\tune_scatter_plots.png\n",
      "Saved runs\\detect\\tune\\tune_fitness.png\n",
      "\n",
      "\u001b[34m\u001b[1mTuner: \u001b[0m34/300 iterations complete  (12994.16s)\n",
      "\u001b[34m\u001b[1mTuner: \u001b[0mResults saved to \u001b[1mruns\\detect\\tune\u001b[0m\n",
      "\u001b[34m\u001b[1mTuner: \u001b[0mBest fitness=0.65798 observed at iteration 16\n",
      "\u001b[34m\u001b[1mTuner: \u001b[0mBest fitness metrics are {'metrics/precision(B)': 0.89174, 'metrics/recall(B)': 0.85129, 'metrics/mAP50(B)': 0.93149, 'metrics/mAP50-95(B)': 0.6276, 'val/box_loss': 1.3099, 'val/cls_loss': 0.81882, 'val/dfl_loss': 0.98132, 'fitness': 0.65798}\n",
      "\u001b[34m\u001b[1mTuner: \u001b[0mBest fitness model is runs\\detect\\train18\n",
      "\u001b[34m\u001b[1mTuner: \u001b[0mBest fitness hyperparameters are printed below.\n",
      "\n",
      "Printing '\u001b[1m\u001b[30mruns\\detect\\tune\\best_hyperparameters.yaml\u001b[0m'\n",
      "\n",
      "lr0: 0.00492\n",
      "lrf: 0.01222\n",
      "momentum: 0.85123\n",
      "weight_decay: 0.00045\n",
      "warmup_epochs: 2.55799\n",
      "warmup_momentum: 0.69414\n",
      "box: 8.35819\n",
      "cls: 0.62828\n",
      "dfl: 1.28665\n",
      "hsv_h: 0.01484\n",
      "hsv_s: 0.67167\n",
      "hsv_v: 0.64857\n",
      "degrees: 0.0\n",
      "translate: 0.11644\n",
      "scale: 0.45209\n",
      "shear: 0.0\n",
      "perspective: 0.0\n",
      "flipud: 0.0\n",
      "fliplr: 0.28389\n",
      "bgr: 0.0\n",
      "mosaic: 0.82448\n",
      "mixup: 0.0\n",
      "copy_paste: 0.0\n",
      "\n",
      "\u001b[34m\u001b[1mTuner: \u001b[0mStarting iteration 35/300 with hyperparameters: {'lr0': 0.00409, 'lrf': 0.01243, 'momentum': 0.84585, 'weight_decay': 0.00051, 'warmup_epochs': 3.05725, 'warmup_momentum': 0.70523, 'box': 11.52792, 'cls': 0.6241, 'dfl': 1.49565, 'hsv_h': 0.01811, 'hsv_s': 0.67345, 'hsv_v': 0.45512, 'degrees': 0.0, 'translate': 0.11064, 'scale': 0.39279, 'shear': 0.0, 'perspective': 0.0, 'flipud': 0.0, 'fliplr': 0.24357, 'bgr': 0.0, 'mosaic': 0.82434, 'mixup': 0.0, 'copy_paste': 0.0}\n",
      "Saved runs\\detect\\tune\\tune_scatter_plots.png\n",
      "Saved runs\\detect\\tune\\tune_fitness.png\n",
      "\n",
      "\u001b[34m\u001b[1mTuner: \u001b[0m35/300 iterations complete  (13383.79s)\n",
      "\u001b[34m\u001b[1mTuner: \u001b[0mResults saved to \u001b[1mruns\\detect\\tune\u001b[0m\n",
      "\u001b[34m\u001b[1mTuner: \u001b[0mBest fitness=0.65958 observed at iteration 35\n",
      "\u001b[34m\u001b[1mTuner: \u001b[0mBest fitness metrics are {'metrics/precision(B)': 0.88689, 'metrics/recall(B)': 0.84528, 'metrics/mAP50(B)': 0.92985, 'metrics/mAP50-95(B)': 0.62955, 'val/box_loss': 1.80751, 'val/cls_loss': 0.8051, 'val/dfl_loss': 1.13748, 'fitness': 0.65958}\n",
      "\u001b[34m\u001b[1mTuner: \u001b[0mBest fitness model is runs\\detect\\train37\n",
      "\u001b[34m\u001b[1mTuner: \u001b[0mBest fitness hyperparameters are printed below.\n",
      "\n",
      "Printing '\u001b[1m\u001b[30mruns\\detect\\tune\\best_hyperparameters.yaml\u001b[0m'\n",
      "\n",
      "lr0: 0.00409\n",
      "lrf: 0.01243\n",
      "momentum: 0.84585\n",
      "weight_decay: 0.00051\n",
      "warmup_epochs: 3.05725\n",
      "warmup_momentum: 0.70523\n",
      "box: 11.52792\n",
      "cls: 0.6241\n",
      "dfl: 1.49565\n",
      "hsv_h: 0.01811\n",
      "hsv_s: 0.67345\n",
      "hsv_v: 0.45512\n",
      "degrees: 0.0\n",
      "translate: 0.11064\n",
      "scale: 0.39279\n",
      "shear: 0.0\n",
      "perspective: 0.0\n",
      "flipud: 0.0\n",
      "fliplr: 0.24357\n",
      "bgr: 0.0\n",
      "mosaic: 0.82434\n",
      "mixup: 0.0\n",
      "copy_paste: 0.0\n",
      "\n",
      "\u001b[34m\u001b[1mTuner: \u001b[0mStarting iteration 36/300 with hyperparameters: {'lr0': 0.00478, 'lrf': 0.01108, 'momentum': 0.85494, 'weight_decay': 0.00049, 'warmup_epochs': 2.45713, 'warmup_momentum': 0.78875, 'box': 8.2913, 'cls': 0.57357, 'dfl': 1.2218, 'hsv_h': 0.01484, 'hsv_s': 0.67167, 'hsv_v': 0.64794, 'degrees': 0.0, 'translate': 0.11811, 'scale': 0.45209, 'shear': 0.0, 'perspective': 0.0, 'flipud': 0.0, 'fliplr': 0.28878, 'bgr': 0.0, 'mosaic': 0.82448, 'mixup': 0.0, 'copy_paste': 0.0}\n",
      "Saved runs\\detect\\tune\\tune_scatter_plots.png\n",
      "Saved runs\\detect\\tune\\tune_fitness.png\n",
      "\n",
      "\u001b[34m\u001b[1mTuner: \u001b[0m36/300 iterations complete  (13766.60s)\n",
      "\u001b[34m\u001b[1mTuner: \u001b[0mResults saved to \u001b[1mruns\\detect\\tune\u001b[0m\n",
      "\u001b[34m\u001b[1mTuner: \u001b[0mBest fitness=0.65958 observed at iteration 35\n",
      "\u001b[34m\u001b[1mTuner: \u001b[0mBest fitness metrics are {'metrics/precision(B)': 0.88689, 'metrics/recall(B)': 0.84528, 'metrics/mAP50(B)': 0.92985, 'metrics/mAP50-95(B)': 0.62955, 'val/box_loss': 1.80751, 'val/cls_loss': 0.8051, 'val/dfl_loss': 1.13748, 'fitness': 0.65958}\n",
      "\u001b[34m\u001b[1mTuner: \u001b[0mBest fitness model is runs\\detect\\train37\n",
      "\u001b[34m\u001b[1mTuner: \u001b[0mBest fitness hyperparameters are printed below.\n",
      "\n",
      "Printing '\u001b[1m\u001b[30mruns\\detect\\tune\\best_hyperparameters.yaml\u001b[0m'\n",
      "\n",
      "lr0: 0.00409\n",
      "lrf: 0.01243\n",
      "momentum: 0.84585\n",
      "weight_decay: 0.00051\n",
      "warmup_epochs: 3.05725\n",
      "warmup_momentum: 0.70523\n",
      "box: 11.52792\n",
      "cls: 0.6241\n",
      "dfl: 1.49565\n",
      "hsv_h: 0.01811\n",
      "hsv_s: 0.67345\n",
      "hsv_v: 0.45512\n",
      "degrees: 0.0\n",
      "translate: 0.11064\n",
      "scale: 0.39279\n",
      "shear: 0.0\n",
      "perspective: 0.0\n",
      "flipud: 0.0\n",
      "fliplr: 0.24357\n",
      "bgr: 0.0\n",
      "mosaic: 0.82434\n",
      "mixup: 0.0\n",
      "copy_paste: 0.0\n",
      "\n",
      "\u001b[34m\u001b[1mTuner: \u001b[0mStarting iteration 37/300 with hyperparameters: {'lr0': 0.00416, 'lrf': 0.01243, 'momentum': 0.85685, 'weight_decay': 0.00049, 'warmup_epochs': 3.05243, 'warmup_momentum': 0.72705, 'box': 11.52792, 'cls': 0.57384, 'dfl': 1.49565, 'hsv_h': 0.01827, 'hsv_s': 0.66901, 'hsv_v': 0.48608, 'degrees': 0.0, 'translate': 0.11298, 'scale': 0.37917, 'shear': 0.0, 'perspective': 0.0, 'flipud': 0.0, 'fliplr': 0.24357, 'bgr': 0.0, 'mosaic': 0.89311, 'mixup': 0.0, 'copy_paste': 0.0}\n",
      "Saved runs\\detect\\tune\\tune_scatter_plots.png\n",
      "Saved runs\\detect\\tune\\tune_fitness.png\n",
      "\n",
      "\u001b[34m\u001b[1mTuner: \u001b[0m37/300 iterations complete  (14144.98s)\n",
      "\u001b[34m\u001b[1mTuner: \u001b[0mResults saved to \u001b[1mruns\\detect\\tune\u001b[0m\n",
      "\u001b[34m\u001b[1mTuner: \u001b[0mBest fitness=0.65987 observed at iteration 37\n",
      "\u001b[34m\u001b[1mTuner: \u001b[0mBest fitness metrics are {'metrics/precision(B)': 0.89365, 'metrics/recall(B)': 0.83893, 'metrics/mAP50(B)': 0.93107, 'metrics/mAP50-95(B)': 0.62974, 'val/box_loss': 1.7935, 'val/cls_loss': 0.73751, 'val/dfl_loss': 1.11739, 'fitness': 0.65987}\n",
      "\u001b[34m\u001b[1mTuner: \u001b[0mBest fitness model is runs\\detect\\train39\n",
      "\u001b[34m\u001b[1mTuner: \u001b[0mBest fitness hyperparameters are printed below.\n",
      "\n",
      "Printing '\u001b[1m\u001b[30mruns\\detect\\tune\\best_hyperparameters.yaml\u001b[0m'\n",
      "\n",
      "lr0: 0.00416\n",
      "lrf: 0.01243\n",
      "momentum: 0.85685\n",
      "weight_decay: 0.00049\n",
      "warmup_epochs: 3.05243\n",
      "warmup_momentum: 0.72705\n",
      "box: 11.52792\n",
      "cls: 0.57384\n",
      "dfl: 1.49565\n",
      "hsv_h: 0.01827\n",
      "hsv_s: 0.66901\n",
      "hsv_v: 0.48608\n",
      "degrees: 0.0\n",
      "translate: 0.11298\n",
      "scale: 0.37917\n",
      "shear: 0.0\n",
      "perspective: 0.0\n",
      "flipud: 0.0\n",
      "fliplr: 0.24357\n",
      "bgr: 0.0\n",
      "mosaic: 0.89311\n",
      "mixup: 0.0\n",
      "copy_paste: 0.0\n",
      "\n",
      "\u001b[34m\u001b[1mTuner: \u001b[0mStarting iteration 38/300 with hyperparameters: {'lr0': 0.00397, 'lrf': 0.00762, 'momentum': 0.83397, 'weight_decay': 0.00052, 'warmup_epochs': 2.20825, 'warmup_momentum': 0.88105, 'box': 10.44587, 'cls': 0.64356, 'dfl': 1.49565, 'hsv_h': 0.01168, 'hsv_s': 0.64175, 'hsv_v': 0.38752, 'degrees': 0.0, 'translate': 0.11854, 'scale': 0.33352, 'shear': 0.0, 'perspective': 0.0, 'flipud': 0.0, 'fliplr': 0.3383, 'bgr': 0.0, 'mosaic': 0.82434, 'mixup': 0.0, 'copy_paste': 0.0}\n",
      "Saved runs\\detect\\tune\\tune_scatter_plots.png\n",
      "Saved runs\\detect\\tune\\tune_fitness.png\n",
      "\n",
      "\u001b[34m\u001b[1mTuner: \u001b[0m38/300 iterations complete  (14523.10s)\n",
      "\u001b[34m\u001b[1mTuner: \u001b[0mResults saved to \u001b[1mruns\\detect\\tune\u001b[0m\n",
      "\u001b[34m\u001b[1mTuner: \u001b[0mBest fitness=0.65987 observed at iteration 37\n",
      "\u001b[34m\u001b[1mTuner: \u001b[0mBest fitness metrics are {'metrics/precision(B)': 0.89365, 'metrics/recall(B)': 0.83893, 'metrics/mAP50(B)': 0.93107, 'metrics/mAP50-95(B)': 0.62974, 'val/box_loss': 1.7935, 'val/cls_loss': 0.73751, 'val/dfl_loss': 1.11739, 'fitness': 0.65987}\n",
      "\u001b[34m\u001b[1mTuner: \u001b[0mBest fitness model is runs\\detect\\train39\n",
      "\u001b[34m\u001b[1mTuner: \u001b[0mBest fitness hyperparameters are printed below.\n",
      "\n",
      "Printing '\u001b[1m\u001b[30mruns\\detect\\tune\\best_hyperparameters.yaml\u001b[0m'\n",
      "\n",
      "lr0: 0.00416\n",
      "lrf: 0.01243\n",
      "momentum: 0.85685\n",
      "weight_decay: 0.00049\n",
      "warmup_epochs: 3.05243\n",
      "warmup_momentum: 0.72705\n",
      "box: 11.52792\n",
      "cls: 0.57384\n",
      "dfl: 1.49565\n",
      "hsv_h: 0.01827\n",
      "hsv_s: 0.66901\n",
      "hsv_v: 0.48608\n",
      "degrees: 0.0\n",
      "translate: 0.11298\n",
      "scale: 0.37917\n",
      "shear: 0.0\n",
      "perspective: 0.0\n",
      "flipud: 0.0\n",
      "fliplr: 0.24357\n",
      "bgr: 0.0\n",
      "mosaic: 0.89311\n",
      "mixup: 0.0\n",
      "copy_paste: 0.0\n",
      "\n",
      "\u001b[34m\u001b[1mTuner: \u001b[0mStarting iteration 39/300 with hyperparameters: {'lr0': 0.0046, 'lrf': 0.01282, 'momentum': 0.8497, 'weight_decay': 0.00053, 'warmup_epochs': 2.9011, 'warmup_momentum': 0.72705, 'box': 11.01756, 'cls': 0.58328, 'dfl': 1.73868, 'hsv_h': 0.01827, 'hsv_s': 0.62186, 'hsv_v': 0.48608, 'degrees': 0.0, 'translate': 0.11396, 'scale': 0.36307, 'shear': 0.0, 'perspective': 0.0, 'flipud': 0.0, 'fliplr': 0.21684, 'bgr': 0.0, 'mosaic': 0.88903, 'mixup': 0.0, 'copy_paste': 0.0}\n",
      "Saved runs\\detect\\tune\\tune_scatter_plots.png\n",
      "Saved runs\\detect\\tune\\tune_fitness.png\n",
      "\n",
      "\u001b[34m\u001b[1mTuner: \u001b[0m39/300 iterations complete  (14904.93s)\n",
      "\u001b[34m\u001b[1mTuner: \u001b[0mResults saved to \u001b[1mruns\\detect\\tune\u001b[0m\n",
      "\u001b[34m\u001b[1mTuner: \u001b[0mBest fitness=0.65987 observed at iteration 37\n",
      "\u001b[34m\u001b[1mTuner: \u001b[0mBest fitness metrics are {'metrics/precision(B)': 0.89365, 'metrics/recall(B)': 0.83893, 'metrics/mAP50(B)': 0.93107, 'metrics/mAP50-95(B)': 0.62974, 'val/box_loss': 1.7935, 'val/cls_loss': 0.73751, 'val/dfl_loss': 1.11739, 'fitness': 0.65987}\n",
      "\u001b[34m\u001b[1mTuner: \u001b[0mBest fitness model is runs\\detect\\train39\n",
      "\u001b[34m\u001b[1mTuner: \u001b[0mBest fitness hyperparameters are printed below.\n",
      "\n",
      "Printing '\u001b[1m\u001b[30mruns\\detect\\tune\\best_hyperparameters.yaml\u001b[0m'\n",
      "\n",
      "lr0: 0.00416\n",
      "lrf: 0.01243\n",
      "momentum: 0.85685\n",
      "weight_decay: 0.00049\n",
      "warmup_epochs: 3.05243\n",
      "warmup_momentum: 0.72705\n",
      "box: 11.52792\n",
      "cls: 0.57384\n",
      "dfl: 1.49565\n",
      "hsv_h: 0.01827\n",
      "hsv_s: 0.66901\n",
      "hsv_v: 0.48608\n",
      "degrees: 0.0\n",
      "translate: 0.11298\n",
      "scale: 0.37917\n",
      "shear: 0.0\n",
      "perspective: 0.0\n",
      "flipud: 0.0\n",
      "fliplr: 0.24357\n",
      "bgr: 0.0\n",
      "mosaic: 0.89311\n",
      "mixup: 0.0\n",
      "copy_paste: 0.0\n",
      "\n",
      "\u001b[34m\u001b[1mTuner: \u001b[0mStarting iteration 40/300 with hyperparameters: {'lr0': 0.00411, 'lrf': 0.01211, 'momentum': 0.82296, 'weight_decay': 0.00044, 'warmup_epochs': 2.61602, 'warmup_momentum': 0.74629, 'box': 11.59484, 'cls': 0.60812, 'dfl': 1.40803, 'hsv_h': 0.01811, 'hsv_s': 0.67345, 'hsv_v': 0.45512, 'degrees': 0.0, 'translate': 0.11472, 'scale': 0.39279, 'shear': 0.0, 'perspective': 0.0, 'flipud': 0.0, 'fliplr': 0.24357, 'bgr': 0.0, 'mosaic': 0.89402, 'mixup': 0.0, 'copy_paste': 0.0}\n",
      "Saved runs\\detect\\tune\\tune_scatter_plots.png\n",
      "Saved runs\\detect\\tune\\tune_fitness.png\n",
      "\n",
      "\u001b[34m\u001b[1mTuner: \u001b[0m40/300 iterations complete  (15287.70s)\n",
      "\u001b[34m\u001b[1mTuner: \u001b[0mResults saved to \u001b[1mruns\\detect\\tune\u001b[0m\n",
      "\u001b[34m\u001b[1mTuner: \u001b[0mBest fitness=0.66006 observed at iteration 40\n",
      "\u001b[34m\u001b[1mTuner: \u001b[0mBest fitness metrics are {'metrics/precision(B)': 0.89627, 'metrics/recall(B)': 0.84846, 'metrics/mAP50(B)': 0.93276, 'metrics/mAP50-95(B)': 0.62976, 'val/box_loss': 1.8083, 'val/cls_loss': 0.78002, 'val/dfl_loss': 1.06708, 'fitness': 0.66006}\n",
      "\u001b[34m\u001b[1mTuner: \u001b[0mBest fitness model is runs\\detect\\train42\n",
      "\u001b[34m\u001b[1mTuner: \u001b[0mBest fitness hyperparameters are printed below.\n",
      "\n",
      "Printing '\u001b[1m\u001b[30mruns\\detect\\tune\\best_hyperparameters.yaml\u001b[0m'\n",
      "\n",
      "lr0: 0.00411\n",
      "lrf: 0.01211\n",
      "momentum: 0.82296\n",
      "weight_decay: 0.00044\n",
      "warmup_epochs: 2.61602\n",
      "warmup_momentum: 0.74629\n",
      "box: 11.59484\n",
      "cls: 0.60812\n",
      "dfl: 1.40803\n",
      "hsv_h: 0.01811\n",
      "hsv_s: 0.67345\n",
      "hsv_v: 0.45512\n",
      "degrees: 0.0\n",
      "translate: 0.11472\n",
      "scale: 0.39279\n",
      "shear: 0.0\n",
      "perspective: 0.0\n",
      "flipud: 0.0\n",
      "fliplr: 0.24357\n",
      "bgr: 0.0\n",
      "mosaic: 0.89402\n",
      "mixup: 0.0\n",
      "copy_paste: 0.0\n",
      "\n",
      "\u001b[34m\u001b[1mTuner: \u001b[0mStarting iteration 41/300 with hyperparameters: {'lr0': 0.00349, 'lrf': 0.01243, 'momentum': 0.85685, 'weight_decay': 0.00053, 'warmup_epochs': 2.97034, 'warmup_momentum': 0.94361, 'box': 11.47378, 'cls': 0.44919, 'dfl': 1.43451, 'hsv_h': 0.01827, 'hsv_s': 0.61508, 'hsv_v': 0.54655, 'degrees': 0.0, 'translate': 0.13005, 'scale': 0.36067, 'shear': 0.0, 'perspective': 0.0, 'flipud': 0.0, 'fliplr': 0.10667, 'bgr': 0.0, 'mosaic': 0.61197, 'mixup': 0.0, 'copy_paste': 0.0}\n",
      "Saved runs\\detect\\tune\\tune_scatter_plots.png\n",
      "Saved runs\\detect\\tune\\tune_fitness.png\n",
      "\n",
      "\u001b[34m\u001b[1mTuner: \u001b[0m41/300 iterations complete  (15674.59s)\n",
      "\u001b[34m\u001b[1mTuner: \u001b[0mResults saved to \u001b[1mruns\\detect\\tune\u001b[0m\n",
      "\u001b[34m\u001b[1mTuner: \u001b[0mBest fitness=0.66006 observed at iteration 40\n",
      "\u001b[34m\u001b[1mTuner: \u001b[0mBest fitness metrics are {'metrics/precision(B)': 0.89627, 'metrics/recall(B)': 0.84846, 'metrics/mAP50(B)': 0.93276, 'metrics/mAP50-95(B)': 0.62976, 'val/box_loss': 1.8083, 'val/cls_loss': 0.78002, 'val/dfl_loss': 1.06708, 'fitness': 0.66006}\n",
      "\u001b[34m\u001b[1mTuner: \u001b[0mBest fitness model is runs\\detect\\train42\n",
      "\u001b[34m\u001b[1mTuner: \u001b[0mBest fitness hyperparameters are printed below.\n",
      "\n",
      "Printing '\u001b[1m\u001b[30mruns\\detect\\tune\\best_hyperparameters.yaml\u001b[0m'\n",
      "\n",
      "lr0: 0.00411\n",
      "lrf: 0.01211\n",
      "momentum: 0.82296\n",
      "weight_decay: 0.00044\n",
      "warmup_epochs: 2.61602\n",
      "warmup_momentum: 0.74629\n",
      "box: 11.59484\n",
      "cls: 0.60812\n",
      "dfl: 1.40803\n",
      "hsv_h: 0.01811\n",
      "hsv_s: 0.67345\n",
      "hsv_v: 0.45512\n",
      "degrees: 0.0\n",
      "translate: 0.11472\n",
      "scale: 0.39279\n",
      "shear: 0.0\n",
      "perspective: 0.0\n",
      "flipud: 0.0\n",
      "fliplr: 0.24357\n",
      "bgr: 0.0\n",
      "mosaic: 0.89402\n",
      "mixup: 0.0\n",
      "copy_paste: 0.0\n",
      "\n",
      "\u001b[34m\u001b[1mTuner: \u001b[0mStarting iteration 42/300 with hyperparameters: {'lr0': 0.00406, 'lrf': 0.0139, 'momentum': 0.80863, 'weight_decay': 0.00041, 'warmup_epochs': 2.77864, 'warmup_momentum': 0.65431, 'box': 10.30962, 'cls': 0.60812, 'dfl': 1.42566, 'hsv_h': 0.02005, 'hsv_s': 0.67345, 'hsv_v': 0.45512, 'degrees': 0.0, 'translate': 0.10851, 'scale': 0.43659, 'shear': 0.0, 'perspective': 0.0, 'flipud': 0.0, 'fliplr': 0.21305, 'bgr': 0.0, 'mosaic': 0.77997, 'mixup': 0.0, 'copy_paste': 0.0}\n",
      "Saved runs\\detect\\tune\\tune_scatter_plots.png\n",
      "Saved runs\\detect\\tune\\tune_fitness.png\n",
      "\n",
      "\u001b[34m\u001b[1mTuner: \u001b[0m42/300 iterations complete  (16048.34s)\n",
      "\u001b[34m\u001b[1mTuner: \u001b[0mResults saved to \u001b[1mruns\\detect\\tune\u001b[0m\n",
      "\u001b[34m\u001b[1mTuner: \u001b[0mBest fitness=0.66006 observed at iteration 40\n",
      "\u001b[34m\u001b[1mTuner: \u001b[0mBest fitness metrics are {'metrics/precision(B)': 0.89627, 'metrics/recall(B)': 0.84846, 'metrics/mAP50(B)': 0.93276, 'metrics/mAP50-95(B)': 0.62976, 'val/box_loss': 1.8083, 'val/cls_loss': 0.78002, 'val/dfl_loss': 1.06708, 'fitness': 0.66006}\n",
      "\u001b[34m\u001b[1mTuner: \u001b[0mBest fitness model is runs\\detect\\train42\n",
      "\u001b[34m\u001b[1mTuner: \u001b[0mBest fitness hyperparameters are printed below.\n",
      "\n",
      "Printing '\u001b[1m\u001b[30mruns\\detect\\tune\\best_hyperparameters.yaml\u001b[0m'\n",
      "\n",
      "lr0: 0.00411\n",
      "lrf: 0.01211\n",
      "momentum: 0.82296\n",
      "weight_decay: 0.00044\n",
      "warmup_epochs: 2.61602\n",
      "warmup_momentum: 0.74629\n",
      "box: 11.59484\n",
      "cls: 0.60812\n",
      "dfl: 1.40803\n",
      "hsv_h: 0.01811\n",
      "hsv_s: 0.67345\n",
      "hsv_v: 0.45512\n",
      "degrees: 0.0\n",
      "translate: 0.11472\n",
      "scale: 0.39279\n",
      "shear: 0.0\n",
      "perspective: 0.0\n",
      "flipud: 0.0\n",
      "fliplr: 0.24357\n",
      "bgr: 0.0\n",
      "mosaic: 0.89402\n",
      "mixup: 0.0\n",
      "copy_paste: 0.0\n",
      "\n",
      "\u001b[34m\u001b[1mTuner: \u001b[0mStarting iteration 43/300 with hyperparameters: {'lr0': 0.0041, 'lrf': 0.0124, 'momentum': 0.85702, 'weight_decay': 0.00049, 'warmup_epochs': 3.05243, 'warmup_momentum': 0.72157, 'box': 11.47331, 'cls': 0.57384, 'dfl': 1.39854, 'hsv_h': 0.01827, 'hsv_s': 0.65733, 'hsv_v': 0.49103, 'degrees': 0.0, 'translate': 0.10868, 'scale': 0.38883, 'shear': 0.0, 'perspective': 0.0, 'flipud': 0.0, 'fliplr': 0.24894, 'bgr': 0.0, 'mosaic': 0.89844, 'mixup': 0.0, 'copy_paste': 0.0}\n",
      "Saved runs\\detect\\tune\\tune_scatter_plots.png\n",
      "Saved runs\\detect\\tune\\tune_fitness.png\n",
      "\n",
      "\u001b[34m\u001b[1mTuner: \u001b[0m43/300 iterations complete  (16429.36s)\n",
      "\u001b[34m\u001b[1mTuner: \u001b[0mResults saved to \u001b[1mruns\\detect\\tune\u001b[0m\n",
      "\u001b[34m\u001b[1mTuner: \u001b[0mBest fitness=0.66176 observed at iteration 43\n",
      "\u001b[34m\u001b[1mTuner: \u001b[0mBest fitness metrics are {'metrics/precision(B)': 0.89646, 'metrics/recall(B)': 0.85025, 'metrics/mAP50(B)': 0.93596, 'metrics/mAP50-95(B)': 0.6313, 'val/box_loss': 1.78017, 'val/cls_loss': 0.73179, 'val/dfl_loss': 1.05057, 'fitness': 0.66176}\n",
      "\u001b[34m\u001b[1mTuner: \u001b[0mBest fitness model is runs\\detect\\train45\n",
      "\u001b[34m\u001b[1mTuner: \u001b[0mBest fitness hyperparameters are printed below.\n",
      "\n",
      "Printing '\u001b[1m\u001b[30mruns\\detect\\tune\\best_hyperparameters.yaml\u001b[0m'\n",
      "\n",
      "lr0: 0.0041\n",
      "lrf: 0.0124\n",
      "momentum: 0.85702\n",
      "weight_decay: 0.00049\n",
      "warmup_epochs: 3.05243\n",
      "warmup_momentum: 0.72157\n",
      "box: 11.47331\n",
      "cls: 0.57384\n",
      "dfl: 1.39854\n",
      "hsv_h: 0.01827\n",
      "hsv_s: 0.65733\n",
      "hsv_v: 0.49103\n",
      "degrees: 0.0\n",
      "translate: 0.10868\n",
      "scale: 0.38883\n",
      "shear: 0.0\n",
      "perspective: 0.0\n",
      "flipud: 0.0\n",
      "fliplr: 0.24894\n",
      "bgr: 0.0\n",
      "mosaic: 0.89844\n",
      "mixup: 0.0\n",
      "copy_paste: 0.0\n",
      "\n",
      "\u001b[34m\u001b[1mTuner: \u001b[0mStarting iteration 44/300 with hyperparameters: {'lr0': 0.00267, 'lrf': 0.01001, 'momentum': 0.80961, 'weight_decay': 0.00047, 'warmup_epochs': 3.61455, 'warmup_momentum': 0.82066, 'box': 9.72935, 'cls': 0.48996, 'dfl': 1.21146, 'hsv_h': 0.01811, 'hsv_s': 0.46157, 'hsv_v': 0.39727, 'degrees': 0.0, 'translate': 0.08747, 'scale': 0.3922, 'shear': 0.0, 'perspective': 0.0, 'flipud': 0.0, 'fliplr': 0.24357, 'bgr': 0.0, 'mosaic': 0.7645, 'mixup': 0.0, 'copy_paste': 0.0}\n",
      "Saved runs\\detect\\tune\\tune_scatter_plots.png\n",
      "Saved runs\\detect\\tune\\tune_fitness.png\n",
      "\n",
      "\u001b[34m\u001b[1mTuner: \u001b[0m44/300 iterations complete  (16804.05s)\n",
      "\u001b[34m\u001b[1mTuner: \u001b[0mResults saved to \u001b[1mruns\\detect\\tune\u001b[0m\n",
      "\u001b[34m\u001b[1mTuner: \u001b[0mBest fitness=0.66176 observed at iteration 43\n",
      "\u001b[34m\u001b[1mTuner: \u001b[0mBest fitness metrics are {'metrics/precision(B)': 0.89646, 'metrics/recall(B)': 0.85025, 'metrics/mAP50(B)': 0.93596, 'metrics/mAP50-95(B)': 0.6313, 'val/box_loss': 1.78017, 'val/cls_loss': 0.73179, 'val/dfl_loss': 1.05057, 'fitness': 0.66176}\n",
      "\u001b[34m\u001b[1mTuner: \u001b[0mBest fitness model is runs\\detect\\train45\n",
      "\u001b[34m\u001b[1mTuner: \u001b[0mBest fitness hyperparameters are printed below.\n",
      "\n",
      "Printing '\u001b[1m\u001b[30mruns\\detect\\tune\\best_hyperparameters.yaml\u001b[0m'\n",
      "\n",
      "lr0: 0.0041\n",
      "lrf: 0.0124\n",
      "momentum: 0.85702\n",
      "weight_decay: 0.00049\n",
      "warmup_epochs: 3.05243\n",
      "warmup_momentum: 0.72157\n",
      "box: 11.47331\n",
      "cls: 0.57384\n",
      "dfl: 1.39854\n",
      "hsv_h: 0.01827\n",
      "hsv_s: 0.65733\n",
      "hsv_v: 0.49103\n",
      "degrees: 0.0\n",
      "translate: 0.10868\n",
      "scale: 0.38883\n",
      "shear: 0.0\n",
      "perspective: 0.0\n",
      "flipud: 0.0\n",
      "fliplr: 0.24894\n",
      "bgr: 0.0\n",
      "mosaic: 0.89844\n",
      "mixup: 0.0\n",
      "copy_paste: 0.0\n",
      "\n",
      "\u001b[34m\u001b[1mTuner: \u001b[0mStarting iteration 45/300 with hyperparameters: {'lr0': 0.0041, 'lrf': 0.01154, 'momentum': 0.85022, 'weight_decay': 0.00045, 'warmup_epochs': 3.17675, 'warmup_momentum': 0.66796, 'box': 10.48049, 'cls': 0.57384, 'dfl': 1.37857, 'hsv_h': 0.01864, 'hsv_s': 0.66121, 'hsv_v': 0.53361, 'degrees': 0.0, 'translate': 0.11122, 'scale': 0.40505, 'shear': 0.0, 'perspective': 0.0, 'flipud': 0.0, 'fliplr': 0.22442, 'bgr': 0.0, 'mosaic': 0.84523, 'mixup': 0.0, 'copy_paste': 0.0}\n",
      "Saved runs\\detect\\tune\\tune_scatter_plots.png\n",
      "Saved runs\\detect\\tune\\tune_fitness.png\n",
      "\n",
      "\u001b[34m\u001b[1mTuner: \u001b[0m45/300 iterations complete  (17184.86s)\n",
      "\u001b[34m\u001b[1mTuner: \u001b[0mResults saved to \u001b[1mruns\\detect\\tune\u001b[0m\n",
      "\u001b[34m\u001b[1mTuner: \u001b[0mBest fitness=0.66176 observed at iteration 43\n",
      "\u001b[34m\u001b[1mTuner: \u001b[0mBest fitness metrics are {'metrics/precision(B)': 0.89646, 'metrics/recall(B)': 0.85025, 'metrics/mAP50(B)': 0.93596, 'metrics/mAP50-95(B)': 0.6313, 'val/box_loss': 1.78017, 'val/cls_loss': 0.73179, 'val/dfl_loss': 1.05057, 'fitness': 0.66176}\n",
      "\u001b[34m\u001b[1mTuner: \u001b[0mBest fitness model is runs\\detect\\train45\n",
      "\u001b[34m\u001b[1mTuner: \u001b[0mBest fitness hyperparameters are printed below.\n",
      "\n",
      "Printing '\u001b[1m\u001b[30mruns\\detect\\tune\\best_hyperparameters.yaml\u001b[0m'\n",
      "\n",
      "lr0: 0.0041\n",
      "lrf: 0.0124\n",
      "momentum: 0.85702\n",
      "weight_decay: 0.00049\n",
      "warmup_epochs: 3.05243\n",
      "warmup_momentum: 0.72157\n",
      "box: 11.47331\n",
      "cls: 0.57384\n",
      "dfl: 1.39854\n",
      "hsv_h: 0.01827\n",
      "hsv_s: 0.65733\n",
      "hsv_v: 0.49103\n",
      "degrees: 0.0\n",
      "translate: 0.10868\n",
      "scale: 0.38883\n",
      "shear: 0.0\n",
      "perspective: 0.0\n",
      "flipud: 0.0\n",
      "fliplr: 0.24894\n",
      "bgr: 0.0\n",
      "mosaic: 0.89844\n",
      "mixup: 0.0\n",
      "copy_paste: 0.0\n",
      "\n",
      "\u001b[34m\u001b[1mTuner: \u001b[0mStarting iteration 46/300 with hyperparameters: {'lr0': 0.00445, 'lrf': 0.01177, 'momentum': 0.82039, 'weight_decay': 0.00069, 'warmup_epochs': 3.05243, 'warmup_momentum': 0.5442, 'box': 10.25023, 'cls': 0.56554, 'dfl': 1.39716, 'hsv_h': 0.01999, 'hsv_s': 0.65733, 'hsv_v': 0.49103, 'degrees': 0.0, 'translate': 0.13117, 'scale': 0.32656, 'shear': 0.0, 'perspective': 0.0, 'flipud': 0.0, 'fliplr': 0.28481, 'bgr': 0.0, 'mosaic': 0.88676, 'mixup': 0.0, 'copy_paste': 0.0}\n",
      "Saved runs\\detect\\tune\\tune_scatter_plots.png\n",
      "Saved runs\\detect\\tune\\tune_fitness.png\n",
      "\n",
      "\u001b[34m\u001b[1mTuner: \u001b[0m46/300 iterations complete  (17554.63s)\n",
      "\u001b[34m\u001b[1mTuner: \u001b[0mResults saved to \u001b[1mruns\\detect\\tune\u001b[0m\n",
      "\u001b[34m\u001b[1mTuner: \u001b[0mBest fitness=0.66176 observed at iteration 43\n",
      "\u001b[34m\u001b[1mTuner: \u001b[0mBest fitness metrics are {'metrics/precision(B)': 0.89646, 'metrics/recall(B)': 0.85025, 'metrics/mAP50(B)': 0.93596, 'metrics/mAP50-95(B)': 0.6313, 'val/box_loss': 1.78017, 'val/cls_loss': 0.73179, 'val/dfl_loss': 1.05057, 'fitness': 0.66176}\n",
      "\u001b[34m\u001b[1mTuner: \u001b[0mBest fitness model is runs\\detect\\train45\n",
      "\u001b[34m\u001b[1mTuner: \u001b[0mBest fitness hyperparameters are printed below.\n",
      "\n",
      "Printing '\u001b[1m\u001b[30mruns\\detect\\tune\\best_hyperparameters.yaml\u001b[0m'\n",
      "\n",
      "lr0: 0.0041\n",
      "lrf: 0.0124\n",
      "momentum: 0.85702\n",
      "weight_decay: 0.00049\n",
      "warmup_epochs: 3.05243\n",
      "warmup_momentum: 0.72157\n",
      "box: 11.47331\n",
      "cls: 0.57384\n",
      "dfl: 1.39854\n",
      "hsv_h: 0.01827\n",
      "hsv_s: 0.65733\n",
      "hsv_v: 0.49103\n",
      "degrees: 0.0\n",
      "translate: 0.10868\n",
      "scale: 0.38883\n",
      "shear: 0.0\n",
      "perspective: 0.0\n",
      "flipud: 0.0\n",
      "fliplr: 0.24894\n",
      "bgr: 0.0\n",
      "mosaic: 0.89844\n",
      "mixup: 0.0\n",
      "copy_paste: 0.0\n",
      "\n",
      "\u001b[34m\u001b[1mTuner: \u001b[0mStarting iteration 47/300 with hyperparameters: {'lr0': 0.00397, 'lrf': 0.01261, 'momentum': 0.82177, 'weight_decay': 0.00043, 'warmup_epochs': 2.67065, 'warmup_momentum': 0.74006, 'box': 11.58841, 'cls': 0.62307, 'dfl': 1.3969, 'hsv_h': 0.0182, 'hsv_s': 0.69044, 'hsv_v': 0.45512, 'degrees': 0.0, 'translate': 0.11357, 'scale': 0.39021, 'shear': 0.0, 'perspective': 0.0, 'flipud': 0.0, 'fliplr': 0.24357, 'bgr': 0.0, 'mosaic': 0.91479, 'mixup': 0.0, 'copy_paste': 0.0}\n",
      "Saved runs\\detect\\tune\\tune_scatter_plots.png\n",
      "Saved runs\\detect\\tune\\tune_fitness.png\n",
      "\n",
      "\u001b[34m\u001b[1mTuner: \u001b[0m47/300 iterations complete  (17930.00s)\n",
      "\u001b[34m\u001b[1mTuner: \u001b[0mResults saved to \u001b[1mruns\\detect\\tune\u001b[0m\n",
      "\u001b[34m\u001b[1mTuner: \u001b[0mBest fitness=0.66176 observed at iteration 43\n",
      "\u001b[34m\u001b[1mTuner: \u001b[0mBest fitness metrics are {'metrics/precision(B)': 0.89646, 'metrics/recall(B)': 0.85025, 'metrics/mAP50(B)': 0.93596, 'metrics/mAP50-95(B)': 0.6313, 'val/box_loss': 1.78017, 'val/cls_loss': 0.73179, 'val/dfl_loss': 1.05057, 'fitness': 0.66176}\n",
      "\u001b[34m\u001b[1mTuner: \u001b[0mBest fitness model is runs\\detect\\train45\n",
      "\u001b[34m\u001b[1mTuner: \u001b[0mBest fitness hyperparameters are printed below.\n",
      "\n",
      "Printing '\u001b[1m\u001b[30mruns\\detect\\tune\\best_hyperparameters.yaml\u001b[0m'\n",
      "\n",
      "lr0: 0.0041\n",
      "lrf: 0.0124\n",
      "momentum: 0.85702\n",
      "weight_decay: 0.00049\n",
      "warmup_epochs: 3.05243\n",
      "warmup_momentum: 0.72157\n",
      "box: 11.47331\n",
      "cls: 0.57384\n",
      "dfl: 1.39854\n",
      "hsv_h: 0.01827\n",
      "hsv_s: 0.65733\n",
      "hsv_v: 0.49103\n",
      "degrees: 0.0\n",
      "translate: 0.10868\n",
      "scale: 0.38883\n",
      "shear: 0.0\n",
      "perspective: 0.0\n",
      "flipud: 0.0\n",
      "fliplr: 0.24894\n",
      "bgr: 0.0\n",
      "mosaic: 0.89844\n",
      "mixup: 0.0\n",
      "copy_paste: 0.0\n",
      "\n",
      "\u001b[34m\u001b[1mTuner: \u001b[0mStarting iteration 48/300 with hyperparameters: {'lr0': 0.00418, 'lrf': 0.01611, 'momentum': 0.85702, 'weight_decay': 0.00047, 'warmup_epochs': 3.43527, 'warmup_momentum': 0.71038, 'box': 11.47331, 'cls': 0.54892, 'dfl': 1.27224, 'hsv_h': 0.01626, 'hsv_s': 0.71195, 'hsv_v': 0.53667, 'degrees': 0.0, 'translate': 0.10026, 'scale': 0.35636, 'shear': 0.0, 'perspective': 0.0, 'flipud': 0.0, 'fliplr': 0.24894, 'bgr': 0.0, 'mosaic': 0.89876, 'mixup': 0.0, 'copy_paste': 0.0}\n",
      "Saved runs\\detect\\tune\\tune_scatter_plots.png\n",
      "Saved runs\\detect\\tune\\tune_fitness.png\n",
      "\n",
      "\u001b[34m\u001b[1mTuner: \u001b[0m48/300 iterations complete  (18305.56s)\n",
      "\u001b[34m\u001b[1mTuner: \u001b[0mResults saved to \u001b[1mruns\\detect\\tune\u001b[0m\n",
      "\u001b[34m\u001b[1mTuner: \u001b[0mBest fitness=0.66176 observed at iteration 43\n",
      "\u001b[34m\u001b[1mTuner: \u001b[0mBest fitness metrics are {'metrics/precision(B)': 0.89646, 'metrics/recall(B)': 0.85025, 'metrics/mAP50(B)': 0.93596, 'metrics/mAP50-95(B)': 0.6313, 'val/box_loss': 1.78017, 'val/cls_loss': 0.73179, 'val/dfl_loss': 1.05057, 'fitness': 0.66176}\n",
      "\u001b[34m\u001b[1mTuner: \u001b[0mBest fitness model is runs\\detect\\train45\n",
      "\u001b[34m\u001b[1mTuner: \u001b[0mBest fitness hyperparameters are printed below.\n",
      "\n",
      "Printing '\u001b[1m\u001b[30mruns\\detect\\tune\\best_hyperparameters.yaml\u001b[0m'\n",
      "\n",
      "lr0: 0.0041\n",
      "lrf: 0.0124\n",
      "momentum: 0.85702\n",
      "weight_decay: 0.00049\n",
      "warmup_epochs: 3.05243\n",
      "warmup_momentum: 0.72157\n",
      "box: 11.47331\n",
      "cls: 0.57384\n",
      "dfl: 1.39854\n",
      "hsv_h: 0.01827\n",
      "hsv_s: 0.65733\n",
      "hsv_v: 0.49103\n",
      "degrees: 0.0\n",
      "translate: 0.10868\n",
      "scale: 0.38883\n",
      "shear: 0.0\n",
      "perspective: 0.0\n",
      "flipud: 0.0\n",
      "fliplr: 0.24894\n",
      "bgr: 0.0\n",
      "mosaic: 0.89844\n",
      "mixup: 0.0\n",
      "copy_paste: 0.0\n",
      "\n",
      "\u001b[34m\u001b[1mTuner: \u001b[0mStarting iteration 49/300 with hyperparameters: {'lr0': 0.00455, 'lrf': 0.0124, 'momentum': 0.86183, 'weight_decay': 0.00049, 'warmup_epochs': 3.25069, 'warmup_momentum': 0.77175, 'box': 12.04391, 'cls': 0.55238, 'dfl': 1.53993, 'hsv_h': 0.01827, 'hsv_s': 0.55164, 'hsv_v': 0.4698, 'degrees': 0.0, 'translate': 0.10272, 'scale': 0.40784, 'shear': 0.0, 'perspective': 0.0, 'flipud': 0.0, 'fliplr': 0.26134, 'bgr': 0.0, 'mosaic': 0.93051, 'mixup': 0.0, 'copy_paste': 0.0}\n",
      "Saved runs\\detect\\tune\\tune_scatter_plots.png\n",
      "Saved runs\\detect\\tune\\tune_fitness.png\n",
      "\n",
      "\u001b[34m\u001b[1mTuner: \u001b[0m49/300 iterations complete  (18689.63s)\n",
      "\u001b[34m\u001b[1mTuner: \u001b[0mResults saved to \u001b[1mruns\\detect\\tune\u001b[0m\n",
      "\u001b[34m\u001b[1mTuner: \u001b[0mBest fitness=0.66176 observed at iteration 43\n",
      "\u001b[34m\u001b[1mTuner: \u001b[0mBest fitness metrics are {'metrics/precision(B)': 0.89646, 'metrics/recall(B)': 0.85025, 'metrics/mAP50(B)': 0.93596, 'metrics/mAP50-95(B)': 0.6313, 'val/box_loss': 1.78017, 'val/cls_loss': 0.73179, 'val/dfl_loss': 1.05057, 'fitness': 0.66176}\n",
      "\u001b[34m\u001b[1mTuner: \u001b[0mBest fitness model is runs\\detect\\train45\n",
      "\u001b[34m\u001b[1mTuner: \u001b[0mBest fitness hyperparameters are printed below.\n",
      "\n",
      "Printing '\u001b[1m\u001b[30mruns\\detect\\tune\\best_hyperparameters.yaml\u001b[0m'\n",
      "\n",
      "lr0: 0.0041\n",
      "lrf: 0.0124\n",
      "momentum: 0.85702\n",
      "weight_decay: 0.00049\n",
      "warmup_epochs: 3.05243\n",
      "warmup_momentum: 0.72157\n",
      "box: 11.47331\n",
      "cls: 0.57384\n",
      "dfl: 1.39854\n",
      "hsv_h: 0.01827\n",
      "hsv_s: 0.65733\n",
      "hsv_v: 0.49103\n",
      "degrees: 0.0\n",
      "translate: 0.10868\n",
      "scale: 0.38883\n",
      "shear: 0.0\n",
      "perspective: 0.0\n",
      "flipud: 0.0\n",
      "fliplr: 0.24894\n",
      "bgr: 0.0\n",
      "mosaic: 0.89844\n",
      "mixup: 0.0\n",
      "copy_paste: 0.0\n",
      "\n",
      "\u001b[34m\u001b[1mTuner: \u001b[0mStarting iteration 50/300 with hyperparameters: {'lr0': 0.00458, 'lrf': 0.01265, 'momentum': 0.88609, 'weight_decay': 0.00049, 'warmup_epochs': 3.35291, 'warmup_momentum': 0.95, 'box': 13.19913, 'cls': 0.75987, 'dfl': 1.60991, 'hsv_h': 0.01827, 'hsv_s': 0.55752, 'hsv_v': 0.49103, 'degrees': 0.0, 'translate': 0.10868, 'scale': 0.27913, 'shear': 0.0, 'perspective': 0.0, 'flipud': 0.0, 'fliplr': 0.24894, 'bgr': 0.0, 'mosaic': 0.96553, 'mixup': 0.0, 'copy_paste': 0.0}\n",
      "Saved runs\\detect\\tune\\tune_scatter_plots.png\n",
      "Saved runs\\detect\\tune\\tune_fitness.png\n",
      "\n",
      "\u001b[34m\u001b[1mTuner: \u001b[0m50/300 iterations complete  (19064.30s)\n",
      "\u001b[34m\u001b[1mTuner: \u001b[0mResults saved to \u001b[1mruns\\detect\\tune\u001b[0m\n",
      "\u001b[34m\u001b[1mTuner: \u001b[0mBest fitness=0.66176 observed at iteration 43\n",
      "\u001b[34m\u001b[1mTuner: \u001b[0mBest fitness metrics are {'metrics/precision(B)': 0.89646, 'metrics/recall(B)': 0.85025, 'metrics/mAP50(B)': 0.93596, 'metrics/mAP50-95(B)': 0.6313, 'val/box_loss': 1.78017, 'val/cls_loss': 0.73179, 'val/dfl_loss': 1.05057, 'fitness': 0.66176}\n",
      "\u001b[34m\u001b[1mTuner: \u001b[0mBest fitness model is runs\\detect\\train45\n",
      "\u001b[34m\u001b[1mTuner: \u001b[0mBest fitness hyperparameters are printed below.\n",
      "\n",
      "Printing '\u001b[1m\u001b[30mruns\\detect\\tune\\best_hyperparameters.yaml\u001b[0m'\n",
      "\n",
      "lr0: 0.0041\n",
      "lrf: 0.0124\n",
      "momentum: 0.85702\n",
      "weight_decay: 0.00049\n",
      "warmup_epochs: 3.05243\n",
      "warmup_momentum: 0.72157\n",
      "box: 11.47331\n",
      "cls: 0.57384\n",
      "dfl: 1.39854\n",
      "hsv_h: 0.01827\n",
      "hsv_s: 0.65733\n",
      "hsv_v: 0.49103\n",
      "degrees: 0.0\n",
      "translate: 0.10868\n",
      "scale: 0.38883\n",
      "shear: 0.0\n",
      "perspective: 0.0\n",
      "flipud: 0.0\n",
      "fliplr: 0.24894\n",
      "bgr: 0.0\n",
      "mosaic: 0.89844\n",
      "mixup: 0.0\n",
      "copy_paste: 0.0\n",
      "\n",
      "\u001b[34m\u001b[1mTuner: \u001b[0mStarting iteration 51/300 with hyperparameters: {'lr0': 0.0041, 'lrf': 0.01254, 'momentum': 0.85313, 'weight_decay': 0.00049, 'warmup_epochs': 3.02328, 'warmup_momentum': 0.71232, 'box': 11.68472, 'cls': 0.57384, 'dfl': 1.47585, 'hsv_h': 0.01827, 'hsv_s': 0.66257, 'hsv_v': 0.48166, 'degrees': 0.0, 'translate': 0.11298, 'scale': 0.38113, 'shear': 0.0, 'perspective': 0.0, 'flipud': 0.0, 'fliplr': 0.24466, 'bgr': 0.0, 'mosaic': 0.90273, 'mixup': 0.0, 'copy_paste': 0.0}\n",
      "Saved runs\\detect\\tune\\tune_scatter_plots.png\n",
      "Saved runs\\detect\\tune\\tune_fitness.png\n",
      "\n",
      "\u001b[34m\u001b[1mTuner: \u001b[0m51/300 iterations complete  (19441.79s)\n",
      "\u001b[34m\u001b[1mTuner: \u001b[0mResults saved to \u001b[1mruns\\detect\\tune\u001b[0m\n",
      "\u001b[34m\u001b[1mTuner: \u001b[0mBest fitness=0.66176 observed at iteration 43\n",
      "\u001b[34m\u001b[1mTuner: \u001b[0mBest fitness metrics are {'metrics/precision(B)': 0.89646, 'metrics/recall(B)': 0.85025, 'metrics/mAP50(B)': 0.93596, 'metrics/mAP50-95(B)': 0.6313, 'val/box_loss': 1.78017, 'val/cls_loss': 0.73179, 'val/dfl_loss': 1.05057, 'fitness': 0.66176}\n",
      "\u001b[34m\u001b[1mTuner: \u001b[0mBest fitness model is runs\\detect\\train45\n",
      "\u001b[34m\u001b[1mTuner: \u001b[0mBest fitness hyperparameters are printed below.\n",
      "\n",
      "Printing '\u001b[1m\u001b[30mruns\\detect\\tune\\best_hyperparameters.yaml\u001b[0m'\n",
      "\n",
      "lr0: 0.0041\n",
      "lrf: 0.0124\n",
      "momentum: 0.85702\n",
      "weight_decay: 0.00049\n",
      "warmup_epochs: 3.05243\n",
      "warmup_momentum: 0.72157\n",
      "box: 11.47331\n",
      "cls: 0.57384\n",
      "dfl: 1.39854\n",
      "hsv_h: 0.01827\n",
      "hsv_s: 0.65733\n",
      "hsv_v: 0.49103\n",
      "degrees: 0.0\n",
      "translate: 0.10868\n",
      "scale: 0.38883\n",
      "shear: 0.0\n",
      "perspective: 0.0\n",
      "flipud: 0.0\n",
      "fliplr: 0.24894\n",
      "bgr: 0.0\n",
      "mosaic: 0.89844\n",
      "mixup: 0.0\n",
      "copy_paste: 0.0\n",
      "\n",
      "\u001b[34m\u001b[1mTuner: \u001b[0mStarting iteration 52/300 with hyperparameters: {'lr0': 0.00278, 'lrf': 0.01002, 'momentum': 0.80863, 'weight_decay': 0.0005, 'warmup_epochs': 3.6488, 'warmup_momentum': 0.81889, 'box': 9.6573, 'cls': 0.51573, 'dfl': 1.21146, 'hsv_h': 0.01811, 'hsv_s': 0.45684, 'hsv_v': 0.40343, 'degrees': 0.0, 'translate': 0.09227, 'scale': 0.3922, 'shear': 0.0, 'perspective': 0.0, 'flipud': 0.0, 'fliplr': 0.24265, 'bgr': 0.0, 'mosaic': 0.7645, 'mixup': 0.0, 'copy_paste': 0.0}\n",
      "Saved runs\\detect\\tune\\tune_scatter_plots.png\n",
      "Saved runs\\detect\\tune\\tune_fitness.png\n",
      "\n",
      "\u001b[34m\u001b[1mTuner: \u001b[0m52/300 iterations complete  (19817.10s)\n",
      "\u001b[34m\u001b[1mTuner: \u001b[0mResults saved to \u001b[1mruns\\detect\\tune\u001b[0m\n",
      "\u001b[34m\u001b[1mTuner: \u001b[0mBest fitness=0.66176 observed at iteration 43\n",
      "\u001b[34m\u001b[1mTuner: \u001b[0mBest fitness metrics are {'metrics/precision(B)': 0.89646, 'metrics/recall(B)': 0.85025, 'metrics/mAP50(B)': 0.93596, 'metrics/mAP50-95(B)': 0.6313, 'val/box_loss': 1.78017, 'val/cls_loss': 0.73179, 'val/dfl_loss': 1.05057, 'fitness': 0.66176}\n",
      "\u001b[34m\u001b[1mTuner: \u001b[0mBest fitness model is runs\\detect\\train45\n",
      "\u001b[34m\u001b[1mTuner: \u001b[0mBest fitness hyperparameters are printed below.\n",
      "\n",
      "Printing '\u001b[1m\u001b[30mruns\\detect\\tune\\best_hyperparameters.yaml\u001b[0m'\n",
      "\n",
      "lr0: 0.0041\n",
      "lrf: 0.0124\n",
      "momentum: 0.85702\n",
      "weight_decay: 0.00049\n",
      "warmup_epochs: 3.05243\n",
      "warmup_momentum: 0.72157\n",
      "box: 11.47331\n",
      "cls: 0.57384\n",
      "dfl: 1.39854\n",
      "hsv_h: 0.01827\n",
      "hsv_s: 0.65733\n",
      "hsv_v: 0.49103\n",
      "degrees: 0.0\n",
      "translate: 0.10868\n",
      "scale: 0.38883\n",
      "shear: 0.0\n",
      "perspective: 0.0\n",
      "flipud: 0.0\n",
      "fliplr: 0.24894\n",
      "bgr: 0.0\n",
      "mosaic: 0.89844\n",
      "mixup: 0.0\n",
      "copy_paste: 0.0\n",
      "\n",
      "\u001b[34m\u001b[1mTuner: \u001b[0mStarting iteration 53/300 with hyperparameters: {'lr0': 0.0043, 'lrf': 0.01249, 'momentum': 0.84104, 'weight_decay': 0.00055, 'warmup_epochs': 3.05243, 'warmup_momentum': 0.7646, 'box': 11.41178, 'cls': 0.64632, 'dfl': 1.43227, 'hsv_h': 0.01827, 'hsv_s': 0.64966, 'hsv_v': 0.46651, 'degrees': 0.0, 'translate': 0.10868, 'scale': 0.37702, 'shear': 0.0, 'perspective': 0.0, 'flipud': 0.0, 'fliplr': 0.24205, 'bgr': 0.0, 'mosaic': 0.91735, 'mixup': 0.0, 'copy_paste': 0.0}\n",
      "Saved runs\\detect\\tune\\tune_scatter_plots.png\n",
      "Saved runs\\detect\\tune\\tune_fitness.png\n",
      "\n",
      "\u001b[34m\u001b[1mTuner: \u001b[0m53/300 iterations complete  (20195.36s)\n",
      "\u001b[34m\u001b[1mTuner: \u001b[0mResults saved to \u001b[1mruns\\detect\\tune\u001b[0m\n",
      "\u001b[34m\u001b[1mTuner: \u001b[0mBest fitness=0.66176 observed at iteration 43\n",
      "\u001b[34m\u001b[1mTuner: \u001b[0mBest fitness metrics are {'metrics/precision(B)': 0.89646, 'metrics/recall(B)': 0.85025, 'metrics/mAP50(B)': 0.93596, 'metrics/mAP50-95(B)': 0.6313, 'val/box_loss': 1.78017, 'val/cls_loss': 0.73179, 'val/dfl_loss': 1.05057, 'fitness': 0.66176}\n",
      "\u001b[34m\u001b[1mTuner: \u001b[0mBest fitness model is runs\\detect\\train45\n",
      "\u001b[34m\u001b[1mTuner: \u001b[0mBest fitness hyperparameters are printed below.\n",
      "\n",
      "Printing '\u001b[1m\u001b[30mruns\\detect\\tune\\best_hyperparameters.yaml\u001b[0m'\n",
      "\n",
      "lr0: 0.0041\n",
      "lrf: 0.0124\n",
      "momentum: 0.85702\n",
      "weight_decay: 0.00049\n",
      "warmup_epochs: 3.05243\n",
      "warmup_momentum: 0.72157\n",
      "box: 11.47331\n",
      "cls: 0.57384\n",
      "dfl: 1.39854\n",
      "hsv_h: 0.01827\n",
      "hsv_s: 0.65733\n",
      "hsv_v: 0.49103\n",
      "degrees: 0.0\n",
      "translate: 0.10868\n",
      "scale: 0.38883\n",
      "shear: 0.0\n",
      "perspective: 0.0\n",
      "flipud: 0.0\n",
      "fliplr: 0.24894\n",
      "bgr: 0.0\n",
      "mosaic: 0.89844\n",
      "mixup: 0.0\n",
      "copy_paste: 0.0\n",
      "\n",
      "\u001b[34m\u001b[1mTuner: \u001b[0mStarting iteration 54/300 with hyperparameters: {'lr0': 0.00404, 'lrf': 0.0124, 'momentum': 0.82441, 'weight_decay': 0.00053, 'warmup_epochs': 2.8664, 'warmup_momentum': 0.74385, 'box': 11.47331, 'cls': 0.58958, 'dfl': 1.44362, 'hsv_h': 0.0163, 'hsv_s': 0.68087, 'hsv_v': 0.48777, 'degrees': 0.0, 'translate': 0.11562, 'scale': 0.40775, 'shear': 0.0, 'perspective': 0.0, 'flipud': 0.0, 'fliplr': 0.25729, 'bgr': 0.0, 'mosaic': 0.9865, 'mixup': 0.0, 'copy_paste': 0.0}\n",
      "Saved runs\\detect\\tune\\tune_scatter_plots.png\n",
      "Saved runs\\detect\\tune\\tune_fitness.png\n",
      "\n",
      "\u001b[34m\u001b[1mTuner: \u001b[0m54/300 iterations complete  (20607.74s)\n",
      "\u001b[34m\u001b[1mTuner: \u001b[0mResults saved to \u001b[1mruns\\detect\\tune\u001b[0m\n",
      "\u001b[34m\u001b[1mTuner: \u001b[0mBest fitness=0.66176 observed at iteration 43\n",
      "\u001b[34m\u001b[1mTuner: \u001b[0mBest fitness metrics are {'metrics/precision(B)': 0.89646, 'metrics/recall(B)': 0.85025, 'metrics/mAP50(B)': 0.93596, 'metrics/mAP50-95(B)': 0.6313, 'val/box_loss': 1.78017, 'val/cls_loss': 0.73179, 'val/dfl_loss': 1.05057, 'fitness': 0.66176}\n",
      "\u001b[34m\u001b[1mTuner: \u001b[0mBest fitness model is runs\\detect\\train45\n",
      "\u001b[34m\u001b[1mTuner: \u001b[0mBest fitness hyperparameters are printed below.\n",
      "\n",
      "Printing '\u001b[1m\u001b[30mruns\\detect\\tune\\best_hyperparameters.yaml\u001b[0m'\n",
      "\n",
      "lr0: 0.0041\n",
      "lrf: 0.0124\n",
      "momentum: 0.85702\n",
      "weight_decay: 0.00049\n",
      "warmup_epochs: 3.05243\n",
      "warmup_momentum: 0.72157\n",
      "box: 11.47331\n",
      "cls: 0.57384\n",
      "dfl: 1.39854\n",
      "hsv_h: 0.01827\n",
      "hsv_s: 0.65733\n",
      "hsv_v: 0.49103\n",
      "degrees: 0.0\n",
      "translate: 0.10868\n",
      "scale: 0.38883\n",
      "shear: 0.0\n",
      "perspective: 0.0\n",
      "flipud: 0.0\n",
      "fliplr: 0.24894\n",
      "bgr: 0.0\n",
      "mosaic: 0.89844\n",
      "mixup: 0.0\n",
      "copy_paste: 0.0\n",
      "\n",
      "\u001b[34m\u001b[1mTuner: \u001b[0mStarting iteration 55/300 with hyperparameters: {'lr0': 0.0041, 'lrf': 0.01022, 'momentum': 0.85702, 'weight_decay': 0.00053, 'warmup_epochs': 2.71983, 'warmup_momentum': 0.67668, 'box': 12.09585, 'cls': 0.57384, 'dfl': 1.85662, 'hsv_h': 0.01116, 'hsv_s': 0.65733, 'hsv_v': 0.31761, 'degrees': 0.0, 'translate': 0.10868, 'scale': 0.38883, 'shear': 0.0, 'perspective': 0.0, 'flipud': 0.0, 'fliplr': 0.24894, 'bgr': 0.0, 'mosaic': 0.93895, 'mixup': 0.0, 'copy_paste': 0.0}\n",
      "Saved runs\\detect\\tune\\tune_scatter_plots.png\n",
      "Saved runs\\detect\\tune\\tune_fitness.png\n",
      "\n",
      "\u001b[34m\u001b[1mTuner: \u001b[0m55/300 iterations complete  (20990.39s)\n",
      "\u001b[34m\u001b[1mTuner: \u001b[0mResults saved to \u001b[1mruns\\detect\\tune\u001b[0m\n",
      "\u001b[34m\u001b[1mTuner: \u001b[0mBest fitness=0.66176 observed at iteration 43\n",
      "\u001b[34m\u001b[1mTuner: \u001b[0mBest fitness metrics are {'metrics/precision(B)': 0.89646, 'metrics/recall(B)': 0.85025, 'metrics/mAP50(B)': 0.93596, 'metrics/mAP50-95(B)': 0.6313, 'val/box_loss': 1.78017, 'val/cls_loss': 0.73179, 'val/dfl_loss': 1.05057, 'fitness': 0.66176}\n",
      "\u001b[34m\u001b[1mTuner: \u001b[0mBest fitness model is runs\\detect\\train45\n",
      "\u001b[34m\u001b[1mTuner: \u001b[0mBest fitness hyperparameters are printed below.\n",
      "\n",
      "Printing '\u001b[1m\u001b[30mruns\\detect\\tune\\best_hyperparameters.yaml\u001b[0m'\n",
      "\n",
      "lr0: 0.0041\n",
      "lrf: 0.0124\n",
      "momentum: 0.85702\n",
      "weight_decay: 0.00049\n",
      "warmup_epochs: 3.05243\n",
      "warmup_momentum: 0.72157\n",
      "box: 11.47331\n",
      "cls: 0.57384\n",
      "dfl: 1.39854\n",
      "hsv_h: 0.01827\n",
      "hsv_s: 0.65733\n",
      "hsv_v: 0.49103\n",
      "degrees: 0.0\n",
      "translate: 0.10868\n",
      "scale: 0.38883\n",
      "shear: 0.0\n",
      "perspective: 0.0\n",
      "flipud: 0.0\n",
      "fliplr: 0.24894\n",
      "bgr: 0.0\n",
      "mosaic: 0.89844\n",
      "mixup: 0.0\n",
      "copy_paste: 0.0\n",
      "\n",
      "\u001b[34m\u001b[1mTuner: \u001b[0mStarting iteration 56/300 with hyperparameters: {'lr0': 0.00407, 'lrf': 0.01233, 'momentum': 0.85927, 'weight_decay': 0.00049, 'warmup_epochs': 3.05243, 'warmup_momentum': 0.69675, 'box': 11.41834, 'cls': 0.60689, 'dfl': 1.52686, 'hsv_h': 0.01783, 'hsv_s': 0.60661, 'hsv_v': 0.49103, 'degrees': 0.0, 'translate': 0.1082, 'scale': 0.39239, 'shear': 0.0, 'perspective': 0.0, 'flipud': 0.0, 'fliplr': 0.23872, 'bgr': 0.0, 'mosaic': 0.87027, 'mixup': 0.0, 'copy_paste': 0.0}\n",
      "Saved runs\\detect\\tune\\tune_scatter_plots.png\n",
      "Saved runs\\detect\\tune\\tune_fitness.png\n",
      "\n",
      "\u001b[34m\u001b[1mTuner: \u001b[0m56/300 iterations complete  (21362.10s)\n",
      "\u001b[34m\u001b[1mTuner: \u001b[0mResults saved to \u001b[1mruns\\detect\\tune\u001b[0m\n",
      "\u001b[34m\u001b[1mTuner: \u001b[0mBest fitness=0.66176 observed at iteration 43\n",
      "\u001b[34m\u001b[1mTuner: \u001b[0mBest fitness metrics are {'metrics/precision(B)': 0.89646, 'metrics/recall(B)': 0.85025, 'metrics/mAP50(B)': 0.93596, 'metrics/mAP50-95(B)': 0.6313, 'val/box_loss': 1.78017, 'val/cls_loss': 0.73179, 'val/dfl_loss': 1.05057, 'fitness': 0.66176}\n",
      "\u001b[34m\u001b[1mTuner: \u001b[0mBest fitness model is runs\\detect\\train45\n",
      "\u001b[34m\u001b[1mTuner: \u001b[0mBest fitness hyperparameters are printed below.\n",
      "\n",
      "Printing '\u001b[1m\u001b[30mruns\\detect\\tune\\best_hyperparameters.yaml\u001b[0m'\n",
      "\n",
      "lr0: 0.0041\n",
      "lrf: 0.0124\n",
      "momentum: 0.85702\n",
      "weight_decay: 0.00049\n",
      "warmup_epochs: 3.05243\n",
      "warmup_momentum: 0.72157\n",
      "box: 11.47331\n",
      "cls: 0.57384\n",
      "dfl: 1.39854\n",
      "hsv_h: 0.01827\n",
      "hsv_s: 0.65733\n",
      "hsv_v: 0.49103\n",
      "degrees: 0.0\n",
      "translate: 0.10868\n",
      "scale: 0.38883\n",
      "shear: 0.0\n",
      "perspective: 0.0\n",
      "flipud: 0.0\n",
      "fliplr: 0.24894\n",
      "bgr: 0.0\n",
      "mosaic: 0.89844\n",
      "mixup: 0.0\n",
      "copy_paste: 0.0\n",
      "\n",
      "\u001b[34m\u001b[1mTuner: \u001b[0mStarting iteration 57/300 with hyperparameters: {'lr0': 0.00411, 'lrf': 0.01257, 'momentum': 0.81311, 'weight_decay': 0.00052, 'warmup_epochs': 2.32012, 'warmup_momentum': 0.76768, 'box': 11.93423, 'cls': 0.65292, 'dfl': 1.32839, 'hsv_h': 0.0205, 'hsv_s': 0.68476, 'hsv_v': 0.45512, 'degrees': 0.0, 'translate': 0.12539, 'scale': 0.30146, 'shear': 0.0, 'perspective': 0.0, 'flipud': 0.0, 'fliplr': 0.23344, 'bgr': 0.0, 'mosaic': 0.96106, 'mixup': 0.0, 'copy_paste': 0.0}\n",
      "Saved runs\\detect\\tune\\tune_scatter_plots.png\n",
      "Saved runs\\detect\\tune\\tune_fitness.png\n",
      "\n",
      "\u001b[34m\u001b[1mTuner: \u001b[0m57/300 iterations complete  (21749.82s)\n",
      "\u001b[34m\u001b[1mTuner: \u001b[0mResults saved to \u001b[1mruns\\detect\\tune\u001b[0m\n",
      "\u001b[34m\u001b[1mTuner: \u001b[0mBest fitness=0.66176 observed at iteration 43\n",
      "\u001b[34m\u001b[1mTuner: \u001b[0mBest fitness metrics are {'metrics/precision(B)': 0.89646, 'metrics/recall(B)': 0.85025, 'metrics/mAP50(B)': 0.93596, 'metrics/mAP50-95(B)': 0.6313, 'val/box_loss': 1.78017, 'val/cls_loss': 0.73179, 'val/dfl_loss': 1.05057, 'fitness': 0.66176}\n",
      "\u001b[34m\u001b[1mTuner: \u001b[0mBest fitness model is runs\\detect\\train45\n",
      "\u001b[34m\u001b[1mTuner: \u001b[0mBest fitness hyperparameters are printed below.\n",
      "\n",
      "Printing '\u001b[1m\u001b[30mruns\\detect\\tune\\best_hyperparameters.yaml\u001b[0m'\n",
      "\n",
      "lr0: 0.0041\n",
      "lrf: 0.0124\n",
      "momentum: 0.85702\n",
      "weight_decay: 0.00049\n",
      "warmup_epochs: 3.05243\n",
      "warmup_momentum: 0.72157\n",
      "box: 11.47331\n",
      "cls: 0.57384\n",
      "dfl: 1.39854\n",
      "hsv_h: 0.01827\n",
      "hsv_s: 0.65733\n",
      "hsv_v: 0.49103\n",
      "degrees: 0.0\n",
      "translate: 0.10868\n",
      "scale: 0.38883\n",
      "shear: 0.0\n",
      "perspective: 0.0\n",
      "flipud: 0.0\n",
      "fliplr: 0.24894\n",
      "bgr: 0.0\n",
      "mosaic: 0.89844\n",
      "mixup: 0.0\n",
      "copy_paste: 0.0\n",
      "\n",
      "\u001b[34m\u001b[1mTuner: \u001b[0mStarting iteration 58/300 with hyperparameters: {'lr0': 0.00384, 'lrf': 0.00927, 'momentum': 0.89042, 'weight_decay': 0.00049, 'warmup_epochs': 3.23262, 'warmup_momentum': 0.64736, 'box': 11.43195, 'cls': 0.57384, 'dfl': 1.39854, 'hsv_h': 0.02016, 'hsv_s': 0.74483, 'hsv_v': 0.55931, 'degrees': 0.0, 'translate': 0.08811, 'scale': 0.49938, 'shear': 0.0, 'perspective': 0.0, 'flipud': 0.0, 'fliplr': 0.24613, 'bgr': 0.0, 'mosaic': 1.0, 'mixup': 0.0, 'copy_paste': 0.0}\n",
      "Saved runs\\detect\\tune\\tune_scatter_plots.png\n",
      "Saved runs\\detect\\tune\\tune_fitness.png\n",
      "\n",
      "\u001b[34m\u001b[1mTuner: \u001b[0m58/300 iterations complete  (22131.41s)\n",
      "\u001b[34m\u001b[1mTuner: \u001b[0mResults saved to \u001b[1mruns\\detect\\tune\u001b[0m\n",
      "\u001b[34m\u001b[1mTuner: \u001b[0mBest fitness=0.66176 observed at iteration 43\n",
      "\u001b[34m\u001b[1mTuner: \u001b[0mBest fitness metrics are {'metrics/precision(B)': 0.89646, 'metrics/recall(B)': 0.85025, 'metrics/mAP50(B)': 0.93596, 'metrics/mAP50-95(B)': 0.6313, 'val/box_loss': 1.78017, 'val/cls_loss': 0.73179, 'val/dfl_loss': 1.05057, 'fitness': 0.66176}\n",
      "\u001b[34m\u001b[1mTuner: \u001b[0mBest fitness model is runs\\detect\\train45\n",
      "\u001b[34m\u001b[1mTuner: \u001b[0mBest fitness hyperparameters are printed below.\n",
      "\n",
      "Printing '\u001b[1m\u001b[30mruns\\detect\\tune\\best_hyperparameters.yaml\u001b[0m'\n",
      "\n",
      "lr0: 0.0041\n",
      "lrf: 0.0124\n",
      "momentum: 0.85702\n",
      "weight_decay: 0.00049\n",
      "warmup_epochs: 3.05243\n",
      "warmup_momentum: 0.72157\n",
      "box: 11.47331\n",
      "cls: 0.57384\n",
      "dfl: 1.39854\n",
      "hsv_h: 0.01827\n",
      "hsv_s: 0.65733\n",
      "hsv_v: 0.49103\n",
      "degrees: 0.0\n",
      "translate: 0.10868\n",
      "scale: 0.38883\n",
      "shear: 0.0\n",
      "perspective: 0.0\n",
      "flipud: 0.0\n",
      "fliplr: 0.24894\n",
      "bgr: 0.0\n",
      "mosaic: 0.89844\n",
      "mixup: 0.0\n",
      "copy_paste: 0.0\n",
      "\n",
      "\u001b[34m\u001b[1mTuner: \u001b[0mStarting iteration 59/300 with hyperparameters: {'lr0': 0.00373, 'lrf': 0.0124, 'momentum': 0.81817, 'weight_decay': 0.00043, 'warmup_epochs': 2.55621, 'warmup_momentum': 0.72157, 'box': 10.25972, 'cls': 0.57384, 'dfl': 1.43364, 'hsv_h': 0.01877, 'hsv_s': 0.5492, 'hsv_v': 0.55781, 'degrees': 0.0, 'translate': 0.10868, 'scale': 0.58462, 'shear': 0.0, 'perspective': 0.0, 'flipud': 0.0, 'fliplr': 0.28148, 'bgr': 0.0, 'mosaic': 0.89844, 'mixup': 0.0, 'copy_paste': 0.0}\n",
      "Saved runs\\detect\\tune\\tune_scatter_plots.png\n",
      "Saved runs\\detect\\tune\\tune_fitness.png\n",
      "\n",
      "\u001b[34m\u001b[1mTuner: \u001b[0m59/300 iterations complete  (22513.90s)\n",
      "\u001b[34m\u001b[1mTuner: \u001b[0mResults saved to \u001b[1mruns\\detect\\tune\u001b[0m\n",
      "\u001b[34m\u001b[1mTuner: \u001b[0mBest fitness=0.66176 observed at iteration 43\n",
      "\u001b[34m\u001b[1mTuner: \u001b[0mBest fitness metrics are {'metrics/precision(B)': 0.89646, 'metrics/recall(B)': 0.85025, 'metrics/mAP50(B)': 0.93596, 'metrics/mAP50-95(B)': 0.6313, 'val/box_loss': 1.78017, 'val/cls_loss': 0.73179, 'val/dfl_loss': 1.05057, 'fitness': 0.66176}\n",
      "\u001b[34m\u001b[1mTuner: \u001b[0mBest fitness model is runs\\detect\\train45\n",
      "\u001b[34m\u001b[1mTuner: \u001b[0mBest fitness hyperparameters are printed below.\n",
      "\n",
      "Printing '\u001b[1m\u001b[30mruns\\detect\\tune\\best_hyperparameters.yaml\u001b[0m'\n",
      "\n",
      "lr0: 0.0041\n",
      "lrf: 0.0124\n",
      "momentum: 0.85702\n",
      "weight_decay: 0.00049\n",
      "warmup_epochs: 3.05243\n",
      "warmup_momentum: 0.72157\n",
      "box: 11.47331\n",
      "cls: 0.57384\n",
      "dfl: 1.39854\n",
      "hsv_h: 0.01827\n",
      "hsv_s: 0.65733\n",
      "hsv_v: 0.49103\n",
      "degrees: 0.0\n",
      "translate: 0.10868\n",
      "scale: 0.38883\n",
      "shear: 0.0\n",
      "perspective: 0.0\n",
      "flipud: 0.0\n",
      "fliplr: 0.24894\n",
      "bgr: 0.0\n",
      "mosaic: 0.89844\n",
      "mixup: 0.0\n",
      "copy_paste: 0.0\n",
      "\n",
      "\u001b[34m\u001b[1mTuner: \u001b[0mStarting iteration 60/300 with hyperparameters: {'lr0': 0.00267, 'lrf': 0.01065, 'momentum': 0.80961, 'weight_decay': 0.00047, 'warmup_epochs': 3.20074, 'warmup_momentum': 0.91401, 'box': 8.37088, 'cls': 0.48996, 'dfl': 1.30091, 'hsv_h': 0.01991, 'hsv_s': 0.4682, 'hsv_v': 0.45379, 'degrees': 0.0, 'translate': 0.08747, 'scale': 0.36779, 'shear': 0.0, 'perspective': 0.0, 'flipud': 0.0, 'fliplr': 0.24357, 'bgr': 0.0, 'mosaic': 0.74554, 'mixup': 0.0, 'copy_paste': 0.0}\n",
      "Saved runs\\detect\\tune\\tune_scatter_plots.png\n",
      "Saved runs\\detect\\tune\\tune_fitness.png\n",
      "\n",
      "\u001b[34m\u001b[1mTuner: \u001b[0m60/300 iterations complete  (22902.75s)\n",
      "\u001b[34m\u001b[1mTuner: \u001b[0mResults saved to \u001b[1mruns\\detect\\tune\u001b[0m\n",
      "\u001b[34m\u001b[1mTuner: \u001b[0mBest fitness=0.66176 observed at iteration 43\n",
      "\u001b[34m\u001b[1mTuner: \u001b[0mBest fitness metrics are {'metrics/precision(B)': 0.89646, 'metrics/recall(B)': 0.85025, 'metrics/mAP50(B)': 0.93596, 'metrics/mAP50-95(B)': 0.6313, 'val/box_loss': 1.78017, 'val/cls_loss': 0.73179, 'val/dfl_loss': 1.05057, 'fitness': 0.66176}\n",
      "\u001b[34m\u001b[1mTuner: \u001b[0mBest fitness model is runs\\detect\\train45\n",
      "\u001b[34m\u001b[1mTuner: \u001b[0mBest fitness hyperparameters are printed below.\n",
      "\n",
      "Printing '\u001b[1m\u001b[30mruns\\detect\\tune\\best_hyperparameters.yaml\u001b[0m'\n",
      "\n",
      "lr0: 0.0041\n",
      "lrf: 0.0124\n",
      "momentum: 0.85702\n",
      "weight_decay: 0.00049\n",
      "warmup_epochs: 3.05243\n",
      "warmup_momentum: 0.72157\n",
      "box: 11.47331\n",
      "cls: 0.57384\n",
      "dfl: 1.39854\n",
      "hsv_h: 0.01827\n",
      "hsv_s: 0.65733\n",
      "hsv_v: 0.49103\n",
      "degrees: 0.0\n",
      "translate: 0.10868\n",
      "scale: 0.38883\n",
      "shear: 0.0\n",
      "perspective: 0.0\n",
      "flipud: 0.0\n",
      "fliplr: 0.24894\n",
      "bgr: 0.0\n",
      "mosaic: 0.89844\n",
      "mixup: 0.0\n",
      "copy_paste: 0.0\n",
      "\n",
      "\u001b[34m\u001b[1mTuner: \u001b[0mStarting iteration 61/300 with hyperparameters: {'lr0': 0.00284, 'lrf': 0.01076, 'momentum': 0.82954, 'weight_decay': 0.00048, 'warmup_epochs': 3.18861, 'warmup_momentum': 0.91149, 'box': 7.86059, 'cls': 0.49189, 'dfl': 1.21933, 'hsv_h': 0.01978, 'hsv_s': 0.4682, 'hsv_v': 0.45379, 'degrees': 0.0, 'translate': 0.08853, 'scale': 0.36779, 'shear': 0.0, 'perspective': 0.0, 'flipud': 0.0, 'fliplr': 0.2656, 'bgr': 0.0, 'mosaic': 0.69888, 'mixup': 0.0, 'copy_paste': 0.0}\n",
      "Saved runs\\detect\\tune\\tune_scatter_plots.png\n",
      "Saved runs\\detect\\tune\\tune_fitness.png\n",
      "\n",
      "\u001b[34m\u001b[1mTuner: \u001b[0m61/300 iterations complete  (23279.36s)\n",
      "\u001b[34m\u001b[1mTuner: \u001b[0mResults saved to \u001b[1mruns\\detect\\tune\u001b[0m\n",
      "\u001b[34m\u001b[1mTuner: \u001b[0mBest fitness=0.66243 observed at iteration 61\n",
      "\u001b[34m\u001b[1mTuner: \u001b[0mBest fitness metrics are {'metrics/precision(B)': 0.89527, 'metrics/recall(B)': 0.85588, 'metrics/mAP50(B)': 0.93542, 'metrics/mAP50-95(B)': 0.6321, 'val/box_loss': 1.23118, 'val/cls_loss': 0.62475, 'val/dfl_loss': 0.92279, 'fitness': 0.66243}\n",
      "\u001b[34m\u001b[1mTuner: \u001b[0mBest fitness model is runs\\detect\\train64\n",
      "\u001b[34m\u001b[1mTuner: \u001b[0mBest fitness hyperparameters are printed below.\n",
      "\n",
      "Printing '\u001b[1m\u001b[30mruns\\detect\\tune\\best_hyperparameters.yaml\u001b[0m'\n",
      "\n",
      "lr0: 0.00284\n",
      "lrf: 0.01076\n",
      "momentum: 0.82954\n",
      "weight_decay: 0.00048\n",
      "warmup_epochs: 3.18861\n",
      "warmup_momentum: 0.91149\n",
      "box: 7.86059\n",
      "cls: 0.49189\n",
      "dfl: 1.21933\n",
      "hsv_h: 0.01978\n",
      "hsv_s: 0.4682\n",
      "hsv_v: 0.45379\n",
      "degrees: 0.0\n",
      "translate: 0.08853\n",
      "scale: 0.36779\n",
      "shear: 0.0\n",
      "perspective: 0.0\n",
      "flipud: 0.0\n",
      "fliplr: 0.2656\n",
      "bgr: 0.0\n",
      "mosaic: 0.69888\n",
      "mixup: 0.0\n",
      "copy_paste: 0.0\n",
      "\n",
      "\u001b[34m\u001b[1mTuner: \u001b[0mStarting iteration 62/300 with hyperparameters: {'lr0': 0.00267, 'lrf': 0.01092, 'momentum': 0.82305, 'weight_decay': 0.00045, 'warmup_epochs': 3.20074, 'warmup_momentum': 0.91401, 'box': 8.37088, 'cls': 0.49028, 'dfl': 1.32832, 'hsv_h': 0.02002, 'hsv_s': 0.4682, 'hsv_v': 0.47293, 'degrees': 0.0, 'translate': 0.08747, 'scale': 0.37405, 'shear': 0.0, 'perspective': 0.0, 'flipud': 0.0, 'fliplr': 0.24357, 'bgr': 0.0, 'mosaic': 0.74554, 'mixup': 0.0, 'copy_paste': 0.0}\n",
      "Saved runs\\detect\\tune\\tune_scatter_plots.png\n",
      "Saved runs\\detect\\tune\\tune_fitness.png\n",
      "\n",
      "\u001b[34m\u001b[1mTuner: \u001b[0m62/300 iterations complete  (23653.32s)\n",
      "\u001b[34m\u001b[1mTuner: \u001b[0mResults saved to \u001b[1mruns\\detect\\tune\u001b[0m\n",
      "\u001b[34m\u001b[1mTuner: \u001b[0mBest fitness=0.66243 observed at iteration 61\n",
      "\u001b[34m\u001b[1mTuner: \u001b[0mBest fitness metrics are {'metrics/precision(B)': 0.89527, 'metrics/recall(B)': 0.85588, 'metrics/mAP50(B)': 0.93542, 'metrics/mAP50-95(B)': 0.6321, 'val/box_loss': 1.23118, 'val/cls_loss': 0.62475, 'val/dfl_loss': 0.92279, 'fitness': 0.66243}\n",
      "\u001b[34m\u001b[1mTuner: \u001b[0mBest fitness model is runs\\detect\\train64\n",
      "\u001b[34m\u001b[1mTuner: \u001b[0mBest fitness hyperparameters are printed below.\n",
      "\n",
      "Printing '\u001b[1m\u001b[30mruns\\detect\\tune\\best_hyperparameters.yaml\u001b[0m'\n",
      "\n",
      "lr0: 0.00284\n",
      "lrf: 0.01076\n",
      "momentum: 0.82954\n",
      "weight_decay: 0.00048\n",
      "warmup_epochs: 3.18861\n",
      "warmup_momentum: 0.91149\n",
      "box: 7.86059\n",
      "cls: 0.49189\n",
      "dfl: 1.21933\n",
      "hsv_h: 0.01978\n",
      "hsv_s: 0.4682\n",
      "hsv_v: 0.45379\n",
      "degrees: 0.0\n",
      "translate: 0.08853\n",
      "scale: 0.36779\n",
      "shear: 0.0\n",
      "perspective: 0.0\n",
      "flipud: 0.0\n",
      "fliplr: 0.2656\n",
      "bgr: 0.0\n",
      "mosaic: 0.69888\n",
      "mixup: 0.0\n",
      "copy_paste: 0.0\n",
      "\n",
      "\u001b[34m\u001b[1mTuner: \u001b[0mStarting iteration 63/300 with hyperparameters: {'lr0': 0.0041, 'lrf': 0.01302, 'momentum': 0.80233, 'weight_decay': 0.00044, 'warmup_epochs': 3.06198, 'warmup_momentum': 0.76853, 'box': 11.41876, 'cls': 0.60178, 'dfl': 1.39854, 'hsv_h': 0.02123, 'hsv_s': 0.65733, 'hsv_v': 0.4672, 'degrees': 0.0, 'translate': 0.10868, 'scale': 0.45792, 'shear': 0.0, 'perspective': 0.0, 'flipud': 0.0, 'fliplr': 0.24894, 'bgr': 0.0, 'mosaic': 0.89844, 'mixup': 0.0, 'copy_paste': 0.0}\n",
      "Saved runs\\detect\\tune\\tune_scatter_plots.png\n",
      "Saved runs\\detect\\tune\\tune_fitness.png\n",
      "\n",
      "\u001b[34m\u001b[1mTuner: \u001b[0m63/300 iterations complete  (24028.43s)\n",
      "\u001b[34m\u001b[1mTuner: \u001b[0mResults saved to \u001b[1mruns\\detect\\tune\u001b[0m\n",
      "\u001b[34m\u001b[1mTuner: \u001b[0mBest fitness=0.66243 observed at iteration 61\n",
      "\u001b[34m\u001b[1mTuner: \u001b[0mBest fitness metrics are {'metrics/precision(B)': 0.89527, 'metrics/recall(B)': 0.85588, 'metrics/mAP50(B)': 0.93542, 'metrics/mAP50-95(B)': 0.6321, 'val/box_loss': 1.23118, 'val/cls_loss': 0.62475, 'val/dfl_loss': 0.92279, 'fitness': 0.66243}\n",
      "\u001b[34m\u001b[1mTuner: \u001b[0mBest fitness model is runs\\detect\\train64\n",
      "\u001b[34m\u001b[1mTuner: \u001b[0mBest fitness hyperparameters are printed below.\n",
      "\n",
      "Printing '\u001b[1m\u001b[30mruns\\detect\\tune\\best_hyperparameters.yaml\u001b[0m'\n",
      "\n",
      "lr0: 0.00284\n",
      "lrf: 0.01076\n",
      "momentum: 0.82954\n",
      "weight_decay: 0.00048\n",
      "warmup_epochs: 3.18861\n",
      "warmup_momentum: 0.91149\n",
      "box: 7.86059\n",
      "cls: 0.49189\n",
      "dfl: 1.21933\n",
      "hsv_h: 0.01978\n",
      "hsv_s: 0.4682\n",
      "hsv_v: 0.45379\n",
      "degrees: 0.0\n",
      "translate: 0.08853\n",
      "scale: 0.36779\n",
      "shear: 0.0\n",
      "perspective: 0.0\n",
      "flipud: 0.0\n",
      "fliplr: 0.2656\n",
      "bgr: 0.0\n",
      "mosaic: 0.69888\n",
      "mixup: 0.0\n",
      "copy_paste: 0.0\n",
      "\n",
      "\u001b[34m\u001b[1mTuner: \u001b[0mStarting iteration 64/300 with hyperparameters: {'lr0': 0.0033, 'lrf': 0.01065, 'momentum': 0.80961, 'weight_decay': 0.00053, 'warmup_epochs': 2.16693, 'warmup_momentum': 0.94119, 'box': 8.06759, 'cls': 0.43917, 'dfl': 1.21684, 'hsv_h': 0.01778, 'hsv_s': 0.45298, 'hsv_v': 0.47591, 'degrees': 0.0, 'translate': 0.10867, 'scale': 0.4251, 'shear': 0.0, 'perspective': 0.0, 'flipud': 0.0, 'fliplr': 0.30715, 'bgr': 0.0, 'mosaic': 0.85031, 'mixup': 0.0, 'copy_paste': 0.0}\n",
      "Saved runs\\detect\\tune\\tune_scatter_plots.png\n",
      "Saved runs\\detect\\tune\\tune_fitness.png\n",
      "\n",
      "\u001b[34m\u001b[1mTuner: \u001b[0m64/300 iterations complete  (24403.75s)\n",
      "\u001b[34m\u001b[1mTuner: \u001b[0mResults saved to \u001b[1mruns\\detect\\tune\u001b[0m\n",
      "\u001b[34m\u001b[1mTuner: \u001b[0mBest fitness=0.66243 observed at iteration 61\n",
      "\u001b[34m\u001b[1mTuner: \u001b[0mBest fitness metrics are {'metrics/precision(B)': 0.89527, 'metrics/recall(B)': 0.85588, 'metrics/mAP50(B)': 0.93542, 'metrics/mAP50-95(B)': 0.6321, 'val/box_loss': 1.23118, 'val/cls_loss': 0.62475, 'val/dfl_loss': 0.92279, 'fitness': 0.66243}\n",
      "\u001b[34m\u001b[1mTuner: \u001b[0mBest fitness model is runs\\detect\\train64\n",
      "\u001b[34m\u001b[1mTuner: \u001b[0mBest fitness hyperparameters are printed below.\n",
      "\n",
      "Printing '\u001b[1m\u001b[30mruns\\detect\\tune\\best_hyperparameters.yaml\u001b[0m'\n",
      "\n",
      "lr0: 0.00284\n",
      "lrf: 0.01076\n",
      "momentum: 0.82954\n",
      "weight_decay: 0.00048\n",
      "warmup_epochs: 3.18861\n",
      "warmup_momentum: 0.91149\n",
      "box: 7.86059\n",
      "cls: 0.49189\n",
      "dfl: 1.21933\n",
      "hsv_h: 0.01978\n",
      "hsv_s: 0.4682\n",
      "hsv_v: 0.45379\n",
      "degrees: 0.0\n",
      "translate: 0.08853\n",
      "scale: 0.36779\n",
      "shear: 0.0\n",
      "perspective: 0.0\n",
      "flipud: 0.0\n",
      "fliplr: 0.2656\n",
      "bgr: 0.0\n",
      "mosaic: 0.69888\n",
      "mixup: 0.0\n",
      "copy_paste: 0.0\n",
      "\n",
      "\u001b[34m\u001b[1mTuner: \u001b[0mStarting iteration 65/300 with hyperparameters: {'lr0': 0.00451, 'lrf': 0.01317, 'momentum': 0.90339, 'weight_decay': 0.00055, 'warmup_epochs': 1.86772, 'warmup_momentum': 0.64803, 'box': 11.47331, 'cls': 0.49872, 'dfl': 1.20747, 'hsv_h': 0.01827, 'hsv_s': 0.7159, 'hsv_v': 0.56062, 'degrees': 0.0, 'translate': 0.10875, 'scale': 0.3466, 'shear': 0.0, 'perspective': 0.0, 'flipud': 0.0, 'fliplr': 0.21451, 'bgr': 0.0, 'mosaic': 0.81725, 'mixup': 0.0, 'copy_paste': 0.0}\n",
      "Saved runs\\detect\\tune\\tune_scatter_plots.png\n",
      "Saved runs\\detect\\tune\\tune_fitness.png\n",
      "\n",
      "\u001b[34m\u001b[1mTuner: \u001b[0m65/300 iterations complete  (24795.13s)\n",
      "\u001b[34m\u001b[1mTuner: \u001b[0mResults saved to \u001b[1mruns\\detect\\tune\u001b[0m\n",
      "\u001b[34m\u001b[1mTuner: \u001b[0mBest fitness=0.66243 observed at iteration 61\n",
      "\u001b[34m\u001b[1mTuner: \u001b[0mBest fitness metrics are {'metrics/precision(B)': 0.89527, 'metrics/recall(B)': 0.85588, 'metrics/mAP50(B)': 0.93542, 'metrics/mAP50-95(B)': 0.6321, 'val/box_loss': 1.23118, 'val/cls_loss': 0.62475, 'val/dfl_loss': 0.92279, 'fitness': 0.66243}\n",
      "\u001b[34m\u001b[1mTuner: \u001b[0mBest fitness model is runs\\detect\\train64\n",
      "\u001b[34m\u001b[1mTuner: \u001b[0mBest fitness hyperparameters are printed below.\n",
      "\n",
      "Printing '\u001b[1m\u001b[30mruns\\detect\\tune\\best_hyperparameters.yaml\u001b[0m'\n",
      "\n",
      "lr0: 0.00284\n",
      "lrf: 0.01076\n",
      "momentum: 0.82954\n",
      "weight_decay: 0.00048\n",
      "warmup_epochs: 3.18861\n",
      "warmup_momentum: 0.91149\n",
      "box: 7.86059\n",
      "cls: 0.49189\n",
      "dfl: 1.21933\n",
      "hsv_h: 0.01978\n",
      "hsv_s: 0.4682\n",
      "hsv_v: 0.45379\n",
      "degrees: 0.0\n",
      "translate: 0.08853\n",
      "scale: 0.36779\n",
      "shear: 0.0\n",
      "perspective: 0.0\n",
      "flipud: 0.0\n",
      "fliplr: 0.2656\n",
      "bgr: 0.0\n",
      "mosaic: 0.69888\n",
      "mixup: 0.0\n",
      "copy_paste: 0.0\n",
      "\n",
      "\u001b[34m\u001b[1mTuner: \u001b[0mStarting iteration 66/300 with hyperparameters: {'lr0': 0.0035, 'lrf': 0.0134, 'momentum': 0.85881, 'weight_decay': 0.00047, 'warmup_epochs': 3.05243, 'warmup_momentum': 0.73303, 'box': 11.50491, 'cls': 0.58535, 'dfl': 1.48495, 'hsv_h': 0.01843, 'hsv_s': 0.72862, 'hsv_v': 0.45732, 'degrees': 0.0, 'translate': 0.12195, 'scale': 0.33171, 'shear': 0.0, 'perspective': 0.0, 'flipud': 0.0, 'fliplr': 0.27903, 'bgr': 0.0, 'mosaic': 0.6326, 'mixup': 0.0, 'copy_paste': 0.0}\n",
      "Saved runs\\detect\\tune\\tune_scatter_plots.png\n",
      "Saved runs\\detect\\tune\\tune_fitness.png\n",
      "\n",
      "\u001b[34m\u001b[1mTuner: \u001b[0m66/300 iterations complete  (25171.48s)\n",
      "\u001b[34m\u001b[1mTuner: \u001b[0mResults saved to \u001b[1mruns\\detect\\tune\u001b[0m\n",
      "\u001b[34m\u001b[1mTuner: \u001b[0mBest fitness=0.66243 observed at iteration 61\n",
      "\u001b[34m\u001b[1mTuner: \u001b[0mBest fitness metrics are {'metrics/precision(B)': 0.89527, 'metrics/recall(B)': 0.85588, 'metrics/mAP50(B)': 0.93542, 'metrics/mAP50-95(B)': 0.6321, 'val/box_loss': 1.23118, 'val/cls_loss': 0.62475, 'val/dfl_loss': 0.92279, 'fitness': 0.66243}\n",
      "\u001b[34m\u001b[1mTuner: \u001b[0mBest fitness model is runs\\detect\\train64\n",
      "\u001b[34m\u001b[1mTuner: \u001b[0mBest fitness hyperparameters are printed below.\n",
      "\n",
      "Printing '\u001b[1m\u001b[30mruns\\detect\\tune\\best_hyperparameters.yaml\u001b[0m'\n",
      "\n",
      "lr0: 0.00284\n",
      "lrf: 0.01076\n",
      "momentum: 0.82954\n",
      "weight_decay: 0.00048\n",
      "warmup_epochs: 3.18861\n",
      "warmup_momentum: 0.91149\n",
      "box: 7.86059\n",
      "cls: 0.49189\n",
      "dfl: 1.21933\n",
      "hsv_h: 0.01978\n",
      "hsv_s: 0.4682\n",
      "hsv_v: 0.45379\n",
      "degrees: 0.0\n",
      "translate: 0.08853\n",
      "scale: 0.36779\n",
      "shear: 0.0\n",
      "perspective: 0.0\n",
      "flipud: 0.0\n",
      "fliplr: 0.2656\n",
      "bgr: 0.0\n",
      "mosaic: 0.69888\n",
      "mixup: 0.0\n",
      "copy_paste: 0.0\n",
      "\n",
      "\u001b[34m\u001b[1mTuner: \u001b[0mStarting iteration 67/300 with hyperparameters: {'lr0': 0.00276, 'lrf': 0.01076, 'momentum': 0.84501, 'weight_decay': 0.00048, 'warmup_epochs': 3.18861, 'warmup_momentum': 0.95, 'box': 6.87116, 'cls': 0.50832, 'dfl': 1.1334, 'hsv_h': 0.02086, 'hsv_s': 0.52763, 'hsv_v': 0.48757, 'degrees': 0.0, 'translate': 0.1115, 'scale': 0.37641, 'shear': 0.0, 'perspective': 0.0, 'flipud': 0.0, 'fliplr': 0.2656, 'bgr': 0.0, 'mosaic': 0.71793, 'mixup': 0.0, 'copy_paste': 0.0}\n"
     ]
    }
   ],
   "source": [
    "from ultralytics import YOLO\n",
    "\n",
    "# Carregar o modelo YOLO11 pré-treinado\n",
    "model = YOLO('yolo11n.pt')\n",
    "\n",
    "model.tune(data='C:\\\\Users\\\\píchau\\\\Documents\\\\TCC\\\\dataset_preprocessed.yaml', epochs=30, iterations=300, optimizer=\"AdamW\", plots=False, save=False, val=False)"
   ]
  },
  {
   "cell_type": "code",
   "execution_count": 2,
   "metadata": {},
   "outputs": [
    {
     "name": "stdout",
     "output_type": "stream",
     "text": [
      "New https://pypi.org/project/ultralytics/8.3.51 available  Update with 'pip install -U ultralytics'\n",
      "Ultralytics 8.3.15  Python-3.12.2 torch-2.5.0+cu118 CUDA:0 (NVIDIA GeForce RTX 4060, 8188MiB)\n",
      "\u001b[34m\u001b[1mengine\\trainer: \u001b[0mtask=detect, mode=train, model=yolo11n.pt, data=C:\\Users\\pchau\\Documents\\TCC\\dataset_preprocessed.yaml, epochs=1000, time=None, patience=100, batch=16, imgsz=640, save=True, save_period=-1, cache=False, device=None, workers=8, project=None, name=train, exist_ok=False, pretrained=True, optimizer=auto, verbose=True, seed=0, deterministic=True, single_cls=False, rect=False, cos_lr=False, close_mosaic=10, resume=False, amp=True, fraction=1.0, profile=False, freeze=None, multi_scale=False, overlap_mask=True, mask_ratio=4, dropout=0.0, val=True, split=val, save_json=False, save_hybrid=False, conf=None, iou=0.7, max_det=300, half=False, dnn=False, plots=True, source=None, vid_stride=1, stream_buffer=False, visualize=False, augment=False, agnostic_nms=False, classes=None, retina_masks=False, embed=None, show=False, save_frames=False, save_txt=False, save_conf=False, save_crop=False, show_labels=True, show_conf=True, show_boxes=True, line_width=None, format=torchscript, keras=False, optimize=False, int8=False, dynamic=False, simplify=True, opset=None, workspace=4, nms=False, lr0=0.01, lrf=0.01, momentum=0.937, weight_decay=0.0005, warmup_epochs=3.0, warmup_momentum=0.8, warmup_bias_lr=0.1, box=7.5, cls=0.5, dfl=1.5, pose=12.0, kobj=1.0, label_smoothing=0.0, nbs=64, hsv_h=0.015, hsv_s=0.7, hsv_v=0.4, degrees=0.0, translate=0.1, scale=0.5, shear=0.0, perspective=0.0, flipud=0.0, fliplr=0.5, bgr=0.0, mosaic=1.0, mixup=0.0, copy_paste=0.0, copy_paste_mode=flip, auto_augment=randaugment, erasing=0.4, crop_fraction=1.0, cfg=None, tracker=botsort.yaml, save_dir=runs\\detect\\train\n",
      "Overriding model.yaml nc=80 with nc=1\n",
      "\n",
      "                   from  n    params  module                                       arguments                     \n",
      "  0                  -1  1       464  ultralytics.nn.modules.conv.Conv             [3, 16, 3, 2]                 \n",
      "  1                  -1  1      4672  ultralytics.nn.modules.conv.Conv             [16, 32, 3, 2]                \n",
      "  2                  -1  1      6640  ultralytics.nn.modules.block.C3k2            [32, 64, 1, False, 0.25]      \n",
      "  3                  -1  1     36992  ultralytics.nn.modules.conv.Conv             [64, 64, 3, 2]                \n",
      "  4                  -1  1     26080  ultralytics.nn.modules.block.C3k2            [64, 128, 1, False, 0.25]     \n",
      "  5                  -1  1    147712  ultralytics.nn.modules.conv.Conv             [128, 128, 3, 2]              \n",
      "  6                  -1  1     87040  ultralytics.nn.modules.block.C3k2            [128, 128, 1, True]           \n",
      "  7                  -1  1    295424  ultralytics.nn.modules.conv.Conv             [128, 256, 3, 2]              \n",
      "  8                  -1  1    346112  ultralytics.nn.modules.block.C3k2            [256, 256, 1, True]           \n",
      "  9                  -1  1    164608  ultralytics.nn.modules.block.SPPF            [256, 256, 5]                 \n",
      " 10                  -1  1    249728  ultralytics.nn.modules.block.C2PSA           [256, 256, 1]                 \n",
      " 11                  -1  1         0  torch.nn.modules.upsampling.Upsample         [None, 2, 'nearest']          \n",
      " 12             [-1, 6]  1         0  ultralytics.nn.modules.conv.Concat           [1]                           \n",
      " 13                  -1  1    111296  ultralytics.nn.modules.block.C3k2            [384, 128, 1, False]          \n",
      " 14                  -1  1         0  torch.nn.modules.upsampling.Upsample         [None, 2, 'nearest']          \n",
      " 15             [-1, 4]  1         0  ultralytics.nn.modules.conv.Concat           [1]                           \n",
      " 16                  -1  1     32096  ultralytics.nn.modules.block.C3k2            [256, 64, 1, False]           \n",
      " 17                  -1  1     36992  ultralytics.nn.modules.conv.Conv             [64, 64, 3, 2]                \n",
      " 18            [-1, 13]  1         0  ultralytics.nn.modules.conv.Concat           [1]                           \n",
      " 19                  -1  1     86720  ultralytics.nn.modules.block.C3k2            [192, 128, 1, False]          \n",
      " 20                  -1  1    147712  ultralytics.nn.modules.conv.Conv             [128, 128, 3, 2]              \n",
      " 21            [-1, 10]  1         0  ultralytics.nn.modules.conv.Concat           [1]                           \n",
      " 22                  -1  1    378880  ultralytics.nn.modules.block.C3k2            [384, 256, 1, True]           \n",
      " 23        [16, 19, 22]  1    430867  ultralytics.nn.modules.head.Detect           [1, [64, 128, 256]]           \n",
      "YOLO11n summary: 319 layers, 2,590,035 parameters, 2,590,019 gradients, 6.4 GFLOPs\n",
      "\n",
      "Transferred 448/499 items from pretrained weights\n",
      "Freezing layer 'model.23.dfl.conv.weight'\n",
      "\u001b[34m\u001b[1mAMP: \u001b[0mrunning Automatic Mixed Precision (AMP) checks with YOLO11n...\n",
      "\u001b[34m\u001b[1mAMP: \u001b[0mchecks passed \n"
     ]
    },
    {
     "name": "stderr",
     "output_type": "stream",
     "text": [
      "\u001b[34m\u001b[1mtrain: \u001b[0mScanning C:\\Users\\píchau\\Documents\\TCC\\dataset\\labels\\train_preprocessed... 1170 images, 1 backgrounds, 0 corrupt: 100%|██████████| 1170/1170 [00:06<00:00, 188.81it/s]"
     ]
    },
    {
     "name": "stdout",
     "output_type": "stream",
     "text": [
      "\u001b[34m\u001b[1mtrain: \u001b[0mNew cache created: C:\\Users\\pchau\\Documents\\TCC\\dataset\\labels\\train_preprocessed.cache\n"
     ]
    },
    {
     "name": "stderr",
     "output_type": "stream",
     "text": [
      "\n",
      "\u001b[34m\u001b[1mval: \u001b[0mScanning C:\\Users\\píchau\\Documents\\TCC\\dataset\\labels\\val_preprocessed... 250 images, 0 backgrounds, 0 corrupt: 100%|██████████| 250/250 [00:01<00:00, 153.48it/s]\n"
     ]
    },
    {
     "name": "stdout",
     "output_type": "stream",
     "text": [
      "\u001b[34m\u001b[1mval: \u001b[0mNew cache created: C:\\Users\\pchau\\Documents\\TCC\\dataset\\labels\\val_preprocessed.cache\n",
      "Plotting labels to runs\\detect\\train\\labels.jpg... \n",
      "\u001b[34m\u001b[1moptimizer:\u001b[0m 'optimizer=auto' found, ignoring 'lr0=0.01' and 'momentum=0.937' and determining best 'optimizer', 'lr0' and 'momentum' automatically... \n",
      "\u001b[34m\u001b[1moptimizer:\u001b[0m SGD(lr=0.01, momentum=0.9) with parameter groups 81 weight(decay=0.0), 88 weight(decay=0.0005), 87 bias(decay=0.0)\n",
      "Image sizes 640 train, 640 val\n",
      "Using 8 dataloader workers\n",
      "Logging results to \u001b[1mruns\\detect\\train\u001b[0m\n",
      "Starting training for 1000 epochs...\n",
      "\n",
      "      Epoch    GPU_mem   box_loss   cls_loss   dfl_loss  Instances       Size\n"
     ]
    },
    {
     "name": "stderr",
     "output_type": "stream",
     "text": [
      "     1/1000      3.11G      1.781      2.349       1.56         78        640: 100%|██████████| 74/74 [00:12<00:00,  6.04it/s]\n",
      "                 Class     Images  Instances      Box(P          R      mAP50  mAP50-95): 100%|██████████| 8/8 [00:01<00:00,  4.43it/s]\n"
     ]
    },
    {
     "name": "stdout",
     "output_type": "stream",
     "text": [
      "                   all        250       2831      0.981      0.238      0.603       0.35\n",
      "\n",
      "      Epoch    GPU_mem   box_loss   cls_loss   dfl_loss  Instances       Size\n"
     ]
    },
    {
     "name": "stderr",
     "output_type": "stream",
     "text": [
      "     2/1000      3.27G      1.526      1.337      1.325         85        640: 100%|██████████| 74/74 [00:09<00:00,  7.78it/s]\n",
      "                 Class     Images  Instances      Box(P          R      mAP50  mAP50-95): 100%|██████████| 8/8 [00:01<00:00,  5.22it/s]\n"
     ]
    },
    {
     "name": "stdout",
     "output_type": "stream",
     "text": [
      "                   all        250       2831      0.826      0.733      0.837      0.474\n",
      "\n",
      "      Epoch    GPU_mem   box_loss   cls_loss   dfl_loss  Instances       Size\n"
     ]
    },
    {
     "name": "stderr",
     "output_type": "stream",
     "text": [
      "     3/1000      2.99G      1.469      1.235      1.263         23        640: 100%|██████████| 74/74 [00:12<00:00,  6.14it/s]\n",
      "                 Class     Images  Instances      Box(P          R      mAP50  mAP50-95): 100%|██████████| 8/8 [00:01<00:00,  4.71it/s]"
     ]
    },
    {
     "name": "stdout",
     "output_type": "stream",
     "text": [
      "                   all        250       2831      0.787      0.728      0.812       0.46\n"
     ]
    },
    {
     "name": "stderr",
     "output_type": "stream",
     "text": [
      "\n"
     ]
    },
    {
     "name": "stdout",
     "output_type": "stream",
     "text": [
      "\n",
      "      Epoch    GPU_mem   box_loss   cls_loss   dfl_loss  Instances       Size\n"
     ]
    },
    {
     "name": "stderr",
     "output_type": "stream",
     "text": [
      "     4/1000      3.13G      1.474      1.204      1.251         59        640: 100%|██████████| 74/74 [00:09<00:00,  7.87it/s]\n",
      "                 Class     Images  Instances      Box(P          R      mAP50  mAP50-95): 100%|██████████| 8/8 [00:01<00:00,  5.38it/s]\n"
     ]
    },
    {
     "name": "stdout",
     "output_type": "stream",
     "text": [
      "                   all        250       2831      0.828      0.705      0.803      0.438\n",
      "\n",
      "      Epoch    GPU_mem   box_loss   cls_loss   dfl_loss  Instances       Size\n"
     ]
    },
    {
     "name": "stderr",
     "output_type": "stream",
     "text": [
      "     5/1000      2.93G      1.419      1.113      1.226         20        640: 100%|██████████| 74/74 [00:09<00:00,  7.94it/s]\n",
      "                 Class     Images  Instances      Box(P          R      mAP50  mAP50-95): 100%|██████████| 8/8 [00:01<00:00,  4.76it/s]"
     ]
    },
    {
     "name": "stdout",
     "output_type": "stream",
     "text": [
      "                   all        250       2831      0.777      0.684      0.761      0.427\n"
     ]
    },
    {
     "name": "stderr",
     "output_type": "stream",
     "text": [
      "\n"
     ]
    },
    {
     "name": "stdout",
     "output_type": "stream",
     "text": [
      "\n",
      "      Epoch    GPU_mem   box_loss   cls_loss   dfl_loss  Instances       Size\n"
     ]
    },
    {
     "name": "stderr",
     "output_type": "stream",
     "text": [
      "     6/1000      2.93G      1.417      1.082      1.215         62        640: 100%|██████████| 74/74 [00:09<00:00,  7.71it/s]\n",
      "                 Class     Images  Instances      Box(P          R      mAP50  mAP50-95): 100%|██████████| 8/8 [00:01<00:00,  5.82it/s]\n"
     ]
    },
    {
     "name": "stdout",
     "output_type": "stream",
     "text": [
      "                   all        250       2831      0.813      0.738       0.83      0.517\n",
      "\n",
      "      Epoch    GPU_mem   box_loss   cls_loss   dfl_loss  Instances       Size\n"
     ]
    },
    {
     "name": "stderr",
     "output_type": "stream",
     "text": [
      "     7/1000      2.95G      1.385      1.034      1.204         27        640: 100%|██████████| 74/74 [00:09<00:00,  7.89it/s]\n",
      "                 Class     Images  Instances      Box(P          R      mAP50  mAP50-95): 100%|██████████| 8/8 [00:01<00:00,  5.85it/s]"
     ]
    },
    {
     "name": "stdout",
     "output_type": "stream",
     "text": [
      "                   all        250       2831      0.772      0.702      0.779      0.415\n"
     ]
    },
    {
     "name": "stderr",
     "output_type": "stream",
     "text": [
      "\n"
     ]
    },
    {
     "name": "stdout",
     "output_type": "stream",
     "text": [
      "\n",
      "      Epoch    GPU_mem   box_loss   cls_loss   dfl_loss  Instances       Size\n"
     ]
    },
    {
     "name": "stderr",
     "output_type": "stream",
     "text": [
      "     8/1000      2.82G      1.389      1.035      1.203         16        640: 100%|██████████| 74/74 [00:09<00:00,  7.82it/s]\n",
      "                 Class     Images  Instances      Box(P          R      mAP50  mAP50-95): 100%|██████████| 8/8 [00:01<00:00,  5.82it/s]\n"
     ]
    },
    {
     "name": "stdout",
     "output_type": "stream",
     "text": [
      "                   all        250       2831      0.853      0.791      0.887      0.547\n",
      "\n",
      "      Epoch    GPU_mem   box_loss   cls_loss   dfl_loss  Instances       Size\n"
     ]
    },
    {
     "name": "stderr",
     "output_type": "stream",
     "text": [
      "     9/1000      2.91G      1.377      1.001      1.197         21        640: 100%|██████████| 74/74 [00:10<00:00,  7.24it/s]\n",
      "                 Class     Images  Instances      Box(P          R      mAP50  mAP50-95): 100%|██████████| 8/8 [00:01<00:00,  5.40it/s]\n"
     ]
    },
    {
     "name": "stdout",
     "output_type": "stream",
     "text": [
      "                   all        250       2831      0.842      0.787      0.876      0.545\n",
      "\n",
      "      Epoch    GPU_mem   box_loss   cls_loss   dfl_loss  Instances       Size\n"
     ]
    },
    {
     "name": "stderr",
     "output_type": "stream",
     "text": [
      "    10/1000      3.01G      1.376     0.9864      1.196         15        640: 100%|██████████| 74/74 [00:09<00:00,  7.43it/s]\n",
      "                 Class     Images  Instances      Box(P          R      mAP50  mAP50-95): 100%|██████████| 8/8 [00:01<00:00,  5.30it/s]\n"
     ]
    },
    {
     "name": "stdout",
     "output_type": "stream",
     "text": [
      "                   all        250       2831      0.832      0.748      0.851      0.527\n",
      "\n",
      "      Epoch    GPU_mem   box_loss   cls_loss   dfl_loss  Instances       Size\n"
     ]
    },
    {
     "name": "stderr",
     "output_type": "stream",
     "text": [
      "    11/1000      3.11G      1.356     0.9701      1.188         33        640: 100%|██████████| 74/74 [00:10<00:00,  7.38it/s]\n",
      "                 Class     Images  Instances      Box(P          R      mAP50  mAP50-95): 100%|██████████| 8/8 [00:01<00:00,  6.23it/s]\n"
     ]
    },
    {
     "name": "stdout",
     "output_type": "stream",
     "text": [
      "                   all        250       2831      0.836      0.758      0.855       0.53\n",
      "\n",
      "      Epoch    GPU_mem   box_loss   cls_loss   dfl_loss  Instances       Size\n"
     ]
    },
    {
     "name": "stderr",
     "output_type": "stream",
     "text": [
      "    12/1000      2.82G      1.348     0.9469      1.183         53        640: 100%|██████████| 74/74 [00:09<00:00,  7.83it/s]\n",
      "                 Class     Images  Instances      Box(P          R      mAP50  mAP50-95): 100%|██████████| 8/8 [00:01<00:00,  5.61it/s]\n"
     ]
    },
    {
     "name": "stdout",
     "output_type": "stream",
     "text": [
      "                   all        250       2831      0.829      0.743      0.837      0.497\n",
      "\n",
      "      Epoch    GPU_mem   box_loss   cls_loss   dfl_loss  Instances       Size\n"
     ]
    },
    {
     "name": "stderr",
     "output_type": "stream",
     "text": [
      "    13/1000      2.93G      1.338     0.9267      1.184         24        640: 100%|██████████| 74/74 [00:10<00:00,  7.11it/s]\n",
      "                 Class     Images  Instances      Box(P          R      mAP50  mAP50-95): 100%|██████████| 8/8 [00:01<00:00,  5.69it/s]\n"
     ]
    },
    {
     "name": "stdout",
     "output_type": "stream",
     "text": [
      "                   all        250       2831       0.83      0.764      0.848      0.539\n",
      "\n",
      "      Epoch    GPU_mem   box_loss   cls_loss   dfl_loss  Instances       Size\n"
     ]
    },
    {
     "name": "stderr",
     "output_type": "stream",
     "text": [
      "    14/1000      2.77G      1.339     0.9371      1.185         15        640: 100%|██████████| 74/74 [00:10<00:00,  7.05it/s]\n",
      "                 Class     Images  Instances      Box(P          R      mAP50  mAP50-95): 100%|██████████| 8/8 [00:01<00:00,  5.66it/s]\n"
     ]
    },
    {
     "name": "stdout",
     "output_type": "stream",
     "text": [
      "                   all        250       2831      0.821      0.808      0.882      0.555\n",
      "\n",
      "      Epoch    GPU_mem   box_loss   cls_loss   dfl_loss  Instances       Size\n"
     ]
    },
    {
     "name": "stderr",
     "output_type": "stream",
     "text": [
      "    15/1000      3.02G      1.336     0.9184      1.182         20        640: 100%|██████████| 74/74 [00:09<00:00,  7.72it/s]\n",
      "                 Class     Images  Instances      Box(P          R      mAP50  mAP50-95): 100%|██████████| 8/8 [00:01<00:00,  6.11it/s]\n"
     ]
    },
    {
     "name": "stdout",
     "output_type": "stream",
     "text": [
      "                   all        250       2831      0.873      0.808      0.902      0.579\n",
      "\n",
      "      Epoch    GPU_mem   box_loss   cls_loss   dfl_loss  Instances       Size\n"
     ]
    },
    {
     "name": "stderr",
     "output_type": "stream",
     "text": [
      "    16/1000      3.16G      1.332     0.8982      1.177         28        640: 100%|██████████| 74/74 [00:09<00:00,  7.86it/s]\n",
      "                 Class     Images  Instances      Box(P          R      mAP50  mAP50-95): 100%|██████████| 8/8 [00:01<00:00,  5.99it/s]"
     ]
    },
    {
     "name": "stdout",
     "output_type": "stream",
     "text": [
      "                   all        250       2831      0.847      0.769      0.872      0.551\n"
     ]
    },
    {
     "name": "stderr",
     "output_type": "stream",
     "text": [
      "\n"
     ]
    },
    {
     "name": "stdout",
     "output_type": "stream",
     "text": [
      "\n",
      "      Epoch    GPU_mem   box_loss   cls_loss   dfl_loss  Instances       Size\n"
     ]
    },
    {
     "name": "stderr",
     "output_type": "stream",
     "text": [
      "    17/1000      3.13G      1.312     0.8779      1.172         30        640: 100%|██████████| 74/74 [00:09<00:00,  7.87it/s]\n",
      "                 Class     Images  Instances      Box(P          R      mAP50  mAP50-95): 100%|██████████| 8/8 [00:01<00:00,  5.74it/s]"
     ]
    },
    {
     "name": "stdout",
     "output_type": "stream",
     "text": [
      "                   all        250       2831      0.845      0.796      0.888      0.557\n"
     ]
    },
    {
     "name": "stderr",
     "output_type": "stream",
     "text": [
      "\n"
     ]
    },
    {
     "name": "stdout",
     "output_type": "stream",
     "text": [
      "\n",
      "      Epoch    GPU_mem   box_loss   cls_loss   dfl_loss  Instances       Size\n"
     ]
    },
    {
     "name": "stderr",
     "output_type": "stream",
     "text": [
      "    18/1000      2.72G      1.323     0.8844      1.174         21        640: 100%|██████████| 74/74 [00:09<00:00,  7.45it/s]\n",
      "                 Class     Images  Instances      Box(P          R      mAP50  mAP50-95): 100%|██████████| 8/8 [00:01<00:00,  6.17it/s]"
     ]
    },
    {
     "name": "stdout",
     "output_type": "stream",
     "text": [
      "                   all        250       2831      0.883      0.738       0.84      0.535\n"
     ]
    },
    {
     "name": "stderr",
     "output_type": "stream",
     "text": [
      "\n"
     ]
    },
    {
     "name": "stdout",
     "output_type": "stream",
     "text": [
      "\n",
      "      Epoch    GPU_mem   box_loss   cls_loss   dfl_loss  Instances       Size\n"
     ]
    },
    {
     "name": "stderr",
     "output_type": "stream",
     "text": [
      "    19/1000       2.8G      1.308     0.8669      1.168         30        640: 100%|██████████| 74/74 [00:09<00:00,  7.67it/s]\n",
      "                 Class     Images  Instances      Box(P          R      mAP50  mAP50-95): 100%|██████████| 8/8 [00:01<00:00,  6.05it/s]"
     ]
    },
    {
     "name": "stdout",
     "output_type": "stream",
     "text": [
      "                   all        250       2831      0.867      0.811      0.908       0.58\n"
     ]
    },
    {
     "name": "stderr",
     "output_type": "stream",
     "text": [
      "\n"
     ]
    },
    {
     "name": "stdout",
     "output_type": "stream",
     "text": [
      "\n",
      "      Epoch    GPU_mem   box_loss   cls_loss   dfl_loss  Instances       Size\n"
     ]
    },
    {
     "name": "stderr",
     "output_type": "stream",
     "text": [
      "    20/1000      2.92G      1.316     0.8796       1.18         28        640: 100%|██████████| 74/74 [00:09<00:00,  7.95it/s]\n",
      "                 Class     Images  Instances      Box(P          R      mAP50  mAP50-95): 100%|██████████| 8/8 [00:01<00:00,  5.90it/s]"
     ]
    },
    {
     "name": "stdout",
     "output_type": "stream",
     "text": [
      "                   all        250       2831      0.872      0.809      0.908      0.584\n"
     ]
    },
    {
     "name": "stderr",
     "output_type": "stream",
     "text": [
      "\n"
     ]
    },
    {
     "name": "stdout",
     "output_type": "stream",
     "text": [
      "\n",
      "      Epoch    GPU_mem   box_loss   cls_loss   dfl_loss  Instances       Size\n"
     ]
    },
    {
     "name": "stderr",
     "output_type": "stream",
     "text": [
      "    21/1000      3.02G      1.312     0.8618      1.171         52        640: 100%|██████████| 74/74 [00:09<00:00,  7.90it/s]\n",
      "                 Class     Images  Instances      Box(P          R      mAP50  mAP50-95): 100%|██████████| 8/8 [00:01<00:00,  6.15it/s]"
     ]
    },
    {
     "name": "stdout",
     "output_type": "stream",
     "text": [
      "                   all        250       2831      0.862      0.788      0.886      0.561\n"
     ]
    },
    {
     "name": "stderr",
     "output_type": "stream",
     "text": [
      "\n"
     ]
    },
    {
     "name": "stdout",
     "output_type": "stream",
     "text": [
      "\n",
      "      Epoch    GPU_mem   box_loss   cls_loss   dfl_loss  Instances       Size\n"
     ]
    },
    {
     "name": "stderr",
     "output_type": "stream",
     "text": [
      "    22/1000      2.84G      1.302     0.8554      1.158         61        640: 100%|██████████| 74/74 [00:09<00:00,  7.75it/s]\n",
      "                 Class     Images  Instances      Box(P          R      mAP50  mAP50-95): 100%|██████████| 8/8 [00:01<00:00,  6.12it/s]"
     ]
    },
    {
     "name": "stdout",
     "output_type": "stream",
     "text": [
      "                   all        250       2831      0.862      0.812        0.9      0.585\n"
     ]
    },
    {
     "name": "stderr",
     "output_type": "stream",
     "text": [
      "\n"
     ]
    },
    {
     "name": "stdout",
     "output_type": "stream",
     "text": [
      "\n",
      "      Epoch    GPU_mem   box_loss   cls_loss   dfl_loss  Instances       Size\n"
     ]
    },
    {
     "name": "stderr",
     "output_type": "stream",
     "text": [
      "    23/1000       3.3G      1.299     0.8384      1.163         39        640: 100%|██████████| 74/74 [00:09<00:00,  7.86it/s]\n",
      "                 Class     Images  Instances      Box(P          R      mAP50  mAP50-95): 100%|██████████| 8/8 [00:01<00:00,  6.19it/s]\n"
     ]
    },
    {
     "name": "stdout",
     "output_type": "stream",
     "text": [
      "                   all        250       2831      0.857      0.815      0.904      0.579\n",
      "\n",
      "      Epoch    GPU_mem   box_loss   cls_loss   dfl_loss  Instances       Size\n"
     ]
    },
    {
     "name": "stderr",
     "output_type": "stream",
     "text": [
      "    24/1000      2.83G      1.301     0.8488      1.166         41        640: 100%|██████████| 74/74 [00:09<00:00,  7.81it/s]\n",
      "                 Class     Images  Instances      Box(P          R      mAP50  mAP50-95): 100%|██████████| 8/8 [00:01<00:00,  5.98it/s]"
     ]
    },
    {
     "name": "stdout",
     "output_type": "stream",
     "text": [
      "                   all        250       2831      0.882       0.81       0.91      0.585\n"
     ]
    },
    {
     "name": "stderr",
     "output_type": "stream",
     "text": [
      "\n"
     ]
    },
    {
     "name": "stdout",
     "output_type": "stream",
     "text": [
      "\n",
      "      Epoch    GPU_mem   box_loss   cls_loss   dfl_loss  Instances       Size\n"
     ]
    },
    {
     "name": "stderr",
     "output_type": "stream",
     "text": [
      "    25/1000      2.79G      1.285     0.8326      1.161         26        640: 100%|██████████| 74/74 [00:09<00:00,  7.95it/s]\n",
      "                 Class     Images  Instances      Box(P          R      mAP50  mAP50-95): 100%|██████████| 8/8 [00:01<00:00,  6.14it/s]\n"
     ]
    },
    {
     "name": "stdout",
     "output_type": "stream",
     "text": [
      "                   all        250       2831      0.854       0.82      0.893      0.574\n",
      "\n",
      "      Epoch    GPU_mem   box_loss   cls_loss   dfl_loss  Instances       Size\n"
     ]
    },
    {
     "name": "stderr",
     "output_type": "stream",
     "text": [
      "    26/1000      2.84G      1.294     0.8306      1.162         38        640: 100%|██████████| 74/74 [00:09<00:00,  7.57it/s]\n",
      "                 Class     Images  Instances      Box(P          R      mAP50  mAP50-95): 100%|██████████| 8/8 [00:01<00:00,  5.91it/s]"
     ]
    },
    {
     "name": "stdout",
     "output_type": "stream",
     "text": [
      "                   all        250       2831      0.874      0.789      0.893      0.554\n"
     ]
    },
    {
     "name": "stderr",
     "output_type": "stream",
     "text": [
      "\n"
     ]
    },
    {
     "name": "stdout",
     "output_type": "stream",
     "text": [
      "\n",
      "      Epoch    GPU_mem   box_loss   cls_loss   dfl_loss  Instances       Size\n"
     ]
    },
    {
     "name": "stderr",
     "output_type": "stream",
     "text": [
      "    27/1000      2.84G      1.284     0.8339      1.152         34        640: 100%|██████████| 74/74 [00:09<00:00,  7.85it/s]\n",
      "                 Class     Images  Instances      Box(P          R      mAP50  mAP50-95): 100%|██████████| 8/8 [00:01<00:00,  6.15it/s]"
     ]
    },
    {
     "name": "stdout",
     "output_type": "stream",
     "text": [
      "                   all        250       2831      0.871      0.812       0.91      0.593\n"
     ]
    },
    {
     "name": "stderr",
     "output_type": "stream",
     "text": [
      "\n"
     ]
    },
    {
     "name": "stdout",
     "output_type": "stream",
     "text": [
      "\n",
      "      Epoch    GPU_mem   box_loss   cls_loss   dfl_loss  Instances       Size\n"
     ]
    },
    {
     "name": "stderr",
     "output_type": "stream",
     "text": [
      "    28/1000      2.73G      1.288     0.8235      1.159         16        640: 100%|██████████| 74/74 [00:09<00:00,  7.87it/s]\n",
      "                 Class     Images  Instances      Box(P          R      mAP50  mAP50-95): 100%|██████████| 8/8 [00:01<00:00,  6.15it/s]"
     ]
    },
    {
     "name": "stdout",
     "output_type": "stream",
     "text": [
      "                   all        250       2831      0.867      0.841      0.921      0.597\n"
     ]
    },
    {
     "name": "stderr",
     "output_type": "stream",
     "text": [
      "\n"
     ]
    },
    {
     "name": "stdout",
     "output_type": "stream",
     "text": [
      "\n",
      "      Epoch    GPU_mem   box_loss   cls_loss   dfl_loss  Instances       Size\n"
     ]
    },
    {
     "name": "stderr",
     "output_type": "stream",
     "text": [
      "    29/1000      3.25G      1.263     0.8191      1.151         39        640: 100%|██████████| 74/74 [00:09<00:00,  7.85it/s]\n",
      "                 Class     Images  Instances      Box(P          R      mAP50  mAP50-95): 100%|██████████| 8/8 [00:01<00:00,  6.38it/s]"
     ]
    },
    {
     "name": "stdout",
     "output_type": "stream",
     "text": [
      "                   all        250       2831       0.88      0.841      0.926      0.599\n"
     ]
    },
    {
     "name": "stderr",
     "output_type": "stream",
     "text": [
      "\n"
     ]
    },
    {
     "name": "stdout",
     "output_type": "stream",
     "text": [
      "\n",
      "      Epoch    GPU_mem   box_loss   cls_loss   dfl_loss  Instances       Size\n"
     ]
    },
    {
     "name": "stderr",
     "output_type": "stream",
     "text": [
      "    30/1000       3.4G      1.283     0.8174      1.147         49        640: 100%|██████████| 74/74 [00:09<00:00,  7.72it/s]\n",
      "                 Class     Images  Instances      Box(P          R      mAP50  mAP50-95): 100%|██████████| 8/8 [00:01<00:00,  6.20it/s]"
     ]
    },
    {
     "name": "stdout",
     "output_type": "stream",
     "text": [
      "                   all        250       2831      0.872      0.835       0.92      0.596\n"
     ]
    },
    {
     "name": "stderr",
     "output_type": "stream",
     "text": [
      "\n"
     ]
    },
    {
     "name": "stdout",
     "output_type": "stream",
     "text": [
      "\n",
      "      Epoch    GPU_mem   box_loss   cls_loss   dfl_loss  Instances       Size\n"
     ]
    },
    {
     "name": "stderr",
     "output_type": "stream",
     "text": [
      "    31/1000      3.04G      1.282     0.8112      1.159         14        640: 100%|██████████| 74/74 [00:09<00:00,  7.87it/s]\n",
      "                 Class     Images  Instances      Box(P          R      mAP50  mAP50-95): 100%|██████████| 8/8 [00:01<00:00,  6.17it/s]"
     ]
    },
    {
     "name": "stdout",
     "output_type": "stream",
     "text": [
      "                   all        250       2831      0.881      0.813      0.907       0.58\n"
     ]
    },
    {
     "name": "stderr",
     "output_type": "stream",
     "text": [
      "\n"
     ]
    },
    {
     "name": "stdout",
     "output_type": "stream",
     "text": [
      "\n",
      "      Epoch    GPU_mem   box_loss   cls_loss   dfl_loss  Instances       Size\n"
     ]
    },
    {
     "name": "stderr",
     "output_type": "stream",
     "text": [
      "    32/1000      2.78G      1.267     0.8092      1.151         23        640: 100%|██████████| 74/74 [00:09<00:00,  7.93it/s]\n",
      "                 Class     Images  Instances      Box(P          R      mAP50  mAP50-95): 100%|██████████| 8/8 [00:01<00:00,  6.06it/s]"
     ]
    },
    {
     "name": "stdout",
     "output_type": "stream",
     "text": [
      "                   all        250       2831      0.869      0.817      0.906      0.593\n"
     ]
    },
    {
     "name": "stderr",
     "output_type": "stream",
     "text": [
      "\n"
     ]
    },
    {
     "name": "stdout",
     "output_type": "stream",
     "text": [
      "\n",
      "      Epoch    GPU_mem   box_loss   cls_loss   dfl_loss  Instances       Size\n"
     ]
    },
    {
     "name": "stderr",
     "output_type": "stream",
     "text": [
      "    33/1000      3.01G      1.269     0.8047      1.142         24        640: 100%|██████████| 74/74 [00:09<00:00,  7.91it/s]\n",
      "                 Class     Images  Instances      Box(P          R      mAP50  mAP50-95): 100%|██████████| 8/8 [00:01<00:00,  6.18it/s]"
     ]
    },
    {
     "name": "stdout",
     "output_type": "stream",
     "text": [
      "                   all        250       2831      0.856       0.83      0.913      0.602\n"
     ]
    },
    {
     "name": "stderr",
     "output_type": "stream",
     "text": [
      "\n"
     ]
    },
    {
     "name": "stdout",
     "output_type": "stream",
     "text": [
      "\n",
      "      Epoch    GPU_mem   box_loss   cls_loss   dfl_loss  Instances       Size\n"
     ]
    },
    {
     "name": "stderr",
     "output_type": "stream",
     "text": [
      "    34/1000      2.75G      1.261     0.7936      1.143         43        640: 100%|██████████| 74/74 [00:09<00:00,  7.45it/s]\n",
      "                 Class     Images  Instances      Box(P          R      mAP50  mAP50-95): 100%|██████████| 8/8 [00:01<00:00,  5.72it/s]"
     ]
    },
    {
     "name": "stdout",
     "output_type": "stream",
     "text": [
      "                   all        250       2831      0.865      0.826      0.915      0.597\n"
     ]
    },
    {
     "name": "stderr",
     "output_type": "stream",
     "text": [
      "\n"
     ]
    },
    {
     "name": "stdout",
     "output_type": "stream",
     "text": [
      "\n",
      "      Epoch    GPU_mem   box_loss   cls_loss   dfl_loss  Instances       Size\n"
     ]
    },
    {
     "name": "stderr",
     "output_type": "stream",
     "text": [
      "    35/1000      2.76G      1.259     0.7903      1.139         27        640: 100%|██████████| 74/74 [00:10<00:00,  7.13it/s]\n",
      "                 Class     Images  Instances      Box(P          R      mAP50  mAP50-95): 100%|██████████| 8/8 [00:01<00:00,  5.84it/s]\n"
     ]
    },
    {
     "name": "stdout",
     "output_type": "stream",
     "text": [
      "                   all        250       2831      0.868      0.833      0.919       0.61\n",
      "\n",
      "      Epoch    GPU_mem   box_loss   cls_loss   dfl_loss  Instances       Size\n"
     ]
    },
    {
     "name": "stderr",
     "output_type": "stream",
     "text": [
      "    36/1000      2.86G      1.266     0.7875       1.14         24        640: 100%|██████████| 74/74 [00:09<00:00,  7.44it/s]\n",
      "                 Class     Images  Instances      Box(P          R      mAP50  mAP50-95): 100%|██████████| 8/8 [00:01<00:00,  6.15it/s]"
     ]
    },
    {
     "name": "stdout",
     "output_type": "stream",
     "text": [
      "                   all        250       2831      0.883      0.828      0.913      0.601\n"
     ]
    },
    {
     "name": "stderr",
     "output_type": "stream",
     "text": [
      "\n"
     ]
    },
    {
     "name": "stdout",
     "output_type": "stream",
     "text": [
      "\n",
      "      Epoch    GPU_mem   box_loss   cls_loss   dfl_loss  Instances       Size\n"
     ]
    },
    {
     "name": "stderr",
     "output_type": "stream",
     "text": [
      "    37/1000      2.95G       1.26     0.7889      1.143          8        640: 100%|██████████| 74/74 [00:09<00:00,  7.92it/s]\n",
      "                 Class     Images  Instances      Box(P          R      mAP50  mAP50-95): 100%|██████████| 8/8 [00:01<00:00,  6.32it/s]"
     ]
    },
    {
     "name": "stdout",
     "output_type": "stream",
     "text": [
      "                   all        250       2831      0.876      0.848      0.924        0.6\n"
     ]
    },
    {
     "name": "stderr",
     "output_type": "stream",
     "text": [
      "\n"
     ]
    },
    {
     "name": "stdout",
     "output_type": "stream",
     "text": [
      "\n",
      "      Epoch    GPU_mem   box_loss   cls_loss   dfl_loss  Instances       Size\n"
     ]
    },
    {
     "name": "stderr",
     "output_type": "stream",
     "text": [
      "    38/1000      3.12G      1.254     0.7953      1.144          7        640: 100%|██████████| 74/74 [00:09<00:00,  7.90it/s]\n",
      "                 Class     Images  Instances      Box(P          R      mAP50  mAP50-95): 100%|██████████| 8/8 [00:01<00:00,  6.11it/s]"
     ]
    },
    {
     "name": "stdout",
     "output_type": "stream",
     "text": [
      "                   all        250       2831      0.869      0.812       0.91      0.597\n"
     ]
    },
    {
     "name": "stderr",
     "output_type": "stream",
     "text": [
      "\n"
     ]
    },
    {
     "name": "stdout",
     "output_type": "stream",
     "text": [
      "\n",
      "      Epoch    GPU_mem   box_loss   cls_loss   dfl_loss  Instances       Size\n"
     ]
    },
    {
     "name": "stderr",
     "output_type": "stream",
     "text": [
      "    39/1000      3.07G      1.263     0.7857      1.144         65        640: 100%|██████████| 74/74 [00:09<00:00,  7.92it/s]\n",
      "                 Class     Images  Instances      Box(P          R      mAP50  mAP50-95): 100%|██████████| 8/8 [00:01<00:00,  6.11it/s]\n"
     ]
    },
    {
     "name": "stdout",
     "output_type": "stream",
     "text": [
      "                   all        250       2831      0.891       0.83      0.924      0.608\n",
      "\n",
      "      Epoch    GPU_mem   box_loss   cls_loss   dfl_loss  Instances       Size\n"
     ]
    },
    {
     "name": "stderr",
     "output_type": "stream",
     "text": [
      "    40/1000      2.93G      1.238     0.7738      1.135         38        640: 100%|██████████| 74/74 [00:09<00:00,  7.87it/s]\n",
      "                 Class     Images  Instances      Box(P          R      mAP50  mAP50-95): 100%|██████████| 8/8 [00:01<00:00,  6.34it/s]"
     ]
    },
    {
     "name": "stdout",
     "output_type": "stream",
     "text": [
      "                   all        250       2831      0.874      0.827      0.916      0.589\n"
     ]
    },
    {
     "name": "stderr",
     "output_type": "stream",
     "text": [
      "\n"
     ]
    },
    {
     "name": "stdout",
     "output_type": "stream",
     "text": [
      "\n",
      "      Epoch    GPU_mem   box_loss   cls_loss   dfl_loss  Instances       Size\n"
     ]
    },
    {
     "name": "stderr",
     "output_type": "stream",
     "text": [
      "    41/1000      2.92G      1.255     0.7723      1.135         51        640: 100%|██████████| 74/74 [00:09<00:00,  7.94it/s]\n",
      "                 Class     Images  Instances      Box(P          R      mAP50  mAP50-95): 100%|██████████| 8/8 [00:01<00:00,  6.16it/s]"
     ]
    },
    {
     "name": "stdout",
     "output_type": "stream",
     "text": [
      "                   all        250       2831      0.881      0.829      0.922      0.614\n"
     ]
    },
    {
     "name": "stderr",
     "output_type": "stream",
     "text": [
      "\n"
     ]
    },
    {
     "name": "stdout",
     "output_type": "stream",
     "text": [
      "\n",
      "      Epoch    GPU_mem   box_loss   cls_loss   dfl_loss  Instances       Size\n"
     ]
    },
    {
     "name": "stderr",
     "output_type": "stream",
     "text": [
      "    42/1000      3.07G      1.239     0.7751      1.127         24        640: 100%|██████████| 74/74 [00:09<00:00,  7.86it/s]\n",
      "                 Class     Images  Instances      Box(P          R      mAP50  mAP50-95): 100%|██████████| 8/8 [00:01<00:00,  6.36it/s]"
     ]
    },
    {
     "name": "stdout",
     "output_type": "stream",
     "text": [
      "                   all        250       2831      0.879      0.813      0.907      0.574\n"
     ]
    },
    {
     "name": "stderr",
     "output_type": "stream",
     "text": [
      "\n"
     ]
    },
    {
     "name": "stdout",
     "output_type": "stream",
     "text": [
      "\n",
      "      Epoch    GPU_mem   box_loss   cls_loss   dfl_loss  Instances       Size\n"
     ]
    },
    {
     "name": "stderr",
     "output_type": "stream",
     "text": [
      "    43/1000      2.74G      1.256     0.7683      1.143         31        640: 100%|██████████| 74/74 [00:09<00:00,  7.71it/s]\n",
      "                 Class     Images  Instances      Box(P          R      mAP50  mAP50-95): 100%|██████████| 8/8 [00:01<00:00,  6.36it/s]"
     ]
    },
    {
     "name": "stdout",
     "output_type": "stream",
     "text": [
      "                   all        250       2831      0.885      0.833      0.923      0.612\n"
     ]
    },
    {
     "name": "stderr",
     "output_type": "stream",
     "text": [
      "\n"
     ]
    },
    {
     "name": "stdout",
     "output_type": "stream",
     "text": [
      "\n",
      "      Epoch    GPU_mem   box_loss   cls_loss   dfl_loss  Instances       Size\n"
     ]
    },
    {
     "name": "stderr",
     "output_type": "stream",
     "text": [
      "    44/1000      2.79G      1.248     0.7703      1.129         42        640: 100%|██████████| 74/74 [00:09<00:00,  7.85it/s]\n",
      "                 Class     Images  Instances      Box(P          R      mAP50  mAP50-95): 100%|██████████| 8/8 [00:01<00:00,  6.07it/s]"
     ]
    },
    {
     "name": "stdout",
     "output_type": "stream",
     "text": [
      "                   all        250       2831       0.89      0.831      0.922      0.605\n"
     ]
    },
    {
     "name": "stderr",
     "output_type": "stream",
     "text": [
      "\n"
     ]
    },
    {
     "name": "stdout",
     "output_type": "stream",
     "text": [
      "\n",
      "      Epoch    GPU_mem   box_loss   cls_loss   dfl_loss  Instances       Size\n"
     ]
    },
    {
     "name": "stderr",
     "output_type": "stream",
     "text": [
      "    45/1000      2.86G      1.249     0.7612      1.139         59        640: 100%|██████████| 74/74 [00:09<00:00,  7.80it/s]\n",
      "                 Class     Images  Instances      Box(P          R      mAP50  mAP50-95): 100%|██████████| 8/8 [00:01<00:00,  5.91it/s]"
     ]
    },
    {
     "name": "stdout",
     "output_type": "stream",
     "text": [
      "                   all        250       2831      0.877       0.81      0.911      0.604\n"
     ]
    },
    {
     "name": "stderr",
     "output_type": "stream",
     "text": [
      "\n"
     ]
    },
    {
     "name": "stdout",
     "output_type": "stream",
     "text": [
      "\n",
      "      Epoch    GPU_mem   box_loss   cls_loss   dfl_loss  Instances       Size\n"
     ]
    },
    {
     "name": "stderr",
     "output_type": "stream",
     "text": [
      "    46/1000      3.15G      1.236     0.7568       1.13         45        640: 100%|██████████| 74/74 [00:09<00:00,  7.81it/s]\n",
      "                 Class     Images  Instances      Box(P          R      mAP50  mAP50-95): 100%|██████████| 8/8 [00:01<00:00,  6.15it/s]"
     ]
    },
    {
     "name": "stdout",
     "output_type": "stream",
     "text": [
      "                   all        250       2831      0.888      0.836      0.923       0.61\n"
     ]
    },
    {
     "name": "stderr",
     "output_type": "stream",
     "text": [
      "\n"
     ]
    },
    {
     "name": "stdout",
     "output_type": "stream",
     "text": [
      "\n",
      "      Epoch    GPU_mem   box_loss   cls_loss   dfl_loss  Instances       Size\n"
     ]
    },
    {
     "name": "stderr",
     "output_type": "stream",
     "text": [
      "    47/1000      2.72G       1.23     0.7524      1.128         21        640: 100%|██████████| 74/74 [00:09<00:00,  7.89it/s]\n",
      "                 Class     Images  Instances      Box(P          R      mAP50  mAP50-95): 100%|██████████| 8/8 [00:01<00:00,  6.28it/s]"
     ]
    },
    {
     "name": "stdout",
     "output_type": "stream",
     "text": [
      "                   all        250       2831      0.883      0.837      0.917      0.601\n"
     ]
    },
    {
     "name": "stderr",
     "output_type": "stream",
     "text": [
      "\n"
     ]
    },
    {
     "name": "stdout",
     "output_type": "stream",
     "text": [
      "\n",
      "      Epoch    GPU_mem   box_loss   cls_loss   dfl_loss  Instances       Size\n"
     ]
    },
    {
     "name": "stderr",
     "output_type": "stream",
     "text": [
      "    48/1000      2.88G      1.228     0.7539      1.133         13        640: 100%|██████████| 74/74 [00:09<00:00,  7.91it/s]\n",
      "                 Class     Images  Instances      Box(P          R      mAP50  mAP50-95): 100%|██████████| 8/8 [00:01<00:00,  6.24it/s]"
     ]
    },
    {
     "name": "stdout",
     "output_type": "stream",
     "text": [
      "                   all        250       2831      0.892      0.815      0.916        0.6\n"
     ]
    },
    {
     "name": "stderr",
     "output_type": "stream",
     "text": [
      "\n"
     ]
    },
    {
     "name": "stdout",
     "output_type": "stream",
     "text": [
      "\n",
      "      Epoch    GPU_mem   box_loss   cls_loss   dfl_loss  Instances       Size\n"
     ]
    },
    {
     "name": "stderr",
     "output_type": "stream",
     "text": [
      "    49/1000       2.8G      1.242     0.7596      1.133         17        640: 100%|██████████| 74/74 [00:09<00:00,  7.91it/s]\n",
      "                 Class     Images  Instances      Box(P          R      mAP50  mAP50-95): 100%|██████████| 8/8 [00:01<00:00,  6.27it/s]"
     ]
    },
    {
     "name": "stdout",
     "output_type": "stream",
     "text": [
      "                   all        250       2831      0.906      0.838      0.927      0.616\n"
     ]
    },
    {
     "name": "stderr",
     "output_type": "stream",
     "text": [
      "\n"
     ]
    },
    {
     "name": "stdout",
     "output_type": "stream",
     "text": [
      "\n",
      "      Epoch    GPU_mem   box_loss   cls_loss   dfl_loss  Instances       Size\n"
     ]
    },
    {
     "name": "stderr",
     "output_type": "stream",
     "text": [
      "    50/1000       3.2G      1.244     0.7545       1.13         42        640: 100%|██████████| 74/74 [00:09<00:00,  7.85it/s]\n",
      "                 Class     Images  Instances      Box(P          R      mAP50  mAP50-95): 100%|██████████| 8/8 [00:01<00:00,  6.31it/s]"
     ]
    },
    {
     "name": "stdout",
     "output_type": "stream",
     "text": [
      "                   all        250       2831      0.889      0.803       0.91      0.602\n"
     ]
    },
    {
     "name": "stderr",
     "output_type": "stream",
     "text": [
      "\n"
     ]
    },
    {
     "name": "stdout",
     "output_type": "stream",
     "text": [
      "\n",
      "      Epoch    GPU_mem   box_loss   cls_loss   dfl_loss  Instances       Size\n"
     ]
    },
    {
     "name": "stderr",
     "output_type": "stream",
     "text": [
      "    51/1000      2.89G      1.236     0.7566      1.128         41        640: 100%|██████████| 74/74 [00:09<00:00,  7.92it/s]\n",
      "                 Class     Images  Instances      Box(P          R      mAP50  mAP50-95): 100%|██████████| 8/8 [00:01<00:00,  6.36it/s]"
     ]
    },
    {
     "name": "stdout",
     "output_type": "stream",
     "text": [
      "                   all        250       2831       0.87      0.839      0.923      0.613\n"
     ]
    },
    {
     "name": "stderr",
     "output_type": "stream",
     "text": [
      "\n"
     ]
    },
    {
     "name": "stdout",
     "output_type": "stream",
     "text": [
      "\n",
      "      Epoch    GPU_mem   box_loss   cls_loss   dfl_loss  Instances       Size\n"
     ]
    },
    {
     "name": "stderr",
     "output_type": "stream",
     "text": [
      "    52/1000      2.71G      1.237     0.7452      1.131         32        640: 100%|██████████| 74/74 [00:09<00:00,  7.88it/s]\n",
      "                 Class     Images  Instances      Box(P          R      mAP50  mAP50-95): 100%|██████████| 8/8 [00:01<00:00,  6.33it/s]"
     ]
    },
    {
     "name": "stdout",
     "output_type": "stream",
     "text": [
      "                   all        250       2831      0.888       0.84      0.928      0.618\n"
     ]
    },
    {
     "name": "stderr",
     "output_type": "stream",
     "text": [
      "\n"
     ]
    },
    {
     "name": "stdout",
     "output_type": "stream",
     "text": [
      "\n",
      "      Epoch    GPU_mem   box_loss   cls_loss   dfl_loss  Instances       Size\n"
     ]
    },
    {
     "name": "stderr",
     "output_type": "stream",
     "text": [
      "    53/1000      2.88G      1.224     0.7459      1.124         19        640: 100%|██████████| 74/74 [00:09<00:00,  7.81it/s]\n",
      "                 Class     Images  Instances      Box(P          R      mAP50  mAP50-95): 100%|██████████| 8/8 [00:01<00:00,  5.47it/s]"
     ]
    },
    {
     "name": "stdout",
     "output_type": "stream",
     "text": [
      "                   all        250       2831      0.878       0.83      0.917      0.613\n"
     ]
    },
    {
     "name": "stderr",
     "output_type": "stream",
     "text": [
      "\n"
     ]
    },
    {
     "name": "stdout",
     "output_type": "stream",
     "text": [
      "\n",
      "      Epoch    GPU_mem   box_loss   cls_loss   dfl_loss  Instances       Size\n"
     ]
    },
    {
     "name": "stderr",
     "output_type": "stream",
     "text": [
      "    54/1000      2.84G      1.224     0.7339      1.128         20        640: 100%|██████████| 74/74 [00:10<00:00,  7.17it/s]\n",
      "                 Class     Images  Instances      Box(P          R      mAP50  mAP50-95): 100%|██████████| 8/8 [00:01<00:00,  5.94it/s]"
     ]
    },
    {
     "name": "stdout",
     "output_type": "stream",
     "text": [
      "                   all        250       2831      0.883      0.836      0.923      0.607\n"
     ]
    },
    {
     "name": "stderr",
     "output_type": "stream",
     "text": [
      "\n"
     ]
    },
    {
     "name": "stdout",
     "output_type": "stream",
     "text": [
      "\n",
      "      Epoch    GPU_mem   box_loss   cls_loss   dfl_loss  Instances       Size\n"
     ]
    },
    {
     "name": "stderr",
     "output_type": "stream",
     "text": [
      "    55/1000       2.9G      1.228     0.7408      1.123         25        640: 100%|██████████| 74/74 [00:09<00:00,  7.67it/s]\n",
      "                 Class     Images  Instances      Box(P          R      mAP50  mAP50-95): 100%|██████████| 8/8 [00:01<00:00,  6.33it/s]"
     ]
    },
    {
     "name": "stdout",
     "output_type": "stream",
     "text": [
      "                   all        250       2831      0.871      0.838      0.922      0.611\n"
     ]
    },
    {
     "name": "stderr",
     "output_type": "stream",
     "text": [
      "\n"
     ]
    },
    {
     "name": "stdout",
     "output_type": "stream",
     "text": [
      "\n",
      "      Epoch    GPU_mem   box_loss   cls_loss   dfl_loss  Instances       Size\n"
     ]
    },
    {
     "name": "stderr",
     "output_type": "stream",
     "text": [
      "    56/1000      2.79G      1.226     0.7371      1.123         25        640: 100%|██████████| 74/74 [00:09<00:00,  7.93it/s]\n",
      "                 Class     Images  Instances      Box(P          R      mAP50  mAP50-95): 100%|██████████| 8/8 [00:01<00:00,  6.33it/s]"
     ]
    },
    {
     "name": "stdout",
     "output_type": "stream",
     "text": [
      "                   all        250       2831      0.882      0.827      0.924      0.617\n"
     ]
    },
    {
     "name": "stderr",
     "output_type": "stream",
     "text": [
      "\n"
     ]
    },
    {
     "name": "stdout",
     "output_type": "stream",
     "text": [
      "\n",
      "      Epoch    GPU_mem   box_loss   cls_loss   dfl_loss  Instances       Size\n"
     ]
    },
    {
     "name": "stderr",
     "output_type": "stream",
     "text": [
      "    57/1000      2.99G      1.213     0.7367      1.122         19        640: 100%|██████████| 74/74 [00:09<00:00,  7.96it/s]\n",
      "                 Class     Images  Instances      Box(P          R      mAP50  mAP50-95): 100%|██████████| 8/8 [00:01<00:00,  6.23it/s]"
     ]
    },
    {
     "name": "stdout",
     "output_type": "stream",
     "text": [
      "                   all        250       2831      0.876      0.841      0.923      0.606\n"
     ]
    },
    {
     "name": "stderr",
     "output_type": "stream",
     "text": [
      "\n"
     ]
    },
    {
     "name": "stdout",
     "output_type": "stream",
     "text": [
      "\n",
      "      Epoch    GPU_mem   box_loss   cls_loss   dfl_loss  Instances       Size\n"
     ]
    },
    {
     "name": "stderr",
     "output_type": "stream",
     "text": [
      "    58/1000       2.8G      1.224     0.7355      1.118         63        640: 100%|██████████| 74/74 [00:09<00:00,  7.88it/s]\n",
      "                 Class     Images  Instances      Box(P          R      mAP50  mAP50-95): 100%|██████████| 8/8 [00:01<00:00,  6.20it/s]\n"
     ]
    },
    {
     "name": "stdout",
     "output_type": "stream",
     "text": [
      "                   all        250       2831      0.893      0.822       0.92      0.599\n",
      "\n",
      "      Epoch    GPU_mem   box_loss   cls_loss   dfl_loss  Instances       Size\n"
     ]
    },
    {
     "name": "stderr",
     "output_type": "stream",
     "text": [
      "    59/1000      2.93G      1.213     0.7343      1.116         34        640: 100%|██████████| 74/74 [00:09<00:00,  7.93it/s]\n",
      "                 Class     Images  Instances      Box(P          R      mAP50  mAP50-95): 100%|██████████| 8/8 [00:01<00:00,  6.22it/s]"
     ]
    },
    {
     "name": "stdout",
     "output_type": "stream",
     "text": [
      "                   all        250       2831      0.892      0.829      0.924      0.608\n"
     ]
    },
    {
     "name": "stderr",
     "output_type": "stream",
     "text": [
      "\n"
     ]
    },
    {
     "name": "stdout",
     "output_type": "stream",
     "text": [
      "\n",
      "      Epoch    GPU_mem   box_loss   cls_loss   dfl_loss  Instances       Size\n"
     ]
    },
    {
     "name": "stderr",
     "output_type": "stream",
     "text": [
      "    60/1000      2.86G      1.221      0.737      1.125         11        640: 100%|██████████| 74/74 [00:09<00:00,  7.93it/s]\n",
      "                 Class     Images  Instances      Box(P          R      mAP50  mAP50-95): 100%|██████████| 8/8 [00:01<00:00,  6.38it/s]"
     ]
    },
    {
     "name": "stdout",
     "output_type": "stream",
     "text": [
      "                   all        250       2831      0.895      0.827      0.928      0.615\n"
     ]
    },
    {
     "name": "stderr",
     "output_type": "stream",
     "text": [
      "\n"
     ]
    },
    {
     "name": "stdout",
     "output_type": "stream",
     "text": [
      "\n",
      "      Epoch    GPU_mem   box_loss   cls_loss   dfl_loss  Instances       Size\n"
     ]
    },
    {
     "name": "stderr",
     "output_type": "stream",
     "text": [
      "    61/1000      3.11G      1.221     0.7292      1.118         21        640: 100%|██████████| 74/74 [00:09<00:00,  7.99it/s]\n",
      "                 Class     Images  Instances      Box(P          R      mAP50  mAP50-95): 100%|██████████| 8/8 [00:01<00:00,  6.27it/s]"
     ]
    },
    {
     "name": "stdout",
     "output_type": "stream",
     "text": [
      "                   all        250       2831      0.878      0.843      0.922      0.602\n"
     ]
    },
    {
     "name": "stderr",
     "output_type": "stream",
     "text": [
      "\n"
     ]
    },
    {
     "name": "stdout",
     "output_type": "stream",
     "text": [
      "\n",
      "      Epoch    GPU_mem   box_loss   cls_loss   dfl_loss  Instances       Size\n"
     ]
    },
    {
     "name": "stderr",
     "output_type": "stream",
     "text": [
      "    62/1000      3.32G      1.218     0.7287      1.124         46        640: 100%|██████████| 74/74 [00:09<00:00,  7.81it/s]\n",
      "                 Class     Images  Instances      Box(P          R      mAP50  mAP50-95): 100%|██████████| 8/8 [00:01<00:00,  6.34it/s]"
     ]
    },
    {
     "name": "stdout",
     "output_type": "stream",
     "text": [
      "                   all        250       2831      0.891      0.844      0.931      0.623\n"
     ]
    },
    {
     "name": "stderr",
     "output_type": "stream",
     "text": [
      "\n"
     ]
    },
    {
     "name": "stdout",
     "output_type": "stream",
     "text": [
      "\n",
      "      Epoch    GPU_mem   box_loss   cls_loss   dfl_loss  Instances       Size\n"
     ]
    },
    {
     "name": "stderr",
     "output_type": "stream",
     "text": [
      "    63/1000       3.3G      1.225     0.7297      1.121         19        640: 100%|██████████| 74/74 [00:09<00:00,  7.91it/s]\n",
      "                 Class     Images  Instances      Box(P          R      mAP50  mAP50-95): 100%|██████████| 8/8 [00:01<00:00,  6.38it/s]"
     ]
    },
    {
     "name": "stdout",
     "output_type": "stream",
     "text": [
      "                   all        250       2831      0.894      0.848      0.928      0.603\n"
     ]
    },
    {
     "name": "stderr",
     "output_type": "stream",
     "text": [
      "\n"
     ]
    },
    {
     "name": "stdout",
     "output_type": "stream",
     "text": [
      "\n",
      "      Epoch    GPU_mem   box_loss   cls_loss   dfl_loss  Instances       Size\n"
     ]
    },
    {
     "name": "stderr",
     "output_type": "stream",
     "text": [
      "    64/1000      2.82G      1.236      0.741      1.125         35        640: 100%|██████████| 74/74 [00:09<00:00,  7.90it/s]\n",
      "                 Class     Images  Instances      Box(P          R      mAP50  mAP50-95): 100%|██████████| 8/8 [00:01<00:00,  6.38it/s]"
     ]
    },
    {
     "name": "stdout",
     "output_type": "stream",
     "text": [
      "                   all        250       2831      0.886      0.846      0.929       0.62\n"
     ]
    },
    {
     "name": "stderr",
     "output_type": "stream",
     "text": [
      "\n"
     ]
    },
    {
     "name": "stdout",
     "output_type": "stream",
     "text": [
      "\n",
      "      Epoch    GPU_mem   box_loss   cls_loss   dfl_loss  Instances       Size\n"
     ]
    },
    {
     "name": "stderr",
     "output_type": "stream",
     "text": [
      "    65/1000      2.83G      1.211     0.7162      1.115         35        640: 100%|██████████| 74/74 [00:09<00:00,  7.82it/s]\n",
      "                 Class     Images  Instances      Box(P          R      mAP50  mAP50-95): 100%|██████████| 8/8 [00:01<00:00,  6.25it/s]"
     ]
    },
    {
     "name": "stdout",
     "output_type": "stream",
     "text": [
      "                   all        250       2831      0.882      0.833      0.922      0.608\n"
     ]
    },
    {
     "name": "stderr",
     "output_type": "stream",
     "text": [
      "\n"
     ]
    },
    {
     "name": "stdout",
     "output_type": "stream",
     "text": [
      "\n",
      "      Epoch    GPU_mem   box_loss   cls_loss   dfl_loss  Instances       Size\n"
     ]
    },
    {
     "name": "stderr",
     "output_type": "stream",
     "text": [
      "    66/1000      2.93G      1.209     0.7171       1.11         35        640: 100%|██████████| 74/74 [00:09<00:00,  7.97it/s]\n",
      "                 Class     Images  Instances      Box(P          R      mAP50  mAP50-95): 100%|██████████| 8/8 [00:01<00:00,  5.63it/s]\n"
     ]
    },
    {
     "name": "stdout",
     "output_type": "stream",
     "text": [
      "                   all        250       2831      0.888       0.83      0.923      0.612\n",
      "\n",
      "      Epoch    GPU_mem   box_loss   cls_loss   dfl_loss  Instances       Size\n"
     ]
    },
    {
     "name": "stderr",
     "output_type": "stream",
     "text": [
      "    67/1000      2.95G       1.21     0.7162      1.119         10        640: 100%|██████████| 74/74 [00:10<00:00,  7.18it/s]\n",
      "                 Class     Images  Instances      Box(P          R      mAP50  mAP50-95): 100%|██████████| 8/8 [00:01<00:00,  5.87it/s]"
     ]
    },
    {
     "name": "stdout",
     "output_type": "stream",
     "text": [
      "                   all        250       2831      0.892      0.841      0.928      0.606\n"
     ]
    },
    {
     "name": "stderr",
     "output_type": "stream",
     "text": [
      "\n"
     ]
    },
    {
     "name": "stdout",
     "output_type": "stream",
     "text": [
      "\n",
      "      Epoch    GPU_mem   box_loss   cls_loss   dfl_loss  Instances       Size\n"
     ]
    },
    {
     "name": "stderr",
     "output_type": "stream",
     "text": [
      "    68/1000      3.08G      1.224     0.7262       1.12         27        640: 100%|██████████| 74/74 [00:09<00:00,  7.78it/s]\n",
      "                 Class     Images  Instances      Box(P          R      mAP50  mAP50-95): 100%|██████████| 8/8 [00:01<00:00,  6.15it/s]"
     ]
    },
    {
     "name": "stdout",
     "output_type": "stream",
     "text": [
      "                   all        250       2831       0.88      0.842      0.922      0.617\n"
     ]
    },
    {
     "name": "stderr",
     "output_type": "stream",
     "text": [
      "\n"
     ]
    },
    {
     "name": "stdout",
     "output_type": "stream",
     "text": [
      "\n",
      "      Epoch    GPU_mem   box_loss   cls_loss   dfl_loss  Instances       Size\n"
     ]
    },
    {
     "name": "stderr",
     "output_type": "stream",
     "text": [
      "    69/1000      3.04G      1.206     0.7134      1.119         31        640: 100%|██████████| 74/74 [00:09<00:00,  7.93it/s]\n",
      "                 Class     Images  Instances      Box(P          R      mAP50  mAP50-95): 100%|██████████| 8/8 [00:01<00:00,  6.06it/s]"
     ]
    },
    {
     "name": "stdout",
     "output_type": "stream",
     "text": [
      "                   all        250       2831      0.881      0.841      0.925       0.62\n"
     ]
    },
    {
     "name": "stderr",
     "output_type": "stream",
     "text": [
      "\n"
     ]
    },
    {
     "name": "stdout",
     "output_type": "stream",
     "text": [
      "\n",
      "      Epoch    GPU_mem   box_loss   cls_loss   dfl_loss  Instances       Size\n"
     ]
    },
    {
     "name": "stderr",
     "output_type": "stream",
     "text": [
      "    70/1000       3.1G      1.216      0.719      1.115         31        640: 100%|██████████| 74/74 [00:09<00:00,  7.82it/s]\n",
      "                 Class     Images  Instances      Box(P          R      mAP50  mAP50-95): 100%|██████████| 8/8 [00:01<00:00,  6.29it/s]"
     ]
    },
    {
     "name": "stdout",
     "output_type": "stream",
     "text": [
      "                   all        250       2831      0.895      0.831      0.927        0.6\n"
     ]
    },
    {
     "name": "stderr",
     "output_type": "stream",
     "text": [
      "\n"
     ]
    },
    {
     "name": "stdout",
     "output_type": "stream",
     "text": [
      "\n",
      "      Epoch    GPU_mem   box_loss   cls_loss   dfl_loss  Instances       Size\n"
     ]
    },
    {
     "name": "stderr",
     "output_type": "stream",
     "text": [
      "    71/1000      2.74G      1.212      0.715      1.118         12        640: 100%|██████████| 74/74 [00:09<00:00,  7.74it/s]\n",
      "                 Class     Images  Instances      Box(P          R      mAP50  mAP50-95): 100%|██████████| 8/8 [00:01<00:00,  6.15it/s]"
     ]
    },
    {
     "name": "stdout",
     "output_type": "stream",
     "text": [
      "                   all        250       2831      0.889      0.835      0.922      0.612\n"
     ]
    },
    {
     "name": "stderr",
     "output_type": "stream",
     "text": [
      "\n"
     ]
    },
    {
     "name": "stdout",
     "output_type": "stream",
     "text": [
      "\n",
      "      Epoch    GPU_mem   box_loss   cls_loss   dfl_loss  Instances       Size\n"
     ]
    },
    {
     "name": "stderr",
     "output_type": "stream",
     "text": [
      "    72/1000      3.29G      1.203     0.7095      1.114         43        640: 100%|██████████| 74/74 [00:09<00:00,  7.86it/s]\n",
      "                 Class     Images  Instances      Box(P          R      mAP50  mAP50-95): 100%|██████████| 8/8 [00:01<00:00,  6.05it/s]"
     ]
    },
    {
     "name": "stdout",
     "output_type": "stream",
     "text": [
      "                   all        250       2831      0.884      0.835      0.923      0.611\n"
     ]
    },
    {
     "name": "stderr",
     "output_type": "stream",
     "text": [
      "\n"
     ]
    },
    {
     "name": "stdout",
     "output_type": "stream",
     "text": [
      "\n",
      "      Epoch    GPU_mem   box_loss   cls_loss   dfl_loss  Instances       Size\n"
     ]
    },
    {
     "name": "stderr",
     "output_type": "stream",
     "text": [
      "    73/1000      2.83G      1.193     0.7053      1.103         60        640: 100%|██████████| 74/74 [00:09<00:00,  7.65it/s]\n",
      "                 Class     Images  Instances      Box(P          R      mAP50  mAP50-95): 100%|██████████| 8/8 [00:01<00:00,  5.75it/s]\n"
     ]
    },
    {
     "name": "stdout",
     "output_type": "stream",
     "text": [
      "                   all        250       2831      0.873      0.856       0.93      0.616\n",
      "\n",
      "      Epoch    GPU_mem   box_loss   cls_loss   dfl_loss  Instances       Size\n"
     ]
    },
    {
     "name": "stderr",
     "output_type": "stream",
     "text": [
      "    74/1000      2.99G      1.191     0.7028      1.107         32        640: 100%|██████████| 74/74 [00:10<00:00,  7.16it/s]\n",
      "                 Class     Images  Instances      Box(P          R      mAP50  mAP50-95): 100%|██████████| 8/8 [00:01<00:00,  6.27it/s]"
     ]
    },
    {
     "name": "stdout",
     "output_type": "stream",
     "text": [
      "                   all        250       2831      0.877      0.861       0.93       0.62\n"
     ]
    },
    {
     "name": "stderr",
     "output_type": "stream",
     "text": [
      "\n"
     ]
    },
    {
     "name": "stdout",
     "output_type": "stream",
     "text": [
      "\n",
      "      Epoch    GPU_mem   box_loss   cls_loss   dfl_loss  Instances       Size\n"
     ]
    },
    {
     "name": "stderr",
     "output_type": "stream",
     "text": [
      "    75/1000       3.3G      1.206     0.7076      1.117          8        640: 100%|██████████| 74/74 [00:09<00:00,  7.83it/s]\n",
      "                 Class     Images  Instances      Box(P          R      mAP50  mAP50-95): 100%|██████████| 8/8 [00:01<00:00,  6.22it/s]"
     ]
    },
    {
     "name": "stdout",
     "output_type": "stream",
     "text": [
      "                   all        250       2831      0.883      0.847       0.93      0.616\n"
     ]
    },
    {
     "name": "stderr",
     "output_type": "stream",
     "text": [
      "\n"
     ]
    },
    {
     "name": "stdout",
     "output_type": "stream",
     "text": [
      "\n",
      "      Epoch    GPU_mem   box_loss   cls_loss   dfl_loss  Instances       Size\n"
     ]
    },
    {
     "name": "stderr",
     "output_type": "stream",
     "text": [
      "    76/1000      2.87G      1.204     0.7057      1.115         75        640: 100%|██████████| 74/74 [00:09<00:00,  7.92it/s]\n",
      "                 Class     Images  Instances      Box(P          R      mAP50  mAP50-95): 100%|██████████| 8/8 [00:01<00:00,  6.40it/s]"
     ]
    },
    {
     "name": "stdout",
     "output_type": "stream",
     "text": [
      "                   all        250       2831      0.889      0.854       0.94      0.625\n"
     ]
    },
    {
     "name": "stderr",
     "output_type": "stream",
     "text": [
      "\n"
     ]
    },
    {
     "name": "stdout",
     "output_type": "stream",
     "text": [
      "\n",
      "      Epoch    GPU_mem   box_loss   cls_loss   dfl_loss  Instances       Size\n"
     ]
    },
    {
     "name": "stderr",
     "output_type": "stream",
     "text": [
      "    77/1000      3.18G      1.208     0.7083      1.112         38        640: 100%|██████████| 74/74 [00:09<00:00,  7.74it/s]\n",
      "                 Class     Images  Instances      Box(P          R      mAP50  mAP50-95): 100%|██████████| 8/8 [00:01<00:00,  6.07it/s]\n"
     ]
    },
    {
     "name": "stdout",
     "output_type": "stream",
     "text": [
      "                   all        250       2831      0.876       0.85      0.925      0.607\n",
      "\n",
      "      Epoch    GPU_mem   box_loss   cls_loss   dfl_loss  Instances       Size\n"
     ]
    },
    {
     "name": "stderr",
     "output_type": "stream",
     "text": [
      "    78/1000      2.87G      1.189     0.7027      1.106         23        640: 100%|██████████| 74/74 [00:09<00:00,  7.87it/s]\n",
      "                 Class     Images  Instances      Box(P          R      mAP50  mAP50-95): 100%|██████████| 8/8 [00:01<00:00,  6.25it/s]"
     ]
    },
    {
     "name": "stdout",
     "output_type": "stream",
     "text": [
      "                   all        250       2831      0.888      0.856      0.934      0.618\n"
     ]
    },
    {
     "name": "stderr",
     "output_type": "stream",
     "text": [
      "\n"
     ]
    },
    {
     "name": "stdout",
     "output_type": "stream",
     "text": [
      "\n",
      "      Epoch    GPU_mem   box_loss   cls_loss   dfl_loss  Instances       Size\n"
     ]
    },
    {
     "name": "stderr",
     "output_type": "stream",
     "text": [
      "    79/1000      2.75G      1.189     0.7022      1.116         18        640: 100%|██████████| 74/74 [00:09<00:00,  7.90it/s]\n",
      "                 Class     Images  Instances      Box(P          R      mAP50  mAP50-95): 100%|██████████| 8/8 [00:01<00:00,  6.12it/s]"
     ]
    },
    {
     "name": "stdout",
     "output_type": "stream",
     "text": [
      "                   all        250       2831      0.888      0.834      0.927      0.608\n"
     ]
    },
    {
     "name": "stderr",
     "output_type": "stream",
     "text": [
      "\n"
     ]
    },
    {
     "name": "stdout",
     "output_type": "stream",
     "text": [
      "\n",
      "      Epoch    GPU_mem   box_loss   cls_loss   dfl_loss  Instances       Size\n"
     ]
    },
    {
     "name": "stderr",
     "output_type": "stream",
     "text": [
      "    80/1000      2.79G      1.184     0.6993      1.101          9        640: 100%|██████████| 74/74 [00:09<00:00,  7.82it/s]\n",
      "                 Class     Images  Instances      Box(P          R      mAP50  mAP50-95): 100%|██████████| 8/8 [00:01<00:00,  6.17it/s]"
     ]
    },
    {
     "name": "stdout",
     "output_type": "stream",
     "text": [
      "                   all        250       2831      0.897      0.838      0.926      0.597\n"
     ]
    },
    {
     "name": "stderr",
     "output_type": "stream",
     "text": [
      "\n"
     ]
    },
    {
     "name": "stdout",
     "output_type": "stream",
     "text": [
      "\n",
      "      Epoch    GPU_mem   box_loss   cls_loss   dfl_loss  Instances       Size\n"
     ]
    },
    {
     "name": "stderr",
     "output_type": "stream",
     "text": [
      "    81/1000      3.01G      1.206     0.7055      1.108         34        640: 100%|██████████| 74/74 [00:09<00:00,  7.85it/s]\n",
      "                 Class     Images  Instances      Box(P          R      mAP50  mAP50-95): 100%|██████████| 8/8 [00:01<00:00,  6.28it/s]"
     ]
    },
    {
     "name": "stdout",
     "output_type": "stream",
     "text": [
      "                   all        250       2831      0.884      0.844      0.925      0.618\n"
     ]
    },
    {
     "name": "stderr",
     "output_type": "stream",
     "text": [
      "\n"
     ]
    },
    {
     "name": "stdout",
     "output_type": "stream",
     "text": [
      "\n",
      "      Epoch    GPU_mem   box_loss   cls_loss   dfl_loss  Instances       Size\n"
     ]
    },
    {
     "name": "stderr",
     "output_type": "stream",
     "text": [
      "    82/1000      3.05G      1.193     0.6991      1.108         24        640: 100%|██████████| 74/74 [00:10<00:00,  7.21it/s]\n",
      "                 Class     Images  Instances      Box(P          R      mAP50  mAP50-95): 100%|██████████| 8/8 [00:01<00:00,  5.90it/s]"
     ]
    },
    {
     "name": "stdout",
     "output_type": "stream",
     "text": [
      "                   all        250       2831      0.894      0.852      0.932      0.617\n"
     ]
    },
    {
     "name": "stderr",
     "output_type": "stream",
     "text": [
      "\n"
     ]
    },
    {
     "name": "stdout",
     "output_type": "stream",
     "text": [
      "\n",
      "      Epoch    GPU_mem   box_loss   cls_loss   dfl_loss  Instances       Size\n"
     ]
    },
    {
     "name": "stderr",
     "output_type": "stream",
     "text": [
      "    83/1000      2.73G      1.193     0.6971      1.106         12        640: 100%|██████████| 74/74 [00:09<00:00,  7.74it/s]\n",
      "                 Class     Images  Instances      Box(P          R      mAP50  mAP50-95): 100%|██████████| 8/8 [00:01<00:00,  5.96it/s]\n"
     ]
    },
    {
     "name": "stdout",
     "output_type": "stream",
     "text": [
      "                   all        250       2831      0.891      0.839      0.926      0.608\n",
      "\n",
      "      Epoch    GPU_mem   box_loss   cls_loss   dfl_loss  Instances       Size\n"
     ]
    },
    {
     "name": "stderr",
     "output_type": "stream",
     "text": [
      "    84/1000      2.94G      1.198     0.6929      1.102         27        640: 100%|██████████| 74/74 [00:09<00:00,  7.78it/s]\n",
      "                 Class     Images  Instances      Box(P          R      mAP50  mAP50-95): 100%|██████████| 8/8 [00:01<00:00,  6.24it/s]"
     ]
    },
    {
     "name": "stdout",
     "output_type": "stream",
     "text": [
      "                   all        250       2831      0.904      0.842      0.934      0.625\n"
     ]
    },
    {
     "name": "stderr",
     "output_type": "stream",
     "text": [
      "\n"
     ]
    },
    {
     "name": "stdout",
     "output_type": "stream",
     "text": [
      "\n",
      "      Epoch    GPU_mem   box_loss   cls_loss   dfl_loss  Instances       Size\n"
     ]
    },
    {
     "name": "stderr",
     "output_type": "stream",
     "text": [
      "    85/1000      3.11G      1.182     0.6855      1.105         20        640: 100%|██████████| 74/74 [00:09<00:00,  7.82it/s]\n",
      "                 Class     Images  Instances      Box(P          R      mAP50  mAP50-95): 100%|██████████| 8/8 [00:01<00:00,  6.25it/s]"
     ]
    },
    {
     "name": "stdout",
     "output_type": "stream",
     "text": [
      "                   all        250       2831      0.892      0.855      0.936      0.616\n"
     ]
    },
    {
     "name": "stderr",
     "output_type": "stream",
     "text": [
      "\n"
     ]
    },
    {
     "name": "stdout",
     "output_type": "stream",
     "text": [
      "\n",
      "      Epoch    GPU_mem   box_loss   cls_loss   dfl_loss  Instances       Size\n"
     ]
    },
    {
     "name": "stderr",
     "output_type": "stream",
     "text": [
      "    86/1000      2.93G      1.179     0.6841      1.099         23        640: 100%|██████████| 74/74 [00:09<00:00,  7.87it/s]\n",
      "                 Class     Images  Instances      Box(P          R      mAP50  mAP50-95): 100%|██████████| 8/8 [00:01<00:00,  6.29it/s]"
     ]
    },
    {
     "name": "stdout",
     "output_type": "stream",
     "text": [
      "                   all        250       2831      0.897      0.849      0.934      0.619\n"
     ]
    },
    {
     "name": "stderr",
     "output_type": "stream",
     "text": [
      "\n"
     ]
    },
    {
     "name": "stdout",
     "output_type": "stream",
     "text": [
      "\n",
      "      Epoch    GPU_mem   box_loss   cls_loss   dfl_loss  Instances       Size\n"
     ]
    },
    {
     "name": "stderr",
     "output_type": "stream",
     "text": [
      "    87/1000      3.21G      1.179     0.6852      1.096         19        640: 100%|██████████| 74/74 [00:09<00:00,  7.57it/s]\n",
      "                 Class     Images  Instances      Box(P          R      mAP50  mAP50-95): 100%|██████████| 8/8 [00:01<00:00,  6.20it/s]"
     ]
    },
    {
     "name": "stdout",
     "output_type": "stream",
     "text": [
      "                   all        250       2831      0.902      0.834      0.931      0.624\n"
     ]
    },
    {
     "name": "stderr",
     "output_type": "stream",
     "text": [
      "\n"
     ]
    },
    {
     "name": "stdout",
     "output_type": "stream",
     "text": [
      "\n",
      "      Epoch    GPU_mem   box_loss   cls_loss   dfl_loss  Instances       Size\n"
     ]
    },
    {
     "name": "stderr",
     "output_type": "stream",
     "text": [
      "    88/1000       2.8G      1.178     0.6764      1.096         22        640: 100%|██████████| 74/74 [00:09<00:00,  7.50it/s]\n",
      "                 Class     Images  Instances      Box(P          R      mAP50  mAP50-95): 100%|██████████| 8/8 [00:01<00:00,  5.92it/s]"
     ]
    },
    {
     "name": "stdout",
     "output_type": "stream",
     "text": [
      "                   all        250       2831      0.896      0.843      0.932      0.616\n"
     ]
    },
    {
     "name": "stderr",
     "output_type": "stream",
     "text": [
      "\n"
     ]
    },
    {
     "name": "stdout",
     "output_type": "stream",
     "text": [
      "\n",
      "      Epoch    GPU_mem   box_loss   cls_loss   dfl_loss  Instances       Size\n"
     ]
    },
    {
     "name": "stderr",
     "output_type": "stream",
     "text": [
      "    89/1000      2.75G      1.183     0.6819        1.1         17        640: 100%|██████████| 74/74 [00:09<00:00,  7.41it/s]\n",
      "                 Class     Images  Instances      Box(P          R      mAP50  mAP50-95): 100%|██████████| 8/8 [00:01<00:00,  6.04it/s]"
     ]
    },
    {
     "name": "stdout",
     "output_type": "stream",
     "text": [
      "                   all        250       2831      0.892      0.838      0.932      0.619\n"
     ]
    },
    {
     "name": "stderr",
     "output_type": "stream",
     "text": [
      "\n"
     ]
    },
    {
     "name": "stdout",
     "output_type": "stream",
     "text": [
      "\n",
      "      Epoch    GPU_mem   box_loss   cls_loss   dfl_loss  Instances       Size\n"
     ]
    },
    {
     "name": "stderr",
     "output_type": "stream",
     "text": [
      "    90/1000      3.07G      1.186     0.6832        1.1         16        640: 100%|██████████| 74/74 [00:09<00:00,  7.85it/s]\n",
      "                 Class     Images  Instances      Box(P          R      mAP50  mAP50-95): 100%|██████████| 8/8 [00:01<00:00,  6.19it/s]"
     ]
    },
    {
     "name": "stdout",
     "output_type": "stream",
     "text": [
      "                   all        250       2831      0.892      0.852      0.933       0.62\n"
     ]
    },
    {
     "name": "stderr",
     "output_type": "stream",
     "text": [
      "\n"
     ]
    },
    {
     "name": "stdout",
     "output_type": "stream",
     "text": [
      "\n",
      "      Epoch    GPU_mem   box_loss   cls_loss   dfl_loss  Instances       Size\n"
     ]
    },
    {
     "name": "stderr",
     "output_type": "stream",
     "text": [
      "    91/1000      2.63G      1.181     0.6823      1.104         13        640: 100%|██████████| 74/74 [00:09<00:00,  7.85it/s]\n",
      "                 Class     Images  Instances      Box(P          R      mAP50  mAP50-95): 100%|██████████| 8/8 [00:01<00:00,  6.15it/s]"
     ]
    },
    {
     "name": "stdout",
     "output_type": "stream",
     "text": [
      "                   all        250       2831      0.897      0.849      0.935      0.626\n"
     ]
    },
    {
     "name": "stderr",
     "output_type": "stream",
     "text": [
      "\n"
     ]
    },
    {
     "name": "stdout",
     "output_type": "stream",
     "text": [
      "\n",
      "      Epoch    GPU_mem   box_loss   cls_loss   dfl_loss  Instances       Size\n"
     ]
    },
    {
     "name": "stderr",
     "output_type": "stream",
     "text": [
      "    92/1000       2.8G      1.183     0.6868        1.1         22        640: 100%|██████████| 74/74 [00:09<00:00,  7.59it/s]\n",
      "                 Class     Images  Instances      Box(P          R      mAP50  mAP50-95): 100%|██████████| 8/8 [00:01<00:00,  6.11it/s]"
     ]
    },
    {
     "name": "stdout",
     "output_type": "stream",
     "text": [
      "                   all        250       2831      0.895      0.826      0.928      0.622\n"
     ]
    },
    {
     "name": "stderr",
     "output_type": "stream",
     "text": [
      "\n"
     ]
    },
    {
     "name": "stdout",
     "output_type": "stream",
     "text": [
      "\n",
      "      Epoch    GPU_mem   box_loss   cls_loss   dfl_loss  Instances       Size\n"
     ]
    },
    {
     "name": "stderr",
     "output_type": "stream",
     "text": [
      "    93/1000      3.07G      1.179     0.6748      1.096         24        640: 100%|██████████| 74/74 [00:09<00:00,  7.82it/s]\n",
      "                 Class     Images  Instances      Box(P          R      mAP50  mAP50-95): 100%|██████████| 8/8 [00:01<00:00,  6.24it/s]"
     ]
    },
    {
     "name": "stdout",
     "output_type": "stream",
     "text": [
      "                   all        250       2831      0.883      0.864      0.934      0.616\n"
     ]
    },
    {
     "name": "stderr",
     "output_type": "stream",
     "text": [
      "\n"
     ]
    },
    {
     "name": "stdout",
     "output_type": "stream",
     "text": [
      "\n",
      "      Epoch    GPU_mem   box_loss   cls_loss   dfl_loss  Instances       Size\n"
     ]
    },
    {
     "name": "stderr",
     "output_type": "stream",
     "text": [
      "    94/1000      3.18G      1.169     0.6805      1.093         32        640: 100%|██████████| 74/74 [00:09<00:00,  7.76it/s]\n",
      "                 Class     Images  Instances      Box(P          R      mAP50  mAP50-95): 100%|██████████| 8/8 [00:01<00:00,  6.28it/s]"
     ]
    },
    {
     "name": "stdout",
     "output_type": "stream",
     "text": [
      "                   all        250       2831      0.898      0.844      0.931      0.621\n"
     ]
    },
    {
     "name": "stderr",
     "output_type": "stream",
     "text": [
      "\n"
     ]
    },
    {
     "name": "stdout",
     "output_type": "stream",
     "text": [
      "\n",
      "      Epoch    GPU_mem   box_loss   cls_loss   dfl_loss  Instances       Size\n"
     ]
    },
    {
     "name": "stderr",
     "output_type": "stream",
     "text": [
      "    95/1000      3.32G      1.171     0.6805      1.093         35        640: 100%|██████████| 74/74 [00:09<00:00,  7.65it/s]\n",
      "                 Class     Images  Instances      Box(P          R      mAP50  mAP50-95): 100%|██████████| 8/8 [00:01<00:00,  5.64it/s]\n"
     ]
    },
    {
     "name": "stdout",
     "output_type": "stream",
     "text": [
      "                   all        250       2831      0.893      0.858      0.933      0.622\n",
      "\n",
      "      Epoch    GPU_mem   box_loss   cls_loss   dfl_loss  Instances       Size\n"
     ]
    },
    {
     "name": "stderr",
     "output_type": "stream",
     "text": [
      "    96/1000      2.79G      1.174     0.6819      1.099         42        640: 100%|██████████| 74/74 [00:10<00:00,  7.11it/s]\n",
      "                 Class     Images  Instances      Box(P          R      mAP50  mAP50-95): 100%|██████████| 8/8 [00:01<00:00,  5.66it/s]\n"
     ]
    },
    {
     "name": "stdout",
     "output_type": "stream",
     "text": [
      "                   all        250       2831      0.907      0.834       0.93      0.625\n",
      "\n",
      "      Epoch    GPU_mem   box_loss   cls_loss   dfl_loss  Instances       Size\n"
     ]
    },
    {
     "name": "stderr",
     "output_type": "stream",
     "text": [
      "    97/1000      3.36G      1.167     0.6701      1.089         39        640: 100%|██████████| 74/74 [00:09<00:00,  7.49it/s]\n",
      "                 Class     Images  Instances      Box(P          R      mAP50  mAP50-95): 100%|██████████| 8/8 [00:01<00:00,  6.26it/s]"
     ]
    },
    {
     "name": "stdout",
     "output_type": "stream",
     "text": [
      "                   all        250       2831      0.891      0.841      0.928      0.625\n"
     ]
    },
    {
     "name": "stderr",
     "output_type": "stream",
     "text": [
      "\n"
     ]
    },
    {
     "name": "stdout",
     "output_type": "stream",
     "text": [
      "\n",
      "      Epoch    GPU_mem   box_loss   cls_loss   dfl_loss  Instances       Size\n"
     ]
    },
    {
     "name": "stderr",
     "output_type": "stream",
     "text": [
      "    98/1000       2.7G      1.186     0.6833      1.098         25        640: 100%|██████████| 74/74 [00:09<00:00,  7.89it/s]\n",
      "                 Class     Images  Instances      Box(P          R      mAP50  mAP50-95): 100%|██████████| 8/8 [00:01<00:00,  6.32it/s]"
     ]
    },
    {
     "name": "stdout",
     "output_type": "stream",
     "text": [
      "                   all        250       2831        0.9      0.839      0.932      0.626\n"
     ]
    },
    {
     "name": "stderr",
     "output_type": "stream",
     "text": [
      "\n"
     ]
    },
    {
     "name": "stdout",
     "output_type": "stream",
     "text": [
      "\n",
      "      Epoch    GPU_mem   box_loss   cls_loss   dfl_loss  Instances       Size\n"
     ]
    },
    {
     "name": "stderr",
     "output_type": "stream",
     "text": [
      "    99/1000      3.13G      1.148     0.6661      1.085         55        640: 100%|██████████| 74/74 [00:09<00:00,  7.79it/s]\n",
      "                 Class     Images  Instances      Box(P          R      mAP50  mAP50-95): 100%|██████████| 8/8 [00:01<00:00,  6.34it/s]"
     ]
    },
    {
     "name": "stdout",
     "output_type": "stream",
     "text": [
      "                   all        250       2831      0.888      0.851      0.935      0.621\n"
     ]
    },
    {
     "name": "stderr",
     "output_type": "stream",
     "text": [
      "\n"
     ]
    },
    {
     "name": "stdout",
     "output_type": "stream",
     "text": [
      "\n",
      "      Epoch    GPU_mem   box_loss   cls_loss   dfl_loss  Instances       Size\n"
     ]
    },
    {
     "name": "stderr",
     "output_type": "stream",
     "text": [
      "   100/1000      2.68G      1.175     0.6679      1.091         40        640: 100%|██████████| 74/74 [00:09<00:00,  7.87it/s]\n",
      "                 Class     Images  Instances      Box(P          R      mAP50  mAP50-95): 100%|██████████| 8/8 [00:01<00:00,  6.20it/s]"
     ]
    },
    {
     "name": "stdout",
     "output_type": "stream",
     "text": [
      "                   all        250       2831        0.9      0.854      0.938      0.624\n"
     ]
    },
    {
     "name": "stderr",
     "output_type": "stream",
     "text": [
      "\n"
     ]
    },
    {
     "name": "stdout",
     "output_type": "stream",
     "text": [
      "\n",
      "      Epoch    GPU_mem   box_loss   cls_loss   dfl_loss  Instances       Size\n"
     ]
    },
    {
     "name": "stderr",
     "output_type": "stream",
     "text": [
      "   101/1000      2.98G      1.158     0.6637      1.088         24        640: 100%|██████████| 74/74 [00:09<00:00,  7.85it/s]\n",
      "                 Class     Images  Instances      Box(P          R      mAP50  mAP50-95): 100%|██████████| 8/8 [00:01<00:00,  6.22it/s]"
     ]
    },
    {
     "name": "stdout",
     "output_type": "stream",
     "text": [
      "                   all        250       2831      0.886       0.86      0.937       0.62\n"
     ]
    },
    {
     "name": "stderr",
     "output_type": "stream",
     "text": [
      "\n"
     ]
    },
    {
     "name": "stdout",
     "output_type": "stream",
     "text": [
      "\n",
      "      Epoch    GPU_mem   box_loss   cls_loss   dfl_loss  Instances       Size\n"
     ]
    },
    {
     "name": "stderr",
     "output_type": "stream",
     "text": [
      "   102/1000      2.89G      1.159      0.661      1.083         56        640: 100%|██████████| 74/74 [00:09<00:00,  7.85it/s]\n",
      "                 Class     Images  Instances      Box(P          R      mAP50  mAP50-95): 100%|██████████| 8/8 [00:01<00:00,  6.36it/s]"
     ]
    },
    {
     "name": "stdout",
     "output_type": "stream",
     "text": [
      "                   all        250       2831      0.884      0.856      0.936       0.62\n"
     ]
    },
    {
     "name": "stderr",
     "output_type": "stream",
     "text": [
      "\n"
     ]
    },
    {
     "name": "stdout",
     "output_type": "stream",
     "text": [
      "\n",
      "      Epoch    GPU_mem   box_loss   cls_loss   dfl_loss  Instances       Size\n"
     ]
    },
    {
     "name": "stderr",
     "output_type": "stream",
     "text": [
      "   103/1000      2.86G      1.169     0.6674       1.09         32        640: 100%|██████████| 74/74 [00:09<00:00,  7.83it/s]\n",
      "                 Class     Images  Instances      Box(P          R      mAP50  mAP50-95): 100%|██████████| 8/8 [00:01<00:00,  6.37it/s]"
     ]
    },
    {
     "name": "stdout",
     "output_type": "stream",
     "text": [
      "                   all        250       2831      0.894      0.857      0.933      0.621\n"
     ]
    },
    {
     "name": "stderr",
     "output_type": "stream",
     "text": [
      "\n"
     ]
    },
    {
     "name": "stdout",
     "output_type": "stream",
     "text": [
      "\n",
      "      Epoch    GPU_mem   box_loss   cls_loss   dfl_loss  Instances       Size\n"
     ]
    },
    {
     "name": "stderr",
     "output_type": "stream",
     "text": [
      "   104/1000      3.06G      1.165     0.6729      1.093         28        640: 100%|██████████| 74/74 [00:09<00:00,  7.83it/s]\n",
      "                 Class     Images  Instances      Box(P          R      mAP50  mAP50-95): 100%|██████████| 8/8 [00:01<00:00,  6.37it/s]"
     ]
    },
    {
     "name": "stdout",
     "output_type": "stream",
     "text": [
      "                   all        250       2831      0.883       0.86      0.935      0.623\n"
     ]
    },
    {
     "name": "stderr",
     "output_type": "stream",
     "text": [
      "\n"
     ]
    },
    {
     "name": "stdout",
     "output_type": "stream",
     "text": [
      "\n",
      "      Epoch    GPU_mem   box_loss   cls_loss   dfl_loss  Instances       Size\n"
     ]
    },
    {
     "name": "stderr",
     "output_type": "stream",
     "text": [
      "   105/1000      2.95G      1.172     0.6677      1.092         12        640: 100%|██████████| 74/74 [00:09<00:00,  7.85it/s]\n",
      "                 Class     Images  Instances      Box(P          R      mAP50  mAP50-95): 100%|██████████| 8/8 [00:01<00:00,  6.32it/s]"
     ]
    },
    {
     "name": "stdout",
     "output_type": "stream",
     "text": [
      "                   all        250       2831      0.891      0.853      0.932      0.624\n"
     ]
    },
    {
     "name": "stderr",
     "output_type": "stream",
     "text": [
      "\n"
     ]
    },
    {
     "name": "stdout",
     "output_type": "stream",
     "text": [
      "\n",
      "      Epoch    GPU_mem   box_loss   cls_loss   dfl_loss  Instances       Size\n"
     ]
    },
    {
     "name": "stderr",
     "output_type": "stream",
     "text": [
      "   106/1000      2.93G      1.176     0.6708      1.093         21        640: 100%|██████████| 74/74 [00:09<00:00,  7.86it/s]\n",
      "                 Class     Images  Instances      Box(P          R      mAP50  mAP50-95): 100%|██████████| 8/8 [00:01<00:00,  6.38it/s]"
     ]
    },
    {
     "name": "stdout",
     "output_type": "stream",
     "text": [
      "                   all        250       2831      0.894      0.836      0.932      0.622\n"
     ]
    },
    {
     "name": "stderr",
     "output_type": "stream",
     "text": [
      "\n"
     ]
    },
    {
     "name": "stdout",
     "output_type": "stream",
     "text": [
      "\n",
      "      Epoch    GPU_mem   box_loss   cls_loss   dfl_loss  Instances       Size\n"
     ]
    },
    {
     "name": "stderr",
     "output_type": "stream",
     "text": [
      "   107/1000      3.34G      1.159     0.6618      1.087         52        640: 100%|██████████| 74/74 [00:09<00:00,  7.62it/s]\n",
      "                 Class     Images  Instances      Box(P          R      mAP50  mAP50-95): 100%|██████████| 8/8 [00:01<00:00,  5.65it/s]\n"
     ]
    },
    {
     "name": "stdout",
     "output_type": "stream",
     "text": [
      "                   all        250       2831      0.883      0.856      0.935      0.622\n",
      "\n",
      "      Epoch    GPU_mem   box_loss   cls_loss   dfl_loss  Instances       Size\n"
     ]
    },
    {
     "name": "stderr",
     "output_type": "stream",
     "text": [
      "   108/1000      2.88G      1.165     0.6636      1.093         11        640: 100%|██████████| 74/74 [00:10<00:00,  7.37it/s]\n",
      "                 Class     Images  Instances      Box(P          R      mAP50  mAP50-95): 100%|██████████| 8/8 [00:01<00:00,  6.30it/s]"
     ]
    },
    {
     "name": "stdout",
     "output_type": "stream",
     "text": [
      "                   all        250       2831      0.898      0.845      0.937       0.62\n"
     ]
    },
    {
     "name": "stderr",
     "output_type": "stream",
     "text": [
      "\n"
     ]
    },
    {
     "name": "stdout",
     "output_type": "stream",
     "text": [
      "\n",
      "      Epoch    GPU_mem   box_loss   cls_loss   dfl_loss  Instances       Size\n"
     ]
    },
    {
     "name": "stderr",
     "output_type": "stream",
     "text": [
      "   109/1000       3.1G      1.176     0.6646      1.097         32        640: 100%|██████████| 74/74 [00:09<00:00,  7.82it/s]\n",
      "                 Class     Images  Instances      Box(P          R      mAP50  mAP50-95): 100%|██████████| 8/8 [00:01<00:00,  6.23it/s]"
     ]
    },
    {
     "name": "stdout",
     "output_type": "stream",
     "text": [
      "                   all        250       2831      0.893      0.856      0.935      0.626\n"
     ]
    },
    {
     "name": "stderr",
     "output_type": "stream",
     "text": [
      "\n"
     ]
    },
    {
     "name": "stdout",
     "output_type": "stream",
     "text": [
      "\n",
      "      Epoch    GPU_mem   box_loss   cls_loss   dfl_loss  Instances       Size\n"
     ]
    },
    {
     "name": "stderr",
     "output_type": "stream",
     "text": [
      "   110/1000      2.85G      1.158     0.6624      1.091         40        640: 100%|██████████| 74/74 [00:09<00:00,  7.84it/s]\n",
      "                 Class     Images  Instances      Box(P          R      mAP50  mAP50-95): 100%|██████████| 8/8 [00:01<00:00,  6.37it/s]"
     ]
    },
    {
     "name": "stdout",
     "output_type": "stream",
     "text": [
      "                   all        250       2831      0.893      0.864      0.934      0.621\n"
     ]
    },
    {
     "name": "stderr",
     "output_type": "stream",
     "text": [
      "\n"
     ]
    },
    {
     "name": "stdout",
     "output_type": "stream",
     "text": [
      "\n",
      "      Epoch    GPU_mem   box_loss   cls_loss   dfl_loss  Instances       Size\n"
     ]
    },
    {
     "name": "stderr",
     "output_type": "stream",
     "text": [
      "   111/1000      2.95G      1.168     0.6586      1.087         20        640: 100%|██████████| 74/74 [00:09<00:00,  7.76it/s]\n",
      "                 Class     Images  Instances      Box(P          R      mAP50  mAP50-95): 100%|██████████| 8/8 [00:01<00:00,  6.00it/s]"
     ]
    },
    {
     "name": "stdout",
     "output_type": "stream",
     "text": [
      "                   all        250       2831      0.876      0.871      0.932      0.617\n"
     ]
    },
    {
     "name": "stderr",
     "output_type": "stream",
     "text": [
      "\n"
     ]
    },
    {
     "name": "stdout",
     "output_type": "stream",
     "text": [
      "\n",
      "      Epoch    GPU_mem   box_loss   cls_loss   dfl_loss  Instances       Size\n"
     ]
    },
    {
     "name": "stderr",
     "output_type": "stream",
     "text": [
      "   112/1000      3.02G      1.169     0.6643      1.097         35        640: 100%|██████████| 74/74 [00:09<00:00,  7.89it/s]\n",
      "                 Class     Images  Instances      Box(P          R      mAP50  mAP50-95): 100%|██████████| 8/8 [00:01<00:00,  6.40it/s]"
     ]
    },
    {
     "name": "stdout",
     "output_type": "stream",
     "text": [
      "                   all        250       2831      0.873      0.864      0.933      0.623\n"
     ]
    },
    {
     "name": "stderr",
     "output_type": "stream",
     "text": [
      "\n"
     ]
    },
    {
     "name": "stdout",
     "output_type": "stream",
     "text": [
      "\n",
      "      Epoch    GPU_mem   box_loss   cls_loss   dfl_loss  Instances       Size\n"
     ]
    },
    {
     "name": "stderr",
     "output_type": "stream",
     "text": [
      "   113/1000      2.71G      1.158      0.655      1.085         12        640: 100%|██████████| 74/74 [00:09<00:00,  7.75it/s]\n",
      "                 Class     Images  Instances      Box(P          R      mAP50  mAP50-95): 100%|██████████| 8/8 [00:01<00:00,  6.21it/s]"
     ]
    },
    {
     "name": "stdout",
     "output_type": "stream",
     "text": [
      "                   all        250       2831      0.891      0.856      0.937      0.626\n"
     ]
    },
    {
     "name": "stderr",
     "output_type": "stream",
     "text": [
      "\n"
     ]
    },
    {
     "name": "stdout",
     "output_type": "stream",
     "text": [
      "\n",
      "      Epoch    GPU_mem   box_loss   cls_loss   dfl_loss  Instances       Size\n"
     ]
    },
    {
     "name": "stderr",
     "output_type": "stream",
     "text": [
      "   114/1000      2.87G       1.15     0.6555      1.084         44        640: 100%|██████████| 74/74 [00:09<00:00,  7.89it/s]\n",
      "                 Class     Images  Instances      Box(P          R      mAP50  mAP50-95): 100%|██████████| 8/8 [00:01<00:00,  6.14it/s]"
     ]
    },
    {
     "name": "stdout",
     "output_type": "stream",
     "text": [
      "                   all        250       2831      0.881      0.856       0.93      0.617\n"
     ]
    },
    {
     "name": "stderr",
     "output_type": "stream",
     "text": [
      "\n"
     ]
    },
    {
     "name": "stdout",
     "output_type": "stream",
     "text": [
      "\n",
      "      Epoch    GPU_mem   box_loss   cls_loss   dfl_loss  Instances       Size\n"
     ]
    },
    {
     "name": "stderr",
     "output_type": "stream",
     "text": [
      "   115/1000      2.83G      1.152     0.6505      1.086         40        640: 100%|██████████| 74/74 [00:09<00:00,  7.77it/s]\n",
      "                 Class     Images  Instances      Box(P          R      mAP50  mAP50-95): 100%|██████████| 8/8 [00:01<00:00,  5.86it/s]"
     ]
    },
    {
     "name": "stdout",
     "output_type": "stream",
     "text": [
      "                   all        250       2831      0.878      0.858      0.931      0.615\n"
     ]
    },
    {
     "name": "stderr",
     "output_type": "stream",
     "text": [
      "\n"
     ]
    },
    {
     "name": "stdout",
     "output_type": "stream",
     "text": [
      "\n",
      "      Epoch    GPU_mem   box_loss   cls_loss   dfl_loss  Instances       Size\n"
     ]
    },
    {
     "name": "stderr",
     "output_type": "stream",
     "text": [
      "   116/1000      3.04G      1.154     0.6492      1.087         25        640: 100%|██████████| 74/74 [00:10<00:00,  7.18it/s]\n",
      "                 Class     Images  Instances      Box(P          R      mAP50  mAP50-95): 100%|██████████| 8/8 [00:01<00:00,  5.89it/s]"
     ]
    },
    {
     "name": "stdout",
     "output_type": "stream",
     "text": [
      "                   all        250       2831      0.885      0.861      0.938      0.627\n"
     ]
    },
    {
     "name": "stderr",
     "output_type": "stream",
     "text": [
      "\n"
     ]
    },
    {
     "name": "stdout",
     "output_type": "stream",
     "text": [
      "\n",
      "      Epoch    GPU_mem   box_loss   cls_loss   dfl_loss  Instances       Size\n"
     ]
    },
    {
     "name": "stderr",
     "output_type": "stream",
     "text": [
      "   117/1000       2.9G      1.152     0.6474      1.083         17        640: 100%|██████████| 74/74 [00:09<00:00,  7.43it/s]\n",
      "                 Class     Images  Instances      Box(P          R      mAP50  mAP50-95): 100%|██████████| 8/8 [00:01<00:00,  6.27it/s]"
     ]
    },
    {
     "name": "stdout",
     "output_type": "stream",
     "text": [
      "                   all        250       2831      0.887      0.852      0.931      0.614\n"
     ]
    },
    {
     "name": "stderr",
     "output_type": "stream",
     "text": [
      "\n"
     ]
    },
    {
     "name": "stdout",
     "output_type": "stream",
     "text": [
      "\n",
      "      Epoch    GPU_mem   box_loss   cls_loss   dfl_loss  Instances       Size\n"
     ]
    },
    {
     "name": "stderr",
     "output_type": "stream",
     "text": [
      "   118/1000      2.95G      1.156     0.6521       1.09         40        640: 100%|██████████| 74/74 [00:09<00:00,  7.83it/s]\n",
      "                 Class     Images  Instances      Box(P          R      mAP50  mAP50-95): 100%|██████████| 8/8 [00:01<00:00,  6.25it/s]"
     ]
    },
    {
     "name": "stdout",
     "output_type": "stream",
     "text": [
      "                   all        250       2831      0.885      0.868      0.938      0.627\n"
     ]
    },
    {
     "name": "stderr",
     "output_type": "stream",
     "text": [
      "\n"
     ]
    },
    {
     "name": "stdout",
     "output_type": "stream",
     "text": [
      "\n",
      "      Epoch    GPU_mem   box_loss   cls_loss   dfl_loss  Instances       Size\n"
     ]
    },
    {
     "name": "stderr",
     "output_type": "stream",
     "text": [
      "   119/1000      2.86G      1.143      0.649      1.084         31        640: 100%|██████████| 74/74 [00:09<00:00,  7.87it/s]\n",
      "                 Class     Images  Instances      Box(P          R      mAP50  mAP50-95): 100%|██████████| 8/8 [00:01<00:00,  6.14it/s]"
     ]
    },
    {
     "name": "stdout",
     "output_type": "stream",
     "text": [
      "                   all        250       2831      0.886      0.861      0.934      0.622\n"
     ]
    },
    {
     "name": "stderr",
     "output_type": "stream",
     "text": [
      "\n"
     ]
    },
    {
     "name": "stdout",
     "output_type": "stream",
     "text": [
      "\n",
      "      Epoch    GPU_mem   box_loss   cls_loss   dfl_loss  Instances       Size\n"
     ]
    },
    {
     "name": "stderr",
     "output_type": "stream",
     "text": [
      "   120/1000      3.01G      1.155     0.6559      1.092         45        640: 100%|██████████| 74/74 [00:09<00:00,  7.89it/s]\n",
      "                 Class     Images  Instances      Box(P          R      mAP50  mAP50-95): 100%|██████████| 8/8 [00:01<00:00,  6.38it/s]"
     ]
    },
    {
     "name": "stdout",
     "output_type": "stream",
     "text": [
      "                   all        250       2831      0.894      0.847      0.929      0.617\n"
     ]
    },
    {
     "name": "stderr",
     "output_type": "stream",
     "text": [
      "\n"
     ]
    },
    {
     "name": "stdout",
     "output_type": "stream",
     "text": [
      "\n",
      "      Epoch    GPU_mem   box_loss   cls_loss   dfl_loss  Instances       Size\n"
     ]
    },
    {
     "name": "stderr",
     "output_type": "stream",
     "text": [
      "   121/1000      3.06G      1.143     0.6583      1.086          5        640: 100%|██████████| 74/74 [00:09<00:00,  7.67it/s]\n",
      "                 Class     Images  Instances      Box(P          R      mAP50  mAP50-95): 100%|██████████| 8/8 [00:01<00:00,  6.36it/s]"
     ]
    },
    {
     "name": "stdout",
     "output_type": "stream",
     "text": [
      "                   all        250       2831      0.902      0.848      0.935      0.628\n"
     ]
    },
    {
     "name": "stderr",
     "output_type": "stream",
     "text": [
      "\n"
     ]
    },
    {
     "name": "stdout",
     "output_type": "stream",
     "text": [
      "\n",
      "      Epoch    GPU_mem   box_loss   cls_loss   dfl_loss  Instances       Size\n"
     ]
    },
    {
     "name": "stderr",
     "output_type": "stream",
     "text": [
      "   122/1000      2.76G      1.139     0.6496      1.085         30        640: 100%|██████████| 74/74 [00:09<00:00,  7.85it/s]\n",
      "                 Class     Images  Instances      Box(P          R      mAP50  mAP50-95): 100%|██████████| 8/8 [00:01<00:00,  6.25it/s]"
     ]
    },
    {
     "name": "stdout",
     "output_type": "stream",
     "text": [
      "                   all        250       2831      0.889       0.86      0.932      0.619\n"
     ]
    },
    {
     "name": "stderr",
     "output_type": "stream",
     "text": [
      "\n"
     ]
    },
    {
     "name": "stdout",
     "output_type": "stream",
     "text": [
      "\n",
      "      Epoch    GPU_mem   box_loss   cls_loss   dfl_loss  Instances       Size\n"
     ]
    },
    {
     "name": "stderr",
     "output_type": "stream",
     "text": [
      "   123/1000       3.1G       1.14     0.6416      1.079         69        640: 100%|██████████| 74/74 [00:09<00:00,  7.91it/s]\n",
      "                 Class     Images  Instances      Box(P          R      mAP50  mAP50-95): 100%|██████████| 8/8 [00:01<00:00,  6.28it/s]"
     ]
    },
    {
     "name": "stdout",
     "output_type": "stream",
     "text": [
      "                   all        250       2831      0.895      0.852      0.935      0.624\n"
     ]
    },
    {
     "name": "stderr",
     "output_type": "stream",
     "text": [
      "\n"
     ]
    },
    {
     "name": "stdout",
     "output_type": "stream",
     "text": [
      "\n",
      "      Epoch    GPU_mem   box_loss   cls_loss   dfl_loss  Instances       Size\n"
     ]
    },
    {
     "name": "stderr",
     "output_type": "stream",
     "text": [
      "   124/1000      2.77G      1.141      0.644      1.078         31        640: 100%|██████████| 74/74 [00:09<00:00,  7.82it/s]\n",
      "                 Class     Images  Instances      Box(P          R      mAP50  mAP50-95): 100%|██████████| 8/8 [00:01<00:00,  6.26it/s]"
     ]
    },
    {
     "name": "stdout",
     "output_type": "stream",
     "text": [
      "                   all        250       2831      0.882      0.857      0.933      0.624\n"
     ]
    },
    {
     "name": "stderr",
     "output_type": "stream",
     "text": [
      "\n"
     ]
    },
    {
     "name": "stdout",
     "output_type": "stream",
     "text": [
      "\n",
      "      Epoch    GPU_mem   box_loss   cls_loss   dfl_loss  Instances       Size\n"
     ]
    },
    {
     "name": "stderr",
     "output_type": "stream",
     "text": [
      "   125/1000      2.89G       1.14     0.6427      1.083         31        640: 100%|██████████| 74/74 [00:09<00:00,  7.65it/s]\n",
      "                 Class     Images  Instances      Box(P          R      mAP50  mAP50-95): 100%|██████████| 8/8 [00:01<00:00,  6.07it/s]"
     ]
    },
    {
     "name": "stdout",
     "output_type": "stream",
     "text": [
      "                   all        250       2831      0.887      0.864      0.936      0.625\n"
     ]
    },
    {
     "name": "stderr",
     "output_type": "stream",
     "text": [
      "\n"
     ]
    },
    {
     "name": "stdout",
     "output_type": "stream",
     "text": [
      "\n",
      "      Epoch    GPU_mem   box_loss   cls_loss   dfl_loss  Instances       Size\n"
     ]
    },
    {
     "name": "stderr",
     "output_type": "stream",
     "text": [
      "   126/1000      2.77G      1.142     0.6381      1.081         63        640: 100%|██████████| 74/74 [00:09<00:00,  7.54it/s]\n",
      "                 Class     Images  Instances      Box(P          R      mAP50  mAP50-95): 100%|██████████| 8/8 [00:01<00:00,  5.76it/s]\n"
     ]
    },
    {
     "name": "stdout",
     "output_type": "stream",
     "text": [
      "                   all        250       2831        0.9      0.848      0.937      0.625\n",
      "\n",
      "      Epoch    GPU_mem   box_loss   cls_loss   dfl_loss  Instances       Size\n"
     ]
    },
    {
     "name": "stderr",
     "output_type": "stream",
     "text": [
      "   127/1000      3.15G      1.138     0.6365      1.077         44        640: 100%|██████████| 74/74 [00:10<00:00,  7.18it/s]\n",
      "                 Class     Images  Instances      Box(P          R      mAP50  mAP50-95): 100%|██████████| 8/8 [00:01<00:00,  5.88it/s]"
     ]
    },
    {
     "name": "stdout",
     "output_type": "stream",
     "text": [
      "                   all        250       2831      0.889      0.852      0.933      0.623\n"
     ]
    },
    {
     "name": "stderr",
     "output_type": "stream",
     "text": [
      "\n"
     ]
    },
    {
     "name": "stdout",
     "output_type": "stream",
     "text": [
      "\n",
      "      Epoch    GPU_mem   box_loss   cls_loss   dfl_loss  Instances       Size\n"
     ]
    },
    {
     "name": "stderr",
     "output_type": "stream",
     "text": [
      "   128/1000      3.34G      1.141     0.6358      1.082         33        640: 100%|██████████| 74/74 [00:10<00:00,  7.10it/s]\n",
      "                 Class     Images  Instances      Box(P          R      mAP50  mAP50-95): 100%|██████████| 8/8 [00:01<00:00,  5.73it/s]"
     ]
    },
    {
     "name": "stdout",
     "output_type": "stream",
     "text": [
      "                   all        250       2831      0.903      0.852      0.939      0.625\n"
     ]
    },
    {
     "name": "stderr",
     "output_type": "stream",
     "text": [
      "\n"
     ]
    },
    {
     "name": "stdout",
     "output_type": "stream",
     "text": [
      "\n",
      "      Epoch    GPU_mem   box_loss   cls_loss   dfl_loss  Instances       Size\n"
     ]
    },
    {
     "name": "stderr",
     "output_type": "stream",
     "text": [
      "   129/1000      2.92G      1.143     0.6399       1.08          8        640: 100%|██████████| 74/74 [00:09<00:00,  7.86it/s]\n",
      "                 Class     Images  Instances      Box(P          R      mAP50  mAP50-95): 100%|██████████| 8/8 [00:01<00:00,  6.25it/s]"
     ]
    },
    {
     "name": "stdout",
     "output_type": "stream",
     "text": [
      "                   all        250       2831      0.895      0.853      0.937      0.629\n"
     ]
    },
    {
     "name": "stderr",
     "output_type": "stream",
     "text": [
      "\n"
     ]
    },
    {
     "name": "stdout",
     "output_type": "stream",
     "text": [
      "\n",
      "      Epoch    GPU_mem   box_loss   cls_loss   dfl_loss  Instances       Size\n"
     ]
    },
    {
     "name": "stderr",
     "output_type": "stream",
     "text": [
      "   130/1000      3.15G      1.142     0.6372      1.075          8        640: 100%|██████████| 74/74 [00:09<00:00,  7.82it/s]\n",
      "                 Class     Images  Instances      Box(P          R      mAP50  mAP50-95): 100%|██████████| 8/8 [00:01<00:00,  6.34it/s]"
     ]
    },
    {
     "name": "stdout",
     "output_type": "stream",
     "text": [
      "                   all        250       2831      0.891      0.861      0.934      0.609\n"
     ]
    },
    {
     "name": "stderr",
     "output_type": "stream",
     "text": [
      "\n"
     ]
    },
    {
     "name": "stdout",
     "output_type": "stream",
     "text": [
      "\n",
      "      Epoch    GPU_mem   box_loss   cls_loss   dfl_loss  Instances       Size\n"
     ]
    },
    {
     "name": "stderr",
     "output_type": "stream",
     "text": [
      "   131/1000      2.94G      1.141     0.6347      1.075         37        640: 100%|██████████| 74/74 [00:09<00:00,  7.82it/s]\n",
      "                 Class     Images  Instances      Box(P          R      mAP50  mAP50-95): 100%|██████████| 8/8 [00:01<00:00,  6.19it/s]"
     ]
    },
    {
     "name": "stdout",
     "output_type": "stream",
     "text": [
      "                   all        250       2831      0.917      0.836      0.937      0.623\n"
     ]
    },
    {
     "name": "stderr",
     "output_type": "stream",
     "text": [
      "\n"
     ]
    },
    {
     "name": "stdout",
     "output_type": "stream",
     "text": [
      "\n",
      "      Epoch    GPU_mem   box_loss   cls_loss   dfl_loss  Instances       Size\n"
     ]
    },
    {
     "name": "stderr",
     "output_type": "stream",
     "text": [
      "   132/1000      3.03G      1.127     0.6298      1.075         33        640: 100%|██████████| 74/74 [00:09<00:00,  7.86it/s]\n",
      "                 Class     Images  Instances      Box(P          R      mAP50  mAP50-95): 100%|██████████| 8/8 [00:01<00:00,  6.19it/s]"
     ]
    },
    {
     "name": "stdout",
     "output_type": "stream",
     "text": [
      "                   all        250       2831      0.891      0.861      0.937      0.624\n"
     ]
    },
    {
     "name": "stderr",
     "output_type": "stream",
     "text": [
      "\n"
     ]
    },
    {
     "name": "stdout",
     "output_type": "stream",
     "text": [
      "\n",
      "      Epoch    GPU_mem   box_loss   cls_loss   dfl_loss  Instances       Size\n"
     ]
    },
    {
     "name": "stderr",
     "output_type": "stream",
     "text": [
      "   133/1000      2.97G      1.128     0.6379      1.079         10        640: 100%|██████████| 74/74 [00:09<00:00,  7.64it/s]\n",
      "                 Class     Images  Instances      Box(P          R      mAP50  mAP50-95): 100%|██████████| 8/8 [00:01<00:00,  6.27it/s]"
     ]
    },
    {
     "name": "stdout",
     "output_type": "stream",
     "text": [
      "                   all        250       2831      0.895      0.863       0.94      0.623\n"
     ]
    },
    {
     "name": "stderr",
     "output_type": "stream",
     "text": [
      "\n"
     ]
    },
    {
     "name": "stdout",
     "output_type": "stream",
     "text": [
      "\n",
      "      Epoch    GPU_mem   box_loss   cls_loss   dfl_loss  Instances       Size\n"
     ]
    },
    {
     "name": "stderr",
     "output_type": "stream",
     "text": [
      "   134/1000      2.87G      1.147     0.6346      1.078         30        640: 100%|██████████| 74/74 [00:09<00:00,  7.82it/s]\n",
      "                 Class     Images  Instances      Box(P          R      mAP50  mAP50-95): 100%|██████████| 8/8 [00:01<00:00,  6.22it/s]"
     ]
    },
    {
     "name": "stdout",
     "output_type": "stream",
     "text": [
      "                   all        250       2831        0.9      0.857      0.936      0.625\n"
     ]
    },
    {
     "name": "stderr",
     "output_type": "stream",
     "text": [
      "\n"
     ]
    },
    {
     "name": "stdout",
     "output_type": "stream",
     "text": [
      "\n",
      "      Epoch    GPU_mem   box_loss   cls_loss   dfl_loss  Instances       Size\n"
     ]
    },
    {
     "name": "stderr",
     "output_type": "stream",
     "text": [
      "   135/1000      3.03G      1.133     0.6304      1.078         44        640: 100%|██████████| 74/74 [00:09<00:00,  7.83it/s]\n",
      "                 Class     Images  Instances      Box(P          R      mAP50  mAP50-95): 100%|██████████| 8/8 [00:01<00:00,  6.30it/s]"
     ]
    },
    {
     "name": "stdout",
     "output_type": "stream",
     "text": [
      "                   all        250       2831      0.885      0.873      0.938      0.625\n"
     ]
    },
    {
     "name": "stderr",
     "output_type": "stream",
     "text": [
      "\n"
     ]
    },
    {
     "name": "stdout",
     "output_type": "stream",
     "text": [
      "\n",
      "      Epoch    GPU_mem   box_loss   cls_loss   dfl_loss  Instances       Size\n"
     ]
    },
    {
     "name": "stderr",
     "output_type": "stream",
     "text": [
      "   136/1000      2.78G      1.133     0.6317      1.072         29        640: 100%|██████████| 74/74 [00:09<00:00,  7.85it/s]\n",
      "                 Class     Images  Instances      Box(P          R      mAP50  mAP50-95): 100%|██████████| 8/8 [00:01<00:00,  6.09it/s]"
     ]
    },
    {
     "name": "stdout",
     "output_type": "stream",
     "text": [
      "                   all        250       2831      0.896      0.853      0.935      0.626\n"
     ]
    },
    {
     "name": "stderr",
     "output_type": "stream",
     "text": [
      "\n"
     ]
    },
    {
     "name": "stdout",
     "output_type": "stream",
     "text": [
      "\n",
      "      Epoch    GPU_mem   box_loss   cls_loss   dfl_loss  Instances       Size\n"
     ]
    },
    {
     "name": "stderr",
     "output_type": "stream",
     "text": [
      "   137/1000      3.19G       1.13     0.6296      1.074         23        640: 100%|██████████| 74/74 [00:09<00:00,  7.69it/s]\n",
      "                 Class     Images  Instances      Box(P          R      mAP50  mAP50-95): 100%|██████████| 8/8 [00:01<00:00,  6.31it/s]"
     ]
    },
    {
     "name": "stdout",
     "output_type": "stream",
     "text": [
      "                   all        250       2831      0.903      0.849      0.937      0.627\n"
     ]
    },
    {
     "name": "stderr",
     "output_type": "stream",
     "text": [
      "\n"
     ]
    },
    {
     "name": "stdout",
     "output_type": "stream",
     "text": [
      "\n",
      "      Epoch    GPU_mem   box_loss   cls_loss   dfl_loss  Instances       Size\n"
     ]
    },
    {
     "name": "stderr",
     "output_type": "stream",
     "text": [
      "   138/1000      2.82G      1.117     0.6283      1.065         20        640: 100%|██████████| 74/74 [00:09<00:00,  7.57it/s]\n",
      "                 Class     Images  Instances      Box(P          R      mAP50  mAP50-95): 100%|██████████| 8/8 [00:01<00:00,  6.28it/s]"
     ]
    },
    {
     "name": "stdout",
     "output_type": "stream",
     "text": [
      "                   all        250       2831      0.895       0.84      0.933       0.62\n"
     ]
    },
    {
     "name": "stderr",
     "output_type": "stream",
     "text": [
      "\n"
     ]
    },
    {
     "name": "stdout",
     "output_type": "stream",
     "text": [
      "\n",
      "      Epoch    GPU_mem   box_loss   cls_loss   dfl_loss  Instances       Size\n"
     ]
    },
    {
     "name": "stderr",
     "output_type": "stream",
     "text": [
      "   139/1000      3.27G      1.113     0.6231      1.071         10        640: 100%|██████████| 74/74 [00:09<00:00,  7.85it/s]\n",
      "                 Class     Images  Instances      Box(P          R      mAP50  mAP50-95): 100%|██████████| 8/8 [00:01<00:00,  6.17it/s]"
     ]
    },
    {
     "name": "stdout",
     "output_type": "stream",
     "text": [
      "                   all        250       2831      0.904       0.85      0.934      0.623\n"
     ]
    },
    {
     "name": "stderr",
     "output_type": "stream",
     "text": [
      "\n"
     ]
    },
    {
     "name": "stdout",
     "output_type": "stream",
     "text": [
      "\n",
      "      Epoch    GPU_mem   box_loss   cls_loss   dfl_loss  Instances       Size\n"
     ]
    },
    {
     "name": "stderr",
     "output_type": "stream",
     "text": [
      "   140/1000      2.77G      1.128     0.6295      1.072         40        640: 100%|██████████| 74/74 [00:10<00:00,  7.31it/s]\n",
      "                 Class     Images  Instances      Box(P          R      mAP50  mAP50-95): 100%|██████████| 8/8 [00:01<00:00,  5.68it/s]"
     ]
    },
    {
     "name": "stdout",
     "output_type": "stream",
     "text": [
      "                   all        250       2831      0.875      0.863      0.933      0.624\n"
     ]
    },
    {
     "name": "stderr",
     "output_type": "stream",
     "text": [
      "\n"
     ]
    },
    {
     "name": "stdout",
     "output_type": "stream",
     "text": [
      "\n",
      "      Epoch    GPU_mem   box_loss   cls_loss   dfl_loss  Instances       Size\n"
     ]
    },
    {
     "name": "stderr",
     "output_type": "stream",
     "text": [
      "   141/1000      2.77G      1.128     0.6321      1.073         22        640: 100%|██████████| 74/74 [00:10<00:00,  7.39it/s]\n",
      "                 Class     Images  Instances      Box(P          R      mAP50  mAP50-95): 100%|██████████| 8/8 [00:01<00:00,  6.52it/s]"
     ]
    },
    {
     "name": "stdout",
     "output_type": "stream",
     "text": [
      "                   all        250       2831      0.891      0.847      0.934       0.62\n"
     ]
    },
    {
     "name": "stderr",
     "output_type": "stream",
     "text": [
      "\n"
     ]
    },
    {
     "name": "stdout",
     "output_type": "stream",
     "text": [
      "\n",
      "      Epoch    GPU_mem   box_loss   cls_loss   dfl_loss  Instances       Size\n"
     ]
    },
    {
     "name": "stderr",
     "output_type": "stream",
     "text": [
      "   142/1000      2.98G      1.117     0.6223       1.07         19        640: 100%|██████████| 74/74 [00:08<00:00,  8.24it/s]\n",
      "                 Class     Images  Instances      Box(P          R      mAP50  mAP50-95): 100%|██████████| 8/8 [00:01<00:00,  6.64it/s]"
     ]
    },
    {
     "name": "stdout",
     "output_type": "stream",
     "text": [
      "                   all        250       2831      0.904      0.862      0.938      0.632\n"
     ]
    },
    {
     "name": "stderr",
     "output_type": "stream",
     "text": [
      "\n"
     ]
    },
    {
     "name": "stdout",
     "output_type": "stream",
     "text": [
      "\n",
      "      Epoch    GPU_mem   box_loss   cls_loss   dfl_loss  Instances       Size\n"
     ]
    },
    {
     "name": "stderr",
     "output_type": "stream",
     "text": [
      "   143/1000      2.72G      1.124     0.6275      1.069         55        640: 100%|██████████| 74/74 [00:09<00:00,  8.16it/s]\n",
      "                 Class     Images  Instances      Box(P          R      mAP50  mAP50-95): 100%|██████████| 8/8 [00:01<00:00,  6.39it/s]"
     ]
    },
    {
     "name": "stdout",
     "output_type": "stream",
     "text": [
      "                   all        250       2831      0.903      0.855       0.94       0.63\n"
     ]
    },
    {
     "name": "stderr",
     "output_type": "stream",
     "text": [
      "\n"
     ]
    },
    {
     "name": "stdout",
     "output_type": "stream",
     "text": [
      "\n",
      "      Epoch    GPU_mem   box_loss   cls_loss   dfl_loss  Instances       Size\n"
     ]
    },
    {
     "name": "stderr",
     "output_type": "stream",
     "text": [
      "   144/1000      2.85G      1.133     0.6322      1.075         43        640: 100%|██████████| 74/74 [00:09<00:00,  8.17it/s]\n",
      "                 Class     Images  Instances      Box(P          R      mAP50  mAP50-95): 100%|██████████| 8/8 [00:01<00:00,  6.65it/s]"
     ]
    },
    {
     "name": "stdout",
     "output_type": "stream",
     "text": [
      "                   all        250       2831      0.884      0.871      0.936       0.63\n"
     ]
    },
    {
     "name": "stderr",
     "output_type": "stream",
     "text": [
      "\n"
     ]
    },
    {
     "name": "stdout",
     "output_type": "stream",
     "text": [
      "\n",
      "      Epoch    GPU_mem   box_loss   cls_loss   dfl_loss  Instances       Size\n"
     ]
    },
    {
     "name": "stderr",
     "output_type": "stream",
     "text": [
      "   145/1000      2.85G      1.111     0.6132      1.065         30        640: 100%|██████████| 74/74 [00:08<00:00,  8.24it/s]\n",
      "                 Class     Images  Instances      Box(P          R      mAP50  mAP50-95): 100%|██████████| 8/8 [00:01<00:00,  6.55it/s]"
     ]
    },
    {
     "name": "stdout",
     "output_type": "stream",
     "text": [
      "                   all        250       2831      0.896      0.856      0.936      0.627\n"
     ]
    },
    {
     "name": "stderr",
     "output_type": "stream",
     "text": [
      "\n"
     ]
    },
    {
     "name": "stdout",
     "output_type": "stream",
     "text": [
      "\n",
      "      Epoch    GPU_mem   box_loss   cls_loss   dfl_loss  Instances       Size\n"
     ]
    },
    {
     "name": "stderr",
     "output_type": "stream",
     "text": [
      "   146/1000      2.95G      1.135     0.6256      1.072         39        640: 100%|██████████| 74/74 [00:08<00:00,  8.24it/s]\n",
      "                 Class     Images  Instances      Box(P          R      mAP50  mAP50-95): 100%|██████████| 8/8 [00:01<00:00,  6.41it/s]"
     ]
    },
    {
     "name": "stdout",
     "output_type": "stream",
     "text": [
      "                   all        250       2831      0.899      0.853      0.935      0.626\n"
     ]
    },
    {
     "name": "stderr",
     "output_type": "stream",
     "text": [
      "\n"
     ]
    },
    {
     "name": "stdout",
     "output_type": "stream",
     "text": [
      "\n",
      "      Epoch    GPU_mem   box_loss   cls_loss   dfl_loss  Instances       Size\n"
     ]
    },
    {
     "name": "stderr",
     "output_type": "stream",
     "text": [
      "   147/1000      2.82G      1.131     0.6285      1.077         20        640: 100%|██████████| 74/74 [00:08<00:00,  8.28it/s]\n",
      "                 Class     Images  Instances      Box(P          R      mAP50  mAP50-95): 100%|██████████| 8/8 [00:01<00:00,  6.71it/s]"
     ]
    },
    {
     "name": "stdout",
     "output_type": "stream",
     "text": [
      "                   all        250       2831      0.902       0.87      0.937      0.625\n"
     ]
    },
    {
     "name": "stderr",
     "output_type": "stream",
     "text": [
      "\n"
     ]
    },
    {
     "name": "stdout",
     "output_type": "stream",
     "text": [
      "\n",
      "      Epoch    GPU_mem   box_loss   cls_loss   dfl_loss  Instances       Size\n"
     ]
    },
    {
     "name": "stderr",
     "output_type": "stream",
     "text": [
      "   148/1000      3.13G      1.139     0.6375      1.079          8        640: 100%|██████████| 74/74 [00:08<00:00,  8.24it/s]\n",
      "                 Class     Images  Instances      Box(P          R      mAP50  mAP50-95): 100%|██████████| 8/8 [00:01<00:00,  6.65it/s]"
     ]
    },
    {
     "name": "stdout",
     "output_type": "stream",
     "text": [
      "                   all        250       2831        0.9      0.858      0.939      0.629\n"
     ]
    },
    {
     "name": "stderr",
     "output_type": "stream",
     "text": [
      "\n"
     ]
    },
    {
     "name": "stdout",
     "output_type": "stream",
     "text": [
      "\n",
      "      Epoch    GPU_mem   box_loss   cls_loss   dfl_loss  Instances       Size\n"
     ]
    },
    {
     "name": "stderr",
     "output_type": "stream",
     "text": [
      "   149/1000      2.81G      1.122     0.6208      1.064         23        640: 100%|██████████| 74/74 [00:08<00:00,  8.26it/s]\n",
      "                 Class     Images  Instances      Box(P          R      mAP50  mAP50-95): 100%|██████████| 8/8 [00:01<00:00,  6.72it/s]"
     ]
    },
    {
     "name": "stdout",
     "output_type": "stream",
     "text": [
      "                   all        250       2831      0.896      0.861      0.936      0.626\n"
     ]
    },
    {
     "name": "stderr",
     "output_type": "stream",
     "text": [
      "\n"
     ]
    },
    {
     "name": "stdout",
     "output_type": "stream",
     "text": [
      "\n",
      "      Epoch    GPU_mem   box_loss   cls_loss   dfl_loss  Instances       Size\n"
     ]
    },
    {
     "name": "stderr",
     "output_type": "stream",
     "text": [
      "   150/1000      2.88G       1.13     0.6278       1.07         53        640: 100%|██████████| 74/74 [00:08<00:00,  8.26it/s]\n",
      "                 Class     Images  Instances      Box(P          R      mAP50  mAP50-95): 100%|██████████| 8/8 [00:01<00:00,  6.76it/s]"
     ]
    },
    {
     "name": "stdout",
     "output_type": "stream",
     "text": [
      "                   all        250       2831      0.906      0.842      0.934       0.62\n"
     ]
    },
    {
     "name": "stderr",
     "output_type": "stream",
     "text": [
      "\n"
     ]
    },
    {
     "name": "stdout",
     "output_type": "stream",
     "text": [
      "\n",
      "      Epoch    GPU_mem   box_loss   cls_loss   dfl_loss  Instances       Size\n"
     ]
    },
    {
     "name": "stderr",
     "output_type": "stream",
     "text": [
      "   151/1000      2.89G      1.113     0.6184      1.063         48        640: 100%|██████████| 74/74 [00:08<00:00,  8.31it/s]\n",
      "                 Class     Images  Instances      Box(P          R      mAP50  mAP50-95): 100%|██████████| 8/8 [00:01<00:00,  6.51it/s]"
     ]
    },
    {
     "name": "stdout",
     "output_type": "stream",
     "text": [
      "                   all        250       2831      0.883       0.87       0.94      0.629\n"
     ]
    },
    {
     "name": "stderr",
     "output_type": "stream",
     "text": [
      "\n"
     ]
    },
    {
     "name": "stdout",
     "output_type": "stream",
     "text": [
      "\n",
      "      Epoch    GPU_mem   box_loss   cls_loss   dfl_loss  Instances       Size\n"
     ]
    },
    {
     "name": "stderr",
     "output_type": "stream",
     "text": [
      "   152/1000      2.88G      1.119     0.6196      1.065         14        640: 100%|██████████| 74/74 [00:09<00:00,  8.17it/s]\n",
      "                 Class     Images  Instances      Box(P          R      mAP50  mAP50-95): 100%|██████████| 8/8 [00:01<00:00,  6.74it/s]"
     ]
    },
    {
     "name": "stdout",
     "output_type": "stream",
     "text": [
      "                   all        250       2831      0.908      0.848      0.937      0.625\n"
     ]
    },
    {
     "name": "stderr",
     "output_type": "stream",
     "text": [
      "\n"
     ]
    },
    {
     "name": "stdout",
     "output_type": "stream",
     "text": [
      "\n",
      "      Epoch    GPU_mem   box_loss   cls_loss   dfl_loss  Instances       Size\n"
     ]
    },
    {
     "name": "stderr",
     "output_type": "stream",
     "text": [
      "   153/1000      2.95G      1.112      0.616      1.061         38        640: 100%|██████████| 74/74 [00:08<00:00,  8.32it/s]\n",
      "                 Class     Images  Instances      Box(P          R      mAP50  mAP50-95): 100%|██████████| 8/8 [00:01<00:00,  6.71it/s]"
     ]
    },
    {
     "name": "stdout",
     "output_type": "stream",
     "text": [
      "                   all        250       2831      0.902      0.861      0.938      0.627\n"
     ]
    },
    {
     "name": "stderr",
     "output_type": "stream",
     "text": [
      "\n"
     ]
    },
    {
     "name": "stdout",
     "output_type": "stream",
     "text": [
      "\n",
      "      Epoch    GPU_mem   box_loss   cls_loss   dfl_loss  Instances       Size\n"
     ]
    },
    {
     "name": "stderr",
     "output_type": "stream",
     "text": [
      "   154/1000      2.81G      1.115     0.6151      1.067         36        640: 100%|██████████| 74/74 [00:08<00:00,  8.31it/s]\n",
      "                 Class     Images  Instances      Box(P          R      mAP50  mAP50-95): 100%|██████████| 8/8 [00:01<00:00,  6.71it/s]"
     ]
    },
    {
     "name": "stdout",
     "output_type": "stream",
     "text": [
      "                   all        250       2831      0.885      0.862      0.932      0.621\n"
     ]
    },
    {
     "name": "stderr",
     "output_type": "stream",
     "text": [
      "\n"
     ]
    },
    {
     "name": "stdout",
     "output_type": "stream",
     "text": [
      "\n",
      "      Epoch    GPU_mem   box_loss   cls_loss   dfl_loss  Instances       Size\n"
     ]
    },
    {
     "name": "stderr",
     "output_type": "stream",
     "text": [
      "   155/1000      2.75G      1.105     0.6122      1.063         24        640: 100%|██████████| 74/74 [00:08<00:00,  8.25it/s]\n",
      "                 Class     Images  Instances      Box(P          R      mAP50  mAP50-95): 100%|██████████| 8/8 [00:01<00:00,  6.76it/s]"
     ]
    },
    {
     "name": "stdout",
     "output_type": "stream",
     "text": [
      "                   all        250       2831      0.898      0.865      0.936      0.625\n"
     ]
    },
    {
     "name": "stderr",
     "output_type": "stream",
     "text": [
      "\n"
     ]
    },
    {
     "name": "stdout",
     "output_type": "stream",
     "text": [
      "\n",
      "      Epoch    GPU_mem   box_loss   cls_loss   dfl_loss  Instances       Size\n"
     ]
    },
    {
     "name": "stderr",
     "output_type": "stream",
     "text": [
      "   156/1000      2.84G      1.117     0.6117      1.071         18        640: 100%|██████████| 74/74 [00:08<00:00,  8.33it/s]\n",
      "                 Class     Images  Instances      Box(P          R      mAP50  mAP50-95): 100%|██████████| 8/8 [00:01<00:00,  6.70it/s]"
     ]
    },
    {
     "name": "stdout",
     "output_type": "stream",
     "text": [
      "                   all        250       2831      0.885      0.874      0.939      0.629\n"
     ]
    },
    {
     "name": "stderr",
     "output_type": "stream",
     "text": [
      "\n"
     ]
    },
    {
     "name": "stdout",
     "output_type": "stream",
     "text": [
      "\n",
      "      Epoch    GPU_mem   box_loss   cls_loss   dfl_loss  Instances       Size\n"
     ]
    },
    {
     "name": "stderr",
     "output_type": "stream",
     "text": [
      "   157/1000      3.03G      1.114     0.6184      1.067         13        640: 100%|██████████| 74/74 [00:09<00:00,  8.20it/s]\n",
      "                 Class     Images  Instances      Box(P          R      mAP50  mAP50-95): 100%|██████████| 8/8 [00:01<00:00,  6.57it/s]"
     ]
    },
    {
     "name": "stdout",
     "output_type": "stream",
     "text": [
      "                   all        250       2831      0.889      0.866      0.936      0.622\n"
     ]
    },
    {
     "name": "stderr",
     "output_type": "stream",
     "text": [
      "\n"
     ]
    },
    {
     "name": "stdout",
     "output_type": "stream",
     "text": [
      "\n",
      "      Epoch    GPU_mem   box_loss   cls_loss   dfl_loss  Instances       Size\n"
     ]
    },
    {
     "name": "stderr",
     "output_type": "stream",
     "text": [
      "   158/1000      2.72G      1.109     0.6124      1.061         32        640: 100%|██████████| 74/74 [00:08<00:00,  8.33it/s]\n",
      "                 Class     Images  Instances      Box(P          R      mAP50  mAP50-95): 100%|██████████| 8/8 [00:01<00:00,  6.67it/s]"
     ]
    },
    {
     "name": "stdout",
     "output_type": "stream",
     "text": [
      "                   all        250       2831        0.9      0.856      0.936      0.622\n"
     ]
    },
    {
     "name": "stderr",
     "output_type": "stream",
     "text": [
      "\n"
     ]
    },
    {
     "name": "stdout",
     "output_type": "stream",
     "text": [
      "\n",
      "      Epoch    GPU_mem   box_loss   cls_loss   dfl_loss  Instances       Size\n"
     ]
    },
    {
     "name": "stderr",
     "output_type": "stream",
     "text": [
      "   159/1000      2.87G      1.106     0.6068      1.068         28        640: 100%|██████████| 74/74 [00:09<00:00,  8.19it/s]\n",
      "                 Class     Images  Instances      Box(P          R      mAP50  mAP50-95): 100%|██████████| 8/8 [00:01<00:00,  6.71it/s]"
     ]
    },
    {
     "name": "stdout",
     "output_type": "stream",
     "text": [
      "                   all        250       2831      0.899      0.854      0.937      0.624\n"
     ]
    },
    {
     "name": "stderr",
     "output_type": "stream",
     "text": [
      "\n"
     ]
    },
    {
     "name": "stdout",
     "output_type": "stream",
     "text": [
      "\n",
      "      Epoch    GPU_mem   box_loss   cls_loss   dfl_loss  Instances       Size\n"
     ]
    },
    {
     "name": "stderr",
     "output_type": "stream",
     "text": [
      "   160/1000      3.24G      1.115      0.609      1.058         23        640: 100%|██████████| 74/74 [00:08<00:00,  8.29it/s]\n",
      "                 Class     Images  Instances      Box(P          R      mAP50  mAP50-95): 100%|██████████| 8/8 [00:01<00:00,  6.70it/s]"
     ]
    },
    {
     "name": "stdout",
     "output_type": "stream",
     "text": [
      "                   all        250       2831      0.878      0.863      0.929      0.612\n"
     ]
    },
    {
     "name": "stderr",
     "output_type": "stream",
     "text": [
      "\n"
     ]
    },
    {
     "name": "stdout",
     "output_type": "stream",
     "text": [
      "\n",
      "      Epoch    GPU_mem   box_loss   cls_loss   dfl_loss  Instances       Size\n"
     ]
    },
    {
     "name": "stderr",
     "output_type": "stream",
     "text": [
      "   161/1000      2.73G      1.107     0.6073      1.066         39        640: 100%|██████████| 74/74 [00:08<00:00,  8.28it/s]\n",
      "                 Class     Images  Instances      Box(P          R      mAP50  mAP50-95): 100%|██████████| 8/8 [00:01<00:00,  6.45it/s]"
     ]
    },
    {
     "name": "stdout",
     "output_type": "stream",
     "text": [
      "                   all        250       2831      0.888      0.866      0.937      0.625\n"
     ]
    },
    {
     "name": "stderr",
     "output_type": "stream",
     "text": [
      "\n"
     ]
    },
    {
     "name": "stdout",
     "output_type": "stream",
     "text": [
      "\n",
      "      Epoch    GPU_mem   box_loss   cls_loss   dfl_loss  Instances       Size\n"
     ]
    },
    {
     "name": "stderr",
     "output_type": "stream",
     "text": [
      "   162/1000      2.96G      1.117     0.6148       1.07         19        640: 100%|██████████| 74/74 [00:09<00:00,  8.21it/s]\n",
      "                 Class     Images  Instances      Box(P          R      mAP50  mAP50-95): 100%|██████████| 8/8 [00:01<00:00,  6.65it/s]"
     ]
    },
    {
     "name": "stdout",
     "output_type": "stream",
     "text": [
      "                   all        250       2831      0.895      0.865       0.94      0.629\n"
     ]
    },
    {
     "name": "stderr",
     "output_type": "stream",
     "text": [
      "\n"
     ]
    },
    {
     "name": "stdout",
     "output_type": "stream",
     "text": [
      "\n",
      "      Epoch    GPU_mem   box_loss   cls_loss   dfl_loss  Instances       Size\n"
     ]
    },
    {
     "name": "stderr",
     "output_type": "stream",
     "text": [
      "   163/1000      3.06G      1.105     0.6078      1.057         15        640: 100%|██████████| 74/74 [00:08<00:00,  8.32it/s]\n",
      "                 Class     Images  Instances      Box(P          R      mAP50  mAP50-95): 100%|██████████| 8/8 [00:01<00:00,  6.71it/s]"
     ]
    },
    {
     "name": "stdout",
     "output_type": "stream",
     "text": [
      "                   all        250       2831      0.895      0.873      0.939      0.632\n"
     ]
    },
    {
     "name": "stderr",
     "output_type": "stream",
     "text": [
      "\n"
     ]
    },
    {
     "name": "stdout",
     "output_type": "stream",
     "text": [
      "\n",
      "      Epoch    GPU_mem   box_loss   cls_loss   dfl_loss  Instances       Size\n"
     ]
    },
    {
     "name": "stderr",
     "output_type": "stream",
     "text": [
      "   164/1000      2.79G      1.112     0.6019      1.061         28        640: 100%|██████████| 74/74 [00:09<00:00,  8.19it/s]\n",
      "                 Class     Images  Instances      Box(P          R      mAP50  mAP50-95): 100%|██████████| 8/8 [00:01<00:00,  6.65it/s]"
     ]
    },
    {
     "name": "stdout",
     "output_type": "stream",
     "text": [
      "                   all        250       2831      0.907      0.838      0.928      0.612\n"
     ]
    },
    {
     "name": "stderr",
     "output_type": "stream",
     "text": [
      "\n"
     ]
    },
    {
     "name": "stdout",
     "output_type": "stream",
     "text": [
      "\n",
      "      Epoch    GPU_mem   box_loss   cls_loss   dfl_loss  Instances       Size\n"
     ]
    },
    {
     "name": "stderr",
     "output_type": "stream",
     "text": [
      "   165/1000      3.01G       1.11       0.61      1.065         27        640: 100%|██████████| 74/74 [00:09<00:00,  8.08it/s]\n",
      "                 Class     Images  Instances      Box(P          R      mAP50  mAP50-95): 100%|██████████| 8/8 [00:01<00:00,  6.71it/s]"
     ]
    },
    {
     "name": "stdout",
     "output_type": "stream",
     "text": [
      "                   all        250       2831      0.887      0.871      0.933      0.614\n"
     ]
    },
    {
     "name": "stderr",
     "output_type": "stream",
     "text": [
      "\n"
     ]
    },
    {
     "name": "stdout",
     "output_type": "stream",
     "text": [
      "\n",
      "      Epoch    GPU_mem   box_loss   cls_loss   dfl_loss  Instances       Size\n"
     ]
    },
    {
     "name": "stderr",
     "output_type": "stream",
     "text": [
      "   166/1000      2.81G      1.105     0.6048      1.061         15        640: 100%|██████████| 74/74 [00:08<00:00,  8.25it/s]\n",
      "                 Class     Images  Instances      Box(P          R      mAP50  mAP50-95): 100%|██████████| 8/8 [00:01<00:00,  6.75it/s]"
     ]
    },
    {
     "name": "stdout",
     "output_type": "stream",
     "text": [
      "                   all        250       2831      0.917      0.831      0.931       0.62\n"
     ]
    },
    {
     "name": "stderr",
     "output_type": "stream",
     "text": [
      "\n"
     ]
    },
    {
     "name": "stdout",
     "output_type": "stream",
     "text": [
      "\n",
      "      Epoch    GPU_mem   box_loss   cls_loss   dfl_loss  Instances       Size\n"
     ]
    },
    {
     "name": "stderr",
     "output_type": "stream",
     "text": [
      "   167/1000       2.8G      1.099     0.6014      1.063         26        640: 100%|██████████| 74/74 [00:08<00:00,  8.26it/s]\n",
      "                 Class     Images  Instances      Box(P          R      mAP50  mAP50-95): 100%|██████████| 8/8 [00:01<00:00,  6.68it/s]"
     ]
    },
    {
     "name": "stdout",
     "output_type": "stream",
     "text": [
      "                   all        250       2831      0.901      0.853      0.935      0.621\n"
     ]
    },
    {
     "name": "stderr",
     "output_type": "stream",
     "text": [
      "\n"
     ]
    },
    {
     "name": "stdout",
     "output_type": "stream",
     "text": [
      "\n",
      "      Epoch    GPU_mem   box_loss   cls_loss   dfl_loss  Instances       Size\n"
     ]
    },
    {
     "name": "stderr",
     "output_type": "stream",
     "text": [
      "   168/1000      3.18G        1.1     0.6016      1.056         16        640: 100%|██████████| 74/74 [00:09<00:00,  8.19it/s]\n",
      "                 Class     Images  Instances      Box(P          R      mAP50  mAP50-95): 100%|██████████| 8/8 [00:01<00:00,  6.65it/s]"
     ]
    },
    {
     "name": "stdout",
     "output_type": "stream",
     "text": [
      "                   all        250       2831      0.905      0.847       0.93      0.616\n"
     ]
    },
    {
     "name": "stderr",
     "output_type": "stream",
     "text": [
      "\n"
     ]
    },
    {
     "name": "stdout",
     "output_type": "stream",
     "text": [
      "\n",
      "      Epoch    GPU_mem   box_loss   cls_loss   dfl_loss  Instances       Size\n"
     ]
    },
    {
     "name": "stderr",
     "output_type": "stream",
     "text": [
      "   169/1000      3.06G      1.095     0.5977       1.06         23        640: 100%|██████████| 74/74 [00:08<00:00,  8.26it/s]\n",
      "                 Class     Images  Instances      Box(P          R      mAP50  mAP50-95): 100%|██████████| 8/8 [00:01<00:00,  6.72it/s]"
     ]
    },
    {
     "name": "stdout",
     "output_type": "stream",
     "text": [
      "                   all        250       2831      0.897       0.85      0.933      0.621\n"
     ]
    },
    {
     "name": "stderr",
     "output_type": "stream",
     "text": [
      "\n"
     ]
    },
    {
     "name": "stdout",
     "output_type": "stream",
     "text": [
      "\n",
      "      Epoch    GPU_mem   box_loss   cls_loss   dfl_loss  Instances       Size\n"
     ]
    },
    {
     "name": "stderr",
     "output_type": "stream",
     "text": [
      "   170/1000      2.75G      1.101     0.6048      1.055         58        640: 100%|██████████| 74/74 [00:08<00:00,  8.24it/s]\n",
      "                 Class     Images  Instances      Box(P          R      mAP50  mAP50-95): 100%|██████████| 8/8 [00:01<00:00,  6.77it/s]"
     ]
    },
    {
     "name": "stdout",
     "output_type": "stream",
     "text": [
      "                   all        250       2831      0.891      0.866      0.934      0.624\n"
     ]
    },
    {
     "name": "stderr",
     "output_type": "stream",
     "text": [
      "\n"
     ]
    },
    {
     "name": "stdout",
     "output_type": "stream",
     "text": [
      "\n",
      "      Epoch    GPU_mem   box_loss   cls_loss   dfl_loss  Instances       Size\n"
     ]
    },
    {
     "name": "stderr",
     "output_type": "stream",
     "text": [
      "   171/1000      2.96G      1.094     0.5972      1.059         22        640: 100%|██████████| 74/74 [00:08<00:00,  8.24it/s]\n",
      "                 Class     Images  Instances      Box(P          R      mAP50  mAP50-95): 100%|██████████| 8/8 [00:01<00:00,  6.50it/s]"
     ]
    },
    {
     "name": "stdout",
     "output_type": "stream",
     "text": [
      "                   all        250       2831      0.912      0.847      0.934      0.625\n"
     ]
    },
    {
     "name": "stderr",
     "output_type": "stream",
     "text": [
      "\n"
     ]
    },
    {
     "name": "stdout",
     "output_type": "stream",
     "text": [
      "\n",
      "      Epoch    GPU_mem   box_loss   cls_loss   dfl_loss  Instances       Size\n"
     ]
    },
    {
     "name": "stderr",
     "output_type": "stream",
     "text": [
      "   172/1000      2.89G      1.093     0.6025      1.056         65        640: 100%|██████████| 74/74 [00:09<00:00,  7.88it/s]\n",
      "                 Class     Images  Instances      Box(P          R      mAP50  mAP50-95): 100%|██████████| 8/8 [00:01<00:00,  6.70it/s]"
     ]
    },
    {
     "name": "stdout",
     "output_type": "stream",
     "text": [
      "                   all        250       2831      0.886      0.857      0.935      0.622\n"
     ]
    },
    {
     "name": "stderr",
     "output_type": "stream",
     "text": [
      "\n"
     ]
    },
    {
     "name": "stdout",
     "output_type": "stream",
     "text": [
      "\n",
      "      Epoch    GPU_mem   box_loss   cls_loss   dfl_loss  Instances       Size\n"
     ]
    },
    {
     "name": "stderr",
     "output_type": "stream",
     "text": [
      "   173/1000      2.91G      1.105     0.6037      1.065         22        640: 100%|██████████| 74/74 [00:08<00:00,  8.34it/s]\n",
      "                 Class     Images  Instances      Box(P          R      mAP50  mAP50-95): 100%|██████████| 8/8 [00:01<00:00,  6.84it/s]"
     ]
    },
    {
     "name": "stdout",
     "output_type": "stream",
     "text": [
      "                   all        250       2831      0.874      0.873      0.936      0.626\n"
     ]
    },
    {
     "name": "stderr",
     "output_type": "stream",
     "text": [
      "\n"
     ]
    },
    {
     "name": "stdout",
     "output_type": "stream",
     "text": [
      "\n",
      "      Epoch    GPU_mem   box_loss   cls_loss   dfl_loss  Instances       Size\n"
     ]
    },
    {
     "name": "stderr",
     "output_type": "stream",
     "text": [
      "   174/1000      3.09G      1.095     0.5984      1.047         29        640: 100%|██████████| 74/74 [00:09<00:00,  8.17it/s]\n",
      "                 Class     Images  Instances      Box(P          R      mAP50  mAP50-95): 100%|██████████| 8/8 [00:01<00:00,  6.74it/s]"
     ]
    },
    {
     "name": "stdout",
     "output_type": "stream",
     "text": [
      "                   all        250       2831      0.889      0.858      0.934      0.622\n"
     ]
    },
    {
     "name": "stderr",
     "output_type": "stream",
     "text": [
      "\n"
     ]
    },
    {
     "name": "stdout",
     "output_type": "stream",
     "text": [
      "\n",
      "      Epoch    GPU_mem   box_loss   cls_loss   dfl_loss  Instances       Size\n"
     ]
    },
    {
     "name": "stderr",
     "output_type": "stream",
     "text": [
      "   175/1000      2.84G        1.1     0.6005      1.054         31        640: 100%|██████████| 74/74 [00:08<00:00,  8.24it/s]\n",
      "                 Class     Images  Instances      Box(P          R      mAP50  mAP50-95): 100%|██████████| 8/8 [00:01<00:00,  6.75it/s]"
     ]
    },
    {
     "name": "stdout",
     "output_type": "stream",
     "text": [
      "                   all        250       2831      0.891      0.856      0.934      0.624\n"
     ]
    },
    {
     "name": "stderr",
     "output_type": "stream",
     "text": [
      "\n"
     ]
    },
    {
     "name": "stdout",
     "output_type": "stream",
     "text": [
      "\n",
      "      Epoch    GPU_mem   box_loss   cls_loss   dfl_loss  Instances       Size\n"
     ]
    },
    {
     "name": "stderr",
     "output_type": "stream",
     "text": [
      "   176/1000         3G      1.101      0.593      1.055         16        640: 100%|██████████| 74/74 [00:08<00:00,  8.24it/s]\n",
      "                 Class     Images  Instances      Box(P          R      mAP50  mAP50-95): 100%|██████████| 8/8 [00:01<00:00,  6.66it/s]"
     ]
    },
    {
     "name": "stdout",
     "output_type": "stream",
     "text": [
      "                   all        250       2831      0.893      0.863      0.935      0.623\n"
     ]
    },
    {
     "name": "stderr",
     "output_type": "stream",
     "text": [
      "\n"
     ]
    },
    {
     "name": "stdout",
     "output_type": "stream",
     "text": [
      "\n",
      "      Epoch    GPU_mem   box_loss   cls_loss   dfl_loss  Instances       Size\n"
     ]
    },
    {
     "name": "stderr",
     "output_type": "stream",
     "text": [
      "   177/1000      2.92G      1.101      0.596      1.056        107        640: 100%|██████████| 74/74 [00:09<00:00,  8.21it/s]\n",
      "                 Class     Images  Instances      Box(P          R      mAP50  mAP50-95): 100%|██████████| 8/8 [00:01<00:00,  6.76it/s]"
     ]
    },
    {
     "name": "stdout",
     "output_type": "stream",
     "text": [
      "                   all        250       2831      0.895      0.859      0.933      0.627\n"
     ]
    },
    {
     "name": "stderr",
     "output_type": "stream",
     "text": [
      "\n"
     ]
    },
    {
     "name": "stdout",
     "output_type": "stream",
     "text": [
      "\n",
      "      Epoch    GPU_mem   box_loss   cls_loss   dfl_loss  Instances       Size\n"
     ]
    },
    {
     "name": "stderr",
     "output_type": "stream",
     "text": [
      "   178/1000      2.86G      1.081     0.5896       1.05         20        640: 100%|██████████| 74/74 [00:09<00:00,  8.20it/s]\n",
      "                 Class     Images  Instances      Box(P          R      mAP50  mAP50-95): 100%|██████████| 8/8 [00:01<00:00,  6.58it/s]"
     ]
    },
    {
     "name": "stdout",
     "output_type": "stream",
     "text": [
      "                   all        250       2831      0.914      0.844      0.938      0.627\n"
     ]
    },
    {
     "name": "stderr",
     "output_type": "stream",
     "text": [
      "\n"
     ]
    },
    {
     "name": "stdout",
     "output_type": "stream",
     "text": [
      "\n",
      "      Epoch    GPU_mem   box_loss   cls_loss   dfl_loss  Instances       Size\n"
     ]
    },
    {
     "name": "stderr",
     "output_type": "stream",
     "text": [
      "   179/1000      3.04G      1.085     0.5918      1.052         15        640: 100%|██████████| 74/74 [00:09<00:00,  8.22it/s]\n",
      "                 Class     Images  Instances      Box(P          R      mAP50  mAP50-95): 100%|██████████| 8/8 [00:01<00:00,  6.56it/s]"
     ]
    },
    {
     "name": "stdout",
     "output_type": "stream",
     "text": [
      "                   all        250       2831      0.875      0.871      0.936      0.626\n"
     ]
    },
    {
     "name": "stderr",
     "output_type": "stream",
     "text": [
      "\n"
     ]
    },
    {
     "name": "stdout",
     "output_type": "stream",
     "text": [
      "\n",
      "      Epoch    GPU_mem   box_loss   cls_loss   dfl_loss  Instances       Size\n"
     ]
    },
    {
     "name": "stderr",
     "output_type": "stream",
     "text": [
      "   180/1000      2.79G      1.082     0.5895      1.046         13        640: 100%|██████████| 74/74 [00:09<00:00,  8.20it/s]\n",
      "                 Class     Images  Instances      Box(P          R      mAP50  mAP50-95): 100%|██████████| 8/8 [00:01<00:00,  6.56it/s]"
     ]
    },
    {
     "name": "stdout",
     "output_type": "stream",
     "text": [
      "                   all        250       2831      0.909      0.838       0.93      0.614\n"
     ]
    },
    {
     "name": "stderr",
     "output_type": "stream",
     "text": [
      "\n"
     ]
    },
    {
     "name": "stdout",
     "output_type": "stream",
     "text": [
      "\n",
      "      Epoch    GPU_mem   box_loss   cls_loss   dfl_loss  Instances       Size\n"
     ]
    },
    {
     "name": "stderr",
     "output_type": "stream",
     "text": [
      "   181/1000      2.89G      1.089     0.5917      1.052          7        640: 100%|██████████| 74/74 [00:08<00:00,  8.25it/s]\n",
      "                 Class     Images  Instances      Box(P          R      mAP50  mAP50-95): 100%|██████████| 8/8 [00:01<00:00,  6.56it/s]"
     ]
    },
    {
     "name": "stdout",
     "output_type": "stream",
     "text": [
      "                   all        250       2831      0.886       0.86      0.932      0.625\n"
     ]
    },
    {
     "name": "stderr",
     "output_type": "stream",
     "text": [
      "\n"
     ]
    },
    {
     "name": "stdout",
     "output_type": "stream",
     "text": [
      "\n",
      "      Epoch    GPU_mem   box_loss   cls_loss   dfl_loss  Instances       Size\n"
     ]
    },
    {
     "name": "stderr",
     "output_type": "stream",
     "text": [
      "   182/1000      2.97G      1.086     0.5871      1.045         33        640: 100%|██████████| 74/74 [00:09<00:00,  8.18it/s]\n",
      "                 Class     Images  Instances      Box(P          R      mAP50  mAP50-95): 100%|██████████| 8/8 [00:01<00:00,  6.67it/s]"
     ]
    },
    {
     "name": "stdout",
     "output_type": "stream",
     "text": [
      "                   all        250       2831      0.891      0.865      0.934      0.627\n"
     ]
    },
    {
     "name": "stderr",
     "output_type": "stream",
     "text": [
      "\n"
     ]
    },
    {
     "name": "stdout",
     "output_type": "stream",
     "text": [
      "\n",
      "      Epoch    GPU_mem   box_loss   cls_loss   dfl_loss  Instances       Size\n"
     ]
    },
    {
     "name": "stderr",
     "output_type": "stream",
     "text": [
      "   183/1000      2.65G      1.084     0.5903      1.049         35        640: 100%|██████████| 74/74 [00:09<00:00,  8.08it/s]\n",
      "                 Class     Images  Instances      Box(P          R      mAP50  mAP50-95): 100%|██████████| 8/8 [00:01<00:00,  6.77it/s]"
     ]
    },
    {
     "name": "stdout",
     "output_type": "stream",
     "text": [
      "                   all        250       2831      0.895      0.853      0.932      0.619\n"
     ]
    },
    {
     "name": "stderr",
     "output_type": "stream",
     "text": [
      "\n"
     ]
    },
    {
     "name": "stdout",
     "output_type": "stream",
     "text": [
      "\n",
      "      Epoch    GPU_mem   box_loss   cls_loss   dfl_loss  Instances       Size\n"
     ]
    },
    {
     "name": "stderr",
     "output_type": "stream",
     "text": [
      "   184/1000      2.87G      1.084     0.5859       1.05         21        640: 100%|██████████| 74/74 [00:08<00:00,  8.26it/s]\n",
      "                 Class     Images  Instances      Box(P          R      mAP50  mAP50-95): 100%|██████████| 8/8 [00:01<00:00,  6.68it/s]"
     ]
    },
    {
     "name": "stdout",
     "output_type": "stream",
     "text": [
      "                   all        250       2831      0.885      0.869      0.935      0.624\n"
     ]
    },
    {
     "name": "stderr",
     "output_type": "stream",
     "text": [
      "\n"
     ]
    },
    {
     "name": "stdout",
     "output_type": "stream",
     "text": [
      "\n",
      "      Epoch    GPU_mem   box_loss   cls_loss   dfl_loss  Instances       Size\n"
     ]
    },
    {
     "name": "stderr",
     "output_type": "stream",
     "text": [
      "   185/1000      2.94G      1.079      0.586      1.044         60        640: 100%|██████████| 74/74 [00:09<00:00,  8.19it/s]\n",
      "                 Class     Images  Instances      Box(P          R      mAP50  mAP50-95): 100%|██████████| 8/8 [00:01<00:00,  6.38it/s]"
     ]
    },
    {
     "name": "stdout",
     "output_type": "stream",
     "text": [
      "                   all        250       2831      0.904      0.854      0.937      0.628\n"
     ]
    },
    {
     "name": "stderr",
     "output_type": "stream",
     "text": [
      "\n"
     ]
    },
    {
     "name": "stdout",
     "output_type": "stream",
     "text": [
      "\n",
      "      Epoch    GPU_mem   box_loss   cls_loss   dfl_loss  Instances       Size\n"
     ]
    },
    {
     "name": "stderr",
     "output_type": "stream",
     "text": [
      "   186/1000      2.84G      1.092     0.5913      1.051         19        640: 100%|██████████| 74/74 [00:09<00:00,  8.16it/s]\n",
      "                 Class     Images  Instances      Box(P          R      mAP50  mAP50-95): 100%|██████████| 8/8 [00:01<00:00,  6.80it/s]"
     ]
    },
    {
     "name": "stdout",
     "output_type": "stream",
     "text": [
      "                   all        250       2831      0.907      0.834      0.932      0.631\n"
     ]
    },
    {
     "name": "stderr",
     "output_type": "stream",
     "text": [
      "\n"
     ]
    },
    {
     "name": "stdout",
     "output_type": "stream",
     "text": [
      "\n",
      "      Epoch    GPU_mem   box_loss   cls_loss   dfl_loss  Instances       Size\n"
     ]
    },
    {
     "name": "stderr",
     "output_type": "stream",
     "text": [
      "   187/1000      3.08G      1.084     0.5885      1.046         20        640: 100%|██████████| 74/74 [00:08<00:00,  8.24it/s]\n",
      "                 Class     Images  Instances      Box(P          R      mAP50  mAP50-95): 100%|██████████| 8/8 [00:01<00:00,  6.52it/s]"
     ]
    },
    {
     "name": "stdout",
     "output_type": "stream",
     "text": [
      "                   all        250       2831      0.881      0.861      0.934      0.629\n"
     ]
    },
    {
     "name": "stderr",
     "output_type": "stream",
     "text": [
      "\n"
     ]
    },
    {
     "name": "stdout",
     "output_type": "stream",
     "text": [
      "\n",
      "      Epoch    GPU_mem   box_loss   cls_loss   dfl_loss  Instances       Size\n"
     ]
    },
    {
     "name": "stderr",
     "output_type": "stream",
     "text": [
      "   188/1000      2.97G      1.081     0.5984      1.049          4        640: 100%|██████████| 74/74 [00:09<00:00,  7.87it/s]\n",
      "                 Class     Images  Instances      Box(P          R      mAP50  mAP50-95): 100%|██████████| 8/8 [00:01<00:00,  6.59it/s]"
     ]
    },
    {
     "name": "stdout",
     "output_type": "stream",
     "text": [
      "                   all        250       2831      0.892      0.847      0.934      0.625\n"
     ]
    },
    {
     "name": "stderr",
     "output_type": "stream",
     "text": [
      "\n"
     ]
    },
    {
     "name": "stdout",
     "output_type": "stream",
     "text": [
      "\n",
      "      Epoch    GPU_mem   box_loss   cls_loss   dfl_loss  Instances       Size\n"
     ]
    },
    {
     "name": "stderr",
     "output_type": "stream",
     "text": [
      "   189/1000      3.09G      1.084     0.5866      1.051         21        640: 100%|██████████| 74/74 [00:09<00:00,  8.19it/s]\n",
      "                 Class     Images  Instances      Box(P          R      mAP50  mAP50-95): 100%|██████████| 8/8 [00:01<00:00,  6.65it/s]"
     ]
    },
    {
     "name": "stdout",
     "output_type": "stream",
     "text": [
      "                   all        250       2831        0.9      0.843      0.932      0.627\n"
     ]
    },
    {
     "name": "stderr",
     "output_type": "stream",
     "text": [
      "\n"
     ]
    },
    {
     "name": "stdout",
     "output_type": "stream",
     "text": [
      "\n",
      "      Epoch    GPU_mem   box_loss   cls_loss   dfl_loss  Instances       Size\n"
     ]
    },
    {
     "name": "stderr",
     "output_type": "stream",
     "text": [
      "   190/1000      2.84G       1.08     0.5792      1.042         40        640: 100%|██████████| 74/74 [00:09<00:00,  8.20it/s]\n",
      "                 Class     Images  Instances      Box(P          R      mAP50  mAP50-95): 100%|██████████| 8/8 [00:01<00:00,  6.65it/s]"
     ]
    },
    {
     "name": "stdout",
     "output_type": "stream",
     "text": [
      "                   all        250       2831      0.892      0.851      0.928      0.616\n"
     ]
    },
    {
     "name": "stderr",
     "output_type": "stream",
     "text": [
      "\n"
     ]
    },
    {
     "name": "stdout",
     "output_type": "stream",
     "text": [
      "\n",
      "      Epoch    GPU_mem   box_loss   cls_loss   dfl_loss  Instances       Size\n"
     ]
    },
    {
     "name": "stderr",
     "output_type": "stream",
     "text": [
      "   191/1000      2.82G      1.074     0.5757      1.041         41        640: 100%|██████████| 74/74 [00:08<00:00,  8.28it/s]\n",
      "                 Class     Images  Instances      Box(P          R      mAP50  mAP50-95): 100%|██████████| 8/8 [00:01<00:00,  6.63it/s]"
     ]
    },
    {
     "name": "stdout",
     "output_type": "stream",
     "text": [
      "                   all        250       2831      0.895      0.854       0.93      0.621\n"
     ]
    },
    {
     "name": "stderr",
     "output_type": "stream",
     "text": [
      "\n"
     ]
    },
    {
     "name": "stdout",
     "output_type": "stream",
     "text": [
      "\n",
      "      Epoch    GPU_mem   box_loss   cls_loss   dfl_loss  Instances       Size\n"
     ]
    },
    {
     "name": "stderr",
     "output_type": "stream",
     "text": [
      "   192/1000      2.85G      1.071     0.5767      1.043         25        640: 100%|██████████| 74/74 [00:09<00:00,  8.17it/s]\n",
      "                 Class     Images  Instances      Box(P          R      mAP50  mAP50-95): 100%|██████████| 8/8 [00:01<00:00,  6.51it/s]"
     ]
    },
    {
     "name": "stdout",
     "output_type": "stream",
     "text": [
      "                   all        250       2831      0.894       0.86      0.933      0.622\n"
     ]
    },
    {
     "name": "stderr",
     "output_type": "stream",
     "text": [
      "\n"
     ]
    },
    {
     "name": "stdout",
     "output_type": "stream",
     "text": [
      "\n",
      "      Epoch    GPU_mem   box_loss   cls_loss   dfl_loss  Instances       Size\n"
     ]
    },
    {
     "name": "stderr",
     "output_type": "stream",
     "text": [
      "   193/1000      2.82G      1.076     0.5772      1.049         14        640: 100%|██████████| 74/74 [00:08<00:00,  8.24it/s]\n",
      "                 Class     Images  Instances      Box(P          R      mAP50  mAP50-95): 100%|██████████| 8/8 [00:01<00:00,  6.48it/s]"
     ]
    },
    {
     "name": "stdout",
     "output_type": "stream",
     "text": [
      "                   all        250       2831      0.889       0.86      0.937      0.623\n"
     ]
    },
    {
     "name": "stderr",
     "output_type": "stream",
     "text": [
      "\n"
     ]
    },
    {
     "name": "stdout",
     "output_type": "stream",
     "text": [
      "\n",
      "      Epoch    GPU_mem   box_loss   cls_loss   dfl_loss  Instances       Size\n"
     ]
    },
    {
     "name": "stderr",
     "output_type": "stream",
     "text": [
      "   194/1000      3.05G      1.074     0.5745      1.044         41        640: 100%|██████████| 74/74 [00:09<00:00,  8.21it/s]\n",
      "                 Class     Images  Instances      Box(P          R      mAP50  mAP50-95): 100%|██████████| 8/8 [00:01<00:00,  6.71it/s]"
     ]
    },
    {
     "name": "stdout",
     "output_type": "stream",
     "text": [
      "                   all        250       2831      0.887      0.855      0.926      0.608\n"
     ]
    },
    {
     "name": "stderr",
     "output_type": "stream",
     "text": [
      "\n"
     ]
    },
    {
     "name": "stdout",
     "output_type": "stream",
     "text": [
      "\n",
      "      Epoch    GPU_mem   box_loss   cls_loss   dfl_loss  Instances       Size\n"
     ]
    },
    {
     "name": "stderr",
     "output_type": "stream",
     "text": [
      "   195/1000      3.02G      1.073     0.5828      1.043         11        640: 100%|██████████| 74/74 [00:08<00:00,  8.27it/s]\n",
      "                 Class     Images  Instances      Box(P          R      mAP50  mAP50-95): 100%|██████████| 8/8 [00:01<00:00,  6.63it/s]"
     ]
    },
    {
     "name": "stdout",
     "output_type": "stream",
     "text": [
      "                   all        250       2831      0.887      0.857      0.932      0.621\n"
     ]
    },
    {
     "name": "stderr",
     "output_type": "stream",
     "text": [
      "\n"
     ]
    },
    {
     "name": "stdout",
     "output_type": "stream",
     "text": [
      "\n",
      "      Epoch    GPU_mem   box_loss   cls_loss   dfl_loss  Instances       Size\n"
     ]
    },
    {
     "name": "stderr",
     "output_type": "stream",
     "text": [
      "   196/1000      2.76G      1.064     0.5764      1.038         12        640: 100%|██████████| 74/74 [00:08<00:00,  8.25it/s]\n",
      "                 Class     Images  Instances      Box(P          R      mAP50  mAP50-95): 100%|██████████| 8/8 [00:01<00:00,  6.62it/s]"
     ]
    },
    {
     "name": "stdout",
     "output_type": "stream",
     "text": [
      "                   all        250       2831       0.91      0.835       0.93      0.626\n"
     ]
    },
    {
     "name": "stderr",
     "output_type": "stream",
     "text": [
      "\n"
     ]
    },
    {
     "name": "stdout",
     "output_type": "stream",
     "text": [
      "\n",
      "      Epoch    GPU_mem   box_loss   cls_loss   dfl_loss  Instances       Size\n"
     ]
    },
    {
     "name": "stderr",
     "output_type": "stream",
     "text": [
      "   197/1000      3.04G      1.084     0.5862      1.049         30        640: 100%|██████████| 74/74 [00:08<00:00,  8.31it/s]\n",
      "                 Class     Images  Instances      Box(P          R      mAP50  mAP50-95): 100%|██████████| 8/8 [00:01<00:00,  6.72it/s]"
     ]
    },
    {
     "name": "stdout",
     "output_type": "stream",
     "text": [
      "                   all        250       2831      0.899       0.87       0.94      0.629\n"
     ]
    },
    {
     "name": "stderr",
     "output_type": "stream",
     "text": [
      "\n"
     ]
    },
    {
     "name": "stdout",
     "output_type": "stream",
     "text": [
      "\n",
      "      Epoch    GPU_mem   box_loss   cls_loss   dfl_loss  Instances       Size\n"
     ]
    },
    {
     "name": "stderr",
     "output_type": "stream",
     "text": [
      "   198/1000      2.75G      1.072      0.577      1.038         62        640: 100%|██████████| 74/74 [00:08<00:00,  8.34it/s]\n",
      "                 Class     Images  Instances      Box(P          R      mAP50  mAP50-95): 100%|██████████| 8/8 [00:01<00:00,  6.67it/s]"
     ]
    },
    {
     "name": "stdout",
     "output_type": "stream",
     "text": [
      "                   all        250       2831      0.888      0.864      0.936      0.622\n"
     ]
    },
    {
     "name": "stderr",
     "output_type": "stream",
     "text": [
      "\n"
     ]
    },
    {
     "name": "stdout",
     "output_type": "stream",
     "text": [
      "\n",
      "      Epoch    GPU_mem   box_loss   cls_loss   dfl_loss  Instances       Size\n"
     ]
    },
    {
     "name": "stderr",
     "output_type": "stream",
     "text": [
      "   199/1000       3.7G      1.071     0.5768      1.045         58        640: 100%|██████████| 74/74 [00:09<00:00,  8.17it/s]\n",
      "                 Class     Images  Instances      Box(P          R      mAP50  mAP50-95): 100%|██████████| 8/8 [00:01<00:00,  6.74it/s]"
     ]
    },
    {
     "name": "stdout",
     "output_type": "stream",
     "text": [
      "                   all        250       2831      0.897      0.858      0.932      0.618\n"
     ]
    },
    {
     "name": "stderr",
     "output_type": "stream",
     "text": [
      "\n"
     ]
    },
    {
     "name": "stdout",
     "output_type": "stream",
     "text": [
      "\n",
      "      Epoch    GPU_mem   box_loss   cls_loss   dfl_loss  Instances       Size\n"
     ]
    },
    {
     "name": "stderr",
     "output_type": "stream",
     "text": [
      "   200/1000      2.82G      1.078     0.5821      1.047         24        640: 100%|██████████| 74/74 [00:09<00:00,  8.21it/s]\n",
      "                 Class     Images  Instances      Box(P          R      mAP50  mAP50-95): 100%|██████████| 8/8 [00:01<00:00,  6.60it/s]"
     ]
    },
    {
     "name": "stdout",
     "output_type": "stream",
     "text": [
      "                   all        250       2831      0.887      0.863      0.931      0.617\n"
     ]
    },
    {
     "name": "stderr",
     "output_type": "stream",
     "text": [
      "\n"
     ]
    },
    {
     "name": "stdout",
     "output_type": "stream",
     "text": [
      "\n",
      "      Epoch    GPU_mem   box_loss   cls_loss   dfl_loss  Instances       Size\n"
     ]
    },
    {
     "name": "stderr",
     "output_type": "stream",
     "text": [
      "   201/1000      3.03G      1.066     0.5758      1.038         29        640: 100%|██████████| 74/74 [00:08<00:00,  8.31it/s]\n",
      "                 Class     Images  Instances      Box(P          R      mAP50  mAP50-95): 100%|██████████| 8/8 [00:01<00:00,  6.72it/s]"
     ]
    },
    {
     "name": "stdout",
     "output_type": "stream",
     "text": [
      "                   all        250       2831      0.885      0.862      0.934       0.62\n"
     ]
    },
    {
     "name": "stderr",
     "output_type": "stream",
     "text": [
      "\n"
     ]
    },
    {
     "name": "stdout",
     "output_type": "stream",
     "text": [
      "\n",
      "      Epoch    GPU_mem   box_loss   cls_loss   dfl_loss  Instances       Size\n"
     ]
    },
    {
     "name": "stderr",
     "output_type": "stream",
     "text": [
      "   202/1000      3.07G      1.072     0.5779      1.042         49        640: 100%|██████████| 74/74 [00:08<00:00,  8.30it/s]\n",
      "                 Class     Images  Instances      Box(P          R      mAP50  mAP50-95): 100%|██████████| 8/8 [00:01<00:00,  6.62it/s]"
     ]
    },
    {
     "name": "stdout",
     "output_type": "stream",
     "text": [
      "                   all        250       2831      0.898      0.847      0.929      0.622\n"
     ]
    },
    {
     "name": "stderr",
     "output_type": "stream",
     "text": [
      "\n"
     ]
    },
    {
     "name": "stdout",
     "output_type": "stream",
     "text": [
      "\n",
      "      Epoch    GPU_mem   box_loss   cls_loss   dfl_loss  Instances       Size\n"
     ]
    },
    {
     "name": "stderr",
     "output_type": "stream",
     "text": [
      "   203/1000      3.21G      1.063     0.5688      1.038         18        640: 100%|██████████| 74/74 [00:08<00:00,  8.35it/s]\n",
      "                 Class     Images  Instances      Box(P          R      mAP50  mAP50-95): 100%|██████████| 8/8 [00:01<00:00,  6.52it/s]"
     ]
    },
    {
     "name": "stdout",
     "output_type": "stream",
     "text": [
      "                   all        250       2831      0.892      0.855      0.932      0.621\n"
     ]
    },
    {
     "name": "stderr",
     "output_type": "stream",
     "text": [
      "\n"
     ]
    },
    {
     "name": "stdout",
     "output_type": "stream",
     "text": [
      "\n",
      "      Epoch    GPU_mem   box_loss   cls_loss   dfl_loss  Instances       Size\n"
     ]
    },
    {
     "name": "stderr",
     "output_type": "stream",
     "text": [
      "   204/1000      3.02G      1.057     0.5656      1.036         44        640: 100%|██████████| 74/74 [00:08<00:00,  8.26it/s]\n",
      "                 Class     Images  Instances      Box(P          R      mAP50  mAP50-95): 100%|██████████| 8/8 [00:01<00:00,  6.85it/s]"
     ]
    },
    {
     "name": "stdout",
     "output_type": "stream",
     "text": [
      "                   all        250       2831      0.888      0.856      0.931      0.623\n"
     ]
    },
    {
     "name": "stderr",
     "output_type": "stream",
     "text": [
      "\n"
     ]
    },
    {
     "name": "stdout",
     "output_type": "stream",
     "text": [
      "\n",
      "      Epoch    GPU_mem   box_loss   cls_loss   dfl_loss  Instances       Size\n"
     ]
    },
    {
     "name": "stderr",
     "output_type": "stream",
     "text": [
      "   205/1000      3.01G      1.058     0.5664      1.041         18        640: 100%|██████████| 74/74 [00:08<00:00,  8.35it/s]\n",
      "                 Class     Images  Instances      Box(P          R      mAP50  mAP50-95): 100%|██████████| 8/8 [00:01<00:00,  6.71it/s]"
     ]
    },
    {
     "name": "stdout",
     "output_type": "stream",
     "text": [
      "                   all        250       2831      0.901      0.854      0.937      0.625\n"
     ]
    },
    {
     "name": "stderr",
     "output_type": "stream",
     "text": [
      "\n"
     ]
    },
    {
     "name": "stdout",
     "output_type": "stream",
     "text": [
      "\n",
      "      Epoch    GPU_mem   box_loss   cls_loss   dfl_loss  Instances       Size\n"
     ]
    },
    {
     "name": "stderr",
     "output_type": "stream",
     "text": [
      "   206/1000      3.12G      1.062     0.5685      1.033         16        640: 100%|██████████| 74/74 [00:09<00:00,  8.18it/s]\n",
      "                 Class     Images  Instances      Box(P          R      mAP50  mAP50-95): 100%|██████████| 8/8 [00:01<00:00,  6.72it/s]"
     ]
    },
    {
     "name": "stdout",
     "output_type": "stream",
     "text": [
      "                   all        250       2831      0.899       0.86      0.936       0.62\n"
     ]
    },
    {
     "name": "stderr",
     "output_type": "stream",
     "text": [
      "\n"
     ]
    },
    {
     "name": "stdout",
     "output_type": "stream",
     "text": [
      "\n",
      "      Epoch    GPU_mem   box_loss   cls_loss   dfl_loss  Instances       Size\n"
     ]
    },
    {
     "name": "stderr",
     "output_type": "stream",
     "text": [
      "   207/1000      2.96G      1.056     0.5644      1.033         15        640: 100%|██████████| 74/74 [00:08<00:00,  8.32it/s]\n",
      "                 Class     Images  Instances      Box(P          R      mAP50  mAP50-95): 100%|██████████| 8/8 [00:01<00:00,  6.71it/s]"
     ]
    },
    {
     "name": "stdout",
     "output_type": "stream",
     "text": [
      "                   all        250       2831      0.895       0.87      0.939      0.627\n"
     ]
    },
    {
     "name": "stderr",
     "output_type": "stream",
     "text": [
      "\n"
     ]
    },
    {
     "name": "stdout",
     "output_type": "stream",
     "text": [
      "\n",
      "      Epoch    GPU_mem   box_loss   cls_loss   dfl_loss  Instances       Size\n"
     ]
    },
    {
     "name": "stderr",
     "output_type": "stream",
     "text": [
      "   208/1000      2.78G      1.059     0.5693      1.039         31        640: 100%|██████████| 74/74 [00:09<00:00,  8.20it/s]\n",
      "                 Class     Images  Instances      Box(P          R      mAP50  mAP50-95): 100%|██████████| 8/8 [00:01<00:00,  6.83it/s]"
     ]
    },
    {
     "name": "stdout",
     "output_type": "stream",
     "text": [
      "                   all        250       2831      0.882      0.872      0.938      0.624\n"
     ]
    },
    {
     "name": "stderr",
     "output_type": "stream",
     "text": [
      "\n"
     ]
    },
    {
     "name": "stdout",
     "output_type": "stream",
     "text": [
      "\n",
      "      Epoch    GPU_mem   box_loss   cls_loss   dfl_loss  Instances       Size\n"
     ]
    },
    {
     "name": "stderr",
     "output_type": "stream",
     "text": [
      "   209/1000      3.07G      1.068     0.5732      1.045         10        640: 100%|██████████| 74/74 [00:08<00:00,  8.39it/s]\n",
      "                 Class     Images  Instances      Box(P          R      mAP50  mAP50-95): 100%|██████████| 8/8 [00:01<00:00,  6.71it/s]"
     ]
    },
    {
     "name": "stdout",
     "output_type": "stream",
     "text": [
      "                   all        250       2831      0.885      0.869      0.937      0.628\n"
     ]
    },
    {
     "name": "stderr",
     "output_type": "stream",
     "text": [
      "\n"
     ]
    },
    {
     "name": "stdout",
     "output_type": "stream",
     "text": [
      "\n",
      "      Epoch    GPU_mem   box_loss   cls_loss   dfl_loss  Instances       Size\n"
     ]
    },
    {
     "name": "stderr",
     "output_type": "stream",
     "text": [
      "   210/1000      3.17G      1.055     0.5693      1.037         30        640: 100%|██████████| 74/74 [00:08<00:00,  8.33it/s]\n",
      "                 Class     Images  Instances      Box(P          R      mAP50  mAP50-95): 100%|██████████| 8/8 [00:01<00:00,  6.77it/s]"
     ]
    },
    {
     "name": "stdout",
     "output_type": "stream",
     "text": [
      "                   all        250       2831      0.898      0.853      0.935      0.624\n"
     ]
    },
    {
     "name": "stderr",
     "output_type": "stream",
     "text": [
      "\n"
     ]
    },
    {
     "name": "stdout",
     "output_type": "stream",
     "text": [
      "\n",
      "      Epoch    GPU_mem   box_loss   cls_loss   dfl_loss  Instances       Size\n"
     ]
    },
    {
     "name": "stderr",
     "output_type": "stream",
     "text": [
      "   211/1000      3.11G      1.065     0.5725      1.044         26        640: 100%|██████████| 74/74 [00:09<00:00,  8.16it/s]\n",
      "                 Class     Images  Instances      Box(P          R      mAP50  mAP50-95): 100%|██████████| 8/8 [00:01<00:00,  6.93it/s]"
     ]
    },
    {
     "name": "stdout",
     "output_type": "stream",
     "text": [
      "                   all        250       2831      0.878      0.869      0.936       0.62\n"
     ]
    },
    {
     "name": "stderr",
     "output_type": "stream",
     "text": [
      "\n"
     ]
    },
    {
     "name": "stdout",
     "output_type": "stream",
     "text": [
      "\n",
      "      Epoch    GPU_mem   box_loss   cls_loss   dfl_loss  Instances       Size\n"
     ]
    },
    {
     "name": "stderr",
     "output_type": "stream",
     "text": [
      "   212/1000         3G       1.07     0.5764      1.049         18        640: 100%|██████████| 74/74 [00:08<00:00,  8.31it/s]\n",
      "                 Class     Images  Instances      Box(P          R      mAP50  mAP50-95): 100%|██████████| 8/8 [00:01<00:00,  6.72it/s]"
     ]
    },
    {
     "name": "stdout",
     "output_type": "stream",
     "text": [
      "                   all        250       2831      0.885      0.874      0.937      0.625\n"
     ]
    },
    {
     "name": "stderr",
     "output_type": "stream",
     "text": [
      "\n"
     ]
    },
    {
     "name": "stdout",
     "output_type": "stream",
     "text": [
      "\n",
      "      Epoch    GPU_mem   box_loss   cls_loss   dfl_loss  Instances       Size\n"
     ]
    },
    {
     "name": "stderr",
     "output_type": "stream",
     "text": [
      "   213/1000      2.92G      1.052     0.5645      1.033         14        640: 100%|██████████| 74/74 [00:08<00:00,  8.32it/s]\n",
      "                 Class     Images  Instances      Box(P          R      mAP50  mAP50-95): 100%|██████████| 8/8 [00:01<00:00,  6.56it/s]"
     ]
    },
    {
     "name": "stdout",
     "output_type": "stream",
     "text": [
      "                   all        250       2831      0.892      0.865      0.933      0.627\n"
     ]
    },
    {
     "name": "stderr",
     "output_type": "stream",
     "text": [
      "\n"
     ]
    },
    {
     "name": "stdout",
     "output_type": "stream",
     "text": [
      "\n",
      "      Epoch    GPU_mem   box_loss   cls_loss   dfl_loss  Instances       Size\n"
     ]
    },
    {
     "name": "stderr",
     "output_type": "stream",
     "text": [
      "   214/1000      2.92G      1.048     0.5613       1.03         43        640: 100%|██████████| 74/74 [00:09<00:00,  8.13it/s]\n",
      "                 Class     Images  Instances      Box(P          R      mAP50  mAP50-95): 100%|██████████| 8/8 [00:01<00:00,  6.66it/s]"
     ]
    },
    {
     "name": "stdout",
     "output_type": "stream",
     "text": [
      "                   all        250       2831      0.918      0.844      0.936      0.625\n"
     ]
    },
    {
     "name": "stderr",
     "output_type": "stream",
     "text": [
      "\n"
     ]
    },
    {
     "name": "stdout",
     "output_type": "stream",
     "text": [
      "\n",
      "      Epoch    GPU_mem   box_loss   cls_loss   dfl_loss  Instances       Size\n"
     ]
    },
    {
     "name": "stderr",
     "output_type": "stream",
     "text": [
      "   215/1000      2.97G      1.047     0.5656       1.03         33        640: 100%|██████████| 74/74 [00:08<00:00,  8.35it/s]\n",
      "                 Class     Images  Instances      Box(P          R      mAP50  mAP50-95): 100%|██████████| 8/8 [00:01<00:00,  6.65it/s]"
     ]
    },
    {
     "name": "stdout",
     "output_type": "stream",
     "text": [
      "                   all        250       2831      0.895       0.86      0.933      0.625\n"
     ]
    },
    {
     "name": "stderr",
     "output_type": "stream",
     "text": [
      "\n"
     ]
    },
    {
     "name": "stdout",
     "output_type": "stream",
     "text": [
      "\n",
      "      Epoch    GPU_mem   box_loss   cls_loss   dfl_loss  Instances       Size\n"
     ]
    },
    {
     "name": "stderr",
     "output_type": "stream",
     "text": [
      "   216/1000      3.16G      1.056     0.5692      1.038         13        640: 100%|██████████| 74/74 [00:08<00:00,  8.29it/s]\n",
      "                 Class     Images  Instances      Box(P          R      mAP50  mAP50-95): 100%|██████████| 8/8 [00:01<00:00,  6.43it/s]"
     ]
    },
    {
     "name": "stdout",
     "output_type": "stream",
     "text": [
      "                   all        250       2831      0.885      0.868      0.931      0.627\n"
     ]
    },
    {
     "name": "stderr",
     "output_type": "stream",
     "text": [
      "\n"
     ]
    },
    {
     "name": "stdout",
     "output_type": "stream",
     "text": [
      "\n",
      "      Epoch    GPU_mem   box_loss   cls_loss   dfl_loss  Instances       Size\n"
     ]
    },
    {
     "name": "stderr",
     "output_type": "stream",
     "text": [
      "   217/1000      2.82G       1.06     0.5627      1.034         21        640: 100%|██████████| 74/74 [00:08<00:00,  8.26it/s]\n",
      "                 Class     Images  Instances      Box(P          R      mAP50  mAP50-95): 100%|██████████| 8/8 [00:01<00:00,  6.65it/s]"
     ]
    },
    {
     "name": "stdout",
     "output_type": "stream",
     "text": [
      "                   all        250       2831      0.899      0.851      0.935      0.619\n"
     ]
    },
    {
     "name": "stderr",
     "output_type": "stream",
     "text": [
      "\n"
     ]
    },
    {
     "name": "stdout",
     "output_type": "stream",
     "text": [
      "\n",
      "      Epoch    GPU_mem   box_loss   cls_loss   dfl_loss  Instances       Size\n"
     ]
    },
    {
     "name": "stderr",
     "output_type": "stream",
     "text": [
      "   218/1000      2.97G      1.051     0.5616      1.036         36        640: 100%|██████████| 74/74 [00:09<00:00,  8.22it/s]\n",
      "                 Class     Images  Instances      Box(P          R      mAP50  mAP50-95): 100%|██████████| 8/8 [00:01<00:00,  6.70it/s]"
     ]
    },
    {
     "name": "stdout",
     "output_type": "stream",
     "text": [
      "                   all        250       2831      0.884      0.863      0.935      0.625\n"
     ]
    },
    {
     "name": "stderr",
     "output_type": "stream",
     "text": [
      "\n"
     ]
    },
    {
     "name": "stdout",
     "output_type": "stream",
     "text": [
      "\n",
      "      Epoch    GPU_mem   box_loss   cls_loss   dfl_loss  Instances       Size\n"
     ]
    },
    {
     "name": "stderr",
     "output_type": "stream",
     "text": [
      "   219/1000      3.09G      1.056     0.5694      1.036         17        640: 100%|██████████| 74/74 [00:08<00:00,  8.23it/s]\n",
      "                 Class     Images  Instances      Box(P          R      mAP50  mAP50-95): 100%|██████████| 8/8 [00:01<00:00,  6.67it/s]"
     ]
    },
    {
     "name": "stdout",
     "output_type": "stream",
     "text": [
      "                   all        250       2831      0.894       0.86      0.932      0.621\n"
     ]
    },
    {
     "name": "stderr",
     "output_type": "stream",
     "text": [
      "\n"
     ]
    },
    {
     "name": "stdout",
     "output_type": "stream",
     "text": [
      "\n",
      "      Epoch    GPU_mem   box_loss   cls_loss   dfl_loss  Instances       Size\n"
     ]
    },
    {
     "name": "stderr",
     "output_type": "stream",
     "text": [
      "   220/1000      3.05G      1.052     0.5573      1.033         21        640: 100%|██████████| 74/74 [00:08<00:00,  8.26it/s]\n",
      "                 Class     Images  Instances      Box(P          R      mAP50  mAP50-95): 100%|██████████| 8/8 [00:01<00:00,  6.37it/s]"
     ]
    },
    {
     "name": "stdout",
     "output_type": "stream",
     "text": [
      "                   all        250       2831      0.898      0.863      0.936      0.623\n"
     ]
    },
    {
     "name": "stderr",
     "output_type": "stream",
     "text": [
      "\n"
     ]
    },
    {
     "name": "stdout",
     "output_type": "stream",
     "text": [
      "\n",
      "      Epoch    GPU_mem   box_loss   cls_loss   dfl_loss  Instances       Size\n"
     ]
    },
    {
     "name": "stderr",
     "output_type": "stream",
     "text": [
      "   221/1000      3.26G      1.042      0.558      1.036          9        640: 100%|██████████| 74/74 [00:09<00:00,  8.07it/s]\n",
      "                 Class     Images  Instances      Box(P          R      mAP50  mAP50-95): 100%|██████████| 8/8 [00:01<00:00,  6.59it/s]"
     ]
    },
    {
     "name": "stdout",
     "output_type": "stream",
     "text": [
      "                   all        250       2831      0.898      0.864      0.935      0.624\n"
     ]
    },
    {
     "name": "stderr",
     "output_type": "stream",
     "text": [
      "\n"
     ]
    },
    {
     "name": "stdout",
     "output_type": "stream",
     "text": [
      "\n",
      "      Epoch    GPU_mem   box_loss   cls_loss   dfl_loss  Instances       Size\n"
     ]
    },
    {
     "name": "stderr",
     "output_type": "stream",
     "text": [
      "   222/1000      2.83G       1.05     0.5607      1.034         20        640: 100%|██████████| 74/74 [00:08<00:00,  8.29it/s]\n",
      "                 Class     Images  Instances      Box(P          R      mAP50  mAP50-95): 100%|██████████| 8/8 [00:01<00:00,  6.52it/s]"
     ]
    },
    {
     "name": "stdout",
     "output_type": "stream",
     "text": [
      "                   all        250       2831      0.887      0.866      0.933      0.625\n"
     ]
    },
    {
     "name": "stderr",
     "output_type": "stream",
     "text": [
      "\n"
     ]
    },
    {
     "name": "stdout",
     "output_type": "stream",
     "text": [
      "\n",
      "      Epoch    GPU_mem   box_loss   cls_loss   dfl_loss  Instances       Size\n"
     ]
    },
    {
     "name": "stderr",
     "output_type": "stream",
     "text": [
      "   223/1000      3.07G      1.048     0.5607       1.04         20        640: 100%|██████████| 74/74 [00:08<00:00,  8.30it/s]\n",
      "                 Class     Images  Instances      Box(P          R      mAP50  mAP50-95): 100%|██████████| 8/8 [00:01<00:00,  6.70it/s]"
     ]
    },
    {
     "name": "stdout",
     "output_type": "stream",
     "text": [
      "                   all        250       2831       0.89       0.87      0.934      0.626\n"
     ]
    },
    {
     "name": "stderr",
     "output_type": "stream",
     "text": [
      "\n"
     ]
    },
    {
     "name": "stdout",
     "output_type": "stream",
     "text": [
      "\n",
      "      Epoch    GPU_mem   box_loss   cls_loss   dfl_loss  Instances       Size\n"
     ]
    },
    {
     "name": "stderr",
     "output_type": "stream",
     "text": [
      "   224/1000      3.12G      1.047     0.5597      1.027         12        640: 100%|██████████| 74/74 [00:08<00:00,  8.23it/s]\n",
      "                 Class     Images  Instances      Box(P          R      mAP50  mAP50-95): 100%|██████████| 8/8 [00:01<00:00,  6.74it/s]"
     ]
    },
    {
     "name": "stdout",
     "output_type": "stream",
     "text": [
      "                   all        250       2831      0.893      0.855      0.932      0.624\n"
     ]
    },
    {
     "name": "stderr",
     "output_type": "stream",
     "text": [
      "\n"
     ]
    },
    {
     "name": "stdout",
     "output_type": "stream",
     "text": [
      "\n",
      "      Epoch    GPU_mem   box_loss   cls_loss   dfl_loss  Instances       Size\n"
     ]
    },
    {
     "name": "stderr",
     "output_type": "stream",
     "text": [
      "   225/1000      3.33G       1.04     0.5545      1.028         25        640: 100%|██████████| 74/74 [00:09<00:00,  8.05it/s]\n",
      "                 Class     Images  Instances      Box(P          R      mAP50  mAP50-95): 100%|██████████| 8/8 [00:01<00:00,  6.61it/s]"
     ]
    },
    {
     "name": "stdout",
     "output_type": "stream",
     "text": [
      "                   all        250       2831      0.905      0.866      0.937      0.622\n"
     ]
    },
    {
     "name": "stderr",
     "output_type": "stream",
     "text": [
      "\n"
     ]
    },
    {
     "name": "stdout",
     "output_type": "stream",
     "text": [
      "\n",
      "      Epoch    GPU_mem   box_loss   cls_loss   dfl_loss  Instances       Size\n"
     ]
    },
    {
     "name": "stderr",
     "output_type": "stream",
     "text": [
      "   226/1000      2.97G      1.056      0.565      1.037         44        640: 100%|██████████| 74/74 [00:08<00:00,  8.29it/s]\n",
      "                 Class     Images  Instances      Box(P          R      mAP50  mAP50-95): 100%|██████████| 8/8 [00:01<00:00,  6.77it/s]"
     ]
    },
    {
     "name": "stdout",
     "output_type": "stream",
     "text": [
      "                   all        250       2831      0.897      0.863      0.934      0.623\n"
     ]
    },
    {
     "name": "stderr",
     "output_type": "stream",
     "text": [
      "\n"
     ]
    },
    {
     "name": "stdout",
     "output_type": "stream",
     "text": [
      "\n",
      "      Epoch    GPU_mem   box_loss   cls_loss   dfl_loss  Instances       Size\n"
     ]
    },
    {
     "name": "stderr",
     "output_type": "stream",
     "text": [
      "   227/1000      3.17G      1.042     0.5565      1.029         10        640: 100%|██████████| 74/74 [00:08<00:00,  8.24it/s]\n",
      "                 Class     Images  Instances      Box(P          R      mAP50  mAP50-95): 100%|██████████| 8/8 [00:01<00:00,  6.60it/s]"
     ]
    },
    {
     "name": "stdout",
     "output_type": "stream",
     "text": [
      "                   all        250       2831      0.898       0.87      0.937      0.625\n"
     ]
    },
    {
     "name": "stderr",
     "output_type": "stream",
     "text": [
      "\n"
     ]
    },
    {
     "name": "stdout",
     "output_type": "stream",
     "text": [
      "\n",
      "      Epoch    GPU_mem   box_loss   cls_loss   dfl_loss  Instances       Size\n"
     ]
    },
    {
     "name": "stderr",
     "output_type": "stream",
     "text": [
      "   228/1000      3.09G      1.054     0.5648      1.037         18        640: 100%|██████████| 74/74 [00:08<00:00,  8.27it/s]\n",
      "                 Class     Images  Instances      Box(P          R      mAP50  mAP50-95): 100%|██████████| 8/8 [00:01<00:00,  6.54it/s]"
     ]
    },
    {
     "name": "stdout",
     "output_type": "stream",
     "text": [
      "                   all        250       2831      0.898      0.858      0.936      0.623\n"
     ]
    },
    {
     "name": "stderr",
     "output_type": "stream",
     "text": [
      "\n"
     ]
    },
    {
     "name": "stdout",
     "output_type": "stream",
     "text": [
      "\n",
      "      Epoch    GPU_mem   box_loss   cls_loss   dfl_loss  Instances       Size\n"
     ]
    },
    {
     "name": "stderr",
     "output_type": "stream",
     "text": [
      "   229/1000      3.02G      1.048     0.5538      1.031         25        640: 100%|██████████| 74/74 [00:08<00:00,  8.32it/s]\n",
      "                 Class     Images  Instances      Box(P          R      mAP50  mAP50-95): 100%|██████████| 8/8 [00:01<00:00,  6.69it/s]"
     ]
    },
    {
     "name": "stdout",
     "output_type": "stream",
     "text": [
      "                   all        250       2831      0.898      0.861      0.937      0.626\n"
     ]
    },
    {
     "name": "stderr",
     "output_type": "stream",
     "text": [
      "\n"
     ]
    },
    {
     "name": "stdout",
     "output_type": "stream",
     "text": [
      "\n",
      "      Epoch    GPU_mem   box_loss   cls_loss   dfl_loss  Instances       Size\n"
     ]
    },
    {
     "name": "stderr",
     "output_type": "stream",
     "text": [
      "   230/1000      2.91G      1.039     0.5608      1.034         13        640: 100%|██████████| 74/74 [00:09<00:00,  8.16it/s]\n",
      "                 Class     Images  Instances      Box(P          R      mAP50  mAP50-95): 100%|██████████| 8/8 [00:01<00:00,  6.59it/s]"
     ]
    },
    {
     "name": "stdout",
     "output_type": "stream",
     "text": [
      "                   all        250       2831      0.904       0.86      0.939       0.63\n"
     ]
    },
    {
     "name": "stderr",
     "output_type": "stream",
     "text": [
      "\n"
     ]
    },
    {
     "name": "stdout",
     "output_type": "stream",
     "text": [
      "\n",
      "      Epoch    GPU_mem   box_loss   cls_loss   dfl_loss  Instances       Size\n"
     ]
    },
    {
     "name": "stderr",
     "output_type": "stream",
     "text": [
      "   231/1000      2.66G      1.032     0.5491      1.025         15        640: 100%|██████████| 74/74 [00:08<00:00,  8.30it/s]\n",
      "                 Class     Images  Instances      Box(P          R      mAP50  mAP50-95): 100%|██████████| 8/8 [00:01<00:00,  6.77it/s]"
     ]
    },
    {
     "name": "stdout",
     "output_type": "stream",
     "text": [
      "                   all        250       2831      0.894      0.868       0.94      0.625\n"
     ]
    },
    {
     "name": "stderr",
     "output_type": "stream",
     "text": [
      "\n"
     ]
    },
    {
     "name": "stdout",
     "output_type": "stream",
     "text": [
      "\n",
      "      Epoch    GPU_mem   box_loss   cls_loss   dfl_loss  Instances       Size\n"
     ]
    },
    {
     "name": "stderr",
     "output_type": "stream",
     "text": [
      "   232/1000       2.8G      1.057     0.5595      1.036         27        640: 100%|██████████| 74/74 [00:08<00:00,  8.26it/s]\n",
      "                 Class     Images  Instances      Box(P          R      mAP50  mAP50-95): 100%|██████████| 8/8 [00:01<00:00,  6.65it/s]"
     ]
    },
    {
     "name": "stdout",
     "output_type": "stream",
     "text": [
      "                   all        250       2831      0.907      0.857      0.937      0.623\n"
     ]
    },
    {
     "name": "stderr",
     "output_type": "stream",
     "text": [
      "\n"
     ]
    },
    {
     "name": "stdout",
     "output_type": "stream",
     "text": [
      "\n",
      "      Epoch    GPU_mem   box_loss   cls_loss   dfl_loss  Instances       Size\n"
     ]
    },
    {
     "name": "stderr",
     "output_type": "stream",
     "text": [
      "   233/1000      2.87G      1.043     0.5547      1.027         31        640: 100%|██████████| 74/74 [00:09<00:00,  8.17it/s]\n",
      "                 Class     Images  Instances      Box(P          R      mAP50  mAP50-95): 100%|██████████| 8/8 [00:01<00:00,  6.47it/s]"
     ]
    },
    {
     "name": "stdout",
     "output_type": "stream",
     "text": [
      "                   all        250       2831      0.908      0.866      0.937      0.622\n"
     ]
    },
    {
     "name": "stderr",
     "output_type": "stream",
     "text": [
      "\n"
     ]
    },
    {
     "name": "stdout",
     "output_type": "stream",
     "text": [
      "\n",
      "      Epoch    GPU_mem   box_loss   cls_loss   dfl_loss  Instances       Size\n"
     ]
    },
    {
     "name": "stderr",
     "output_type": "stream",
     "text": [
      "   234/1000      3.08G      1.038      0.552      1.025         38        640: 100%|██████████| 74/74 [00:08<00:00,  8.24it/s]\n",
      "                 Class     Images  Instances      Box(P          R      mAP50  mAP50-95): 100%|██████████| 8/8 [00:01<00:00,  6.65it/s]"
     ]
    },
    {
     "name": "stdout",
     "output_type": "stream",
     "text": [
      "                   all        250       2831      0.899      0.866      0.939      0.624\n"
     ]
    },
    {
     "name": "stderr",
     "output_type": "stream",
     "text": [
      "\n"
     ]
    },
    {
     "name": "stdout",
     "output_type": "stream",
     "text": [
      "\n",
      "      Epoch    GPU_mem   box_loss   cls_loss   dfl_loss  Instances       Size\n"
     ]
    },
    {
     "name": "stderr",
     "output_type": "stream",
     "text": [
      "   235/1000      2.98G      1.027     0.5467      1.023         36        640: 100%|██████████| 74/74 [00:09<00:00,  7.87it/s]\n",
      "                 Class     Images  Instances      Box(P          R      mAP50  mAP50-95): 100%|██████████| 8/8 [00:01<00:00,  6.63it/s]"
     ]
    },
    {
     "name": "stdout",
     "output_type": "stream",
     "text": [
      "                   all        250       2831      0.919      0.849      0.938      0.625\n"
     ]
    },
    {
     "name": "stderr",
     "output_type": "stream",
     "text": [
      "\n"
     ]
    },
    {
     "name": "stdout",
     "output_type": "stream",
     "text": [
      "\n",
      "      Epoch    GPU_mem   box_loss   cls_loss   dfl_loss  Instances       Size\n"
     ]
    },
    {
     "name": "stderr",
     "output_type": "stream",
     "text": [
      "   236/1000      3.73G      1.035     0.5509      1.026         46        640: 100%|██████████| 74/74 [00:09<00:00,  8.20it/s]\n",
      "                 Class     Images  Instances      Box(P          R      mAP50  mAP50-95): 100%|██████████| 8/8 [00:01<00:00,  6.64it/s]"
     ]
    },
    {
     "name": "stdout",
     "output_type": "stream",
     "text": [
      "                   all        250       2831      0.895      0.875       0.94       0.62\n"
     ]
    },
    {
     "name": "stderr",
     "output_type": "stream",
     "text": [
      "\n"
     ]
    },
    {
     "name": "stdout",
     "output_type": "stream",
     "text": [
      "\n",
      "      Epoch    GPU_mem   box_loss   cls_loss   dfl_loss  Instances       Size\n"
     ]
    },
    {
     "name": "stderr",
     "output_type": "stream",
     "text": [
      "   237/1000      2.81G      1.037     0.5485      1.029         23        640: 100%|██████████| 74/74 [00:08<00:00,  8.29it/s]\n",
      "                 Class     Images  Instances      Box(P          R      mAP50  mAP50-95): 100%|██████████| 8/8 [00:01<00:00,  6.65it/s]"
     ]
    },
    {
     "name": "stdout",
     "output_type": "stream",
     "text": [
      "                   all        250       2831      0.904      0.871      0.941      0.629\n"
     ]
    },
    {
     "name": "stderr",
     "output_type": "stream",
     "text": [
      "\n"
     ]
    },
    {
     "name": "stdout",
     "output_type": "stream",
     "text": [
      "\n",
      "      Epoch    GPU_mem   box_loss   cls_loss   dfl_loss  Instances       Size\n"
     ]
    },
    {
     "name": "stderr",
     "output_type": "stream",
     "text": [
      "   238/1000      3.16G      1.039     0.5512      1.029         14        640: 100%|██████████| 74/74 [00:08<00:00,  8.23it/s]\n",
      "                 Class     Images  Instances      Box(P          R      mAP50  mAP50-95): 100%|██████████| 8/8 [00:01<00:00,  6.64it/s]"
     ]
    },
    {
     "name": "stdout",
     "output_type": "stream",
     "text": [
      "                   all        250       2831      0.906      0.867      0.939      0.625\n"
     ]
    },
    {
     "name": "stderr",
     "output_type": "stream",
     "text": [
      "\n"
     ]
    },
    {
     "name": "stdout",
     "output_type": "stream",
     "text": [
      "\n",
      "      Epoch    GPU_mem   box_loss   cls_loss   dfl_loss  Instances       Size\n"
     ]
    },
    {
     "name": "stderr",
     "output_type": "stream",
     "text": [
      "   239/1000       2.9G       1.04     0.5504      1.026         33        640: 100%|██████████| 74/74 [00:08<00:00,  8.24it/s]\n",
      "                 Class     Images  Instances      Box(P          R      mAP50  mAP50-95): 100%|██████████| 8/8 [00:01<00:00,  6.72it/s]"
     ]
    },
    {
     "name": "stdout",
     "output_type": "stream",
     "text": [
      "                   all        250       2831       0.91       0.86      0.939      0.624\n"
     ]
    },
    {
     "name": "stderr",
     "output_type": "stream",
     "text": [
      "\n"
     ]
    },
    {
     "name": "stdout",
     "output_type": "stream",
     "text": [
      "\n",
      "      Epoch    GPU_mem   box_loss   cls_loss   dfl_loss  Instances       Size\n"
     ]
    },
    {
     "name": "stderr",
     "output_type": "stream",
     "text": [
      "   240/1000      3.05G      1.046     0.5536      1.029         36        640: 100%|██████████| 74/74 [00:09<00:00,  8.20it/s]\n",
      "                 Class     Images  Instances      Box(P          R      mAP50  mAP50-95): 100%|██████████| 8/8 [00:01<00:00,  6.47it/s]"
     ]
    },
    {
     "name": "stdout",
     "output_type": "stream",
     "text": [
      "                   all        250       2831      0.899       0.86      0.935      0.628\n"
     ]
    },
    {
     "name": "stderr",
     "output_type": "stream",
     "text": [
      "\n"
     ]
    },
    {
     "name": "stdout",
     "output_type": "stream",
     "text": [
      "\n",
      "      Epoch    GPU_mem   box_loss   cls_loss   dfl_loss  Instances       Size\n"
     ]
    },
    {
     "name": "stderr",
     "output_type": "stream",
     "text": [
      "   241/1000      2.86G      1.034     0.5457      1.027         54        640: 100%|██████████| 74/74 [00:09<00:00,  8.14it/s]\n",
      "                 Class     Images  Instances      Box(P          R      mAP50  mAP50-95): 100%|██████████| 8/8 [00:01<00:00,  6.56it/s]"
     ]
    },
    {
     "name": "stdout",
     "output_type": "stream",
     "text": [
      "                   all        250       2831      0.906      0.856      0.934      0.622\n"
     ]
    },
    {
     "name": "stderr",
     "output_type": "stream",
     "text": [
      "\n"
     ]
    },
    {
     "name": "stdout",
     "output_type": "stream",
     "text": [
      "\n",
      "      Epoch    GPU_mem   box_loss   cls_loss   dfl_loss  Instances       Size\n"
     ]
    },
    {
     "name": "stderr",
     "output_type": "stream",
     "text": [
      "   242/1000      3.02G      1.026     0.5431      1.022         31        640: 100%|██████████| 74/74 [00:08<00:00,  8.22it/s]\n",
      "                 Class     Images  Instances      Box(P          R      mAP50  mAP50-95): 100%|██████████| 8/8 [00:01<00:00,  6.78it/s]"
     ]
    },
    {
     "name": "stdout",
     "output_type": "stream",
     "text": [
      "                   all        250       2831      0.907       0.85      0.933      0.625\n"
     ]
    },
    {
     "name": "stderr",
     "output_type": "stream",
     "text": [
      "\n"
     ]
    },
    {
     "name": "stdout",
     "output_type": "stream",
     "text": [
      "\n",
      "      Epoch    GPU_mem   box_loss   cls_loss   dfl_loss  Instances       Size\n"
     ]
    },
    {
     "name": "stderr",
     "output_type": "stream",
     "text": [
      "   243/1000      2.79G      1.033     0.5486      1.025          4        640: 100%|██████████| 74/74 [00:08<00:00,  8.23it/s]\n",
      "                 Class     Images  Instances      Box(P          R      mAP50  mAP50-95): 100%|██████████| 8/8 [00:01<00:00,  6.65it/s]"
     ]
    },
    {
     "name": "stdout",
     "output_type": "stream",
     "text": [
      "                   all        250       2831      0.907      0.851      0.936      0.625\n"
     ]
    },
    {
     "name": "stderr",
     "output_type": "stream",
     "text": [
      "\n"
     ]
    },
    {
     "name": "stdout",
     "output_type": "stream",
     "text": [
      "\n",
      "      Epoch    GPU_mem   box_loss   cls_loss   dfl_loss  Instances       Size\n"
     ]
    },
    {
     "name": "stderr",
     "output_type": "stream",
     "text": [
      "   244/1000      2.81G      1.031     0.5448       1.02         28        640: 100%|██████████| 74/74 [00:08<00:00,  8.24it/s]\n",
      "                 Class     Images  Instances      Box(P          R      mAP50  mAP50-95): 100%|██████████| 8/8 [00:01<00:00,  6.56it/s]"
     ]
    },
    {
     "name": "stdout",
     "output_type": "stream",
     "text": [
      "                   all        250       2831      0.914      0.851      0.935      0.624\n"
     ]
    },
    {
     "name": "stderr",
     "output_type": "stream",
     "text": [
      "\n"
     ]
    },
    {
     "name": "stdout",
     "output_type": "stream",
     "text": [
      "\n",
      "      Epoch    GPU_mem   box_loss   cls_loss   dfl_loss  Instances       Size\n"
     ]
    },
    {
     "name": "stderr",
     "output_type": "stream",
     "text": [
      "   245/1000         3G      1.022     0.5412      1.021         45        640: 100%|██████████| 74/74 [00:08<00:00,  8.27it/s]\n",
      "                 Class     Images  Instances      Box(P          R      mAP50  mAP50-95): 100%|██████████| 8/8 [00:01<00:00,  6.77it/s]"
     ]
    },
    {
     "name": "stdout",
     "output_type": "stream",
     "text": [
      "                   all        250       2831      0.903      0.863      0.938      0.628\n"
     ]
    },
    {
     "name": "stderr",
     "output_type": "stream",
     "text": [
      "\n"
     ]
    },
    {
     "name": "stdout",
     "output_type": "stream",
     "text": [
      "\n",
      "      Epoch    GPU_mem   box_loss   cls_loss   dfl_loss  Instances       Size\n"
     ]
    },
    {
     "name": "stderr",
     "output_type": "stream",
     "text": [
      "   246/1000      3.08G      1.029     0.5405      1.018         49        640: 100%|██████████| 74/74 [00:08<00:00,  8.25it/s]\n",
      "                 Class     Images  Instances      Box(P          R      mAP50  mAP50-95): 100%|██████████| 8/8 [00:01<00:00,  6.72it/s]"
     ]
    },
    {
     "name": "stdout",
     "output_type": "stream",
     "text": [
      "                   all        250       2831      0.907      0.857      0.936      0.623\n"
     ]
    },
    {
     "name": "stderr",
     "output_type": "stream",
     "text": [
      "\n"
     ]
    },
    {
     "name": "stdout",
     "output_type": "stream",
     "text": [
      "\n",
      "      Epoch    GPU_mem   box_loss   cls_loss   dfl_loss  Instances       Size\n"
     ]
    },
    {
     "name": "stderr",
     "output_type": "stream",
     "text": [
      "   247/1000      2.95G      1.037     0.5429      1.025         12        640: 100%|██████████| 74/74 [00:08<00:00,  8.32it/s]\n",
      "                 Class     Images  Instances      Box(P          R      mAP50  mAP50-95): 100%|██████████| 8/8 [00:01<00:00,  6.77it/s]"
     ]
    },
    {
     "name": "stdout",
     "output_type": "stream",
     "text": [
      "                   all        250       2831      0.896      0.859      0.934      0.626\n"
     ]
    },
    {
     "name": "stderr",
     "output_type": "stream",
     "text": [
      "\n"
     ]
    },
    {
     "name": "stdout",
     "output_type": "stream",
     "text": [
      "\n",
      "      Epoch    GPU_mem   box_loss   cls_loss   dfl_loss  Instances       Size\n"
     ]
    },
    {
     "name": "stderr",
     "output_type": "stream",
     "text": [
      "   248/1000      2.94G      1.016      0.537      1.019         36        640: 100%|██████████| 74/74 [00:08<00:00,  8.25it/s]\n",
      "                 Class     Images  Instances      Box(P          R      mAP50  mAP50-95): 100%|██████████| 8/8 [00:01<00:00,  6.65it/s]"
     ]
    },
    {
     "name": "stdout",
     "output_type": "stream",
     "text": [
      "                   all        250       2831      0.888      0.867      0.935      0.618\n"
     ]
    },
    {
     "name": "stderr",
     "output_type": "stream",
     "text": [
      "\n"
     ]
    },
    {
     "name": "stdout",
     "output_type": "stream",
     "text": [
      "\n",
      "      Epoch    GPU_mem   box_loss   cls_loss   dfl_loss  Instances       Size\n"
     ]
    },
    {
     "name": "stderr",
     "output_type": "stream",
     "text": [
      "   249/1000      2.83G      1.023      0.543      1.021         20        640: 100%|██████████| 74/74 [00:08<00:00,  8.26it/s]\n",
      "                 Class     Images  Instances      Box(P          R      mAP50  mAP50-95): 100%|██████████| 8/8 [00:01<00:00,  6.68it/s]"
     ]
    },
    {
     "name": "stdout",
     "output_type": "stream",
     "text": [
      "                   all        250       2831      0.901      0.856      0.932      0.621\n"
     ]
    },
    {
     "name": "stderr",
     "output_type": "stream",
     "text": [
      "\n"
     ]
    },
    {
     "name": "stdout",
     "output_type": "stream",
     "text": [
      "\n",
      "      Epoch    GPU_mem   box_loss   cls_loss   dfl_loss  Instances       Size\n"
     ]
    },
    {
     "name": "stderr",
     "output_type": "stream",
     "text": [
      "   250/1000      2.95G      1.019     0.5394      1.021         23        640: 100%|██████████| 74/74 [00:09<00:00,  8.19it/s]\n",
      "                 Class     Images  Instances      Box(P          R      mAP50  mAP50-95): 100%|██████████| 8/8 [00:01<00:00,  6.63it/s]"
     ]
    },
    {
     "name": "stdout",
     "output_type": "stream",
     "text": [
      "                   all        250       2831      0.898      0.869      0.936      0.623\n"
     ]
    },
    {
     "name": "stderr",
     "output_type": "stream",
     "text": [
      "\n"
     ]
    },
    {
     "name": "stdout",
     "output_type": "stream",
     "text": [
      "\n",
      "      Epoch    GPU_mem   box_loss   cls_loss   dfl_loss  Instances       Size\n"
     ]
    },
    {
     "name": "stderr",
     "output_type": "stream",
     "text": [
      "   251/1000      3.47G      1.033     0.5471      1.023         16        640: 100%|██████████| 74/74 [00:08<00:00,  8.25it/s]\n",
      "                 Class     Images  Instances      Box(P          R      mAP50  mAP50-95): 100%|██████████| 8/8 [00:01<00:00,  6.70it/s]"
     ]
    },
    {
     "name": "stdout",
     "output_type": "stream",
     "text": [
      "                   all        250       2831       0.89      0.864      0.931      0.622\n"
     ]
    },
    {
     "name": "stderr",
     "output_type": "stream",
     "text": [
      "\n"
     ]
    },
    {
     "name": "stdout",
     "output_type": "stream",
     "text": [
      "\n",
      "      Epoch    GPU_mem   box_loss   cls_loss   dfl_loss  Instances       Size\n"
     ]
    },
    {
     "name": "stderr",
     "output_type": "stream",
     "text": [
      "   252/1000      3.22G      1.033     0.5498      1.023         28        640: 100%|██████████| 74/74 [00:08<00:00,  8.26it/s]\n",
      "                 Class     Images  Instances      Box(P          R      mAP50  mAP50-95): 100%|██████████| 8/8 [00:01<00:00,  6.52it/s]"
     ]
    },
    {
     "name": "stdout",
     "output_type": "stream",
     "text": [
      "                   all        250       2831       0.89      0.868      0.934      0.627\n"
     ]
    },
    {
     "name": "stderr",
     "output_type": "stream",
     "text": [
      "\n"
     ]
    },
    {
     "name": "stdout",
     "output_type": "stream",
     "text": [
      "\n",
      "      Epoch    GPU_mem   box_loss   cls_loss   dfl_loss  Instances       Size\n"
     ]
    },
    {
     "name": "stderr",
     "output_type": "stream",
     "text": [
      "   253/1000      3.07G      1.022     0.5414      1.023         35        640: 100%|██████████| 74/74 [00:09<00:00,  8.18it/s]\n",
      "                 Class     Images  Instances      Box(P          R      mAP50  mAP50-95): 100%|██████████| 8/8 [00:01<00:00,  6.56it/s]"
     ]
    },
    {
     "name": "stdout",
     "output_type": "stream",
     "text": [
      "                   all        250       2831        0.9      0.866      0.936      0.627\n"
     ]
    },
    {
     "name": "stderr",
     "output_type": "stream",
     "text": [
      "\n"
     ]
    },
    {
     "name": "stdout",
     "output_type": "stream",
     "text": [
      "\n",
      "      Epoch    GPU_mem   box_loss   cls_loss   dfl_loss  Instances       Size\n"
     ]
    },
    {
     "name": "stderr",
     "output_type": "stream",
     "text": [
      "   254/1000      2.71G       1.02     0.5419      1.021         27        640: 100%|██████████| 74/74 [00:08<00:00,  8.25it/s]\n",
      "                 Class     Images  Instances      Box(P          R      mAP50  mAP50-95): 100%|██████████| 8/8 [00:01<00:00,  6.67it/s]"
     ]
    },
    {
     "name": "stdout",
     "output_type": "stream",
     "text": [
      "                   all        250       2831        0.9      0.864      0.936      0.627\n"
     ]
    },
    {
     "name": "stderr",
     "output_type": "stream",
     "text": [
      "\n"
     ]
    },
    {
     "name": "stdout",
     "output_type": "stream",
     "text": [
      "\n",
      "      Epoch    GPU_mem   box_loss   cls_loss   dfl_loss  Instances       Size\n"
     ]
    },
    {
     "name": "stderr",
     "output_type": "stream",
     "text": [
      "   255/1000      2.82G      1.025     0.5398      1.024         32        640: 100%|██████████| 74/74 [00:09<00:00,  8.22it/s]\n",
      "                 Class     Images  Instances      Box(P          R      mAP50  mAP50-95): 100%|██████████| 8/8 [00:01<00:00,  6.64it/s]"
     ]
    },
    {
     "name": "stdout",
     "output_type": "stream",
     "text": [
      "                   all        250       2831      0.889      0.872      0.935      0.625\n"
     ]
    },
    {
     "name": "stderr",
     "output_type": "stream",
     "text": [
      "\n"
     ]
    },
    {
     "name": "stdout",
     "output_type": "stream",
     "text": [
      "\n",
      "      Epoch    GPU_mem   box_loss   cls_loss   dfl_loss  Instances       Size\n"
     ]
    },
    {
     "name": "stderr",
     "output_type": "stream",
     "text": [
      "   256/1000      3.17G      1.019     0.5376      1.022         24        640: 100%|██████████| 74/74 [00:08<00:00,  8.23it/s]\n",
      "                 Class     Images  Instances      Box(P          R      mAP50  mAP50-95): 100%|██████████| 8/8 [00:01<00:00,  6.65it/s]"
     ]
    },
    {
     "name": "stdout",
     "output_type": "stream",
     "text": [
      "                   all        250       2831      0.893      0.867      0.933      0.629\n"
     ]
    },
    {
     "name": "stderr",
     "output_type": "stream",
     "text": [
      "\n"
     ]
    },
    {
     "name": "stdout",
     "output_type": "stream",
     "text": [
      "\n",
      "      Epoch    GPU_mem   box_loss   cls_loss   dfl_loss  Instances       Size\n"
     ]
    },
    {
     "name": "stderr",
     "output_type": "stream",
     "text": [
      "   257/1000      2.96G      1.021     0.5371      1.017         53        640: 100%|██████████| 74/74 [00:09<00:00,  8.14it/s]\n",
      "                 Class     Images  Instances      Box(P          R      mAP50  mAP50-95): 100%|██████████| 8/8 [00:01<00:00,  6.63it/s]"
     ]
    },
    {
     "name": "stdout",
     "output_type": "stream",
     "text": [
      "                   all        250       2831      0.886       0.88      0.936      0.629\n"
     ]
    },
    {
     "name": "stderr",
     "output_type": "stream",
     "text": [
      "\n"
     ]
    },
    {
     "name": "stdout",
     "output_type": "stream",
     "text": [
      "\n",
      "      Epoch    GPU_mem   box_loss   cls_loss   dfl_loss  Instances       Size\n"
     ]
    },
    {
     "name": "stderr",
     "output_type": "stream",
     "text": [
      "   258/1000      3.14G      1.017     0.5353      1.015         37        640: 100%|██████████| 74/74 [00:08<00:00,  8.25it/s]\n",
      "                 Class     Images  Instances      Box(P          R      mAP50  mAP50-95): 100%|██████████| 8/8 [00:01<00:00,  6.74it/s]"
     ]
    },
    {
     "name": "stdout",
     "output_type": "stream",
     "text": [
      "                   all        250       2831        0.9      0.866      0.937      0.627\n"
     ]
    },
    {
     "name": "stderr",
     "output_type": "stream",
     "text": [
      "\n"
     ]
    },
    {
     "name": "stdout",
     "output_type": "stream",
     "text": [
      "\n",
      "      Epoch    GPU_mem   box_loss   cls_loss   dfl_loss  Instances       Size\n"
     ]
    },
    {
     "name": "stderr",
     "output_type": "stream",
     "text": [
      "   259/1000      2.71G       1.01     0.5321      1.017         20        640: 100%|██████████| 74/74 [00:09<00:00,  8.13it/s]\n",
      "                 Class     Images  Instances      Box(P          R      mAP50  mAP50-95): 100%|██████████| 8/8 [00:01<00:00,  6.63it/s]"
     ]
    },
    {
     "name": "stdout",
     "output_type": "stream",
     "text": [
      "                   all        250       2831      0.892      0.866      0.935      0.621\n"
     ]
    },
    {
     "name": "stderr",
     "output_type": "stream",
     "text": [
      "\n"
     ]
    },
    {
     "name": "stdout",
     "output_type": "stream",
     "text": [
      "\n",
      "      Epoch    GPU_mem   box_loss   cls_loss   dfl_loss  Instances       Size\n"
     ]
    },
    {
     "name": "stderr",
     "output_type": "stream",
     "text": [
      "   260/1000       2.7G      1.024     0.5383      1.017         17        640: 100%|██████████| 74/74 [00:08<00:00,  8.22it/s]\n",
      "                 Class     Images  Instances      Box(P          R      mAP50  mAP50-95): 100%|██████████| 8/8 [00:01<00:00,  6.62it/s]"
     ]
    },
    {
     "name": "stdout",
     "output_type": "stream",
     "text": [
      "                   all        250       2831      0.898      0.863      0.933      0.625\n"
     ]
    },
    {
     "name": "stderr",
     "output_type": "stream",
     "text": [
      "\n"
     ]
    },
    {
     "name": "stdout",
     "output_type": "stream",
     "text": [
      "\n",
      "      Epoch    GPU_mem   box_loss   cls_loss   dfl_loss  Instances       Size\n"
     ]
    },
    {
     "name": "stderr",
     "output_type": "stream",
     "text": [
      "   261/1000      2.96G       1.01     0.5321      1.017         27        640: 100%|██████████| 74/74 [00:09<00:00,  8.14it/s]\n",
      "                 Class     Images  Instances      Box(P          R      mAP50  mAP50-95): 100%|██████████| 8/8 [00:01<00:00,  6.71it/s]"
     ]
    },
    {
     "name": "stdout",
     "output_type": "stream",
     "text": [
      "                   all        250       2831      0.902      0.865      0.936      0.625\n"
     ]
    },
    {
     "name": "stderr",
     "output_type": "stream",
     "text": [
      "\n"
     ]
    },
    {
     "name": "stdout",
     "output_type": "stream",
     "text": [
      "\n",
      "      Epoch    GPU_mem   box_loss   cls_loss   dfl_loss  Instances       Size\n"
     ]
    },
    {
     "name": "stderr",
     "output_type": "stream",
     "text": [
      "   262/1000      3.04G      1.007      0.533      1.011         76        640: 100%|██████████| 74/74 [00:08<00:00,  8.23it/s]\n",
      "                 Class     Images  Instances      Box(P          R      mAP50  mAP50-95): 100%|██████████| 8/8 [00:01<00:00,  6.77it/s]"
     ]
    },
    {
     "name": "stdout",
     "output_type": "stream",
     "text": [
      "                   all        250       2831      0.897      0.866      0.933      0.627\n"
     ]
    },
    {
     "name": "stderr",
     "output_type": "stream",
     "text": [
      "\n"
     ]
    },
    {
     "name": "stdout",
     "output_type": "stream",
     "text": [
      "\n",
      "      Epoch    GPU_mem   box_loss   cls_loss   dfl_loss  Instances       Size\n"
     ]
    },
    {
     "name": "stderr",
     "output_type": "stream",
     "text": [
      "   263/1000      3.11G      1.024      0.539      1.018        107        640: 100%|██████████| 74/74 [00:09<00:00,  8.18it/s]\n",
      "                 Class     Images  Instances      Box(P          R      mAP50  mAP50-95): 100%|██████████| 8/8 [00:01<00:00,  6.72it/s]"
     ]
    },
    {
     "name": "stdout",
     "output_type": "stream",
     "text": [
      "                   all        250       2831      0.892      0.879      0.937      0.628\n",
      "\u001b[34m\u001b[1mEarlyStopping: \u001b[0mTraining stopped early as no improvement observed in last 100 epochs. Best results observed at epoch 163, best model saved as best.pt.\n",
      "To update EarlyStopping(patience=100) pass a new patience value, i.e. `patience=300` or use `patience=0` to disable EarlyStopping.\n"
     ]
    },
    {
     "name": "stderr",
     "output_type": "stream",
     "text": [
      "\n"
     ]
    },
    {
     "name": "stdout",
     "output_type": "stream",
     "text": [
      "\n",
      "263 epochs completed in 0.799 hours.\n",
      "Optimizer stripped from runs\\detect\\train\\weights\\last.pt, 5.5MB\n",
      "Optimizer stripped from runs\\detect\\train\\weights\\best.pt, 5.5MB\n",
      "\n",
      "Validating runs\\detect\\train\\weights\\best.pt...\n",
      "Ultralytics 8.3.15  Python-3.12.2 torch-2.5.0+cu118 CUDA:0 (NVIDIA GeForce RTX 4060, 8188MiB)\n",
      "YOLO11n summary (fused): 238 layers, 2,582,347 parameters, 0 gradients, 6.3 GFLOPs\n"
     ]
    },
    {
     "name": "stderr",
     "output_type": "stream",
     "text": [
      "                 Class     Images  Instances      Box(P          R      mAP50  mAP50-95): 100%|██████████| 8/8 [00:02<00:00,  3.35it/s]\n"
     ]
    },
    {
     "name": "stdout",
     "output_type": "stream",
     "text": [
      "                   all        250       2831      0.896      0.873      0.939      0.632\n",
      "Speed: 0.3ms preprocess, 1.6ms inference, 0.0ms loss, 0.9ms postprocess per image\n",
      "Results saved to \u001b[1mruns\\detect\\train\u001b[0m\n"
     ]
    },
    {
     "data": {
      "text/plain": [
       "ultralytics.utils.metrics.DetMetrics object with attributes:\n",
       "\n",
       "ap_class_index: array([0])\n",
       "box: ultralytics.utils.metrics.Metric object\n",
       "confusion_matrix: <ultralytics.utils.metrics.ConfusionMatrix object at 0x0000022665F4DDF0>\n",
       "curves: ['Precision-Recall(B)', 'F1-Confidence(B)', 'Precision-Confidence(B)', 'Recall-Confidence(B)']\n",
       "curves_results: [[array([          0,    0.001001,    0.002002,    0.003003,    0.004004,    0.005005,    0.006006,    0.007007,    0.008008,    0.009009,     0.01001,    0.011011,    0.012012,    0.013013,    0.014014,    0.015015,    0.016016,    0.017017,    0.018018,    0.019019,     0.02002,    0.021021,    0.022022,    0.023023,\n",
       "          0.024024,    0.025025,    0.026026,    0.027027,    0.028028,    0.029029,     0.03003,    0.031031,    0.032032,    0.033033,    0.034034,    0.035035,    0.036036,    0.037037,    0.038038,    0.039039,     0.04004,    0.041041,    0.042042,    0.043043,    0.044044,    0.045045,    0.046046,    0.047047,\n",
       "          0.048048,    0.049049,     0.05005,    0.051051,    0.052052,    0.053053,    0.054054,    0.055055,    0.056056,    0.057057,    0.058058,    0.059059,     0.06006,    0.061061,    0.062062,    0.063063,    0.064064,    0.065065,    0.066066,    0.067067,    0.068068,    0.069069,     0.07007,    0.071071,\n",
       "          0.072072,    0.073073,    0.074074,    0.075075,    0.076076,    0.077077,    0.078078,    0.079079,     0.08008,    0.081081,    0.082082,    0.083083,    0.084084,    0.085085,    0.086086,    0.087087,    0.088088,    0.089089,     0.09009,    0.091091,    0.092092,    0.093093,    0.094094,    0.095095,\n",
       "          0.096096,    0.097097,    0.098098,    0.099099,      0.1001,      0.1011,      0.1021,      0.1031,      0.1041,     0.10511,     0.10611,     0.10711,     0.10811,     0.10911,     0.11011,     0.11111,     0.11211,     0.11311,     0.11411,     0.11512,     0.11612,     0.11712,     0.11812,     0.11912,\n",
       "           0.12012,     0.12112,     0.12212,     0.12312,     0.12412,     0.12513,     0.12613,     0.12713,     0.12813,     0.12913,     0.13013,     0.13113,     0.13213,     0.13313,     0.13413,     0.13514,     0.13614,     0.13714,     0.13814,     0.13914,     0.14014,     0.14114,     0.14214,     0.14314,\n",
       "           0.14414,     0.14515,     0.14615,     0.14715,     0.14815,     0.14915,     0.15015,     0.15115,     0.15215,     0.15315,     0.15415,     0.15516,     0.15616,     0.15716,     0.15816,     0.15916,     0.16016,     0.16116,     0.16216,     0.16316,     0.16416,     0.16517,     0.16617,     0.16717,\n",
       "           0.16817,     0.16917,     0.17017,     0.17117,     0.17217,     0.17317,     0.17417,     0.17518,     0.17618,     0.17718,     0.17818,     0.17918,     0.18018,     0.18118,     0.18218,     0.18318,     0.18418,     0.18519,     0.18619,     0.18719,     0.18819,     0.18919,     0.19019,     0.19119,\n",
       "           0.19219,     0.19319,     0.19419,      0.1952,      0.1962,      0.1972,      0.1982,      0.1992,      0.2002,      0.2012,      0.2022,      0.2032,      0.2042,     0.20521,     0.20621,     0.20721,     0.20821,     0.20921,     0.21021,     0.21121,     0.21221,     0.21321,     0.21421,     0.21522,\n",
       "           0.21622,     0.21722,     0.21822,     0.21922,     0.22022,     0.22122,     0.22222,     0.22322,     0.22422,     0.22523,     0.22623,     0.22723,     0.22823,     0.22923,     0.23023,     0.23123,     0.23223,     0.23323,     0.23423,     0.23524,     0.23624,     0.23724,     0.23824,     0.23924,\n",
       "           0.24024,     0.24124,     0.24224,     0.24324,     0.24424,     0.24525,     0.24625,     0.24725,     0.24825,     0.24925,     0.25025,     0.25125,     0.25225,     0.25325,     0.25425,     0.25526,     0.25626,     0.25726,     0.25826,     0.25926,     0.26026,     0.26126,     0.26226,     0.26326,\n",
       "           0.26426,     0.26527,     0.26627,     0.26727,     0.26827,     0.26927,     0.27027,     0.27127,     0.27227,     0.27327,     0.27427,     0.27528,     0.27628,     0.27728,     0.27828,     0.27928,     0.28028,     0.28128,     0.28228,     0.28328,     0.28428,     0.28529,     0.28629,     0.28729,\n",
       "           0.28829,     0.28929,     0.29029,     0.29129,     0.29229,     0.29329,     0.29429,      0.2953,      0.2963,      0.2973,      0.2983,      0.2993,      0.3003,      0.3013,      0.3023,      0.3033,      0.3043,     0.30531,     0.30631,     0.30731,     0.30831,     0.30931,     0.31031,     0.31131,\n",
       "           0.31231,     0.31331,     0.31431,     0.31532,     0.31632,     0.31732,     0.31832,     0.31932,     0.32032,     0.32132,     0.32232,     0.32332,     0.32432,     0.32533,     0.32633,     0.32733,     0.32833,     0.32933,     0.33033,     0.33133,     0.33233,     0.33333,     0.33433,     0.33534,\n",
       "           0.33634,     0.33734,     0.33834,     0.33934,     0.34034,     0.34134,     0.34234,     0.34334,     0.34434,     0.34535,     0.34635,     0.34735,     0.34835,     0.34935,     0.35035,     0.35135,     0.35235,     0.35335,     0.35435,     0.35536,     0.35636,     0.35736,     0.35836,     0.35936,\n",
       "           0.36036,     0.36136,     0.36236,     0.36336,     0.36436,     0.36537,     0.36637,     0.36737,     0.36837,     0.36937,     0.37037,     0.37137,     0.37237,     0.37337,     0.37437,     0.37538,     0.37638,     0.37738,     0.37838,     0.37938,     0.38038,     0.38138,     0.38238,     0.38338,\n",
       "           0.38438,     0.38539,     0.38639,     0.38739,     0.38839,     0.38939,     0.39039,     0.39139,     0.39239,     0.39339,     0.39439,      0.3954,      0.3964,      0.3974,      0.3984,      0.3994,      0.4004,      0.4014,      0.4024,      0.4034,      0.4044,     0.40541,     0.40641,     0.40741,\n",
       "           0.40841,     0.40941,     0.41041,     0.41141,     0.41241,     0.41341,     0.41441,     0.41542,     0.41642,     0.41742,     0.41842,     0.41942,     0.42042,     0.42142,     0.42242,     0.42342,     0.42442,     0.42543,     0.42643,     0.42743,     0.42843,     0.42943,     0.43043,     0.43143,\n",
       "           0.43243,     0.43343,     0.43443,     0.43544,     0.43644,     0.43744,     0.43844,     0.43944,     0.44044,     0.44144,     0.44244,     0.44344,     0.44444,     0.44545,     0.44645,     0.44745,     0.44845,     0.44945,     0.45045,     0.45145,     0.45245,     0.45345,     0.45445,     0.45546,\n",
       "           0.45646,     0.45746,     0.45846,     0.45946,     0.46046,     0.46146,     0.46246,     0.46346,     0.46446,     0.46547,     0.46647,     0.46747,     0.46847,     0.46947,     0.47047,     0.47147,     0.47247,     0.47347,     0.47447,     0.47548,     0.47648,     0.47748,     0.47848,     0.47948,\n",
       "           0.48048,     0.48148,     0.48248,     0.48348,     0.48448,     0.48549,     0.48649,     0.48749,     0.48849,     0.48949,     0.49049,     0.49149,     0.49249,     0.49349,     0.49449,      0.4955,      0.4965,      0.4975,      0.4985,      0.4995,      0.5005,      0.5015,      0.5025,      0.5035,\n",
       "            0.5045,     0.50551,     0.50651,     0.50751,     0.50851,     0.50951,     0.51051,     0.51151,     0.51251,     0.51351,     0.51451,     0.51552,     0.51652,     0.51752,     0.51852,     0.51952,     0.52052,     0.52152,     0.52252,     0.52352,     0.52452,     0.52553,     0.52653,     0.52753,\n",
       "           0.52853,     0.52953,     0.53053,     0.53153,     0.53253,     0.53353,     0.53453,     0.53554,     0.53654,     0.53754,     0.53854,     0.53954,     0.54054,     0.54154,     0.54254,     0.54354,     0.54454,     0.54555,     0.54655,     0.54755,     0.54855,     0.54955,     0.55055,     0.55155,\n",
       "           0.55255,     0.55355,     0.55455,     0.55556,     0.55656,     0.55756,     0.55856,     0.55956,     0.56056,     0.56156,     0.56256,     0.56356,     0.56456,     0.56557,     0.56657,     0.56757,     0.56857,     0.56957,     0.57057,     0.57157,     0.57257,     0.57357,     0.57457,     0.57558,\n",
       "           0.57658,     0.57758,     0.57858,     0.57958,     0.58058,     0.58158,     0.58258,     0.58358,     0.58458,     0.58559,     0.58659,     0.58759,     0.58859,     0.58959,     0.59059,     0.59159,     0.59259,     0.59359,     0.59459,      0.5956,      0.5966,      0.5976,      0.5986,      0.5996,\n",
       "            0.6006,      0.6016,      0.6026,      0.6036,      0.6046,     0.60561,     0.60661,     0.60761,     0.60861,     0.60961,     0.61061,     0.61161,     0.61261,     0.61361,     0.61461,     0.61562,     0.61662,     0.61762,     0.61862,     0.61962,     0.62062,     0.62162,     0.62262,     0.62362,\n",
       "           0.62462,     0.62563,     0.62663,     0.62763,     0.62863,     0.62963,     0.63063,     0.63163,     0.63263,     0.63363,     0.63463,     0.63564,     0.63664,     0.63764,     0.63864,     0.63964,     0.64064,     0.64164,     0.64264,     0.64364,     0.64464,     0.64565,     0.64665,     0.64765,\n",
       "           0.64865,     0.64965,     0.65065,     0.65165,     0.65265,     0.65365,     0.65465,     0.65566,     0.65666,     0.65766,     0.65866,     0.65966,     0.66066,     0.66166,     0.66266,     0.66366,     0.66466,     0.66567,     0.66667,     0.66767,     0.66867,     0.66967,     0.67067,     0.67167,\n",
       "           0.67267,     0.67367,     0.67467,     0.67568,     0.67668,     0.67768,     0.67868,     0.67968,     0.68068,     0.68168,     0.68268,     0.68368,     0.68468,     0.68569,     0.68669,     0.68769,     0.68869,     0.68969,     0.69069,     0.69169,     0.69269,     0.69369,     0.69469,      0.6957,\n",
       "            0.6967,      0.6977,      0.6987,      0.6997,      0.7007,      0.7017,      0.7027,      0.7037,      0.7047,     0.70571,     0.70671,     0.70771,     0.70871,     0.70971,     0.71071,     0.71171,     0.71271,     0.71371,     0.71471,     0.71572,     0.71672,     0.71772,     0.71872,     0.71972,\n",
       "           0.72072,     0.72172,     0.72272,     0.72372,     0.72472,     0.72573,     0.72673,     0.72773,     0.72873,     0.72973,     0.73073,     0.73173,     0.73273,     0.73373,     0.73473,     0.73574,     0.73674,     0.73774,     0.73874,     0.73974,     0.74074,     0.74174,     0.74274,     0.74374,\n",
       "           0.74474,     0.74575,     0.74675,     0.74775,     0.74875,     0.74975,     0.75075,     0.75175,     0.75275,     0.75375,     0.75475,     0.75576,     0.75676,     0.75776,     0.75876,     0.75976,     0.76076,     0.76176,     0.76276,     0.76376,     0.76476,     0.76577,     0.76677,     0.76777,\n",
       "           0.76877,     0.76977,     0.77077,     0.77177,     0.77277,     0.77377,     0.77477,     0.77578,     0.77678,     0.77778,     0.77878,     0.77978,     0.78078,     0.78178,     0.78278,     0.78378,     0.78478,     0.78579,     0.78679,     0.78779,     0.78879,     0.78979,     0.79079,     0.79179,\n",
       "           0.79279,     0.79379,     0.79479,      0.7958,      0.7968,      0.7978,      0.7988,      0.7998,      0.8008,      0.8018,      0.8028,      0.8038,      0.8048,     0.80581,     0.80681,     0.80781,     0.80881,     0.80981,     0.81081,     0.81181,     0.81281,     0.81381,     0.81481,     0.81582,\n",
       "           0.81682,     0.81782,     0.81882,     0.81982,     0.82082,     0.82182,     0.82282,     0.82382,     0.82482,     0.82583,     0.82683,     0.82783,     0.82883,     0.82983,     0.83083,     0.83183,     0.83283,     0.83383,     0.83483,     0.83584,     0.83684,     0.83784,     0.83884,     0.83984,\n",
       "           0.84084,     0.84184,     0.84284,     0.84384,     0.84484,     0.84585,     0.84685,     0.84785,     0.84885,     0.84985,     0.85085,     0.85185,     0.85285,     0.85385,     0.85485,     0.85586,     0.85686,     0.85786,     0.85886,     0.85986,     0.86086,     0.86186,     0.86286,     0.86386,\n",
       "           0.86486,     0.86587,     0.86687,     0.86787,     0.86887,     0.86987,     0.87087,     0.87187,     0.87287,     0.87387,     0.87487,     0.87588,     0.87688,     0.87788,     0.87888,     0.87988,     0.88088,     0.88188,     0.88288,     0.88388,     0.88488,     0.88589,     0.88689,     0.88789,\n",
       "           0.88889,     0.88989,     0.89089,     0.89189,     0.89289,     0.89389,     0.89489,      0.8959,      0.8969,      0.8979,      0.8989,      0.8999,      0.9009,      0.9019,      0.9029,      0.9039,      0.9049,     0.90591,     0.90691,     0.90791,     0.90891,     0.90991,     0.91091,     0.91191,\n",
       "           0.91291,     0.91391,     0.91491,     0.91592,     0.91692,     0.91792,     0.91892,     0.91992,     0.92092,     0.92192,     0.92292,     0.92392,     0.92492,     0.92593,     0.92693,     0.92793,     0.92893,     0.92993,     0.93093,     0.93193,     0.93293,     0.93393,     0.93493,     0.93594,\n",
       "           0.93694,     0.93794,     0.93894,     0.93994,     0.94094,     0.94194,     0.94294,     0.94394,     0.94494,     0.94595,     0.94695,     0.94795,     0.94895,     0.94995,     0.95095,     0.95195,     0.95295,     0.95395,     0.95495,     0.95596,     0.95696,     0.95796,     0.95896,     0.95996,\n",
       "           0.96096,     0.96196,     0.96296,     0.96396,     0.96496,     0.96597,     0.96697,     0.96797,     0.96897,     0.96997,     0.97097,     0.97197,     0.97297,     0.97397,     0.97497,     0.97598,     0.97698,     0.97798,     0.97898,     0.97998,     0.98098,     0.98198,     0.98298,     0.98398,\n",
       "           0.98498,     0.98599,     0.98699,     0.98799,     0.98899,     0.98999,     0.99099,     0.99199,     0.99299,     0.99399,     0.99499,       0.996,       0.997,       0.998,       0.999,           1]), array([[          1,           1,           1,           1,           1,     0.99808,     0.99808,     0.99808,     0.99808,     0.99808,     0.99808,     0.99808,     0.99808,     0.99808,     0.99808,     0.99808,     0.99808,     0.99808,     0.99808,     0.99808,     0.99808,     0.99808,     0.99808,\n",
       "            0.99808,     0.99808,     0.99808,     0.99808,     0.99808,     0.99808,     0.99808,     0.99808,     0.99808,     0.99808,     0.99808,     0.99808,     0.99808,     0.99808,     0.99808,     0.99808,     0.99808,     0.99808,     0.99808,     0.99808,     0.99808,     0.99808,     0.99808,\n",
       "            0.99808,     0.99808,     0.99808,     0.99808,     0.99808,     0.99808,     0.99808,     0.99808,     0.99808,     0.99808,     0.99808,     0.99808,     0.99808,     0.99808,     0.99808,     0.99808,     0.99808,     0.99808,     0.99808,     0.99808,     0.99808,     0.99808,     0.99808,\n",
       "            0.99808,     0.99808,     0.99808,     0.99808,     0.99808,     0.99808,     0.99808,     0.99808,     0.99808,     0.99808,     0.99808,     0.99808,     0.99808,     0.99808,     0.99808,     0.99808,     0.99808,     0.99808,     0.99808,     0.99808,     0.99808,     0.99808,     0.99808,\n",
       "            0.99808,     0.99808,     0.99808,     0.99808,     0.99808,     0.99808,     0.99808,     0.99808,     0.99808,     0.99808,     0.99808,     0.99808,     0.99808,     0.99808,     0.99808,     0.99808,     0.99808,     0.99808,     0.99808,     0.99808,     0.99808,     0.99808,     0.99808,\n",
       "            0.99808,     0.99808,     0.99808,     0.99808,     0.99808,     0.99808,     0.99808,     0.99808,     0.99808,     0.99808,     0.99808,     0.99808,     0.99808,     0.99808,     0.99808,     0.99808,     0.99808,     0.99808,     0.99808,     0.99808,     0.99808,     0.99808,     0.99808,\n",
       "            0.99808,     0.99808,     0.99808,     0.99808,     0.99808,     0.99808,     0.99808,     0.99808,     0.99808,     0.99808,     0.99808,     0.99808,     0.99808,     0.99808,     0.99808,     0.99808,     0.99808,     0.99808,     0.99808,     0.99808,     0.99808,     0.99808,     0.99808,\n",
       "            0.99808,     0.99808,     0.99808,     0.99808,     0.99808,     0.99808,     0.99808,     0.99808,     0.99808,     0.99808,     0.99808,     0.99808,     0.99808,     0.99808,     0.99808,     0.99808,     0.99808,     0.99808,     0.99808,     0.99808,     0.99808,     0.99808,     0.99808,\n",
       "            0.99808,     0.99808,     0.99808,     0.99808,     0.99808,     0.99808,     0.99808,     0.99808,     0.99808,     0.99808,     0.99808,     0.99808,     0.99808,     0.99808,     0.99808,     0.99808,     0.99808,     0.99808,     0.99808,     0.99808,     0.99808,     0.99808,     0.99808,\n",
       "            0.99808,     0.99808,     0.99808,     0.99808,     0.99808,     0.99808,     0.99808,     0.99808,     0.99808,     0.99808,     0.99808,     0.99808,     0.99808,     0.99808,     0.99808,     0.99808,     0.99808,     0.99808,     0.99808,     0.99808,     0.99808,     0.99808,     0.99808,\n",
       "            0.99808,     0.99808,     0.99808,     0.99808,     0.99808,     0.99808,     0.99808,     0.99808,     0.99808,     0.99808,     0.99808,     0.99808,     0.99808,     0.99808,     0.99808,     0.99808,     0.99808,     0.99808,     0.99808,     0.99808,     0.99808,     0.99808,     0.99808,\n",
       "            0.99808,     0.99808,     0.99808,     0.99808,     0.99808,     0.99808,     0.99808,     0.99808,     0.99808,     0.99808,     0.99808,     0.99808,     0.99808,     0.99808,     0.99808,     0.99808,     0.99808,     0.99808,     0.99808,     0.99808,     0.99808,     0.99808,     0.99808,\n",
       "            0.99808,     0.99808,     0.99808,     0.99808,     0.99808,     0.99808,     0.99808,     0.99808,     0.99808,     0.99808,     0.99808,     0.99808,     0.99808,     0.99808,     0.99808,     0.99808,     0.99808,     0.99808,     0.99808,     0.99808,     0.99808,     0.99808,     0.99808,\n",
       "            0.99808,     0.99808,     0.99808,     0.99808,     0.99808,     0.99808,     0.99808,     0.99808,     0.99808,     0.99808,     0.99808,     0.99808,     0.99808,     0.99808,     0.99808,     0.99808,     0.99808,     0.99808,     0.99808,     0.99808,     0.99808,     0.99808,     0.99808,\n",
       "            0.99808,     0.99808,     0.99808,     0.99808,     0.99808,     0.99808,     0.99808,     0.99808,     0.99808,     0.99808,     0.99808,     0.99808,     0.99808,     0.99808,     0.99808,     0.99808,     0.99808,     0.99808,     0.99808,     0.99808,     0.99808,     0.99808,     0.99808,\n",
       "            0.99808,     0.99808,     0.99808,     0.99808,     0.99808,     0.99808,     0.99808,     0.99808,     0.99808,     0.99808,     0.99808,     0.99808,     0.99808,     0.99808,     0.99808,     0.99808,     0.99808,     0.99808,     0.99808,     0.99808,     0.99808,     0.99808,     0.99753,\n",
       "            0.99753,     0.99753,     0.99753,     0.99753,     0.99753,     0.99753,     0.99753,     0.99753,     0.99753,     0.99753,     0.99753,     0.99753,     0.99753,     0.99753,     0.99753,     0.99753,     0.99753,     0.99753,     0.99753,     0.99753,     0.99753,     0.99753,     0.99753,\n",
       "            0.99753,     0.99753,     0.99753,     0.99753,     0.99753,     0.99753,     0.99753,     0.99753,     0.99753,     0.99753,     0.99753,     0.99753,     0.99753,     0.99753,     0.99753,     0.99753,     0.99753,     0.99753,     0.99753,     0.99753,     0.99753,     0.99753,     0.99753,\n",
       "            0.99753,     0.99753,     0.99753,     0.99753,     0.99753,     0.99753,     0.99753,     0.99753,     0.99753,     0.99753,     0.99753,     0.99753,     0.99753,     0.99753,     0.99692,     0.99692,     0.99692,     0.99692,     0.99692,     0.99692,     0.99692,     0.99692,     0.99692,\n",
       "            0.99692,     0.99692,     0.99692,     0.99692,     0.99692,     0.99692,     0.99692,     0.99692,     0.99692,     0.99692,     0.99692,     0.99692,     0.99692,     0.99692,     0.99692,     0.99692,     0.99692,     0.99692,     0.99692,     0.99692,     0.99649,     0.99649,     0.99649,\n",
       "            0.99649,     0.99649,     0.99649,     0.99649,     0.99649,     0.99649,     0.99649,     0.99649,     0.99649,     0.99649,     0.99649,     0.99649,     0.99649,     0.99649,     0.99649,     0.99649,     0.99649,     0.99649,     0.99649,     0.99649,     0.99649,     0.99649,     0.99649,\n",
       "            0.99649,     0.99649,     0.99649,     0.99649,     0.99649,     0.99649,     0.99649,     0.99649,     0.99649,     0.99649,     0.99649,     0.99649,     0.99649,     0.99649,     0.99649,     0.99649,     0.99649,     0.99649,     0.99598,     0.99598,     0.99598,     0.99598,     0.99598,\n",
       "            0.99598,     0.99598,     0.99598,     0.99598,     0.99598,     0.99598,     0.99598,     0.99598,     0.99598,     0.99598,     0.99598,     0.99598,     0.99598,     0.99598,     0.99598,     0.99598,     0.99598,     0.99598,     0.99598,     0.99546,     0.99546,     0.99546,     0.99546,\n",
       "            0.99546,     0.99546,     0.99546,     0.99546,     0.99546,     0.99546,     0.99546,     0.99546,     0.99546,     0.99546,     0.99546,     0.99546,     0.99546,     0.99494,     0.99494,     0.99494,     0.99494,     0.99494,     0.99494,     0.99494,     0.99494,     0.99494,     0.99494,\n",
       "            0.99494,     0.99494,     0.99494,     0.99494,     0.99455,     0.99455,     0.99455,     0.99455,     0.99455,     0.99455,     0.99455,     0.99455,     0.99455,     0.99455,     0.99455,     0.99455,     0.99455,     0.99455,     0.99455,     0.99455,     0.99455,     0.99455,     0.99455,\n",
       "            0.99455,     0.99455,     0.99455,     0.99455,     0.99455,     0.99397,     0.99397,     0.99342,     0.99342,     0.99342,     0.99342,     0.99342,     0.99295,     0.99295,     0.99295,     0.99295,     0.99295,     0.99295,     0.99295,     0.99295,     0.99295,     0.99295,     0.99243,\n",
       "            0.99243,     0.99243,     0.99243,     0.99243,     0.99186,     0.99133,     0.99133,     0.99133,     0.99024,     0.99024,     0.99024,     0.98971,     0.98971,     0.98919,     0.98919,     0.98919,     0.98869,     0.98869,     0.98869,     0.98815,     0.98772,     0.98772,     0.98772,\n",
       "            0.98772,     0.98772,     0.98772,     0.98772,     0.98722,     0.98722,     0.98722,     0.98682,     0.98682,     0.98682,     0.98682,     0.98682,     0.98682,     0.98682,     0.98644,     0.98644,     0.98644,     0.98644,     0.98644,     0.98644,     0.98644,     0.98544,     0.98544,\n",
       "            0.98544,     0.98493,     0.98405,     0.98405,     0.98405,     0.98405,     0.98405,     0.98405,     0.98405,     0.98405,     0.98355,     0.98317,     0.98317,     0.98317,     0.98317,     0.98317,     0.98164,     0.98123,     0.98123,     0.98123,     0.98123,      0.9808,      0.9808,\n",
       "             0.9803,     0.98004,     0.98004,     0.98004,     0.98004,     0.98004,     0.98004,     0.98004,     0.98004,     0.97957,     0.97919,     0.97919,     0.97919,     0.97919,     0.97877,     0.97877,     0.97877,      0.9783,     0.97793,     0.97793,     0.97793,     0.97793,      0.9775,\n",
       "            0.97709,     0.97709,     0.97709,     0.97664,     0.97623,     0.97623,     0.97532,     0.97532,     0.97524,     0.97524,     0.97524,     0.97524,     0.97524,     0.97524,     0.97524,     0.97524,     0.97524,     0.97524,     0.97524,     0.97481,     0.97435,      0.9739,     0.97348,\n",
       "            0.97315,     0.97315,     0.97315,     0.97315,     0.97235,     0.97235,     0.97235,     0.97196,     0.97196,     0.97152,     0.97109,     0.97069,     0.97046,     0.97046,     0.97046,     0.97046,     0.97046,     0.97046,     0.96919,     0.96919,     0.96887,     0.96887,     0.96887,\n",
       "            0.96846,     0.96803,     0.96767,     0.96767,     0.96751,     0.96751,     0.96751,     0.96751,     0.96751,     0.96751,      0.9672,      0.9672,      0.9672,      0.9672,     0.96682,     0.96646,     0.96646,     0.96524,     0.96524,     0.96443,     0.96403,     0.96371,     0.96371,\n",
       "            0.96371,     0.96305,     0.96305,     0.96305,     0.96305,     0.96267,     0.96229,       0.962,       0.962,       0.962,     0.96166,     0.96095,     0.96095,     0.96095,     0.96063,     0.96063,     0.96023,     0.95906,     0.95906,     0.95703,      0.9559,      0.9559,     0.95517,\n",
       "            0.95478,     0.95361,     0.95326,     0.95248,     0.95177,     0.95143,     0.95119,     0.95119,     0.95119,     0.95083,     0.95006,     0.94973,      0.9483,      0.9483,      0.9483,     0.94807,     0.94807,     0.94732,     0.94697,     0.94629,     0.94629,     0.94601,     0.94417,\n",
       "            0.94417,     0.94348,     0.94348,     0.94316,     0.94289,     0.94255,     0.94074,     0.94074,     0.93964,     0.93936,     0.93874,     0.93874,     0.93712,     0.93712,     0.93712,     0.93712,     0.93682,     0.93665,     0.93665,     0.93665,     0.93525,     0.93429,     0.93429,\n",
       "            0.93394,     0.93254,     0.93238,     0.93238,     0.93238,      0.9321,     0.93071,     0.92969,     0.92723,     0.92662,     0.92595,     0.92568,     0.92505,     0.92332,     0.92233,     0.92177,     0.92177,     0.92015,      0.9181,     0.91648,     0.91616,     0.91591,     0.91458,\n",
       "            0.91446,     0.91446,     0.91383,     0.91293,     0.91159,     0.90895,     0.90889,     0.90889,     0.90757,     0.90635,     0.90605,     0.90582,     0.90466,     0.90406,     0.90247,     0.90062,         0.9,     0.89818,     0.89792,     0.89774,     0.89651,     0.89573,     0.89573,\n",
       "            0.89527,     0.89402,      0.8922,     0.88913,     0.88901,     0.88901,     0.88818,     0.88672,     0.88433,      0.8832,     0.88239,        0.88,     0.87767,     0.87626,     0.87517,     0.87439,     0.87241,     0.87133,     0.87052,     0.86737,      0.8643,        0.86,     0.85551,\n",
       "            0.85216,     0.85003,     0.84707,     0.84638,      0.8457,     0.83589,     0.83491,     0.83263,     0.82956,     0.82519,     0.81827,     0.81766,     0.81556,     0.81434,      0.8094,     0.80454,     0.80149,     0.79969,     0.79662,     0.79316,     0.78925,     0.78138,     0.77994,\n",
       "            0.77596,     0.77517,     0.77452,     0.77152,     0.77143,     0.76891,     0.75583,     0.75532,     0.74957,     0.74589,     0.74149,     0.73633,     0.73024,     0.72717,     0.72441,     0.72128,     0.71819,     0.71687,     0.71287,     0.71131,     0.70682,     0.70537,     0.69877,\n",
       "            0.69123,      0.6888,     0.67524,     0.66132,     0.65784,     0.64998,     0.63205,     0.62642,     0.62616,     0.62052,     0.61372,      0.5981,     0.59704,       0.593,     0.58676,     0.57901,     0.54942,     0.53374,     0.51601,     0.50064,      0.4926,     0.46439,     0.45439,\n",
       "            0.44586,     0.42715,     0.41848,     0.40424,     0.39662,     0.38143,      0.3648,     0.35013,     0.34673,     0.33249,     0.32204,     0.29561,       0.283,     0.27861,     0.26848,     0.26032,     0.24357,      0.2255,     0.19134,     0.15847,     0.14845,     0.14577,     0.13234,\n",
       "            0.12031,     0.10828,    0.096248,    0.084217,    0.072186,    0.060155,    0.048124,    0.036093,    0.024062,    0.012031,           0]]), 'Recall', 'Precision'], [array([          0,    0.001001,    0.002002,    0.003003,    0.004004,    0.005005,    0.006006,    0.007007,    0.008008,    0.009009,     0.01001,    0.011011,    0.012012,    0.013013,    0.014014,    0.015015,    0.016016,    0.017017,    0.018018,    0.019019,     0.02002,    0.021021,    0.022022,    0.023023,\n",
       "          0.024024,    0.025025,    0.026026,    0.027027,    0.028028,    0.029029,     0.03003,    0.031031,    0.032032,    0.033033,    0.034034,    0.035035,    0.036036,    0.037037,    0.038038,    0.039039,     0.04004,    0.041041,    0.042042,    0.043043,    0.044044,    0.045045,    0.046046,    0.047047,\n",
       "          0.048048,    0.049049,     0.05005,    0.051051,    0.052052,    0.053053,    0.054054,    0.055055,    0.056056,    0.057057,    0.058058,    0.059059,     0.06006,    0.061061,    0.062062,    0.063063,    0.064064,    0.065065,    0.066066,    0.067067,    0.068068,    0.069069,     0.07007,    0.071071,\n",
       "          0.072072,    0.073073,    0.074074,    0.075075,    0.076076,    0.077077,    0.078078,    0.079079,     0.08008,    0.081081,    0.082082,    0.083083,    0.084084,    0.085085,    0.086086,    0.087087,    0.088088,    0.089089,     0.09009,    0.091091,    0.092092,    0.093093,    0.094094,    0.095095,\n",
       "          0.096096,    0.097097,    0.098098,    0.099099,      0.1001,      0.1011,      0.1021,      0.1031,      0.1041,     0.10511,     0.10611,     0.10711,     0.10811,     0.10911,     0.11011,     0.11111,     0.11211,     0.11311,     0.11411,     0.11512,     0.11612,     0.11712,     0.11812,     0.11912,\n",
       "           0.12012,     0.12112,     0.12212,     0.12312,     0.12412,     0.12513,     0.12613,     0.12713,     0.12813,     0.12913,     0.13013,     0.13113,     0.13213,     0.13313,     0.13413,     0.13514,     0.13614,     0.13714,     0.13814,     0.13914,     0.14014,     0.14114,     0.14214,     0.14314,\n",
       "           0.14414,     0.14515,     0.14615,     0.14715,     0.14815,     0.14915,     0.15015,     0.15115,     0.15215,     0.15315,     0.15415,     0.15516,     0.15616,     0.15716,     0.15816,     0.15916,     0.16016,     0.16116,     0.16216,     0.16316,     0.16416,     0.16517,     0.16617,     0.16717,\n",
       "           0.16817,     0.16917,     0.17017,     0.17117,     0.17217,     0.17317,     0.17417,     0.17518,     0.17618,     0.17718,     0.17818,     0.17918,     0.18018,     0.18118,     0.18218,     0.18318,     0.18418,     0.18519,     0.18619,     0.18719,     0.18819,     0.18919,     0.19019,     0.19119,\n",
       "           0.19219,     0.19319,     0.19419,      0.1952,      0.1962,      0.1972,      0.1982,      0.1992,      0.2002,      0.2012,      0.2022,      0.2032,      0.2042,     0.20521,     0.20621,     0.20721,     0.20821,     0.20921,     0.21021,     0.21121,     0.21221,     0.21321,     0.21421,     0.21522,\n",
       "           0.21622,     0.21722,     0.21822,     0.21922,     0.22022,     0.22122,     0.22222,     0.22322,     0.22422,     0.22523,     0.22623,     0.22723,     0.22823,     0.22923,     0.23023,     0.23123,     0.23223,     0.23323,     0.23423,     0.23524,     0.23624,     0.23724,     0.23824,     0.23924,\n",
       "           0.24024,     0.24124,     0.24224,     0.24324,     0.24424,     0.24525,     0.24625,     0.24725,     0.24825,     0.24925,     0.25025,     0.25125,     0.25225,     0.25325,     0.25425,     0.25526,     0.25626,     0.25726,     0.25826,     0.25926,     0.26026,     0.26126,     0.26226,     0.26326,\n",
       "           0.26426,     0.26527,     0.26627,     0.26727,     0.26827,     0.26927,     0.27027,     0.27127,     0.27227,     0.27327,     0.27427,     0.27528,     0.27628,     0.27728,     0.27828,     0.27928,     0.28028,     0.28128,     0.28228,     0.28328,     0.28428,     0.28529,     0.28629,     0.28729,\n",
       "           0.28829,     0.28929,     0.29029,     0.29129,     0.29229,     0.29329,     0.29429,      0.2953,      0.2963,      0.2973,      0.2983,      0.2993,      0.3003,      0.3013,      0.3023,      0.3033,      0.3043,     0.30531,     0.30631,     0.30731,     0.30831,     0.30931,     0.31031,     0.31131,\n",
       "           0.31231,     0.31331,     0.31431,     0.31532,     0.31632,     0.31732,     0.31832,     0.31932,     0.32032,     0.32132,     0.32232,     0.32332,     0.32432,     0.32533,     0.32633,     0.32733,     0.32833,     0.32933,     0.33033,     0.33133,     0.33233,     0.33333,     0.33433,     0.33534,\n",
       "           0.33634,     0.33734,     0.33834,     0.33934,     0.34034,     0.34134,     0.34234,     0.34334,     0.34434,     0.34535,     0.34635,     0.34735,     0.34835,     0.34935,     0.35035,     0.35135,     0.35235,     0.35335,     0.35435,     0.35536,     0.35636,     0.35736,     0.35836,     0.35936,\n",
       "           0.36036,     0.36136,     0.36236,     0.36336,     0.36436,     0.36537,     0.36637,     0.36737,     0.36837,     0.36937,     0.37037,     0.37137,     0.37237,     0.37337,     0.37437,     0.37538,     0.37638,     0.37738,     0.37838,     0.37938,     0.38038,     0.38138,     0.38238,     0.38338,\n",
       "           0.38438,     0.38539,     0.38639,     0.38739,     0.38839,     0.38939,     0.39039,     0.39139,     0.39239,     0.39339,     0.39439,      0.3954,      0.3964,      0.3974,      0.3984,      0.3994,      0.4004,      0.4014,      0.4024,      0.4034,      0.4044,     0.40541,     0.40641,     0.40741,\n",
       "           0.40841,     0.40941,     0.41041,     0.41141,     0.41241,     0.41341,     0.41441,     0.41542,     0.41642,     0.41742,     0.41842,     0.41942,     0.42042,     0.42142,     0.42242,     0.42342,     0.42442,     0.42543,     0.42643,     0.42743,     0.42843,     0.42943,     0.43043,     0.43143,\n",
       "           0.43243,     0.43343,     0.43443,     0.43544,     0.43644,     0.43744,     0.43844,     0.43944,     0.44044,     0.44144,     0.44244,     0.44344,     0.44444,     0.44545,     0.44645,     0.44745,     0.44845,     0.44945,     0.45045,     0.45145,     0.45245,     0.45345,     0.45445,     0.45546,\n",
       "           0.45646,     0.45746,     0.45846,     0.45946,     0.46046,     0.46146,     0.46246,     0.46346,     0.46446,     0.46547,     0.46647,     0.46747,     0.46847,     0.46947,     0.47047,     0.47147,     0.47247,     0.47347,     0.47447,     0.47548,     0.47648,     0.47748,     0.47848,     0.47948,\n",
       "           0.48048,     0.48148,     0.48248,     0.48348,     0.48448,     0.48549,     0.48649,     0.48749,     0.48849,     0.48949,     0.49049,     0.49149,     0.49249,     0.49349,     0.49449,      0.4955,      0.4965,      0.4975,      0.4985,      0.4995,      0.5005,      0.5015,      0.5025,      0.5035,\n",
       "            0.5045,     0.50551,     0.50651,     0.50751,     0.50851,     0.50951,     0.51051,     0.51151,     0.51251,     0.51351,     0.51451,     0.51552,     0.51652,     0.51752,     0.51852,     0.51952,     0.52052,     0.52152,     0.52252,     0.52352,     0.52452,     0.52553,     0.52653,     0.52753,\n",
       "           0.52853,     0.52953,     0.53053,     0.53153,     0.53253,     0.53353,     0.53453,     0.53554,     0.53654,     0.53754,     0.53854,     0.53954,     0.54054,     0.54154,     0.54254,     0.54354,     0.54454,     0.54555,     0.54655,     0.54755,     0.54855,     0.54955,     0.55055,     0.55155,\n",
       "           0.55255,     0.55355,     0.55455,     0.55556,     0.55656,     0.55756,     0.55856,     0.55956,     0.56056,     0.56156,     0.56256,     0.56356,     0.56456,     0.56557,     0.56657,     0.56757,     0.56857,     0.56957,     0.57057,     0.57157,     0.57257,     0.57357,     0.57457,     0.57558,\n",
       "           0.57658,     0.57758,     0.57858,     0.57958,     0.58058,     0.58158,     0.58258,     0.58358,     0.58458,     0.58559,     0.58659,     0.58759,     0.58859,     0.58959,     0.59059,     0.59159,     0.59259,     0.59359,     0.59459,      0.5956,      0.5966,      0.5976,      0.5986,      0.5996,\n",
       "            0.6006,      0.6016,      0.6026,      0.6036,      0.6046,     0.60561,     0.60661,     0.60761,     0.60861,     0.60961,     0.61061,     0.61161,     0.61261,     0.61361,     0.61461,     0.61562,     0.61662,     0.61762,     0.61862,     0.61962,     0.62062,     0.62162,     0.62262,     0.62362,\n",
       "           0.62462,     0.62563,     0.62663,     0.62763,     0.62863,     0.62963,     0.63063,     0.63163,     0.63263,     0.63363,     0.63463,     0.63564,     0.63664,     0.63764,     0.63864,     0.63964,     0.64064,     0.64164,     0.64264,     0.64364,     0.64464,     0.64565,     0.64665,     0.64765,\n",
       "           0.64865,     0.64965,     0.65065,     0.65165,     0.65265,     0.65365,     0.65465,     0.65566,     0.65666,     0.65766,     0.65866,     0.65966,     0.66066,     0.66166,     0.66266,     0.66366,     0.66466,     0.66567,     0.66667,     0.66767,     0.66867,     0.66967,     0.67067,     0.67167,\n",
       "           0.67267,     0.67367,     0.67467,     0.67568,     0.67668,     0.67768,     0.67868,     0.67968,     0.68068,     0.68168,     0.68268,     0.68368,     0.68468,     0.68569,     0.68669,     0.68769,     0.68869,     0.68969,     0.69069,     0.69169,     0.69269,     0.69369,     0.69469,      0.6957,\n",
       "            0.6967,      0.6977,      0.6987,      0.6997,      0.7007,      0.7017,      0.7027,      0.7037,      0.7047,     0.70571,     0.70671,     0.70771,     0.70871,     0.70971,     0.71071,     0.71171,     0.71271,     0.71371,     0.71471,     0.71572,     0.71672,     0.71772,     0.71872,     0.71972,\n",
       "           0.72072,     0.72172,     0.72272,     0.72372,     0.72472,     0.72573,     0.72673,     0.72773,     0.72873,     0.72973,     0.73073,     0.73173,     0.73273,     0.73373,     0.73473,     0.73574,     0.73674,     0.73774,     0.73874,     0.73974,     0.74074,     0.74174,     0.74274,     0.74374,\n",
       "           0.74474,     0.74575,     0.74675,     0.74775,     0.74875,     0.74975,     0.75075,     0.75175,     0.75275,     0.75375,     0.75475,     0.75576,     0.75676,     0.75776,     0.75876,     0.75976,     0.76076,     0.76176,     0.76276,     0.76376,     0.76476,     0.76577,     0.76677,     0.76777,\n",
       "           0.76877,     0.76977,     0.77077,     0.77177,     0.77277,     0.77377,     0.77477,     0.77578,     0.77678,     0.77778,     0.77878,     0.77978,     0.78078,     0.78178,     0.78278,     0.78378,     0.78478,     0.78579,     0.78679,     0.78779,     0.78879,     0.78979,     0.79079,     0.79179,\n",
       "           0.79279,     0.79379,     0.79479,      0.7958,      0.7968,      0.7978,      0.7988,      0.7998,      0.8008,      0.8018,      0.8028,      0.8038,      0.8048,     0.80581,     0.80681,     0.80781,     0.80881,     0.80981,     0.81081,     0.81181,     0.81281,     0.81381,     0.81481,     0.81582,\n",
       "           0.81682,     0.81782,     0.81882,     0.81982,     0.82082,     0.82182,     0.82282,     0.82382,     0.82482,     0.82583,     0.82683,     0.82783,     0.82883,     0.82983,     0.83083,     0.83183,     0.83283,     0.83383,     0.83483,     0.83584,     0.83684,     0.83784,     0.83884,     0.83984,\n",
       "           0.84084,     0.84184,     0.84284,     0.84384,     0.84484,     0.84585,     0.84685,     0.84785,     0.84885,     0.84985,     0.85085,     0.85185,     0.85285,     0.85385,     0.85485,     0.85586,     0.85686,     0.85786,     0.85886,     0.85986,     0.86086,     0.86186,     0.86286,     0.86386,\n",
       "           0.86486,     0.86587,     0.86687,     0.86787,     0.86887,     0.86987,     0.87087,     0.87187,     0.87287,     0.87387,     0.87487,     0.87588,     0.87688,     0.87788,     0.87888,     0.87988,     0.88088,     0.88188,     0.88288,     0.88388,     0.88488,     0.88589,     0.88689,     0.88789,\n",
       "           0.88889,     0.88989,     0.89089,     0.89189,     0.89289,     0.89389,     0.89489,      0.8959,      0.8969,      0.8979,      0.8989,      0.8999,      0.9009,      0.9019,      0.9029,      0.9039,      0.9049,     0.90591,     0.90691,     0.90791,     0.90891,     0.90991,     0.91091,     0.91191,\n",
       "           0.91291,     0.91391,     0.91491,     0.91592,     0.91692,     0.91792,     0.91892,     0.91992,     0.92092,     0.92192,     0.92292,     0.92392,     0.92492,     0.92593,     0.92693,     0.92793,     0.92893,     0.92993,     0.93093,     0.93193,     0.93293,     0.93393,     0.93493,     0.93594,\n",
       "           0.93694,     0.93794,     0.93894,     0.93994,     0.94094,     0.94194,     0.94294,     0.94394,     0.94494,     0.94595,     0.94695,     0.94795,     0.94895,     0.94995,     0.95095,     0.95195,     0.95295,     0.95395,     0.95495,     0.95596,     0.95696,     0.95796,     0.95896,     0.95996,\n",
       "           0.96096,     0.96196,     0.96296,     0.96396,     0.96496,     0.96597,     0.96697,     0.96797,     0.96897,     0.96997,     0.97097,     0.97197,     0.97297,     0.97397,     0.97497,     0.97598,     0.97698,     0.97798,     0.97898,     0.97998,     0.98098,     0.98198,     0.98298,     0.98398,\n",
       "           0.98498,     0.98599,     0.98699,     0.98799,     0.98899,     0.98999,     0.99099,     0.99199,     0.99299,     0.99399,     0.99499,       0.996,       0.997,       0.998,       0.999,           1]), array([[    0.25189,     0.25189,     0.32746,     0.37465,     0.40915,     0.43482,     0.45632,      0.4753,     0.49252,     0.50724,     0.52109,     0.53294,     0.54393,     0.55373,     0.56387,     0.57226,     0.58086,     0.58845,     0.59579,     0.60199,     0.60872,     0.61375,     0.61861,\n",
       "            0.62367,      0.6291,     0.63412,     0.64058,     0.64366,      0.6477,     0.65308,     0.65876,     0.66255,     0.66572,     0.67008,     0.67398,     0.67823,      0.6808,     0.68365,      0.6867,     0.68972,      0.6919,      0.6944,     0.69752,     0.69991,     0.70329,     0.70509,\n",
       "            0.70804,     0.71028,     0.71308,     0.71608,     0.71835,     0.72022,      0.7228,     0.72426,     0.72674,     0.72989,     0.73225,     0.73404,     0.73555,      0.7377,     0.73884,     0.74194,     0.74278,     0.74429,     0.74607,     0.74717,     0.74846,     0.74993,     0.75199,\n",
       "            0.75295,     0.75416,     0.75534,     0.75702,     0.75803,     0.75943,     0.76027,     0.76131,     0.76395,     0.76549,     0.76696,     0.76804,     0.76887,     0.77002,     0.77153,      0.7723,     0.77293,     0.77464,     0.77566,     0.77674,     0.77812,     0.77941,     0.78124,\n",
       "            0.78274,     0.78388,     0.78451,       0.786,     0.78705,     0.78808,     0.78927,     0.78972,     0.79053,     0.79202,      0.7933,     0.79409,     0.79536,      0.7968,     0.79778,     0.79918,     0.79967,     0.80083,     0.80241,      0.8029,     0.80346,     0.80438,      0.8056,\n",
       "            0.80572,     0.80665,     0.80713,     0.80767,     0.80818,     0.80885,     0.80972,     0.80962,     0.81023,      0.8109,     0.81199,     0.81266,     0.81284,     0.81302,     0.81355,     0.81421,     0.81423,     0.81516,     0.81633,     0.81637,     0.81678,     0.81751,     0.81796,\n",
       "             0.8187,      0.8189,     0.81923,      0.8201,      0.8203,     0.82063,     0.82115,     0.82243,     0.82251,      0.8231,     0.82331,     0.82396,     0.82533,     0.82593,     0.82661,     0.82714,     0.82768,     0.82783,     0.82846,     0.82899,     0.82949,     0.82959,     0.82996,\n",
       "            0.83068,     0.83101,     0.83151,      0.8323,     0.83269,     0.83279,     0.83268,     0.83285,     0.83312,     0.83386,     0.83459,     0.83536,     0.83571,     0.83622,     0.83674,     0.83736,     0.83754,     0.83784,     0.83807,     0.83852,     0.83862,     0.83926,     0.84019,\n",
       "            0.84014,     0.84079,     0.84097,     0.84095,     0.84094,     0.84154,     0.84181,     0.84239,     0.84205,     0.84231,     0.84235,     0.84219,     0.84305,     0.84355,     0.84415,     0.84413,     0.84456,     0.84453,     0.84465,     0.84477,       0.845,     0.84513,     0.84584,\n",
       "            0.84637,     0.84711,     0.84731,     0.84757,     0.84791,     0.84855,      0.8487,     0.84957,     0.84978,     0.85021,     0.85043,     0.85054,     0.85074,     0.85133,     0.85196,     0.85244,     0.85269,     0.85281,     0.85324,     0.85353,     0.85357,     0.85386,     0.85364,\n",
       "            0.85398,     0.85419,     0.85439,     0.85473,     0.85525,     0.85594,     0.85641,     0.85687,     0.85702,     0.85721,     0.85765,      0.8581,      0.8582,     0.85911,     0.85918,      0.8593,     0.85939,      0.8597,     0.85989,     0.86002,     0.86019,     0.86011,      0.8603,\n",
       "            0.86031,     0.86047,     0.86057,     0.86097,     0.86081,      0.8608,     0.86054,     0.86102,     0.86136,     0.86151,     0.86186,     0.86234,     0.86246,     0.86274,     0.86352,     0.86366,     0.86382,     0.86411,     0.86403,     0.86418,     0.86449,     0.86482,     0.86508,\n",
       "            0.86517,     0.86526,     0.86538,     0.86587,     0.86602,     0.86618,     0.86652,     0.86634,      0.8668,     0.86728,     0.86728,     0.86727,     0.86748,     0.86754,      0.8679,     0.86797,     0.86796,     0.86799,     0.86838,     0.86871,     0.86917,     0.86948,     0.86978,\n",
       "            0.87013,     0.87075,     0.87108,     0.87124,     0.87144,     0.87173,     0.87234,     0.87266,       0.873,     0.87285,     0.87272,     0.87257,     0.87256,     0.87237,     0.87308,     0.87314,      0.8732,     0.87362,     0.87376,     0.87407,     0.87418,     0.87437,     0.87448,\n",
       "            0.87496,     0.87543,     0.87557,     0.87566,     0.87577,     0.87556,     0.87573,     0.87623,     0.87669,     0.87688,     0.87701,      0.8771,     0.87756,     0.87757,     0.87753,      0.8783,     0.87861,     0.87876,     0.87884,      0.8791,     0.87926,     0.87922,     0.87938,\n",
       "            0.87963,     0.87951,      0.8796,     0.87968,     0.87976,     0.88039,     0.88077,     0.88124,     0.88174,     0.88177,     0.88153,     0.88126,     0.88134,      0.8813,     0.88174,     0.88132,     0.88157,     0.88194,     0.88223,     0.88196,     0.88213,     0.88202,     0.88209,\n",
       "            0.88186,     0.88182,     0.88194,      0.8821,     0.88277,     0.88282,     0.88325,     0.88327,     0.88374,     0.88362,     0.88328,     0.88336,     0.88359,     0.88359,     0.88367,     0.88357,     0.88372,     0.88406,     0.88396,     0.88403,     0.88405,     0.88395,     0.88431,\n",
       "             0.8844,     0.88437,     0.88429,     0.88381,     0.88356,     0.88347,     0.88339,     0.88347,      0.8839,     0.88409,     0.88427,     0.88443,     0.88439,      0.8844,     0.88447,     0.88463,     0.88507,     0.88512,     0.88471,      0.8844,     0.88465,     0.88455,     0.88441,\n",
       "            0.88418,     0.88414,     0.88406,     0.88405,     0.88413,     0.88401,     0.88387,     0.88404,     0.88436,      0.8836,     0.88352,     0.88339,     0.88347,     0.88337,     0.88365,     0.88372,     0.88373,     0.88357,     0.88405,     0.88418,     0.88427,     0.88401,      0.8839,\n",
       "            0.88374,     0.88366,     0.88331,     0.88334,     0.88324,     0.88281,     0.88286,     0.88318,     0.88303,     0.88331,     0.88356,     0.88364,     0.88345,     0.88303,     0.88283,     0.88242,     0.88232,     0.88215,     0.88236,     0.88264,     0.88277,     0.88276,     0.88305,\n",
       "            0.88295,     0.88273,     0.88265,     0.88281,     0.88173,     0.88148,     0.88184,     0.88175,      0.8815,     0.88132,     0.88121,     0.88132,     0.88057,     0.88099,     0.88131,     0.88095,     0.88156,     0.88139,     0.88128,     0.88124,      0.8814,     0.88152,      0.8816,\n",
       "            0.88146,     0.88126,     0.88115,     0.88098,      0.8808,     0.88091,      0.8808,     0.88056,     0.88073,     0.88073,     0.88117,     0.88089,     0.88085,     0.88066,      0.8804,     0.88019,     0.88032,     0.87965,     0.87978,     0.87994,     0.88035,     0.88008,     0.87987,\n",
       "            0.88023,     0.87989,     0.88016,     0.87995,     0.87981,     0.87948,     0.87926,     0.87884,     0.87862,     0.87815,     0.87828,     0.87824,      0.8782,     0.87824,     0.87811,     0.87726,     0.87754,     0.87694,     0.87689,     0.87697,     0.87693,     0.87682,     0.87669,\n",
       "            0.87648,      0.8757,     0.87579,     0.87578,     0.87535,     0.87488,     0.87423,     0.87332,     0.87349,     0.87382,     0.87334,     0.87291,     0.87281,     0.87216,     0.87212,     0.87201,     0.87224,     0.87173,     0.87151,     0.87168,     0.87175,      0.8715,     0.87139,\n",
       "            0.87071,     0.87028,     0.86962,     0.86971,     0.86904,     0.86884,     0.86892,     0.86905,     0.86922,      0.8693,     0.86908,      0.8687,     0.86859,     0.86843,     0.86832,     0.86769,     0.86778,     0.86792,      0.8678,     0.86756,     0.86721,     0.86611,     0.86589,\n",
       "            0.86549,     0.86538,     0.86504,     0.86521,     0.86451,     0.86429,     0.86441,     0.86412,     0.86429,       0.864,     0.86402,     0.86372,     0.86327,     0.86245,     0.86233,      0.8619,     0.86198,      0.8616,     0.86138,     0.86082,     0.86093,     0.86032,     0.86017,\n",
       "            0.86026,     0.86031,     0.86008,     0.85957,     0.85952,      0.8584,     0.85853,     0.85861,     0.85878,     0.85849,     0.85762,     0.85751,     0.85664,     0.85641,     0.85573,      0.8555,     0.85558,      0.8556,     0.85528,     0.85503,     0.85406,     0.85383,     0.85349,\n",
       "            0.85264,     0.85257,     0.85212,     0.85195,     0.85125,     0.85102,     0.84988,     0.84948,     0.84839,     0.84823,      0.8478,     0.84739,     0.84729,     0.84668,     0.84656,     0.84644,      0.8461,     0.84555,      0.8451,     0.84457,     0.84365,     0.84341,     0.84277,\n",
       "            0.84184,     0.84137,     0.84113,     0.83997,      0.8395,     0.83815,     0.83768,     0.83744,     0.83726,     0.83698,     0.83682,     0.83617,     0.83546,     0.83499,      0.8348,     0.83375,     0.83365,       0.832,     0.83094,     0.83081,      0.8299,     0.82935,     0.82869,\n",
       "             0.8279,     0.82687,     0.82663,     0.82558,     0.82516,     0.82491,     0.82435,     0.82382,     0.82334,     0.82323,     0.82204,     0.82147,     0.82091,     0.81957,     0.81884,     0.81787,     0.81614,     0.81579,     0.81505,     0.81432,     0.81362,     0.81248,      0.8127,\n",
       "            0.81235,      0.8121,     0.81103,     0.81034,     0.80934,     0.80867,     0.80757,     0.80608,     0.80429,     0.80379,     0.80308,     0.80207,      0.8013,     0.80068,     0.80055,     0.79913,     0.79737,      0.7972,      0.7952,     0.79449,     0.79362,      0.7926,     0.79253,\n",
       "            0.79186,     0.79109,     0.78984,     0.78896,     0.78842,     0.78713,     0.78588,     0.78561,     0.78409,     0.78306,     0.78288,     0.78213,      0.7807,     0.78027,     0.77976,     0.77779,     0.77786,       0.777,     0.77667,     0.77469,     0.77249,     0.77208,      0.7703,\n",
       "            0.77008,      0.7689,     0.76861,     0.76677,      0.7644,     0.76384,     0.76076,     0.76011,     0.75878,     0.75592,     0.75584,     0.75356,     0.75232,     0.75226,     0.75058,     0.74966,     0.74939,     0.74704,     0.74583,      0.7454,     0.74375,     0.74177,     0.73967,\n",
       "            0.73813,     0.73604,     0.73449,     0.73256,     0.73237,     0.73012,     0.72752,     0.72655,      0.7244,     0.72175,     0.71921,     0.71797,     0.71557,     0.71238,     0.71169,     0.70767,     0.70578,     0.70545,      0.7022,     0.70145,     0.69847,     0.69696,     0.69446,\n",
       "            0.69333,     0.69169,     0.68681,     0.68577,     0.68189,     0.68025,     0.67756,     0.67592,     0.67437,     0.67072,     0.66863,     0.66842,     0.66686,     0.66428,     0.65992,      0.6571,     0.65689,     0.65476,        0.65,     0.64554,     0.64336,     0.63979,     0.63956,\n",
       "            0.63698,     0.63376,     0.63022,     0.62758,     0.62736,     0.62386,     0.62026,     0.61798,     0.61324,     0.60919,     0.60895,     0.60451,     0.59978,     0.59582,     0.59163,     0.58571,     0.58086,     0.57835,      0.5755,     0.57525,      0.5699,     0.56591,     0.56016,\n",
       "            0.55695,     0.55103,     0.54619,     0.54098,     0.54072,     0.53598,     0.53179,     0.52605,     0.52259,     0.51651,     0.51072,     0.50442,     0.49847,     0.49166,     0.48601,     0.48194,     0.47663,     0.47301,     0.47106,       0.464,      0.4573,     0.45139,     0.44372,\n",
       "            0.43856,     0.43294,     0.42901,     0.42156,     0.41537,     0.41136,     0.40464,     0.39696,     0.39148,     0.37882,     0.37369,     0.36192,     0.35334,     0.34805,     0.34514,     0.33736,     0.32842,     0.32232,     0.31732,     0.31079,     0.30319,     0.28243,     0.27667,\n",
       "            0.26822,     0.25734,     0.25243,     0.24755,     0.23663,     0.22584,     0.21577,     0.19959,     0.19037,     0.18392,     0.18075,     0.17252,     0.16451,     0.15961,      0.1516,     0.14675,     0.13851,     0.13648,     0.12895,      0.1218,     0.11843,     0.11332,     0.10605,\n",
       "            0.10258,    0.097431,    0.088103,    0.081272,    0.077036,    0.070797,    0.067425,    0.060193,    0.054748,    0.051819,    0.045956,    0.043035,    0.036405,     0.03178,    0.029505,    0.027633,     0.02669,    0.024591,    0.018958,    0.016219,    0.015087,    0.014731,    0.012634,\n",
       "           0.010294,   0.0098048,   0.0091393,   0.0083731,   0.0075684,    0.006585,   0.0060229,   0.0056079,   0.0054639,   0.0053199,   0.0051758,   0.0050317,   0.0044784,   0.0041446,   0.0040415,   0.0039385,   0.0038354,   0.0037324,   0.0036293,   0.0035262,   0.0023411,   0.0019238,   0.0015623,\n",
       "         0.00098955,           0,           0,           0,           0,           0,           0,           0,           0,           0,           0,           0,           0,           0,           0,           0,           0,           0,           0,           0,           0,           0,           0,\n",
       "                  0,           0,           0,           0,           0,           0,           0,           0,           0,           0,           0,           0,           0,           0,           0,           0,           0,           0,           0,           0,           0,           0,           0,\n",
       "                  0,           0,           0,           0,           0,           0,           0,           0,           0,           0,           0]]), 'Confidence', 'F1'], [array([          0,    0.001001,    0.002002,    0.003003,    0.004004,    0.005005,    0.006006,    0.007007,    0.008008,    0.009009,     0.01001,    0.011011,    0.012012,    0.013013,    0.014014,    0.015015,    0.016016,    0.017017,    0.018018,    0.019019,     0.02002,    0.021021,    0.022022,    0.023023,\n",
       "          0.024024,    0.025025,    0.026026,    0.027027,    0.028028,    0.029029,     0.03003,    0.031031,    0.032032,    0.033033,    0.034034,    0.035035,    0.036036,    0.037037,    0.038038,    0.039039,     0.04004,    0.041041,    0.042042,    0.043043,    0.044044,    0.045045,    0.046046,    0.047047,\n",
       "          0.048048,    0.049049,     0.05005,    0.051051,    0.052052,    0.053053,    0.054054,    0.055055,    0.056056,    0.057057,    0.058058,    0.059059,     0.06006,    0.061061,    0.062062,    0.063063,    0.064064,    0.065065,    0.066066,    0.067067,    0.068068,    0.069069,     0.07007,    0.071071,\n",
       "          0.072072,    0.073073,    0.074074,    0.075075,    0.076076,    0.077077,    0.078078,    0.079079,     0.08008,    0.081081,    0.082082,    0.083083,    0.084084,    0.085085,    0.086086,    0.087087,    0.088088,    0.089089,     0.09009,    0.091091,    0.092092,    0.093093,    0.094094,    0.095095,\n",
       "          0.096096,    0.097097,    0.098098,    0.099099,      0.1001,      0.1011,      0.1021,      0.1031,      0.1041,     0.10511,     0.10611,     0.10711,     0.10811,     0.10911,     0.11011,     0.11111,     0.11211,     0.11311,     0.11411,     0.11512,     0.11612,     0.11712,     0.11812,     0.11912,\n",
       "           0.12012,     0.12112,     0.12212,     0.12312,     0.12412,     0.12513,     0.12613,     0.12713,     0.12813,     0.12913,     0.13013,     0.13113,     0.13213,     0.13313,     0.13413,     0.13514,     0.13614,     0.13714,     0.13814,     0.13914,     0.14014,     0.14114,     0.14214,     0.14314,\n",
       "           0.14414,     0.14515,     0.14615,     0.14715,     0.14815,     0.14915,     0.15015,     0.15115,     0.15215,     0.15315,     0.15415,     0.15516,     0.15616,     0.15716,     0.15816,     0.15916,     0.16016,     0.16116,     0.16216,     0.16316,     0.16416,     0.16517,     0.16617,     0.16717,\n",
       "           0.16817,     0.16917,     0.17017,     0.17117,     0.17217,     0.17317,     0.17417,     0.17518,     0.17618,     0.17718,     0.17818,     0.17918,     0.18018,     0.18118,     0.18218,     0.18318,     0.18418,     0.18519,     0.18619,     0.18719,     0.18819,     0.18919,     0.19019,     0.19119,\n",
       "           0.19219,     0.19319,     0.19419,      0.1952,      0.1962,      0.1972,      0.1982,      0.1992,      0.2002,      0.2012,      0.2022,      0.2032,      0.2042,     0.20521,     0.20621,     0.20721,     0.20821,     0.20921,     0.21021,     0.21121,     0.21221,     0.21321,     0.21421,     0.21522,\n",
       "           0.21622,     0.21722,     0.21822,     0.21922,     0.22022,     0.22122,     0.22222,     0.22322,     0.22422,     0.22523,     0.22623,     0.22723,     0.22823,     0.22923,     0.23023,     0.23123,     0.23223,     0.23323,     0.23423,     0.23524,     0.23624,     0.23724,     0.23824,     0.23924,\n",
       "           0.24024,     0.24124,     0.24224,     0.24324,     0.24424,     0.24525,     0.24625,     0.24725,     0.24825,     0.24925,     0.25025,     0.25125,     0.25225,     0.25325,     0.25425,     0.25526,     0.25626,     0.25726,     0.25826,     0.25926,     0.26026,     0.26126,     0.26226,     0.26326,\n",
       "           0.26426,     0.26527,     0.26627,     0.26727,     0.26827,     0.26927,     0.27027,     0.27127,     0.27227,     0.27327,     0.27427,     0.27528,     0.27628,     0.27728,     0.27828,     0.27928,     0.28028,     0.28128,     0.28228,     0.28328,     0.28428,     0.28529,     0.28629,     0.28729,\n",
       "           0.28829,     0.28929,     0.29029,     0.29129,     0.29229,     0.29329,     0.29429,      0.2953,      0.2963,      0.2973,      0.2983,      0.2993,      0.3003,      0.3013,      0.3023,      0.3033,      0.3043,     0.30531,     0.30631,     0.30731,     0.30831,     0.30931,     0.31031,     0.31131,\n",
       "           0.31231,     0.31331,     0.31431,     0.31532,     0.31632,     0.31732,     0.31832,     0.31932,     0.32032,     0.32132,     0.32232,     0.32332,     0.32432,     0.32533,     0.32633,     0.32733,     0.32833,     0.32933,     0.33033,     0.33133,     0.33233,     0.33333,     0.33433,     0.33534,\n",
       "           0.33634,     0.33734,     0.33834,     0.33934,     0.34034,     0.34134,     0.34234,     0.34334,     0.34434,     0.34535,     0.34635,     0.34735,     0.34835,     0.34935,     0.35035,     0.35135,     0.35235,     0.35335,     0.35435,     0.35536,     0.35636,     0.35736,     0.35836,     0.35936,\n",
       "           0.36036,     0.36136,     0.36236,     0.36336,     0.36436,     0.36537,     0.36637,     0.36737,     0.36837,     0.36937,     0.37037,     0.37137,     0.37237,     0.37337,     0.37437,     0.37538,     0.37638,     0.37738,     0.37838,     0.37938,     0.38038,     0.38138,     0.38238,     0.38338,\n",
       "           0.38438,     0.38539,     0.38639,     0.38739,     0.38839,     0.38939,     0.39039,     0.39139,     0.39239,     0.39339,     0.39439,      0.3954,      0.3964,      0.3974,      0.3984,      0.3994,      0.4004,      0.4014,      0.4024,      0.4034,      0.4044,     0.40541,     0.40641,     0.40741,\n",
       "           0.40841,     0.40941,     0.41041,     0.41141,     0.41241,     0.41341,     0.41441,     0.41542,     0.41642,     0.41742,     0.41842,     0.41942,     0.42042,     0.42142,     0.42242,     0.42342,     0.42442,     0.42543,     0.42643,     0.42743,     0.42843,     0.42943,     0.43043,     0.43143,\n",
       "           0.43243,     0.43343,     0.43443,     0.43544,     0.43644,     0.43744,     0.43844,     0.43944,     0.44044,     0.44144,     0.44244,     0.44344,     0.44444,     0.44545,     0.44645,     0.44745,     0.44845,     0.44945,     0.45045,     0.45145,     0.45245,     0.45345,     0.45445,     0.45546,\n",
       "           0.45646,     0.45746,     0.45846,     0.45946,     0.46046,     0.46146,     0.46246,     0.46346,     0.46446,     0.46547,     0.46647,     0.46747,     0.46847,     0.46947,     0.47047,     0.47147,     0.47247,     0.47347,     0.47447,     0.47548,     0.47648,     0.47748,     0.47848,     0.47948,\n",
       "           0.48048,     0.48148,     0.48248,     0.48348,     0.48448,     0.48549,     0.48649,     0.48749,     0.48849,     0.48949,     0.49049,     0.49149,     0.49249,     0.49349,     0.49449,      0.4955,      0.4965,      0.4975,      0.4985,      0.4995,      0.5005,      0.5015,      0.5025,      0.5035,\n",
       "            0.5045,     0.50551,     0.50651,     0.50751,     0.50851,     0.50951,     0.51051,     0.51151,     0.51251,     0.51351,     0.51451,     0.51552,     0.51652,     0.51752,     0.51852,     0.51952,     0.52052,     0.52152,     0.52252,     0.52352,     0.52452,     0.52553,     0.52653,     0.52753,\n",
       "           0.52853,     0.52953,     0.53053,     0.53153,     0.53253,     0.53353,     0.53453,     0.53554,     0.53654,     0.53754,     0.53854,     0.53954,     0.54054,     0.54154,     0.54254,     0.54354,     0.54454,     0.54555,     0.54655,     0.54755,     0.54855,     0.54955,     0.55055,     0.55155,\n",
       "           0.55255,     0.55355,     0.55455,     0.55556,     0.55656,     0.55756,     0.55856,     0.55956,     0.56056,     0.56156,     0.56256,     0.56356,     0.56456,     0.56557,     0.56657,     0.56757,     0.56857,     0.56957,     0.57057,     0.57157,     0.57257,     0.57357,     0.57457,     0.57558,\n",
       "           0.57658,     0.57758,     0.57858,     0.57958,     0.58058,     0.58158,     0.58258,     0.58358,     0.58458,     0.58559,     0.58659,     0.58759,     0.58859,     0.58959,     0.59059,     0.59159,     0.59259,     0.59359,     0.59459,      0.5956,      0.5966,      0.5976,      0.5986,      0.5996,\n",
       "            0.6006,      0.6016,      0.6026,      0.6036,      0.6046,     0.60561,     0.60661,     0.60761,     0.60861,     0.60961,     0.61061,     0.61161,     0.61261,     0.61361,     0.61461,     0.61562,     0.61662,     0.61762,     0.61862,     0.61962,     0.62062,     0.62162,     0.62262,     0.62362,\n",
       "           0.62462,     0.62563,     0.62663,     0.62763,     0.62863,     0.62963,     0.63063,     0.63163,     0.63263,     0.63363,     0.63463,     0.63564,     0.63664,     0.63764,     0.63864,     0.63964,     0.64064,     0.64164,     0.64264,     0.64364,     0.64464,     0.64565,     0.64665,     0.64765,\n",
       "           0.64865,     0.64965,     0.65065,     0.65165,     0.65265,     0.65365,     0.65465,     0.65566,     0.65666,     0.65766,     0.65866,     0.65966,     0.66066,     0.66166,     0.66266,     0.66366,     0.66466,     0.66567,     0.66667,     0.66767,     0.66867,     0.66967,     0.67067,     0.67167,\n",
       "           0.67267,     0.67367,     0.67467,     0.67568,     0.67668,     0.67768,     0.67868,     0.67968,     0.68068,     0.68168,     0.68268,     0.68368,     0.68468,     0.68569,     0.68669,     0.68769,     0.68869,     0.68969,     0.69069,     0.69169,     0.69269,     0.69369,     0.69469,      0.6957,\n",
       "            0.6967,      0.6977,      0.6987,      0.6997,      0.7007,      0.7017,      0.7027,      0.7037,      0.7047,     0.70571,     0.70671,     0.70771,     0.70871,     0.70971,     0.71071,     0.71171,     0.71271,     0.71371,     0.71471,     0.71572,     0.71672,     0.71772,     0.71872,     0.71972,\n",
       "           0.72072,     0.72172,     0.72272,     0.72372,     0.72472,     0.72573,     0.72673,     0.72773,     0.72873,     0.72973,     0.73073,     0.73173,     0.73273,     0.73373,     0.73473,     0.73574,     0.73674,     0.73774,     0.73874,     0.73974,     0.74074,     0.74174,     0.74274,     0.74374,\n",
       "           0.74474,     0.74575,     0.74675,     0.74775,     0.74875,     0.74975,     0.75075,     0.75175,     0.75275,     0.75375,     0.75475,     0.75576,     0.75676,     0.75776,     0.75876,     0.75976,     0.76076,     0.76176,     0.76276,     0.76376,     0.76476,     0.76577,     0.76677,     0.76777,\n",
       "           0.76877,     0.76977,     0.77077,     0.77177,     0.77277,     0.77377,     0.77477,     0.77578,     0.77678,     0.77778,     0.77878,     0.77978,     0.78078,     0.78178,     0.78278,     0.78378,     0.78478,     0.78579,     0.78679,     0.78779,     0.78879,     0.78979,     0.79079,     0.79179,\n",
       "           0.79279,     0.79379,     0.79479,      0.7958,      0.7968,      0.7978,      0.7988,      0.7998,      0.8008,      0.8018,      0.8028,      0.8038,      0.8048,     0.80581,     0.80681,     0.80781,     0.80881,     0.80981,     0.81081,     0.81181,     0.81281,     0.81381,     0.81481,     0.81582,\n",
       "           0.81682,     0.81782,     0.81882,     0.81982,     0.82082,     0.82182,     0.82282,     0.82382,     0.82482,     0.82583,     0.82683,     0.82783,     0.82883,     0.82983,     0.83083,     0.83183,     0.83283,     0.83383,     0.83483,     0.83584,     0.83684,     0.83784,     0.83884,     0.83984,\n",
       "           0.84084,     0.84184,     0.84284,     0.84384,     0.84484,     0.84585,     0.84685,     0.84785,     0.84885,     0.84985,     0.85085,     0.85185,     0.85285,     0.85385,     0.85485,     0.85586,     0.85686,     0.85786,     0.85886,     0.85986,     0.86086,     0.86186,     0.86286,     0.86386,\n",
       "           0.86486,     0.86587,     0.86687,     0.86787,     0.86887,     0.86987,     0.87087,     0.87187,     0.87287,     0.87387,     0.87487,     0.87588,     0.87688,     0.87788,     0.87888,     0.87988,     0.88088,     0.88188,     0.88288,     0.88388,     0.88488,     0.88589,     0.88689,     0.88789,\n",
       "           0.88889,     0.88989,     0.89089,     0.89189,     0.89289,     0.89389,     0.89489,      0.8959,      0.8969,      0.8979,      0.8989,      0.8999,      0.9009,      0.9019,      0.9029,      0.9039,      0.9049,     0.90591,     0.90691,     0.90791,     0.90891,     0.90991,     0.91091,     0.91191,\n",
       "           0.91291,     0.91391,     0.91491,     0.91592,     0.91692,     0.91792,     0.91892,     0.91992,     0.92092,     0.92192,     0.92292,     0.92392,     0.92492,     0.92593,     0.92693,     0.92793,     0.92893,     0.92993,     0.93093,     0.93193,     0.93293,     0.93393,     0.93493,     0.93594,\n",
       "           0.93694,     0.93794,     0.93894,     0.93994,     0.94094,     0.94194,     0.94294,     0.94394,     0.94494,     0.94595,     0.94695,     0.94795,     0.94895,     0.94995,     0.95095,     0.95195,     0.95295,     0.95395,     0.95495,     0.95596,     0.95696,     0.95796,     0.95896,     0.95996,\n",
       "           0.96096,     0.96196,     0.96296,     0.96396,     0.96496,     0.96597,     0.96697,     0.96797,     0.96897,     0.96997,     0.97097,     0.97197,     0.97297,     0.97397,     0.97497,     0.97598,     0.97698,     0.97798,     0.97898,     0.97998,     0.98098,     0.98198,     0.98298,     0.98398,\n",
       "           0.98498,     0.98599,     0.98699,     0.98799,     0.98899,     0.98999,     0.99099,     0.99199,     0.99299,     0.99399,     0.99499,       0.996,       0.997,       0.998,       0.999,           1]), array([[    0.14435,     0.14435,     0.19638,     0.23139,     0.25841,     0.27943,      0.2976,       0.314,     0.32937,     0.34276,     0.35581,     0.36704,     0.37761,     0.38718,     0.39735,     0.40598,     0.41468,      0.4226,     0.43042,     0.43692,     0.44412,     0.44968,     0.45505,\n",
       "             0.4607,     0.46674,     0.47237,     0.47957,     0.48304,     0.48769,     0.49401,     0.50053,     0.50511,     0.50881,     0.51402,     0.51883,     0.52389,     0.52706,     0.53049,     0.53429,     0.53795,     0.54061,     0.54388,     0.54773,      0.5508,     0.55499,     0.55724,\n",
       "            0.56093,     0.56376,     0.56753,     0.57135,     0.57424,     0.57663,     0.58021,     0.58209,     0.58544,     0.58967,     0.59288,     0.59537,     0.59819,     0.60119,      0.6027,     0.60684,     0.60808,     0.61013,     0.61253,     0.61416,     0.61605,     0.61804,     0.62115,\n",
       "            0.62246,     0.62442,      0.6265,     0.62881,     0.63051,     0.63262,     0.63378,     0.63523,     0.63891,     0.64123,      0.6433,     0.64498,     0.64614,     0.64778,     0.64995,     0.65134,     0.65241,     0.65484,     0.65631,     0.65802,     0.66001,     0.66238,     0.66503,\n",
       "            0.66721,     0.66887,     0.66996,     0.67214,     0.67375,     0.67555,     0.67748,     0.67814,     0.67933,     0.68154,     0.68343,     0.68461,      0.6865,     0.68884,     0.69049,     0.69297,      0.6939,     0.69565,     0.69822,     0.69917,     0.70002,     0.70142,     0.70347,\n",
       "            0.70385,     0.70566,      0.7066,     0.70763,     0.70881,     0.70984,     0.71118,     0.71123,     0.71238,     0.71383,     0.71571,     0.71684,     0.71745,     0.71815,     0.71898,        0.72,     0.72046,     0.72233,     0.72417,     0.72466,     0.72547,     0.72711,     0.72781,\n",
       "            0.72898,     0.72952,     0.73027,     0.73164,     0.73196,      0.7327,     0.73353,     0.73558,     0.73593,      0.7371,     0.73765,      0.7387,     0.74113,     0.74232,     0.74349,     0.74451,     0.74537,     0.74608,      0.7471,     0.74796,     0.74877,     0.74963,     0.75023,\n",
       "            0.75164,     0.75242,     0.75324,     0.75453,     0.75545,     0.75583,     0.75587,     0.75614,     0.75658,     0.75781,     0.75924,     0.76053,     0.76111,     0.76196,     0.76281,     0.76385,     0.76415,     0.76465,     0.76503,     0.76583,     0.76618,     0.76725,     0.76889,\n",
       "            0.76922,     0.77031,     0.77085,     0.77131,     0.77147,      0.7728,     0.77326,     0.77448,     0.77466,     0.77559,     0.77591,     0.77608,     0.77786,      0.7787,     0.77974,     0.77989,     0.78078,     0.78115,     0.78134,     0.78182,      0.7822,     0.78242,     0.78364,\n",
       "            0.78455,     0.78583,     0.78617,     0.78714,     0.78773,     0.78883,     0.78936,     0.79112,     0.79148,     0.79249,     0.79289,     0.79359,     0.79395,     0.79524,     0.79634,     0.79752,     0.79816,     0.79837,     0.79912,     0.79968,     0.80023,     0.80102,     0.80133,\n",
       "            0.80205,     0.80241,     0.80277,     0.80336,      0.8045,     0.80578,     0.80663,     0.80771,     0.80825,      0.8086,     0.80965,     0.81045,     0.81063,     0.81226,     0.81261,     0.81288,     0.81305,      0.8136,     0.81432,     0.81474,     0.81547,     0.81574,      0.8161,\n",
       "            0.81639,     0.81669,     0.81686,     0.81765,     0.81803,     0.81813,     0.81823,     0.81911,     0.81973,        0.82,     0.82062,      0.8215,     0.82171,     0.82222,     0.82364,     0.82419,     0.82448,     0.82502,     0.82515,     0.82572,      0.8263,     0.82689,     0.82737,\n",
       "            0.82754,     0.82769,     0.82821,     0.82911,     0.82969,     0.82998,      0.8306,     0.83086,     0.83171,     0.83259,     0.83308,     0.83318,     0.83387,     0.83398,     0.83464,     0.83489,     0.83506,     0.83536,     0.83643,     0.83704,     0.83791,     0.83878,     0.83934,\n",
       "            0.83999,     0.84115,     0.84176,     0.84207,     0.84243,     0.84328,     0.84444,     0.84504,     0.84567,      0.8457,     0.84586,     0.84642,     0.84671,     0.84699,     0.84863,     0.84874,     0.84886,     0.84965,     0.85024,     0.85082,     0.85166,     0.85215,     0.85255,\n",
       "            0.85347,     0.85436,     0.85495,     0.85512,     0.85534,     0.85543,      0.8559,     0.85685,     0.85773,     0.85809,     0.85835,     0.85852,     0.85941,     0.85971,     0.85996,     0.86147,     0.86208,     0.86236,     0.86251,     0.86333,     0.86366,     0.86423,     0.86454,\n",
       "            0.86509,     0.86512,     0.86529,     0.86545,      0.8656,     0.86683,     0.86823,     0.86914,     0.87011,      0.8703,     0.87038,     0.87053,     0.87069,     0.87125,     0.87214,     0.87232,     0.87291,     0.87388,     0.87479,     0.87515,     0.87563,     0.87597,     0.87624,\n",
       "            0.87647,     0.87674,     0.87766,     0.87797,     0.87941,      0.8801,     0.88117,     0.88135,     0.88229,     0.88236,     0.88242,     0.88258,     0.88375,     0.88411,     0.88432,      0.8843,     0.88471,     0.88539,     0.88579,     0.88665,     0.88694,     0.88692,     0.88768,\n",
       "            0.88787,     0.88816,     0.88872,     0.88888,     0.88883,     0.88939,     0.88944,      0.8896,     0.89048,     0.89086,     0.89121,     0.89154,     0.89183,     0.89217,     0.89273,     0.89338,     0.89468,     0.89522,     0.89515,     0.89516,     0.89572,      0.8957,     0.89568,\n",
       "            0.89563,     0.89611,      0.8962,      0.8963,     0.89647,     0.89649,     0.89669,     0.89702,     0.89768,     0.89762,     0.89788,     0.89907,     0.89924,      0.8994,     0.90036,     0.90061,      0.9013,     0.90249,      0.9035,     0.90378,     0.90395,     0.90401,      0.9046,\n",
       "            0.90478,     0.90539,     0.90573,     0.90604,     0.90602,     0.90626,     0.90683,     0.90752,     0.90754,     0.90818,     0.90871,     0.90888,     0.90885,     0.90878,     0.90875,     0.90868,     0.90866,     0.90895,     0.90973,     0.91073,     0.91139,     0.91157,     0.91241,\n",
       "            0.91319,     0.91333,     0.91396,     0.91432,     0.91428,     0.91456,     0.91547,     0.91557,     0.91585,     0.91615,     0.91613,      0.9164,     0.91635,     0.91734,     0.91805,     0.91804,     0.91942,     0.92008,     0.92006,     0.92039,     0.92074,     0.92142,     0.92161,\n",
       "            0.92174,     0.92171,      0.9217,       0.922,     0.92237,     0.92266,     0.92264,     0.92269,     0.92306,     0.92363,     0.92504,     0.92512,     0.92546,     0.92564,     0.92575,     0.92591,     0.92643,     0.92669,     0.92721,     0.92777,     0.92954,     0.92965,     0.92962,\n",
       "            0.93059,       0.931,     0.93208,     0.93205,      0.9323,     0.93234,     0.93231,     0.93225,     0.93223,     0.93252,     0.93285,      0.9332,     0.93356,      0.9341,     0.93426,     0.93416,     0.93525,     0.93521,     0.93554,     0.93574,      0.9366,     0.93658,     0.93657,\n",
       "            0.93654,     0.93649,     0.93669,     0.93681,     0.93676,     0.93706,     0.93699,     0.93702,     0.93741,     0.93838,     0.93868,     0.93863,     0.93934,     0.93927,     0.93999,     0.93998,      0.9406,     0.94068,     0.94065,     0.94167,     0.94279,     0.94286,     0.94285,\n",
       "            0.94314,      0.9431,     0.94356,     0.94376,     0.94408,     0.94414,     0.94434,     0.94464,     0.94504,     0.94598,     0.94596,     0.94592,     0.94591,     0.94627,     0.94625,     0.94632,     0.94652,     0.94687,     0.94696,     0.94799,     0.94803,     0.94792,      0.9479,\n",
       "            0.94824,     0.94823,     0.94894,     0.94935,     0.94968,     0.94967,     0.94994,     0.95025,     0.95066,     0.95079,     0.95104,     0.95115,     0.95111,     0.95131,     0.95141,     0.95152,     0.95173,     0.95173,     0.95171,     0.95244,     0.95324,     0.95358,     0.95405,\n",
       "            0.95426,     0.95516,     0.95514,     0.95571,     0.95589,     0.95579,     0.95633,     0.95654,     0.95783,     0.95902,     0.96058,     0.96057,     0.96091,     0.96089,     0.96084,     0.96082,     0.96139,     0.96165,     0.96163,     0.96161,     0.96195,     0.96193,      0.9619,\n",
       "            0.96226,     0.96267,     0.96263,     0.96272,     0.96299,     0.96297,     0.96289,     0.96316,     0.96362,     0.96393,     0.96442,     0.96481,     0.96495,     0.96519,     0.96518,     0.96645,     0.96643,      0.9668,     0.96679,     0.96718,     0.96712,     0.96711,     0.96714,\n",
       "            0.96744,     0.96741,     0.96739,     0.96732,     0.96729,     0.96763,      0.9676,     0.96759,     0.96815,     0.96844,     0.96881,     0.96882,     0.96878,     0.96875,     0.96918,     0.96978,     0.97044,     0.97035,     0.97028,     0.97028,     0.97067,     0.97109,     0.97195,\n",
       "            0.97191,     0.97231,     0.97229,     0.97281,     0.97312,     0.97311,     0.97308,     0.97305,     0.97303,     0.97344,     0.97408,     0.97478,     0.97521,     0.97515,     0.97511,     0.97506,     0.97497,     0.97496,     0.97492,     0.97488,     0.97532,     0.97536,     0.97598,\n",
       "            0.97621,     0.97619,     0.97662,     0.97706,     0.97702,     0.97747,      0.9779,     0.97783,     0.97873,     0.97871,     0.97917,     0.97912,     0.97909,     0.97956,     0.97955,     0.97999,     0.97992,     0.97991,     0.97983,     0.98017,     0.98077,     0.98073,     0.98104,\n",
       "             0.9812,     0.98117,     0.98285,     0.98313,     0.98311,     0.98307,     0.98354,     0.98353,       0.984,     0.98397,     0.98396,     0.98393,     0.98389,     0.98405,     0.98543,     0.98537,     0.98643,     0.98641,      0.9864,     0.98634,     0.98628,     0.98681,     0.98676,\n",
       "            0.98675,     0.98672,     0.98671,      0.9872,     0.98769,     0.98767,     0.98759,     0.98813,     0.98865,     0.98915,     0.98952,     0.99022,     0.99045,     0.99119,      0.9913,     0.99162,     0.99243,     0.99239,     0.99237,     0.99295,     0.99292,     0.99289,     0.99286,\n",
       "            0.99284,      0.9934,     0.99338,     0.99399,     0.99454,     0.99452,     0.99449,     0.99448,     0.99445,     0.99442,     0.99439,     0.99437,     0.99434,     0.99493,     0.99492,     0.99488,     0.99486,     0.99486,     0.99482,     0.99545,     0.99542,     0.99541,     0.99538,\n",
       "            0.99537,     0.99536,     0.99597,     0.99596,     0.99593,     0.99591,     0.99589,     0.99587,     0.99586,     0.99583,     0.99581,      0.9958,     0.99579,     0.99647,     0.99643,     0.99641,     0.99641,     0.99639,     0.99635,     0.99631,      0.9963,     0.99627,     0.99626,\n",
       "            0.99624,     0.99621,     0.99618,     0.99616,     0.99616,      0.9969,     0.99687,     0.99685,     0.99682,     0.99679,     0.99679,     0.99675,     0.99672,     0.99751,     0.99749,     0.99745,     0.99742,      0.9974,     0.99739,     0.99739,     0.99735,     0.99732,     0.99729,\n",
       "            0.99726,     0.99722,     0.99719,     0.99715,     0.99715,     0.99808,     0.99805,     0.99803,     0.99801,     0.99798,     0.99795,     0.99791,     0.99788,     0.99784,     0.99781,     0.99778,     0.99775,     0.99773,     0.99771,     0.99767,     0.99762,     0.99758,     0.99753,\n",
       "            0.99749,     0.99745,     0.99742,     0.99736,     0.99731,     0.99728,     0.99722,     0.99716,     0.99711,     0.99699,     0.99694,     0.99681,     0.99672,     0.99666,     0.99663,     0.99653,     0.99642,     0.99634,     0.99627,     0.99618,     0.99606,     0.99786,     0.99781,\n",
       "            0.99773,     0.99761,     0.99756,     0.99751,     0.99738,     0.99723,     0.99709,     0.99682,     0.99665,     0.99653,     0.99646,     0.99627,     0.99608,     0.99594,     0.99571,     0.99556,     0.99528,      0.9952,      0.9949,     0.99458,     0.99442,     0.99416,     0.99373,\n",
       "            0.99351,     0.99315,      0.9924,     0.99173,     0.99126,     0.99047,     0.98998,     0.98875,     0.98761,      0.9869,     0.98521,      0.9842,     0.98131,      0.9786,     0.97696,     0.97541,     0.97455,     0.97241,     0.96441,     0.95859,     0.95559,     0.95457,     0.94738,\n",
       "            0.93605,      0.9331,     0.93901,           1,           1,           1,           1,           1,           1,           1,           1,           1,           1,           1,           1,           1,           1,           1,           1,           1,           1,           1,           1,\n",
       "                  1,           1,           1,           1,           1,           1,           1,           1,           1,           1,           1,           1,           1,           1,           1,           1,           1,           1,           1,           1,           1,           1,           1,\n",
       "                  1,           1,           1,           1,           1,           1,           1,           1,           1,           1,           1,           1,           1,           1,           1,           1,           1,           1,           1,           1,           1,           1,           1,\n",
       "                  1,           1,           1,           1,           1,           1,           1,           1,           1,           1,           1]]), 'Confidence', 'Precision'], [array([          0,    0.001001,    0.002002,    0.003003,    0.004004,    0.005005,    0.006006,    0.007007,    0.008008,    0.009009,     0.01001,    0.011011,    0.012012,    0.013013,    0.014014,    0.015015,    0.016016,    0.017017,    0.018018,    0.019019,     0.02002,    0.021021,    0.022022,    0.023023,\n",
       "          0.024024,    0.025025,    0.026026,    0.027027,    0.028028,    0.029029,     0.03003,    0.031031,    0.032032,    0.033033,    0.034034,    0.035035,    0.036036,    0.037037,    0.038038,    0.039039,     0.04004,    0.041041,    0.042042,    0.043043,    0.044044,    0.045045,    0.046046,    0.047047,\n",
       "          0.048048,    0.049049,     0.05005,    0.051051,    0.052052,    0.053053,    0.054054,    0.055055,    0.056056,    0.057057,    0.058058,    0.059059,     0.06006,    0.061061,    0.062062,    0.063063,    0.064064,    0.065065,    0.066066,    0.067067,    0.068068,    0.069069,     0.07007,    0.071071,\n",
       "          0.072072,    0.073073,    0.074074,    0.075075,    0.076076,    0.077077,    0.078078,    0.079079,     0.08008,    0.081081,    0.082082,    0.083083,    0.084084,    0.085085,    0.086086,    0.087087,    0.088088,    0.089089,     0.09009,    0.091091,    0.092092,    0.093093,    0.094094,    0.095095,\n",
       "          0.096096,    0.097097,    0.098098,    0.099099,      0.1001,      0.1011,      0.1021,      0.1031,      0.1041,     0.10511,     0.10611,     0.10711,     0.10811,     0.10911,     0.11011,     0.11111,     0.11211,     0.11311,     0.11411,     0.11512,     0.11612,     0.11712,     0.11812,     0.11912,\n",
       "           0.12012,     0.12112,     0.12212,     0.12312,     0.12412,     0.12513,     0.12613,     0.12713,     0.12813,     0.12913,     0.13013,     0.13113,     0.13213,     0.13313,     0.13413,     0.13514,     0.13614,     0.13714,     0.13814,     0.13914,     0.14014,     0.14114,     0.14214,     0.14314,\n",
       "           0.14414,     0.14515,     0.14615,     0.14715,     0.14815,     0.14915,     0.15015,     0.15115,     0.15215,     0.15315,     0.15415,     0.15516,     0.15616,     0.15716,     0.15816,     0.15916,     0.16016,     0.16116,     0.16216,     0.16316,     0.16416,     0.16517,     0.16617,     0.16717,\n",
       "           0.16817,     0.16917,     0.17017,     0.17117,     0.17217,     0.17317,     0.17417,     0.17518,     0.17618,     0.17718,     0.17818,     0.17918,     0.18018,     0.18118,     0.18218,     0.18318,     0.18418,     0.18519,     0.18619,     0.18719,     0.18819,     0.18919,     0.19019,     0.19119,\n",
       "           0.19219,     0.19319,     0.19419,      0.1952,      0.1962,      0.1972,      0.1982,      0.1992,      0.2002,      0.2012,      0.2022,      0.2032,      0.2042,     0.20521,     0.20621,     0.20721,     0.20821,     0.20921,     0.21021,     0.21121,     0.21221,     0.21321,     0.21421,     0.21522,\n",
       "           0.21622,     0.21722,     0.21822,     0.21922,     0.22022,     0.22122,     0.22222,     0.22322,     0.22422,     0.22523,     0.22623,     0.22723,     0.22823,     0.22923,     0.23023,     0.23123,     0.23223,     0.23323,     0.23423,     0.23524,     0.23624,     0.23724,     0.23824,     0.23924,\n",
       "           0.24024,     0.24124,     0.24224,     0.24324,     0.24424,     0.24525,     0.24625,     0.24725,     0.24825,     0.24925,     0.25025,     0.25125,     0.25225,     0.25325,     0.25425,     0.25526,     0.25626,     0.25726,     0.25826,     0.25926,     0.26026,     0.26126,     0.26226,     0.26326,\n",
       "           0.26426,     0.26527,     0.26627,     0.26727,     0.26827,     0.26927,     0.27027,     0.27127,     0.27227,     0.27327,     0.27427,     0.27528,     0.27628,     0.27728,     0.27828,     0.27928,     0.28028,     0.28128,     0.28228,     0.28328,     0.28428,     0.28529,     0.28629,     0.28729,\n",
       "           0.28829,     0.28929,     0.29029,     0.29129,     0.29229,     0.29329,     0.29429,      0.2953,      0.2963,      0.2973,      0.2983,      0.2993,      0.3003,      0.3013,      0.3023,      0.3033,      0.3043,     0.30531,     0.30631,     0.30731,     0.30831,     0.30931,     0.31031,     0.31131,\n",
       "           0.31231,     0.31331,     0.31431,     0.31532,     0.31632,     0.31732,     0.31832,     0.31932,     0.32032,     0.32132,     0.32232,     0.32332,     0.32432,     0.32533,     0.32633,     0.32733,     0.32833,     0.32933,     0.33033,     0.33133,     0.33233,     0.33333,     0.33433,     0.33534,\n",
       "           0.33634,     0.33734,     0.33834,     0.33934,     0.34034,     0.34134,     0.34234,     0.34334,     0.34434,     0.34535,     0.34635,     0.34735,     0.34835,     0.34935,     0.35035,     0.35135,     0.35235,     0.35335,     0.35435,     0.35536,     0.35636,     0.35736,     0.35836,     0.35936,\n",
       "           0.36036,     0.36136,     0.36236,     0.36336,     0.36436,     0.36537,     0.36637,     0.36737,     0.36837,     0.36937,     0.37037,     0.37137,     0.37237,     0.37337,     0.37437,     0.37538,     0.37638,     0.37738,     0.37838,     0.37938,     0.38038,     0.38138,     0.38238,     0.38338,\n",
       "           0.38438,     0.38539,     0.38639,     0.38739,     0.38839,     0.38939,     0.39039,     0.39139,     0.39239,     0.39339,     0.39439,      0.3954,      0.3964,      0.3974,      0.3984,      0.3994,      0.4004,      0.4014,      0.4024,      0.4034,      0.4044,     0.40541,     0.40641,     0.40741,\n",
       "           0.40841,     0.40941,     0.41041,     0.41141,     0.41241,     0.41341,     0.41441,     0.41542,     0.41642,     0.41742,     0.41842,     0.41942,     0.42042,     0.42142,     0.42242,     0.42342,     0.42442,     0.42543,     0.42643,     0.42743,     0.42843,     0.42943,     0.43043,     0.43143,\n",
       "           0.43243,     0.43343,     0.43443,     0.43544,     0.43644,     0.43744,     0.43844,     0.43944,     0.44044,     0.44144,     0.44244,     0.44344,     0.44444,     0.44545,     0.44645,     0.44745,     0.44845,     0.44945,     0.45045,     0.45145,     0.45245,     0.45345,     0.45445,     0.45546,\n",
       "           0.45646,     0.45746,     0.45846,     0.45946,     0.46046,     0.46146,     0.46246,     0.46346,     0.46446,     0.46547,     0.46647,     0.46747,     0.46847,     0.46947,     0.47047,     0.47147,     0.47247,     0.47347,     0.47447,     0.47548,     0.47648,     0.47748,     0.47848,     0.47948,\n",
       "           0.48048,     0.48148,     0.48248,     0.48348,     0.48448,     0.48549,     0.48649,     0.48749,     0.48849,     0.48949,     0.49049,     0.49149,     0.49249,     0.49349,     0.49449,      0.4955,      0.4965,      0.4975,      0.4985,      0.4995,      0.5005,      0.5015,      0.5025,      0.5035,\n",
       "            0.5045,     0.50551,     0.50651,     0.50751,     0.50851,     0.50951,     0.51051,     0.51151,     0.51251,     0.51351,     0.51451,     0.51552,     0.51652,     0.51752,     0.51852,     0.51952,     0.52052,     0.52152,     0.52252,     0.52352,     0.52452,     0.52553,     0.52653,     0.52753,\n",
       "           0.52853,     0.52953,     0.53053,     0.53153,     0.53253,     0.53353,     0.53453,     0.53554,     0.53654,     0.53754,     0.53854,     0.53954,     0.54054,     0.54154,     0.54254,     0.54354,     0.54454,     0.54555,     0.54655,     0.54755,     0.54855,     0.54955,     0.55055,     0.55155,\n",
       "           0.55255,     0.55355,     0.55455,     0.55556,     0.55656,     0.55756,     0.55856,     0.55956,     0.56056,     0.56156,     0.56256,     0.56356,     0.56456,     0.56557,     0.56657,     0.56757,     0.56857,     0.56957,     0.57057,     0.57157,     0.57257,     0.57357,     0.57457,     0.57558,\n",
       "           0.57658,     0.57758,     0.57858,     0.57958,     0.58058,     0.58158,     0.58258,     0.58358,     0.58458,     0.58559,     0.58659,     0.58759,     0.58859,     0.58959,     0.59059,     0.59159,     0.59259,     0.59359,     0.59459,      0.5956,      0.5966,      0.5976,      0.5986,      0.5996,\n",
       "            0.6006,      0.6016,      0.6026,      0.6036,      0.6046,     0.60561,     0.60661,     0.60761,     0.60861,     0.60961,     0.61061,     0.61161,     0.61261,     0.61361,     0.61461,     0.61562,     0.61662,     0.61762,     0.61862,     0.61962,     0.62062,     0.62162,     0.62262,     0.62362,\n",
       "           0.62462,     0.62563,     0.62663,     0.62763,     0.62863,     0.62963,     0.63063,     0.63163,     0.63263,     0.63363,     0.63463,     0.63564,     0.63664,     0.63764,     0.63864,     0.63964,     0.64064,     0.64164,     0.64264,     0.64364,     0.64464,     0.64565,     0.64665,     0.64765,\n",
       "           0.64865,     0.64965,     0.65065,     0.65165,     0.65265,     0.65365,     0.65465,     0.65566,     0.65666,     0.65766,     0.65866,     0.65966,     0.66066,     0.66166,     0.66266,     0.66366,     0.66466,     0.66567,     0.66667,     0.66767,     0.66867,     0.66967,     0.67067,     0.67167,\n",
       "           0.67267,     0.67367,     0.67467,     0.67568,     0.67668,     0.67768,     0.67868,     0.67968,     0.68068,     0.68168,     0.68268,     0.68368,     0.68468,     0.68569,     0.68669,     0.68769,     0.68869,     0.68969,     0.69069,     0.69169,     0.69269,     0.69369,     0.69469,      0.6957,\n",
       "            0.6967,      0.6977,      0.6987,      0.6997,      0.7007,      0.7017,      0.7027,      0.7037,      0.7047,     0.70571,     0.70671,     0.70771,     0.70871,     0.70971,     0.71071,     0.71171,     0.71271,     0.71371,     0.71471,     0.71572,     0.71672,     0.71772,     0.71872,     0.71972,\n",
       "           0.72072,     0.72172,     0.72272,     0.72372,     0.72472,     0.72573,     0.72673,     0.72773,     0.72873,     0.72973,     0.73073,     0.73173,     0.73273,     0.73373,     0.73473,     0.73574,     0.73674,     0.73774,     0.73874,     0.73974,     0.74074,     0.74174,     0.74274,     0.74374,\n",
       "           0.74474,     0.74575,     0.74675,     0.74775,     0.74875,     0.74975,     0.75075,     0.75175,     0.75275,     0.75375,     0.75475,     0.75576,     0.75676,     0.75776,     0.75876,     0.75976,     0.76076,     0.76176,     0.76276,     0.76376,     0.76476,     0.76577,     0.76677,     0.76777,\n",
       "           0.76877,     0.76977,     0.77077,     0.77177,     0.77277,     0.77377,     0.77477,     0.77578,     0.77678,     0.77778,     0.77878,     0.77978,     0.78078,     0.78178,     0.78278,     0.78378,     0.78478,     0.78579,     0.78679,     0.78779,     0.78879,     0.78979,     0.79079,     0.79179,\n",
       "           0.79279,     0.79379,     0.79479,      0.7958,      0.7968,      0.7978,      0.7988,      0.7998,      0.8008,      0.8018,      0.8028,      0.8038,      0.8048,     0.80581,     0.80681,     0.80781,     0.80881,     0.80981,     0.81081,     0.81181,     0.81281,     0.81381,     0.81481,     0.81582,\n",
       "           0.81682,     0.81782,     0.81882,     0.81982,     0.82082,     0.82182,     0.82282,     0.82382,     0.82482,     0.82583,     0.82683,     0.82783,     0.82883,     0.82983,     0.83083,     0.83183,     0.83283,     0.83383,     0.83483,     0.83584,     0.83684,     0.83784,     0.83884,     0.83984,\n",
       "           0.84084,     0.84184,     0.84284,     0.84384,     0.84484,     0.84585,     0.84685,     0.84785,     0.84885,     0.84985,     0.85085,     0.85185,     0.85285,     0.85385,     0.85485,     0.85586,     0.85686,     0.85786,     0.85886,     0.85986,     0.86086,     0.86186,     0.86286,     0.86386,\n",
       "           0.86486,     0.86587,     0.86687,     0.86787,     0.86887,     0.86987,     0.87087,     0.87187,     0.87287,     0.87387,     0.87487,     0.87588,     0.87688,     0.87788,     0.87888,     0.87988,     0.88088,     0.88188,     0.88288,     0.88388,     0.88488,     0.88589,     0.88689,     0.88789,\n",
       "           0.88889,     0.88989,     0.89089,     0.89189,     0.89289,     0.89389,     0.89489,      0.8959,      0.8969,      0.8979,      0.8989,      0.8999,      0.9009,      0.9019,      0.9029,      0.9039,      0.9049,     0.90591,     0.90691,     0.90791,     0.90891,     0.90991,     0.91091,     0.91191,\n",
       "           0.91291,     0.91391,     0.91491,     0.91592,     0.91692,     0.91792,     0.91892,     0.91992,     0.92092,     0.92192,     0.92292,     0.92392,     0.92492,     0.92593,     0.92693,     0.92793,     0.92893,     0.92993,     0.93093,     0.93193,     0.93293,     0.93393,     0.93493,     0.93594,\n",
       "           0.93694,     0.93794,     0.93894,     0.93994,     0.94094,     0.94194,     0.94294,     0.94394,     0.94494,     0.94595,     0.94695,     0.94795,     0.94895,     0.94995,     0.95095,     0.95195,     0.95295,     0.95395,     0.95495,     0.95596,     0.95696,     0.95796,     0.95896,     0.95996,\n",
       "           0.96096,     0.96196,     0.96296,     0.96396,     0.96496,     0.96597,     0.96697,     0.96797,     0.96897,     0.96997,     0.97097,     0.97197,     0.97297,     0.97397,     0.97497,     0.97598,     0.97698,     0.97798,     0.97898,     0.97998,     0.98098,     0.98198,     0.98298,     0.98398,\n",
       "           0.98498,     0.98599,     0.98699,     0.98799,     0.98899,     0.98999,     0.99099,     0.99199,     0.99299,     0.99399,     0.99499,       0.996,       0.997,       0.998,       0.999,           1]), array([[    0.98799,     0.98799,     0.98481,     0.98375,     0.98199,     0.97951,     0.97775,     0.97739,     0.97598,     0.97527,     0.97315,     0.97245,     0.97209,     0.97174,     0.97068,     0.96927,     0.96927,     0.96856,      0.9675,      0.9675,     0.96715,     0.96633,     0.96574,\n",
       "            0.96503,     0.96468,     0.96432,     0.96432,     0.96432,     0.96397,     0.96326,     0.96326,     0.96256,     0.96256,      0.9622,      0.9615,      0.9615,     0.96114,     0.96114,     0.96079,     0.96079,     0.96079,     0.96008,     0.96008,     0.95973,     0.95973,     0.95973,\n",
       "            0.95973,     0.95973,     0.95903,     0.95903,     0.95903,     0.95903,     0.95832,     0.95832,     0.95797,     0.95761,     0.95726,     0.95691,     0.95479,     0.95443,     0.95443,     0.95443,     0.95415,     0.95408,     0.95408,     0.95373,     0.95337,     0.95337,     0.95267,\n",
       "            0.95267,     0.95196,      0.9509,      0.9509,     0.95019,     0.94984,     0.94984,     0.94984,     0.94984,     0.94949,     0.94949,     0.94913,     0.94913,     0.94913,     0.94905,     0.94843,     0.94807,     0.94807,     0.94807,     0.94772,     0.94772,     0.94666,     0.94666,\n",
       "            0.94666,     0.94666,     0.94631,     0.94631,     0.94614,      0.9456,     0.94525,     0.94525,     0.94525,     0.94525,     0.94525,     0.94525,     0.94525,      0.9449,     0.94454,     0.94384,     0.94348,     0.94348,     0.94313,     0.94278,     0.94278,     0.94278,     0.94242,\n",
       "            0.94207,     0.94136,     0.94101,     0.94066,     0.93995,     0.93995,     0.93995,      0.9396,     0.93924,     0.93854,     0.93818,     0.93804,     0.93748,     0.93677,     0.93677,     0.93677,     0.93606,     0.93536,     0.93536,     0.93465,     0.93438,     0.93359,     0.93359,\n",
       "            0.93359,     0.93324,     0.93289,     0.93289,     0.93289,     0.93253,     0.93253,     0.93253,     0.93218,     0.93183,     0.93147,     0.93147,     0.93112,     0.93077,     0.93067,     0.93041,     0.93041,     0.92971,     0.92971,     0.92971,     0.92971,     0.92865,     0.92865,\n",
       "            0.92829,     0.92794,     0.92794,     0.92794,     0.92751,     0.92721,     0.92688,     0.92688,     0.92688,     0.92688,     0.92653,     0.92653,     0.92653,     0.92653,     0.92653,     0.92653,     0.92653,     0.92653,     0.92653,     0.92645,     0.92617,     0.92617,     0.92606,\n",
       "            0.92547,     0.92547,     0.92511,     0.92441,     0.92415,      0.9237,      0.9237,     0.92335,     0.92229,     0.92158,     0.92123,     0.92063,     0.92017,     0.92017,     0.92017,      0.9199,     0.91967,     0.91911,     0.91911,     0.91876,     0.91876,     0.91876,     0.91876,\n",
       "            0.91876,     0.91876,     0.91876,     0.91805,     0.91805,     0.91805,      0.9177,     0.91734,     0.91734,     0.91699,     0.91699,     0.91628,     0.91628,     0.91593,     0.91593,     0.91548,     0.91522,     0.91522,     0.91522,     0.91515,     0.91452,     0.91416,     0.91326,\n",
       "             0.9131,      0.9131,      0.9131,      0.9131,     0.91283,     0.91275,     0.91275,      0.9124,     0.91205,     0.91205,     0.91169,     0.91169,     0.91169,     0.91169,     0.91141,     0.91134,     0.91134,     0.91134,     0.91087,     0.91063,     0.91009,     0.90957,     0.90957,\n",
       "            0.90922,     0.90922,     0.90922,     0.90915,     0.90831,     0.90816,     0.90745,     0.90745,     0.90745,     0.90745,     0.90745,     0.90745,     0.90745,     0.90745,     0.90745,      0.9071,      0.9071,      0.9071,     0.90675,     0.90639,     0.90639,     0.90639,     0.90639,\n",
       "            0.90639,     0.90639,     0.90604,     0.90604,     0.90569,     0.90569,     0.90569,     0.90498,     0.90498,     0.90498,     0.90441,     0.90427,     0.90392,     0.90392,     0.90392,     0.90379,     0.90357,     0.90327,     0.90286,     0.90286,     0.90286,     0.90251,     0.90251,\n",
       "            0.90251,     0.90251,     0.90251,     0.90251,     0.90251,     0.90215,     0.90215,     0.90215,     0.90215,      0.9018,     0.90134,     0.90039,     0.90004,     0.89933,     0.89898,     0.89898,     0.89898,     0.89898,     0.89862,     0.89862,     0.89792,     0.89779,     0.89756,\n",
       "            0.89756,     0.89756,     0.89721,     0.89721,     0.89721,     0.89665,      0.8965,      0.8965,      0.8965,      0.8965,      0.8965,      0.8965,      0.8965,     0.89619,     0.89583,      0.8958,      0.8958,      0.8958,      0.8958,     0.89544,     0.89544,     0.89474,     0.89474,\n",
       "            0.89467,     0.89438,     0.89438,     0.89438,     0.89438,     0.89438,     0.89368,     0.89368,     0.89368,     0.89355,     0.89297,     0.89226,     0.89226,     0.89158,     0.89156,      0.8905,      0.8904,     0.89014,     0.88979,     0.88887,     0.88873,     0.88815,     0.88803,\n",
       "            0.88732,     0.88697,     0.88626,     0.88626,     0.88615,     0.88555,     0.88534,      0.8852,      0.8852,     0.88488,     0.88414,     0.88414,     0.88343,     0.88308,     0.88303,     0.88284,     0.88273,     0.88273,     0.88214,     0.88143,     0.88119,     0.88101,     0.88096,\n",
       "            0.88096,     0.88061,      0.8799,     0.87879,     0.87835,     0.87764,     0.87743,     0.87743,     0.87743,     0.87743,     0.87743,     0.87743,     0.87708,     0.87677,     0.87637,     0.87605,     0.87566,     0.87523,     0.87452,      0.8739,     0.87385,     0.87366,     0.87342,\n",
       "            0.87302,     0.87248,     0.87225,     0.87213,     0.87213,     0.87187,     0.87142,     0.87142,     0.87142,     0.87001,     0.86962,     0.86824,     0.86824,     0.86789,     0.86754,     0.86745,     0.86683,     0.86542,     0.86542,     0.86542,     0.86542,     0.86488,     0.86413,\n",
       "            0.86365,     0.86295,     0.86198,     0.86175,     0.86157,     0.86054,     0.86012,     0.86012,     0.85981,     0.85977,     0.85977,     0.85977,     0.85942,      0.8587,     0.85834,     0.85764,     0.85746,     0.85689,     0.85659,     0.85623,     0.85588,     0.85572,     0.85553,\n",
       "            0.85464,     0.85412,     0.85341,     0.85341,     0.85143,     0.85071,     0.85058,     0.85034,     0.84962,     0.84904,     0.84886,     0.84882,     0.84747,      0.8474,      0.8474,     0.84674,      0.8467,     0.84583,     0.84564,     0.84529,     0.84528,     0.84493,     0.84493,\n",
       "            0.84455,      0.8442,     0.84402,     0.84346,     0.84281,     0.84277,     0.84259,     0.84211,     0.84211,     0.84164,     0.84128,     0.84069,     0.84034,     0.83984,     0.83928,     0.83876,     0.83857,     0.83716,     0.83697,     0.83681,      0.8361,     0.83553,     0.83517,\n",
       "            0.83504,     0.83409,     0.83373,     0.83337,     0.83292,     0.83229,     0.83193,     0.83121,     0.83085,     0.82978,     0.82974,     0.82939,     0.82904,     0.82868,     0.82832,      0.8269,     0.82654,      0.8255,     0.82515,     0.82515,     0.82441,     0.82423,     0.82402,\n",
       "            0.82365,     0.82232,     0.82232,     0.82221,      0.8215,     0.82043,     0.81936,     0.81773,     0.81773,     0.81757,      0.8165,     0.81578,     0.81507,       0.814,     0.81339,     0.81321,     0.81314,      0.8122,     0.81184,     0.81137,     0.81067,     0.81018,        0.81,\n",
       "            0.80861,      0.8079,     0.80643,     0.80643,     0.80505,     0.80466,     0.80466,     0.80466,     0.80466,     0.80412,     0.80376,     0.80315,     0.80296,     0.80243,     0.80225,     0.80113,     0.80113,     0.80113,     0.80086,     0.79972,     0.79908,      0.7973,     0.79694,\n",
       "            0.79603,     0.79585,     0.79477,     0.79477,     0.79336,     0.79301,     0.79301,      0.7923,      0.7923,     0.79173,     0.79159,     0.79101,     0.79029,     0.78877,     0.78851,     0.78771,     0.78771,     0.78707,      0.7867,     0.78528,     0.78492,     0.78368,     0.78312,\n",
       "            0.78312,     0.78259,     0.78223,       0.781,      0.7808,     0.77902,     0.77888,     0.77888,     0.77829,     0.77704,      0.7746,     0.77442,     0.77278,     0.77242,     0.77135,     0.77099,     0.77075,     0.77061,     0.77011,     0.76971,     0.76794,     0.76758,     0.76704,\n",
       "            0.76544,     0.76508,     0.76436,     0.76404,     0.76275,     0.76239,     0.76062,      0.7598,     0.75777,     0.75733,     0.75634,     0.75545,     0.75521,     0.75409,      0.7539,     0.75294,     0.75243,     0.75132,     0.75062,     0.74955,     0.74813,     0.74777,     0.74673,\n",
       "             0.7451,     0.74439,     0.74402,     0.74225,     0.74153,     0.73923,     0.73851,     0.73815,     0.73755,     0.73695,     0.73649,     0.73547,      0.7344,     0.73368,     0.73315,     0.73119,     0.73065,     0.72817,     0.72659,     0.72641,     0.72479,     0.72372,     0.72224,\n",
       "            0.72106,     0.71928,     0.71892,     0.71706,     0.71625,     0.71589,     0.71505,     0.71428,     0.71357,     0.71318,     0.71106,     0.70983,     0.70876,     0.70681,     0.70574,     0.70432,     0.70181,      0.7013,     0.70023,     0.69916,     0.69792,     0.69622,     0.69622,\n",
       "             0.6956,     0.69523,     0.69346,     0.69221,     0.69079,     0.68959,     0.68777,     0.68564,     0.68263,     0.68192,     0.68067,     0.67925,     0.67816,     0.67704,     0.67686,     0.67462,     0.67216,     0.67192,     0.66912,     0.66796,     0.66645,     0.66503,     0.66478,\n",
       "            0.66378,     0.66271,     0.66019,     0.65884,     0.65809,     0.65632,     0.65436,       0.654,      0.6517,     0.65028,     0.65004,     0.64902,     0.64707,     0.64641,     0.64511,     0.64245,     0.64209,     0.64093,     0.64048,     0.63782,     0.63487,      0.6341,     0.63172,\n",
       "            0.63143,     0.62985,     0.62947,     0.62681,     0.62345,     0.62272,     0.61866,     0.61759,     0.61564,      0.6117,     0.61144,      0.6082,      0.6065,     0.60615,     0.60393,     0.60261,     0.60197,     0.59896,     0.59741,     0.59665,     0.59455,     0.59204,     0.58938,\n",
       "            0.58743,     0.58459,     0.58264,     0.58001,     0.57959,     0.57679,     0.57355,     0.57235,     0.56969,     0.56643,     0.56332,      0.5618,     0.55889,     0.55481,     0.55398,     0.54915,     0.54688,     0.54648,      0.5426,     0.54152,     0.53798,     0.53619,     0.53325,\n",
       "            0.53192,     0.52999,     0.52411,     0.52291,     0.51842,     0.51653,     0.51344,     0.51157,      0.5098,     0.50564,     0.50328,     0.50304,     0.50128,      0.4982,     0.49332,     0.49018,     0.48994,     0.48758,     0.48233,     0.47744,     0.47507,     0.47119,     0.47095,\n",
       "            0.46816,      0.4647,      0.4609,     0.45809,     0.45785,     0.45398,     0.45018,     0.44779,     0.44283,     0.43863,     0.43839,      0.4338,     0.42895,     0.42477,     0.42052,     0.41457,     0.40973,     0.40725,     0.40443,     0.40419,     0.39892,     0.39503,     0.38945,\n",
       "            0.38636,      0.3807,      0.3761,     0.37118,     0.37094,     0.36636,     0.36246,     0.35715,     0.35397,     0.34842,     0.34318,     0.33751,     0.33221,     0.32619,     0.32124,      0.3177,      0.3131,     0.30999,     0.30831,      0.3023,     0.29664,     0.29168,     0.28532,\n",
       "            0.28107,     0.27647,     0.27328,     0.26727,     0.26231,     0.25912,     0.25382,      0.2478,     0.24355,     0.23383,     0.22994,      0.2211,     0.21473,     0.21084,     0.20871,     0.20305,     0.19661,     0.19226,     0.18872,     0.18411,     0.17881,     0.16449,      0.1606,\n",
       "            0.15494,     0.14772,      0.1445,     0.14131,     0.13424,     0.12734,     0.12097,      0.1109,     0.10524,     0.10131,    0.099392,    0.094438,     0.08966,    0.086756,    0.082048,    0.079213,    0.074436,    0.073262,    0.068943,    0.064872,    0.062965,    0.060086,    0.056015,\n",
       "           0.054082,    0.051228,    0.046098,    0.042372,    0.040075,    0.036711,    0.034901,    0.031041,    0.028154,    0.026608,    0.023527,    0.021998,    0.018546,    0.016152,    0.014979,    0.014015,     0.01353,    0.012453,   0.0095733,   0.0081788,   0.0076037,   0.0074226,   0.0063596,\n",
       "          0.0051753,   0.0049283,    0.004592,   0.0042041,   0.0037986,   0.0033034,   0.0030206,   0.0028119,   0.0027394,    0.002667,   0.0025946,   0.0025222,   0.0022442,   0.0020766,   0.0020249,   0.0019731,   0.0019214,   0.0018697,    0.001818,   0.0017662,   0.0011719,  0.00096281,  0.00078178,\n",
       "         0.00049502,           0,           0,           0,           0,           0,           0,           0,           0,           0,           0,           0,           0,           0,           0,           0,           0,           0,           0,           0,           0,           0,           0,\n",
       "                  0,           0,           0,           0,           0,           0,           0,           0,           0,           0,           0,           0,           0,           0,           0,           0,           0,           0,           0,           0,           0,           0,           0,\n",
       "                  0,           0,           0,           0,           0,           0,           0,           0,           0,           0,           0]]), 'Confidence', 'Recall']]\n",
       "fitness: 0.6623162501225512\n",
       "keys: ['metrics/precision(B)', 'metrics/recall(B)', 'metrics/mAP50(B)', 'metrics/mAP50-95(B)']\n",
       "maps: array([    0.63158])\n",
       "names: {0: 'apple'}\n",
       "plot: True\n",
       "results_dict: {'metrics/precision(B)': 0.8956772939104483, 'metrics/recall(B)': 0.8734244665011178, 'metrics/mAP50(B)': 0.9389855686868472, 'metrics/mAP50-95(B)': 0.6315752147265183, 'fitness': 0.6623162501225512}\n",
       "save_dir: WindowsPath('runs/detect/train')\n",
       "speed: {'preprocess': 0.29225730895996094, 'inference': 1.5909833908081055, 'loss': 0.0, 'postprocess': 0.9249801635742188}\n",
       "task: 'detect'"
      ]
     },
     "execution_count": 2,
     "metadata": {},
     "output_type": "execute_result"
    }
   ],
   "source": [
    "from ultralytics import YOLO\n",
    "\n",
    "# Carregar o modelo YOLO11 afinado\n",
    "#model = YOLO('C:\\\\Users\\\\píchau\\\\Documents\\\\TCC\\\\yolov8-env\\\\runs\\\\detect\\\\tune_prep\\\\weights\\\\best.pt')\n",
    "model = YOLO('yolo11n.pt')\n",
    "# Iniciar o treinamento\n",
    "model.train(data='C:\\\\Users\\\\píchau\\\\Documents\\\\TCC\\\\dataset_preprocessed.yaml', epochs=1000)"
   ]
  },
  {
   "cell_type": "markdown",
   "metadata": {},
   "source": [
    "# Testes"
   ]
  },
  {
   "cell_type": "code",
   "execution_count": 2,
   "metadata": {},
   "outputs": [
    {
     "name": "stdout",
     "output_type": "stream",
     "text": [
      "Ultralytics 8.3.15  Python-3.12.2 torch-2.5.0+cu118 CUDA:0 (NVIDIA GeForce RTX 4060, 8188MiB)\n",
      "Model summary (fused): 186 layers, 2,684,563 parameters, 0 gradients, 6.8 GFLOPs\n"
     ]
    },
    {
     "name": "stderr",
     "output_type": "stream",
     "text": [
      "\u001b[34m\u001b[1mval: \u001b[0mScanning C:\\Users\\píchau\\Documents\\TCC\\dataset\\labels\\val.cache... 252 images, 0 backgrounds, 0 corrupt: 100%|██████████| 252/252 [00:00<?, ?it/s]\n",
      "                 Class     Images  Instances      Box(P          R      mAP50  mAP50-95): 100%|██████████| 16/16 [00:08<00:00,  1.87it/s]\n"
     ]
    },
    {
     "name": "stdout",
     "output_type": "stream",
     "text": [
      "                   all        252       2933       0.89      0.843      0.897      0.644\n",
      "Speed: 1.3ms preprocess, 4.0ms inference, 0.0ms loss, 1.3ms postprocess per image\n",
      "Saving runs\\test\\val\\predictions.json...\n",
      "Results saved to \u001b[1mruns\\test\\val\u001b[0m\n"
     ]
    }
   ],
   "source": [
    "from ultralytics import YOLO\n",
    "\n",
    "# Carregar o modelo treinado\n",
    "model = YOLO('C:\\\\Users\\\\píchau\\\\Documents\\\\TCC\\\\yolov8-env\\\\runs\\\\detect\\\\train_v8\\\\weights\\\\best.pt')\n",
    "'''\n",
    "# Executar a inferência nas imagens de teste\n",
    "results = model.predict(source='C:\\\\Users\\\\píchau\\\\Documents\\\\TCC\\\\dataset\\\\images\\\\test',  # Altere para o diretório das imagens de teste\n",
    "                        conf=0.5,  # Confiança mínima para detectar objetos\n",
    "                        save=True,  # Salvar resultados em arquivos\n",
    "                        save_txt=True,  # Salvar resultados em arquivos TXT\n",
    "                        show=False)  # Mostrar resultados na tela\n",
    "'''\n",
    "valid = model.val(imgsz=640, conf=0.35, iou=0.5, save_json=True, save_txt=True, task='test')"
   ]
  }
 ],
 "metadata": {
  "kernelspec": {
   "display_name": "yolov8-env",
   "language": "python",
   "name": "python3"
  },
  "language_info": {
   "codemirror_mode": {
    "name": "ipython",
    "version": 3
   },
   "file_extension": ".py",
   "mimetype": "text/x-python",
   "name": "python",
   "nbconvert_exporter": "python",
   "pygments_lexer": "ipython3",
   "version": "3.12.2"
  }
 },
 "nbformat": 4,
 "nbformat_minor": 2
}
