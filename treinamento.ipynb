{
 "cells": [
  {
   "cell_type": "markdown",
   "metadata": {},
   "source": [
    "# Treinamento"
   ]
  },
  {
   "cell_type": "code",
   "execution_count": null,
   "metadata": {},
   "outputs": [
    {
     "name": "stdout",
     "output_type": "stream",
     "text": [
      "\u001b[34m\u001b[1mTuner: \u001b[0mInitialized Tuner instance with 'tune_dir=runs\\detect\\tune'\n",
      "\u001b[34m\u001b[1mTuner: \u001b[0m Learn about tuning at https://docs.ultralytics.com/guides/hyperparameter-tuning\n",
      "\u001b[34m\u001b[1mTuner: \u001b[0mStarting iteration 1/300 with hyperparameters: {'lr0': 0.01, 'lrf': 0.01, 'momentum': 0.937, 'weight_decay': 0.0005, 'warmup_epochs': 3.0, 'warmup_momentum': 0.8, 'box': 7.5, 'cls': 0.5, 'dfl': 1.5, 'hsv_h': 0.015, 'hsv_s': 0.7, 'hsv_v': 0.4, 'degrees': 0.0, 'translate': 0.1, 'scale': 0.5, 'shear': 0.0, 'perspective': 0.0, 'flipud': 0.0, 'fliplr': 0.5, 'bgr': 0.0, 'mosaic': 1.0, 'mixup': 0.0, 'copy_paste': 0.0}\n",
      "Saved runs\\detect\\tune\\tune_scatter_plots.png\n",
      "Saved runs\\detect\\tune\\tune_fitness.png\n",
      "\n",
      "\u001b[34m\u001b[1mTuner: \u001b[0m1/300 iterations complete  (394.87s)\n",
      "\u001b[34m\u001b[1mTuner: \u001b[0mResults saved to \u001b[1mruns\\detect\\tune\u001b[0m\n",
      "\u001b[34m\u001b[1mTuner: \u001b[0mBest fitness=0.63946 observed at iteration 1\n",
      "\u001b[34m\u001b[1mTuner: \u001b[0mBest fitness metrics are {'metrics/precision(B)': 0.88633, 'metrics/recall(B)': 0.82444, 'metrics/mAP50(B)': 0.91891, 'metrics/mAP50-95(B)': 0.60841, 'val/box_loss': 1.20376, 'val/cls_loss': 0.70545, 'val/dfl_loss': 1.18977, 'fitness': 0.63946}\n",
      "\u001b[34m\u001b[1mTuner: \u001b[0mBest fitness model is runs\\detect\\train3\n",
      "\u001b[34m\u001b[1mTuner: \u001b[0mBest fitness hyperparameters are printed below.\n",
      "\n",
      "Printing '\u001b[1m\u001b[30mruns\\detect\\tune\\best_hyperparameters.yaml\u001b[0m'\n",
      "\n",
      "lr0: 0.01\n",
      "lrf: 0.01\n",
      "momentum: 0.937\n",
      "weight_decay: 0.0005\n",
      "warmup_epochs: 3.0\n",
      "warmup_momentum: 0.8\n",
      "box: 7.5\n",
      "cls: 0.5\n",
      "dfl: 1.5\n",
      "hsv_h: 0.015\n",
      "hsv_s: 0.7\n",
      "hsv_v: 0.4\n",
      "degrees: 0.0\n",
      "translate: 0.1\n",
      "scale: 0.5\n",
      "shear: 0.0\n",
      "perspective: 0.0\n",
      "flipud: 0.0\n",
      "fliplr: 0.5\n",
      "bgr: 0.0\n",
      "mosaic: 1.0\n",
      "mixup: 0.0\n",
      "copy_paste: 0.0\n",
      "\n",
      "\u001b[34m\u001b[1mTuner: \u001b[0mStarting iteration 2/300 with hyperparameters: {'lr0': 0.00953, 'lrf': 0.01042, 'momentum': 0.93701, 'weight_decay': 0.0005, 'warmup_epochs': 3.35748, 'warmup_momentum': 0.81988, 'box': 7.25154, 'cls': 0.51224, 'dfl': 1.35028, 'hsv_h': 0.015, 'hsv_s': 0.75858, 'hsv_v': 0.4, 'degrees': 0.0, 'translate': 0.11502, 'scale': 0.49119, 'shear': 0.0, 'perspective': 0.0, 'flipud': 0.0, 'fliplr': 0.5, 'bgr': 0.0, 'mosaic': 0.95767, 'mixup': 0.0, 'copy_paste': 0.0}\n",
      "Saved runs\\detect\\tune\\tune_scatter_plots.png\n",
      "Saved runs\\detect\\tune\\tune_fitness.png\n",
      "\n",
      "\u001b[34m\u001b[1mTuner: \u001b[0m2/300 iterations complete  (826.78s)\n",
      "\u001b[34m\u001b[1mTuner: \u001b[0mResults saved to \u001b[1mruns\\detect\\tune\u001b[0m\n",
      "\u001b[34m\u001b[1mTuner: \u001b[0mBest fitness=0.645 observed at iteration 2\n",
      "\u001b[34m\u001b[1mTuner: \u001b[0mBest fitness metrics are {'metrics/precision(B)': 0.87466, 'metrics/recall(B)': 0.83716, 'metrics/mAP50(B)': 0.91842, 'metrics/mAP50-95(B)': 0.61462, 'val/box_loss': 1.15464, 'val/cls_loss': 0.70591, 'val/dfl_loss': 1.05917, 'fitness': 0.645}\n",
      "\u001b[34m\u001b[1mTuner: \u001b[0mBest fitness model is runs\\detect\\train4\n",
      "\u001b[34m\u001b[1mTuner: \u001b[0mBest fitness hyperparameters are printed below.\n",
      "\n",
      "Printing '\u001b[1m\u001b[30mruns\\detect\\tune\\best_hyperparameters.yaml\u001b[0m'\n",
      "\n",
      "lr0: 0.00953\n",
      "lrf: 0.01042\n",
      "momentum: 0.93701\n",
      "weight_decay: 0.0005\n",
      "warmup_epochs: 3.35748\n",
      "warmup_momentum: 0.81988\n",
      "box: 7.25154\n",
      "cls: 0.51224\n",
      "dfl: 1.35028\n",
      "hsv_h: 0.015\n",
      "hsv_s: 0.75858\n",
      "hsv_v: 0.4\n",
      "degrees: 0.0\n",
      "translate: 0.11502\n",
      "scale: 0.49119\n",
      "shear: 0.0\n",
      "perspective: 0.0\n",
      "flipud: 0.0\n",
      "fliplr: 0.5\n",
      "bgr: 0.0\n",
      "mosaic: 0.95767\n",
      "mixup: 0.0\n",
      "copy_paste: 0.0\n",
      "\n",
      "\u001b[34m\u001b[1mTuner: \u001b[0mStarting iteration 3/300 with hyperparameters: {'lr0': 0.00948, 'lrf': 0.01042, 'momentum': 0.93992, 'weight_decay': 0.00049, 'warmup_epochs': 3.3279, 'warmup_momentum': 0.81367, 'box': 7.28784, 'cls': 0.50267, 'dfl': 1.37151, 'hsv_h': 0.01501, 'hsv_s': 0.75858, 'hsv_v': 0.4, 'degrees': 0.0, 'translate': 0.11436, 'scale': 0.48745, 'shear': 0.0, 'perspective': 0.0, 'flipud': 0.0, 'fliplr': 0.49552, 'bgr': 0.0, 'mosaic': 0.95767, 'mixup': 0.0, 'copy_paste': 0.0}\n",
      "Saved runs\\detect\\tune\\tune_scatter_plots.png\n",
      "Saved runs\\detect\\tune\\tune_fitness.png\n",
      "\n",
      "\u001b[34m\u001b[1mTuner: \u001b[0m3/300 iterations complete  (1217.01s)\n",
      "\u001b[34m\u001b[1mTuner: \u001b[0mResults saved to \u001b[1mruns\\detect\\tune\u001b[0m\n",
      "\u001b[34m\u001b[1mTuner: \u001b[0mBest fitness=0.645 observed at iteration 2\n",
      "\u001b[34m\u001b[1mTuner: \u001b[0mBest fitness metrics are {'metrics/precision(B)': 0.87466, 'metrics/recall(B)': 0.83716, 'metrics/mAP50(B)': 0.91842, 'metrics/mAP50-95(B)': 0.61462, 'val/box_loss': 1.15464, 'val/cls_loss': 0.70591, 'val/dfl_loss': 1.05917, 'fitness': 0.645}\n",
      "\u001b[34m\u001b[1mTuner: \u001b[0mBest fitness model is runs\\detect\\train4\n",
      "\u001b[34m\u001b[1mTuner: \u001b[0mBest fitness hyperparameters are printed below.\n",
      "\n",
      "Printing '\u001b[1m\u001b[30mruns\\detect\\tune\\best_hyperparameters.yaml\u001b[0m'\n",
      "\n",
      "lr0: 0.00953\n",
      "lrf: 0.01042\n",
      "momentum: 0.93701\n",
      "weight_decay: 0.0005\n",
      "warmup_epochs: 3.35748\n",
      "warmup_momentum: 0.81988\n",
      "box: 7.25154\n",
      "cls: 0.51224\n",
      "dfl: 1.35028\n",
      "hsv_h: 0.015\n",
      "hsv_s: 0.75858\n",
      "hsv_v: 0.4\n",
      "degrees: 0.0\n",
      "translate: 0.11502\n",
      "scale: 0.49119\n",
      "shear: 0.0\n",
      "perspective: 0.0\n",
      "flipud: 0.0\n",
      "fliplr: 0.5\n",
      "bgr: 0.0\n",
      "mosaic: 0.95767\n",
      "mixup: 0.0\n",
      "copy_paste: 0.0\n",
      "\n",
      "\u001b[34m\u001b[1mTuner: \u001b[0mStarting iteration 4/300 with hyperparameters: {'lr0': 0.00957, 'lrf': 0.01104, 'momentum': 0.94081, 'weight_decay': 0.0005, 'warmup_epochs': 3.29107, 'warmup_momentum': 0.87008, 'box': 6.87107, 'cls': 0.52739, 'dfl': 1.27572, 'hsv_h': 0.01482, 'hsv_s': 0.7755, 'hsv_v': 0.4, 'degrees': 0.0, 'translate': 0.11502, 'scale': 0.51215, 'shear': 0.0, 'perspective': 0.0, 'flipud': 0.0, 'fliplr': 0.44059, 'bgr': 0.0, 'mosaic': 1.0, 'mixup': 0.0, 'copy_paste': 0.0}\n",
      "Saved runs\\detect\\tune\\tune_scatter_plots.png\n",
      "Saved runs\\detect\\tune\\tune_fitness.png\n",
      "\n",
      "\u001b[34m\u001b[1mTuner: \u001b[0m4/300 iterations complete  (1603.77s)\n",
      "\u001b[34m\u001b[1mTuner: \u001b[0mResults saved to \u001b[1mruns\\detect\\tune\u001b[0m\n",
      "\u001b[34m\u001b[1mTuner: \u001b[0mBest fitness=0.645 observed at iteration 2\n",
      "\u001b[34m\u001b[1mTuner: \u001b[0mBest fitness metrics are {'metrics/precision(B)': 0.87466, 'metrics/recall(B)': 0.83716, 'metrics/mAP50(B)': 0.91842, 'metrics/mAP50-95(B)': 0.61462, 'val/box_loss': 1.15464, 'val/cls_loss': 0.70591, 'val/dfl_loss': 1.05917, 'fitness': 0.645}\n",
      "\u001b[34m\u001b[1mTuner: \u001b[0mBest fitness model is runs\\detect\\train4\n",
      "\u001b[34m\u001b[1mTuner: \u001b[0mBest fitness hyperparameters are printed below.\n",
      "\n",
      "Printing '\u001b[1m\u001b[30mruns\\detect\\tune\\best_hyperparameters.yaml\u001b[0m'\n",
      "\n",
      "lr0: 0.00953\n",
      "lrf: 0.01042\n",
      "momentum: 0.93701\n",
      "weight_decay: 0.0005\n",
      "warmup_epochs: 3.35748\n",
      "warmup_momentum: 0.81988\n",
      "box: 7.25154\n",
      "cls: 0.51224\n",
      "dfl: 1.35028\n",
      "hsv_h: 0.015\n",
      "hsv_s: 0.75858\n",
      "hsv_v: 0.4\n",
      "degrees: 0.0\n",
      "translate: 0.11502\n",
      "scale: 0.49119\n",
      "shear: 0.0\n",
      "perspective: 0.0\n",
      "flipud: 0.0\n",
      "fliplr: 0.5\n",
      "bgr: 0.0\n",
      "mosaic: 0.95767\n",
      "mixup: 0.0\n",
      "copy_paste: 0.0\n",
      "\n",
      "\u001b[34m\u001b[1mTuner: \u001b[0mStarting iteration 5/300 with hyperparameters: {'lr0': 0.0065, 'lrf': 0.01199, 'momentum': 0.91916, 'weight_decay': 0.0005, 'warmup_epochs': 2.69256, 'warmup_momentum': 0.67657, 'box': 7.21712, 'cls': 0.5063, 'dfl': 1.35028, 'hsv_h': 0.01563, 'hsv_s': 0.86895, 'hsv_v': 0.42102, 'degrees': 0.0, 'translate': 0.11323, 'scale': 0.36983, 'shear': 0.0, 'perspective': 0.0, 'flipud': 0.0, 'fliplr': 0.52414, 'bgr': 0.0, 'mosaic': 1.0, 'mixup': 0.0, 'copy_paste': 0.0}\n",
      "Saved runs\\detect\\tune\\tune_scatter_plots.png\n",
      "Saved runs\\detect\\tune\\tune_fitness.png\n",
      "\n",
      "\u001b[34m\u001b[1mTuner: \u001b[0m5/300 iterations complete  (1986.09s)\n",
      "\u001b[34m\u001b[1mTuner: \u001b[0mResults saved to \u001b[1mruns\\detect\\tune\u001b[0m\n",
      "\u001b[34m\u001b[1mTuner: \u001b[0mBest fitness=0.64611 observed at iteration 5\n",
      "\u001b[34m\u001b[1mTuner: \u001b[0mBest fitness metrics are {'metrics/precision(B)': 0.88598, 'metrics/recall(B)': 0.82617, 'metrics/mAP50(B)': 0.92038, 'metrics/mAP50-95(B)': 0.61563, 'val/box_loss': 1.14461, 'val/cls_loss': 0.68817, 'val/dfl_loss': 1.0473, 'fitness': 0.64611}\n",
      "\u001b[34m\u001b[1mTuner: \u001b[0mBest fitness model is runs\\detect\\train7\n",
      "\u001b[34m\u001b[1mTuner: \u001b[0mBest fitness hyperparameters are printed below.\n",
      "\n",
      "Printing '\u001b[1m\u001b[30mruns\\detect\\tune\\best_hyperparameters.yaml\u001b[0m'\n",
      "\n",
      "lr0: 0.0065\n",
      "lrf: 0.01199\n",
      "momentum: 0.91916\n",
      "weight_decay: 0.0005\n",
      "warmup_epochs: 2.69256\n",
      "warmup_momentum: 0.67657\n",
      "box: 7.21712\n",
      "cls: 0.5063\n",
      "dfl: 1.35028\n",
      "hsv_h: 0.01563\n",
      "hsv_s: 0.86895\n",
      "hsv_v: 0.42102\n",
      "degrees: 0.0\n",
      "translate: 0.11323\n",
      "scale: 0.36983\n",
      "shear: 0.0\n",
      "perspective: 0.0\n",
      "flipud: 0.0\n",
      "fliplr: 0.52414\n",
      "bgr: 0.0\n",
      "mosaic: 1.0\n",
      "mixup: 0.0\n",
      "copy_paste: 0.0\n",
      "\n",
      "\u001b[34m\u001b[1mTuner: \u001b[0mStarting iteration 6/300 with hyperparameters: {'lr0': 0.00965, 'lrf': 0.01094, 'momentum': 0.92607, 'weight_decay': 0.00053, 'warmup_epochs': 3.22608, 'warmup_momentum': 0.81988, 'box': 7.25154, 'cls': 0.52191, 'dfl': 1.36245, 'hsv_h': 0.0143, 'hsv_s': 0.74382, 'hsv_v': 0.38306, 'degrees': 0.0, 'translate': 0.12228, 'scale': 0.49119, 'shear': 0.0, 'perspective': 0.0, 'flipud': 0.0, 'fliplr': 0.50427, 'bgr': 0.0, 'mosaic': 1.0, 'mixup': 0.0, 'copy_paste': 0.0}\n",
      "Saved runs\\detect\\tune\\tune_scatter_plots.png\n",
      "Saved runs\\detect\\tune\\tune_fitness.png\n",
      "\n",
      "\u001b[34m\u001b[1mTuner: \u001b[0m6/300 iterations complete  (2361.29s)\n",
      "\u001b[34m\u001b[1mTuner: \u001b[0mResults saved to \u001b[1mruns\\detect\\tune\u001b[0m\n",
      "\u001b[34m\u001b[1mTuner: \u001b[0mBest fitness=0.64611 observed at iteration 5\n",
      "\u001b[34m\u001b[1mTuner: \u001b[0mBest fitness metrics are {'metrics/precision(B)': 0.88598, 'metrics/recall(B)': 0.82617, 'metrics/mAP50(B)': 0.92038, 'metrics/mAP50-95(B)': 0.61563, 'val/box_loss': 1.14461, 'val/cls_loss': 0.68817, 'val/dfl_loss': 1.0473, 'fitness': 0.64611}\n",
      "\u001b[34m\u001b[1mTuner: \u001b[0mBest fitness model is runs\\detect\\train7\n",
      "\u001b[34m\u001b[1mTuner: \u001b[0mBest fitness hyperparameters are printed below.\n",
      "\n",
      "Printing '\u001b[1m\u001b[30mruns\\detect\\tune\\best_hyperparameters.yaml\u001b[0m'\n",
      "\n",
      "lr0: 0.0065\n",
      "lrf: 0.01199\n",
      "momentum: 0.91916\n",
      "weight_decay: 0.0005\n",
      "warmup_epochs: 2.69256\n",
      "warmup_momentum: 0.67657\n",
      "box: 7.21712\n",
      "cls: 0.5063\n",
      "dfl: 1.35028\n",
      "hsv_h: 0.01563\n",
      "hsv_s: 0.86895\n",
      "hsv_v: 0.42102\n",
      "degrees: 0.0\n",
      "translate: 0.11323\n",
      "scale: 0.36983\n",
      "shear: 0.0\n",
      "perspective: 0.0\n",
      "flipud: 0.0\n",
      "fliplr: 0.52414\n",
      "bgr: 0.0\n",
      "mosaic: 1.0\n",
      "mixup: 0.0\n",
      "copy_paste: 0.0\n",
      "\n",
      "\u001b[34m\u001b[1mTuner: \u001b[0mStarting iteration 7/300 with hyperparameters: {'lr0': 0.01131, 'lrf': 0.01141, 'momentum': 0.93072, 'weight_decay': 0.0005, 'warmup_epochs': 3.1399, 'warmup_momentum': 0.5985, 'box': 6.30287, 'cls': 0.45964, 'dfl': 1.35028, 'hsv_h': 0.01917, 'hsv_s': 0.47252, 'hsv_v': 0.43703, 'degrees': 0.0, 'translate': 0.11502, 'scale': 0.49119, 'shear': 0.0, 'perspective': 0.0, 'flipud': 0.0, 'fliplr': 0.41068, 'bgr': 0.0, 'mosaic': 0.85598, 'mixup': 0.0, 'copy_paste': 0.0}\n",
      "Saved runs\\detect\\tune\\tune_scatter_plots.png\n",
      "Saved runs\\detect\\tune\\tune_fitness.png\n",
      "\n",
      "\u001b[34m\u001b[1mTuner: \u001b[0m7/300 iterations complete  (2731.64s)\n",
      "\u001b[34m\u001b[1mTuner: \u001b[0mResults saved to \u001b[1mruns\\detect\\tune\u001b[0m\n",
      "\u001b[34m\u001b[1mTuner: \u001b[0mBest fitness=0.64611 observed at iteration 5\n",
      "\u001b[34m\u001b[1mTuner: \u001b[0mBest fitness metrics are {'metrics/precision(B)': 0.88598, 'metrics/recall(B)': 0.82617, 'metrics/mAP50(B)': 0.92038, 'metrics/mAP50-95(B)': 0.61563, 'val/box_loss': 1.14461, 'val/cls_loss': 0.68817, 'val/dfl_loss': 1.0473, 'fitness': 0.64611}\n",
      "\u001b[34m\u001b[1mTuner: \u001b[0mBest fitness model is runs\\detect\\train7\n",
      "\u001b[34m\u001b[1mTuner: \u001b[0mBest fitness hyperparameters are printed below.\n",
      "\n",
      "Printing '\u001b[1m\u001b[30mruns\\detect\\tune\\best_hyperparameters.yaml\u001b[0m'\n",
      "\n",
      "lr0: 0.0065\n",
      "lrf: 0.01199\n",
      "momentum: 0.91916\n",
      "weight_decay: 0.0005\n",
      "warmup_epochs: 2.69256\n",
      "warmup_momentum: 0.67657\n",
      "box: 7.21712\n",
      "cls: 0.5063\n",
      "dfl: 1.35028\n",
      "hsv_h: 0.01563\n",
      "hsv_s: 0.86895\n",
      "hsv_v: 0.42102\n",
      "degrees: 0.0\n",
      "translate: 0.11323\n",
      "scale: 0.36983\n",
      "shear: 0.0\n",
      "perspective: 0.0\n",
      "flipud: 0.0\n",
      "fliplr: 0.52414\n",
      "bgr: 0.0\n",
      "mosaic: 1.0\n",
      "mixup: 0.0\n",
      "copy_paste: 0.0\n",
      "\n",
      "\u001b[34m\u001b[1mTuner: \u001b[0mStarting iteration 8/300 with hyperparameters: {'lr0': 0.00933, 'lrf': 0.01022, 'momentum': 0.93992, 'weight_decay': 0.00051, 'warmup_epochs': 3.49866, 'warmup_momentum': 0.76702, 'box': 7.43287, 'cls': 0.51691, 'dfl': 1.3678, 'hsv_h': 0.01497, 'hsv_s': 0.77719, 'hsv_v': 0.4092, 'degrees': 0.0, 'translate': 0.11585, 'scale': 0.50417, 'shear': 0.0, 'perspective': 0.0, 'flipud': 0.0, 'fliplr': 0.496, 'bgr': 0.0, 'mosaic': 0.93937, 'mixup': 0.0, 'copy_paste': 0.0}\n",
      "Saved runs\\detect\\tune\\tune_scatter_plots.png\n",
      "Saved runs\\detect\\tune\\tune_fitness.png\n",
      "\n",
      "\u001b[34m\u001b[1mTuner: \u001b[0m8/300 iterations complete  (3108.18s)\n",
      "\u001b[34m\u001b[1mTuner: \u001b[0mResults saved to \u001b[1mruns\\detect\\tune\u001b[0m\n",
      "\u001b[34m\u001b[1mTuner: \u001b[0mBest fitness=0.64611 observed at iteration 5\n",
      "\u001b[34m\u001b[1mTuner: \u001b[0mBest fitness metrics are {'metrics/precision(B)': 0.88598, 'metrics/recall(B)': 0.82617, 'metrics/mAP50(B)': 0.92038, 'metrics/mAP50-95(B)': 0.61563, 'val/box_loss': 1.14461, 'val/cls_loss': 0.68817, 'val/dfl_loss': 1.0473, 'fitness': 0.64611}\n",
      "\u001b[34m\u001b[1mTuner: \u001b[0mBest fitness model is runs\\detect\\train7\n",
      "\u001b[34m\u001b[1mTuner: \u001b[0mBest fitness hyperparameters are printed below.\n",
      "\n",
      "Printing '\u001b[1m\u001b[30mruns\\detect\\tune\\best_hyperparameters.yaml\u001b[0m'\n",
      "\n",
      "lr0: 0.0065\n",
      "lrf: 0.01199\n",
      "momentum: 0.91916\n",
      "weight_decay: 0.0005\n",
      "warmup_epochs: 2.69256\n",
      "warmup_momentum: 0.67657\n",
      "box: 7.21712\n",
      "cls: 0.5063\n",
      "dfl: 1.35028\n",
      "hsv_h: 0.01563\n",
      "hsv_s: 0.86895\n",
      "hsv_v: 0.42102\n",
      "degrees: 0.0\n",
      "translate: 0.11323\n",
      "scale: 0.36983\n",
      "shear: 0.0\n",
      "perspective: 0.0\n",
      "flipud: 0.0\n",
      "fliplr: 0.52414\n",
      "bgr: 0.0\n",
      "mosaic: 1.0\n",
      "mixup: 0.0\n",
      "copy_paste: 0.0\n",
      "\n",
      "\u001b[34m\u001b[1mTuner: \u001b[0mStarting iteration 9/300 with hyperparameters: {'lr0': 0.0065, 'lrf': 0.01199, 'momentum': 0.91742, 'weight_decay': 0.00051, 'warmup_epochs': 2.69256, 'warmup_momentum': 0.67481, 'box': 7.14094, 'cls': 0.50892, 'dfl': 1.34006, 'hsv_h': 0.01566, 'hsv_s': 0.87239, 'hsv_v': 0.4212, 'degrees': 0.0, 'translate': 0.11652, 'scale': 0.3678, 'shear': 0.0, 'perspective': 0.0, 'flipud': 0.0, 'fliplr': 0.53804, 'bgr': 0.0, 'mosaic': 1.0, 'mixup': 0.0, 'copy_paste': 0.0}\n",
      "Saved runs\\detect\\tune\\tune_scatter_plots.png\n",
      "Saved runs\\detect\\tune\\tune_fitness.png\n",
      "\n",
      "\u001b[34m\u001b[1mTuner: \u001b[0m9/300 iterations complete  (3488.05s)\n",
      "\u001b[34m\u001b[1mTuner: \u001b[0mResults saved to \u001b[1mruns\\detect\\tune\u001b[0m\n",
      "\u001b[34m\u001b[1mTuner: \u001b[0mBest fitness=0.64852 observed at iteration 9\n",
      "\u001b[34m\u001b[1mTuner: \u001b[0mBest fitness metrics are {'metrics/precision(B)': 0.89082, 'metrics/recall(B)': 0.82727, 'metrics/mAP50(B)': 0.92143, 'metrics/mAP50-95(B)': 0.61819, 'val/box_loss': 1.13026, 'val/cls_loss': 0.68873, 'val/dfl_loss': 1.01862, 'fitness': 0.64852}\n",
      "\u001b[34m\u001b[1mTuner: \u001b[0mBest fitness model is runs\\detect\\train11\n",
      "\u001b[34m\u001b[1mTuner: \u001b[0mBest fitness hyperparameters are printed below.\n",
      "\n",
      "Printing '\u001b[1m\u001b[30mruns\\detect\\tune\\best_hyperparameters.yaml\u001b[0m'\n",
      "\n",
      "lr0: 0.0065\n",
      "lrf: 0.01199\n",
      "momentum: 0.91742\n",
      "weight_decay: 0.00051\n",
      "warmup_epochs: 2.69256\n",
      "warmup_momentum: 0.67481\n",
      "box: 7.14094\n",
      "cls: 0.50892\n",
      "dfl: 1.34006\n",
      "hsv_h: 0.01566\n",
      "hsv_s: 0.87239\n",
      "hsv_v: 0.4212\n",
      "degrees: 0.0\n",
      "translate: 0.11652\n",
      "scale: 0.3678\n",
      "shear: 0.0\n",
      "perspective: 0.0\n",
      "flipud: 0.0\n",
      "fliplr: 0.53804\n",
      "bgr: 0.0\n",
      "mosaic: 1.0\n",
      "mixup: 0.0\n",
      "copy_paste: 0.0\n",
      "\n",
      "\u001b[34m\u001b[1mTuner: \u001b[0mStarting iteration 10/300 with hyperparameters: {'lr0': 0.00759, 'lrf': 0.01199, 'momentum': 0.86202, 'weight_decay': 0.00051, 'warmup_epochs': 2.7086, 'warmup_momentum': 0.59742, 'box': 8.88586, 'cls': 0.47447, 'dfl': 1.8454, 'hsv_h': 0.01103, 'hsv_s': 0.9, 'hsv_v': 0.32774, 'degrees': 0.0, 'translate': 0.12875, 'scale': 0.40831, 'shear': 0.0, 'perspective': 0.0, 'flipud': 0.0, 'fliplr': 0.57048, 'bgr': 0.0, 'mosaic': 1.0, 'mixup': 0.0, 'copy_paste': 0.0}\n",
      "Saved runs\\detect\\tune\\tune_scatter_plots.png\n",
      "Saved runs\\detect\\tune\\tune_fitness.png\n",
      "\n",
      "\u001b[34m\u001b[1mTuner: \u001b[0m10/300 iterations complete  (3864.95s)\n",
      "\u001b[34m\u001b[1mTuner: \u001b[0mResults saved to \u001b[1mruns\\detect\\tune\u001b[0m\n",
      "\u001b[34m\u001b[1mTuner: \u001b[0mBest fitness=0.64852 observed at iteration 9\n",
      "\u001b[34m\u001b[1mTuner: \u001b[0mBest fitness metrics are {'metrics/precision(B)': 0.89082, 'metrics/recall(B)': 0.82727, 'metrics/mAP50(B)': 0.92143, 'metrics/mAP50-95(B)': 0.61819, 'val/box_loss': 1.13026, 'val/cls_loss': 0.68873, 'val/dfl_loss': 1.01862, 'fitness': 0.64852}\n",
      "\u001b[34m\u001b[1mTuner: \u001b[0mBest fitness model is runs\\detect\\train11\n",
      "\u001b[34m\u001b[1mTuner: \u001b[0mBest fitness hyperparameters are printed below.\n",
      "\n",
      "Printing '\u001b[1m\u001b[30mruns\\detect\\tune\\best_hyperparameters.yaml\u001b[0m'\n",
      "\n",
      "lr0: 0.0065\n",
      "lrf: 0.01199\n",
      "momentum: 0.91742\n",
      "weight_decay: 0.00051\n",
      "warmup_epochs: 2.69256\n",
      "warmup_momentum: 0.67481\n",
      "box: 7.14094\n",
      "cls: 0.50892\n",
      "dfl: 1.34006\n",
      "hsv_h: 0.01566\n",
      "hsv_s: 0.87239\n",
      "hsv_v: 0.4212\n",
      "degrees: 0.0\n",
      "translate: 0.11652\n",
      "scale: 0.3678\n",
      "shear: 0.0\n",
      "perspective: 0.0\n",
      "flipud: 0.0\n",
      "fliplr: 0.53804\n",
      "bgr: 0.0\n",
      "mosaic: 1.0\n",
      "mixup: 0.0\n",
      "copy_paste: 0.0\n",
      "\n",
      "\u001b[34m\u001b[1mTuner: \u001b[0mStarting iteration 11/300 with hyperparameters: {'lr0': 0.0065, 'lrf': 0.0132, 'momentum': 0.91473, 'weight_decay': 0.00046, 'warmup_epochs': 2.08942, 'warmup_momentum': 0.70474, 'box': 7.90365, 'cls': 0.61293, 'dfl': 1.25351, 'hsv_h': 0.01392, 'hsv_s': 0.7104, 'hsv_v': 0.52212, 'degrees': 0.0, 'translate': 0.12441, 'scale': 0.44403, 'shear': 0.0, 'perspective': 0.0, 'flipud': 0.0, 'fliplr': 0.39068, 'bgr': 0.0, 'mosaic': 0.87313, 'mixup': 0.0, 'copy_paste': 0.0}\n",
      "Saved runs\\detect\\tune\\tune_scatter_plots.png\n",
      "Saved runs\\detect\\tune\\tune_fitness.png\n",
      "\n",
      "\u001b[34m\u001b[1mTuner: \u001b[0m11/300 iterations complete  (4256.75s)\n",
      "\u001b[34m\u001b[1mTuner: \u001b[0mResults saved to \u001b[1mruns\\detect\\tune\u001b[0m\n",
      "\u001b[34m\u001b[1mTuner: \u001b[0mBest fitness=0.65 observed at iteration 11\n",
      "\u001b[34m\u001b[1mTuner: \u001b[0mBest fitness metrics are {'metrics/precision(B)': 0.89602, 'metrics/recall(B)': 0.82795, 'metrics/mAP50(B)': 0.92421, 'metrics/mAP50-95(B)': 0.61953, 'val/box_loss': 1.25063, 'val/cls_loss': 0.82702, 'val/dfl_loss': 0.979, 'fitness': 0.65}\n",
      "\u001b[34m\u001b[1mTuner: \u001b[0mBest fitness model is runs\\detect\\train13\n",
      "\u001b[34m\u001b[1mTuner: \u001b[0mBest fitness hyperparameters are printed below.\n",
      "\n",
      "Printing '\u001b[1m\u001b[30mruns\\detect\\tune\\best_hyperparameters.yaml\u001b[0m'\n",
      "\n",
      "lr0: 0.0065\n",
      "lrf: 0.0132\n",
      "momentum: 0.91473\n",
      "weight_decay: 0.00046\n",
      "warmup_epochs: 2.08942\n",
      "warmup_momentum: 0.70474\n",
      "box: 7.90365\n",
      "cls: 0.61293\n",
      "dfl: 1.25351\n",
      "hsv_h: 0.01392\n",
      "hsv_s: 0.7104\n",
      "hsv_v: 0.52212\n",
      "degrees: 0.0\n",
      "translate: 0.12441\n",
      "scale: 0.44403\n",
      "shear: 0.0\n",
      "perspective: 0.0\n",
      "flipud: 0.0\n",
      "fliplr: 0.39068\n",
      "bgr: 0.0\n",
      "mosaic: 0.87313\n",
      "mixup: 0.0\n",
      "copy_paste: 0.0\n",
      "\n",
      "\u001b[34m\u001b[1mTuner: \u001b[0mStarting iteration 12/300 with hyperparameters: {'lr0': 0.00642, 'lrf': 0.01191, 'momentum': 0.9116, 'weight_decay': 0.0005, 'warmup_epochs': 2.57872, 'warmup_momentum': 0.67657, 'box': 7.16234, 'cls': 0.52161, 'dfl': 1.35028, 'hsv_h': 0.01618, 'hsv_s': 0.85699, 'hsv_v': 0.44037, 'degrees': 0.0, 'translate': 0.1093, 'scale': 0.38017, 'shear': 0.0, 'perspective': 0.0, 'flipud': 0.0, 'fliplr': 0.53176, 'bgr': 0.0, 'mosaic': 1.0, 'mixup': 0.0, 'copy_paste': 0.0}\n",
      "Saved runs\\detect\\tune\\tune_scatter_plots.png\n",
      "Saved runs\\detect\\tune\\tune_fitness.png\n",
      "\n",
      "\u001b[34m\u001b[1mTuner: \u001b[0m12/300 iterations complete  (4637.55s)\n",
      "\u001b[34m\u001b[1mTuner: \u001b[0mResults saved to \u001b[1mruns\\detect\\tune\u001b[0m\n",
      "\u001b[34m\u001b[1mTuner: \u001b[0mBest fitness=0.65 observed at iteration 11\n",
      "\u001b[34m\u001b[1mTuner: \u001b[0mBest fitness metrics are {'metrics/precision(B)': 0.89602, 'metrics/recall(B)': 0.82795, 'metrics/mAP50(B)': 0.92421, 'metrics/mAP50-95(B)': 0.61953, 'val/box_loss': 1.25063, 'val/cls_loss': 0.82702, 'val/dfl_loss': 0.979, 'fitness': 0.65}\n",
      "\u001b[34m\u001b[1mTuner: \u001b[0mBest fitness model is runs\\detect\\train13\n",
      "\u001b[34m\u001b[1mTuner: \u001b[0mBest fitness hyperparameters are printed below.\n",
      "\n",
      "Printing '\u001b[1m\u001b[30mruns\\detect\\tune\\best_hyperparameters.yaml\u001b[0m'\n",
      "\n",
      "lr0: 0.0065\n",
      "lrf: 0.0132\n",
      "momentum: 0.91473\n",
      "weight_decay: 0.00046\n",
      "warmup_epochs: 2.08942\n",
      "warmup_momentum: 0.70474\n",
      "box: 7.90365\n",
      "cls: 0.61293\n",
      "dfl: 1.25351\n",
      "hsv_h: 0.01392\n",
      "hsv_s: 0.7104\n",
      "hsv_v: 0.52212\n",
      "degrees: 0.0\n",
      "translate: 0.12441\n",
      "scale: 0.44403\n",
      "shear: 0.0\n",
      "perspective: 0.0\n",
      "flipud: 0.0\n",
      "fliplr: 0.39068\n",
      "bgr: 0.0\n",
      "mosaic: 0.87313\n",
      "mixup: 0.0\n",
      "copy_paste: 0.0\n",
      "\n",
      "\u001b[34m\u001b[1mTuner: \u001b[0mStarting iteration 13/300 with hyperparameters: {'lr0': 0.00655, 'lrf': 0.01409, 'momentum': 0.86042, 'weight_decay': 0.00044, 'warmup_epochs': 2.95403, 'warmup_momentum': 0.72731, 'box': 7.3637, 'cls': 0.56015, 'dfl': 1.15707, 'hsv_h': 0.01677, 'hsv_s': 0.68597, 'hsv_v': 0.42293, 'degrees': 0.0, 'translate': 0.11181, 'scale': 0.36684, 'shear': 0.0, 'perspective': 0.0, 'flipud': 0.0, 'fliplr': 0.45957, 'bgr': 0.0, 'mosaic': 1.0, 'mixup': 0.0, 'copy_paste': 0.0}\n",
      "Saved runs\\detect\\tune\\tune_scatter_plots.png\n",
      "Saved runs\\detect\\tune\\tune_fitness.png\n",
      "\n",
      "\u001b[34m\u001b[1mTuner: \u001b[0m13/300 iterations complete  (5018.88s)\n",
      "\u001b[34m\u001b[1mTuner: \u001b[0mResults saved to \u001b[1mruns\\detect\\tune\u001b[0m\n",
      "\u001b[34m\u001b[1mTuner: \u001b[0mBest fitness=0.65509 observed at iteration 13\n",
      "\u001b[34m\u001b[1mTuner: \u001b[0mBest fitness metrics are {'metrics/precision(B)': 0.90204, 'metrics/recall(B)': 0.83592, 'metrics/mAP50(B)': 0.92983, 'metrics/mAP50-95(B)': 0.62457, 'val/box_loss': 1.16033, 'val/cls_loss': 0.73755, 'val/dfl_loss': 0.88543, 'fitness': 0.65509}\n",
      "\u001b[34m\u001b[1mTuner: \u001b[0mBest fitness model is runs\\detect\\train15\n",
      "\u001b[34m\u001b[1mTuner: \u001b[0mBest fitness hyperparameters are printed below.\n",
      "\n",
      "Printing '\u001b[1m\u001b[30mruns\\detect\\tune\\best_hyperparameters.yaml\u001b[0m'\n",
      "\n",
      "lr0: 0.00655\n",
      "lrf: 0.01409\n",
      "momentum: 0.86042\n",
      "weight_decay: 0.00044\n",
      "warmup_epochs: 2.95403\n",
      "warmup_momentum: 0.72731\n",
      "box: 7.3637\n",
      "cls: 0.56015\n",
      "dfl: 1.15707\n",
      "hsv_h: 0.01677\n",
      "hsv_s: 0.68597\n",
      "hsv_v: 0.42293\n",
      "degrees: 0.0\n",
      "translate: 0.11181\n",
      "scale: 0.36684\n",
      "shear: 0.0\n",
      "perspective: 0.0\n",
      "flipud: 0.0\n",
      "fliplr: 0.45957\n",
      "bgr: 0.0\n",
      "mosaic: 1.0\n",
      "mixup: 0.0\n",
      "copy_paste: 0.0\n",
      "\n",
      "\u001b[34m\u001b[1mTuner: \u001b[0mStarting iteration 14/300 with hyperparameters: {'lr0': 0.00676, 'lrf': 0.01371, 'momentum': 0.86042, 'weight_decay': 0.00045, 'warmup_epochs': 2.96667, 'warmup_momentum': 0.72731, 'box': 7.3637, 'cls': 0.57978, 'dfl': 1.05019, 'hsv_h': 0.01575, 'hsv_s': 0.68518, 'hsv_v': 0.43209, 'degrees': 0.0, 'translate': 0.10759, 'scale': 0.36684, 'shear': 0.0, 'perspective': 0.0, 'flipud': 0.0, 'fliplr': 0.47017, 'bgr': 0.0, 'mosaic': 0.99945, 'mixup': 0.0, 'copy_paste': 0.0}\n",
      "Saved runs\\detect\\tune\\tune_scatter_plots.png\n",
      "Saved runs\\detect\\tune\\tune_fitness.png\n",
      "\n",
      "\u001b[34m\u001b[1mTuner: \u001b[0m14/300 iterations complete  (5391.16s)\n",
      "\u001b[34m\u001b[1mTuner: \u001b[0mResults saved to \u001b[1mruns\\detect\\tune\u001b[0m\n",
      "\u001b[34m\u001b[1mTuner: \u001b[0mBest fitness=0.65509 observed at iteration 13\n",
      "\u001b[34m\u001b[1mTuner: \u001b[0mBest fitness metrics are {'metrics/precision(B)': 0.90204, 'metrics/recall(B)': 0.83592, 'metrics/mAP50(B)': 0.92983, 'metrics/mAP50-95(B)': 0.62457, 'val/box_loss': 1.16033, 'val/cls_loss': 0.73755, 'val/dfl_loss': 0.88543, 'fitness': 0.65509}\n",
      "\u001b[34m\u001b[1mTuner: \u001b[0mBest fitness model is runs\\detect\\train15\n",
      "\u001b[34m\u001b[1mTuner: \u001b[0mBest fitness hyperparameters are printed below.\n",
      "\n",
      "Printing '\u001b[1m\u001b[30mruns\\detect\\tune\\best_hyperparameters.yaml\u001b[0m'\n",
      "\n",
      "lr0: 0.00655\n",
      "lrf: 0.01409\n",
      "momentum: 0.86042\n",
      "weight_decay: 0.00044\n",
      "warmup_epochs: 2.95403\n",
      "warmup_momentum: 0.72731\n",
      "box: 7.3637\n",
      "cls: 0.56015\n",
      "dfl: 1.15707\n",
      "hsv_h: 0.01677\n",
      "hsv_s: 0.68597\n",
      "hsv_v: 0.42293\n",
      "degrees: 0.0\n",
      "translate: 0.11181\n",
      "scale: 0.36684\n",
      "shear: 0.0\n",
      "perspective: 0.0\n",
      "flipud: 0.0\n",
      "fliplr: 0.45957\n",
      "bgr: 0.0\n",
      "mosaic: 1.0\n",
      "mixup: 0.0\n",
      "copy_paste: 0.0\n",
      "\n",
      "\u001b[34m\u001b[1mTuner: \u001b[0mStarting iteration 15/300 with hyperparameters: {'lr0': 0.00531, 'lrf': 0.01108, 'momentum': 0.88337, 'weight_decay': 0.00046, 'warmup_epochs': 2.55799, 'warmup_momentum': 0.70474, 'box': 8.78634, 'cls': 0.61293, 'dfl': 1.25351, 'hsv_h': 0.01392, 'hsv_s': 0.77122, 'hsv_v': 0.7185, 'degrees': 0.0, 'translate': 0.11413, 'scale': 0.42103, 'shear': 0.0, 'perspective': 0.0, 'flipud': 0.0, 'fliplr': 0.2897, 'bgr': 0.0, 'mosaic': 0.91697, 'mixup': 0.0, 'copy_paste': 0.0}\n",
      "Saved runs\\detect\\tune\\tune_scatter_plots.png\n",
      "Saved runs\\detect\\tune\\tune_fitness.png\n",
      "\n",
      "\u001b[34m\u001b[1mTuner: \u001b[0m15/300 iterations complete  (5774.38s)\n",
      "\u001b[34m\u001b[1mTuner: \u001b[0mResults saved to \u001b[1mruns\\detect\\tune\u001b[0m\n",
      "\u001b[34m\u001b[1mTuner: \u001b[0mBest fitness=0.65509 observed at iteration 13\n",
      "\u001b[34m\u001b[1mTuner: \u001b[0mBest fitness metrics are {'metrics/precision(B)': 0.90204, 'metrics/recall(B)': 0.83592, 'metrics/mAP50(B)': 0.92983, 'metrics/mAP50-95(B)': 0.62457, 'val/box_loss': 1.16033, 'val/cls_loss': 0.73755, 'val/dfl_loss': 0.88543, 'fitness': 0.65509}\n",
      "\u001b[34m\u001b[1mTuner: \u001b[0mBest fitness model is runs\\detect\\train15\n",
      "\u001b[34m\u001b[1mTuner: \u001b[0mBest fitness hyperparameters are printed below.\n",
      "\n",
      "Printing '\u001b[1m\u001b[30mruns\\detect\\tune\\best_hyperparameters.yaml\u001b[0m'\n",
      "\n",
      "lr0: 0.00655\n",
      "lrf: 0.01409\n",
      "momentum: 0.86042\n",
      "weight_decay: 0.00044\n",
      "warmup_epochs: 2.95403\n",
      "warmup_momentum: 0.72731\n",
      "box: 7.3637\n",
      "cls: 0.56015\n",
      "dfl: 1.15707\n",
      "hsv_h: 0.01677\n",
      "hsv_s: 0.68597\n",
      "hsv_v: 0.42293\n",
      "degrees: 0.0\n",
      "translate: 0.11181\n",
      "scale: 0.36684\n",
      "shear: 0.0\n",
      "perspective: 0.0\n",
      "flipud: 0.0\n",
      "fliplr: 0.45957\n",
      "bgr: 0.0\n",
      "mosaic: 1.0\n",
      "mixup: 0.0\n",
      "copy_paste: 0.0\n",
      "\n",
      "\u001b[34m\u001b[1mTuner: \u001b[0mStarting iteration 16/300 with hyperparameters: {'lr0': 0.00492, 'lrf': 0.01222, 'momentum': 0.85123, 'weight_decay': 0.00045, 'warmup_epochs': 2.55799, 'warmup_momentum': 0.69414, 'box': 8.35819, 'cls': 0.62828, 'dfl': 1.28665, 'hsv_h': 0.01484, 'hsv_s': 0.67167, 'hsv_v': 0.64857, 'degrees': 0.0, 'translate': 0.11644, 'scale': 0.45209, 'shear': 0.0, 'perspective': 0.0, 'flipud': 0.0, 'fliplr': 0.28389, 'bgr': 0.0, 'mosaic': 0.82448, 'mixup': 0.0, 'copy_paste': 0.0}\n",
      "Saved runs\\detect\\tune\\tune_scatter_plots.png\n",
      "Saved runs\\detect\\tune\\tune_fitness.png\n",
      "\n",
      "\u001b[34m\u001b[1mTuner: \u001b[0m16/300 iterations complete  (6154.62s)\n",
      "\u001b[34m\u001b[1mTuner: \u001b[0mResults saved to \u001b[1mruns\\detect\\tune\u001b[0m\n",
      "\u001b[34m\u001b[1mTuner: \u001b[0mBest fitness=0.65798 observed at iteration 16\n",
      "\u001b[34m\u001b[1mTuner: \u001b[0mBest fitness metrics are {'metrics/precision(B)': 0.89174, 'metrics/recall(B)': 0.85129, 'metrics/mAP50(B)': 0.93149, 'metrics/mAP50-95(B)': 0.6276, 'val/box_loss': 1.3099, 'val/cls_loss': 0.81882, 'val/dfl_loss': 0.98132, 'fitness': 0.65798}\n",
      "\u001b[34m\u001b[1mTuner: \u001b[0mBest fitness model is runs\\detect\\train18\n",
      "\u001b[34m\u001b[1mTuner: \u001b[0mBest fitness hyperparameters are printed below.\n",
      "\n",
      "Printing '\u001b[1m\u001b[30mruns\\detect\\tune\\best_hyperparameters.yaml\u001b[0m'\n",
      "\n",
      "lr0: 0.00492\n",
      "lrf: 0.01222\n",
      "momentum: 0.85123\n",
      "weight_decay: 0.00045\n",
      "warmup_epochs: 2.55799\n",
      "warmup_momentum: 0.69414\n",
      "box: 8.35819\n",
      "cls: 0.62828\n",
      "dfl: 1.28665\n",
      "hsv_h: 0.01484\n",
      "hsv_s: 0.67167\n",
      "hsv_v: 0.64857\n",
      "degrees: 0.0\n",
      "translate: 0.11644\n",
      "scale: 0.45209\n",
      "shear: 0.0\n",
      "perspective: 0.0\n",
      "flipud: 0.0\n",
      "fliplr: 0.28389\n",
      "bgr: 0.0\n",
      "mosaic: 0.82448\n",
      "mixup: 0.0\n",
      "copy_paste: 0.0\n",
      "\n",
      "\u001b[34m\u001b[1mTuner: \u001b[0mStarting iteration 17/300 with hyperparameters: {'lr0': 0.0041, 'lrf': 0.01248, 'momentum': 0.85123, 'weight_decay': 0.00046, 'warmup_epochs': 2.38655, 'warmup_momentum': 0.6659, 'box': 9.17296, 'cls': 0.62828, 'dfl': 1.25464, 'hsv_h': 0.01454, 'hsv_s': 0.63475, 'hsv_v': 0.71498, 'degrees': 0.0, 'translate': 0.11042, 'scale': 0.43256, 'shear': 0.0, 'perspective': 0.0, 'flipud': 0.0, 'fliplr': 0.30204, 'bgr': 0.0, 'mosaic': 0.8628, 'mixup': 0.0, 'copy_paste': 0.0}\n",
      "Saved runs\\detect\\tune\\tune_scatter_plots.png\n",
      "Saved runs\\detect\\tune\\tune_fitness.png\n",
      "\n",
      "\u001b[34m\u001b[1mTuner: \u001b[0m17/300 iterations complete  (6534.50s)\n",
      "\u001b[34m\u001b[1mTuner: \u001b[0mResults saved to \u001b[1mruns\\detect\\tune\u001b[0m\n",
      "\u001b[34m\u001b[1mTuner: \u001b[0mBest fitness=0.65798 observed at iteration 16\n",
      "\u001b[34m\u001b[1mTuner: \u001b[0mBest fitness metrics are {'metrics/precision(B)': 0.89174, 'metrics/recall(B)': 0.85129, 'metrics/mAP50(B)': 0.93149, 'metrics/mAP50-95(B)': 0.6276, 'val/box_loss': 1.3099, 'val/cls_loss': 0.81882, 'val/dfl_loss': 0.98132, 'fitness': 0.65798}\n",
      "\u001b[34m\u001b[1mTuner: \u001b[0mBest fitness model is runs\\detect\\train18\n",
      "\u001b[34m\u001b[1mTuner: \u001b[0mBest fitness hyperparameters are printed below.\n",
      "\n",
      "Printing '\u001b[1m\u001b[30mruns\\detect\\tune\\best_hyperparameters.yaml\u001b[0m'\n",
      "\n",
      "lr0: 0.00492\n",
      "lrf: 0.01222\n",
      "momentum: 0.85123\n",
      "weight_decay: 0.00045\n",
      "warmup_epochs: 2.55799\n",
      "warmup_momentum: 0.69414\n",
      "box: 8.35819\n",
      "cls: 0.62828\n",
      "dfl: 1.28665\n",
      "hsv_h: 0.01484\n",
      "hsv_s: 0.67167\n",
      "hsv_v: 0.64857\n",
      "degrees: 0.0\n",
      "translate: 0.11644\n",
      "scale: 0.45209\n",
      "shear: 0.0\n",
      "perspective: 0.0\n",
      "flipud: 0.0\n",
      "fliplr: 0.28389\n",
      "bgr: 0.0\n",
      "mosaic: 0.82448\n",
      "mixup: 0.0\n",
      "copy_paste: 0.0\n",
      "\n",
      "\u001b[34m\u001b[1mTuner: \u001b[0mStarting iteration 18/300 with hyperparameters: {'lr0': 0.00531, 'lrf': 0.0108, 'momentum': 0.89094, 'weight_decay': 0.00048, 'warmup_epochs': 2.56589, 'warmup_momentum': 0.67892, 'box': 8.96919, 'cls': 0.61293, 'dfl': 1.26639, 'hsv_h': 0.01364, 'hsv_s': 0.77122, 'hsv_v': 0.76969, 'degrees': 0.0, 'translate': 0.11174, 'scale': 0.42844, 'shear': 0.0, 'perspective': 0.0, 'flipud': 0.0, 'fliplr': 0.28298, 'bgr': 0.0, 'mosaic': 0.91697, 'mixup': 0.0, 'copy_paste': 0.0}\n",
      "Saved runs\\detect\\tune\\tune_scatter_plots.png\n",
      "Saved runs\\detect\\tune\\tune_fitness.png\n",
      "\n",
      "\u001b[34m\u001b[1mTuner: \u001b[0m18/300 iterations complete  (6906.99s)\n",
      "\u001b[34m\u001b[1mTuner: \u001b[0mResults saved to \u001b[1mruns\\detect\\tune\u001b[0m\n",
      "\u001b[34m\u001b[1mTuner: \u001b[0mBest fitness=0.65798 observed at iteration 16\n",
      "\u001b[34m\u001b[1mTuner: \u001b[0mBest fitness metrics are {'metrics/precision(B)': 0.89174, 'metrics/recall(B)': 0.85129, 'metrics/mAP50(B)': 0.93149, 'metrics/mAP50-95(B)': 0.6276, 'val/box_loss': 1.3099, 'val/cls_loss': 0.81882, 'val/dfl_loss': 0.98132, 'fitness': 0.65798}\n",
      "\u001b[34m\u001b[1mTuner: \u001b[0mBest fitness model is runs\\detect\\train18\n",
      "\u001b[34m\u001b[1mTuner: \u001b[0mBest fitness hyperparameters are printed below.\n",
      "\n",
      "Printing '\u001b[1m\u001b[30mruns\\detect\\tune\\best_hyperparameters.yaml\u001b[0m'\n",
      "\n",
      "lr0: 0.00492\n",
      "lrf: 0.01222\n",
      "momentum: 0.85123\n",
      "weight_decay: 0.00045\n",
      "warmup_epochs: 2.55799\n",
      "warmup_momentum: 0.69414\n",
      "box: 8.35819\n",
      "cls: 0.62828\n",
      "dfl: 1.28665\n",
      "hsv_h: 0.01484\n",
      "hsv_s: 0.67167\n",
      "hsv_v: 0.64857\n",
      "degrees: 0.0\n",
      "translate: 0.11644\n",
      "scale: 0.45209\n",
      "shear: 0.0\n",
      "perspective: 0.0\n",
      "flipud: 0.0\n",
      "fliplr: 0.28389\n",
      "bgr: 0.0\n",
      "mosaic: 0.82448\n",
      "mixup: 0.0\n",
      "copy_paste: 0.0\n",
      "\n",
      "\u001b[34m\u001b[1mTuner: \u001b[0mStarting iteration 19/300 with hyperparameters: {'lr0': 0.00374, 'lrf': 0.01108, 'momentum': 0.88337, 'weight_decay': 0.00041, 'warmup_epochs': 1.49406, 'warmup_momentum': 0.69967, 'box': 10.4086, 'cls': 0.57888, 'dfl': 1.26994, 'hsv_h': 0.0148, 'hsv_s': 0.7518, 'hsv_v': 0.69313, 'degrees': 0.0, 'translate': 0.10334, 'scale': 0.40255, 'shear': 0.0, 'perspective': 0.0, 'flipud': 0.0, 'fliplr': 0.27207, 'bgr': 0.0, 'mosaic': 1.0, 'mixup': 0.0, 'copy_paste': 0.0}\n",
      "Saved runs\\detect\\tune\\tune_scatter_plots.png\n",
      "Saved runs\\detect\\tune\\tune_fitness.png\n",
      "\n",
      "\u001b[34m\u001b[1mTuner: \u001b[0m19/300 iterations complete  (7281.75s)\n",
      "\u001b[34m\u001b[1mTuner: \u001b[0mResults saved to \u001b[1mruns\\detect\\tune\u001b[0m\n",
      "\u001b[34m\u001b[1mTuner: \u001b[0mBest fitness=0.65798 observed at iteration 16\n",
      "\u001b[34m\u001b[1mTuner: \u001b[0mBest fitness metrics are {'metrics/precision(B)': 0.89174, 'metrics/recall(B)': 0.85129, 'metrics/mAP50(B)': 0.93149, 'metrics/mAP50-95(B)': 0.6276, 'val/box_loss': 1.3099, 'val/cls_loss': 0.81882, 'val/dfl_loss': 0.98132, 'fitness': 0.65798}\n",
      "\u001b[34m\u001b[1mTuner: \u001b[0mBest fitness model is runs\\detect\\train18\n",
      "\u001b[34m\u001b[1mTuner: \u001b[0mBest fitness hyperparameters are printed below.\n",
      "\n",
      "Printing '\u001b[1m\u001b[30mruns\\detect\\tune\\best_hyperparameters.yaml\u001b[0m'\n",
      "\n",
      "lr0: 0.00492\n",
      "lrf: 0.01222\n",
      "momentum: 0.85123\n",
      "weight_decay: 0.00045\n",
      "warmup_epochs: 2.55799\n",
      "warmup_momentum: 0.69414\n",
      "box: 8.35819\n",
      "cls: 0.62828\n",
      "dfl: 1.28665\n",
      "hsv_h: 0.01484\n",
      "hsv_s: 0.67167\n",
      "hsv_v: 0.64857\n",
      "degrees: 0.0\n",
      "translate: 0.11644\n",
      "scale: 0.45209\n",
      "shear: 0.0\n",
      "perspective: 0.0\n",
      "flipud: 0.0\n",
      "fliplr: 0.28389\n",
      "bgr: 0.0\n",
      "mosaic: 0.82448\n",
      "mixup: 0.0\n",
      "copy_paste: 0.0\n",
      "\n",
      "\u001b[34m\u001b[1mTuner: \u001b[0mStarting iteration 20/300 with hyperparameters: {'lr0': 0.00374, 'lrf': 0.00955, 'momentum': 0.91898, 'weight_decay': 0.00041, 'warmup_epochs': 1.55495, 'warmup_momentum': 0.72661, 'box': 10.4086, 'cls': 0.63969, 'dfl': 1.26994, 'hsv_h': 0.0148, 'hsv_s': 0.76656, 'hsv_v': 0.76199, 'degrees': 0.0, 'translate': 0.10334, 'scale': 0.37745, 'shear': 0.0, 'perspective': 0.0, 'flipud': 0.0, 'fliplr': 0.2706, 'bgr': 0.0, 'mosaic': 1.0, 'mixup': 0.0, 'copy_paste': 0.0}\n",
      "Saved runs\\detect\\tune\\tune_scatter_plots.png\n",
      "Saved runs\\detect\\tune\\tune_fitness.png\n",
      "\n",
      "\u001b[34m\u001b[1mTuner: \u001b[0m20/300 iterations complete  (7659.96s)\n",
      "\u001b[34m\u001b[1mTuner: \u001b[0mResults saved to \u001b[1mruns\\detect\\tune\u001b[0m\n",
      "\u001b[34m\u001b[1mTuner: \u001b[0mBest fitness=0.65798 observed at iteration 16\n",
      "\u001b[34m\u001b[1mTuner: \u001b[0mBest fitness metrics are {'metrics/precision(B)': 0.89174, 'metrics/recall(B)': 0.85129, 'metrics/mAP50(B)': 0.93149, 'metrics/mAP50-95(B)': 0.6276, 'val/box_loss': 1.3099, 'val/cls_loss': 0.81882, 'val/dfl_loss': 0.98132, 'fitness': 0.65798}\n",
      "\u001b[34m\u001b[1mTuner: \u001b[0mBest fitness model is runs\\detect\\train18\n",
      "\u001b[34m\u001b[1mTuner: \u001b[0mBest fitness hyperparameters are printed below.\n",
      "\n",
      "Printing '\u001b[1m\u001b[30mruns\\detect\\tune\\best_hyperparameters.yaml\u001b[0m'\n",
      "\n",
      "lr0: 0.00492\n",
      "lrf: 0.01222\n",
      "momentum: 0.85123\n",
      "weight_decay: 0.00045\n",
      "warmup_epochs: 2.55799\n",
      "warmup_momentum: 0.69414\n",
      "box: 8.35819\n",
      "cls: 0.62828\n",
      "dfl: 1.28665\n",
      "hsv_h: 0.01484\n",
      "hsv_s: 0.67167\n",
      "hsv_v: 0.64857\n",
      "degrees: 0.0\n",
      "translate: 0.11644\n",
      "scale: 0.45209\n",
      "shear: 0.0\n",
      "perspective: 0.0\n",
      "flipud: 0.0\n",
      "fliplr: 0.28389\n",
      "bgr: 0.0\n",
      "mosaic: 0.82448\n",
      "mixup: 0.0\n",
      "copy_paste: 0.0\n",
      "\n",
      "\u001b[34m\u001b[1mTuner: \u001b[0mStarting iteration 21/300 with hyperparameters: {'lr0': 0.00655, 'lrf': 0.01393, 'momentum': 0.85182, 'weight_decay': 0.00044, 'warmup_epochs': 2.99799, 'warmup_momentum': 0.73065, 'box': 7.09609, 'cls': 0.61397, 'dfl': 1.19256, 'hsv_h': 0.01621, 'hsv_s': 0.68704, 'hsv_v': 0.42437, 'degrees': 0.0, 'translate': 0.11329, 'scale': 0.36121, 'shear': 0.0, 'perspective': 0.0, 'flipud': 0.0, 'fliplr': 0.4778, 'bgr': 0.0, 'mosaic': 1.0, 'mixup': 0.0, 'copy_paste': 0.0}\n",
      "Saved runs\\detect\\tune\\tune_scatter_plots.png\n",
      "Saved runs\\detect\\tune\\tune_fitness.png\n",
      "\n",
      "\u001b[34m\u001b[1mTuner: \u001b[0m21/300 iterations complete  (8033.37s)\n",
      "\u001b[34m\u001b[1mTuner: \u001b[0mResults saved to \u001b[1mruns\\detect\\tune\u001b[0m\n",
      "\u001b[34m\u001b[1mTuner: \u001b[0mBest fitness=0.65798 observed at iteration 16\n",
      "\u001b[34m\u001b[1mTuner: \u001b[0mBest fitness metrics are {'metrics/precision(B)': 0.89174, 'metrics/recall(B)': 0.85129, 'metrics/mAP50(B)': 0.93149, 'metrics/mAP50-95(B)': 0.6276, 'val/box_loss': 1.3099, 'val/cls_loss': 0.81882, 'val/dfl_loss': 0.98132, 'fitness': 0.65798}\n",
      "\u001b[34m\u001b[1mTuner: \u001b[0mBest fitness model is runs\\detect\\train18\n",
      "\u001b[34m\u001b[1mTuner: \u001b[0mBest fitness hyperparameters are printed below.\n",
      "\n",
      "Printing '\u001b[1m\u001b[30mruns\\detect\\tune\\best_hyperparameters.yaml\u001b[0m'\n",
      "\n",
      "lr0: 0.00492\n",
      "lrf: 0.01222\n",
      "momentum: 0.85123\n",
      "weight_decay: 0.00045\n",
      "warmup_epochs: 2.55799\n",
      "warmup_momentum: 0.69414\n",
      "box: 8.35819\n",
      "cls: 0.62828\n",
      "dfl: 1.28665\n",
      "hsv_h: 0.01484\n",
      "hsv_s: 0.67167\n",
      "hsv_v: 0.64857\n",
      "degrees: 0.0\n",
      "translate: 0.11644\n",
      "scale: 0.45209\n",
      "shear: 0.0\n",
      "perspective: 0.0\n",
      "flipud: 0.0\n",
      "fliplr: 0.28389\n",
      "bgr: 0.0\n",
      "mosaic: 0.82448\n",
      "mixup: 0.0\n",
      "copy_paste: 0.0\n",
      "\n",
      "\u001b[34m\u001b[1mTuner: \u001b[0mStarting iteration 22/300 with hyperparameters: {'lr0': 0.00455, 'lrf': 0.01306, 'momentum': 0.88359, 'weight_decay': 0.00043, 'warmup_epochs': 1.99991, 'warmup_momentum': 0.57774, 'box': 10.33882, 'cls': 0.62828, 'dfl': 1.67638, 'hsv_h': 0.01484, 'hsv_s': 0.80615, 'hsv_v': 0.70657, 'degrees': 0.0, 'translate': 0.08812, 'scale': 0.45209, 'shear': 0.0, 'perspective': 0.0, 'flipud': 0.0, 'fliplr': 0.28389, 'bgr': 0.0, 'mosaic': 0.82448, 'mixup': 0.0, 'copy_paste': 0.0}\n",
      "Saved runs\\detect\\tune\\tune_scatter_plots.png\n",
      "Saved runs\\detect\\tune\\tune_fitness.png\n",
      "\n",
      "\u001b[34m\u001b[1mTuner: \u001b[0m22/300 iterations complete  (8410.24s)\n",
      "\u001b[34m\u001b[1mTuner: \u001b[0mResults saved to \u001b[1mruns\\detect\\tune\u001b[0m\n",
      "\u001b[34m\u001b[1mTuner: \u001b[0mBest fitness=0.65798 observed at iteration 16\n",
      "\u001b[34m\u001b[1mTuner: \u001b[0mBest fitness metrics are {'metrics/precision(B)': 0.89174, 'metrics/recall(B)': 0.85129, 'metrics/mAP50(B)': 0.93149, 'metrics/mAP50-95(B)': 0.6276, 'val/box_loss': 1.3099, 'val/cls_loss': 0.81882, 'val/dfl_loss': 0.98132, 'fitness': 0.65798}\n",
      "\u001b[34m\u001b[1mTuner: \u001b[0mBest fitness model is runs\\detect\\train18\n",
      "\u001b[34m\u001b[1mTuner: \u001b[0mBest fitness hyperparameters are printed below.\n",
      "\n",
      "Printing '\u001b[1m\u001b[30mruns\\detect\\tune\\best_hyperparameters.yaml\u001b[0m'\n",
      "\n",
      "lr0: 0.00492\n",
      "lrf: 0.01222\n",
      "momentum: 0.85123\n",
      "weight_decay: 0.00045\n",
      "warmup_epochs: 2.55799\n",
      "warmup_momentum: 0.69414\n",
      "box: 8.35819\n",
      "cls: 0.62828\n",
      "dfl: 1.28665\n",
      "hsv_h: 0.01484\n",
      "hsv_s: 0.67167\n",
      "hsv_v: 0.64857\n",
      "degrees: 0.0\n",
      "translate: 0.11644\n",
      "scale: 0.45209\n",
      "shear: 0.0\n",
      "perspective: 0.0\n",
      "flipud: 0.0\n",
      "fliplr: 0.28389\n",
      "bgr: 0.0\n",
      "mosaic: 0.82448\n",
      "mixup: 0.0\n",
      "copy_paste: 0.0\n",
      "\n",
      "\u001b[34m\u001b[1mTuner: \u001b[0mStarting iteration 23/300 with hyperparameters: {'lr0': 0.00369, 'lrf': 0.00942, 'momentum': 0.90446, 'weight_decay': 0.00047, 'warmup_epochs': 1.66895, 'warmup_momentum': 0.74311, 'box': 10.09004, 'cls': 0.62285, 'dfl': 1.10198, 'hsv_h': 0.01516, 'hsv_s': 0.76126, 'hsv_v': 0.69313, 'degrees': 0.0, 'translate': 0.10532, 'scale': 0.38305, 'shear': 0.0, 'perspective': 0.0, 'flipud': 0.0, 'fliplr': 0.24847, 'bgr': 0.0, 'mosaic': 0.81984, 'mixup': 0.0, 'copy_paste': 0.0}\n",
      "Saved runs\\detect\\tune\\tune_scatter_plots.png\n",
      "Saved runs\\detect\\tune\\tune_fitness.png\n",
      "\n",
      "\u001b[34m\u001b[1mTuner: \u001b[0m23/300 iterations complete  (8815.51s)\n",
      "\u001b[34m\u001b[1mTuner: \u001b[0mResults saved to \u001b[1mruns\\detect\\tune\u001b[0m\n",
      "\u001b[34m\u001b[1mTuner: \u001b[0mBest fitness=0.65798 observed at iteration 16\n",
      "\u001b[34m\u001b[1mTuner: \u001b[0mBest fitness metrics are {'metrics/precision(B)': 0.89174, 'metrics/recall(B)': 0.85129, 'metrics/mAP50(B)': 0.93149, 'metrics/mAP50-95(B)': 0.6276, 'val/box_loss': 1.3099, 'val/cls_loss': 0.81882, 'val/dfl_loss': 0.98132, 'fitness': 0.65798}\n",
      "\u001b[34m\u001b[1mTuner: \u001b[0mBest fitness model is runs\\detect\\train18\n",
      "\u001b[34m\u001b[1mTuner: \u001b[0mBest fitness hyperparameters are printed below.\n",
      "\n",
      "Printing '\u001b[1m\u001b[30mruns\\detect\\tune\\best_hyperparameters.yaml\u001b[0m'\n",
      "\n",
      "lr0: 0.00492\n",
      "lrf: 0.01222\n",
      "momentum: 0.85123\n",
      "weight_decay: 0.00045\n",
      "warmup_epochs: 2.55799\n",
      "warmup_momentum: 0.69414\n",
      "box: 8.35819\n",
      "cls: 0.62828\n",
      "dfl: 1.28665\n",
      "hsv_h: 0.01484\n",
      "hsv_s: 0.67167\n",
      "hsv_v: 0.64857\n",
      "degrees: 0.0\n",
      "translate: 0.11644\n",
      "scale: 0.45209\n",
      "shear: 0.0\n",
      "perspective: 0.0\n",
      "flipud: 0.0\n",
      "fliplr: 0.28389\n",
      "bgr: 0.0\n",
      "mosaic: 0.82448\n",
      "mixup: 0.0\n",
      "copy_paste: 0.0\n",
      "\n",
      "\u001b[34m\u001b[1mTuner: \u001b[0mStarting iteration 24/300 with hyperparameters: {'lr0': 0.0037, 'lrf': 0.01126, 'momentum': 0.89851, 'weight_decay': 0.00041, 'warmup_epochs': 1.27925, 'warmup_momentum': 0.74428, 'box': 11.46535, 'cls': 0.56389, 'dfl': 1.2472, 'hsv_h': 0.0148, 'hsv_s': 0.7518, 'hsv_v': 0.57636, 'degrees': 0.0, 'translate': 0.10939, 'scale': 0.39277, 'shear': 0.0, 'perspective': 0.0, 'flipud': 0.0, 'fliplr': 0.27207, 'bgr': 0.0, 'mosaic': 0.9895, 'mixup': 0.0, 'copy_paste': 0.0}\n",
      "Saved runs\\detect\\tune\\tune_scatter_plots.png\n",
      "Saved runs\\detect\\tune\\tune_fitness.png\n",
      "\n",
      "\u001b[34m\u001b[1mTuner: \u001b[0m24/300 iterations complete  (9198.28s)\n",
      "\u001b[34m\u001b[1mTuner: \u001b[0mResults saved to \u001b[1mruns\\detect\\tune\u001b[0m\n",
      "\u001b[34m\u001b[1mTuner: \u001b[0mBest fitness=0.65798 observed at iteration 16\n",
      "\u001b[34m\u001b[1mTuner: \u001b[0mBest fitness metrics are {'metrics/precision(B)': 0.89174, 'metrics/recall(B)': 0.85129, 'metrics/mAP50(B)': 0.93149, 'metrics/mAP50-95(B)': 0.6276, 'val/box_loss': 1.3099, 'val/cls_loss': 0.81882, 'val/dfl_loss': 0.98132, 'fitness': 0.65798}\n",
      "\u001b[34m\u001b[1mTuner: \u001b[0mBest fitness model is runs\\detect\\train18\n",
      "\u001b[34m\u001b[1mTuner: \u001b[0mBest fitness hyperparameters are printed below.\n",
      "\n",
      "Printing '\u001b[1m\u001b[30mruns\\detect\\tune\\best_hyperparameters.yaml\u001b[0m'\n",
      "\n",
      "lr0: 0.00492\n",
      "lrf: 0.01222\n",
      "momentum: 0.85123\n",
      "weight_decay: 0.00045\n",
      "warmup_epochs: 2.55799\n",
      "warmup_momentum: 0.69414\n",
      "box: 8.35819\n",
      "cls: 0.62828\n",
      "dfl: 1.28665\n",
      "hsv_h: 0.01484\n",
      "hsv_s: 0.67167\n",
      "hsv_v: 0.64857\n",
      "degrees: 0.0\n",
      "translate: 0.11644\n",
      "scale: 0.45209\n",
      "shear: 0.0\n",
      "perspective: 0.0\n",
      "flipud: 0.0\n",
      "fliplr: 0.28389\n",
      "bgr: 0.0\n",
      "mosaic: 0.82448\n",
      "mixup: 0.0\n",
      "copy_paste: 0.0\n",
      "\n",
      "\u001b[34m\u001b[1mTuner: \u001b[0mStarting iteration 25/300 with hyperparameters: {'lr0': 0.003, 'lrf': 0.01004, 'momentum': 0.94241, 'weight_decay': 0.0004, 'warmup_epochs': 1.86104, 'warmup_momentum': 0.69967, 'box': 10.26566, 'cls': 0.61282, 'dfl': 1.362, 'hsv_h': 0.0154, 'hsv_s': 0.62495, 'hsv_v': 0.8009, 'degrees': 0.0, 'translate': 0.09298, 'scale': 0.41915, 'shear': 0.0, 'perspective': 0.0, 'flipud': 0.0, 'fliplr': 0.27213, 'bgr': 0.0, 'mosaic': 0.81045, 'mixup': 0.0, 'copy_paste': 0.0}\n",
      "Saved runs\\detect\\tune\\tune_scatter_plots.png\n",
      "Saved runs\\detect\\tune\\tune_fitness.png\n",
      "\n",
      "\u001b[34m\u001b[1mTuner: \u001b[0m25/300 iterations complete  (9574.09s)\n",
      "\u001b[34m\u001b[1mTuner: \u001b[0mResults saved to \u001b[1mruns\\detect\\tune\u001b[0m\n",
      "\u001b[34m\u001b[1mTuner: \u001b[0mBest fitness=0.65798 observed at iteration 16\n",
      "\u001b[34m\u001b[1mTuner: \u001b[0mBest fitness metrics are {'metrics/precision(B)': 0.89174, 'metrics/recall(B)': 0.85129, 'metrics/mAP50(B)': 0.93149, 'metrics/mAP50-95(B)': 0.6276, 'val/box_loss': 1.3099, 'val/cls_loss': 0.81882, 'val/dfl_loss': 0.98132, 'fitness': 0.65798}\n",
      "\u001b[34m\u001b[1mTuner: \u001b[0mBest fitness model is runs\\detect\\train18\n",
      "\u001b[34m\u001b[1mTuner: \u001b[0mBest fitness hyperparameters are printed below.\n",
      "\n",
      "Printing '\u001b[1m\u001b[30mruns\\detect\\tune\\best_hyperparameters.yaml\u001b[0m'\n",
      "\n",
      "lr0: 0.00492\n",
      "lrf: 0.01222\n",
      "momentum: 0.85123\n",
      "weight_decay: 0.00045\n",
      "warmup_epochs: 2.55799\n",
      "warmup_momentum: 0.69414\n",
      "box: 8.35819\n",
      "cls: 0.62828\n",
      "dfl: 1.28665\n",
      "hsv_h: 0.01484\n",
      "hsv_s: 0.67167\n",
      "hsv_v: 0.64857\n",
      "degrees: 0.0\n",
      "translate: 0.11644\n",
      "scale: 0.45209\n",
      "shear: 0.0\n",
      "perspective: 0.0\n",
      "flipud: 0.0\n",
      "fliplr: 0.28389\n",
      "bgr: 0.0\n",
      "mosaic: 0.82448\n",
      "mixup: 0.0\n",
      "copy_paste: 0.0\n",
      "\n",
      "\u001b[34m\u001b[1mTuner: \u001b[0mStarting iteration 26/300 with hyperparameters: {'lr0': 0.00455, 'lrf': 0.01192, 'momentum': 0.7891, 'weight_decay': 0.00035, 'warmup_epochs': 1.90346, 'warmup_momentum': 0.64877, 'box': 5.26671, 'cls': 0.58047, 'dfl': 1.19725, 'hsv_h': 0.01638, 'hsv_s': 0.72166, 'hsv_v': 0.59295, 'degrees': 0.0, 'translate': 0.12015, 'scale': 0.40284, 'shear': 0.0, 'perspective': 0.0, 'flipud': 0.0, 'fliplr': 0.3341, 'bgr': 0.0, 'mosaic': 0.92252, 'mixup': 0.0, 'copy_paste': 0.0}\n",
      "Saved runs\\detect\\tune\\tune_scatter_plots.png\n",
      "Saved runs\\detect\\tune\\tune_fitness.png\n",
      "\n",
      "\u001b[34m\u001b[1mTuner: \u001b[0m26/300 iterations complete  (9951.87s)\n",
      "\u001b[34m\u001b[1mTuner: \u001b[0mResults saved to \u001b[1mruns\\detect\\tune\u001b[0m\n",
      "\u001b[34m\u001b[1mTuner: \u001b[0mBest fitness=0.65798 observed at iteration 16\n",
      "\u001b[34m\u001b[1mTuner: \u001b[0mBest fitness metrics are {'metrics/precision(B)': 0.89174, 'metrics/recall(B)': 0.85129, 'metrics/mAP50(B)': 0.93149, 'metrics/mAP50-95(B)': 0.6276, 'val/box_loss': 1.3099, 'val/cls_loss': 0.81882, 'val/dfl_loss': 0.98132, 'fitness': 0.65798}\n",
      "\u001b[34m\u001b[1mTuner: \u001b[0mBest fitness model is runs\\detect\\train18\n",
      "\u001b[34m\u001b[1mTuner: \u001b[0mBest fitness hyperparameters are printed below.\n",
      "\n",
      "Printing '\u001b[1m\u001b[30mruns\\detect\\tune\\best_hyperparameters.yaml\u001b[0m'\n",
      "\n",
      "lr0: 0.00492\n",
      "lrf: 0.01222\n",
      "momentum: 0.85123\n",
      "weight_decay: 0.00045\n",
      "warmup_epochs: 2.55799\n",
      "warmup_momentum: 0.69414\n",
      "box: 8.35819\n",
      "cls: 0.62828\n",
      "dfl: 1.28665\n",
      "hsv_h: 0.01484\n",
      "hsv_s: 0.67167\n",
      "hsv_v: 0.64857\n",
      "degrees: 0.0\n",
      "translate: 0.11644\n",
      "scale: 0.45209\n",
      "shear: 0.0\n",
      "perspective: 0.0\n",
      "flipud: 0.0\n",
      "fliplr: 0.28389\n",
      "bgr: 0.0\n",
      "mosaic: 0.82448\n",
      "mixup: 0.0\n",
      "copy_paste: 0.0\n",
      "\n",
      "\u001b[34m\u001b[1mTuner: \u001b[0mStarting iteration 27/300 with hyperparameters: {'lr0': 0.00492, 'lrf': 0.0121, 'momentum': 0.85452, 'weight_decay': 0.00042, 'warmup_epochs': 2.25247, 'warmup_momentum': 0.69414, 'box': 8.46565, 'cls': 0.67407, 'dfl': 1.42127, 'hsv_h': 0.01371, 'hsv_s': 0.67167, 'hsv_v': 0.64857, 'degrees': 0.0, 'translate': 0.11348, 'scale': 0.44198, 'shear': 0.0, 'perspective': 0.0, 'flipud': 0.0, 'fliplr': 0.26646, 'bgr': 0.0, 'mosaic': 0.82419, 'mixup': 0.0, 'copy_paste': 0.0}\n",
      "Saved runs\\detect\\tune\\tune_scatter_plots.png\n",
      "Saved runs\\detect\\tune\\tune_fitness.png\n",
      "\n",
      "\u001b[34m\u001b[1mTuner: \u001b[0m27/300 iterations complete  (10338.42s)\n",
      "\u001b[34m\u001b[1mTuner: \u001b[0mResults saved to \u001b[1mruns\\detect\\tune\u001b[0m\n",
      "\u001b[34m\u001b[1mTuner: \u001b[0mBest fitness=0.65798 observed at iteration 16\n",
      "\u001b[34m\u001b[1mTuner: \u001b[0mBest fitness metrics are {'metrics/precision(B)': 0.89174, 'metrics/recall(B)': 0.85129, 'metrics/mAP50(B)': 0.93149, 'metrics/mAP50-95(B)': 0.6276, 'val/box_loss': 1.3099, 'val/cls_loss': 0.81882, 'val/dfl_loss': 0.98132, 'fitness': 0.65798}\n",
      "\u001b[34m\u001b[1mTuner: \u001b[0mBest fitness model is runs\\detect\\train18\n",
      "\u001b[34m\u001b[1mTuner: \u001b[0mBest fitness hyperparameters are printed below.\n",
      "\n",
      "Printing '\u001b[1m\u001b[30mruns\\detect\\tune\\best_hyperparameters.yaml\u001b[0m'\n",
      "\n",
      "lr0: 0.00492\n",
      "lrf: 0.01222\n",
      "momentum: 0.85123\n",
      "weight_decay: 0.00045\n",
      "warmup_epochs: 2.55799\n",
      "warmup_momentum: 0.69414\n",
      "box: 8.35819\n",
      "cls: 0.62828\n",
      "dfl: 1.28665\n",
      "hsv_h: 0.01484\n",
      "hsv_s: 0.67167\n",
      "hsv_v: 0.64857\n",
      "degrees: 0.0\n",
      "translate: 0.11644\n",
      "scale: 0.45209\n",
      "shear: 0.0\n",
      "perspective: 0.0\n",
      "flipud: 0.0\n",
      "fliplr: 0.28389\n",
      "bgr: 0.0\n",
      "mosaic: 0.82448\n",
      "mixup: 0.0\n",
      "copy_paste: 0.0\n",
      "\n",
      "\u001b[34m\u001b[1mTuner: \u001b[0mStarting iteration 28/300 with hyperparameters: {'lr0': 0.00431, 'lrf': 0.01222, 'momentum': 0.87461, 'weight_decay': 0.00051, 'warmup_epochs': 2.2016, 'warmup_momentum': 0.70523, 'box': 8.93351, 'cls': 0.62828, 'dfl': 1.31871, 'hsv_h': 0.01669, 'hsv_s': 0.67167, 'hsv_v': 0.66882, 'degrees': 0.0, 'translate': 0.11702, 'scale': 0.45975, 'shear': 0.0, 'perspective': 0.0, 'flipud': 0.0, 'fliplr': 0.25145, 'bgr': 0.0, 'mosaic': 0.82434, 'mixup': 0.0, 'copy_paste': 0.0}\n",
      "Saved runs\\detect\\tune\\tune_scatter_plots.png\n",
      "Saved runs\\detect\\tune\\tune_fitness.png\n",
      "\n",
      "\u001b[34m\u001b[1mTuner: \u001b[0m28/300 iterations complete  (10717.72s)\n",
      "\u001b[34m\u001b[1mTuner: \u001b[0mResults saved to \u001b[1mruns\\detect\\tune\u001b[0m\n",
      "\u001b[34m\u001b[1mTuner: \u001b[0mBest fitness=0.65798 observed at iteration 16\n",
      "\u001b[34m\u001b[1mTuner: \u001b[0mBest fitness metrics are {'metrics/precision(B)': 0.89174, 'metrics/recall(B)': 0.85129, 'metrics/mAP50(B)': 0.93149, 'metrics/mAP50-95(B)': 0.6276, 'val/box_loss': 1.3099, 'val/cls_loss': 0.81882, 'val/dfl_loss': 0.98132, 'fitness': 0.65798}\n",
      "\u001b[34m\u001b[1mTuner: \u001b[0mBest fitness model is runs\\detect\\train18\n",
      "\u001b[34m\u001b[1mTuner: \u001b[0mBest fitness hyperparameters are printed below.\n",
      "\n",
      "Printing '\u001b[1m\u001b[30mruns\\detect\\tune\\best_hyperparameters.yaml\u001b[0m'\n",
      "\n",
      "lr0: 0.00492\n",
      "lrf: 0.01222\n",
      "momentum: 0.85123\n",
      "weight_decay: 0.00045\n",
      "warmup_epochs: 2.55799\n",
      "warmup_momentum: 0.69414\n",
      "box: 8.35819\n",
      "cls: 0.62828\n",
      "dfl: 1.28665\n",
      "hsv_h: 0.01484\n",
      "hsv_s: 0.67167\n",
      "hsv_v: 0.64857\n",
      "degrees: 0.0\n",
      "translate: 0.11644\n",
      "scale: 0.45209\n",
      "shear: 0.0\n",
      "perspective: 0.0\n",
      "flipud: 0.0\n",
      "fliplr: 0.28389\n",
      "bgr: 0.0\n",
      "mosaic: 0.82448\n",
      "mixup: 0.0\n",
      "copy_paste: 0.0\n",
      "\n",
      "\u001b[34m\u001b[1mTuner: \u001b[0mStarting iteration 29/300 with hyperparameters: {'lr0': 0.00374, 'lrf': 0.01153, 'momentum': 0.87994, 'weight_decay': 0.00036, 'warmup_epochs': 1.53866, 'warmup_momentum': 0.69967, 'box': 10.89865, 'cls': 0.63666, 'dfl': 1.23765, 'hsv_h': 0.01389, 'hsv_s': 0.74104, 'hsv_v': 0.6753, 'degrees': 0.0, 'translate': 0.11482, 'scale': 0.42855, 'shear': 0.0, 'perspective': 0.0, 'flipud': 0.0, 'fliplr': 0.27821, 'bgr': 0.0, 'mosaic': 1.0, 'mixup': 0.0, 'copy_paste': 0.0}\n",
      "Saved runs\\detect\\tune\\tune_scatter_plots.png\n",
      "Saved runs\\detect\\tune\\tune_fitness.png\n",
      "\n",
      "\u001b[34m\u001b[1mTuner: \u001b[0m29/300 iterations complete  (11098.00s)\n",
      "\u001b[34m\u001b[1mTuner: \u001b[0mResults saved to \u001b[1mruns\\detect\\tune\u001b[0m\n",
      "\u001b[34m\u001b[1mTuner: \u001b[0mBest fitness=0.65798 observed at iteration 16\n",
      "\u001b[34m\u001b[1mTuner: \u001b[0mBest fitness metrics are {'metrics/precision(B)': 0.89174, 'metrics/recall(B)': 0.85129, 'metrics/mAP50(B)': 0.93149, 'metrics/mAP50-95(B)': 0.6276, 'val/box_loss': 1.3099, 'val/cls_loss': 0.81882, 'val/dfl_loss': 0.98132, 'fitness': 0.65798}\n",
      "\u001b[34m\u001b[1mTuner: \u001b[0mBest fitness model is runs\\detect\\train18\n",
      "\u001b[34m\u001b[1mTuner: \u001b[0mBest fitness hyperparameters are printed below.\n",
      "\n",
      "Printing '\u001b[1m\u001b[30mruns\\detect\\tune\\best_hyperparameters.yaml\u001b[0m'\n",
      "\n",
      "lr0: 0.00492\n",
      "lrf: 0.01222\n",
      "momentum: 0.85123\n",
      "weight_decay: 0.00045\n",
      "warmup_epochs: 2.55799\n",
      "warmup_momentum: 0.69414\n",
      "box: 8.35819\n",
      "cls: 0.62828\n",
      "dfl: 1.28665\n",
      "hsv_h: 0.01484\n",
      "hsv_s: 0.67167\n",
      "hsv_v: 0.64857\n",
      "degrees: 0.0\n",
      "translate: 0.11644\n",
      "scale: 0.45209\n",
      "shear: 0.0\n",
      "perspective: 0.0\n",
      "flipud: 0.0\n",
      "fliplr: 0.28389\n",
      "bgr: 0.0\n",
      "mosaic: 0.82448\n",
      "mixup: 0.0\n",
      "copy_paste: 0.0\n",
      "\n",
      "\u001b[34m\u001b[1mTuner: \u001b[0mStarting iteration 30/300 with hyperparameters: {'lr0': 0.004, 'lrf': 0.01222, 'momentum': 0.8835, 'weight_decay': 0.0005, 'warmup_epochs': 2.37762, 'warmup_momentum': 0.65813, 'box': 8.6076, 'cls': 0.68053, 'dfl': 1.27937, 'hsv_h': 0.01709, 'hsv_s': 0.70182, 'hsv_v': 0.71715, 'degrees': 0.0, 'translate': 0.11702, 'scale': 0.42654, 'shear': 0.0, 'perspective': 0.0, 'flipud': 0.0, 'fliplr': 0.25145, 'bgr': 0.0, 'mosaic': 0.80428, 'mixup': 0.0, 'copy_paste': 0.0}\n",
      "Saved runs\\detect\\tune\\tune_scatter_plots.png\n",
      "Saved runs\\detect\\tune\\tune_fitness.png\n",
      "\n",
      "\u001b[34m\u001b[1mTuner: \u001b[0m30/300 iterations complete  (11476.23s)\n",
      "\u001b[34m\u001b[1mTuner: \u001b[0mResults saved to \u001b[1mruns\\detect\\tune\u001b[0m\n",
      "\u001b[34m\u001b[1mTuner: \u001b[0mBest fitness=0.65798 observed at iteration 16\n",
      "\u001b[34m\u001b[1mTuner: \u001b[0mBest fitness metrics are {'metrics/precision(B)': 0.89174, 'metrics/recall(B)': 0.85129, 'metrics/mAP50(B)': 0.93149, 'metrics/mAP50-95(B)': 0.6276, 'val/box_loss': 1.3099, 'val/cls_loss': 0.81882, 'val/dfl_loss': 0.98132, 'fitness': 0.65798}\n",
      "\u001b[34m\u001b[1mTuner: \u001b[0mBest fitness model is runs\\detect\\train18\n",
      "\u001b[34m\u001b[1mTuner: \u001b[0mBest fitness hyperparameters are printed below.\n",
      "\n",
      "Printing '\u001b[1m\u001b[30mruns\\detect\\tune\\best_hyperparameters.yaml\u001b[0m'\n",
      "\n",
      "lr0: 0.00492\n",
      "lrf: 0.01222\n",
      "momentum: 0.85123\n",
      "weight_decay: 0.00045\n",
      "warmup_epochs: 2.55799\n",
      "warmup_momentum: 0.69414\n",
      "box: 8.35819\n",
      "cls: 0.62828\n",
      "dfl: 1.28665\n",
      "hsv_h: 0.01484\n",
      "hsv_s: 0.67167\n",
      "hsv_v: 0.64857\n",
      "degrees: 0.0\n",
      "translate: 0.11644\n",
      "scale: 0.45209\n",
      "shear: 0.0\n",
      "perspective: 0.0\n",
      "flipud: 0.0\n",
      "fliplr: 0.28389\n",
      "bgr: 0.0\n",
      "mosaic: 0.82448\n",
      "mixup: 0.0\n",
      "copy_paste: 0.0\n",
      "\n",
      "\u001b[34m\u001b[1mTuner: \u001b[0mStarting iteration 31/300 with hyperparameters: {'lr0': 0.00376, 'lrf': 0.01191, 'momentum': 0.87672, 'weight_decay': 0.00047, 'warmup_epochs': 2.32713, 'warmup_momentum': 0.66777, 'box': 8.68533, 'cls': 0.68053, 'dfl': 1.19324, 'hsv_h': 0.01585, 'hsv_s': 0.70182, 'hsv_v': 0.68082, 'degrees': 0.0, 'translate': 0.12254, 'scale': 0.43627, 'shear': 0.0, 'perspective': 0.0, 'flipud': 0.0, 'fliplr': 0.27459, 'bgr': 0.0, 'mosaic': 0.83012, 'mixup': 0.0, 'copy_paste': 0.0}\n",
      "Saved runs\\detect\\tune\\tune_scatter_plots.png\n",
      "Saved runs\\detect\\tune\\tune_fitness.png\n",
      "\n",
      "\u001b[34m\u001b[1mTuner: \u001b[0m31/300 iterations complete  (11855.94s)\n",
      "\u001b[34m\u001b[1mTuner: \u001b[0mResults saved to \u001b[1mruns\\detect\\tune\u001b[0m\n",
      "\u001b[34m\u001b[1mTuner: \u001b[0mBest fitness=0.65798 observed at iteration 16\n",
      "\u001b[34m\u001b[1mTuner: \u001b[0mBest fitness metrics are {'metrics/precision(B)': 0.89174, 'metrics/recall(B)': 0.85129, 'metrics/mAP50(B)': 0.93149, 'metrics/mAP50-95(B)': 0.6276, 'val/box_loss': 1.3099, 'val/cls_loss': 0.81882, 'val/dfl_loss': 0.98132, 'fitness': 0.65798}\n",
      "\u001b[34m\u001b[1mTuner: \u001b[0mBest fitness model is runs\\detect\\train18\n",
      "\u001b[34m\u001b[1mTuner: \u001b[0mBest fitness hyperparameters are printed below.\n",
      "\n",
      "Printing '\u001b[1m\u001b[30mruns\\detect\\tune\\best_hyperparameters.yaml\u001b[0m'\n",
      "\n",
      "lr0: 0.00492\n",
      "lrf: 0.01222\n",
      "momentum: 0.85123\n",
      "weight_decay: 0.00045\n",
      "warmup_epochs: 2.55799\n",
      "warmup_momentum: 0.69414\n",
      "box: 8.35819\n",
      "cls: 0.62828\n",
      "dfl: 1.28665\n",
      "hsv_h: 0.01484\n",
      "hsv_s: 0.67167\n",
      "hsv_v: 0.64857\n",
      "degrees: 0.0\n",
      "translate: 0.11644\n",
      "scale: 0.45209\n",
      "shear: 0.0\n",
      "perspective: 0.0\n",
      "flipud: 0.0\n",
      "fliplr: 0.28389\n",
      "bgr: 0.0\n",
      "mosaic: 0.82448\n",
      "mixup: 0.0\n",
      "copy_paste: 0.0\n",
      "\n",
      "\u001b[34m\u001b[1mTuner: \u001b[0mStarting iteration 32/300 with hyperparameters: {'lr0': 0.00337, 'lrf': 0.01231, 'momentum': 0.90794, 'weight_decay': 0.00038, 'warmup_epochs': 1.3624, 'warmup_momentum': 0.71567, 'box': 10.90289, 'cls': 0.48274, 'dfl': 1.3388, 'hsv_h': 0.01752, 'hsv_s': 0.75347, 'hsv_v': 0.67203, 'degrees': 0.0, 'translate': 0.1029, 'scale': 0.37554, 'shear': 0.0, 'perspective': 0.0, 'flipud': 0.0, 'fliplr': 0.32034, 'bgr': 0.0, 'mosaic': 0.94781, 'mixup': 0.0, 'copy_paste': 0.0}\n",
      "Saved runs\\detect\\tune\\tune_scatter_plots.png\n",
      "Saved runs\\detect\\tune\\tune_fitness.png\n",
      "\n",
      "\u001b[34m\u001b[1mTuner: \u001b[0m32/300 iterations complete  (12239.38s)\n",
      "\u001b[34m\u001b[1mTuner: \u001b[0mResults saved to \u001b[1mruns\\detect\\tune\u001b[0m\n",
      "\u001b[34m\u001b[1mTuner: \u001b[0mBest fitness=0.65798 observed at iteration 16\n",
      "\u001b[34m\u001b[1mTuner: \u001b[0mBest fitness metrics are {'metrics/precision(B)': 0.89174, 'metrics/recall(B)': 0.85129, 'metrics/mAP50(B)': 0.93149, 'metrics/mAP50-95(B)': 0.6276, 'val/box_loss': 1.3099, 'val/cls_loss': 0.81882, 'val/dfl_loss': 0.98132, 'fitness': 0.65798}\n",
      "\u001b[34m\u001b[1mTuner: \u001b[0mBest fitness model is runs\\detect\\train18\n",
      "\u001b[34m\u001b[1mTuner: \u001b[0mBest fitness hyperparameters are printed below.\n",
      "\n",
      "Printing '\u001b[1m\u001b[30mruns\\detect\\tune\\best_hyperparameters.yaml\u001b[0m'\n",
      "\n",
      "lr0: 0.00492\n",
      "lrf: 0.01222\n",
      "momentum: 0.85123\n",
      "weight_decay: 0.00045\n",
      "warmup_epochs: 2.55799\n",
      "warmup_momentum: 0.69414\n",
      "box: 8.35819\n",
      "cls: 0.62828\n",
      "dfl: 1.28665\n",
      "hsv_h: 0.01484\n",
      "hsv_s: 0.67167\n",
      "hsv_v: 0.64857\n",
      "degrees: 0.0\n",
      "translate: 0.11644\n",
      "scale: 0.45209\n",
      "shear: 0.0\n",
      "perspective: 0.0\n",
      "flipud: 0.0\n",
      "fliplr: 0.28389\n",
      "bgr: 0.0\n",
      "mosaic: 0.82448\n",
      "mixup: 0.0\n",
      "copy_paste: 0.0\n",
      "\n",
      "\u001b[34m\u001b[1mTuner: \u001b[0mStarting iteration 33/300 with hyperparameters: {'lr0': 0.00424, 'lrf': 0.01337, 'momentum': 0.89883, 'weight_decay': 0.0005, 'warmup_epochs': 2.0292, 'warmup_momentum': 0.77459, 'box': 9.20854, 'cls': 0.59534, 'dfl': 1.44116, 'hsv_h': 0.01714, 'hsv_s': 0.67167, 'hsv_v': 0.67694, 'degrees': 0.0, 'translate': 0.11537, 'scale': 0.45975, 'shear': 0.0, 'perspective': 0.0, 'flipud': 0.0, 'fliplr': 0.26055, 'bgr': 0.0, 'mosaic': 0.76877, 'mixup': 0.0, 'copy_paste': 0.0}\n",
      "Saved runs\\detect\\tune\\tune_scatter_plots.png\n",
      "Saved runs\\detect\\tune\\tune_fitness.png\n",
      "\n",
      "\u001b[34m\u001b[1mTuner: \u001b[0m33/300 iterations complete  (12620.78s)\n",
      "\u001b[34m\u001b[1mTuner: \u001b[0mResults saved to \u001b[1mruns\\detect\\tune\u001b[0m\n",
      "\u001b[34m\u001b[1mTuner: \u001b[0mBest fitness=0.65798 observed at iteration 16\n",
      "\u001b[34m\u001b[1mTuner: \u001b[0mBest fitness metrics are {'metrics/precision(B)': 0.89174, 'metrics/recall(B)': 0.85129, 'metrics/mAP50(B)': 0.93149, 'metrics/mAP50-95(B)': 0.6276, 'val/box_loss': 1.3099, 'val/cls_loss': 0.81882, 'val/dfl_loss': 0.98132, 'fitness': 0.65798}\n",
      "\u001b[34m\u001b[1mTuner: \u001b[0mBest fitness model is runs\\detect\\train18\n",
      "\u001b[34m\u001b[1mTuner: \u001b[0mBest fitness hyperparameters are printed below.\n",
      "\n",
      "Printing '\u001b[1m\u001b[30mruns\\detect\\tune\\best_hyperparameters.yaml\u001b[0m'\n",
      "\n",
      "lr0: 0.00492\n",
      "lrf: 0.01222\n",
      "momentum: 0.85123\n",
      "weight_decay: 0.00045\n",
      "warmup_epochs: 2.55799\n",
      "warmup_momentum: 0.69414\n",
      "box: 8.35819\n",
      "cls: 0.62828\n",
      "dfl: 1.28665\n",
      "hsv_h: 0.01484\n",
      "hsv_s: 0.67167\n",
      "hsv_v: 0.64857\n",
      "degrees: 0.0\n",
      "translate: 0.11644\n",
      "scale: 0.45209\n",
      "shear: 0.0\n",
      "perspective: 0.0\n",
      "flipud: 0.0\n",
      "fliplr: 0.28389\n",
      "bgr: 0.0\n",
      "mosaic: 0.82448\n",
      "mixup: 0.0\n",
      "copy_paste: 0.0\n",
      "\n",
      "\u001b[34m\u001b[1mTuner: \u001b[0mStarting iteration 34/300 with hyperparameters: {'lr0': 0.00503, 'lrf': 0.01222, 'momentum': 0.85123, 'weight_decay': 0.00045, 'warmup_epochs': 2.60335, 'warmup_momentum': 0.68958, 'box': 8.43476, 'cls': 0.62828, 'dfl': 1.28665, 'hsv_h': 0.01506, 'hsv_s': 0.66208, 'hsv_v': 0.64699, 'degrees': 0.0, 'translate': 0.11874, 'scale': 0.45209, 'shear': 0.0, 'perspective': 0.0, 'flipud': 0.0, 'fliplr': 0.28218, 'bgr': 0.0, 'mosaic': 0.84849, 'mixup': 0.0, 'copy_paste': 0.0}\n",
      "Saved runs\\detect\\tune\\tune_scatter_plots.png\n",
      "Saved runs\\detect\\tune\\tune_fitness.png\n",
      "\n",
      "\u001b[34m\u001b[1mTuner: \u001b[0m34/300 iterations complete  (12994.16s)\n",
      "\u001b[34m\u001b[1mTuner: \u001b[0mResults saved to \u001b[1mruns\\detect\\tune\u001b[0m\n",
      "\u001b[34m\u001b[1mTuner: \u001b[0mBest fitness=0.65798 observed at iteration 16\n",
      "\u001b[34m\u001b[1mTuner: \u001b[0mBest fitness metrics are {'metrics/precision(B)': 0.89174, 'metrics/recall(B)': 0.85129, 'metrics/mAP50(B)': 0.93149, 'metrics/mAP50-95(B)': 0.6276, 'val/box_loss': 1.3099, 'val/cls_loss': 0.81882, 'val/dfl_loss': 0.98132, 'fitness': 0.65798}\n",
      "\u001b[34m\u001b[1mTuner: \u001b[0mBest fitness model is runs\\detect\\train18\n",
      "\u001b[34m\u001b[1mTuner: \u001b[0mBest fitness hyperparameters are printed below.\n",
      "\n",
      "Printing '\u001b[1m\u001b[30mruns\\detect\\tune\\best_hyperparameters.yaml\u001b[0m'\n",
      "\n",
      "lr0: 0.00492\n",
      "lrf: 0.01222\n",
      "momentum: 0.85123\n",
      "weight_decay: 0.00045\n",
      "warmup_epochs: 2.55799\n",
      "warmup_momentum: 0.69414\n",
      "box: 8.35819\n",
      "cls: 0.62828\n",
      "dfl: 1.28665\n",
      "hsv_h: 0.01484\n",
      "hsv_s: 0.67167\n",
      "hsv_v: 0.64857\n",
      "degrees: 0.0\n",
      "translate: 0.11644\n",
      "scale: 0.45209\n",
      "shear: 0.0\n",
      "perspective: 0.0\n",
      "flipud: 0.0\n",
      "fliplr: 0.28389\n",
      "bgr: 0.0\n",
      "mosaic: 0.82448\n",
      "mixup: 0.0\n",
      "copy_paste: 0.0\n",
      "\n",
      "\u001b[34m\u001b[1mTuner: \u001b[0mStarting iteration 35/300 with hyperparameters: {'lr0': 0.00409, 'lrf': 0.01243, 'momentum': 0.84585, 'weight_decay': 0.00051, 'warmup_epochs': 3.05725, 'warmup_momentum': 0.70523, 'box': 11.52792, 'cls': 0.6241, 'dfl': 1.49565, 'hsv_h': 0.01811, 'hsv_s': 0.67345, 'hsv_v': 0.45512, 'degrees': 0.0, 'translate': 0.11064, 'scale': 0.39279, 'shear': 0.0, 'perspective': 0.0, 'flipud': 0.0, 'fliplr': 0.24357, 'bgr': 0.0, 'mosaic': 0.82434, 'mixup': 0.0, 'copy_paste': 0.0}\n",
      "Saved runs\\detect\\tune\\tune_scatter_plots.png\n",
      "Saved runs\\detect\\tune\\tune_fitness.png\n",
      "\n",
      "\u001b[34m\u001b[1mTuner: \u001b[0m35/300 iterations complete  (13383.79s)\n",
      "\u001b[34m\u001b[1mTuner: \u001b[0mResults saved to \u001b[1mruns\\detect\\tune\u001b[0m\n",
      "\u001b[34m\u001b[1mTuner: \u001b[0mBest fitness=0.65958 observed at iteration 35\n",
      "\u001b[34m\u001b[1mTuner: \u001b[0mBest fitness metrics are {'metrics/precision(B)': 0.88689, 'metrics/recall(B)': 0.84528, 'metrics/mAP50(B)': 0.92985, 'metrics/mAP50-95(B)': 0.62955, 'val/box_loss': 1.80751, 'val/cls_loss': 0.8051, 'val/dfl_loss': 1.13748, 'fitness': 0.65958}\n",
      "\u001b[34m\u001b[1mTuner: \u001b[0mBest fitness model is runs\\detect\\train37\n",
      "\u001b[34m\u001b[1mTuner: \u001b[0mBest fitness hyperparameters are printed below.\n",
      "\n",
      "Printing '\u001b[1m\u001b[30mruns\\detect\\tune\\best_hyperparameters.yaml\u001b[0m'\n",
      "\n",
      "lr0: 0.00409\n",
      "lrf: 0.01243\n",
      "momentum: 0.84585\n",
      "weight_decay: 0.00051\n",
      "warmup_epochs: 3.05725\n",
      "warmup_momentum: 0.70523\n",
      "box: 11.52792\n",
      "cls: 0.6241\n",
      "dfl: 1.49565\n",
      "hsv_h: 0.01811\n",
      "hsv_s: 0.67345\n",
      "hsv_v: 0.45512\n",
      "degrees: 0.0\n",
      "translate: 0.11064\n",
      "scale: 0.39279\n",
      "shear: 0.0\n",
      "perspective: 0.0\n",
      "flipud: 0.0\n",
      "fliplr: 0.24357\n",
      "bgr: 0.0\n",
      "mosaic: 0.82434\n",
      "mixup: 0.0\n",
      "copy_paste: 0.0\n",
      "\n",
      "\u001b[34m\u001b[1mTuner: \u001b[0mStarting iteration 36/300 with hyperparameters: {'lr0': 0.00478, 'lrf': 0.01108, 'momentum': 0.85494, 'weight_decay': 0.00049, 'warmup_epochs': 2.45713, 'warmup_momentum': 0.78875, 'box': 8.2913, 'cls': 0.57357, 'dfl': 1.2218, 'hsv_h': 0.01484, 'hsv_s': 0.67167, 'hsv_v': 0.64794, 'degrees': 0.0, 'translate': 0.11811, 'scale': 0.45209, 'shear': 0.0, 'perspective': 0.0, 'flipud': 0.0, 'fliplr': 0.28878, 'bgr': 0.0, 'mosaic': 0.82448, 'mixup': 0.0, 'copy_paste': 0.0}\n",
      "Saved runs\\detect\\tune\\tune_scatter_plots.png\n",
      "Saved runs\\detect\\tune\\tune_fitness.png\n",
      "\n",
      "\u001b[34m\u001b[1mTuner: \u001b[0m36/300 iterations complete  (13766.60s)\n",
      "\u001b[34m\u001b[1mTuner: \u001b[0mResults saved to \u001b[1mruns\\detect\\tune\u001b[0m\n",
      "\u001b[34m\u001b[1mTuner: \u001b[0mBest fitness=0.65958 observed at iteration 35\n",
      "\u001b[34m\u001b[1mTuner: \u001b[0mBest fitness metrics are {'metrics/precision(B)': 0.88689, 'metrics/recall(B)': 0.84528, 'metrics/mAP50(B)': 0.92985, 'metrics/mAP50-95(B)': 0.62955, 'val/box_loss': 1.80751, 'val/cls_loss': 0.8051, 'val/dfl_loss': 1.13748, 'fitness': 0.65958}\n",
      "\u001b[34m\u001b[1mTuner: \u001b[0mBest fitness model is runs\\detect\\train37\n",
      "\u001b[34m\u001b[1mTuner: \u001b[0mBest fitness hyperparameters are printed below.\n",
      "\n",
      "Printing '\u001b[1m\u001b[30mruns\\detect\\tune\\best_hyperparameters.yaml\u001b[0m'\n",
      "\n",
      "lr0: 0.00409\n",
      "lrf: 0.01243\n",
      "momentum: 0.84585\n",
      "weight_decay: 0.00051\n",
      "warmup_epochs: 3.05725\n",
      "warmup_momentum: 0.70523\n",
      "box: 11.52792\n",
      "cls: 0.6241\n",
      "dfl: 1.49565\n",
      "hsv_h: 0.01811\n",
      "hsv_s: 0.67345\n",
      "hsv_v: 0.45512\n",
      "degrees: 0.0\n",
      "translate: 0.11064\n",
      "scale: 0.39279\n",
      "shear: 0.0\n",
      "perspective: 0.0\n",
      "flipud: 0.0\n",
      "fliplr: 0.24357\n",
      "bgr: 0.0\n",
      "mosaic: 0.82434\n",
      "mixup: 0.0\n",
      "copy_paste: 0.0\n",
      "\n",
      "\u001b[34m\u001b[1mTuner: \u001b[0mStarting iteration 37/300 with hyperparameters: {'lr0': 0.00416, 'lrf': 0.01243, 'momentum': 0.85685, 'weight_decay': 0.00049, 'warmup_epochs': 3.05243, 'warmup_momentum': 0.72705, 'box': 11.52792, 'cls': 0.57384, 'dfl': 1.49565, 'hsv_h': 0.01827, 'hsv_s': 0.66901, 'hsv_v': 0.48608, 'degrees': 0.0, 'translate': 0.11298, 'scale': 0.37917, 'shear': 0.0, 'perspective': 0.0, 'flipud': 0.0, 'fliplr': 0.24357, 'bgr': 0.0, 'mosaic': 0.89311, 'mixup': 0.0, 'copy_paste': 0.0}\n",
      "Saved runs\\detect\\tune\\tune_scatter_plots.png\n",
      "Saved runs\\detect\\tune\\tune_fitness.png\n",
      "\n",
      "\u001b[34m\u001b[1mTuner: \u001b[0m37/300 iterations complete  (14144.98s)\n",
      "\u001b[34m\u001b[1mTuner: \u001b[0mResults saved to \u001b[1mruns\\detect\\tune\u001b[0m\n",
      "\u001b[34m\u001b[1mTuner: \u001b[0mBest fitness=0.65987 observed at iteration 37\n",
      "\u001b[34m\u001b[1mTuner: \u001b[0mBest fitness metrics are {'metrics/precision(B)': 0.89365, 'metrics/recall(B)': 0.83893, 'metrics/mAP50(B)': 0.93107, 'metrics/mAP50-95(B)': 0.62974, 'val/box_loss': 1.7935, 'val/cls_loss': 0.73751, 'val/dfl_loss': 1.11739, 'fitness': 0.65987}\n",
      "\u001b[34m\u001b[1mTuner: \u001b[0mBest fitness model is runs\\detect\\train39\n",
      "\u001b[34m\u001b[1mTuner: \u001b[0mBest fitness hyperparameters are printed below.\n",
      "\n",
      "Printing '\u001b[1m\u001b[30mruns\\detect\\tune\\best_hyperparameters.yaml\u001b[0m'\n",
      "\n",
      "lr0: 0.00416\n",
      "lrf: 0.01243\n",
      "momentum: 0.85685\n",
      "weight_decay: 0.00049\n",
      "warmup_epochs: 3.05243\n",
      "warmup_momentum: 0.72705\n",
      "box: 11.52792\n",
      "cls: 0.57384\n",
      "dfl: 1.49565\n",
      "hsv_h: 0.01827\n",
      "hsv_s: 0.66901\n",
      "hsv_v: 0.48608\n",
      "degrees: 0.0\n",
      "translate: 0.11298\n",
      "scale: 0.37917\n",
      "shear: 0.0\n",
      "perspective: 0.0\n",
      "flipud: 0.0\n",
      "fliplr: 0.24357\n",
      "bgr: 0.0\n",
      "mosaic: 0.89311\n",
      "mixup: 0.0\n",
      "copy_paste: 0.0\n",
      "\n",
      "\u001b[34m\u001b[1mTuner: \u001b[0mStarting iteration 38/300 with hyperparameters: {'lr0': 0.00397, 'lrf': 0.00762, 'momentum': 0.83397, 'weight_decay': 0.00052, 'warmup_epochs': 2.20825, 'warmup_momentum': 0.88105, 'box': 10.44587, 'cls': 0.64356, 'dfl': 1.49565, 'hsv_h': 0.01168, 'hsv_s': 0.64175, 'hsv_v': 0.38752, 'degrees': 0.0, 'translate': 0.11854, 'scale': 0.33352, 'shear': 0.0, 'perspective': 0.0, 'flipud': 0.0, 'fliplr': 0.3383, 'bgr': 0.0, 'mosaic': 0.82434, 'mixup': 0.0, 'copy_paste': 0.0}\n",
      "Saved runs\\detect\\tune\\tune_scatter_plots.png\n",
      "Saved runs\\detect\\tune\\tune_fitness.png\n",
      "\n",
      "\u001b[34m\u001b[1mTuner: \u001b[0m38/300 iterations complete  (14523.10s)\n",
      "\u001b[34m\u001b[1mTuner: \u001b[0mResults saved to \u001b[1mruns\\detect\\tune\u001b[0m\n",
      "\u001b[34m\u001b[1mTuner: \u001b[0mBest fitness=0.65987 observed at iteration 37\n",
      "\u001b[34m\u001b[1mTuner: \u001b[0mBest fitness metrics are {'metrics/precision(B)': 0.89365, 'metrics/recall(B)': 0.83893, 'metrics/mAP50(B)': 0.93107, 'metrics/mAP50-95(B)': 0.62974, 'val/box_loss': 1.7935, 'val/cls_loss': 0.73751, 'val/dfl_loss': 1.11739, 'fitness': 0.65987}\n",
      "\u001b[34m\u001b[1mTuner: \u001b[0mBest fitness model is runs\\detect\\train39\n",
      "\u001b[34m\u001b[1mTuner: \u001b[0mBest fitness hyperparameters are printed below.\n",
      "\n",
      "Printing '\u001b[1m\u001b[30mruns\\detect\\tune\\best_hyperparameters.yaml\u001b[0m'\n",
      "\n",
      "lr0: 0.00416\n",
      "lrf: 0.01243\n",
      "momentum: 0.85685\n",
      "weight_decay: 0.00049\n",
      "warmup_epochs: 3.05243\n",
      "warmup_momentum: 0.72705\n",
      "box: 11.52792\n",
      "cls: 0.57384\n",
      "dfl: 1.49565\n",
      "hsv_h: 0.01827\n",
      "hsv_s: 0.66901\n",
      "hsv_v: 0.48608\n",
      "degrees: 0.0\n",
      "translate: 0.11298\n",
      "scale: 0.37917\n",
      "shear: 0.0\n",
      "perspective: 0.0\n",
      "flipud: 0.0\n",
      "fliplr: 0.24357\n",
      "bgr: 0.0\n",
      "mosaic: 0.89311\n",
      "mixup: 0.0\n",
      "copy_paste: 0.0\n",
      "\n",
      "\u001b[34m\u001b[1mTuner: \u001b[0mStarting iteration 39/300 with hyperparameters: {'lr0': 0.0046, 'lrf': 0.01282, 'momentum': 0.8497, 'weight_decay': 0.00053, 'warmup_epochs': 2.9011, 'warmup_momentum': 0.72705, 'box': 11.01756, 'cls': 0.58328, 'dfl': 1.73868, 'hsv_h': 0.01827, 'hsv_s': 0.62186, 'hsv_v': 0.48608, 'degrees': 0.0, 'translate': 0.11396, 'scale': 0.36307, 'shear': 0.0, 'perspective': 0.0, 'flipud': 0.0, 'fliplr': 0.21684, 'bgr': 0.0, 'mosaic': 0.88903, 'mixup': 0.0, 'copy_paste': 0.0}\n",
      "Saved runs\\detect\\tune\\tune_scatter_plots.png\n",
      "Saved runs\\detect\\tune\\tune_fitness.png\n",
      "\n",
      "\u001b[34m\u001b[1mTuner: \u001b[0m39/300 iterations complete  (14904.93s)\n",
      "\u001b[34m\u001b[1mTuner: \u001b[0mResults saved to \u001b[1mruns\\detect\\tune\u001b[0m\n",
      "\u001b[34m\u001b[1mTuner: \u001b[0mBest fitness=0.65987 observed at iteration 37\n",
      "\u001b[34m\u001b[1mTuner: \u001b[0mBest fitness metrics are {'metrics/precision(B)': 0.89365, 'metrics/recall(B)': 0.83893, 'metrics/mAP50(B)': 0.93107, 'metrics/mAP50-95(B)': 0.62974, 'val/box_loss': 1.7935, 'val/cls_loss': 0.73751, 'val/dfl_loss': 1.11739, 'fitness': 0.65987}\n",
      "\u001b[34m\u001b[1mTuner: \u001b[0mBest fitness model is runs\\detect\\train39\n",
      "\u001b[34m\u001b[1mTuner: \u001b[0mBest fitness hyperparameters are printed below.\n",
      "\n",
      "Printing '\u001b[1m\u001b[30mruns\\detect\\tune\\best_hyperparameters.yaml\u001b[0m'\n",
      "\n",
      "lr0: 0.00416\n",
      "lrf: 0.01243\n",
      "momentum: 0.85685\n",
      "weight_decay: 0.00049\n",
      "warmup_epochs: 3.05243\n",
      "warmup_momentum: 0.72705\n",
      "box: 11.52792\n",
      "cls: 0.57384\n",
      "dfl: 1.49565\n",
      "hsv_h: 0.01827\n",
      "hsv_s: 0.66901\n",
      "hsv_v: 0.48608\n",
      "degrees: 0.0\n",
      "translate: 0.11298\n",
      "scale: 0.37917\n",
      "shear: 0.0\n",
      "perspective: 0.0\n",
      "flipud: 0.0\n",
      "fliplr: 0.24357\n",
      "bgr: 0.0\n",
      "mosaic: 0.89311\n",
      "mixup: 0.0\n",
      "copy_paste: 0.0\n",
      "\n",
      "\u001b[34m\u001b[1mTuner: \u001b[0mStarting iteration 40/300 with hyperparameters: {'lr0': 0.00411, 'lrf': 0.01211, 'momentum': 0.82296, 'weight_decay': 0.00044, 'warmup_epochs': 2.61602, 'warmup_momentum': 0.74629, 'box': 11.59484, 'cls': 0.60812, 'dfl': 1.40803, 'hsv_h': 0.01811, 'hsv_s': 0.67345, 'hsv_v': 0.45512, 'degrees': 0.0, 'translate': 0.11472, 'scale': 0.39279, 'shear': 0.0, 'perspective': 0.0, 'flipud': 0.0, 'fliplr': 0.24357, 'bgr': 0.0, 'mosaic': 0.89402, 'mixup': 0.0, 'copy_paste': 0.0}\n",
      "Saved runs\\detect\\tune\\tune_scatter_plots.png\n",
      "Saved runs\\detect\\tune\\tune_fitness.png\n",
      "\n",
      "\u001b[34m\u001b[1mTuner: \u001b[0m40/300 iterations complete  (15287.70s)\n",
      "\u001b[34m\u001b[1mTuner: \u001b[0mResults saved to \u001b[1mruns\\detect\\tune\u001b[0m\n",
      "\u001b[34m\u001b[1mTuner: \u001b[0mBest fitness=0.66006 observed at iteration 40\n",
      "\u001b[34m\u001b[1mTuner: \u001b[0mBest fitness metrics are {'metrics/precision(B)': 0.89627, 'metrics/recall(B)': 0.84846, 'metrics/mAP50(B)': 0.93276, 'metrics/mAP50-95(B)': 0.62976, 'val/box_loss': 1.8083, 'val/cls_loss': 0.78002, 'val/dfl_loss': 1.06708, 'fitness': 0.66006}\n",
      "\u001b[34m\u001b[1mTuner: \u001b[0mBest fitness model is runs\\detect\\train42\n",
      "\u001b[34m\u001b[1mTuner: \u001b[0mBest fitness hyperparameters are printed below.\n",
      "\n",
      "Printing '\u001b[1m\u001b[30mruns\\detect\\tune\\best_hyperparameters.yaml\u001b[0m'\n",
      "\n",
      "lr0: 0.00411\n",
      "lrf: 0.01211\n",
      "momentum: 0.82296\n",
      "weight_decay: 0.00044\n",
      "warmup_epochs: 2.61602\n",
      "warmup_momentum: 0.74629\n",
      "box: 11.59484\n",
      "cls: 0.60812\n",
      "dfl: 1.40803\n",
      "hsv_h: 0.01811\n",
      "hsv_s: 0.67345\n",
      "hsv_v: 0.45512\n",
      "degrees: 0.0\n",
      "translate: 0.11472\n",
      "scale: 0.39279\n",
      "shear: 0.0\n",
      "perspective: 0.0\n",
      "flipud: 0.0\n",
      "fliplr: 0.24357\n",
      "bgr: 0.0\n",
      "mosaic: 0.89402\n",
      "mixup: 0.0\n",
      "copy_paste: 0.0\n",
      "\n",
      "\u001b[34m\u001b[1mTuner: \u001b[0mStarting iteration 41/300 with hyperparameters: {'lr0': 0.00349, 'lrf': 0.01243, 'momentum': 0.85685, 'weight_decay': 0.00053, 'warmup_epochs': 2.97034, 'warmup_momentum': 0.94361, 'box': 11.47378, 'cls': 0.44919, 'dfl': 1.43451, 'hsv_h': 0.01827, 'hsv_s': 0.61508, 'hsv_v': 0.54655, 'degrees': 0.0, 'translate': 0.13005, 'scale': 0.36067, 'shear': 0.0, 'perspective': 0.0, 'flipud': 0.0, 'fliplr': 0.10667, 'bgr': 0.0, 'mosaic': 0.61197, 'mixup': 0.0, 'copy_paste': 0.0}\n",
      "Saved runs\\detect\\tune\\tune_scatter_plots.png\n",
      "Saved runs\\detect\\tune\\tune_fitness.png\n",
      "\n",
      "\u001b[34m\u001b[1mTuner: \u001b[0m41/300 iterations complete  (15674.59s)\n",
      "\u001b[34m\u001b[1mTuner: \u001b[0mResults saved to \u001b[1mruns\\detect\\tune\u001b[0m\n",
      "\u001b[34m\u001b[1mTuner: \u001b[0mBest fitness=0.66006 observed at iteration 40\n",
      "\u001b[34m\u001b[1mTuner: \u001b[0mBest fitness metrics are {'metrics/precision(B)': 0.89627, 'metrics/recall(B)': 0.84846, 'metrics/mAP50(B)': 0.93276, 'metrics/mAP50-95(B)': 0.62976, 'val/box_loss': 1.8083, 'val/cls_loss': 0.78002, 'val/dfl_loss': 1.06708, 'fitness': 0.66006}\n",
      "\u001b[34m\u001b[1mTuner: \u001b[0mBest fitness model is runs\\detect\\train42\n",
      "\u001b[34m\u001b[1mTuner: \u001b[0mBest fitness hyperparameters are printed below.\n",
      "\n",
      "Printing '\u001b[1m\u001b[30mruns\\detect\\tune\\best_hyperparameters.yaml\u001b[0m'\n",
      "\n",
      "lr0: 0.00411\n",
      "lrf: 0.01211\n",
      "momentum: 0.82296\n",
      "weight_decay: 0.00044\n",
      "warmup_epochs: 2.61602\n",
      "warmup_momentum: 0.74629\n",
      "box: 11.59484\n",
      "cls: 0.60812\n",
      "dfl: 1.40803\n",
      "hsv_h: 0.01811\n",
      "hsv_s: 0.67345\n",
      "hsv_v: 0.45512\n",
      "degrees: 0.0\n",
      "translate: 0.11472\n",
      "scale: 0.39279\n",
      "shear: 0.0\n",
      "perspective: 0.0\n",
      "flipud: 0.0\n",
      "fliplr: 0.24357\n",
      "bgr: 0.0\n",
      "mosaic: 0.89402\n",
      "mixup: 0.0\n",
      "copy_paste: 0.0\n",
      "\n",
      "\u001b[34m\u001b[1mTuner: \u001b[0mStarting iteration 42/300 with hyperparameters: {'lr0': 0.00406, 'lrf': 0.0139, 'momentum': 0.80863, 'weight_decay': 0.00041, 'warmup_epochs': 2.77864, 'warmup_momentum': 0.65431, 'box': 10.30962, 'cls': 0.60812, 'dfl': 1.42566, 'hsv_h': 0.02005, 'hsv_s': 0.67345, 'hsv_v': 0.45512, 'degrees': 0.0, 'translate': 0.10851, 'scale': 0.43659, 'shear': 0.0, 'perspective': 0.0, 'flipud': 0.0, 'fliplr': 0.21305, 'bgr': 0.0, 'mosaic': 0.77997, 'mixup': 0.0, 'copy_paste': 0.0}\n",
      "Saved runs\\detect\\tune\\tune_scatter_plots.png\n",
      "Saved runs\\detect\\tune\\tune_fitness.png\n",
      "\n",
      "\u001b[34m\u001b[1mTuner: \u001b[0m42/300 iterations complete  (16048.34s)\n",
      "\u001b[34m\u001b[1mTuner: \u001b[0mResults saved to \u001b[1mruns\\detect\\tune\u001b[0m\n",
      "\u001b[34m\u001b[1mTuner: \u001b[0mBest fitness=0.66006 observed at iteration 40\n",
      "\u001b[34m\u001b[1mTuner: \u001b[0mBest fitness metrics are {'metrics/precision(B)': 0.89627, 'metrics/recall(B)': 0.84846, 'metrics/mAP50(B)': 0.93276, 'metrics/mAP50-95(B)': 0.62976, 'val/box_loss': 1.8083, 'val/cls_loss': 0.78002, 'val/dfl_loss': 1.06708, 'fitness': 0.66006}\n",
      "\u001b[34m\u001b[1mTuner: \u001b[0mBest fitness model is runs\\detect\\train42\n",
      "\u001b[34m\u001b[1mTuner: \u001b[0mBest fitness hyperparameters are printed below.\n",
      "\n",
      "Printing '\u001b[1m\u001b[30mruns\\detect\\tune\\best_hyperparameters.yaml\u001b[0m'\n",
      "\n",
      "lr0: 0.00411\n",
      "lrf: 0.01211\n",
      "momentum: 0.82296\n",
      "weight_decay: 0.00044\n",
      "warmup_epochs: 2.61602\n",
      "warmup_momentum: 0.74629\n",
      "box: 11.59484\n",
      "cls: 0.60812\n",
      "dfl: 1.40803\n",
      "hsv_h: 0.01811\n",
      "hsv_s: 0.67345\n",
      "hsv_v: 0.45512\n",
      "degrees: 0.0\n",
      "translate: 0.11472\n",
      "scale: 0.39279\n",
      "shear: 0.0\n",
      "perspective: 0.0\n",
      "flipud: 0.0\n",
      "fliplr: 0.24357\n",
      "bgr: 0.0\n",
      "mosaic: 0.89402\n",
      "mixup: 0.0\n",
      "copy_paste: 0.0\n",
      "\n",
      "\u001b[34m\u001b[1mTuner: \u001b[0mStarting iteration 43/300 with hyperparameters: {'lr0': 0.0041, 'lrf': 0.0124, 'momentum': 0.85702, 'weight_decay': 0.00049, 'warmup_epochs': 3.05243, 'warmup_momentum': 0.72157, 'box': 11.47331, 'cls': 0.57384, 'dfl': 1.39854, 'hsv_h': 0.01827, 'hsv_s': 0.65733, 'hsv_v': 0.49103, 'degrees': 0.0, 'translate': 0.10868, 'scale': 0.38883, 'shear': 0.0, 'perspective': 0.0, 'flipud': 0.0, 'fliplr': 0.24894, 'bgr': 0.0, 'mosaic': 0.89844, 'mixup': 0.0, 'copy_paste': 0.0}\n",
      "Saved runs\\detect\\tune\\tune_scatter_plots.png\n",
      "Saved runs\\detect\\tune\\tune_fitness.png\n",
      "\n",
      "\u001b[34m\u001b[1mTuner: \u001b[0m43/300 iterations complete  (16429.36s)\n",
      "\u001b[34m\u001b[1mTuner: \u001b[0mResults saved to \u001b[1mruns\\detect\\tune\u001b[0m\n",
      "\u001b[34m\u001b[1mTuner: \u001b[0mBest fitness=0.66176 observed at iteration 43\n",
      "\u001b[34m\u001b[1mTuner: \u001b[0mBest fitness metrics are {'metrics/precision(B)': 0.89646, 'metrics/recall(B)': 0.85025, 'metrics/mAP50(B)': 0.93596, 'metrics/mAP50-95(B)': 0.6313, 'val/box_loss': 1.78017, 'val/cls_loss': 0.73179, 'val/dfl_loss': 1.05057, 'fitness': 0.66176}\n",
      "\u001b[34m\u001b[1mTuner: \u001b[0mBest fitness model is runs\\detect\\train45\n",
      "\u001b[34m\u001b[1mTuner: \u001b[0mBest fitness hyperparameters are printed below.\n",
      "\n",
      "Printing '\u001b[1m\u001b[30mruns\\detect\\tune\\best_hyperparameters.yaml\u001b[0m'\n",
      "\n",
      "lr0: 0.0041\n",
      "lrf: 0.0124\n",
      "momentum: 0.85702\n",
      "weight_decay: 0.00049\n",
      "warmup_epochs: 3.05243\n",
      "warmup_momentum: 0.72157\n",
      "box: 11.47331\n",
      "cls: 0.57384\n",
      "dfl: 1.39854\n",
      "hsv_h: 0.01827\n",
      "hsv_s: 0.65733\n",
      "hsv_v: 0.49103\n",
      "degrees: 0.0\n",
      "translate: 0.10868\n",
      "scale: 0.38883\n",
      "shear: 0.0\n",
      "perspective: 0.0\n",
      "flipud: 0.0\n",
      "fliplr: 0.24894\n",
      "bgr: 0.0\n",
      "mosaic: 0.89844\n",
      "mixup: 0.0\n",
      "copy_paste: 0.0\n",
      "\n",
      "\u001b[34m\u001b[1mTuner: \u001b[0mStarting iteration 44/300 with hyperparameters: {'lr0': 0.00267, 'lrf': 0.01001, 'momentum': 0.80961, 'weight_decay': 0.00047, 'warmup_epochs': 3.61455, 'warmup_momentum': 0.82066, 'box': 9.72935, 'cls': 0.48996, 'dfl': 1.21146, 'hsv_h': 0.01811, 'hsv_s': 0.46157, 'hsv_v': 0.39727, 'degrees': 0.0, 'translate': 0.08747, 'scale': 0.3922, 'shear': 0.0, 'perspective': 0.0, 'flipud': 0.0, 'fliplr': 0.24357, 'bgr': 0.0, 'mosaic': 0.7645, 'mixup': 0.0, 'copy_paste': 0.0}\n",
      "Saved runs\\detect\\tune\\tune_scatter_plots.png\n",
      "Saved runs\\detect\\tune\\tune_fitness.png\n",
      "\n",
      "\u001b[34m\u001b[1mTuner: \u001b[0m44/300 iterations complete  (16804.05s)\n",
      "\u001b[34m\u001b[1mTuner: \u001b[0mResults saved to \u001b[1mruns\\detect\\tune\u001b[0m\n",
      "\u001b[34m\u001b[1mTuner: \u001b[0mBest fitness=0.66176 observed at iteration 43\n",
      "\u001b[34m\u001b[1mTuner: \u001b[0mBest fitness metrics are {'metrics/precision(B)': 0.89646, 'metrics/recall(B)': 0.85025, 'metrics/mAP50(B)': 0.93596, 'metrics/mAP50-95(B)': 0.6313, 'val/box_loss': 1.78017, 'val/cls_loss': 0.73179, 'val/dfl_loss': 1.05057, 'fitness': 0.66176}\n",
      "\u001b[34m\u001b[1mTuner: \u001b[0mBest fitness model is runs\\detect\\train45\n",
      "\u001b[34m\u001b[1mTuner: \u001b[0mBest fitness hyperparameters are printed below.\n",
      "\n",
      "Printing '\u001b[1m\u001b[30mruns\\detect\\tune\\best_hyperparameters.yaml\u001b[0m'\n",
      "\n",
      "lr0: 0.0041\n",
      "lrf: 0.0124\n",
      "momentum: 0.85702\n",
      "weight_decay: 0.00049\n",
      "warmup_epochs: 3.05243\n",
      "warmup_momentum: 0.72157\n",
      "box: 11.47331\n",
      "cls: 0.57384\n",
      "dfl: 1.39854\n",
      "hsv_h: 0.01827\n",
      "hsv_s: 0.65733\n",
      "hsv_v: 0.49103\n",
      "degrees: 0.0\n",
      "translate: 0.10868\n",
      "scale: 0.38883\n",
      "shear: 0.0\n",
      "perspective: 0.0\n",
      "flipud: 0.0\n",
      "fliplr: 0.24894\n",
      "bgr: 0.0\n",
      "mosaic: 0.89844\n",
      "mixup: 0.0\n",
      "copy_paste: 0.0\n",
      "\n",
      "\u001b[34m\u001b[1mTuner: \u001b[0mStarting iteration 45/300 with hyperparameters: {'lr0': 0.0041, 'lrf': 0.01154, 'momentum': 0.85022, 'weight_decay': 0.00045, 'warmup_epochs': 3.17675, 'warmup_momentum': 0.66796, 'box': 10.48049, 'cls': 0.57384, 'dfl': 1.37857, 'hsv_h': 0.01864, 'hsv_s': 0.66121, 'hsv_v': 0.53361, 'degrees': 0.0, 'translate': 0.11122, 'scale': 0.40505, 'shear': 0.0, 'perspective': 0.0, 'flipud': 0.0, 'fliplr': 0.22442, 'bgr': 0.0, 'mosaic': 0.84523, 'mixup': 0.0, 'copy_paste': 0.0}\n",
      "Saved runs\\detect\\tune\\tune_scatter_plots.png\n",
      "Saved runs\\detect\\tune\\tune_fitness.png\n",
      "\n",
      "\u001b[34m\u001b[1mTuner: \u001b[0m45/300 iterations complete  (17184.86s)\n",
      "\u001b[34m\u001b[1mTuner: \u001b[0mResults saved to \u001b[1mruns\\detect\\tune\u001b[0m\n",
      "\u001b[34m\u001b[1mTuner: \u001b[0mBest fitness=0.66176 observed at iteration 43\n",
      "\u001b[34m\u001b[1mTuner: \u001b[0mBest fitness metrics are {'metrics/precision(B)': 0.89646, 'metrics/recall(B)': 0.85025, 'metrics/mAP50(B)': 0.93596, 'metrics/mAP50-95(B)': 0.6313, 'val/box_loss': 1.78017, 'val/cls_loss': 0.73179, 'val/dfl_loss': 1.05057, 'fitness': 0.66176}\n",
      "\u001b[34m\u001b[1mTuner: \u001b[0mBest fitness model is runs\\detect\\train45\n",
      "\u001b[34m\u001b[1mTuner: \u001b[0mBest fitness hyperparameters are printed below.\n",
      "\n",
      "Printing '\u001b[1m\u001b[30mruns\\detect\\tune\\best_hyperparameters.yaml\u001b[0m'\n",
      "\n",
      "lr0: 0.0041\n",
      "lrf: 0.0124\n",
      "momentum: 0.85702\n",
      "weight_decay: 0.00049\n",
      "warmup_epochs: 3.05243\n",
      "warmup_momentum: 0.72157\n",
      "box: 11.47331\n",
      "cls: 0.57384\n",
      "dfl: 1.39854\n",
      "hsv_h: 0.01827\n",
      "hsv_s: 0.65733\n",
      "hsv_v: 0.49103\n",
      "degrees: 0.0\n",
      "translate: 0.10868\n",
      "scale: 0.38883\n",
      "shear: 0.0\n",
      "perspective: 0.0\n",
      "flipud: 0.0\n",
      "fliplr: 0.24894\n",
      "bgr: 0.0\n",
      "mosaic: 0.89844\n",
      "mixup: 0.0\n",
      "copy_paste: 0.0\n",
      "\n",
      "\u001b[34m\u001b[1mTuner: \u001b[0mStarting iteration 46/300 with hyperparameters: {'lr0': 0.00445, 'lrf': 0.01177, 'momentum': 0.82039, 'weight_decay': 0.00069, 'warmup_epochs': 3.05243, 'warmup_momentum': 0.5442, 'box': 10.25023, 'cls': 0.56554, 'dfl': 1.39716, 'hsv_h': 0.01999, 'hsv_s': 0.65733, 'hsv_v': 0.49103, 'degrees': 0.0, 'translate': 0.13117, 'scale': 0.32656, 'shear': 0.0, 'perspective': 0.0, 'flipud': 0.0, 'fliplr': 0.28481, 'bgr': 0.0, 'mosaic': 0.88676, 'mixup': 0.0, 'copy_paste': 0.0}\n",
      "Saved runs\\detect\\tune\\tune_scatter_plots.png\n",
      "Saved runs\\detect\\tune\\tune_fitness.png\n",
      "\n",
      "\u001b[34m\u001b[1mTuner: \u001b[0m46/300 iterations complete  (17554.63s)\n",
      "\u001b[34m\u001b[1mTuner: \u001b[0mResults saved to \u001b[1mruns\\detect\\tune\u001b[0m\n",
      "\u001b[34m\u001b[1mTuner: \u001b[0mBest fitness=0.66176 observed at iteration 43\n",
      "\u001b[34m\u001b[1mTuner: \u001b[0mBest fitness metrics are {'metrics/precision(B)': 0.89646, 'metrics/recall(B)': 0.85025, 'metrics/mAP50(B)': 0.93596, 'metrics/mAP50-95(B)': 0.6313, 'val/box_loss': 1.78017, 'val/cls_loss': 0.73179, 'val/dfl_loss': 1.05057, 'fitness': 0.66176}\n",
      "\u001b[34m\u001b[1mTuner: \u001b[0mBest fitness model is runs\\detect\\train45\n",
      "\u001b[34m\u001b[1mTuner: \u001b[0mBest fitness hyperparameters are printed below.\n",
      "\n",
      "Printing '\u001b[1m\u001b[30mruns\\detect\\tune\\best_hyperparameters.yaml\u001b[0m'\n",
      "\n",
      "lr0: 0.0041\n",
      "lrf: 0.0124\n",
      "momentum: 0.85702\n",
      "weight_decay: 0.00049\n",
      "warmup_epochs: 3.05243\n",
      "warmup_momentum: 0.72157\n",
      "box: 11.47331\n",
      "cls: 0.57384\n",
      "dfl: 1.39854\n",
      "hsv_h: 0.01827\n",
      "hsv_s: 0.65733\n",
      "hsv_v: 0.49103\n",
      "degrees: 0.0\n",
      "translate: 0.10868\n",
      "scale: 0.38883\n",
      "shear: 0.0\n",
      "perspective: 0.0\n",
      "flipud: 0.0\n",
      "fliplr: 0.24894\n",
      "bgr: 0.0\n",
      "mosaic: 0.89844\n",
      "mixup: 0.0\n",
      "copy_paste: 0.0\n",
      "\n",
      "\u001b[34m\u001b[1mTuner: \u001b[0mStarting iteration 47/300 with hyperparameters: {'lr0': 0.00397, 'lrf': 0.01261, 'momentum': 0.82177, 'weight_decay': 0.00043, 'warmup_epochs': 2.67065, 'warmup_momentum': 0.74006, 'box': 11.58841, 'cls': 0.62307, 'dfl': 1.3969, 'hsv_h': 0.0182, 'hsv_s': 0.69044, 'hsv_v': 0.45512, 'degrees': 0.0, 'translate': 0.11357, 'scale': 0.39021, 'shear': 0.0, 'perspective': 0.0, 'flipud': 0.0, 'fliplr': 0.24357, 'bgr': 0.0, 'mosaic': 0.91479, 'mixup': 0.0, 'copy_paste': 0.0}\n",
      "Saved runs\\detect\\tune\\tune_scatter_plots.png\n",
      "Saved runs\\detect\\tune\\tune_fitness.png\n",
      "\n",
      "\u001b[34m\u001b[1mTuner: \u001b[0m47/300 iterations complete  (17930.00s)\n",
      "\u001b[34m\u001b[1mTuner: \u001b[0mResults saved to \u001b[1mruns\\detect\\tune\u001b[0m\n",
      "\u001b[34m\u001b[1mTuner: \u001b[0mBest fitness=0.66176 observed at iteration 43\n",
      "\u001b[34m\u001b[1mTuner: \u001b[0mBest fitness metrics are {'metrics/precision(B)': 0.89646, 'metrics/recall(B)': 0.85025, 'metrics/mAP50(B)': 0.93596, 'metrics/mAP50-95(B)': 0.6313, 'val/box_loss': 1.78017, 'val/cls_loss': 0.73179, 'val/dfl_loss': 1.05057, 'fitness': 0.66176}\n",
      "\u001b[34m\u001b[1mTuner: \u001b[0mBest fitness model is runs\\detect\\train45\n",
      "\u001b[34m\u001b[1mTuner: \u001b[0mBest fitness hyperparameters are printed below.\n",
      "\n",
      "Printing '\u001b[1m\u001b[30mruns\\detect\\tune\\best_hyperparameters.yaml\u001b[0m'\n",
      "\n",
      "lr0: 0.0041\n",
      "lrf: 0.0124\n",
      "momentum: 0.85702\n",
      "weight_decay: 0.00049\n",
      "warmup_epochs: 3.05243\n",
      "warmup_momentum: 0.72157\n",
      "box: 11.47331\n",
      "cls: 0.57384\n",
      "dfl: 1.39854\n",
      "hsv_h: 0.01827\n",
      "hsv_s: 0.65733\n",
      "hsv_v: 0.49103\n",
      "degrees: 0.0\n",
      "translate: 0.10868\n",
      "scale: 0.38883\n",
      "shear: 0.0\n",
      "perspective: 0.0\n",
      "flipud: 0.0\n",
      "fliplr: 0.24894\n",
      "bgr: 0.0\n",
      "mosaic: 0.89844\n",
      "mixup: 0.0\n",
      "copy_paste: 0.0\n",
      "\n",
      "\u001b[34m\u001b[1mTuner: \u001b[0mStarting iteration 48/300 with hyperparameters: {'lr0': 0.00418, 'lrf': 0.01611, 'momentum': 0.85702, 'weight_decay': 0.00047, 'warmup_epochs': 3.43527, 'warmup_momentum': 0.71038, 'box': 11.47331, 'cls': 0.54892, 'dfl': 1.27224, 'hsv_h': 0.01626, 'hsv_s': 0.71195, 'hsv_v': 0.53667, 'degrees': 0.0, 'translate': 0.10026, 'scale': 0.35636, 'shear': 0.0, 'perspective': 0.0, 'flipud': 0.0, 'fliplr': 0.24894, 'bgr': 0.0, 'mosaic': 0.89876, 'mixup': 0.0, 'copy_paste': 0.0}\n",
      "Saved runs\\detect\\tune\\tune_scatter_plots.png\n",
      "Saved runs\\detect\\tune\\tune_fitness.png\n",
      "\n",
      "\u001b[34m\u001b[1mTuner: \u001b[0m48/300 iterations complete  (18305.56s)\n",
      "\u001b[34m\u001b[1mTuner: \u001b[0mResults saved to \u001b[1mruns\\detect\\tune\u001b[0m\n",
      "\u001b[34m\u001b[1mTuner: \u001b[0mBest fitness=0.66176 observed at iteration 43\n",
      "\u001b[34m\u001b[1mTuner: \u001b[0mBest fitness metrics are {'metrics/precision(B)': 0.89646, 'metrics/recall(B)': 0.85025, 'metrics/mAP50(B)': 0.93596, 'metrics/mAP50-95(B)': 0.6313, 'val/box_loss': 1.78017, 'val/cls_loss': 0.73179, 'val/dfl_loss': 1.05057, 'fitness': 0.66176}\n",
      "\u001b[34m\u001b[1mTuner: \u001b[0mBest fitness model is runs\\detect\\train45\n",
      "\u001b[34m\u001b[1mTuner: \u001b[0mBest fitness hyperparameters are printed below.\n",
      "\n",
      "Printing '\u001b[1m\u001b[30mruns\\detect\\tune\\best_hyperparameters.yaml\u001b[0m'\n",
      "\n",
      "lr0: 0.0041\n",
      "lrf: 0.0124\n",
      "momentum: 0.85702\n",
      "weight_decay: 0.00049\n",
      "warmup_epochs: 3.05243\n",
      "warmup_momentum: 0.72157\n",
      "box: 11.47331\n",
      "cls: 0.57384\n",
      "dfl: 1.39854\n",
      "hsv_h: 0.01827\n",
      "hsv_s: 0.65733\n",
      "hsv_v: 0.49103\n",
      "degrees: 0.0\n",
      "translate: 0.10868\n",
      "scale: 0.38883\n",
      "shear: 0.0\n",
      "perspective: 0.0\n",
      "flipud: 0.0\n",
      "fliplr: 0.24894\n",
      "bgr: 0.0\n",
      "mosaic: 0.89844\n",
      "mixup: 0.0\n",
      "copy_paste: 0.0\n",
      "\n",
      "\u001b[34m\u001b[1mTuner: \u001b[0mStarting iteration 49/300 with hyperparameters: {'lr0': 0.00455, 'lrf': 0.0124, 'momentum': 0.86183, 'weight_decay': 0.00049, 'warmup_epochs': 3.25069, 'warmup_momentum': 0.77175, 'box': 12.04391, 'cls': 0.55238, 'dfl': 1.53993, 'hsv_h': 0.01827, 'hsv_s': 0.55164, 'hsv_v': 0.4698, 'degrees': 0.0, 'translate': 0.10272, 'scale': 0.40784, 'shear': 0.0, 'perspective': 0.0, 'flipud': 0.0, 'fliplr': 0.26134, 'bgr': 0.0, 'mosaic': 0.93051, 'mixup': 0.0, 'copy_paste': 0.0}\n",
      "Saved runs\\detect\\tune\\tune_scatter_plots.png\n",
      "Saved runs\\detect\\tune\\tune_fitness.png\n",
      "\n",
      "\u001b[34m\u001b[1mTuner: \u001b[0m49/300 iterations complete  (18689.63s)\n",
      "\u001b[34m\u001b[1mTuner: \u001b[0mResults saved to \u001b[1mruns\\detect\\tune\u001b[0m\n",
      "\u001b[34m\u001b[1mTuner: \u001b[0mBest fitness=0.66176 observed at iteration 43\n",
      "\u001b[34m\u001b[1mTuner: \u001b[0mBest fitness metrics are {'metrics/precision(B)': 0.89646, 'metrics/recall(B)': 0.85025, 'metrics/mAP50(B)': 0.93596, 'metrics/mAP50-95(B)': 0.6313, 'val/box_loss': 1.78017, 'val/cls_loss': 0.73179, 'val/dfl_loss': 1.05057, 'fitness': 0.66176}\n",
      "\u001b[34m\u001b[1mTuner: \u001b[0mBest fitness model is runs\\detect\\train45\n",
      "\u001b[34m\u001b[1mTuner: \u001b[0mBest fitness hyperparameters are printed below.\n",
      "\n",
      "Printing '\u001b[1m\u001b[30mruns\\detect\\tune\\best_hyperparameters.yaml\u001b[0m'\n",
      "\n",
      "lr0: 0.0041\n",
      "lrf: 0.0124\n",
      "momentum: 0.85702\n",
      "weight_decay: 0.00049\n",
      "warmup_epochs: 3.05243\n",
      "warmup_momentum: 0.72157\n",
      "box: 11.47331\n",
      "cls: 0.57384\n",
      "dfl: 1.39854\n",
      "hsv_h: 0.01827\n",
      "hsv_s: 0.65733\n",
      "hsv_v: 0.49103\n",
      "degrees: 0.0\n",
      "translate: 0.10868\n",
      "scale: 0.38883\n",
      "shear: 0.0\n",
      "perspective: 0.0\n",
      "flipud: 0.0\n",
      "fliplr: 0.24894\n",
      "bgr: 0.0\n",
      "mosaic: 0.89844\n",
      "mixup: 0.0\n",
      "copy_paste: 0.0\n",
      "\n",
      "\u001b[34m\u001b[1mTuner: \u001b[0mStarting iteration 50/300 with hyperparameters: {'lr0': 0.00458, 'lrf': 0.01265, 'momentum': 0.88609, 'weight_decay': 0.00049, 'warmup_epochs': 3.35291, 'warmup_momentum': 0.95, 'box': 13.19913, 'cls': 0.75987, 'dfl': 1.60991, 'hsv_h': 0.01827, 'hsv_s': 0.55752, 'hsv_v': 0.49103, 'degrees': 0.0, 'translate': 0.10868, 'scale': 0.27913, 'shear': 0.0, 'perspective': 0.0, 'flipud': 0.0, 'fliplr': 0.24894, 'bgr': 0.0, 'mosaic': 0.96553, 'mixup': 0.0, 'copy_paste': 0.0}\n",
      "Saved runs\\detect\\tune\\tune_scatter_plots.png\n",
      "Saved runs\\detect\\tune\\tune_fitness.png\n",
      "\n",
      "\u001b[34m\u001b[1mTuner: \u001b[0m50/300 iterations complete  (19064.30s)\n",
      "\u001b[34m\u001b[1mTuner: \u001b[0mResults saved to \u001b[1mruns\\detect\\tune\u001b[0m\n",
      "\u001b[34m\u001b[1mTuner: \u001b[0mBest fitness=0.66176 observed at iteration 43\n",
      "\u001b[34m\u001b[1mTuner: \u001b[0mBest fitness metrics are {'metrics/precision(B)': 0.89646, 'metrics/recall(B)': 0.85025, 'metrics/mAP50(B)': 0.93596, 'metrics/mAP50-95(B)': 0.6313, 'val/box_loss': 1.78017, 'val/cls_loss': 0.73179, 'val/dfl_loss': 1.05057, 'fitness': 0.66176}\n",
      "\u001b[34m\u001b[1mTuner: \u001b[0mBest fitness model is runs\\detect\\train45\n",
      "\u001b[34m\u001b[1mTuner: \u001b[0mBest fitness hyperparameters are printed below.\n",
      "\n",
      "Printing '\u001b[1m\u001b[30mruns\\detect\\tune\\best_hyperparameters.yaml\u001b[0m'\n",
      "\n",
      "lr0: 0.0041\n",
      "lrf: 0.0124\n",
      "momentum: 0.85702\n",
      "weight_decay: 0.00049\n",
      "warmup_epochs: 3.05243\n",
      "warmup_momentum: 0.72157\n",
      "box: 11.47331\n",
      "cls: 0.57384\n",
      "dfl: 1.39854\n",
      "hsv_h: 0.01827\n",
      "hsv_s: 0.65733\n",
      "hsv_v: 0.49103\n",
      "degrees: 0.0\n",
      "translate: 0.10868\n",
      "scale: 0.38883\n",
      "shear: 0.0\n",
      "perspective: 0.0\n",
      "flipud: 0.0\n",
      "fliplr: 0.24894\n",
      "bgr: 0.0\n",
      "mosaic: 0.89844\n",
      "mixup: 0.0\n",
      "copy_paste: 0.0\n",
      "\n",
      "\u001b[34m\u001b[1mTuner: \u001b[0mStarting iteration 51/300 with hyperparameters: {'lr0': 0.0041, 'lrf': 0.01254, 'momentum': 0.85313, 'weight_decay': 0.00049, 'warmup_epochs': 3.02328, 'warmup_momentum': 0.71232, 'box': 11.68472, 'cls': 0.57384, 'dfl': 1.47585, 'hsv_h': 0.01827, 'hsv_s': 0.66257, 'hsv_v': 0.48166, 'degrees': 0.0, 'translate': 0.11298, 'scale': 0.38113, 'shear': 0.0, 'perspective': 0.0, 'flipud': 0.0, 'fliplr': 0.24466, 'bgr': 0.0, 'mosaic': 0.90273, 'mixup': 0.0, 'copy_paste': 0.0}\n",
      "Saved runs\\detect\\tune\\tune_scatter_plots.png\n",
      "Saved runs\\detect\\tune\\tune_fitness.png\n",
      "\n",
      "\u001b[34m\u001b[1mTuner: \u001b[0m51/300 iterations complete  (19441.79s)\n",
      "\u001b[34m\u001b[1mTuner: \u001b[0mResults saved to \u001b[1mruns\\detect\\tune\u001b[0m\n",
      "\u001b[34m\u001b[1mTuner: \u001b[0mBest fitness=0.66176 observed at iteration 43\n",
      "\u001b[34m\u001b[1mTuner: \u001b[0mBest fitness metrics are {'metrics/precision(B)': 0.89646, 'metrics/recall(B)': 0.85025, 'metrics/mAP50(B)': 0.93596, 'metrics/mAP50-95(B)': 0.6313, 'val/box_loss': 1.78017, 'val/cls_loss': 0.73179, 'val/dfl_loss': 1.05057, 'fitness': 0.66176}\n",
      "\u001b[34m\u001b[1mTuner: \u001b[0mBest fitness model is runs\\detect\\train45\n",
      "\u001b[34m\u001b[1mTuner: \u001b[0mBest fitness hyperparameters are printed below.\n",
      "\n",
      "Printing '\u001b[1m\u001b[30mruns\\detect\\tune\\best_hyperparameters.yaml\u001b[0m'\n",
      "\n",
      "lr0: 0.0041\n",
      "lrf: 0.0124\n",
      "momentum: 0.85702\n",
      "weight_decay: 0.00049\n",
      "warmup_epochs: 3.05243\n",
      "warmup_momentum: 0.72157\n",
      "box: 11.47331\n",
      "cls: 0.57384\n",
      "dfl: 1.39854\n",
      "hsv_h: 0.01827\n",
      "hsv_s: 0.65733\n",
      "hsv_v: 0.49103\n",
      "degrees: 0.0\n",
      "translate: 0.10868\n",
      "scale: 0.38883\n",
      "shear: 0.0\n",
      "perspective: 0.0\n",
      "flipud: 0.0\n",
      "fliplr: 0.24894\n",
      "bgr: 0.0\n",
      "mosaic: 0.89844\n",
      "mixup: 0.0\n",
      "copy_paste: 0.0\n",
      "\n",
      "\u001b[34m\u001b[1mTuner: \u001b[0mStarting iteration 52/300 with hyperparameters: {'lr0': 0.00278, 'lrf': 0.01002, 'momentum': 0.80863, 'weight_decay': 0.0005, 'warmup_epochs': 3.6488, 'warmup_momentum': 0.81889, 'box': 9.6573, 'cls': 0.51573, 'dfl': 1.21146, 'hsv_h': 0.01811, 'hsv_s': 0.45684, 'hsv_v': 0.40343, 'degrees': 0.0, 'translate': 0.09227, 'scale': 0.3922, 'shear': 0.0, 'perspective': 0.0, 'flipud': 0.0, 'fliplr': 0.24265, 'bgr': 0.0, 'mosaic': 0.7645, 'mixup': 0.0, 'copy_paste': 0.0}\n",
      "Saved runs\\detect\\tune\\tune_scatter_plots.png\n",
      "Saved runs\\detect\\tune\\tune_fitness.png\n",
      "\n",
      "\u001b[34m\u001b[1mTuner: \u001b[0m52/300 iterations complete  (19817.10s)\n",
      "\u001b[34m\u001b[1mTuner: \u001b[0mResults saved to \u001b[1mruns\\detect\\tune\u001b[0m\n",
      "\u001b[34m\u001b[1mTuner: \u001b[0mBest fitness=0.66176 observed at iteration 43\n",
      "\u001b[34m\u001b[1mTuner: \u001b[0mBest fitness metrics are {'metrics/precision(B)': 0.89646, 'metrics/recall(B)': 0.85025, 'metrics/mAP50(B)': 0.93596, 'metrics/mAP50-95(B)': 0.6313, 'val/box_loss': 1.78017, 'val/cls_loss': 0.73179, 'val/dfl_loss': 1.05057, 'fitness': 0.66176}\n",
      "\u001b[34m\u001b[1mTuner: \u001b[0mBest fitness model is runs\\detect\\train45\n",
      "\u001b[34m\u001b[1mTuner: \u001b[0mBest fitness hyperparameters are printed below.\n",
      "\n",
      "Printing '\u001b[1m\u001b[30mruns\\detect\\tune\\best_hyperparameters.yaml\u001b[0m'\n",
      "\n",
      "lr0: 0.0041\n",
      "lrf: 0.0124\n",
      "momentum: 0.85702\n",
      "weight_decay: 0.00049\n",
      "warmup_epochs: 3.05243\n",
      "warmup_momentum: 0.72157\n",
      "box: 11.47331\n",
      "cls: 0.57384\n",
      "dfl: 1.39854\n",
      "hsv_h: 0.01827\n",
      "hsv_s: 0.65733\n",
      "hsv_v: 0.49103\n",
      "degrees: 0.0\n",
      "translate: 0.10868\n",
      "scale: 0.38883\n",
      "shear: 0.0\n",
      "perspective: 0.0\n",
      "flipud: 0.0\n",
      "fliplr: 0.24894\n",
      "bgr: 0.0\n",
      "mosaic: 0.89844\n",
      "mixup: 0.0\n",
      "copy_paste: 0.0\n",
      "\n",
      "\u001b[34m\u001b[1mTuner: \u001b[0mStarting iteration 53/300 with hyperparameters: {'lr0': 0.0043, 'lrf': 0.01249, 'momentum': 0.84104, 'weight_decay': 0.00055, 'warmup_epochs': 3.05243, 'warmup_momentum': 0.7646, 'box': 11.41178, 'cls': 0.64632, 'dfl': 1.43227, 'hsv_h': 0.01827, 'hsv_s': 0.64966, 'hsv_v': 0.46651, 'degrees': 0.0, 'translate': 0.10868, 'scale': 0.37702, 'shear': 0.0, 'perspective': 0.0, 'flipud': 0.0, 'fliplr': 0.24205, 'bgr': 0.0, 'mosaic': 0.91735, 'mixup': 0.0, 'copy_paste': 0.0}\n",
      "Saved runs\\detect\\tune\\tune_scatter_plots.png\n",
      "Saved runs\\detect\\tune\\tune_fitness.png\n",
      "\n",
      "\u001b[34m\u001b[1mTuner: \u001b[0m53/300 iterations complete  (20195.36s)\n",
      "\u001b[34m\u001b[1mTuner: \u001b[0mResults saved to \u001b[1mruns\\detect\\tune\u001b[0m\n",
      "\u001b[34m\u001b[1mTuner: \u001b[0mBest fitness=0.66176 observed at iteration 43\n",
      "\u001b[34m\u001b[1mTuner: \u001b[0mBest fitness metrics are {'metrics/precision(B)': 0.89646, 'metrics/recall(B)': 0.85025, 'metrics/mAP50(B)': 0.93596, 'metrics/mAP50-95(B)': 0.6313, 'val/box_loss': 1.78017, 'val/cls_loss': 0.73179, 'val/dfl_loss': 1.05057, 'fitness': 0.66176}\n",
      "\u001b[34m\u001b[1mTuner: \u001b[0mBest fitness model is runs\\detect\\train45\n",
      "\u001b[34m\u001b[1mTuner: \u001b[0mBest fitness hyperparameters are printed below.\n",
      "\n",
      "Printing '\u001b[1m\u001b[30mruns\\detect\\tune\\best_hyperparameters.yaml\u001b[0m'\n",
      "\n",
      "lr0: 0.0041\n",
      "lrf: 0.0124\n",
      "momentum: 0.85702\n",
      "weight_decay: 0.00049\n",
      "warmup_epochs: 3.05243\n",
      "warmup_momentum: 0.72157\n",
      "box: 11.47331\n",
      "cls: 0.57384\n",
      "dfl: 1.39854\n",
      "hsv_h: 0.01827\n",
      "hsv_s: 0.65733\n",
      "hsv_v: 0.49103\n",
      "degrees: 0.0\n",
      "translate: 0.10868\n",
      "scale: 0.38883\n",
      "shear: 0.0\n",
      "perspective: 0.0\n",
      "flipud: 0.0\n",
      "fliplr: 0.24894\n",
      "bgr: 0.0\n",
      "mosaic: 0.89844\n",
      "mixup: 0.0\n",
      "copy_paste: 0.0\n",
      "\n",
      "\u001b[34m\u001b[1mTuner: \u001b[0mStarting iteration 54/300 with hyperparameters: {'lr0': 0.00404, 'lrf': 0.0124, 'momentum': 0.82441, 'weight_decay': 0.00053, 'warmup_epochs': 2.8664, 'warmup_momentum': 0.74385, 'box': 11.47331, 'cls': 0.58958, 'dfl': 1.44362, 'hsv_h': 0.0163, 'hsv_s': 0.68087, 'hsv_v': 0.48777, 'degrees': 0.0, 'translate': 0.11562, 'scale': 0.40775, 'shear': 0.0, 'perspective': 0.0, 'flipud': 0.0, 'fliplr': 0.25729, 'bgr': 0.0, 'mosaic': 0.9865, 'mixup': 0.0, 'copy_paste': 0.0}\n",
      "Saved runs\\detect\\tune\\tune_scatter_plots.png\n",
      "Saved runs\\detect\\tune\\tune_fitness.png\n",
      "\n",
      "\u001b[34m\u001b[1mTuner: \u001b[0m54/300 iterations complete  (20607.74s)\n",
      "\u001b[34m\u001b[1mTuner: \u001b[0mResults saved to \u001b[1mruns\\detect\\tune\u001b[0m\n",
      "\u001b[34m\u001b[1mTuner: \u001b[0mBest fitness=0.66176 observed at iteration 43\n",
      "\u001b[34m\u001b[1mTuner: \u001b[0mBest fitness metrics are {'metrics/precision(B)': 0.89646, 'metrics/recall(B)': 0.85025, 'metrics/mAP50(B)': 0.93596, 'metrics/mAP50-95(B)': 0.6313, 'val/box_loss': 1.78017, 'val/cls_loss': 0.73179, 'val/dfl_loss': 1.05057, 'fitness': 0.66176}\n",
      "\u001b[34m\u001b[1mTuner: \u001b[0mBest fitness model is runs\\detect\\train45\n",
      "\u001b[34m\u001b[1mTuner: \u001b[0mBest fitness hyperparameters are printed below.\n",
      "\n",
      "Printing '\u001b[1m\u001b[30mruns\\detect\\tune\\best_hyperparameters.yaml\u001b[0m'\n",
      "\n",
      "lr0: 0.0041\n",
      "lrf: 0.0124\n",
      "momentum: 0.85702\n",
      "weight_decay: 0.00049\n",
      "warmup_epochs: 3.05243\n",
      "warmup_momentum: 0.72157\n",
      "box: 11.47331\n",
      "cls: 0.57384\n",
      "dfl: 1.39854\n",
      "hsv_h: 0.01827\n",
      "hsv_s: 0.65733\n",
      "hsv_v: 0.49103\n",
      "degrees: 0.0\n",
      "translate: 0.10868\n",
      "scale: 0.38883\n",
      "shear: 0.0\n",
      "perspective: 0.0\n",
      "flipud: 0.0\n",
      "fliplr: 0.24894\n",
      "bgr: 0.0\n",
      "mosaic: 0.89844\n",
      "mixup: 0.0\n",
      "copy_paste: 0.0\n",
      "\n",
      "\u001b[34m\u001b[1mTuner: \u001b[0mStarting iteration 55/300 with hyperparameters: {'lr0': 0.0041, 'lrf': 0.01022, 'momentum': 0.85702, 'weight_decay': 0.00053, 'warmup_epochs': 2.71983, 'warmup_momentum': 0.67668, 'box': 12.09585, 'cls': 0.57384, 'dfl': 1.85662, 'hsv_h': 0.01116, 'hsv_s': 0.65733, 'hsv_v': 0.31761, 'degrees': 0.0, 'translate': 0.10868, 'scale': 0.38883, 'shear': 0.0, 'perspective': 0.0, 'flipud': 0.0, 'fliplr': 0.24894, 'bgr': 0.0, 'mosaic': 0.93895, 'mixup': 0.0, 'copy_paste': 0.0}\n",
      "Saved runs\\detect\\tune\\tune_scatter_plots.png\n",
      "Saved runs\\detect\\tune\\tune_fitness.png\n",
      "\n",
      "\u001b[34m\u001b[1mTuner: \u001b[0m55/300 iterations complete  (20990.39s)\n",
      "\u001b[34m\u001b[1mTuner: \u001b[0mResults saved to \u001b[1mruns\\detect\\tune\u001b[0m\n",
      "\u001b[34m\u001b[1mTuner: \u001b[0mBest fitness=0.66176 observed at iteration 43\n",
      "\u001b[34m\u001b[1mTuner: \u001b[0mBest fitness metrics are {'metrics/precision(B)': 0.89646, 'metrics/recall(B)': 0.85025, 'metrics/mAP50(B)': 0.93596, 'metrics/mAP50-95(B)': 0.6313, 'val/box_loss': 1.78017, 'val/cls_loss': 0.73179, 'val/dfl_loss': 1.05057, 'fitness': 0.66176}\n",
      "\u001b[34m\u001b[1mTuner: \u001b[0mBest fitness model is runs\\detect\\train45\n",
      "\u001b[34m\u001b[1mTuner: \u001b[0mBest fitness hyperparameters are printed below.\n",
      "\n",
      "Printing '\u001b[1m\u001b[30mruns\\detect\\tune\\best_hyperparameters.yaml\u001b[0m'\n",
      "\n",
      "lr0: 0.0041\n",
      "lrf: 0.0124\n",
      "momentum: 0.85702\n",
      "weight_decay: 0.00049\n",
      "warmup_epochs: 3.05243\n",
      "warmup_momentum: 0.72157\n",
      "box: 11.47331\n",
      "cls: 0.57384\n",
      "dfl: 1.39854\n",
      "hsv_h: 0.01827\n",
      "hsv_s: 0.65733\n",
      "hsv_v: 0.49103\n",
      "degrees: 0.0\n",
      "translate: 0.10868\n",
      "scale: 0.38883\n",
      "shear: 0.0\n",
      "perspective: 0.0\n",
      "flipud: 0.0\n",
      "fliplr: 0.24894\n",
      "bgr: 0.0\n",
      "mosaic: 0.89844\n",
      "mixup: 0.0\n",
      "copy_paste: 0.0\n",
      "\n",
      "\u001b[34m\u001b[1mTuner: \u001b[0mStarting iteration 56/300 with hyperparameters: {'lr0': 0.00407, 'lrf': 0.01233, 'momentum': 0.85927, 'weight_decay': 0.00049, 'warmup_epochs': 3.05243, 'warmup_momentum': 0.69675, 'box': 11.41834, 'cls': 0.60689, 'dfl': 1.52686, 'hsv_h': 0.01783, 'hsv_s': 0.60661, 'hsv_v': 0.49103, 'degrees': 0.0, 'translate': 0.1082, 'scale': 0.39239, 'shear': 0.0, 'perspective': 0.0, 'flipud': 0.0, 'fliplr': 0.23872, 'bgr': 0.0, 'mosaic': 0.87027, 'mixup': 0.0, 'copy_paste': 0.0}\n",
      "Saved runs\\detect\\tune\\tune_scatter_plots.png\n",
      "Saved runs\\detect\\tune\\tune_fitness.png\n",
      "\n",
      "\u001b[34m\u001b[1mTuner: \u001b[0m56/300 iterations complete  (21362.10s)\n",
      "\u001b[34m\u001b[1mTuner: \u001b[0mResults saved to \u001b[1mruns\\detect\\tune\u001b[0m\n",
      "\u001b[34m\u001b[1mTuner: \u001b[0mBest fitness=0.66176 observed at iteration 43\n",
      "\u001b[34m\u001b[1mTuner: \u001b[0mBest fitness metrics are {'metrics/precision(B)': 0.89646, 'metrics/recall(B)': 0.85025, 'metrics/mAP50(B)': 0.93596, 'metrics/mAP50-95(B)': 0.6313, 'val/box_loss': 1.78017, 'val/cls_loss': 0.73179, 'val/dfl_loss': 1.05057, 'fitness': 0.66176}\n",
      "\u001b[34m\u001b[1mTuner: \u001b[0mBest fitness model is runs\\detect\\train45\n",
      "\u001b[34m\u001b[1mTuner: \u001b[0mBest fitness hyperparameters are printed below.\n",
      "\n",
      "Printing '\u001b[1m\u001b[30mruns\\detect\\tune\\best_hyperparameters.yaml\u001b[0m'\n",
      "\n",
      "lr0: 0.0041\n",
      "lrf: 0.0124\n",
      "momentum: 0.85702\n",
      "weight_decay: 0.00049\n",
      "warmup_epochs: 3.05243\n",
      "warmup_momentum: 0.72157\n",
      "box: 11.47331\n",
      "cls: 0.57384\n",
      "dfl: 1.39854\n",
      "hsv_h: 0.01827\n",
      "hsv_s: 0.65733\n",
      "hsv_v: 0.49103\n",
      "degrees: 0.0\n",
      "translate: 0.10868\n",
      "scale: 0.38883\n",
      "shear: 0.0\n",
      "perspective: 0.0\n",
      "flipud: 0.0\n",
      "fliplr: 0.24894\n",
      "bgr: 0.0\n",
      "mosaic: 0.89844\n",
      "mixup: 0.0\n",
      "copy_paste: 0.0\n",
      "\n",
      "\u001b[34m\u001b[1mTuner: \u001b[0mStarting iteration 57/300 with hyperparameters: {'lr0': 0.00411, 'lrf': 0.01257, 'momentum': 0.81311, 'weight_decay': 0.00052, 'warmup_epochs': 2.32012, 'warmup_momentum': 0.76768, 'box': 11.93423, 'cls': 0.65292, 'dfl': 1.32839, 'hsv_h': 0.0205, 'hsv_s': 0.68476, 'hsv_v': 0.45512, 'degrees': 0.0, 'translate': 0.12539, 'scale': 0.30146, 'shear': 0.0, 'perspective': 0.0, 'flipud': 0.0, 'fliplr': 0.23344, 'bgr': 0.0, 'mosaic': 0.96106, 'mixup': 0.0, 'copy_paste': 0.0}\n",
      "Saved runs\\detect\\tune\\tune_scatter_plots.png\n",
      "Saved runs\\detect\\tune\\tune_fitness.png\n",
      "\n",
      "\u001b[34m\u001b[1mTuner: \u001b[0m57/300 iterations complete  (21749.82s)\n",
      "\u001b[34m\u001b[1mTuner: \u001b[0mResults saved to \u001b[1mruns\\detect\\tune\u001b[0m\n",
      "\u001b[34m\u001b[1mTuner: \u001b[0mBest fitness=0.66176 observed at iteration 43\n",
      "\u001b[34m\u001b[1mTuner: \u001b[0mBest fitness metrics are {'metrics/precision(B)': 0.89646, 'metrics/recall(B)': 0.85025, 'metrics/mAP50(B)': 0.93596, 'metrics/mAP50-95(B)': 0.6313, 'val/box_loss': 1.78017, 'val/cls_loss': 0.73179, 'val/dfl_loss': 1.05057, 'fitness': 0.66176}\n",
      "\u001b[34m\u001b[1mTuner: \u001b[0mBest fitness model is runs\\detect\\train45\n",
      "\u001b[34m\u001b[1mTuner: \u001b[0mBest fitness hyperparameters are printed below.\n",
      "\n",
      "Printing '\u001b[1m\u001b[30mruns\\detect\\tune\\best_hyperparameters.yaml\u001b[0m'\n",
      "\n",
      "lr0: 0.0041\n",
      "lrf: 0.0124\n",
      "momentum: 0.85702\n",
      "weight_decay: 0.00049\n",
      "warmup_epochs: 3.05243\n",
      "warmup_momentum: 0.72157\n",
      "box: 11.47331\n",
      "cls: 0.57384\n",
      "dfl: 1.39854\n",
      "hsv_h: 0.01827\n",
      "hsv_s: 0.65733\n",
      "hsv_v: 0.49103\n",
      "degrees: 0.0\n",
      "translate: 0.10868\n",
      "scale: 0.38883\n",
      "shear: 0.0\n",
      "perspective: 0.0\n",
      "flipud: 0.0\n",
      "fliplr: 0.24894\n",
      "bgr: 0.0\n",
      "mosaic: 0.89844\n",
      "mixup: 0.0\n",
      "copy_paste: 0.0\n",
      "\n",
      "\u001b[34m\u001b[1mTuner: \u001b[0mStarting iteration 58/300 with hyperparameters: {'lr0': 0.00384, 'lrf': 0.00927, 'momentum': 0.89042, 'weight_decay': 0.00049, 'warmup_epochs': 3.23262, 'warmup_momentum': 0.64736, 'box': 11.43195, 'cls': 0.57384, 'dfl': 1.39854, 'hsv_h': 0.02016, 'hsv_s': 0.74483, 'hsv_v': 0.55931, 'degrees': 0.0, 'translate': 0.08811, 'scale': 0.49938, 'shear': 0.0, 'perspective': 0.0, 'flipud': 0.0, 'fliplr': 0.24613, 'bgr': 0.0, 'mosaic': 1.0, 'mixup': 0.0, 'copy_paste': 0.0}\n",
      "Saved runs\\detect\\tune\\tune_scatter_plots.png\n",
      "Saved runs\\detect\\tune\\tune_fitness.png\n",
      "\n",
      "\u001b[34m\u001b[1mTuner: \u001b[0m58/300 iterations complete  (22131.41s)\n",
      "\u001b[34m\u001b[1mTuner: \u001b[0mResults saved to \u001b[1mruns\\detect\\tune\u001b[0m\n",
      "\u001b[34m\u001b[1mTuner: \u001b[0mBest fitness=0.66176 observed at iteration 43\n",
      "\u001b[34m\u001b[1mTuner: \u001b[0mBest fitness metrics are {'metrics/precision(B)': 0.89646, 'metrics/recall(B)': 0.85025, 'metrics/mAP50(B)': 0.93596, 'metrics/mAP50-95(B)': 0.6313, 'val/box_loss': 1.78017, 'val/cls_loss': 0.73179, 'val/dfl_loss': 1.05057, 'fitness': 0.66176}\n",
      "\u001b[34m\u001b[1mTuner: \u001b[0mBest fitness model is runs\\detect\\train45\n",
      "\u001b[34m\u001b[1mTuner: \u001b[0mBest fitness hyperparameters are printed below.\n",
      "\n",
      "Printing '\u001b[1m\u001b[30mruns\\detect\\tune\\best_hyperparameters.yaml\u001b[0m'\n",
      "\n",
      "lr0: 0.0041\n",
      "lrf: 0.0124\n",
      "momentum: 0.85702\n",
      "weight_decay: 0.00049\n",
      "warmup_epochs: 3.05243\n",
      "warmup_momentum: 0.72157\n",
      "box: 11.47331\n",
      "cls: 0.57384\n",
      "dfl: 1.39854\n",
      "hsv_h: 0.01827\n",
      "hsv_s: 0.65733\n",
      "hsv_v: 0.49103\n",
      "degrees: 0.0\n",
      "translate: 0.10868\n",
      "scale: 0.38883\n",
      "shear: 0.0\n",
      "perspective: 0.0\n",
      "flipud: 0.0\n",
      "fliplr: 0.24894\n",
      "bgr: 0.0\n",
      "mosaic: 0.89844\n",
      "mixup: 0.0\n",
      "copy_paste: 0.0\n",
      "\n",
      "\u001b[34m\u001b[1mTuner: \u001b[0mStarting iteration 59/300 with hyperparameters: {'lr0': 0.00373, 'lrf': 0.0124, 'momentum': 0.81817, 'weight_decay': 0.00043, 'warmup_epochs': 2.55621, 'warmup_momentum': 0.72157, 'box': 10.25972, 'cls': 0.57384, 'dfl': 1.43364, 'hsv_h': 0.01877, 'hsv_s': 0.5492, 'hsv_v': 0.55781, 'degrees': 0.0, 'translate': 0.10868, 'scale': 0.58462, 'shear': 0.0, 'perspective': 0.0, 'flipud': 0.0, 'fliplr': 0.28148, 'bgr': 0.0, 'mosaic': 0.89844, 'mixup': 0.0, 'copy_paste': 0.0}\n",
      "Saved runs\\detect\\tune\\tune_scatter_plots.png\n",
      "Saved runs\\detect\\tune\\tune_fitness.png\n",
      "\n",
      "\u001b[34m\u001b[1mTuner: \u001b[0m59/300 iterations complete  (22513.90s)\n",
      "\u001b[34m\u001b[1mTuner: \u001b[0mResults saved to \u001b[1mruns\\detect\\tune\u001b[0m\n",
      "\u001b[34m\u001b[1mTuner: \u001b[0mBest fitness=0.66176 observed at iteration 43\n",
      "\u001b[34m\u001b[1mTuner: \u001b[0mBest fitness metrics are {'metrics/precision(B)': 0.89646, 'metrics/recall(B)': 0.85025, 'metrics/mAP50(B)': 0.93596, 'metrics/mAP50-95(B)': 0.6313, 'val/box_loss': 1.78017, 'val/cls_loss': 0.73179, 'val/dfl_loss': 1.05057, 'fitness': 0.66176}\n",
      "\u001b[34m\u001b[1mTuner: \u001b[0mBest fitness model is runs\\detect\\train45\n",
      "\u001b[34m\u001b[1mTuner: \u001b[0mBest fitness hyperparameters are printed below.\n",
      "\n",
      "Printing '\u001b[1m\u001b[30mruns\\detect\\tune\\best_hyperparameters.yaml\u001b[0m'\n",
      "\n",
      "lr0: 0.0041\n",
      "lrf: 0.0124\n",
      "momentum: 0.85702\n",
      "weight_decay: 0.00049\n",
      "warmup_epochs: 3.05243\n",
      "warmup_momentum: 0.72157\n",
      "box: 11.47331\n",
      "cls: 0.57384\n",
      "dfl: 1.39854\n",
      "hsv_h: 0.01827\n",
      "hsv_s: 0.65733\n",
      "hsv_v: 0.49103\n",
      "degrees: 0.0\n",
      "translate: 0.10868\n",
      "scale: 0.38883\n",
      "shear: 0.0\n",
      "perspective: 0.0\n",
      "flipud: 0.0\n",
      "fliplr: 0.24894\n",
      "bgr: 0.0\n",
      "mosaic: 0.89844\n",
      "mixup: 0.0\n",
      "copy_paste: 0.0\n",
      "\n",
      "\u001b[34m\u001b[1mTuner: \u001b[0mStarting iteration 60/300 with hyperparameters: {'lr0': 0.00267, 'lrf': 0.01065, 'momentum': 0.80961, 'weight_decay': 0.00047, 'warmup_epochs': 3.20074, 'warmup_momentum': 0.91401, 'box': 8.37088, 'cls': 0.48996, 'dfl': 1.30091, 'hsv_h': 0.01991, 'hsv_s': 0.4682, 'hsv_v': 0.45379, 'degrees': 0.0, 'translate': 0.08747, 'scale': 0.36779, 'shear': 0.0, 'perspective': 0.0, 'flipud': 0.0, 'fliplr': 0.24357, 'bgr': 0.0, 'mosaic': 0.74554, 'mixup': 0.0, 'copy_paste': 0.0}\n",
      "Saved runs\\detect\\tune\\tune_scatter_plots.png\n",
      "Saved runs\\detect\\tune\\tune_fitness.png\n",
      "\n",
      "\u001b[34m\u001b[1mTuner: \u001b[0m60/300 iterations complete  (22902.75s)\n",
      "\u001b[34m\u001b[1mTuner: \u001b[0mResults saved to \u001b[1mruns\\detect\\tune\u001b[0m\n",
      "\u001b[34m\u001b[1mTuner: \u001b[0mBest fitness=0.66176 observed at iteration 43\n",
      "\u001b[34m\u001b[1mTuner: \u001b[0mBest fitness metrics are {'metrics/precision(B)': 0.89646, 'metrics/recall(B)': 0.85025, 'metrics/mAP50(B)': 0.93596, 'metrics/mAP50-95(B)': 0.6313, 'val/box_loss': 1.78017, 'val/cls_loss': 0.73179, 'val/dfl_loss': 1.05057, 'fitness': 0.66176}\n",
      "\u001b[34m\u001b[1mTuner: \u001b[0mBest fitness model is runs\\detect\\train45\n",
      "\u001b[34m\u001b[1mTuner: \u001b[0mBest fitness hyperparameters are printed below.\n",
      "\n",
      "Printing '\u001b[1m\u001b[30mruns\\detect\\tune\\best_hyperparameters.yaml\u001b[0m'\n",
      "\n",
      "lr0: 0.0041\n",
      "lrf: 0.0124\n",
      "momentum: 0.85702\n",
      "weight_decay: 0.00049\n",
      "warmup_epochs: 3.05243\n",
      "warmup_momentum: 0.72157\n",
      "box: 11.47331\n",
      "cls: 0.57384\n",
      "dfl: 1.39854\n",
      "hsv_h: 0.01827\n",
      "hsv_s: 0.65733\n",
      "hsv_v: 0.49103\n",
      "degrees: 0.0\n",
      "translate: 0.10868\n",
      "scale: 0.38883\n",
      "shear: 0.0\n",
      "perspective: 0.0\n",
      "flipud: 0.0\n",
      "fliplr: 0.24894\n",
      "bgr: 0.0\n",
      "mosaic: 0.89844\n",
      "mixup: 0.0\n",
      "copy_paste: 0.0\n",
      "\n",
      "\u001b[34m\u001b[1mTuner: \u001b[0mStarting iteration 61/300 with hyperparameters: {'lr0': 0.00284, 'lrf': 0.01076, 'momentum': 0.82954, 'weight_decay': 0.00048, 'warmup_epochs': 3.18861, 'warmup_momentum': 0.91149, 'box': 7.86059, 'cls': 0.49189, 'dfl': 1.21933, 'hsv_h': 0.01978, 'hsv_s': 0.4682, 'hsv_v': 0.45379, 'degrees': 0.0, 'translate': 0.08853, 'scale': 0.36779, 'shear': 0.0, 'perspective': 0.0, 'flipud': 0.0, 'fliplr': 0.2656, 'bgr': 0.0, 'mosaic': 0.69888, 'mixup': 0.0, 'copy_paste': 0.0}\n",
      "Saved runs\\detect\\tune\\tune_scatter_plots.png\n",
      "Saved runs\\detect\\tune\\tune_fitness.png\n",
      "\n",
      "\u001b[34m\u001b[1mTuner: \u001b[0m61/300 iterations complete  (23279.36s)\n",
      "\u001b[34m\u001b[1mTuner: \u001b[0mResults saved to \u001b[1mruns\\detect\\tune\u001b[0m\n",
      "\u001b[34m\u001b[1mTuner: \u001b[0mBest fitness=0.66243 observed at iteration 61\n",
      "\u001b[34m\u001b[1mTuner: \u001b[0mBest fitness metrics are {'metrics/precision(B)': 0.89527, 'metrics/recall(B)': 0.85588, 'metrics/mAP50(B)': 0.93542, 'metrics/mAP50-95(B)': 0.6321, 'val/box_loss': 1.23118, 'val/cls_loss': 0.62475, 'val/dfl_loss': 0.92279, 'fitness': 0.66243}\n",
      "\u001b[34m\u001b[1mTuner: \u001b[0mBest fitness model is runs\\detect\\train64\n",
      "\u001b[34m\u001b[1mTuner: \u001b[0mBest fitness hyperparameters are printed below.\n",
      "\n",
      "Printing '\u001b[1m\u001b[30mruns\\detect\\tune\\best_hyperparameters.yaml\u001b[0m'\n",
      "\n",
      "lr0: 0.00284\n",
      "lrf: 0.01076\n",
      "momentum: 0.82954\n",
      "weight_decay: 0.00048\n",
      "warmup_epochs: 3.18861\n",
      "warmup_momentum: 0.91149\n",
      "box: 7.86059\n",
      "cls: 0.49189\n",
      "dfl: 1.21933\n",
      "hsv_h: 0.01978\n",
      "hsv_s: 0.4682\n",
      "hsv_v: 0.45379\n",
      "degrees: 0.0\n",
      "translate: 0.08853\n",
      "scale: 0.36779\n",
      "shear: 0.0\n",
      "perspective: 0.0\n",
      "flipud: 0.0\n",
      "fliplr: 0.2656\n",
      "bgr: 0.0\n",
      "mosaic: 0.69888\n",
      "mixup: 0.0\n",
      "copy_paste: 0.0\n",
      "\n",
      "\u001b[34m\u001b[1mTuner: \u001b[0mStarting iteration 62/300 with hyperparameters: {'lr0': 0.00267, 'lrf': 0.01092, 'momentum': 0.82305, 'weight_decay': 0.00045, 'warmup_epochs': 3.20074, 'warmup_momentum': 0.91401, 'box': 8.37088, 'cls': 0.49028, 'dfl': 1.32832, 'hsv_h': 0.02002, 'hsv_s': 0.4682, 'hsv_v': 0.47293, 'degrees': 0.0, 'translate': 0.08747, 'scale': 0.37405, 'shear': 0.0, 'perspective': 0.0, 'flipud': 0.0, 'fliplr': 0.24357, 'bgr': 0.0, 'mosaic': 0.74554, 'mixup': 0.0, 'copy_paste': 0.0}\n",
      "Saved runs\\detect\\tune\\tune_scatter_plots.png\n",
      "Saved runs\\detect\\tune\\tune_fitness.png\n",
      "\n",
      "\u001b[34m\u001b[1mTuner: \u001b[0m62/300 iterations complete  (23653.32s)\n",
      "\u001b[34m\u001b[1mTuner: \u001b[0mResults saved to \u001b[1mruns\\detect\\tune\u001b[0m\n",
      "\u001b[34m\u001b[1mTuner: \u001b[0mBest fitness=0.66243 observed at iteration 61\n",
      "\u001b[34m\u001b[1mTuner: \u001b[0mBest fitness metrics are {'metrics/precision(B)': 0.89527, 'metrics/recall(B)': 0.85588, 'metrics/mAP50(B)': 0.93542, 'metrics/mAP50-95(B)': 0.6321, 'val/box_loss': 1.23118, 'val/cls_loss': 0.62475, 'val/dfl_loss': 0.92279, 'fitness': 0.66243}\n",
      "\u001b[34m\u001b[1mTuner: \u001b[0mBest fitness model is runs\\detect\\train64\n",
      "\u001b[34m\u001b[1mTuner: \u001b[0mBest fitness hyperparameters are printed below.\n",
      "\n",
      "Printing '\u001b[1m\u001b[30mruns\\detect\\tune\\best_hyperparameters.yaml\u001b[0m'\n",
      "\n",
      "lr0: 0.00284\n",
      "lrf: 0.01076\n",
      "momentum: 0.82954\n",
      "weight_decay: 0.00048\n",
      "warmup_epochs: 3.18861\n",
      "warmup_momentum: 0.91149\n",
      "box: 7.86059\n",
      "cls: 0.49189\n",
      "dfl: 1.21933\n",
      "hsv_h: 0.01978\n",
      "hsv_s: 0.4682\n",
      "hsv_v: 0.45379\n",
      "degrees: 0.0\n",
      "translate: 0.08853\n",
      "scale: 0.36779\n",
      "shear: 0.0\n",
      "perspective: 0.0\n",
      "flipud: 0.0\n",
      "fliplr: 0.2656\n",
      "bgr: 0.0\n",
      "mosaic: 0.69888\n",
      "mixup: 0.0\n",
      "copy_paste: 0.0\n",
      "\n",
      "\u001b[34m\u001b[1mTuner: \u001b[0mStarting iteration 63/300 with hyperparameters: {'lr0': 0.0041, 'lrf': 0.01302, 'momentum': 0.80233, 'weight_decay': 0.00044, 'warmup_epochs': 3.06198, 'warmup_momentum': 0.76853, 'box': 11.41876, 'cls': 0.60178, 'dfl': 1.39854, 'hsv_h': 0.02123, 'hsv_s': 0.65733, 'hsv_v': 0.4672, 'degrees': 0.0, 'translate': 0.10868, 'scale': 0.45792, 'shear': 0.0, 'perspective': 0.0, 'flipud': 0.0, 'fliplr': 0.24894, 'bgr': 0.0, 'mosaic': 0.89844, 'mixup': 0.0, 'copy_paste': 0.0}\n",
      "Saved runs\\detect\\tune\\tune_scatter_plots.png\n",
      "Saved runs\\detect\\tune\\tune_fitness.png\n",
      "\n",
      "\u001b[34m\u001b[1mTuner: \u001b[0m63/300 iterations complete  (24028.43s)\n",
      "\u001b[34m\u001b[1mTuner: \u001b[0mResults saved to \u001b[1mruns\\detect\\tune\u001b[0m\n",
      "\u001b[34m\u001b[1mTuner: \u001b[0mBest fitness=0.66243 observed at iteration 61\n",
      "\u001b[34m\u001b[1mTuner: \u001b[0mBest fitness metrics are {'metrics/precision(B)': 0.89527, 'metrics/recall(B)': 0.85588, 'metrics/mAP50(B)': 0.93542, 'metrics/mAP50-95(B)': 0.6321, 'val/box_loss': 1.23118, 'val/cls_loss': 0.62475, 'val/dfl_loss': 0.92279, 'fitness': 0.66243}\n",
      "\u001b[34m\u001b[1mTuner: \u001b[0mBest fitness model is runs\\detect\\train64\n",
      "\u001b[34m\u001b[1mTuner: \u001b[0mBest fitness hyperparameters are printed below.\n",
      "\n",
      "Printing '\u001b[1m\u001b[30mruns\\detect\\tune\\best_hyperparameters.yaml\u001b[0m'\n",
      "\n",
      "lr0: 0.00284\n",
      "lrf: 0.01076\n",
      "momentum: 0.82954\n",
      "weight_decay: 0.00048\n",
      "warmup_epochs: 3.18861\n",
      "warmup_momentum: 0.91149\n",
      "box: 7.86059\n",
      "cls: 0.49189\n",
      "dfl: 1.21933\n",
      "hsv_h: 0.01978\n",
      "hsv_s: 0.4682\n",
      "hsv_v: 0.45379\n",
      "degrees: 0.0\n",
      "translate: 0.08853\n",
      "scale: 0.36779\n",
      "shear: 0.0\n",
      "perspective: 0.0\n",
      "flipud: 0.0\n",
      "fliplr: 0.2656\n",
      "bgr: 0.0\n",
      "mosaic: 0.69888\n",
      "mixup: 0.0\n",
      "copy_paste: 0.0\n",
      "\n",
      "\u001b[34m\u001b[1mTuner: \u001b[0mStarting iteration 64/300 with hyperparameters: {'lr0': 0.0033, 'lrf': 0.01065, 'momentum': 0.80961, 'weight_decay': 0.00053, 'warmup_epochs': 2.16693, 'warmup_momentum': 0.94119, 'box': 8.06759, 'cls': 0.43917, 'dfl': 1.21684, 'hsv_h': 0.01778, 'hsv_s': 0.45298, 'hsv_v': 0.47591, 'degrees': 0.0, 'translate': 0.10867, 'scale': 0.4251, 'shear': 0.0, 'perspective': 0.0, 'flipud': 0.0, 'fliplr': 0.30715, 'bgr': 0.0, 'mosaic': 0.85031, 'mixup': 0.0, 'copy_paste': 0.0}\n",
      "Saved runs\\detect\\tune\\tune_scatter_plots.png\n",
      "Saved runs\\detect\\tune\\tune_fitness.png\n",
      "\n",
      "\u001b[34m\u001b[1mTuner: \u001b[0m64/300 iterations complete  (24403.75s)\n",
      "\u001b[34m\u001b[1mTuner: \u001b[0mResults saved to \u001b[1mruns\\detect\\tune\u001b[0m\n",
      "\u001b[34m\u001b[1mTuner: \u001b[0mBest fitness=0.66243 observed at iteration 61\n",
      "\u001b[34m\u001b[1mTuner: \u001b[0mBest fitness metrics are {'metrics/precision(B)': 0.89527, 'metrics/recall(B)': 0.85588, 'metrics/mAP50(B)': 0.93542, 'metrics/mAP50-95(B)': 0.6321, 'val/box_loss': 1.23118, 'val/cls_loss': 0.62475, 'val/dfl_loss': 0.92279, 'fitness': 0.66243}\n",
      "\u001b[34m\u001b[1mTuner: \u001b[0mBest fitness model is runs\\detect\\train64\n",
      "\u001b[34m\u001b[1mTuner: \u001b[0mBest fitness hyperparameters are printed below.\n",
      "\n",
      "Printing '\u001b[1m\u001b[30mruns\\detect\\tune\\best_hyperparameters.yaml\u001b[0m'\n",
      "\n",
      "lr0: 0.00284\n",
      "lrf: 0.01076\n",
      "momentum: 0.82954\n",
      "weight_decay: 0.00048\n",
      "warmup_epochs: 3.18861\n",
      "warmup_momentum: 0.91149\n",
      "box: 7.86059\n",
      "cls: 0.49189\n",
      "dfl: 1.21933\n",
      "hsv_h: 0.01978\n",
      "hsv_s: 0.4682\n",
      "hsv_v: 0.45379\n",
      "degrees: 0.0\n",
      "translate: 0.08853\n",
      "scale: 0.36779\n",
      "shear: 0.0\n",
      "perspective: 0.0\n",
      "flipud: 0.0\n",
      "fliplr: 0.2656\n",
      "bgr: 0.0\n",
      "mosaic: 0.69888\n",
      "mixup: 0.0\n",
      "copy_paste: 0.0\n",
      "\n",
      "\u001b[34m\u001b[1mTuner: \u001b[0mStarting iteration 65/300 with hyperparameters: {'lr0': 0.00451, 'lrf': 0.01317, 'momentum': 0.90339, 'weight_decay': 0.00055, 'warmup_epochs': 1.86772, 'warmup_momentum': 0.64803, 'box': 11.47331, 'cls': 0.49872, 'dfl': 1.20747, 'hsv_h': 0.01827, 'hsv_s': 0.7159, 'hsv_v': 0.56062, 'degrees': 0.0, 'translate': 0.10875, 'scale': 0.3466, 'shear': 0.0, 'perspective': 0.0, 'flipud': 0.0, 'fliplr': 0.21451, 'bgr': 0.0, 'mosaic': 0.81725, 'mixup': 0.0, 'copy_paste': 0.0}\n",
      "Saved runs\\detect\\tune\\tune_scatter_plots.png\n",
      "Saved runs\\detect\\tune\\tune_fitness.png\n",
      "\n",
      "\u001b[34m\u001b[1mTuner: \u001b[0m65/300 iterations complete  (24795.13s)\n",
      "\u001b[34m\u001b[1mTuner: \u001b[0mResults saved to \u001b[1mruns\\detect\\tune\u001b[0m\n",
      "\u001b[34m\u001b[1mTuner: \u001b[0mBest fitness=0.66243 observed at iteration 61\n",
      "\u001b[34m\u001b[1mTuner: \u001b[0mBest fitness metrics are {'metrics/precision(B)': 0.89527, 'metrics/recall(B)': 0.85588, 'metrics/mAP50(B)': 0.93542, 'metrics/mAP50-95(B)': 0.6321, 'val/box_loss': 1.23118, 'val/cls_loss': 0.62475, 'val/dfl_loss': 0.92279, 'fitness': 0.66243}\n",
      "\u001b[34m\u001b[1mTuner: \u001b[0mBest fitness model is runs\\detect\\train64\n",
      "\u001b[34m\u001b[1mTuner: \u001b[0mBest fitness hyperparameters are printed below.\n",
      "\n",
      "Printing '\u001b[1m\u001b[30mruns\\detect\\tune\\best_hyperparameters.yaml\u001b[0m'\n",
      "\n",
      "lr0: 0.00284\n",
      "lrf: 0.01076\n",
      "momentum: 0.82954\n",
      "weight_decay: 0.00048\n",
      "warmup_epochs: 3.18861\n",
      "warmup_momentum: 0.91149\n",
      "box: 7.86059\n",
      "cls: 0.49189\n",
      "dfl: 1.21933\n",
      "hsv_h: 0.01978\n",
      "hsv_s: 0.4682\n",
      "hsv_v: 0.45379\n",
      "degrees: 0.0\n",
      "translate: 0.08853\n",
      "scale: 0.36779\n",
      "shear: 0.0\n",
      "perspective: 0.0\n",
      "flipud: 0.0\n",
      "fliplr: 0.2656\n",
      "bgr: 0.0\n",
      "mosaic: 0.69888\n",
      "mixup: 0.0\n",
      "copy_paste: 0.0\n",
      "\n",
      "\u001b[34m\u001b[1mTuner: \u001b[0mStarting iteration 66/300 with hyperparameters: {'lr0': 0.0035, 'lrf': 0.0134, 'momentum': 0.85881, 'weight_decay': 0.00047, 'warmup_epochs': 3.05243, 'warmup_momentum': 0.73303, 'box': 11.50491, 'cls': 0.58535, 'dfl': 1.48495, 'hsv_h': 0.01843, 'hsv_s': 0.72862, 'hsv_v': 0.45732, 'degrees': 0.0, 'translate': 0.12195, 'scale': 0.33171, 'shear': 0.0, 'perspective': 0.0, 'flipud': 0.0, 'fliplr': 0.27903, 'bgr': 0.0, 'mosaic': 0.6326, 'mixup': 0.0, 'copy_paste': 0.0}\n",
      "Saved runs\\detect\\tune\\tune_scatter_plots.png\n",
      "Saved runs\\detect\\tune\\tune_fitness.png\n",
      "\n",
      "\u001b[34m\u001b[1mTuner: \u001b[0m66/300 iterations complete  (25171.48s)\n",
      "\u001b[34m\u001b[1mTuner: \u001b[0mResults saved to \u001b[1mruns\\detect\\tune\u001b[0m\n",
      "\u001b[34m\u001b[1mTuner: \u001b[0mBest fitness=0.66243 observed at iteration 61\n",
      "\u001b[34m\u001b[1mTuner: \u001b[0mBest fitness metrics are {'metrics/precision(B)': 0.89527, 'metrics/recall(B)': 0.85588, 'metrics/mAP50(B)': 0.93542, 'metrics/mAP50-95(B)': 0.6321, 'val/box_loss': 1.23118, 'val/cls_loss': 0.62475, 'val/dfl_loss': 0.92279, 'fitness': 0.66243}\n",
      "\u001b[34m\u001b[1mTuner: \u001b[0mBest fitness model is runs\\detect\\train64\n",
      "\u001b[34m\u001b[1mTuner: \u001b[0mBest fitness hyperparameters are printed below.\n",
      "\n",
      "Printing '\u001b[1m\u001b[30mruns\\detect\\tune\\best_hyperparameters.yaml\u001b[0m'\n",
      "\n",
      "lr0: 0.00284\n",
      "lrf: 0.01076\n",
      "momentum: 0.82954\n",
      "weight_decay: 0.00048\n",
      "warmup_epochs: 3.18861\n",
      "warmup_momentum: 0.91149\n",
      "box: 7.86059\n",
      "cls: 0.49189\n",
      "dfl: 1.21933\n",
      "hsv_h: 0.01978\n",
      "hsv_s: 0.4682\n",
      "hsv_v: 0.45379\n",
      "degrees: 0.0\n",
      "translate: 0.08853\n",
      "scale: 0.36779\n",
      "shear: 0.0\n",
      "perspective: 0.0\n",
      "flipud: 0.0\n",
      "fliplr: 0.2656\n",
      "bgr: 0.0\n",
      "mosaic: 0.69888\n",
      "mixup: 0.0\n",
      "copy_paste: 0.0\n",
      "\n",
      "\u001b[34m\u001b[1mTuner: \u001b[0mStarting iteration 67/300 with hyperparameters: {'lr0': 0.00276, 'lrf': 0.01076, 'momentum': 0.84501, 'weight_decay': 0.00048, 'warmup_epochs': 3.18861, 'warmup_momentum': 0.95, 'box': 6.87116, 'cls': 0.50832, 'dfl': 1.1334, 'hsv_h': 0.02086, 'hsv_s': 0.52763, 'hsv_v': 0.48757, 'degrees': 0.0, 'translate': 0.1115, 'scale': 0.37641, 'shear': 0.0, 'perspective': 0.0, 'flipud': 0.0, 'fliplr': 0.2656, 'bgr': 0.0, 'mosaic': 0.71793, 'mixup': 0.0, 'copy_paste': 0.0}\n"
     ]
    }
   ],
   "source": [
    "from ultralytics import YOLO\n",
    "\n",
    "# Carregar o modelo YOLO11 pré-treinado\n",
    "model = YOLO('yolo11n.pt')\n",
    "\n",
    "model.tune(data='C:\\\\Users\\\\píchau\\\\Documents\\\\TCC\\\\dataset_preprocessed.yaml', epochs=30, iterations=300, optimizer=\"AdamW\", plots=False, save=False, val=False)"
   ]
  },
  {
   "cell_type": "code",
   "execution_count": 2,
   "metadata": {},
   "outputs": [
    {
     "name": "stdout",
     "output_type": "stream",
     "text": [
      "New https://pypi.org/project/ultralytics/8.3.49 available  Update with 'pip install -U ultralytics'\n",
      "Ultralytics 8.3.15  Python-3.12.2 torch-2.5.0+cu118 CUDA:0 (NVIDIA GeForce RTX 4060, 8188MiB)\n",
      "\u001b[34m\u001b[1mengine\\trainer: \u001b[0mtask=detect, mode=train, model=yolov8n.pt, data=C:\\Users\\pchau\\Documents\\TCC\\dataset.yaml, epochs=1000, time=None, patience=100, batch=16, imgsz=640, save=True, save_period=-1, cache=False, device=None, workers=8, project=None, name=train, exist_ok=False, pretrained=True, optimizer=auto, verbose=True, seed=0, deterministic=True, single_cls=False, rect=False, cos_lr=False, close_mosaic=10, resume=False, amp=True, fraction=1.0, profile=False, freeze=None, multi_scale=False, overlap_mask=True, mask_ratio=4, dropout=0.0, val=True, split=val, save_json=False, save_hybrid=False, conf=None, iou=0.7, max_det=300, half=False, dnn=False, plots=True, source=None, vid_stride=1, stream_buffer=False, visualize=False, augment=False, agnostic_nms=False, classes=None, retina_masks=False, embed=None, show=False, save_frames=False, save_txt=False, save_conf=False, save_crop=False, show_labels=True, show_conf=True, show_boxes=True, line_width=None, format=torchscript, keras=False, optimize=False, int8=False, dynamic=False, simplify=True, opset=None, workspace=4, nms=False, lr0=0.01, lrf=0.01, momentum=0.937, weight_decay=0.0005, warmup_epochs=3.0, warmup_momentum=0.8, warmup_bias_lr=0.1, box=7.5, cls=0.5, dfl=1.5, pose=12.0, kobj=1.0, label_smoothing=0.0, nbs=64, hsv_h=0.015, hsv_s=0.7, hsv_v=0.4, degrees=0.0, translate=0.1, scale=0.5, shear=0.0, perspective=0.0, flipud=0.0, fliplr=0.5, bgr=0.0, mosaic=1.0, mixup=0.0, copy_paste=0.0, copy_paste_mode=flip, auto_augment=randaugment, erasing=0.4, crop_fraction=1.0, cfg=None, tracker=botsort.yaml, save_dir=runs\\detect\\train\n",
      "Overriding model.yaml nc=80 with nc=1\n",
      "\n",
      "                   from  n    params  module                                       arguments                     \n",
      "  0                  -1  1       464  ultralytics.nn.modules.conv.Conv             [3, 16, 3, 2]                 \n",
      "  1                  -1  1      4672  ultralytics.nn.modules.conv.Conv             [16, 32, 3, 2]                \n",
      "  2                  -1  1      7360  ultralytics.nn.modules.block.C2f             [32, 32, 1, True]             \n",
      "  3                  -1  1     18560  ultralytics.nn.modules.conv.Conv             [32, 64, 3, 2]                \n",
      "  4                  -1  2     49664  ultralytics.nn.modules.block.C2f             [64, 64, 2, True]             \n",
      "  5                  -1  1     73984  ultralytics.nn.modules.conv.Conv             [64, 128, 3, 2]               \n",
      "  6                  -1  2    197632  ultralytics.nn.modules.block.C2f             [128, 128, 2, True]           \n",
      "  7                  -1  1    295424  ultralytics.nn.modules.conv.Conv             [128, 256, 3, 2]              \n",
      "  8                  -1  1    460288  ultralytics.nn.modules.block.C2f             [256, 256, 1, True]           \n",
      "  9                  -1  1    164608  ultralytics.nn.modules.block.SPPF            [256, 256, 5]                 \n",
      " 10                  -1  1         0  torch.nn.modules.upsampling.Upsample         [None, 2, 'nearest']          \n",
      " 11             [-1, 6]  1         0  ultralytics.nn.modules.conv.Concat           [1]                           \n",
      " 12                  -1  1    148224  ultralytics.nn.modules.block.C2f             [384, 128, 1]                 \n",
      " 13                  -1  1         0  torch.nn.modules.upsampling.Upsample         [None, 2, 'nearest']          \n",
      " 14             [-1, 4]  1         0  ultralytics.nn.modules.conv.Concat           [1]                           \n",
      " 15                  -1  1     37248  ultralytics.nn.modules.block.C2f             [192, 64, 1]                  \n",
      " 16                  -1  1     36992  ultralytics.nn.modules.conv.Conv             [64, 64, 3, 2]                \n",
      " 17            [-1, 12]  1         0  ultralytics.nn.modules.conv.Concat           [1]                           \n",
      " 18                  -1  1    123648  ultralytics.nn.modules.block.C2f             [192, 128, 1]                 \n",
      " 19                  -1  1    147712  ultralytics.nn.modules.conv.Conv             [128, 128, 3, 2]              \n",
      " 20             [-1, 9]  1         0  ultralytics.nn.modules.conv.Concat           [1]                           \n",
      " 21                  -1  1    493056  ultralytics.nn.modules.block.C2f             [384, 256, 1]                 \n",
      " 22        [15, 18, 21]  1    430867  ultralytics.nn.modules.head.Detect           [1, [64, 128, 256]]           \n",
      "Model summary: 249 layers, 2,690,403 parameters, 2,690,387 gradients, 6.9 GFLOPs\n",
      "\n",
      "Transferred 313/391 items from pretrained weights\n",
      "Freezing layer 'model.22.dfl.conv.weight'\n",
      "\u001b[34m\u001b[1mAMP: \u001b[0mrunning Automatic Mixed Precision (AMP) checks with YOLO11n...\n",
      "\u001b[34m\u001b[1mAMP: \u001b[0mchecks passed \n"
     ]
    },
    {
     "name": "stderr",
     "output_type": "stream",
     "text": [
      "\u001b[34m\u001b[1mtrain: \u001b[0mScanning C:\\Users\\píchau\\Documents\\TCC\\dataset\\labels\\train.cache... 1170 images, 1 backgrounds, 0 corrupt: 100%|██████████| 1170/1170 [00:00<?, ?it/s]\n",
      "\u001b[34m\u001b[1mval: \u001b[0mScanning C:\\Users\\píchau\\Documents\\TCC\\dataset\\labels\\val.cache... 250 images, 0 backgrounds, 0 corrupt: 100%|██████████| 250/250 [00:00<?, ?it/s]\n"
     ]
    },
    {
     "name": "stdout",
     "output_type": "stream",
     "text": [
      "Plotting labels to runs\\detect\\train\\labels.jpg... \n",
      "\u001b[34m\u001b[1moptimizer:\u001b[0m 'optimizer=auto' found, ignoring 'lr0=0.01' and 'momentum=0.937' and determining best 'optimizer', 'lr0' and 'momentum' automatically... \n",
      "\u001b[34m\u001b[1moptimizer:\u001b[0m SGD(lr=0.01, momentum=0.9) with parameter groups 63 weight(decay=0.0), 70 weight(decay=0.0005), 69 bias(decay=0.0)\n",
      "Image sizes 640 train, 640 val\n",
      "Using 8 dataloader workers\n",
      "Logging results to \u001b[1mruns\\detect\\train\u001b[0m\n",
      "Starting training for 1000 epochs...\n",
      "\n",
      "      Epoch    GPU_mem   box_loss   cls_loss   dfl_loss  Instances       Size\n"
     ]
    },
    {
     "name": "stderr",
     "output_type": "stream",
     "text": [
      "     1/1000         3G      1.775      2.723      1.478         78        640: 100%|██████████| 74/74 [00:09<00:00,  7.42it/s]\n",
      "                 Class     Images  Instances      Box(P          R      mAP50  mAP50-95): 100%|██████████| 8/8 [00:01<00:00,  5.42it/s]\n"
     ]
    },
    {
     "name": "stdout",
     "output_type": "stream",
     "text": [
      "                   all        250       2831     0.0332      0.881       0.14     0.0742\n",
      "\n",
      "      Epoch    GPU_mem   box_loss   cls_loss   dfl_loss  Instances       Size\n"
     ]
    },
    {
     "name": "stderr",
     "output_type": "stream",
     "text": [
      "     2/1000      3.28G      1.523      1.365      1.261         85        640: 100%|██████████| 74/74 [00:09<00:00,  8.19it/s]\n",
      "                 Class     Images  Instances      Box(P          R      mAP50  mAP50-95): 100%|██████████| 8/8 [00:01<00:00,  5.14it/s]\n"
     ]
    },
    {
     "name": "stdout",
     "output_type": "stream",
     "text": [
      "                   all        250       2831       0.84      0.666      0.782      0.427\n",
      "\n",
      "      Epoch    GPU_mem   box_loss   cls_loss   dfl_loss  Instances       Size\n"
     ]
    },
    {
     "name": "stderr",
     "output_type": "stream",
     "text": [
      "     3/1000      2.91G       1.47       1.26      1.237         23        640: 100%|██████████| 74/74 [00:09<00:00,  8.03it/s]\n",
      "                 Class     Images  Instances      Box(P          R      mAP50  mAP50-95): 100%|██████████| 8/8 [00:01<00:00,  4.51it/s]"
     ]
    },
    {
     "name": "stdout",
     "output_type": "stream",
     "text": [
      "                   all        250       2831      0.755      0.647      0.746      0.426\n"
     ]
    },
    {
     "name": "stderr",
     "output_type": "stream",
     "text": [
      "\n"
     ]
    },
    {
     "name": "stdout",
     "output_type": "stream",
     "text": [
      "\n",
      "      Epoch    GPU_mem   box_loss   cls_loss   dfl_loss  Instances       Size\n"
     ]
    },
    {
     "name": "stderr",
     "output_type": "stream",
     "text": [
      "     4/1000      2.96G      1.469      1.216      1.228         59        640: 100%|██████████| 74/74 [00:09<00:00,  7.79it/s]\n",
      "                 Class     Images  Instances      Box(P          R      mAP50  mAP50-95): 100%|██████████| 8/8 [00:01<00:00,  5.13it/s]\n"
     ]
    },
    {
     "name": "stdout",
     "output_type": "stream",
     "text": [
      "                   all        250       2831      0.668      0.689      0.695      0.339\n",
      "\n",
      "      Epoch    GPU_mem   box_loss   cls_loss   dfl_loss  Instances       Size\n"
     ]
    },
    {
     "name": "stderr",
     "output_type": "stream",
     "text": [
      "     5/1000      2.89G      1.423      1.131      1.215         20        640: 100%|██████████| 74/74 [00:08<00:00,  8.37it/s]\n",
      "                 Class     Images  Instances      Box(P          R      mAP50  mAP50-95): 100%|██████████| 8/8 [00:01<00:00,  4.95it/s]"
     ]
    },
    {
     "name": "stdout",
     "output_type": "stream",
     "text": [
      "                   all        250       2831      0.785      0.726      0.809      0.497\n"
     ]
    },
    {
     "name": "stderr",
     "output_type": "stream",
     "text": [
      "\n"
     ]
    },
    {
     "name": "stdout",
     "output_type": "stream",
     "text": [
      "\n",
      "      Epoch    GPU_mem   box_loss   cls_loss   dfl_loss  Instances       Size\n"
     ]
    },
    {
     "name": "stderr",
     "output_type": "stream",
     "text": [
      "     6/1000      2.83G      1.412      1.101      1.196         62        640: 100%|██████████| 74/74 [00:08<00:00,  8.39it/s]\n",
      "                 Class     Images  Instances      Box(P          R      mAP50  mAP50-95): 100%|██████████| 8/8 [00:01<00:00,  5.73it/s]\n"
     ]
    },
    {
     "name": "stdout",
     "output_type": "stream",
     "text": [
      "                   all        250       2831      0.811      0.764      0.855      0.531\n",
      "\n",
      "      Epoch    GPU_mem   box_loss   cls_loss   dfl_loss  Instances       Size\n"
     ]
    },
    {
     "name": "stderr",
     "output_type": "stream",
     "text": [
      "     7/1000      2.89G      1.387      1.055      1.189         27        640: 100%|██████████| 74/74 [00:08<00:00,  8.40it/s]\n",
      "                 Class     Images  Instances      Box(P          R      mAP50  mAP50-95): 100%|██████████| 8/8 [00:01<00:00,  5.88it/s]\n"
     ]
    },
    {
     "name": "stdout",
     "output_type": "stream",
     "text": [
      "                   all        250       2831      0.842      0.791      0.876      0.548\n",
      "\n",
      "      Epoch    GPU_mem   box_loss   cls_loss   dfl_loss  Instances       Size\n"
     ]
    },
    {
     "name": "stderr",
     "output_type": "stream",
     "text": [
      "     8/1000      2.71G      1.386      1.048      1.189         16        640: 100%|██████████| 74/74 [00:08<00:00,  8.31it/s]\n",
      "                 Class     Images  Instances      Box(P          R      mAP50  mAP50-95): 100%|██████████| 8/8 [00:01<00:00,  5.73it/s]\n"
     ]
    },
    {
     "name": "stdout",
     "output_type": "stream",
     "text": [
      "                   all        250       2831      0.866      0.777      0.885      0.559\n",
      "\n",
      "      Epoch    GPU_mem   box_loss   cls_loss   dfl_loss  Instances       Size\n"
     ]
    },
    {
     "name": "stderr",
     "output_type": "stream",
     "text": [
      "     9/1000      2.85G      1.361      1.018      1.178         21        640: 100%|██████████| 74/74 [00:08<00:00,  8.35it/s]\n",
      "                 Class     Images  Instances      Box(P          R      mAP50  mAP50-95): 100%|██████████| 8/8 [00:01<00:00,  5.95it/s]\n"
     ]
    },
    {
     "name": "stdout",
     "output_type": "stream",
     "text": [
      "                   all        250       2831      0.878      0.797      0.899      0.573\n",
      "\n",
      "      Epoch    GPU_mem   box_loss   cls_loss   dfl_loss  Instances       Size\n"
     ]
    },
    {
     "name": "stderr",
     "output_type": "stream",
     "text": [
      "    10/1000         3G      1.367     0.9984       1.18         15        640: 100%|██████████| 74/74 [00:08<00:00,  8.38it/s]\n",
      "                 Class     Images  Instances      Box(P          R      mAP50  mAP50-95): 100%|██████████| 8/8 [00:01<00:00,  6.02it/s]"
     ]
    },
    {
     "name": "stdout",
     "output_type": "stream",
     "text": [
      "                   all        250       2831      0.818      0.703      0.799      0.483\n"
     ]
    },
    {
     "name": "stderr",
     "output_type": "stream",
     "text": [
      "\n"
     ]
    },
    {
     "name": "stdout",
     "output_type": "stream",
     "text": [
      "\n",
      "      Epoch    GPU_mem   box_loss   cls_loss   dfl_loss  Instances       Size\n"
     ]
    },
    {
     "name": "stderr",
     "output_type": "stream",
     "text": [
      "    11/1000      3.01G       1.35     0.9742      1.169         33        640: 100%|██████████| 74/74 [00:08<00:00,  8.32it/s]\n",
      "                 Class     Images  Instances      Box(P          R      mAP50  mAP50-95): 100%|██████████| 8/8 [00:01<00:00,  6.05it/s]\n"
     ]
    },
    {
     "name": "stdout",
     "output_type": "stream",
     "text": [
      "                   all        250       2831      0.866      0.797      0.898      0.568\n",
      "\n",
      "      Epoch    GPU_mem   box_loss   cls_loss   dfl_loss  Instances       Size\n"
     ]
    },
    {
     "name": "stderr",
     "output_type": "stream",
     "text": [
      "    12/1000      2.81G      1.341     0.9604      1.165         53        640: 100%|██████████| 74/74 [00:08<00:00,  8.37it/s]\n",
      "                 Class     Images  Instances      Box(P          R      mAP50  mAP50-95): 100%|██████████| 8/8 [00:01<00:00,  6.16it/s]"
     ]
    },
    {
     "name": "stdout",
     "output_type": "stream",
     "text": [
      "                   all        250       2831      0.788      0.762      0.819      0.462\n"
     ]
    },
    {
     "name": "stderr",
     "output_type": "stream",
     "text": [
      "\n"
     ]
    },
    {
     "name": "stdout",
     "output_type": "stream",
     "text": [
      "\n",
      "      Epoch    GPU_mem   box_loss   cls_loss   dfl_loss  Instances       Size\n"
     ]
    },
    {
     "name": "stderr",
     "output_type": "stream",
     "text": [
      "    13/1000      2.81G       1.33     0.9378      1.169         24        640: 100%|██████████| 74/74 [00:08<00:00,  8.45it/s]\n",
      "                 Class     Images  Instances      Box(P          R      mAP50  mAP50-95): 100%|██████████| 8/8 [00:01<00:00,  6.27it/s]"
     ]
    },
    {
     "name": "stdout",
     "output_type": "stream",
     "text": [
      "                   all        250       2831      0.868      0.797      0.898      0.577\n"
     ]
    },
    {
     "name": "stderr",
     "output_type": "stream",
     "text": [
      "\n"
     ]
    },
    {
     "name": "stdout",
     "output_type": "stream",
     "text": [
      "\n",
      "      Epoch    GPU_mem   box_loss   cls_loss   dfl_loss  Instances       Size\n"
     ]
    },
    {
     "name": "stderr",
     "output_type": "stream",
     "text": [
      "    14/1000      2.64G      1.339     0.9423      1.175         15        640: 100%|██████████| 74/74 [00:08<00:00,  8.36it/s]\n",
      "                 Class     Images  Instances      Box(P          R      mAP50  mAP50-95): 100%|██████████| 8/8 [00:01<00:00,  6.07it/s]"
     ]
    },
    {
     "name": "stdout",
     "output_type": "stream",
     "text": [
      "                   all        250       2831      0.822      0.781      0.856      0.529\n"
     ]
    },
    {
     "name": "stderr",
     "output_type": "stream",
     "text": [
      "\n"
     ]
    },
    {
     "name": "stdout",
     "output_type": "stream",
     "text": [
      "\n",
      "      Epoch    GPU_mem   box_loss   cls_loss   dfl_loss  Instances       Size\n"
     ]
    },
    {
     "name": "stderr",
     "output_type": "stream",
     "text": [
      "    15/1000      3.02G       1.33     0.9189      1.171         20        640: 100%|██████████| 74/74 [00:08<00:00,  8.23it/s]\n",
      "                 Class     Images  Instances      Box(P          R      mAP50  mAP50-95): 100%|██████████| 8/8 [00:01<00:00,  5.96it/s]\n"
     ]
    },
    {
     "name": "stdout",
     "output_type": "stream",
     "text": [
      "                   all        250       2831      0.862      0.805        0.9      0.574\n",
      "\n",
      "      Epoch    GPU_mem   box_loss   cls_loss   dfl_loss  Instances       Size\n"
     ]
    },
    {
     "name": "stderr",
     "output_type": "stream",
     "text": [
      "    16/1000      3.11G      1.324     0.9069      1.168         28        640: 100%|██████████| 74/74 [00:08<00:00,  8.39it/s]\n",
      "                 Class     Images  Instances      Box(P          R      mAP50  mAP50-95): 100%|██████████| 8/8 [00:01<00:00,  6.13it/s]"
     ]
    },
    {
     "name": "stdout",
     "output_type": "stream",
     "text": [
      "                   all        250       2831      0.854       0.75      0.862      0.532\n"
     ]
    },
    {
     "name": "stderr",
     "output_type": "stream",
     "text": [
      "\n"
     ]
    },
    {
     "name": "stdout",
     "output_type": "stream",
     "text": [
      "\n",
      "      Epoch    GPU_mem   box_loss   cls_loss   dfl_loss  Instances       Size\n"
     ]
    },
    {
     "name": "stderr",
     "output_type": "stream",
     "text": [
      "    17/1000      3.02G       1.31     0.8887      1.161         30        640: 100%|██████████| 74/74 [00:08<00:00,  8.32it/s]\n",
      "                 Class     Images  Instances      Box(P          R      mAP50  mAP50-95): 100%|██████████| 8/8 [00:01<00:00,  6.32it/s]"
     ]
    },
    {
     "name": "stdout",
     "output_type": "stream",
     "text": [
      "                   all        250       2831      0.866      0.789        0.9      0.578\n"
     ]
    },
    {
     "name": "stderr",
     "output_type": "stream",
     "text": [
      "\n"
     ]
    },
    {
     "name": "stdout",
     "output_type": "stream",
     "text": [
      "\n",
      "      Epoch    GPU_mem   box_loss   cls_loss   dfl_loss  Instances       Size\n"
     ]
    },
    {
     "name": "stderr",
     "output_type": "stream",
     "text": [
      "    18/1000      2.62G      1.315     0.8923      1.162         21        640: 100%|██████████| 74/74 [00:09<00:00,  8.21it/s]\n",
      "                 Class     Images  Instances      Box(P          R      mAP50  mAP50-95): 100%|██████████| 8/8 [00:01<00:00,  6.06it/s]"
     ]
    },
    {
     "name": "stdout",
     "output_type": "stream",
     "text": [
      "                   all        250       2831      0.869      0.791      0.882      0.572\n"
     ]
    },
    {
     "name": "stderr",
     "output_type": "stream",
     "text": [
      "\n"
     ]
    },
    {
     "name": "stdout",
     "output_type": "stream",
     "text": [
      "\n",
      "      Epoch    GPU_mem   box_loss   cls_loss   dfl_loss  Instances       Size\n"
     ]
    },
    {
     "name": "stderr",
     "output_type": "stream",
     "text": [
      "    19/1000      2.71G      1.303     0.8766      1.159         30        640: 100%|██████████| 74/74 [00:08<00:00,  8.39it/s]\n",
      "                 Class     Images  Instances      Box(P          R      mAP50  mAP50-95): 100%|██████████| 8/8 [00:01<00:00,  6.20it/s]"
     ]
    },
    {
     "name": "stdout",
     "output_type": "stream",
     "text": [
      "                   all        250       2831      0.871      0.807      0.905      0.586\n"
     ]
    },
    {
     "name": "stderr",
     "output_type": "stream",
     "text": [
      "\n"
     ]
    },
    {
     "name": "stdout",
     "output_type": "stream",
     "text": [
      "\n",
      "      Epoch    GPU_mem   box_loss   cls_loss   dfl_loss  Instances       Size\n"
     ]
    },
    {
     "name": "stderr",
     "output_type": "stream",
     "text": [
      "    20/1000      2.82G      1.298      0.875      1.163         28        640: 100%|██████████| 74/74 [00:08<00:00,  8.50it/s]\n",
      "                 Class     Images  Instances      Box(P          R      mAP50  mAP50-95): 100%|██████████| 8/8 [00:01<00:00,  6.14it/s]"
     ]
    },
    {
     "name": "stdout",
     "output_type": "stream",
     "text": [
      "                   all        250       2831      0.867      0.807      0.903       0.57\n"
     ]
    },
    {
     "name": "stderr",
     "output_type": "stream",
     "text": [
      "\n"
     ]
    },
    {
     "name": "stdout",
     "output_type": "stream",
     "text": [
      "\n",
      "      Epoch    GPU_mem   box_loss   cls_loss   dfl_loss  Instances       Size\n"
     ]
    },
    {
     "name": "stderr",
     "output_type": "stream",
     "text": [
      "    21/1000      2.95G      1.303     0.8603      1.156         52        640: 100%|██████████| 74/74 [00:08<00:00,  8.39it/s]\n",
      "                 Class     Images  Instances      Box(P          R      mAP50  mAP50-95): 100%|██████████| 8/8 [00:01<00:00,  6.23it/s]\n"
     ]
    },
    {
     "name": "stdout",
     "output_type": "stream",
     "text": [
      "                   all        250       2831      0.863      0.813      0.909      0.585\n",
      "\n",
      "      Epoch    GPU_mem   box_loss   cls_loss   dfl_loss  Instances       Size\n"
     ]
    },
    {
     "name": "stderr",
     "output_type": "stream",
     "text": [
      "    22/1000      2.74G      1.297     0.8589      1.145         61        640: 100%|██████████| 74/74 [00:08<00:00,  8.38it/s]\n",
      "                 Class     Images  Instances      Box(P          R      mAP50  mAP50-95): 100%|██████████| 8/8 [00:01<00:00,  6.17it/s]"
     ]
    },
    {
     "name": "stdout",
     "output_type": "stream",
     "text": [
      "                   all        250       2831      0.856      0.789      0.892      0.559\n"
     ]
    },
    {
     "name": "stderr",
     "output_type": "stream",
     "text": [
      "\n"
     ]
    },
    {
     "name": "stdout",
     "output_type": "stream",
     "text": [
      "\n",
      "      Epoch    GPU_mem   box_loss   cls_loss   dfl_loss  Instances       Size\n"
     ]
    },
    {
     "name": "stderr",
     "output_type": "stream",
     "text": [
      "    23/1000      3.21G      1.288     0.8378      1.148         39        640: 100%|██████████| 74/74 [00:08<00:00,  8.35it/s]\n",
      "                 Class     Images  Instances      Box(P          R      mAP50  mAP50-95): 100%|██████████| 8/8 [00:01<00:00,  6.34it/s]"
     ]
    },
    {
     "name": "stdout",
     "output_type": "stream",
     "text": [
      "                   all        250       2831      0.861      0.817      0.902      0.576\n"
     ]
    },
    {
     "name": "stderr",
     "output_type": "stream",
     "text": [
      "\n"
     ]
    },
    {
     "name": "stdout",
     "output_type": "stream",
     "text": [
      "\n",
      "      Epoch    GPU_mem   box_loss   cls_loss   dfl_loss  Instances       Size\n"
     ]
    },
    {
     "name": "stderr",
     "output_type": "stream",
     "text": [
      "    24/1000      2.73G      1.291     0.8534      1.151         41        640: 100%|██████████| 74/74 [00:08<00:00,  8.42it/s]\n",
      "                 Class     Images  Instances      Box(P          R      mAP50  mAP50-95): 100%|██████████| 8/8 [00:01<00:00,  6.07it/s]\n"
     ]
    },
    {
     "name": "stdout",
     "output_type": "stream",
     "text": [
      "                   all        250       2831      0.848      0.778      0.863      0.552\n",
      "\n",
      "      Epoch    GPU_mem   box_loss   cls_loss   dfl_loss  Instances       Size\n"
     ]
    },
    {
     "name": "stderr",
     "output_type": "stream",
     "text": [
      "    25/1000       2.7G       1.28     0.8235      1.153         26        640: 100%|██████████| 74/74 [00:08<00:00,  8.45it/s]\n",
      "                 Class     Images  Instances      Box(P          R      mAP50  mAP50-95): 100%|██████████| 8/8 [00:01<00:00,  6.18it/s]\n"
     ]
    },
    {
     "name": "stdout",
     "output_type": "stream",
     "text": [
      "                   all        250       2831      0.881      0.792      0.897      0.594\n",
      "\n",
      "      Epoch    GPU_mem   box_loss   cls_loss   dfl_loss  Instances       Size\n"
     ]
    },
    {
     "name": "stderr",
     "output_type": "stream",
     "text": [
      "    26/1000      2.84G      1.287       0.83      1.154         38        640: 100%|██████████| 74/74 [00:08<00:00,  8.47it/s]\n",
      "                 Class     Images  Instances      Box(P          R      mAP50  mAP50-95): 100%|██████████| 8/8 [00:01<00:00,  6.25it/s]"
     ]
    },
    {
     "name": "stdout",
     "output_type": "stream",
     "text": [
      "                   all        250       2831      0.874      0.813      0.907      0.573\n"
     ]
    },
    {
     "name": "stderr",
     "output_type": "stream",
     "text": [
      "\n"
     ]
    },
    {
     "name": "stdout",
     "output_type": "stream",
     "text": [
      "\n",
      "      Epoch    GPU_mem   box_loss   cls_loss   dfl_loss  Instances       Size\n"
     ]
    },
    {
     "name": "stderr",
     "output_type": "stream",
     "text": [
      "    27/1000      2.71G      1.276     0.8291      1.144         34        640: 100%|██████████| 74/74 [00:08<00:00,  8.30it/s]\n",
      "                 Class     Images  Instances      Box(P          R      mAP50  mAP50-95): 100%|██████████| 8/8 [00:01<00:00,  6.13it/s]"
     ]
    },
    {
     "name": "stdout",
     "output_type": "stream",
     "text": [
      "                   all        250       2831      0.875      0.801        0.9      0.571\n"
     ]
    },
    {
     "name": "stderr",
     "output_type": "stream",
     "text": [
      "\n"
     ]
    },
    {
     "name": "stdout",
     "output_type": "stream",
     "text": [
      "\n",
      "      Epoch    GPU_mem   box_loss   cls_loss   dfl_loss  Instances       Size\n"
     ]
    },
    {
     "name": "stderr",
     "output_type": "stream",
     "text": [
      "    28/1000      2.61G      1.282      0.811      1.151         16        640: 100%|██████████| 74/74 [00:08<00:00,  8.45it/s]\n",
      "                 Class     Images  Instances      Box(P          R      mAP50  mAP50-95): 100%|██████████| 8/8 [00:01<00:00,  6.06it/s]"
     ]
    },
    {
     "name": "stdout",
     "output_type": "stream",
     "text": [
      "                   all        250       2831      0.876       0.83      0.918      0.596\n"
     ]
    },
    {
     "name": "stderr",
     "output_type": "stream",
     "text": [
      "\n"
     ]
    },
    {
     "name": "stdout",
     "output_type": "stream",
     "text": [
      "\n",
      "      Epoch    GPU_mem   box_loss   cls_loss   dfl_loss  Instances       Size\n"
     ]
    },
    {
     "name": "stderr",
     "output_type": "stream",
     "text": [
      "    29/1000      3.18G      1.254     0.8089      1.139         39        640: 100%|██████████| 74/74 [00:08<00:00,  8.36it/s]\n",
      "                 Class     Images  Instances      Box(P          R      mAP50  mAP50-95): 100%|██████████| 8/8 [00:01<00:00,  6.25it/s]"
     ]
    },
    {
     "name": "stdout",
     "output_type": "stream",
     "text": [
      "                   all        250       2831      0.864      0.818      0.911      0.593\n"
     ]
    },
    {
     "name": "stderr",
     "output_type": "stream",
     "text": [
      "\n"
     ]
    },
    {
     "name": "stdout",
     "output_type": "stream",
     "text": [
      "\n",
      "      Epoch    GPU_mem   box_loss   cls_loss   dfl_loss  Instances       Size\n"
     ]
    },
    {
     "name": "stderr",
     "output_type": "stream",
     "text": [
      "    30/1000      3.24G      1.273     0.8057      1.139         49        640: 100%|██████████| 74/74 [00:08<00:00,  8.38it/s]\n",
      "                 Class     Images  Instances      Box(P          R      mAP50  mAP50-95): 100%|██████████| 8/8 [00:01<00:00,  6.16it/s]"
     ]
    },
    {
     "name": "stdout",
     "output_type": "stream",
     "text": [
      "                   all        250       2831      0.874      0.778      0.878      0.561\n"
     ]
    },
    {
     "name": "stderr",
     "output_type": "stream",
     "text": [
      "\n"
     ]
    },
    {
     "name": "stdout",
     "output_type": "stream",
     "text": [
      "\n",
      "      Epoch    GPU_mem   box_loss   cls_loss   dfl_loss  Instances       Size\n"
     ]
    },
    {
     "name": "stderr",
     "output_type": "stream",
     "text": [
      "    31/1000      2.95G      1.273     0.8081      1.153         14        640: 100%|██████████| 74/74 [00:09<00:00,  8.13it/s]\n",
      "                 Class     Images  Instances      Box(P          R      mAP50  mAP50-95): 100%|██████████| 8/8 [00:01<00:00,  6.24it/s]"
     ]
    },
    {
     "name": "stdout",
     "output_type": "stream",
     "text": [
      "                   all        250       2831       0.87      0.819      0.911      0.597\n"
     ]
    },
    {
     "name": "stderr",
     "output_type": "stream",
     "text": [
      "\n"
     ]
    },
    {
     "name": "stdout",
     "output_type": "stream",
     "text": [
      "\n",
      "      Epoch    GPU_mem   box_loss   cls_loss   dfl_loss  Instances       Size\n"
     ]
    },
    {
     "name": "stderr",
     "output_type": "stream",
     "text": [
      "    32/1000      2.69G      1.257     0.7947      1.141         23        640: 100%|██████████| 74/74 [00:08<00:00,  8.36it/s]\n",
      "                 Class     Images  Instances      Box(P          R      mAP50  mAP50-95): 100%|██████████| 8/8 [00:01<00:00,  6.10it/s]"
     ]
    },
    {
     "name": "stdout",
     "output_type": "stream",
     "text": [
      "                   all        250       2831      0.853      0.834      0.908      0.582\n"
     ]
    },
    {
     "name": "stderr",
     "output_type": "stream",
     "text": [
      "\n"
     ]
    },
    {
     "name": "stdout",
     "output_type": "stream",
     "text": [
      "\n",
      "      Epoch    GPU_mem   box_loss   cls_loss   dfl_loss  Instances       Size\n"
     ]
    },
    {
     "name": "stderr",
     "output_type": "stream",
     "text": [
      "    33/1000      3.06G      1.263     0.7985      1.136         24        640: 100%|██████████| 74/74 [00:08<00:00,  8.44it/s]\n",
      "                 Class     Images  Instances      Box(P          R      mAP50  mAP50-95): 100%|██████████| 8/8 [00:01<00:00,  6.19it/s]"
     ]
    },
    {
     "name": "stdout",
     "output_type": "stream",
     "text": [
      "                   all        250       2831      0.878       0.83      0.916       0.59\n"
     ]
    },
    {
     "name": "stderr",
     "output_type": "stream",
     "text": [
      "\n"
     ]
    },
    {
     "name": "stdout",
     "output_type": "stream",
     "text": [
      "\n",
      "      Epoch    GPU_mem   box_loss   cls_loss   dfl_loss  Instances       Size\n"
     ]
    },
    {
     "name": "stderr",
     "output_type": "stream",
     "text": [
      "    34/1000      2.66G      1.254     0.7858      1.136         43        640: 100%|██████████| 74/74 [00:08<00:00,  8.37it/s]\n",
      "                 Class     Images  Instances      Box(P          R      mAP50  mAP50-95): 100%|██████████| 8/8 [00:01<00:00,  6.05it/s]"
     ]
    },
    {
     "name": "stdout",
     "output_type": "stream",
     "text": [
      "                   all        250       2831       0.87      0.826      0.914      0.592\n"
     ]
    },
    {
     "name": "stderr",
     "output_type": "stream",
     "text": [
      "\n"
     ]
    },
    {
     "name": "stdout",
     "output_type": "stream",
     "text": [
      "\n",
      "      Epoch    GPU_mem   box_loss   cls_loss   dfl_loss  Instances       Size\n"
     ]
    },
    {
     "name": "stderr",
     "output_type": "stream",
     "text": [
      "    35/1000      2.68G      1.251     0.7842      1.134         27        640: 100%|██████████| 74/74 [00:08<00:00,  8.49it/s]\n",
      "                 Class     Images  Instances      Box(P          R      mAP50  mAP50-95): 100%|██████████| 8/8 [00:01<00:00,  6.25it/s]"
     ]
    },
    {
     "name": "stdout",
     "output_type": "stream",
     "text": [
      "                   all        250       2831      0.857      0.822      0.904      0.559\n"
     ]
    },
    {
     "name": "stderr",
     "output_type": "stream",
     "text": [
      "\n"
     ]
    },
    {
     "name": "stdout",
     "output_type": "stream",
     "text": [
      "\n",
      "      Epoch    GPU_mem   box_loss   cls_loss   dfl_loss  Instances       Size\n"
     ]
    },
    {
     "name": "stderr",
     "output_type": "stream",
     "text": [
      "    36/1000      2.77G      1.262     0.7867      1.138         24        640: 100%|██████████| 74/74 [00:08<00:00,  8.45it/s]\n",
      "                 Class     Images  Instances      Box(P          R      mAP50  mAP50-95): 100%|██████████| 8/8 [00:01<00:00,  6.16it/s]"
     ]
    },
    {
     "name": "stdout",
     "output_type": "stream",
     "text": [
      "                   all        250       2831      0.877      0.832      0.919        0.6\n"
     ]
    },
    {
     "name": "stderr",
     "output_type": "stream",
     "text": [
      "\n"
     ]
    },
    {
     "name": "stdout",
     "output_type": "stream",
     "text": [
      "\n",
      "      Epoch    GPU_mem   box_loss   cls_loss   dfl_loss  Instances       Size\n"
     ]
    },
    {
     "name": "stderr",
     "output_type": "stream",
     "text": [
      "    37/1000      2.84G       1.25     0.7829      1.132          8        640: 100%|██████████| 74/74 [00:08<00:00,  8.38it/s]\n",
      "                 Class     Images  Instances      Box(P          R      mAP50  mAP50-95): 100%|██████████| 8/8 [00:01<00:00,  6.20it/s]"
     ]
    },
    {
     "name": "stdout",
     "output_type": "stream",
     "text": [
      "                   all        250       2831      0.868      0.823      0.913      0.593\n"
     ]
    },
    {
     "name": "stderr",
     "output_type": "stream",
     "text": [
      "\n"
     ]
    },
    {
     "name": "stdout",
     "output_type": "stream",
     "text": [
      "\n",
      "      Epoch    GPU_mem   box_loss   cls_loss   dfl_loss  Instances       Size\n"
     ]
    },
    {
     "name": "stderr",
     "output_type": "stream",
     "text": [
      "    38/1000      3.02G      1.244     0.7841      1.134          7        640: 100%|██████████| 74/74 [00:08<00:00,  8.45it/s]\n",
      "                 Class     Images  Instances      Box(P          R      mAP50  mAP50-95): 100%|██████████| 8/8 [00:01<00:00,  6.36it/s]"
     ]
    },
    {
     "name": "stdout",
     "output_type": "stream",
     "text": [
      "                   all        250       2831      0.866      0.818      0.913      0.593\n"
     ]
    },
    {
     "name": "stderr",
     "output_type": "stream",
     "text": [
      "\n"
     ]
    },
    {
     "name": "stdout",
     "output_type": "stream",
     "text": [
      "\n",
      "      Epoch    GPU_mem   box_loss   cls_loss   dfl_loss  Instances       Size\n"
     ]
    },
    {
     "name": "stderr",
     "output_type": "stream",
     "text": [
      "    39/1000      3.02G      1.254     0.7801      1.136         65        640: 100%|██████████| 74/74 [00:08<00:00,  8.40it/s]\n",
      "                 Class     Images  Instances      Box(P          R      mAP50  mAP50-95): 100%|██████████| 8/8 [00:01<00:00,  6.22it/s]"
     ]
    },
    {
     "name": "stdout",
     "output_type": "stream",
     "text": [
      "                   all        250       2831      0.881      0.841      0.924      0.607\n"
     ]
    },
    {
     "name": "stderr",
     "output_type": "stream",
     "text": [
      "\n"
     ]
    },
    {
     "name": "stdout",
     "output_type": "stream",
     "text": [
      "\n",
      "      Epoch    GPU_mem   box_loss   cls_loss   dfl_loss  Instances       Size\n"
     ]
    },
    {
     "name": "stderr",
     "output_type": "stream",
     "text": [
      "    40/1000      2.77G      1.231     0.7546      1.126         38        640: 100%|██████████| 74/74 [00:08<00:00,  8.43it/s]\n",
      "                 Class     Images  Instances      Box(P          R      mAP50  mAP50-95): 100%|██████████| 8/8 [00:01<00:00,  6.34it/s]"
     ]
    },
    {
     "name": "stdout",
     "output_type": "stream",
     "text": [
      "                   all        250       2831      0.866       0.83      0.916      0.592\n"
     ]
    },
    {
     "name": "stderr",
     "output_type": "stream",
     "text": [
      "\n"
     ]
    },
    {
     "name": "stdout",
     "output_type": "stream",
     "text": [
      "\n",
      "      Epoch    GPU_mem   box_loss   cls_loss   dfl_loss  Instances       Size\n"
     ]
    },
    {
     "name": "stderr",
     "output_type": "stream",
     "text": [
      "    41/1000      2.83G      1.249     0.7635      1.131         51        640: 100%|██████████| 74/74 [00:09<00:00,  8.09it/s]\n",
      "                 Class     Images  Instances      Box(P          R      mAP50  mAP50-95): 100%|██████████| 8/8 [00:01<00:00,  6.33it/s]"
     ]
    },
    {
     "name": "stdout",
     "output_type": "stream",
     "text": [
      "                   all        250       2831      0.869      0.838      0.917      0.597\n"
     ]
    },
    {
     "name": "stderr",
     "output_type": "stream",
     "text": [
      "\n"
     ]
    },
    {
     "name": "stdout",
     "output_type": "stream",
     "text": [
      "\n",
      "      Epoch    GPU_mem   box_loss   cls_loss   dfl_loss  Instances       Size\n"
     ]
    },
    {
     "name": "stderr",
     "output_type": "stream",
     "text": [
      "    42/1000      2.95G      1.232     0.7624      1.122         24        640: 100%|██████████| 74/74 [00:08<00:00,  8.41it/s]\n",
      "                 Class     Images  Instances      Box(P          R      mAP50  mAP50-95): 100%|██████████| 8/8 [00:01<00:00,  6.25it/s]"
     ]
    },
    {
     "name": "stdout",
     "output_type": "stream",
     "text": [
      "                   all        250       2831      0.889      0.822      0.919      0.605\n"
     ]
    },
    {
     "name": "stderr",
     "output_type": "stream",
     "text": [
      "\n"
     ]
    },
    {
     "name": "stdout",
     "output_type": "stream",
     "text": [
      "\n",
      "      Epoch    GPU_mem   box_loss   cls_loss   dfl_loss  Instances       Size\n"
     ]
    },
    {
     "name": "stderr",
     "output_type": "stream",
     "text": [
      "    43/1000      2.51G      1.243     0.7551       1.13         31        640: 100%|██████████| 74/74 [00:08<00:00,  8.48it/s]\n",
      "                 Class     Images  Instances      Box(P          R      mAP50  mAP50-95): 100%|██████████| 8/8 [00:01<00:00,  6.17it/s]"
     ]
    },
    {
     "name": "stdout",
     "output_type": "stream",
     "text": [
      "                   all        250       2831      0.888      0.837      0.928      0.607\n"
     ]
    },
    {
     "name": "stderr",
     "output_type": "stream",
     "text": [
      "\n"
     ]
    },
    {
     "name": "stdout",
     "output_type": "stream",
     "text": [
      "\n",
      "      Epoch    GPU_mem   box_loss   cls_loss   dfl_loss  Instances       Size\n"
     ]
    },
    {
     "name": "stderr",
     "output_type": "stream",
     "text": [
      "    44/1000      2.69G      1.242     0.7602      1.123         42        640: 100%|██████████| 74/74 [00:08<00:00,  8.31it/s]\n",
      "                 Class     Images  Instances      Box(P          R      mAP50  mAP50-95): 100%|██████████| 8/8 [00:01<00:00,  6.25it/s]"
     ]
    },
    {
     "name": "stdout",
     "output_type": "stream",
     "text": [
      "                   all        250       2831      0.869      0.839      0.915      0.601\n"
     ]
    },
    {
     "name": "stderr",
     "output_type": "stream",
     "text": [
      "\n"
     ]
    },
    {
     "name": "stdout",
     "output_type": "stream",
     "text": [
      "\n",
      "      Epoch    GPU_mem   box_loss   cls_loss   dfl_loss  Instances       Size\n"
     ]
    },
    {
     "name": "stderr",
     "output_type": "stream",
     "text": [
      "    45/1000      2.78G       1.24      0.755      1.131         59        640: 100%|██████████| 74/74 [00:08<00:00,  8.44it/s]\n",
      "                 Class     Images  Instances      Box(P          R      mAP50  mAP50-95): 100%|██████████| 8/8 [00:01<00:00,  6.24it/s]"
     ]
    },
    {
     "name": "stdout",
     "output_type": "stream",
     "text": [
      "                   all        250       2831      0.879      0.822      0.918      0.603\n"
     ]
    },
    {
     "name": "stderr",
     "output_type": "stream",
     "text": [
      "\n"
     ]
    },
    {
     "name": "stdout",
     "output_type": "stream",
     "text": [
      "\n",
      "      Epoch    GPU_mem   box_loss   cls_loss   dfl_loss  Instances       Size\n"
     ]
    },
    {
     "name": "stderr",
     "output_type": "stream",
     "text": [
      "    46/1000      3.05G      1.233     0.7469      1.125         45        640: 100%|██████████| 74/74 [00:08<00:00,  8.48it/s]\n",
      "                 Class     Images  Instances      Box(P          R      mAP50  mAP50-95): 100%|██████████| 8/8 [00:01<00:00,  6.34it/s]"
     ]
    },
    {
     "name": "stdout",
     "output_type": "stream",
     "text": [
      "                   all        250       2831      0.887      0.825      0.916      0.599\n"
     ]
    },
    {
     "name": "stderr",
     "output_type": "stream",
     "text": [
      "\n"
     ]
    },
    {
     "name": "stdout",
     "output_type": "stream",
     "text": [
      "\n",
      "      Epoch    GPU_mem   box_loss   cls_loss   dfl_loss  Instances       Size\n"
     ]
    },
    {
     "name": "stderr",
     "output_type": "stream",
     "text": [
      "    47/1000      2.72G      1.225     0.7398      1.127         21        640: 100%|██████████| 74/74 [00:08<00:00,  8.36it/s]\n",
      "                 Class     Images  Instances      Box(P          R      mAP50  mAP50-95): 100%|██████████| 8/8 [00:01<00:00,  6.28it/s]\n"
     ]
    },
    {
     "name": "stdout",
     "output_type": "stream",
     "text": [
      "                   all        250       2831      0.887      0.832       0.92      0.607\n",
      "\n",
      "      Epoch    GPU_mem   box_loss   cls_loss   dfl_loss  Instances       Size\n"
     ]
    },
    {
     "name": "stderr",
     "output_type": "stream",
     "text": [
      "    48/1000      2.91G      1.223     0.7395      1.127         13        640: 100%|██████████| 74/74 [00:09<00:00,  8.08it/s]\n",
      "                 Class     Images  Instances      Box(P          R      mAP50  mAP50-95): 100%|██████████| 8/8 [00:01<00:00,  6.27it/s]"
     ]
    },
    {
     "name": "stdout",
     "output_type": "stream",
     "text": [
      "                   all        250       2831      0.877      0.821      0.914        0.6\n"
     ]
    },
    {
     "name": "stderr",
     "output_type": "stream",
     "text": [
      "\n"
     ]
    },
    {
     "name": "stdout",
     "output_type": "stream",
     "text": [
      "\n",
      "      Epoch    GPU_mem   box_loss   cls_loss   dfl_loss  Instances       Size\n"
     ]
    },
    {
     "name": "stderr",
     "output_type": "stream",
     "text": [
      "    49/1000      2.81G      1.234     0.7498      1.129         17        640: 100%|██████████| 74/74 [00:08<00:00,  8.23it/s]\n",
      "                 Class     Images  Instances      Box(P          R      mAP50  mAP50-95): 100%|██████████| 8/8 [00:01<00:00,  6.15it/s]"
     ]
    },
    {
     "name": "stdout",
     "output_type": "stream",
     "text": [
      "                   all        250       2831      0.867      0.838      0.921      0.605\n"
     ]
    },
    {
     "name": "stderr",
     "output_type": "stream",
     "text": [
      "\n"
     ]
    },
    {
     "name": "stdout",
     "output_type": "stream",
     "text": [
      "\n",
      "      Epoch    GPU_mem   box_loss   cls_loss   dfl_loss  Instances       Size\n"
     ]
    },
    {
     "name": "stderr",
     "output_type": "stream",
     "text": [
      "    50/1000         3G      1.236     0.7392      1.126         42        640: 100%|██████████| 74/74 [00:08<00:00,  8.27it/s]\n",
      "                 Class     Images  Instances      Box(P          R      mAP50  mAP50-95): 100%|██████████| 8/8 [00:01<00:00,  6.16it/s]"
     ]
    },
    {
     "name": "stdout",
     "output_type": "stream",
     "text": [
      "                   all        250       2831      0.881      0.834      0.922      0.601\n"
     ]
    },
    {
     "name": "stderr",
     "output_type": "stream",
     "text": [
      "\n"
     ]
    },
    {
     "name": "stdout",
     "output_type": "stream",
     "text": [
      "\n",
      "      Epoch    GPU_mem   box_loss   cls_loss   dfl_loss  Instances       Size\n"
     ]
    },
    {
     "name": "stderr",
     "output_type": "stream",
     "text": [
      "    51/1000      2.74G      1.223     0.7368      1.123         41        640: 100%|██████████| 74/74 [00:08<00:00,  8.39it/s]\n",
      "                 Class     Images  Instances      Box(P          R      mAP50  mAP50-95): 100%|██████████| 8/8 [00:01<00:00,  6.06it/s]"
     ]
    },
    {
     "name": "stdout",
     "output_type": "stream",
     "text": [
      "                   all        250       2831      0.873       0.83      0.918      0.601\n"
     ]
    },
    {
     "name": "stderr",
     "output_type": "stream",
     "text": [
      "\n"
     ]
    },
    {
     "name": "stdout",
     "output_type": "stream",
     "text": [
      "\n",
      "      Epoch    GPU_mem   box_loss   cls_loss   dfl_loss  Instances       Size\n"
     ]
    },
    {
     "name": "stderr",
     "output_type": "stream",
     "text": [
      "    52/1000      2.61G      1.222     0.7366      1.123         32        640: 100%|██████████| 74/74 [00:08<00:00,  8.41it/s]\n",
      "                 Class     Images  Instances      Box(P          R      mAP50  mAP50-95): 100%|██████████| 8/8 [00:01<00:00,  6.12it/s]"
     ]
    },
    {
     "name": "stdout",
     "output_type": "stream",
     "text": [
      "                   all        250       2831      0.872      0.841      0.918        0.6\n"
     ]
    },
    {
     "name": "stderr",
     "output_type": "stream",
     "text": [
      "\n"
     ]
    },
    {
     "name": "stdout",
     "output_type": "stream",
     "text": [
      "\n",
      "      Epoch    GPU_mem   box_loss   cls_loss   dfl_loss  Instances       Size\n"
     ]
    },
    {
     "name": "stderr",
     "output_type": "stream",
     "text": [
      "    53/1000      2.79G      1.216     0.7307       1.12         19        640: 100%|██████████| 74/74 [00:08<00:00,  8.36it/s]\n",
      "                 Class     Images  Instances      Box(P          R      mAP50  mAP50-95): 100%|██████████| 8/8 [00:01<00:00,  6.01it/s]"
     ]
    },
    {
     "name": "stdout",
     "output_type": "stream",
     "text": [
      "                   all        250       2831      0.876      0.841      0.927      0.611\n"
     ]
    },
    {
     "name": "stderr",
     "output_type": "stream",
     "text": [
      "\n"
     ]
    },
    {
     "name": "stdout",
     "output_type": "stream",
     "text": [
      "\n",
      "      Epoch    GPU_mem   box_loss   cls_loss   dfl_loss  Instances       Size\n"
     ]
    },
    {
     "name": "stderr",
     "output_type": "stream",
     "text": [
      "    54/1000      2.59G      1.215     0.7268      1.123         20        640: 100%|██████████| 74/74 [00:08<00:00,  8.33it/s]\n",
      "                 Class     Images  Instances      Box(P          R      mAP50  mAP50-95): 100%|██████████| 8/8 [00:01<00:00,  6.08it/s]\n"
     ]
    },
    {
     "name": "stdout",
     "output_type": "stream",
     "text": [
      "                   all        250       2831      0.877      0.824      0.917      0.596\n",
      "\n",
      "      Epoch    GPU_mem   box_loss   cls_loss   dfl_loss  Instances       Size\n"
     ]
    },
    {
     "name": "stderr",
     "output_type": "stream",
     "text": [
      "    55/1000      2.81G      1.216     0.7328      1.118         25        640: 100%|██████████| 74/74 [00:08<00:00,  8.31it/s]\n",
      "                 Class     Images  Instances      Box(P          R      mAP50  mAP50-95): 100%|██████████| 8/8 [00:01<00:00,  6.36it/s]"
     ]
    },
    {
     "name": "stdout",
     "output_type": "stream",
     "text": [
      "                   all        250       2831      0.884      0.812      0.906      0.599\n"
     ]
    },
    {
     "name": "stderr",
     "output_type": "stream",
     "text": [
      "\n"
     ]
    },
    {
     "name": "stdout",
     "output_type": "stream",
     "text": [
      "\n",
      "      Epoch    GPU_mem   box_loss   cls_loss   dfl_loss  Instances       Size\n"
     ]
    },
    {
     "name": "stderr",
     "output_type": "stream",
     "text": [
      "    56/1000      2.68G      1.213     0.7202      1.117         25        640: 100%|██████████| 74/74 [00:08<00:00,  8.47it/s]\n",
      "                 Class     Images  Instances      Box(P          R      mAP50  mAP50-95): 100%|██████████| 8/8 [00:01<00:00,  6.24it/s]"
     ]
    },
    {
     "name": "stdout",
     "output_type": "stream",
     "text": [
      "                   all        250       2831      0.863      0.838      0.917      0.595\n"
     ]
    },
    {
     "name": "stderr",
     "output_type": "stream",
     "text": [
      "\n"
     ]
    },
    {
     "name": "stdout",
     "output_type": "stream",
     "text": [
      "\n",
      "      Epoch    GPU_mem   box_loss   cls_loss   dfl_loss  Instances       Size\n"
     ]
    },
    {
     "name": "stderr",
     "output_type": "stream",
     "text": [
      "    57/1000       2.9G      1.205     0.7212      1.119         19        640: 100%|██████████| 74/74 [00:08<00:00,  8.39it/s]\n",
      "                 Class     Images  Instances      Box(P          R      mAP50  mAP50-95): 100%|██████████| 8/8 [00:01<00:00,  6.24it/s]"
     ]
    },
    {
     "name": "stdout",
     "output_type": "stream",
     "text": [
      "                   all        250       2831      0.882      0.833      0.916      0.609\n"
     ]
    },
    {
     "name": "stderr",
     "output_type": "stream",
     "text": [
      "\n"
     ]
    },
    {
     "name": "stdout",
     "output_type": "stream",
     "text": [
      "\n",
      "      Epoch    GPU_mem   box_loss   cls_loss   dfl_loss  Instances       Size\n"
     ]
    },
    {
     "name": "stderr",
     "output_type": "stream",
     "text": [
      "    58/1000      2.74G      1.211     0.7204      1.113         63        640: 100%|██████████| 74/74 [00:08<00:00,  8.36it/s]\n",
      "                 Class     Images  Instances      Box(P          R      mAP50  mAP50-95): 100%|██████████| 8/8 [00:01<00:00,  6.21it/s]"
     ]
    },
    {
     "name": "stdout",
     "output_type": "stream",
     "text": [
      "                   all        250       2831      0.875      0.829      0.918      0.588\n"
     ]
    },
    {
     "name": "stderr",
     "output_type": "stream",
     "text": [
      "\n"
     ]
    },
    {
     "name": "stdout",
     "output_type": "stream",
     "text": [
      "\n",
      "      Epoch    GPU_mem   box_loss   cls_loss   dfl_loss  Instances       Size\n"
     ]
    },
    {
     "name": "stderr",
     "output_type": "stream",
     "text": [
      "    59/1000      2.89G      1.201     0.7188       1.11         34        640: 100%|██████████| 74/74 [00:08<00:00,  8.44it/s]\n",
      "                 Class     Images  Instances      Box(P          R      mAP50  mAP50-95): 100%|██████████| 8/8 [00:01<00:00,  6.34it/s]"
     ]
    },
    {
     "name": "stdout",
     "output_type": "stream",
     "text": [
      "                   all        250       2831      0.877      0.814      0.909      0.595\n"
     ]
    },
    {
     "name": "stderr",
     "output_type": "stream",
     "text": [
      "\n"
     ]
    },
    {
     "name": "stdout",
     "output_type": "stream",
     "text": [
      "\n",
      "      Epoch    GPU_mem   box_loss   cls_loss   dfl_loss  Instances       Size\n"
     ]
    },
    {
     "name": "stderr",
     "output_type": "stream",
     "text": [
      "    60/1000      2.87G      1.207     0.7246      1.115         11        640: 100%|██████████| 74/74 [00:08<00:00,  8.41it/s]\n",
      "                 Class     Images  Instances      Box(P          R      mAP50  mAP50-95): 100%|██████████| 8/8 [00:01<00:00,  6.21it/s]"
     ]
    },
    {
     "name": "stdout",
     "output_type": "stream",
     "text": [
      "                   all        250       2831      0.874      0.845      0.924      0.609\n"
     ]
    },
    {
     "name": "stderr",
     "output_type": "stream",
     "text": [
      "\n"
     ]
    },
    {
     "name": "stdout",
     "output_type": "stream",
     "text": [
      "\n",
      "      Epoch    GPU_mem   box_loss   cls_loss   dfl_loss  Instances       Size\n"
     ]
    },
    {
     "name": "stderr",
     "output_type": "stream",
     "text": [
      "    61/1000      3.02G      1.214     0.7127      1.116         21        640: 100%|██████████| 74/74 [00:08<00:00,  8.45it/s]\n",
      "                 Class     Images  Instances      Box(P          R      mAP50  mAP50-95): 100%|██████████| 8/8 [00:01<00:00,  6.34it/s]"
     ]
    },
    {
     "name": "stdout",
     "output_type": "stream",
     "text": [
      "                   all        250       2831      0.892      0.833      0.925      0.614\n"
     ]
    },
    {
     "name": "stderr",
     "output_type": "stream",
     "text": [
      "\n"
     ]
    },
    {
     "name": "stdout",
     "output_type": "stream",
     "text": [
      "\n",
      "      Epoch    GPU_mem   box_loss   cls_loss   dfl_loss  Instances       Size\n"
     ]
    },
    {
     "name": "stderr",
     "output_type": "stream",
     "text": [
      "    62/1000      3.27G      1.204      0.718      1.114         46        640: 100%|██████████| 74/74 [00:08<00:00,  8.41it/s]\n",
      "                 Class     Images  Instances      Box(P          R      mAP50  mAP50-95): 100%|██████████| 8/8 [00:01<00:00,  6.40it/s]"
     ]
    },
    {
     "name": "stdout",
     "output_type": "stream",
     "text": [
      "                   all        250       2831      0.873      0.824      0.911      0.589\n"
     ]
    },
    {
     "name": "stderr",
     "output_type": "stream",
     "text": [
      "\n"
     ]
    },
    {
     "name": "stdout",
     "output_type": "stream",
     "text": [
      "\n",
      "      Epoch    GPU_mem   box_loss   cls_loss   dfl_loss  Instances       Size\n"
     ]
    },
    {
     "name": "stderr",
     "output_type": "stream",
     "text": [
      "    63/1000      3.32G      1.212     0.7104      1.112         19        640: 100%|██████████| 74/74 [00:08<00:00,  8.33it/s]\n",
      "                 Class     Images  Instances      Box(P          R      mAP50  mAP50-95): 100%|██████████| 8/8 [00:01<00:00,  6.34it/s]"
     ]
    },
    {
     "name": "stdout",
     "output_type": "stream",
     "text": [
      "                   all        250       2831      0.883      0.843      0.924      0.608\n"
     ]
    },
    {
     "name": "stderr",
     "output_type": "stream",
     "text": [
      "\n"
     ]
    },
    {
     "name": "stdout",
     "output_type": "stream",
     "text": [
      "\n",
      "      Epoch    GPU_mem   box_loss   cls_loss   dfl_loss  Instances       Size\n"
     ]
    },
    {
     "name": "stderr",
     "output_type": "stream",
     "text": [
      "    64/1000      2.73G      1.212     0.7174      1.117         35        640: 100%|██████████| 74/74 [00:08<00:00,  8.46it/s]\n",
      "                 Class     Images  Instances      Box(P          R      mAP50  mAP50-95): 100%|██████████| 8/8 [00:01<00:00,  6.43it/s]"
     ]
    },
    {
     "name": "stdout",
     "output_type": "stream",
     "text": [
      "                   all        250       2831      0.885      0.822      0.921      0.604\n"
     ]
    },
    {
     "name": "stderr",
     "output_type": "stream",
     "text": [
      "\n"
     ]
    },
    {
     "name": "stdout",
     "output_type": "stream",
     "text": [
      "\n",
      "      Epoch    GPU_mem   box_loss   cls_loss   dfl_loss  Instances       Size\n"
     ]
    },
    {
     "name": "stderr",
     "output_type": "stream",
     "text": [
      "    65/1000      2.79G      1.206     0.7026      1.112         35        640: 100%|██████████| 74/74 [00:08<00:00,  8.47it/s]\n",
      "                 Class     Images  Instances      Box(P          R      mAP50  mAP50-95): 100%|██████████| 8/8 [00:01<00:00,  6.23it/s]"
     ]
    },
    {
     "name": "stdout",
     "output_type": "stream",
     "text": [
      "                   all        250       2831      0.881      0.842      0.929      0.598\n"
     ]
    },
    {
     "name": "stderr",
     "output_type": "stream",
     "text": [
      "\n"
     ]
    },
    {
     "name": "stdout",
     "output_type": "stream",
     "text": [
      "\n",
      "      Epoch    GPU_mem   box_loss   cls_loss   dfl_loss  Instances       Size\n"
     ]
    },
    {
     "name": "stderr",
     "output_type": "stream",
     "text": [
      "    66/1000       2.8G      1.196     0.6965      1.106         35        640: 100%|██████████| 74/74 [00:08<00:00,  8.35it/s]\n",
      "                 Class     Images  Instances      Box(P          R      mAP50  mAP50-95): 100%|██████████| 8/8 [00:01<00:00,  6.23it/s]"
     ]
    },
    {
     "name": "stdout",
     "output_type": "stream",
     "text": [
      "                   all        250       2831      0.886      0.848      0.931      0.611\n"
     ]
    },
    {
     "name": "stderr",
     "output_type": "stream",
     "text": [
      "\n"
     ]
    },
    {
     "name": "stdout",
     "output_type": "stream",
     "text": [
      "\n",
      "      Epoch    GPU_mem   box_loss   cls_loss   dfl_loss  Instances       Size\n"
     ]
    },
    {
     "name": "stderr",
     "output_type": "stream",
     "text": [
      "    67/1000      2.91G      1.199      0.697       1.11         10        640: 100%|██████████| 74/74 [00:08<00:00,  8.46it/s]\n",
      "                 Class     Images  Instances      Box(P          R      mAP50  mAP50-95): 100%|██████████| 8/8 [00:01<00:00,  6.28it/s]"
     ]
    },
    {
     "name": "stdout",
     "output_type": "stream",
     "text": [
      "                   all        250       2831      0.865      0.856      0.925      0.609\n"
     ]
    },
    {
     "name": "stderr",
     "output_type": "stream",
     "text": [
      "\n"
     ]
    },
    {
     "name": "stdout",
     "output_type": "stream",
     "text": [
      "\n",
      "      Epoch    GPU_mem   box_loss   cls_loss   dfl_loss  Instances       Size\n"
     ]
    },
    {
     "name": "stderr",
     "output_type": "stream",
     "text": [
      "    68/1000      3.28G      1.208     0.7107      1.117         27        640: 100%|██████████| 74/74 [00:08<00:00,  8.47it/s]\n",
      "                 Class     Images  Instances      Box(P          R      mAP50  mAP50-95): 100%|██████████| 8/8 [00:01<00:00,  6.35it/s]"
     ]
    },
    {
     "name": "stdout",
     "output_type": "stream",
     "text": [
      "                   all        250       2831      0.873      0.842      0.922      0.605\n"
     ]
    },
    {
     "name": "stderr",
     "output_type": "stream",
     "text": [
      "\n"
     ]
    },
    {
     "name": "stdout",
     "output_type": "stream",
     "text": [
      "\n",
      "      Epoch    GPU_mem   box_loss   cls_loss   dfl_loss  Instances       Size\n"
     ]
    },
    {
     "name": "stderr",
     "output_type": "stream",
     "text": [
      "    69/1000      2.95G      1.197     0.6964      1.112         31        640: 100%|██████████| 74/74 [00:08<00:00,  8.31it/s]\n",
      "                 Class     Images  Instances      Box(P          R      mAP50  mAP50-95): 100%|██████████| 8/8 [00:01<00:00,  6.25it/s]"
     ]
    },
    {
     "name": "stdout",
     "output_type": "stream",
     "text": [
      "                   all        250       2831       0.88       0.85      0.931      0.619\n"
     ]
    },
    {
     "name": "stderr",
     "output_type": "stream",
     "text": [
      "\n"
     ]
    },
    {
     "name": "stdout",
     "output_type": "stream",
     "text": [
      "\n",
      "      Epoch    GPU_mem   box_loss   cls_loss   dfl_loss  Instances       Size\n"
     ]
    },
    {
     "name": "stderr",
     "output_type": "stream",
     "text": [
      "    70/1000      3.01G      1.197     0.6984      1.107         31        640: 100%|██████████| 74/74 [00:08<00:00,  8.48it/s]\n",
      "                 Class     Images  Instances      Box(P          R      mAP50  mAP50-95): 100%|██████████| 8/8 [00:01<00:00,  6.36it/s]"
     ]
    },
    {
     "name": "stdout",
     "output_type": "stream",
     "text": [
      "                   all        250       2831      0.868      0.858      0.931       0.62\n"
     ]
    },
    {
     "name": "stderr",
     "output_type": "stream",
     "text": [
      "\n"
     ]
    },
    {
     "name": "stdout",
     "output_type": "stream",
     "text": [
      "\n",
      "      Epoch    GPU_mem   box_loss   cls_loss   dfl_loss  Instances       Size\n"
     ]
    },
    {
     "name": "stderr",
     "output_type": "stream",
     "text": [
      "    71/1000      2.76G      1.197     0.6958      1.111         12        640: 100%|██████████| 74/74 [00:08<00:00,  8.50it/s]\n",
      "                 Class     Images  Instances      Box(P          R      mAP50  mAP50-95): 100%|██████████| 8/8 [00:01<00:00,  6.55it/s]"
     ]
    },
    {
     "name": "stdout",
     "output_type": "stream",
     "text": [
      "                   all        250       2831      0.889      0.842      0.927      0.614\n"
     ]
    },
    {
     "name": "stderr",
     "output_type": "stream",
     "text": [
      "\n"
     ]
    },
    {
     "name": "stdout",
     "output_type": "stream",
     "text": [
      "\n",
      "      Epoch    GPU_mem   box_loss   cls_loss   dfl_loss  Instances       Size\n"
     ]
    },
    {
     "name": "stderr",
     "output_type": "stream",
     "text": [
      "    72/1000      3.18G      1.185     0.6907      1.105         43        640: 100%|██████████| 74/74 [00:08<00:00,  8.42it/s]\n",
      "                 Class     Images  Instances      Box(P          R      mAP50  mAP50-95): 100%|██████████| 8/8 [00:01<00:00,  6.32it/s]"
     ]
    },
    {
     "name": "stdout",
     "output_type": "stream",
     "text": [
      "                   all        250       2831      0.895      0.823      0.919      0.612\n"
     ]
    },
    {
     "name": "stderr",
     "output_type": "stream",
     "text": [
      "\n"
     ]
    },
    {
     "name": "stdout",
     "output_type": "stream",
     "text": [
      "\n",
      "      Epoch    GPU_mem   box_loss   cls_loss   dfl_loss  Instances       Size\n"
     ]
    },
    {
     "name": "stderr",
     "output_type": "stream",
     "text": [
      "    73/1000      2.84G      1.181     0.6868      1.101         60        640: 100%|██████████| 74/74 [00:08<00:00,  8.48it/s]\n",
      "                 Class     Images  Instances      Box(P          R      mAP50  mAP50-95): 100%|██████████| 8/8 [00:01<00:00,  6.29it/s]"
     ]
    },
    {
     "name": "stdout",
     "output_type": "stream",
     "text": [
      "                   all        250       2831       0.89       0.84      0.928      0.614\n"
     ]
    },
    {
     "name": "stderr",
     "output_type": "stream",
     "text": [
      "\n"
     ]
    },
    {
     "name": "stdout",
     "output_type": "stream",
     "text": [
      "\n",
      "      Epoch    GPU_mem   box_loss   cls_loss   dfl_loss  Instances       Size\n"
     ]
    },
    {
     "name": "stderr",
     "output_type": "stream",
     "text": [
      "    74/1000      3.05G      1.174     0.6801        1.1         32        640: 100%|██████████| 74/74 [00:08<00:00,  8.29it/s]\n",
      "                 Class     Images  Instances      Box(P          R      mAP50  mAP50-95): 100%|██████████| 8/8 [00:01<00:00,  6.41it/s]"
     ]
    },
    {
     "name": "stdout",
     "output_type": "stream",
     "text": [
      "                   all        250       2831      0.889      0.848      0.931      0.617\n"
     ]
    },
    {
     "name": "stderr",
     "output_type": "stream",
     "text": [
      "\n"
     ]
    },
    {
     "name": "stdout",
     "output_type": "stream",
     "text": [
      "\n",
      "      Epoch    GPU_mem   box_loss   cls_loss   dfl_loss  Instances       Size\n"
     ]
    },
    {
     "name": "stderr",
     "output_type": "stream",
     "text": [
      "    75/1000      3.12G      1.188     0.6904      1.103          8        640: 100%|██████████| 74/74 [00:08<00:00,  8.41it/s]\n",
      "                 Class     Images  Instances      Box(P          R      mAP50  mAP50-95): 100%|██████████| 8/8 [00:01<00:00,  6.33it/s]"
     ]
    },
    {
     "name": "stdout",
     "output_type": "stream",
     "text": [
      "                   all        250       2831      0.897      0.833      0.923      0.614\n"
     ]
    },
    {
     "name": "stderr",
     "output_type": "stream",
     "text": [
      "\n"
     ]
    },
    {
     "name": "stdout",
     "output_type": "stream",
     "text": [
      "\n",
      "      Epoch    GPU_mem   box_loss   cls_loss   dfl_loss  Instances       Size\n"
     ]
    },
    {
     "name": "stderr",
     "output_type": "stream",
     "text": [
      "    76/1000      2.74G      1.189     0.6879      1.109         75        640: 100%|██████████| 74/74 [00:08<00:00,  8.47it/s]\n",
      "                 Class     Images  Instances      Box(P          R      mAP50  mAP50-95): 100%|██████████| 8/8 [00:01<00:00,  6.36it/s]"
     ]
    },
    {
     "name": "stdout",
     "output_type": "stream",
     "text": [
      "                   all        250       2831      0.876      0.831      0.919      0.599\n"
     ]
    },
    {
     "name": "stderr",
     "output_type": "stream",
     "text": [
      "\n"
     ]
    },
    {
     "name": "stdout",
     "output_type": "stream",
     "text": [
      "\n",
      "      Epoch    GPU_mem   box_loss   cls_loss   dfl_loss  Instances       Size\n"
     ]
    },
    {
     "name": "stderr",
     "output_type": "stream",
     "text": [
      "    77/1000      3.09G      1.191     0.6916      1.104         38        640: 100%|██████████| 74/74 [00:08<00:00,  8.47it/s]\n",
      "                 Class     Images  Instances      Box(P          R      mAP50  mAP50-95): 100%|██████████| 8/8 [00:01<00:00,  5.56it/s]"
     ]
    },
    {
     "name": "stdout",
     "output_type": "stream",
     "text": [
      "                   all        250       2831      0.876      0.835      0.925      0.616\n"
     ]
    },
    {
     "name": "stderr",
     "output_type": "stream",
     "text": [
      "\n"
     ]
    },
    {
     "name": "stdout",
     "output_type": "stream",
     "text": [
      "\n",
      "      Epoch    GPU_mem   box_loss   cls_loss   dfl_loss  Instances       Size\n"
     ]
    },
    {
     "name": "stderr",
     "output_type": "stream",
     "text": [
      "    78/1000      2.79G      1.181     0.6781      1.101         23        640: 100%|██████████| 74/74 [00:09<00:00,  7.53it/s]\n",
      "                 Class     Images  Instances      Box(P          R      mAP50  mAP50-95): 100%|██████████| 8/8 [00:01<00:00,  5.88it/s]"
     ]
    },
    {
     "name": "stdout",
     "output_type": "stream",
     "text": [
      "                   all        250       2831      0.894      0.839      0.925      0.611\n"
     ]
    },
    {
     "name": "stderr",
     "output_type": "stream",
     "text": [
      "\n"
     ]
    },
    {
     "name": "stdout",
     "output_type": "stream",
     "text": [
      "\n",
      "      Epoch    GPU_mem   box_loss   cls_loss   dfl_loss  Instances       Size\n"
     ]
    },
    {
     "name": "stderr",
     "output_type": "stream",
     "text": [
      "    79/1000      2.63G      1.175      0.681      1.108         18        640: 100%|██████████| 74/74 [00:09<00:00,  7.79it/s]\n",
      "                 Class     Images  Instances      Box(P          R      mAP50  mAP50-95): 100%|██████████| 8/8 [00:01<00:00,  6.28it/s]"
     ]
    },
    {
     "name": "stdout",
     "output_type": "stream",
     "text": [
      "                   all        250       2831      0.881      0.844      0.926      0.613\n"
     ]
    },
    {
     "name": "stderr",
     "output_type": "stream",
     "text": [
      "\n"
     ]
    },
    {
     "name": "stdout",
     "output_type": "stream",
     "text": [
      "\n",
      "      Epoch    GPU_mem   box_loss   cls_loss   dfl_loss  Instances       Size\n"
     ]
    },
    {
     "name": "stderr",
     "output_type": "stream",
     "text": [
      "    80/1000      2.63G      1.172     0.6799      1.097          9        640: 100%|██████████| 74/74 [00:09<00:00,  8.17it/s]\n",
      "                 Class     Images  Instances      Box(P          R      mAP50  mAP50-95): 100%|██████████| 8/8 [00:01<00:00,  6.31it/s]"
     ]
    },
    {
     "name": "stdout",
     "output_type": "stream",
     "text": [
      "                   all        250       2831      0.874       0.86      0.924      0.601\n"
     ]
    },
    {
     "name": "stderr",
     "output_type": "stream",
     "text": [
      "\n"
     ]
    },
    {
     "name": "stdout",
     "output_type": "stream",
     "text": [
      "\n",
      "      Epoch    GPU_mem   box_loss   cls_loss   dfl_loss  Instances       Size\n"
     ]
    },
    {
     "name": "stderr",
     "output_type": "stream",
     "text": [
      "    81/1000      2.92G      1.188      0.681      1.102         34        640: 100%|██████████| 74/74 [00:08<00:00,  8.41it/s]\n",
      "                 Class     Images  Instances      Box(P          R      mAP50  mAP50-95): 100%|██████████| 8/8 [00:01<00:00,  6.25it/s]"
     ]
    },
    {
     "name": "stdout",
     "output_type": "stream",
     "text": [
      "                   all        250       2831      0.892       0.85      0.931      0.612\n"
     ]
    },
    {
     "name": "stderr",
     "output_type": "stream",
     "text": [
      "\n"
     ]
    },
    {
     "name": "stdout",
     "output_type": "stream",
     "text": [
      "\n",
      "      Epoch    GPU_mem   box_loss   cls_loss   dfl_loss  Instances       Size\n"
     ]
    },
    {
     "name": "stderr",
     "output_type": "stream",
     "text": [
      "    82/1000         3G      1.181     0.6801      1.104         24        640: 100%|██████████| 74/74 [00:08<00:00,  8.43it/s]\n",
      "                 Class     Images  Instances      Box(P          R      mAP50  mAP50-95): 100%|██████████| 8/8 [00:01<00:00,  6.42it/s]"
     ]
    },
    {
     "name": "stdout",
     "output_type": "stream",
     "text": [
      "                   all        250       2831      0.866      0.853      0.921        0.6\n"
     ]
    },
    {
     "name": "stderr",
     "output_type": "stream",
     "text": [
      "\n"
     ]
    },
    {
     "name": "stdout",
     "output_type": "stream",
     "text": [
      "\n",
      "      Epoch    GPU_mem   box_loss   cls_loss   dfl_loss  Instances       Size\n"
     ]
    },
    {
     "name": "stderr",
     "output_type": "stream",
     "text": [
      "    83/1000      2.63G      1.174     0.6739      1.095         12        640: 100%|██████████| 74/74 [00:08<00:00,  8.46it/s]\n",
      "                 Class     Images  Instances      Box(P          R      mAP50  mAP50-95): 100%|██████████| 8/8 [00:01<00:00,  6.19it/s]"
     ]
    },
    {
     "name": "stdout",
     "output_type": "stream",
     "text": [
      "                   all        250       2831      0.896      0.823      0.918      0.609\n"
     ]
    },
    {
     "name": "stderr",
     "output_type": "stream",
     "text": [
      "\n"
     ]
    },
    {
     "name": "stdout",
     "output_type": "stream",
     "text": [
      "\n",
      "      Epoch    GPU_mem   box_loss   cls_loss   dfl_loss  Instances       Size\n"
     ]
    },
    {
     "name": "stderr",
     "output_type": "stream",
     "text": [
      "    84/1000      2.85G      1.185     0.6709      1.098         27        640: 100%|██████████| 74/74 [00:09<00:00,  8.16it/s]\n",
      "                 Class     Images  Instances      Box(P          R      mAP50  mAP50-95): 100%|██████████| 8/8 [00:01<00:00,  6.32it/s]"
     ]
    },
    {
     "name": "stdout",
     "output_type": "stream",
     "text": [
      "                   all        250       2831      0.884      0.845      0.925      0.612\n"
     ]
    },
    {
     "name": "stderr",
     "output_type": "stream",
     "text": [
      "\n"
     ]
    },
    {
     "name": "stdout",
     "output_type": "stream",
     "text": [
      "\n",
      "      Epoch    GPU_mem   box_loss   cls_loss   dfl_loss  Instances       Size\n"
     ]
    },
    {
     "name": "stderr",
     "output_type": "stream",
     "text": [
      "    85/1000      3.01G      1.168     0.6695      1.099         20        640: 100%|██████████| 74/74 [00:08<00:00,  8.40it/s]\n",
      "                 Class     Images  Instances      Box(P          R      mAP50  mAP50-95): 100%|██████████| 8/8 [00:01<00:00,  6.22it/s]"
     ]
    },
    {
     "name": "stdout",
     "output_type": "stream",
     "text": [
      "                   all        250       2831      0.877      0.852      0.925      0.608\n"
     ]
    },
    {
     "name": "stderr",
     "output_type": "stream",
     "text": [
      "\n"
     ]
    },
    {
     "name": "stdout",
     "output_type": "stream",
     "text": [
      "\n",
      "      Epoch    GPU_mem   box_loss   cls_loss   dfl_loss  Instances       Size\n"
     ]
    },
    {
     "name": "stderr",
     "output_type": "stream",
     "text": [
      "    86/1000      2.78G      1.159     0.6655      1.093         23        640: 100%|██████████| 74/74 [00:08<00:00,  8.42it/s]\n",
      "                 Class     Images  Instances      Box(P          R      mAP50  mAP50-95): 100%|██████████| 8/8 [00:01<00:00,  6.24it/s]"
     ]
    },
    {
     "name": "stdout",
     "output_type": "stream",
     "text": [
      "                   all        250       2831      0.885       0.86      0.932      0.617\n"
     ]
    },
    {
     "name": "stderr",
     "output_type": "stream",
     "text": [
      "\n"
     ]
    },
    {
     "name": "stdout",
     "output_type": "stream",
     "text": [
      "\n",
      "      Epoch    GPU_mem   box_loss   cls_loss   dfl_loss  Instances       Size\n"
     ]
    },
    {
     "name": "stderr",
     "output_type": "stream",
     "text": [
      "    87/1000      3.14G      1.167     0.6665      1.092         19        640: 100%|██████████| 74/74 [00:08<00:00,  8.26it/s]\n",
      "                 Class     Images  Instances      Box(P          R      mAP50  mAP50-95): 100%|██████████| 8/8 [00:01<00:00,  6.35it/s]"
     ]
    },
    {
     "name": "stdout",
     "output_type": "stream",
     "text": [
      "                   all        250       2831        0.9      0.836      0.925       0.61\n"
     ]
    },
    {
     "name": "stderr",
     "output_type": "stream",
     "text": [
      "\n"
     ]
    },
    {
     "name": "stdout",
     "output_type": "stream",
     "text": [
      "\n",
      "      Epoch    GPU_mem   box_loss   cls_loss   dfl_loss  Instances       Size\n"
     ]
    },
    {
     "name": "stderr",
     "output_type": "stream",
     "text": [
      "    88/1000      2.71G      1.167     0.6641      1.095         22        640: 100%|██████████| 74/74 [00:08<00:00,  8.47it/s]\n",
      "                 Class     Images  Instances      Box(P          R      mAP50  mAP50-95): 100%|██████████| 8/8 [00:01<00:00,  6.18it/s]"
     ]
    },
    {
     "name": "stdout",
     "output_type": "stream",
     "text": [
      "                   all        250       2831      0.899      0.828      0.923      0.611\n"
     ]
    },
    {
     "name": "stderr",
     "output_type": "stream",
     "text": [
      "\n"
     ]
    },
    {
     "name": "stdout",
     "output_type": "stream",
     "text": [
      "\n",
      "      Epoch    GPU_mem   box_loss   cls_loss   dfl_loss  Instances       Size\n"
     ]
    },
    {
     "name": "stderr",
     "output_type": "stream",
     "text": [
      "    89/1000      2.66G      1.169     0.6663      1.096         17        640: 100%|██████████| 74/74 [00:09<00:00,  8.18it/s]\n",
      "                 Class     Images  Instances      Box(P          R      mAP50  mAP50-95): 100%|██████████| 8/8 [00:01<00:00,  6.25it/s]"
     ]
    },
    {
     "name": "stdout",
     "output_type": "stream",
     "text": [
      "                   all        250       2831      0.864      0.836      0.912      0.592\n"
     ]
    },
    {
     "name": "stderr",
     "output_type": "stream",
     "text": [
      "\n"
     ]
    },
    {
     "name": "stdout",
     "output_type": "stream",
     "text": [
      "\n",
      "      Epoch    GPU_mem   box_loss   cls_loss   dfl_loss  Instances       Size\n"
     ]
    },
    {
     "name": "stderr",
     "output_type": "stream",
     "text": [
      "    90/1000      2.97G      1.166     0.6608      1.094         16        640: 100%|██████████| 74/74 [00:08<00:00,  8.44it/s]\n",
      "                 Class     Images  Instances      Box(P          R      mAP50  mAP50-95): 100%|██████████| 8/8 [00:01<00:00,  6.44it/s]"
     ]
    },
    {
     "name": "stdout",
     "output_type": "stream",
     "text": [
      "                   all        250       2831      0.878      0.865      0.929      0.608\n"
     ]
    },
    {
     "name": "stderr",
     "output_type": "stream",
     "text": [
      "\n"
     ]
    },
    {
     "name": "stdout",
     "output_type": "stream",
     "text": [
      "\n",
      "      Epoch    GPU_mem   box_loss   cls_loss   dfl_loss  Instances       Size\n"
     ]
    },
    {
     "name": "stderr",
     "output_type": "stream",
     "text": [
      "    91/1000      2.52G      1.159     0.6594      1.093         13        640: 100%|██████████| 74/74 [00:08<00:00,  8.36it/s]\n",
      "                 Class     Images  Instances      Box(P          R      mAP50  mAP50-95): 100%|██████████| 8/8 [00:01<00:00,  6.34it/s]"
     ]
    },
    {
     "name": "stdout",
     "output_type": "stream",
     "text": [
      "                   all        250       2831      0.891      0.846      0.932      0.619\n"
     ]
    },
    {
     "name": "stderr",
     "output_type": "stream",
     "text": [
      "\n"
     ]
    },
    {
     "name": "stdout",
     "output_type": "stream",
     "text": [
      "\n",
      "      Epoch    GPU_mem   box_loss   cls_loss   dfl_loss  Instances       Size\n"
     ]
    },
    {
     "name": "stderr",
     "output_type": "stream",
     "text": [
      "    92/1000      2.75G      1.166     0.6638      1.093         22        640: 100%|██████████| 74/74 [00:08<00:00,  8.47it/s]\n",
      "                 Class     Images  Instances      Box(P          R      mAP50  mAP50-95): 100%|██████████| 8/8 [00:01<00:00,  6.27it/s]"
     ]
    },
    {
     "name": "stdout",
     "output_type": "stream",
     "text": [
      "                   all        250       2831      0.876      0.857      0.928      0.618\n"
     ]
    },
    {
     "name": "stderr",
     "output_type": "stream",
     "text": [
      "\n"
     ]
    },
    {
     "name": "stdout",
     "output_type": "stream",
     "text": [
      "\n",
      "      Epoch    GPU_mem   box_loss   cls_loss   dfl_loss  Instances       Size\n"
     ]
    },
    {
     "name": "stderr",
     "output_type": "stream",
     "text": [
      "    93/1000      3.03G      1.155     0.6551      1.087         24        640: 100%|██████████| 74/74 [00:08<00:00,  8.45it/s]\n",
      "                 Class     Images  Instances      Box(P          R      mAP50  mAP50-95): 100%|██████████| 8/8 [00:01<00:00,  6.32it/s]"
     ]
    },
    {
     "name": "stdout",
     "output_type": "stream",
     "text": [
      "                   all        250       2831      0.885      0.844      0.927      0.608\n"
     ]
    },
    {
     "name": "stderr",
     "output_type": "stream",
     "text": [
      "\n"
     ]
    },
    {
     "name": "stdout",
     "output_type": "stream",
     "text": [
      "\n",
      "      Epoch    GPU_mem   box_loss   cls_loss   dfl_loss  Instances       Size\n"
     ]
    },
    {
     "name": "stderr",
     "output_type": "stream",
     "text": [
      "    94/1000      3.14G      1.156     0.6511      1.086         32        640: 100%|██████████| 74/74 [00:08<00:00,  8.50it/s]\n",
      "                 Class     Images  Instances      Box(P          R      mAP50  mAP50-95): 100%|██████████| 8/8 [00:01<00:00,  6.35it/s]"
     ]
    },
    {
     "name": "stdout",
     "output_type": "stream",
     "text": [
      "                   all        250       2831      0.888      0.838      0.924       0.61\n"
     ]
    },
    {
     "name": "stderr",
     "output_type": "stream",
     "text": [
      "\n"
     ]
    },
    {
     "name": "stdout",
     "output_type": "stream",
     "text": [
      "\n",
      "      Epoch    GPU_mem   box_loss   cls_loss   dfl_loss  Instances       Size\n"
     ]
    },
    {
     "name": "stderr",
     "output_type": "stream",
     "text": [
      "    95/1000      3.17G      1.152     0.6574      1.084         35        640: 100%|██████████| 74/74 [00:08<00:00,  8.35it/s]\n",
      "                 Class     Images  Instances      Box(P          R      mAP50  mAP50-95): 100%|██████████| 8/8 [00:01<00:00,  6.28it/s]"
     ]
    },
    {
     "name": "stdout",
     "output_type": "stream",
     "text": [
      "                   all        250       2831      0.891      0.841      0.925       0.61\n"
     ]
    },
    {
     "name": "stderr",
     "output_type": "stream",
     "text": [
      "\n"
     ]
    },
    {
     "name": "stdout",
     "output_type": "stream",
     "text": [
      "\n",
      "      Epoch    GPU_mem   box_loss   cls_loss   dfl_loss  Instances       Size\n"
     ]
    },
    {
     "name": "stderr",
     "output_type": "stream",
     "text": [
      "    96/1000      2.62G      1.156     0.6576      1.089         42        640: 100%|██████████| 74/74 [00:08<00:00,  8.48it/s]\n",
      "                 Class     Images  Instances      Box(P          R      mAP50  mAP50-95): 100%|██████████| 8/8 [00:01<00:00,  6.20it/s]"
     ]
    },
    {
     "name": "stdout",
     "output_type": "stream",
     "text": [
      "                   all        250       2831        0.9      0.845      0.935      0.619\n"
     ]
    },
    {
     "name": "stderr",
     "output_type": "stream",
     "text": [
      "\n"
     ]
    },
    {
     "name": "stdout",
     "output_type": "stream",
     "text": [
      "\n",
      "      Epoch    GPU_mem   box_loss   cls_loss   dfl_loss  Instances       Size\n"
     ]
    },
    {
     "name": "stderr",
     "output_type": "stream",
     "text": [
      "    97/1000      3.36G      1.146      0.646       1.08         39        640: 100%|██████████| 74/74 [00:08<00:00,  8.35it/s]\n",
      "                 Class     Images  Instances      Box(P          R      mAP50  mAP50-95): 100%|██████████| 8/8 [00:01<00:00,  6.48it/s]"
     ]
    },
    {
     "name": "stdout",
     "output_type": "stream",
     "text": [
      "                   all        250       2831      0.893      0.841      0.925      0.615\n"
     ]
    },
    {
     "name": "stderr",
     "output_type": "stream",
     "text": [
      "\n"
     ]
    },
    {
     "name": "stdout",
     "output_type": "stream",
     "text": [
      "\n",
      "      Epoch    GPU_mem   box_loss   cls_loss   dfl_loss  Instances       Size\n"
     ]
    },
    {
     "name": "stderr",
     "output_type": "stream",
     "text": [
      "    98/1000       2.6G      1.169     0.6612      1.091         25        640: 100%|██████████| 74/74 [00:08<00:00,  8.46it/s]\n",
      "                 Class     Images  Instances      Box(P          R      mAP50  mAP50-95): 100%|██████████| 8/8 [00:01<00:00,  6.34it/s]"
     ]
    },
    {
     "name": "stdout",
     "output_type": "stream",
     "text": [
      "                   all        250       2831      0.899      0.823      0.923      0.611\n"
     ]
    },
    {
     "name": "stderr",
     "output_type": "stream",
     "text": [
      "\n"
     ]
    },
    {
     "name": "stdout",
     "output_type": "stream",
     "text": [
      "\n",
      "      Epoch    GPU_mem   box_loss   cls_loss   dfl_loss  Instances       Size\n"
     ]
    },
    {
     "name": "stderr",
     "output_type": "stream",
     "text": [
      "    99/1000      3.03G      1.131     0.6439       1.08         55        640: 100%|██████████| 74/74 [00:09<00:00,  8.09it/s]\n",
      "                 Class     Images  Instances      Box(P          R      mAP50  mAP50-95): 100%|██████████| 8/8 [00:01<00:00,  6.45it/s]"
     ]
    },
    {
     "name": "stdout",
     "output_type": "stream",
     "text": [
      "                   all        250       2831      0.881       0.84      0.921      0.598\n"
     ]
    },
    {
     "name": "stderr",
     "output_type": "stream",
     "text": [
      "\n"
     ]
    },
    {
     "name": "stdout",
     "output_type": "stream",
     "text": [
      "\n",
      "      Epoch    GPU_mem   box_loss   cls_loss   dfl_loss  Instances       Size\n"
     ]
    },
    {
     "name": "stderr",
     "output_type": "stream",
     "text": [
      "   100/1000      2.52G      1.156     0.6462      1.083         40        640: 100%|██████████| 74/74 [00:08<00:00,  8.40it/s]\n",
      "                 Class     Images  Instances      Box(P          R      mAP50  mAP50-95): 100%|██████████| 8/8 [00:01<00:00,  6.17it/s]"
     ]
    },
    {
     "name": "stdout",
     "output_type": "stream",
     "text": [
      "                   all        250       2831      0.896      0.845      0.929      0.618\n"
     ]
    },
    {
     "name": "stderr",
     "output_type": "stream",
     "text": [
      "\n"
     ]
    },
    {
     "name": "stdout",
     "output_type": "stream",
     "text": [
      "\n",
      "      Epoch    GPU_mem   box_loss   cls_loss   dfl_loss  Instances       Size\n"
     ]
    },
    {
     "name": "stderr",
     "output_type": "stream",
     "text": [
      "   101/1000      2.93G      1.142     0.6363      1.083         24        640: 100%|██████████| 74/74 [00:08<00:00,  8.44it/s]\n",
      "                 Class     Images  Instances      Box(P          R      mAP50  mAP50-95): 100%|██████████| 8/8 [00:01<00:00,  5.98it/s]"
     ]
    },
    {
     "name": "stdout",
     "output_type": "stream",
     "text": [
      "                   all        250       2831      0.897      0.843      0.928       0.61\n"
     ]
    },
    {
     "name": "stderr",
     "output_type": "stream",
     "text": [
      "\n"
     ]
    },
    {
     "name": "stdout",
     "output_type": "stream",
     "text": [
      "\n",
      "      Epoch    GPU_mem   box_loss   cls_loss   dfl_loss  Instances       Size\n"
     ]
    },
    {
     "name": "stderr",
     "output_type": "stream",
     "text": [
      "   102/1000      2.84G      1.145     0.6408       1.08         56        640: 100%|██████████| 74/74 [00:08<00:00,  8.45it/s]\n",
      "                 Class     Images  Instances      Box(P          R      mAP50  mAP50-95): 100%|██████████| 8/8 [00:01<00:00,  6.33it/s]"
     ]
    },
    {
     "name": "stdout",
     "output_type": "stream",
     "text": [
      "                   all        250       2831      0.896      0.844      0.928      0.613\n"
     ]
    },
    {
     "name": "stderr",
     "output_type": "stream",
     "text": [
      "\n"
     ]
    },
    {
     "name": "stdout",
     "output_type": "stream",
     "text": [
      "\n",
      "      Epoch    GPU_mem   box_loss   cls_loss   dfl_loss  Instances       Size\n"
     ]
    },
    {
     "name": "stderr",
     "output_type": "stream",
     "text": [
      "   103/1000      2.66G      1.146     0.6424      1.081         32        640: 100%|██████████| 74/74 [00:08<00:00,  8.36it/s]\n",
      "                 Class     Images  Instances      Box(P          R      mAP50  mAP50-95): 100%|██████████| 8/8 [00:01<00:00,  6.18it/s]"
     ]
    },
    {
     "name": "stdout",
     "output_type": "stream",
     "text": [
      "                   all        250       2831      0.887      0.837      0.926      0.615\n"
     ]
    },
    {
     "name": "stderr",
     "output_type": "stream",
     "text": [
      "\n"
     ]
    },
    {
     "name": "stdout",
     "output_type": "stream",
     "text": [
      "\n",
      "      Epoch    GPU_mem   box_loss   cls_loss   dfl_loss  Instances       Size\n"
     ]
    },
    {
     "name": "stderr",
     "output_type": "stream",
     "text": [
      "   104/1000      3.06G      1.151     0.6521      1.086         28        640: 100%|██████████| 74/74 [00:08<00:00,  8.23it/s]\n",
      "                 Class     Images  Instances      Box(P          R      mAP50  mAP50-95): 100%|██████████| 8/8 [00:01<00:00,  6.27it/s]"
     ]
    },
    {
     "name": "stdout",
     "output_type": "stream",
     "text": [
      "                   all        250       2831      0.882      0.851      0.927       0.61\n"
     ]
    },
    {
     "name": "stderr",
     "output_type": "stream",
     "text": [
      "\n"
     ]
    },
    {
     "name": "stdout",
     "output_type": "stream",
     "text": [
      "\n",
      "      Epoch    GPU_mem   box_loss   cls_loss   dfl_loss  Instances       Size\n"
     ]
    },
    {
     "name": "stderr",
     "output_type": "stream",
     "text": [
      "   105/1000      2.88G      1.154     0.6423      1.084         12        640: 100%|██████████| 74/74 [00:08<00:00,  8.39it/s]\n",
      "                 Class     Images  Instances      Box(P          R      mAP50  mAP50-95): 100%|██████████| 8/8 [00:01<00:00,  6.28it/s]"
     ]
    },
    {
     "name": "stdout",
     "output_type": "stream",
     "text": [
      "                   all        250       2831      0.888      0.846      0.931      0.619\n"
     ]
    },
    {
     "name": "stderr",
     "output_type": "stream",
     "text": [
      "\n"
     ]
    },
    {
     "name": "stdout",
     "output_type": "stream",
     "text": [
      "\n",
      "      Epoch    GPU_mem   box_loss   cls_loss   dfl_loss  Instances       Size\n"
     ]
    },
    {
     "name": "stderr",
     "output_type": "stream",
     "text": [
      "   106/1000      2.86G      1.153     0.6442      1.082         21        640: 100%|██████████| 74/74 [00:08<00:00,  8.30it/s]\n",
      "                 Class     Images  Instances      Box(P          R      mAP50  mAP50-95): 100%|██████████| 8/8 [00:01<00:00,  6.29it/s]"
     ]
    },
    {
     "name": "stdout",
     "output_type": "stream",
     "text": [
      "                   all        250       2831      0.882      0.851      0.931      0.621\n"
     ]
    },
    {
     "name": "stderr",
     "output_type": "stream",
     "text": [
      "\n"
     ]
    },
    {
     "name": "stdout",
     "output_type": "stream",
     "text": [
      "\n",
      "      Epoch    GPU_mem   box_loss   cls_loss   dfl_loss  Instances       Size\n"
     ]
    },
    {
     "name": "stderr",
     "output_type": "stream",
     "text": [
      "   107/1000      3.24G      1.138     0.6387       1.08         52        640: 100%|██████████| 74/74 [00:08<00:00,  8.37it/s]\n",
      "                 Class     Images  Instances      Box(P          R      mAP50  mAP50-95): 100%|██████████| 8/8 [00:01<00:00,  6.15it/s]"
     ]
    },
    {
     "name": "stdout",
     "output_type": "stream",
     "text": [
      "                   all        250       2831       0.89       0.84      0.931      0.616\n"
     ]
    },
    {
     "name": "stderr",
     "output_type": "stream",
     "text": [
      "\n"
     ]
    },
    {
     "name": "stdout",
     "output_type": "stream",
     "text": [
      "\n",
      "      Epoch    GPU_mem   box_loss   cls_loss   dfl_loss  Instances       Size\n"
     ]
    },
    {
     "name": "stderr",
     "output_type": "stream",
     "text": [
      "   108/1000      2.86G      1.142     0.6436      1.086         11        640: 100%|██████████| 74/74 [00:08<00:00,  8.32it/s]\n",
      "                 Class     Images  Instances      Box(P          R      mAP50  mAP50-95): 100%|██████████| 8/8 [00:01<00:00,  6.21it/s]"
     ]
    },
    {
     "name": "stdout",
     "output_type": "stream",
     "text": [
      "                   all        250       2831      0.888      0.834      0.925      0.602\n"
     ]
    },
    {
     "name": "stderr",
     "output_type": "stream",
     "text": [
      "\n"
     ]
    },
    {
     "name": "stdout",
     "output_type": "stream",
     "text": [
      "\n",
      "      Epoch    GPU_mem   box_loss   cls_loss   dfl_loss  Instances       Size\n"
     ]
    },
    {
     "name": "stderr",
     "output_type": "stream",
     "text": [
      "   109/1000         3G      1.146     0.6401      1.084         32        640: 100%|██████████| 74/74 [00:08<00:00,  8.34it/s]\n",
      "                 Class     Images  Instances      Box(P          R      mAP50  mAP50-95): 100%|██████████| 8/8 [00:01<00:00,  6.28it/s]"
     ]
    },
    {
     "name": "stdout",
     "output_type": "stream",
     "text": [
      "                   all        250       2831        0.9       0.85      0.934      0.619\n"
     ]
    },
    {
     "name": "stderr",
     "output_type": "stream",
     "text": [
      "\n"
     ]
    },
    {
     "name": "stdout",
     "output_type": "stream",
     "text": [
      "\n",
      "      Epoch    GPU_mem   box_loss   cls_loss   dfl_loss  Instances       Size\n"
     ]
    },
    {
     "name": "stderr",
     "output_type": "stream",
     "text": [
      "   110/1000      2.85G      1.145     0.6386      1.084         40        640: 100%|██████████| 74/74 [00:09<00:00,  7.52it/s]\n",
      "                 Class     Images  Instances      Box(P          R      mAP50  mAP50-95): 100%|██████████| 8/8 [00:01<00:00,  5.67it/s]"
     ]
    },
    {
     "name": "stdout",
     "output_type": "stream",
     "text": [
      "                   all        250       2831      0.884      0.849      0.928      0.617\n"
     ]
    },
    {
     "name": "stderr",
     "output_type": "stream",
     "text": [
      "\n"
     ]
    },
    {
     "name": "stdout",
     "output_type": "stream",
     "text": [
      "\n",
      "      Epoch    GPU_mem   box_loss   cls_loss   dfl_loss  Instances       Size\n"
     ]
    },
    {
     "name": "stderr",
     "output_type": "stream",
     "text": [
      "   111/1000      2.92G      1.151     0.6406      1.085         20        640: 100%|██████████| 74/74 [00:09<00:00,  7.48it/s]\n",
      "                 Class     Images  Instances      Box(P          R      mAP50  mAP50-95): 100%|██████████| 8/8 [00:01<00:00,  5.67it/s]"
     ]
    },
    {
     "name": "stdout",
     "output_type": "stream",
     "text": [
      "                   all        250       2831      0.879      0.846      0.926      0.614\n"
     ]
    },
    {
     "name": "stderr",
     "output_type": "stream",
     "text": [
      "\n"
     ]
    },
    {
     "name": "stdout",
     "output_type": "stream",
     "text": [
      "\n",
      "      Epoch    GPU_mem   box_loss   cls_loss   dfl_loss  Instances       Size\n"
     ]
    },
    {
     "name": "stderr",
     "output_type": "stream",
     "text": [
      "   112/1000      2.86G      1.147     0.6391      1.086         35        640: 100%|██████████| 74/74 [00:09<00:00,  8.00it/s]\n",
      "                 Class     Images  Instances      Box(P          R      mAP50  mAP50-95): 100%|██████████| 8/8 [00:01<00:00,  6.15it/s]"
     ]
    },
    {
     "name": "stdout",
     "output_type": "stream",
     "text": [
      "                   all        250       2831      0.884      0.848      0.925      0.616\n"
     ]
    },
    {
     "name": "stderr",
     "output_type": "stream",
     "text": [
      "\n"
     ]
    },
    {
     "name": "stdout",
     "output_type": "stream",
     "text": [
      "\n",
      "      Epoch    GPU_mem   box_loss   cls_loss   dfl_loss  Instances       Size\n"
     ]
    },
    {
     "name": "stderr",
     "output_type": "stream",
     "text": [
      "   113/1000      2.62G      1.137     0.6344      1.073         12        640: 100%|██████████| 74/74 [00:08<00:00,  8.32it/s]\n",
      "                 Class     Images  Instances      Box(P          R      mAP50  mAP50-95): 100%|██████████| 8/8 [00:01<00:00,  6.37it/s]"
     ]
    },
    {
     "name": "stdout",
     "output_type": "stream",
     "text": [
      "                   all        250       2831      0.884      0.856      0.929      0.609\n"
     ]
    },
    {
     "name": "stderr",
     "output_type": "stream",
     "text": [
      "\n"
     ]
    },
    {
     "name": "stdout",
     "output_type": "stream",
     "text": [
      "\n",
      "      Epoch    GPU_mem   box_loss   cls_loss   dfl_loss  Instances       Size\n"
     ]
    },
    {
     "name": "stderr",
     "output_type": "stream",
     "text": [
      "   114/1000      2.77G      1.131     0.6335      1.075         44        640: 100%|██████████| 74/74 [00:08<00:00,  8.28it/s]\n",
      "                 Class     Images  Instances      Box(P          R      mAP50  mAP50-95): 100%|██████████| 8/8 [00:01<00:00,  6.27it/s]"
     ]
    },
    {
     "name": "stdout",
     "output_type": "stream",
     "text": [
      "                   all        250       2831      0.888      0.844      0.929      0.617\n"
     ]
    },
    {
     "name": "stderr",
     "output_type": "stream",
     "text": [
      "\n"
     ]
    },
    {
     "name": "stdout",
     "output_type": "stream",
     "text": [
      "\n",
      "      Epoch    GPU_mem   box_loss   cls_loss   dfl_loss  Instances       Size\n"
     ]
    },
    {
     "name": "stderr",
     "output_type": "stream",
     "text": [
      "   115/1000      2.72G      1.131     0.6252      1.078         40        640: 100%|██████████| 74/74 [00:08<00:00,  8.39it/s]\n",
      "                 Class     Images  Instances      Box(P          R      mAP50  mAP50-95): 100%|██████████| 8/8 [00:01<00:00,  6.15it/s]"
     ]
    },
    {
     "name": "stdout",
     "output_type": "stream",
     "text": [
      "                   all        250       2831      0.893      0.857      0.933      0.626\n"
     ]
    },
    {
     "name": "stderr",
     "output_type": "stream",
     "text": [
      "\n"
     ]
    },
    {
     "name": "stdout",
     "output_type": "stream",
     "text": [
      "\n",
      "      Epoch    GPU_mem   box_loss   cls_loss   dfl_loss  Instances       Size\n"
     ]
    },
    {
     "name": "stderr",
     "output_type": "stream",
     "text": [
      "   116/1000      2.88G      1.131     0.6257      1.073         25        640: 100%|██████████| 74/74 [00:08<00:00,  8.35it/s]\n",
      "                 Class     Images  Instances      Box(P          R      mAP50  mAP50-95): 100%|██████████| 8/8 [00:01<00:00,  6.11it/s]"
     ]
    },
    {
     "name": "stdout",
     "output_type": "stream",
     "text": [
      "                   all        250       2831      0.877      0.854      0.928      0.621\n"
     ]
    },
    {
     "name": "stderr",
     "output_type": "stream",
     "text": [
      "\n"
     ]
    },
    {
     "name": "stdout",
     "output_type": "stream",
     "text": [
      "\n",
      "      Epoch    GPU_mem   box_loss   cls_loss   dfl_loss  Instances       Size\n"
     ]
    },
    {
     "name": "stderr",
     "output_type": "stream",
     "text": [
      "   117/1000      2.78G      1.129     0.6231      1.072         17        640: 100%|██████████| 74/74 [00:08<00:00,  8.33it/s]\n",
      "                 Class     Images  Instances      Box(P          R      mAP50  mAP50-95): 100%|██████████| 8/8 [00:01<00:00,  6.44it/s]"
     ]
    },
    {
     "name": "stdout",
     "output_type": "stream",
     "text": [
      "                   all        250       2831      0.893      0.841      0.927      0.613\n"
     ]
    },
    {
     "name": "stderr",
     "output_type": "stream",
     "text": [
      "\n"
     ]
    },
    {
     "name": "stdout",
     "output_type": "stream",
     "text": [
      "\n",
      "      Epoch    GPU_mem   box_loss   cls_loss   dfl_loss  Instances       Size\n"
     ]
    },
    {
     "name": "stderr",
     "output_type": "stream",
     "text": [
      "   118/1000      2.71G      1.135     0.6261      1.081         40        640: 100%|██████████| 74/74 [00:08<00:00,  8.61it/s]\n",
      "                 Class     Images  Instances      Box(P          R      mAP50  mAP50-95): 100%|██████████| 8/8 [00:01<00:00,  6.46it/s]"
     ]
    },
    {
     "name": "stdout",
     "output_type": "stream",
     "text": [
      "                   all        250       2831      0.893      0.832      0.922      0.613\n"
     ]
    },
    {
     "name": "stderr",
     "output_type": "stream",
     "text": [
      "\n"
     ]
    },
    {
     "name": "stdout",
     "output_type": "stream",
     "text": [
      "\n",
      "      Epoch    GPU_mem   box_loss   cls_loss   dfl_loss  Instances       Size\n"
     ]
    },
    {
     "name": "stderr",
     "output_type": "stream",
     "text": [
      "   119/1000       2.8G      1.129     0.6246      1.078         31        640: 100%|██████████| 74/74 [00:08<00:00,  8.31it/s]\n",
      "                 Class     Images  Instances      Box(P          R      mAP50  mAP50-95): 100%|██████████| 8/8 [00:01<00:00,  6.32it/s]"
     ]
    },
    {
     "name": "stdout",
     "output_type": "stream",
     "text": [
      "                   all        250       2831      0.887      0.854      0.928      0.614\n"
     ]
    },
    {
     "name": "stderr",
     "output_type": "stream",
     "text": [
      "\n"
     ]
    },
    {
     "name": "stdout",
     "output_type": "stream",
     "text": [
      "\n",
      "      Epoch    GPU_mem   box_loss   cls_loss   dfl_loss  Instances       Size\n"
     ]
    },
    {
     "name": "stderr",
     "output_type": "stream",
     "text": [
      "   120/1000       2.9G      1.138     0.6307       1.08         45        640: 100%|██████████| 74/74 [00:08<00:00,  8.52it/s]\n",
      "                 Class     Images  Instances      Box(P          R      mAP50  mAP50-95): 100%|██████████| 8/8 [00:01<00:00,  6.35it/s]"
     ]
    },
    {
     "name": "stdout",
     "output_type": "stream",
     "text": [
      "                   all        250       2831      0.904      0.845      0.933      0.616\n"
     ]
    },
    {
     "name": "stderr",
     "output_type": "stream",
     "text": [
      "\n"
     ]
    },
    {
     "name": "stdout",
     "output_type": "stream",
     "text": [
      "\n",
      "      Epoch    GPU_mem   box_loss   cls_loss   dfl_loss  Instances       Size\n"
     ]
    },
    {
     "name": "stderr",
     "output_type": "stream",
     "text": [
      "   121/1000      2.96G      1.127     0.6295      1.074          5        640: 100%|██████████| 74/74 [00:08<00:00,  8.39it/s]\n",
      "                 Class     Images  Instances      Box(P          R      mAP50  mAP50-95): 100%|██████████| 8/8 [00:01<00:00,  6.39it/s]"
     ]
    },
    {
     "name": "stdout",
     "output_type": "stream",
     "text": [
      "                   all        250       2831      0.893      0.856      0.935      0.621\n"
     ]
    },
    {
     "name": "stderr",
     "output_type": "stream",
     "text": [
      "\n"
     ]
    },
    {
     "name": "stdout",
     "output_type": "stream",
     "text": [
      "\n",
      "      Epoch    GPU_mem   box_loss   cls_loss   dfl_loss  Instances       Size\n"
     ]
    },
    {
     "name": "stderr",
     "output_type": "stream",
     "text": [
      "   122/1000      2.62G      1.124     0.6296      1.077         30        640: 100%|██████████| 74/74 [00:08<00:00,  8.40it/s]\n",
      "                 Class     Images  Instances      Box(P          R      mAP50  mAP50-95): 100%|██████████| 8/8 [00:01<00:00,  6.42it/s]"
     ]
    },
    {
     "name": "stdout",
     "output_type": "stream",
     "text": [
      "                   all        250       2831      0.884      0.864      0.933      0.619\n"
     ]
    },
    {
     "name": "stderr",
     "output_type": "stream",
     "text": [
      "\n"
     ]
    },
    {
     "name": "stdout",
     "output_type": "stream",
     "text": [
      "\n",
      "      Epoch    GPU_mem   box_loss   cls_loss   dfl_loss  Instances       Size\n"
     ]
    },
    {
     "name": "stderr",
     "output_type": "stream",
     "text": [
      "   123/1000      2.99G      1.119     0.6189      1.072         69        640: 100%|██████████| 74/74 [00:08<00:00,  8.46it/s]\n",
      "                 Class     Images  Instances      Box(P          R      mAP50  mAP50-95): 100%|██████████| 8/8 [00:01<00:00,  6.22it/s]"
     ]
    },
    {
     "name": "stdout",
     "output_type": "stream",
     "text": [
      "                   all        250       2831      0.889      0.853      0.931       0.61\n"
     ]
    },
    {
     "name": "stderr",
     "output_type": "stream",
     "text": [
      "\n"
     ]
    },
    {
     "name": "stdout",
     "output_type": "stream",
     "text": [
      "\n",
      "      Epoch    GPU_mem   box_loss   cls_loss   dfl_loss  Instances       Size\n"
     ]
    },
    {
     "name": "stderr",
     "output_type": "stream",
     "text": [
      "   124/1000      2.77G      1.118      0.618      1.072         31        640: 100%|██████████| 74/74 [00:08<00:00,  8.36it/s]\n",
      "                 Class     Images  Instances      Box(P          R      mAP50  mAP50-95): 100%|██████████| 8/8 [00:01<00:00,  6.15it/s]"
     ]
    },
    {
     "name": "stdout",
     "output_type": "stream",
     "text": [
      "                   all        250       2831      0.891      0.848      0.929      0.612\n"
     ]
    },
    {
     "name": "stderr",
     "output_type": "stream",
     "text": [
      "\n"
     ]
    },
    {
     "name": "stdout",
     "output_type": "stream",
     "text": [
      "\n",
      "      Epoch    GPU_mem   box_loss   cls_loss   dfl_loss  Instances       Size\n"
     ]
    },
    {
     "name": "stderr",
     "output_type": "stream",
     "text": [
      "   125/1000      2.79G       1.12     0.6129      1.072         31        640: 100%|██████████| 74/74 [00:08<00:00,  8.54it/s]\n",
      "                 Class     Images  Instances      Box(P          R      mAP50  mAP50-95): 100%|██████████| 8/8 [00:01<00:00,  6.53it/s]"
     ]
    },
    {
     "name": "stdout",
     "output_type": "stream",
     "text": [
      "                   all        250       2831      0.903      0.836      0.925      0.618\n"
     ]
    },
    {
     "name": "stderr",
     "output_type": "stream",
     "text": [
      "\n"
     ]
    },
    {
     "name": "stdout",
     "output_type": "stream",
     "text": [
      "\n",
      "      Epoch    GPU_mem   box_loss   cls_loss   dfl_loss  Instances       Size\n"
     ]
    },
    {
     "name": "stderr",
     "output_type": "stream",
     "text": [
      "   126/1000      2.78G      1.121     0.6152      1.071         63        640: 100%|██████████| 74/74 [00:08<00:00,  8.37it/s]\n",
      "                 Class     Images  Instances      Box(P          R      mAP50  mAP50-95): 100%|██████████| 8/8 [00:01<00:00,  6.32it/s]"
     ]
    },
    {
     "name": "stdout",
     "output_type": "stream",
     "text": [
      "                   all        250       2831      0.883      0.851      0.927      0.615\n"
     ]
    },
    {
     "name": "stderr",
     "output_type": "stream",
     "text": [
      "\n"
     ]
    },
    {
     "name": "stdout",
     "output_type": "stream",
     "text": [
      "\n",
      "      Epoch    GPU_mem   box_loss   cls_loss   dfl_loss  Instances       Size\n"
     ]
    },
    {
     "name": "stderr",
     "output_type": "stream",
     "text": [
      "   127/1000      3.05G      1.116     0.6157      1.068         44        640: 100%|██████████| 74/74 [00:08<00:00,  8.41it/s]\n",
      "                 Class     Images  Instances      Box(P          R      mAP50  mAP50-95): 100%|██████████| 8/8 [00:01<00:00,  6.40it/s]"
     ]
    },
    {
     "name": "stdout",
     "output_type": "stream",
     "text": [
      "                   all        250       2831      0.897      0.848      0.935      0.624\n"
     ]
    },
    {
     "name": "stderr",
     "output_type": "stream",
     "text": [
      "\n"
     ]
    },
    {
     "name": "stdout",
     "output_type": "stream",
     "text": [
      "\n",
      "      Epoch    GPU_mem   box_loss   cls_loss   dfl_loss  Instances       Size\n"
     ]
    },
    {
     "name": "stderr",
     "output_type": "stream",
     "text": [
      "   128/1000      3.24G       1.13     0.6184      1.077         33        640: 100%|██████████| 74/74 [00:08<00:00,  8.41it/s]\n",
      "                 Class     Images  Instances      Box(P          R      mAP50  mAP50-95): 100%|██████████| 8/8 [00:01<00:00,  6.36it/s]"
     ]
    },
    {
     "name": "stdout",
     "output_type": "stream",
     "text": [
      "                   all        250       2831      0.892      0.856      0.933       0.62\n"
     ]
    },
    {
     "name": "stderr",
     "output_type": "stream",
     "text": [
      "\n"
     ]
    },
    {
     "name": "stdout",
     "output_type": "stream",
     "text": [
      "\n",
      "      Epoch    GPU_mem   box_loss   cls_loss   dfl_loss  Instances       Size\n"
     ]
    },
    {
     "name": "stderr",
     "output_type": "stream",
     "text": [
      "   129/1000      2.76G      1.129     0.6169      1.075          8        640: 100%|██████████| 74/74 [00:08<00:00,  8.25it/s]\n",
      "                 Class     Images  Instances      Box(P          R      mAP50  mAP50-95): 100%|██████████| 8/8 [00:01<00:00,  6.14it/s]"
     ]
    },
    {
     "name": "stdout",
     "output_type": "stream",
     "text": [
      "                   all        250       2831      0.881      0.857      0.928      0.615\n"
     ]
    },
    {
     "name": "stderr",
     "output_type": "stream",
     "text": [
      "\n"
     ]
    },
    {
     "name": "stdout",
     "output_type": "stream",
     "text": [
      "\n",
      "      Epoch    GPU_mem   box_loss   cls_loss   dfl_loss  Instances       Size\n"
     ]
    },
    {
     "name": "stderr",
     "output_type": "stream",
     "text": [
      "   130/1000      2.98G      1.119     0.6139      1.065          8        640: 100%|██████████| 74/74 [00:08<00:00,  8.36it/s]\n",
      "                 Class     Images  Instances      Box(P          R      mAP50  mAP50-95): 100%|██████████| 8/8 [00:01<00:00,  6.36it/s]"
     ]
    },
    {
     "name": "stdout",
     "output_type": "stream",
     "text": [
      "                   all        250       2831       0.89      0.849      0.931      0.614\n"
     ]
    },
    {
     "name": "stderr",
     "output_type": "stream",
     "text": [
      "\n"
     ]
    },
    {
     "name": "stdout",
     "output_type": "stream",
     "text": [
      "\n",
      "      Epoch    GPU_mem   box_loss   cls_loss   dfl_loss  Instances       Size\n"
     ]
    },
    {
     "name": "stderr",
     "output_type": "stream",
     "text": [
      "   131/1000      2.78G      1.118      0.615      1.063         37        640: 100%|██████████| 74/74 [00:08<00:00,  8.44it/s]\n",
      "                 Class     Images  Instances      Box(P          R      mAP50  mAP50-95): 100%|██████████| 8/8 [00:01<00:00,  6.26it/s]"
     ]
    },
    {
     "name": "stdout",
     "output_type": "stream",
     "text": [
      "                   all        250       2831      0.889      0.864      0.934      0.621\n"
     ]
    },
    {
     "name": "stderr",
     "output_type": "stream",
     "text": [
      "\n"
     ]
    },
    {
     "name": "stdout",
     "output_type": "stream",
     "text": [
      "\n",
      "      Epoch    GPU_mem   box_loss   cls_loss   dfl_loss  Instances       Size\n"
     ]
    },
    {
     "name": "stderr",
     "output_type": "stream",
     "text": [
      "   132/1000      3.02G      1.108     0.6075      1.065         33        640: 100%|██████████| 74/74 [00:09<00:00,  8.21it/s]\n",
      "                 Class     Images  Instances      Box(P          R      mAP50  mAP50-95): 100%|██████████| 8/8 [00:01<00:00,  6.28it/s]"
     ]
    },
    {
     "name": "stdout",
     "output_type": "stream",
     "text": [
      "                   all        250       2831      0.903      0.844      0.932      0.618\n"
     ]
    },
    {
     "name": "stderr",
     "output_type": "stream",
     "text": [
      "\n"
     ]
    },
    {
     "name": "stdout",
     "output_type": "stream",
     "text": [
      "\n",
      "      Epoch    GPU_mem   box_loss   cls_loss   dfl_loss  Instances       Size\n"
     ]
    },
    {
     "name": "stderr",
     "output_type": "stream",
     "text": [
      "   133/1000      2.94G      1.103     0.6125      1.065         10        640: 100%|██████████| 74/74 [00:08<00:00,  8.45it/s]\n",
      "                 Class     Images  Instances      Box(P          R      mAP50  mAP50-95): 100%|██████████| 8/8 [00:01<00:00,  6.26it/s]"
     ]
    },
    {
     "name": "stdout",
     "output_type": "stream",
     "text": [
      "                   all        250       2831      0.889      0.846      0.928      0.604\n"
     ]
    },
    {
     "name": "stderr",
     "output_type": "stream",
     "text": [
      "\n"
     ]
    },
    {
     "name": "stdout",
     "output_type": "stream",
     "text": [
      "\n",
      "      Epoch    GPU_mem   box_loss   cls_loss   dfl_loss  Instances       Size\n"
     ]
    },
    {
     "name": "stderr",
     "output_type": "stream",
     "text": [
      "   134/1000      2.78G      1.119      0.607      1.066         30        640: 100%|██████████| 74/74 [00:08<00:00,  8.37it/s]\n",
      "                 Class     Images  Instances      Box(P          R      mAP50  mAP50-95): 100%|██████████| 8/8 [00:01<00:00,  6.35it/s]"
     ]
    },
    {
     "name": "stdout",
     "output_type": "stream",
     "text": [
      "                   all        250       2831      0.898      0.838      0.929      0.616\n"
     ]
    },
    {
     "name": "stderr",
     "output_type": "stream",
     "text": [
      "\n"
     ]
    },
    {
     "name": "stdout",
     "output_type": "stream",
     "text": [
      "\n",
      "      Epoch    GPU_mem   box_loss   cls_loss   dfl_loss  Instances       Size\n"
     ]
    },
    {
     "name": "stderr",
     "output_type": "stream",
     "text": [
      "   135/1000      2.95G      1.112     0.6031       1.07         44        640: 100%|██████████| 74/74 [00:08<00:00,  8.36it/s]\n",
      "                 Class     Images  Instances      Box(P          R      mAP50  mAP50-95): 100%|██████████| 8/8 [00:01<00:00,  6.20it/s]"
     ]
    },
    {
     "name": "stdout",
     "output_type": "stream",
     "text": [
      "                   all        250       2831       0.89      0.847      0.931      0.616\n"
     ]
    },
    {
     "name": "stderr",
     "output_type": "stream",
     "text": [
      "\n"
     ]
    },
    {
     "name": "stdout",
     "output_type": "stream",
     "text": [
      "\n",
      "      Epoch    GPU_mem   box_loss   cls_loss   dfl_loss  Instances       Size\n"
     ]
    },
    {
     "name": "stderr",
     "output_type": "stream",
     "text": [
      "   136/1000      2.68G      1.113       0.61      1.066         29        640: 100%|██████████| 74/74 [00:08<00:00,  8.41it/s]\n",
      "                 Class     Images  Instances      Box(P          R      mAP50  mAP50-95): 100%|██████████| 8/8 [00:01<00:00,  6.36it/s]"
     ]
    },
    {
     "name": "stdout",
     "output_type": "stream",
     "text": [
      "                   all        250       2831      0.902      0.835       0.93      0.621\n"
     ]
    },
    {
     "name": "stderr",
     "output_type": "stream",
     "text": [
      "\n"
     ]
    },
    {
     "name": "stdout",
     "output_type": "stream",
     "text": [
      "\n",
      "      Epoch    GPU_mem   box_loss   cls_loss   dfl_loss  Instances       Size\n"
     ]
    },
    {
     "name": "stderr",
     "output_type": "stream",
     "text": [
      "   137/1000      3.09G      1.105     0.6038      1.063         23        640: 100%|██████████| 74/74 [00:08<00:00,  8.40it/s]\n",
      "                 Class     Images  Instances      Box(P          R      mAP50  mAP50-95): 100%|██████████| 8/8 [00:01<00:00,  6.49it/s]"
     ]
    },
    {
     "name": "stdout",
     "output_type": "stream",
     "text": [
      "                   all        250       2831      0.904      0.837       0.93       0.62\n"
     ]
    },
    {
     "name": "stderr",
     "output_type": "stream",
     "text": [
      "\n"
     ]
    },
    {
     "name": "stdout",
     "output_type": "stream",
     "text": [
      "\n",
      "      Epoch    GPU_mem   box_loss   cls_loss   dfl_loss  Instances       Size\n"
     ]
    },
    {
     "name": "stderr",
     "output_type": "stream",
     "text": [
      "   138/1000      2.77G      1.092     0.6016      1.054         20        640: 100%|██████████| 74/74 [00:08<00:00,  8.49it/s]\n",
      "                 Class     Images  Instances      Box(P          R      mAP50  mAP50-95): 100%|██████████| 8/8 [00:01<00:00,  6.23it/s]"
     ]
    },
    {
     "name": "stdout",
     "output_type": "stream",
     "text": [
      "                   all        250       2831      0.894      0.846       0.93      0.618\n"
     ]
    },
    {
     "name": "stderr",
     "output_type": "stream",
     "text": [
      "\n"
     ]
    },
    {
     "name": "stdout",
     "output_type": "stream",
     "text": [
      "\n",
      "      Epoch    GPU_mem   box_loss   cls_loss   dfl_loss  Instances       Size\n"
     ]
    },
    {
     "name": "stderr",
     "output_type": "stream",
     "text": [
      "   139/1000      3.28G      1.093      0.596      1.061         10        640: 100%|██████████| 74/74 [00:08<00:00,  8.38it/s]\n",
      "                 Class     Images  Instances      Box(P          R      mAP50  mAP50-95): 100%|██████████| 8/8 [00:01<00:00,  6.31it/s]"
     ]
    },
    {
     "name": "stdout",
     "output_type": "stream",
     "text": [
      "                   all        250       2831      0.887      0.852      0.929      0.616\n"
     ]
    },
    {
     "name": "stderr",
     "output_type": "stream",
     "text": [
      "\n"
     ]
    },
    {
     "name": "stdout",
     "output_type": "stream",
     "text": [
      "\n",
      "      Epoch    GPU_mem   box_loss   cls_loss   dfl_loss  Instances       Size\n"
     ]
    },
    {
     "name": "stderr",
     "output_type": "stream",
     "text": [
      "   140/1000      2.61G      1.106     0.6092      1.061         40        640: 100%|██████████| 74/74 [00:09<00:00,  8.19it/s]\n",
      "                 Class     Images  Instances      Box(P          R      mAP50  mAP50-95): 100%|██████████| 8/8 [00:01<00:00,  6.23it/s]"
     ]
    },
    {
     "name": "stdout",
     "output_type": "stream",
     "text": [
      "                   all        250       2831      0.907      0.833      0.928       0.62\n"
     ]
    },
    {
     "name": "stderr",
     "output_type": "stream",
     "text": [
      "\n"
     ]
    },
    {
     "name": "stdout",
     "output_type": "stream",
     "text": [
      "\n",
      "      Epoch    GPU_mem   box_loss   cls_loss   dfl_loss  Instances       Size\n"
     ]
    },
    {
     "name": "stderr",
     "output_type": "stream",
     "text": [
      "   141/1000      2.68G      1.102     0.6034      1.061         22        640: 100%|██████████| 74/74 [00:08<00:00,  8.37it/s]\n",
      "                 Class     Images  Instances      Box(P          R      mAP50  mAP50-95): 100%|██████████| 8/8 [00:01<00:00,  6.32it/s]"
     ]
    },
    {
     "name": "stdout",
     "output_type": "stream",
     "text": [
      "                   all        250       2831      0.897      0.828      0.919      0.598\n"
     ]
    },
    {
     "name": "stderr",
     "output_type": "stream",
     "text": [
      "\n"
     ]
    },
    {
     "name": "stdout",
     "output_type": "stream",
     "text": [
      "\n",
      "      Epoch    GPU_mem   box_loss   cls_loss   dfl_loss  Instances       Size\n"
     ]
    },
    {
     "name": "stderr",
     "output_type": "stream",
     "text": [
      "   142/1000      2.93G      1.092     0.5913      1.061         19        640: 100%|██████████| 74/74 [00:08<00:00,  8.47it/s]\n",
      "                 Class     Images  Instances      Box(P          R      mAP50  mAP50-95): 100%|██████████| 8/8 [00:01<00:00,  6.22it/s]"
     ]
    },
    {
     "name": "stdout",
     "output_type": "stream",
     "text": [
      "                   all        250       2831      0.899      0.858      0.932      0.622\n"
     ]
    },
    {
     "name": "stderr",
     "output_type": "stream",
     "text": [
      "\n"
     ]
    },
    {
     "name": "stdout",
     "output_type": "stream",
     "text": [
      "\n",
      "      Epoch    GPU_mem   box_loss   cls_loss   dfl_loss  Instances       Size\n"
     ]
    },
    {
     "name": "stderr",
     "output_type": "stream",
     "text": [
      "   143/1000      2.72G      1.102     0.5954      1.059         55        640: 100%|██████████| 74/74 [00:08<00:00,  8.48it/s]\n",
      "                 Class     Images  Instances      Box(P          R      mAP50  mAP50-95): 100%|██████████| 8/8 [00:01<00:00,  6.34it/s]"
     ]
    },
    {
     "name": "stdout",
     "output_type": "stream",
     "text": [
      "                   all        250       2831      0.881      0.865      0.937      0.625\n"
     ]
    },
    {
     "name": "stderr",
     "output_type": "stream",
     "text": [
      "\n"
     ]
    },
    {
     "name": "stdout",
     "output_type": "stream",
     "text": [
      "\n",
      "      Epoch    GPU_mem   box_loss   cls_loss   dfl_loss  Instances       Size\n"
     ]
    },
    {
     "name": "stderr",
     "output_type": "stream",
     "text": [
      "   144/1000      2.64G      1.113     0.6048      1.068         43        640: 100%|██████████| 74/74 [00:09<00:00,  8.20it/s]\n",
      "                 Class     Images  Instances      Box(P          R      mAP50  mAP50-95): 100%|██████████| 8/8 [00:01<00:00,  6.30it/s]"
     ]
    },
    {
     "name": "stdout",
     "output_type": "stream",
     "text": [
      "                   all        250       2831      0.896      0.853      0.933      0.622\n"
     ]
    },
    {
     "name": "stderr",
     "output_type": "stream",
     "text": [
      "\n"
     ]
    },
    {
     "name": "stdout",
     "output_type": "stream",
     "text": [
      "\n",
      "      Epoch    GPU_mem   box_loss   cls_loss   dfl_loss  Instances       Size\n"
     ]
    },
    {
     "name": "stderr",
     "output_type": "stream",
     "text": [
      "   145/1000      2.85G      1.088     0.5862      1.055         30        640: 100%|██████████| 74/74 [00:08<00:00,  8.43it/s]\n",
      "                 Class     Images  Instances      Box(P          R      mAP50  mAP50-95): 100%|██████████| 8/8 [00:01<00:00,  6.38it/s]"
     ]
    },
    {
     "name": "stdout",
     "output_type": "stream",
     "text": [
      "                   all        250       2831      0.898      0.863      0.932       0.62\n"
     ]
    },
    {
     "name": "stderr",
     "output_type": "stream",
     "text": [
      "\n"
     ]
    },
    {
     "name": "stdout",
     "output_type": "stream",
     "text": [
      "\n",
      "      Epoch    GPU_mem   box_loss   cls_loss   dfl_loss  Instances       Size\n"
     ]
    },
    {
     "name": "stderr",
     "output_type": "stream",
     "text": [
      "   146/1000      2.86G      1.112      0.603      1.064         39        640: 100%|██████████| 74/74 [00:08<00:00,  8.37it/s]\n",
      "                 Class     Images  Instances      Box(P          R      mAP50  mAP50-95): 100%|██████████| 8/8 [00:01<00:00,  6.26it/s]"
     ]
    },
    {
     "name": "stdout",
     "output_type": "stream",
     "text": [
      "                   all        250       2831      0.883      0.846      0.923      0.613\n"
     ]
    },
    {
     "name": "stderr",
     "output_type": "stream",
     "text": [
      "\n"
     ]
    },
    {
     "name": "stdout",
     "output_type": "stream",
     "text": [
      "\n",
      "      Epoch    GPU_mem   box_loss   cls_loss   dfl_loss  Instances       Size\n"
     ]
    },
    {
     "name": "stderr",
     "output_type": "stream",
     "text": [
      "   147/1000      2.84G      1.104     0.6033      1.064         20        640: 100%|██████████| 74/74 [00:08<00:00,  8.43it/s]\n",
      "                 Class     Images  Instances      Box(P          R      mAP50  mAP50-95): 100%|██████████| 8/8 [00:01<00:00,  6.41it/s]"
     ]
    },
    {
     "name": "stdout",
     "output_type": "stream",
     "text": [
      "                   all        250       2831      0.897      0.856      0.932      0.616\n"
     ]
    },
    {
     "name": "stderr",
     "output_type": "stream",
     "text": [
      "\n"
     ]
    },
    {
     "name": "stdout",
     "output_type": "stream",
     "text": [
      "\n",
      "      Epoch    GPU_mem   box_loss   cls_loss   dfl_loss  Instances       Size\n"
     ]
    },
    {
     "name": "stderr",
     "output_type": "stream",
     "text": [
      "   148/1000      2.98G      1.106     0.6066      1.067          8        640: 100%|██████████| 74/74 [00:08<00:00,  8.43it/s]\n",
      "                 Class     Images  Instances      Box(P          R      mAP50  mAP50-95): 100%|██████████| 8/8 [00:01<00:00,  6.35it/s]"
     ]
    },
    {
     "name": "stdout",
     "output_type": "stream",
     "text": [
      "                   all        250       2831      0.895      0.855      0.934      0.622\n"
     ]
    },
    {
     "name": "stderr",
     "output_type": "stream",
     "text": [
      "\n"
     ]
    },
    {
     "name": "stdout",
     "output_type": "stream",
     "text": [
      "\n",
      "      Epoch    GPU_mem   box_loss   cls_loss   dfl_loss  Instances       Size\n"
     ]
    },
    {
     "name": "stderr",
     "output_type": "stream",
     "text": [
      "   149/1000      2.66G        1.1     0.5941      1.056         23        640: 100%|██████████| 74/74 [00:08<00:00,  8.43it/s]\n",
      "                 Class     Images  Instances      Box(P          R      mAP50  mAP50-95): 100%|██████████| 8/8 [00:01<00:00,  6.37it/s]"
     ]
    },
    {
     "name": "stdout",
     "output_type": "stream",
     "text": [
      "                   all        250       2831      0.914      0.841      0.935      0.625\n"
     ]
    },
    {
     "name": "stderr",
     "output_type": "stream",
     "text": [
      "\n"
     ]
    },
    {
     "name": "stdout",
     "output_type": "stream",
     "text": [
      "\n",
      "      Epoch    GPU_mem   box_loss   cls_loss   dfl_loss  Instances       Size\n"
     ]
    },
    {
     "name": "stderr",
     "output_type": "stream",
     "text": [
      "   150/1000      2.79G      1.106     0.6009      1.061         53        640: 100%|██████████| 74/74 [00:09<00:00,  8.06it/s]\n",
      "                 Class     Images  Instances      Box(P          R      mAP50  mAP50-95): 100%|██████████| 8/8 [00:01<00:00,  6.36it/s]"
     ]
    },
    {
     "name": "stdout",
     "output_type": "stream",
     "text": [
      "                   all        250       2831      0.881      0.846      0.921      0.614\n"
     ]
    },
    {
     "name": "stderr",
     "output_type": "stream",
     "text": [
      "\n"
     ]
    },
    {
     "name": "stdout",
     "output_type": "stream",
     "text": [
      "\n",
      "      Epoch    GPU_mem   box_loss   cls_loss   dfl_loss  Instances       Size\n"
     ]
    },
    {
     "name": "stderr",
     "output_type": "stream",
     "text": [
      "   151/1000      2.81G      1.082     0.5852      1.053         48        640: 100%|██████████| 74/74 [00:08<00:00,  8.39it/s]\n",
      "                 Class     Images  Instances      Box(P          R      mAP50  mAP50-95): 100%|██████████| 8/8 [00:01<00:00,  6.24it/s]"
     ]
    },
    {
     "name": "stdout",
     "output_type": "stream",
     "text": [
      "                   all        250       2831      0.889       0.84      0.925       0.61\n"
     ]
    },
    {
     "name": "stderr",
     "output_type": "stream",
     "text": [
      "\n"
     ]
    },
    {
     "name": "stdout",
     "output_type": "stream",
     "text": [
      "\n",
      "      Epoch    GPU_mem   box_loss   cls_loss   dfl_loss  Instances       Size\n"
     ]
    },
    {
     "name": "stderr",
     "output_type": "stream",
     "text": [
      "   152/1000      2.79G      1.098     0.5909      1.056         14        640: 100%|██████████| 74/74 [00:08<00:00,  8.36it/s]\n",
      "                 Class     Images  Instances      Box(P          R      mAP50  mAP50-95): 100%|██████████| 8/8 [00:01<00:00,  6.48it/s]"
     ]
    },
    {
     "name": "stdout",
     "output_type": "stream",
     "text": [
      "                   all        250       2831      0.909       0.85      0.934      0.629\n"
     ]
    },
    {
     "name": "stderr",
     "output_type": "stream",
     "text": [
      "\n"
     ]
    },
    {
     "name": "stdout",
     "output_type": "stream",
     "text": [
      "\n",
      "      Epoch    GPU_mem   box_loss   cls_loss   dfl_loss  Instances       Size\n"
     ]
    },
    {
     "name": "stderr",
     "output_type": "stream",
     "text": [
      "   153/1000      2.86G      1.085     0.5859      1.049         38        640: 100%|██████████| 74/74 [00:08<00:00,  8.39it/s]\n",
      "                 Class     Images  Instances      Box(P          R      mAP50  mAP50-95): 100%|██████████| 8/8 [00:01<00:00,  6.32it/s]"
     ]
    },
    {
     "name": "stdout",
     "output_type": "stream",
     "text": [
      "                   all        250       2831      0.911      0.832       0.93      0.618\n"
     ]
    },
    {
     "name": "stderr",
     "output_type": "stream",
     "text": [
      "\n"
     ]
    },
    {
     "name": "stdout",
     "output_type": "stream",
     "text": [
      "\n",
      "      Epoch    GPU_mem   box_loss   cls_loss   dfl_loss  Instances       Size\n"
     ]
    },
    {
     "name": "stderr",
     "output_type": "stream",
     "text": [
      "   154/1000      2.73G      1.089     0.5889      1.055         36        640: 100%|██████████| 74/74 [00:08<00:00,  8.34it/s]\n",
      "                 Class     Images  Instances      Box(P          R      mAP50  mAP50-95): 100%|██████████| 8/8 [00:01<00:00,  6.25it/s]"
     ]
    },
    {
     "name": "stdout",
     "output_type": "stream",
     "text": [
      "                   all        250       2831      0.886      0.863      0.931      0.617\n"
     ]
    },
    {
     "name": "stderr",
     "output_type": "stream",
     "text": [
      "\n"
     ]
    },
    {
     "name": "stdout",
     "output_type": "stream",
     "text": [
      "\n",
      "      Epoch    GPU_mem   box_loss   cls_loss   dfl_loss  Instances       Size\n"
     ]
    },
    {
     "name": "stderr",
     "output_type": "stream",
     "text": [
      "   155/1000      2.75G      1.083      0.583      1.051         24        640: 100%|██████████| 74/74 [00:08<00:00,  8.36it/s]\n",
      "                 Class     Images  Instances      Box(P          R      mAP50  mAP50-95): 100%|██████████| 8/8 [00:01<00:00,  6.35it/s]"
     ]
    },
    {
     "name": "stdout",
     "output_type": "stream",
     "text": [
      "                   all        250       2831      0.902      0.845       0.93       0.61\n"
     ]
    },
    {
     "name": "stderr",
     "output_type": "stream",
     "text": [
      "\n"
     ]
    },
    {
     "name": "stdout",
     "output_type": "stream",
     "text": [
      "\n",
      "      Epoch    GPU_mem   box_loss   cls_loss   dfl_loss  Instances       Size\n"
     ]
    },
    {
     "name": "stderr",
     "output_type": "stream",
     "text": [
      "   156/1000      2.75G      1.088     0.5809      1.058         18        640: 100%|██████████| 74/74 [00:08<00:00,  8.29it/s]\n",
      "                 Class     Images  Instances      Box(P          R      mAP50  mAP50-95): 100%|██████████| 8/8 [00:01<00:00,  6.30it/s]"
     ]
    },
    {
     "name": "stdout",
     "output_type": "stream",
     "text": [
      "                   all        250       2831      0.898      0.858      0.934      0.624\n"
     ]
    },
    {
     "name": "stderr",
     "output_type": "stream",
     "text": [
      "\n"
     ]
    },
    {
     "name": "stdout",
     "output_type": "stream",
     "text": [
      "\n",
      "      Epoch    GPU_mem   box_loss   cls_loss   dfl_loss  Instances       Size\n"
     ]
    },
    {
     "name": "stderr",
     "output_type": "stream",
     "text": [
      "   157/1000      2.94G      1.094     0.5957      1.057         13        640: 100%|██████████| 74/74 [00:08<00:00,  8.35it/s]\n",
      "                 Class     Images  Instances      Box(P          R      mAP50  mAP50-95): 100%|██████████| 8/8 [00:01<00:00,  6.23it/s]"
     ]
    },
    {
     "name": "stdout",
     "output_type": "stream",
     "text": [
      "                   all        250       2831      0.902      0.846      0.927       0.61\n"
     ]
    },
    {
     "name": "stderr",
     "output_type": "stream",
     "text": [
      "\n"
     ]
    },
    {
     "name": "stdout",
     "output_type": "stream",
     "text": [
      "\n",
      "      Epoch    GPU_mem   box_loss   cls_loss   dfl_loss  Instances       Size\n"
     ]
    },
    {
     "name": "stderr",
     "output_type": "stream",
     "text": [
      "   158/1000      2.63G      1.082     0.5902       1.05         32        640: 100%|██████████| 74/74 [00:08<00:00,  8.35it/s]\n",
      "                 Class     Images  Instances      Box(P          R      mAP50  mAP50-95): 100%|██████████| 8/8 [00:01<00:00,  6.14it/s]"
     ]
    },
    {
     "name": "stdout",
     "output_type": "stream",
     "text": [
      "                   all        250       2831      0.894      0.859      0.931      0.618\n"
     ]
    },
    {
     "name": "stderr",
     "output_type": "stream",
     "text": [
      "\n"
     ]
    },
    {
     "name": "stdout",
     "output_type": "stream",
     "text": [
      "\n",
      "      Epoch    GPU_mem   box_loss   cls_loss   dfl_loss  Instances       Size\n"
     ]
    },
    {
     "name": "stderr",
     "output_type": "stream",
     "text": [
      "   159/1000      2.77G      1.082     0.5832      1.055         28        640: 100%|██████████| 74/74 [00:08<00:00,  8.32it/s]\n",
      "                 Class     Images  Instances      Box(P          R      mAP50  mAP50-95): 100%|██████████| 8/8 [00:01<00:00,  6.15it/s]"
     ]
    },
    {
     "name": "stdout",
     "output_type": "stream",
     "text": [
      "                   all        250       2831      0.901      0.854      0.935      0.621\n"
     ]
    },
    {
     "name": "stderr",
     "output_type": "stream",
     "text": [
      "\n"
     ]
    },
    {
     "name": "stdout",
     "output_type": "stream",
     "text": [
      "\n",
      "      Epoch    GPU_mem   box_loss   cls_loss   dfl_loss  Instances       Size\n"
     ]
    },
    {
     "name": "stderr",
     "output_type": "stream",
     "text": [
      "   160/1000      3.13G      1.094     0.5873      1.049         23        640: 100%|██████████| 74/74 [00:08<00:00,  8.35it/s]\n",
      "                 Class     Images  Instances      Box(P          R      mAP50  mAP50-95): 100%|██████████| 8/8 [00:01<00:00,  6.27it/s]"
     ]
    },
    {
     "name": "stdout",
     "output_type": "stream",
     "text": [
      "                   all        250       2831      0.883      0.855      0.929      0.613\n"
     ]
    },
    {
     "name": "stderr",
     "output_type": "stream",
     "text": [
      "\n"
     ]
    },
    {
     "name": "stdout",
     "output_type": "stream",
     "text": [
      "\n",
      "      Epoch    GPU_mem   box_loss   cls_loss   dfl_loss  Instances       Size\n"
     ]
    },
    {
     "name": "stderr",
     "output_type": "stream",
     "text": [
      "   161/1000      2.53G      1.087     0.5796      1.055         39        640: 100%|██████████| 74/74 [00:08<00:00,  8.38it/s]\n",
      "                 Class     Images  Instances      Box(P          R      mAP50  mAP50-95): 100%|██████████| 8/8 [00:01<00:00,  6.22it/s]"
     ]
    },
    {
     "name": "stdout",
     "output_type": "stream",
     "text": [
      "                   all        250       2831        0.9       0.86      0.931      0.622\n"
     ]
    },
    {
     "name": "stderr",
     "output_type": "stream",
     "text": [
      "\n"
     ]
    },
    {
     "name": "stdout",
     "output_type": "stream",
     "text": [
      "\n",
      "      Epoch    GPU_mem   box_loss   cls_loss   dfl_loss  Instances       Size\n"
     ]
    },
    {
     "name": "stderr",
     "output_type": "stream",
     "text": [
      "   162/1000      2.86G      1.092     0.5903      1.058         19        640: 100%|██████████| 74/74 [00:08<00:00,  8.35it/s]\n",
      "                 Class     Images  Instances      Box(P          R      mAP50  mAP50-95): 100%|██████████| 8/8 [00:01<00:00,  6.26it/s]"
     ]
    },
    {
     "name": "stdout",
     "output_type": "stream",
     "text": [
      "                   all        250       2831      0.903      0.839      0.928       0.62\n"
     ]
    },
    {
     "name": "stderr",
     "output_type": "stream",
     "text": [
      "\n"
     ]
    },
    {
     "name": "stdout",
     "output_type": "stream",
     "text": [
      "\n",
      "      Epoch    GPU_mem   box_loss   cls_loss   dfl_loss  Instances       Size\n"
     ]
    },
    {
     "name": "stderr",
     "output_type": "stream",
     "text": [
      "   163/1000      3.02G      1.076     0.5835      1.048         15        640: 100%|██████████| 74/74 [00:08<00:00,  8.43it/s]\n",
      "                 Class     Images  Instances      Box(P          R      mAP50  mAP50-95): 100%|██████████| 8/8 [00:01<00:00,  6.49it/s]"
     ]
    },
    {
     "name": "stdout",
     "output_type": "stream",
     "text": [
      "                   all        250       2831      0.915      0.831      0.926      0.619\n"
     ]
    },
    {
     "name": "stderr",
     "output_type": "stream",
     "text": [
      "\n"
     ]
    },
    {
     "name": "stdout",
     "output_type": "stream",
     "text": [
      "\n",
      "      Epoch    GPU_mem   box_loss   cls_loss   dfl_loss  Instances       Size\n"
     ]
    },
    {
     "name": "stderr",
     "output_type": "stream",
     "text": [
      "   164/1000      2.64G      1.084     0.5751      1.049         28        640: 100%|██████████| 74/74 [00:08<00:00,  8.30it/s]\n",
      "                 Class     Images  Instances      Box(P          R      mAP50  mAP50-95): 100%|██████████| 8/8 [00:01<00:00,  6.00it/s]"
     ]
    },
    {
     "name": "stdout",
     "output_type": "stream",
     "text": [
      "                   all        250       2831      0.906       0.83      0.928      0.618\n"
     ]
    },
    {
     "name": "stderr",
     "output_type": "stream",
     "text": [
      "\n"
     ]
    },
    {
     "name": "stdout",
     "output_type": "stream",
     "text": [
      "\n",
      "      Epoch    GPU_mem   box_loss   cls_loss   dfl_loss  Instances       Size\n"
     ]
    },
    {
     "name": "stderr",
     "output_type": "stream",
     "text": [
      "   165/1000      2.92G      1.077     0.5816      1.051         27        640: 100%|██████████| 74/74 [00:08<00:00,  8.41it/s]\n",
      "                 Class     Images  Instances      Box(P          R      mAP50  mAP50-95): 100%|██████████| 8/8 [00:01<00:00,  6.33it/s]"
     ]
    },
    {
     "name": "stdout",
     "output_type": "stream",
     "text": [
      "                   all        250       2831      0.883      0.858      0.928      0.615\n"
     ]
    },
    {
     "name": "stderr",
     "output_type": "stream",
     "text": [
      "\n"
     ]
    },
    {
     "name": "stdout",
     "output_type": "stream",
     "text": [
      "\n",
      "      Epoch    GPU_mem   box_loss   cls_loss   dfl_loss  Instances       Size\n"
     ]
    },
    {
     "name": "stderr",
     "output_type": "stream",
     "text": [
      "   166/1000      2.77G      1.077     0.5815      1.051         15        640: 100%|██████████| 74/74 [00:08<00:00,  8.43it/s]\n",
      "                 Class     Images  Instances      Box(P          R      mAP50  mAP50-95): 100%|██████████| 8/8 [00:01<00:00,  6.27it/s]"
     ]
    },
    {
     "name": "stdout",
     "output_type": "stream",
     "text": [
      "                   all        250       2831      0.883      0.859      0.929      0.612\n"
     ]
    },
    {
     "name": "stderr",
     "output_type": "stream",
     "text": [
      "\n"
     ]
    },
    {
     "name": "stdout",
     "output_type": "stream",
     "text": [
      "\n",
      "      Epoch    GPU_mem   box_loss   cls_loss   dfl_loss  Instances       Size\n"
     ]
    },
    {
     "name": "stderr",
     "output_type": "stream",
     "text": [
      "   167/1000      2.76G       1.07     0.5759      1.054         26        640: 100%|██████████| 74/74 [00:08<00:00,  8.32it/s]\n",
      "                 Class     Images  Instances      Box(P          R      mAP50  mAP50-95): 100%|██████████| 8/8 [00:01<00:00,  6.28it/s]"
     ]
    },
    {
     "name": "stdout",
     "output_type": "stream",
     "text": [
      "                   all        250       2831      0.912      0.844      0.931      0.613\n"
     ]
    },
    {
     "name": "stderr",
     "output_type": "stream",
     "text": [
      "\n"
     ]
    },
    {
     "name": "stdout",
     "output_type": "stream",
     "text": [
      "\n",
      "      Epoch    GPU_mem   box_loss   cls_loss   dfl_loss  Instances       Size\n"
     ]
    },
    {
     "name": "stderr",
     "output_type": "stream",
     "text": [
      "   168/1000      3.12G      1.076     0.5758      1.049         16        640: 100%|██████████| 74/74 [00:08<00:00,  8.42it/s]\n",
      "                 Class     Images  Instances      Box(P          R      mAP50  mAP50-95): 100%|██████████| 8/8 [00:01<00:00,  6.15it/s]"
     ]
    },
    {
     "name": "stdout",
     "output_type": "stream",
     "text": [
      "                   all        250       2831      0.907       0.84      0.925      0.618\n"
     ]
    },
    {
     "name": "stderr",
     "output_type": "stream",
     "text": [
      "\n"
     ]
    },
    {
     "name": "stdout",
     "output_type": "stream",
     "text": [
      "\n",
      "      Epoch    GPU_mem   box_loss   cls_loss   dfl_loss  Instances       Size\n"
     ]
    },
    {
     "name": "stderr",
     "output_type": "stream",
     "text": [
      "   169/1000      3.06G      1.067     0.5711      1.047         23        640: 100%|██████████| 74/74 [00:08<00:00,  8.38it/s]\n",
      "                 Class     Images  Instances      Box(P          R      mAP50  mAP50-95): 100%|██████████| 8/8 [00:01<00:00,  6.26it/s]"
     ]
    },
    {
     "name": "stdout",
     "output_type": "stream",
     "text": [
      "                   all        250       2831      0.869      0.861      0.925      0.616\n"
     ]
    },
    {
     "name": "stderr",
     "output_type": "stream",
     "text": [
      "\n"
     ]
    },
    {
     "name": "stdout",
     "output_type": "stream",
     "text": [
      "\n",
      "      Epoch    GPU_mem   box_loss   cls_loss   dfl_loss  Instances       Size\n"
     ]
    },
    {
     "name": "stderr",
     "output_type": "stream",
     "text": [
      "   170/1000      2.76G      1.073     0.5801      1.042         58        640: 100%|██████████| 74/74 [00:08<00:00,  8.34it/s]\n",
      "                 Class     Images  Instances      Box(P          R      mAP50  mAP50-95): 100%|██████████| 8/8 [00:01<00:00,  6.36it/s]"
     ]
    },
    {
     "name": "stdout",
     "output_type": "stream",
     "text": [
      "                   all        250       2831        0.9      0.844       0.93      0.615\n"
     ]
    },
    {
     "name": "stderr",
     "output_type": "stream",
     "text": [
      "\n"
     ]
    },
    {
     "name": "stdout",
     "output_type": "stream",
     "text": [
      "\n",
      "      Epoch    GPU_mem   box_loss   cls_loss   dfl_loss  Instances       Size\n"
     ]
    },
    {
     "name": "stderr",
     "output_type": "stream",
     "text": [
      "   171/1000      3.02G      1.067     0.5644      1.049         22        640: 100%|██████████| 74/74 [00:08<00:00,  8.39it/s]\n",
      "                 Class     Images  Instances      Box(P          R      mAP50  mAP50-95): 100%|██████████| 8/8 [00:01<00:00,  6.36it/s]"
     ]
    },
    {
     "name": "stdout",
     "output_type": "stream",
     "text": [
      "                   all        250       2831      0.916      0.841      0.934      0.621\n"
     ]
    },
    {
     "name": "stderr",
     "output_type": "stream",
     "text": [
      "\n"
     ]
    },
    {
     "name": "stdout",
     "output_type": "stream",
     "text": [
      "\n",
      "      Epoch    GPU_mem   box_loss   cls_loss   dfl_loss  Instances       Size\n"
     ]
    },
    {
     "name": "stderr",
     "output_type": "stream",
     "text": [
      "   172/1000      2.79G      1.071     0.5704      1.048         65        640: 100%|██████████| 74/74 [00:08<00:00,  8.46it/s]\n",
      "                 Class     Images  Instances      Box(P          R      mAP50  mAP50-95): 100%|██████████| 8/8 [00:01<00:00,  6.36it/s]"
     ]
    },
    {
     "name": "stdout",
     "output_type": "stream",
     "text": [
      "                   all        250       2831      0.896       0.86      0.934      0.621\n"
     ]
    },
    {
     "name": "stderr",
     "output_type": "stream",
     "text": [
      "\n"
     ]
    },
    {
     "name": "stdout",
     "output_type": "stream",
     "text": [
      "\n",
      "      Epoch    GPU_mem   box_loss   cls_loss   dfl_loss  Instances       Size\n"
     ]
    },
    {
     "name": "stderr",
     "output_type": "stream",
     "text": [
      "   173/1000      2.85G      1.079     0.5741      1.054         22        640: 100%|██████████| 74/74 [00:08<00:00,  8.46it/s]\n",
      "                 Class     Images  Instances      Box(P          R      mAP50  mAP50-95): 100%|██████████| 8/8 [00:01<00:00,  6.15it/s]"
     ]
    },
    {
     "name": "stdout",
     "output_type": "stream",
     "text": [
      "                   all        250       2831      0.894       0.86      0.932      0.622\n"
     ]
    },
    {
     "name": "stderr",
     "output_type": "stream",
     "text": [
      "\n"
     ]
    },
    {
     "name": "stdout",
     "output_type": "stream",
     "text": [
      "\n",
      "      Epoch    GPU_mem   box_loss   cls_loss   dfl_loss  Instances       Size\n"
     ]
    },
    {
     "name": "stderr",
     "output_type": "stream",
     "text": [
      "   174/1000         3G      1.071     0.5661      1.037         29        640: 100%|██████████| 74/74 [00:08<00:00,  8.34it/s]\n",
      "                 Class     Images  Instances      Box(P          R      mAP50  mAP50-95): 100%|██████████| 8/8 [00:01<00:00,  6.27it/s]"
     ]
    },
    {
     "name": "stdout",
     "output_type": "stream",
     "text": [
      "                   all        250       2831      0.899      0.861      0.935      0.619\n"
     ]
    },
    {
     "name": "stderr",
     "output_type": "stream",
     "text": [
      "\n"
     ]
    },
    {
     "name": "stdout",
     "output_type": "stream",
     "text": [
      "\n",
      "      Epoch    GPU_mem   box_loss   cls_loss   dfl_loss  Instances       Size\n"
     ]
    },
    {
     "name": "stderr",
     "output_type": "stream",
     "text": [
      "   175/1000      2.93G      1.073     0.5725      1.041         31        640: 100%|██████████| 74/74 [00:08<00:00,  8.38it/s]\n",
      "                 Class     Images  Instances      Box(P          R      mAP50  mAP50-95): 100%|██████████| 8/8 [00:01<00:00,  6.15it/s]"
     ]
    },
    {
     "name": "stdout",
     "output_type": "stream",
     "text": [
      "                   all        250       2831      0.898      0.858      0.926      0.619\n"
     ]
    },
    {
     "name": "stderr",
     "output_type": "stream",
     "text": [
      "\n"
     ]
    },
    {
     "name": "stdout",
     "output_type": "stream",
     "text": [
      "\n",
      "      Epoch    GPU_mem   box_loss   cls_loss   dfl_loss  Instances       Size\n"
     ]
    },
    {
     "name": "stderr",
     "output_type": "stream",
     "text": [
      "   176/1000      2.92G      1.077     0.5694      1.044         16        640: 100%|██████████| 74/74 [00:08<00:00,  8.39it/s]\n",
      "                 Class     Images  Instances      Box(P          R      mAP50  mAP50-95): 100%|██████████| 8/8 [00:01<00:00,  6.19it/s]"
     ]
    },
    {
     "name": "stdout",
     "output_type": "stream",
     "text": [
      "                   all        250       2831      0.884      0.864      0.932      0.622\n"
     ]
    },
    {
     "name": "stderr",
     "output_type": "stream",
     "text": [
      "\n"
     ]
    },
    {
     "name": "stdout",
     "output_type": "stream",
     "text": [
      "\n",
      "      Epoch    GPU_mem   box_loss   cls_loss   dfl_loss  Instances       Size\n"
     ]
    },
    {
     "name": "stderr",
     "output_type": "stream",
     "text": [
      "   177/1000      2.82G      1.077     0.5726      1.047        107        640: 100%|██████████| 74/74 [00:08<00:00,  8.49it/s]\n",
      "                 Class     Images  Instances      Box(P          R      mAP50  mAP50-95): 100%|██████████| 8/8 [00:01<00:00,  6.36it/s]"
     ]
    },
    {
     "name": "stdout",
     "output_type": "stream",
     "text": [
      "                   all        250       2831      0.879      0.866      0.929      0.617\n"
     ]
    },
    {
     "name": "stderr",
     "output_type": "stream",
     "text": [
      "\n"
     ]
    },
    {
     "name": "stdout",
     "output_type": "stream",
     "text": [
      "\n",
      "      Epoch    GPU_mem   box_loss   cls_loss   dfl_loss  Instances       Size\n"
     ]
    },
    {
     "name": "stderr",
     "output_type": "stream",
     "text": [
      "   178/1000      2.77G       1.06     0.5664      1.042         20        640: 100%|██████████| 74/74 [00:08<00:00,  8.39it/s]\n",
      "                 Class     Images  Instances      Box(P          R      mAP50  mAP50-95): 100%|██████████| 8/8 [00:01<00:00,  6.40it/s]"
     ]
    },
    {
     "name": "stdout",
     "output_type": "stream",
     "text": [
      "                   all        250       2831      0.897      0.842      0.923      0.623\n"
     ]
    },
    {
     "name": "stderr",
     "output_type": "stream",
     "text": [
      "\n"
     ]
    },
    {
     "name": "stdout",
     "output_type": "stream",
     "text": [
      "\n",
      "      Epoch    GPU_mem   box_loss   cls_loss   dfl_loss  Instances       Size\n"
     ]
    },
    {
     "name": "stderr",
     "output_type": "stream",
     "text": [
      "   179/1000      2.95G       1.06     0.5626      1.041         15        640: 100%|██████████| 74/74 [00:08<00:00,  8.44it/s]\n",
      "                 Class     Images  Instances      Box(P          R      mAP50  mAP50-95): 100%|██████████| 8/8 [00:01<00:00,  6.36it/s]"
     ]
    },
    {
     "name": "stdout",
     "output_type": "stream",
     "text": [
      "                   all        250       2831      0.892      0.854      0.925      0.616\n"
     ]
    },
    {
     "name": "stderr",
     "output_type": "stream",
     "text": [
      "\n"
     ]
    },
    {
     "name": "stdout",
     "output_type": "stream",
     "text": [
      "\n",
      "      Epoch    GPU_mem   box_loss   cls_loss   dfl_loss  Instances       Size\n"
     ]
    },
    {
     "name": "stderr",
     "output_type": "stream",
     "text": [
      "   180/1000      2.69G      1.056     0.5635      1.032         13        640: 100%|██████████| 74/74 [00:08<00:00,  8.46it/s]\n",
      "                 Class     Images  Instances      Box(P          R      mAP50  mAP50-95): 100%|██████████| 8/8 [00:01<00:00,  6.42it/s]"
     ]
    },
    {
     "name": "stdout",
     "output_type": "stream",
     "text": [
      "                   all        250       2831      0.896      0.876      0.937      0.621\n"
     ]
    },
    {
     "name": "stderr",
     "output_type": "stream",
     "text": [
      "\n"
     ]
    },
    {
     "name": "stdout",
     "output_type": "stream",
     "text": [
      "\n",
      "      Epoch    GPU_mem   box_loss   cls_loss   dfl_loss  Instances       Size\n"
     ]
    },
    {
     "name": "stderr",
     "output_type": "stream",
     "text": [
      "   181/1000       2.8G      1.068      0.578      1.041          7        640: 100%|██████████| 74/74 [00:08<00:00,  8.50it/s]\n",
      "                 Class     Images  Instances      Box(P          R      mAP50  mAP50-95): 100%|██████████| 8/8 [00:01<00:00,  6.17it/s]"
     ]
    },
    {
     "name": "stdout",
     "output_type": "stream",
     "text": [
      "                   all        250       2831      0.896      0.861      0.935      0.624\n"
     ]
    },
    {
     "name": "stderr",
     "output_type": "stream",
     "text": [
      "\n"
     ]
    },
    {
     "name": "stdout",
     "output_type": "stream",
     "text": [
      "\n",
      "      Epoch    GPU_mem   box_loss   cls_loss   dfl_loss  Instances       Size\n"
     ]
    },
    {
     "name": "stderr",
     "output_type": "stream",
     "text": [
      "   182/1000      2.88G      1.062     0.5633      1.038         33        640: 100%|██████████| 74/74 [00:08<00:00,  8.36it/s]\n",
      "                 Class     Images  Instances      Box(P          R      mAP50  mAP50-95): 100%|██████████| 8/8 [00:01<00:00,  6.40it/s]"
     ]
    },
    {
     "name": "stdout",
     "output_type": "stream",
     "text": [
      "                   all        250       2831      0.905      0.843      0.931      0.621\n"
     ]
    },
    {
     "name": "stderr",
     "output_type": "stream",
     "text": [
      "\n"
     ]
    },
    {
     "name": "stdout",
     "output_type": "stream",
     "text": [
      "\n",
      "      Epoch    GPU_mem   box_loss   cls_loss   dfl_loss  Instances       Size\n"
     ]
    },
    {
     "name": "stderr",
     "output_type": "stream",
     "text": [
      "   183/1000      2.72G      1.057     0.5638       1.04         35        640: 100%|██████████| 74/74 [00:08<00:00,  8.52it/s]\n",
      "                 Class     Images  Instances      Box(P          R      mAP50  mAP50-95): 100%|██████████| 8/8 [00:01<00:00,  6.39it/s]"
     ]
    },
    {
     "name": "stdout",
     "output_type": "stream",
     "text": [
      "                   all        250       2831      0.903      0.845      0.931      0.622\n"
     ]
    },
    {
     "name": "stderr",
     "output_type": "stream",
     "text": [
      "\n"
     ]
    },
    {
     "name": "stdout",
     "output_type": "stream",
     "text": [
      "\n",
      "      Epoch    GPU_mem   box_loss   cls_loss   dfl_loss  Instances       Size\n"
     ]
    },
    {
     "name": "stderr",
     "output_type": "stream",
     "text": [
      "   184/1000      2.78G      1.058     0.5627      1.043         21        640: 100%|██████████| 74/74 [00:08<00:00,  8.42it/s]\n",
      "                 Class     Images  Instances      Box(P          R      mAP50  mAP50-95): 100%|██████████| 8/8 [00:01<00:00,  6.27it/s]"
     ]
    },
    {
     "name": "stdout",
     "output_type": "stream",
     "text": [
      "                   all        250       2831      0.887      0.857      0.928      0.612\n"
     ]
    },
    {
     "name": "stderr",
     "output_type": "stream",
     "text": [
      "\n"
     ]
    },
    {
     "name": "stdout",
     "output_type": "stream",
     "text": [
      "\n",
      "      Epoch    GPU_mem   box_loss   cls_loss   dfl_loss  Instances       Size\n"
     ]
    },
    {
     "name": "stderr",
     "output_type": "stream",
     "text": [
      "   185/1000      2.86G      1.057     0.5615      1.034         60        640: 100%|██████████| 74/74 [00:08<00:00,  8.26it/s]\n",
      "                 Class     Images  Instances      Box(P          R      mAP50  mAP50-95): 100%|██████████| 8/8 [00:01<00:00,  6.16it/s]"
     ]
    },
    {
     "name": "stdout",
     "output_type": "stream",
     "text": [
      "                   all        250       2831      0.913       0.83      0.927      0.614\n"
     ]
    },
    {
     "name": "stderr",
     "output_type": "stream",
     "text": [
      "\n"
     ]
    },
    {
     "name": "stdout",
     "output_type": "stream",
     "text": [
      "\n",
      "      Epoch    GPU_mem   box_loss   cls_loss   dfl_loss  Instances       Size\n"
     ]
    },
    {
     "name": "stderr",
     "output_type": "stream",
     "text": [
      "   186/1000      2.73G      1.059     0.5596      1.041         19        640: 100%|██████████| 74/74 [00:08<00:00,  8.44it/s]\n",
      "                 Class     Images  Instances      Box(P          R      mAP50  mAP50-95): 100%|██████████| 8/8 [00:01<00:00,  6.37it/s]"
     ]
    },
    {
     "name": "stdout",
     "output_type": "stream",
     "text": [
      "                   all        250       2831      0.891      0.858       0.93      0.622\n"
     ]
    },
    {
     "name": "stderr",
     "output_type": "stream",
     "text": [
      "\n"
     ]
    },
    {
     "name": "stdout",
     "output_type": "stream",
     "text": [
      "\n",
      "      Epoch    GPU_mem   box_loss   cls_loss   dfl_loss  Instances       Size\n"
     ]
    },
    {
     "name": "stderr",
     "output_type": "stream",
     "text": [
      "   187/1000      3.19G      1.058     0.5599      1.036         20        640: 100%|██████████| 74/74 [00:08<00:00,  8.46it/s]\n",
      "                 Class     Images  Instances      Box(P          R      mAP50  mAP50-95): 100%|██████████| 8/8 [00:01<00:00,  6.34it/s]"
     ]
    },
    {
     "name": "stdout",
     "output_type": "stream",
     "text": [
      "                   all        250       2831      0.894      0.866      0.932      0.623\n"
     ]
    },
    {
     "name": "stderr",
     "output_type": "stream",
     "text": [
      "\n"
     ]
    },
    {
     "name": "stdout",
     "output_type": "stream",
     "text": [
      "\n",
      "      Epoch    GPU_mem   box_loss   cls_loss   dfl_loss  Instances       Size\n"
     ]
    },
    {
     "name": "stderr",
     "output_type": "stream",
     "text": [
      "   188/1000      2.97G      1.053     0.5688      1.038          4        640: 100%|██████████| 74/74 [00:08<00:00,  8.40it/s]\n",
      "                 Class     Images  Instances      Box(P          R      mAP50  mAP50-95): 100%|██████████| 8/8 [00:01<00:00,  6.49it/s]"
     ]
    },
    {
     "name": "stdout",
     "output_type": "stream",
     "text": [
      "                   all        250       2831      0.897      0.863      0.935      0.624\n"
     ]
    },
    {
     "name": "stderr",
     "output_type": "stream",
     "text": [
      "\n"
     ]
    },
    {
     "name": "stdout",
     "output_type": "stream",
     "text": [
      "\n",
      "      Epoch    GPU_mem   box_loss   cls_loss   dfl_loss  Instances       Size\n"
     ]
    },
    {
     "name": "stderr",
     "output_type": "stream",
     "text": [
      "   189/1000      3.04G      1.062      0.558      1.042         21        640: 100%|██████████| 74/74 [00:08<00:00,  8.27it/s]\n",
      "                 Class     Images  Instances      Box(P          R      mAP50  mAP50-95): 100%|██████████| 8/8 [00:01<00:00,  6.34it/s]"
     ]
    },
    {
     "name": "stdout",
     "output_type": "stream",
     "text": [
      "                   all        250       2831      0.899       0.86      0.932      0.623\n"
     ]
    },
    {
     "name": "stderr",
     "output_type": "stream",
     "text": [
      "\n"
     ]
    },
    {
     "name": "stdout",
     "output_type": "stream",
     "text": [
      "\n",
      "      Epoch    GPU_mem   box_loss   cls_loss   dfl_loss  Instances       Size\n"
     ]
    },
    {
     "name": "stderr",
     "output_type": "stream",
     "text": [
      "   190/1000       2.8G      1.059     0.5575      1.034         40        640: 100%|██████████| 74/74 [00:08<00:00,  8.41it/s]\n",
      "                 Class     Images  Instances      Box(P          R      mAP50  mAP50-95): 100%|██████████| 8/8 [00:01<00:00,  6.28it/s]"
     ]
    },
    {
     "name": "stdout",
     "output_type": "stream",
     "text": [
      "                   all        250       2831        0.9      0.849       0.93      0.618\n"
     ]
    },
    {
     "name": "stderr",
     "output_type": "stream",
     "text": [
      "\n"
     ]
    },
    {
     "name": "stdout",
     "output_type": "stream",
     "text": [
      "\n",
      "      Epoch    GPU_mem   box_loss   cls_loss   dfl_loss  Instances       Size\n"
     ]
    },
    {
     "name": "stderr",
     "output_type": "stream",
     "text": [
      "   191/1000      2.78G      1.051     0.5588      1.033         41        640: 100%|██████████| 74/74 [00:08<00:00,  8.44it/s]\n",
      "                 Class     Images  Instances      Box(P          R      mAP50  mAP50-95): 100%|██████████| 8/8 [00:01<00:00,  6.44it/s]"
     ]
    },
    {
     "name": "stdout",
     "output_type": "stream",
     "text": [
      "                   all        250       2831      0.902       0.85      0.928      0.618\n"
     ]
    },
    {
     "name": "stderr",
     "output_type": "stream",
     "text": [
      "\n"
     ]
    },
    {
     "name": "stdout",
     "output_type": "stream",
     "text": [
      "\n",
      "      Epoch    GPU_mem   box_loss   cls_loss   dfl_loss  Instances       Size\n"
     ]
    },
    {
     "name": "stderr",
     "output_type": "stream",
     "text": [
      "   192/1000      2.75G      1.043     0.5498      1.033         25        640: 100%|██████████| 74/74 [00:08<00:00,  8.42it/s]\n",
      "                 Class     Images  Instances      Box(P          R      mAP50  mAP50-95): 100%|██████████| 8/8 [00:01<00:00,  6.48it/s]"
     ]
    },
    {
     "name": "stdout",
     "output_type": "stream",
     "text": [
      "                   all        250       2831      0.892      0.857      0.931      0.619\n"
     ]
    },
    {
     "name": "stderr",
     "output_type": "stream",
     "text": [
      "\n"
     ]
    },
    {
     "name": "stdout",
     "output_type": "stream",
     "text": [
      "\n",
      "      Epoch    GPU_mem   box_loss   cls_loss   dfl_loss  Instances       Size\n"
     ]
    },
    {
     "name": "stderr",
     "output_type": "stream",
     "text": [
      "   193/1000      2.73G       1.05     0.5539      1.035         14        640: 100%|██████████| 74/74 [00:08<00:00,  8.37it/s]\n",
      "                 Class     Images  Instances      Box(P          R      mAP50  mAP50-95): 100%|██████████| 8/8 [00:01<00:00,  5.89it/s]"
     ]
    },
    {
     "name": "stdout",
     "output_type": "stream",
     "text": [
      "                   all        250       2831      0.903      0.856      0.932      0.616\n"
     ]
    },
    {
     "name": "stderr",
     "output_type": "stream",
     "text": [
      "\n"
     ]
    },
    {
     "name": "stdout",
     "output_type": "stream",
     "text": [
      "\n",
      "      Epoch    GPU_mem   box_loss   cls_loss   dfl_loss  Instances       Size\n"
     ]
    },
    {
     "name": "stderr",
     "output_type": "stream",
     "text": [
      "   194/1000      2.89G      1.045     0.5525      1.031         41        640: 100%|██████████| 74/74 [00:08<00:00,  8.26it/s]\n",
      "                 Class     Images  Instances      Box(P          R      mAP50  mAP50-95): 100%|██████████| 8/8 [00:01<00:00,  6.27it/s]"
     ]
    },
    {
     "name": "stdout",
     "output_type": "stream",
     "text": [
      "                   all        250       2831      0.897      0.859      0.928      0.616\n"
     ]
    },
    {
     "name": "stderr",
     "output_type": "stream",
     "text": [
      "\n"
     ]
    },
    {
     "name": "stdout",
     "output_type": "stream",
     "text": [
      "\n",
      "      Epoch    GPU_mem   box_loss   cls_loss   dfl_loss  Instances       Size\n"
     ]
    },
    {
     "name": "stderr",
     "output_type": "stream",
     "text": [
      "   195/1000      2.98G       1.05     0.5618      1.037         11        640: 100%|██████████| 74/74 [00:08<00:00,  8.34it/s]\n",
      "                 Class     Images  Instances      Box(P          R      mAP50  mAP50-95): 100%|██████████| 8/8 [00:01<00:00,  6.17it/s]"
     ]
    },
    {
     "name": "stdout",
     "output_type": "stream",
     "text": [
      "                   all        250       2831      0.884      0.859      0.925      0.613\n"
     ]
    },
    {
     "name": "stderr",
     "output_type": "stream",
     "text": [
      "\n"
     ]
    },
    {
     "name": "stdout",
     "output_type": "stream",
     "text": [
      "\n",
      "      Epoch    GPU_mem   box_loss   cls_loss   dfl_loss  Instances       Size\n"
     ]
    },
    {
     "name": "stderr",
     "output_type": "stream",
     "text": [
      "   196/1000      2.67G      1.033     0.5457      1.026         12        640: 100%|██████████| 74/74 [00:08<00:00,  8.34it/s]\n",
      "                 Class     Images  Instances      Box(P          R      mAP50  mAP50-95): 100%|██████████| 8/8 [00:01<00:00,  6.02it/s]"
     ]
    },
    {
     "name": "stdout",
     "output_type": "stream",
     "text": [
      "                   all        250       2831      0.884      0.866      0.928      0.619\n"
     ]
    },
    {
     "name": "stderr",
     "output_type": "stream",
     "text": [
      "\n"
     ]
    },
    {
     "name": "stdout",
     "output_type": "stream",
     "text": [
      "\n",
      "      Epoch    GPU_mem   box_loss   cls_loss   dfl_loss  Instances       Size\n"
     ]
    },
    {
     "name": "stderr",
     "output_type": "stream",
     "text": [
      "   197/1000         3G      1.058     0.5587      1.039         30        640: 100%|██████████| 74/74 [00:08<00:00,  8.33it/s]\n",
      "                 Class     Images  Instances      Box(P          R      mAP50  mAP50-95): 100%|██████████| 8/8 [00:01<00:00,  6.08it/s]"
     ]
    },
    {
     "name": "stdout",
     "output_type": "stream",
     "text": [
      "                   all        250       2831      0.875      0.873      0.929      0.621\n"
     ]
    },
    {
     "name": "stderr",
     "output_type": "stream",
     "text": [
      "\n"
     ]
    },
    {
     "name": "stdout",
     "output_type": "stream",
     "text": [
      "\n",
      "      Epoch    GPU_mem   box_loss   cls_loss   dfl_loss  Instances       Size\n"
     ]
    },
    {
     "name": "stderr",
     "output_type": "stream",
     "text": [
      "   198/1000      2.68G      1.047     0.5496       1.03         62        640: 100%|██████████| 74/74 [00:09<00:00,  7.98it/s]\n",
      "                 Class     Images  Instances      Box(P          R      mAP50  mAP50-95): 100%|██████████| 8/8 [00:01<00:00,  6.22it/s]"
     ]
    },
    {
     "name": "stdout",
     "output_type": "stream",
     "text": [
      "                   all        250       2831      0.897      0.848      0.925      0.616\n"
     ]
    },
    {
     "name": "stderr",
     "output_type": "stream",
     "text": [
      "\n"
     ]
    },
    {
     "name": "stdout",
     "output_type": "stream",
     "text": [
      "\n",
      "      Epoch    GPU_mem   box_loss   cls_loss   dfl_loss  Instances       Size\n"
     ]
    },
    {
     "name": "stderr",
     "output_type": "stream",
     "text": [
      "   199/1000      3.61G      1.043     0.5484      1.033         58        640: 100%|██████████| 74/74 [00:08<00:00,  8.26it/s]\n",
      "                 Class     Images  Instances      Box(P          R      mAP50  mAP50-95): 100%|██████████| 8/8 [00:01<00:00,  6.04it/s]"
     ]
    },
    {
     "name": "stdout",
     "output_type": "stream",
     "text": [
      "                   all        250       2831      0.898       0.85      0.926      0.616\n"
     ]
    },
    {
     "name": "stderr",
     "output_type": "stream",
     "text": [
      "\n"
     ]
    },
    {
     "name": "stdout",
     "output_type": "stream",
     "text": [
      "\n",
      "      Epoch    GPU_mem   box_loss   cls_loss   dfl_loss  Instances       Size\n"
     ]
    },
    {
     "name": "stderr",
     "output_type": "stream",
     "text": [
      "   200/1000      2.73G       1.05     0.5572      1.033         24        640: 100%|██████████| 74/74 [00:09<00:00,  8.11it/s]\n",
      "                 Class     Images  Instances      Box(P          R      mAP50  mAP50-95): 100%|██████████| 8/8 [00:01<00:00,  5.21it/s]"
     ]
    },
    {
     "name": "stdout",
     "output_type": "stream",
     "text": [
      "                   all        250       2831      0.887      0.865      0.931      0.623\n"
     ]
    },
    {
     "name": "stderr",
     "output_type": "stream",
     "text": [
      "\n"
     ]
    },
    {
     "name": "stdout",
     "output_type": "stream",
     "text": [
      "\n",
      "      Epoch    GPU_mem   box_loss   cls_loss   dfl_loss  Instances       Size\n"
     ]
    },
    {
     "name": "stderr",
     "output_type": "stream",
     "text": [
      "   201/1000      2.95G      1.042     0.5457      1.027         29        640: 100%|██████████| 74/74 [00:09<00:00,  7.53it/s]\n",
      "                 Class     Images  Instances      Box(P          R      mAP50  mAP50-95): 100%|██████████| 8/8 [00:01<00:00,  5.64it/s]"
     ]
    },
    {
     "name": "stdout",
     "output_type": "stream",
     "text": [
      "                   all        250       2831       0.89       0.86       0.93      0.622\n"
     ]
    },
    {
     "name": "stderr",
     "output_type": "stream",
     "text": [
      "\n"
     ]
    },
    {
     "name": "stdout",
     "output_type": "stream",
     "text": [
      "\n",
      "      Epoch    GPU_mem   box_loss   cls_loss   dfl_loss  Instances       Size\n"
     ]
    },
    {
     "name": "stderr",
     "output_type": "stream",
     "text": [
      "   202/1000      2.97G      1.035     0.5488      1.028         49        640: 100%|██████████| 74/74 [00:09<00:00,  8.19it/s]\n",
      "                 Class     Images  Instances      Box(P          R      mAP50  mAP50-95): 100%|██████████| 8/8 [00:01<00:00,  6.36it/s]"
     ]
    },
    {
     "name": "stdout",
     "output_type": "stream",
     "text": [
      "                   all        250       2831      0.893      0.852      0.927      0.619\n"
     ]
    },
    {
     "name": "stderr",
     "output_type": "stream",
     "text": [
      "\n"
     ]
    },
    {
     "name": "stdout",
     "output_type": "stream",
     "text": [
      "\n",
      "      Epoch    GPU_mem   box_loss   cls_loss   dfl_loss  Instances       Size\n"
     ]
    },
    {
     "name": "stderr",
     "output_type": "stream",
     "text": [
      "   203/1000      3.11G      1.038     0.5427      1.027         18        640: 100%|██████████| 74/74 [00:08<00:00,  8.39it/s]\n",
      "                 Class     Images  Instances      Box(P          R      mAP50  mAP50-95): 100%|██████████| 8/8 [00:01<00:00,  6.26it/s]"
     ]
    },
    {
     "name": "stdout",
     "output_type": "stream",
     "text": [
      "                   all        250       2831      0.892      0.862      0.929      0.619\n"
     ]
    },
    {
     "name": "stderr",
     "output_type": "stream",
     "text": [
      "\n"
     ]
    },
    {
     "name": "stdout",
     "output_type": "stream",
     "text": [
      "\n",
      "      Epoch    GPU_mem   box_loss   cls_loss   dfl_loss  Instances       Size\n"
     ]
    },
    {
     "name": "stderr",
     "output_type": "stream",
     "text": [
      "   204/1000      2.91G      1.027     0.5397      1.023         44        640: 100%|██████████| 74/74 [00:08<00:00,  8.41it/s]\n",
      "                 Class     Images  Instances      Box(P          R      mAP50  mAP50-95): 100%|██████████| 8/8 [00:01<00:00,  6.27it/s]"
     ]
    },
    {
     "name": "stdout",
     "output_type": "stream",
     "text": [
      "                   all        250       2831      0.895      0.847      0.922      0.609\n"
     ]
    },
    {
     "name": "stderr",
     "output_type": "stream",
     "text": [
      "\n"
     ]
    },
    {
     "name": "stdout",
     "output_type": "stream",
     "text": [
      "\n",
      "      Epoch    GPU_mem   box_loss   cls_loss   dfl_loss  Instances       Size\n"
     ]
    },
    {
     "name": "stderr",
     "output_type": "stream",
     "text": [
      "   205/1000      2.98G      1.029       0.54       1.03         18        640: 100%|██████████| 74/74 [00:08<00:00,  8.47it/s]\n",
      "                 Class     Images  Instances      Box(P          R      mAP50  mAP50-95): 100%|██████████| 8/8 [00:01<00:00,  6.19it/s]"
     ]
    },
    {
     "name": "stdout",
     "output_type": "stream",
     "text": [
      "                   all        250       2831       0.88      0.859      0.926      0.619\n"
     ]
    },
    {
     "name": "stderr",
     "output_type": "stream",
     "text": [
      "\n"
     ]
    },
    {
     "name": "stdout",
     "output_type": "stream",
     "text": [
      "\n",
      "      Epoch    GPU_mem   box_loss   cls_loss   dfl_loss  Instances       Size\n"
     ]
    },
    {
     "name": "stderr",
     "output_type": "stream",
     "text": [
      "   206/1000      3.03G      1.033     0.5414      1.026         16        640: 100%|██████████| 74/74 [00:09<00:00,  8.03it/s]\n",
      "                 Class     Images  Instances      Box(P          R      mAP50  mAP50-95): 100%|██████████| 8/8 [00:01<00:00,  6.04it/s]"
     ]
    },
    {
     "name": "stdout",
     "output_type": "stream",
     "text": [
      "                   all        250       2831      0.895      0.855      0.931      0.616\n"
     ]
    },
    {
     "name": "stderr",
     "output_type": "stream",
     "text": [
      "\n"
     ]
    },
    {
     "name": "stdout",
     "output_type": "stream",
     "text": [
      "\n",
      "      Epoch    GPU_mem   box_loss   cls_loss   dfl_loss  Instances       Size\n"
     ]
    },
    {
     "name": "stderr",
     "output_type": "stream",
     "text": [
      "   207/1000      2.97G      1.026     0.5431      1.025         15        640: 100%|██████████| 74/74 [00:08<00:00,  8.40it/s]\n",
      "                 Class     Images  Instances      Box(P          R      mAP50  mAP50-95): 100%|██████████| 8/8 [00:01<00:00,  6.23it/s]"
     ]
    },
    {
     "name": "stdout",
     "output_type": "stream",
     "text": [
      "                   all        250       2831      0.899      0.865      0.934       0.62\n"
     ]
    },
    {
     "name": "stderr",
     "output_type": "stream",
     "text": [
      "\n"
     ]
    },
    {
     "name": "stdout",
     "output_type": "stream",
     "text": [
      "\n",
      "      Epoch    GPU_mem   box_loss   cls_loss   dfl_loss  Instances       Size\n"
     ]
    },
    {
     "name": "stderr",
     "output_type": "stream",
     "text": [
      "   208/1000      2.61G      1.036     0.5461       1.03         31        640: 100%|██████████| 74/74 [00:08<00:00,  8.41it/s]\n",
      "                 Class     Images  Instances      Box(P          R      mAP50  mAP50-95): 100%|██████████| 8/8 [00:01<00:00,  6.15it/s]"
     ]
    },
    {
     "name": "stdout",
     "output_type": "stream",
     "text": [
      "                   all        250       2831      0.897      0.854      0.931      0.617\n"
     ]
    },
    {
     "name": "stderr",
     "output_type": "stream",
     "text": [
      "\n"
     ]
    },
    {
     "name": "stdout",
     "output_type": "stream",
     "text": [
      "\n",
      "      Epoch    GPU_mem   box_loss   cls_loss   dfl_loss  Instances       Size\n"
     ]
    },
    {
     "name": "stderr",
     "output_type": "stream",
     "text": [
      "   209/1000      2.98G      1.046     0.5516       1.04         10        640: 100%|██████████| 74/74 [00:08<00:00,  8.38it/s]\n",
      "                 Class     Images  Instances      Box(P          R      mAP50  mAP50-95): 100%|██████████| 8/8 [00:01<00:00,  6.14it/s]"
     ]
    },
    {
     "name": "stdout",
     "output_type": "stream",
     "text": [
      "                   all        250       2831      0.889      0.858      0.931      0.621\n"
     ]
    },
    {
     "name": "stderr",
     "output_type": "stream",
     "text": [
      "\n"
     ]
    },
    {
     "name": "stdout",
     "output_type": "stream",
     "text": [
      "\n",
      "      Epoch    GPU_mem   box_loss   cls_loss   dfl_loss  Instances       Size\n"
     ]
    },
    {
     "name": "stderr",
     "output_type": "stream",
     "text": [
      "   210/1000      3.07G      1.026     0.5411      1.029         30        640: 100%|██████████| 74/74 [00:08<00:00,  8.26it/s]\n",
      "                 Class     Images  Instances      Box(P          R      mAP50  mAP50-95): 100%|██████████| 8/8 [00:01<00:00,  6.38it/s]"
     ]
    },
    {
     "name": "stdout",
     "output_type": "stream",
     "text": [
      "                   all        250       2831      0.887       0.87      0.933      0.617\n"
     ]
    },
    {
     "name": "stderr",
     "output_type": "stream",
     "text": [
      "\n"
     ]
    },
    {
     "name": "stdout",
     "output_type": "stream",
     "text": [
      "\n",
      "      Epoch    GPU_mem   box_loss   cls_loss   dfl_loss  Instances       Size\n"
     ]
    },
    {
     "name": "stderr",
     "output_type": "stream",
     "text": [
      "   211/1000      2.99G      1.033     0.5476      1.031         26        640: 100%|██████████| 74/74 [00:08<00:00,  8.33it/s]\n",
      "                 Class     Images  Instances      Box(P          R      mAP50  mAP50-95): 100%|██████████| 8/8 [00:01<00:00,  6.25it/s]"
     ]
    },
    {
     "name": "stdout",
     "output_type": "stream",
     "text": [
      "                   all        250       2831      0.886      0.873      0.931      0.619\n"
     ]
    },
    {
     "name": "stderr",
     "output_type": "stream",
     "text": [
      "\n"
     ]
    },
    {
     "name": "stdout",
     "output_type": "stream",
     "text": [
      "\n",
      "      Epoch    GPU_mem   box_loss   cls_loss   dfl_loss  Instances       Size\n"
     ]
    },
    {
     "name": "stderr",
     "output_type": "stream",
     "text": [
      "   212/1000      2.94G      1.039     0.5467      1.037         18        640: 100%|██████████| 74/74 [00:08<00:00,  8.37it/s]\n",
      "                 Class     Images  Instances      Box(P          R      mAP50  mAP50-95): 100%|██████████| 8/8 [00:01<00:00,  6.38it/s]"
     ]
    },
    {
     "name": "stdout",
     "output_type": "stream",
     "text": [
      "                   all        250       2831      0.898      0.858      0.929      0.621\n"
     ]
    },
    {
     "name": "stderr",
     "output_type": "stream",
     "text": [
      "\n"
     ]
    },
    {
     "name": "stdout",
     "output_type": "stream",
     "text": [
      "\n",
      "      Epoch    GPU_mem   box_loss   cls_loss   dfl_loss  Instances       Size\n"
     ]
    },
    {
     "name": "stderr",
     "output_type": "stream",
     "text": [
      "   213/1000      2.82G      1.029     0.5425      1.028         14        640: 100%|██████████| 74/74 [00:08<00:00,  8.36it/s]\n",
      "                 Class     Images  Instances      Box(P          R      mAP50  mAP50-95): 100%|██████████| 8/8 [00:01<00:00,  6.36it/s]"
     ]
    },
    {
     "name": "stdout",
     "output_type": "stream",
     "text": [
      "                   all        250       2831      0.882      0.862      0.926       0.61\n"
     ]
    },
    {
     "name": "stderr",
     "output_type": "stream",
     "text": [
      "\n"
     ]
    },
    {
     "name": "stdout",
     "output_type": "stream",
     "text": [
      "\n",
      "      Epoch    GPU_mem   box_loss   cls_loss   dfl_loss  Instances       Size\n"
     ]
    },
    {
     "name": "stderr",
     "output_type": "stream",
     "text": [
      "   214/1000      2.67G      1.021     0.5332      1.021         43        640: 100%|██████████| 74/74 [00:08<00:00,  8.27it/s]\n",
      "                 Class     Images  Instances      Box(P          R      mAP50  mAP50-95): 100%|██████████| 8/8 [00:01<00:00,  6.45it/s]"
     ]
    },
    {
     "name": "stdout",
     "output_type": "stream",
     "text": [
      "                   all        250       2831      0.888      0.869       0.93      0.618\n"
     ]
    },
    {
     "name": "stderr",
     "output_type": "stream",
     "text": [
      "\n"
     ]
    },
    {
     "name": "stdout",
     "output_type": "stream",
     "text": [
      "\n",
      "      Epoch    GPU_mem   box_loss   cls_loss   dfl_loss  Instances       Size\n"
     ]
    },
    {
     "name": "stderr",
     "output_type": "stream",
     "text": [
      "   215/1000      2.79G      1.023     0.5397      1.022         33        640: 100%|██████████| 74/74 [00:08<00:00,  8.33it/s]\n",
      "                 Class     Images  Instances      Box(P          R      mAP50  mAP50-95): 100%|██████████| 8/8 [00:01<00:00,  6.44it/s]"
     ]
    },
    {
     "name": "stdout",
     "output_type": "stream",
     "text": [
      "                   all        250       2831      0.893      0.859       0.93       0.62\n"
     ]
    },
    {
     "name": "stderr",
     "output_type": "stream",
     "text": [
      "\n"
     ]
    },
    {
     "name": "stdout",
     "output_type": "stream",
     "text": [
      "\n",
      "      Epoch    GPU_mem   box_loss   cls_loss   dfl_loss  Instances       Size\n"
     ]
    },
    {
     "name": "stderr",
     "output_type": "stream",
     "text": [
      "   216/1000         3G      1.026     0.5429       1.03         13        640: 100%|██████████| 74/74 [00:08<00:00,  8.39it/s]\n",
      "                 Class     Images  Instances      Box(P          R      mAP50  mAP50-95): 100%|██████████| 8/8 [00:01<00:00,  6.44it/s]"
     ]
    },
    {
     "name": "stdout",
     "output_type": "stream",
     "text": [
      "                   all        250       2831      0.905      0.853       0.93       0.62\n"
     ]
    },
    {
     "name": "stderr",
     "output_type": "stream",
     "text": [
      "\n"
     ]
    },
    {
     "name": "stdout",
     "output_type": "stream",
     "text": [
      "\n",
      "      Epoch    GPU_mem   box_loss   cls_loss   dfl_loss  Instances       Size\n"
     ]
    },
    {
     "name": "stderr",
     "output_type": "stream",
     "text": [
      "   217/1000      2.73G      1.033     0.5389      1.024         21        640: 100%|██████████| 74/74 [00:08<00:00,  8.32it/s]\n",
      "                 Class     Images  Instances      Box(P          R      mAP50  mAP50-95): 100%|██████████| 8/8 [00:01<00:00,  6.43it/s]"
     ]
    },
    {
     "name": "stdout",
     "output_type": "stream",
     "text": [
      "                   all        250       2831      0.894      0.852      0.926      0.617\n"
     ]
    },
    {
     "name": "stderr",
     "output_type": "stream",
     "text": [
      "\n"
     ]
    },
    {
     "name": "stdout",
     "output_type": "stream",
     "text": [
      "\n",
      "      Epoch    GPU_mem   box_loss   cls_loss   dfl_loss  Instances       Size\n"
     ]
    },
    {
     "name": "stderr",
     "output_type": "stream",
     "text": [
      "   218/1000      2.93G      1.023     0.5348      1.024         36        640: 100%|██████████| 74/74 [00:08<00:00,  8.39it/s]\n",
      "                 Class     Images  Instances      Box(P          R      mAP50  mAP50-95): 100%|██████████| 8/8 [00:01<00:00,  6.40it/s]"
     ]
    },
    {
     "name": "stdout",
     "output_type": "stream",
     "text": [
      "                   all        250       2831      0.895      0.852      0.927      0.622\n"
     ]
    },
    {
     "name": "stderr",
     "output_type": "stream",
     "text": [
      "\n"
     ]
    },
    {
     "name": "stdout",
     "output_type": "stream",
     "text": [
      "\n",
      "      Epoch    GPU_mem   box_loss   cls_loss   dfl_loss  Instances       Size\n"
     ]
    },
    {
     "name": "stderr",
     "output_type": "stream",
     "text": [
      "   219/1000      3.05G      1.032     0.5459      1.029         17        640: 100%|██████████| 74/74 [00:08<00:00,  8.29it/s]\n",
      "                 Class     Images  Instances      Box(P          R      mAP50  mAP50-95): 100%|██████████| 8/8 [00:01<00:00,  6.29it/s]"
     ]
    },
    {
     "name": "stdout",
     "output_type": "stream",
     "text": [
      "                   all        250       2831      0.895      0.856      0.929      0.616\n"
     ]
    },
    {
     "name": "stderr",
     "output_type": "stream",
     "text": [
      "\n"
     ]
    },
    {
     "name": "stdout",
     "output_type": "stream",
     "text": [
      "\n",
      "      Epoch    GPU_mem   box_loss   cls_loss   dfl_loss  Instances       Size\n"
     ]
    },
    {
     "name": "stderr",
     "output_type": "stream",
     "text": [
      "   220/1000      2.89G      1.026     0.5366      1.025         21        640: 100%|██████████| 74/74 [00:08<00:00,  8.41it/s]\n",
      "                 Class     Images  Instances      Box(P          R      mAP50  mAP50-95): 100%|██████████| 8/8 [00:01<00:00,  6.30it/s]"
     ]
    },
    {
     "name": "stdout",
     "output_type": "stream",
     "text": [
      "                   all        250       2831      0.901       0.86      0.932      0.623\n"
     ]
    },
    {
     "name": "stderr",
     "output_type": "stream",
     "text": [
      "\n"
     ]
    },
    {
     "name": "stdout",
     "output_type": "stream",
     "text": [
      "\n",
      "      Epoch    GPU_mem   box_loss   cls_loss   dfl_loss  Instances       Size\n"
     ]
    },
    {
     "name": "stderr",
     "output_type": "stream",
     "text": [
      "   221/1000      3.16G      1.012      0.532      1.021          9        640: 100%|██████████| 74/74 [00:08<00:00,  8.32it/s]\n",
      "                 Class     Images  Instances      Box(P          R      mAP50  mAP50-95): 100%|██████████| 8/8 [00:01<00:00,  6.31it/s]"
     ]
    },
    {
     "name": "stdout",
     "output_type": "stream",
     "text": [
      "                   all        250       2831      0.889      0.862       0.93      0.624\n"
     ]
    },
    {
     "name": "stderr",
     "output_type": "stream",
     "text": [
      "\n"
     ]
    },
    {
     "name": "stdout",
     "output_type": "stream",
     "text": [
      "\n",
      "      Epoch    GPU_mem   box_loss   cls_loss   dfl_loss  Instances       Size\n"
     ]
    },
    {
     "name": "stderr",
     "output_type": "stream",
     "text": [
      "   222/1000      2.74G      1.022     0.5368      1.027         20        640: 100%|██████████| 74/74 [00:08<00:00,  8.48it/s]\n",
      "                 Class     Images  Instances      Box(P          R      mAP50  mAP50-95): 100%|██████████| 8/8 [00:01<00:00,  6.47it/s]"
     ]
    },
    {
     "name": "stdout",
     "output_type": "stream",
     "text": [
      "                   all        250       2831      0.904      0.853      0.933       0.62\n"
     ]
    },
    {
     "name": "stderr",
     "output_type": "stream",
     "text": [
      "\n"
     ]
    },
    {
     "name": "stdout",
     "output_type": "stream",
     "text": [
      "\n",
      "      Epoch    GPU_mem   box_loss   cls_loss   dfl_loss  Instances       Size\n"
     ]
    },
    {
     "name": "stderr",
     "output_type": "stream",
     "text": [
      "   223/1000      2.97G       1.02     0.5331      1.031         20        640: 100%|██████████| 74/74 [00:08<00:00,  8.38it/s]\n",
      "                 Class     Images  Instances      Box(P          R      mAP50  mAP50-95): 100%|██████████| 8/8 [00:01<00:00,  6.46it/s]"
     ]
    },
    {
     "name": "stdout",
     "output_type": "stream",
     "text": [
      "                   all        250       2831      0.905      0.857      0.929      0.622\n"
     ]
    },
    {
     "name": "stderr",
     "output_type": "stream",
     "text": [
      "\n"
     ]
    },
    {
     "name": "stdout",
     "output_type": "stream",
     "text": [
      "\n",
      "      Epoch    GPU_mem   box_loss   cls_loss   dfl_loss  Instances       Size\n"
     ]
    },
    {
     "name": "stderr",
     "output_type": "stream",
     "text": [
      "   224/1000      3.03G      1.013      0.535      1.016         12        640: 100%|██████████| 74/74 [00:08<00:00,  8.40it/s]\n",
      "                 Class     Images  Instances      Box(P          R      mAP50  mAP50-95): 100%|██████████| 8/8 [00:01<00:00,  6.25it/s]"
     ]
    },
    {
     "name": "stdout",
     "output_type": "stream",
     "text": [
      "                   all        250       2831      0.901      0.849      0.929      0.619\n"
     ]
    },
    {
     "name": "stderr",
     "output_type": "stream",
     "text": [
      "\n"
     ]
    },
    {
     "name": "stdout",
     "output_type": "stream",
     "text": [
      "\n",
      "      Epoch    GPU_mem   box_loss   cls_loss   dfl_loss  Instances       Size\n"
     ]
    },
    {
     "name": "stderr",
     "output_type": "stream",
     "text": [
      "   225/1000      3.24G      1.008     0.5283      1.015         25        640: 100%|██████████| 74/74 [00:08<00:00,  8.39it/s]\n",
      "                 Class     Images  Instances      Box(P          R      mAP50  mAP50-95): 100%|██████████| 8/8 [00:01<00:00,  6.49it/s]"
     ]
    },
    {
     "name": "stdout",
     "output_type": "stream",
     "text": [
      "                   all        250       2831      0.886      0.868      0.927      0.619\n"
     ]
    },
    {
     "name": "stderr",
     "output_type": "stream",
     "text": [
      "\n"
     ]
    },
    {
     "name": "stdout",
     "output_type": "stream",
     "text": [
      "\n",
      "      Epoch    GPU_mem   box_loss   cls_loss   dfl_loss  Instances       Size\n"
     ]
    },
    {
     "name": "stderr",
     "output_type": "stream",
     "text": [
      "   226/1000       2.8G      1.027     0.5413      1.025         44        640: 100%|██████████| 74/74 [00:08<00:00,  8.35it/s]\n",
      "                 Class     Images  Instances      Box(P          R      mAP50  mAP50-95): 100%|██████████| 8/8 [00:01<00:00,  6.21it/s]"
     ]
    },
    {
     "name": "stdout",
     "output_type": "stream",
     "text": [
      "                   all        250       2831      0.892      0.864       0.93      0.616\n"
     ]
    },
    {
     "name": "stderr",
     "output_type": "stream",
     "text": [
      "\n"
     ]
    },
    {
     "name": "stdout",
     "output_type": "stream",
     "text": [
      "\n",
      "      Epoch    GPU_mem   box_loss   cls_loss   dfl_loss  Instances       Size\n"
     ]
    },
    {
     "name": "stderr",
     "output_type": "stream",
     "text": [
      "   227/1000      3.07G      1.018     0.5356      1.018         10        640: 100%|██████████| 74/74 [00:08<00:00,  8.41it/s]\n",
      "                 Class     Images  Instances      Box(P          R      mAP50  mAP50-95): 100%|██████████| 8/8 [00:01<00:00,  6.37it/s]"
     ]
    },
    {
     "name": "stdout",
     "output_type": "stream",
     "text": [
      "                   all        250       2831      0.886      0.868       0.93      0.619\n"
     ]
    },
    {
     "name": "stderr",
     "output_type": "stream",
     "text": [
      "\n"
     ]
    },
    {
     "name": "stdout",
     "output_type": "stream",
     "text": [
      "\n",
      "      Epoch    GPU_mem   box_loss   cls_loss   dfl_loss  Instances       Size\n"
     ]
    },
    {
     "name": "stderr",
     "output_type": "stream",
     "text": [
      "   228/1000      3.03G      1.022      0.541      1.026         18        640: 100%|██████████| 74/74 [00:08<00:00,  8.32it/s]\n",
      "                 Class     Images  Instances      Box(P          R      mAP50  mAP50-95): 100%|██████████| 8/8 [00:01<00:00,  6.34it/s]"
     ]
    },
    {
     "name": "stdout",
     "output_type": "stream",
     "text": [
      "                   all        250       2831      0.895      0.857      0.926      0.619\n"
     ]
    },
    {
     "name": "stderr",
     "output_type": "stream",
     "text": [
      "\n"
     ]
    },
    {
     "name": "stdout",
     "output_type": "stream",
     "text": [
      "\n",
      "      Epoch    GPU_mem   box_loss   cls_loss   dfl_loss  Instances       Size\n"
     ]
    },
    {
     "name": "stderr",
     "output_type": "stream",
     "text": [
      "   229/1000      2.93G       1.02     0.5292      1.023         25        640: 100%|██████████| 74/74 [00:08<00:00,  8.47it/s]\n",
      "                 Class     Images  Instances      Box(P          R      mAP50  mAP50-95): 100%|██████████| 8/8 [00:01<00:00,  6.33it/s]"
     ]
    },
    {
     "name": "stdout",
     "output_type": "stream",
     "text": [
      "                   all        250       2831      0.895      0.854      0.928       0.62\n"
     ]
    },
    {
     "name": "stderr",
     "output_type": "stream",
     "text": [
      "\n"
     ]
    },
    {
     "name": "stdout",
     "output_type": "stream",
     "text": [
      "\n",
      "      Epoch    GPU_mem   box_loss   cls_loss   dfl_loss  Instances       Size\n"
     ]
    },
    {
     "name": "stderr",
     "output_type": "stream",
     "text": [
      "   230/1000      2.81G      1.012     0.5358      1.021         13        640: 100%|██████████| 74/74 [00:08<00:00,  8.28it/s]\n",
      "                 Class     Images  Instances      Box(P          R      mAP50  mAP50-95): 100%|██████████| 8/8 [00:01<00:00,  6.32it/s]"
     ]
    },
    {
     "name": "stdout",
     "output_type": "stream",
     "text": [
      "                   all        250       2831      0.896      0.853      0.928       0.62\n"
     ]
    },
    {
     "name": "stderr",
     "output_type": "stream",
     "text": [
      "\n"
     ]
    },
    {
     "name": "stdout",
     "output_type": "stream",
     "text": [
      "\n",
      "      Epoch    GPU_mem   box_loss   cls_loss   dfl_loss  Instances       Size\n"
     ]
    },
    {
     "name": "stderr",
     "output_type": "stream",
     "text": [
      "   231/1000      2.56G      1.005     0.5287      1.015         15        640: 100%|██████████| 74/74 [00:08<00:00,  8.47it/s]\n",
      "                 Class     Images  Instances      Box(P          R      mAP50  mAP50-95): 100%|██████████| 8/8 [00:01<00:00,  6.33it/s]"
     ]
    },
    {
     "name": "stdout",
     "output_type": "stream",
     "text": [
      "                   all        250       2831      0.893      0.865       0.93      0.618\n"
     ]
    },
    {
     "name": "stderr",
     "output_type": "stream",
     "text": [
      "\n"
     ]
    },
    {
     "name": "stdout",
     "output_type": "stream",
     "text": [
      "\n",
      "      Epoch    GPU_mem   box_loss   cls_loss   dfl_loss  Instances       Size\n"
     ]
    },
    {
     "name": "stderr",
     "output_type": "stream",
     "text": [
      "   232/1000      2.69G      1.033     0.5387      1.024         27        640: 100%|██████████| 74/74 [00:08<00:00,  8.51it/s]\n",
      "                 Class     Images  Instances      Box(P          R      mAP50  mAP50-95): 100%|██████████| 8/8 [00:01<00:00,  6.48it/s]"
     ]
    },
    {
     "name": "stdout",
     "output_type": "stream",
     "text": [
      "                   all        250       2831      0.906      0.842      0.927      0.619\n"
     ]
    },
    {
     "name": "stderr",
     "output_type": "stream",
     "text": [
      "\n"
     ]
    },
    {
     "name": "stdout",
     "output_type": "stream",
     "text": [
      "\n",
      "      Epoch    GPU_mem   box_loss   cls_loss   dfl_loss  Instances       Size\n"
     ]
    },
    {
     "name": "stderr",
     "output_type": "stream",
     "text": [
      "   233/1000      2.67G      1.016     0.5279      1.018         31        640: 100%|██████████| 74/74 [00:08<00:00,  8.45it/s]\n",
      "                 Class     Images  Instances      Box(P          R      mAP50  mAP50-95): 100%|██████████| 8/8 [00:01<00:00,  6.46it/s]"
     ]
    },
    {
     "name": "stdout",
     "output_type": "stream",
     "text": [
      "                   all        250       2831      0.912      0.842      0.929      0.616\n"
     ]
    },
    {
     "name": "stderr",
     "output_type": "stream",
     "text": [
      "\n"
     ]
    },
    {
     "name": "stdout",
     "output_type": "stream",
     "text": [
      "\n",
      "      Epoch    GPU_mem   box_loss   cls_loss   dfl_loss  Instances       Size\n"
     ]
    },
    {
     "name": "stderr",
     "output_type": "stream",
     "text": [
      "   234/1000      3.03G      1.011     0.5287      1.019         38        640: 100%|██████████| 74/74 [00:08<00:00,  8.44it/s]\n",
      "                 Class     Images  Instances      Box(P          R      mAP50  mAP50-95): 100%|██████████| 8/8 [00:01<00:00,  6.48it/s]"
     ]
    },
    {
     "name": "stdout",
     "output_type": "stream",
     "text": [
      "                   all        250       2831      0.903      0.861      0.933      0.626\n"
     ]
    },
    {
     "name": "stderr",
     "output_type": "stream",
     "text": [
      "\n"
     ]
    },
    {
     "name": "stdout",
     "output_type": "stream",
     "text": [
      "\n",
      "      Epoch    GPU_mem   box_loss   cls_loss   dfl_loss  Instances       Size\n"
     ]
    },
    {
     "name": "stderr",
     "output_type": "stream",
     "text": [
      "   235/1000      2.92G      1.002     0.5243      1.017         36        640: 100%|██████████| 74/74 [00:08<00:00,  8.43it/s]\n",
      "                 Class     Images  Instances      Box(P          R      mAP50  mAP50-95): 100%|██████████| 8/8 [00:01<00:00,  6.34it/s]"
     ]
    },
    {
     "name": "stdout",
     "output_type": "stream",
     "text": [
      "                   all        250       2831      0.905      0.844      0.926      0.615\n"
     ]
    },
    {
     "name": "stderr",
     "output_type": "stream",
     "text": [
      "\n"
     ]
    },
    {
     "name": "stdout",
     "output_type": "stream",
     "text": [
      "\n",
      "      Epoch    GPU_mem   box_loss   cls_loss   dfl_loss  Instances       Size\n"
     ]
    },
    {
     "name": "stderr",
     "output_type": "stream",
     "text": [
      "   236/1000      3.69G      1.007     0.5277      1.017         46        640: 100%|██████████| 74/74 [00:08<00:00,  8.35it/s]\n",
      "                 Class     Images  Instances      Box(P          R      mAP50  mAP50-95): 100%|██████████| 8/8 [00:01<00:00,  6.47it/s]"
     ]
    },
    {
     "name": "stdout",
     "output_type": "stream",
     "text": [
      "                   all        250       2831        0.9      0.855      0.929      0.619\n"
     ]
    },
    {
     "name": "stderr",
     "output_type": "stream",
     "text": [
      "\n"
     ]
    },
    {
     "name": "stdout",
     "output_type": "stream",
     "text": [
      "\n",
      "      Epoch    GPU_mem   box_loss   cls_loss   dfl_loss  Instances       Size\n"
     ]
    },
    {
     "name": "stderr",
     "output_type": "stream",
     "text": [
      "   237/1000      2.72G      1.014     0.5269       1.02         23        640: 100%|██████████| 74/74 [00:08<00:00,  8.47it/s]\n",
      "                 Class     Images  Instances      Box(P          R      mAP50  mAP50-95): 100%|██████████| 8/8 [00:01<00:00,  6.51it/s]"
     ]
    },
    {
     "name": "stdout",
     "output_type": "stream",
     "text": [
      "                   all        250       2831      0.899      0.856       0.93       0.62\n"
     ]
    },
    {
     "name": "stderr",
     "output_type": "stream",
     "text": [
      "\n"
     ]
    },
    {
     "name": "stdout",
     "output_type": "stream",
     "text": [
      "\n",
      "      Epoch    GPU_mem   box_loss   cls_loss   dfl_loss  Instances       Size\n"
     ]
    },
    {
     "name": "stderr",
     "output_type": "stream",
     "text": [
      "   238/1000      3.08G      1.013     0.5277      1.019         14        640: 100%|██████████| 74/74 [00:08<00:00,  8.45it/s]\n",
      "                 Class     Images  Instances      Box(P          R      mAP50  mAP50-95): 100%|██████████| 8/8 [00:01<00:00,  6.38it/s]"
     ]
    },
    {
     "name": "stdout",
     "output_type": "stream",
     "text": [
      "                   all        250       2831      0.898      0.856      0.927      0.616\n"
     ]
    },
    {
     "name": "stderr",
     "output_type": "stream",
     "text": [
      "\n"
     ]
    },
    {
     "name": "stdout",
     "output_type": "stream",
     "text": [
      "\n",
      "      Epoch    GPU_mem   box_loss   cls_loss   dfl_loss  Instances       Size\n"
     ]
    },
    {
     "name": "stderr",
     "output_type": "stream",
     "text": [
      "   239/1000       2.7G      1.014     0.5244      1.015         33        640: 100%|██████████| 74/74 [00:08<00:00,  8.41it/s]\n",
      "                 Class     Images  Instances      Box(P          R      mAP50  mAP50-95): 100%|██████████| 8/8 [00:01<00:00,  6.25it/s]"
     ]
    },
    {
     "name": "stdout",
     "output_type": "stream",
     "text": [
      "                   all        250       2831      0.895       0.86       0.93       0.62\n"
     ]
    },
    {
     "name": "stderr",
     "output_type": "stream",
     "text": [
      "\n"
     ]
    },
    {
     "name": "stdout",
     "output_type": "stream",
     "text": [
      "\n",
      "      Epoch    GPU_mem   box_loss   cls_loss   dfl_loss  Instances       Size\n"
     ]
    },
    {
     "name": "stderr",
     "output_type": "stream",
     "text": [
      "   240/1000      2.94G      1.019     0.5284       1.02         36        640: 100%|██████████| 74/74 [00:08<00:00,  8.45it/s]\n",
      "                 Class     Images  Instances      Box(P          R      mAP50  mAP50-95): 100%|██████████| 8/8 [00:01<00:00,  6.29it/s]"
     ]
    },
    {
     "name": "stdout",
     "output_type": "stream",
     "text": [
      "                   all        250       2831      0.902      0.856      0.929      0.617\n"
     ]
    },
    {
     "name": "stderr",
     "output_type": "stream",
     "text": [
      "\n"
     ]
    },
    {
     "name": "stdout",
     "output_type": "stream",
     "text": [
      "\n",
      "      Epoch    GPU_mem   box_loss   cls_loss   dfl_loss  Instances       Size\n"
     ]
    },
    {
     "name": "stderr",
     "output_type": "stream",
     "text": [
      "   241/1000      2.73G      1.005     0.5238      1.017         54        640: 100%|██████████| 74/74 [00:08<00:00,  8.48it/s]\n",
      "                 Class     Images  Instances      Box(P          R      mAP50  mAP50-95): 100%|██████████| 8/8 [00:01<00:00,  6.36it/s]"
     ]
    },
    {
     "name": "stdout",
     "output_type": "stream",
     "text": [
      "                   all        250       2831      0.902      0.857      0.926      0.614\n"
     ]
    },
    {
     "name": "stderr",
     "output_type": "stream",
     "text": [
      "\n"
     ]
    },
    {
     "name": "stdout",
     "output_type": "stream",
     "text": [
      "\n",
      "      Epoch    GPU_mem   box_loss   cls_loss   dfl_loss  Instances       Size\n"
     ]
    },
    {
     "name": "stderr",
     "output_type": "stream",
     "text": [
      "   242/1000      2.92G     0.9966      0.517      1.013         31        640: 100%|██████████| 74/74 [00:08<00:00,  8.43it/s]\n",
      "                 Class     Images  Instances      Box(P          R      mAP50  mAP50-95): 100%|██████████| 8/8 [00:01<00:00,  6.39it/s]"
     ]
    },
    {
     "name": "stdout",
     "output_type": "stream",
     "text": [
      "                   all        250       2831      0.894      0.852      0.926      0.618\n"
     ]
    },
    {
     "name": "stderr",
     "output_type": "stream",
     "text": [
      "\n"
     ]
    },
    {
     "name": "stdout",
     "output_type": "stream",
     "text": [
      "\n",
      "      Epoch    GPU_mem   box_loss   cls_loss   dfl_loss  Instances       Size\n"
     ]
    },
    {
     "name": "stderr",
     "output_type": "stream",
     "text": [
      "   243/1000      2.75G      1.013      0.527      1.018          4        640: 100%|██████████| 74/74 [00:08<00:00,  8.42it/s]\n",
      "                 Class     Images  Instances      Box(P          R      mAP50  mAP50-95): 100%|██████████| 8/8 [00:01<00:00,  6.27it/s]"
     ]
    },
    {
     "name": "stdout",
     "output_type": "stream",
     "text": [
      "                   all        250       2831      0.892      0.854      0.927      0.615\n"
     ]
    },
    {
     "name": "stderr",
     "output_type": "stream",
     "text": [
      "\n"
     ]
    },
    {
     "name": "stdout",
     "output_type": "stream",
     "text": [
      "\n",
      "      Epoch    GPU_mem   box_loss   cls_loss   dfl_loss  Instances       Size\n"
     ]
    },
    {
     "name": "stderr",
     "output_type": "stream",
     "text": [
      "   244/1000      2.66G     0.9941      0.515      1.007         28        640: 100%|██████████| 74/74 [00:09<00:00,  8.19it/s]\n",
      "                 Class     Images  Instances      Box(P          R      mAP50  mAP50-95): 100%|██████████| 8/8 [00:01<00:00,  6.36it/s]"
     ]
    },
    {
     "name": "stdout",
     "output_type": "stream",
     "text": [
      "                   all        250       2831      0.906      0.853      0.926      0.617\n"
     ]
    },
    {
     "name": "stderr",
     "output_type": "stream",
     "text": [
      "\n"
     ]
    },
    {
     "name": "stdout",
     "output_type": "stream",
     "text": [
      "\n",
      "      Epoch    GPU_mem   box_loss   cls_loss   dfl_loss  Instances       Size\n"
     ]
    },
    {
     "name": "stderr",
     "output_type": "stream",
     "text": [
      "   245/1000      2.83G     0.9949     0.5192      1.012         45        640: 100%|██████████| 74/74 [00:08<00:00,  8.42it/s]\n",
      "                 Class     Images  Instances      Box(P          R      mAP50  mAP50-95): 100%|██████████| 8/8 [00:01<00:00,  6.32it/s]"
     ]
    },
    {
     "name": "stdout",
     "output_type": "stream",
     "text": [
      "                   all        250       2831      0.903      0.857      0.932      0.619\n"
     ]
    },
    {
     "name": "stderr",
     "output_type": "stream",
     "text": [
      "\n"
     ]
    },
    {
     "name": "stdout",
     "output_type": "stream",
     "text": [
      "\n",
      "      Epoch    GPU_mem   box_loss   cls_loss   dfl_loss  Instances       Size\n"
     ]
    },
    {
     "name": "stderr",
     "output_type": "stream",
     "text": [
      "   246/1000      2.98G     0.9985     0.5172      1.006         49        640: 100%|██████████| 74/74 [00:08<00:00,  8.39it/s]\n",
      "                 Class     Images  Instances      Box(P          R      mAP50  mAP50-95): 100%|██████████| 8/8 [00:01<00:00,  6.32it/s]"
     ]
    },
    {
     "name": "stdout",
     "output_type": "stream",
     "text": [
      "                   all        250       2831      0.895      0.859       0.93      0.615\n"
     ]
    },
    {
     "name": "stderr",
     "output_type": "stream",
     "text": [
      "\n"
     ]
    },
    {
     "name": "stdout",
     "output_type": "stream",
     "text": [
      "\n",
      "      Epoch    GPU_mem   box_loss   cls_loss   dfl_loss  Instances       Size\n"
     ]
    },
    {
     "name": "stderr",
     "output_type": "stream",
     "text": [
      "   247/1000      2.88G      1.001     0.5196      1.013         12        640: 100%|██████████| 74/74 [00:08<00:00,  8.45it/s]\n",
      "                 Class     Images  Instances      Box(P          R      mAP50  mAP50-95): 100%|██████████| 8/8 [00:01<00:00,  6.21it/s]"
     ]
    },
    {
     "name": "stdout",
     "output_type": "stream",
     "text": [
      "                   all        250       2831      0.898      0.853      0.925      0.614\n"
     ]
    },
    {
     "name": "stderr",
     "output_type": "stream",
     "text": [
      "\n"
     ]
    },
    {
     "name": "stdout",
     "output_type": "stream",
     "text": [
      "\n",
      "      Epoch    GPU_mem   box_loss   cls_loss   dfl_loss  Instances       Size\n"
     ]
    },
    {
     "name": "stderr",
     "output_type": "stream",
     "text": [
      "   248/1000      2.98G     0.9889     0.5197      1.009         36        640: 100%|██████████| 74/74 [00:08<00:00,  8.43it/s]\n",
      "                 Class     Images  Instances      Box(P          R      mAP50  mAP50-95): 100%|██████████| 8/8 [00:01<00:00,  6.38it/s]"
     ]
    },
    {
     "name": "stdout",
     "output_type": "stream",
     "text": [
      "                   all        250       2831      0.911      0.838      0.923      0.614\n"
     ]
    },
    {
     "name": "stderr",
     "output_type": "stream",
     "text": [
      "\n"
     ]
    },
    {
     "name": "stdout",
     "output_type": "stream",
     "text": [
      "\n",
      "      Epoch    GPU_mem   box_loss   cls_loss   dfl_loss  Instances       Size\n"
     ]
    },
    {
     "name": "stderr",
     "output_type": "stream",
     "text": [
      "   249/1000      2.79G     0.9986     0.5204      1.014         20        640: 100%|██████████| 74/74 [00:08<00:00,  8.42it/s]\n",
      "                 Class     Images  Instances      Box(P          R      mAP50  mAP50-95): 100%|██████████| 8/8 [00:01<00:00,  6.40it/s]"
     ]
    },
    {
     "name": "stdout",
     "output_type": "stream",
     "text": [
      "                   all        250       2831      0.903      0.842      0.922      0.616\n"
     ]
    },
    {
     "name": "stderr",
     "output_type": "stream",
     "text": [
      "\n"
     ]
    },
    {
     "name": "stdout",
     "output_type": "stream",
     "text": [
      "\n",
      "      Epoch    GPU_mem   box_loss   cls_loss   dfl_loss  Instances       Size\n"
     ]
    },
    {
     "name": "stderr",
     "output_type": "stream",
     "text": [
      "   250/1000      2.84G      0.997     0.5214      1.013         23        640: 100%|██████████| 74/74 [00:08<00:00,  8.49it/s]\n",
      "                 Class     Images  Instances      Box(P          R      mAP50  mAP50-95): 100%|██████████| 8/8 [00:01<00:00,  6.42it/s]"
     ]
    },
    {
     "name": "stdout",
     "output_type": "stream",
     "text": [
      "                   all        250       2831      0.896       0.85      0.926       0.62\n"
     ]
    },
    {
     "name": "stderr",
     "output_type": "stream",
     "text": [
      "\n"
     ]
    },
    {
     "name": "stdout",
     "output_type": "stream",
     "text": [
      "\n",
      "      Epoch    GPU_mem   box_loss   cls_loss   dfl_loss  Instances       Size\n"
     ]
    },
    {
     "name": "stderr",
     "output_type": "stream",
     "text": [
      "   251/1000      3.38G       1.01     0.5265      1.013         16        640: 100%|██████████| 74/74 [00:09<00:00,  8.12it/s]\n",
      "                 Class     Images  Instances      Box(P          R      mAP50  mAP50-95): 100%|██████████| 8/8 [00:01<00:00,  6.36it/s]"
     ]
    },
    {
     "name": "stdout",
     "output_type": "stream",
     "text": [
      "                   all        250       2831      0.898      0.856      0.929       0.62\n"
     ]
    },
    {
     "name": "stderr",
     "output_type": "stream",
     "text": [
      "\n"
     ]
    },
    {
     "name": "stdout",
     "output_type": "stream",
     "text": [
      "\n",
      "      Epoch    GPU_mem   box_loss   cls_loss   dfl_loss  Instances       Size\n"
     ]
    },
    {
     "name": "stderr",
     "output_type": "stream",
     "text": [
      "   252/1000      3.06G      1.007     0.5222      1.013         28        640: 100%|██████████| 74/74 [00:08<00:00,  8.38it/s]\n",
      "                 Class     Images  Instances      Box(P          R      mAP50  mAP50-95): 100%|██████████| 8/8 [00:01<00:00,  6.46it/s]"
     ]
    },
    {
     "name": "stdout",
     "output_type": "stream",
     "text": [
      "                   all        250       2831      0.898      0.845      0.925      0.617\n",
      "\u001b[34m\u001b[1mEarlyStopping: \u001b[0mTraining stopped early as no improvement observed in last 100 epochs. Best results observed at epoch 152, best model saved as best.pt.\n",
      "To update EarlyStopping(patience=100) pass a new patience value, i.e. `patience=300` or use `patience=0` to disable EarlyStopping.\n"
     ]
    },
    {
     "name": "stderr",
     "output_type": "stream",
     "text": [
      "\n"
     ]
    },
    {
     "name": "stdout",
     "output_type": "stream",
     "text": [
      "\n",
      "252 epochs completed in 0.732 hours.\n",
      "Optimizer stripped from runs\\detect\\train\\weights\\last.pt, 5.6MB\n",
      "Optimizer stripped from runs\\detect\\train\\weights\\best.pt, 5.6MB\n",
      "\n",
      "Validating runs\\detect\\train\\weights\\best.pt...\n",
      "Ultralytics 8.3.15  Python-3.12.2 torch-2.5.0+cu118 CUDA:0 (NVIDIA GeForce RTX 4060, 8188MiB)\n",
      "Model summary (fused): 186 layers, 2,684,563 parameters, 0 gradients, 6.8 GFLOPs\n"
     ]
    },
    {
     "name": "stderr",
     "output_type": "stream",
     "text": [
      "                 Class     Images  Instances      Box(P          R      mAP50  mAP50-95): 100%|██████████| 8/8 [00:02<00:00,  3.48it/s]\n"
     ]
    },
    {
     "name": "stdout",
     "output_type": "stream",
     "text": [
      "                   all        250       2831      0.908       0.85      0.934      0.629\n",
      "Speed: 0.2ms preprocess, 1.5ms inference, 0.0ms loss, 1.1ms postprocess per image\n",
      "Results saved to \u001b[1mruns\\detect\\train\u001b[0m\n"
     ]
    },
    {
     "data": {
      "text/plain": [
       "ultralytics.utils.metrics.DetMetrics object with attributes:\n",
       "\n",
       "ap_class_index: array([0])\n",
       "box: ultralytics.utils.metrics.Metric object\n",
       "confusion_matrix: <ultralytics.utils.metrics.ConfusionMatrix object at 0x0000025F8A6FC800>\n",
       "curves: ['Precision-Recall(B)', 'F1-Confidence(B)', 'Precision-Confidence(B)', 'Recall-Confidence(B)']\n",
       "curves_results: [[array([          0,    0.001001,    0.002002,    0.003003,    0.004004,    0.005005,    0.006006,    0.007007,    0.008008,    0.009009,     0.01001,    0.011011,    0.012012,    0.013013,    0.014014,    0.015015,    0.016016,    0.017017,    0.018018,    0.019019,     0.02002,    0.021021,    0.022022,    0.023023,\n",
       "          0.024024,    0.025025,    0.026026,    0.027027,    0.028028,    0.029029,     0.03003,    0.031031,    0.032032,    0.033033,    0.034034,    0.035035,    0.036036,    0.037037,    0.038038,    0.039039,     0.04004,    0.041041,    0.042042,    0.043043,    0.044044,    0.045045,    0.046046,    0.047047,\n",
       "          0.048048,    0.049049,     0.05005,    0.051051,    0.052052,    0.053053,    0.054054,    0.055055,    0.056056,    0.057057,    0.058058,    0.059059,     0.06006,    0.061061,    0.062062,    0.063063,    0.064064,    0.065065,    0.066066,    0.067067,    0.068068,    0.069069,     0.07007,    0.071071,\n",
       "          0.072072,    0.073073,    0.074074,    0.075075,    0.076076,    0.077077,    0.078078,    0.079079,     0.08008,    0.081081,    0.082082,    0.083083,    0.084084,    0.085085,    0.086086,    0.087087,    0.088088,    0.089089,     0.09009,    0.091091,    0.092092,    0.093093,    0.094094,    0.095095,\n",
       "          0.096096,    0.097097,    0.098098,    0.099099,      0.1001,      0.1011,      0.1021,      0.1031,      0.1041,     0.10511,     0.10611,     0.10711,     0.10811,     0.10911,     0.11011,     0.11111,     0.11211,     0.11311,     0.11411,     0.11512,     0.11612,     0.11712,     0.11812,     0.11912,\n",
       "           0.12012,     0.12112,     0.12212,     0.12312,     0.12412,     0.12513,     0.12613,     0.12713,     0.12813,     0.12913,     0.13013,     0.13113,     0.13213,     0.13313,     0.13413,     0.13514,     0.13614,     0.13714,     0.13814,     0.13914,     0.14014,     0.14114,     0.14214,     0.14314,\n",
       "           0.14414,     0.14515,     0.14615,     0.14715,     0.14815,     0.14915,     0.15015,     0.15115,     0.15215,     0.15315,     0.15415,     0.15516,     0.15616,     0.15716,     0.15816,     0.15916,     0.16016,     0.16116,     0.16216,     0.16316,     0.16416,     0.16517,     0.16617,     0.16717,\n",
       "           0.16817,     0.16917,     0.17017,     0.17117,     0.17217,     0.17317,     0.17417,     0.17518,     0.17618,     0.17718,     0.17818,     0.17918,     0.18018,     0.18118,     0.18218,     0.18318,     0.18418,     0.18519,     0.18619,     0.18719,     0.18819,     0.18919,     0.19019,     0.19119,\n",
       "           0.19219,     0.19319,     0.19419,      0.1952,      0.1962,      0.1972,      0.1982,      0.1992,      0.2002,      0.2012,      0.2022,      0.2032,      0.2042,     0.20521,     0.20621,     0.20721,     0.20821,     0.20921,     0.21021,     0.21121,     0.21221,     0.21321,     0.21421,     0.21522,\n",
       "           0.21622,     0.21722,     0.21822,     0.21922,     0.22022,     0.22122,     0.22222,     0.22322,     0.22422,     0.22523,     0.22623,     0.22723,     0.22823,     0.22923,     0.23023,     0.23123,     0.23223,     0.23323,     0.23423,     0.23524,     0.23624,     0.23724,     0.23824,     0.23924,\n",
       "           0.24024,     0.24124,     0.24224,     0.24324,     0.24424,     0.24525,     0.24625,     0.24725,     0.24825,     0.24925,     0.25025,     0.25125,     0.25225,     0.25325,     0.25425,     0.25526,     0.25626,     0.25726,     0.25826,     0.25926,     0.26026,     0.26126,     0.26226,     0.26326,\n",
       "           0.26426,     0.26527,     0.26627,     0.26727,     0.26827,     0.26927,     0.27027,     0.27127,     0.27227,     0.27327,     0.27427,     0.27528,     0.27628,     0.27728,     0.27828,     0.27928,     0.28028,     0.28128,     0.28228,     0.28328,     0.28428,     0.28529,     0.28629,     0.28729,\n",
       "           0.28829,     0.28929,     0.29029,     0.29129,     0.29229,     0.29329,     0.29429,      0.2953,      0.2963,      0.2973,      0.2983,      0.2993,      0.3003,      0.3013,      0.3023,      0.3033,      0.3043,     0.30531,     0.30631,     0.30731,     0.30831,     0.30931,     0.31031,     0.31131,\n",
       "           0.31231,     0.31331,     0.31431,     0.31532,     0.31632,     0.31732,     0.31832,     0.31932,     0.32032,     0.32132,     0.32232,     0.32332,     0.32432,     0.32533,     0.32633,     0.32733,     0.32833,     0.32933,     0.33033,     0.33133,     0.33233,     0.33333,     0.33433,     0.33534,\n",
       "           0.33634,     0.33734,     0.33834,     0.33934,     0.34034,     0.34134,     0.34234,     0.34334,     0.34434,     0.34535,     0.34635,     0.34735,     0.34835,     0.34935,     0.35035,     0.35135,     0.35235,     0.35335,     0.35435,     0.35536,     0.35636,     0.35736,     0.35836,     0.35936,\n",
       "           0.36036,     0.36136,     0.36236,     0.36336,     0.36436,     0.36537,     0.36637,     0.36737,     0.36837,     0.36937,     0.37037,     0.37137,     0.37237,     0.37337,     0.37437,     0.37538,     0.37638,     0.37738,     0.37838,     0.37938,     0.38038,     0.38138,     0.38238,     0.38338,\n",
       "           0.38438,     0.38539,     0.38639,     0.38739,     0.38839,     0.38939,     0.39039,     0.39139,     0.39239,     0.39339,     0.39439,      0.3954,      0.3964,      0.3974,      0.3984,      0.3994,      0.4004,      0.4014,      0.4024,      0.4034,      0.4044,     0.40541,     0.40641,     0.40741,\n",
       "           0.40841,     0.40941,     0.41041,     0.41141,     0.41241,     0.41341,     0.41441,     0.41542,     0.41642,     0.41742,     0.41842,     0.41942,     0.42042,     0.42142,     0.42242,     0.42342,     0.42442,     0.42543,     0.42643,     0.42743,     0.42843,     0.42943,     0.43043,     0.43143,\n",
       "           0.43243,     0.43343,     0.43443,     0.43544,     0.43644,     0.43744,     0.43844,     0.43944,     0.44044,     0.44144,     0.44244,     0.44344,     0.44444,     0.44545,     0.44645,     0.44745,     0.44845,     0.44945,     0.45045,     0.45145,     0.45245,     0.45345,     0.45445,     0.45546,\n",
       "           0.45646,     0.45746,     0.45846,     0.45946,     0.46046,     0.46146,     0.46246,     0.46346,     0.46446,     0.46547,     0.46647,     0.46747,     0.46847,     0.46947,     0.47047,     0.47147,     0.47247,     0.47347,     0.47447,     0.47548,     0.47648,     0.47748,     0.47848,     0.47948,\n",
       "           0.48048,     0.48148,     0.48248,     0.48348,     0.48448,     0.48549,     0.48649,     0.48749,     0.48849,     0.48949,     0.49049,     0.49149,     0.49249,     0.49349,     0.49449,      0.4955,      0.4965,      0.4975,      0.4985,      0.4995,      0.5005,      0.5015,      0.5025,      0.5035,\n",
       "            0.5045,     0.50551,     0.50651,     0.50751,     0.50851,     0.50951,     0.51051,     0.51151,     0.51251,     0.51351,     0.51451,     0.51552,     0.51652,     0.51752,     0.51852,     0.51952,     0.52052,     0.52152,     0.52252,     0.52352,     0.52452,     0.52553,     0.52653,     0.52753,\n",
       "           0.52853,     0.52953,     0.53053,     0.53153,     0.53253,     0.53353,     0.53453,     0.53554,     0.53654,     0.53754,     0.53854,     0.53954,     0.54054,     0.54154,     0.54254,     0.54354,     0.54454,     0.54555,     0.54655,     0.54755,     0.54855,     0.54955,     0.55055,     0.55155,\n",
       "           0.55255,     0.55355,     0.55455,     0.55556,     0.55656,     0.55756,     0.55856,     0.55956,     0.56056,     0.56156,     0.56256,     0.56356,     0.56456,     0.56557,     0.56657,     0.56757,     0.56857,     0.56957,     0.57057,     0.57157,     0.57257,     0.57357,     0.57457,     0.57558,\n",
       "           0.57658,     0.57758,     0.57858,     0.57958,     0.58058,     0.58158,     0.58258,     0.58358,     0.58458,     0.58559,     0.58659,     0.58759,     0.58859,     0.58959,     0.59059,     0.59159,     0.59259,     0.59359,     0.59459,      0.5956,      0.5966,      0.5976,      0.5986,      0.5996,\n",
       "            0.6006,      0.6016,      0.6026,      0.6036,      0.6046,     0.60561,     0.60661,     0.60761,     0.60861,     0.60961,     0.61061,     0.61161,     0.61261,     0.61361,     0.61461,     0.61562,     0.61662,     0.61762,     0.61862,     0.61962,     0.62062,     0.62162,     0.62262,     0.62362,\n",
       "           0.62462,     0.62563,     0.62663,     0.62763,     0.62863,     0.62963,     0.63063,     0.63163,     0.63263,     0.63363,     0.63463,     0.63564,     0.63664,     0.63764,     0.63864,     0.63964,     0.64064,     0.64164,     0.64264,     0.64364,     0.64464,     0.64565,     0.64665,     0.64765,\n",
       "           0.64865,     0.64965,     0.65065,     0.65165,     0.65265,     0.65365,     0.65465,     0.65566,     0.65666,     0.65766,     0.65866,     0.65966,     0.66066,     0.66166,     0.66266,     0.66366,     0.66466,     0.66567,     0.66667,     0.66767,     0.66867,     0.66967,     0.67067,     0.67167,\n",
       "           0.67267,     0.67367,     0.67467,     0.67568,     0.67668,     0.67768,     0.67868,     0.67968,     0.68068,     0.68168,     0.68268,     0.68368,     0.68468,     0.68569,     0.68669,     0.68769,     0.68869,     0.68969,     0.69069,     0.69169,     0.69269,     0.69369,     0.69469,      0.6957,\n",
       "            0.6967,      0.6977,      0.6987,      0.6997,      0.7007,      0.7017,      0.7027,      0.7037,      0.7047,     0.70571,     0.70671,     0.70771,     0.70871,     0.70971,     0.71071,     0.71171,     0.71271,     0.71371,     0.71471,     0.71572,     0.71672,     0.71772,     0.71872,     0.71972,\n",
       "           0.72072,     0.72172,     0.72272,     0.72372,     0.72472,     0.72573,     0.72673,     0.72773,     0.72873,     0.72973,     0.73073,     0.73173,     0.73273,     0.73373,     0.73473,     0.73574,     0.73674,     0.73774,     0.73874,     0.73974,     0.74074,     0.74174,     0.74274,     0.74374,\n",
       "           0.74474,     0.74575,     0.74675,     0.74775,     0.74875,     0.74975,     0.75075,     0.75175,     0.75275,     0.75375,     0.75475,     0.75576,     0.75676,     0.75776,     0.75876,     0.75976,     0.76076,     0.76176,     0.76276,     0.76376,     0.76476,     0.76577,     0.76677,     0.76777,\n",
       "           0.76877,     0.76977,     0.77077,     0.77177,     0.77277,     0.77377,     0.77477,     0.77578,     0.77678,     0.77778,     0.77878,     0.77978,     0.78078,     0.78178,     0.78278,     0.78378,     0.78478,     0.78579,     0.78679,     0.78779,     0.78879,     0.78979,     0.79079,     0.79179,\n",
       "           0.79279,     0.79379,     0.79479,      0.7958,      0.7968,      0.7978,      0.7988,      0.7998,      0.8008,      0.8018,      0.8028,      0.8038,      0.8048,     0.80581,     0.80681,     0.80781,     0.80881,     0.80981,     0.81081,     0.81181,     0.81281,     0.81381,     0.81481,     0.81582,\n",
       "           0.81682,     0.81782,     0.81882,     0.81982,     0.82082,     0.82182,     0.82282,     0.82382,     0.82482,     0.82583,     0.82683,     0.82783,     0.82883,     0.82983,     0.83083,     0.83183,     0.83283,     0.83383,     0.83483,     0.83584,     0.83684,     0.83784,     0.83884,     0.83984,\n",
       "           0.84084,     0.84184,     0.84284,     0.84384,     0.84484,     0.84585,     0.84685,     0.84785,     0.84885,     0.84985,     0.85085,     0.85185,     0.85285,     0.85385,     0.85485,     0.85586,     0.85686,     0.85786,     0.85886,     0.85986,     0.86086,     0.86186,     0.86286,     0.86386,\n",
       "           0.86486,     0.86587,     0.86687,     0.86787,     0.86887,     0.86987,     0.87087,     0.87187,     0.87287,     0.87387,     0.87487,     0.87588,     0.87688,     0.87788,     0.87888,     0.87988,     0.88088,     0.88188,     0.88288,     0.88388,     0.88488,     0.88589,     0.88689,     0.88789,\n",
       "           0.88889,     0.88989,     0.89089,     0.89189,     0.89289,     0.89389,     0.89489,      0.8959,      0.8969,      0.8979,      0.8989,      0.8999,      0.9009,      0.9019,      0.9029,      0.9039,      0.9049,     0.90591,     0.90691,     0.90791,     0.90891,     0.90991,     0.91091,     0.91191,\n",
       "           0.91291,     0.91391,     0.91491,     0.91592,     0.91692,     0.91792,     0.91892,     0.91992,     0.92092,     0.92192,     0.92292,     0.92392,     0.92492,     0.92593,     0.92693,     0.92793,     0.92893,     0.92993,     0.93093,     0.93193,     0.93293,     0.93393,     0.93493,     0.93594,\n",
       "           0.93694,     0.93794,     0.93894,     0.93994,     0.94094,     0.94194,     0.94294,     0.94394,     0.94494,     0.94595,     0.94695,     0.94795,     0.94895,     0.94995,     0.95095,     0.95195,     0.95295,     0.95395,     0.95495,     0.95596,     0.95696,     0.95796,     0.95896,     0.95996,\n",
       "           0.96096,     0.96196,     0.96296,     0.96396,     0.96496,     0.96597,     0.96697,     0.96797,     0.96897,     0.96997,     0.97097,     0.97197,     0.97297,     0.97397,     0.97497,     0.97598,     0.97698,     0.97798,     0.97898,     0.97998,     0.98098,     0.98198,     0.98298,     0.98398,\n",
       "           0.98498,     0.98599,     0.98699,     0.98799,     0.98899,     0.98999,     0.99099,     0.99199,     0.99299,     0.99399,     0.99499,       0.996,       0.997,       0.998,       0.999,           1]), array([[          1,           1,           1,           1,           1,           1,           1,           1,           1,           1,           1,           1,           1,           1,           1,           1,           1,           1,           1,           1,           1,           1,           1,\n",
       "                  1,           1,           1,           1,           1,           1,           1,           1,           1,           1,           1,           1,           1,           1,           1,           1,           1,           1,           1,           1,           1,           1,           1,\n",
       "                  1,           1,           1,           1,           1,           1,           1,           1,           1,           1,           1,           1,           1,           1,           1,           1,           1,           1,           1,           1,           1,           1,           1,\n",
       "                  1,           1,           1,           1,           1,           1,           1,           1,           1,           1,           1,           1,           1,           1,           1,           1,           1,           1,           1,           1,           1,           1,           1,\n",
       "                  1,           1,           1,           1,           1,           1,           1,           1,           1,           1,           1,           1,           1,           1,           1,           1,           1,           1,           1,           1,           1,           1,           1,\n",
       "                  1,           1,           1,           1,           1,           1,           1,           1,           1,           1,           1,           1,           1,           1,           1,           1,           1,           1,           1,           1,           1,           1,           1,\n",
       "                  1,           1,           1,     0.99897,     0.99897,     0.99897,     0.99897,     0.99897,     0.99897,     0.99897,     0.99897,     0.99897,     0.99897,     0.99897,     0.99897,     0.99897,     0.99897,     0.99897,     0.99897,     0.99897,     0.99897,     0.99897,     0.99897,\n",
       "            0.99897,     0.99897,     0.99897,     0.99897,     0.99897,     0.99897,     0.99897,     0.99897,     0.99897,     0.99897,     0.99897,     0.99897,     0.99897,     0.99897,     0.99897,     0.99897,     0.99897,     0.99897,     0.99897,     0.99897,     0.99897,     0.99897,     0.99897,\n",
       "            0.99897,     0.99897,     0.99897,     0.99897,     0.99897,     0.99897,     0.99897,     0.99897,     0.99897,     0.99897,     0.99897,     0.99897,     0.99897,     0.99897,     0.99897,     0.99897,     0.99897,     0.99897,     0.99897,     0.99897,     0.99897,     0.99897,     0.99897,\n",
       "            0.99897,     0.99897,     0.99897,     0.99897,     0.99897,     0.99897,     0.99897,     0.99897,     0.99897,     0.99897,     0.99897,     0.99897,     0.99897,     0.99897,     0.99897,     0.99897,     0.99897,     0.99897,     0.99897,     0.99897,     0.99897,     0.99897,     0.99897,\n",
       "            0.99897,     0.99897,     0.99897,     0.99897,     0.99897,     0.99897,     0.99897,     0.99897,     0.99897,     0.99897,     0.99897,     0.99897,     0.99897,     0.99897,     0.99897,     0.99897,     0.99897,     0.99897,     0.99897,     0.99897,     0.99897,     0.99897,     0.99897,\n",
       "            0.99897,     0.99897,     0.99897,     0.99897,     0.99897,     0.99897,     0.99897,     0.99897,     0.99897,     0.99897,     0.99897,     0.99897,     0.99897,     0.99897,     0.99897,     0.99897,     0.99897,     0.99897,     0.99897,     0.99897,     0.99897,     0.99897,     0.99897,\n",
       "            0.99897,     0.99897,     0.99897,     0.99897,     0.99897,     0.99897,     0.99897,     0.99897,     0.99897,     0.99897,     0.99897,     0.99897,     0.99897,     0.99897,     0.99897,     0.99897,     0.99897,     0.99897,     0.99897,     0.99897,     0.99897,     0.99897,     0.99897,\n",
       "            0.99897,     0.99897,     0.99897,     0.99897,     0.99897,     0.99897,     0.99897,     0.99897,     0.99897,     0.99897,     0.99897,     0.99897,     0.99897,     0.99897,     0.99897,     0.99897,     0.99897,     0.99897,     0.99897,     0.99897,     0.99897,     0.99897,     0.99897,\n",
       "            0.99897,     0.99897,     0.99897,     0.99897,     0.99897,     0.99897,     0.99897,     0.99897,     0.99897,     0.99897,     0.99897,     0.99897,     0.99897,     0.99897,     0.99897,     0.99897,     0.99897,     0.99897,     0.99897,     0.99897,     0.99897,     0.99827,     0.99827,\n",
       "            0.99827,     0.99827,     0.99827,     0.99827,     0.99827,     0.99827,     0.99827,     0.99827,     0.99827,     0.99827,     0.99827,     0.99827,     0.99827,     0.99827,     0.99827,     0.99827,     0.99827,     0.99827,     0.99827,     0.99827,     0.99827,     0.99827,     0.99827,\n",
       "            0.99827,     0.99827,     0.99827,     0.99827,     0.99827,     0.99827,     0.99827,     0.99827,     0.99827,     0.99827,     0.99827,     0.99827,     0.99827,     0.99827,     0.99827,     0.99827,     0.99827,     0.99827,     0.99827,     0.99827,     0.99827,     0.99827,     0.99827,\n",
       "            0.99827,     0.99827,     0.99827,     0.99827,     0.99827,     0.99827,     0.99827,     0.99827,     0.99827,     0.99827,     0.99827,     0.99827,     0.99827,     0.99827,     0.99827,     0.99827,     0.99762,     0.99762,     0.99762,     0.99762,     0.99762,     0.99762,     0.99762,\n",
       "            0.99762,     0.99762,     0.99762,     0.99762,     0.99762,     0.99762,     0.99762,     0.99762,     0.99762,     0.99762,     0.99762,     0.99762,     0.99762,     0.99762,     0.99762,     0.99762,     0.99762,     0.99762,     0.99762,     0.99762,     0.99762,     0.99762,     0.99762,\n",
       "            0.99762,     0.99762,     0.99762,     0.99762,     0.99762,     0.99762,     0.99762,     0.99762,     0.99666,     0.99666,     0.99666,     0.99666,     0.99666,     0.99666,     0.99666,     0.99666,     0.99666,     0.99666,     0.99666,     0.99666,     0.99666,     0.99666,     0.99666,\n",
       "            0.99666,     0.99666,     0.99666,     0.99666,     0.99666,     0.99666,     0.99666,     0.99666,     0.99666,     0.99666,     0.99666,     0.99666,     0.99666,     0.99666,     0.99666,     0.99666,     0.99666,     0.99666,     0.99666,     0.99666,     0.99666,     0.99666,     0.99666,\n",
       "            0.99666,     0.99666,     0.99666,     0.99666,     0.99666,     0.99666,     0.99666,     0.99666,     0.99666,     0.99666,     0.99666,     0.99666,     0.99666,     0.99666,     0.99666,     0.99666,     0.99666,     0.99666,     0.99666,     0.99666,     0.99666,     0.99666,     0.99666,\n",
       "            0.99666,     0.99666,     0.99666,     0.99666,     0.99666,     0.99666,     0.99666,     0.99666,     0.99666,     0.99666,     0.99666,     0.99666,     0.99666,     0.99666,     0.99666,     0.99666,     0.99666,     0.99666,     0.99666,     0.99666,     0.99666,     0.99666,     0.99606,\n",
       "            0.99606,     0.99606,     0.99606,     0.99606,     0.99606,     0.99606,     0.99558,     0.99558,     0.99558,     0.99558,     0.99558,     0.99558,     0.99558,     0.99558,     0.99558,     0.99558,     0.99558,     0.99558,     0.99558,     0.99558,     0.99558,     0.99558,     0.99558,\n",
       "            0.99558,     0.99558,     0.99558,     0.99558,     0.99499,     0.99499,     0.99499,     0.99499,     0.99499,     0.99499,      0.9945,      0.9945,      0.9945,      0.9945,      0.9945,      0.9945,      0.9945,      0.9945,      0.9945,      0.9945,      0.9945,      0.9945,      0.9945,\n",
       "            0.99392,     0.99392,     0.99226,     0.99226,     0.99226,     0.99226,     0.99226,     0.99226,     0.99226,     0.99226,     0.99226,     0.99226,     0.99226,     0.99176,     0.99176,     0.99176,     0.99176,     0.99176,     0.99176,     0.99176,     0.99128,     0.99128,     0.99128,\n",
       "            0.99128,     0.99128,     0.99128,     0.99128,     0.99074,     0.99074,     0.99018,     0.99018,     0.98975,     0.98975,     0.98975,     0.98975,     0.98975,     0.98975,     0.98975,     0.98975,     0.98924,     0.98924,     0.98924,     0.98896,     0.98896,     0.98896,     0.98896,\n",
       "            0.98896,     0.98896,     0.98896,     0.98896,     0.98896,     0.98896,     0.98896,     0.98896,     0.98896,     0.98896,     0.98896,     0.98896,     0.98802,     0.98802,     0.98802,     0.98802,     0.98802,     0.98802,     0.98802,     0.98802,     0.98769,     0.98769,     0.98769,\n",
       "            0.98769,     0.98769,     0.98769,     0.98769,     0.98769,     0.98769,     0.98769,     0.98769,     0.98675,     0.98675,     0.98675,     0.98675,     0.98675,     0.98675,     0.98637,     0.98637,     0.98637,     0.98637,     0.98637,     0.98637,     0.98589,     0.98589,     0.98494,\n",
       "            0.98494,     0.98494,     0.98494,     0.98394,     0.98295,     0.98201,     0.98201,     0.98201,     0.98169,     0.98169,     0.98169,     0.98169,     0.98169,     0.98169,     0.98169,     0.98127,     0.98127,     0.98086,     0.98086,     0.98086,     0.98086,     0.97947,     0.97947,\n",
       "            0.97947,     0.97854,      0.9781,      0.9781,     0.97783,     0.97783,     0.97783,     0.97783,     0.97783,     0.97783,     0.97783,      0.9774,     0.97701,     0.97701,     0.97701,     0.97654,     0.97612,     0.97578,     0.97578,     0.97578,     0.97578,      0.9754,      0.9754,\n",
       "             0.9754,     0.97498,     0.97452,     0.97317,     0.97275,     0.97275,     0.97241,     0.97241,     0.97241,     0.97154,     0.97114,     0.97114,     0.97074,     0.97031,     0.96997,     0.96997,     0.96997,      0.9696,      0.9696,     0.96923,     0.96923,     0.96885,     0.96885,\n",
       "            0.96843,     0.96758,     0.96718,     0.96644,     0.96644,     0.96644,     0.96615,     0.96615,     0.96615,     0.96615,     0.96536,     0.96536,     0.96506,     0.96506,     0.96506,     0.96477,     0.96477,     0.96477,     0.96445,     0.96445,     0.96445,     0.96325,     0.96325,\n",
       "            0.96285,     0.96126,     0.96126,     0.95963,     0.95963,     0.95933,     0.95933,     0.95894,     0.95857,     0.95819,     0.95782,     0.95751,     0.95751,     0.95715,     0.95679,     0.95486,     0.95486,     0.95486,     0.95366,     0.95294,     0.95257,     0.95193,     0.95193,\n",
       "            0.95193,     0.95161,     0.95161,     0.95096,     0.95096,      0.9506,     0.94987,     0.94987,     0.94844,     0.94844,     0.94817,     0.94817,     0.94779,     0.94633,     0.94633,     0.94603,     0.94567,     0.94509,     0.94509,     0.94509,     0.94481,     0.94481,     0.94412,\n",
       "            0.94341,     0.94305,     0.94251,     0.94251,     0.94251,     0.94214,     0.94144,     0.93998,     0.93931,     0.93821,     0.93765,     0.93765,     0.93765,     0.93548,     0.93524,     0.93524,     0.93416,      0.9324,     0.93174,     0.93105,     0.92965,      0.9286,     0.92727,\n",
       "            0.92623,     0.92498,     0.92498,     0.92498,     0.92474,     0.92335,     0.92281,     0.92281,     0.92224,     0.92224,     0.92054,     0.92031,     0.91895,     0.91587,     0.91469,     0.91469,     0.91412,     0.91412,     0.91251,     0.91223,     0.90923,      0.9069,     0.90439,\n",
       "            0.90439,     0.90382,     0.90276,     0.90276,     0.90276,     0.90019,     0.89963,     0.89709,     0.89522,     0.89308,     0.89214,     0.89067,     0.88824,     0.88732,     0.88488,     0.88445,     0.88445,      0.8833,     0.88126,      0.8804,     0.87865,     0.87597,     0.87588,\n",
       "            0.87588,     0.87544,      0.8743,     0.87381,     0.87303,     0.87224,     0.86808,     0.86701,     0.86386,      0.8634,     0.86146,     0.86038,     0.85787,     0.85719,     0.85671,     0.85463,     0.85439,     0.85333,     0.85152,     0.85047,     0.85005,     0.84821,     0.84526,\n",
       "            0.84401,     0.84299,     0.84009,     0.83832,     0.83491,     0.83236,     0.82389,     0.82226,     0.82028,     0.81627,     0.81547,     0.81404,     0.81057,     0.80922,     0.79771,     0.79423,     0.79071,     0.78504,     0.78504,     0.78169,     0.77397,     0.77279,      0.7673,\n",
       "            0.75792,      0.7539,     0.73939,     0.72465,     0.72169,     0.71895,       0.718,     0.71796,     0.71235,     0.71143,     0.70746,     0.69778,     0.69636,     0.69215,     0.68416,     0.67259,     0.66826,     0.66234,     0.65703,     0.65445,     0.63931,     0.63109,     0.62412,\n",
       "            0.61861,     0.60625,      0.5971,      0.5917,     0.58513,     0.57686,     0.57258,     0.56292,     0.55983,     0.55332,     0.55044,     0.54048,     0.51591,     0.49963,     0.48944,     0.48448,     0.47171,      0.4626,     0.44958,     0.43653,     0.42277,     0.39012,      0.3774,\n",
       "            0.36307,     0.35254,     0.33822,      0.3269,     0.31703,     0.30442,     0.29704,     0.29359,     0.27928,     0.26629,     0.26186,     0.21513,     0.20027,      0.1906,     0.18107,     0.17154,     0.16201,     0.15248,     0.14295,     0.13342,     0.12389,     0.11436,     0.10483,\n",
       "           0.095299,    0.085769,    0.076239,    0.066709,    0.057179,    0.047649,     0.03812,     0.02859,     0.01906,   0.0095299,           0]]), 'Recall', 'Precision'], [array([          0,    0.001001,    0.002002,    0.003003,    0.004004,    0.005005,    0.006006,    0.007007,    0.008008,    0.009009,     0.01001,    0.011011,    0.012012,    0.013013,    0.014014,    0.015015,    0.016016,    0.017017,    0.018018,    0.019019,     0.02002,    0.021021,    0.022022,    0.023023,\n",
       "          0.024024,    0.025025,    0.026026,    0.027027,    0.028028,    0.029029,     0.03003,    0.031031,    0.032032,    0.033033,    0.034034,    0.035035,    0.036036,    0.037037,    0.038038,    0.039039,     0.04004,    0.041041,    0.042042,    0.043043,    0.044044,    0.045045,    0.046046,    0.047047,\n",
       "          0.048048,    0.049049,     0.05005,    0.051051,    0.052052,    0.053053,    0.054054,    0.055055,    0.056056,    0.057057,    0.058058,    0.059059,     0.06006,    0.061061,    0.062062,    0.063063,    0.064064,    0.065065,    0.066066,    0.067067,    0.068068,    0.069069,     0.07007,    0.071071,\n",
       "          0.072072,    0.073073,    0.074074,    0.075075,    0.076076,    0.077077,    0.078078,    0.079079,     0.08008,    0.081081,    0.082082,    0.083083,    0.084084,    0.085085,    0.086086,    0.087087,    0.088088,    0.089089,     0.09009,    0.091091,    0.092092,    0.093093,    0.094094,    0.095095,\n",
       "          0.096096,    0.097097,    0.098098,    0.099099,      0.1001,      0.1011,      0.1021,      0.1031,      0.1041,     0.10511,     0.10611,     0.10711,     0.10811,     0.10911,     0.11011,     0.11111,     0.11211,     0.11311,     0.11411,     0.11512,     0.11612,     0.11712,     0.11812,     0.11912,\n",
       "           0.12012,     0.12112,     0.12212,     0.12312,     0.12412,     0.12513,     0.12613,     0.12713,     0.12813,     0.12913,     0.13013,     0.13113,     0.13213,     0.13313,     0.13413,     0.13514,     0.13614,     0.13714,     0.13814,     0.13914,     0.14014,     0.14114,     0.14214,     0.14314,\n",
       "           0.14414,     0.14515,     0.14615,     0.14715,     0.14815,     0.14915,     0.15015,     0.15115,     0.15215,     0.15315,     0.15415,     0.15516,     0.15616,     0.15716,     0.15816,     0.15916,     0.16016,     0.16116,     0.16216,     0.16316,     0.16416,     0.16517,     0.16617,     0.16717,\n",
       "           0.16817,     0.16917,     0.17017,     0.17117,     0.17217,     0.17317,     0.17417,     0.17518,     0.17618,     0.17718,     0.17818,     0.17918,     0.18018,     0.18118,     0.18218,     0.18318,     0.18418,     0.18519,     0.18619,     0.18719,     0.18819,     0.18919,     0.19019,     0.19119,\n",
       "           0.19219,     0.19319,     0.19419,      0.1952,      0.1962,      0.1972,      0.1982,      0.1992,      0.2002,      0.2012,      0.2022,      0.2032,      0.2042,     0.20521,     0.20621,     0.20721,     0.20821,     0.20921,     0.21021,     0.21121,     0.21221,     0.21321,     0.21421,     0.21522,\n",
       "           0.21622,     0.21722,     0.21822,     0.21922,     0.22022,     0.22122,     0.22222,     0.22322,     0.22422,     0.22523,     0.22623,     0.22723,     0.22823,     0.22923,     0.23023,     0.23123,     0.23223,     0.23323,     0.23423,     0.23524,     0.23624,     0.23724,     0.23824,     0.23924,\n",
       "           0.24024,     0.24124,     0.24224,     0.24324,     0.24424,     0.24525,     0.24625,     0.24725,     0.24825,     0.24925,     0.25025,     0.25125,     0.25225,     0.25325,     0.25425,     0.25526,     0.25626,     0.25726,     0.25826,     0.25926,     0.26026,     0.26126,     0.26226,     0.26326,\n",
       "           0.26426,     0.26527,     0.26627,     0.26727,     0.26827,     0.26927,     0.27027,     0.27127,     0.27227,     0.27327,     0.27427,     0.27528,     0.27628,     0.27728,     0.27828,     0.27928,     0.28028,     0.28128,     0.28228,     0.28328,     0.28428,     0.28529,     0.28629,     0.28729,\n",
       "           0.28829,     0.28929,     0.29029,     0.29129,     0.29229,     0.29329,     0.29429,      0.2953,      0.2963,      0.2973,      0.2983,      0.2993,      0.3003,      0.3013,      0.3023,      0.3033,      0.3043,     0.30531,     0.30631,     0.30731,     0.30831,     0.30931,     0.31031,     0.31131,\n",
       "           0.31231,     0.31331,     0.31431,     0.31532,     0.31632,     0.31732,     0.31832,     0.31932,     0.32032,     0.32132,     0.32232,     0.32332,     0.32432,     0.32533,     0.32633,     0.32733,     0.32833,     0.32933,     0.33033,     0.33133,     0.33233,     0.33333,     0.33433,     0.33534,\n",
       "           0.33634,     0.33734,     0.33834,     0.33934,     0.34034,     0.34134,     0.34234,     0.34334,     0.34434,     0.34535,     0.34635,     0.34735,     0.34835,     0.34935,     0.35035,     0.35135,     0.35235,     0.35335,     0.35435,     0.35536,     0.35636,     0.35736,     0.35836,     0.35936,\n",
       "           0.36036,     0.36136,     0.36236,     0.36336,     0.36436,     0.36537,     0.36637,     0.36737,     0.36837,     0.36937,     0.37037,     0.37137,     0.37237,     0.37337,     0.37437,     0.37538,     0.37638,     0.37738,     0.37838,     0.37938,     0.38038,     0.38138,     0.38238,     0.38338,\n",
       "           0.38438,     0.38539,     0.38639,     0.38739,     0.38839,     0.38939,     0.39039,     0.39139,     0.39239,     0.39339,     0.39439,      0.3954,      0.3964,      0.3974,      0.3984,      0.3994,      0.4004,      0.4014,      0.4024,      0.4034,      0.4044,     0.40541,     0.40641,     0.40741,\n",
       "           0.40841,     0.40941,     0.41041,     0.41141,     0.41241,     0.41341,     0.41441,     0.41542,     0.41642,     0.41742,     0.41842,     0.41942,     0.42042,     0.42142,     0.42242,     0.42342,     0.42442,     0.42543,     0.42643,     0.42743,     0.42843,     0.42943,     0.43043,     0.43143,\n",
       "           0.43243,     0.43343,     0.43443,     0.43544,     0.43644,     0.43744,     0.43844,     0.43944,     0.44044,     0.44144,     0.44244,     0.44344,     0.44444,     0.44545,     0.44645,     0.44745,     0.44845,     0.44945,     0.45045,     0.45145,     0.45245,     0.45345,     0.45445,     0.45546,\n",
       "           0.45646,     0.45746,     0.45846,     0.45946,     0.46046,     0.46146,     0.46246,     0.46346,     0.46446,     0.46547,     0.46647,     0.46747,     0.46847,     0.46947,     0.47047,     0.47147,     0.47247,     0.47347,     0.47447,     0.47548,     0.47648,     0.47748,     0.47848,     0.47948,\n",
       "           0.48048,     0.48148,     0.48248,     0.48348,     0.48448,     0.48549,     0.48649,     0.48749,     0.48849,     0.48949,     0.49049,     0.49149,     0.49249,     0.49349,     0.49449,      0.4955,      0.4965,      0.4975,      0.4985,      0.4995,      0.5005,      0.5015,      0.5025,      0.5035,\n",
       "            0.5045,     0.50551,     0.50651,     0.50751,     0.50851,     0.50951,     0.51051,     0.51151,     0.51251,     0.51351,     0.51451,     0.51552,     0.51652,     0.51752,     0.51852,     0.51952,     0.52052,     0.52152,     0.52252,     0.52352,     0.52452,     0.52553,     0.52653,     0.52753,\n",
       "           0.52853,     0.52953,     0.53053,     0.53153,     0.53253,     0.53353,     0.53453,     0.53554,     0.53654,     0.53754,     0.53854,     0.53954,     0.54054,     0.54154,     0.54254,     0.54354,     0.54454,     0.54555,     0.54655,     0.54755,     0.54855,     0.54955,     0.55055,     0.55155,\n",
       "           0.55255,     0.55355,     0.55455,     0.55556,     0.55656,     0.55756,     0.55856,     0.55956,     0.56056,     0.56156,     0.56256,     0.56356,     0.56456,     0.56557,     0.56657,     0.56757,     0.56857,     0.56957,     0.57057,     0.57157,     0.57257,     0.57357,     0.57457,     0.57558,\n",
       "           0.57658,     0.57758,     0.57858,     0.57958,     0.58058,     0.58158,     0.58258,     0.58358,     0.58458,     0.58559,     0.58659,     0.58759,     0.58859,     0.58959,     0.59059,     0.59159,     0.59259,     0.59359,     0.59459,      0.5956,      0.5966,      0.5976,      0.5986,      0.5996,\n",
       "            0.6006,      0.6016,      0.6026,      0.6036,      0.6046,     0.60561,     0.60661,     0.60761,     0.60861,     0.60961,     0.61061,     0.61161,     0.61261,     0.61361,     0.61461,     0.61562,     0.61662,     0.61762,     0.61862,     0.61962,     0.62062,     0.62162,     0.62262,     0.62362,\n",
       "           0.62462,     0.62563,     0.62663,     0.62763,     0.62863,     0.62963,     0.63063,     0.63163,     0.63263,     0.63363,     0.63463,     0.63564,     0.63664,     0.63764,     0.63864,     0.63964,     0.64064,     0.64164,     0.64264,     0.64364,     0.64464,     0.64565,     0.64665,     0.64765,\n",
       "           0.64865,     0.64965,     0.65065,     0.65165,     0.65265,     0.65365,     0.65465,     0.65566,     0.65666,     0.65766,     0.65866,     0.65966,     0.66066,     0.66166,     0.66266,     0.66366,     0.66466,     0.66567,     0.66667,     0.66767,     0.66867,     0.66967,     0.67067,     0.67167,\n",
       "           0.67267,     0.67367,     0.67467,     0.67568,     0.67668,     0.67768,     0.67868,     0.67968,     0.68068,     0.68168,     0.68268,     0.68368,     0.68468,     0.68569,     0.68669,     0.68769,     0.68869,     0.68969,     0.69069,     0.69169,     0.69269,     0.69369,     0.69469,      0.6957,\n",
       "            0.6967,      0.6977,      0.6987,      0.6997,      0.7007,      0.7017,      0.7027,      0.7037,      0.7047,     0.70571,     0.70671,     0.70771,     0.70871,     0.70971,     0.71071,     0.71171,     0.71271,     0.71371,     0.71471,     0.71572,     0.71672,     0.71772,     0.71872,     0.71972,\n",
       "           0.72072,     0.72172,     0.72272,     0.72372,     0.72472,     0.72573,     0.72673,     0.72773,     0.72873,     0.72973,     0.73073,     0.73173,     0.73273,     0.73373,     0.73473,     0.73574,     0.73674,     0.73774,     0.73874,     0.73974,     0.74074,     0.74174,     0.74274,     0.74374,\n",
       "           0.74474,     0.74575,     0.74675,     0.74775,     0.74875,     0.74975,     0.75075,     0.75175,     0.75275,     0.75375,     0.75475,     0.75576,     0.75676,     0.75776,     0.75876,     0.75976,     0.76076,     0.76176,     0.76276,     0.76376,     0.76476,     0.76577,     0.76677,     0.76777,\n",
       "           0.76877,     0.76977,     0.77077,     0.77177,     0.77277,     0.77377,     0.77477,     0.77578,     0.77678,     0.77778,     0.77878,     0.77978,     0.78078,     0.78178,     0.78278,     0.78378,     0.78478,     0.78579,     0.78679,     0.78779,     0.78879,     0.78979,     0.79079,     0.79179,\n",
       "           0.79279,     0.79379,     0.79479,      0.7958,      0.7968,      0.7978,      0.7988,      0.7998,      0.8008,      0.8018,      0.8028,      0.8038,      0.8048,     0.80581,     0.80681,     0.80781,     0.80881,     0.80981,     0.81081,     0.81181,     0.81281,     0.81381,     0.81481,     0.81582,\n",
       "           0.81682,     0.81782,     0.81882,     0.81982,     0.82082,     0.82182,     0.82282,     0.82382,     0.82482,     0.82583,     0.82683,     0.82783,     0.82883,     0.82983,     0.83083,     0.83183,     0.83283,     0.83383,     0.83483,     0.83584,     0.83684,     0.83784,     0.83884,     0.83984,\n",
       "           0.84084,     0.84184,     0.84284,     0.84384,     0.84484,     0.84585,     0.84685,     0.84785,     0.84885,     0.84985,     0.85085,     0.85185,     0.85285,     0.85385,     0.85485,     0.85586,     0.85686,     0.85786,     0.85886,     0.85986,     0.86086,     0.86186,     0.86286,     0.86386,\n",
       "           0.86486,     0.86587,     0.86687,     0.86787,     0.86887,     0.86987,     0.87087,     0.87187,     0.87287,     0.87387,     0.87487,     0.87588,     0.87688,     0.87788,     0.87888,     0.87988,     0.88088,     0.88188,     0.88288,     0.88388,     0.88488,     0.88589,     0.88689,     0.88789,\n",
       "           0.88889,     0.88989,     0.89089,     0.89189,     0.89289,     0.89389,     0.89489,      0.8959,      0.8969,      0.8979,      0.8989,      0.8999,      0.9009,      0.9019,      0.9029,      0.9039,      0.9049,     0.90591,     0.90691,     0.90791,     0.90891,     0.90991,     0.91091,     0.91191,\n",
       "           0.91291,     0.91391,     0.91491,     0.91592,     0.91692,     0.91792,     0.91892,     0.91992,     0.92092,     0.92192,     0.92292,     0.92392,     0.92492,     0.92593,     0.92693,     0.92793,     0.92893,     0.92993,     0.93093,     0.93193,     0.93293,     0.93393,     0.93493,     0.93594,\n",
       "           0.93694,     0.93794,     0.93894,     0.93994,     0.94094,     0.94194,     0.94294,     0.94394,     0.94494,     0.94595,     0.94695,     0.94795,     0.94895,     0.94995,     0.95095,     0.95195,     0.95295,     0.95395,     0.95495,     0.95596,     0.95696,     0.95796,     0.95896,     0.95996,\n",
       "           0.96096,     0.96196,     0.96296,     0.96396,     0.96496,     0.96597,     0.96697,     0.96797,     0.96897,     0.96997,     0.97097,     0.97197,     0.97297,     0.97397,     0.97497,     0.97598,     0.97698,     0.97798,     0.97898,     0.97998,     0.98098,     0.98198,     0.98298,     0.98398,\n",
       "           0.98498,     0.98599,     0.98699,     0.98799,     0.98899,     0.98999,     0.99099,     0.99199,     0.99299,     0.99399,     0.99499,       0.996,       0.997,       0.998,       0.999,           1]), array([[    0.32996,     0.32996,     0.41501,     0.46808,     0.50427,     0.53136,     0.55561,     0.57491,     0.59194,     0.60527,     0.61737,     0.62844,     0.63697,     0.64594,     0.65334,     0.66081,     0.66691,      0.6736,     0.67913,       0.685,     0.69078,     0.69512,     0.69999,\n",
       "            0.70519,     0.70886,     0.71171,     0.71588,     0.71908,      0.7225,     0.72583,     0.72889,     0.73141,     0.73411,     0.73681,     0.73927,     0.74235,     0.74526,     0.74732,     0.74987,     0.75202,     0.75423,     0.75771,     0.75945,     0.76068,     0.76168,     0.76388,\n",
       "            0.76601,     0.76883,     0.77076,     0.77235,     0.77419,     0.77554,     0.77769,     0.77961,     0.78134,     0.78235,     0.78353,     0.78441,      0.7855,     0.78786,     0.78953,     0.79088,     0.79207,     0.79307,     0.79433,     0.79498,     0.79619,     0.79733,     0.79807,\n",
       "             0.7981,     0.79933,     0.80008,     0.80176,     0.80264,     0.80402,     0.80565,     0.80595,     0.80629,     0.80726,     0.80843,     0.80924,     0.80919,     0.80944,     0.80973,      0.8107,     0.81217,     0.81291,     0.81401,     0.81454,     0.81597,       0.817,     0.81829,\n",
       "            0.81837,     0.81915,     0.81993,     0.82101,     0.82129,     0.82204,     0.82242,     0.82306,     0.82395,     0.82535,     0.82612,     0.82654,     0.82704,     0.82806,     0.82907,     0.82933,     0.82996,     0.83067,     0.83163,     0.83206,     0.83281,     0.83354,     0.83405,\n",
       "            0.83486,      0.8353,     0.83599,     0.83659,     0.83682,     0.83729,     0.83774,     0.83819,     0.83879,     0.83938,     0.83962,      0.8398,     0.84048,     0.84121,     0.84152,     0.84245,     0.84247,      0.8432,     0.84388,      0.8443,     0.84478,     0.84518,      0.8449,\n",
       "            0.84553,     0.84592,     0.84601,     0.84673,      0.8473,     0.84782,     0.84779,      0.8487,     0.84967,     0.85002,     0.85067,     0.85096,     0.85101,      0.8513,       0.852,     0.85254,     0.85278,     0.85306,     0.85375,      0.8546,     0.85536,     0.85557,     0.85583,\n",
       "            0.85638,     0.85704,     0.85696,     0.85695,     0.85739,     0.85734,     0.85775,     0.85858,      0.8588,     0.85887,     0.85885,     0.85906,      0.8593,     0.85925,     0.85914,     0.85923,     0.85907,     0.85924,     0.85935,     0.85984,     0.85996,     0.86035,     0.86061,\n",
       "            0.86045,     0.86099,     0.86139,     0.86128,     0.86133,     0.86173,     0.86184,     0.86188,     0.86211,     0.86245,     0.86253,     0.86294,     0.86347,       0.864,     0.86435,     0.86489,     0.86552,     0.86633,     0.86625,     0.86653,     0.86637,      0.8667,     0.86707,\n",
       "            0.86736,     0.86743,     0.86801,     0.86838,     0.86849,     0.86846,     0.86824,     0.86853,     0.86862,     0.86883,     0.86901,     0.86896,     0.86907,     0.86969,     0.87006,     0.86995,     0.87001,     0.87017,     0.87008,     0.87003,     0.87019,     0.87008,      0.8698,\n",
       "            0.87046,     0.87048,     0.87078,     0.87105,     0.87138,      0.8715,     0.87146,     0.87129,     0.87135,      0.8713,     0.87185,     0.87197,     0.87168,     0.87159,     0.87168,     0.87168,     0.87178,     0.87164,     0.87185,     0.87157,     0.87168,     0.87204,     0.87229,\n",
       "            0.87228,     0.87233,       0.872,     0.87217,     0.87247,     0.87248,     0.87249,     0.87246,     0.87247,      0.8723,     0.87203,     0.87219,     0.87214,     0.87202,     0.87213,     0.87212,     0.87236,     0.87223,     0.87281,     0.87287,     0.87285,     0.87303,       0.873,\n",
       "            0.87336,     0.87329,     0.87338,     0.87339,     0.87331,     0.87321,     0.87333,     0.87369,     0.87383,     0.87392,     0.87417,      0.8743,     0.87438,     0.87434,     0.87441,     0.87442,     0.87428,     0.87444,     0.87449,      0.8744,     0.87436,      0.8744,     0.87444,\n",
       "            0.87451,     0.87492,     0.87511,     0.87543,     0.87579,     0.87598,     0.87573,     0.87582,     0.87587,     0.87591,     0.87596,     0.87602,     0.87609,      0.8762,     0.87599,      0.8759,     0.87547,     0.87563,     0.87563,     0.87594,     0.87586,     0.87564,     0.87536,\n",
       "            0.87545,      0.8753,      0.8748,     0.87459,      0.8746,     0.87469,     0.87487,     0.87506,     0.87538,     0.87526,      0.8751,     0.87507,     0.87521,     0.87554,     0.87565,     0.87568,     0.87574,     0.87568,     0.87543,      0.8754,     0.87557,     0.87605,     0.87563,\n",
       "            0.87572,     0.87584,     0.87604,     0.87592,     0.87556,     0.87564,     0.87525,     0.87519,     0.87505,     0.87537,     0.87555,     0.87573,     0.87589,     0.87609,      0.8759,     0.87585,     0.87621,     0.87586,     0.87594,     0.87606,     0.87624,      0.8764,      0.8766,\n",
       "            0.87676,     0.87637,     0.87621,     0.87627,     0.87617,     0.87631,      0.8764,     0.87662,     0.87665,     0.87685,     0.87702,     0.87682,     0.87671,     0.87678,     0.87714,     0.87706,     0.87725,       0.877,     0.87749,     0.87741,     0.87752,     0.87753,     0.87762,\n",
       "            0.87778,     0.87826,     0.87839,     0.87834,     0.87822,     0.87794,      0.8779,     0.87802,     0.87832,     0.87832,     0.87866,     0.87844,     0.87837,      0.8783,      0.8777,     0.87745,     0.87732,     0.87727,     0.87735,     0.87715,     0.87677,     0.87666,     0.87681,\n",
       "            0.87697,      0.8769,     0.87709,     0.87741,     0.87769,     0.87765,     0.87791,       0.878,     0.87796,     0.87807,     0.87806,      0.8787,     0.87897,     0.87862,     0.87871,     0.87838,     0.87845,     0.87814,      0.8783,     0.87867,     0.87849,     0.87837,     0.87798,\n",
       "            0.87789,     0.87768,     0.87743,     0.87751,     0.87724,     0.87714,     0.87741,     0.87735,     0.87724,     0.87733,     0.87798,     0.87796,     0.87827,     0.87823,     0.87819,     0.87829,     0.87808,     0.87781,     0.87755,     0.87749,     0.87761,     0.87791,     0.87799,\n",
       "            0.87772,      0.8775,     0.87745,     0.87754,     0.87732,     0.87725,     0.87718,     0.87697,     0.87675,     0.87654,     0.87632,     0.87611,     0.87616,     0.87622,      0.8763,      0.8762,     0.87642,      0.8765,     0.87662,     0.87642,     0.87512,     0.87504,     0.87497,\n",
       "            0.87471,     0.87483,       0.875,     0.87475,     0.87508,     0.87454,     0.87441,     0.87437,     0.87453,      0.8747,     0.87481,     0.87452,     0.87481,     0.87461,     0.87456,     0.87455,     0.87444,     0.87428,     0.87443,     0.87445,     0.87434,     0.87417,     0.87426,\n",
       "            0.87443,     0.87434,     0.87429,     0.87397,      0.8733,     0.87338,     0.87332,     0.87377,     0.87276,     0.87233,     0.87241,     0.87232,     0.87229,       0.872,     0.87192,     0.87186,     0.87196,     0.87207,     0.87189,     0.87196,     0.87176,     0.87165,     0.87155,\n",
       "             0.8716,     0.87149,     0.87054,     0.87046,     0.87039,     0.87005,     0.86971,     0.86972,     0.86967,     0.86936,     0.86913,     0.86891,     0.86891,      0.8688,     0.86878,     0.86884,      0.8689,     0.86885,     0.86874,     0.86855,     0.86811,     0.86784,      0.8674,\n",
       "            0.86631,     0.86626,      0.8661,     0.86559,     0.86548,     0.86471,      0.8646,     0.86448,     0.86457,      0.8646,     0.86468,     0.86437,     0.86415,     0.86356,     0.86345,     0.86299,     0.86276,     0.86238,     0.86234,     0.86223,     0.86212,      0.8623,     0.86208,\n",
       "             0.8618,     0.86193,     0.86152,     0.86166,     0.86041,     0.86024,     0.85978,      0.8594,     0.85895,     0.85806,     0.85783,     0.85772,     0.85749,     0.85706,     0.85695,       0.857,     0.85689,     0.85663,     0.85673,     0.85565,     0.85554,     0.85591,     0.85579,\n",
       "            0.85587,     0.85558,     0.85535,     0.85484,     0.85456,     0.85361,      0.8537,     0.85316,     0.85307,     0.85245,      0.8523,     0.85202,     0.85164,     0.85118,     0.85067,     0.84998,     0.85003,     0.85012,     0.84986,     0.84961,     0.84937,     0.84925,     0.84884,\n",
       "            0.84817,     0.84805,      0.8475,     0.84724,     0.84692,     0.84672,     0.84616,      0.8457,     0.84524,       0.845,      0.8447,     0.84287,     0.84268,     0.84225,     0.84213,       0.842,     0.84184,     0.84176,     0.84125,      0.8402,     0.83909,     0.83862,     0.83836,\n",
       "            0.83802,      0.8375,     0.83738,     0.83722,     0.83664,     0.83609,     0.83549,     0.83531,     0.83426,     0.83421,       0.833,     0.83311,     0.83197,     0.83126,     0.83053,     0.82935,     0.82927,     0.82919,     0.82845,     0.82821,     0.82725,     0.82659,     0.82594,\n",
       "            0.82589,     0.82529,     0.82538,     0.82488,     0.82408,     0.82384,     0.82351,     0.82298,     0.82218,     0.82194,     0.82061,     0.82028,     0.81955,     0.81935,      0.8183,     0.81781,     0.81722,     0.81663,     0.81557,     0.81508,     0.81348,      0.8125,     0.81194,\n",
       "            0.81106,     0.81097,     0.81007,     0.80945,     0.80895,     0.80835,     0.80854,     0.80659,     0.80594,     0.80581,     0.80467,     0.80366,     0.80289,     0.80185,     0.80172,     0.80063,     0.79979,     0.79948,      0.7989,     0.79839,     0.79809,     0.79741,     0.79708,\n",
       "            0.79659,     0.79608,     0.79484,     0.79398,       0.793,     0.79223,      0.7896,     0.78947,     0.78776,     0.78594,     0.78504,     0.78504,     0.78473,     0.78455,      0.7825,     0.78055,     0.78028,      0.7789,     0.77857,     0.77677,     0.77562,     0.77426,     0.77354,\n",
       "            0.77155,     0.77089,     0.76954,     0.76674,     0.76553,     0.76498,     0.76378,     0.76216,     0.76013,     0.75917,     0.75853,     0.75584,      0.7536,      0.7527,     0.75069,     0.74923,     0.74879,     0.74754,     0.74578,     0.74435,     0.74231,     0.74144,     0.73935,\n",
       "             0.7388,     0.73627,     0.73557,     0.73401,     0.73257,     0.73042,     0.72991,     0.72867,     0.72697,     0.72633,     0.72439,     0.72287,      0.7202,     0.71948,      0.7178,      0.7147,     0.71357,     0.71236,     0.70857,     0.70589,     0.70352,     0.70084,     0.70039,\n",
       "            0.69812,     0.69739,     0.69436,     0.69243,     0.68906,     0.68713,     0.68477,     0.68407,     0.68291,     0.67946,     0.67797,     0.67667,     0.67543,     0.67449,     0.67171,     0.66715,     0.66543,     0.66148,     0.65782,     0.65527,     0.65301,     0.64946,     0.64868,\n",
       "            0.64394,     0.63812,     0.63707,     0.63344,     0.63268,     0.63069,     0.62746,     0.62386,     0.62118,     0.61852,     0.61829,     0.61489,     0.61159,     0.60858,     0.60549,     0.60244,     0.59979,     0.59666,     0.59213,     0.59189,     0.58736,     0.58276,     0.57964,\n",
       "            0.57738,     0.57235,     0.56801,     0.56368,     0.56343,     0.55649,     0.55168,     0.54982,     0.54497,      0.5387,     0.53233,     0.52697,     0.52235,     0.51809,     0.51459,     0.50767,     0.50451,     0.49584,     0.49114,     0.48629,     0.48019,     0.47486,     0.46866,\n",
       "            0.46492,     0.46074,     0.45653,     0.45061,      0.4455,     0.44121,     0.43517,     0.43125,     0.42776,     0.41032,     0.40538,     0.39589,     0.39086,     0.38351,     0.37701,      0.3714,     0.36329,     0.35696,     0.34785,     0.33325,     0.32387,      0.3106,     0.30198,\n",
       "            0.29635,     0.28634,     0.28212,     0.27583,     0.26578,     0.24942,     0.24351,     0.23336,     0.22559,     0.21995,     0.21014,     0.19931,     0.18574,     0.17508,     0.16602,     0.16005,     0.14648,     0.14264,     0.13516,     0.12309,     0.11534,     0.10832,    0.093973,\n",
       "           0.087876,    0.083943,    0.081005,    0.074775,    0.071823,    0.064887,    0.061493,    0.052205,    0.047387,    0.045785,    0.039884,    0.038983,    0.034372,    0.031107,    0.028829,     0.02144,    0.018412,    0.013511,    0.010227,   0.0098688,   0.0083521,   0.0081469,   0.0079417,\n",
       "          0.0063273,   0.0058474,   0.0047719,   0.0044836,   0.0040566,   0.0030697,   0.0025847,   0.0022235,   0.0019897,    0.001809,   0.0016283,   0.0014475,   0.0012183,  0.00097719,  0.00073601,           0,           0,           0,           0,           0,           0,           0,           0,\n",
       "                  0,           0,           0,           0,           0,           0,           0,           0,           0,           0,           0,           0,           0,           0,           0,           0,           0,           0,           0,           0,           0,           0,           0,\n",
       "                  0,           0,           0,           0,           0,           0,           0,           0,           0,           0,           0,           0,           0,           0,           0,           0,           0,           0,           0,           0,           0,           0,           0,\n",
       "                  0,           0,           0,           0,           0,           0,           0,           0,           0,           0,           0]]), 'Confidence', 'F1'], [array([          0,    0.001001,    0.002002,    0.003003,    0.004004,    0.005005,    0.006006,    0.007007,    0.008008,    0.009009,     0.01001,    0.011011,    0.012012,    0.013013,    0.014014,    0.015015,    0.016016,    0.017017,    0.018018,    0.019019,     0.02002,    0.021021,    0.022022,    0.023023,\n",
       "          0.024024,    0.025025,    0.026026,    0.027027,    0.028028,    0.029029,     0.03003,    0.031031,    0.032032,    0.033033,    0.034034,    0.035035,    0.036036,    0.037037,    0.038038,    0.039039,     0.04004,    0.041041,    0.042042,    0.043043,    0.044044,    0.045045,    0.046046,    0.047047,\n",
       "          0.048048,    0.049049,     0.05005,    0.051051,    0.052052,    0.053053,    0.054054,    0.055055,    0.056056,    0.057057,    0.058058,    0.059059,     0.06006,    0.061061,    0.062062,    0.063063,    0.064064,    0.065065,    0.066066,    0.067067,    0.068068,    0.069069,     0.07007,    0.071071,\n",
       "          0.072072,    0.073073,    0.074074,    0.075075,    0.076076,    0.077077,    0.078078,    0.079079,     0.08008,    0.081081,    0.082082,    0.083083,    0.084084,    0.085085,    0.086086,    0.087087,    0.088088,    0.089089,     0.09009,    0.091091,    0.092092,    0.093093,    0.094094,    0.095095,\n",
       "          0.096096,    0.097097,    0.098098,    0.099099,      0.1001,      0.1011,      0.1021,      0.1031,      0.1041,     0.10511,     0.10611,     0.10711,     0.10811,     0.10911,     0.11011,     0.11111,     0.11211,     0.11311,     0.11411,     0.11512,     0.11612,     0.11712,     0.11812,     0.11912,\n",
       "           0.12012,     0.12112,     0.12212,     0.12312,     0.12412,     0.12513,     0.12613,     0.12713,     0.12813,     0.12913,     0.13013,     0.13113,     0.13213,     0.13313,     0.13413,     0.13514,     0.13614,     0.13714,     0.13814,     0.13914,     0.14014,     0.14114,     0.14214,     0.14314,\n",
       "           0.14414,     0.14515,     0.14615,     0.14715,     0.14815,     0.14915,     0.15015,     0.15115,     0.15215,     0.15315,     0.15415,     0.15516,     0.15616,     0.15716,     0.15816,     0.15916,     0.16016,     0.16116,     0.16216,     0.16316,     0.16416,     0.16517,     0.16617,     0.16717,\n",
       "           0.16817,     0.16917,     0.17017,     0.17117,     0.17217,     0.17317,     0.17417,     0.17518,     0.17618,     0.17718,     0.17818,     0.17918,     0.18018,     0.18118,     0.18218,     0.18318,     0.18418,     0.18519,     0.18619,     0.18719,     0.18819,     0.18919,     0.19019,     0.19119,\n",
       "           0.19219,     0.19319,     0.19419,      0.1952,      0.1962,      0.1972,      0.1982,      0.1992,      0.2002,      0.2012,      0.2022,      0.2032,      0.2042,     0.20521,     0.20621,     0.20721,     0.20821,     0.20921,     0.21021,     0.21121,     0.21221,     0.21321,     0.21421,     0.21522,\n",
       "           0.21622,     0.21722,     0.21822,     0.21922,     0.22022,     0.22122,     0.22222,     0.22322,     0.22422,     0.22523,     0.22623,     0.22723,     0.22823,     0.22923,     0.23023,     0.23123,     0.23223,     0.23323,     0.23423,     0.23524,     0.23624,     0.23724,     0.23824,     0.23924,\n",
       "           0.24024,     0.24124,     0.24224,     0.24324,     0.24424,     0.24525,     0.24625,     0.24725,     0.24825,     0.24925,     0.25025,     0.25125,     0.25225,     0.25325,     0.25425,     0.25526,     0.25626,     0.25726,     0.25826,     0.25926,     0.26026,     0.26126,     0.26226,     0.26326,\n",
       "           0.26426,     0.26527,     0.26627,     0.26727,     0.26827,     0.26927,     0.27027,     0.27127,     0.27227,     0.27327,     0.27427,     0.27528,     0.27628,     0.27728,     0.27828,     0.27928,     0.28028,     0.28128,     0.28228,     0.28328,     0.28428,     0.28529,     0.28629,     0.28729,\n",
       "           0.28829,     0.28929,     0.29029,     0.29129,     0.29229,     0.29329,     0.29429,      0.2953,      0.2963,      0.2973,      0.2983,      0.2993,      0.3003,      0.3013,      0.3023,      0.3033,      0.3043,     0.30531,     0.30631,     0.30731,     0.30831,     0.30931,     0.31031,     0.31131,\n",
       "           0.31231,     0.31331,     0.31431,     0.31532,     0.31632,     0.31732,     0.31832,     0.31932,     0.32032,     0.32132,     0.32232,     0.32332,     0.32432,     0.32533,     0.32633,     0.32733,     0.32833,     0.32933,     0.33033,     0.33133,     0.33233,     0.33333,     0.33433,     0.33534,\n",
       "           0.33634,     0.33734,     0.33834,     0.33934,     0.34034,     0.34134,     0.34234,     0.34334,     0.34434,     0.34535,     0.34635,     0.34735,     0.34835,     0.34935,     0.35035,     0.35135,     0.35235,     0.35335,     0.35435,     0.35536,     0.35636,     0.35736,     0.35836,     0.35936,\n",
       "           0.36036,     0.36136,     0.36236,     0.36336,     0.36436,     0.36537,     0.36637,     0.36737,     0.36837,     0.36937,     0.37037,     0.37137,     0.37237,     0.37337,     0.37437,     0.37538,     0.37638,     0.37738,     0.37838,     0.37938,     0.38038,     0.38138,     0.38238,     0.38338,\n",
       "           0.38438,     0.38539,     0.38639,     0.38739,     0.38839,     0.38939,     0.39039,     0.39139,     0.39239,     0.39339,     0.39439,      0.3954,      0.3964,      0.3974,      0.3984,      0.3994,      0.4004,      0.4014,      0.4024,      0.4034,      0.4044,     0.40541,     0.40641,     0.40741,\n",
       "           0.40841,     0.40941,     0.41041,     0.41141,     0.41241,     0.41341,     0.41441,     0.41542,     0.41642,     0.41742,     0.41842,     0.41942,     0.42042,     0.42142,     0.42242,     0.42342,     0.42442,     0.42543,     0.42643,     0.42743,     0.42843,     0.42943,     0.43043,     0.43143,\n",
       "           0.43243,     0.43343,     0.43443,     0.43544,     0.43644,     0.43744,     0.43844,     0.43944,     0.44044,     0.44144,     0.44244,     0.44344,     0.44444,     0.44545,     0.44645,     0.44745,     0.44845,     0.44945,     0.45045,     0.45145,     0.45245,     0.45345,     0.45445,     0.45546,\n",
       "           0.45646,     0.45746,     0.45846,     0.45946,     0.46046,     0.46146,     0.46246,     0.46346,     0.46446,     0.46547,     0.46647,     0.46747,     0.46847,     0.46947,     0.47047,     0.47147,     0.47247,     0.47347,     0.47447,     0.47548,     0.47648,     0.47748,     0.47848,     0.47948,\n",
       "           0.48048,     0.48148,     0.48248,     0.48348,     0.48448,     0.48549,     0.48649,     0.48749,     0.48849,     0.48949,     0.49049,     0.49149,     0.49249,     0.49349,     0.49449,      0.4955,      0.4965,      0.4975,      0.4985,      0.4995,      0.5005,      0.5015,      0.5025,      0.5035,\n",
       "            0.5045,     0.50551,     0.50651,     0.50751,     0.50851,     0.50951,     0.51051,     0.51151,     0.51251,     0.51351,     0.51451,     0.51552,     0.51652,     0.51752,     0.51852,     0.51952,     0.52052,     0.52152,     0.52252,     0.52352,     0.52452,     0.52553,     0.52653,     0.52753,\n",
       "           0.52853,     0.52953,     0.53053,     0.53153,     0.53253,     0.53353,     0.53453,     0.53554,     0.53654,     0.53754,     0.53854,     0.53954,     0.54054,     0.54154,     0.54254,     0.54354,     0.54454,     0.54555,     0.54655,     0.54755,     0.54855,     0.54955,     0.55055,     0.55155,\n",
       "           0.55255,     0.55355,     0.55455,     0.55556,     0.55656,     0.55756,     0.55856,     0.55956,     0.56056,     0.56156,     0.56256,     0.56356,     0.56456,     0.56557,     0.56657,     0.56757,     0.56857,     0.56957,     0.57057,     0.57157,     0.57257,     0.57357,     0.57457,     0.57558,\n",
       "           0.57658,     0.57758,     0.57858,     0.57958,     0.58058,     0.58158,     0.58258,     0.58358,     0.58458,     0.58559,     0.58659,     0.58759,     0.58859,     0.58959,     0.59059,     0.59159,     0.59259,     0.59359,     0.59459,      0.5956,      0.5966,      0.5976,      0.5986,      0.5996,\n",
       "            0.6006,      0.6016,      0.6026,      0.6036,      0.6046,     0.60561,     0.60661,     0.60761,     0.60861,     0.60961,     0.61061,     0.61161,     0.61261,     0.61361,     0.61461,     0.61562,     0.61662,     0.61762,     0.61862,     0.61962,     0.62062,     0.62162,     0.62262,     0.62362,\n",
       "           0.62462,     0.62563,     0.62663,     0.62763,     0.62863,     0.62963,     0.63063,     0.63163,     0.63263,     0.63363,     0.63463,     0.63564,     0.63664,     0.63764,     0.63864,     0.63964,     0.64064,     0.64164,     0.64264,     0.64364,     0.64464,     0.64565,     0.64665,     0.64765,\n",
       "           0.64865,     0.64965,     0.65065,     0.65165,     0.65265,     0.65365,     0.65465,     0.65566,     0.65666,     0.65766,     0.65866,     0.65966,     0.66066,     0.66166,     0.66266,     0.66366,     0.66466,     0.66567,     0.66667,     0.66767,     0.66867,     0.66967,     0.67067,     0.67167,\n",
       "           0.67267,     0.67367,     0.67467,     0.67568,     0.67668,     0.67768,     0.67868,     0.67968,     0.68068,     0.68168,     0.68268,     0.68368,     0.68468,     0.68569,     0.68669,     0.68769,     0.68869,     0.68969,     0.69069,     0.69169,     0.69269,     0.69369,     0.69469,      0.6957,\n",
       "            0.6967,      0.6977,      0.6987,      0.6997,      0.7007,      0.7017,      0.7027,      0.7037,      0.7047,     0.70571,     0.70671,     0.70771,     0.70871,     0.70971,     0.71071,     0.71171,     0.71271,     0.71371,     0.71471,     0.71572,     0.71672,     0.71772,     0.71872,     0.71972,\n",
       "           0.72072,     0.72172,     0.72272,     0.72372,     0.72472,     0.72573,     0.72673,     0.72773,     0.72873,     0.72973,     0.73073,     0.73173,     0.73273,     0.73373,     0.73473,     0.73574,     0.73674,     0.73774,     0.73874,     0.73974,     0.74074,     0.74174,     0.74274,     0.74374,\n",
       "           0.74474,     0.74575,     0.74675,     0.74775,     0.74875,     0.74975,     0.75075,     0.75175,     0.75275,     0.75375,     0.75475,     0.75576,     0.75676,     0.75776,     0.75876,     0.75976,     0.76076,     0.76176,     0.76276,     0.76376,     0.76476,     0.76577,     0.76677,     0.76777,\n",
       "           0.76877,     0.76977,     0.77077,     0.77177,     0.77277,     0.77377,     0.77477,     0.77578,     0.77678,     0.77778,     0.77878,     0.77978,     0.78078,     0.78178,     0.78278,     0.78378,     0.78478,     0.78579,     0.78679,     0.78779,     0.78879,     0.78979,     0.79079,     0.79179,\n",
       "           0.79279,     0.79379,     0.79479,      0.7958,      0.7968,      0.7978,      0.7988,      0.7998,      0.8008,      0.8018,      0.8028,      0.8038,      0.8048,     0.80581,     0.80681,     0.80781,     0.80881,     0.80981,     0.81081,     0.81181,     0.81281,     0.81381,     0.81481,     0.81582,\n",
       "           0.81682,     0.81782,     0.81882,     0.81982,     0.82082,     0.82182,     0.82282,     0.82382,     0.82482,     0.82583,     0.82683,     0.82783,     0.82883,     0.82983,     0.83083,     0.83183,     0.83283,     0.83383,     0.83483,     0.83584,     0.83684,     0.83784,     0.83884,     0.83984,\n",
       "           0.84084,     0.84184,     0.84284,     0.84384,     0.84484,     0.84585,     0.84685,     0.84785,     0.84885,     0.84985,     0.85085,     0.85185,     0.85285,     0.85385,     0.85485,     0.85586,     0.85686,     0.85786,     0.85886,     0.85986,     0.86086,     0.86186,     0.86286,     0.86386,\n",
       "           0.86486,     0.86587,     0.86687,     0.86787,     0.86887,     0.86987,     0.87087,     0.87187,     0.87287,     0.87387,     0.87487,     0.87588,     0.87688,     0.87788,     0.87888,     0.87988,     0.88088,     0.88188,     0.88288,     0.88388,     0.88488,     0.88589,     0.88689,     0.88789,\n",
       "           0.88889,     0.88989,     0.89089,     0.89189,     0.89289,     0.89389,     0.89489,      0.8959,      0.8969,      0.8979,      0.8989,      0.8999,      0.9009,      0.9019,      0.9029,      0.9039,      0.9049,     0.90591,     0.90691,     0.90791,     0.90891,     0.90991,     0.91091,     0.91191,\n",
       "           0.91291,     0.91391,     0.91491,     0.91592,     0.91692,     0.91792,     0.91892,     0.91992,     0.92092,     0.92192,     0.92292,     0.92392,     0.92492,     0.92593,     0.92693,     0.92793,     0.92893,     0.92993,     0.93093,     0.93193,     0.93293,     0.93393,     0.93493,     0.93594,\n",
       "           0.93694,     0.93794,     0.93894,     0.93994,     0.94094,     0.94194,     0.94294,     0.94394,     0.94494,     0.94595,     0.94695,     0.94795,     0.94895,     0.94995,     0.95095,     0.95195,     0.95295,     0.95395,     0.95495,     0.95596,     0.95696,     0.95796,     0.95896,     0.95996,\n",
       "           0.96096,     0.96196,     0.96296,     0.96396,     0.96496,     0.96597,     0.96697,     0.96797,     0.96897,     0.96997,     0.97097,     0.97197,     0.97297,     0.97397,     0.97497,     0.97598,     0.97698,     0.97798,     0.97898,     0.97998,     0.98098,     0.98198,     0.98298,     0.98398,\n",
       "           0.98498,     0.98599,     0.98699,     0.98799,     0.98899,     0.98999,     0.99099,     0.99199,     0.99299,     0.99399,     0.99499,       0.996,       0.997,       0.998,       0.999,           1]), array([[    0.19841,     0.19841,     0.26348,     0.30833,     0.34083,     0.36636,     0.39011,     0.40953,     0.42724,     0.44142,     0.45465,     0.46705,     0.47675,     0.48714,     0.49589,     0.50466,      0.5119,     0.52004,     0.52688,     0.53398,     0.54114,     0.54673,     0.55314,\n",
       "            0.56014,     0.56504,     0.56879,     0.57453,     0.57892,     0.58364,     0.58827,     0.59258,     0.59619,     0.59993,     0.60368,     0.60714,      0.6116,     0.61557,     0.61853,      0.6222,     0.62546,     0.62868,     0.63401,     0.63645,     0.63819,     0.63992,      0.6432,\n",
       "            0.64639,     0.65042,     0.65319,     0.65582,     0.65866,     0.66096,     0.66426,     0.66725,     0.67014,     0.67199,     0.67392,     0.67523,     0.67703,     0.68074,     0.68323,     0.68544,     0.68761,     0.68912,     0.69103,      0.6922,     0.69404,     0.69598,      0.6973,\n",
       "            0.69794,     0.70003,     0.70117,     0.70375,     0.70531,     0.70765,      0.7104,     0.71105,     0.71232,     0.71414,     0.71598,     0.71725,     0.71802,     0.71863,     0.71951,     0.72163,     0.72445,     0.72584,     0.72782,     0.72867,     0.73097,     0.73262,      0.7347,\n",
       "            0.73506,     0.73632,     0.73757,     0.73937,     0.73999,     0.74121,     0.74184,     0.74288,     0.74434,     0.74662,     0.74788,     0.74862,     0.74963,      0.7513,     0.75297,     0.75386,     0.75508,     0.75632,     0.75792,     0.75887,     0.76012,     0.76155,     0.76267,\n",
       "            0.76403,     0.76477,     0.76591,     0.76722,      0.7678,     0.76859,     0.76935,     0.77011,     0.77114,     0.77213,     0.77279,     0.77395,     0.77525,     0.77649,     0.77702,     0.77861,      0.7789,     0.78014,     0.78167,      0.7828,     0.78363,     0.78458,     0.78487,\n",
       "            0.78596,     0.78663,     0.78705,     0.78831,     0.78929,     0.79045,     0.79065,     0.79252,     0.79422,     0.79535,     0.79654,     0.79727,      0.7979,     0.79841,     0.79964,      0.8006,     0.80129,     0.80179,       0.803,     0.80451,     0.80586,     0.80624,     0.80669,\n",
       "            0.80768,     0.80913,     0.80927,     0.80952,     0.81037,     0.81078,     0.81151,       0.813,     0.81367,     0.81409,     0.81433,     0.81472,     0.81514,      0.8154,     0.81537,     0.81561,     0.81587,     0.81619,     0.81665,     0.81754,     0.81776,     0.81854,     0.81928,\n",
       "            0.81923,     0.82021,     0.82126,     0.82123,      0.8214,     0.82224,     0.82321,     0.82358,      0.8243,     0.82491,     0.82505,      0.8258,     0.82677,     0.82775,      0.8284,     0.82938,     0.83084,     0.83235,     0.83249,     0.83333,     0.83329,     0.83393,     0.83461,\n",
       "            0.83545,     0.83559,     0.83666,     0.83735,     0.83755,     0.83811,     0.83823,     0.83885,     0.83927,     0.83972,     0.84006,     0.84058,     0.84079,     0.84225,     0.84295,     0.84296,     0.84316,      0.8435,     0.84347,     0.84351,     0.84382,     0.84395,     0.84401,\n",
       "            0.84526,     0.84561,     0.84618,     0.84669,     0.84763,     0.84786,     0.84795,     0.84841,     0.84866,     0.84874,     0.84979,        0.85,     0.85022,     0.85019,     0.85042,     0.85073,     0.85093,     0.85095,      0.8515,     0.85142,      0.8517,     0.85238,      0.8531,\n",
       "            0.85385,     0.85423,     0.85453,     0.85523,     0.85581,     0.85615,      0.8565,     0.85667,     0.85679,     0.85714,     0.85707,     0.85757,     0.85787,     0.85791,     0.85811,     0.85843,     0.85894,     0.85891,     0.86009,     0.86036,      0.8605,     0.86086,     0.86147,\n",
       "            0.86217,     0.86237,     0.86255,     0.86334,     0.86376,     0.86382,     0.86413,     0.86484,     0.86511,     0.86528,     0.86579,     0.86603,     0.86673,      0.8668,     0.86692,     0.86701,     0.86697,     0.86767,     0.86782,     0.86806,      0.8682,      0.8686,     0.86871,\n",
       "            0.86884,     0.86966,     0.87002,     0.87066,     0.87136,     0.87174,     0.87213,     0.87247,     0.87256,     0.87265,     0.87275,     0.87287,       0.873,     0.87359,     0.87355,      0.8738,      0.8737,     0.87419,     0.87453,     0.87516,     0.87543,     0.87538,      0.8754,\n",
       "            0.87558,     0.87558,     0.87575,      0.8757,     0.87637,     0.87711,     0.87762,     0.87802,     0.87865,     0.87862,     0.87859,     0.87874,      0.8794,     0.88005,     0.88064,     0.88106,     0.88119,     0.88124,     0.88147,     0.88195,     0.88229,      0.8833,     0.88351,\n",
       "             0.8837,     0.88394,     0.88444,     0.88441,     0.88446,     0.88464,     0.88457,     0.88483,      0.8849,     0.88555,     0.88592,     0.88629,     0.88662,     0.88702,       0.887,     0.88728,     0.88801,     0.88815,     0.88859,     0.88907,     0.88958,     0.88991,     0.89032,\n",
       "            0.89066,     0.89059,     0.89064,     0.89086,     0.89094,     0.89122,     0.89141,     0.89211,     0.89231,     0.89272,     0.89307,     0.89304,     0.89319,     0.89371,     0.89459,     0.89467,     0.89521,     0.89531,     0.89635,     0.89644,     0.89706,     0.89719,     0.89738,\n",
       "            0.89772,     0.89873,     0.89904,     0.89933,     0.89942,     0.89999,     0.90047,     0.90093,     0.90177,     0.90198,     0.90268,     0.90271,      0.9027,     0.90269,     0.90258,     0.90284,     0.90381,     0.90408,     0.90426,     0.90434,     0.90427,     0.90426,      0.9047,\n",
       "            0.90525,     0.90555,      0.9061,     0.90679,     0.90779,     0.90811,     0.90867,     0.90885,     0.90951,     0.90985,      0.9102,     0.91159,     0.91223,     0.91223,     0.91251,     0.91253,     0.91279,     0.91283,     0.91318,     0.91411,     0.91408,     0.91406,       0.914,\n",
       "            0.91464,      0.9146,     0.91501,     0.91519,     0.91518,     0.91517,     0.91581,     0.91585,     0.91584,     0.91648,      0.9179,     0.91824,     0.91895,     0.91927,     0.91961,     0.92028,     0.92025,     0.92054,      0.9205,     0.92063,     0.92132,     0.92196,     0.92215,\n",
       "            0.92219,     0.92216,     0.92225,     0.92243,     0.92247,     0.92246,     0.92245,     0.92276,     0.92273,     0.92269,     0.92266,     0.92272,     0.92284,     0.92297,     0.92333,     0.92332,     0.92384,     0.92403,     0.92472,     0.92471,     0.92486,     0.92485,     0.92484,\n",
       "            0.92483,     0.92554,     0.92592,     0.92623,     0.92697,     0.92718,     0.92724,     0.92759,     0.92797,     0.92835,     0.92964,     0.92973,     0.93082,     0.93101,     0.93116,      0.9317,     0.93169,     0.93167,     0.93223,     0.93239,     0.93238,     0.93236,     0.93365,\n",
       "            0.93404,     0.93414,     0.93449,     0.93517,     0.93558,     0.93577,     0.93609,     0.93759,     0.93753,     0.93748,     0.93818,      0.9389,     0.93928,     0.93925,     0.93924,     0.93925,     0.93997,     0.94072,     0.94074,     0.94144,     0.94142,      0.9414,     0.94184,\n",
       "             0.9425,     0.94249,     0.94238,     0.94238,     0.94237,     0.94233,     0.94281,     0.94304,     0.94319,     0.94391,     0.94409,     0.94406,     0.94444,     0.94443,      0.9445,     0.94463,     0.94477,     0.94481,     0.94479,     0.94477,     0.94473,     0.94507,     0.94503,\n",
       "            0.94491,     0.94528,     0.94597,     0.94597,     0.94596,     0.94626,     0.94625,     0.94709,     0.94729,     0.94788,     0.94808,     0.94813,     0.94811,     0.94805,     0.94804,     0.94838,     0.94836,      0.9486,      0.9487,     0.94869,     0.94899,     0.94985,     0.94983,\n",
       "            0.95019,     0.95056,     0.95056,     0.95095,     0.95123,     0.95161,     0.95156,     0.95192,     0.95188,     0.95179,     0.95177,     0.95255,     0.95253,     0.95289,     0.95288,     0.95328,     0.95327,     0.95364,     0.95399,     0.95475,     0.95474,     0.95623,     0.95646,\n",
       "            0.95668,     0.95676,     0.95674,      0.9571,     0.95748,     0.95752,     0.95774,     0.95803,     0.95817,     0.95853,     0.95861,     0.95901,     0.95929,     0.95925,     0.95962,     0.95957,     0.96006,     0.96028,     0.96122,      0.9612,     0.96201,       0.962,     0.96323,\n",
       "             0.9632,     0.96404,      0.9644,     0.96438,     0.96436,     0.96462,     0.96473,     0.96469,     0.96466,     0.96465,     0.96505,     0.96506,     0.96534,     0.96531,      0.9653,     0.96529,     0.96528,     0.96569,      0.9661,     0.96603,     0.96639,     0.96636,     0.96634,\n",
       "            0.96632,     0.96716,     0.96715,     0.96744,     0.96754,     0.96882,      0.9689,     0.96921,     0.96929,     0.96959,     0.96951,     0.96992,      0.9699,     0.96985,     0.97071,     0.97109,     0.97108,     0.97108,     0.97239,     0.97238,     0.97233,     0.97235,     0.97271,\n",
       "            0.97302,      0.9733,     0.97354,     0.97495,     0.97537,     0.97536,     0.97534,     0.97532,     0.97574,     0.97573,     0.97566,     0.97612,     0.97608,     0.97654,     0.97696,     0.97694,     0.97738,     0.97736,     0.97778,     0.97776,     0.97769,     0.97764,     0.97762,\n",
       "            0.97806,     0.97853,     0.97946,     0.97943,     0.97941,     0.98026,     0.98082,     0.98078,     0.98124,     0.98124,     0.98169,     0.98165,     0.98162,     0.98158,     0.98158,     0.98154,       0.982,     0.98199,     0.98197,     0.98195,     0.98294,     0.98393,     0.98424,\n",
       "            0.98491,      0.9849,     0.98506,     0.98628,     0.98634,     0.98632,     0.98624,     0.98624,     0.98671,     0.98666,     0.98663,     0.98696,     0.98767,     0.98767,     0.98762,     0.98757,     0.98756,     0.98752,     0.98751,       0.988,     0.98797,     0.98794,     0.98792,\n",
       "            0.98864,     0.98894,     0.98891,     0.98884,     0.98881,      0.9888,     0.98877,     0.98873,     0.98869,     0.98922,     0.98921,     0.98971,     0.98966,     0.98964,     0.99073,     0.99071,     0.99127,     0.99125,     0.99121,     0.99119,     0.99173,     0.99172,     0.99168,\n",
       "            0.99225,     0.99222,      0.9922,     0.99218,     0.99215,     0.99339,     0.99391,      0.9939,     0.99448,     0.99447,     0.99445,     0.99443,      0.9944,     0.99439,     0.99499,     0.99496,     0.99557,     0.99556,     0.99552,      0.9955,     0.99548,     0.99545,     0.99544,\n",
       "            0.99542,     0.99541,     0.99604,     0.99602,     0.99666,     0.99664,     0.99663,     0.99662,     0.99661,     0.99659,     0.99657,     0.99656,     0.99655,     0.99655,     0.99653,     0.99649,     0.99648,     0.99645,     0.99642,     0.99639,     0.99638,     0.99635,     0.99634,\n",
       "             0.9963,     0.99625,     0.99624,     0.99621,      0.9962,     0.99619,     0.99616,     0.99613,      0.9961,     0.99608,     0.99608,     0.99762,      0.9976,     0.99759,     0.99757,     0.99755,     0.99753,     0.99752,     0.99749,     0.99749,     0.99746,     0.99743,     0.99741,\n",
       "            0.99826,     0.99824,     0.99822,      0.9982,      0.9982,     0.99817,     0.99815,     0.99814,     0.99812,     0.99809,     0.99806,     0.99803,     0.99801,     0.99798,     0.99797,     0.99896,     0.99895,     0.99893,     0.99892,      0.9989,     0.99888,     0.99887,     0.99885,\n",
       "            0.99884,     0.99882,     0.99881,     0.99879,     0.99877,     0.99875,     0.99873,     0.99872,      0.9987,     0.99863,     0.99861,     0.99857,     0.99855,     0.99851,     0.99848,     0.99845,     0.99841,     0.99838,     0.99833,     0.99824,     0.99818,     0.99808,     0.99802,\n",
       "            0.99797,     0.99789,     0.99785,      0.9978,      0.9977,     0.99753,           1,           1,           1,           1,           1,           1,           1,           1,           1,           1,           1,           1,           1,           1,           1,           1,           1,\n",
       "                  1,           1,           1,           1,           1,           1,           1,           1,           1,           1,           1,           1,           1,           1,           1,           1,           1,           1,           1,           1,           1,           1,           1,\n",
       "                  1,           1,           1,           1,           1,           1,           1,           1,           1,           1,           1,           1,           1,           1,           1,           1,           1,           1,           1,           1,           1,           1,           1,\n",
       "                  1,           1,           1,           1,           1,           1,           1,           1,           1,           1,           1,           1,           1,           1,           1,           1,           1,           1,           1,           1,           1,           1,           1,\n",
       "                  1,           1,           1,           1,           1,           1,           1,           1,           1,           1,           1,           1,           1,           1,           1,           1,           1,           1,           1,           1,           1,           1,           1,\n",
       "                  1,           1,           1,           1,           1,           1,           1,           1,           1,           1,           1]]), 'Confidence', 'Precision'], [array([          0,    0.001001,    0.002002,    0.003003,    0.004004,    0.005005,    0.006006,    0.007007,    0.008008,    0.009009,     0.01001,    0.011011,    0.012012,    0.013013,    0.014014,    0.015015,    0.016016,    0.017017,    0.018018,    0.019019,     0.02002,    0.021021,    0.022022,    0.023023,\n",
       "          0.024024,    0.025025,    0.026026,    0.027027,    0.028028,    0.029029,     0.03003,    0.031031,    0.032032,    0.033033,    0.034034,    0.035035,    0.036036,    0.037037,    0.038038,    0.039039,     0.04004,    0.041041,    0.042042,    0.043043,    0.044044,    0.045045,    0.046046,    0.047047,\n",
       "          0.048048,    0.049049,     0.05005,    0.051051,    0.052052,    0.053053,    0.054054,    0.055055,    0.056056,    0.057057,    0.058058,    0.059059,     0.06006,    0.061061,    0.062062,    0.063063,    0.064064,    0.065065,    0.066066,    0.067067,    0.068068,    0.069069,     0.07007,    0.071071,\n",
       "          0.072072,    0.073073,    0.074074,    0.075075,    0.076076,    0.077077,    0.078078,    0.079079,     0.08008,    0.081081,    0.082082,    0.083083,    0.084084,    0.085085,    0.086086,    0.087087,    0.088088,    0.089089,     0.09009,    0.091091,    0.092092,    0.093093,    0.094094,    0.095095,\n",
       "          0.096096,    0.097097,    0.098098,    0.099099,      0.1001,      0.1011,      0.1021,      0.1031,      0.1041,     0.10511,     0.10611,     0.10711,     0.10811,     0.10911,     0.11011,     0.11111,     0.11211,     0.11311,     0.11411,     0.11512,     0.11612,     0.11712,     0.11812,     0.11912,\n",
       "           0.12012,     0.12112,     0.12212,     0.12312,     0.12412,     0.12513,     0.12613,     0.12713,     0.12813,     0.12913,     0.13013,     0.13113,     0.13213,     0.13313,     0.13413,     0.13514,     0.13614,     0.13714,     0.13814,     0.13914,     0.14014,     0.14114,     0.14214,     0.14314,\n",
       "           0.14414,     0.14515,     0.14615,     0.14715,     0.14815,     0.14915,     0.15015,     0.15115,     0.15215,     0.15315,     0.15415,     0.15516,     0.15616,     0.15716,     0.15816,     0.15916,     0.16016,     0.16116,     0.16216,     0.16316,     0.16416,     0.16517,     0.16617,     0.16717,\n",
       "           0.16817,     0.16917,     0.17017,     0.17117,     0.17217,     0.17317,     0.17417,     0.17518,     0.17618,     0.17718,     0.17818,     0.17918,     0.18018,     0.18118,     0.18218,     0.18318,     0.18418,     0.18519,     0.18619,     0.18719,     0.18819,     0.18919,     0.19019,     0.19119,\n",
       "           0.19219,     0.19319,     0.19419,      0.1952,      0.1962,      0.1972,      0.1982,      0.1992,      0.2002,      0.2012,      0.2022,      0.2032,      0.2042,     0.20521,     0.20621,     0.20721,     0.20821,     0.20921,     0.21021,     0.21121,     0.21221,     0.21321,     0.21421,     0.21522,\n",
       "           0.21622,     0.21722,     0.21822,     0.21922,     0.22022,     0.22122,     0.22222,     0.22322,     0.22422,     0.22523,     0.22623,     0.22723,     0.22823,     0.22923,     0.23023,     0.23123,     0.23223,     0.23323,     0.23423,     0.23524,     0.23624,     0.23724,     0.23824,     0.23924,\n",
       "           0.24024,     0.24124,     0.24224,     0.24324,     0.24424,     0.24525,     0.24625,     0.24725,     0.24825,     0.24925,     0.25025,     0.25125,     0.25225,     0.25325,     0.25425,     0.25526,     0.25626,     0.25726,     0.25826,     0.25926,     0.26026,     0.26126,     0.26226,     0.26326,\n",
       "           0.26426,     0.26527,     0.26627,     0.26727,     0.26827,     0.26927,     0.27027,     0.27127,     0.27227,     0.27327,     0.27427,     0.27528,     0.27628,     0.27728,     0.27828,     0.27928,     0.28028,     0.28128,     0.28228,     0.28328,     0.28428,     0.28529,     0.28629,     0.28729,\n",
       "           0.28829,     0.28929,     0.29029,     0.29129,     0.29229,     0.29329,     0.29429,      0.2953,      0.2963,      0.2973,      0.2983,      0.2993,      0.3003,      0.3013,      0.3023,      0.3033,      0.3043,     0.30531,     0.30631,     0.30731,     0.30831,     0.30931,     0.31031,     0.31131,\n",
       "           0.31231,     0.31331,     0.31431,     0.31532,     0.31632,     0.31732,     0.31832,     0.31932,     0.32032,     0.32132,     0.32232,     0.32332,     0.32432,     0.32533,     0.32633,     0.32733,     0.32833,     0.32933,     0.33033,     0.33133,     0.33233,     0.33333,     0.33433,     0.33534,\n",
       "           0.33634,     0.33734,     0.33834,     0.33934,     0.34034,     0.34134,     0.34234,     0.34334,     0.34434,     0.34535,     0.34635,     0.34735,     0.34835,     0.34935,     0.35035,     0.35135,     0.35235,     0.35335,     0.35435,     0.35536,     0.35636,     0.35736,     0.35836,     0.35936,\n",
       "           0.36036,     0.36136,     0.36236,     0.36336,     0.36436,     0.36537,     0.36637,     0.36737,     0.36837,     0.36937,     0.37037,     0.37137,     0.37237,     0.37337,     0.37437,     0.37538,     0.37638,     0.37738,     0.37838,     0.37938,     0.38038,     0.38138,     0.38238,     0.38338,\n",
       "           0.38438,     0.38539,     0.38639,     0.38739,     0.38839,     0.38939,     0.39039,     0.39139,     0.39239,     0.39339,     0.39439,      0.3954,      0.3964,      0.3974,      0.3984,      0.3994,      0.4004,      0.4014,      0.4024,      0.4034,      0.4044,     0.40541,     0.40641,     0.40741,\n",
       "           0.40841,     0.40941,     0.41041,     0.41141,     0.41241,     0.41341,     0.41441,     0.41542,     0.41642,     0.41742,     0.41842,     0.41942,     0.42042,     0.42142,     0.42242,     0.42342,     0.42442,     0.42543,     0.42643,     0.42743,     0.42843,     0.42943,     0.43043,     0.43143,\n",
       "           0.43243,     0.43343,     0.43443,     0.43544,     0.43644,     0.43744,     0.43844,     0.43944,     0.44044,     0.44144,     0.44244,     0.44344,     0.44444,     0.44545,     0.44645,     0.44745,     0.44845,     0.44945,     0.45045,     0.45145,     0.45245,     0.45345,     0.45445,     0.45546,\n",
       "           0.45646,     0.45746,     0.45846,     0.45946,     0.46046,     0.46146,     0.46246,     0.46346,     0.46446,     0.46547,     0.46647,     0.46747,     0.46847,     0.46947,     0.47047,     0.47147,     0.47247,     0.47347,     0.47447,     0.47548,     0.47648,     0.47748,     0.47848,     0.47948,\n",
       "           0.48048,     0.48148,     0.48248,     0.48348,     0.48448,     0.48549,     0.48649,     0.48749,     0.48849,     0.48949,     0.49049,     0.49149,     0.49249,     0.49349,     0.49449,      0.4955,      0.4965,      0.4975,      0.4985,      0.4995,      0.5005,      0.5015,      0.5025,      0.5035,\n",
       "            0.5045,     0.50551,     0.50651,     0.50751,     0.50851,     0.50951,     0.51051,     0.51151,     0.51251,     0.51351,     0.51451,     0.51552,     0.51652,     0.51752,     0.51852,     0.51952,     0.52052,     0.52152,     0.52252,     0.52352,     0.52452,     0.52553,     0.52653,     0.52753,\n",
       "           0.52853,     0.52953,     0.53053,     0.53153,     0.53253,     0.53353,     0.53453,     0.53554,     0.53654,     0.53754,     0.53854,     0.53954,     0.54054,     0.54154,     0.54254,     0.54354,     0.54454,     0.54555,     0.54655,     0.54755,     0.54855,     0.54955,     0.55055,     0.55155,\n",
       "           0.55255,     0.55355,     0.55455,     0.55556,     0.55656,     0.55756,     0.55856,     0.55956,     0.56056,     0.56156,     0.56256,     0.56356,     0.56456,     0.56557,     0.56657,     0.56757,     0.56857,     0.56957,     0.57057,     0.57157,     0.57257,     0.57357,     0.57457,     0.57558,\n",
       "           0.57658,     0.57758,     0.57858,     0.57958,     0.58058,     0.58158,     0.58258,     0.58358,     0.58458,     0.58559,     0.58659,     0.58759,     0.58859,     0.58959,     0.59059,     0.59159,     0.59259,     0.59359,     0.59459,      0.5956,      0.5966,      0.5976,      0.5986,      0.5996,\n",
       "            0.6006,      0.6016,      0.6026,      0.6036,      0.6046,     0.60561,     0.60661,     0.60761,     0.60861,     0.60961,     0.61061,     0.61161,     0.61261,     0.61361,     0.61461,     0.61562,     0.61662,     0.61762,     0.61862,     0.61962,     0.62062,     0.62162,     0.62262,     0.62362,\n",
       "           0.62462,     0.62563,     0.62663,     0.62763,     0.62863,     0.62963,     0.63063,     0.63163,     0.63263,     0.63363,     0.63463,     0.63564,     0.63664,     0.63764,     0.63864,     0.63964,     0.64064,     0.64164,     0.64264,     0.64364,     0.64464,     0.64565,     0.64665,     0.64765,\n",
       "           0.64865,     0.64965,     0.65065,     0.65165,     0.65265,     0.65365,     0.65465,     0.65566,     0.65666,     0.65766,     0.65866,     0.65966,     0.66066,     0.66166,     0.66266,     0.66366,     0.66466,     0.66567,     0.66667,     0.66767,     0.66867,     0.66967,     0.67067,     0.67167,\n",
       "           0.67267,     0.67367,     0.67467,     0.67568,     0.67668,     0.67768,     0.67868,     0.67968,     0.68068,     0.68168,     0.68268,     0.68368,     0.68468,     0.68569,     0.68669,     0.68769,     0.68869,     0.68969,     0.69069,     0.69169,     0.69269,     0.69369,     0.69469,      0.6957,\n",
       "            0.6967,      0.6977,      0.6987,      0.6997,      0.7007,      0.7017,      0.7027,      0.7037,      0.7047,     0.70571,     0.70671,     0.70771,     0.70871,     0.70971,     0.71071,     0.71171,     0.71271,     0.71371,     0.71471,     0.71572,     0.71672,     0.71772,     0.71872,     0.71972,\n",
       "           0.72072,     0.72172,     0.72272,     0.72372,     0.72472,     0.72573,     0.72673,     0.72773,     0.72873,     0.72973,     0.73073,     0.73173,     0.73273,     0.73373,     0.73473,     0.73574,     0.73674,     0.73774,     0.73874,     0.73974,     0.74074,     0.74174,     0.74274,     0.74374,\n",
       "           0.74474,     0.74575,     0.74675,     0.74775,     0.74875,     0.74975,     0.75075,     0.75175,     0.75275,     0.75375,     0.75475,     0.75576,     0.75676,     0.75776,     0.75876,     0.75976,     0.76076,     0.76176,     0.76276,     0.76376,     0.76476,     0.76577,     0.76677,     0.76777,\n",
       "           0.76877,     0.76977,     0.77077,     0.77177,     0.77277,     0.77377,     0.77477,     0.77578,     0.77678,     0.77778,     0.77878,     0.77978,     0.78078,     0.78178,     0.78278,     0.78378,     0.78478,     0.78579,     0.78679,     0.78779,     0.78879,     0.78979,     0.79079,     0.79179,\n",
       "           0.79279,     0.79379,     0.79479,      0.7958,      0.7968,      0.7978,      0.7988,      0.7998,      0.8008,      0.8018,      0.8028,      0.8038,      0.8048,     0.80581,     0.80681,     0.80781,     0.80881,     0.80981,     0.81081,     0.81181,     0.81281,     0.81381,     0.81481,     0.81582,\n",
       "           0.81682,     0.81782,     0.81882,     0.81982,     0.82082,     0.82182,     0.82282,     0.82382,     0.82482,     0.82583,     0.82683,     0.82783,     0.82883,     0.82983,     0.83083,     0.83183,     0.83283,     0.83383,     0.83483,     0.83584,     0.83684,     0.83784,     0.83884,     0.83984,\n",
       "           0.84084,     0.84184,     0.84284,     0.84384,     0.84484,     0.84585,     0.84685,     0.84785,     0.84885,     0.84985,     0.85085,     0.85185,     0.85285,     0.85385,     0.85485,     0.85586,     0.85686,     0.85786,     0.85886,     0.85986,     0.86086,     0.86186,     0.86286,     0.86386,\n",
       "           0.86486,     0.86587,     0.86687,     0.86787,     0.86887,     0.86987,     0.87087,     0.87187,     0.87287,     0.87387,     0.87487,     0.87588,     0.87688,     0.87788,     0.87888,     0.87988,     0.88088,     0.88188,     0.88288,     0.88388,     0.88488,     0.88589,     0.88689,     0.88789,\n",
       "           0.88889,     0.88989,     0.89089,     0.89189,     0.89289,     0.89389,     0.89489,      0.8959,      0.8969,      0.8979,      0.8989,      0.8999,      0.9009,      0.9019,      0.9029,      0.9039,      0.9049,     0.90591,     0.90691,     0.90791,     0.90891,     0.90991,     0.91091,     0.91191,\n",
       "           0.91291,     0.91391,     0.91491,     0.91592,     0.91692,     0.91792,     0.91892,     0.91992,     0.92092,     0.92192,     0.92292,     0.92392,     0.92492,     0.92593,     0.92693,     0.92793,     0.92893,     0.92993,     0.93093,     0.93193,     0.93293,     0.93393,     0.93493,     0.93594,\n",
       "           0.93694,     0.93794,     0.93894,     0.93994,     0.94094,     0.94194,     0.94294,     0.94394,     0.94494,     0.94595,     0.94695,     0.94795,     0.94895,     0.94995,     0.95095,     0.95195,     0.95295,     0.95395,     0.95495,     0.95596,     0.95696,     0.95796,     0.95896,     0.95996,\n",
       "           0.96096,     0.96196,     0.96296,     0.96396,     0.96496,     0.96597,     0.96697,     0.96797,     0.96897,     0.96997,     0.97097,     0.97197,     0.97297,     0.97397,     0.97497,     0.97598,     0.97698,     0.97798,     0.97898,     0.97998,     0.98098,     0.98198,     0.98298,     0.98398,\n",
       "           0.98498,     0.98599,     0.98699,     0.98799,     0.98899,     0.98999,     0.99099,     0.99199,     0.99299,     0.99399,     0.99499,       0.996,       0.997,       0.998,       0.999,           1]), array([[    0.97916,     0.97916,     0.97669,     0.97139,     0.96892,      0.9668,       0.965,     0.96432,     0.96326,     0.96256,      0.9615,     0.96025,     0.95938,     0.95832,     0.95726,     0.95691,     0.95655,     0.95585,     0.95514,     0.95514,     0.95479,     0.95408,     0.95302,\n",
       "            0.95161,      0.9509,     0.95055,     0.94949,     0.94878,     0.94807,     0.94737,     0.94666,     0.94596,      0.9456,     0.94525,      0.9449,     0.94419,     0.94419,     0.94386,     0.94348,     0.94278,     0.94242,     0.94136,     0.94136,     0.94136,     0.94066,      0.9403,\n",
       "            0.93995,     0.93995,     0.93995,     0.93924,     0.93889,     0.93818,     0.93783,     0.93748,     0.93677,     0.93606,     0.93571,     0.93571,     0.93536,     0.93501,     0.93501,     0.93465,     0.93395,     0.93395,     0.93395,     0.93359,     0.93359,     0.93324,     0.93289,\n",
       "            0.93183,     0.93147,     0.93147,     0.93147,     0.93112,     0.93077,     0.93041,     0.93008,     0.92884,     0.92829,     0.92829,     0.92829,     0.92688,     0.92653,     0.92582,     0.92486,     0.92406,      0.9237,     0.92335,     0.92335,     0.92335,     0.92335,     0.92335,\n",
       "              0.923,       0.923,       0.923,     0.92292,     0.92264,     0.92264,     0.92264,     0.92264,     0.92264,     0.92264,     0.92264,     0.92257,     0.92229,     0.92229,     0.92229,     0.92158,     0.92132,     0.92123,     0.92123,     0.92088,     0.92088,     0.92057,     0.92017,\n",
       "            0.92017,     0.92017,     0.92017,     0.91976,     0.91946,     0.91946,     0.91946,     0.91946,     0.91946,     0.91946,     0.91911,     0.91791,      0.9177,      0.9177,      0.9177,      0.9177,     0.91734,     0.91734,     0.91685,     0.91628,     0.91628,     0.91593,     0.91487,\n",
       "            0.91487,     0.91487,     0.91452,     0.91452,     0.91452,     0.91416,     0.91383,     0.91346,     0.91344,     0.91275,      0.9127,      0.9124,     0.91169,     0.91169,     0.91169,     0.91169,     0.91134,     0.91134,     0.91134,     0.91134,     0.91134,     0.91134,     0.91134,\n",
       "            0.91134,     0.91099,     0.91063,     0.91028,     0.91021,     0.90957,     0.90957,     0.90957,     0.90922,     0.90887,     0.90851,     0.90851,     0.90851,     0.90809,     0.90788,     0.90779,      0.9071,      0.9071,     0.90675,     0.90675,     0.90675,     0.90665,     0.90634,\n",
       "            0.90605,     0.90604,     0.90563,     0.90544,     0.90533,      0.9052,     0.90427,     0.90392,     0.90357,     0.90357,     0.90357,     0.90357,     0.90357,     0.90357,     0.90357,     0.90357,     0.90321,      0.9032,     0.90286,     0.90249,      0.9022,     0.90215,     0.90215,\n",
       "             0.9018,      0.9018,      0.9018,      0.9018,      0.9018,      0.9011,     0.90048,     0.90039,      0.9001,     0.90004,     0.90004,     0.89933,     0.89933,     0.89898,     0.89898,     0.89874,     0.89862,     0.89858,     0.89841,     0.89827,     0.89827,     0.89788,     0.89721,\n",
       "            0.89721,     0.89686,     0.89686,     0.89686,      0.8965,      0.8965,     0.89631,     0.89544,     0.89529,     0.89509,     0.89509,     0.89509,     0.89426,      0.8941,     0.89403,     0.89368,     0.89368,     0.89336,     0.89321,     0.89269,     0.89262,     0.89262,     0.89236,\n",
       "            0.89152,      0.8912,      0.8902,     0.88979,     0.88979,     0.88944,     0.88909,     0.88885,     0.88873,       0.888,     0.88752,     0.88732,      0.8869,     0.88661,     0.88661,     0.88626,      0.8862,     0.88596,     0.88591,     0.88576,     0.88555,     0.88555,     0.88485,\n",
       "            0.88485,     0.88449,     0.88449,     0.88368,     0.88308,      0.8828,     0.88273,     0.88273,     0.88273,     0.88273,     0.88273,     0.88273,     0.88216,     0.88202,     0.88202,     0.88195,     0.88171,     0.88131,     0.88126,     0.88083,     0.88061,     0.88029,     0.88025,\n",
       "            0.88025,     0.88025,     0.88025,     0.88025,     0.88025,     0.88025,     0.87937,     0.87919,     0.87919,     0.87919,     0.87919,     0.87919,     0.87919,     0.87882,     0.87845,     0.87801,     0.87725,     0.87708,     0.87672,     0.87672,     0.87629,     0.87589,     0.87531,\n",
       "            0.87531,     0.87501,     0.87386,     0.87348,     0.87284,     0.87228,     0.87213,     0.87213,     0.87213,     0.87192,     0.87163,     0.87142,     0.87107,     0.87107,     0.87072,     0.87036,     0.87036,     0.87019,     0.86948,     0.86895,     0.86895,     0.86892,     0.86789,\n",
       "            0.86789,     0.86789,      0.8678,      0.8676,     0.86683,     0.86683,     0.86613,     0.86574,     0.86542,     0.86542,     0.86542,     0.86542,     0.86542,     0.86542,     0.86507,     0.86471,     0.86471,      0.8639,     0.86365,     0.86344,      0.8633,      0.8633,      0.8633,\n",
       "             0.8633,      0.8626,     0.86224,     0.86214,     0.86189,     0.86189,     0.86189,     0.86166,     0.86153,     0.86153,     0.86153,     0.86119,     0.86083,     0.86047,     0.86036,     0.86012,     0.85999,     0.85941,     0.85941,     0.85917,     0.85881,     0.85871,     0.85871,\n",
       "            0.85871,     0.85871,     0.85868,      0.8583,       0.858,     0.85694,     0.85643,     0.85623,     0.85606,     0.85588,     0.85588,     0.85543,     0.85531,     0.85519,     0.85416,     0.85344,     0.85235,       0.852,       0.852,     0.85155,     0.85089,      0.8507,     0.85058,\n",
       "            0.85041,     0.85001,     0.84988,     0.84988,     0.84952,     0.84917,     0.84917,     0.84917,     0.84853,     0.84843,     0.84811,     0.84811,     0.84805,      0.8474,     0.84733,      0.8467,     0.84661,     0.84599,     0.84599,     0.84587,     0.84556,     0.84536,      0.8447,\n",
       "            0.84398,     0.84362,     0.84281,     0.84281,     0.84232,     0.84214,     0.84211,     0.84195,     0.84177,      0.8414,      0.8414,     0.84106,     0.84105,     0.84069,     0.84034,     0.83996,      0.8396,     0.83887,     0.83844,     0.83822,     0.83787,     0.83787,     0.83787,\n",
       "            0.83733,     0.83697,     0.83681,     0.83681,     0.83638,     0.83626,     0.83614,      0.8355,     0.83514,     0.83478,     0.83442,     0.83398,     0.83398,     0.83398,     0.83383,     0.83365,     0.83363,     0.83363,     0.83327,     0.83293,     0.83045,     0.83033,     0.83021,\n",
       "            0.82974,     0.82939,     0.82939,     0.82868,     0.82868,     0.82755,     0.82727,     0.82692,     0.82692,     0.82692,     0.82609,      0.8255,     0.82515,     0.82465,     0.82444,     0.82401,     0.82383,     0.82356,     0.82338,     0.82328,      0.8231,     0.82281,     0.82197,\n",
       "            0.82197,     0.82173,     0.82137,      0.8203,     0.81879,     0.81879,     0.81844,     0.81809,     0.81637,     0.81565,     0.81526,     0.81455,     0.81421,     0.81373,     0.81361,     0.81349,     0.81312,     0.81276,     0.81243,     0.81203,      0.8117,     0.81152,     0.81102,\n",
       "            0.81063,     0.81044,     0.80887,     0.80875,     0.80863,     0.80807,     0.80714,     0.80699,     0.80678,     0.80572,      0.8052,     0.80483,     0.80457,     0.80439,     0.80431,     0.80431,     0.80431,     0.80419,     0.80401,      0.8037,     0.80299,     0.80227,     0.80156,\n",
       "            0.79978,     0.79942,     0.79866,     0.79779,     0.79761,     0.79611,     0.79593,     0.79513,     0.79513,     0.79477,     0.79477,     0.79421,     0.79385,     0.79289,     0.79271,      0.7917,     0.79134,     0.79053,      0.7904,     0.79022,     0.78983,     0.78953,     0.78917,\n",
       "            0.78845,     0.78841,     0.78773,     0.78771,     0.78541,     0.78488,     0.78415,     0.78327,     0.78255,     0.78113,     0.78077,     0.78005,     0.77969,     0.77875,     0.77857,     0.77839,     0.77821,     0.77753,     0.77746,     0.77519,     0.77501,     0.77464,     0.77428,\n",
       "            0.77428,     0.77376,      0.7734,     0.77233,     0.77161,     0.77005,     0.77005,     0.76899,     0.76875,     0.76751,     0.76722,     0.76651,     0.76571,       0.765,     0.76393,     0.76286,     0.76263,     0.76263,     0.76163,     0.76124,     0.76034,     0.76016,     0.75874,\n",
       "            0.75768,     0.75698,     0.75588,     0.75548,     0.75498,      0.7545,     0.75355,     0.75284,     0.75212,     0.75176,     0.75105,     0.74815,     0.74767,     0.74702,     0.74684,     0.74663,     0.74639,     0.74603,     0.74497,     0.74337,     0.74142,      0.7407,     0.74031,\n",
       "             0.7398,      0.7385,     0.73831,      0.7379,     0.73694,     0.73534,     0.73437,     0.73391,     0.73225,     0.73201,     0.73018,     0.73013,     0.72839,     0.72733,     0.72573,     0.72371,     0.72359,     0.72347,     0.72163,     0.72127,     0.71985,     0.71883,     0.71765,\n",
       "            0.71741,     0.71635,     0.71635,     0.71485,     0.71343,     0.71306,     0.71258,     0.71181,     0.71039,     0.71003,     0.70807,     0.70736,     0.70629,     0.70575,     0.70398,     0.70326,     0.70216,      0.7013,     0.69953,     0.69881,     0.69651,     0.69508,     0.69428,\n",
       "            0.69277,     0.69241,     0.69063,     0.68974,     0.68903,     0.68774,     0.68774,     0.68494,     0.68377,     0.68359,     0.68173,     0.68031,     0.67922,     0.67775,     0.67757,     0.67604,     0.67461,     0.67418,     0.67336,     0.67264,     0.67175,     0.67033,     0.66973,\n",
       "            0.66872,     0.66801,      0.6662,     0.66443,     0.66304,     0.66197,     0.65834,     0.65816,     0.65558,     0.65308,     0.65186,     0.65171,     0.65097,     0.65073,     0.64794,     0.64528,     0.64492,     0.64305,      0.6426,     0.63994,      0.6384,     0.63657,     0.63561,\n",
       "            0.63264,     0.63162,     0.62982,     0.62611,     0.62451,     0.62378,     0.62219,     0.62007,     0.61741,     0.61594,     0.61509,     0.61138,     0.60846,      0.6073,     0.60429,     0.60241,     0.60162,     0.60002,     0.59776,     0.59594,     0.59313,     0.59204,     0.58938,\n",
       "            0.58848,     0.58529,     0.58441,     0.58246,     0.58065,     0.57753,     0.57673,     0.57518,     0.57287,     0.57208,     0.56968,     0.56781,     0.56454,     0.56365,      0.5614,     0.55762,     0.55606,      0.5546,     0.55002,     0.54681,     0.54398,     0.54078,     0.54025,\n",
       "            0.53757,      0.5367,     0.53294,     0.53068,     0.52655,      0.5243,     0.52157,     0.52075,     0.51941,     0.51544,     0.51373,     0.51224,     0.51082,     0.50975,     0.50659,     0.50143,     0.49949,     0.49506,     0.49098,     0.48815,     0.48564,     0.48174,     0.48088,\n",
       "             0.4757,     0.46939,     0.46825,     0.46434,     0.46353,      0.4614,     0.45795,     0.45414,     0.45131,     0.44852,     0.44828,     0.44439,     0.44096,     0.43784,     0.43465,     0.43153,     0.42881,     0.42562,     0.42103,     0.42079,     0.41623,     0.41163,     0.40853,\n",
       "            0.40614,     0.40118,     0.39694,     0.39272,     0.39248,     0.38578,     0.38118,     0.37941,     0.37481,      0.3689,     0.36296,       0.358,     0.35375,     0.34986,     0.34667,     0.34031,     0.33747,     0.32977,     0.32562,     0.32137,     0.31606,     0.31146,     0.30616,\n",
       "            0.30297,     0.29943,     0.29589,     0.29093,     0.28668,     0.28314,     0.27819,       0.275,     0.27217,     0.25821,     0.25431,     0.24688,     0.24299,     0.23733,     0.23237,     0.22813,     0.22204,     0.21734,     0.21062,     0.20001,     0.19329,     0.18392,     0.17791,\n",
       "            0.17401,     0.16715,     0.16428,     0.16003,     0.15331,     0.14253,     0.13864,     0.13209,     0.12714,     0.12356,     0.11741,     0.11069,     0.10238,     0.09594,    0.090526,    0.086984,    0.079028,    0.076795,    0.072475,    0.065578,    0.061199,     0.05726,    0.049303,\n",
       "           0.045957,    0.043811,    0.042212,     0.03884,    0.037249,    0.033531,    0.031722,    0.026802,    0.024269,    0.023429,    0.020348,    0.019879,    0.017487,    0.015799,    0.014625,    0.010836,   0.0092915,   0.0068012,   0.0051399,   0.0049589,   0.0041936,   0.0040901,   0.0039867,\n",
       "          0.0031737,   0.0029323,   0.0023917,   0.0022468,   0.0020324,   0.0015372,    0.001294,    0.001113,  0.00099583,  0.00090531,  0.00081479,  0.00072428,  0.00060952,  0.00048883,  0.00036814,           0,           0,           0,           0,           0,           0,           0,           0,\n",
       "                  0,           0,           0,           0,           0,           0,           0,           0,           0,           0,           0,           0,           0,           0,           0,           0,           0,           0,           0,           0,           0,           0,           0,\n",
       "                  0,           0,           0,           0,           0,           0,           0,           0,           0,           0,           0,           0,           0,           0,           0,           0,           0,           0,           0,           0,           0,           0,           0,\n",
       "                  0,           0,           0,           0,           0,           0,           0,           0,           0,           0,           0]]), 'Confidence', 'Recall']]\n",
       "fitness: 0.6593117198456881\n",
       "keys: ['metrics/precision(B)', 'metrics/recall(B)', 'metrics/mAP50(B)', 'metrics/mAP50-95(B)']\n",
       "maps: array([    0.62878])\n",
       "names: {0: 'apple'}\n",
       "plot: True\n",
       "results_dict: {'metrics/precision(B)': 0.907790573503338, 'metrics/recall(B)': 0.8495231367008125, 'metrics/mAP50(B)': 0.9341415315974556, 'metrics/mAP50-95(B)': 0.6287750740954917, 'fitness': 0.6593117198456881}\n",
       "save_dir: WindowsPath('runs/detect/train')\n",
       "speed: {'preprocess': 0.17571735382080078, 'inference': 1.456411361694336, 'loss': 0.0, 'postprocess': 1.104513168334961}\n",
       "task: 'detect'"
      ]
     },
     "execution_count": 2,
     "metadata": {},
     "output_type": "execute_result"
    }
   ],
   "source": [
    "from ultralytics import YOLO\n",
    "\n",
    "# Carregar o modelo YOLO11 afinado\n",
    "#model = YOLO('C:\\\\Users\\\\píchau\\\\Documents\\\\TCC\\\\yolov8-env\\\\runs\\\\detect\\\\tune_prep\\\\weights\\\\best.pt')\n",
    "model = YOLO('yolov8n.pt')\n",
    "# Iniciar o treinamento\n",
    "model.train(data='C:\\\\Users\\\\píchau\\\\Documents\\\\TCC\\\\dataset.yaml', epochs=1000)"
   ]
  },
  {
   "cell_type": "markdown",
   "metadata": {},
   "source": [
    "# Testes"
   ]
  },
  {
   "cell_type": "code",
   "execution_count": null,
   "metadata": {},
   "outputs": [
    {
     "name": "stdout",
     "output_type": "stream",
     "text": [
      "Ultralytics 8.3.15  Python-3.12.2 torch-2.5.0+cu118 CUDA:0 (NVIDIA GeForce RTX 4060, 8188MiB)\n",
      "YOLO11n summary (fused): 238 layers, 2,582,347 parameters, 0 gradients, 6.3 GFLOPs\n"
     ]
    },
    {
     "name": "stderr",
     "output_type": "stream",
     "text": [
      "\u001b[34m\u001b[1mval: \u001b[0mScanning C:\\Users\\píchau\\Documents\\TCC\\dataset\\labels\\val_preprocessed.cache... 250 images, 0 backgrounds, 0 corrupt: 100%|██████████| 250/250 [00:00<?, ?it/s]\n",
      "                 Class     Images  Instances      Box(P          R      mAP50  mAP50-95): 100%|██████████| 16/16 [00:06<00:00,  2.44it/s]\n"
     ]
    },
    {
     "name": "stdout",
     "output_type": "stream",
     "text": [
      "                   all        250       2831      0.888      0.882      0.922      0.668\n",
      "Speed: 0.9ms preprocess, 3.2ms inference, 0.0ms loss, 1.2ms postprocess per image\n",
      "Saving runs\\test\\val\\predictions.json...\n",
      "Results saved to \u001b[1mruns\\test\\val\u001b[0m\n"
     ]
    }
   ],
   "source": [
    "from ultralytics import YOLO\n",
    "\n",
    "# Carregar o modelo treinado\n",
    "model = YOLO('C:\\\\Users\\\\píchau\\\\Documents\\\\TCC\\\\yolov8-env\\\\runs\\\\detect\\\\train_HP_preprocess2\\\\weights\\\\best.pt')  # Altere para o caminho do seu modelo\n",
    "\n",
    "# Executar a inferência nas imagens de teste\n",
    "results = model.predict(source='C:\\\\Users\\\\píchau\\\\Documents\\\\TCC\\\\dataset\\\\images\\\\test',  # Altere para o diretório das imagens de teste\n",
    "                        conf=0.5,  # Confiança mínima para detectar objetos\n",
    "                        save=True,  # Salvar resultados em arquivos\n",
    "                        save_txt=True,  # Salvar resultados em arquivos TXT\n",
    "                        show=False)  # Mostrar resultados na tela\n",
    "\n",
    "valid = model.val(source='C:\\\\Users\\\\píchau\\\\Documents\\\\TCC\\\\dataset\\\\images\\\\test_preprocessed', \n",
    "                  imgsz=640, conf=0.28, iou=0.5, save_json=True, save_txt=True, task='test')"
   ]
  }
 ],
 "metadata": {
  "kernelspec": {
   "display_name": "yolov8-env",
   "language": "python",
   "name": "python3"
  },
  "language_info": {
   "codemirror_mode": {
    "name": "ipython",
    "version": 3
   },
   "file_extension": ".py",
   "mimetype": "text/x-python",
   "name": "python",
   "nbconvert_exporter": "python",
   "pygments_lexer": "ipython3",
   "version": "3.12.2"
  }
 },
 "nbformat": 4,
 "nbformat_minor": 2
}
