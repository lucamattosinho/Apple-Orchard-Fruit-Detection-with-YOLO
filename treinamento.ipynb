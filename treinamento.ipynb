{
 "cells": [
  {
   "cell_type": "markdown",
   "metadata": {},
   "source": [
    "# Treinamento"
   ]
  },
  {
   "cell_type": "code",
   "execution_count": null,
   "metadata": {},
   "outputs": [
    {
     "name": "stdout",
     "output_type": "stream",
     "text": [
      "\u001b[34m\u001b[1mTuner: \u001b[0mInitialized Tuner instance with 'tune_dir=runs\\detect\\tune'\n",
      "\u001b[34m\u001b[1mTuner: \u001b[0m Learn about tuning at https://docs.ultralytics.com/guides/hyperparameter-tuning\n",
      "\u001b[34m\u001b[1mTuner: \u001b[0mStarting iteration 1/300 with hyperparameters: {'lr0': 0.01, 'lrf': 0.01, 'momentum': 0.937, 'weight_decay': 0.0005, 'warmup_epochs': 3.0, 'warmup_momentum': 0.8, 'box': 7.5, 'cls': 0.5, 'dfl': 1.5, 'hsv_h': 0.015, 'hsv_s': 0.7, 'hsv_v': 0.4, 'degrees': 0.0, 'translate': 0.1, 'scale': 0.5, 'shear': 0.0, 'perspective': 0.0, 'flipud': 0.0, 'fliplr': 0.5, 'bgr': 0.0, 'mosaic': 1.0, 'mixup': 0.0, 'copy_paste': 0.0}\n",
      "Saved runs\\detect\\tune\\tune_scatter_plots.png\n",
      "Saved runs\\detect\\tune\\tune_fitness.png\n",
      "\n",
      "\u001b[34m\u001b[1mTuner: \u001b[0m1/300 iterations complete  (394.87s)\n",
      "\u001b[34m\u001b[1mTuner: \u001b[0mResults saved to \u001b[1mruns\\detect\\tune\u001b[0m\n",
      "\u001b[34m\u001b[1mTuner: \u001b[0mBest fitness=0.63946 observed at iteration 1\n",
      "\u001b[34m\u001b[1mTuner: \u001b[0mBest fitness metrics are {'metrics/precision(B)': 0.88633, 'metrics/recall(B)': 0.82444, 'metrics/mAP50(B)': 0.91891, 'metrics/mAP50-95(B)': 0.60841, 'val/box_loss': 1.20376, 'val/cls_loss': 0.70545, 'val/dfl_loss': 1.18977, 'fitness': 0.63946}\n",
      "\u001b[34m\u001b[1mTuner: \u001b[0mBest fitness model is runs\\detect\\train3\n",
      "\u001b[34m\u001b[1mTuner: \u001b[0mBest fitness hyperparameters are printed below.\n",
      "\n",
      "Printing '\u001b[1m\u001b[30mruns\\detect\\tune\\best_hyperparameters.yaml\u001b[0m'\n",
      "\n",
      "lr0: 0.01\n",
      "lrf: 0.01\n",
      "momentum: 0.937\n",
      "weight_decay: 0.0005\n",
      "warmup_epochs: 3.0\n",
      "warmup_momentum: 0.8\n",
      "box: 7.5\n",
      "cls: 0.5\n",
      "dfl: 1.5\n",
      "hsv_h: 0.015\n",
      "hsv_s: 0.7\n",
      "hsv_v: 0.4\n",
      "degrees: 0.0\n",
      "translate: 0.1\n",
      "scale: 0.5\n",
      "shear: 0.0\n",
      "perspective: 0.0\n",
      "flipud: 0.0\n",
      "fliplr: 0.5\n",
      "bgr: 0.0\n",
      "mosaic: 1.0\n",
      "mixup: 0.0\n",
      "copy_paste: 0.0\n",
      "\n",
      "\u001b[34m\u001b[1mTuner: \u001b[0mStarting iteration 2/300 with hyperparameters: {'lr0': 0.00953, 'lrf': 0.01042, 'momentum': 0.93701, 'weight_decay': 0.0005, 'warmup_epochs': 3.35748, 'warmup_momentum': 0.81988, 'box': 7.25154, 'cls': 0.51224, 'dfl': 1.35028, 'hsv_h': 0.015, 'hsv_s': 0.75858, 'hsv_v': 0.4, 'degrees': 0.0, 'translate': 0.11502, 'scale': 0.49119, 'shear': 0.0, 'perspective': 0.0, 'flipud': 0.0, 'fliplr': 0.5, 'bgr': 0.0, 'mosaic': 0.95767, 'mixup': 0.0, 'copy_paste': 0.0}\n",
      "Saved runs\\detect\\tune\\tune_scatter_plots.png\n",
      "Saved runs\\detect\\tune\\tune_fitness.png\n",
      "\n",
      "\u001b[34m\u001b[1mTuner: \u001b[0m2/300 iterations complete  (826.78s)\n",
      "\u001b[34m\u001b[1mTuner: \u001b[0mResults saved to \u001b[1mruns\\detect\\tune\u001b[0m\n",
      "\u001b[34m\u001b[1mTuner: \u001b[0mBest fitness=0.645 observed at iteration 2\n",
      "\u001b[34m\u001b[1mTuner: \u001b[0mBest fitness metrics are {'metrics/precision(B)': 0.87466, 'metrics/recall(B)': 0.83716, 'metrics/mAP50(B)': 0.91842, 'metrics/mAP50-95(B)': 0.61462, 'val/box_loss': 1.15464, 'val/cls_loss': 0.70591, 'val/dfl_loss': 1.05917, 'fitness': 0.645}\n",
      "\u001b[34m\u001b[1mTuner: \u001b[0mBest fitness model is runs\\detect\\train4\n",
      "\u001b[34m\u001b[1mTuner: \u001b[0mBest fitness hyperparameters are printed below.\n",
      "\n",
      "Printing '\u001b[1m\u001b[30mruns\\detect\\tune\\best_hyperparameters.yaml\u001b[0m'\n",
      "\n",
      "lr0: 0.00953\n",
      "lrf: 0.01042\n",
      "momentum: 0.93701\n",
      "weight_decay: 0.0005\n",
      "warmup_epochs: 3.35748\n",
      "warmup_momentum: 0.81988\n",
      "box: 7.25154\n",
      "cls: 0.51224\n",
      "dfl: 1.35028\n",
      "hsv_h: 0.015\n",
      "hsv_s: 0.75858\n",
      "hsv_v: 0.4\n",
      "degrees: 0.0\n",
      "translate: 0.11502\n",
      "scale: 0.49119\n",
      "shear: 0.0\n",
      "perspective: 0.0\n",
      "flipud: 0.0\n",
      "fliplr: 0.5\n",
      "bgr: 0.0\n",
      "mosaic: 0.95767\n",
      "mixup: 0.0\n",
      "copy_paste: 0.0\n",
      "\n",
      "\u001b[34m\u001b[1mTuner: \u001b[0mStarting iteration 3/300 with hyperparameters: {'lr0': 0.00948, 'lrf': 0.01042, 'momentum': 0.93992, 'weight_decay': 0.00049, 'warmup_epochs': 3.3279, 'warmup_momentum': 0.81367, 'box': 7.28784, 'cls': 0.50267, 'dfl': 1.37151, 'hsv_h': 0.01501, 'hsv_s': 0.75858, 'hsv_v': 0.4, 'degrees': 0.0, 'translate': 0.11436, 'scale': 0.48745, 'shear': 0.0, 'perspective': 0.0, 'flipud': 0.0, 'fliplr': 0.49552, 'bgr': 0.0, 'mosaic': 0.95767, 'mixup': 0.0, 'copy_paste': 0.0}\n",
      "Saved runs\\detect\\tune\\tune_scatter_plots.png\n",
      "Saved runs\\detect\\tune\\tune_fitness.png\n",
      "\n",
      "\u001b[34m\u001b[1mTuner: \u001b[0m3/300 iterations complete  (1217.01s)\n",
      "\u001b[34m\u001b[1mTuner: \u001b[0mResults saved to \u001b[1mruns\\detect\\tune\u001b[0m\n",
      "\u001b[34m\u001b[1mTuner: \u001b[0mBest fitness=0.645 observed at iteration 2\n",
      "\u001b[34m\u001b[1mTuner: \u001b[0mBest fitness metrics are {'metrics/precision(B)': 0.87466, 'metrics/recall(B)': 0.83716, 'metrics/mAP50(B)': 0.91842, 'metrics/mAP50-95(B)': 0.61462, 'val/box_loss': 1.15464, 'val/cls_loss': 0.70591, 'val/dfl_loss': 1.05917, 'fitness': 0.645}\n",
      "\u001b[34m\u001b[1mTuner: \u001b[0mBest fitness model is runs\\detect\\train4\n",
      "\u001b[34m\u001b[1mTuner: \u001b[0mBest fitness hyperparameters are printed below.\n",
      "\n",
      "Printing '\u001b[1m\u001b[30mruns\\detect\\tune\\best_hyperparameters.yaml\u001b[0m'\n",
      "\n",
      "lr0: 0.00953\n",
      "lrf: 0.01042\n",
      "momentum: 0.93701\n",
      "weight_decay: 0.0005\n",
      "warmup_epochs: 3.35748\n",
      "warmup_momentum: 0.81988\n",
      "box: 7.25154\n",
      "cls: 0.51224\n",
      "dfl: 1.35028\n",
      "hsv_h: 0.015\n",
      "hsv_s: 0.75858\n",
      "hsv_v: 0.4\n",
      "degrees: 0.0\n",
      "translate: 0.11502\n",
      "scale: 0.49119\n",
      "shear: 0.0\n",
      "perspective: 0.0\n",
      "flipud: 0.0\n",
      "fliplr: 0.5\n",
      "bgr: 0.0\n",
      "mosaic: 0.95767\n",
      "mixup: 0.0\n",
      "copy_paste: 0.0\n",
      "\n",
      "\u001b[34m\u001b[1mTuner: \u001b[0mStarting iteration 4/300 with hyperparameters: {'lr0': 0.00957, 'lrf': 0.01104, 'momentum': 0.94081, 'weight_decay': 0.0005, 'warmup_epochs': 3.29107, 'warmup_momentum': 0.87008, 'box': 6.87107, 'cls': 0.52739, 'dfl': 1.27572, 'hsv_h': 0.01482, 'hsv_s': 0.7755, 'hsv_v': 0.4, 'degrees': 0.0, 'translate': 0.11502, 'scale': 0.51215, 'shear': 0.0, 'perspective': 0.0, 'flipud': 0.0, 'fliplr': 0.44059, 'bgr': 0.0, 'mosaic': 1.0, 'mixup': 0.0, 'copy_paste': 0.0}\n",
      "Saved runs\\detect\\tune\\tune_scatter_plots.png\n",
      "Saved runs\\detect\\tune\\tune_fitness.png\n",
      "\n",
      "\u001b[34m\u001b[1mTuner: \u001b[0m4/300 iterations complete  (1603.77s)\n",
      "\u001b[34m\u001b[1mTuner: \u001b[0mResults saved to \u001b[1mruns\\detect\\tune\u001b[0m\n",
      "\u001b[34m\u001b[1mTuner: \u001b[0mBest fitness=0.645 observed at iteration 2\n",
      "\u001b[34m\u001b[1mTuner: \u001b[0mBest fitness metrics are {'metrics/precision(B)': 0.87466, 'metrics/recall(B)': 0.83716, 'metrics/mAP50(B)': 0.91842, 'metrics/mAP50-95(B)': 0.61462, 'val/box_loss': 1.15464, 'val/cls_loss': 0.70591, 'val/dfl_loss': 1.05917, 'fitness': 0.645}\n",
      "\u001b[34m\u001b[1mTuner: \u001b[0mBest fitness model is runs\\detect\\train4\n",
      "\u001b[34m\u001b[1mTuner: \u001b[0mBest fitness hyperparameters are printed below.\n",
      "\n",
      "Printing '\u001b[1m\u001b[30mruns\\detect\\tune\\best_hyperparameters.yaml\u001b[0m'\n",
      "\n",
      "lr0: 0.00953\n",
      "lrf: 0.01042\n",
      "momentum: 0.93701\n",
      "weight_decay: 0.0005\n",
      "warmup_epochs: 3.35748\n",
      "warmup_momentum: 0.81988\n",
      "box: 7.25154\n",
      "cls: 0.51224\n",
      "dfl: 1.35028\n",
      "hsv_h: 0.015\n",
      "hsv_s: 0.75858\n",
      "hsv_v: 0.4\n",
      "degrees: 0.0\n",
      "translate: 0.11502\n",
      "scale: 0.49119\n",
      "shear: 0.0\n",
      "perspective: 0.0\n",
      "flipud: 0.0\n",
      "fliplr: 0.5\n",
      "bgr: 0.0\n",
      "mosaic: 0.95767\n",
      "mixup: 0.0\n",
      "copy_paste: 0.0\n",
      "\n",
      "\u001b[34m\u001b[1mTuner: \u001b[0mStarting iteration 5/300 with hyperparameters: {'lr0': 0.0065, 'lrf': 0.01199, 'momentum': 0.91916, 'weight_decay': 0.0005, 'warmup_epochs': 2.69256, 'warmup_momentum': 0.67657, 'box': 7.21712, 'cls': 0.5063, 'dfl': 1.35028, 'hsv_h': 0.01563, 'hsv_s': 0.86895, 'hsv_v': 0.42102, 'degrees': 0.0, 'translate': 0.11323, 'scale': 0.36983, 'shear': 0.0, 'perspective': 0.0, 'flipud': 0.0, 'fliplr': 0.52414, 'bgr': 0.0, 'mosaic': 1.0, 'mixup': 0.0, 'copy_paste': 0.0}\n",
      "Saved runs\\detect\\tune\\tune_scatter_plots.png\n",
      "Saved runs\\detect\\tune\\tune_fitness.png\n",
      "\n",
      "\u001b[34m\u001b[1mTuner: \u001b[0m5/300 iterations complete  (1986.09s)\n",
      "\u001b[34m\u001b[1mTuner: \u001b[0mResults saved to \u001b[1mruns\\detect\\tune\u001b[0m\n",
      "\u001b[34m\u001b[1mTuner: \u001b[0mBest fitness=0.64611 observed at iteration 5\n",
      "\u001b[34m\u001b[1mTuner: \u001b[0mBest fitness metrics are {'metrics/precision(B)': 0.88598, 'metrics/recall(B)': 0.82617, 'metrics/mAP50(B)': 0.92038, 'metrics/mAP50-95(B)': 0.61563, 'val/box_loss': 1.14461, 'val/cls_loss': 0.68817, 'val/dfl_loss': 1.0473, 'fitness': 0.64611}\n",
      "\u001b[34m\u001b[1mTuner: \u001b[0mBest fitness model is runs\\detect\\train7\n",
      "\u001b[34m\u001b[1mTuner: \u001b[0mBest fitness hyperparameters are printed below.\n",
      "\n",
      "Printing '\u001b[1m\u001b[30mruns\\detect\\tune\\best_hyperparameters.yaml\u001b[0m'\n",
      "\n",
      "lr0: 0.0065\n",
      "lrf: 0.01199\n",
      "momentum: 0.91916\n",
      "weight_decay: 0.0005\n",
      "warmup_epochs: 2.69256\n",
      "warmup_momentum: 0.67657\n",
      "box: 7.21712\n",
      "cls: 0.5063\n",
      "dfl: 1.35028\n",
      "hsv_h: 0.01563\n",
      "hsv_s: 0.86895\n",
      "hsv_v: 0.42102\n",
      "degrees: 0.0\n",
      "translate: 0.11323\n",
      "scale: 0.36983\n",
      "shear: 0.0\n",
      "perspective: 0.0\n",
      "flipud: 0.0\n",
      "fliplr: 0.52414\n",
      "bgr: 0.0\n",
      "mosaic: 1.0\n",
      "mixup: 0.0\n",
      "copy_paste: 0.0\n",
      "\n",
      "\u001b[34m\u001b[1mTuner: \u001b[0mStarting iteration 6/300 with hyperparameters: {'lr0': 0.00965, 'lrf': 0.01094, 'momentum': 0.92607, 'weight_decay': 0.00053, 'warmup_epochs': 3.22608, 'warmup_momentum': 0.81988, 'box': 7.25154, 'cls': 0.52191, 'dfl': 1.36245, 'hsv_h': 0.0143, 'hsv_s': 0.74382, 'hsv_v': 0.38306, 'degrees': 0.0, 'translate': 0.12228, 'scale': 0.49119, 'shear': 0.0, 'perspective': 0.0, 'flipud': 0.0, 'fliplr': 0.50427, 'bgr': 0.0, 'mosaic': 1.0, 'mixup': 0.0, 'copy_paste': 0.0}\n",
      "Saved runs\\detect\\tune\\tune_scatter_plots.png\n",
      "Saved runs\\detect\\tune\\tune_fitness.png\n",
      "\n",
      "\u001b[34m\u001b[1mTuner: \u001b[0m6/300 iterations complete  (2361.29s)\n",
      "\u001b[34m\u001b[1mTuner: \u001b[0mResults saved to \u001b[1mruns\\detect\\tune\u001b[0m\n",
      "\u001b[34m\u001b[1mTuner: \u001b[0mBest fitness=0.64611 observed at iteration 5\n",
      "\u001b[34m\u001b[1mTuner: \u001b[0mBest fitness metrics are {'metrics/precision(B)': 0.88598, 'metrics/recall(B)': 0.82617, 'metrics/mAP50(B)': 0.92038, 'metrics/mAP50-95(B)': 0.61563, 'val/box_loss': 1.14461, 'val/cls_loss': 0.68817, 'val/dfl_loss': 1.0473, 'fitness': 0.64611}\n",
      "\u001b[34m\u001b[1mTuner: \u001b[0mBest fitness model is runs\\detect\\train7\n",
      "\u001b[34m\u001b[1mTuner: \u001b[0mBest fitness hyperparameters are printed below.\n",
      "\n",
      "Printing '\u001b[1m\u001b[30mruns\\detect\\tune\\best_hyperparameters.yaml\u001b[0m'\n",
      "\n",
      "lr0: 0.0065\n",
      "lrf: 0.01199\n",
      "momentum: 0.91916\n",
      "weight_decay: 0.0005\n",
      "warmup_epochs: 2.69256\n",
      "warmup_momentum: 0.67657\n",
      "box: 7.21712\n",
      "cls: 0.5063\n",
      "dfl: 1.35028\n",
      "hsv_h: 0.01563\n",
      "hsv_s: 0.86895\n",
      "hsv_v: 0.42102\n",
      "degrees: 0.0\n",
      "translate: 0.11323\n",
      "scale: 0.36983\n",
      "shear: 0.0\n",
      "perspective: 0.0\n",
      "flipud: 0.0\n",
      "fliplr: 0.52414\n",
      "bgr: 0.0\n",
      "mosaic: 1.0\n",
      "mixup: 0.0\n",
      "copy_paste: 0.0\n",
      "\n",
      "\u001b[34m\u001b[1mTuner: \u001b[0mStarting iteration 7/300 with hyperparameters: {'lr0': 0.01131, 'lrf': 0.01141, 'momentum': 0.93072, 'weight_decay': 0.0005, 'warmup_epochs': 3.1399, 'warmup_momentum': 0.5985, 'box': 6.30287, 'cls': 0.45964, 'dfl': 1.35028, 'hsv_h': 0.01917, 'hsv_s': 0.47252, 'hsv_v': 0.43703, 'degrees': 0.0, 'translate': 0.11502, 'scale': 0.49119, 'shear': 0.0, 'perspective': 0.0, 'flipud': 0.0, 'fliplr': 0.41068, 'bgr': 0.0, 'mosaic': 0.85598, 'mixup': 0.0, 'copy_paste': 0.0}\n",
      "Saved runs\\detect\\tune\\tune_scatter_plots.png\n",
      "Saved runs\\detect\\tune\\tune_fitness.png\n",
      "\n",
      "\u001b[34m\u001b[1mTuner: \u001b[0m7/300 iterations complete  (2731.64s)\n",
      "\u001b[34m\u001b[1mTuner: \u001b[0mResults saved to \u001b[1mruns\\detect\\tune\u001b[0m\n",
      "\u001b[34m\u001b[1mTuner: \u001b[0mBest fitness=0.64611 observed at iteration 5\n",
      "\u001b[34m\u001b[1mTuner: \u001b[0mBest fitness metrics are {'metrics/precision(B)': 0.88598, 'metrics/recall(B)': 0.82617, 'metrics/mAP50(B)': 0.92038, 'metrics/mAP50-95(B)': 0.61563, 'val/box_loss': 1.14461, 'val/cls_loss': 0.68817, 'val/dfl_loss': 1.0473, 'fitness': 0.64611}\n",
      "\u001b[34m\u001b[1mTuner: \u001b[0mBest fitness model is runs\\detect\\train7\n",
      "\u001b[34m\u001b[1mTuner: \u001b[0mBest fitness hyperparameters are printed below.\n",
      "\n",
      "Printing '\u001b[1m\u001b[30mruns\\detect\\tune\\best_hyperparameters.yaml\u001b[0m'\n",
      "\n",
      "lr0: 0.0065\n",
      "lrf: 0.01199\n",
      "momentum: 0.91916\n",
      "weight_decay: 0.0005\n",
      "warmup_epochs: 2.69256\n",
      "warmup_momentum: 0.67657\n",
      "box: 7.21712\n",
      "cls: 0.5063\n",
      "dfl: 1.35028\n",
      "hsv_h: 0.01563\n",
      "hsv_s: 0.86895\n",
      "hsv_v: 0.42102\n",
      "degrees: 0.0\n",
      "translate: 0.11323\n",
      "scale: 0.36983\n",
      "shear: 0.0\n",
      "perspective: 0.0\n",
      "flipud: 0.0\n",
      "fliplr: 0.52414\n",
      "bgr: 0.0\n",
      "mosaic: 1.0\n",
      "mixup: 0.0\n",
      "copy_paste: 0.0\n",
      "\n",
      "\u001b[34m\u001b[1mTuner: \u001b[0mStarting iteration 8/300 with hyperparameters: {'lr0': 0.00933, 'lrf': 0.01022, 'momentum': 0.93992, 'weight_decay': 0.00051, 'warmup_epochs': 3.49866, 'warmup_momentum': 0.76702, 'box': 7.43287, 'cls': 0.51691, 'dfl': 1.3678, 'hsv_h': 0.01497, 'hsv_s': 0.77719, 'hsv_v': 0.4092, 'degrees': 0.0, 'translate': 0.11585, 'scale': 0.50417, 'shear': 0.0, 'perspective': 0.0, 'flipud': 0.0, 'fliplr': 0.496, 'bgr': 0.0, 'mosaic': 0.93937, 'mixup': 0.0, 'copy_paste': 0.0}\n",
      "Saved runs\\detect\\tune\\tune_scatter_plots.png\n",
      "Saved runs\\detect\\tune\\tune_fitness.png\n",
      "\n",
      "\u001b[34m\u001b[1mTuner: \u001b[0m8/300 iterations complete  (3108.18s)\n",
      "\u001b[34m\u001b[1mTuner: \u001b[0mResults saved to \u001b[1mruns\\detect\\tune\u001b[0m\n",
      "\u001b[34m\u001b[1mTuner: \u001b[0mBest fitness=0.64611 observed at iteration 5\n",
      "\u001b[34m\u001b[1mTuner: \u001b[0mBest fitness metrics are {'metrics/precision(B)': 0.88598, 'metrics/recall(B)': 0.82617, 'metrics/mAP50(B)': 0.92038, 'metrics/mAP50-95(B)': 0.61563, 'val/box_loss': 1.14461, 'val/cls_loss': 0.68817, 'val/dfl_loss': 1.0473, 'fitness': 0.64611}\n",
      "\u001b[34m\u001b[1mTuner: \u001b[0mBest fitness model is runs\\detect\\train7\n",
      "\u001b[34m\u001b[1mTuner: \u001b[0mBest fitness hyperparameters are printed below.\n",
      "\n",
      "Printing '\u001b[1m\u001b[30mruns\\detect\\tune\\best_hyperparameters.yaml\u001b[0m'\n",
      "\n",
      "lr0: 0.0065\n",
      "lrf: 0.01199\n",
      "momentum: 0.91916\n",
      "weight_decay: 0.0005\n",
      "warmup_epochs: 2.69256\n",
      "warmup_momentum: 0.67657\n",
      "box: 7.21712\n",
      "cls: 0.5063\n",
      "dfl: 1.35028\n",
      "hsv_h: 0.01563\n",
      "hsv_s: 0.86895\n",
      "hsv_v: 0.42102\n",
      "degrees: 0.0\n",
      "translate: 0.11323\n",
      "scale: 0.36983\n",
      "shear: 0.0\n",
      "perspective: 0.0\n",
      "flipud: 0.0\n",
      "fliplr: 0.52414\n",
      "bgr: 0.0\n",
      "mosaic: 1.0\n",
      "mixup: 0.0\n",
      "copy_paste: 0.0\n",
      "\n",
      "\u001b[34m\u001b[1mTuner: \u001b[0mStarting iteration 9/300 with hyperparameters: {'lr0': 0.0065, 'lrf': 0.01199, 'momentum': 0.91742, 'weight_decay': 0.00051, 'warmup_epochs': 2.69256, 'warmup_momentum': 0.67481, 'box': 7.14094, 'cls': 0.50892, 'dfl': 1.34006, 'hsv_h': 0.01566, 'hsv_s': 0.87239, 'hsv_v': 0.4212, 'degrees': 0.0, 'translate': 0.11652, 'scale': 0.3678, 'shear': 0.0, 'perspective': 0.0, 'flipud': 0.0, 'fliplr': 0.53804, 'bgr': 0.0, 'mosaic': 1.0, 'mixup': 0.0, 'copy_paste': 0.0}\n",
      "Saved runs\\detect\\tune\\tune_scatter_plots.png\n",
      "Saved runs\\detect\\tune\\tune_fitness.png\n",
      "\n",
      "\u001b[34m\u001b[1mTuner: \u001b[0m9/300 iterations complete  (3488.05s)\n",
      "\u001b[34m\u001b[1mTuner: \u001b[0mResults saved to \u001b[1mruns\\detect\\tune\u001b[0m\n",
      "\u001b[34m\u001b[1mTuner: \u001b[0mBest fitness=0.64852 observed at iteration 9\n",
      "\u001b[34m\u001b[1mTuner: \u001b[0mBest fitness metrics are {'metrics/precision(B)': 0.89082, 'metrics/recall(B)': 0.82727, 'metrics/mAP50(B)': 0.92143, 'metrics/mAP50-95(B)': 0.61819, 'val/box_loss': 1.13026, 'val/cls_loss': 0.68873, 'val/dfl_loss': 1.01862, 'fitness': 0.64852}\n",
      "\u001b[34m\u001b[1mTuner: \u001b[0mBest fitness model is runs\\detect\\train11\n",
      "\u001b[34m\u001b[1mTuner: \u001b[0mBest fitness hyperparameters are printed below.\n",
      "\n",
      "Printing '\u001b[1m\u001b[30mruns\\detect\\tune\\best_hyperparameters.yaml\u001b[0m'\n",
      "\n",
      "lr0: 0.0065\n",
      "lrf: 0.01199\n",
      "momentum: 0.91742\n",
      "weight_decay: 0.00051\n",
      "warmup_epochs: 2.69256\n",
      "warmup_momentum: 0.67481\n",
      "box: 7.14094\n",
      "cls: 0.50892\n",
      "dfl: 1.34006\n",
      "hsv_h: 0.01566\n",
      "hsv_s: 0.87239\n",
      "hsv_v: 0.4212\n",
      "degrees: 0.0\n",
      "translate: 0.11652\n",
      "scale: 0.3678\n",
      "shear: 0.0\n",
      "perspective: 0.0\n",
      "flipud: 0.0\n",
      "fliplr: 0.53804\n",
      "bgr: 0.0\n",
      "mosaic: 1.0\n",
      "mixup: 0.0\n",
      "copy_paste: 0.0\n",
      "\n",
      "\u001b[34m\u001b[1mTuner: \u001b[0mStarting iteration 10/300 with hyperparameters: {'lr0': 0.00759, 'lrf': 0.01199, 'momentum': 0.86202, 'weight_decay': 0.00051, 'warmup_epochs': 2.7086, 'warmup_momentum': 0.59742, 'box': 8.88586, 'cls': 0.47447, 'dfl': 1.8454, 'hsv_h': 0.01103, 'hsv_s': 0.9, 'hsv_v': 0.32774, 'degrees': 0.0, 'translate': 0.12875, 'scale': 0.40831, 'shear': 0.0, 'perspective': 0.0, 'flipud': 0.0, 'fliplr': 0.57048, 'bgr': 0.0, 'mosaic': 1.0, 'mixup': 0.0, 'copy_paste': 0.0}\n",
      "Saved runs\\detect\\tune\\tune_scatter_plots.png\n",
      "Saved runs\\detect\\tune\\tune_fitness.png\n",
      "\n",
      "\u001b[34m\u001b[1mTuner: \u001b[0m10/300 iterations complete  (3864.95s)\n",
      "\u001b[34m\u001b[1mTuner: \u001b[0mResults saved to \u001b[1mruns\\detect\\tune\u001b[0m\n",
      "\u001b[34m\u001b[1mTuner: \u001b[0mBest fitness=0.64852 observed at iteration 9\n",
      "\u001b[34m\u001b[1mTuner: \u001b[0mBest fitness metrics are {'metrics/precision(B)': 0.89082, 'metrics/recall(B)': 0.82727, 'metrics/mAP50(B)': 0.92143, 'metrics/mAP50-95(B)': 0.61819, 'val/box_loss': 1.13026, 'val/cls_loss': 0.68873, 'val/dfl_loss': 1.01862, 'fitness': 0.64852}\n",
      "\u001b[34m\u001b[1mTuner: \u001b[0mBest fitness model is runs\\detect\\train11\n",
      "\u001b[34m\u001b[1mTuner: \u001b[0mBest fitness hyperparameters are printed below.\n",
      "\n",
      "Printing '\u001b[1m\u001b[30mruns\\detect\\tune\\best_hyperparameters.yaml\u001b[0m'\n",
      "\n",
      "lr0: 0.0065\n",
      "lrf: 0.01199\n",
      "momentum: 0.91742\n",
      "weight_decay: 0.00051\n",
      "warmup_epochs: 2.69256\n",
      "warmup_momentum: 0.67481\n",
      "box: 7.14094\n",
      "cls: 0.50892\n",
      "dfl: 1.34006\n",
      "hsv_h: 0.01566\n",
      "hsv_s: 0.87239\n",
      "hsv_v: 0.4212\n",
      "degrees: 0.0\n",
      "translate: 0.11652\n",
      "scale: 0.3678\n",
      "shear: 0.0\n",
      "perspective: 0.0\n",
      "flipud: 0.0\n",
      "fliplr: 0.53804\n",
      "bgr: 0.0\n",
      "mosaic: 1.0\n",
      "mixup: 0.0\n",
      "copy_paste: 0.0\n",
      "\n",
      "\u001b[34m\u001b[1mTuner: \u001b[0mStarting iteration 11/300 with hyperparameters: {'lr0': 0.0065, 'lrf': 0.0132, 'momentum': 0.91473, 'weight_decay': 0.00046, 'warmup_epochs': 2.08942, 'warmup_momentum': 0.70474, 'box': 7.90365, 'cls': 0.61293, 'dfl': 1.25351, 'hsv_h': 0.01392, 'hsv_s': 0.7104, 'hsv_v': 0.52212, 'degrees': 0.0, 'translate': 0.12441, 'scale': 0.44403, 'shear': 0.0, 'perspective': 0.0, 'flipud': 0.0, 'fliplr': 0.39068, 'bgr': 0.0, 'mosaic': 0.87313, 'mixup': 0.0, 'copy_paste': 0.0}\n",
      "Saved runs\\detect\\tune\\tune_scatter_plots.png\n",
      "Saved runs\\detect\\tune\\tune_fitness.png\n",
      "\n",
      "\u001b[34m\u001b[1mTuner: \u001b[0m11/300 iterations complete  (4256.75s)\n",
      "\u001b[34m\u001b[1mTuner: \u001b[0mResults saved to \u001b[1mruns\\detect\\tune\u001b[0m\n",
      "\u001b[34m\u001b[1mTuner: \u001b[0mBest fitness=0.65 observed at iteration 11\n",
      "\u001b[34m\u001b[1mTuner: \u001b[0mBest fitness metrics are {'metrics/precision(B)': 0.89602, 'metrics/recall(B)': 0.82795, 'metrics/mAP50(B)': 0.92421, 'metrics/mAP50-95(B)': 0.61953, 'val/box_loss': 1.25063, 'val/cls_loss': 0.82702, 'val/dfl_loss': 0.979, 'fitness': 0.65}\n",
      "\u001b[34m\u001b[1mTuner: \u001b[0mBest fitness model is runs\\detect\\train13\n",
      "\u001b[34m\u001b[1mTuner: \u001b[0mBest fitness hyperparameters are printed below.\n",
      "\n",
      "Printing '\u001b[1m\u001b[30mruns\\detect\\tune\\best_hyperparameters.yaml\u001b[0m'\n",
      "\n",
      "lr0: 0.0065\n",
      "lrf: 0.0132\n",
      "momentum: 0.91473\n",
      "weight_decay: 0.00046\n",
      "warmup_epochs: 2.08942\n",
      "warmup_momentum: 0.70474\n",
      "box: 7.90365\n",
      "cls: 0.61293\n",
      "dfl: 1.25351\n",
      "hsv_h: 0.01392\n",
      "hsv_s: 0.7104\n",
      "hsv_v: 0.52212\n",
      "degrees: 0.0\n",
      "translate: 0.12441\n",
      "scale: 0.44403\n",
      "shear: 0.0\n",
      "perspective: 0.0\n",
      "flipud: 0.0\n",
      "fliplr: 0.39068\n",
      "bgr: 0.0\n",
      "mosaic: 0.87313\n",
      "mixup: 0.0\n",
      "copy_paste: 0.0\n",
      "\n",
      "\u001b[34m\u001b[1mTuner: \u001b[0mStarting iteration 12/300 with hyperparameters: {'lr0': 0.00642, 'lrf': 0.01191, 'momentum': 0.9116, 'weight_decay': 0.0005, 'warmup_epochs': 2.57872, 'warmup_momentum': 0.67657, 'box': 7.16234, 'cls': 0.52161, 'dfl': 1.35028, 'hsv_h': 0.01618, 'hsv_s': 0.85699, 'hsv_v': 0.44037, 'degrees': 0.0, 'translate': 0.1093, 'scale': 0.38017, 'shear': 0.0, 'perspective': 0.0, 'flipud': 0.0, 'fliplr': 0.53176, 'bgr': 0.0, 'mosaic': 1.0, 'mixup': 0.0, 'copy_paste': 0.0}\n",
      "Saved runs\\detect\\tune\\tune_scatter_plots.png\n",
      "Saved runs\\detect\\tune\\tune_fitness.png\n",
      "\n",
      "\u001b[34m\u001b[1mTuner: \u001b[0m12/300 iterations complete  (4637.55s)\n",
      "\u001b[34m\u001b[1mTuner: \u001b[0mResults saved to \u001b[1mruns\\detect\\tune\u001b[0m\n",
      "\u001b[34m\u001b[1mTuner: \u001b[0mBest fitness=0.65 observed at iteration 11\n",
      "\u001b[34m\u001b[1mTuner: \u001b[0mBest fitness metrics are {'metrics/precision(B)': 0.89602, 'metrics/recall(B)': 0.82795, 'metrics/mAP50(B)': 0.92421, 'metrics/mAP50-95(B)': 0.61953, 'val/box_loss': 1.25063, 'val/cls_loss': 0.82702, 'val/dfl_loss': 0.979, 'fitness': 0.65}\n",
      "\u001b[34m\u001b[1mTuner: \u001b[0mBest fitness model is runs\\detect\\train13\n",
      "\u001b[34m\u001b[1mTuner: \u001b[0mBest fitness hyperparameters are printed below.\n",
      "\n",
      "Printing '\u001b[1m\u001b[30mruns\\detect\\tune\\best_hyperparameters.yaml\u001b[0m'\n",
      "\n",
      "lr0: 0.0065\n",
      "lrf: 0.0132\n",
      "momentum: 0.91473\n",
      "weight_decay: 0.00046\n",
      "warmup_epochs: 2.08942\n",
      "warmup_momentum: 0.70474\n",
      "box: 7.90365\n",
      "cls: 0.61293\n",
      "dfl: 1.25351\n",
      "hsv_h: 0.01392\n",
      "hsv_s: 0.7104\n",
      "hsv_v: 0.52212\n",
      "degrees: 0.0\n",
      "translate: 0.12441\n",
      "scale: 0.44403\n",
      "shear: 0.0\n",
      "perspective: 0.0\n",
      "flipud: 0.0\n",
      "fliplr: 0.39068\n",
      "bgr: 0.0\n",
      "mosaic: 0.87313\n",
      "mixup: 0.0\n",
      "copy_paste: 0.0\n",
      "\n",
      "\u001b[34m\u001b[1mTuner: \u001b[0mStarting iteration 13/300 with hyperparameters: {'lr0': 0.00655, 'lrf': 0.01409, 'momentum': 0.86042, 'weight_decay': 0.00044, 'warmup_epochs': 2.95403, 'warmup_momentum': 0.72731, 'box': 7.3637, 'cls': 0.56015, 'dfl': 1.15707, 'hsv_h': 0.01677, 'hsv_s': 0.68597, 'hsv_v': 0.42293, 'degrees': 0.0, 'translate': 0.11181, 'scale': 0.36684, 'shear': 0.0, 'perspective': 0.0, 'flipud': 0.0, 'fliplr': 0.45957, 'bgr': 0.0, 'mosaic': 1.0, 'mixup': 0.0, 'copy_paste': 0.0}\n",
      "Saved runs\\detect\\tune\\tune_scatter_plots.png\n",
      "Saved runs\\detect\\tune\\tune_fitness.png\n",
      "\n",
      "\u001b[34m\u001b[1mTuner: \u001b[0m13/300 iterations complete  (5018.88s)\n",
      "\u001b[34m\u001b[1mTuner: \u001b[0mResults saved to \u001b[1mruns\\detect\\tune\u001b[0m\n",
      "\u001b[34m\u001b[1mTuner: \u001b[0mBest fitness=0.65509 observed at iteration 13\n",
      "\u001b[34m\u001b[1mTuner: \u001b[0mBest fitness metrics are {'metrics/precision(B)': 0.90204, 'metrics/recall(B)': 0.83592, 'metrics/mAP50(B)': 0.92983, 'metrics/mAP50-95(B)': 0.62457, 'val/box_loss': 1.16033, 'val/cls_loss': 0.73755, 'val/dfl_loss': 0.88543, 'fitness': 0.65509}\n",
      "\u001b[34m\u001b[1mTuner: \u001b[0mBest fitness model is runs\\detect\\train15\n",
      "\u001b[34m\u001b[1mTuner: \u001b[0mBest fitness hyperparameters are printed below.\n",
      "\n",
      "Printing '\u001b[1m\u001b[30mruns\\detect\\tune\\best_hyperparameters.yaml\u001b[0m'\n",
      "\n",
      "lr0: 0.00655\n",
      "lrf: 0.01409\n",
      "momentum: 0.86042\n",
      "weight_decay: 0.00044\n",
      "warmup_epochs: 2.95403\n",
      "warmup_momentum: 0.72731\n",
      "box: 7.3637\n",
      "cls: 0.56015\n",
      "dfl: 1.15707\n",
      "hsv_h: 0.01677\n",
      "hsv_s: 0.68597\n",
      "hsv_v: 0.42293\n",
      "degrees: 0.0\n",
      "translate: 0.11181\n",
      "scale: 0.36684\n",
      "shear: 0.0\n",
      "perspective: 0.0\n",
      "flipud: 0.0\n",
      "fliplr: 0.45957\n",
      "bgr: 0.0\n",
      "mosaic: 1.0\n",
      "mixup: 0.0\n",
      "copy_paste: 0.0\n",
      "\n",
      "\u001b[34m\u001b[1mTuner: \u001b[0mStarting iteration 14/300 with hyperparameters: {'lr0': 0.00676, 'lrf': 0.01371, 'momentum': 0.86042, 'weight_decay': 0.00045, 'warmup_epochs': 2.96667, 'warmup_momentum': 0.72731, 'box': 7.3637, 'cls': 0.57978, 'dfl': 1.05019, 'hsv_h': 0.01575, 'hsv_s': 0.68518, 'hsv_v': 0.43209, 'degrees': 0.0, 'translate': 0.10759, 'scale': 0.36684, 'shear': 0.0, 'perspective': 0.0, 'flipud': 0.0, 'fliplr': 0.47017, 'bgr': 0.0, 'mosaic': 0.99945, 'mixup': 0.0, 'copy_paste': 0.0}\n",
      "Saved runs\\detect\\tune\\tune_scatter_plots.png\n",
      "Saved runs\\detect\\tune\\tune_fitness.png\n",
      "\n",
      "\u001b[34m\u001b[1mTuner: \u001b[0m14/300 iterations complete  (5391.16s)\n",
      "\u001b[34m\u001b[1mTuner: \u001b[0mResults saved to \u001b[1mruns\\detect\\tune\u001b[0m\n",
      "\u001b[34m\u001b[1mTuner: \u001b[0mBest fitness=0.65509 observed at iteration 13\n",
      "\u001b[34m\u001b[1mTuner: \u001b[0mBest fitness metrics are {'metrics/precision(B)': 0.90204, 'metrics/recall(B)': 0.83592, 'metrics/mAP50(B)': 0.92983, 'metrics/mAP50-95(B)': 0.62457, 'val/box_loss': 1.16033, 'val/cls_loss': 0.73755, 'val/dfl_loss': 0.88543, 'fitness': 0.65509}\n",
      "\u001b[34m\u001b[1mTuner: \u001b[0mBest fitness model is runs\\detect\\train15\n",
      "\u001b[34m\u001b[1mTuner: \u001b[0mBest fitness hyperparameters are printed below.\n",
      "\n",
      "Printing '\u001b[1m\u001b[30mruns\\detect\\tune\\best_hyperparameters.yaml\u001b[0m'\n",
      "\n",
      "lr0: 0.00655\n",
      "lrf: 0.01409\n",
      "momentum: 0.86042\n",
      "weight_decay: 0.00044\n",
      "warmup_epochs: 2.95403\n",
      "warmup_momentum: 0.72731\n",
      "box: 7.3637\n",
      "cls: 0.56015\n",
      "dfl: 1.15707\n",
      "hsv_h: 0.01677\n",
      "hsv_s: 0.68597\n",
      "hsv_v: 0.42293\n",
      "degrees: 0.0\n",
      "translate: 0.11181\n",
      "scale: 0.36684\n",
      "shear: 0.0\n",
      "perspective: 0.0\n",
      "flipud: 0.0\n",
      "fliplr: 0.45957\n",
      "bgr: 0.0\n",
      "mosaic: 1.0\n",
      "mixup: 0.0\n",
      "copy_paste: 0.0\n",
      "\n",
      "\u001b[34m\u001b[1mTuner: \u001b[0mStarting iteration 15/300 with hyperparameters: {'lr0': 0.00531, 'lrf': 0.01108, 'momentum': 0.88337, 'weight_decay': 0.00046, 'warmup_epochs': 2.55799, 'warmup_momentum': 0.70474, 'box': 8.78634, 'cls': 0.61293, 'dfl': 1.25351, 'hsv_h': 0.01392, 'hsv_s': 0.77122, 'hsv_v': 0.7185, 'degrees': 0.0, 'translate': 0.11413, 'scale': 0.42103, 'shear': 0.0, 'perspective': 0.0, 'flipud': 0.0, 'fliplr': 0.2897, 'bgr': 0.0, 'mosaic': 0.91697, 'mixup': 0.0, 'copy_paste': 0.0}\n",
      "Saved runs\\detect\\tune\\tune_scatter_plots.png\n",
      "Saved runs\\detect\\tune\\tune_fitness.png\n",
      "\n",
      "\u001b[34m\u001b[1mTuner: \u001b[0m15/300 iterations complete  (5774.38s)\n",
      "\u001b[34m\u001b[1mTuner: \u001b[0mResults saved to \u001b[1mruns\\detect\\tune\u001b[0m\n",
      "\u001b[34m\u001b[1mTuner: \u001b[0mBest fitness=0.65509 observed at iteration 13\n",
      "\u001b[34m\u001b[1mTuner: \u001b[0mBest fitness metrics are {'metrics/precision(B)': 0.90204, 'metrics/recall(B)': 0.83592, 'metrics/mAP50(B)': 0.92983, 'metrics/mAP50-95(B)': 0.62457, 'val/box_loss': 1.16033, 'val/cls_loss': 0.73755, 'val/dfl_loss': 0.88543, 'fitness': 0.65509}\n",
      "\u001b[34m\u001b[1mTuner: \u001b[0mBest fitness model is runs\\detect\\train15\n",
      "\u001b[34m\u001b[1mTuner: \u001b[0mBest fitness hyperparameters are printed below.\n",
      "\n",
      "Printing '\u001b[1m\u001b[30mruns\\detect\\tune\\best_hyperparameters.yaml\u001b[0m'\n",
      "\n",
      "lr0: 0.00655\n",
      "lrf: 0.01409\n",
      "momentum: 0.86042\n",
      "weight_decay: 0.00044\n",
      "warmup_epochs: 2.95403\n",
      "warmup_momentum: 0.72731\n",
      "box: 7.3637\n",
      "cls: 0.56015\n",
      "dfl: 1.15707\n",
      "hsv_h: 0.01677\n",
      "hsv_s: 0.68597\n",
      "hsv_v: 0.42293\n",
      "degrees: 0.0\n",
      "translate: 0.11181\n",
      "scale: 0.36684\n",
      "shear: 0.0\n",
      "perspective: 0.0\n",
      "flipud: 0.0\n",
      "fliplr: 0.45957\n",
      "bgr: 0.0\n",
      "mosaic: 1.0\n",
      "mixup: 0.0\n",
      "copy_paste: 0.0\n",
      "\n",
      "\u001b[34m\u001b[1mTuner: \u001b[0mStarting iteration 16/300 with hyperparameters: {'lr0': 0.00492, 'lrf': 0.01222, 'momentum': 0.85123, 'weight_decay': 0.00045, 'warmup_epochs': 2.55799, 'warmup_momentum': 0.69414, 'box': 8.35819, 'cls': 0.62828, 'dfl': 1.28665, 'hsv_h': 0.01484, 'hsv_s': 0.67167, 'hsv_v': 0.64857, 'degrees': 0.0, 'translate': 0.11644, 'scale': 0.45209, 'shear': 0.0, 'perspective': 0.0, 'flipud': 0.0, 'fliplr': 0.28389, 'bgr': 0.0, 'mosaic': 0.82448, 'mixup': 0.0, 'copy_paste': 0.0}\n",
      "Saved runs\\detect\\tune\\tune_scatter_plots.png\n",
      "Saved runs\\detect\\tune\\tune_fitness.png\n",
      "\n",
      "\u001b[34m\u001b[1mTuner: \u001b[0m16/300 iterations complete  (6154.62s)\n",
      "\u001b[34m\u001b[1mTuner: \u001b[0mResults saved to \u001b[1mruns\\detect\\tune\u001b[0m\n",
      "\u001b[34m\u001b[1mTuner: \u001b[0mBest fitness=0.65798 observed at iteration 16\n",
      "\u001b[34m\u001b[1mTuner: \u001b[0mBest fitness metrics are {'metrics/precision(B)': 0.89174, 'metrics/recall(B)': 0.85129, 'metrics/mAP50(B)': 0.93149, 'metrics/mAP50-95(B)': 0.6276, 'val/box_loss': 1.3099, 'val/cls_loss': 0.81882, 'val/dfl_loss': 0.98132, 'fitness': 0.65798}\n",
      "\u001b[34m\u001b[1mTuner: \u001b[0mBest fitness model is runs\\detect\\train18\n",
      "\u001b[34m\u001b[1mTuner: \u001b[0mBest fitness hyperparameters are printed below.\n",
      "\n",
      "Printing '\u001b[1m\u001b[30mruns\\detect\\tune\\best_hyperparameters.yaml\u001b[0m'\n",
      "\n",
      "lr0: 0.00492\n",
      "lrf: 0.01222\n",
      "momentum: 0.85123\n",
      "weight_decay: 0.00045\n",
      "warmup_epochs: 2.55799\n",
      "warmup_momentum: 0.69414\n",
      "box: 8.35819\n",
      "cls: 0.62828\n",
      "dfl: 1.28665\n",
      "hsv_h: 0.01484\n",
      "hsv_s: 0.67167\n",
      "hsv_v: 0.64857\n",
      "degrees: 0.0\n",
      "translate: 0.11644\n",
      "scale: 0.45209\n",
      "shear: 0.0\n",
      "perspective: 0.0\n",
      "flipud: 0.0\n",
      "fliplr: 0.28389\n",
      "bgr: 0.0\n",
      "mosaic: 0.82448\n",
      "mixup: 0.0\n",
      "copy_paste: 0.0\n",
      "\n",
      "\u001b[34m\u001b[1mTuner: \u001b[0mStarting iteration 17/300 with hyperparameters: {'lr0': 0.0041, 'lrf': 0.01248, 'momentum': 0.85123, 'weight_decay': 0.00046, 'warmup_epochs': 2.38655, 'warmup_momentum': 0.6659, 'box': 9.17296, 'cls': 0.62828, 'dfl': 1.25464, 'hsv_h': 0.01454, 'hsv_s': 0.63475, 'hsv_v': 0.71498, 'degrees': 0.0, 'translate': 0.11042, 'scale': 0.43256, 'shear': 0.0, 'perspective': 0.0, 'flipud': 0.0, 'fliplr': 0.30204, 'bgr': 0.0, 'mosaic': 0.8628, 'mixup': 0.0, 'copy_paste': 0.0}\n",
      "Saved runs\\detect\\tune\\tune_scatter_plots.png\n",
      "Saved runs\\detect\\tune\\tune_fitness.png\n",
      "\n",
      "\u001b[34m\u001b[1mTuner: \u001b[0m17/300 iterations complete  (6534.50s)\n",
      "\u001b[34m\u001b[1mTuner: \u001b[0mResults saved to \u001b[1mruns\\detect\\tune\u001b[0m\n",
      "\u001b[34m\u001b[1mTuner: \u001b[0mBest fitness=0.65798 observed at iteration 16\n",
      "\u001b[34m\u001b[1mTuner: \u001b[0mBest fitness metrics are {'metrics/precision(B)': 0.89174, 'metrics/recall(B)': 0.85129, 'metrics/mAP50(B)': 0.93149, 'metrics/mAP50-95(B)': 0.6276, 'val/box_loss': 1.3099, 'val/cls_loss': 0.81882, 'val/dfl_loss': 0.98132, 'fitness': 0.65798}\n",
      "\u001b[34m\u001b[1mTuner: \u001b[0mBest fitness model is runs\\detect\\train18\n",
      "\u001b[34m\u001b[1mTuner: \u001b[0mBest fitness hyperparameters are printed below.\n",
      "\n",
      "Printing '\u001b[1m\u001b[30mruns\\detect\\tune\\best_hyperparameters.yaml\u001b[0m'\n",
      "\n",
      "lr0: 0.00492\n",
      "lrf: 0.01222\n",
      "momentum: 0.85123\n",
      "weight_decay: 0.00045\n",
      "warmup_epochs: 2.55799\n",
      "warmup_momentum: 0.69414\n",
      "box: 8.35819\n",
      "cls: 0.62828\n",
      "dfl: 1.28665\n",
      "hsv_h: 0.01484\n",
      "hsv_s: 0.67167\n",
      "hsv_v: 0.64857\n",
      "degrees: 0.0\n",
      "translate: 0.11644\n",
      "scale: 0.45209\n",
      "shear: 0.0\n",
      "perspective: 0.0\n",
      "flipud: 0.0\n",
      "fliplr: 0.28389\n",
      "bgr: 0.0\n",
      "mosaic: 0.82448\n",
      "mixup: 0.0\n",
      "copy_paste: 0.0\n",
      "\n",
      "\u001b[34m\u001b[1mTuner: \u001b[0mStarting iteration 18/300 with hyperparameters: {'lr0': 0.00531, 'lrf': 0.0108, 'momentum': 0.89094, 'weight_decay': 0.00048, 'warmup_epochs': 2.56589, 'warmup_momentum': 0.67892, 'box': 8.96919, 'cls': 0.61293, 'dfl': 1.26639, 'hsv_h': 0.01364, 'hsv_s': 0.77122, 'hsv_v': 0.76969, 'degrees': 0.0, 'translate': 0.11174, 'scale': 0.42844, 'shear': 0.0, 'perspective': 0.0, 'flipud': 0.0, 'fliplr': 0.28298, 'bgr': 0.0, 'mosaic': 0.91697, 'mixup': 0.0, 'copy_paste': 0.0}\n",
      "Saved runs\\detect\\tune\\tune_scatter_plots.png\n",
      "Saved runs\\detect\\tune\\tune_fitness.png\n",
      "\n",
      "\u001b[34m\u001b[1mTuner: \u001b[0m18/300 iterations complete  (6906.99s)\n",
      "\u001b[34m\u001b[1mTuner: \u001b[0mResults saved to \u001b[1mruns\\detect\\tune\u001b[0m\n",
      "\u001b[34m\u001b[1mTuner: \u001b[0mBest fitness=0.65798 observed at iteration 16\n",
      "\u001b[34m\u001b[1mTuner: \u001b[0mBest fitness metrics are {'metrics/precision(B)': 0.89174, 'metrics/recall(B)': 0.85129, 'metrics/mAP50(B)': 0.93149, 'metrics/mAP50-95(B)': 0.6276, 'val/box_loss': 1.3099, 'val/cls_loss': 0.81882, 'val/dfl_loss': 0.98132, 'fitness': 0.65798}\n",
      "\u001b[34m\u001b[1mTuner: \u001b[0mBest fitness model is runs\\detect\\train18\n",
      "\u001b[34m\u001b[1mTuner: \u001b[0mBest fitness hyperparameters are printed below.\n",
      "\n",
      "Printing '\u001b[1m\u001b[30mruns\\detect\\tune\\best_hyperparameters.yaml\u001b[0m'\n",
      "\n",
      "lr0: 0.00492\n",
      "lrf: 0.01222\n",
      "momentum: 0.85123\n",
      "weight_decay: 0.00045\n",
      "warmup_epochs: 2.55799\n",
      "warmup_momentum: 0.69414\n",
      "box: 8.35819\n",
      "cls: 0.62828\n",
      "dfl: 1.28665\n",
      "hsv_h: 0.01484\n",
      "hsv_s: 0.67167\n",
      "hsv_v: 0.64857\n",
      "degrees: 0.0\n",
      "translate: 0.11644\n",
      "scale: 0.45209\n",
      "shear: 0.0\n",
      "perspective: 0.0\n",
      "flipud: 0.0\n",
      "fliplr: 0.28389\n",
      "bgr: 0.0\n",
      "mosaic: 0.82448\n",
      "mixup: 0.0\n",
      "copy_paste: 0.0\n",
      "\n",
      "\u001b[34m\u001b[1mTuner: \u001b[0mStarting iteration 19/300 with hyperparameters: {'lr0': 0.00374, 'lrf': 0.01108, 'momentum': 0.88337, 'weight_decay': 0.00041, 'warmup_epochs': 1.49406, 'warmup_momentum': 0.69967, 'box': 10.4086, 'cls': 0.57888, 'dfl': 1.26994, 'hsv_h': 0.0148, 'hsv_s': 0.7518, 'hsv_v': 0.69313, 'degrees': 0.0, 'translate': 0.10334, 'scale': 0.40255, 'shear': 0.0, 'perspective': 0.0, 'flipud': 0.0, 'fliplr': 0.27207, 'bgr': 0.0, 'mosaic': 1.0, 'mixup': 0.0, 'copy_paste': 0.0}\n",
      "Saved runs\\detect\\tune\\tune_scatter_plots.png\n",
      "Saved runs\\detect\\tune\\tune_fitness.png\n",
      "\n",
      "\u001b[34m\u001b[1mTuner: \u001b[0m19/300 iterations complete  (7281.75s)\n",
      "\u001b[34m\u001b[1mTuner: \u001b[0mResults saved to \u001b[1mruns\\detect\\tune\u001b[0m\n",
      "\u001b[34m\u001b[1mTuner: \u001b[0mBest fitness=0.65798 observed at iteration 16\n",
      "\u001b[34m\u001b[1mTuner: \u001b[0mBest fitness metrics are {'metrics/precision(B)': 0.89174, 'metrics/recall(B)': 0.85129, 'metrics/mAP50(B)': 0.93149, 'metrics/mAP50-95(B)': 0.6276, 'val/box_loss': 1.3099, 'val/cls_loss': 0.81882, 'val/dfl_loss': 0.98132, 'fitness': 0.65798}\n",
      "\u001b[34m\u001b[1mTuner: \u001b[0mBest fitness model is runs\\detect\\train18\n",
      "\u001b[34m\u001b[1mTuner: \u001b[0mBest fitness hyperparameters are printed below.\n",
      "\n",
      "Printing '\u001b[1m\u001b[30mruns\\detect\\tune\\best_hyperparameters.yaml\u001b[0m'\n",
      "\n",
      "lr0: 0.00492\n",
      "lrf: 0.01222\n",
      "momentum: 0.85123\n",
      "weight_decay: 0.00045\n",
      "warmup_epochs: 2.55799\n",
      "warmup_momentum: 0.69414\n",
      "box: 8.35819\n",
      "cls: 0.62828\n",
      "dfl: 1.28665\n",
      "hsv_h: 0.01484\n",
      "hsv_s: 0.67167\n",
      "hsv_v: 0.64857\n",
      "degrees: 0.0\n",
      "translate: 0.11644\n",
      "scale: 0.45209\n",
      "shear: 0.0\n",
      "perspective: 0.0\n",
      "flipud: 0.0\n",
      "fliplr: 0.28389\n",
      "bgr: 0.0\n",
      "mosaic: 0.82448\n",
      "mixup: 0.0\n",
      "copy_paste: 0.0\n",
      "\n",
      "\u001b[34m\u001b[1mTuner: \u001b[0mStarting iteration 20/300 with hyperparameters: {'lr0': 0.00374, 'lrf': 0.00955, 'momentum': 0.91898, 'weight_decay': 0.00041, 'warmup_epochs': 1.55495, 'warmup_momentum': 0.72661, 'box': 10.4086, 'cls': 0.63969, 'dfl': 1.26994, 'hsv_h': 0.0148, 'hsv_s': 0.76656, 'hsv_v': 0.76199, 'degrees': 0.0, 'translate': 0.10334, 'scale': 0.37745, 'shear': 0.0, 'perspective': 0.0, 'flipud': 0.0, 'fliplr': 0.2706, 'bgr': 0.0, 'mosaic': 1.0, 'mixup': 0.0, 'copy_paste': 0.0}\n",
      "Saved runs\\detect\\tune\\tune_scatter_plots.png\n",
      "Saved runs\\detect\\tune\\tune_fitness.png\n",
      "\n",
      "\u001b[34m\u001b[1mTuner: \u001b[0m20/300 iterations complete  (7659.96s)\n",
      "\u001b[34m\u001b[1mTuner: \u001b[0mResults saved to \u001b[1mruns\\detect\\tune\u001b[0m\n",
      "\u001b[34m\u001b[1mTuner: \u001b[0mBest fitness=0.65798 observed at iteration 16\n",
      "\u001b[34m\u001b[1mTuner: \u001b[0mBest fitness metrics are {'metrics/precision(B)': 0.89174, 'metrics/recall(B)': 0.85129, 'metrics/mAP50(B)': 0.93149, 'metrics/mAP50-95(B)': 0.6276, 'val/box_loss': 1.3099, 'val/cls_loss': 0.81882, 'val/dfl_loss': 0.98132, 'fitness': 0.65798}\n",
      "\u001b[34m\u001b[1mTuner: \u001b[0mBest fitness model is runs\\detect\\train18\n",
      "\u001b[34m\u001b[1mTuner: \u001b[0mBest fitness hyperparameters are printed below.\n",
      "\n",
      "Printing '\u001b[1m\u001b[30mruns\\detect\\tune\\best_hyperparameters.yaml\u001b[0m'\n",
      "\n",
      "lr0: 0.00492\n",
      "lrf: 0.01222\n",
      "momentum: 0.85123\n",
      "weight_decay: 0.00045\n",
      "warmup_epochs: 2.55799\n",
      "warmup_momentum: 0.69414\n",
      "box: 8.35819\n",
      "cls: 0.62828\n",
      "dfl: 1.28665\n",
      "hsv_h: 0.01484\n",
      "hsv_s: 0.67167\n",
      "hsv_v: 0.64857\n",
      "degrees: 0.0\n",
      "translate: 0.11644\n",
      "scale: 0.45209\n",
      "shear: 0.0\n",
      "perspective: 0.0\n",
      "flipud: 0.0\n",
      "fliplr: 0.28389\n",
      "bgr: 0.0\n",
      "mosaic: 0.82448\n",
      "mixup: 0.0\n",
      "copy_paste: 0.0\n",
      "\n",
      "\u001b[34m\u001b[1mTuner: \u001b[0mStarting iteration 21/300 with hyperparameters: {'lr0': 0.00655, 'lrf': 0.01393, 'momentum': 0.85182, 'weight_decay': 0.00044, 'warmup_epochs': 2.99799, 'warmup_momentum': 0.73065, 'box': 7.09609, 'cls': 0.61397, 'dfl': 1.19256, 'hsv_h': 0.01621, 'hsv_s': 0.68704, 'hsv_v': 0.42437, 'degrees': 0.0, 'translate': 0.11329, 'scale': 0.36121, 'shear': 0.0, 'perspective': 0.0, 'flipud': 0.0, 'fliplr': 0.4778, 'bgr': 0.0, 'mosaic': 1.0, 'mixup': 0.0, 'copy_paste': 0.0}\n",
      "Saved runs\\detect\\tune\\tune_scatter_plots.png\n",
      "Saved runs\\detect\\tune\\tune_fitness.png\n",
      "\n",
      "\u001b[34m\u001b[1mTuner: \u001b[0m21/300 iterations complete  (8033.37s)\n",
      "\u001b[34m\u001b[1mTuner: \u001b[0mResults saved to \u001b[1mruns\\detect\\tune\u001b[0m\n",
      "\u001b[34m\u001b[1mTuner: \u001b[0mBest fitness=0.65798 observed at iteration 16\n",
      "\u001b[34m\u001b[1mTuner: \u001b[0mBest fitness metrics are {'metrics/precision(B)': 0.89174, 'metrics/recall(B)': 0.85129, 'metrics/mAP50(B)': 0.93149, 'metrics/mAP50-95(B)': 0.6276, 'val/box_loss': 1.3099, 'val/cls_loss': 0.81882, 'val/dfl_loss': 0.98132, 'fitness': 0.65798}\n",
      "\u001b[34m\u001b[1mTuner: \u001b[0mBest fitness model is runs\\detect\\train18\n",
      "\u001b[34m\u001b[1mTuner: \u001b[0mBest fitness hyperparameters are printed below.\n",
      "\n",
      "Printing '\u001b[1m\u001b[30mruns\\detect\\tune\\best_hyperparameters.yaml\u001b[0m'\n",
      "\n",
      "lr0: 0.00492\n",
      "lrf: 0.01222\n",
      "momentum: 0.85123\n",
      "weight_decay: 0.00045\n",
      "warmup_epochs: 2.55799\n",
      "warmup_momentum: 0.69414\n",
      "box: 8.35819\n",
      "cls: 0.62828\n",
      "dfl: 1.28665\n",
      "hsv_h: 0.01484\n",
      "hsv_s: 0.67167\n",
      "hsv_v: 0.64857\n",
      "degrees: 0.0\n",
      "translate: 0.11644\n",
      "scale: 0.45209\n",
      "shear: 0.0\n",
      "perspective: 0.0\n",
      "flipud: 0.0\n",
      "fliplr: 0.28389\n",
      "bgr: 0.0\n",
      "mosaic: 0.82448\n",
      "mixup: 0.0\n",
      "copy_paste: 0.0\n",
      "\n",
      "\u001b[34m\u001b[1mTuner: \u001b[0mStarting iteration 22/300 with hyperparameters: {'lr0': 0.00455, 'lrf': 0.01306, 'momentum': 0.88359, 'weight_decay': 0.00043, 'warmup_epochs': 1.99991, 'warmup_momentum': 0.57774, 'box': 10.33882, 'cls': 0.62828, 'dfl': 1.67638, 'hsv_h': 0.01484, 'hsv_s': 0.80615, 'hsv_v': 0.70657, 'degrees': 0.0, 'translate': 0.08812, 'scale': 0.45209, 'shear': 0.0, 'perspective': 0.0, 'flipud': 0.0, 'fliplr': 0.28389, 'bgr': 0.0, 'mosaic': 0.82448, 'mixup': 0.0, 'copy_paste': 0.0}\n",
      "Saved runs\\detect\\tune\\tune_scatter_plots.png\n",
      "Saved runs\\detect\\tune\\tune_fitness.png\n",
      "\n",
      "\u001b[34m\u001b[1mTuner: \u001b[0m22/300 iterations complete  (8410.24s)\n",
      "\u001b[34m\u001b[1mTuner: \u001b[0mResults saved to \u001b[1mruns\\detect\\tune\u001b[0m\n",
      "\u001b[34m\u001b[1mTuner: \u001b[0mBest fitness=0.65798 observed at iteration 16\n",
      "\u001b[34m\u001b[1mTuner: \u001b[0mBest fitness metrics are {'metrics/precision(B)': 0.89174, 'metrics/recall(B)': 0.85129, 'metrics/mAP50(B)': 0.93149, 'metrics/mAP50-95(B)': 0.6276, 'val/box_loss': 1.3099, 'val/cls_loss': 0.81882, 'val/dfl_loss': 0.98132, 'fitness': 0.65798}\n",
      "\u001b[34m\u001b[1mTuner: \u001b[0mBest fitness model is runs\\detect\\train18\n",
      "\u001b[34m\u001b[1mTuner: \u001b[0mBest fitness hyperparameters are printed below.\n",
      "\n",
      "Printing '\u001b[1m\u001b[30mruns\\detect\\tune\\best_hyperparameters.yaml\u001b[0m'\n",
      "\n",
      "lr0: 0.00492\n",
      "lrf: 0.01222\n",
      "momentum: 0.85123\n",
      "weight_decay: 0.00045\n",
      "warmup_epochs: 2.55799\n",
      "warmup_momentum: 0.69414\n",
      "box: 8.35819\n",
      "cls: 0.62828\n",
      "dfl: 1.28665\n",
      "hsv_h: 0.01484\n",
      "hsv_s: 0.67167\n",
      "hsv_v: 0.64857\n",
      "degrees: 0.0\n",
      "translate: 0.11644\n",
      "scale: 0.45209\n",
      "shear: 0.0\n",
      "perspective: 0.0\n",
      "flipud: 0.0\n",
      "fliplr: 0.28389\n",
      "bgr: 0.0\n",
      "mosaic: 0.82448\n",
      "mixup: 0.0\n",
      "copy_paste: 0.0\n",
      "\n",
      "\u001b[34m\u001b[1mTuner: \u001b[0mStarting iteration 23/300 with hyperparameters: {'lr0': 0.00369, 'lrf': 0.00942, 'momentum': 0.90446, 'weight_decay': 0.00047, 'warmup_epochs': 1.66895, 'warmup_momentum': 0.74311, 'box': 10.09004, 'cls': 0.62285, 'dfl': 1.10198, 'hsv_h': 0.01516, 'hsv_s': 0.76126, 'hsv_v': 0.69313, 'degrees': 0.0, 'translate': 0.10532, 'scale': 0.38305, 'shear': 0.0, 'perspective': 0.0, 'flipud': 0.0, 'fliplr': 0.24847, 'bgr': 0.0, 'mosaic': 0.81984, 'mixup': 0.0, 'copy_paste': 0.0}\n",
      "Saved runs\\detect\\tune\\tune_scatter_plots.png\n",
      "Saved runs\\detect\\tune\\tune_fitness.png\n",
      "\n",
      "\u001b[34m\u001b[1mTuner: \u001b[0m23/300 iterations complete  (8815.51s)\n",
      "\u001b[34m\u001b[1mTuner: \u001b[0mResults saved to \u001b[1mruns\\detect\\tune\u001b[0m\n",
      "\u001b[34m\u001b[1mTuner: \u001b[0mBest fitness=0.65798 observed at iteration 16\n",
      "\u001b[34m\u001b[1mTuner: \u001b[0mBest fitness metrics are {'metrics/precision(B)': 0.89174, 'metrics/recall(B)': 0.85129, 'metrics/mAP50(B)': 0.93149, 'metrics/mAP50-95(B)': 0.6276, 'val/box_loss': 1.3099, 'val/cls_loss': 0.81882, 'val/dfl_loss': 0.98132, 'fitness': 0.65798}\n",
      "\u001b[34m\u001b[1mTuner: \u001b[0mBest fitness model is runs\\detect\\train18\n",
      "\u001b[34m\u001b[1mTuner: \u001b[0mBest fitness hyperparameters are printed below.\n",
      "\n",
      "Printing '\u001b[1m\u001b[30mruns\\detect\\tune\\best_hyperparameters.yaml\u001b[0m'\n",
      "\n",
      "lr0: 0.00492\n",
      "lrf: 0.01222\n",
      "momentum: 0.85123\n",
      "weight_decay: 0.00045\n",
      "warmup_epochs: 2.55799\n",
      "warmup_momentum: 0.69414\n",
      "box: 8.35819\n",
      "cls: 0.62828\n",
      "dfl: 1.28665\n",
      "hsv_h: 0.01484\n",
      "hsv_s: 0.67167\n",
      "hsv_v: 0.64857\n",
      "degrees: 0.0\n",
      "translate: 0.11644\n",
      "scale: 0.45209\n",
      "shear: 0.0\n",
      "perspective: 0.0\n",
      "flipud: 0.0\n",
      "fliplr: 0.28389\n",
      "bgr: 0.0\n",
      "mosaic: 0.82448\n",
      "mixup: 0.0\n",
      "copy_paste: 0.0\n",
      "\n",
      "\u001b[34m\u001b[1mTuner: \u001b[0mStarting iteration 24/300 with hyperparameters: {'lr0': 0.0037, 'lrf': 0.01126, 'momentum': 0.89851, 'weight_decay': 0.00041, 'warmup_epochs': 1.27925, 'warmup_momentum': 0.74428, 'box': 11.46535, 'cls': 0.56389, 'dfl': 1.2472, 'hsv_h': 0.0148, 'hsv_s': 0.7518, 'hsv_v': 0.57636, 'degrees': 0.0, 'translate': 0.10939, 'scale': 0.39277, 'shear': 0.0, 'perspective': 0.0, 'flipud': 0.0, 'fliplr': 0.27207, 'bgr': 0.0, 'mosaic': 0.9895, 'mixup': 0.0, 'copy_paste': 0.0}\n",
      "Saved runs\\detect\\tune\\tune_scatter_plots.png\n",
      "Saved runs\\detect\\tune\\tune_fitness.png\n",
      "\n",
      "\u001b[34m\u001b[1mTuner: \u001b[0m24/300 iterations complete  (9198.28s)\n",
      "\u001b[34m\u001b[1mTuner: \u001b[0mResults saved to \u001b[1mruns\\detect\\tune\u001b[0m\n",
      "\u001b[34m\u001b[1mTuner: \u001b[0mBest fitness=0.65798 observed at iteration 16\n",
      "\u001b[34m\u001b[1mTuner: \u001b[0mBest fitness metrics are {'metrics/precision(B)': 0.89174, 'metrics/recall(B)': 0.85129, 'metrics/mAP50(B)': 0.93149, 'metrics/mAP50-95(B)': 0.6276, 'val/box_loss': 1.3099, 'val/cls_loss': 0.81882, 'val/dfl_loss': 0.98132, 'fitness': 0.65798}\n",
      "\u001b[34m\u001b[1mTuner: \u001b[0mBest fitness model is runs\\detect\\train18\n",
      "\u001b[34m\u001b[1mTuner: \u001b[0mBest fitness hyperparameters are printed below.\n",
      "\n",
      "Printing '\u001b[1m\u001b[30mruns\\detect\\tune\\best_hyperparameters.yaml\u001b[0m'\n",
      "\n",
      "lr0: 0.00492\n",
      "lrf: 0.01222\n",
      "momentum: 0.85123\n",
      "weight_decay: 0.00045\n",
      "warmup_epochs: 2.55799\n",
      "warmup_momentum: 0.69414\n",
      "box: 8.35819\n",
      "cls: 0.62828\n",
      "dfl: 1.28665\n",
      "hsv_h: 0.01484\n",
      "hsv_s: 0.67167\n",
      "hsv_v: 0.64857\n",
      "degrees: 0.0\n",
      "translate: 0.11644\n",
      "scale: 0.45209\n",
      "shear: 0.0\n",
      "perspective: 0.0\n",
      "flipud: 0.0\n",
      "fliplr: 0.28389\n",
      "bgr: 0.0\n",
      "mosaic: 0.82448\n",
      "mixup: 0.0\n",
      "copy_paste: 0.0\n",
      "\n",
      "\u001b[34m\u001b[1mTuner: \u001b[0mStarting iteration 25/300 with hyperparameters: {'lr0': 0.003, 'lrf': 0.01004, 'momentum': 0.94241, 'weight_decay': 0.0004, 'warmup_epochs': 1.86104, 'warmup_momentum': 0.69967, 'box': 10.26566, 'cls': 0.61282, 'dfl': 1.362, 'hsv_h': 0.0154, 'hsv_s': 0.62495, 'hsv_v': 0.8009, 'degrees': 0.0, 'translate': 0.09298, 'scale': 0.41915, 'shear': 0.0, 'perspective': 0.0, 'flipud': 0.0, 'fliplr': 0.27213, 'bgr': 0.0, 'mosaic': 0.81045, 'mixup': 0.0, 'copy_paste': 0.0}\n",
      "Saved runs\\detect\\tune\\tune_scatter_plots.png\n",
      "Saved runs\\detect\\tune\\tune_fitness.png\n",
      "\n",
      "\u001b[34m\u001b[1mTuner: \u001b[0m25/300 iterations complete  (9574.09s)\n",
      "\u001b[34m\u001b[1mTuner: \u001b[0mResults saved to \u001b[1mruns\\detect\\tune\u001b[0m\n",
      "\u001b[34m\u001b[1mTuner: \u001b[0mBest fitness=0.65798 observed at iteration 16\n",
      "\u001b[34m\u001b[1mTuner: \u001b[0mBest fitness metrics are {'metrics/precision(B)': 0.89174, 'metrics/recall(B)': 0.85129, 'metrics/mAP50(B)': 0.93149, 'metrics/mAP50-95(B)': 0.6276, 'val/box_loss': 1.3099, 'val/cls_loss': 0.81882, 'val/dfl_loss': 0.98132, 'fitness': 0.65798}\n",
      "\u001b[34m\u001b[1mTuner: \u001b[0mBest fitness model is runs\\detect\\train18\n",
      "\u001b[34m\u001b[1mTuner: \u001b[0mBest fitness hyperparameters are printed below.\n",
      "\n",
      "Printing '\u001b[1m\u001b[30mruns\\detect\\tune\\best_hyperparameters.yaml\u001b[0m'\n",
      "\n",
      "lr0: 0.00492\n",
      "lrf: 0.01222\n",
      "momentum: 0.85123\n",
      "weight_decay: 0.00045\n",
      "warmup_epochs: 2.55799\n",
      "warmup_momentum: 0.69414\n",
      "box: 8.35819\n",
      "cls: 0.62828\n",
      "dfl: 1.28665\n",
      "hsv_h: 0.01484\n",
      "hsv_s: 0.67167\n",
      "hsv_v: 0.64857\n",
      "degrees: 0.0\n",
      "translate: 0.11644\n",
      "scale: 0.45209\n",
      "shear: 0.0\n",
      "perspective: 0.0\n",
      "flipud: 0.0\n",
      "fliplr: 0.28389\n",
      "bgr: 0.0\n",
      "mosaic: 0.82448\n",
      "mixup: 0.0\n",
      "copy_paste: 0.0\n",
      "\n",
      "\u001b[34m\u001b[1mTuner: \u001b[0mStarting iteration 26/300 with hyperparameters: {'lr0': 0.00455, 'lrf': 0.01192, 'momentum': 0.7891, 'weight_decay': 0.00035, 'warmup_epochs': 1.90346, 'warmup_momentum': 0.64877, 'box': 5.26671, 'cls': 0.58047, 'dfl': 1.19725, 'hsv_h': 0.01638, 'hsv_s': 0.72166, 'hsv_v': 0.59295, 'degrees': 0.0, 'translate': 0.12015, 'scale': 0.40284, 'shear': 0.0, 'perspective': 0.0, 'flipud': 0.0, 'fliplr': 0.3341, 'bgr': 0.0, 'mosaic': 0.92252, 'mixup': 0.0, 'copy_paste': 0.0}\n",
      "Saved runs\\detect\\tune\\tune_scatter_plots.png\n",
      "Saved runs\\detect\\tune\\tune_fitness.png\n",
      "\n",
      "\u001b[34m\u001b[1mTuner: \u001b[0m26/300 iterations complete  (9951.87s)\n",
      "\u001b[34m\u001b[1mTuner: \u001b[0mResults saved to \u001b[1mruns\\detect\\tune\u001b[0m\n",
      "\u001b[34m\u001b[1mTuner: \u001b[0mBest fitness=0.65798 observed at iteration 16\n",
      "\u001b[34m\u001b[1mTuner: \u001b[0mBest fitness metrics are {'metrics/precision(B)': 0.89174, 'metrics/recall(B)': 0.85129, 'metrics/mAP50(B)': 0.93149, 'metrics/mAP50-95(B)': 0.6276, 'val/box_loss': 1.3099, 'val/cls_loss': 0.81882, 'val/dfl_loss': 0.98132, 'fitness': 0.65798}\n",
      "\u001b[34m\u001b[1mTuner: \u001b[0mBest fitness model is runs\\detect\\train18\n",
      "\u001b[34m\u001b[1mTuner: \u001b[0mBest fitness hyperparameters are printed below.\n",
      "\n",
      "Printing '\u001b[1m\u001b[30mruns\\detect\\tune\\best_hyperparameters.yaml\u001b[0m'\n",
      "\n",
      "lr0: 0.00492\n",
      "lrf: 0.01222\n",
      "momentum: 0.85123\n",
      "weight_decay: 0.00045\n",
      "warmup_epochs: 2.55799\n",
      "warmup_momentum: 0.69414\n",
      "box: 8.35819\n",
      "cls: 0.62828\n",
      "dfl: 1.28665\n",
      "hsv_h: 0.01484\n",
      "hsv_s: 0.67167\n",
      "hsv_v: 0.64857\n",
      "degrees: 0.0\n",
      "translate: 0.11644\n",
      "scale: 0.45209\n",
      "shear: 0.0\n",
      "perspective: 0.0\n",
      "flipud: 0.0\n",
      "fliplr: 0.28389\n",
      "bgr: 0.0\n",
      "mosaic: 0.82448\n",
      "mixup: 0.0\n",
      "copy_paste: 0.0\n",
      "\n",
      "\u001b[34m\u001b[1mTuner: \u001b[0mStarting iteration 27/300 with hyperparameters: {'lr0': 0.00492, 'lrf': 0.0121, 'momentum': 0.85452, 'weight_decay': 0.00042, 'warmup_epochs': 2.25247, 'warmup_momentum': 0.69414, 'box': 8.46565, 'cls': 0.67407, 'dfl': 1.42127, 'hsv_h': 0.01371, 'hsv_s': 0.67167, 'hsv_v': 0.64857, 'degrees': 0.0, 'translate': 0.11348, 'scale': 0.44198, 'shear': 0.0, 'perspective': 0.0, 'flipud': 0.0, 'fliplr': 0.26646, 'bgr': 0.0, 'mosaic': 0.82419, 'mixup': 0.0, 'copy_paste': 0.0}\n",
      "Saved runs\\detect\\tune\\tune_scatter_plots.png\n",
      "Saved runs\\detect\\tune\\tune_fitness.png\n",
      "\n",
      "\u001b[34m\u001b[1mTuner: \u001b[0m27/300 iterations complete  (10338.42s)\n",
      "\u001b[34m\u001b[1mTuner: \u001b[0mResults saved to \u001b[1mruns\\detect\\tune\u001b[0m\n",
      "\u001b[34m\u001b[1mTuner: \u001b[0mBest fitness=0.65798 observed at iteration 16\n",
      "\u001b[34m\u001b[1mTuner: \u001b[0mBest fitness metrics are {'metrics/precision(B)': 0.89174, 'metrics/recall(B)': 0.85129, 'metrics/mAP50(B)': 0.93149, 'metrics/mAP50-95(B)': 0.6276, 'val/box_loss': 1.3099, 'val/cls_loss': 0.81882, 'val/dfl_loss': 0.98132, 'fitness': 0.65798}\n",
      "\u001b[34m\u001b[1mTuner: \u001b[0mBest fitness model is runs\\detect\\train18\n",
      "\u001b[34m\u001b[1mTuner: \u001b[0mBest fitness hyperparameters are printed below.\n",
      "\n",
      "Printing '\u001b[1m\u001b[30mruns\\detect\\tune\\best_hyperparameters.yaml\u001b[0m'\n",
      "\n",
      "lr0: 0.00492\n",
      "lrf: 0.01222\n",
      "momentum: 0.85123\n",
      "weight_decay: 0.00045\n",
      "warmup_epochs: 2.55799\n",
      "warmup_momentum: 0.69414\n",
      "box: 8.35819\n",
      "cls: 0.62828\n",
      "dfl: 1.28665\n",
      "hsv_h: 0.01484\n",
      "hsv_s: 0.67167\n",
      "hsv_v: 0.64857\n",
      "degrees: 0.0\n",
      "translate: 0.11644\n",
      "scale: 0.45209\n",
      "shear: 0.0\n",
      "perspective: 0.0\n",
      "flipud: 0.0\n",
      "fliplr: 0.28389\n",
      "bgr: 0.0\n",
      "mosaic: 0.82448\n",
      "mixup: 0.0\n",
      "copy_paste: 0.0\n",
      "\n",
      "\u001b[34m\u001b[1mTuner: \u001b[0mStarting iteration 28/300 with hyperparameters: {'lr0': 0.00431, 'lrf': 0.01222, 'momentum': 0.87461, 'weight_decay': 0.00051, 'warmup_epochs': 2.2016, 'warmup_momentum': 0.70523, 'box': 8.93351, 'cls': 0.62828, 'dfl': 1.31871, 'hsv_h': 0.01669, 'hsv_s': 0.67167, 'hsv_v': 0.66882, 'degrees': 0.0, 'translate': 0.11702, 'scale': 0.45975, 'shear': 0.0, 'perspective': 0.0, 'flipud': 0.0, 'fliplr': 0.25145, 'bgr': 0.0, 'mosaic': 0.82434, 'mixup': 0.0, 'copy_paste': 0.0}\n",
      "Saved runs\\detect\\tune\\tune_scatter_plots.png\n",
      "Saved runs\\detect\\tune\\tune_fitness.png\n",
      "\n",
      "\u001b[34m\u001b[1mTuner: \u001b[0m28/300 iterations complete  (10717.72s)\n",
      "\u001b[34m\u001b[1mTuner: \u001b[0mResults saved to \u001b[1mruns\\detect\\tune\u001b[0m\n",
      "\u001b[34m\u001b[1mTuner: \u001b[0mBest fitness=0.65798 observed at iteration 16\n",
      "\u001b[34m\u001b[1mTuner: \u001b[0mBest fitness metrics are {'metrics/precision(B)': 0.89174, 'metrics/recall(B)': 0.85129, 'metrics/mAP50(B)': 0.93149, 'metrics/mAP50-95(B)': 0.6276, 'val/box_loss': 1.3099, 'val/cls_loss': 0.81882, 'val/dfl_loss': 0.98132, 'fitness': 0.65798}\n",
      "\u001b[34m\u001b[1mTuner: \u001b[0mBest fitness model is runs\\detect\\train18\n",
      "\u001b[34m\u001b[1mTuner: \u001b[0mBest fitness hyperparameters are printed below.\n",
      "\n",
      "Printing '\u001b[1m\u001b[30mruns\\detect\\tune\\best_hyperparameters.yaml\u001b[0m'\n",
      "\n",
      "lr0: 0.00492\n",
      "lrf: 0.01222\n",
      "momentum: 0.85123\n",
      "weight_decay: 0.00045\n",
      "warmup_epochs: 2.55799\n",
      "warmup_momentum: 0.69414\n",
      "box: 8.35819\n",
      "cls: 0.62828\n",
      "dfl: 1.28665\n",
      "hsv_h: 0.01484\n",
      "hsv_s: 0.67167\n",
      "hsv_v: 0.64857\n",
      "degrees: 0.0\n",
      "translate: 0.11644\n",
      "scale: 0.45209\n",
      "shear: 0.0\n",
      "perspective: 0.0\n",
      "flipud: 0.0\n",
      "fliplr: 0.28389\n",
      "bgr: 0.0\n",
      "mosaic: 0.82448\n",
      "mixup: 0.0\n",
      "copy_paste: 0.0\n",
      "\n",
      "\u001b[34m\u001b[1mTuner: \u001b[0mStarting iteration 29/300 with hyperparameters: {'lr0': 0.00374, 'lrf': 0.01153, 'momentum': 0.87994, 'weight_decay': 0.00036, 'warmup_epochs': 1.53866, 'warmup_momentum': 0.69967, 'box': 10.89865, 'cls': 0.63666, 'dfl': 1.23765, 'hsv_h': 0.01389, 'hsv_s': 0.74104, 'hsv_v': 0.6753, 'degrees': 0.0, 'translate': 0.11482, 'scale': 0.42855, 'shear': 0.0, 'perspective': 0.0, 'flipud': 0.0, 'fliplr': 0.27821, 'bgr': 0.0, 'mosaic': 1.0, 'mixup': 0.0, 'copy_paste': 0.0}\n",
      "Saved runs\\detect\\tune\\tune_scatter_plots.png\n",
      "Saved runs\\detect\\tune\\tune_fitness.png\n",
      "\n",
      "\u001b[34m\u001b[1mTuner: \u001b[0m29/300 iterations complete  (11098.00s)\n",
      "\u001b[34m\u001b[1mTuner: \u001b[0mResults saved to \u001b[1mruns\\detect\\tune\u001b[0m\n",
      "\u001b[34m\u001b[1mTuner: \u001b[0mBest fitness=0.65798 observed at iteration 16\n",
      "\u001b[34m\u001b[1mTuner: \u001b[0mBest fitness metrics are {'metrics/precision(B)': 0.89174, 'metrics/recall(B)': 0.85129, 'metrics/mAP50(B)': 0.93149, 'metrics/mAP50-95(B)': 0.6276, 'val/box_loss': 1.3099, 'val/cls_loss': 0.81882, 'val/dfl_loss': 0.98132, 'fitness': 0.65798}\n",
      "\u001b[34m\u001b[1mTuner: \u001b[0mBest fitness model is runs\\detect\\train18\n",
      "\u001b[34m\u001b[1mTuner: \u001b[0mBest fitness hyperparameters are printed below.\n",
      "\n",
      "Printing '\u001b[1m\u001b[30mruns\\detect\\tune\\best_hyperparameters.yaml\u001b[0m'\n",
      "\n",
      "lr0: 0.00492\n",
      "lrf: 0.01222\n",
      "momentum: 0.85123\n",
      "weight_decay: 0.00045\n",
      "warmup_epochs: 2.55799\n",
      "warmup_momentum: 0.69414\n",
      "box: 8.35819\n",
      "cls: 0.62828\n",
      "dfl: 1.28665\n",
      "hsv_h: 0.01484\n",
      "hsv_s: 0.67167\n",
      "hsv_v: 0.64857\n",
      "degrees: 0.0\n",
      "translate: 0.11644\n",
      "scale: 0.45209\n",
      "shear: 0.0\n",
      "perspective: 0.0\n",
      "flipud: 0.0\n",
      "fliplr: 0.28389\n",
      "bgr: 0.0\n",
      "mosaic: 0.82448\n",
      "mixup: 0.0\n",
      "copy_paste: 0.0\n",
      "\n",
      "\u001b[34m\u001b[1mTuner: \u001b[0mStarting iteration 30/300 with hyperparameters: {'lr0': 0.004, 'lrf': 0.01222, 'momentum': 0.8835, 'weight_decay': 0.0005, 'warmup_epochs': 2.37762, 'warmup_momentum': 0.65813, 'box': 8.6076, 'cls': 0.68053, 'dfl': 1.27937, 'hsv_h': 0.01709, 'hsv_s': 0.70182, 'hsv_v': 0.71715, 'degrees': 0.0, 'translate': 0.11702, 'scale': 0.42654, 'shear': 0.0, 'perspective': 0.0, 'flipud': 0.0, 'fliplr': 0.25145, 'bgr': 0.0, 'mosaic': 0.80428, 'mixup': 0.0, 'copy_paste': 0.0}\n",
      "Saved runs\\detect\\tune\\tune_scatter_plots.png\n",
      "Saved runs\\detect\\tune\\tune_fitness.png\n",
      "\n",
      "\u001b[34m\u001b[1mTuner: \u001b[0m30/300 iterations complete  (11476.23s)\n",
      "\u001b[34m\u001b[1mTuner: \u001b[0mResults saved to \u001b[1mruns\\detect\\tune\u001b[0m\n",
      "\u001b[34m\u001b[1mTuner: \u001b[0mBest fitness=0.65798 observed at iteration 16\n",
      "\u001b[34m\u001b[1mTuner: \u001b[0mBest fitness metrics are {'metrics/precision(B)': 0.89174, 'metrics/recall(B)': 0.85129, 'metrics/mAP50(B)': 0.93149, 'metrics/mAP50-95(B)': 0.6276, 'val/box_loss': 1.3099, 'val/cls_loss': 0.81882, 'val/dfl_loss': 0.98132, 'fitness': 0.65798}\n",
      "\u001b[34m\u001b[1mTuner: \u001b[0mBest fitness model is runs\\detect\\train18\n",
      "\u001b[34m\u001b[1mTuner: \u001b[0mBest fitness hyperparameters are printed below.\n",
      "\n",
      "Printing '\u001b[1m\u001b[30mruns\\detect\\tune\\best_hyperparameters.yaml\u001b[0m'\n",
      "\n",
      "lr0: 0.00492\n",
      "lrf: 0.01222\n",
      "momentum: 0.85123\n",
      "weight_decay: 0.00045\n",
      "warmup_epochs: 2.55799\n",
      "warmup_momentum: 0.69414\n",
      "box: 8.35819\n",
      "cls: 0.62828\n",
      "dfl: 1.28665\n",
      "hsv_h: 0.01484\n",
      "hsv_s: 0.67167\n",
      "hsv_v: 0.64857\n",
      "degrees: 0.0\n",
      "translate: 0.11644\n",
      "scale: 0.45209\n",
      "shear: 0.0\n",
      "perspective: 0.0\n",
      "flipud: 0.0\n",
      "fliplr: 0.28389\n",
      "bgr: 0.0\n",
      "mosaic: 0.82448\n",
      "mixup: 0.0\n",
      "copy_paste: 0.0\n",
      "\n",
      "\u001b[34m\u001b[1mTuner: \u001b[0mStarting iteration 31/300 with hyperparameters: {'lr0': 0.00376, 'lrf': 0.01191, 'momentum': 0.87672, 'weight_decay': 0.00047, 'warmup_epochs': 2.32713, 'warmup_momentum': 0.66777, 'box': 8.68533, 'cls': 0.68053, 'dfl': 1.19324, 'hsv_h': 0.01585, 'hsv_s': 0.70182, 'hsv_v': 0.68082, 'degrees': 0.0, 'translate': 0.12254, 'scale': 0.43627, 'shear': 0.0, 'perspective': 0.0, 'flipud': 0.0, 'fliplr': 0.27459, 'bgr': 0.0, 'mosaic': 0.83012, 'mixup': 0.0, 'copy_paste': 0.0}\n",
      "Saved runs\\detect\\tune\\tune_scatter_plots.png\n",
      "Saved runs\\detect\\tune\\tune_fitness.png\n",
      "\n",
      "\u001b[34m\u001b[1mTuner: \u001b[0m31/300 iterations complete  (11855.94s)\n",
      "\u001b[34m\u001b[1mTuner: \u001b[0mResults saved to \u001b[1mruns\\detect\\tune\u001b[0m\n",
      "\u001b[34m\u001b[1mTuner: \u001b[0mBest fitness=0.65798 observed at iteration 16\n",
      "\u001b[34m\u001b[1mTuner: \u001b[0mBest fitness metrics are {'metrics/precision(B)': 0.89174, 'metrics/recall(B)': 0.85129, 'metrics/mAP50(B)': 0.93149, 'metrics/mAP50-95(B)': 0.6276, 'val/box_loss': 1.3099, 'val/cls_loss': 0.81882, 'val/dfl_loss': 0.98132, 'fitness': 0.65798}\n",
      "\u001b[34m\u001b[1mTuner: \u001b[0mBest fitness model is runs\\detect\\train18\n",
      "\u001b[34m\u001b[1mTuner: \u001b[0mBest fitness hyperparameters are printed below.\n",
      "\n",
      "Printing '\u001b[1m\u001b[30mruns\\detect\\tune\\best_hyperparameters.yaml\u001b[0m'\n",
      "\n",
      "lr0: 0.00492\n",
      "lrf: 0.01222\n",
      "momentum: 0.85123\n",
      "weight_decay: 0.00045\n",
      "warmup_epochs: 2.55799\n",
      "warmup_momentum: 0.69414\n",
      "box: 8.35819\n",
      "cls: 0.62828\n",
      "dfl: 1.28665\n",
      "hsv_h: 0.01484\n",
      "hsv_s: 0.67167\n",
      "hsv_v: 0.64857\n",
      "degrees: 0.0\n",
      "translate: 0.11644\n",
      "scale: 0.45209\n",
      "shear: 0.0\n",
      "perspective: 0.0\n",
      "flipud: 0.0\n",
      "fliplr: 0.28389\n",
      "bgr: 0.0\n",
      "mosaic: 0.82448\n",
      "mixup: 0.0\n",
      "copy_paste: 0.0\n",
      "\n",
      "\u001b[34m\u001b[1mTuner: \u001b[0mStarting iteration 32/300 with hyperparameters: {'lr0': 0.00337, 'lrf': 0.01231, 'momentum': 0.90794, 'weight_decay': 0.00038, 'warmup_epochs': 1.3624, 'warmup_momentum': 0.71567, 'box': 10.90289, 'cls': 0.48274, 'dfl': 1.3388, 'hsv_h': 0.01752, 'hsv_s': 0.75347, 'hsv_v': 0.67203, 'degrees': 0.0, 'translate': 0.1029, 'scale': 0.37554, 'shear': 0.0, 'perspective': 0.0, 'flipud': 0.0, 'fliplr': 0.32034, 'bgr': 0.0, 'mosaic': 0.94781, 'mixup': 0.0, 'copy_paste': 0.0}\n",
      "Saved runs\\detect\\tune\\tune_scatter_plots.png\n",
      "Saved runs\\detect\\tune\\tune_fitness.png\n",
      "\n",
      "\u001b[34m\u001b[1mTuner: \u001b[0m32/300 iterations complete  (12239.38s)\n",
      "\u001b[34m\u001b[1mTuner: \u001b[0mResults saved to \u001b[1mruns\\detect\\tune\u001b[0m\n",
      "\u001b[34m\u001b[1mTuner: \u001b[0mBest fitness=0.65798 observed at iteration 16\n",
      "\u001b[34m\u001b[1mTuner: \u001b[0mBest fitness metrics are {'metrics/precision(B)': 0.89174, 'metrics/recall(B)': 0.85129, 'metrics/mAP50(B)': 0.93149, 'metrics/mAP50-95(B)': 0.6276, 'val/box_loss': 1.3099, 'val/cls_loss': 0.81882, 'val/dfl_loss': 0.98132, 'fitness': 0.65798}\n",
      "\u001b[34m\u001b[1mTuner: \u001b[0mBest fitness model is runs\\detect\\train18\n",
      "\u001b[34m\u001b[1mTuner: \u001b[0mBest fitness hyperparameters are printed below.\n",
      "\n",
      "Printing '\u001b[1m\u001b[30mruns\\detect\\tune\\best_hyperparameters.yaml\u001b[0m'\n",
      "\n",
      "lr0: 0.00492\n",
      "lrf: 0.01222\n",
      "momentum: 0.85123\n",
      "weight_decay: 0.00045\n",
      "warmup_epochs: 2.55799\n",
      "warmup_momentum: 0.69414\n",
      "box: 8.35819\n",
      "cls: 0.62828\n",
      "dfl: 1.28665\n",
      "hsv_h: 0.01484\n",
      "hsv_s: 0.67167\n",
      "hsv_v: 0.64857\n",
      "degrees: 0.0\n",
      "translate: 0.11644\n",
      "scale: 0.45209\n",
      "shear: 0.0\n",
      "perspective: 0.0\n",
      "flipud: 0.0\n",
      "fliplr: 0.28389\n",
      "bgr: 0.0\n",
      "mosaic: 0.82448\n",
      "mixup: 0.0\n",
      "copy_paste: 0.0\n",
      "\n",
      "\u001b[34m\u001b[1mTuner: \u001b[0mStarting iteration 33/300 with hyperparameters: {'lr0': 0.00424, 'lrf': 0.01337, 'momentum': 0.89883, 'weight_decay': 0.0005, 'warmup_epochs': 2.0292, 'warmup_momentum': 0.77459, 'box': 9.20854, 'cls': 0.59534, 'dfl': 1.44116, 'hsv_h': 0.01714, 'hsv_s': 0.67167, 'hsv_v': 0.67694, 'degrees': 0.0, 'translate': 0.11537, 'scale': 0.45975, 'shear': 0.0, 'perspective': 0.0, 'flipud': 0.0, 'fliplr': 0.26055, 'bgr': 0.0, 'mosaic': 0.76877, 'mixup': 0.0, 'copy_paste': 0.0}\n",
      "Saved runs\\detect\\tune\\tune_scatter_plots.png\n",
      "Saved runs\\detect\\tune\\tune_fitness.png\n",
      "\n",
      "\u001b[34m\u001b[1mTuner: \u001b[0m33/300 iterations complete  (12620.78s)\n",
      "\u001b[34m\u001b[1mTuner: \u001b[0mResults saved to \u001b[1mruns\\detect\\tune\u001b[0m\n",
      "\u001b[34m\u001b[1mTuner: \u001b[0mBest fitness=0.65798 observed at iteration 16\n",
      "\u001b[34m\u001b[1mTuner: \u001b[0mBest fitness metrics are {'metrics/precision(B)': 0.89174, 'metrics/recall(B)': 0.85129, 'metrics/mAP50(B)': 0.93149, 'metrics/mAP50-95(B)': 0.6276, 'val/box_loss': 1.3099, 'val/cls_loss': 0.81882, 'val/dfl_loss': 0.98132, 'fitness': 0.65798}\n",
      "\u001b[34m\u001b[1mTuner: \u001b[0mBest fitness model is runs\\detect\\train18\n",
      "\u001b[34m\u001b[1mTuner: \u001b[0mBest fitness hyperparameters are printed below.\n",
      "\n",
      "Printing '\u001b[1m\u001b[30mruns\\detect\\tune\\best_hyperparameters.yaml\u001b[0m'\n",
      "\n",
      "lr0: 0.00492\n",
      "lrf: 0.01222\n",
      "momentum: 0.85123\n",
      "weight_decay: 0.00045\n",
      "warmup_epochs: 2.55799\n",
      "warmup_momentum: 0.69414\n",
      "box: 8.35819\n",
      "cls: 0.62828\n",
      "dfl: 1.28665\n",
      "hsv_h: 0.01484\n",
      "hsv_s: 0.67167\n",
      "hsv_v: 0.64857\n",
      "degrees: 0.0\n",
      "translate: 0.11644\n",
      "scale: 0.45209\n",
      "shear: 0.0\n",
      "perspective: 0.0\n",
      "flipud: 0.0\n",
      "fliplr: 0.28389\n",
      "bgr: 0.0\n",
      "mosaic: 0.82448\n",
      "mixup: 0.0\n",
      "copy_paste: 0.0\n",
      "\n",
      "\u001b[34m\u001b[1mTuner: \u001b[0mStarting iteration 34/300 with hyperparameters: {'lr0': 0.00503, 'lrf': 0.01222, 'momentum': 0.85123, 'weight_decay': 0.00045, 'warmup_epochs': 2.60335, 'warmup_momentum': 0.68958, 'box': 8.43476, 'cls': 0.62828, 'dfl': 1.28665, 'hsv_h': 0.01506, 'hsv_s': 0.66208, 'hsv_v': 0.64699, 'degrees': 0.0, 'translate': 0.11874, 'scale': 0.45209, 'shear': 0.0, 'perspective': 0.0, 'flipud': 0.0, 'fliplr': 0.28218, 'bgr': 0.0, 'mosaic': 0.84849, 'mixup': 0.0, 'copy_paste': 0.0}\n",
      "Saved runs\\detect\\tune\\tune_scatter_plots.png\n",
      "Saved runs\\detect\\tune\\tune_fitness.png\n",
      "\n",
      "\u001b[34m\u001b[1mTuner: \u001b[0m34/300 iterations complete  (12994.16s)\n",
      "\u001b[34m\u001b[1mTuner: \u001b[0mResults saved to \u001b[1mruns\\detect\\tune\u001b[0m\n",
      "\u001b[34m\u001b[1mTuner: \u001b[0mBest fitness=0.65798 observed at iteration 16\n",
      "\u001b[34m\u001b[1mTuner: \u001b[0mBest fitness metrics are {'metrics/precision(B)': 0.89174, 'metrics/recall(B)': 0.85129, 'metrics/mAP50(B)': 0.93149, 'metrics/mAP50-95(B)': 0.6276, 'val/box_loss': 1.3099, 'val/cls_loss': 0.81882, 'val/dfl_loss': 0.98132, 'fitness': 0.65798}\n",
      "\u001b[34m\u001b[1mTuner: \u001b[0mBest fitness model is runs\\detect\\train18\n",
      "\u001b[34m\u001b[1mTuner: \u001b[0mBest fitness hyperparameters are printed below.\n",
      "\n",
      "Printing '\u001b[1m\u001b[30mruns\\detect\\tune\\best_hyperparameters.yaml\u001b[0m'\n",
      "\n",
      "lr0: 0.00492\n",
      "lrf: 0.01222\n",
      "momentum: 0.85123\n",
      "weight_decay: 0.00045\n",
      "warmup_epochs: 2.55799\n",
      "warmup_momentum: 0.69414\n",
      "box: 8.35819\n",
      "cls: 0.62828\n",
      "dfl: 1.28665\n",
      "hsv_h: 0.01484\n",
      "hsv_s: 0.67167\n",
      "hsv_v: 0.64857\n",
      "degrees: 0.0\n",
      "translate: 0.11644\n",
      "scale: 0.45209\n",
      "shear: 0.0\n",
      "perspective: 0.0\n",
      "flipud: 0.0\n",
      "fliplr: 0.28389\n",
      "bgr: 0.0\n",
      "mosaic: 0.82448\n",
      "mixup: 0.0\n",
      "copy_paste: 0.0\n",
      "\n",
      "\u001b[34m\u001b[1mTuner: \u001b[0mStarting iteration 35/300 with hyperparameters: {'lr0': 0.00409, 'lrf': 0.01243, 'momentum': 0.84585, 'weight_decay': 0.00051, 'warmup_epochs': 3.05725, 'warmup_momentum': 0.70523, 'box': 11.52792, 'cls': 0.6241, 'dfl': 1.49565, 'hsv_h': 0.01811, 'hsv_s': 0.67345, 'hsv_v': 0.45512, 'degrees': 0.0, 'translate': 0.11064, 'scale': 0.39279, 'shear': 0.0, 'perspective': 0.0, 'flipud': 0.0, 'fliplr': 0.24357, 'bgr': 0.0, 'mosaic': 0.82434, 'mixup': 0.0, 'copy_paste': 0.0}\n",
      "Saved runs\\detect\\tune\\tune_scatter_plots.png\n",
      "Saved runs\\detect\\tune\\tune_fitness.png\n",
      "\n",
      "\u001b[34m\u001b[1mTuner: \u001b[0m35/300 iterations complete  (13383.79s)\n",
      "\u001b[34m\u001b[1mTuner: \u001b[0mResults saved to \u001b[1mruns\\detect\\tune\u001b[0m\n",
      "\u001b[34m\u001b[1mTuner: \u001b[0mBest fitness=0.65958 observed at iteration 35\n",
      "\u001b[34m\u001b[1mTuner: \u001b[0mBest fitness metrics are {'metrics/precision(B)': 0.88689, 'metrics/recall(B)': 0.84528, 'metrics/mAP50(B)': 0.92985, 'metrics/mAP50-95(B)': 0.62955, 'val/box_loss': 1.80751, 'val/cls_loss': 0.8051, 'val/dfl_loss': 1.13748, 'fitness': 0.65958}\n",
      "\u001b[34m\u001b[1mTuner: \u001b[0mBest fitness model is runs\\detect\\train37\n",
      "\u001b[34m\u001b[1mTuner: \u001b[0mBest fitness hyperparameters are printed below.\n",
      "\n",
      "Printing '\u001b[1m\u001b[30mruns\\detect\\tune\\best_hyperparameters.yaml\u001b[0m'\n",
      "\n",
      "lr0: 0.00409\n",
      "lrf: 0.01243\n",
      "momentum: 0.84585\n",
      "weight_decay: 0.00051\n",
      "warmup_epochs: 3.05725\n",
      "warmup_momentum: 0.70523\n",
      "box: 11.52792\n",
      "cls: 0.6241\n",
      "dfl: 1.49565\n",
      "hsv_h: 0.01811\n",
      "hsv_s: 0.67345\n",
      "hsv_v: 0.45512\n",
      "degrees: 0.0\n",
      "translate: 0.11064\n",
      "scale: 0.39279\n",
      "shear: 0.0\n",
      "perspective: 0.0\n",
      "flipud: 0.0\n",
      "fliplr: 0.24357\n",
      "bgr: 0.0\n",
      "mosaic: 0.82434\n",
      "mixup: 0.0\n",
      "copy_paste: 0.0\n",
      "\n",
      "\u001b[34m\u001b[1mTuner: \u001b[0mStarting iteration 36/300 with hyperparameters: {'lr0': 0.00478, 'lrf': 0.01108, 'momentum': 0.85494, 'weight_decay': 0.00049, 'warmup_epochs': 2.45713, 'warmup_momentum': 0.78875, 'box': 8.2913, 'cls': 0.57357, 'dfl': 1.2218, 'hsv_h': 0.01484, 'hsv_s': 0.67167, 'hsv_v': 0.64794, 'degrees': 0.0, 'translate': 0.11811, 'scale': 0.45209, 'shear': 0.0, 'perspective': 0.0, 'flipud': 0.0, 'fliplr': 0.28878, 'bgr': 0.0, 'mosaic': 0.82448, 'mixup': 0.0, 'copy_paste': 0.0}\n",
      "Saved runs\\detect\\tune\\tune_scatter_plots.png\n",
      "Saved runs\\detect\\tune\\tune_fitness.png\n",
      "\n",
      "\u001b[34m\u001b[1mTuner: \u001b[0m36/300 iterations complete  (13766.60s)\n",
      "\u001b[34m\u001b[1mTuner: \u001b[0mResults saved to \u001b[1mruns\\detect\\tune\u001b[0m\n",
      "\u001b[34m\u001b[1mTuner: \u001b[0mBest fitness=0.65958 observed at iteration 35\n",
      "\u001b[34m\u001b[1mTuner: \u001b[0mBest fitness metrics are {'metrics/precision(B)': 0.88689, 'metrics/recall(B)': 0.84528, 'metrics/mAP50(B)': 0.92985, 'metrics/mAP50-95(B)': 0.62955, 'val/box_loss': 1.80751, 'val/cls_loss': 0.8051, 'val/dfl_loss': 1.13748, 'fitness': 0.65958}\n",
      "\u001b[34m\u001b[1mTuner: \u001b[0mBest fitness model is runs\\detect\\train37\n",
      "\u001b[34m\u001b[1mTuner: \u001b[0mBest fitness hyperparameters are printed below.\n",
      "\n",
      "Printing '\u001b[1m\u001b[30mruns\\detect\\tune\\best_hyperparameters.yaml\u001b[0m'\n",
      "\n",
      "lr0: 0.00409\n",
      "lrf: 0.01243\n",
      "momentum: 0.84585\n",
      "weight_decay: 0.00051\n",
      "warmup_epochs: 3.05725\n",
      "warmup_momentum: 0.70523\n",
      "box: 11.52792\n",
      "cls: 0.6241\n",
      "dfl: 1.49565\n",
      "hsv_h: 0.01811\n",
      "hsv_s: 0.67345\n",
      "hsv_v: 0.45512\n",
      "degrees: 0.0\n",
      "translate: 0.11064\n",
      "scale: 0.39279\n",
      "shear: 0.0\n",
      "perspective: 0.0\n",
      "flipud: 0.0\n",
      "fliplr: 0.24357\n",
      "bgr: 0.0\n",
      "mosaic: 0.82434\n",
      "mixup: 0.0\n",
      "copy_paste: 0.0\n",
      "\n",
      "\u001b[34m\u001b[1mTuner: \u001b[0mStarting iteration 37/300 with hyperparameters: {'lr0': 0.00416, 'lrf': 0.01243, 'momentum': 0.85685, 'weight_decay': 0.00049, 'warmup_epochs': 3.05243, 'warmup_momentum': 0.72705, 'box': 11.52792, 'cls': 0.57384, 'dfl': 1.49565, 'hsv_h': 0.01827, 'hsv_s': 0.66901, 'hsv_v': 0.48608, 'degrees': 0.0, 'translate': 0.11298, 'scale': 0.37917, 'shear': 0.0, 'perspective': 0.0, 'flipud': 0.0, 'fliplr': 0.24357, 'bgr': 0.0, 'mosaic': 0.89311, 'mixup': 0.0, 'copy_paste': 0.0}\n",
      "Saved runs\\detect\\tune\\tune_scatter_plots.png\n",
      "Saved runs\\detect\\tune\\tune_fitness.png\n",
      "\n",
      "\u001b[34m\u001b[1mTuner: \u001b[0m37/300 iterations complete  (14144.98s)\n",
      "\u001b[34m\u001b[1mTuner: \u001b[0mResults saved to \u001b[1mruns\\detect\\tune\u001b[0m\n",
      "\u001b[34m\u001b[1mTuner: \u001b[0mBest fitness=0.65987 observed at iteration 37\n",
      "\u001b[34m\u001b[1mTuner: \u001b[0mBest fitness metrics are {'metrics/precision(B)': 0.89365, 'metrics/recall(B)': 0.83893, 'metrics/mAP50(B)': 0.93107, 'metrics/mAP50-95(B)': 0.62974, 'val/box_loss': 1.7935, 'val/cls_loss': 0.73751, 'val/dfl_loss': 1.11739, 'fitness': 0.65987}\n",
      "\u001b[34m\u001b[1mTuner: \u001b[0mBest fitness model is runs\\detect\\train39\n",
      "\u001b[34m\u001b[1mTuner: \u001b[0mBest fitness hyperparameters are printed below.\n",
      "\n",
      "Printing '\u001b[1m\u001b[30mruns\\detect\\tune\\best_hyperparameters.yaml\u001b[0m'\n",
      "\n",
      "lr0: 0.00416\n",
      "lrf: 0.01243\n",
      "momentum: 0.85685\n",
      "weight_decay: 0.00049\n",
      "warmup_epochs: 3.05243\n",
      "warmup_momentum: 0.72705\n",
      "box: 11.52792\n",
      "cls: 0.57384\n",
      "dfl: 1.49565\n",
      "hsv_h: 0.01827\n",
      "hsv_s: 0.66901\n",
      "hsv_v: 0.48608\n",
      "degrees: 0.0\n",
      "translate: 0.11298\n",
      "scale: 0.37917\n",
      "shear: 0.0\n",
      "perspective: 0.0\n",
      "flipud: 0.0\n",
      "fliplr: 0.24357\n",
      "bgr: 0.0\n",
      "mosaic: 0.89311\n",
      "mixup: 0.0\n",
      "copy_paste: 0.0\n",
      "\n",
      "\u001b[34m\u001b[1mTuner: \u001b[0mStarting iteration 38/300 with hyperparameters: {'lr0': 0.00397, 'lrf': 0.00762, 'momentum': 0.83397, 'weight_decay': 0.00052, 'warmup_epochs': 2.20825, 'warmup_momentum': 0.88105, 'box': 10.44587, 'cls': 0.64356, 'dfl': 1.49565, 'hsv_h': 0.01168, 'hsv_s': 0.64175, 'hsv_v': 0.38752, 'degrees': 0.0, 'translate': 0.11854, 'scale': 0.33352, 'shear': 0.0, 'perspective': 0.0, 'flipud': 0.0, 'fliplr': 0.3383, 'bgr': 0.0, 'mosaic': 0.82434, 'mixup': 0.0, 'copy_paste': 0.0}\n",
      "Saved runs\\detect\\tune\\tune_scatter_plots.png\n",
      "Saved runs\\detect\\tune\\tune_fitness.png\n",
      "\n",
      "\u001b[34m\u001b[1mTuner: \u001b[0m38/300 iterations complete  (14523.10s)\n",
      "\u001b[34m\u001b[1mTuner: \u001b[0mResults saved to \u001b[1mruns\\detect\\tune\u001b[0m\n",
      "\u001b[34m\u001b[1mTuner: \u001b[0mBest fitness=0.65987 observed at iteration 37\n",
      "\u001b[34m\u001b[1mTuner: \u001b[0mBest fitness metrics are {'metrics/precision(B)': 0.89365, 'metrics/recall(B)': 0.83893, 'metrics/mAP50(B)': 0.93107, 'metrics/mAP50-95(B)': 0.62974, 'val/box_loss': 1.7935, 'val/cls_loss': 0.73751, 'val/dfl_loss': 1.11739, 'fitness': 0.65987}\n",
      "\u001b[34m\u001b[1mTuner: \u001b[0mBest fitness model is runs\\detect\\train39\n",
      "\u001b[34m\u001b[1mTuner: \u001b[0mBest fitness hyperparameters are printed below.\n",
      "\n",
      "Printing '\u001b[1m\u001b[30mruns\\detect\\tune\\best_hyperparameters.yaml\u001b[0m'\n",
      "\n",
      "lr0: 0.00416\n",
      "lrf: 0.01243\n",
      "momentum: 0.85685\n",
      "weight_decay: 0.00049\n",
      "warmup_epochs: 3.05243\n",
      "warmup_momentum: 0.72705\n",
      "box: 11.52792\n",
      "cls: 0.57384\n",
      "dfl: 1.49565\n",
      "hsv_h: 0.01827\n",
      "hsv_s: 0.66901\n",
      "hsv_v: 0.48608\n",
      "degrees: 0.0\n",
      "translate: 0.11298\n",
      "scale: 0.37917\n",
      "shear: 0.0\n",
      "perspective: 0.0\n",
      "flipud: 0.0\n",
      "fliplr: 0.24357\n",
      "bgr: 0.0\n",
      "mosaic: 0.89311\n",
      "mixup: 0.0\n",
      "copy_paste: 0.0\n",
      "\n",
      "\u001b[34m\u001b[1mTuner: \u001b[0mStarting iteration 39/300 with hyperparameters: {'lr0': 0.0046, 'lrf': 0.01282, 'momentum': 0.8497, 'weight_decay': 0.00053, 'warmup_epochs': 2.9011, 'warmup_momentum': 0.72705, 'box': 11.01756, 'cls': 0.58328, 'dfl': 1.73868, 'hsv_h': 0.01827, 'hsv_s': 0.62186, 'hsv_v': 0.48608, 'degrees': 0.0, 'translate': 0.11396, 'scale': 0.36307, 'shear': 0.0, 'perspective': 0.0, 'flipud': 0.0, 'fliplr': 0.21684, 'bgr': 0.0, 'mosaic': 0.88903, 'mixup': 0.0, 'copy_paste': 0.0}\n",
      "Saved runs\\detect\\tune\\tune_scatter_plots.png\n",
      "Saved runs\\detect\\tune\\tune_fitness.png\n",
      "\n",
      "\u001b[34m\u001b[1mTuner: \u001b[0m39/300 iterations complete  (14904.93s)\n",
      "\u001b[34m\u001b[1mTuner: \u001b[0mResults saved to \u001b[1mruns\\detect\\tune\u001b[0m\n",
      "\u001b[34m\u001b[1mTuner: \u001b[0mBest fitness=0.65987 observed at iteration 37\n",
      "\u001b[34m\u001b[1mTuner: \u001b[0mBest fitness metrics are {'metrics/precision(B)': 0.89365, 'metrics/recall(B)': 0.83893, 'metrics/mAP50(B)': 0.93107, 'metrics/mAP50-95(B)': 0.62974, 'val/box_loss': 1.7935, 'val/cls_loss': 0.73751, 'val/dfl_loss': 1.11739, 'fitness': 0.65987}\n",
      "\u001b[34m\u001b[1mTuner: \u001b[0mBest fitness model is runs\\detect\\train39\n",
      "\u001b[34m\u001b[1mTuner: \u001b[0mBest fitness hyperparameters are printed below.\n",
      "\n",
      "Printing '\u001b[1m\u001b[30mruns\\detect\\tune\\best_hyperparameters.yaml\u001b[0m'\n",
      "\n",
      "lr0: 0.00416\n",
      "lrf: 0.01243\n",
      "momentum: 0.85685\n",
      "weight_decay: 0.00049\n",
      "warmup_epochs: 3.05243\n",
      "warmup_momentum: 0.72705\n",
      "box: 11.52792\n",
      "cls: 0.57384\n",
      "dfl: 1.49565\n",
      "hsv_h: 0.01827\n",
      "hsv_s: 0.66901\n",
      "hsv_v: 0.48608\n",
      "degrees: 0.0\n",
      "translate: 0.11298\n",
      "scale: 0.37917\n",
      "shear: 0.0\n",
      "perspective: 0.0\n",
      "flipud: 0.0\n",
      "fliplr: 0.24357\n",
      "bgr: 0.0\n",
      "mosaic: 0.89311\n",
      "mixup: 0.0\n",
      "copy_paste: 0.0\n",
      "\n",
      "\u001b[34m\u001b[1mTuner: \u001b[0mStarting iteration 40/300 with hyperparameters: {'lr0': 0.00411, 'lrf': 0.01211, 'momentum': 0.82296, 'weight_decay': 0.00044, 'warmup_epochs': 2.61602, 'warmup_momentum': 0.74629, 'box': 11.59484, 'cls': 0.60812, 'dfl': 1.40803, 'hsv_h': 0.01811, 'hsv_s': 0.67345, 'hsv_v': 0.45512, 'degrees': 0.0, 'translate': 0.11472, 'scale': 0.39279, 'shear': 0.0, 'perspective': 0.0, 'flipud': 0.0, 'fliplr': 0.24357, 'bgr': 0.0, 'mosaic': 0.89402, 'mixup': 0.0, 'copy_paste': 0.0}\n",
      "Saved runs\\detect\\tune\\tune_scatter_plots.png\n",
      "Saved runs\\detect\\tune\\tune_fitness.png\n",
      "\n",
      "\u001b[34m\u001b[1mTuner: \u001b[0m40/300 iterations complete  (15287.70s)\n",
      "\u001b[34m\u001b[1mTuner: \u001b[0mResults saved to \u001b[1mruns\\detect\\tune\u001b[0m\n",
      "\u001b[34m\u001b[1mTuner: \u001b[0mBest fitness=0.66006 observed at iteration 40\n",
      "\u001b[34m\u001b[1mTuner: \u001b[0mBest fitness metrics are {'metrics/precision(B)': 0.89627, 'metrics/recall(B)': 0.84846, 'metrics/mAP50(B)': 0.93276, 'metrics/mAP50-95(B)': 0.62976, 'val/box_loss': 1.8083, 'val/cls_loss': 0.78002, 'val/dfl_loss': 1.06708, 'fitness': 0.66006}\n",
      "\u001b[34m\u001b[1mTuner: \u001b[0mBest fitness model is runs\\detect\\train42\n",
      "\u001b[34m\u001b[1mTuner: \u001b[0mBest fitness hyperparameters are printed below.\n",
      "\n",
      "Printing '\u001b[1m\u001b[30mruns\\detect\\tune\\best_hyperparameters.yaml\u001b[0m'\n",
      "\n",
      "lr0: 0.00411\n",
      "lrf: 0.01211\n",
      "momentum: 0.82296\n",
      "weight_decay: 0.00044\n",
      "warmup_epochs: 2.61602\n",
      "warmup_momentum: 0.74629\n",
      "box: 11.59484\n",
      "cls: 0.60812\n",
      "dfl: 1.40803\n",
      "hsv_h: 0.01811\n",
      "hsv_s: 0.67345\n",
      "hsv_v: 0.45512\n",
      "degrees: 0.0\n",
      "translate: 0.11472\n",
      "scale: 0.39279\n",
      "shear: 0.0\n",
      "perspective: 0.0\n",
      "flipud: 0.0\n",
      "fliplr: 0.24357\n",
      "bgr: 0.0\n",
      "mosaic: 0.89402\n",
      "mixup: 0.0\n",
      "copy_paste: 0.0\n",
      "\n",
      "\u001b[34m\u001b[1mTuner: \u001b[0mStarting iteration 41/300 with hyperparameters: {'lr0': 0.00349, 'lrf': 0.01243, 'momentum': 0.85685, 'weight_decay': 0.00053, 'warmup_epochs': 2.97034, 'warmup_momentum': 0.94361, 'box': 11.47378, 'cls': 0.44919, 'dfl': 1.43451, 'hsv_h': 0.01827, 'hsv_s': 0.61508, 'hsv_v': 0.54655, 'degrees': 0.0, 'translate': 0.13005, 'scale': 0.36067, 'shear': 0.0, 'perspective': 0.0, 'flipud': 0.0, 'fliplr': 0.10667, 'bgr': 0.0, 'mosaic': 0.61197, 'mixup': 0.0, 'copy_paste': 0.0}\n",
      "Saved runs\\detect\\tune\\tune_scatter_plots.png\n",
      "Saved runs\\detect\\tune\\tune_fitness.png\n",
      "\n",
      "\u001b[34m\u001b[1mTuner: \u001b[0m41/300 iterations complete  (15674.59s)\n",
      "\u001b[34m\u001b[1mTuner: \u001b[0mResults saved to \u001b[1mruns\\detect\\tune\u001b[0m\n",
      "\u001b[34m\u001b[1mTuner: \u001b[0mBest fitness=0.66006 observed at iteration 40\n",
      "\u001b[34m\u001b[1mTuner: \u001b[0mBest fitness metrics are {'metrics/precision(B)': 0.89627, 'metrics/recall(B)': 0.84846, 'metrics/mAP50(B)': 0.93276, 'metrics/mAP50-95(B)': 0.62976, 'val/box_loss': 1.8083, 'val/cls_loss': 0.78002, 'val/dfl_loss': 1.06708, 'fitness': 0.66006}\n",
      "\u001b[34m\u001b[1mTuner: \u001b[0mBest fitness model is runs\\detect\\train42\n",
      "\u001b[34m\u001b[1mTuner: \u001b[0mBest fitness hyperparameters are printed below.\n",
      "\n",
      "Printing '\u001b[1m\u001b[30mruns\\detect\\tune\\best_hyperparameters.yaml\u001b[0m'\n",
      "\n",
      "lr0: 0.00411\n",
      "lrf: 0.01211\n",
      "momentum: 0.82296\n",
      "weight_decay: 0.00044\n",
      "warmup_epochs: 2.61602\n",
      "warmup_momentum: 0.74629\n",
      "box: 11.59484\n",
      "cls: 0.60812\n",
      "dfl: 1.40803\n",
      "hsv_h: 0.01811\n",
      "hsv_s: 0.67345\n",
      "hsv_v: 0.45512\n",
      "degrees: 0.0\n",
      "translate: 0.11472\n",
      "scale: 0.39279\n",
      "shear: 0.0\n",
      "perspective: 0.0\n",
      "flipud: 0.0\n",
      "fliplr: 0.24357\n",
      "bgr: 0.0\n",
      "mosaic: 0.89402\n",
      "mixup: 0.0\n",
      "copy_paste: 0.0\n",
      "\n",
      "\u001b[34m\u001b[1mTuner: \u001b[0mStarting iteration 42/300 with hyperparameters: {'lr0': 0.00406, 'lrf': 0.0139, 'momentum': 0.80863, 'weight_decay': 0.00041, 'warmup_epochs': 2.77864, 'warmup_momentum': 0.65431, 'box': 10.30962, 'cls': 0.60812, 'dfl': 1.42566, 'hsv_h': 0.02005, 'hsv_s': 0.67345, 'hsv_v': 0.45512, 'degrees': 0.0, 'translate': 0.10851, 'scale': 0.43659, 'shear': 0.0, 'perspective': 0.0, 'flipud': 0.0, 'fliplr': 0.21305, 'bgr': 0.0, 'mosaic': 0.77997, 'mixup': 0.0, 'copy_paste': 0.0}\n",
      "Saved runs\\detect\\tune\\tune_scatter_plots.png\n",
      "Saved runs\\detect\\tune\\tune_fitness.png\n",
      "\n",
      "\u001b[34m\u001b[1mTuner: \u001b[0m42/300 iterations complete  (16048.34s)\n",
      "\u001b[34m\u001b[1mTuner: \u001b[0mResults saved to \u001b[1mruns\\detect\\tune\u001b[0m\n",
      "\u001b[34m\u001b[1mTuner: \u001b[0mBest fitness=0.66006 observed at iteration 40\n",
      "\u001b[34m\u001b[1mTuner: \u001b[0mBest fitness metrics are {'metrics/precision(B)': 0.89627, 'metrics/recall(B)': 0.84846, 'metrics/mAP50(B)': 0.93276, 'metrics/mAP50-95(B)': 0.62976, 'val/box_loss': 1.8083, 'val/cls_loss': 0.78002, 'val/dfl_loss': 1.06708, 'fitness': 0.66006}\n",
      "\u001b[34m\u001b[1mTuner: \u001b[0mBest fitness model is runs\\detect\\train42\n",
      "\u001b[34m\u001b[1mTuner: \u001b[0mBest fitness hyperparameters are printed below.\n",
      "\n",
      "Printing '\u001b[1m\u001b[30mruns\\detect\\tune\\best_hyperparameters.yaml\u001b[0m'\n",
      "\n",
      "lr0: 0.00411\n",
      "lrf: 0.01211\n",
      "momentum: 0.82296\n",
      "weight_decay: 0.00044\n",
      "warmup_epochs: 2.61602\n",
      "warmup_momentum: 0.74629\n",
      "box: 11.59484\n",
      "cls: 0.60812\n",
      "dfl: 1.40803\n",
      "hsv_h: 0.01811\n",
      "hsv_s: 0.67345\n",
      "hsv_v: 0.45512\n",
      "degrees: 0.0\n",
      "translate: 0.11472\n",
      "scale: 0.39279\n",
      "shear: 0.0\n",
      "perspective: 0.0\n",
      "flipud: 0.0\n",
      "fliplr: 0.24357\n",
      "bgr: 0.0\n",
      "mosaic: 0.89402\n",
      "mixup: 0.0\n",
      "copy_paste: 0.0\n",
      "\n",
      "\u001b[34m\u001b[1mTuner: \u001b[0mStarting iteration 43/300 with hyperparameters: {'lr0': 0.0041, 'lrf': 0.0124, 'momentum': 0.85702, 'weight_decay': 0.00049, 'warmup_epochs': 3.05243, 'warmup_momentum': 0.72157, 'box': 11.47331, 'cls': 0.57384, 'dfl': 1.39854, 'hsv_h': 0.01827, 'hsv_s': 0.65733, 'hsv_v': 0.49103, 'degrees': 0.0, 'translate': 0.10868, 'scale': 0.38883, 'shear': 0.0, 'perspective': 0.0, 'flipud': 0.0, 'fliplr': 0.24894, 'bgr': 0.0, 'mosaic': 0.89844, 'mixup': 0.0, 'copy_paste': 0.0}\n",
      "Saved runs\\detect\\tune\\tune_scatter_plots.png\n",
      "Saved runs\\detect\\tune\\tune_fitness.png\n",
      "\n",
      "\u001b[34m\u001b[1mTuner: \u001b[0m43/300 iterations complete  (16429.36s)\n",
      "\u001b[34m\u001b[1mTuner: \u001b[0mResults saved to \u001b[1mruns\\detect\\tune\u001b[0m\n",
      "\u001b[34m\u001b[1mTuner: \u001b[0mBest fitness=0.66176 observed at iteration 43\n",
      "\u001b[34m\u001b[1mTuner: \u001b[0mBest fitness metrics are {'metrics/precision(B)': 0.89646, 'metrics/recall(B)': 0.85025, 'metrics/mAP50(B)': 0.93596, 'metrics/mAP50-95(B)': 0.6313, 'val/box_loss': 1.78017, 'val/cls_loss': 0.73179, 'val/dfl_loss': 1.05057, 'fitness': 0.66176}\n",
      "\u001b[34m\u001b[1mTuner: \u001b[0mBest fitness model is runs\\detect\\train45\n",
      "\u001b[34m\u001b[1mTuner: \u001b[0mBest fitness hyperparameters are printed below.\n",
      "\n",
      "Printing '\u001b[1m\u001b[30mruns\\detect\\tune\\best_hyperparameters.yaml\u001b[0m'\n",
      "\n",
      "lr0: 0.0041\n",
      "lrf: 0.0124\n",
      "momentum: 0.85702\n",
      "weight_decay: 0.00049\n",
      "warmup_epochs: 3.05243\n",
      "warmup_momentum: 0.72157\n",
      "box: 11.47331\n",
      "cls: 0.57384\n",
      "dfl: 1.39854\n",
      "hsv_h: 0.01827\n",
      "hsv_s: 0.65733\n",
      "hsv_v: 0.49103\n",
      "degrees: 0.0\n",
      "translate: 0.10868\n",
      "scale: 0.38883\n",
      "shear: 0.0\n",
      "perspective: 0.0\n",
      "flipud: 0.0\n",
      "fliplr: 0.24894\n",
      "bgr: 0.0\n",
      "mosaic: 0.89844\n",
      "mixup: 0.0\n",
      "copy_paste: 0.0\n",
      "\n",
      "\u001b[34m\u001b[1mTuner: \u001b[0mStarting iteration 44/300 with hyperparameters: {'lr0': 0.00267, 'lrf': 0.01001, 'momentum': 0.80961, 'weight_decay': 0.00047, 'warmup_epochs': 3.61455, 'warmup_momentum': 0.82066, 'box': 9.72935, 'cls': 0.48996, 'dfl': 1.21146, 'hsv_h': 0.01811, 'hsv_s': 0.46157, 'hsv_v': 0.39727, 'degrees': 0.0, 'translate': 0.08747, 'scale': 0.3922, 'shear': 0.0, 'perspective': 0.0, 'flipud': 0.0, 'fliplr': 0.24357, 'bgr': 0.0, 'mosaic': 0.7645, 'mixup': 0.0, 'copy_paste': 0.0}\n",
      "Saved runs\\detect\\tune\\tune_scatter_plots.png\n",
      "Saved runs\\detect\\tune\\tune_fitness.png\n",
      "\n",
      "\u001b[34m\u001b[1mTuner: \u001b[0m44/300 iterations complete  (16804.05s)\n",
      "\u001b[34m\u001b[1mTuner: \u001b[0mResults saved to \u001b[1mruns\\detect\\tune\u001b[0m\n",
      "\u001b[34m\u001b[1mTuner: \u001b[0mBest fitness=0.66176 observed at iteration 43\n",
      "\u001b[34m\u001b[1mTuner: \u001b[0mBest fitness metrics are {'metrics/precision(B)': 0.89646, 'metrics/recall(B)': 0.85025, 'metrics/mAP50(B)': 0.93596, 'metrics/mAP50-95(B)': 0.6313, 'val/box_loss': 1.78017, 'val/cls_loss': 0.73179, 'val/dfl_loss': 1.05057, 'fitness': 0.66176}\n",
      "\u001b[34m\u001b[1mTuner: \u001b[0mBest fitness model is runs\\detect\\train45\n",
      "\u001b[34m\u001b[1mTuner: \u001b[0mBest fitness hyperparameters are printed below.\n",
      "\n",
      "Printing '\u001b[1m\u001b[30mruns\\detect\\tune\\best_hyperparameters.yaml\u001b[0m'\n",
      "\n",
      "lr0: 0.0041\n",
      "lrf: 0.0124\n",
      "momentum: 0.85702\n",
      "weight_decay: 0.00049\n",
      "warmup_epochs: 3.05243\n",
      "warmup_momentum: 0.72157\n",
      "box: 11.47331\n",
      "cls: 0.57384\n",
      "dfl: 1.39854\n",
      "hsv_h: 0.01827\n",
      "hsv_s: 0.65733\n",
      "hsv_v: 0.49103\n",
      "degrees: 0.0\n",
      "translate: 0.10868\n",
      "scale: 0.38883\n",
      "shear: 0.0\n",
      "perspective: 0.0\n",
      "flipud: 0.0\n",
      "fliplr: 0.24894\n",
      "bgr: 0.0\n",
      "mosaic: 0.89844\n",
      "mixup: 0.0\n",
      "copy_paste: 0.0\n",
      "\n",
      "\u001b[34m\u001b[1mTuner: \u001b[0mStarting iteration 45/300 with hyperparameters: {'lr0': 0.0041, 'lrf': 0.01154, 'momentum': 0.85022, 'weight_decay': 0.00045, 'warmup_epochs': 3.17675, 'warmup_momentum': 0.66796, 'box': 10.48049, 'cls': 0.57384, 'dfl': 1.37857, 'hsv_h': 0.01864, 'hsv_s': 0.66121, 'hsv_v': 0.53361, 'degrees': 0.0, 'translate': 0.11122, 'scale': 0.40505, 'shear': 0.0, 'perspective': 0.0, 'flipud': 0.0, 'fliplr': 0.22442, 'bgr': 0.0, 'mosaic': 0.84523, 'mixup': 0.0, 'copy_paste': 0.0}\n",
      "Saved runs\\detect\\tune\\tune_scatter_plots.png\n",
      "Saved runs\\detect\\tune\\tune_fitness.png\n",
      "\n",
      "\u001b[34m\u001b[1mTuner: \u001b[0m45/300 iterations complete  (17184.86s)\n",
      "\u001b[34m\u001b[1mTuner: \u001b[0mResults saved to \u001b[1mruns\\detect\\tune\u001b[0m\n",
      "\u001b[34m\u001b[1mTuner: \u001b[0mBest fitness=0.66176 observed at iteration 43\n",
      "\u001b[34m\u001b[1mTuner: \u001b[0mBest fitness metrics are {'metrics/precision(B)': 0.89646, 'metrics/recall(B)': 0.85025, 'metrics/mAP50(B)': 0.93596, 'metrics/mAP50-95(B)': 0.6313, 'val/box_loss': 1.78017, 'val/cls_loss': 0.73179, 'val/dfl_loss': 1.05057, 'fitness': 0.66176}\n",
      "\u001b[34m\u001b[1mTuner: \u001b[0mBest fitness model is runs\\detect\\train45\n",
      "\u001b[34m\u001b[1mTuner: \u001b[0mBest fitness hyperparameters are printed below.\n",
      "\n",
      "Printing '\u001b[1m\u001b[30mruns\\detect\\tune\\best_hyperparameters.yaml\u001b[0m'\n",
      "\n",
      "lr0: 0.0041\n",
      "lrf: 0.0124\n",
      "momentum: 0.85702\n",
      "weight_decay: 0.00049\n",
      "warmup_epochs: 3.05243\n",
      "warmup_momentum: 0.72157\n",
      "box: 11.47331\n",
      "cls: 0.57384\n",
      "dfl: 1.39854\n",
      "hsv_h: 0.01827\n",
      "hsv_s: 0.65733\n",
      "hsv_v: 0.49103\n",
      "degrees: 0.0\n",
      "translate: 0.10868\n",
      "scale: 0.38883\n",
      "shear: 0.0\n",
      "perspective: 0.0\n",
      "flipud: 0.0\n",
      "fliplr: 0.24894\n",
      "bgr: 0.0\n",
      "mosaic: 0.89844\n",
      "mixup: 0.0\n",
      "copy_paste: 0.0\n",
      "\n",
      "\u001b[34m\u001b[1mTuner: \u001b[0mStarting iteration 46/300 with hyperparameters: {'lr0': 0.00445, 'lrf': 0.01177, 'momentum': 0.82039, 'weight_decay': 0.00069, 'warmup_epochs': 3.05243, 'warmup_momentum': 0.5442, 'box': 10.25023, 'cls': 0.56554, 'dfl': 1.39716, 'hsv_h': 0.01999, 'hsv_s': 0.65733, 'hsv_v': 0.49103, 'degrees': 0.0, 'translate': 0.13117, 'scale': 0.32656, 'shear': 0.0, 'perspective': 0.0, 'flipud': 0.0, 'fliplr': 0.28481, 'bgr': 0.0, 'mosaic': 0.88676, 'mixup': 0.0, 'copy_paste': 0.0}\n",
      "Saved runs\\detect\\tune\\tune_scatter_plots.png\n",
      "Saved runs\\detect\\tune\\tune_fitness.png\n",
      "\n",
      "\u001b[34m\u001b[1mTuner: \u001b[0m46/300 iterations complete  (17554.63s)\n",
      "\u001b[34m\u001b[1mTuner: \u001b[0mResults saved to \u001b[1mruns\\detect\\tune\u001b[0m\n",
      "\u001b[34m\u001b[1mTuner: \u001b[0mBest fitness=0.66176 observed at iteration 43\n",
      "\u001b[34m\u001b[1mTuner: \u001b[0mBest fitness metrics are {'metrics/precision(B)': 0.89646, 'metrics/recall(B)': 0.85025, 'metrics/mAP50(B)': 0.93596, 'metrics/mAP50-95(B)': 0.6313, 'val/box_loss': 1.78017, 'val/cls_loss': 0.73179, 'val/dfl_loss': 1.05057, 'fitness': 0.66176}\n",
      "\u001b[34m\u001b[1mTuner: \u001b[0mBest fitness model is runs\\detect\\train45\n",
      "\u001b[34m\u001b[1mTuner: \u001b[0mBest fitness hyperparameters are printed below.\n",
      "\n",
      "Printing '\u001b[1m\u001b[30mruns\\detect\\tune\\best_hyperparameters.yaml\u001b[0m'\n",
      "\n",
      "lr0: 0.0041\n",
      "lrf: 0.0124\n",
      "momentum: 0.85702\n",
      "weight_decay: 0.00049\n",
      "warmup_epochs: 3.05243\n",
      "warmup_momentum: 0.72157\n",
      "box: 11.47331\n",
      "cls: 0.57384\n",
      "dfl: 1.39854\n",
      "hsv_h: 0.01827\n",
      "hsv_s: 0.65733\n",
      "hsv_v: 0.49103\n",
      "degrees: 0.0\n",
      "translate: 0.10868\n",
      "scale: 0.38883\n",
      "shear: 0.0\n",
      "perspective: 0.0\n",
      "flipud: 0.0\n",
      "fliplr: 0.24894\n",
      "bgr: 0.0\n",
      "mosaic: 0.89844\n",
      "mixup: 0.0\n",
      "copy_paste: 0.0\n",
      "\n",
      "\u001b[34m\u001b[1mTuner: \u001b[0mStarting iteration 47/300 with hyperparameters: {'lr0': 0.00397, 'lrf': 0.01261, 'momentum': 0.82177, 'weight_decay': 0.00043, 'warmup_epochs': 2.67065, 'warmup_momentum': 0.74006, 'box': 11.58841, 'cls': 0.62307, 'dfl': 1.3969, 'hsv_h': 0.0182, 'hsv_s': 0.69044, 'hsv_v': 0.45512, 'degrees': 0.0, 'translate': 0.11357, 'scale': 0.39021, 'shear': 0.0, 'perspective': 0.0, 'flipud': 0.0, 'fliplr': 0.24357, 'bgr': 0.0, 'mosaic': 0.91479, 'mixup': 0.0, 'copy_paste': 0.0}\n",
      "Saved runs\\detect\\tune\\tune_scatter_plots.png\n",
      "Saved runs\\detect\\tune\\tune_fitness.png\n",
      "\n",
      "\u001b[34m\u001b[1mTuner: \u001b[0m47/300 iterations complete  (17930.00s)\n",
      "\u001b[34m\u001b[1mTuner: \u001b[0mResults saved to \u001b[1mruns\\detect\\tune\u001b[0m\n",
      "\u001b[34m\u001b[1mTuner: \u001b[0mBest fitness=0.66176 observed at iteration 43\n",
      "\u001b[34m\u001b[1mTuner: \u001b[0mBest fitness metrics are {'metrics/precision(B)': 0.89646, 'metrics/recall(B)': 0.85025, 'metrics/mAP50(B)': 0.93596, 'metrics/mAP50-95(B)': 0.6313, 'val/box_loss': 1.78017, 'val/cls_loss': 0.73179, 'val/dfl_loss': 1.05057, 'fitness': 0.66176}\n",
      "\u001b[34m\u001b[1mTuner: \u001b[0mBest fitness model is runs\\detect\\train45\n",
      "\u001b[34m\u001b[1mTuner: \u001b[0mBest fitness hyperparameters are printed below.\n",
      "\n",
      "Printing '\u001b[1m\u001b[30mruns\\detect\\tune\\best_hyperparameters.yaml\u001b[0m'\n",
      "\n",
      "lr0: 0.0041\n",
      "lrf: 0.0124\n",
      "momentum: 0.85702\n",
      "weight_decay: 0.00049\n",
      "warmup_epochs: 3.05243\n",
      "warmup_momentum: 0.72157\n",
      "box: 11.47331\n",
      "cls: 0.57384\n",
      "dfl: 1.39854\n",
      "hsv_h: 0.01827\n",
      "hsv_s: 0.65733\n",
      "hsv_v: 0.49103\n",
      "degrees: 0.0\n",
      "translate: 0.10868\n",
      "scale: 0.38883\n",
      "shear: 0.0\n",
      "perspective: 0.0\n",
      "flipud: 0.0\n",
      "fliplr: 0.24894\n",
      "bgr: 0.0\n",
      "mosaic: 0.89844\n",
      "mixup: 0.0\n",
      "copy_paste: 0.0\n",
      "\n",
      "\u001b[34m\u001b[1mTuner: \u001b[0mStarting iteration 48/300 with hyperparameters: {'lr0': 0.00418, 'lrf': 0.01611, 'momentum': 0.85702, 'weight_decay': 0.00047, 'warmup_epochs': 3.43527, 'warmup_momentum': 0.71038, 'box': 11.47331, 'cls': 0.54892, 'dfl': 1.27224, 'hsv_h': 0.01626, 'hsv_s': 0.71195, 'hsv_v': 0.53667, 'degrees': 0.0, 'translate': 0.10026, 'scale': 0.35636, 'shear': 0.0, 'perspective': 0.0, 'flipud': 0.0, 'fliplr': 0.24894, 'bgr': 0.0, 'mosaic': 0.89876, 'mixup': 0.0, 'copy_paste': 0.0}\n",
      "Saved runs\\detect\\tune\\tune_scatter_plots.png\n",
      "Saved runs\\detect\\tune\\tune_fitness.png\n",
      "\n",
      "\u001b[34m\u001b[1mTuner: \u001b[0m48/300 iterations complete  (18305.56s)\n",
      "\u001b[34m\u001b[1mTuner: \u001b[0mResults saved to \u001b[1mruns\\detect\\tune\u001b[0m\n",
      "\u001b[34m\u001b[1mTuner: \u001b[0mBest fitness=0.66176 observed at iteration 43\n",
      "\u001b[34m\u001b[1mTuner: \u001b[0mBest fitness metrics are {'metrics/precision(B)': 0.89646, 'metrics/recall(B)': 0.85025, 'metrics/mAP50(B)': 0.93596, 'metrics/mAP50-95(B)': 0.6313, 'val/box_loss': 1.78017, 'val/cls_loss': 0.73179, 'val/dfl_loss': 1.05057, 'fitness': 0.66176}\n",
      "\u001b[34m\u001b[1mTuner: \u001b[0mBest fitness model is runs\\detect\\train45\n",
      "\u001b[34m\u001b[1mTuner: \u001b[0mBest fitness hyperparameters are printed below.\n",
      "\n",
      "Printing '\u001b[1m\u001b[30mruns\\detect\\tune\\best_hyperparameters.yaml\u001b[0m'\n",
      "\n",
      "lr0: 0.0041\n",
      "lrf: 0.0124\n",
      "momentum: 0.85702\n",
      "weight_decay: 0.00049\n",
      "warmup_epochs: 3.05243\n",
      "warmup_momentum: 0.72157\n",
      "box: 11.47331\n",
      "cls: 0.57384\n",
      "dfl: 1.39854\n",
      "hsv_h: 0.01827\n",
      "hsv_s: 0.65733\n",
      "hsv_v: 0.49103\n",
      "degrees: 0.0\n",
      "translate: 0.10868\n",
      "scale: 0.38883\n",
      "shear: 0.0\n",
      "perspective: 0.0\n",
      "flipud: 0.0\n",
      "fliplr: 0.24894\n",
      "bgr: 0.0\n",
      "mosaic: 0.89844\n",
      "mixup: 0.0\n",
      "copy_paste: 0.0\n",
      "\n",
      "\u001b[34m\u001b[1mTuner: \u001b[0mStarting iteration 49/300 with hyperparameters: {'lr0': 0.00455, 'lrf': 0.0124, 'momentum': 0.86183, 'weight_decay': 0.00049, 'warmup_epochs': 3.25069, 'warmup_momentum': 0.77175, 'box': 12.04391, 'cls': 0.55238, 'dfl': 1.53993, 'hsv_h': 0.01827, 'hsv_s': 0.55164, 'hsv_v': 0.4698, 'degrees': 0.0, 'translate': 0.10272, 'scale': 0.40784, 'shear': 0.0, 'perspective': 0.0, 'flipud': 0.0, 'fliplr': 0.26134, 'bgr': 0.0, 'mosaic': 0.93051, 'mixup': 0.0, 'copy_paste': 0.0}\n",
      "Saved runs\\detect\\tune\\tune_scatter_plots.png\n",
      "Saved runs\\detect\\tune\\tune_fitness.png\n",
      "\n",
      "\u001b[34m\u001b[1mTuner: \u001b[0m49/300 iterations complete  (18689.63s)\n",
      "\u001b[34m\u001b[1mTuner: \u001b[0mResults saved to \u001b[1mruns\\detect\\tune\u001b[0m\n",
      "\u001b[34m\u001b[1mTuner: \u001b[0mBest fitness=0.66176 observed at iteration 43\n",
      "\u001b[34m\u001b[1mTuner: \u001b[0mBest fitness metrics are {'metrics/precision(B)': 0.89646, 'metrics/recall(B)': 0.85025, 'metrics/mAP50(B)': 0.93596, 'metrics/mAP50-95(B)': 0.6313, 'val/box_loss': 1.78017, 'val/cls_loss': 0.73179, 'val/dfl_loss': 1.05057, 'fitness': 0.66176}\n",
      "\u001b[34m\u001b[1mTuner: \u001b[0mBest fitness model is runs\\detect\\train45\n",
      "\u001b[34m\u001b[1mTuner: \u001b[0mBest fitness hyperparameters are printed below.\n",
      "\n",
      "Printing '\u001b[1m\u001b[30mruns\\detect\\tune\\best_hyperparameters.yaml\u001b[0m'\n",
      "\n",
      "lr0: 0.0041\n",
      "lrf: 0.0124\n",
      "momentum: 0.85702\n",
      "weight_decay: 0.00049\n",
      "warmup_epochs: 3.05243\n",
      "warmup_momentum: 0.72157\n",
      "box: 11.47331\n",
      "cls: 0.57384\n",
      "dfl: 1.39854\n",
      "hsv_h: 0.01827\n",
      "hsv_s: 0.65733\n",
      "hsv_v: 0.49103\n",
      "degrees: 0.0\n",
      "translate: 0.10868\n",
      "scale: 0.38883\n",
      "shear: 0.0\n",
      "perspective: 0.0\n",
      "flipud: 0.0\n",
      "fliplr: 0.24894\n",
      "bgr: 0.0\n",
      "mosaic: 0.89844\n",
      "mixup: 0.0\n",
      "copy_paste: 0.0\n",
      "\n",
      "\u001b[34m\u001b[1mTuner: \u001b[0mStarting iteration 50/300 with hyperparameters: {'lr0': 0.00458, 'lrf': 0.01265, 'momentum': 0.88609, 'weight_decay': 0.00049, 'warmup_epochs': 3.35291, 'warmup_momentum': 0.95, 'box': 13.19913, 'cls': 0.75987, 'dfl': 1.60991, 'hsv_h': 0.01827, 'hsv_s': 0.55752, 'hsv_v': 0.49103, 'degrees': 0.0, 'translate': 0.10868, 'scale': 0.27913, 'shear': 0.0, 'perspective': 0.0, 'flipud': 0.0, 'fliplr': 0.24894, 'bgr': 0.0, 'mosaic': 0.96553, 'mixup': 0.0, 'copy_paste': 0.0}\n",
      "Saved runs\\detect\\tune\\tune_scatter_plots.png\n",
      "Saved runs\\detect\\tune\\tune_fitness.png\n",
      "\n",
      "\u001b[34m\u001b[1mTuner: \u001b[0m50/300 iterations complete  (19064.30s)\n",
      "\u001b[34m\u001b[1mTuner: \u001b[0mResults saved to \u001b[1mruns\\detect\\tune\u001b[0m\n",
      "\u001b[34m\u001b[1mTuner: \u001b[0mBest fitness=0.66176 observed at iteration 43\n",
      "\u001b[34m\u001b[1mTuner: \u001b[0mBest fitness metrics are {'metrics/precision(B)': 0.89646, 'metrics/recall(B)': 0.85025, 'metrics/mAP50(B)': 0.93596, 'metrics/mAP50-95(B)': 0.6313, 'val/box_loss': 1.78017, 'val/cls_loss': 0.73179, 'val/dfl_loss': 1.05057, 'fitness': 0.66176}\n",
      "\u001b[34m\u001b[1mTuner: \u001b[0mBest fitness model is runs\\detect\\train45\n",
      "\u001b[34m\u001b[1mTuner: \u001b[0mBest fitness hyperparameters are printed below.\n",
      "\n",
      "Printing '\u001b[1m\u001b[30mruns\\detect\\tune\\best_hyperparameters.yaml\u001b[0m'\n",
      "\n",
      "lr0: 0.0041\n",
      "lrf: 0.0124\n",
      "momentum: 0.85702\n",
      "weight_decay: 0.00049\n",
      "warmup_epochs: 3.05243\n",
      "warmup_momentum: 0.72157\n",
      "box: 11.47331\n",
      "cls: 0.57384\n",
      "dfl: 1.39854\n",
      "hsv_h: 0.01827\n",
      "hsv_s: 0.65733\n",
      "hsv_v: 0.49103\n",
      "degrees: 0.0\n",
      "translate: 0.10868\n",
      "scale: 0.38883\n",
      "shear: 0.0\n",
      "perspective: 0.0\n",
      "flipud: 0.0\n",
      "fliplr: 0.24894\n",
      "bgr: 0.0\n",
      "mosaic: 0.89844\n",
      "mixup: 0.0\n",
      "copy_paste: 0.0\n",
      "\n",
      "\u001b[34m\u001b[1mTuner: \u001b[0mStarting iteration 51/300 with hyperparameters: {'lr0': 0.0041, 'lrf': 0.01254, 'momentum': 0.85313, 'weight_decay': 0.00049, 'warmup_epochs': 3.02328, 'warmup_momentum': 0.71232, 'box': 11.68472, 'cls': 0.57384, 'dfl': 1.47585, 'hsv_h': 0.01827, 'hsv_s': 0.66257, 'hsv_v': 0.48166, 'degrees': 0.0, 'translate': 0.11298, 'scale': 0.38113, 'shear': 0.0, 'perspective': 0.0, 'flipud': 0.0, 'fliplr': 0.24466, 'bgr': 0.0, 'mosaic': 0.90273, 'mixup': 0.0, 'copy_paste': 0.0}\n",
      "Saved runs\\detect\\tune\\tune_scatter_plots.png\n",
      "Saved runs\\detect\\tune\\tune_fitness.png\n",
      "\n",
      "\u001b[34m\u001b[1mTuner: \u001b[0m51/300 iterations complete  (19441.79s)\n",
      "\u001b[34m\u001b[1mTuner: \u001b[0mResults saved to \u001b[1mruns\\detect\\tune\u001b[0m\n",
      "\u001b[34m\u001b[1mTuner: \u001b[0mBest fitness=0.66176 observed at iteration 43\n",
      "\u001b[34m\u001b[1mTuner: \u001b[0mBest fitness metrics are {'metrics/precision(B)': 0.89646, 'metrics/recall(B)': 0.85025, 'metrics/mAP50(B)': 0.93596, 'metrics/mAP50-95(B)': 0.6313, 'val/box_loss': 1.78017, 'val/cls_loss': 0.73179, 'val/dfl_loss': 1.05057, 'fitness': 0.66176}\n",
      "\u001b[34m\u001b[1mTuner: \u001b[0mBest fitness model is runs\\detect\\train45\n",
      "\u001b[34m\u001b[1mTuner: \u001b[0mBest fitness hyperparameters are printed below.\n",
      "\n",
      "Printing '\u001b[1m\u001b[30mruns\\detect\\tune\\best_hyperparameters.yaml\u001b[0m'\n",
      "\n",
      "lr0: 0.0041\n",
      "lrf: 0.0124\n",
      "momentum: 0.85702\n",
      "weight_decay: 0.00049\n",
      "warmup_epochs: 3.05243\n",
      "warmup_momentum: 0.72157\n",
      "box: 11.47331\n",
      "cls: 0.57384\n",
      "dfl: 1.39854\n",
      "hsv_h: 0.01827\n",
      "hsv_s: 0.65733\n",
      "hsv_v: 0.49103\n",
      "degrees: 0.0\n",
      "translate: 0.10868\n",
      "scale: 0.38883\n",
      "shear: 0.0\n",
      "perspective: 0.0\n",
      "flipud: 0.0\n",
      "fliplr: 0.24894\n",
      "bgr: 0.0\n",
      "mosaic: 0.89844\n",
      "mixup: 0.0\n",
      "copy_paste: 0.0\n",
      "\n",
      "\u001b[34m\u001b[1mTuner: \u001b[0mStarting iteration 52/300 with hyperparameters: {'lr0': 0.00278, 'lrf': 0.01002, 'momentum': 0.80863, 'weight_decay': 0.0005, 'warmup_epochs': 3.6488, 'warmup_momentum': 0.81889, 'box': 9.6573, 'cls': 0.51573, 'dfl': 1.21146, 'hsv_h': 0.01811, 'hsv_s': 0.45684, 'hsv_v': 0.40343, 'degrees': 0.0, 'translate': 0.09227, 'scale': 0.3922, 'shear': 0.0, 'perspective': 0.0, 'flipud': 0.0, 'fliplr': 0.24265, 'bgr': 0.0, 'mosaic': 0.7645, 'mixup': 0.0, 'copy_paste': 0.0}\n",
      "Saved runs\\detect\\tune\\tune_scatter_plots.png\n",
      "Saved runs\\detect\\tune\\tune_fitness.png\n",
      "\n",
      "\u001b[34m\u001b[1mTuner: \u001b[0m52/300 iterations complete  (19817.10s)\n",
      "\u001b[34m\u001b[1mTuner: \u001b[0mResults saved to \u001b[1mruns\\detect\\tune\u001b[0m\n",
      "\u001b[34m\u001b[1mTuner: \u001b[0mBest fitness=0.66176 observed at iteration 43\n",
      "\u001b[34m\u001b[1mTuner: \u001b[0mBest fitness metrics are {'metrics/precision(B)': 0.89646, 'metrics/recall(B)': 0.85025, 'metrics/mAP50(B)': 0.93596, 'metrics/mAP50-95(B)': 0.6313, 'val/box_loss': 1.78017, 'val/cls_loss': 0.73179, 'val/dfl_loss': 1.05057, 'fitness': 0.66176}\n",
      "\u001b[34m\u001b[1mTuner: \u001b[0mBest fitness model is runs\\detect\\train45\n",
      "\u001b[34m\u001b[1mTuner: \u001b[0mBest fitness hyperparameters are printed below.\n",
      "\n",
      "Printing '\u001b[1m\u001b[30mruns\\detect\\tune\\best_hyperparameters.yaml\u001b[0m'\n",
      "\n",
      "lr0: 0.0041\n",
      "lrf: 0.0124\n",
      "momentum: 0.85702\n",
      "weight_decay: 0.00049\n",
      "warmup_epochs: 3.05243\n",
      "warmup_momentum: 0.72157\n",
      "box: 11.47331\n",
      "cls: 0.57384\n",
      "dfl: 1.39854\n",
      "hsv_h: 0.01827\n",
      "hsv_s: 0.65733\n",
      "hsv_v: 0.49103\n",
      "degrees: 0.0\n",
      "translate: 0.10868\n",
      "scale: 0.38883\n",
      "shear: 0.0\n",
      "perspective: 0.0\n",
      "flipud: 0.0\n",
      "fliplr: 0.24894\n",
      "bgr: 0.0\n",
      "mosaic: 0.89844\n",
      "mixup: 0.0\n",
      "copy_paste: 0.0\n",
      "\n",
      "\u001b[34m\u001b[1mTuner: \u001b[0mStarting iteration 53/300 with hyperparameters: {'lr0': 0.0043, 'lrf': 0.01249, 'momentum': 0.84104, 'weight_decay': 0.00055, 'warmup_epochs': 3.05243, 'warmup_momentum': 0.7646, 'box': 11.41178, 'cls': 0.64632, 'dfl': 1.43227, 'hsv_h': 0.01827, 'hsv_s': 0.64966, 'hsv_v': 0.46651, 'degrees': 0.0, 'translate': 0.10868, 'scale': 0.37702, 'shear': 0.0, 'perspective': 0.0, 'flipud': 0.0, 'fliplr': 0.24205, 'bgr': 0.0, 'mosaic': 0.91735, 'mixup': 0.0, 'copy_paste': 0.0}\n",
      "Saved runs\\detect\\tune\\tune_scatter_plots.png\n",
      "Saved runs\\detect\\tune\\tune_fitness.png\n",
      "\n",
      "\u001b[34m\u001b[1mTuner: \u001b[0m53/300 iterations complete  (20195.36s)\n",
      "\u001b[34m\u001b[1mTuner: \u001b[0mResults saved to \u001b[1mruns\\detect\\tune\u001b[0m\n",
      "\u001b[34m\u001b[1mTuner: \u001b[0mBest fitness=0.66176 observed at iteration 43\n",
      "\u001b[34m\u001b[1mTuner: \u001b[0mBest fitness metrics are {'metrics/precision(B)': 0.89646, 'metrics/recall(B)': 0.85025, 'metrics/mAP50(B)': 0.93596, 'metrics/mAP50-95(B)': 0.6313, 'val/box_loss': 1.78017, 'val/cls_loss': 0.73179, 'val/dfl_loss': 1.05057, 'fitness': 0.66176}\n",
      "\u001b[34m\u001b[1mTuner: \u001b[0mBest fitness model is runs\\detect\\train45\n",
      "\u001b[34m\u001b[1mTuner: \u001b[0mBest fitness hyperparameters are printed below.\n",
      "\n",
      "Printing '\u001b[1m\u001b[30mruns\\detect\\tune\\best_hyperparameters.yaml\u001b[0m'\n",
      "\n",
      "lr0: 0.0041\n",
      "lrf: 0.0124\n",
      "momentum: 0.85702\n",
      "weight_decay: 0.00049\n",
      "warmup_epochs: 3.05243\n",
      "warmup_momentum: 0.72157\n",
      "box: 11.47331\n",
      "cls: 0.57384\n",
      "dfl: 1.39854\n",
      "hsv_h: 0.01827\n",
      "hsv_s: 0.65733\n",
      "hsv_v: 0.49103\n",
      "degrees: 0.0\n",
      "translate: 0.10868\n",
      "scale: 0.38883\n",
      "shear: 0.0\n",
      "perspective: 0.0\n",
      "flipud: 0.0\n",
      "fliplr: 0.24894\n",
      "bgr: 0.0\n",
      "mosaic: 0.89844\n",
      "mixup: 0.0\n",
      "copy_paste: 0.0\n",
      "\n",
      "\u001b[34m\u001b[1mTuner: \u001b[0mStarting iteration 54/300 with hyperparameters: {'lr0': 0.00404, 'lrf': 0.0124, 'momentum': 0.82441, 'weight_decay': 0.00053, 'warmup_epochs': 2.8664, 'warmup_momentum': 0.74385, 'box': 11.47331, 'cls': 0.58958, 'dfl': 1.44362, 'hsv_h': 0.0163, 'hsv_s': 0.68087, 'hsv_v': 0.48777, 'degrees': 0.0, 'translate': 0.11562, 'scale': 0.40775, 'shear': 0.0, 'perspective': 0.0, 'flipud': 0.0, 'fliplr': 0.25729, 'bgr': 0.0, 'mosaic': 0.9865, 'mixup': 0.0, 'copy_paste': 0.0}\n",
      "Saved runs\\detect\\tune\\tune_scatter_plots.png\n",
      "Saved runs\\detect\\tune\\tune_fitness.png\n",
      "\n",
      "\u001b[34m\u001b[1mTuner: \u001b[0m54/300 iterations complete  (20607.74s)\n",
      "\u001b[34m\u001b[1mTuner: \u001b[0mResults saved to \u001b[1mruns\\detect\\tune\u001b[0m\n",
      "\u001b[34m\u001b[1mTuner: \u001b[0mBest fitness=0.66176 observed at iteration 43\n",
      "\u001b[34m\u001b[1mTuner: \u001b[0mBest fitness metrics are {'metrics/precision(B)': 0.89646, 'metrics/recall(B)': 0.85025, 'metrics/mAP50(B)': 0.93596, 'metrics/mAP50-95(B)': 0.6313, 'val/box_loss': 1.78017, 'val/cls_loss': 0.73179, 'val/dfl_loss': 1.05057, 'fitness': 0.66176}\n",
      "\u001b[34m\u001b[1mTuner: \u001b[0mBest fitness model is runs\\detect\\train45\n",
      "\u001b[34m\u001b[1mTuner: \u001b[0mBest fitness hyperparameters are printed below.\n",
      "\n",
      "Printing '\u001b[1m\u001b[30mruns\\detect\\tune\\best_hyperparameters.yaml\u001b[0m'\n",
      "\n",
      "lr0: 0.0041\n",
      "lrf: 0.0124\n",
      "momentum: 0.85702\n",
      "weight_decay: 0.00049\n",
      "warmup_epochs: 3.05243\n",
      "warmup_momentum: 0.72157\n",
      "box: 11.47331\n",
      "cls: 0.57384\n",
      "dfl: 1.39854\n",
      "hsv_h: 0.01827\n",
      "hsv_s: 0.65733\n",
      "hsv_v: 0.49103\n",
      "degrees: 0.0\n",
      "translate: 0.10868\n",
      "scale: 0.38883\n",
      "shear: 0.0\n",
      "perspective: 0.0\n",
      "flipud: 0.0\n",
      "fliplr: 0.24894\n",
      "bgr: 0.0\n",
      "mosaic: 0.89844\n",
      "mixup: 0.0\n",
      "copy_paste: 0.0\n",
      "\n",
      "\u001b[34m\u001b[1mTuner: \u001b[0mStarting iteration 55/300 with hyperparameters: {'lr0': 0.0041, 'lrf': 0.01022, 'momentum': 0.85702, 'weight_decay': 0.00053, 'warmup_epochs': 2.71983, 'warmup_momentum': 0.67668, 'box': 12.09585, 'cls': 0.57384, 'dfl': 1.85662, 'hsv_h': 0.01116, 'hsv_s': 0.65733, 'hsv_v': 0.31761, 'degrees': 0.0, 'translate': 0.10868, 'scale': 0.38883, 'shear': 0.0, 'perspective': 0.0, 'flipud': 0.0, 'fliplr': 0.24894, 'bgr': 0.0, 'mosaic': 0.93895, 'mixup': 0.0, 'copy_paste': 0.0}\n",
      "Saved runs\\detect\\tune\\tune_scatter_plots.png\n",
      "Saved runs\\detect\\tune\\tune_fitness.png\n",
      "\n",
      "\u001b[34m\u001b[1mTuner: \u001b[0m55/300 iterations complete  (20990.39s)\n",
      "\u001b[34m\u001b[1mTuner: \u001b[0mResults saved to \u001b[1mruns\\detect\\tune\u001b[0m\n",
      "\u001b[34m\u001b[1mTuner: \u001b[0mBest fitness=0.66176 observed at iteration 43\n",
      "\u001b[34m\u001b[1mTuner: \u001b[0mBest fitness metrics are {'metrics/precision(B)': 0.89646, 'metrics/recall(B)': 0.85025, 'metrics/mAP50(B)': 0.93596, 'metrics/mAP50-95(B)': 0.6313, 'val/box_loss': 1.78017, 'val/cls_loss': 0.73179, 'val/dfl_loss': 1.05057, 'fitness': 0.66176}\n",
      "\u001b[34m\u001b[1mTuner: \u001b[0mBest fitness model is runs\\detect\\train45\n",
      "\u001b[34m\u001b[1mTuner: \u001b[0mBest fitness hyperparameters are printed below.\n",
      "\n",
      "Printing '\u001b[1m\u001b[30mruns\\detect\\tune\\best_hyperparameters.yaml\u001b[0m'\n",
      "\n",
      "lr0: 0.0041\n",
      "lrf: 0.0124\n",
      "momentum: 0.85702\n",
      "weight_decay: 0.00049\n",
      "warmup_epochs: 3.05243\n",
      "warmup_momentum: 0.72157\n",
      "box: 11.47331\n",
      "cls: 0.57384\n",
      "dfl: 1.39854\n",
      "hsv_h: 0.01827\n",
      "hsv_s: 0.65733\n",
      "hsv_v: 0.49103\n",
      "degrees: 0.0\n",
      "translate: 0.10868\n",
      "scale: 0.38883\n",
      "shear: 0.0\n",
      "perspective: 0.0\n",
      "flipud: 0.0\n",
      "fliplr: 0.24894\n",
      "bgr: 0.0\n",
      "mosaic: 0.89844\n",
      "mixup: 0.0\n",
      "copy_paste: 0.0\n",
      "\n",
      "\u001b[34m\u001b[1mTuner: \u001b[0mStarting iteration 56/300 with hyperparameters: {'lr0': 0.00407, 'lrf': 0.01233, 'momentum': 0.85927, 'weight_decay': 0.00049, 'warmup_epochs': 3.05243, 'warmup_momentum': 0.69675, 'box': 11.41834, 'cls': 0.60689, 'dfl': 1.52686, 'hsv_h': 0.01783, 'hsv_s': 0.60661, 'hsv_v': 0.49103, 'degrees': 0.0, 'translate': 0.1082, 'scale': 0.39239, 'shear': 0.0, 'perspective': 0.0, 'flipud': 0.0, 'fliplr': 0.23872, 'bgr': 0.0, 'mosaic': 0.87027, 'mixup': 0.0, 'copy_paste': 0.0}\n",
      "Saved runs\\detect\\tune\\tune_scatter_plots.png\n",
      "Saved runs\\detect\\tune\\tune_fitness.png\n",
      "\n",
      "\u001b[34m\u001b[1mTuner: \u001b[0m56/300 iterations complete  (21362.10s)\n",
      "\u001b[34m\u001b[1mTuner: \u001b[0mResults saved to \u001b[1mruns\\detect\\tune\u001b[0m\n",
      "\u001b[34m\u001b[1mTuner: \u001b[0mBest fitness=0.66176 observed at iteration 43\n",
      "\u001b[34m\u001b[1mTuner: \u001b[0mBest fitness metrics are {'metrics/precision(B)': 0.89646, 'metrics/recall(B)': 0.85025, 'metrics/mAP50(B)': 0.93596, 'metrics/mAP50-95(B)': 0.6313, 'val/box_loss': 1.78017, 'val/cls_loss': 0.73179, 'val/dfl_loss': 1.05057, 'fitness': 0.66176}\n",
      "\u001b[34m\u001b[1mTuner: \u001b[0mBest fitness model is runs\\detect\\train45\n",
      "\u001b[34m\u001b[1mTuner: \u001b[0mBest fitness hyperparameters are printed below.\n",
      "\n",
      "Printing '\u001b[1m\u001b[30mruns\\detect\\tune\\best_hyperparameters.yaml\u001b[0m'\n",
      "\n",
      "lr0: 0.0041\n",
      "lrf: 0.0124\n",
      "momentum: 0.85702\n",
      "weight_decay: 0.00049\n",
      "warmup_epochs: 3.05243\n",
      "warmup_momentum: 0.72157\n",
      "box: 11.47331\n",
      "cls: 0.57384\n",
      "dfl: 1.39854\n",
      "hsv_h: 0.01827\n",
      "hsv_s: 0.65733\n",
      "hsv_v: 0.49103\n",
      "degrees: 0.0\n",
      "translate: 0.10868\n",
      "scale: 0.38883\n",
      "shear: 0.0\n",
      "perspective: 0.0\n",
      "flipud: 0.0\n",
      "fliplr: 0.24894\n",
      "bgr: 0.0\n",
      "mosaic: 0.89844\n",
      "mixup: 0.0\n",
      "copy_paste: 0.0\n",
      "\n",
      "\u001b[34m\u001b[1mTuner: \u001b[0mStarting iteration 57/300 with hyperparameters: {'lr0': 0.00411, 'lrf': 0.01257, 'momentum': 0.81311, 'weight_decay': 0.00052, 'warmup_epochs': 2.32012, 'warmup_momentum': 0.76768, 'box': 11.93423, 'cls': 0.65292, 'dfl': 1.32839, 'hsv_h': 0.0205, 'hsv_s': 0.68476, 'hsv_v': 0.45512, 'degrees': 0.0, 'translate': 0.12539, 'scale': 0.30146, 'shear': 0.0, 'perspective': 0.0, 'flipud': 0.0, 'fliplr': 0.23344, 'bgr': 0.0, 'mosaic': 0.96106, 'mixup': 0.0, 'copy_paste': 0.0}\n",
      "Saved runs\\detect\\tune\\tune_scatter_plots.png\n",
      "Saved runs\\detect\\tune\\tune_fitness.png\n",
      "\n",
      "\u001b[34m\u001b[1mTuner: \u001b[0m57/300 iterations complete  (21749.82s)\n",
      "\u001b[34m\u001b[1mTuner: \u001b[0mResults saved to \u001b[1mruns\\detect\\tune\u001b[0m\n",
      "\u001b[34m\u001b[1mTuner: \u001b[0mBest fitness=0.66176 observed at iteration 43\n",
      "\u001b[34m\u001b[1mTuner: \u001b[0mBest fitness metrics are {'metrics/precision(B)': 0.89646, 'metrics/recall(B)': 0.85025, 'metrics/mAP50(B)': 0.93596, 'metrics/mAP50-95(B)': 0.6313, 'val/box_loss': 1.78017, 'val/cls_loss': 0.73179, 'val/dfl_loss': 1.05057, 'fitness': 0.66176}\n",
      "\u001b[34m\u001b[1mTuner: \u001b[0mBest fitness model is runs\\detect\\train45\n",
      "\u001b[34m\u001b[1mTuner: \u001b[0mBest fitness hyperparameters are printed below.\n",
      "\n",
      "Printing '\u001b[1m\u001b[30mruns\\detect\\tune\\best_hyperparameters.yaml\u001b[0m'\n",
      "\n",
      "lr0: 0.0041\n",
      "lrf: 0.0124\n",
      "momentum: 0.85702\n",
      "weight_decay: 0.00049\n",
      "warmup_epochs: 3.05243\n",
      "warmup_momentum: 0.72157\n",
      "box: 11.47331\n",
      "cls: 0.57384\n",
      "dfl: 1.39854\n",
      "hsv_h: 0.01827\n",
      "hsv_s: 0.65733\n",
      "hsv_v: 0.49103\n",
      "degrees: 0.0\n",
      "translate: 0.10868\n",
      "scale: 0.38883\n",
      "shear: 0.0\n",
      "perspective: 0.0\n",
      "flipud: 0.0\n",
      "fliplr: 0.24894\n",
      "bgr: 0.0\n",
      "mosaic: 0.89844\n",
      "mixup: 0.0\n",
      "copy_paste: 0.0\n",
      "\n",
      "\u001b[34m\u001b[1mTuner: \u001b[0mStarting iteration 58/300 with hyperparameters: {'lr0': 0.00384, 'lrf': 0.00927, 'momentum': 0.89042, 'weight_decay': 0.00049, 'warmup_epochs': 3.23262, 'warmup_momentum': 0.64736, 'box': 11.43195, 'cls': 0.57384, 'dfl': 1.39854, 'hsv_h': 0.02016, 'hsv_s': 0.74483, 'hsv_v': 0.55931, 'degrees': 0.0, 'translate': 0.08811, 'scale': 0.49938, 'shear': 0.0, 'perspective': 0.0, 'flipud': 0.0, 'fliplr': 0.24613, 'bgr': 0.0, 'mosaic': 1.0, 'mixup': 0.0, 'copy_paste': 0.0}\n",
      "Saved runs\\detect\\tune\\tune_scatter_plots.png\n",
      "Saved runs\\detect\\tune\\tune_fitness.png\n",
      "\n",
      "\u001b[34m\u001b[1mTuner: \u001b[0m58/300 iterations complete  (22131.41s)\n",
      "\u001b[34m\u001b[1mTuner: \u001b[0mResults saved to \u001b[1mruns\\detect\\tune\u001b[0m\n",
      "\u001b[34m\u001b[1mTuner: \u001b[0mBest fitness=0.66176 observed at iteration 43\n",
      "\u001b[34m\u001b[1mTuner: \u001b[0mBest fitness metrics are {'metrics/precision(B)': 0.89646, 'metrics/recall(B)': 0.85025, 'metrics/mAP50(B)': 0.93596, 'metrics/mAP50-95(B)': 0.6313, 'val/box_loss': 1.78017, 'val/cls_loss': 0.73179, 'val/dfl_loss': 1.05057, 'fitness': 0.66176}\n",
      "\u001b[34m\u001b[1mTuner: \u001b[0mBest fitness model is runs\\detect\\train45\n",
      "\u001b[34m\u001b[1mTuner: \u001b[0mBest fitness hyperparameters are printed below.\n",
      "\n",
      "Printing '\u001b[1m\u001b[30mruns\\detect\\tune\\best_hyperparameters.yaml\u001b[0m'\n",
      "\n",
      "lr0: 0.0041\n",
      "lrf: 0.0124\n",
      "momentum: 0.85702\n",
      "weight_decay: 0.00049\n",
      "warmup_epochs: 3.05243\n",
      "warmup_momentum: 0.72157\n",
      "box: 11.47331\n",
      "cls: 0.57384\n",
      "dfl: 1.39854\n",
      "hsv_h: 0.01827\n",
      "hsv_s: 0.65733\n",
      "hsv_v: 0.49103\n",
      "degrees: 0.0\n",
      "translate: 0.10868\n",
      "scale: 0.38883\n",
      "shear: 0.0\n",
      "perspective: 0.0\n",
      "flipud: 0.0\n",
      "fliplr: 0.24894\n",
      "bgr: 0.0\n",
      "mosaic: 0.89844\n",
      "mixup: 0.0\n",
      "copy_paste: 0.0\n",
      "\n",
      "\u001b[34m\u001b[1mTuner: \u001b[0mStarting iteration 59/300 with hyperparameters: {'lr0': 0.00373, 'lrf': 0.0124, 'momentum': 0.81817, 'weight_decay': 0.00043, 'warmup_epochs': 2.55621, 'warmup_momentum': 0.72157, 'box': 10.25972, 'cls': 0.57384, 'dfl': 1.43364, 'hsv_h': 0.01877, 'hsv_s': 0.5492, 'hsv_v': 0.55781, 'degrees': 0.0, 'translate': 0.10868, 'scale': 0.58462, 'shear': 0.0, 'perspective': 0.0, 'flipud': 0.0, 'fliplr': 0.28148, 'bgr': 0.0, 'mosaic': 0.89844, 'mixup': 0.0, 'copy_paste': 0.0}\n",
      "Saved runs\\detect\\tune\\tune_scatter_plots.png\n",
      "Saved runs\\detect\\tune\\tune_fitness.png\n",
      "\n",
      "\u001b[34m\u001b[1mTuner: \u001b[0m59/300 iterations complete  (22513.90s)\n",
      "\u001b[34m\u001b[1mTuner: \u001b[0mResults saved to \u001b[1mruns\\detect\\tune\u001b[0m\n",
      "\u001b[34m\u001b[1mTuner: \u001b[0mBest fitness=0.66176 observed at iteration 43\n",
      "\u001b[34m\u001b[1mTuner: \u001b[0mBest fitness metrics are {'metrics/precision(B)': 0.89646, 'metrics/recall(B)': 0.85025, 'metrics/mAP50(B)': 0.93596, 'metrics/mAP50-95(B)': 0.6313, 'val/box_loss': 1.78017, 'val/cls_loss': 0.73179, 'val/dfl_loss': 1.05057, 'fitness': 0.66176}\n",
      "\u001b[34m\u001b[1mTuner: \u001b[0mBest fitness model is runs\\detect\\train45\n",
      "\u001b[34m\u001b[1mTuner: \u001b[0mBest fitness hyperparameters are printed below.\n",
      "\n",
      "Printing '\u001b[1m\u001b[30mruns\\detect\\tune\\best_hyperparameters.yaml\u001b[0m'\n",
      "\n",
      "lr0: 0.0041\n",
      "lrf: 0.0124\n",
      "momentum: 0.85702\n",
      "weight_decay: 0.00049\n",
      "warmup_epochs: 3.05243\n",
      "warmup_momentum: 0.72157\n",
      "box: 11.47331\n",
      "cls: 0.57384\n",
      "dfl: 1.39854\n",
      "hsv_h: 0.01827\n",
      "hsv_s: 0.65733\n",
      "hsv_v: 0.49103\n",
      "degrees: 0.0\n",
      "translate: 0.10868\n",
      "scale: 0.38883\n",
      "shear: 0.0\n",
      "perspective: 0.0\n",
      "flipud: 0.0\n",
      "fliplr: 0.24894\n",
      "bgr: 0.0\n",
      "mosaic: 0.89844\n",
      "mixup: 0.0\n",
      "copy_paste: 0.0\n",
      "\n",
      "\u001b[34m\u001b[1mTuner: \u001b[0mStarting iteration 60/300 with hyperparameters: {'lr0': 0.00267, 'lrf': 0.01065, 'momentum': 0.80961, 'weight_decay': 0.00047, 'warmup_epochs': 3.20074, 'warmup_momentum': 0.91401, 'box': 8.37088, 'cls': 0.48996, 'dfl': 1.30091, 'hsv_h': 0.01991, 'hsv_s': 0.4682, 'hsv_v': 0.45379, 'degrees': 0.0, 'translate': 0.08747, 'scale': 0.36779, 'shear': 0.0, 'perspective': 0.0, 'flipud': 0.0, 'fliplr': 0.24357, 'bgr': 0.0, 'mosaic': 0.74554, 'mixup': 0.0, 'copy_paste': 0.0}\n",
      "Saved runs\\detect\\tune\\tune_scatter_plots.png\n",
      "Saved runs\\detect\\tune\\tune_fitness.png\n",
      "\n",
      "\u001b[34m\u001b[1mTuner: \u001b[0m60/300 iterations complete  (22902.75s)\n",
      "\u001b[34m\u001b[1mTuner: \u001b[0mResults saved to \u001b[1mruns\\detect\\tune\u001b[0m\n",
      "\u001b[34m\u001b[1mTuner: \u001b[0mBest fitness=0.66176 observed at iteration 43\n",
      "\u001b[34m\u001b[1mTuner: \u001b[0mBest fitness metrics are {'metrics/precision(B)': 0.89646, 'metrics/recall(B)': 0.85025, 'metrics/mAP50(B)': 0.93596, 'metrics/mAP50-95(B)': 0.6313, 'val/box_loss': 1.78017, 'val/cls_loss': 0.73179, 'val/dfl_loss': 1.05057, 'fitness': 0.66176}\n",
      "\u001b[34m\u001b[1mTuner: \u001b[0mBest fitness model is runs\\detect\\train45\n",
      "\u001b[34m\u001b[1mTuner: \u001b[0mBest fitness hyperparameters are printed below.\n",
      "\n",
      "Printing '\u001b[1m\u001b[30mruns\\detect\\tune\\best_hyperparameters.yaml\u001b[0m'\n",
      "\n",
      "lr0: 0.0041\n",
      "lrf: 0.0124\n",
      "momentum: 0.85702\n",
      "weight_decay: 0.00049\n",
      "warmup_epochs: 3.05243\n",
      "warmup_momentum: 0.72157\n",
      "box: 11.47331\n",
      "cls: 0.57384\n",
      "dfl: 1.39854\n",
      "hsv_h: 0.01827\n",
      "hsv_s: 0.65733\n",
      "hsv_v: 0.49103\n",
      "degrees: 0.0\n",
      "translate: 0.10868\n",
      "scale: 0.38883\n",
      "shear: 0.0\n",
      "perspective: 0.0\n",
      "flipud: 0.0\n",
      "fliplr: 0.24894\n",
      "bgr: 0.0\n",
      "mosaic: 0.89844\n",
      "mixup: 0.0\n",
      "copy_paste: 0.0\n",
      "\n",
      "\u001b[34m\u001b[1mTuner: \u001b[0mStarting iteration 61/300 with hyperparameters: {'lr0': 0.00284, 'lrf': 0.01076, 'momentum': 0.82954, 'weight_decay': 0.00048, 'warmup_epochs': 3.18861, 'warmup_momentum': 0.91149, 'box': 7.86059, 'cls': 0.49189, 'dfl': 1.21933, 'hsv_h': 0.01978, 'hsv_s': 0.4682, 'hsv_v': 0.45379, 'degrees': 0.0, 'translate': 0.08853, 'scale': 0.36779, 'shear': 0.0, 'perspective': 0.0, 'flipud': 0.0, 'fliplr': 0.2656, 'bgr': 0.0, 'mosaic': 0.69888, 'mixup': 0.0, 'copy_paste': 0.0}\n",
      "Saved runs\\detect\\tune\\tune_scatter_plots.png\n",
      "Saved runs\\detect\\tune\\tune_fitness.png\n",
      "\n",
      "\u001b[34m\u001b[1mTuner: \u001b[0m61/300 iterations complete  (23279.36s)\n",
      "\u001b[34m\u001b[1mTuner: \u001b[0mResults saved to \u001b[1mruns\\detect\\tune\u001b[0m\n",
      "\u001b[34m\u001b[1mTuner: \u001b[0mBest fitness=0.66243 observed at iteration 61\n",
      "\u001b[34m\u001b[1mTuner: \u001b[0mBest fitness metrics are {'metrics/precision(B)': 0.89527, 'metrics/recall(B)': 0.85588, 'metrics/mAP50(B)': 0.93542, 'metrics/mAP50-95(B)': 0.6321, 'val/box_loss': 1.23118, 'val/cls_loss': 0.62475, 'val/dfl_loss': 0.92279, 'fitness': 0.66243}\n",
      "\u001b[34m\u001b[1mTuner: \u001b[0mBest fitness model is runs\\detect\\train64\n",
      "\u001b[34m\u001b[1mTuner: \u001b[0mBest fitness hyperparameters are printed below.\n",
      "\n",
      "Printing '\u001b[1m\u001b[30mruns\\detect\\tune\\best_hyperparameters.yaml\u001b[0m'\n",
      "\n",
      "lr0: 0.00284\n",
      "lrf: 0.01076\n",
      "momentum: 0.82954\n",
      "weight_decay: 0.00048\n",
      "warmup_epochs: 3.18861\n",
      "warmup_momentum: 0.91149\n",
      "box: 7.86059\n",
      "cls: 0.49189\n",
      "dfl: 1.21933\n",
      "hsv_h: 0.01978\n",
      "hsv_s: 0.4682\n",
      "hsv_v: 0.45379\n",
      "degrees: 0.0\n",
      "translate: 0.08853\n",
      "scale: 0.36779\n",
      "shear: 0.0\n",
      "perspective: 0.0\n",
      "flipud: 0.0\n",
      "fliplr: 0.2656\n",
      "bgr: 0.0\n",
      "mosaic: 0.69888\n",
      "mixup: 0.0\n",
      "copy_paste: 0.0\n",
      "\n",
      "\u001b[34m\u001b[1mTuner: \u001b[0mStarting iteration 62/300 with hyperparameters: {'lr0': 0.00267, 'lrf': 0.01092, 'momentum': 0.82305, 'weight_decay': 0.00045, 'warmup_epochs': 3.20074, 'warmup_momentum': 0.91401, 'box': 8.37088, 'cls': 0.49028, 'dfl': 1.32832, 'hsv_h': 0.02002, 'hsv_s': 0.4682, 'hsv_v': 0.47293, 'degrees': 0.0, 'translate': 0.08747, 'scale': 0.37405, 'shear': 0.0, 'perspective': 0.0, 'flipud': 0.0, 'fliplr': 0.24357, 'bgr': 0.0, 'mosaic': 0.74554, 'mixup': 0.0, 'copy_paste': 0.0}\n",
      "Saved runs\\detect\\tune\\tune_scatter_plots.png\n",
      "Saved runs\\detect\\tune\\tune_fitness.png\n",
      "\n",
      "\u001b[34m\u001b[1mTuner: \u001b[0m62/300 iterations complete  (23653.32s)\n",
      "\u001b[34m\u001b[1mTuner: \u001b[0mResults saved to \u001b[1mruns\\detect\\tune\u001b[0m\n",
      "\u001b[34m\u001b[1mTuner: \u001b[0mBest fitness=0.66243 observed at iteration 61\n",
      "\u001b[34m\u001b[1mTuner: \u001b[0mBest fitness metrics are {'metrics/precision(B)': 0.89527, 'metrics/recall(B)': 0.85588, 'metrics/mAP50(B)': 0.93542, 'metrics/mAP50-95(B)': 0.6321, 'val/box_loss': 1.23118, 'val/cls_loss': 0.62475, 'val/dfl_loss': 0.92279, 'fitness': 0.66243}\n",
      "\u001b[34m\u001b[1mTuner: \u001b[0mBest fitness model is runs\\detect\\train64\n",
      "\u001b[34m\u001b[1mTuner: \u001b[0mBest fitness hyperparameters are printed below.\n",
      "\n",
      "Printing '\u001b[1m\u001b[30mruns\\detect\\tune\\best_hyperparameters.yaml\u001b[0m'\n",
      "\n",
      "lr0: 0.00284\n",
      "lrf: 0.01076\n",
      "momentum: 0.82954\n",
      "weight_decay: 0.00048\n",
      "warmup_epochs: 3.18861\n",
      "warmup_momentum: 0.91149\n",
      "box: 7.86059\n",
      "cls: 0.49189\n",
      "dfl: 1.21933\n",
      "hsv_h: 0.01978\n",
      "hsv_s: 0.4682\n",
      "hsv_v: 0.45379\n",
      "degrees: 0.0\n",
      "translate: 0.08853\n",
      "scale: 0.36779\n",
      "shear: 0.0\n",
      "perspective: 0.0\n",
      "flipud: 0.0\n",
      "fliplr: 0.2656\n",
      "bgr: 0.0\n",
      "mosaic: 0.69888\n",
      "mixup: 0.0\n",
      "copy_paste: 0.0\n",
      "\n",
      "\u001b[34m\u001b[1mTuner: \u001b[0mStarting iteration 63/300 with hyperparameters: {'lr0': 0.0041, 'lrf': 0.01302, 'momentum': 0.80233, 'weight_decay': 0.00044, 'warmup_epochs': 3.06198, 'warmup_momentum': 0.76853, 'box': 11.41876, 'cls': 0.60178, 'dfl': 1.39854, 'hsv_h': 0.02123, 'hsv_s': 0.65733, 'hsv_v': 0.4672, 'degrees': 0.0, 'translate': 0.10868, 'scale': 0.45792, 'shear': 0.0, 'perspective': 0.0, 'flipud': 0.0, 'fliplr': 0.24894, 'bgr': 0.0, 'mosaic': 0.89844, 'mixup': 0.0, 'copy_paste': 0.0}\n",
      "Saved runs\\detect\\tune\\tune_scatter_plots.png\n",
      "Saved runs\\detect\\tune\\tune_fitness.png\n",
      "\n",
      "\u001b[34m\u001b[1mTuner: \u001b[0m63/300 iterations complete  (24028.43s)\n",
      "\u001b[34m\u001b[1mTuner: \u001b[0mResults saved to \u001b[1mruns\\detect\\tune\u001b[0m\n",
      "\u001b[34m\u001b[1mTuner: \u001b[0mBest fitness=0.66243 observed at iteration 61\n",
      "\u001b[34m\u001b[1mTuner: \u001b[0mBest fitness metrics are {'metrics/precision(B)': 0.89527, 'metrics/recall(B)': 0.85588, 'metrics/mAP50(B)': 0.93542, 'metrics/mAP50-95(B)': 0.6321, 'val/box_loss': 1.23118, 'val/cls_loss': 0.62475, 'val/dfl_loss': 0.92279, 'fitness': 0.66243}\n",
      "\u001b[34m\u001b[1mTuner: \u001b[0mBest fitness model is runs\\detect\\train64\n",
      "\u001b[34m\u001b[1mTuner: \u001b[0mBest fitness hyperparameters are printed below.\n",
      "\n",
      "Printing '\u001b[1m\u001b[30mruns\\detect\\tune\\best_hyperparameters.yaml\u001b[0m'\n",
      "\n",
      "lr0: 0.00284\n",
      "lrf: 0.01076\n",
      "momentum: 0.82954\n",
      "weight_decay: 0.00048\n",
      "warmup_epochs: 3.18861\n",
      "warmup_momentum: 0.91149\n",
      "box: 7.86059\n",
      "cls: 0.49189\n",
      "dfl: 1.21933\n",
      "hsv_h: 0.01978\n",
      "hsv_s: 0.4682\n",
      "hsv_v: 0.45379\n",
      "degrees: 0.0\n",
      "translate: 0.08853\n",
      "scale: 0.36779\n",
      "shear: 0.0\n",
      "perspective: 0.0\n",
      "flipud: 0.0\n",
      "fliplr: 0.2656\n",
      "bgr: 0.0\n",
      "mosaic: 0.69888\n",
      "mixup: 0.0\n",
      "copy_paste: 0.0\n",
      "\n",
      "\u001b[34m\u001b[1mTuner: \u001b[0mStarting iteration 64/300 with hyperparameters: {'lr0': 0.0033, 'lrf': 0.01065, 'momentum': 0.80961, 'weight_decay': 0.00053, 'warmup_epochs': 2.16693, 'warmup_momentum': 0.94119, 'box': 8.06759, 'cls': 0.43917, 'dfl': 1.21684, 'hsv_h': 0.01778, 'hsv_s': 0.45298, 'hsv_v': 0.47591, 'degrees': 0.0, 'translate': 0.10867, 'scale': 0.4251, 'shear': 0.0, 'perspective': 0.0, 'flipud': 0.0, 'fliplr': 0.30715, 'bgr': 0.0, 'mosaic': 0.85031, 'mixup': 0.0, 'copy_paste': 0.0}\n",
      "Saved runs\\detect\\tune\\tune_scatter_plots.png\n",
      "Saved runs\\detect\\tune\\tune_fitness.png\n",
      "\n",
      "\u001b[34m\u001b[1mTuner: \u001b[0m64/300 iterations complete  (24403.75s)\n",
      "\u001b[34m\u001b[1mTuner: \u001b[0mResults saved to \u001b[1mruns\\detect\\tune\u001b[0m\n",
      "\u001b[34m\u001b[1mTuner: \u001b[0mBest fitness=0.66243 observed at iteration 61\n",
      "\u001b[34m\u001b[1mTuner: \u001b[0mBest fitness metrics are {'metrics/precision(B)': 0.89527, 'metrics/recall(B)': 0.85588, 'metrics/mAP50(B)': 0.93542, 'metrics/mAP50-95(B)': 0.6321, 'val/box_loss': 1.23118, 'val/cls_loss': 0.62475, 'val/dfl_loss': 0.92279, 'fitness': 0.66243}\n",
      "\u001b[34m\u001b[1mTuner: \u001b[0mBest fitness model is runs\\detect\\train64\n",
      "\u001b[34m\u001b[1mTuner: \u001b[0mBest fitness hyperparameters are printed below.\n",
      "\n",
      "Printing '\u001b[1m\u001b[30mruns\\detect\\tune\\best_hyperparameters.yaml\u001b[0m'\n",
      "\n",
      "lr0: 0.00284\n",
      "lrf: 0.01076\n",
      "momentum: 0.82954\n",
      "weight_decay: 0.00048\n",
      "warmup_epochs: 3.18861\n",
      "warmup_momentum: 0.91149\n",
      "box: 7.86059\n",
      "cls: 0.49189\n",
      "dfl: 1.21933\n",
      "hsv_h: 0.01978\n",
      "hsv_s: 0.4682\n",
      "hsv_v: 0.45379\n",
      "degrees: 0.0\n",
      "translate: 0.08853\n",
      "scale: 0.36779\n",
      "shear: 0.0\n",
      "perspective: 0.0\n",
      "flipud: 0.0\n",
      "fliplr: 0.2656\n",
      "bgr: 0.0\n",
      "mosaic: 0.69888\n",
      "mixup: 0.0\n",
      "copy_paste: 0.0\n",
      "\n",
      "\u001b[34m\u001b[1mTuner: \u001b[0mStarting iteration 65/300 with hyperparameters: {'lr0': 0.00451, 'lrf': 0.01317, 'momentum': 0.90339, 'weight_decay': 0.00055, 'warmup_epochs': 1.86772, 'warmup_momentum': 0.64803, 'box': 11.47331, 'cls': 0.49872, 'dfl': 1.20747, 'hsv_h': 0.01827, 'hsv_s': 0.7159, 'hsv_v': 0.56062, 'degrees': 0.0, 'translate': 0.10875, 'scale': 0.3466, 'shear': 0.0, 'perspective': 0.0, 'flipud': 0.0, 'fliplr': 0.21451, 'bgr': 0.0, 'mosaic': 0.81725, 'mixup': 0.0, 'copy_paste': 0.0}\n",
      "Saved runs\\detect\\tune\\tune_scatter_plots.png\n",
      "Saved runs\\detect\\tune\\tune_fitness.png\n",
      "\n",
      "\u001b[34m\u001b[1mTuner: \u001b[0m65/300 iterations complete  (24795.13s)\n",
      "\u001b[34m\u001b[1mTuner: \u001b[0mResults saved to \u001b[1mruns\\detect\\tune\u001b[0m\n",
      "\u001b[34m\u001b[1mTuner: \u001b[0mBest fitness=0.66243 observed at iteration 61\n",
      "\u001b[34m\u001b[1mTuner: \u001b[0mBest fitness metrics are {'metrics/precision(B)': 0.89527, 'metrics/recall(B)': 0.85588, 'metrics/mAP50(B)': 0.93542, 'metrics/mAP50-95(B)': 0.6321, 'val/box_loss': 1.23118, 'val/cls_loss': 0.62475, 'val/dfl_loss': 0.92279, 'fitness': 0.66243}\n",
      "\u001b[34m\u001b[1mTuner: \u001b[0mBest fitness model is runs\\detect\\train64\n",
      "\u001b[34m\u001b[1mTuner: \u001b[0mBest fitness hyperparameters are printed below.\n",
      "\n",
      "Printing '\u001b[1m\u001b[30mruns\\detect\\tune\\best_hyperparameters.yaml\u001b[0m'\n",
      "\n",
      "lr0: 0.00284\n",
      "lrf: 0.01076\n",
      "momentum: 0.82954\n",
      "weight_decay: 0.00048\n",
      "warmup_epochs: 3.18861\n",
      "warmup_momentum: 0.91149\n",
      "box: 7.86059\n",
      "cls: 0.49189\n",
      "dfl: 1.21933\n",
      "hsv_h: 0.01978\n",
      "hsv_s: 0.4682\n",
      "hsv_v: 0.45379\n",
      "degrees: 0.0\n",
      "translate: 0.08853\n",
      "scale: 0.36779\n",
      "shear: 0.0\n",
      "perspective: 0.0\n",
      "flipud: 0.0\n",
      "fliplr: 0.2656\n",
      "bgr: 0.0\n",
      "mosaic: 0.69888\n",
      "mixup: 0.0\n",
      "copy_paste: 0.0\n",
      "\n",
      "\u001b[34m\u001b[1mTuner: \u001b[0mStarting iteration 66/300 with hyperparameters: {'lr0': 0.0035, 'lrf': 0.0134, 'momentum': 0.85881, 'weight_decay': 0.00047, 'warmup_epochs': 3.05243, 'warmup_momentum': 0.73303, 'box': 11.50491, 'cls': 0.58535, 'dfl': 1.48495, 'hsv_h': 0.01843, 'hsv_s': 0.72862, 'hsv_v': 0.45732, 'degrees': 0.0, 'translate': 0.12195, 'scale': 0.33171, 'shear': 0.0, 'perspective': 0.0, 'flipud': 0.0, 'fliplr': 0.27903, 'bgr': 0.0, 'mosaic': 0.6326, 'mixup': 0.0, 'copy_paste': 0.0}\n",
      "Saved runs\\detect\\tune\\tune_scatter_plots.png\n",
      "Saved runs\\detect\\tune\\tune_fitness.png\n",
      "\n",
      "\u001b[34m\u001b[1mTuner: \u001b[0m66/300 iterations complete  (25171.48s)\n",
      "\u001b[34m\u001b[1mTuner: \u001b[0mResults saved to \u001b[1mruns\\detect\\tune\u001b[0m\n",
      "\u001b[34m\u001b[1mTuner: \u001b[0mBest fitness=0.66243 observed at iteration 61\n",
      "\u001b[34m\u001b[1mTuner: \u001b[0mBest fitness metrics are {'metrics/precision(B)': 0.89527, 'metrics/recall(B)': 0.85588, 'metrics/mAP50(B)': 0.93542, 'metrics/mAP50-95(B)': 0.6321, 'val/box_loss': 1.23118, 'val/cls_loss': 0.62475, 'val/dfl_loss': 0.92279, 'fitness': 0.66243}\n",
      "\u001b[34m\u001b[1mTuner: \u001b[0mBest fitness model is runs\\detect\\train64\n",
      "\u001b[34m\u001b[1mTuner: \u001b[0mBest fitness hyperparameters are printed below.\n",
      "\n",
      "Printing '\u001b[1m\u001b[30mruns\\detect\\tune\\best_hyperparameters.yaml\u001b[0m'\n",
      "\n",
      "lr0: 0.00284\n",
      "lrf: 0.01076\n",
      "momentum: 0.82954\n",
      "weight_decay: 0.00048\n",
      "warmup_epochs: 3.18861\n",
      "warmup_momentum: 0.91149\n",
      "box: 7.86059\n",
      "cls: 0.49189\n",
      "dfl: 1.21933\n",
      "hsv_h: 0.01978\n",
      "hsv_s: 0.4682\n",
      "hsv_v: 0.45379\n",
      "degrees: 0.0\n",
      "translate: 0.08853\n",
      "scale: 0.36779\n",
      "shear: 0.0\n",
      "perspective: 0.0\n",
      "flipud: 0.0\n",
      "fliplr: 0.2656\n",
      "bgr: 0.0\n",
      "mosaic: 0.69888\n",
      "mixup: 0.0\n",
      "copy_paste: 0.0\n",
      "\n",
      "\u001b[34m\u001b[1mTuner: \u001b[0mStarting iteration 67/300 with hyperparameters: {'lr0': 0.00276, 'lrf': 0.01076, 'momentum': 0.84501, 'weight_decay': 0.00048, 'warmup_epochs': 3.18861, 'warmup_momentum': 0.95, 'box': 6.87116, 'cls': 0.50832, 'dfl': 1.1334, 'hsv_h': 0.02086, 'hsv_s': 0.52763, 'hsv_v': 0.48757, 'degrees': 0.0, 'translate': 0.1115, 'scale': 0.37641, 'shear': 0.0, 'perspective': 0.0, 'flipud': 0.0, 'fliplr': 0.2656, 'bgr': 0.0, 'mosaic': 0.71793, 'mixup': 0.0, 'copy_paste': 0.0}\n"
     ]
    }
   ],
   "source": [
    "from ultralytics import YOLO\n",
    "\n",
    "# Carregar o modelo YOLO11 pré-treinado\n",
    "model = YOLO('yolo11n.pt')\n",
    "\n",
    "model.tune(data='C:\\\\Users\\\\píchau\\\\Documents\\\\TCC\\\\dataset_preprocessed.yaml', epochs=30, iterations=300, optimizer=\"AdamW\", plots=False, save=False, val=False)"
   ]
  },
  {
   "cell_type": "code",
   "execution_count": 2,
   "metadata": {},
   "outputs": [
    {
     "name": "stdout",
     "output_type": "stream",
     "text": [
      "New https://pypi.org/project/ultralytics/8.3.48 available  Update with 'pip install -U ultralytics'\n",
      "Ultralytics 8.3.15  Python-3.12.2 torch-2.5.0+cu118 CUDA:0 (NVIDIA GeForce RTX 4060, 8188MiB)\n",
      "\u001b[34m\u001b[1mengine\\trainer: \u001b[0mtask=detect, mode=train, model=C:\\Users\\pchau\\Documents\\TCC\\yolov8-env\\runs\\detect\\tune_no_prep\\weights\\best.pt, data=C:\\Users\\pchau\\Documents\\TCC\\dataset.yaml, epochs=100, time=None, patience=100, batch=16, imgsz=640, save=True, save_period=-1, cache=False, device=None, workers=8, project=None, name=train, exist_ok=False, pretrained=True, optimizer=auto, verbose=True, seed=0, deterministic=True, single_cls=False, rect=False, cos_lr=False, close_mosaic=10, resume=False, amp=True, fraction=1.0, profile=False, freeze=None, multi_scale=False, overlap_mask=True, mask_ratio=4, dropout=0.0, val=True, split=val, save_json=False, save_hybrid=False, conf=None, iou=0.7, max_det=300, half=False, dnn=False, plots=True, source=None, vid_stride=1, stream_buffer=False, visualize=False, augment=False, agnostic_nms=False, classes=None, retina_masks=False, embed=None, show=False, save_frames=False, save_txt=False, save_conf=False, save_crop=False, show_labels=True, show_conf=True, show_boxes=True, line_width=None, format=torchscript, keras=False, optimize=False, int8=False, dynamic=False, simplify=True, opset=None, workspace=4, nms=False, lr0=0.01, lrf=0.01, momentum=0.937, weight_decay=0.0005, warmup_epochs=3.0, warmup_momentum=0.8, warmup_bias_lr=0.1, box=7.5, cls=0.5, dfl=1.5, pose=12.0, kobj=1.0, label_smoothing=0.0, nbs=64, hsv_h=0.015, hsv_s=0.7, hsv_v=0.4, degrees=0.0, translate=0.1, scale=0.5, shear=0.0, perspective=0.0, flipud=0.0, fliplr=0.5, bgr=0.0, mosaic=1.0, mixup=0.0, copy_paste=0.0, copy_paste_mode=flip, auto_augment=randaugment, erasing=0.4, crop_fraction=1.0, cfg=None, tracker=botsort.yaml, save_dir=runs\\detect\\train\n",
      "\n",
      "                   from  n    params  module                                       arguments                     \n",
      "  0                  -1  1       464  ultralytics.nn.modules.conv.Conv             [3, 16, 3, 2]                 \n",
      "  1                  -1  1      4672  ultralytics.nn.modules.conv.Conv             [16, 32, 3, 2]                \n",
      "  2                  -1  1      6640  ultralytics.nn.modules.block.C3k2            [32, 64, 1, False, 0.25]      \n",
      "  3                  -1  1     36992  ultralytics.nn.modules.conv.Conv             [64, 64, 3, 2]                \n",
      "  4                  -1  1     26080  ultralytics.nn.modules.block.C3k2            [64, 128, 1, False, 0.25]     \n",
      "  5                  -1  1    147712  ultralytics.nn.modules.conv.Conv             [128, 128, 3, 2]              \n",
      "  6                  -1  1     87040  ultralytics.nn.modules.block.C3k2            [128, 128, 1, True]           \n",
      "  7                  -1  1    295424  ultralytics.nn.modules.conv.Conv             [128, 256, 3, 2]              \n",
      "  8                  -1  1    346112  ultralytics.nn.modules.block.C3k2            [256, 256, 1, True]           \n",
      "  9                  -1  1    164608  ultralytics.nn.modules.block.SPPF            [256, 256, 5]                 \n",
      " 10                  -1  1    249728  ultralytics.nn.modules.block.C2PSA           [256, 256, 1]                 \n",
      " 11                  -1  1         0  torch.nn.modules.upsampling.Upsample         [None, 2, 'nearest']          \n",
      " 12             [-1, 6]  1         0  ultralytics.nn.modules.conv.Concat           [1]                           \n",
      " 13                  -1  1    111296  ultralytics.nn.modules.block.C3k2            [384, 128, 1, False]          \n",
      " 14                  -1  1         0  torch.nn.modules.upsampling.Upsample         [None, 2, 'nearest']          \n",
      " 15             [-1, 4]  1         0  ultralytics.nn.modules.conv.Concat           [1]                           \n",
      " 16                  -1  1     32096  ultralytics.nn.modules.block.C3k2            [256, 64, 1, False]           \n",
      " 17                  -1  1     36992  ultralytics.nn.modules.conv.Conv             [64, 64, 3, 2]                \n",
      " 18            [-1, 13]  1         0  ultralytics.nn.modules.conv.Concat           [1]                           \n",
      " 19                  -1  1     86720  ultralytics.nn.modules.block.C3k2            [192, 128, 1, False]          \n",
      " 20                  -1  1    147712  ultralytics.nn.modules.conv.Conv             [128, 128, 3, 2]              \n",
      " 21            [-1, 10]  1         0  ultralytics.nn.modules.conv.Concat           [1]                           \n",
      " 22                  -1  1    378880  ultralytics.nn.modules.block.C3k2            [384, 256, 1, True]           \n",
      " 23        [16, 19, 22]  1    430867  ultralytics.nn.modules.head.Detect           [1, [64, 128, 256]]           \n",
      "YOLO11n summary: 319 layers, 2,590,035 parameters, 2,590,019 gradients, 6.4 GFLOPs\n",
      "\n",
      "Transferred 499/499 items from pretrained weights\n",
      "Freezing layer 'model.23.dfl.conv.weight'\n",
      "\u001b[34m\u001b[1mAMP: \u001b[0mrunning Automatic Mixed Precision (AMP) checks with YOLO11n...\n",
      "\u001b[34m\u001b[1mAMP: \u001b[0mchecks passed \n"
     ]
    },
    {
     "name": "stderr",
     "output_type": "stream",
     "text": [
      "\u001b[34m\u001b[1mtrain: \u001b[0mScanning C:\\Users\\píchau\\Documents\\TCC\\dataset\\labels\\train.cache... 1170 images, 1 backgrounds, 0 corrupt: 100%|██████████| 1170/1170 [00:00<?, ?it/s]\n",
      "\u001b[34m\u001b[1mval: \u001b[0mScanning C:\\Users\\píchau\\Documents\\TCC\\dataset\\labels\\val.cache... 250 images, 0 backgrounds, 0 corrupt: 100%|██████████| 250/250 [00:00<?, ?it/s]\n"
     ]
    },
    {
     "name": "stdout",
     "output_type": "stream",
     "text": [
      "Plotting labels to runs\\detect\\train\\labels.jpg... \n",
      "\u001b[34m\u001b[1moptimizer:\u001b[0m 'optimizer=auto' found, ignoring 'lr0=0.01' and 'momentum=0.937' and determining best 'optimizer', 'lr0' and 'momentum' automatically... \n",
      "\u001b[34m\u001b[1moptimizer:\u001b[0m AdamW(lr=0.002, momentum=0.9) with parameter groups 81 weight(decay=0.0), 88 weight(decay=0.0005), 87 bias(decay=0.0)\n",
      "Image sizes 640 train, 640 val\n",
      "Using 8 dataloader workers\n",
      "Logging results to \u001b[1mruns\\detect\\train\u001b[0m\n",
      "Starting training for 100 epochs...\n",
      "\n",
      "      Epoch    GPU_mem   box_loss   cls_loss   dfl_loss  Instances       Size\n"
     ]
    },
    {
     "name": "stderr",
     "output_type": "stream",
     "text": [
      "      1/100      3.11G      1.281     0.8243      1.181         78        640: 100%|██████████| 74/74 [00:21<00:00,  3.48it/s]\n",
      "                 Class     Images  Instances      Box(P          R      mAP50  mAP50-95): 100%|██████████| 8/8 [00:03<00:00,  2.54it/s]"
     ]
    },
    {
     "name": "stdout",
     "output_type": "stream",
     "text": [
      "                   all        250       2831      0.873      0.813      0.906      0.596\n"
     ]
    },
    {
     "name": "stderr",
     "output_type": "stream",
     "text": [
      "\n"
     ]
    },
    {
     "name": "stdout",
     "output_type": "stream",
     "text": [
      "\n",
      "      Epoch    GPU_mem   box_loss   cls_loss   dfl_loss  Instances       Size\n"
     ]
    },
    {
     "name": "stderr",
     "output_type": "stream",
     "text": [
      "      2/100      3.28G      1.261     0.7941      1.177         85        640: 100%|██████████| 74/74 [00:19<00:00,  3.70it/s]\n",
      "                 Class     Images  Instances      Box(P          R      mAP50  mAP50-95): 100%|██████████| 8/8 [00:03<00:00,  2.45it/s]"
     ]
    },
    {
     "name": "stdout",
     "output_type": "stream",
     "text": [
      "                   all        250       2831      0.868      0.821      0.915      0.599\n"
     ]
    },
    {
     "name": "stderr",
     "output_type": "stream",
     "text": [
      "\n"
     ]
    },
    {
     "name": "stdout",
     "output_type": "stream",
     "text": [
      "\n",
      "      Epoch    GPU_mem   box_loss   cls_loss   dfl_loss  Instances       Size\n"
     ]
    },
    {
     "name": "stderr",
     "output_type": "stream",
     "text": [
      "      3/100      3.02G       1.24     0.7837      1.175         23        640: 100%|██████████| 74/74 [00:18<00:00,  3.97it/s]\n",
      "                 Class     Images  Instances      Box(P          R      mAP50  mAP50-95): 100%|██████████| 8/8 [00:01<00:00,  6.02it/s]"
     ]
    },
    {
     "name": "stdout",
     "output_type": "stream",
     "text": [
      "                   all        250       2831      0.872      0.821      0.915      0.607\n"
     ]
    },
    {
     "name": "stderr",
     "output_type": "stream",
     "text": [
      "\n"
     ]
    },
    {
     "name": "stdout",
     "output_type": "stream",
     "text": [
      "\n",
      "      Epoch    GPU_mem   box_loss   cls_loss   dfl_loss  Instances       Size\n"
     ]
    },
    {
     "name": "stderr",
     "output_type": "stream",
     "text": [
      "      4/100      3.13G      1.262     0.7925      1.175         59        640: 100%|██████████| 74/74 [00:10<00:00,  7.16it/s]\n",
      "                 Class     Images  Instances      Box(P          R      mAP50  mAP50-95): 100%|██████████| 8/8 [00:01<00:00,  6.15it/s]"
     ]
    },
    {
     "name": "stdout",
     "output_type": "stream",
     "text": [
      "                   all        250       2831      0.872      0.825      0.916      0.607\n"
     ]
    },
    {
     "name": "stderr",
     "output_type": "stream",
     "text": [
      "\n"
     ]
    },
    {
     "name": "stdout",
     "output_type": "stream",
     "text": [
      "\n",
      "      Epoch    GPU_mem   box_loss   cls_loss   dfl_loss  Instances       Size\n"
     ]
    },
    {
     "name": "stderr",
     "output_type": "stream",
     "text": [
      "      5/100      2.94G      1.235     0.7841      1.172         20        640: 100%|██████████| 74/74 [00:10<00:00,  7.29it/s]\n",
      "                 Class     Images  Instances      Box(P          R      mAP50  mAP50-95): 100%|██████████| 8/8 [00:01<00:00,  6.11it/s]"
     ]
    },
    {
     "name": "stdout",
     "output_type": "stream",
     "text": [
      "                   all        250       2831      0.878      0.818      0.913      0.595\n"
     ]
    },
    {
     "name": "stderr",
     "output_type": "stream",
     "text": [
      "\n"
     ]
    },
    {
     "name": "stdout",
     "output_type": "stream",
     "text": [
      "\n",
      "      Epoch    GPU_mem   box_loss   cls_loss   dfl_loss  Instances       Size\n"
     ]
    },
    {
     "name": "stderr",
     "output_type": "stream",
     "text": [
      "      6/100      2.93G      1.258     0.7826      1.175         62        640: 100%|██████████| 74/74 [00:10<00:00,  7.24it/s]\n",
      "                 Class     Images  Instances      Box(P          R      mAP50  mAP50-95): 100%|██████████| 8/8 [00:01<00:00,  6.39it/s]"
     ]
    },
    {
     "name": "stdout",
     "output_type": "stream",
     "text": [
      "                   all        250       2831      0.872      0.809      0.906      0.577\n"
     ]
    },
    {
     "name": "stderr",
     "output_type": "stream",
     "text": [
      "\n"
     ]
    },
    {
     "name": "stdout",
     "output_type": "stream",
     "text": [
      "\n",
      "      Epoch    GPU_mem   box_loss   cls_loss   dfl_loss  Instances       Size\n"
     ]
    },
    {
     "name": "stderr",
     "output_type": "stream",
     "text": [
      "      7/100      2.97G      1.241     0.7724      1.167         27        640: 100%|██████████| 74/74 [00:10<00:00,  7.31it/s]\n",
      "                 Class     Images  Instances      Box(P          R      mAP50  mAP50-95): 100%|██████████| 8/8 [00:01<00:00,  6.22it/s]"
     ]
    },
    {
     "name": "stdout",
     "output_type": "stream",
     "text": [
      "                   all        250       2831      0.877      0.832      0.917      0.602\n"
     ]
    },
    {
     "name": "stderr",
     "output_type": "stream",
     "text": [
      "\n"
     ]
    },
    {
     "name": "stdout",
     "output_type": "stream",
     "text": [
      "\n",
      "      Epoch    GPU_mem   box_loss   cls_loss   dfl_loss  Instances       Size\n"
     ]
    },
    {
     "name": "stderr",
     "output_type": "stream",
     "text": [
      "      8/100      2.83G      1.262     0.7808      1.176         16        640: 100%|██████████| 74/74 [00:10<00:00,  7.22it/s]\n",
      "                 Class     Images  Instances      Box(P          R      mAP50  mAP50-95): 100%|██████████| 8/8 [00:01<00:00,  6.18it/s]"
     ]
    },
    {
     "name": "stdout",
     "output_type": "stream",
     "text": [
      "                   all        250       2831      0.876      0.832       0.92      0.611\n"
     ]
    },
    {
     "name": "stderr",
     "output_type": "stream",
     "text": [
      "\n"
     ]
    },
    {
     "name": "stdout",
     "output_type": "stream",
     "text": [
      "\n",
      "      Epoch    GPU_mem   box_loss   cls_loss   dfl_loss  Instances       Size\n"
     ]
    },
    {
     "name": "stderr",
     "output_type": "stream",
     "text": [
      "      9/100      2.91G      1.243     0.7724      1.171         21        640: 100%|██████████| 74/74 [00:10<00:00,  7.22it/s]\n",
      "                 Class     Images  Instances      Box(P          R      mAP50  mAP50-95): 100%|██████████| 8/8 [00:01<00:00,  6.31it/s]"
     ]
    },
    {
     "name": "stdout",
     "output_type": "stream",
     "text": [
      "                   all        250       2831      0.863      0.806      0.898       0.59\n"
     ]
    },
    {
     "name": "stderr",
     "output_type": "stream",
     "text": [
      "\n"
     ]
    },
    {
     "name": "stdout",
     "output_type": "stream",
     "text": [
      "\n",
      "      Epoch    GPU_mem   box_loss   cls_loss   dfl_loss  Instances       Size\n"
     ]
    },
    {
     "name": "stderr",
     "output_type": "stream",
     "text": [
      "     10/100      3.02G      1.252     0.7783      1.171         15        640: 100%|██████████| 74/74 [00:10<00:00,  7.26it/s]\n",
      "                 Class     Images  Instances      Box(P          R      mAP50  mAP50-95): 100%|██████████| 8/8 [00:01<00:00,  6.24it/s]"
     ]
    },
    {
     "name": "stdout",
     "output_type": "stream",
     "text": [
      "                   all        250       2831      0.862      0.844       0.92      0.606\n"
     ]
    },
    {
     "name": "stderr",
     "output_type": "stream",
     "text": [
      "\n"
     ]
    },
    {
     "name": "stdout",
     "output_type": "stream",
     "text": [
      "\n",
      "      Epoch    GPU_mem   box_loss   cls_loss   dfl_loss  Instances       Size\n"
     ]
    },
    {
     "name": "stderr",
     "output_type": "stream",
     "text": [
      "     11/100      3.01G      1.239     0.7614      1.162         33        640: 100%|██████████| 74/74 [00:10<00:00,  7.28it/s]\n",
      "                 Class     Images  Instances      Box(P          R      mAP50  mAP50-95): 100%|██████████| 8/8 [00:01<00:00,  6.12it/s]"
     ]
    },
    {
     "name": "stdout",
     "output_type": "stream",
     "text": [
      "                   all        250       2831        0.9      0.823      0.923      0.613\n"
     ]
    },
    {
     "name": "stderr",
     "output_type": "stream",
     "text": [
      "\n"
     ]
    },
    {
     "name": "stdout",
     "output_type": "stream",
     "text": [
      "\n",
      "      Epoch    GPU_mem   box_loss   cls_loss   dfl_loss  Instances       Size\n"
     ]
    },
    {
     "name": "stderr",
     "output_type": "stream",
     "text": [
      "     12/100      2.84G       1.24     0.7686      1.161         53        640: 100%|██████████| 74/74 [00:10<00:00,  7.24it/s]\n",
      "                 Class     Images  Instances      Box(P          R      mAP50  mAP50-95): 100%|██████████| 8/8 [00:01<00:00,  6.24it/s]"
     ]
    },
    {
     "name": "stdout",
     "output_type": "stream",
     "text": [
      "                   all        250       2831      0.876      0.812       0.91      0.607\n"
     ]
    },
    {
     "name": "stderr",
     "output_type": "stream",
     "text": [
      "\n"
     ]
    },
    {
     "name": "stdout",
     "output_type": "stream",
     "text": [
      "\n",
      "      Epoch    GPU_mem   box_loss   cls_loss   dfl_loss  Instances       Size\n"
     ]
    },
    {
     "name": "stderr",
     "output_type": "stream",
     "text": [
      "     13/100       2.9G      1.238     0.7646      1.171         24        640: 100%|██████████| 74/74 [00:10<00:00,  7.25it/s]\n",
      "                 Class     Images  Instances      Box(P          R      mAP50  mAP50-95): 100%|██████████| 8/8 [00:01<00:00,  6.19it/s]"
     ]
    },
    {
     "name": "stdout",
     "output_type": "stream",
     "text": [
      "                   all        250       2831      0.893      0.823      0.919      0.609\n"
     ]
    },
    {
     "name": "stderr",
     "output_type": "stream",
     "text": [
      "\n"
     ]
    },
    {
     "name": "stdout",
     "output_type": "stream",
     "text": [
      "\n",
      "      Epoch    GPU_mem   box_loss   cls_loss   dfl_loss  Instances       Size\n"
     ]
    },
    {
     "name": "stderr",
     "output_type": "stream",
     "text": [
      "     14/100      2.78G      1.247     0.7701      1.174         15        640: 100%|██████████| 74/74 [00:10<00:00,  7.23it/s]\n",
      "                 Class     Images  Instances      Box(P          R      mAP50  mAP50-95): 100%|██████████| 8/8 [00:01<00:00,  6.22it/s]"
     ]
    },
    {
     "name": "stdout",
     "output_type": "stream",
     "text": [
      "                   all        250       2831      0.875      0.836      0.919      0.602\n"
     ]
    },
    {
     "name": "stderr",
     "output_type": "stream",
     "text": [
      "\n"
     ]
    },
    {
     "name": "stdout",
     "output_type": "stream",
     "text": [
      "\n",
      "      Epoch    GPU_mem   box_loss   cls_loss   dfl_loss  Instances       Size\n"
     ]
    },
    {
     "name": "stderr",
     "output_type": "stream",
     "text": [
      "     15/100      3.03G       1.24     0.7662      1.165         20        640: 100%|██████████| 74/74 [00:10<00:00,  7.28it/s]\n",
      "                 Class     Images  Instances      Box(P          R      mAP50  mAP50-95): 100%|██████████| 8/8 [00:01<00:00,  6.32it/s]"
     ]
    },
    {
     "name": "stdout",
     "output_type": "stream",
     "text": [
      "                   all        250       2831      0.887      0.831      0.923      0.612\n"
     ]
    },
    {
     "name": "stderr",
     "output_type": "stream",
     "text": [
      "\n"
     ]
    },
    {
     "name": "stdout",
     "output_type": "stream",
     "text": [
      "\n",
      "      Epoch    GPU_mem   box_loss   cls_loss   dfl_loss  Instances       Size\n"
     ]
    },
    {
     "name": "stderr",
     "output_type": "stream",
     "text": [
      "     16/100      3.17G      1.242     0.7579      1.166         28        640: 100%|██████████| 74/74 [00:10<00:00,  7.25it/s]\n",
      "                 Class     Images  Instances      Box(P          R      mAP50  mAP50-95): 100%|██████████| 8/8 [00:01<00:00,  6.32it/s]"
     ]
    },
    {
     "name": "stdout",
     "output_type": "stream",
     "text": [
      "                   all        250       2831       0.88       0.82      0.916      0.603\n"
     ]
    },
    {
     "name": "stderr",
     "output_type": "stream",
     "text": [
      "\n"
     ]
    },
    {
     "name": "stdout",
     "output_type": "stream",
     "text": [
      "\n",
      "      Epoch    GPU_mem   box_loss   cls_loss   dfl_loss  Instances       Size\n"
     ]
    },
    {
     "name": "stderr",
     "output_type": "stream",
     "text": [
      "     17/100      3.14G      1.227     0.7556      1.163         30        640: 100%|██████████| 74/74 [00:10<00:00,  7.26it/s]\n",
      "                 Class     Images  Instances      Box(P          R      mAP50  mAP50-95): 100%|██████████| 8/8 [00:01<00:00,  6.27it/s]"
     ]
    },
    {
     "name": "stdout",
     "output_type": "stream",
     "text": [
      "                   all        250       2831      0.888      0.832      0.922      0.608\n"
     ]
    },
    {
     "name": "stderr",
     "output_type": "stream",
     "text": [
      "\n"
     ]
    },
    {
     "name": "stdout",
     "output_type": "stream",
     "text": [
      "\n",
      "      Epoch    GPU_mem   box_loss   cls_loss   dfl_loss  Instances       Size\n"
     ]
    },
    {
     "name": "stderr",
     "output_type": "stream",
     "text": [
      "     18/100      2.73G       1.24     0.7625      1.165         21        640: 100%|██████████| 74/74 [00:10<00:00,  7.25it/s]\n",
      "                 Class     Images  Instances      Box(P          R      mAP50  mAP50-95): 100%|██████████| 8/8 [00:01<00:00,  6.26it/s]"
     ]
    },
    {
     "name": "stdout",
     "output_type": "stream",
     "text": [
      "                   all        250       2831      0.868      0.845      0.923      0.607\n"
     ]
    },
    {
     "name": "stderr",
     "output_type": "stream",
     "text": [
      "\n"
     ]
    },
    {
     "name": "stdout",
     "output_type": "stream",
     "text": [
      "\n",
      "      Epoch    GPU_mem   box_loss   cls_loss   dfl_loss  Instances       Size\n"
     ]
    },
    {
     "name": "stderr",
     "output_type": "stream",
     "text": [
      "     19/100      2.81G      1.232     0.7605      1.161         30        640: 100%|██████████| 74/74 [00:10<00:00,  7.27it/s]\n",
      "                 Class     Images  Instances      Box(P          R      mAP50  mAP50-95): 100%|██████████| 8/8 [00:01<00:00,  6.15it/s]"
     ]
    },
    {
     "name": "stdout",
     "output_type": "stream",
     "text": [
      "                   all        250       2831      0.872      0.812       0.91      0.607\n"
     ]
    },
    {
     "name": "stderr",
     "output_type": "stream",
     "text": [
      "\n"
     ]
    },
    {
     "name": "stdout",
     "output_type": "stream",
     "text": [
      "\n",
      "      Epoch    GPU_mem   box_loss   cls_loss   dfl_loss  Instances       Size\n"
     ]
    },
    {
     "name": "stderr",
     "output_type": "stream",
     "text": [
      "     20/100      2.93G       1.23      0.756      1.171         28        640: 100%|██████████| 74/74 [00:10<00:00,  7.29it/s]\n",
      "                 Class     Images  Instances      Box(P          R      mAP50  mAP50-95): 100%|██████████| 8/8 [00:01<00:00,  6.37it/s]"
     ]
    },
    {
     "name": "stdout",
     "output_type": "stream",
     "text": [
      "                   all        250       2831      0.884      0.841      0.924       0.61\n"
     ]
    },
    {
     "name": "stderr",
     "output_type": "stream",
     "text": [
      "\n"
     ]
    },
    {
     "name": "stdout",
     "output_type": "stream",
     "text": [
      "\n",
      "      Epoch    GPU_mem   box_loss   cls_loss   dfl_loss  Instances       Size\n"
     ]
    },
    {
     "name": "stderr",
     "output_type": "stream",
     "text": [
      "     21/100      3.03G      1.231     0.7535      1.164         52        640: 100%|██████████| 74/74 [00:10<00:00,  7.20it/s]\n",
      "                 Class     Images  Instances      Box(P          R      mAP50  mAP50-95): 100%|██████████| 8/8 [00:01<00:00,  6.11it/s]"
     ]
    },
    {
     "name": "stdout",
     "output_type": "stream",
     "text": [
      "                   all        250       2831      0.886      0.832      0.926      0.618\n"
     ]
    },
    {
     "name": "stderr",
     "output_type": "stream",
     "text": [
      "\n"
     ]
    },
    {
     "name": "stdout",
     "output_type": "stream",
     "text": [
      "\n",
      "      Epoch    GPU_mem   box_loss   cls_loss   dfl_loss  Instances       Size\n"
     ]
    },
    {
     "name": "stderr",
     "output_type": "stream",
     "text": [
      "     22/100      2.85G      1.223     0.7521      1.151         61        640: 100%|██████████| 74/74 [00:10<00:00,  7.22it/s]\n",
      "                 Class     Images  Instances      Box(P          R      mAP50  mAP50-95): 100%|██████████| 8/8 [00:01<00:00,  6.22it/s]"
     ]
    },
    {
     "name": "stdout",
     "output_type": "stream",
     "text": [
      "                   all        250       2831      0.872      0.821      0.913      0.608\n"
     ]
    },
    {
     "name": "stderr",
     "output_type": "stream",
     "text": [
      "\n"
     ]
    },
    {
     "name": "stdout",
     "output_type": "stream",
     "text": [
      "\n",
      "      Epoch    GPU_mem   box_loss   cls_loss   dfl_loss  Instances       Size\n"
     ]
    },
    {
     "name": "stderr",
     "output_type": "stream",
     "text": [
      "     23/100      3.31G      1.224     0.7422      1.157         39        640: 100%|██████████| 74/74 [00:10<00:00,  7.27it/s]\n",
      "                 Class     Images  Instances      Box(P          R      mAP50  mAP50-95): 100%|██████████| 8/8 [00:01<00:00,  6.31it/s]"
     ]
    },
    {
     "name": "stdout",
     "output_type": "stream",
     "text": [
      "                   all        250       2831      0.879       0.84      0.927      0.622\n"
     ]
    },
    {
     "name": "stderr",
     "output_type": "stream",
     "text": [
      "\n"
     ]
    },
    {
     "name": "stdout",
     "output_type": "stream",
     "text": [
      "\n",
      "      Epoch    GPU_mem   box_loss   cls_loss   dfl_loss  Instances       Size\n"
     ]
    },
    {
     "name": "stderr",
     "output_type": "stream",
     "text": [
      "     24/100      2.85G      1.231     0.7629       1.16         41        640: 100%|██████████| 74/74 [00:10<00:00,  7.20it/s]\n",
      "                 Class     Images  Instances      Box(P          R      mAP50  mAP50-95): 100%|██████████| 8/8 [00:01<00:00,  6.23it/s]"
     ]
    },
    {
     "name": "stdout",
     "output_type": "stream",
     "text": [
      "                   all        250       2831      0.879      0.851      0.929      0.617\n"
     ]
    },
    {
     "name": "stderr",
     "output_type": "stream",
     "text": [
      "\n"
     ]
    },
    {
     "name": "stdout",
     "output_type": "stream",
     "text": [
      "\n",
      "      Epoch    GPU_mem   box_loss   cls_loss   dfl_loss  Instances       Size\n"
     ]
    },
    {
     "name": "stderr",
     "output_type": "stream",
     "text": [
      "     25/100       2.8G      1.219     0.7404      1.159         26        640: 100%|██████████| 74/74 [00:10<00:00,  7.25it/s]\n",
      "                 Class     Images  Instances      Box(P          R      mAP50  mAP50-95): 100%|██████████| 8/8 [00:01<00:00,  6.26it/s]"
     ]
    },
    {
     "name": "stdout",
     "output_type": "stream",
     "text": [
      "                   all        250       2831      0.889      0.836      0.925      0.616\n"
     ]
    },
    {
     "name": "stderr",
     "output_type": "stream",
     "text": [
      "\n"
     ]
    },
    {
     "name": "stdout",
     "output_type": "stream",
     "text": [
      "\n",
      "      Epoch    GPU_mem   box_loss   cls_loss   dfl_loss  Instances       Size\n"
     ]
    },
    {
     "name": "stderr",
     "output_type": "stream",
     "text": [
      "     26/100      2.85G      1.221     0.7425      1.159         38        640: 100%|██████████| 74/74 [00:10<00:00,  7.26it/s]\n",
      "                 Class     Images  Instances      Box(P          R      mAP50  mAP50-95): 100%|██████████| 8/8 [00:01<00:00,  6.42it/s]"
     ]
    },
    {
     "name": "stdout",
     "output_type": "stream",
     "text": [
      "                   all        250       2831      0.883      0.832      0.922       0.62\n"
     ]
    },
    {
     "name": "stderr",
     "output_type": "stream",
     "text": [
      "\n"
     ]
    },
    {
     "name": "stdout",
     "output_type": "stream",
     "text": [
      "\n",
      "      Epoch    GPU_mem   box_loss   cls_loss   dfl_loss  Instances       Size\n"
     ]
    },
    {
     "name": "stderr",
     "output_type": "stream",
     "text": [
      "     27/100      2.85G       1.22     0.7471      1.149         34        640: 100%|██████████| 74/74 [00:10<00:00,  7.18it/s]\n",
      "                 Class     Images  Instances      Box(P          R      mAP50  mAP50-95): 100%|██████████| 8/8 [00:01<00:00,  6.06it/s]"
     ]
    },
    {
     "name": "stdout",
     "output_type": "stream",
     "text": [
      "                   all        250       2831      0.871      0.846      0.925      0.615\n"
     ]
    },
    {
     "name": "stderr",
     "output_type": "stream",
     "text": [
      "\n"
     ]
    },
    {
     "name": "stdout",
     "output_type": "stream",
     "text": [
      "\n",
      "      Epoch    GPU_mem   box_loss   cls_loss   dfl_loss  Instances       Size\n"
     ]
    },
    {
     "name": "stderr",
     "output_type": "stream",
     "text": [
      "     28/100      2.75G      1.225     0.7401       1.16         16        640: 100%|██████████| 74/74 [00:10<00:00,  7.24it/s]\n",
      "                 Class     Images  Instances      Box(P          R      mAP50  mAP50-95): 100%|██████████| 8/8 [00:01<00:00,  6.02it/s]"
     ]
    },
    {
     "name": "stdout",
     "output_type": "stream",
     "text": [
      "                   all        250       2831      0.897      0.831      0.928      0.619\n"
     ]
    },
    {
     "name": "stderr",
     "output_type": "stream",
     "text": [
      "\n"
     ]
    },
    {
     "name": "stdout",
     "output_type": "stream",
     "text": [
      "\n",
      "      Epoch    GPU_mem   box_loss   cls_loss   dfl_loss  Instances       Size\n"
     ]
    },
    {
     "name": "stderr",
     "output_type": "stream",
     "text": [
      "     29/100      3.27G      1.205     0.7345       1.15         39        640: 100%|██████████| 74/74 [00:10<00:00,  7.24it/s]\n",
      "                 Class     Images  Instances      Box(P          R      mAP50  mAP50-95): 100%|██████████| 8/8 [00:01<00:00,  6.32it/s]"
     ]
    },
    {
     "name": "stdout",
     "output_type": "stream",
     "text": [
      "                   all        250       2831      0.878      0.857      0.928      0.621\n"
     ]
    },
    {
     "name": "stderr",
     "output_type": "stream",
     "text": [
      "\n"
     ]
    },
    {
     "name": "stdout",
     "output_type": "stream",
     "text": [
      "\n",
      "      Epoch    GPU_mem   box_loss   cls_loss   dfl_loss  Instances       Size\n"
     ]
    },
    {
     "name": "stderr",
     "output_type": "stream",
     "text": [
      "     30/100      3.36G      1.226     0.7359      1.149         49        640: 100%|██████████| 74/74 [00:10<00:00,  7.18it/s]\n",
      "                 Class     Images  Instances      Box(P          R      mAP50  mAP50-95): 100%|██████████| 8/8 [00:01<00:00,  6.21it/s]"
     ]
    },
    {
     "name": "stdout",
     "output_type": "stream",
     "text": [
      "                   all        250       2831      0.897      0.829      0.925      0.622\n"
     ]
    },
    {
     "name": "stderr",
     "output_type": "stream",
     "text": [
      "\n"
     ]
    },
    {
     "name": "stdout",
     "output_type": "stream",
     "text": [
      "\n",
      "      Epoch    GPU_mem   box_loss   cls_loss   dfl_loss  Instances       Size\n"
     ]
    },
    {
     "name": "stderr",
     "output_type": "stream",
     "text": [
      "     31/100      3.08G      1.224     0.7352      1.162         14        640: 100%|██████████| 74/74 [00:10<00:00,  7.23it/s]\n",
      "                 Class     Images  Instances      Box(P          R      mAP50  mAP50-95): 100%|██████████| 8/8 [00:01<00:00,  6.21it/s]"
     ]
    },
    {
     "name": "stdout",
     "output_type": "stream",
     "text": [
      "                   all        250       2831      0.871      0.858       0.93      0.624\n"
     ]
    },
    {
     "name": "stderr",
     "output_type": "stream",
     "text": [
      "\n"
     ]
    },
    {
     "name": "stdout",
     "output_type": "stream",
     "text": [
      "\n",
      "      Epoch    GPU_mem   box_loss   cls_loss   dfl_loss  Instances       Size\n"
     ]
    },
    {
     "name": "stderr",
     "output_type": "stream",
     "text": [
      "     32/100       2.8G      1.206      0.731      1.148         23        640: 100%|██████████| 74/74 [00:10<00:00,  7.26it/s]\n",
      "                 Class     Images  Instances      Box(P          R      mAP50  mAP50-95): 100%|██████████| 8/8 [00:01<00:00,  6.29it/s]"
     ]
    },
    {
     "name": "stdout",
     "output_type": "stream",
     "text": [
      "                   all        250       2831      0.881      0.846      0.929      0.624\n"
     ]
    },
    {
     "name": "stderr",
     "output_type": "stream",
     "text": [
      "\n"
     ]
    },
    {
     "name": "stdout",
     "output_type": "stream",
     "text": [
      "\n",
      "      Epoch    GPU_mem   box_loss   cls_loss   dfl_loss  Instances       Size\n"
     ]
    },
    {
     "name": "stderr",
     "output_type": "stream",
     "text": [
      "     33/100      3.03G      1.221     0.7436      1.151         24        640: 100%|██████████| 74/74 [00:10<00:00,  7.26it/s]\n",
      "                 Class     Images  Instances      Box(P          R      mAP50  mAP50-95): 100%|██████████| 8/8 [00:01<00:00,  6.28it/s]"
     ]
    },
    {
     "name": "stdout",
     "output_type": "stream",
     "text": [
      "                   all        250       2831      0.865      0.857      0.925      0.614\n"
     ]
    },
    {
     "name": "stderr",
     "output_type": "stream",
     "text": [
      "\n"
     ]
    },
    {
     "name": "stdout",
     "output_type": "stream",
     "text": [
      "\n",
      "      Epoch    GPU_mem   box_loss   cls_loss   dfl_loss  Instances       Size\n"
     ]
    },
    {
     "name": "stderr",
     "output_type": "stream",
     "text": [
      "     34/100      2.76G      1.206     0.7266      1.146         43        640: 100%|██████████| 74/74 [00:10<00:00,  7.24it/s]\n",
      "                 Class     Images  Instances      Box(P          R      mAP50  mAP50-95): 100%|██████████| 8/8 [00:01<00:00,  6.13it/s]"
     ]
    },
    {
     "name": "stdout",
     "output_type": "stream",
     "text": [
      "                   all        250       2831      0.892      0.841      0.928      0.624\n"
     ]
    },
    {
     "name": "stderr",
     "output_type": "stream",
     "text": [
      "\n"
     ]
    },
    {
     "name": "stdout",
     "output_type": "stream",
     "text": [
      "\n",
      "      Epoch    GPU_mem   box_loss   cls_loss   dfl_loss  Instances       Size\n"
     ]
    },
    {
     "name": "stderr",
     "output_type": "stream",
     "text": [
      "     35/100      2.82G      1.202     0.7266      1.143         27        640: 100%|██████████| 74/74 [00:10<00:00,  7.26it/s]\n",
      "                 Class     Images  Instances      Box(P          R      mAP50  mAP50-95): 100%|██████████| 8/8 [00:01<00:00,  6.29it/s]"
     ]
    },
    {
     "name": "stdout",
     "output_type": "stream",
     "text": [
      "                   all        250       2831      0.882      0.845      0.927      0.616\n"
     ]
    },
    {
     "name": "stderr",
     "output_type": "stream",
     "text": [
      "\n"
     ]
    },
    {
     "name": "stdout",
     "output_type": "stream",
     "text": [
      "\n",
      "      Epoch    GPU_mem   box_loss   cls_loss   dfl_loss  Instances       Size\n"
     ]
    },
    {
     "name": "stderr",
     "output_type": "stream",
     "text": [
      "     36/100      2.86G      1.211     0.7243      1.147         24        640: 100%|██████████| 74/74 [00:10<00:00,  7.26it/s]\n",
      "                 Class     Images  Instances      Box(P          R      mAP50  mAP50-95): 100%|██████████| 8/8 [00:01<00:00,  6.32it/s]"
     ]
    },
    {
     "name": "stdout",
     "output_type": "stream",
     "text": [
      "                   all        250       2831      0.884      0.846      0.927       0.62\n"
     ]
    },
    {
     "name": "stderr",
     "output_type": "stream",
     "text": [
      "\n"
     ]
    },
    {
     "name": "stdout",
     "output_type": "stream",
     "text": [
      "\n",
      "      Epoch    GPU_mem   box_loss   cls_loss   dfl_loss  Instances       Size\n"
     ]
    },
    {
     "name": "stderr",
     "output_type": "stream",
     "text": [
      "     37/100      2.97G      1.212     0.7248      1.149          8        640: 100%|██████████| 74/74 [00:10<00:00,  7.28it/s]\n",
      "                 Class     Images  Instances      Box(P          R      mAP50  mAP50-95): 100%|██████████| 8/8 [00:01<00:00,  6.23it/s]"
     ]
    },
    {
     "name": "stdout",
     "output_type": "stream",
     "text": [
      "                   all        250       2831      0.891      0.852      0.928      0.618\n"
     ]
    },
    {
     "name": "stderr",
     "output_type": "stream",
     "text": [
      "\n"
     ]
    },
    {
     "name": "stdout",
     "output_type": "stream",
     "text": [
      "\n",
      "      Epoch    GPU_mem   box_loss   cls_loss   dfl_loss  Instances       Size\n"
     ]
    },
    {
     "name": "stderr",
     "output_type": "stream",
     "text": [
      "     38/100      3.06G      1.204     0.7349      1.148          7        640: 100%|██████████| 74/74 [00:10<00:00,  7.25it/s]\n",
      "                 Class     Images  Instances      Box(P          R      mAP50  mAP50-95): 100%|██████████| 8/8 [00:01<00:00,  6.37it/s]"
     ]
    },
    {
     "name": "stdout",
     "output_type": "stream",
     "text": [
      "                   all        250       2831      0.878       0.86      0.934       0.62\n"
     ]
    },
    {
     "name": "stderr",
     "output_type": "stream",
     "text": [
      "\n"
     ]
    },
    {
     "name": "stdout",
     "output_type": "stream",
     "text": [
      "\n",
      "      Epoch    GPU_mem   box_loss   cls_loss   dfl_loss  Instances       Size\n"
     ]
    },
    {
     "name": "stderr",
     "output_type": "stream",
     "text": [
      "     39/100      3.09G      1.215     0.7257      1.148         65        640: 100%|██████████| 74/74 [00:10<00:00,  7.26it/s]\n",
      "                 Class     Images  Instances      Box(P          R      mAP50  mAP50-95): 100%|██████████| 8/8 [00:01<00:00,  6.21it/s]"
     ]
    },
    {
     "name": "stdout",
     "output_type": "stream",
     "text": [
      "                   all        250       2831      0.881      0.851      0.931      0.624\n"
     ]
    },
    {
     "name": "stderr",
     "output_type": "stream",
     "text": [
      "\n"
     ]
    },
    {
     "name": "stdout",
     "output_type": "stream",
     "text": [
      "\n",
      "      Epoch    GPU_mem   box_loss   cls_loss   dfl_loss  Instances       Size\n"
     ]
    },
    {
     "name": "stderr",
     "output_type": "stream",
     "text": [
      "     40/100      2.89G      1.195     0.7162       1.14         38        640: 100%|██████████| 74/74 [00:10<00:00,  7.23it/s]\n",
      "                 Class     Images  Instances      Box(P          R      mAP50  mAP50-95): 100%|██████████| 8/8 [00:01<00:00,  6.38it/s]"
     ]
    },
    {
     "name": "stdout",
     "output_type": "stream",
     "text": [
      "                   all        250       2831      0.894      0.848      0.929      0.626\n"
     ]
    },
    {
     "name": "stderr",
     "output_type": "stream",
     "text": [
      "\n"
     ]
    },
    {
     "name": "stdout",
     "output_type": "stream",
     "text": [
      "\n",
      "      Epoch    GPU_mem   box_loss   cls_loss   dfl_loss  Instances       Size\n"
     ]
    },
    {
     "name": "stderr",
     "output_type": "stream",
     "text": [
      "     41/100      2.94G      1.196     0.7151      1.138         51        640: 100%|██████████| 74/74 [00:10<00:00,  7.25it/s]\n",
      "                 Class     Images  Instances      Box(P          R      mAP50  mAP50-95): 100%|██████████| 8/8 [00:01<00:00,  6.10it/s]"
     ]
    },
    {
     "name": "stdout",
     "output_type": "stream",
     "text": [
      "                   all        250       2831      0.865      0.843      0.922      0.606\n"
     ]
    },
    {
     "name": "stderr",
     "output_type": "stream",
     "text": [
      "\n"
     ]
    },
    {
     "name": "stdout",
     "output_type": "stream",
     "text": [
      "\n",
      "      Epoch    GPU_mem   box_loss   cls_loss   dfl_loss  Instances       Size\n"
     ]
    },
    {
     "name": "stderr",
     "output_type": "stream",
     "text": [
      "     42/100      3.09G      1.195     0.7209      1.134         24        640: 100%|██████████| 74/74 [00:10<00:00,  7.27it/s]\n",
      "                 Class     Images  Instances      Box(P          R      mAP50  mAP50-95): 100%|██████████| 8/8 [00:01<00:00,  6.23it/s]"
     ]
    },
    {
     "name": "stdout",
     "output_type": "stream",
     "text": [
      "                   all        250       2831       0.89      0.847       0.93      0.627\n"
     ]
    },
    {
     "name": "stderr",
     "output_type": "stream",
     "text": [
      "\n"
     ]
    },
    {
     "name": "stdout",
     "output_type": "stream",
     "text": [
      "\n",
      "      Epoch    GPU_mem   box_loss   cls_loss   dfl_loss  Instances       Size\n"
     ]
    },
    {
     "name": "stderr",
     "output_type": "stream",
     "text": [
      "     43/100      2.75G      1.202     0.7085      1.142         31        640: 100%|██████████| 74/74 [00:10<00:00,  7.24it/s]\n",
      "                 Class     Images  Instances      Box(P          R      mAP50  mAP50-95): 100%|██████████| 8/8 [00:01<00:00,  6.21it/s]"
     ]
    },
    {
     "name": "stdout",
     "output_type": "stream",
     "text": [
      "                   all        250       2831      0.876      0.859      0.933      0.622\n"
     ]
    },
    {
     "name": "stderr",
     "output_type": "stream",
     "text": [
      "\n"
     ]
    },
    {
     "name": "stdout",
     "output_type": "stream",
     "text": [
      "\n",
      "      Epoch    GPU_mem   box_loss   cls_loss   dfl_loss  Instances       Size\n"
     ]
    },
    {
     "name": "stderr",
     "output_type": "stream",
     "text": [
      "     44/100       2.8G      1.201     0.7187      1.134         42        640: 100%|██████████| 74/74 [00:10<00:00,  7.23it/s]\n",
      "                 Class     Images  Instances      Box(P          R      mAP50  mAP50-95): 100%|██████████| 8/8 [00:01<00:00,  6.07it/s]"
     ]
    },
    {
     "name": "stdout",
     "output_type": "stream",
     "text": [
      "                   all        250       2831      0.881      0.835      0.923      0.616\n"
     ]
    },
    {
     "name": "stderr",
     "output_type": "stream",
     "text": [
      "\n"
     ]
    },
    {
     "name": "stdout",
     "output_type": "stream",
     "text": [
      "\n",
      "      Epoch    GPU_mem   box_loss   cls_loss   dfl_loss  Instances       Size\n"
     ]
    },
    {
     "name": "stderr",
     "output_type": "stream",
     "text": [
      "     45/100      2.78G      1.202     0.7163      1.143         59        640: 100%|██████████| 74/74 [00:10<00:00,  7.28it/s]\n",
      "                 Class     Images  Instances      Box(P          R      mAP50  mAP50-95): 100%|██████████| 8/8 [00:01<00:00,  6.18it/s]"
     ]
    },
    {
     "name": "stdout",
     "output_type": "stream",
     "text": [
      "                   all        250       2831      0.886      0.839      0.924      0.624\n"
     ]
    },
    {
     "name": "stderr",
     "output_type": "stream",
     "text": [
      "\n"
     ]
    },
    {
     "name": "stdout",
     "output_type": "stream",
     "text": [
      "\n",
      "      Epoch    GPU_mem   box_loss   cls_loss   dfl_loss  Instances       Size\n"
     ]
    },
    {
     "name": "stderr",
     "output_type": "stream",
     "text": [
      "     46/100      3.15G      1.199     0.7143       1.14         45        640: 100%|██████████| 74/74 [00:10<00:00,  7.29it/s]\n",
      "                 Class     Images  Instances      Box(P          R      mAP50  mAP50-95): 100%|██████████| 8/8 [00:01<00:00,  6.19it/s]"
     ]
    },
    {
     "name": "stdout",
     "output_type": "stream",
     "text": [
      "                   all        250       2831       0.87      0.857      0.925       0.62\n"
     ]
    },
    {
     "name": "stderr",
     "output_type": "stream",
     "text": [
      "\n"
     ]
    },
    {
     "name": "stdout",
     "output_type": "stream",
     "text": [
      "\n",
      "      Epoch    GPU_mem   box_loss   cls_loss   dfl_loss  Instances       Size\n"
     ]
    },
    {
     "name": "stderr",
     "output_type": "stream",
     "text": [
      "     47/100      2.73G      1.187     0.7059      1.136         21        640: 100%|██████████| 74/74 [00:10<00:00,  7.28it/s]\n",
      "                 Class     Images  Instances      Box(P          R      mAP50  mAP50-95): 100%|██████████| 8/8 [00:01<00:00,  6.19it/s]"
     ]
    },
    {
     "name": "stdout",
     "output_type": "stream",
     "text": [
      "                   all        250       2831      0.894      0.842      0.931      0.623\n"
     ]
    },
    {
     "name": "stderr",
     "output_type": "stream",
     "text": [
      "\n"
     ]
    },
    {
     "name": "stdout",
     "output_type": "stream",
     "text": [
      "\n",
      "      Epoch    GPU_mem   box_loss   cls_loss   dfl_loss  Instances       Size\n"
     ]
    },
    {
     "name": "stderr",
     "output_type": "stream",
     "text": [
      "     48/100      2.82G      1.189      0.705      1.136         13        640: 100%|██████████| 74/74 [00:10<00:00,  7.24it/s]\n",
      "                 Class     Images  Instances      Box(P          R      mAP50  mAP50-95): 100%|██████████| 8/8 [00:01<00:00,  6.06it/s]\n"
     ]
    },
    {
     "name": "stdout",
     "output_type": "stream",
     "text": [
      "                   all        250       2831      0.871      0.856      0.928      0.614\n",
      "\n",
      "      Epoch    GPU_mem   box_loss   cls_loss   dfl_loss  Instances       Size\n"
     ]
    },
    {
     "name": "stderr",
     "output_type": "stream",
     "text": [
      "     49/100      2.82G      1.199     0.7147      1.138         17        640: 100%|██████████| 74/74 [00:10<00:00,  7.31it/s]\n",
      "                 Class     Images  Instances      Box(P          R      mAP50  mAP50-95): 100%|██████████| 8/8 [00:01<00:00,  6.11it/s]"
     ]
    },
    {
     "name": "stdout",
     "output_type": "stream",
     "text": [
      "                   all        250       2831      0.886      0.848      0.931      0.622\n"
     ]
    },
    {
     "name": "stderr",
     "output_type": "stream",
     "text": [
      "\n"
     ]
    },
    {
     "name": "stdout",
     "output_type": "stream",
     "text": [
      "\n",
      "      Epoch    GPU_mem   box_loss   cls_loss   dfl_loss  Instances       Size\n"
     ]
    },
    {
     "name": "stderr",
     "output_type": "stream",
     "text": [
      "     50/100      3.22G      1.193     0.7009      1.133         42        640: 100%|██████████| 74/74 [00:10<00:00,  7.19it/s]\n",
      "                 Class     Images  Instances      Box(P          R      mAP50  mAP50-95): 100%|██████████| 8/8 [00:01<00:00,  6.24it/s]"
     ]
    },
    {
     "name": "stdout",
     "output_type": "stream",
     "text": [
      "                   all        250       2831      0.871      0.859      0.929      0.626\n"
     ]
    },
    {
     "name": "stderr",
     "output_type": "stream",
     "text": [
      "\n"
     ]
    },
    {
     "name": "stdout",
     "output_type": "stream",
     "text": [
      "\n",
      "      Epoch    GPU_mem   box_loss   cls_loss   dfl_loss  Instances       Size\n"
     ]
    },
    {
     "name": "stderr",
     "output_type": "stream",
     "text": [
      "     51/100      2.92G      1.186     0.7036      1.133         41        640: 100%|██████████| 74/74 [00:10<00:00,  7.25it/s]\n",
      "                 Class     Images  Instances      Box(P          R      mAP50  mAP50-95): 100%|██████████| 8/8 [00:01<00:00,  6.18it/s]"
     ]
    },
    {
     "name": "stdout",
     "output_type": "stream",
     "text": [
      "                   all        250       2831      0.883      0.843      0.927      0.624\n"
     ]
    },
    {
     "name": "stderr",
     "output_type": "stream",
     "text": [
      "\n"
     ]
    },
    {
     "name": "stdout",
     "output_type": "stream",
     "text": [
      "\n",
      "      Epoch    GPU_mem   box_loss   cls_loss   dfl_loss  Instances       Size\n"
     ]
    },
    {
     "name": "stderr",
     "output_type": "stream",
     "text": [
      "     52/100      2.72G      1.194     0.7072      1.137         32        640: 100%|██████████| 74/74 [00:10<00:00,  7.27it/s]\n",
      "                 Class     Images  Instances      Box(P          R      mAP50  mAP50-95): 100%|██████████| 8/8 [00:01<00:00,  6.05it/s]"
     ]
    },
    {
     "name": "stdout",
     "output_type": "stream",
     "text": [
      "                   all        250       2831      0.887      0.855      0.933      0.628\n"
     ]
    },
    {
     "name": "stderr",
     "output_type": "stream",
     "text": [
      "\n"
     ]
    },
    {
     "name": "stdout",
     "output_type": "stream",
     "text": [
      "\n",
      "      Epoch    GPU_mem   box_loss   cls_loss   dfl_loss  Instances       Size\n"
     ]
    },
    {
     "name": "stderr",
     "output_type": "stream",
     "text": [
      "     53/100      2.89G      1.185     0.7002       1.13         19        640: 100%|██████████| 74/74 [00:10<00:00,  7.29it/s]\n",
      "                 Class     Images  Instances      Box(P          R      mAP50  mAP50-95): 100%|██████████| 8/8 [00:01<00:00,  6.23it/s]"
     ]
    },
    {
     "name": "stdout",
     "output_type": "stream",
     "text": [
      "                   all        250       2831      0.889      0.851       0.93       0.63\n"
     ]
    },
    {
     "name": "stderr",
     "output_type": "stream",
     "text": [
      "\n"
     ]
    },
    {
     "name": "stdout",
     "output_type": "stream",
     "text": [
      "\n",
      "      Epoch    GPU_mem   box_loss   cls_loss   dfl_loss  Instances       Size\n"
     ]
    },
    {
     "name": "stderr",
     "output_type": "stream",
     "text": [
      "     54/100      2.85G      1.181     0.6964      1.131         20        640: 100%|██████████| 74/74 [00:10<00:00,  7.27it/s]\n",
      "                 Class     Images  Instances      Box(P          R      mAP50  mAP50-95): 100%|██████████| 8/8 [00:01<00:00,  6.19it/s]"
     ]
    },
    {
     "name": "stdout",
     "output_type": "stream",
     "text": [
      "                   all        250       2831      0.877      0.866      0.935      0.627\n"
     ]
    },
    {
     "name": "stderr",
     "output_type": "stream",
     "text": [
      "\n"
     ]
    },
    {
     "name": "stdout",
     "output_type": "stream",
     "text": [
      "\n",
      "      Epoch    GPU_mem   box_loss   cls_loss   dfl_loss  Instances       Size\n"
     ]
    },
    {
     "name": "stderr",
     "output_type": "stream",
     "text": [
      "     55/100      2.92G      1.187        0.7      1.131         25        640: 100%|██████████| 74/74 [00:10<00:00,  7.29it/s]\n",
      "                 Class     Images  Instances      Box(P          R      mAP50  mAP50-95): 100%|██████████| 8/8 [00:01<00:00,  6.24it/s]"
     ]
    },
    {
     "name": "stdout",
     "output_type": "stream",
     "text": [
      "                   all        250       2831      0.875      0.852      0.931      0.625\n"
     ]
    },
    {
     "name": "stderr",
     "output_type": "stream",
     "text": [
      "\n"
     ]
    },
    {
     "name": "stdout",
     "output_type": "stream",
     "text": [
      "\n",
      "      Epoch    GPU_mem   box_loss   cls_loss   dfl_loss  Instances       Size\n"
     ]
    },
    {
     "name": "stderr",
     "output_type": "stream",
     "text": [
      "     56/100       2.8G      1.181      0.695      1.128         25        640: 100%|██████████| 74/74 [00:10<00:00,  7.23it/s]\n",
      "                 Class     Images  Instances      Box(P          R      mAP50  mAP50-95): 100%|██████████| 8/8 [00:01<00:00,  6.22it/s]"
     ]
    },
    {
     "name": "stdout",
     "output_type": "stream",
     "text": [
      "                   all        250       2831      0.902      0.841      0.931      0.629\n"
     ]
    },
    {
     "name": "stderr",
     "output_type": "stream",
     "text": [
      "\n"
     ]
    },
    {
     "name": "stdout",
     "output_type": "stream",
     "text": [
      "\n",
      "      Epoch    GPU_mem   box_loss   cls_loss   dfl_loss  Instances       Size\n"
     ]
    },
    {
     "name": "stderr",
     "output_type": "stream",
     "text": [
      "     57/100      3.02G      1.175     0.6975      1.134         19        640: 100%|██████████| 74/74 [00:10<00:00,  7.28it/s]\n",
      "                 Class     Images  Instances      Box(P          R      mAP50  mAP50-95): 100%|██████████| 8/8 [00:01<00:00,  6.05it/s]"
     ]
    },
    {
     "name": "stdout",
     "output_type": "stream",
     "text": [
      "                   all        250       2831      0.884      0.857      0.931      0.622\n"
     ]
    },
    {
     "name": "stderr",
     "output_type": "stream",
     "text": [
      "\n"
     ]
    },
    {
     "name": "stdout",
     "output_type": "stream",
     "text": [
      "\n",
      "      Epoch    GPU_mem   box_loss   cls_loss   dfl_loss  Instances       Size\n"
     ]
    },
    {
     "name": "stderr",
     "output_type": "stream",
     "text": [
      "     58/100      2.79G      1.185     0.6963      1.126         63        640: 100%|██████████| 74/74 [00:10<00:00,  7.27it/s]\n",
      "                 Class     Images  Instances      Box(P          R      mAP50  mAP50-95): 100%|██████████| 8/8 [00:01<00:00,  6.13it/s]"
     ]
    },
    {
     "name": "stdout",
     "output_type": "stream",
     "text": [
      "                   all        250       2831      0.892      0.856      0.935       0.63\n"
     ]
    },
    {
     "name": "stderr",
     "output_type": "stream",
     "text": [
      "\n"
     ]
    },
    {
     "name": "stdout",
     "output_type": "stream",
     "text": [
      "\n",
      "      Epoch    GPU_mem   box_loss   cls_loss   dfl_loss  Instances       Size\n"
     ]
    },
    {
     "name": "stderr",
     "output_type": "stream",
     "text": [
      "     59/100      2.99G      1.172     0.6937      1.122         34        640: 100%|██████████| 74/74 [00:10<00:00,  7.27it/s]\n",
      "                 Class     Images  Instances      Box(P          R      mAP50  mAP50-95): 100%|██████████| 8/8 [00:01<00:00,  6.23it/s]"
     ]
    },
    {
     "name": "stdout",
     "output_type": "stream",
     "text": [
      "                   all        250       2831      0.883      0.854      0.931      0.623\n"
     ]
    },
    {
     "name": "stderr",
     "output_type": "stream",
     "text": [
      "\n"
     ]
    },
    {
     "name": "stdout",
     "output_type": "stream",
     "text": [
      "\n",
      "      Epoch    GPU_mem   box_loss   cls_loss   dfl_loss  Instances       Size\n"
     ]
    },
    {
     "name": "stderr",
     "output_type": "stream",
     "text": [
      "     60/100       2.9G      1.185     0.6974      1.132         11        640: 100%|██████████| 74/74 [00:10<00:00,  7.27it/s]\n",
      "                 Class     Images  Instances      Box(P          R      mAP50  mAP50-95): 100%|██████████| 8/8 [00:01<00:00,  6.14it/s]"
     ]
    },
    {
     "name": "stdout",
     "output_type": "stream",
     "text": [
      "                   all        250       2831      0.877      0.867      0.935      0.628\n"
     ]
    },
    {
     "name": "stderr",
     "output_type": "stream",
     "text": [
      "\n"
     ]
    },
    {
     "name": "stdout",
     "output_type": "stream",
     "text": [
      "\n",
      "      Epoch    GPU_mem   box_loss   cls_loss   dfl_loss  Instances       Size\n"
     ]
    },
    {
     "name": "stderr",
     "output_type": "stream",
     "text": [
      "     61/100      3.12G      1.182     0.6834      1.124         21        640: 100%|██████████| 74/74 [00:10<00:00,  7.24it/s]\n",
      "                 Class     Images  Instances      Box(P          R      mAP50  mAP50-95): 100%|██████████| 8/8 [00:01<00:00,  6.24it/s]"
     ]
    },
    {
     "name": "stdout",
     "output_type": "stream",
     "text": [
      "                   all        250       2831      0.886      0.856      0.933       0.63\n"
     ]
    },
    {
     "name": "stderr",
     "output_type": "stream",
     "text": [
      "\n"
     ]
    },
    {
     "name": "stdout",
     "output_type": "stream",
     "text": [
      "\n",
      "      Epoch    GPU_mem   box_loss   cls_loss   dfl_loss  Instances       Size\n"
     ]
    },
    {
     "name": "stderr",
     "output_type": "stream",
     "text": [
      "     62/100      3.32G      1.182     0.6888      1.129         46        640: 100%|██████████| 74/74 [00:10<00:00,  7.28it/s]\n",
      "                 Class     Images  Instances      Box(P          R      mAP50  mAP50-95): 100%|██████████| 8/8 [00:01<00:00,  6.27it/s]"
     ]
    },
    {
     "name": "stdout",
     "output_type": "stream",
     "text": [
      "                   all        250       2831      0.887      0.857      0.934      0.628\n"
     ]
    },
    {
     "name": "stderr",
     "output_type": "stream",
     "text": [
      "\n"
     ]
    },
    {
     "name": "stdout",
     "output_type": "stream",
     "text": [
      "\n",
      "      Epoch    GPU_mem   box_loss   cls_loss   dfl_loss  Instances       Size\n"
     ]
    },
    {
     "name": "stderr",
     "output_type": "stream",
     "text": [
      "     63/100      3.35G      1.183     0.6908      1.124         19        640: 100%|██████████| 74/74 [00:10<00:00,  7.25it/s]\n",
      "                 Class     Images  Instances      Box(P          R      mAP50  mAP50-95): 100%|██████████| 8/8 [00:01<00:00,  6.24it/s]"
     ]
    },
    {
     "name": "stdout",
     "output_type": "stream",
     "text": [
      "                   all        250       2831      0.893      0.849      0.932      0.628\n"
     ]
    },
    {
     "name": "stderr",
     "output_type": "stream",
     "text": [
      "\n"
     ]
    },
    {
     "name": "stdout",
     "output_type": "stream",
     "text": [
      "\n",
      "      Epoch    GPU_mem   box_loss   cls_loss   dfl_loss  Instances       Size\n"
     ]
    },
    {
     "name": "stderr",
     "output_type": "stream",
     "text": [
      "     64/100      2.82G      1.184     0.6949      1.125         35        640: 100%|██████████| 74/74 [00:10<00:00,  7.25it/s]\n",
      "                 Class     Images  Instances      Box(P          R      mAP50  mAP50-95): 100%|██████████| 8/8 [00:01<00:00,  6.07it/s]"
     ]
    },
    {
     "name": "stdout",
     "output_type": "stream",
     "text": [
      "                   all        250       2831       0.89      0.856      0.934      0.632\n"
     ]
    },
    {
     "name": "stderr",
     "output_type": "stream",
     "text": [
      "\n"
     ]
    },
    {
     "name": "stdout",
     "output_type": "stream",
     "text": [
      "\n",
      "      Epoch    GPU_mem   box_loss   cls_loss   dfl_loss  Instances       Size\n"
     ]
    },
    {
     "name": "stderr",
     "output_type": "stream",
     "text": [
      "     65/100      2.85G      1.175     0.6837      1.124         35        640: 100%|██████████| 74/74 [00:10<00:00,  7.24it/s]\n",
      "                 Class     Images  Instances      Box(P          R      mAP50  mAP50-95): 100%|██████████| 8/8 [00:01<00:00,  6.28it/s]"
     ]
    },
    {
     "name": "stdout",
     "output_type": "stream",
     "text": [
      "                   all        250       2831      0.885      0.862      0.935      0.631\n"
     ]
    },
    {
     "name": "stderr",
     "output_type": "stream",
     "text": [
      "\n"
     ]
    },
    {
     "name": "stdout",
     "output_type": "stream",
     "text": [
      "\n",
      "      Epoch    GPU_mem   box_loss   cls_loss   dfl_loss  Instances       Size\n"
     ]
    },
    {
     "name": "stderr",
     "output_type": "stream",
     "text": [
      "     66/100      2.94G      1.174     0.6822      1.123         35        640: 100%|██████████| 74/74 [00:10<00:00,  7.23it/s]\n",
      "                 Class     Images  Instances      Box(P          R      mAP50  mAP50-95): 100%|██████████| 8/8 [00:01<00:00,  6.20it/s]"
     ]
    },
    {
     "name": "stdout",
     "output_type": "stream",
     "text": [
      "                   all        250       2831      0.892      0.865      0.937       0.63\n"
     ]
    },
    {
     "name": "stderr",
     "output_type": "stream",
     "text": [
      "\n"
     ]
    },
    {
     "name": "stdout",
     "output_type": "stream",
     "text": [
      "\n",
      "      Epoch    GPU_mem   box_loss   cls_loss   dfl_loss  Instances       Size\n"
     ]
    },
    {
     "name": "stderr",
     "output_type": "stream",
     "text": [
      "     67/100      2.98G      1.179      0.681      1.126         10        640: 100%|██████████| 74/74 [00:10<00:00,  7.28it/s]\n",
      "                 Class     Images  Instances      Box(P          R      mAP50  mAP50-95): 100%|██████████| 8/8 [00:01<00:00,  6.16it/s]"
     ]
    },
    {
     "name": "stdout",
     "output_type": "stream",
     "text": [
      "                   all        250       2831      0.881       0.86      0.934      0.627\n"
     ]
    },
    {
     "name": "stderr",
     "output_type": "stream",
     "text": [
      "\n"
     ]
    },
    {
     "name": "stdout",
     "output_type": "stream",
     "text": [
      "\n",
      "      Epoch    GPU_mem   box_loss   cls_loss   dfl_loss  Instances       Size\n"
     ]
    },
    {
     "name": "stderr",
     "output_type": "stream",
     "text": [
      "     68/100      3.08G      1.185     0.6919      1.128         27        640: 100%|██████████| 74/74 [00:10<00:00,  7.24it/s]\n",
      "                 Class     Images  Instances      Box(P          R      mAP50  mAP50-95): 100%|██████████| 8/8 [00:01<00:00,  6.20it/s]"
     ]
    },
    {
     "name": "stdout",
     "output_type": "stream",
     "text": [
      "                   all        250       2831      0.882      0.862      0.936      0.633\n"
     ]
    },
    {
     "name": "stderr",
     "output_type": "stream",
     "text": [
      "\n"
     ]
    },
    {
     "name": "stdout",
     "output_type": "stream",
     "text": [
      "\n",
      "      Epoch    GPU_mem   box_loss   cls_loss   dfl_loss  Instances       Size\n"
     ]
    },
    {
     "name": "stderr",
     "output_type": "stream",
     "text": [
      "     69/100      3.05G      1.171     0.6799      1.126         31        640: 100%|██████████| 74/74 [00:10<00:00,  7.28it/s]\n",
      "                 Class     Images  Instances      Box(P          R      mAP50  mAP50-95): 100%|██████████| 8/8 [00:01<00:00,  6.30it/s]"
     ]
    },
    {
     "name": "stdout",
     "output_type": "stream",
     "text": [
      "                   all        250       2831      0.889      0.857      0.935      0.632\n"
     ]
    },
    {
     "name": "stderr",
     "output_type": "stream",
     "text": [
      "\n"
     ]
    },
    {
     "name": "stdout",
     "output_type": "stream",
     "text": [
      "\n",
      "      Epoch    GPU_mem   box_loss   cls_loss   dfl_loss  Instances       Size\n"
     ]
    },
    {
     "name": "stderr",
     "output_type": "stream",
     "text": [
      "     70/100       3.1G      1.174     0.6839      1.121         31        640: 100%|██████████| 74/74 [00:10<00:00,  7.26it/s]\n",
      "                 Class     Images  Instances      Box(P          R      mAP50  mAP50-95): 100%|██████████| 8/8 [00:01<00:00,  6.25it/s]"
     ]
    },
    {
     "name": "stdout",
     "output_type": "stream",
     "text": [
      "                   all        250       2831      0.886      0.859      0.935      0.632\n"
     ]
    },
    {
     "name": "stderr",
     "output_type": "stream",
     "text": [
      "\n"
     ]
    },
    {
     "name": "stdout",
     "output_type": "stream",
     "text": [
      "\n",
      "      Epoch    GPU_mem   box_loss   cls_loss   dfl_loss  Instances       Size\n"
     ]
    },
    {
     "name": "stderr",
     "output_type": "stream",
     "text": [
      "     71/100      2.79G       1.18     0.6758      1.127         12        640: 100%|██████████| 74/74 [00:10<00:00,  7.26it/s]\n",
      "                 Class     Images  Instances      Box(P          R      mAP50  mAP50-95): 100%|██████████| 8/8 [00:01<00:00,  6.29it/s]"
     ]
    },
    {
     "name": "stdout",
     "output_type": "stream",
     "text": [
      "                   all        250       2831      0.889      0.851      0.934      0.634\n"
     ]
    },
    {
     "name": "stderr",
     "output_type": "stream",
     "text": [
      "\n"
     ]
    },
    {
     "name": "stdout",
     "output_type": "stream",
     "text": [
      "\n",
      "      Epoch    GPU_mem   box_loss   cls_loss   dfl_loss  Instances       Size\n"
     ]
    },
    {
     "name": "stderr",
     "output_type": "stream",
     "text": [
      "     72/100      3.29G      1.164     0.6707      1.119         43        640: 100%|██████████| 74/74 [00:10<00:00,  7.23it/s]\n",
      "                 Class     Images  Instances      Box(P          R      mAP50  mAP50-95): 100%|██████████| 8/8 [00:01<00:00,  6.38it/s]"
     ]
    },
    {
     "name": "stdout",
     "output_type": "stream",
     "text": [
      "                   all        250       2831      0.885      0.859      0.936      0.631\n"
     ]
    },
    {
     "name": "stderr",
     "output_type": "stream",
     "text": [
      "\n"
     ]
    },
    {
     "name": "stdout",
     "output_type": "stream",
     "text": [
      "\n",
      "      Epoch    GPU_mem   box_loss   cls_loss   dfl_loss  Instances       Size\n"
     ]
    },
    {
     "name": "stderr",
     "output_type": "stream",
     "text": [
      "     73/100      2.84G      1.157      0.673      1.112         60        640: 100%|██████████| 74/74 [00:10<00:00,  7.26it/s]\n",
      "                 Class     Images  Instances      Box(P          R      mAP50  mAP50-95): 100%|██████████| 8/8 [00:01<00:00,  6.27it/s]"
     ]
    },
    {
     "name": "stdout",
     "output_type": "stream",
     "text": [
      "                   all        250       2831      0.873      0.862      0.933      0.632\n"
     ]
    },
    {
     "name": "stderr",
     "output_type": "stream",
     "text": [
      "\n"
     ]
    },
    {
     "name": "stdout",
     "output_type": "stream",
     "text": [
      "\n",
      "      Epoch    GPU_mem   box_loss   cls_loss   dfl_loss  Instances       Size\n"
     ]
    },
    {
     "name": "stderr",
     "output_type": "stream",
     "text": [
      "     74/100      2.99G      1.154     0.6673      1.114         32        640: 100%|██████████| 74/74 [00:10<00:00,  7.28it/s]\n",
      "                 Class     Images  Instances      Box(P          R      mAP50  mAP50-95): 100%|██████████| 8/8 [00:01<00:00,  6.29it/s]"
     ]
    },
    {
     "name": "stdout",
     "output_type": "stream",
     "text": [
      "                   all        250       2831      0.898      0.857      0.938      0.634\n"
     ]
    },
    {
     "name": "stderr",
     "output_type": "stream",
     "text": [
      "\n"
     ]
    },
    {
     "name": "stdout",
     "output_type": "stream",
     "text": [
      "\n",
      "      Epoch    GPU_mem   box_loss   cls_loss   dfl_loss  Instances       Size\n"
     ]
    },
    {
     "name": "stderr",
     "output_type": "stream",
     "text": [
      "     75/100      3.24G      1.172     0.6729       1.12          8        640: 100%|██████████| 74/74 [00:10<00:00,  7.23it/s]\n",
      "                 Class     Images  Instances      Box(P          R      mAP50  mAP50-95): 100%|██████████| 8/8 [00:01<00:00,  6.33it/s]"
     ]
    },
    {
     "name": "stdout",
     "output_type": "stream",
     "text": [
      "                   all        250       2831       0.89      0.859      0.938      0.633\n"
     ]
    },
    {
     "name": "stderr",
     "output_type": "stream",
     "text": [
      "\n"
     ]
    },
    {
     "name": "stdout",
     "output_type": "stream",
     "text": [
      "\n",
      "      Epoch    GPU_mem   box_loss   cls_loss   dfl_loss  Instances       Size\n"
     ]
    },
    {
     "name": "stderr",
     "output_type": "stream",
     "text": [
      "     76/100      2.89G      1.165     0.6738       1.12         75        640: 100%|██████████| 74/74 [00:10<00:00,  7.27it/s]\n",
      "                 Class     Images  Instances      Box(P          R      mAP50  mAP50-95): 100%|██████████| 8/8 [00:01<00:00,  6.33it/s]"
     ]
    },
    {
     "name": "stdout",
     "output_type": "stream",
     "text": [
      "                   all        250       2831      0.885      0.865      0.937      0.629\n"
     ]
    },
    {
     "name": "stderr",
     "output_type": "stream",
     "text": [
      "\n"
     ]
    },
    {
     "name": "stdout",
     "output_type": "stream",
     "text": [
      "\n",
      "      Epoch    GPU_mem   box_loss   cls_loss   dfl_loss  Instances       Size\n"
     ]
    },
    {
     "name": "stderr",
     "output_type": "stream",
     "text": [
      "     77/100      3.19G      1.173     0.6781      1.122         38        640: 100%|██████████| 74/74 [00:10<00:00,  7.27it/s]\n",
      "                 Class     Images  Instances      Box(P          R      mAP50  mAP50-95): 100%|██████████| 8/8 [00:01<00:00,  6.19it/s]"
     ]
    },
    {
     "name": "stdout",
     "output_type": "stream",
     "text": [
      "                   all        250       2831      0.885      0.862      0.936      0.632\n"
     ]
    },
    {
     "name": "stderr",
     "output_type": "stream",
     "text": [
      "\n"
     ]
    },
    {
     "name": "stdout",
     "output_type": "stream",
     "text": [
      "\n",
      "      Epoch    GPU_mem   box_loss   cls_loss   dfl_loss  Instances       Size\n"
     ]
    },
    {
     "name": "stderr",
     "output_type": "stream",
     "text": [
      "     78/100      2.88G      1.155     0.6741      1.115         23        640: 100%|██████████| 74/74 [00:10<00:00,  7.25it/s]\n",
      "                 Class     Images  Instances      Box(P          R      mAP50  mAP50-95): 100%|██████████| 8/8 [00:01<00:00,  6.25it/s]"
     ]
    },
    {
     "name": "stdout",
     "output_type": "stream",
     "text": [
      "                   all        250       2831      0.882      0.862      0.935      0.633\n"
     ]
    },
    {
     "name": "stderr",
     "output_type": "stream",
     "text": [
      "\n"
     ]
    },
    {
     "name": "stdout",
     "output_type": "stream",
     "text": [
      "\n",
      "      Epoch    GPU_mem   box_loss   cls_loss   dfl_loss  Instances       Size\n"
     ]
    },
    {
     "name": "stderr",
     "output_type": "stream",
     "text": [
      "     79/100      2.77G      1.157     0.6707      1.121         18        640: 100%|██████████| 74/74 [00:10<00:00,  7.29it/s]\n",
      "                 Class     Images  Instances      Box(P          R      mAP50  mAP50-95): 100%|██████████| 8/8 [00:01<00:00,  6.28it/s]"
     ]
    },
    {
     "name": "stdout",
     "output_type": "stream",
     "text": [
      "                   all        250       2831      0.882      0.866      0.937      0.633\n"
     ]
    },
    {
     "name": "stderr",
     "output_type": "stream",
     "text": [
      "\n"
     ]
    },
    {
     "name": "stdout",
     "output_type": "stream",
     "text": [
      "\n",
      "      Epoch    GPU_mem   box_loss   cls_loss   dfl_loss  Instances       Size\n"
     ]
    },
    {
     "name": "stderr",
     "output_type": "stream",
     "text": [
      "     80/100      2.72G      1.148     0.6663      1.111          9        640: 100%|██████████| 74/74 [00:10<00:00,  7.27it/s]\n",
      "                 Class     Images  Instances      Box(P          R      mAP50  mAP50-95): 100%|██████████| 8/8 [00:01<00:00,  6.27it/s]"
     ]
    },
    {
     "name": "stdout",
     "output_type": "stream",
     "text": [
      "                   all        250       2831      0.879      0.868      0.937      0.632\n"
     ]
    },
    {
     "name": "stderr",
     "output_type": "stream",
     "text": [
      "\n"
     ]
    },
    {
     "name": "stdout",
     "output_type": "stream",
     "text": [
      "\n",
      "      Epoch    GPU_mem   box_loss   cls_loss   dfl_loss  Instances       Size\n"
     ]
    },
    {
     "name": "stderr",
     "output_type": "stream",
     "text": [
      "     81/100      3.03G      1.173     0.6701      1.122         34        640: 100%|██████████| 74/74 [00:10<00:00,  7.25it/s]\n",
      "                 Class     Images  Instances      Box(P          R      mAP50  mAP50-95): 100%|██████████| 8/8 [00:01<00:00,  6.35it/s]"
     ]
    },
    {
     "name": "stdout",
     "output_type": "stream",
     "text": [
      "                   all        250       2831      0.895      0.858      0.936      0.632\n"
     ]
    },
    {
     "name": "stderr",
     "output_type": "stream",
     "text": [
      "\n"
     ]
    },
    {
     "name": "stdout",
     "output_type": "stream",
     "text": [
      "\n",
      "      Epoch    GPU_mem   box_loss   cls_loss   dfl_loss  Instances       Size\n"
     ]
    },
    {
     "name": "stderr",
     "output_type": "stream",
     "text": [
      "     82/100      3.07G      1.158     0.6696      1.116         24        640: 100%|██████████| 74/74 [00:10<00:00,  7.25it/s]\n",
      "                 Class     Images  Instances      Box(P          R      mAP50  mAP50-95): 100%|██████████| 8/8 [00:01<00:00,  6.26it/s]"
     ]
    },
    {
     "name": "stdout",
     "output_type": "stream",
     "text": [
      "                   all        250       2831      0.888      0.864      0.938      0.635\n"
     ]
    },
    {
     "name": "stderr",
     "output_type": "stream",
     "text": [
      "\n"
     ]
    },
    {
     "name": "stdout",
     "output_type": "stream",
     "text": [
      "\n",
      "      Epoch    GPU_mem   box_loss   cls_loss   dfl_loss  Instances       Size\n"
     ]
    },
    {
     "name": "stderr",
     "output_type": "stream",
     "text": [
      "     83/100      2.74G       1.16     0.6679      1.112         12        640: 100%|██████████| 74/74 [00:10<00:00,  7.28it/s]\n",
      "                 Class     Images  Instances      Box(P          R      mAP50  mAP50-95): 100%|██████████| 8/8 [00:01<00:00,  6.30it/s]"
     ]
    },
    {
     "name": "stdout",
     "output_type": "stream",
     "text": [
      "                   all        250       2831      0.883      0.868      0.937      0.632\n"
     ]
    },
    {
     "name": "stderr",
     "output_type": "stream",
     "text": [
      "\n"
     ]
    },
    {
     "name": "stdout",
     "output_type": "stream",
     "text": [
      "\n",
      "      Epoch    GPU_mem   box_loss   cls_loss   dfl_loss  Instances       Size\n"
     ]
    },
    {
     "name": "stderr",
     "output_type": "stream",
     "text": [
      "     84/100      2.95G      1.163     0.6627      1.112         27        640: 100%|██████████| 74/74 [00:10<00:00,  7.25it/s]\n",
      "                 Class     Images  Instances      Box(P          R      mAP50  mAP50-95): 100%|██████████| 8/8 [00:01<00:00,  6.34it/s]"
     ]
    },
    {
     "name": "stdout",
     "output_type": "stream",
     "text": [
      "                   all        250       2831      0.882      0.867      0.936      0.632\n"
     ]
    },
    {
     "name": "stderr",
     "output_type": "stream",
     "text": [
      "\n"
     ]
    },
    {
     "name": "stdout",
     "output_type": "stream",
     "text": [
      "\n",
      "      Epoch    GPU_mem   box_loss   cls_loss   dfl_loss  Instances       Size\n"
     ]
    },
    {
     "name": "stderr",
     "output_type": "stream",
     "text": [
      "     85/100      3.13G      1.151     0.6624      1.116         20        640: 100%|██████████| 74/74 [00:10<00:00,  7.24it/s]\n",
      "                 Class     Images  Instances      Box(P          R      mAP50  mAP50-95): 100%|██████████| 8/8 [00:01<00:00,  6.16it/s]"
     ]
    },
    {
     "name": "stdout",
     "output_type": "stream",
     "text": [
      "                   all        250       2831      0.887      0.862      0.937      0.636\n"
     ]
    },
    {
     "name": "stderr",
     "output_type": "stream",
     "text": [
      "\n"
     ]
    },
    {
     "name": "stdout",
     "output_type": "stream",
     "text": [
      "\n",
      "      Epoch    GPU_mem   box_loss   cls_loss   dfl_loss  Instances       Size\n"
     ]
    },
    {
     "name": "stderr",
     "output_type": "stream",
     "text": [
      "     86/100      2.89G      1.153      0.656      1.114         23        640: 100%|██████████| 74/74 [00:10<00:00,  7.25it/s]\n",
      "                 Class     Images  Instances      Box(P          R      mAP50  mAP50-95): 100%|██████████| 8/8 [00:01<00:00,  6.27it/s]"
     ]
    },
    {
     "name": "stdout",
     "output_type": "stream",
     "text": [
      "                   all        250       2831      0.884      0.867      0.936      0.635\n"
     ]
    },
    {
     "name": "stderr",
     "output_type": "stream",
     "text": [
      "\n"
     ]
    },
    {
     "name": "stdout",
     "output_type": "stream",
     "text": [
      "\n",
      "      Epoch    GPU_mem   box_loss   cls_loss   dfl_loss  Instances       Size\n"
     ]
    },
    {
     "name": "stderr",
     "output_type": "stream",
     "text": [
      "     87/100      3.23G      1.147     0.6591      1.107         19        640: 100%|██████████| 74/74 [00:10<00:00,  7.28it/s]\n",
      "                 Class     Images  Instances      Box(P          R      mAP50  mAP50-95): 100%|██████████| 8/8 [00:01<00:00,  6.21it/s]"
     ]
    },
    {
     "name": "stdout",
     "output_type": "stream",
     "text": [
      "                   all        250       2831      0.888      0.862      0.937      0.634\n"
     ]
    },
    {
     "name": "stderr",
     "output_type": "stream",
     "text": [
      "\n"
     ]
    },
    {
     "name": "stdout",
     "output_type": "stream",
     "text": [
      "\n",
      "      Epoch    GPU_mem   box_loss   cls_loss   dfl_loss  Instances       Size\n"
     ]
    },
    {
     "name": "stderr",
     "output_type": "stream",
     "text": [
      "     88/100      2.82G       1.15     0.6532      1.112         22        640: 100%|██████████| 74/74 [00:10<00:00,  7.29it/s]\n",
      "                 Class     Images  Instances      Box(P          R      mAP50  mAP50-95): 100%|██████████| 8/8 [00:01<00:00,  6.32it/s]"
     ]
    },
    {
     "name": "stdout",
     "output_type": "stream",
     "text": [
      "                   all        250       2831       0.89      0.871      0.938      0.634\n"
     ]
    },
    {
     "name": "stderr",
     "output_type": "stream",
     "text": [
      "\n"
     ]
    },
    {
     "name": "stdout",
     "output_type": "stream",
     "text": [
      "\n",
      "      Epoch    GPU_mem   box_loss   cls_loss   dfl_loss  Instances       Size\n"
     ]
    },
    {
     "name": "stderr",
     "output_type": "stream",
     "text": [
      "     89/100      2.77G      1.154     0.6573      1.114         17        640: 100%|██████████| 74/74 [00:10<00:00,  7.26it/s]\n",
      "                 Class     Images  Instances      Box(P          R      mAP50  mAP50-95): 100%|██████████| 8/8 [00:01<00:00,  6.37it/s]"
     ]
    },
    {
     "name": "stdout",
     "output_type": "stream",
     "text": [
      "                   all        250       2831      0.892      0.853      0.936      0.633\n"
     ]
    },
    {
     "name": "stderr",
     "output_type": "stream",
     "text": [
      "\n"
     ]
    },
    {
     "name": "stdout",
     "output_type": "stream",
     "text": [
      "\n",
      "      Epoch    GPU_mem   box_loss   cls_loss   dfl_loss  Instances       Size\n"
     ]
    },
    {
     "name": "stderr",
     "output_type": "stream",
     "text": [
      "     90/100      3.09G      1.154     0.6618      1.114         16        640: 100%|██████████| 74/74 [00:10<00:00,  7.26it/s]\n",
      "                 Class     Images  Instances      Box(P          R      mAP50  mAP50-95): 100%|██████████| 8/8 [00:01<00:00,  6.39it/s]"
     ]
    },
    {
     "name": "stdout",
     "output_type": "stream",
     "text": [
      "                   all        250       2831      0.884      0.861      0.936      0.634\n"
     ]
    },
    {
     "name": "stderr",
     "output_type": "stream",
     "text": [
      "\n"
     ]
    },
    {
     "name": "stdout",
     "output_type": "stream",
     "text": [
      "Closing dataloader mosaic\n",
      "\n",
      "      Epoch    GPU_mem   box_loss   cls_loss   dfl_loss  Instances       Size\n"
     ]
    },
    {
     "name": "stderr",
     "output_type": "stream",
     "text": [
      "     91/100      2.58G      1.153     0.6578      1.127         19        640: 100%|██████████| 74/74 [00:10<00:00,  7.09it/s]\n",
      "                 Class     Images  Instances      Box(P          R      mAP50  mAP50-95): 100%|██████████| 8/8 [00:01<00:00,  5.31it/s]"
     ]
    },
    {
     "name": "stdout",
     "output_type": "stream",
     "text": [
      "                   all        250       2831       0.87      0.856      0.932       0.62\n"
     ]
    },
    {
     "name": "stderr",
     "output_type": "stream",
     "text": [
      "\n"
     ]
    },
    {
     "name": "stdout",
     "output_type": "stream",
     "text": [
      "\n",
      "      Epoch    GPU_mem   box_loss   cls_loss   dfl_loss  Instances       Size\n"
     ]
    },
    {
     "name": "stderr",
     "output_type": "stream",
     "text": [
      "     92/100      2.57G      1.132     0.6366      1.117         11        640: 100%|██████████| 74/74 [00:09<00:00,  7.50it/s]\n",
      "                 Class     Images  Instances      Box(P          R      mAP50  mAP50-95): 100%|██████████| 8/8 [00:01<00:00,  6.17it/s]"
     ]
    },
    {
     "name": "stdout",
     "output_type": "stream",
     "text": [
      "                   all        250       2831       0.88      0.858      0.933      0.625\n"
     ]
    },
    {
     "name": "stderr",
     "output_type": "stream",
     "text": [
      "\n"
     ]
    },
    {
     "name": "stdout",
     "output_type": "stream",
     "text": [
      "\n",
      "      Epoch    GPU_mem   box_loss   cls_loss   dfl_loss  Instances       Size\n"
     ]
    },
    {
     "name": "stderr",
     "output_type": "stream",
     "text": [
      "     93/100      2.57G       1.13     0.6286      1.117         35        640: 100%|██████████| 74/74 [00:09<00:00,  7.51it/s]\n",
      "                 Class     Images  Instances      Box(P          R      mAP50  mAP50-95): 100%|██████████| 8/8 [00:01<00:00,  6.12it/s]"
     ]
    },
    {
     "name": "stdout",
     "output_type": "stream",
     "text": [
      "                   all        250       2831       0.87      0.866      0.933      0.628\n"
     ]
    },
    {
     "name": "stderr",
     "output_type": "stream",
     "text": [
      "\n"
     ]
    },
    {
     "name": "stdout",
     "output_type": "stream",
     "text": [
      "\n",
      "      Epoch    GPU_mem   box_loss   cls_loss   dfl_loss  Instances       Size\n"
     ]
    },
    {
     "name": "stderr",
     "output_type": "stream",
     "text": [
      "     94/100      2.66G      1.125     0.6279      1.111         50        640: 100%|██████████| 74/74 [00:09<00:00,  7.48it/s]\n",
      "                 Class     Images  Instances      Box(P          R      mAP50  mAP50-95): 100%|██████████| 8/8 [00:01<00:00,  6.25it/s]"
     ]
    },
    {
     "name": "stdout",
     "output_type": "stream",
     "text": [
      "                   all        250       2831      0.886      0.862      0.935       0.63\n"
     ]
    },
    {
     "name": "stderr",
     "output_type": "stream",
     "text": [
      "\n"
     ]
    },
    {
     "name": "stdout",
     "output_type": "stream",
     "text": [
      "\n",
      "      Epoch    GPU_mem   box_loss   cls_loss   dfl_loss  Instances       Size\n"
     ]
    },
    {
     "name": "stderr",
     "output_type": "stream",
     "text": [
      "     95/100       2.6G      1.127     0.6296       1.11         32        640: 100%|██████████| 74/74 [00:09<00:00,  7.50it/s]\n",
      "                 Class     Images  Instances      Box(P          R      mAP50  mAP50-95): 100%|██████████| 8/8 [00:01<00:00,  6.29it/s]"
     ]
    },
    {
     "name": "stdout",
     "output_type": "stream",
     "text": [
      "                   all        250       2831       0.88      0.867      0.937      0.631\n"
     ]
    },
    {
     "name": "stderr",
     "output_type": "stream",
     "text": [
      "\n"
     ]
    },
    {
     "name": "stdout",
     "output_type": "stream",
     "text": [
      "\n",
      "      Epoch    GPU_mem   box_loss   cls_loss   dfl_loss  Instances       Size\n"
     ]
    },
    {
     "name": "stderr",
     "output_type": "stream",
     "text": [
      "     96/100      2.64G      1.121     0.6251      1.107          6        640: 100%|██████████| 74/74 [00:09<00:00,  7.49it/s]\n",
      "                 Class     Images  Instances      Box(P          R      mAP50  mAP50-95): 100%|██████████| 8/8 [00:01<00:00,  6.10it/s]"
     ]
    },
    {
     "name": "stdout",
     "output_type": "stream",
     "text": [
      "                   all        250       2831      0.875      0.874      0.937      0.628\n"
     ]
    },
    {
     "name": "stderr",
     "output_type": "stream",
     "text": [
      "\n"
     ]
    },
    {
     "name": "stdout",
     "output_type": "stream",
     "text": [
      "\n",
      "      Epoch    GPU_mem   box_loss   cls_loss   dfl_loss  Instances       Size\n"
     ]
    },
    {
     "name": "stderr",
     "output_type": "stream",
     "text": [
      "     97/100      2.72G       1.12     0.6178      1.105         24        640: 100%|██████████| 74/74 [00:09<00:00,  7.50it/s]\n",
      "                 Class     Images  Instances      Box(P          R      mAP50  mAP50-95): 100%|██████████| 8/8 [00:01<00:00,  6.09it/s]"
     ]
    },
    {
     "name": "stdout",
     "output_type": "stream",
     "text": [
      "                   all        250       2831       0.89      0.862      0.937      0.633\n"
     ]
    },
    {
     "name": "stderr",
     "output_type": "stream",
     "text": [
      "\n"
     ]
    },
    {
     "name": "stdout",
     "output_type": "stream",
     "text": [
      "\n",
      "      Epoch    GPU_mem   box_loss   cls_loss   dfl_loss  Instances       Size\n"
     ]
    },
    {
     "name": "stderr",
     "output_type": "stream",
     "text": [
      "     98/100      2.61G      1.121      0.621      1.111         20        640: 100%|██████████| 74/74 [00:09<00:00,  7.47it/s]\n",
      "                 Class     Images  Instances      Box(P          R      mAP50  mAP50-95): 100%|██████████| 8/8 [00:01<00:00,  6.23it/s]"
     ]
    },
    {
     "name": "stdout",
     "output_type": "stream",
     "text": [
      "                   all        250       2831      0.894      0.856      0.937      0.631\n"
     ]
    },
    {
     "name": "stderr",
     "output_type": "stream",
     "text": [
      "\n"
     ]
    },
    {
     "name": "stdout",
     "output_type": "stream",
     "text": [
      "\n",
      "      Epoch    GPU_mem   box_loss   cls_loss   dfl_loss  Instances       Size\n"
     ]
    },
    {
     "name": "stderr",
     "output_type": "stream",
     "text": [
      "     99/100      2.59G      1.115     0.6207      1.108         20        640: 100%|██████████| 74/74 [00:09<00:00,  7.49it/s]\n",
      "                 Class     Images  Instances      Box(P          R      mAP50  mAP50-95): 100%|██████████| 8/8 [00:01<00:00,  6.24it/s]"
     ]
    },
    {
     "name": "stdout",
     "output_type": "stream",
     "text": [
      "                   all        250       2831      0.893      0.859      0.938      0.633\n"
     ]
    },
    {
     "name": "stderr",
     "output_type": "stream",
     "text": [
      "\n"
     ]
    },
    {
     "name": "stdout",
     "output_type": "stream",
     "text": [
      "\n",
      "      Epoch    GPU_mem   box_loss   cls_loss   dfl_loss  Instances       Size\n"
     ]
    },
    {
     "name": "stderr",
     "output_type": "stream",
     "text": [
      "    100/100      2.63G      1.117     0.6219      1.106         46        640: 100%|██████████| 74/74 [00:09<00:00,  7.49it/s]\n",
      "                 Class     Images  Instances      Box(P          R      mAP50  mAP50-95): 100%|██████████| 8/8 [00:01<00:00,  6.07it/s]"
     ]
    },
    {
     "name": "stdout",
     "output_type": "stream",
     "text": [
      "                   all        250       2831      0.886       0.86      0.936      0.629\n"
     ]
    },
    {
     "name": "stderr",
     "output_type": "stream",
     "text": [
      "\n"
     ]
    },
    {
     "name": "stdout",
     "output_type": "stream",
     "text": [
      "\n",
      "100 epochs completed in 0.346 hours.\n",
      "Optimizer stripped from runs\\detect\\train\\weights\\last.pt, 5.5MB\n",
      "Optimizer stripped from runs\\detect\\train\\weights\\best.pt, 5.5MB\n",
      "\n",
      "Validating runs\\detect\\train\\weights\\best.pt...\n",
      "Ultralytics 8.3.15  Python-3.12.2 torch-2.5.0+cu118 CUDA:0 (NVIDIA GeForce RTX 4060, 8188MiB)\n",
      "YOLO11n summary (fused): 238 layers, 2,582,347 parameters, 0 gradients, 6.3 GFLOPs\n"
     ]
    },
    {
     "name": "stderr",
     "output_type": "stream",
     "text": [
      "                 Class     Images  Instances      Box(P          R      mAP50  mAP50-95): 100%|██████████| 8/8 [00:02<00:00,  3.21it/s]\n"
     ]
    },
    {
     "name": "stdout",
     "output_type": "stream",
     "text": [
      "                   all        250       2831      0.883      0.864      0.938      0.637\n",
      "Speed: 0.2ms preprocess, 1.8ms inference, 0.0ms loss, 1.2ms postprocess per image\n",
      "Results saved to \u001b[1mruns\\detect\\train\u001b[0m\n"
     ]
    },
    {
     "data": {
      "text/plain": [
       "ultralytics.utils.metrics.DetMetrics object with attributes:\n",
       "\n",
       "ap_class_index: array([0])\n",
       "box: ultralytics.utils.metrics.Metric object\n",
       "confusion_matrix: <ultralytics.utils.metrics.ConfusionMatrix object at 0x00000153873DA1B0>\n",
       "curves: ['Precision-Recall(B)', 'F1-Confidence(B)', 'Precision-Confidence(B)', 'Recall-Confidence(B)']\n",
       "curves_results: [[array([          0,    0.001001,    0.002002,    0.003003,    0.004004,    0.005005,    0.006006,    0.007007,    0.008008,    0.009009,     0.01001,    0.011011,    0.012012,    0.013013,    0.014014,    0.015015,    0.016016,    0.017017,    0.018018,    0.019019,     0.02002,    0.021021,    0.022022,    0.023023,\n",
       "          0.024024,    0.025025,    0.026026,    0.027027,    0.028028,    0.029029,     0.03003,    0.031031,    0.032032,    0.033033,    0.034034,    0.035035,    0.036036,    0.037037,    0.038038,    0.039039,     0.04004,    0.041041,    0.042042,    0.043043,    0.044044,    0.045045,    0.046046,    0.047047,\n",
       "          0.048048,    0.049049,     0.05005,    0.051051,    0.052052,    0.053053,    0.054054,    0.055055,    0.056056,    0.057057,    0.058058,    0.059059,     0.06006,    0.061061,    0.062062,    0.063063,    0.064064,    0.065065,    0.066066,    0.067067,    0.068068,    0.069069,     0.07007,    0.071071,\n",
       "          0.072072,    0.073073,    0.074074,    0.075075,    0.076076,    0.077077,    0.078078,    0.079079,     0.08008,    0.081081,    0.082082,    0.083083,    0.084084,    0.085085,    0.086086,    0.087087,    0.088088,    0.089089,     0.09009,    0.091091,    0.092092,    0.093093,    0.094094,    0.095095,\n",
       "          0.096096,    0.097097,    0.098098,    0.099099,      0.1001,      0.1011,      0.1021,      0.1031,      0.1041,     0.10511,     0.10611,     0.10711,     0.10811,     0.10911,     0.11011,     0.11111,     0.11211,     0.11311,     0.11411,     0.11512,     0.11612,     0.11712,     0.11812,     0.11912,\n",
       "           0.12012,     0.12112,     0.12212,     0.12312,     0.12412,     0.12513,     0.12613,     0.12713,     0.12813,     0.12913,     0.13013,     0.13113,     0.13213,     0.13313,     0.13413,     0.13514,     0.13614,     0.13714,     0.13814,     0.13914,     0.14014,     0.14114,     0.14214,     0.14314,\n",
       "           0.14414,     0.14515,     0.14615,     0.14715,     0.14815,     0.14915,     0.15015,     0.15115,     0.15215,     0.15315,     0.15415,     0.15516,     0.15616,     0.15716,     0.15816,     0.15916,     0.16016,     0.16116,     0.16216,     0.16316,     0.16416,     0.16517,     0.16617,     0.16717,\n",
       "           0.16817,     0.16917,     0.17017,     0.17117,     0.17217,     0.17317,     0.17417,     0.17518,     0.17618,     0.17718,     0.17818,     0.17918,     0.18018,     0.18118,     0.18218,     0.18318,     0.18418,     0.18519,     0.18619,     0.18719,     0.18819,     0.18919,     0.19019,     0.19119,\n",
       "           0.19219,     0.19319,     0.19419,      0.1952,      0.1962,      0.1972,      0.1982,      0.1992,      0.2002,      0.2012,      0.2022,      0.2032,      0.2042,     0.20521,     0.20621,     0.20721,     0.20821,     0.20921,     0.21021,     0.21121,     0.21221,     0.21321,     0.21421,     0.21522,\n",
       "           0.21622,     0.21722,     0.21822,     0.21922,     0.22022,     0.22122,     0.22222,     0.22322,     0.22422,     0.22523,     0.22623,     0.22723,     0.22823,     0.22923,     0.23023,     0.23123,     0.23223,     0.23323,     0.23423,     0.23524,     0.23624,     0.23724,     0.23824,     0.23924,\n",
       "           0.24024,     0.24124,     0.24224,     0.24324,     0.24424,     0.24525,     0.24625,     0.24725,     0.24825,     0.24925,     0.25025,     0.25125,     0.25225,     0.25325,     0.25425,     0.25526,     0.25626,     0.25726,     0.25826,     0.25926,     0.26026,     0.26126,     0.26226,     0.26326,\n",
       "           0.26426,     0.26527,     0.26627,     0.26727,     0.26827,     0.26927,     0.27027,     0.27127,     0.27227,     0.27327,     0.27427,     0.27528,     0.27628,     0.27728,     0.27828,     0.27928,     0.28028,     0.28128,     0.28228,     0.28328,     0.28428,     0.28529,     0.28629,     0.28729,\n",
       "           0.28829,     0.28929,     0.29029,     0.29129,     0.29229,     0.29329,     0.29429,      0.2953,      0.2963,      0.2973,      0.2983,      0.2993,      0.3003,      0.3013,      0.3023,      0.3033,      0.3043,     0.30531,     0.30631,     0.30731,     0.30831,     0.30931,     0.31031,     0.31131,\n",
       "           0.31231,     0.31331,     0.31431,     0.31532,     0.31632,     0.31732,     0.31832,     0.31932,     0.32032,     0.32132,     0.32232,     0.32332,     0.32432,     0.32533,     0.32633,     0.32733,     0.32833,     0.32933,     0.33033,     0.33133,     0.33233,     0.33333,     0.33433,     0.33534,\n",
       "           0.33634,     0.33734,     0.33834,     0.33934,     0.34034,     0.34134,     0.34234,     0.34334,     0.34434,     0.34535,     0.34635,     0.34735,     0.34835,     0.34935,     0.35035,     0.35135,     0.35235,     0.35335,     0.35435,     0.35536,     0.35636,     0.35736,     0.35836,     0.35936,\n",
       "           0.36036,     0.36136,     0.36236,     0.36336,     0.36436,     0.36537,     0.36637,     0.36737,     0.36837,     0.36937,     0.37037,     0.37137,     0.37237,     0.37337,     0.37437,     0.37538,     0.37638,     0.37738,     0.37838,     0.37938,     0.38038,     0.38138,     0.38238,     0.38338,\n",
       "           0.38438,     0.38539,     0.38639,     0.38739,     0.38839,     0.38939,     0.39039,     0.39139,     0.39239,     0.39339,     0.39439,      0.3954,      0.3964,      0.3974,      0.3984,      0.3994,      0.4004,      0.4014,      0.4024,      0.4034,      0.4044,     0.40541,     0.40641,     0.40741,\n",
       "           0.40841,     0.40941,     0.41041,     0.41141,     0.41241,     0.41341,     0.41441,     0.41542,     0.41642,     0.41742,     0.41842,     0.41942,     0.42042,     0.42142,     0.42242,     0.42342,     0.42442,     0.42543,     0.42643,     0.42743,     0.42843,     0.42943,     0.43043,     0.43143,\n",
       "           0.43243,     0.43343,     0.43443,     0.43544,     0.43644,     0.43744,     0.43844,     0.43944,     0.44044,     0.44144,     0.44244,     0.44344,     0.44444,     0.44545,     0.44645,     0.44745,     0.44845,     0.44945,     0.45045,     0.45145,     0.45245,     0.45345,     0.45445,     0.45546,\n",
       "           0.45646,     0.45746,     0.45846,     0.45946,     0.46046,     0.46146,     0.46246,     0.46346,     0.46446,     0.46547,     0.46647,     0.46747,     0.46847,     0.46947,     0.47047,     0.47147,     0.47247,     0.47347,     0.47447,     0.47548,     0.47648,     0.47748,     0.47848,     0.47948,\n",
       "           0.48048,     0.48148,     0.48248,     0.48348,     0.48448,     0.48549,     0.48649,     0.48749,     0.48849,     0.48949,     0.49049,     0.49149,     0.49249,     0.49349,     0.49449,      0.4955,      0.4965,      0.4975,      0.4985,      0.4995,      0.5005,      0.5015,      0.5025,      0.5035,\n",
       "            0.5045,     0.50551,     0.50651,     0.50751,     0.50851,     0.50951,     0.51051,     0.51151,     0.51251,     0.51351,     0.51451,     0.51552,     0.51652,     0.51752,     0.51852,     0.51952,     0.52052,     0.52152,     0.52252,     0.52352,     0.52452,     0.52553,     0.52653,     0.52753,\n",
       "           0.52853,     0.52953,     0.53053,     0.53153,     0.53253,     0.53353,     0.53453,     0.53554,     0.53654,     0.53754,     0.53854,     0.53954,     0.54054,     0.54154,     0.54254,     0.54354,     0.54454,     0.54555,     0.54655,     0.54755,     0.54855,     0.54955,     0.55055,     0.55155,\n",
       "           0.55255,     0.55355,     0.55455,     0.55556,     0.55656,     0.55756,     0.55856,     0.55956,     0.56056,     0.56156,     0.56256,     0.56356,     0.56456,     0.56557,     0.56657,     0.56757,     0.56857,     0.56957,     0.57057,     0.57157,     0.57257,     0.57357,     0.57457,     0.57558,\n",
       "           0.57658,     0.57758,     0.57858,     0.57958,     0.58058,     0.58158,     0.58258,     0.58358,     0.58458,     0.58559,     0.58659,     0.58759,     0.58859,     0.58959,     0.59059,     0.59159,     0.59259,     0.59359,     0.59459,      0.5956,      0.5966,      0.5976,      0.5986,      0.5996,\n",
       "            0.6006,      0.6016,      0.6026,      0.6036,      0.6046,     0.60561,     0.60661,     0.60761,     0.60861,     0.60961,     0.61061,     0.61161,     0.61261,     0.61361,     0.61461,     0.61562,     0.61662,     0.61762,     0.61862,     0.61962,     0.62062,     0.62162,     0.62262,     0.62362,\n",
       "           0.62462,     0.62563,     0.62663,     0.62763,     0.62863,     0.62963,     0.63063,     0.63163,     0.63263,     0.63363,     0.63463,     0.63564,     0.63664,     0.63764,     0.63864,     0.63964,     0.64064,     0.64164,     0.64264,     0.64364,     0.64464,     0.64565,     0.64665,     0.64765,\n",
       "           0.64865,     0.64965,     0.65065,     0.65165,     0.65265,     0.65365,     0.65465,     0.65566,     0.65666,     0.65766,     0.65866,     0.65966,     0.66066,     0.66166,     0.66266,     0.66366,     0.66466,     0.66567,     0.66667,     0.66767,     0.66867,     0.66967,     0.67067,     0.67167,\n",
       "           0.67267,     0.67367,     0.67467,     0.67568,     0.67668,     0.67768,     0.67868,     0.67968,     0.68068,     0.68168,     0.68268,     0.68368,     0.68468,     0.68569,     0.68669,     0.68769,     0.68869,     0.68969,     0.69069,     0.69169,     0.69269,     0.69369,     0.69469,      0.6957,\n",
       "            0.6967,      0.6977,      0.6987,      0.6997,      0.7007,      0.7017,      0.7027,      0.7037,      0.7047,     0.70571,     0.70671,     0.70771,     0.70871,     0.70971,     0.71071,     0.71171,     0.71271,     0.71371,     0.71471,     0.71572,     0.71672,     0.71772,     0.71872,     0.71972,\n",
       "           0.72072,     0.72172,     0.72272,     0.72372,     0.72472,     0.72573,     0.72673,     0.72773,     0.72873,     0.72973,     0.73073,     0.73173,     0.73273,     0.73373,     0.73473,     0.73574,     0.73674,     0.73774,     0.73874,     0.73974,     0.74074,     0.74174,     0.74274,     0.74374,\n",
       "           0.74474,     0.74575,     0.74675,     0.74775,     0.74875,     0.74975,     0.75075,     0.75175,     0.75275,     0.75375,     0.75475,     0.75576,     0.75676,     0.75776,     0.75876,     0.75976,     0.76076,     0.76176,     0.76276,     0.76376,     0.76476,     0.76577,     0.76677,     0.76777,\n",
       "           0.76877,     0.76977,     0.77077,     0.77177,     0.77277,     0.77377,     0.77477,     0.77578,     0.77678,     0.77778,     0.77878,     0.77978,     0.78078,     0.78178,     0.78278,     0.78378,     0.78478,     0.78579,     0.78679,     0.78779,     0.78879,     0.78979,     0.79079,     0.79179,\n",
       "           0.79279,     0.79379,     0.79479,      0.7958,      0.7968,      0.7978,      0.7988,      0.7998,      0.8008,      0.8018,      0.8028,      0.8038,      0.8048,     0.80581,     0.80681,     0.80781,     0.80881,     0.80981,     0.81081,     0.81181,     0.81281,     0.81381,     0.81481,     0.81582,\n",
       "           0.81682,     0.81782,     0.81882,     0.81982,     0.82082,     0.82182,     0.82282,     0.82382,     0.82482,     0.82583,     0.82683,     0.82783,     0.82883,     0.82983,     0.83083,     0.83183,     0.83283,     0.83383,     0.83483,     0.83584,     0.83684,     0.83784,     0.83884,     0.83984,\n",
       "           0.84084,     0.84184,     0.84284,     0.84384,     0.84484,     0.84585,     0.84685,     0.84785,     0.84885,     0.84985,     0.85085,     0.85185,     0.85285,     0.85385,     0.85485,     0.85586,     0.85686,     0.85786,     0.85886,     0.85986,     0.86086,     0.86186,     0.86286,     0.86386,\n",
       "           0.86486,     0.86587,     0.86687,     0.86787,     0.86887,     0.86987,     0.87087,     0.87187,     0.87287,     0.87387,     0.87487,     0.87588,     0.87688,     0.87788,     0.87888,     0.87988,     0.88088,     0.88188,     0.88288,     0.88388,     0.88488,     0.88589,     0.88689,     0.88789,\n",
       "           0.88889,     0.88989,     0.89089,     0.89189,     0.89289,     0.89389,     0.89489,      0.8959,      0.8969,      0.8979,      0.8989,      0.8999,      0.9009,      0.9019,      0.9029,      0.9039,      0.9049,     0.90591,     0.90691,     0.90791,     0.90891,     0.90991,     0.91091,     0.91191,\n",
       "           0.91291,     0.91391,     0.91491,     0.91592,     0.91692,     0.91792,     0.91892,     0.91992,     0.92092,     0.92192,     0.92292,     0.92392,     0.92492,     0.92593,     0.92693,     0.92793,     0.92893,     0.92993,     0.93093,     0.93193,     0.93293,     0.93393,     0.93493,     0.93594,\n",
       "           0.93694,     0.93794,     0.93894,     0.93994,     0.94094,     0.94194,     0.94294,     0.94394,     0.94494,     0.94595,     0.94695,     0.94795,     0.94895,     0.94995,     0.95095,     0.95195,     0.95295,     0.95395,     0.95495,     0.95596,     0.95696,     0.95796,     0.95896,     0.95996,\n",
       "           0.96096,     0.96196,     0.96296,     0.96396,     0.96496,     0.96597,     0.96697,     0.96797,     0.96897,     0.96997,     0.97097,     0.97197,     0.97297,     0.97397,     0.97497,     0.97598,     0.97698,     0.97798,     0.97898,     0.97998,     0.98098,     0.98198,     0.98298,     0.98398,\n",
       "           0.98498,     0.98599,     0.98699,     0.98799,     0.98899,     0.98999,     0.99099,     0.99199,     0.99299,     0.99399,     0.99499,       0.996,       0.997,       0.998,       0.999,           1]), array([[          1,           1,           1,           1,           1,           1,           1,           1,           1,           1,           1,           1,           1,           1,           1,           1,           1,           1,           1,           1,           1,           1,           1,\n",
       "                  1,           1,           1,           1,           1,           1,           1,           1,           1,           1,           1,           1,           1,           1,           1,           1,           1,           1,           1,           1,           1,           1,           1,\n",
       "                  1,           1,           1,           1,           1,           1,           1,           1,           1,           1,           1,           1,           1,           1,           1,           1,           1,           1,           1,           1,           1,           1,           1,\n",
       "                  1,           1,           1,           1,           1,           1,           1,           1,           1,           1,           1,           1,           1,           1,           1,           1,      0.9983,      0.9983,      0.9983,      0.9983,      0.9983,      0.9983,      0.9983,\n",
       "             0.9983,      0.9983,      0.9983,      0.9983,      0.9983,      0.9983,      0.9983,      0.9983,      0.9983,      0.9983,      0.9983,      0.9983,      0.9983,      0.9983,      0.9983,      0.9983,      0.9983,      0.9983,      0.9983,      0.9983,      0.9983,      0.9983,      0.9983,\n",
       "             0.9983,      0.9983,      0.9983,      0.9983,      0.9983,      0.9983,      0.9983,      0.9983,      0.9983,      0.9983,      0.9983,      0.9983,      0.9983,      0.9983,      0.9983,      0.9983,      0.9983,      0.9983,      0.9983,      0.9983,      0.9983,      0.9983,      0.9983,\n",
       "             0.9983,      0.9983,      0.9983,      0.9983,      0.9983,      0.9983,      0.9983,      0.9983,      0.9983,      0.9983,      0.9983,      0.9983,      0.9983,      0.9983,      0.9983,      0.9983,      0.9983,      0.9983,      0.9983,      0.9983,      0.9983,      0.9983,      0.9983,\n",
       "             0.9983,      0.9983,      0.9983,      0.9983,      0.9983,      0.9983,      0.9983,      0.9983,      0.9983,      0.9983,      0.9983,      0.9983,      0.9983,      0.9983,      0.9983,      0.9983,      0.9983,      0.9983,      0.9983,      0.9983,      0.9983,      0.9983,      0.9983,\n",
       "             0.9983,      0.9983,      0.9983,      0.9983,      0.9983,      0.9983,      0.9983,      0.9983,      0.9983,      0.9983,      0.9983,      0.9983,      0.9983,      0.9983,      0.9983,      0.9983,      0.9983,      0.9983,      0.9983,      0.9983,      0.9983,      0.9983,      0.9983,\n",
       "             0.9977,      0.9977,      0.9977,      0.9977,      0.9977,      0.9977,      0.9977,      0.9977,      0.9977,      0.9977,      0.9977,      0.9977,      0.9977,      0.9977,      0.9977,      0.9977,      0.9977,      0.9977,      0.9977,      0.9977,      0.9977,      0.9977,      0.9977,\n",
       "             0.9977,      0.9977,      0.9977,      0.9977,      0.9977,      0.9977,      0.9977,      0.9977,      0.9977,      0.9977,      0.9977,      0.9977,      0.9977,      0.9977,      0.9977,      0.9977,      0.9977,      0.9977,      0.9977,      0.9977,      0.9977,      0.9977,      0.9977,\n",
       "             0.9977,      0.9977,      0.9977,      0.9977,      0.9977,      0.9977,      0.9977,      0.9977,      0.9977,      0.9977,      0.9977,      0.9977,      0.9977,      0.9977,      0.9977,      0.9977,      0.9977,      0.9977,      0.9977,      0.9977,      0.9977,      0.9977,      0.9977,\n",
       "             0.9977,      0.9977,      0.9977,      0.9977,      0.9977,      0.9977,      0.9977,      0.9977,      0.9977,      0.9977,      0.9977,      0.9977,      0.9977,      0.9977,      0.9977,      0.9977,      0.9977,      0.9977,      0.9977,      0.9977,      0.9977,      0.9977,      0.9977,\n",
       "             0.9977,      0.9977,      0.9977,      0.9977,      0.9977,      0.9977,      0.9977,      0.9977,     0.99738,     0.99738,     0.99738,     0.99738,     0.99738,     0.99738,     0.99738,     0.99738,     0.99738,     0.99738,     0.99738,     0.99738,     0.99738,     0.99738,     0.99738,\n",
       "            0.99738,     0.99738,     0.99738,     0.99738,     0.99738,     0.99738,     0.99738,     0.99738,     0.99738,     0.99738,     0.99738,     0.99738,     0.99738,     0.99738,     0.99738,     0.99738,     0.99738,     0.99738,     0.99738,     0.99738,     0.99738,     0.99738,     0.99738,\n",
       "            0.99738,     0.99738,     0.99738,     0.99738,     0.99738,     0.99738,     0.99738,     0.99738,     0.99738,     0.99738,     0.99738,     0.99738,     0.99738,     0.99738,     0.99738,     0.99738,     0.99738,     0.99738,     0.99738,     0.99738,     0.99738,     0.99738,     0.99738,\n",
       "            0.99738,     0.99738,     0.99738,     0.99738,     0.99738,     0.99738,     0.99738,     0.99738,     0.99738,     0.99738,     0.99738,     0.99738,     0.99738,     0.99738,     0.99738,     0.99738,     0.99738,     0.99738,     0.99738,     0.99738,     0.99738,     0.99738,     0.99738,\n",
       "            0.99738,     0.99738,     0.99738,     0.99738,     0.99738,     0.99738,     0.99738,     0.99738,     0.99738,     0.99738,     0.99738,     0.99738,     0.99652,     0.99652,      0.9963,      0.9963,      0.9963,      0.9963,      0.9963,      0.9963,      0.9963,      0.9963,      0.9963,\n",
       "             0.9963,      0.9963,      0.9963,      0.9963,      0.9963,      0.9963,      0.9963,      0.9963,      0.9963,      0.9963,      0.9963,      0.9963,      0.9963,      0.9963,      0.9963,      0.9963,      0.9963,      0.9963,      0.9963,      0.9963,      0.9963,      0.9963,      0.9963,\n",
       "             0.9963,      0.9963,      0.9963,      0.9963,      0.9963,      0.9963,      0.9963,      0.9963,      0.9963,      0.9963,      0.9963,      0.9963,      0.9963,      0.9963,      0.9963,      0.9963,      0.9963,      0.9963,      0.9963,      0.9963,      0.9963,      0.9963,      0.9963,\n",
       "             0.9963,      0.9963,      0.9963,      0.9963,      0.9963,      0.9963,      0.9963,      0.9963,      0.9963,      0.9963,      0.9963,      0.9963,      0.9963,      0.9963,      0.9963,     0.99561,     0.99561,     0.99561,     0.99561,     0.99561,     0.99561,     0.99511,     0.99511,\n",
       "            0.99511,     0.99511,     0.99511,     0.99511,     0.99511,     0.99511,     0.99511,     0.99511,     0.99511,     0.99511,     0.99511,     0.99511,     0.99511,     0.99511,     0.99511,     0.99511,     0.99511,     0.99511,     0.99511,     0.99511,     0.99385,     0.99385,     0.99385,\n",
       "            0.99385,     0.99385,     0.99385,     0.99385,     0.99385,     0.99385,     0.99385,     0.99385,      0.9932,      0.9932,     0.99284,     0.99284,     0.99284,     0.99284,     0.99284,     0.99284,     0.99284,     0.99284,     0.99284,     0.99284,     0.99284,     0.99284,     0.99284,\n",
       "            0.99284,     0.99284,     0.99284,     0.99284,     0.99284,     0.99284,     0.99284,     0.99284,     0.99284,     0.99284,     0.99223,     0.99223,     0.99161,     0.99161,     0.99104,     0.99104,     0.99104,     0.99104,     0.99062,     0.99062,     0.99062,     0.99062,     0.99062,\n",
       "            0.99062,     0.99062,     0.99062,     0.99062,     0.99062,     0.99062,     0.99062,     0.99007,     0.99007,     0.99007,     0.99007,     0.99007,     0.98898,     0.98898,     0.98898,     0.98898,     0.98898,     0.98898,     0.98839,      0.9881,      0.9881,      0.9881,      0.9881,\n",
       "             0.9881,      0.9881,      0.9881,      0.9881,      0.9881,      0.9881,      0.9881,      0.9881,      0.9881,      0.9881,      0.9881,     0.98751,     0.98722,     0.98722,     0.98722,     0.98722,     0.98722,     0.98722,     0.98722,     0.98722,     0.98722,     0.98722,     0.98722,\n",
       "            0.98722,     0.98722,     0.98681,     0.98681,     0.98681,     0.98681,     0.98681,     0.98681,     0.98681,     0.98681,     0.98639,     0.98639,     0.98639,     0.98639,     0.98639,     0.98639,     0.98591,     0.98591,     0.98591,     0.98591,     0.98543,     0.98543,     0.98543,\n",
       "            0.98491,     0.98437,     0.98331,      0.9823,      0.9823,      0.9823,     0.98178,     0.98139,     0.98139,     0.98139,     0.98139,     0.98139,     0.98094,     0.98094,     0.98094,     0.98046,     0.98046,        0.98,        0.98,     0.97951,     0.97951,     0.97908,     0.97908,\n",
       "            0.97908,      0.9782,      0.9782,      0.9782,      0.9782,      0.9782,     0.97778,     0.97778,     0.97778,     0.97734,     0.97734,     0.97705,     0.97705,     0.97705,     0.97705,     0.97705,     0.97705,     0.97662,     0.97662,     0.97662,     0.97625,     0.97625,     0.97625,\n",
       "            0.97625,     0.97549,     0.97549,     0.97549,     0.97549,     0.97549,     0.97549,     0.97506,     0.97506,     0.97506,     0.97472,     0.97472,     0.97472,     0.97472,     0.97383,     0.97383,     0.97339,     0.97339,     0.97297,      0.9725,     0.97235,     0.97235,     0.97235,\n",
       "            0.97235,     0.97235,     0.97235,     0.97235,     0.97235,     0.97205,     0.97205,     0.97205,     0.97205,     0.97205,     0.97165,     0.97165,     0.97121,      0.9708,     0.97042,     0.97042,     0.97042,     0.96999,     0.96873,     0.96873,     0.96873,     0.96851,     0.96851,\n",
       "            0.96851,     0.96851,     0.96851,     0.96851,     0.96771,     0.96771,     0.96771,      0.9669,      0.9669,     0.96613,     0.96613,     0.96613,     0.96578,     0.96578,     0.96545,     0.96545,     0.96545,     0.96513,     0.96513,     0.96513,     0.96483,     0.96483,     0.96483,\n",
       "            0.96443,     0.96402,     0.96394,     0.96394,     0.96394,     0.96394,     0.96394,     0.96394,     0.96394,     0.96394,     0.96357,     0.96317,     0.96283,     0.96283,     0.96251,     0.96251,     0.96215,     0.96215,     0.96131,     0.96056,     0.96056,     0.96018,     0.95939,\n",
       "              0.959,     0.95865,      0.9583,      0.9583,     0.95795,     0.95763,     0.95763,     0.95681,     0.95526,     0.95526,     0.95488,     0.95369,     0.95346,     0.95346,     0.95346,     0.95271,     0.95158,     0.95158,     0.95119,     0.95004,     0.94927,     0.94771,     0.94739,\n",
       "             0.9467,      0.9467,     0.94402,     0.94402,     0.94367,     0.94334,     0.94311,     0.94311,     0.94236,     0.94209,     0.94209,     0.94182,     0.94147,     0.94071,     0.93883,     0.93812,     0.93781,     0.93758,     0.93758,     0.93727,     0.93655,     0.93586,     0.93481,\n",
       "            0.93377,     0.93303,     0.93274,     0.93258,     0.93258,     0.93258,      0.9319,     0.93053,     0.93053,     0.92837,     0.92705,     0.92705,     0.92566,     0.92476,     0.92476,     0.92369,     0.92308,     0.92241,      0.9215,      0.9215,      0.9206,      0.9206,      0.9203,\n",
       "            0.91823,     0.91777,     0.91777,     0.91777,     0.91667,     0.91667,     0.91667,     0.91602,      0.9147,     0.91231,     0.91206,     0.91118,     0.91052,     0.90996,     0.90795,      0.9063,     0.90442,     0.90411,     0.90154,     0.90094,     0.90079,     0.90079,     0.90022,\n",
       "            0.90015,     0.90015,     0.89993,     0.89907,     0.89907,     0.89819,     0.89635,      0.8935,     0.89169,     0.89076,     0.88824,     0.88675,     0.88495,     0.88252,     0.88237,     0.88214,     0.88159,     0.88014,     0.87879,     0.87798,     0.87584,     0.87429,     0.87429,\n",
       "            0.87377,     0.87241,     0.87188,     0.87045,     0.86972,     0.86946,     0.86929,     0.86646,       0.866,     0.86549,     0.86354,     0.86275,     0.85792,     0.85602,     0.85525,     0.85395,     0.85064,     0.84902,     0.84775,     0.84677,     0.84382,     0.84258,     0.84162,\n",
       "            0.83983,     0.83827,     0.83432,     0.83122,     0.82955,     0.82939,     0.82495,     0.82274,     0.82133,     0.81914,     0.81104,     0.80589,       0.804,     0.79802,     0.79673,     0.79052,      0.7871,     0.77808,     0.77519,     0.77269,      0.7678,     0.76104,     0.75529,\n",
       "            0.75245,     0.74849,     0.74764,     0.74594,     0.74172,     0.73963,     0.73674,     0.73175,     0.72652,     0.72475,     0.72239,     0.71888,     0.71735,     0.71622,     0.70719,     0.70106,     0.69614,     0.69041,     0.68904,     0.68742,     0.68185,     0.68157,     0.67322,\n",
       "            0.66758,     0.66501,     0.66452,     0.65824,     0.64612,     0.64529,     0.63956,     0.63725,     0.63115,     0.62797,     0.62683,     0.62184,     0.61523,     0.60613,     0.59513,     0.59086,     0.58189,     0.57636,     0.57347,     0.56694,     0.56175,     0.53748,     0.53045,\n",
       "            0.51379,     0.50479,     0.48549,     0.47906,     0.46776,     0.45693,     0.44914,     0.43372,     0.41246,     0.39664,     0.38443,      0.3695,     0.35828,     0.35211,     0.32841,     0.31717,     0.28667,     0.27244,     0.25013,     0.23929,     0.21884,     0.19872,     0.18973,\n",
       "            0.17511,     0.16158,     0.14282,     0.12532,     0.10311,    0.085927,    0.068741,    0.051556,    0.034371,    0.017185,           0]]), 'Recall', 'Precision'], [array([          0,    0.001001,    0.002002,    0.003003,    0.004004,    0.005005,    0.006006,    0.007007,    0.008008,    0.009009,     0.01001,    0.011011,    0.012012,    0.013013,    0.014014,    0.015015,    0.016016,    0.017017,    0.018018,    0.019019,     0.02002,    0.021021,    0.022022,    0.023023,\n",
       "          0.024024,    0.025025,    0.026026,    0.027027,    0.028028,    0.029029,     0.03003,    0.031031,    0.032032,    0.033033,    0.034034,    0.035035,    0.036036,    0.037037,    0.038038,    0.039039,     0.04004,    0.041041,    0.042042,    0.043043,    0.044044,    0.045045,    0.046046,    0.047047,\n",
       "          0.048048,    0.049049,     0.05005,    0.051051,    0.052052,    0.053053,    0.054054,    0.055055,    0.056056,    0.057057,    0.058058,    0.059059,     0.06006,    0.061061,    0.062062,    0.063063,    0.064064,    0.065065,    0.066066,    0.067067,    0.068068,    0.069069,     0.07007,    0.071071,\n",
       "          0.072072,    0.073073,    0.074074,    0.075075,    0.076076,    0.077077,    0.078078,    0.079079,     0.08008,    0.081081,    0.082082,    0.083083,    0.084084,    0.085085,    0.086086,    0.087087,    0.088088,    0.089089,     0.09009,    0.091091,    0.092092,    0.093093,    0.094094,    0.095095,\n",
       "          0.096096,    0.097097,    0.098098,    0.099099,      0.1001,      0.1011,      0.1021,      0.1031,      0.1041,     0.10511,     0.10611,     0.10711,     0.10811,     0.10911,     0.11011,     0.11111,     0.11211,     0.11311,     0.11411,     0.11512,     0.11612,     0.11712,     0.11812,     0.11912,\n",
       "           0.12012,     0.12112,     0.12212,     0.12312,     0.12412,     0.12513,     0.12613,     0.12713,     0.12813,     0.12913,     0.13013,     0.13113,     0.13213,     0.13313,     0.13413,     0.13514,     0.13614,     0.13714,     0.13814,     0.13914,     0.14014,     0.14114,     0.14214,     0.14314,\n",
       "           0.14414,     0.14515,     0.14615,     0.14715,     0.14815,     0.14915,     0.15015,     0.15115,     0.15215,     0.15315,     0.15415,     0.15516,     0.15616,     0.15716,     0.15816,     0.15916,     0.16016,     0.16116,     0.16216,     0.16316,     0.16416,     0.16517,     0.16617,     0.16717,\n",
       "           0.16817,     0.16917,     0.17017,     0.17117,     0.17217,     0.17317,     0.17417,     0.17518,     0.17618,     0.17718,     0.17818,     0.17918,     0.18018,     0.18118,     0.18218,     0.18318,     0.18418,     0.18519,     0.18619,     0.18719,     0.18819,     0.18919,     0.19019,     0.19119,\n",
       "           0.19219,     0.19319,     0.19419,      0.1952,      0.1962,      0.1972,      0.1982,      0.1992,      0.2002,      0.2012,      0.2022,      0.2032,      0.2042,     0.20521,     0.20621,     0.20721,     0.20821,     0.20921,     0.21021,     0.21121,     0.21221,     0.21321,     0.21421,     0.21522,\n",
       "           0.21622,     0.21722,     0.21822,     0.21922,     0.22022,     0.22122,     0.22222,     0.22322,     0.22422,     0.22523,     0.22623,     0.22723,     0.22823,     0.22923,     0.23023,     0.23123,     0.23223,     0.23323,     0.23423,     0.23524,     0.23624,     0.23724,     0.23824,     0.23924,\n",
       "           0.24024,     0.24124,     0.24224,     0.24324,     0.24424,     0.24525,     0.24625,     0.24725,     0.24825,     0.24925,     0.25025,     0.25125,     0.25225,     0.25325,     0.25425,     0.25526,     0.25626,     0.25726,     0.25826,     0.25926,     0.26026,     0.26126,     0.26226,     0.26326,\n",
       "           0.26426,     0.26527,     0.26627,     0.26727,     0.26827,     0.26927,     0.27027,     0.27127,     0.27227,     0.27327,     0.27427,     0.27528,     0.27628,     0.27728,     0.27828,     0.27928,     0.28028,     0.28128,     0.28228,     0.28328,     0.28428,     0.28529,     0.28629,     0.28729,\n",
       "           0.28829,     0.28929,     0.29029,     0.29129,     0.29229,     0.29329,     0.29429,      0.2953,      0.2963,      0.2973,      0.2983,      0.2993,      0.3003,      0.3013,      0.3023,      0.3033,      0.3043,     0.30531,     0.30631,     0.30731,     0.30831,     0.30931,     0.31031,     0.31131,\n",
       "           0.31231,     0.31331,     0.31431,     0.31532,     0.31632,     0.31732,     0.31832,     0.31932,     0.32032,     0.32132,     0.32232,     0.32332,     0.32432,     0.32533,     0.32633,     0.32733,     0.32833,     0.32933,     0.33033,     0.33133,     0.33233,     0.33333,     0.33433,     0.33534,\n",
       "           0.33634,     0.33734,     0.33834,     0.33934,     0.34034,     0.34134,     0.34234,     0.34334,     0.34434,     0.34535,     0.34635,     0.34735,     0.34835,     0.34935,     0.35035,     0.35135,     0.35235,     0.35335,     0.35435,     0.35536,     0.35636,     0.35736,     0.35836,     0.35936,\n",
       "           0.36036,     0.36136,     0.36236,     0.36336,     0.36436,     0.36537,     0.36637,     0.36737,     0.36837,     0.36937,     0.37037,     0.37137,     0.37237,     0.37337,     0.37437,     0.37538,     0.37638,     0.37738,     0.37838,     0.37938,     0.38038,     0.38138,     0.38238,     0.38338,\n",
       "           0.38438,     0.38539,     0.38639,     0.38739,     0.38839,     0.38939,     0.39039,     0.39139,     0.39239,     0.39339,     0.39439,      0.3954,      0.3964,      0.3974,      0.3984,      0.3994,      0.4004,      0.4014,      0.4024,      0.4034,      0.4044,     0.40541,     0.40641,     0.40741,\n",
       "           0.40841,     0.40941,     0.41041,     0.41141,     0.41241,     0.41341,     0.41441,     0.41542,     0.41642,     0.41742,     0.41842,     0.41942,     0.42042,     0.42142,     0.42242,     0.42342,     0.42442,     0.42543,     0.42643,     0.42743,     0.42843,     0.42943,     0.43043,     0.43143,\n",
       "           0.43243,     0.43343,     0.43443,     0.43544,     0.43644,     0.43744,     0.43844,     0.43944,     0.44044,     0.44144,     0.44244,     0.44344,     0.44444,     0.44545,     0.44645,     0.44745,     0.44845,     0.44945,     0.45045,     0.45145,     0.45245,     0.45345,     0.45445,     0.45546,\n",
       "           0.45646,     0.45746,     0.45846,     0.45946,     0.46046,     0.46146,     0.46246,     0.46346,     0.46446,     0.46547,     0.46647,     0.46747,     0.46847,     0.46947,     0.47047,     0.47147,     0.47247,     0.47347,     0.47447,     0.47548,     0.47648,     0.47748,     0.47848,     0.47948,\n",
       "           0.48048,     0.48148,     0.48248,     0.48348,     0.48448,     0.48549,     0.48649,     0.48749,     0.48849,     0.48949,     0.49049,     0.49149,     0.49249,     0.49349,     0.49449,      0.4955,      0.4965,      0.4975,      0.4985,      0.4995,      0.5005,      0.5015,      0.5025,      0.5035,\n",
       "            0.5045,     0.50551,     0.50651,     0.50751,     0.50851,     0.50951,     0.51051,     0.51151,     0.51251,     0.51351,     0.51451,     0.51552,     0.51652,     0.51752,     0.51852,     0.51952,     0.52052,     0.52152,     0.52252,     0.52352,     0.52452,     0.52553,     0.52653,     0.52753,\n",
       "           0.52853,     0.52953,     0.53053,     0.53153,     0.53253,     0.53353,     0.53453,     0.53554,     0.53654,     0.53754,     0.53854,     0.53954,     0.54054,     0.54154,     0.54254,     0.54354,     0.54454,     0.54555,     0.54655,     0.54755,     0.54855,     0.54955,     0.55055,     0.55155,\n",
       "           0.55255,     0.55355,     0.55455,     0.55556,     0.55656,     0.55756,     0.55856,     0.55956,     0.56056,     0.56156,     0.56256,     0.56356,     0.56456,     0.56557,     0.56657,     0.56757,     0.56857,     0.56957,     0.57057,     0.57157,     0.57257,     0.57357,     0.57457,     0.57558,\n",
       "           0.57658,     0.57758,     0.57858,     0.57958,     0.58058,     0.58158,     0.58258,     0.58358,     0.58458,     0.58559,     0.58659,     0.58759,     0.58859,     0.58959,     0.59059,     0.59159,     0.59259,     0.59359,     0.59459,      0.5956,      0.5966,      0.5976,      0.5986,      0.5996,\n",
       "            0.6006,      0.6016,      0.6026,      0.6036,      0.6046,     0.60561,     0.60661,     0.60761,     0.60861,     0.60961,     0.61061,     0.61161,     0.61261,     0.61361,     0.61461,     0.61562,     0.61662,     0.61762,     0.61862,     0.61962,     0.62062,     0.62162,     0.62262,     0.62362,\n",
       "           0.62462,     0.62563,     0.62663,     0.62763,     0.62863,     0.62963,     0.63063,     0.63163,     0.63263,     0.63363,     0.63463,     0.63564,     0.63664,     0.63764,     0.63864,     0.63964,     0.64064,     0.64164,     0.64264,     0.64364,     0.64464,     0.64565,     0.64665,     0.64765,\n",
       "           0.64865,     0.64965,     0.65065,     0.65165,     0.65265,     0.65365,     0.65465,     0.65566,     0.65666,     0.65766,     0.65866,     0.65966,     0.66066,     0.66166,     0.66266,     0.66366,     0.66466,     0.66567,     0.66667,     0.66767,     0.66867,     0.66967,     0.67067,     0.67167,\n",
       "           0.67267,     0.67367,     0.67467,     0.67568,     0.67668,     0.67768,     0.67868,     0.67968,     0.68068,     0.68168,     0.68268,     0.68368,     0.68468,     0.68569,     0.68669,     0.68769,     0.68869,     0.68969,     0.69069,     0.69169,     0.69269,     0.69369,     0.69469,      0.6957,\n",
       "            0.6967,      0.6977,      0.6987,      0.6997,      0.7007,      0.7017,      0.7027,      0.7037,      0.7047,     0.70571,     0.70671,     0.70771,     0.70871,     0.70971,     0.71071,     0.71171,     0.71271,     0.71371,     0.71471,     0.71572,     0.71672,     0.71772,     0.71872,     0.71972,\n",
       "           0.72072,     0.72172,     0.72272,     0.72372,     0.72472,     0.72573,     0.72673,     0.72773,     0.72873,     0.72973,     0.73073,     0.73173,     0.73273,     0.73373,     0.73473,     0.73574,     0.73674,     0.73774,     0.73874,     0.73974,     0.74074,     0.74174,     0.74274,     0.74374,\n",
       "           0.74474,     0.74575,     0.74675,     0.74775,     0.74875,     0.74975,     0.75075,     0.75175,     0.75275,     0.75375,     0.75475,     0.75576,     0.75676,     0.75776,     0.75876,     0.75976,     0.76076,     0.76176,     0.76276,     0.76376,     0.76476,     0.76577,     0.76677,     0.76777,\n",
       "           0.76877,     0.76977,     0.77077,     0.77177,     0.77277,     0.77377,     0.77477,     0.77578,     0.77678,     0.77778,     0.77878,     0.77978,     0.78078,     0.78178,     0.78278,     0.78378,     0.78478,     0.78579,     0.78679,     0.78779,     0.78879,     0.78979,     0.79079,     0.79179,\n",
       "           0.79279,     0.79379,     0.79479,      0.7958,      0.7968,      0.7978,      0.7988,      0.7998,      0.8008,      0.8018,      0.8028,      0.8038,      0.8048,     0.80581,     0.80681,     0.80781,     0.80881,     0.80981,     0.81081,     0.81181,     0.81281,     0.81381,     0.81481,     0.81582,\n",
       "           0.81682,     0.81782,     0.81882,     0.81982,     0.82082,     0.82182,     0.82282,     0.82382,     0.82482,     0.82583,     0.82683,     0.82783,     0.82883,     0.82983,     0.83083,     0.83183,     0.83283,     0.83383,     0.83483,     0.83584,     0.83684,     0.83784,     0.83884,     0.83984,\n",
       "           0.84084,     0.84184,     0.84284,     0.84384,     0.84484,     0.84585,     0.84685,     0.84785,     0.84885,     0.84985,     0.85085,     0.85185,     0.85285,     0.85385,     0.85485,     0.85586,     0.85686,     0.85786,     0.85886,     0.85986,     0.86086,     0.86186,     0.86286,     0.86386,\n",
       "           0.86486,     0.86587,     0.86687,     0.86787,     0.86887,     0.86987,     0.87087,     0.87187,     0.87287,     0.87387,     0.87487,     0.87588,     0.87688,     0.87788,     0.87888,     0.87988,     0.88088,     0.88188,     0.88288,     0.88388,     0.88488,     0.88589,     0.88689,     0.88789,\n",
       "           0.88889,     0.88989,     0.89089,     0.89189,     0.89289,     0.89389,     0.89489,      0.8959,      0.8969,      0.8979,      0.8989,      0.8999,      0.9009,      0.9019,      0.9029,      0.9039,      0.9049,     0.90591,     0.90691,     0.90791,     0.90891,     0.90991,     0.91091,     0.91191,\n",
       "           0.91291,     0.91391,     0.91491,     0.91592,     0.91692,     0.91792,     0.91892,     0.91992,     0.92092,     0.92192,     0.92292,     0.92392,     0.92492,     0.92593,     0.92693,     0.92793,     0.92893,     0.92993,     0.93093,     0.93193,     0.93293,     0.93393,     0.93493,     0.93594,\n",
       "           0.93694,     0.93794,     0.93894,     0.93994,     0.94094,     0.94194,     0.94294,     0.94394,     0.94494,     0.94595,     0.94695,     0.94795,     0.94895,     0.94995,     0.95095,     0.95195,     0.95295,     0.95395,     0.95495,     0.95596,     0.95696,     0.95796,     0.95896,     0.95996,\n",
       "           0.96096,     0.96196,     0.96296,     0.96396,     0.96496,     0.96597,     0.96697,     0.96797,     0.96897,     0.96997,     0.97097,     0.97197,     0.97297,     0.97397,     0.97497,     0.97598,     0.97698,     0.97798,     0.97898,     0.97998,     0.98098,     0.98198,     0.98298,     0.98398,\n",
       "           0.98498,     0.98599,     0.98699,     0.98799,     0.98899,     0.98999,     0.99099,     0.99199,     0.99299,     0.99399,     0.99499,       0.996,       0.997,       0.998,       0.999,           1]), array([[    0.20649,     0.20649,     0.26232,     0.30037,     0.32875,     0.35224,     0.37135,     0.38877,     0.40509,      0.4196,     0.43267,     0.44535,     0.45654,     0.46645,     0.47693,     0.48647,     0.49518,     0.50384,     0.51308,     0.52003,     0.52661,      0.5347,     0.54103,\n",
       "            0.54653,     0.55297,      0.5599,     0.56636,     0.57251,     0.57799,     0.58227,     0.58713,     0.59163,     0.59627,     0.60198,     0.60699,     0.61126,     0.61612,     0.62021,     0.62488,     0.62811,     0.63277,     0.63733,      0.6408,     0.64429,     0.64817,     0.65203,\n",
       "            0.65655,     0.65949,     0.66265,     0.66611,     0.66936,     0.67253,     0.67607,     0.67929,      0.6826,     0.68526,     0.68878,     0.69156,     0.69427,      0.6971,      0.6998,     0.70204,     0.70523,     0.70801,     0.71064,      0.7128,     0.71575,     0.71712,     0.72023,\n",
       "            0.72269,     0.72441,     0.72614,     0.72758,     0.73054,     0.73226,     0.73411,     0.73566,     0.73798,     0.74112,     0.74255,     0.74406,     0.74595,     0.74819,     0.75017,     0.75149,     0.75303,     0.75368,     0.75626,     0.75688,     0.75889,     0.76016,     0.76161,\n",
       "             0.7635,     0.76462,     0.76703,      0.7673,     0.76834,      0.7699,     0.77114,     0.77256,     0.77378,     0.77521,     0.77653,     0.77832,      0.7794,     0.78036,     0.78056,     0.78179,     0.78234,     0.78396,     0.78564,     0.78617,     0.78744,     0.78945,     0.79075,\n",
       "            0.79076,     0.79178,     0.79289,     0.79431,     0.79466,     0.79539,     0.79567,     0.79699,     0.79816,     0.79871,      0.7997,     0.80059,     0.80161,     0.80262,     0.80339,     0.80385,     0.80478,     0.80537,     0.80627,     0.80722,     0.80768,       0.809,     0.80987,\n",
       "            0.81028,     0.81117,     0.81156,     0.81168,     0.81188,     0.81257,     0.81332,     0.81461,     0.81544,     0.81566,      0.8168,     0.81726,     0.81823,     0.81938,     0.81989,     0.82046,     0.82105,      0.8219,      0.8221,     0.82243,     0.82293,     0.82339,     0.82454,\n",
       "            0.82512,     0.82552,     0.82565,     0.82605,     0.82618,     0.82643,     0.82693,     0.82751,     0.82814,     0.82854,     0.82957,     0.82971,     0.83032,     0.83064,      0.8315,     0.83251,     0.83229,     0.83315,     0.83392,     0.83456,       0.835,     0.83591,     0.83676,\n",
       "            0.83738,     0.83784,     0.83826,     0.83857,     0.83895,     0.83965,     0.83959,     0.84004,     0.84098,     0.84134,     0.84211,     0.84288,     0.84374,     0.84438,     0.84494,     0.84544,     0.84581,      0.8458,     0.84666,     0.84751,     0.84802,     0.84852,       0.849,\n",
       "            0.84946,     0.84983,     0.85045,      0.8503,     0.85043,     0.85086,     0.85107,     0.85197,     0.85208,     0.85289,      0.8533,     0.85386,     0.85413,     0.85411,     0.85446,     0.85509,     0.85587,     0.85652,     0.85673,     0.85741,     0.85777,      0.8584,     0.85861,\n",
       "            0.85939,     0.86012,     0.86077,     0.86081,     0.86128,     0.86139,     0.86159,     0.86148,     0.86192,     0.86241,     0.86275,     0.86245,      0.8627,     0.86301,     0.86311,      0.8635,     0.86364,     0.86413,     0.86439,     0.86422,      0.8645,     0.86467,     0.86466,\n",
       "            0.86477,     0.86527,     0.86577,     0.86616,     0.86666,     0.86716,     0.86746,     0.86728,     0.86777,     0.86793,     0.86775,     0.86805,      0.8683,     0.86817,     0.86838,     0.86866,     0.86915,     0.86927,     0.86956,     0.86943,     0.86956,     0.86962,     0.86991,\n",
       "            0.86998,     0.87025,      0.8704,     0.87053,     0.87064,     0.87093,     0.87092,     0.87103,     0.87116,     0.87135,     0.87174,     0.87165,     0.87161,     0.87168,     0.87151,     0.87172,     0.87173,     0.87205,     0.87211,     0.87258,     0.87267,     0.87299,     0.87314,\n",
       "            0.87335,     0.87368,     0.87367,     0.87384,     0.87416,     0.87405,     0.87401,     0.87406,     0.87394,     0.87444,     0.87469,     0.87457,     0.87453,     0.87433,     0.87412,     0.87473,     0.87472,     0.87504,     0.87471,      0.8746,     0.87423,     0.87424,     0.87445,\n",
       "            0.87421,     0.87409,     0.87433,     0.87421,      0.8742,     0.87433,     0.87411,     0.87366,     0.87361,     0.87417,      0.8739,     0.87387,     0.87453,     0.87469,     0.87469,     0.87443,     0.87447,     0.87464,     0.87423,      0.8744,     0.87435,     0.87412,     0.87417,\n",
       "            0.87423,     0.87434,     0.87462,     0.87455,     0.87445,      0.8742,     0.87435,     0.87356,     0.87365,     0.87368,     0.87361,     0.87353,     0.87341,     0.87376,     0.87408,     0.87415,     0.87431,     0.87458,      0.8746,     0.87449,     0.87476,     0.87504,      0.8757,\n",
       "            0.87567,     0.87579,     0.87549,      0.8757,     0.87589,     0.87577,     0.87582,     0.87598,      0.8761,     0.87629,     0.87662,     0.87654,     0.87678,     0.87649,     0.87681,     0.87701,     0.87712,     0.87695,     0.87683,     0.87681,     0.87639,     0.87657,       0.876,\n",
       "            0.87574,     0.87512,     0.87429,     0.87456,      0.8739,     0.87364,     0.87334,     0.87393,     0.87392,     0.87388,     0.87388,     0.87371,     0.87389,     0.87395,     0.87384,     0.87392,     0.87427,     0.87436,     0.87419,     0.87429,     0.87437,     0.87445,     0.87453,\n",
       "            0.87482,     0.87457,     0.87431,     0.87428,     0.87433,     0.87439,     0.87415,     0.87369,     0.87359,     0.87349,     0.87348,     0.87364,     0.87407,     0.87408,     0.87404,     0.87426,     0.87415,     0.87418,     0.87387,     0.87404,     0.87365,       0.873,     0.87259,\n",
       "            0.87249,     0.87266,     0.87234,     0.87192,      0.8715,     0.87158,     0.87144,     0.87118,     0.87129,     0.87157,     0.87169,     0.87139,     0.87128,      0.8706,     0.87071,     0.87065,     0.87045,     0.87032,     0.86991,     0.86963,      0.8698,     0.86974,     0.86969,\n",
       "            0.86926,      0.8692,     0.86915,     0.86916,     0.86949,      0.8692,     0.86835,     0.86839,     0.86845,     0.86851,     0.86847,     0.86829,     0.86854,     0.86818,     0.86786,     0.86769,      0.8678,     0.86794,     0.86805,     0.86838,     0.86765,     0.86797,     0.86786,\n",
       "            0.86711,     0.86647,     0.86603,     0.86576,     0.86551,      0.8654,     0.86552,     0.86537,     0.86494,     0.86521,     0.86499,      0.8649,     0.86487,     0.86481,     0.86455,     0.86454,     0.86448,     0.86416,     0.86392,     0.86388,     0.86344,       0.863,     0.86229,\n",
       "            0.86196,     0.86195,     0.86185,     0.86195,     0.86219,     0.86195,     0.86146,     0.86112,     0.86105,     0.86094,     0.86029,      0.8602,     0.85994,     0.86011,     0.85857,     0.85851,     0.85801,     0.85782,     0.85728,       0.857,     0.85684,     0.85754,     0.85696,\n",
       "            0.85706,     0.85695,     0.85697,      0.8563,     0.85624,     0.85615,     0.85615,      0.8561,     0.85588,       0.856,     0.85576,     0.85564,     0.85525,     0.85514,     0.85479,     0.85452,     0.85377,     0.85331,     0.85264,     0.85257,     0.85235,     0.85217,      0.8521,\n",
       "            0.85165,     0.85101,     0.85118,     0.85135,     0.85117,     0.85071,     0.85019,     0.84973,     0.84948,     0.84944,     0.84875,     0.84846,       0.848,     0.84772,      0.8476,     0.84741,     0.84717,     0.84705,     0.84659,     0.84607,     0.84554,     0.84558,     0.84552,\n",
       "            0.84534,     0.84511,     0.84458,     0.84412,     0.84342,     0.84244,     0.84161,     0.84103,     0.84073,     0.84026,     0.84003,     0.83979,     0.83955,     0.83862,     0.83815,     0.83722,     0.83698,     0.83598,     0.83574,      0.8353,     0.83518,     0.83454,      0.8336,\n",
       "            0.83331,     0.83211,     0.83161,     0.83086,     0.82984,      0.8292,     0.82908,     0.82858,     0.82739,      0.8268,     0.82688,     0.82616,     0.82592,     0.82555,      0.8256,     0.82505,      0.8248,     0.82456,     0.82407,     0.82399,     0.82387,     0.82356,     0.82188,\n",
       "             0.8218,     0.82171,      0.8209,     0.82038,     0.81949,     0.81837,     0.81781,     0.81725,     0.81676,     0.81643,      0.8157,     0.81514,     0.81444,     0.81395,     0.81314,     0.81289,     0.81228,     0.81153,     0.81079,     0.81022,      0.8085,     0.80837,     0.80797,\n",
       "            0.80761,     0.80711,     0.80612,     0.80537,     0.80504,     0.80394,      0.8035,     0.80217,     0.80183,     0.80166,     0.80087,     0.79986,     0.79863,     0.79851,     0.79754,     0.79729,     0.79703,     0.79677,     0.79513,     0.79411,      0.7931,     0.79317,     0.79135,\n",
       "            0.79049,      0.7904,     0.78912,     0.78839,      0.7871,     0.78658,     0.78572,     0.78542,     0.78429,     0.78411,     0.78389,     0.78286,      0.7825,     0.78098,      0.7789,     0.77837,     0.77764,     0.77736,     0.77726,     0.77653,     0.77537,     0.77492,     0.77454,\n",
       "            0.77311,     0.77294,     0.77281,     0.77169,     0.77171,     0.77081,     0.77051,     0.76829,     0.76788,     0.76761,     0.76641,     0.76552,     0.76538,     0.76372,     0.76291,     0.76199,     0.76182,     0.76149,     0.76006,     0.75978,     0.75765,     0.75564,     0.75501,\n",
       "            0.75305,     0.75249,     0.74951,     0.74774,     0.74661,     0.74567,     0.74497,     0.74413,     0.74316,     0.74119,     0.73968,     0.73855,     0.73673,     0.73612,     0.73578,     0.73511,     0.73496,      0.7333,     0.73267,     0.73054,     0.72987,     0.72926,     0.72783,\n",
       "            0.72626,     0.72556,     0.72439,     0.72285,     0.72156,     0.72096,     0.71849,     0.71839,     0.71609,     0.71546,     0.71506,      0.7142,     0.71305,     0.71285,     0.71214,     0.71088,     0.71052,     0.70802,     0.70673,     0.70639,     0.70422,      0.7033,     0.70064,\n",
       "            0.69975,     0.69692,     0.69437,     0.69241,     0.69027,     0.68817,     0.68727,     0.68706,     0.68633,     0.68565,     0.68388,     0.68318,     0.68066,     0.67851,     0.67747,     0.67649,     0.67513,     0.67385,      0.6726,     0.67135,     0.66823,     0.66697,     0.66618,\n",
       "            0.66537,     0.66334,     0.66125,     0.66049,      0.6571,     0.65412,     0.65324,     0.65154,     0.64872,     0.64718,       0.644,     0.64311,     0.64087,     0.63854,     0.63495,     0.62881,     0.62765,      0.6248,     0.62228,     0.61623,     0.61451,      0.6111,     0.61027,\n",
       "              0.608,     0.60427,     0.60282,     0.59866,     0.59821,      0.5955,      0.5921,     0.58953,      0.5867,     0.58222,     0.58065,     0.57672,     0.57378,     0.57159,     0.56688,     0.56141,     0.55809,     0.55403,     0.55068,     0.54978,     0.54357,      0.5398,     0.53608,\n",
       "            0.53448,     0.53294,     0.53026,     0.52412,     0.52133,     0.51829,     0.51439,     0.51242,     0.50848,     0.50352,     0.50214,     0.49855,     0.49294,     0.48809,     0.48159,     0.47872,     0.47378,     0.46859,     0.46477,       0.461,     0.45384,     0.44969,     0.44701,\n",
       "            0.44101,     0.43841,     0.43537,     0.42884,     0.42314,     0.41915,     0.41471,     0.41158,     0.40529,     0.39488,      0.3903,     0.38431,     0.37966,     0.37499,     0.36607,     0.36321,     0.35606,     0.34789,     0.34071,     0.33728,     0.33039,     0.32295,     0.31844,\n",
       "             0.3119,     0.30683,     0.29765,     0.29352,     0.28522,     0.27317,     0.26415,     0.25396,     0.24799,     0.24394,     0.22716,     0.22262,     0.21587,     0.20624,      0.1926,     0.18955,     0.18242,     0.17373,     0.16542,     0.15823,     0.15397,     0.14215,     0.13821,\n",
       "            0.12613,     0.12022,      0.1133,    0.099333,    0.092257,    0.081234,    0.074022,    0.070131,    0.066722,     0.06073,      0.0585,    0.050648,    0.045397,    0.043846,    0.039272,    0.036996,    0.032186,    0.030696,    0.029308,     0.02522,    0.022426,    0.019625,    0.018896,\n",
       "            0.01539,    0.014345,    0.013299,    0.012823,   0.0097988,   0.0094402,   0.0090208,   0.0077102,   0.0075505,   0.0073907,    0.007231,   0.0070712,   0.0062245,   0.0058646,   0.0055046,   0.0051445,   0.0046353,   0.0035987,   0.0026551,   0.0022939,   0.0013787,           0,           0,\n",
       "                  0,           0,           0,           0,           0,           0,           0,           0,           0,           0,           0,           0,           0,           0,           0,           0,           0,           0,           0,           0,           0,           0,           0,\n",
       "                  0,           0,           0,           0,           0,           0,           0,           0,           0,           0,           0,           0,           0,           0,           0,           0,           0,           0,           0,           0,           0,           0,           0,\n",
       "                  0,           0,           0,           0,           0,           0,           0,           0,           0,           0,           0]]), 'Confidence', 'F1'], [array([          0,    0.001001,    0.002002,    0.003003,    0.004004,    0.005005,    0.006006,    0.007007,    0.008008,    0.009009,     0.01001,    0.011011,    0.012012,    0.013013,    0.014014,    0.015015,    0.016016,    0.017017,    0.018018,    0.019019,     0.02002,    0.021021,    0.022022,    0.023023,\n",
       "          0.024024,    0.025025,    0.026026,    0.027027,    0.028028,    0.029029,     0.03003,    0.031031,    0.032032,    0.033033,    0.034034,    0.035035,    0.036036,    0.037037,    0.038038,    0.039039,     0.04004,    0.041041,    0.042042,    0.043043,    0.044044,    0.045045,    0.046046,    0.047047,\n",
       "          0.048048,    0.049049,     0.05005,    0.051051,    0.052052,    0.053053,    0.054054,    0.055055,    0.056056,    0.057057,    0.058058,    0.059059,     0.06006,    0.061061,    0.062062,    0.063063,    0.064064,    0.065065,    0.066066,    0.067067,    0.068068,    0.069069,     0.07007,    0.071071,\n",
       "          0.072072,    0.073073,    0.074074,    0.075075,    0.076076,    0.077077,    0.078078,    0.079079,     0.08008,    0.081081,    0.082082,    0.083083,    0.084084,    0.085085,    0.086086,    0.087087,    0.088088,    0.089089,     0.09009,    0.091091,    0.092092,    0.093093,    0.094094,    0.095095,\n",
       "          0.096096,    0.097097,    0.098098,    0.099099,      0.1001,      0.1011,      0.1021,      0.1031,      0.1041,     0.10511,     0.10611,     0.10711,     0.10811,     0.10911,     0.11011,     0.11111,     0.11211,     0.11311,     0.11411,     0.11512,     0.11612,     0.11712,     0.11812,     0.11912,\n",
       "           0.12012,     0.12112,     0.12212,     0.12312,     0.12412,     0.12513,     0.12613,     0.12713,     0.12813,     0.12913,     0.13013,     0.13113,     0.13213,     0.13313,     0.13413,     0.13514,     0.13614,     0.13714,     0.13814,     0.13914,     0.14014,     0.14114,     0.14214,     0.14314,\n",
       "           0.14414,     0.14515,     0.14615,     0.14715,     0.14815,     0.14915,     0.15015,     0.15115,     0.15215,     0.15315,     0.15415,     0.15516,     0.15616,     0.15716,     0.15816,     0.15916,     0.16016,     0.16116,     0.16216,     0.16316,     0.16416,     0.16517,     0.16617,     0.16717,\n",
       "           0.16817,     0.16917,     0.17017,     0.17117,     0.17217,     0.17317,     0.17417,     0.17518,     0.17618,     0.17718,     0.17818,     0.17918,     0.18018,     0.18118,     0.18218,     0.18318,     0.18418,     0.18519,     0.18619,     0.18719,     0.18819,     0.18919,     0.19019,     0.19119,\n",
       "           0.19219,     0.19319,     0.19419,      0.1952,      0.1962,      0.1972,      0.1982,      0.1992,      0.2002,      0.2012,      0.2022,      0.2032,      0.2042,     0.20521,     0.20621,     0.20721,     0.20821,     0.20921,     0.21021,     0.21121,     0.21221,     0.21321,     0.21421,     0.21522,\n",
       "           0.21622,     0.21722,     0.21822,     0.21922,     0.22022,     0.22122,     0.22222,     0.22322,     0.22422,     0.22523,     0.22623,     0.22723,     0.22823,     0.22923,     0.23023,     0.23123,     0.23223,     0.23323,     0.23423,     0.23524,     0.23624,     0.23724,     0.23824,     0.23924,\n",
       "           0.24024,     0.24124,     0.24224,     0.24324,     0.24424,     0.24525,     0.24625,     0.24725,     0.24825,     0.24925,     0.25025,     0.25125,     0.25225,     0.25325,     0.25425,     0.25526,     0.25626,     0.25726,     0.25826,     0.25926,     0.26026,     0.26126,     0.26226,     0.26326,\n",
       "           0.26426,     0.26527,     0.26627,     0.26727,     0.26827,     0.26927,     0.27027,     0.27127,     0.27227,     0.27327,     0.27427,     0.27528,     0.27628,     0.27728,     0.27828,     0.27928,     0.28028,     0.28128,     0.28228,     0.28328,     0.28428,     0.28529,     0.28629,     0.28729,\n",
       "           0.28829,     0.28929,     0.29029,     0.29129,     0.29229,     0.29329,     0.29429,      0.2953,      0.2963,      0.2973,      0.2983,      0.2993,      0.3003,      0.3013,      0.3023,      0.3033,      0.3043,     0.30531,     0.30631,     0.30731,     0.30831,     0.30931,     0.31031,     0.31131,\n",
       "           0.31231,     0.31331,     0.31431,     0.31532,     0.31632,     0.31732,     0.31832,     0.31932,     0.32032,     0.32132,     0.32232,     0.32332,     0.32432,     0.32533,     0.32633,     0.32733,     0.32833,     0.32933,     0.33033,     0.33133,     0.33233,     0.33333,     0.33433,     0.33534,\n",
       "           0.33634,     0.33734,     0.33834,     0.33934,     0.34034,     0.34134,     0.34234,     0.34334,     0.34434,     0.34535,     0.34635,     0.34735,     0.34835,     0.34935,     0.35035,     0.35135,     0.35235,     0.35335,     0.35435,     0.35536,     0.35636,     0.35736,     0.35836,     0.35936,\n",
       "           0.36036,     0.36136,     0.36236,     0.36336,     0.36436,     0.36537,     0.36637,     0.36737,     0.36837,     0.36937,     0.37037,     0.37137,     0.37237,     0.37337,     0.37437,     0.37538,     0.37638,     0.37738,     0.37838,     0.37938,     0.38038,     0.38138,     0.38238,     0.38338,\n",
       "           0.38438,     0.38539,     0.38639,     0.38739,     0.38839,     0.38939,     0.39039,     0.39139,     0.39239,     0.39339,     0.39439,      0.3954,      0.3964,      0.3974,      0.3984,      0.3994,      0.4004,      0.4014,      0.4024,      0.4034,      0.4044,     0.40541,     0.40641,     0.40741,\n",
       "           0.40841,     0.40941,     0.41041,     0.41141,     0.41241,     0.41341,     0.41441,     0.41542,     0.41642,     0.41742,     0.41842,     0.41942,     0.42042,     0.42142,     0.42242,     0.42342,     0.42442,     0.42543,     0.42643,     0.42743,     0.42843,     0.42943,     0.43043,     0.43143,\n",
       "           0.43243,     0.43343,     0.43443,     0.43544,     0.43644,     0.43744,     0.43844,     0.43944,     0.44044,     0.44144,     0.44244,     0.44344,     0.44444,     0.44545,     0.44645,     0.44745,     0.44845,     0.44945,     0.45045,     0.45145,     0.45245,     0.45345,     0.45445,     0.45546,\n",
       "           0.45646,     0.45746,     0.45846,     0.45946,     0.46046,     0.46146,     0.46246,     0.46346,     0.46446,     0.46547,     0.46647,     0.46747,     0.46847,     0.46947,     0.47047,     0.47147,     0.47247,     0.47347,     0.47447,     0.47548,     0.47648,     0.47748,     0.47848,     0.47948,\n",
       "           0.48048,     0.48148,     0.48248,     0.48348,     0.48448,     0.48549,     0.48649,     0.48749,     0.48849,     0.48949,     0.49049,     0.49149,     0.49249,     0.49349,     0.49449,      0.4955,      0.4965,      0.4975,      0.4985,      0.4995,      0.5005,      0.5015,      0.5025,      0.5035,\n",
       "            0.5045,     0.50551,     0.50651,     0.50751,     0.50851,     0.50951,     0.51051,     0.51151,     0.51251,     0.51351,     0.51451,     0.51552,     0.51652,     0.51752,     0.51852,     0.51952,     0.52052,     0.52152,     0.52252,     0.52352,     0.52452,     0.52553,     0.52653,     0.52753,\n",
       "           0.52853,     0.52953,     0.53053,     0.53153,     0.53253,     0.53353,     0.53453,     0.53554,     0.53654,     0.53754,     0.53854,     0.53954,     0.54054,     0.54154,     0.54254,     0.54354,     0.54454,     0.54555,     0.54655,     0.54755,     0.54855,     0.54955,     0.55055,     0.55155,\n",
       "           0.55255,     0.55355,     0.55455,     0.55556,     0.55656,     0.55756,     0.55856,     0.55956,     0.56056,     0.56156,     0.56256,     0.56356,     0.56456,     0.56557,     0.56657,     0.56757,     0.56857,     0.56957,     0.57057,     0.57157,     0.57257,     0.57357,     0.57457,     0.57558,\n",
       "           0.57658,     0.57758,     0.57858,     0.57958,     0.58058,     0.58158,     0.58258,     0.58358,     0.58458,     0.58559,     0.58659,     0.58759,     0.58859,     0.58959,     0.59059,     0.59159,     0.59259,     0.59359,     0.59459,      0.5956,      0.5966,      0.5976,      0.5986,      0.5996,\n",
       "            0.6006,      0.6016,      0.6026,      0.6036,      0.6046,     0.60561,     0.60661,     0.60761,     0.60861,     0.60961,     0.61061,     0.61161,     0.61261,     0.61361,     0.61461,     0.61562,     0.61662,     0.61762,     0.61862,     0.61962,     0.62062,     0.62162,     0.62262,     0.62362,\n",
       "           0.62462,     0.62563,     0.62663,     0.62763,     0.62863,     0.62963,     0.63063,     0.63163,     0.63263,     0.63363,     0.63463,     0.63564,     0.63664,     0.63764,     0.63864,     0.63964,     0.64064,     0.64164,     0.64264,     0.64364,     0.64464,     0.64565,     0.64665,     0.64765,\n",
       "           0.64865,     0.64965,     0.65065,     0.65165,     0.65265,     0.65365,     0.65465,     0.65566,     0.65666,     0.65766,     0.65866,     0.65966,     0.66066,     0.66166,     0.66266,     0.66366,     0.66466,     0.66567,     0.66667,     0.66767,     0.66867,     0.66967,     0.67067,     0.67167,\n",
       "           0.67267,     0.67367,     0.67467,     0.67568,     0.67668,     0.67768,     0.67868,     0.67968,     0.68068,     0.68168,     0.68268,     0.68368,     0.68468,     0.68569,     0.68669,     0.68769,     0.68869,     0.68969,     0.69069,     0.69169,     0.69269,     0.69369,     0.69469,      0.6957,\n",
       "            0.6967,      0.6977,      0.6987,      0.6997,      0.7007,      0.7017,      0.7027,      0.7037,      0.7047,     0.70571,     0.70671,     0.70771,     0.70871,     0.70971,     0.71071,     0.71171,     0.71271,     0.71371,     0.71471,     0.71572,     0.71672,     0.71772,     0.71872,     0.71972,\n",
       "           0.72072,     0.72172,     0.72272,     0.72372,     0.72472,     0.72573,     0.72673,     0.72773,     0.72873,     0.72973,     0.73073,     0.73173,     0.73273,     0.73373,     0.73473,     0.73574,     0.73674,     0.73774,     0.73874,     0.73974,     0.74074,     0.74174,     0.74274,     0.74374,\n",
       "           0.74474,     0.74575,     0.74675,     0.74775,     0.74875,     0.74975,     0.75075,     0.75175,     0.75275,     0.75375,     0.75475,     0.75576,     0.75676,     0.75776,     0.75876,     0.75976,     0.76076,     0.76176,     0.76276,     0.76376,     0.76476,     0.76577,     0.76677,     0.76777,\n",
       "           0.76877,     0.76977,     0.77077,     0.77177,     0.77277,     0.77377,     0.77477,     0.77578,     0.77678,     0.77778,     0.77878,     0.77978,     0.78078,     0.78178,     0.78278,     0.78378,     0.78478,     0.78579,     0.78679,     0.78779,     0.78879,     0.78979,     0.79079,     0.79179,\n",
       "           0.79279,     0.79379,     0.79479,      0.7958,      0.7968,      0.7978,      0.7988,      0.7998,      0.8008,      0.8018,      0.8028,      0.8038,      0.8048,     0.80581,     0.80681,     0.80781,     0.80881,     0.80981,     0.81081,     0.81181,     0.81281,     0.81381,     0.81481,     0.81582,\n",
       "           0.81682,     0.81782,     0.81882,     0.81982,     0.82082,     0.82182,     0.82282,     0.82382,     0.82482,     0.82583,     0.82683,     0.82783,     0.82883,     0.82983,     0.83083,     0.83183,     0.83283,     0.83383,     0.83483,     0.83584,     0.83684,     0.83784,     0.83884,     0.83984,\n",
       "           0.84084,     0.84184,     0.84284,     0.84384,     0.84484,     0.84585,     0.84685,     0.84785,     0.84885,     0.84985,     0.85085,     0.85185,     0.85285,     0.85385,     0.85485,     0.85586,     0.85686,     0.85786,     0.85886,     0.85986,     0.86086,     0.86186,     0.86286,     0.86386,\n",
       "           0.86486,     0.86587,     0.86687,     0.86787,     0.86887,     0.86987,     0.87087,     0.87187,     0.87287,     0.87387,     0.87487,     0.87588,     0.87688,     0.87788,     0.87888,     0.87988,     0.88088,     0.88188,     0.88288,     0.88388,     0.88488,     0.88589,     0.88689,     0.88789,\n",
       "           0.88889,     0.88989,     0.89089,     0.89189,     0.89289,     0.89389,     0.89489,      0.8959,      0.8969,      0.8979,      0.8989,      0.8999,      0.9009,      0.9019,      0.9029,      0.9039,      0.9049,     0.90591,     0.90691,     0.90791,     0.90891,     0.90991,     0.91091,     0.91191,\n",
       "           0.91291,     0.91391,     0.91491,     0.91592,     0.91692,     0.91792,     0.91892,     0.91992,     0.92092,     0.92192,     0.92292,     0.92392,     0.92492,     0.92593,     0.92693,     0.92793,     0.92893,     0.92993,     0.93093,     0.93193,     0.93293,     0.93393,     0.93493,     0.93594,\n",
       "           0.93694,     0.93794,     0.93894,     0.93994,     0.94094,     0.94194,     0.94294,     0.94394,     0.94494,     0.94595,     0.94695,     0.94795,     0.94895,     0.94995,     0.95095,     0.95195,     0.95295,     0.95395,     0.95495,     0.95596,     0.95696,     0.95796,     0.95896,     0.95996,\n",
       "           0.96096,     0.96196,     0.96296,     0.96396,     0.96496,     0.96597,     0.96697,     0.96797,     0.96897,     0.96997,     0.97097,     0.97197,     0.97297,     0.97397,     0.97497,     0.97598,     0.97698,     0.97798,     0.97898,     0.97998,     0.98098,     0.98198,     0.98298,     0.98398,\n",
       "           0.98498,     0.98599,     0.98699,     0.98799,     0.98899,     0.98999,     0.99099,     0.99199,     0.99299,     0.99399,     0.99499,       0.996,       0.997,       0.998,       0.999,           1]), array([[    0.11522,     0.11522,     0.15116,     0.17705,     0.19717,     0.21436,     0.22874,     0.24212,     0.25501,     0.26665,     0.27735,     0.28792,     0.29737,     0.30583,     0.31495,      0.3234,     0.33118,     0.33901,     0.34748,     0.35398,      0.3602,     0.36781,     0.37399,\n",
       "            0.37937,     0.38566,     0.39247,     0.39898,     0.40512,      0.4107,     0.41509,     0.42012,     0.42473,     0.42954,     0.43563,     0.44097,     0.44549,      0.4509,      0.4553,     0.46051,     0.46418,     0.46937,     0.47449,     0.47838,     0.48252,     0.48705,     0.49143,\n",
       "            0.49658,     0.50005,     0.50369,     0.50779,     0.51178,      0.5156,     0.51988,     0.52379,     0.52774,     0.53114,     0.53549,     0.53897,     0.54238,     0.54584,     0.54916,     0.55193,     0.55599,     0.55946,     0.56287,     0.56571,     0.56956,     0.57154,     0.57589,\n",
       "            0.57929,     0.58164,     0.58427,     0.58613,     0.58998,     0.59263,      0.5952,     0.59723,      0.6003,     0.60447,     0.60665,     0.60882,     0.61149,     0.61452,     0.61733,     0.61913,     0.62167,     0.62285,     0.62638,     0.62785,     0.63078,     0.63284,     0.63501,\n",
       "            0.63781,     0.63984,     0.64323,     0.64393,     0.64589,     0.64827,     0.65019,     0.65222,     0.65396,       0.656,     0.65823,     0.66082,     0.66237,     0.66375,     0.66475,     0.66688,     0.66821,     0.67058,     0.67322,     0.67436,     0.67623,      0.6792,     0.68125,\n",
       "            0.68207,     0.68396,     0.68562,     0.68793,     0.68865,     0.68994,     0.69093,     0.69313,      0.6949,     0.69592,     0.69782,     0.69918,     0.70073,     0.70268,     0.70386,     0.70476,      0.7064,     0.70751,     0.70889,     0.71056,     0.71129,     0.71333,     0.71469,\n",
       "            0.71533,     0.71713,     0.71859,     0.71914,     0.71949,     0.72079,     0.72199,     0.72487,     0.72684,     0.72739,     0.72922,     0.73017,     0.73194,     0.73379,      0.7346,     0.73574,     0.73691,      0.7385,      0.7395,     0.74027,     0.74107,     0.74205,     0.74391,\n",
       "            0.74508,     0.74621,     0.74687,       0.748,     0.74868,     0.74908,      0.7499,     0.75109,     0.75214,     0.75327,     0.75498,     0.75568,      0.7567,     0.75747,     0.75913,     0.76083,     0.76091,     0.76239,     0.76367,     0.76475,     0.76573,     0.76726,     0.76894,\n",
       "               0.77,     0.77077,     0.77148,     0.77225,     0.77341,     0.77484,       0.775,     0.77601,     0.77813,     0.77874,     0.78007,     0.78151,     0.78313,     0.78423,     0.78546,     0.78633,     0.78696,     0.78747,     0.78924,     0.79097,     0.79185,     0.79274,     0.79358,\n",
       "            0.79464,     0.79528,     0.79638,     0.79665,     0.79706,     0.79845,     0.79882,     0.80041,      0.8006,      0.8021,     0.80303,     0.80467,     0.80533,     0.80585,     0.80648,     0.80761,       0.809,     0.81016,       0.811,     0.81232,     0.81295,     0.81409,     0.81447,\n",
       "            0.81588,     0.81749,     0.81865,     0.81977,     0.82074,     0.82152,     0.82188,     0.82196,     0.82306,     0.82395,     0.82476,     0.82512,     0.82566,     0.82623,     0.82641,     0.82713,     0.82739,     0.82829,     0.82937,     0.82965,     0.83046,     0.83119,     0.83136,\n",
       "            0.83217,     0.83308,     0.83427,     0.83536,     0.83628,     0.83721,     0.83808,     0.83835,     0.83928,     0.83957,     0.83985,     0.84073,     0.84156,     0.84189,     0.84227,     0.84381,     0.84498,     0.84543,     0.84672,     0.84668,     0.84721,     0.84771,     0.84832,\n",
       "            0.84941,     0.85026,     0.85086,     0.85145,     0.85164,      0.8522,     0.85251,     0.85271,     0.85297,     0.85332,     0.85447,     0.85455,     0.85469,     0.85495,     0.85593,     0.85633,     0.85668,     0.85729,     0.85841,     0.85931,     0.85948,      0.8601,     0.86041,\n",
       "            0.86081,     0.86146,     0.86177,     0.86209,     0.86274,     0.86272,      0.8631,     0.86376,     0.86397,     0.86495,     0.86548,     0.86546,     0.86571,     0.86646,      0.8667,     0.86824,     0.86841,     0.86919,     0.86921,      0.8697,     0.87044,     0.87107,     0.87238,\n",
       "            0.87233,     0.87253,     0.87372,     0.87369,      0.8738,     0.87427,     0.87422,     0.87412,     0.87438,     0.87561,     0.87582,     0.87598,      0.8773,     0.87763,     0.87794,     0.87788,     0.87825,     0.87877,     0.87868,      0.8792,     0.88011,     0.88007,     0.88018,\n",
       "             0.8803,     0.88067,     0.88146,     0.88156,     0.88211,     0.88206,     0.88237,     0.88222,      0.8824,     0.88252,      0.8825,     0.88249,     0.88266,     0.88338,     0.88403,     0.88491,      0.8856,     0.88653,     0.88673,     0.88747,     0.88841,     0.88935,     0.89073,\n",
       "            0.89103,     0.89166,     0.89189,     0.89261,     0.89345,     0.89343,     0.89362,     0.89396,     0.89459,       0.895,     0.89567,     0.89627,     0.89679,     0.89695,     0.89762,     0.89817,      0.8988,     0.89877,     0.89875,     0.89905,     0.89897,     0.89984,     0.89982,\n",
       "            0.90007,     0.89996,     0.90014,     0.90078,     0.90066,     0.90092,     0.90149,     0.90298,     0.90315,     0.90366,     0.90439,     0.90493,     0.90565,     0.90625,     0.90641,     0.90659,     0.90736,     0.90763,       0.908,     0.90862,     0.90879,     0.90897,     0.90915,\n",
       "            0.90978,      0.9099,     0.91018,     0.91025,     0.91037,     0.91049,     0.91112,     0.91137,       0.912,      0.9123,     0.91266,     0.91302,     0.91403,     0.91442,     0.91475,      0.9157,     0.91568,     0.91601,     0.91607,     0.91643,     0.91659,     0.91649,     0.91664,\n",
       "             0.9173,     0.91767,     0.91772,     0.91765,     0.91759,     0.91787,     0.91791,      0.9182,     0.91852,     0.91958,     0.92028,     0.92025,     0.92024,     0.92047,     0.92117,      0.9215,     0.92147,     0.92145,     0.92173,     0.92183,      0.9222,     0.92273,     0.92306,\n",
       "              0.923,     0.92352,     0.92367,     0.92387,     0.92462,     0.92471,     0.92459,     0.92483,      0.9253,     0.92556,     0.92591,     0.92632,     0.92698,       0.927,     0.92726,     0.92728,       0.928,     0.92835,     0.92908,     0.92983,     0.93045,      0.9312,      0.9319,\n",
       "            0.93252,     0.93243,     0.93238,      0.9327,     0.93303,     0.93302,     0.93348,     0.93374,     0.93368,      0.9348,     0.93477,     0.93489,     0.93549,     0.93563,     0.93597,     0.93618,     0.93653,     0.93723,      0.9374,     0.93756,     0.93751,     0.93746,     0.93774,\n",
       "            0.93844,     0.93907,     0.93917,     0.93993,     0.94062,     0.94143,     0.94175,     0.94203,     0.94208,     0.94207,     0.94199,     0.94234,      0.9427,     0.94311,     0.94295,     0.94332,     0.94364,     0.94366,     0.94395,      0.9443,     0.94434,     0.94667,     0.94669,\n",
       "            0.94701,     0.94699,     0.94738,     0.94732,      0.9477,     0.94783,     0.94941,      0.9498,     0.95001,      0.9506,     0.95079,     0.95157,     0.95153,     0.95152,     0.95268,      0.9533,     0.95338,     0.95334,     0.95328,     0.95368,     0.95436,     0.95485,     0.95525,\n",
       "            0.95521,      0.9559,     0.95633,     0.95676,     0.95679,     0.95757,     0.95794,      0.9579,     0.95809,     0.95829,     0.95846,     0.95862,     0.95858,     0.95939,     0.95938,     0.95936,     0.96006,     0.96017,     0.96013,     0.96051,     0.96088,     0.96166,     0.96209,\n",
       "            0.96213,     0.96211,      0.9625,     0.96246,     0.96241,     0.96276,     0.96355,     0.96351,     0.96392,     0.96388,     0.96387,     0.96385,     0.96383,     0.96377,     0.96373,     0.96367,     0.96365,     0.96401,     0.96399,     0.96439,     0.96439,     0.96478,     0.96471,\n",
       "            0.96489,     0.96504,     0.96523,      0.9654,     0.96577,     0.96572,     0.96571,     0.96612,     0.96604,     0.96653,      0.9669,     0.96685,     0.96684,     0.96694,     0.96726,     0.96768,     0.96766,     0.96764,     0.96799,     0.96806,     0.96805,     0.96848,     0.96838,\n",
       "            0.96837,     0.96837,     0.96831,     0.96828,     0.96868,     0.96953,     0.96995,     0.97038,     0.97035,     0.97079,     0.97075,     0.97133,     0.97161,     0.97158,       0.972,     0.97198,     0.97195,     0.97191,     0.97187,      0.9723,     0.97221,      0.9722,     0.97218,\n",
       "            0.97216,     0.97213,     0.97207,     0.97203,     0.97249,     0.97302,     0.97336,     0.97377,     0.97424,     0.97471,     0.97467,     0.97462,     0.97505,     0.97504,     0.97548,     0.97547,     0.97545,     0.97544,     0.97536,     0.97531,     0.97526,     0.97625,     0.97616,\n",
       "            0.97612,     0.97661,     0.97655,     0.97702,     0.97696,     0.97694,     0.97689,     0.97688,     0.97733,     0.97733,     0.97732,     0.97727,     0.97776,      0.9782,     0.97811,     0.97809,     0.97815,     0.97856,     0.97907,     0.97904,     0.97909,     0.97949,     0.97973,\n",
       "            0.97994,     0.97993,     0.97993,     0.98059,     0.98093,      0.9809,     0.98089,     0.98133,     0.98131,      0.9813,     0.98126,     0.98178,     0.98229,     0.98331,     0.98328,     0.98496,     0.98542,     0.98541,     0.98537,     0.98536,     0.98585,     0.98635,     0.98633,\n",
       "            0.98627,     0.98626,     0.98673,     0.98668,     0.98665,     0.98719,     0.98718,     0.98715,     0.98713,     0.98707,     0.98703,       0.987,     0.98695,     0.98693,     0.98809,     0.98807,     0.98807,     0.98803,     0.98801,     0.98796,     0.98794,     0.98792,     0.98789,\n",
       "            0.98785,     0.98783,      0.9878,     0.98896,     0.98893,     0.98892,      0.9892,     0.98946,     0.99002,     0.99001,        0.99,      0.9906,     0.99058,     0.99057,     0.99056,     0.99053,     0.99053,     0.99047,     0.99045,     0.99044,     0.99103,     0.99101,     0.99159,\n",
       "            0.99222,     0.99281,     0.99277,     0.99274,     0.99271,     0.99268,     0.99266,     0.99266,     0.99265,     0.99264,     0.99261,     0.99259,     0.99255,     0.99319,     0.99318,     0.99384,     0.99382,      0.9938,     0.99378,     0.99377,     0.99372,     0.99509,     0.99509,\n",
       "            0.99508,     0.99505,     0.99503,     0.99502,     0.99498,     0.99495,     0.99494,     0.99492,     0.99489,      0.9956,     0.99557,     0.99629,     0.99627,     0.99625,     0.99622,     0.99617,     0.99616,     0.99613,     0.99611,     0.99606,     0.99604,     0.99601,       0.996,\n",
       "            0.99598,     0.99594,     0.99593,     0.99589,     0.99589,     0.99586,     0.99583,      0.9958,     0.99577,     0.99573,     0.99571,     0.99567,     0.99651,     0.99736,     0.99733,     0.99729,     0.99727,     0.99724,     0.99722,     0.99722,     0.99717,     0.99714,     0.99712,\n",
       "            0.99711,     0.99709,     0.99707,     0.99703,     0.99701,     0.99698,     0.99695,     0.99694,      0.9969,     0.99686,     0.99685,     0.99682,     0.99677,     0.99673,     0.99667,     0.99665,      0.9966,      0.9977,     0.99767,     0.99765,      0.9976,     0.99757,     0.99755,\n",
       "            0.99751,     0.99749,     0.99747,     0.99742,     0.99738,     0.99734,     0.99731,     0.99728,     0.99723,     0.99714,      0.9971,     0.99704,       0.997,     0.99695,     0.99686,     0.99683,     0.99675,     0.99666,     0.99828,     0.99826,     0.99822,     0.99817,     0.99814,\n",
       "            0.99809,     0.99806,     0.99798,     0.99795,     0.99788,     0.99777,     0.99768,     0.99758,     0.99751,     0.99746,     0.99725,     0.99719,     0.99709,     0.99694,      0.9967,     0.99664,     0.99649,      0.9963,      0.9961,     0.99591,           1,           1,           1,\n",
       "                  1,           1,           1,           1,           1,           1,           1,           1,           1,           1,           1,           1,           1,           1,           1,           1,           1,           1,           1,           1,           1,           1,           1,\n",
       "                  1,           1,           1,           1,           1,           1,           1,           1,           1,           1,           1,           1,           1,           1,           1,           1,           1,           1,           1,           1,           1,           1,           1,\n",
       "                  1,           1,           1,           1,           1,           1,           1,           1,           1,           1,           1,           1,           1,           1,           1,           1,           1,           1,           1,           1,           1,           1,           1,\n",
       "                  1,           1,           1,           1,           1,           1,           1,           1,           1,           1,           1,           1,           1,           1,           1,           1,           1,           1,           1,           1,           1,           1,           1,\n",
       "                  1,           1,           1,           1,           1,           1,           1,           1,           1,           1,           1]]), 'Confidence', 'Precision'], [array([          0,    0.001001,    0.002002,    0.003003,    0.004004,    0.005005,    0.006006,    0.007007,    0.008008,    0.009009,     0.01001,    0.011011,    0.012012,    0.013013,    0.014014,    0.015015,    0.016016,    0.017017,    0.018018,    0.019019,     0.02002,    0.021021,    0.022022,    0.023023,\n",
       "          0.024024,    0.025025,    0.026026,    0.027027,    0.028028,    0.029029,     0.03003,    0.031031,    0.032032,    0.033033,    0.034034,    0.035035,    0.036036,    0.037037,    0.038038,    0.039039,     0.04004,    0.041041,    0.042042,    0.043043,    0.044044,    0.045045,    0.046046,    0.047047,\n",
       "          0.048048,    0.049049,     0.05005,    0.051051,    0.052052,    0.053053,    0.054054,    0.055055,    0.056056,    0.057057,    0.058058,    0.059059,     0.06006,    0.061061,    0.062062,    0.063063,    0.064064,    0.065065,    0.066066,    0.067067,    0.068068,    0.069069,     0.07007,    0.071071,\n",
       "          0.072072,    0.073073,    0.074074,    0.075075,    0.076076,    0.077077,    0.078078,    0.079079,     0.08008,    0.081081,    0.082082,    0.083083,    0.084084,    0.085085,    0.086086,    0.087087,    0.088088,    0.089089,     0.09009,    0.091091,    0.092092,    0.093093,    0.094094,    0.095095,\n",
       "          0.096096,    0.097097,    0.098098,    0.099099,      0.1001,      0.1011,      0.1021,      0.1031,      0.1041,     0.10511,     0.10611,     0.10711,     0.10811,     0.10911,     0.11011,     0.11111,     0.11211,     0.11311,     0.11411,     0.11512,     0.11612,     0.11712,     0.11812,     0.11912,\n",
       "           0.12012,     0.12112,     0.12212,     0.12312,     0.12412,     0.12513,     0.12613,     0.12713,     0.12813,     0.12913,     0.13013,     0.13113,     0.13213,     0.13313,     0.13413,     0.13514,     0.13614,     0.13714,     0.13814,     0.13914,     0.14014,     0.14114,     0.14214,     0.14314,\n",
       "           0.14414,     0.14515,     0.14615,     0.14715,     0.14815,     0.14915,     0.15015,     0.15115,     0.15215,     0.15315,     0.15415,     0.15516,     0.15616,     0.15716,     0.15816,     0.15916,     0.16016,     0.16116,     0.16216,     0.16316,     0.16416,     0.16517,     0.16617,     0.16717,\n",
       "           0.16817,     0.16917,     0.17017,     0.17117,     0.17217,     0.17317,     0.17417,     0.17518,     0.17618,     0.17718,     0.17818,     0.17918,     0.18018,     0.18118,     0.18218,     0.18318,     0.18418,     0.18519,     0.18619,     0.18719,     0.18819,     0.18919,     0.19019,     0.19119,\n",
       "           0.19219,     0.19319,     0.19419,      0.1952,      0.1962,      0.1972,      0.1982,      0.1992,      0.2002,      0.2012,      0.2022,      0.2032,      0.2042,     0.20521,     0.20621,     0.20721,     0.20821,     0.20921,     0.21021,     0.21121,     0.21221,     0.21321,     0.21421,     0.21522,\n",
       "           0.21622,     0.21722,     0.21822,     0.21922,     0.22022,     0.22122,     0.22222,     0.22322,     0.22422,     0.22523,     0.22623,     0.22723,     0.22823,     0.22923,     0.23023,     0.23123,     0.23223,     0.23323,     0.23423,     0.23524,     0.23624,     0.23724,     0.23824,     0.23924,\n",
       "           0.24024,     0.24124,     0.24224,     0.24324,     0.24424,     0.24525,     0.24625,     0.24725,     0.24825,     0.24925,     0.25025,     0.25125,     0.25225,     0.25325,     0.25425,     0.25526,     0.25626,     0.25726,     0.25826,     0.25926,     0.26026,     0.26126,     0.26226,     0.26326,\n",
       "           0.26426,     0.26527,     0.26627,     0.26727,     0.26827,     0.26927,     0.27027,     0.27127,     0.27227,     0.27327,     0.27427,     0.27528,     0.27628,     0.27728,     0.27828,     0.27928,     0.28028,     0.28128,     0.28228,     0.28328,     0.28428,     0.28529,     0.28629,     0.28729,\n",
       "           0.28829,     0.28929,     0.29029,     0.29129,     0.29229,     0.29329,     0.29429,      0.2953,      0.2963,      0.2973,      0.2983,      0.2993,      0.3003,      0.3013,      0.3023,      0.3033,      0.3043,     0.30531,     0.30631,     0.30731,     0.30831,     0.30931,     0.31031,     0.31131,\n",
       "           0.31231,     0.31331,     0.31431,     0.31532,     0.31632,     0.31732,     0.31832,     0.31932,     0.32032,     0.32132,     0.32232,     0.32332,     0.32432,     0.32533,     0.32633,     0.32733,     0.32833,     0.32933,     0.33033,     0.33133,     0.33233,     0.33333,     0.33433,     0.33534,\n",
       "           0.33634,     0.33734,     0.33834,     0.33934,     0.34034,     0.34134,     0.34234,     0.34334,     0.34434,     0.34535,     0.34635,     0.34735,     0.34835,     0.34935,     0.35035,     0.35135,     0.35235,     0.35335,     0.35435,     0.35536,     0.35636,     0.35736,     0.35836,     0.35936,\n",
       "           0.36036,     0.36136,     0.36236,     0.36336,     0.36436,     0.36537,     0.36637,     0.36737,     0.36837,     0.36937,     0.37037,     0.37137,     0.37237,     0.37337,     0.37437,     0.37538,     0.37638,     0.37738,     0.37838,     0.37938,     0.38038,     0.38138,     0.38238,     0.38338,\n",
       "           0.38438,     0.38539,     0.38639,     0.38739,     0.38839,     0.38939,     0.39039,     0.39139,     0.39239,     0.39339,     0.39439,      0.3954,      0.3964,      0.3974,      0.3984,      0.3994,      0.4004,      0.4014,      0.4024,      0.4034,      0.4044,     0.40541,     0.40641,     0.40741,\n",
       "           0.40841,     0.40941,     0.41041,     0.41141,     0.41241,     0.41341,     0.41441,     0.41542,     0.41642,     0.41742,     0.41842,     0.41942,     0.42042,     0.42142,     0.42242,     0.42342,     0.42442,     0.42543,     0.42643,     0.42743,     0.42843,     0.42943,     0.43043,     0.43143,\n",
       "           0.43243,     0.43343,     0.43443,     0.43544,     0.43644,     0.43744,     0.43844,     0.43944,     0.44044,     0.44144,     0.44244,     0.44344,     0.44444,     0.44545,     0.44645,     0.44745,     0.44845,     0.44945,     0.45045,     0.45145,     0.45245,     0.45345,     0.45445,     0.45546,\n",
       "           0.45646,     0.45746,     0.45846,     0.45946,     0.46046,     0.46146,     0.46246,     0.46346,     0.46446,     0.46547,     0.46647,     0.46747,     0.46847,     0.46947,     0.47047,     0.47147,     0.47247,     0.47347,     0.47447,     0.47548,     0.47648,     0.47748,     0.47848,     0.47948,\n",
       "           0.48048,     0.48148,     0.48248,     0.48348,     0.48448,     0.48549,     0.48649,     0.48749,     0.48849,     0.48949,     0.49049,     0.49149,     0.49249,     0.49349,     0.49449,      0.4955,      0.4965,      0.4975,      0.4985,      0.4995,      0.5005,      0.5015,      0.5025,      0.5035,\n",
       "            0.5045,     0.50551,     0.50651,     0.50751,     0.50851,     0.50951,     0.51051,     0.51151,     0.51251,     0.51351,     0.51451,     0.51552,     0.51652,     0.51752,     0.51852,     0.51952,     0.52052,     0.52152,     0.52252,     0.52352,     0.52452,     0.52553,     0.52653,     0.52753,\n",
       "           0.52853,     0.52953,     0.53053,     0.53153,     0.53253,     0.53353,     0.53453,     0.53554,     0.53654,     0.53754,     0.53854,     0.53954,     0.54054,     0.54154,     0.54254,     0.54354,     0.54454,     0.54555,     0.54655,     0.54755,     0.54855,     0.54955,     0.55055,     0.55155,\n",
       "           0.55255,     0.55355,     0.55455,     0.55556,     0.55656,     0.55756,     0.55856,     0.55956,     0.56056,     0.56156,     0.56256,     0.56356,     0.56456,     0.56557,     0.56657,     0.56757,     0.56857,     0.56957,     0.57057,     0.57157,     0.57257,     0.57357,     0.57457,     0.57558,\n",
       "           0.57658,     0.57758,     0.57858,     0.57958,     0.58058,     0.58158,     0.58258,     0.58358,     0.58458,     0.58559,     0.58659,     0.58759,     0.58859,     0.58959,     0.59059,     0.59159,     0.59259,     0.59359,     0.59459,      0.5956,      0.5966,      0.5976,      0.5986,      0.5996,\n",
       "            0.6006,      0.6016,      0.6026,      0.6036,      0.6046,     0.60561,     0.60661,     0.60761,     0.60861,     0.60961,     0.61061,     0.61161,     0.61261,     0.61361,     0.61461,     0.61562,     0.61662,     0.61762,     0.61862,     0.61962,     0.62062,     0.62162,     0.62262,     0.62362,\n",
       "           0.62462,     0.62563,     0.62663,     0.62763,     0.62863,     0.62963,     0.63063,     0.63163,     0.63263,     0.63363,     0.63463,     0.63564,     0.63664,     0.63764,     0.63864,     0.63964,     0.64064,     0.64164,     0.64264,     0.64364,     0.64464,     0.64565,     0.64665,     0.64765,\n",
       "           0.64865,     0.64965,     0.65065,     0.65165,     0.65265,     0.65365,     0.65465,     0.65566,     0.65666,     0.65766,     0.65866,     0.65966,     0.66066,     0.66166,     0.66266,     0.66366,     0.66466,     0.66567,     0.66667,     0.66767,     0.66867,     0.66967,     0.67067,     0.67167,\n",
       "           0.67267,     0.67367,     0.67467,     0.67568,     0.67668,     0.67768,     0.67868,     0.67968,     0.68068,     0.68168,     0.68268,     0.68368,     0.68468,     0.68569,     0.68669,     0.68769,     0.68869,     0.68969,     0.69069,     0.69169,     0.69269,     0.69369,     0.69469,      0.6957,\n",
       "            0.6967,      0.6977,      0.6987,      0.6997,      0.7007,      0.7017,      0.7027,      0.7037,      0.7047,     0.70571,     0.70671,     0.70771,     0.70871,     0.70971,     0.71071,     0.71171,     0.71271,     0.71371,     0.71471,     0.71572,     0.71672,     0.71772,     0.71872,     0.71972,\n",
       "           0.72072,     0.72172,     0.72272,     0.72372,     0.72472,     0.72573,     0.72673,     0.72773,     0.72873,     0.72973,     0.73073,     0.73173,     0.73273,     0.73373,     0.73473,     0.73574,     0.73674,     0.73774,     0.73874,     0.73974,     0.74074,     0.74174,     0.74274,     0.74374,\n",
       "           0.74474,     0.74575,     0.74675,     0.74775,     0.74875,     0.74975,     0.75075,     0.75175,     0.75275,     0.75375,     0.75475,     0.75576,     0.75676,     0.75776,     0.75876,     0.75976,     0.76076,     0.76176,     0.76276,     0.76376,     0.76476,     0.76577,     0.76677,     0.76777,\n",
       "           0.76877,     0.76977,     0.77077,     0.77177,     0.77277,     0.77377,     0.77477,     0.77578,     0.77678,     0.77778,     0.77878,     0.77978,     0.78078,     0.78178,     0.78278,     0.78378,     0.78478,     0.78579,     0.78679,     0.78779,     0.78879,     0.78979,     0.79079,     0.79179,\n",
       "           0.79279,     0.79379,     0.79479,      0.7958,      0.7968,      0.7978,      0.7988,      0.7998,      0.8008,      0.8018,      0.8028,      0.8038,      0.8048,     0.80581,     0.80681,     0.80781,     0.80881,     0.80981,     0.81081,     0.81181,     0.81281,     0.81381,     0.81481,     0.81582,\n",
       "           0.81682,     0.81782,     0.81882,     0.81982,     0.82082,     0.82182,     0.82282,     0.82382,     0.82482,     0.82583,     0.82683,     0.82783,     0.82883,     0.82983,     0.83083,     0.83183,     0.83283,     0.83383,     0.83483,     0.83584,     0.83684,     0.83784,     0.83884,     0.83984,\n",
       "           0.84084,     0.84184,     0.84284,     0.84384,     0.84484,     0.84585,     0.84685,     0.84785,     0.84885,     0.84985,     0.85085,     0.85185,     0.85285,     0.85385,     0.85485,     0.85586,     0.85686,     0.85786,     0.85886,     0.85986,     0.86086,     0.86186,     0.86286,     0.86386,\n",
       "           0.86486,     0.86587,     0.86687,     0.86787,     0.86887,     0.86987,     0.87087,     0.87187,     0.87287,     0.87387,     0.87487,     0.87588,     0.87688,     0.87788,     0.87888,     0.87988,     0.88088,     0.88188,     0.88288,     0.88388,     0.88488,     0.88589,     0.88689,     0.88789,\n",
       "           0.88889,     0.88989,     0.89089,     0.89189,     0.89289,     0.89389,     0.89489,      0.8959,      0.8969,      0.8979,      0.8989,      0.8999,      0.9009,      0.9019,      0.9029,      0.9039,      0.9049,     0.90591,     0.90691,     0.90791,     0.90891,     0.90991,     0.91091,     0.91191,\n",
       "           0.91291,     0.91391,     0.91491,     0.91592,     0.91692,     0.91792,     0.91892,     0.91992,     0.92092,     0.92192,     0.92292,     0.92392,     0.92492,     0.92593,     0.92693,     0.92793,     0.92893,     0.92993,     0.93093,     0.93193,     0.93293,     0.93393,     0.93493,     0.93594,\n",
       "           0.93694,     0.93794,     0.93894,     0.93994,     0.94094,     0.94194,     0.94294,     0.94394,     0.94494,     0.94595,     0.94695,     0.94795,     0.94895,     0.94995,     0.95095,     0.95195,     0.95295,     0.95395,     0.95495,     0.95596,     0.95696,     0.95796,     0.95896,     0.95996,\n",
       "           0.96096,     0.96196,     0.96296,     0.96396,     0.96496,     0.96597,     0.96697,     0.96797,     0.96897,     0.96997,     0.97097,     0.97197,     0.97297,     0.97397,     0.97497,     0.97598,     0.97698,     0.97798,     0.97898,     0.97998,     0.98098,     0.98198,     0.98298,     0.98398,\n",
       "           0.98498,     0.98599,     0.98699,     0.98799,     0.98899,     0.98999,     0.99099,     0.99199,     0.99299,     0.99399,     0.99499,       0.996,       0.997,       0.998,       0.999,           1]), array([[    0.99329,     0.99329,     0.99117,     0.98976,     0.98834,     0.98728,     0.98622,     0.98587,     0.98446,      0.9841,      0.9834,     0.98269,     0.98234,     0.98234,     0.98199,     0.98128,     0.98093,     0.98057,     0.98022,     0.97951,     0.97881,     0.97881,     0.97775,\n",
       "            0.97704,     0.97669,     0.97645,     0.97563,     0.97563,     0.97527,     0.97492,     0.97457,     0.97457,     0.97457,     0.97386,     0.97351,     0.97351,     0.97245,     0.97245,     0.97174,     0.97103,     0.97068,     0.97033,     0.97022,     0.96927,     0.96856,     0.96856,\n",
       "            0.96856,     0.96821,     0.96821,     0.96786,     0.96715,      0.9668,     0.96644,     0.96609,     0.96609,     0.96538,     0.96503,     0.96468,     0.96432,     0.96432,     0.96432,     0.96432,     0.96397,     0.96397,     0.96362,     0.96326,     0.96291,      0.9622,     0.96114,\n",
       "            0.96044,     0.96008,     0.95903,     0.95903,     0.95903,     0.95797,     0.95761,     0.95761,     0.95761,     0.95761,     0.95691,     0.95655,      0.9562,      0.9562,     0.95585,     0.95585,     0.95479,     0.95408,     0.95408,     0.95267,     0.95231,      0.9516,     0.95125,\n",
       "             0.9509,     0.94984,     0.94984,     0.94913,     0.94807,     0.94772,     0.94737,     0.94737,     0.94737,     0.94737,     0.94666,     0.94666,     0.94666,     0.94666,     0.94525,     0.94454,     0.94348,     0.94348,     0.94313,     0.94242,     0.94242,     0.94242,     0.94219,\n",
       "            0.94066,     0.93995,     0.93995,      0.9396,     0.93924,     0.93889,     0.93783,     0.93748,     0.93748,     0.93712,     0.93642,     0.93642,     0.93642,     0.93571,     0.93571,     0.93536,     0.93501,     0.93465,     0.93465,      0.9343,      0.9343,      0.9343,      0.9343,\n",
       "             0.9343,     0.93359,     0.93218,     0.93156,     0.93147,     0.93112,     0.93112,     0.92971,     0.92863,     0.92829,     0.92829,     0.92794,     0.92759,     0.92759,     0.92759,     0.92723,     0.92688,     0.92653,     0.92547,     0.92511,     0.92511,     0.92476,     0.92476,\n",
       "            0.92441,      0.9237,       0.923,     0.92229,     0.92158,     0.92158,     0.92158,     0.92123,     0.92123,     0.92052,     0.92052,     0.91982,     0.91982,     0.91946,     0.91911,     0.91911,     0.91844,      0.9184,      0.9184,      0.9184,     0.91805,     0.91805,      0.9177,\n",
       "             0.9177,      0.9177,      0.9177,     0.91734,     0.91664,     0.91628,     0.91593,     0.91558,     0.91487,     0.91487,     0.91487,     0.91473,     0.91452,     0.91452,     0.91416,     0.91416,     0.91416,     0.91346,      0.9131,     0.91275,     0.91275,     0.91275,     0.91275,\n",
       "             0.9124,      0.9124,      0.9124,     0.91169,     0.91146,     0.91063,     0.91063,     0.91063,     0.91063,     0.91054,     0.91028,     0.90946,     0.90922,     0.90851,     0.90851,     0.90851,     0.90851,     0.90851,     0.90792,     0.90781,     0.90781,     0.90781,     0.90781,\n",
       "            0.90781,     0.90745,     0.90745,     0.90617,     0.90604,     0.90533,     0.90533,     0.90498,     0.90463,     0.90463,      0.9044,     0.90332,     0.90321,     0.90321,     0.90321,     0.90321,     0.90321,     0.90321,     0.90251,      0.9018,     0.90145,     0.90096,     0.90074,\n",
       "            0.90004,     0.90004,     0.89974,     0.89933,     0.89933,     0.89933,     0.89898,     0.89827,     0.89827,     0.89827,     0.89756,     0.89721,     0.89679,     0.89615,     0.89615,     0.89502,     0.89474,      0.8945,     0.89367,     0.89343,     0.89312,     0.89268,     0.89262,\n",
       "            0.89156,      0.8912,     0.89085,      0.8905,      0.8905,      0.8905,     0.89014,     0.89014,     0.89014,     0.89014,     0.88972,     0.88944,     0.88922,     0.88909,     0.88767,     0.88767,     0.88732,     0.88732,     0.88626,     0.88626,     0.88626,     0.88626,     0.88626,\n",
       "            0.88626,     0.88626,     0.88591,     0.88591,     0.88589,     0.88568,      0.8852,     0.88461,     0.88414,     0.88414,     0.88409,     0.88389,     0.88354,     0.88235,     0.88167,     0.88131,     0.88113,     0.88096,     0.88029,     0.87955,     0.87805,     0.87743,     0.87653,\n",
       "            0.87611,     0.87566,     0.87493,     0.87473,      0.8746,      0.8744,       0.874,      0.8732,     0.87284,     0.87274,     0.87198,     0.87178,     0.87178,     0.87178,     0.87146,     0.87101,     0.87072,     0.87055,     0.86983,     0.86966,     0.86867,     0.86824,     0.86824,\n",
       "            0.86824,      0.8681,     0.86789,     0.86764,     0.86693,     0.86648,     0.86647,     0.86507,     0.86507,     0.86502,     0.86489,     0.86476,     0.86436,     0.86436,     0.86436,     0.86365,      0.8633,     0.86295,     0.86279,     0.86189,     0.86153,     0.86118,     0.86118,\n",
       "            0.86083,     0.86048,     0.85968,     0.85941,       0.859,     0.85879,     0.85871,     0.85871,     0.85835,     0.85835,     0.85835,     0.85765,     0.85765,     0.85694,     0.85694,     0.85682,     0.85646,     0.85616,     0.85595,     0.85564,     0.85492,     0.85447,     0.85341,\n",
       "            0.85269,     0.85162,     0.84988,     0.84982,     0.84868,     0.84797,      0.8469,      0.8467,     0.84653,     0.84599,     0.84536,     0.84458,     0.84428,     0.84387,     0.84352,     0.84352,     0.84352,     0.84344,     0.84281,     0.84246,     0.84246,     0.84246,     0.84246,\n",
       "            0.84246,     0.84188,     0.84117,     0.84105,     0.84105,     0.84105,     0.84007,       0.839,     0.83829,     0.83784,     0.83751,     0.83751,     0.83746,     0.83716,     0.83681,     0.83641,     0.83623,       0.836,     0.83539,     0.83539,     0.83456,     0.83345,     0.83257,\n",
       "            0.83186,     0.83186,     0.83125,     0.83053,     0.82982,     0.82974,     0.82945,     0.82873,     0.82868,     0.82833,     0.82798,     0.82745,     0.82727,     0.82585,     0.82549,     0.82513,     0.82478,     0.82457,      0.8236,     0.82303,     0.82303,     0.82251,     0.82215,\n",
       "            0.82144,     0.82091,     0.82071,     0.82056,     0.82056,     0.81998,     0.81856,     0.81844,     0.81819,     0.81809,     0.81773,      0.8171,     0.81703,     0.81638,     0.81561,      0.8153,     0.81494,     0.81491,     0.81455,     0.81455,     0.81279,     0.81277,     0.81206,\n",
       "            0.81028,     0.80922,      0.8085,     0.80778,      0.8071,     0.80692,     0.80678,     0.80634,     0.80562,     0.80526,      0.8049,     0.80466,     0.80417,     0.80396,     0.80325,     0.80309,     0.80272,     0.80166,     0.80113,     0.80093,     0.80022,      0.7995,     0.79808,\n",
       "            0.79701,     0.79654,     0.79629,     0.79592,     0.79583,     0.79485,     0.79378,     0.79301,     0.79285,     0.79267,     0.79162,     0.79124,     0.79053,     0.79053,     0.78806,     0.78769,     0.78663,     0.78629,     0.78519,     0.78448,     0.78418,     0.78376,     0.78276,\n",
       "            0.78272,     0.78254,     0.78231,     0.78124,     0.78088,     0.78064,     0.77958,     0.77923,     0.77872,     0.77852,       0.778,     0.77728,     0.77666,     0.77648,     0.77514,     0.77428,       0.773,     0.77228,     0.77122,     0.77085,     0.77005,     0.76942,     0.76906,\n",
       "            0.76835,     0.76687,     0.76687,     0.76687,     0.76654,      0.7653,     0.76423,     0.76352,     0.76298,     0.76279,     0.76157,     0.76101,     0.76029,     0.75934,     0.75916,     0.75885,     0.75804,     0.75777,     0.75706,     0.75599,     0.75492,      0.7545,     0.75415,\n",
       "            0.75384,     0.75347,     0.75241,     0.75169,     0.75062,     0.74885,     0.74706,     0.74618,     0.74546,     0.74475,     0.74439,     0.74403,     0.74366,     0.74224,     0.74153,      0.7401,     0.73974,     0.73797,     0.73761,     0.73669,     0.73651,     0.73528,     0.73386,\n",
       "            0.73331,     0.73137,     0.73048,     0.72923,     0.72746,     0.72649,     0.72631,     0.72531,     0.72354,     0.72236,     0.72228,     0.72122,     0.72085,     0.72024,     0.72013,     0.71906,      0.7187,     0.71834,     0.71741,     0.71725,     0.71707,     0.71636,     0.71388,\n",
       "            0.71376,     0.71364,     0.71244,     0.71168,     0.71012,       0.708,     0.70693,     0.70586,     0.70514,     0.70443,     0.70336,     0.70223,     0.70105,     0.70033,     0.69891,     0.69855,     0.69768,     0.69659,     0.69552,     0.69445,     0.69197,     0.69179,     0.69121,\n",
       "             0.6907,     0.68999,     0.68857,      0.6875,     0.68678,     0.68492,     0.68412,     0.68199,     0.68127,     0.68079,     0.67967,     0.67824,     0.67628,      0.6761,     0.67451,     0.67415,     0.67378,     0.67342,     0.67112,      0.6697,     0.66827,     0.66791,     0.66537,\n",
       "            0.66419,     0.66382,     0.66205,      0.6608,     0.65903,     0.65831,     0.65712,     0.65671,     0.65493,     0.65468,     0.65438,     0.65296,     0.65225,     0.64994,     0.64711,     0.64639,     0.64535,     0.64478,     0.64442,     0.64343,     0.64182,     0.64104,     0.64041,\n",
       "            0.63837,     0.63815,     0.63797,     0.63617,     0.63604,     0.63483,     0.63443,     0.63125,     0.63071,     0.63035,     0.62875,     0.62734,     0.62694,      0.6243,     0.62324,     0.62134,     0.62092,     0.62049,     0.61861,     0.61825,     0.61524,      0.6124,     0.61157,\n",
       "            0.60903,     0.60831,     0.60424,     0.60197,     0.60051,     0.59909,      0.5982,     0.59713,     0.59589,     0.59338,     0.59145,     0.59003,     0.58773,     0.58695,     0.58612,     0.58527,     0.58509,       0.583,      0.5822,     0.57954,      0.5787,     0.57793,     0.57616,\n",
       "            0.57421,     0.57334,     0.57189,     0.56959,     0.56799,     0.56726,     0.56411,      0.5639,     0.56089,     0.56012,     0.55964,     0.55839,       0.557,     0.55675,     0.55589,     0.55437,     0.55393,     0.55092,     0.54937,     0.54896,     0.54615,     0.54506,     0.54169,\n",
       "            0.54045,      0.5369,     0.53389,     0.53159,     0.52908,     0.52663,     0.52558,     0.52533,     0.52448,     0.52369,     0.52164,     0.52083,     0.51791,     0.51525,     0.51406,     0.51276,      0.5112,     0.50974,     0.50832,      0.5069,     0.50336,     0.50158,     0.50069,\n",
       "            0.49977,     0.49749,     0.49515,      0.4943,     0.49052,     0.48721,     0.48625,     0.48437,     0.48126,     0.47941,     0.47593,      0.4748,     0.47236,     0.46984,     0.46597,      0.4594,     0.45816,     0.45514,     0.45248,     0.44612,     0.44432,     0.44077,     0.43991,\n",
       "            0.43755,     0.43371,     0.43222,     0.42796,      0.4275,     0.42475,      0.4213,     0.41871,     0.41586,     0.41138,     0.40982,     0.40592,     0.40288,     0.40059,     0.39598,     0.39067,     0.38746,     0.38356,     0.38036,     0.37951,     0.37362,     0.37007,     0.36659,\n",
       "            0.36509,     0.36366,     0.36117,      0.3555,     0.35294,     0.35016,     0.34661,     0.34483,     0.34128,     0.33683,     0.33559,     0.33239,     0.32743,     0.32317,     0.31751,     0.31502,     0.31076,      0.3062,     0.30295,     0.29976,     0.29373,     0.29027,     0.28805,\n",
       "            0.28308,     0.28095,     0.27846,     0.27314,     0.26853,     0.26533,     0.26178,     0.25929,     0.25433,     0.24619,     0.24264,     0.23803,     0.23448,     0.23093,      0.2242,     0.22206,     0.21675,     0.21072,     0.20541,     0.20292,     0.19795,     0.19264,     0.18944,\n",
       "            0.18483,     0.18128,     0.17491,     0.17206,     0.16639,     0.15825,     0.15223,      0.1455,      0.1416,     0.13896,     0.12818,     0.12529,     0.12104,     0.11501,      0.1066,     0.10474,      0.1004,    0.095163,      0.0902,    0.085943,    0.083408,    0.076511,    0.074234,\n",
       "           0.067309,    0.063954,    0.060051,    0.052262,    0.048359,    0.042337,    0.038433,     0.03634,    0.034512,    0.031316,    0.030132,    0.025982,    0.023226,    0.022414,    0.020029,    0.018846,    0.016356,    0.015587,    0.014872,    0.012771,     0.01134,   0.0099096,    0.009538,\n",
       "          0.0077548,   0.0072243,   0.0066942,   0.0064528,   0.0049235,   0.0047425,   0.0045308,     0.00387,   0.0037895,   0.0037091,   0.0036286,   0.0035482,    0.003122,   0.0029409,   0.0027599,   0.0025789,   0.0023231,   0.0018026,   0.0013293,   0.0011483,  0.00068985,           0,           0,\n",
       "                  0,           0,           0,           0,           0,           0,           0,           0,           0,           0,           0,           0,           0,           0,           0,           0,           0,           0,           0,           0,           0,           0,           0,\n",
       "                  0,           0,           0,           0,           0,           0,           0,           0,           0,           0,           0,           0,           0,           0,           0,           0,           0,           0,           0,           0,           0,           0,           0,\n",
       "                  0,           0,           0,           0,           0,           0,           0,           0,           0,           0,           0]]), 'Confidence', 'Recall']]\n",
       "fitness: 0.6666422962658787\n",
       "keys: ['metrics/precision(B)', 'metrics/recall(B)', 'metrics/mAP50(B)', 'metrics/mAP50-95(B)']\n",
       "maps: array([    0.63654])\n",
       "names: {0: 'apple'}\n",
       "plot: True\n",
       "results_dict: {'metrics/precision(B)': 0.8833760566521789, 'metrics/recall(B)': 0.8643588837866478, 'metrics/mAP50(B)': 0.9375746026195156, 'metrics/mAP50-95(B)': 0.6365387066710302, 'fitness': 0.6666422962658787}\n",
       "save_dir: WindowsPath('runs/detect/train')\n",
       "speed: {'preprocess': 0.2231884002685547, 'inference': 1.7632074356079102, 'loss': 0.0, 'postprocess': 1.1893329620361328}\n",
       "task: 'detect'"
      ]
     },
     "execution_count": 2,
     "metadata": {},
     "output_type": "execute_result"
    }
   ],
   "source": [
    "from ultralytics import YOLO\n",
    "\n",
    "# Carregar o modelo YOLO11 afinado\n",
    "model = YOLO('C:\\\\Users\\\\píchau\\\\Documents\\\\TCC\\\\yolov8-env\\\\runs\\\\detect\\\\tune_no_prep\\\\weights\\\\best.pt')\n",
    "\n",
    "# Iniciar o treinamento\n",
    "model.train(data='C:\\\\Users\\\\píchau\\\\Documents\\\\TCC\\\\dataset.yaml')"
   ]
  },
  {
   "cell_type": "markdown",
   "metadata": {},
   "source": [
    "# Testes"
   ]
  },
  {
   "cell_type": "code",
   "execution_count": 2,
   "metadata": {},
   "outputs": [
    {
     "name": "stdout",
     "output_type": "stream",
     "text": [
      "Ultralytics 8.3.15  Python-3.12.2 torch-2.5.0+cu118 CUDA:0 (NVIDIA GeForce RTX 4060, 8188MiB)\n",
      "YOLO11n summary (fused): 238 layers, 2,582,347 parameters, 0 gradients, 6.3 GFLOPs\n"
     ]
    },
    {
     "name": "stderr",
     "output_type": "stream",
     "text": [
      "\u001b[34m\u001b[1mval: \u001b[0mScanning C:\\Users\\píchau\\Documents\\TCC\\dataset\\labels\\val_preprocessed.cache... 250 images, 0 backgrounds, 0 corrupt: 100%|██████████| 250/250 [00:00<?, ?it/s]\n",
      "                 Class     Images  Instances      Box(P          R      mAP50  mAP50-95): 100%|██████████| 16/16 [00:05<00:00,  3.16it/s]\n"
     ]
    },
    {
     "name": "stdout",
     "output_type": "stream",
     "text": [
      "                   all        250       2831      0.888      0.882      0.922      0.668\n",
      "Speed: 1.1ms preprocess, 3.3ms inference, 0.0ms loss, 1.5ms postprocess per image\n",
      "Saving runs\\test\\val3\\predictions.json...\n",
      "Results saved to \u001b[1mruns\\test\\val3\u001b[0m\n"
     ]
    }
   ],
   "source": [
    "from ultralytics import YOLO\n",
    "\n",
    "# Carregar o modelo treinado\n",
    "model = YOLO('C:\\\\Users\\\\píchau\\\\Documents\\\\TCC\\\\yolov8-env\\\\runs\\\\detect\\\\train_HP_preprocess\\\\weights\\\\best.pt')  # Altere para o caminho do seu modelo\n",
    "\n",
    "# Executar a inferência nas imagens de teste\n",
    "'''\n",
    "results = model.predict(source='C:\\\\Users\\\\píchau\\\\Documents\\\\TCC\\\\dataset\\\\images\\\\test_preprocessed',  # Altere para o diretório das imagens de teste\n",
    "                        conf=0.5,  # Confiança mínima para detectar objetos\n",
    "                        save=True,  # Salvar resultados em arquivos\n",
    "                        save_txt=True,  # Salvar resultados em arquivos TXT\n",
    "                        show=False)  # Mostrar resultados na tela\n",
    "'''\n",
    "valid = model.val(source='C:\\\\Users\\\\píchau\\\\Documents\\\\TCC\\\\dataset\\\\images\\\\test_preprocessed', \n",
    "                  imgsz=640, conf=0.28, iou=0.5, save_json=True, save_txt=True, task='test')"
   ]
  }
 ],
 "metadata": {
  "kernelspec": {
   "display_name": "yolov8-env",
   "language": "python",
   "name": "python3"
  },
  "language_info": {
   "codemirror_mode": {
    "name": "ipython",
    "version": 3
   },
   "file_extension": ".py",
   "mimetype": "text/x-python",
   "name": "python",
   "nbconvert_exporter": "python",
   "pygments_lexer": "ipython3",
   "version": "3.12.2"
  }
 },
 "nbformat": 4,
 "nbformat_minor": 2
}
