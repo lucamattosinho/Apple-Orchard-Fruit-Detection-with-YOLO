{
 "cells": [
  {
   "cell_type": "markdown",
   "metadata": {},
   "source": [
    "# Treinamento"
   ]
  },
  {
   "cell_type": "code",
   "execution_count": null,
   "metadata": {},
   "outputs": [
    {
     "name": "stdout",
     "output_type": "stream",
     "text": [
      "\u001b[34m\u001b[1mTuner: \u001b[0mInitialized Tuner instance with 'tune_dir=runs\\detect\\tune'\n",
      "\u001b[34m\u001b[1mTuner: \u001b[0m Learn about tuning at https://docs.ultralytics.com/guides/hyperparameter-tuning\n",
      "\u001b[34m\u001b[1mTuner: \u001b[0mStarting iteration 1/300 with hyperparameters: {'lr0': 0.01, 'lrf': 0.01, 'momentum': 0.937, 'weight_decay': 0.0005, 'warmup_epochs': 3.0, 'warmup_momentum': 0.8, 'box': 7.5, 'cls': 0.5, 'dfl': 1.5, 'hsv_h': 0.015, 'hsv_s': 0.7, 'hsv_v': 0.4, 'degrees': 0.0, 'translate': 0.1, 'scale': 0.5, 'shear': 0.0, 'perspective': 0.0, 'flipud': 0.0, 'fliplr': 0.5, 'bgr': 0.0, 'mosaic': 1.0, 'mixup': 0.0, 'copy_paste': 0.0}\n",
      "Saved runs\\detect\\tune\\tune_scatter_plots.png\n",
      "Saved runs\\detect\\tune\\tune_fitness.png\n",
      "\n",
      "\u001b[34m\u001b[1mTuner: \u001b[0m1/300 iterations complete  (394.87s)\n",
      "\u001b[34m\u001b[1mTuner: \u001b[0mResults saved to \u001b[1mruns\\detect\\tune\u001b[0m\n",
      "\u001b[34m\u001b[1mTuner: \u001b[0mBest fitness=0.63946 observed at iteration 1\n",
      "\u001b[34m\u001b[1mTuner: \u001b[0mBest fitness metrics are {'metrics/precision(B)': 0.88633, 'metrics/recall(B)': 0.82444, 'metrics/mAP50(B)': 0.91891, 'metrics/mAP50-95(B)': 0.60841, 'val/box_loss': 1.20376, 'val/cls_loss': 0.70545, 'val/dfl_loss': 1.18977, 'fitness': 0.63946}\n",
      "\u001b[34m\u001b[1mTuner: \u001b[0mBest fitness model is runs\\detect\\train3\n",
      "\u001b[34m\u001b[1mTuner: \u001b[0mBest fitness hyperparameters are printed below.\n",
      "\n",
      "Printing '\u001b[1m\u001b[30mruns\\detect\\tune\\best_hyperparameters.yaml\u001b[0m'\n",
      "\n",
      "lr0: 0.01\n",
      "lrf: 0.01\n",
      "momentum: 0.937\n",
      "weight_decay: 0.0005\n",
      "warmup_epochs: 3.0\n",
      "warmup_momentum: 0.8\n",
      "box: 7.5\n",
      "cls: 0.5\n",
      "dfl: 1.5\n",
      "hsv_h: 0.015\n",
      "hsv_s: 0.7\n",
      "hsv_v: 0.4\n",
      "degrees: 0.0\n",
      "translate: 0.1\n",
      "scale: 0.5\n",
      "shear: 0.0\n",
      "perspective: 0.0\n",
      "flipud: 0.0\n",
      "fliplr: 0.5\n",
      "bgr: 0.0\n",
      "mosaic: 1.0\n",
      "mixup: 0.0\n",
      "copy_paste: 0.0\n",
      "\n",
      "\u001b[34m\u001b[1mTuner: \u001b[0mStarting iteration 2/300 with hyperparameters: {'lr0': 0.00953, 'lrf': 0.01042, 'momentum': 0.93701, 'weight_decay': 0.0005, 'warmup_epochs': 3.35748, 'warmup_momentum': 0.81988, 'box': 7.25154, 'cls': 0.51224, 'dfl': 1.35028, 'hsv_h': 0.015, 'hsv_s': 0.75858, 'hsv_v': 0.4, 'degrees': 0.0, 'translate': 0.11502, 'scale': 0.49119, 'shear': 0.0, 'perspective': 0.0, 'flipud': 0.0, 'fliplr': 0.5, 'bgr': 0.0, 'mosaic': 0.95767, 'mixup': 0.0, 'copy_paste': 0.0}\n",
      "Saved runs\\detect\\tune\\tune_scatter_plots.png\n",
      "Saved runs\\detect\\tune\\tune_fitness.png\n",
      "\n",
      "\u001b[34m\u001b[1mTuner: \u001b[0m2/300 iterations complete  (826.78s)\n",
      "\u001b[34m\u001b[1mTuner: \u001b[0mResults saved to \u001b[1mruns\\detect\\tune\u001b[0m\n",
      "\u001b[34m\u001b[1mTuner: \u001b[0mBest fitness=0.645 observed at iteration 2\n",
      "\u001b[34m\u001b[1mTuner: \u001b[0mBest fitness metrics are {'metrics/precision(B)': 0.87466, 'metrics/recall(B)': 0.83716, 'metrics/mAP50(B)': 0.91842, 'metrics/mAP50-95(B)': 0.61462, 'val/box_loss': 1.15464, 'val/cls_loss': 0.70591, 'val/dfl_loss': 1.05917, 'fitness': 0.645}\n",
      "\u001b[34m\u001b[1mTuner: \u001b[0mBest fitness model is runs\\detect\\train4\n",
      "\u001b[34m\u001b[1mTuner: \u001b[0mBest fitness hyperparameters are printed below.\n",
      "\n",
      "Printing '\u001b[1m\u001b[30mruns\\detect\\tune\\best_hyperparameters.yaml\u001b[0m'\n",
      "\n",
      "lr0: 0.00953\n",
      "lrf: 0.01042\n",
      "momentum: 0.93701\n",
      "weight_decay: 0.0005\n",
      "warmup_epochs: 3.35748\n",
      "warmup_momentum: 0.81988\n",
      "box: 7.25154\n",
      "cls: 0.51224\n",
      "dfl: 1.35028\n",
      "hsv_h: 0.015\n",
      "hsv_s: 0.75858\n",
      "hsv_v: 0.4\n",
      "degrees: 0.0\n",
      "translate: 0.11502\n",
      "scale: 0.49119\n",
      "shear: 0.0\n",
      "perspective: 0.0\n",
      "flipud: 0.0\n",
      "fliplr: 0.5\n",
      "bgr: 0.0\n",
      "mosaic: 0.95767\n",
      "mixup: 0.0\n",
      "copy_paste: 0.0\n",
      "\n",
      "\u001b[34m\u001b[1mTuner: \u001b[0mStarting iteration 3/300 with hyperparameters: {'lr0': 0.00948, 'lrf': 0.01042, 'momentum': 0.93992, 'weight_decay': 0.00049, 'warmup_epochs': 3.3279, 'warmup_momentum': 0.81367, 'box': 7.28784, 'cls': 0.50267, 'dfl': 1.37151, 'hsv_h': 0.01501, 'hsv_s': 0.75858, 'hsv_v': 0.4, 'degrees': 0.0, 'translate': 0.11436, 'scale': 0.48745, 'shear': 0.0, 'perspective': 0.0, 'flipud': 0.0, 'fliplr': 0.49552, 'bgr': 0.0, 'mosaic': 0.95767, 'mixup': 0.0, 'copy_paste': 0.0}\n",
      "Saved runs\\detect\\tune\\tune_scatter_plots.png\n",
      "Saved runs\\detect\\tune\\tune_fitness.png\n",
      "\n",
      "\u001b[34m\u001b[1mTuner: \u001b[0m3/300 iterations complete  (1217.01s)\n",
      "\u001b[34m\u001b[1mTuner: \u001b[0mResults saved to \u001b[1mruns\\detect\\tune\u001b[0m\n",
      "\u001b[34m\u001b[1mTuner: \u001b[0mBest fitness=0.645 observed at iteration 2\n",
      "\u001b[34m\u001b[1mTuner: \u001b[0mBest fitness metrics are {'metrics/precision(B)': 0.87466, 'metrics/recall(B)': 0.83716, 'metrics/mAP50(B)': 0.91842, 'metrics/mAP50-95(B)': 0.61462, 'val/box_loss': 1.15464, 'val/cls_loss': 0.70591, 'val/dfl_loss': 1.05917, 'fitness': 0.645}\n",
      "\u001b[34m\u001b[1mTuner: \u001b[0mBest fitness model is runs\\detect\\train4\n",
      "\u001b[34m\u001b[1mTuner: \u001b[0mBest fitness hyperparameters are printed below.\n",
      "\n",
      "Printing '\u001b[1m\u001b[30mruns\\detect\\tune\\best_hyperparameters.yaml\u001b[0m'\n",
      "\n",
      "lr0: 0.00953\n",
      "lrf: 0.01042\n",
      "momentum: 0.93701\n",
      "weight_decay: 0.0005\n",
      "warmup_epochs: 3.35748\n",
      "warmup_momentum: 0.81988\n",
      "box: 7.25154\n",
      "cls: 0.51224\n",
      "dfl: 1.35028\n",
      "hsv_h: 0.015\n",
      "hsv_s: 0.75858\n",
      "hsv_v: 0.4\n",
      "degrees: 0.0\n",
      "translate: 0.11502\n",
      "scale: 0.49119\n",
      "shear: 0.0\n",
      "perspective: 0.0\n",
      "flipud: 0.0\n",
      "fliplr: 0.5\n",
      "bgr: 0.0\n",
      "mosaic: 0.95767\n",
      "mixup: 0.0\n",
      "copy_paste: 0.0\n",
      "\n",
      "\u001b[34m\u001b[1mTuner: \u001b[0mStarting iteration 4/300 with hyperparameters: {'lr0': 0.00957, 'lrf': 0.01104, 'momentum': 0.94081, 'weight_decay': 0.0005, 'warmup_epochs': 3.29107, 'warmup_momentum': 0.87008, 'box': 6.87107, 'cls': 0.52739, 'dfl': 1.27572, 'hsv_h': 0.01482, 'hsv_s': 0.7755, 'hsv_v': 0.4, 'degrees': 0.0, 'translate': 0.11502, 'scale': 0.51215, 'shear': 0.0, 'perspective': 0.0, 'flipud': 0.0, 'fliplr': 0.44059, 'bgr': 0.0, 'mosaic': 1.0, 'mixup': 0.0, 'copy_paste': 0.0}\n",
      "Saved runs\\detect\\tune\\tune_scatter_plots.png\n",
      "Saved runs\\detect\\tune\\tune_fitness.png\n",
      "\n",
      "\u001b[34m\u001b[1mTuner: \u001b[0m4/300 iterations complete  (1603.77s)\n",
      "\u001b[34m\u001b[1mTuner: \u001b[0mResults saved to \u001b[1mruns\\detect\\tune\u001b[0m\n",
      "\u001b[34m\u001b[1mTuner: \u001b[0mBest fitness=0.645 observed at iteration 2\n",
      "\u001b[34m\u001b[1mTuner: \u001b[0mBest fitness metrics are {'metrics/precision(B)': 0.87466, 'metrics/recall(B)': 0.83716, 'metrics/mAP50(B)': 0.91842, 'metrics/mAP50-95(B)': 0.61462, 'val/box_loss': 1.15464, 'val/cls_loss': 0.70591, 'val/dfl_loss': 1.05917, 'fitness': 0.645}\n",
      "\u001b[34m\u001b[1mTuner: \u001b[0mBest fitness model is runs\\detect\\train4\n",
      "\u001b[34m\u001b[1mTuner: \u001b[0mBest fitness hyperparameters are printed below.\n",
      "\n",
      "Printing '\u001b[1m\u001b[30mruns\\detect\\tune\\best_hyperparameters.yaml\u001b[0m'\n",
      "\n",
      "lr0: 0.00953\n",
      "lrf: 0.01042\n",
      "momentum: 0.93701\n",
      "weight_decay: 0.0005\n",
      "warmup_epochs: 3.35748\n",
      "warmup_momentum: 0.81988\n",
      "box: 7.25154\n",
      "cls: 0.51224\n",
      "dfl: 1.35028\n",
      "hsv_h: 0.015\n",
      "hsv_s: 0.75858\n",
      "hsv_v: 0.4\n",
      "degrees: 0.0\n",
      "translate: 0.11502\n",
      "scale: 0.49119\n",
      "shear: 0.0\n",
      "perspective: 0.0\n",
      "flipud: 0.0\n",
      "fliplr: 0.5\n",
      "bgr: 0.0\n",
      "mosaic: 0.95767\n",
      "mixup: 0.0\n",
      "copy_paste: 0.0\n",
      "\n",
      "\u001b[34m\u001b[1mTuner: \u001b[0mStarting iteration 5/300 with hyperparameters: {'lr0': 0.0065, 'lrf': 0.01199, 'momentum': 0.91916, 'weight_decay': 0.0005, 'warmup_epochs': 2.69256, 'warmup_momentum': 0.67657, 'box': 7.21712, 'cls': 0.5063, 'dfl': 1.35028, 'hsv_h': 0.01563, 'hsv_s': 0.86895, 'hsv_v': 0.42102, 'degrees': 0.0, 'translate': 0.11323, 'scale': 0.36983, 'shear': 0.0, 'perspective': 0.0, 'flipud': 0.0, 'fliplr': 0.52414, 'bgr': 0.0, 'mosaic': 1.0, 'mixup': 0.0, 'copy_paste': 0.0}\n",
      "Saved runs\\detect\\tune\\tune_scatter_plots.png\n",
      "Saved runs\\detect\\tune\\tune_fitness.png\n",
      "\n",
      "\u001b[34m\u001b[1mTuner: \u001b[0m5/300 iterations complete  (1986.09s)\n",
      "\u001b[34m\u001b[1mTuner: \u001b[0mResults saved to \u001b[1mruns\\detect\\tune\u001b[0m\n",
      "\u001b[34m\u001b[1mTuner: \u001b[0mBest fitness=0.64611 observed at iteration 5\n",
      "\u001b[34m\u001b[1mTuner: \u001b[0mBest fitness metrics are {'metrics/precision(B)': 0.88598, 'metrics/recall(B)': 0.82617, 'metrics/mAP50(B)': 0.92038, 'metrics/mAP50-95(B)': 0.61563, 'val/box_loss': 1.14461, 'val/cls_loss': 0.68817, 'val/dfl_loss': 1.0473, 'fitness': 0.64611}\n",
      "\u001b[34m\u001b[1mTuner: \u001b[0mBest fitness model is runs\\detect\\train7\n",
      "\u001b[34m\u001b[1mTuner: \u001b[0mBest fitness hyperparameters are printed below.\n",
      "\n",
      "Printing '\u001b[1m\u001b[30mruns\\detect\\tune\\best_hyperparameters.yaml\u001b[0m'\n",
      "\n",
      "lr0: 0.0065\n",
      "lrf: 0.01199\n",
      "momentum: 0.91916\n",
      "weight_decay: 0.0005\n",
      "warmup_epochs: 2.69256\n",
      "warmup_momentum: 0.67657\n",
      "box: 7.21712\n",
      "cls: 0.5063\n",
      "dfl: 1.35028\n",
      "hsv_h: 0.01563\n",
      "hsv_s: 0.86895\n",
      "hsv_v: 0.42102\n",
      "degrees: 0.0\n",
      "translate: 0.11323\n",
      "scale: 0.36983\n",
      "shear: 0.0\n",
      "perspective: 0.0\n",
      "flipud: 0.0\n",
      "fliplr: 0.52414\n",
      "bgr: 0.0\n",
      "mosaic: 1.0\n",
      "mixup: 0.0\n",
      "copy_paste: 0.0\n",
      "\n",
      "\u001b[34m\u001b[1mTuner: \u001b[0mStarting iteration 6/300 with hyperparameters: {'lr0': 0.00965, 'lrf': 0.01094, 'momentum': 0.92607, 'weight_decay': 0.00053, 'warmup_epochs': 3.22608, 'warmup_momentum': 0.81988, 'box': 7.25154, 'cls': 0.52191, 'dfl': 1.36245, 'hsv_h': 0.0143, 'hsv_s': 0.74382, 'hsv_v': 0.38306, 'degrees': 0.0, 'translate': 0.12228, 'scale': 0.49119, 'shear': 0.0, 'perspective': 0.0, 'flipud': 0.0, 'fliplr': 0.50427, 'bgr': 0.0, 'mosaic': 1.0, 'mixup': 0.0, 'copy_paste': 0.0}\n",
      "Saved runs\\detect\\tune\\tune_scatter_plots.png\n",
      "Saved runs\\detect\\tune\\tune_fitness.png\n",
      "\n",
      "\u001b[34m\u001b[1mTuner: \u001b[0m6/300 iterations complete  (2361.29s)\n",
      "\u001b[34m\u001b[1mTuner: \u001b[0mResults saved to \u001b[1mruns\\detect\\tune\u001b[0m\n",
      "\u001b[34m\u001b[1mTuner: \u001b[0mBest fitness=0.64611 observed at iteration 5\n",
      "\u001b[34m\u001b[1mTuner: \u001b[0mBest fitness metrics are {'metrics/precision(B)': 0.88598, 'metrics/recall(B)': 0.82617, 'metrics/mAP50(B)': 0.92038, 'metrics/mAP50-95(B)': 0.61563, 'val/box_loss': 1.14461, 'val/cls_loss': 0.68817, 'val/dfl_loss': 1.0473, 'fitness': 0.64611}\n",
      "\u001b[34m\u001b[1mTuner: \u001b[0mBest fitness model is runs\\detect\\train7\n",
      "\u001b[34m\u001b[1mTuner: \u001b[0mBest fitness hyperparameters are printed below.\n",
      "\n",
      "Printing '\u001b[1m\u001b[30mruns\\detect\\tune\\best_hyperparameters.yaml\u001b[0m'\n",
      "\n",
      "lr0: 0.0065\n",
      "lrf: 0.01199\n",
      "momentum: 0.91916\n",
      "weight_decay: 0.0005\n",
      "warmup_epochs: 2.69256\n",
      "warmup_momentum: 0.67657\n",
      "box: 7.21712\n",
      "cls: 0.5063\n",
      "dfl: 1.35028\n",
      "hsv_h: 0.01563\n",
      "hsv_s: 0.86895\n",
      "hsv_v: 0.42102\n",
      "degrees: 0.0\n",
      "translate: 0.11323\n",
      "scale: 0.36983\n",
      "shear: 0.0\n",
      "perspective: 0.0\n",
      "flipud: 0.0\n",
      "fliplr: 0.52414\n",
      "bgr: 0.0\n",
      "mosaic: 1.0\n",
      "mixup: 0.0\n",
      "copy_paste: 0.0\n",
      "\n",
      "\u001b[34m\u001b[1mTuner: \u001b[0mStarting iteration 7/300 with hyperparameters: {'lr0': 0.01131, 'lrf': 0.01141, 'momentum': 0.93072, 'weight_decay': 0.0005, 'warmup_epochs': 3.1399, 'warmup_momentum': 0.5985, 'box': 6.30287, 'cls': 0.45964, 'dfl': 1.35028, 'hsv_h': 0.01917, 'hsv_s': 0.47252, 'hsv_v': 0.43703, 'degrees': 0.0, 'translate': 0.11502, 'scale': 0.49119, 'shear': 0.0, 'perspective': 0.0, 'flipud': 0.0, 'fliplr': 0.41068, 'bgr': 0.0, 'mosaic': 0.85598, 'mixup': 0.0, 'copy_paste': 0.0}\n",
      "Saved runs\\detect\\tune\\tune_scatter_plots.png\n",
      "Saved runs\\detect\\tune\\tune_fitness.png\n",
      "\n",
      "\u001b[34m\u001b[1mTuner: \u001b[0m7/300 iterations complete  (2731.64s)\n",
      "\u001b[34m\u001b[1mTuner: \u001b[0mResults saved to \u001b[1mruns\\detect\\tune\u001b[0m\n",
      "\u001b[34m\u001b[1mTuner: \u001b[0mBest fitness=0.64611 observed at iteration 5\n",
      "\u001b[34m\u001b[1mTuner: \u001b[0mBest fitness metrics are {'metrics/precision(B)': 0.88598, 'metrics/recall(B)': 0.82617, 'metrics/mAP50(B)': 0.92038, 'metrics/mAP50-95(B)': 0.61563, 'val/box_loss': 1.14461, 'val/cls_loss': 0.68817, 'val/dfl_loss': 1.0473, 'fitness': 0.64611}\n",
      "\u001b[34m\u001b[1mTuner: \u001b[0mBest fitness model is runs\\detect\\train7\n",
      "\u001b[34m\u001b[1mTuner: \u001b[0mBest fitness hyperparameters are printed below.\n",
      "\n",
      "Printing '\u001b[1m\u001b[30mruns\\detect\\tune\\best_hyperparameters.yaml\u001b[0m'\n",
      "\n",
      "lr0: 0.0065\n",
      "lrf: 0.01199\n",
      "momentum: 0.91916\n",
      "weight_decay: 0.0005\n",
      "warmup_epochs: 2.69256\n",
      "warmup_momentum: 0.67657\n",
      "box: 7.21712\n",
      "cls: 0.5063\n",
      "dfl: 1.35028\n",
      "hsv_h: 0.01563\n",
      "hsv_s: 0.86895\n",
      "hsv_v: 0.42102\n",
      "degrees: 0.0\n",
      "translate: 0.11323\n",
      "scale: 0.36983\n",
      "shear: 0.0\n",
      "perspective: 0.0\n",
      "flipud: 0.0\n",
      "fliplr: 0.52414\n",
      "bgr: 0.0\n",
      "mosaic: 1.0\n",
      "mixup: 0.0\n",
      "copy_paste: 0.0\n",
      "\n",
      "\u001b[34m\u001b[1mTuner: \u001b[0mStarting iteration 8/300 with hyperparameters: {'lr0': 0.00933, 'lrf': 0.01022, 'momentum': 0.93992, 'weight_decay': 0.00051, 'warmup_epochs': 3.49866, 'warmup_momentum': 0.76702, 'box': 7.43287, 'cls': 0.51691, 'dfl': 1.3678, 'hsv_h': 0.01497, 'hsv_s': 0.77719, 'hsv_v': 0.4092, 'degrees': 0.0, 'translate': 0.11585, 'scale': 0.50417, 'shear': 0.0, 'perspective': 0.0, 'flipud': 0.0, 'fliplr': 0.496, 'bgr': 0.0, 'mosaic': 0.93937, 'mixup': 0.0, 'copy_paste': 0.0}\n",
      "Saved runs\\detect\\tune\\tune_scatter_plots.png\n",
      "Saved runs\\detect\\tune\\tune_fitness.png\n",
      "\n",
      "\u001b[34m\u001b[1mTuner: \u001b[0m8/300 iterations complete  (3108.18s)\n",
      "\u001b[34m\u001b[1mTuner: \u001b[0mResults saved to \u001b[1mruns\\detect\\tune\u001b[0m\n",
      "\u001b[34m\u001b[1mTuner: \u001b[0mBest fitness=0.64611 observed at iteration 5\n",
      "\u001b[34m\u001b[1mTuner: \u001b[0mBest fitness metrics are {'metrics/precision(B)': 0.88598, 'metrics/recall(B)': 0.82617, 'metrics/mAP50(B)': 0.92038, 'metrics/mAP50-95(B)': 0.61563, 'val/box_loss': 1.14461, 'val/cls_loss': 0.68817, 'val/dfl_loss': 1.0473, 'fitness': 0.64611}\n",
      "\u001b[34m\u001b[1mTuner: \u001b[0mBest fitness model is runs\\detect\\train7\n",
      "\u001b[34m\u001b[1mTuner: \u001b[0mBest fitness hyperparameters are printed below.\n",
      "\n",
      "Printing '\u001b[1m\u001b[30mruns\\detect\\tune\\best_hyperparameters.yaml\u001b[0m'\n",
      "\n",
      "lr0: 0.0065\n",
      "lrf: 0.01199\n",
      "momentum: 0.91916\n",
      "weight_decay: 0.0005\n",
      "warmup_epochs: 2.69256\n",
      "warmup_momentum: 0.67657\n",
      "box: 7.21712\n",
      "cls: 0.5063\n",
      "dfl: 1.35028\n",
      "hsv_h: 0.01563\n",
      "hsv_s: 0.86895\n",
      "hsv_v: 0.42102\n",
      "degrees: 0.0\n",
      "translate: 0.11323\n",
      "scale: 0.36983\n",
      "shear: 0.0\n",
      "perspective: 0.0\n",
      "flipud: 0.0\n",
      "fliplr: 0.52414\n",
      "bgr: 0.0\n",
      "mosaic: 1.0\n",
      "mixup: 0.0\n",
      "copy_paste: 0.0\n",
      "\n",
      "\u001b[34m\u001b[1mTuner: \u001b[0mStarting iteration 9/300 with hyperparameters: {'lr0': 0.0065, 'lrf': 0.01199, 'momentum': 0.91742, 'weight_decay': 0.00051, 'warmup_epochs': 2.69256, 'warmup_momentum': 0.67481, 'box': 7.14094, 'cls': 0.50892, 'dfl': 1.34006, 'hsv_h': 0.01566, 'hsv_s': 0.87239, 'hsv_v': 0.4212, 'degrees': 0.0, 'translate': 0.11652, 'scale': 0.3678, 'shear': 0.0, 'perspective': 0.0, 'flipud': 0.0, 'fliplr': 0.53804, 'bgr': 0.0, 'mosaic': 1.0, 'mixup': 0.0, 'copy_paste': 0.0}\n",
      "Saved runs\\detect\\tune\\tune_scatter_plots.png\n",
      "Saved runs\\detect\\tune\\tune_fitness.png\n",
      "\n",
      "\u001b[34m\u001b[1mTuner: \u001b[0m9/300 iterations complete  (3488.05s)\n",
      "\u001b[34m\u001b[1mTuner: \u001b[0mResults saved to \u001b[1mruns\\detect\\tune\u001b[0m\n",
      "\u001b[34m\u001b[1mTuner: \u001b[0mBest fitness=0.64852 observed at iteration 9\n",
      "\u001b[34m\u001b[1mTuner: \u001b[0mBest fitness metrics are {'metrics/precision(B)': 0.89082, 'metrics/recall(B)': 0.82727, 'metrics/mAP50(B)': 0.92143, 'metrics/mAP50-95(B)': 0.61819, 'val/box_loss': 1.13026, 'val/cls_loss': 0.68873, 'val/dfl_loss': 1.01862, 'fitness': 0.64852}\n",
      "\u001b[34m\u001b[1mTuner: \u001b[0mBest fitness model is runs\\detect\\train11\n",
      "\u001b[34m\u001b[1mTuner: \u001b[0mBest fitness hyperparameters are printed below.\n",
      "\n",
      "Printing '\u001b[1m\u001b[30mruns\\detect\\tune\\best_hyperparameters.yaml\u001b[0m'\n",
      "\n",
      "lr0: 0.0065\n",
      "lrf: 0.01199\n",
      "momentum: 0.91742\n",
      "weight_decay: 0.00051\n",
      "warmup_epochs: 2.69256\n",
      "warmup_momentum: 0.67481\n",
      "box: 7.14094\n",
      "cls: 0.50892\n",
      "dfl: 1.34006\n",
      "hsv_h: 0.01566\n",
      "hsv_s: 0.87239\n",
      "hsv_v: 0.4212\n",
      "degrees: 0.0\n",
      "translate: 0.11652\n",
      "scale: 0.3678\n",
      "shear: 0.0\n",
      "perspective: 0.0\n",
      "flipud: 0.0\n",
      "fliplr: 0.53804\n",
      "bgr: 0.0\n",
      "mosaic: 1.0\n",
      "mixup: 0.0\n",
      "copy_paste: 0.0\n",
      "\n",
      "\u001b[34m\u001b[1mTuner: \u001b[0mStarting iteration 10/300 with hyperparameters: {'lr0': 0.00759, 'lrf': 0.01199, 'momentum': 0.86202, 'weight_decay': 0.00051, 'warmup_epochs': 2.7086, 'warmup_momentum': 0.59742, 'box': 8.88586, 'cls': 0.47447, 'dfl': 1.8454, 'hsv_h': 0.01103, 'hsv_s': 0.9, 'hsv_v': 0.32774, 'degrees': 0.0, 'translate': 0.12875, 'scale': 0.40831, 'shear': 0.0, 'perspective': 0.0, 'flipud': 0.0, 'fliplr': 0.57048, 'bgr': 0.0, 'mosaic': 1.0, 'mixup': 0.0, 'copy_paste': 0.0}\n",
      "Saved runs\\detect\\tune\\tune_scatter_plots.png\n",
      "Saved runs\\detect\\tune\\tune_fitness.png\n",
      "\n",
      "\u001b[34m\u001b[1mTuner: \u001b[0m10/300 iterations complete  (3864.95s)\n",
      "\u001b[34m\u001b[1mTuner: \u001b[0mResults saved to \u001b[1mruns\\detect\\tune\u001b[0m\n",
      "\u001b[34m\u001b[1mTuner: \u001b[0mBest fitness=0.64852 observed at iteration 9\n",
      "\u001b[34m\u001b[1mTuner: \u001b[0mBest fitness metrics are {'metrics/precision(B)': 0.89082, 'metrics/recall(B)': 0.82727, 'metrics/mAP50(B)': 0.92143, 'metrics/mAP50-95(B)': 0.61819, 'val/box_loss': 1.13026, 'val/cls_loss': 0.68873, 'val/dfl_loss': 1.01862, 'fitness': 0.64852}\n",
      "\u001b[34m\u001b[1mTuner: \u001b[0mBest fitness model is runs\\detect\\train11\n",
      "\u001b[34m\u001b[1mTuner: \u001b[0mBest fitness hyperparameters are printed below.\n",
      "\n",
      "Printing '\u001b[1m\u001b[30mruns\\detect\\tune\\best_hyperparameters.yaml\u001b[0m'\n",
      "\n",
      "lr0: 0.0065\n",
      "lrf: 0.01199\n",
      "momentum: 0.91742\n",
      "weight_decay: 0.00051\n",
      "warmup_epochs: 2.69256\n",
      "warmup_momentum: 0.67481\n",
      "box: 7.14094\n",
      "cls: 0.50892\n",
      "dfl: 1.34006\n",
      "hsv_h: 0.01566\n",
      "hsv_s: 0.87239\n",
      "hsv_v: 0.4212\n",
      "degrees: 0.0\n",
      "translate: 0.11652\n",
      "scale: 0.3678\n",
      "shear: 0.0\n",
      "perspective: 0.0\n",
      "flipud: 0.0\n",
      "fliplr: 0.53804\n",
      "bgr: 0.0\n",
      "mosaic: 1.0\n",
      "mixup: 0.0\n",
      "copy_paste: 0.0\n",
      "\n",
      "\u001b[34m\u001b[1mTuner: \u001b[0mStarting iteration 11/300 with hyperparameters: {'lr0': 0.0065, 'lrf': 0.0132, 'momentum': 0.91473, 'weight_decay': 0.00046, 'warmup_epochs': 2.08942, 'warmup_momentum': 0.70474, 'box': 7.90365, 'cls': 0.61293, 'dfl': 1.25351, 'hsv_h': 0.01392, 'hsv_s': 0.7104, 'hsv_v': 0.52212, 'degrees': 0.0, 'translate': 0.12441, 'scale': 0.44403, 'shear': 0.0, 'perspective': 0.0, 'flipud': 0.0, 'fliplr': 0.39068, 'bgr': 0.0, 'mosaic': 0.87313, 'mixup': 0.0, 'copy_paste': 0.0}\n",
      "Saved runs\\detect\\tune\\tune_scatter_plots.png\n",
      "Saved runs\\detect\\tune\\tune_fitness.png\n",
      "\n",
      "\u001b[34m\u001b[1mTuner: \u001b[0m11/300 iterations complete  (4256.75s)\n",
      "\u001b[34m\u001b[1mTuner: \u001b[0mResults saved to \u001b[1mruns\\detect\\tune\u001b[0m\n",
      "\u001b[34m\u001b[1mTuner: \u001b[0mBest fitness=0.65 observed at iteration 11\n",
      "\u001b[34m\u001b[1mTuner: \u001b[0mBest fitness metrics are {'metrics/precision(B)': 0.89602, 'metrics/recall(B)': 0.82795, 'metrics/mAP50(B)': 0.92421, 'metrics/mAP50-95(B)': 0.61953, 'val/box_loss': 1.25063, 'val/cls_loss': 0.82702, 'val/dfl_loss': 0.979, 'fitness': 0.65}\n",
      "\u001b[34m\u001b[1mTuner: \u001b[0mBest fitness model is runs\\detect\\train13\n",
      "\u001b[34m\u001b[1mTuner: \u001b[0mBest fitness hyperparameters are printed below.\n",
      "\n",
      "Printing '\u001b[1m\u001b[30mruns\\detect\\tune\\best_hyperparameters.yaml\u001b[0m'\n",
      "\n",
      "lr0: 0.0065\n",
      "lrf: 0.0132\n",
      "momentum: 0.91473\n",
      "weight_decay: 0.00046\n",
      "warmup_epochs: 2.08942\n",
      "warmup_momentum: 0.70474\n",
      "box: 7.90365\n",
      "cls: 0.61293\n",
      "dfl: 1.25351\n",
      "hsv_h: 0.01392\n",
      "hsv_s: 0.7104\n",
      "hsv_v: 0.52212\n",
      "degrees: 0.0\n",
      "translate: 0.12441\n",
      "scale: 0.44403\n",
      "shear: 0.0\n",
      "perspective: 0.0\n",
      "flipud: 0.0\n",
      "fliplr: 0.39068\n",
      "bgr: 0.0\n",
      "mosaic: 0.87313\n",
      "mixup: 0.0\n",
      "copy_paste: 0.0\n",
      "\n",
      "\u001b[34m\u001b[1mTuner: \u001b[0mStarting iteration 12/300 with hyperparameters: {'lr0': 0.00642, 'lrf': 0.01191, 'momentum': 0.9116, 'weight_decay': 0.0005, 'warmup_epochs': 2.57872, 'warmup_momentum': 0.67657, 'box': 7.16234, 'cls': 0.52161, 'dfl': 1.35028, 'hsv_h': 0.01618, 'hsv_s': 0.85699, 'hsv_v': 0.44037, 'degrees': 0.0, 'translate': 0.1093, 'scale': 0.38017, 'shear': 0.0, 'perspective': 0.0, 'flipud': 0.0, 'fliplr': 0.53176, 'bgr': 0.0, 'mosaic': 1.0, 'mixup': 0.0, 'copy_paste': 0.0}\n",
      "Saved runs\\detect\\tune\\tune_scatter_plots.png\n",
      "Saved runs\\detect\\tune\\tune_fitness.png\n",
      "\n",
      "\u001b[34m\u001b[1mTuner: \u001b[0m12/300 iterations complete  (4637.55s)\n",
      "\u001b[34m\u001b[1mTuner: \u001b[0mResults saved to \u001b[1mruns\\detect\\tune\u001b[0m\n",
      "\u001b[34m\u001b[1mTuner: \u001b[0mBest fitness=0.65 observed at iteration 11\n",
      "\u001b[34m\u001b[1mTuner: \u001b[0mBest fitness metrics are {'metrics/precision(B)': 0.89602, 'metrics/recall(B)': 0.82795, 'metrics/mAP50(B)': 0.92421, 'metrics/mAP50-95(B)': 0.61953, 'val/box_loss': 1.25063, 'val/cls_loss': 0.82702, 'val/dfl_loss': 0.979, 'fitness': 0.65}\n",
      "\u001b[34m\u001b[1mTuner: \u001b[0mBest fitness model is runs\\detect\\train13\n",
      "\u001b[34m\u001b[1mTuner: \u001b[0mBest fitness hyperparameters are printed below.\n",
      "\n",
      "Printing '\u001b[1m\u001b[30mruns\\detect\\tune\\best_hyperparameters.yaml\u001b[0m'\n",
      "\n",
      "lr0: 0.0065\n",
      "lrf: 0.0132\n",
      "momentum: 0.91473\n",
      "weight_decay: 0.00046\n",
      "warmup_epochs: 2.08942\n",
      "warmup_momentum: 0.70474\n",
      "box: 7.90365\n",
      "cls: 0.61293\n",
      "dfl: 1.25351\n",
      "hsv_h: 0.01392\n",
      "hsv_s: 0.7104\n",
      "hsv_v: 0.52212\n",
      "degrees: 0.0\n",
      "translate: 0.12441\n",
      "scale: 0.44403\n",
      "shear: 0.0\n",
      "perspective: 0.0\n",
      "flipud: 0.0\n",
      "fliplr: 0.39068\n",
      "bgr: 0.0\n",
      "mosaic: 0.87313\n",
      "mixup: 0.0\n",
      "copy_paste: 0.0\n",
      "\n",
      "\u001b[34m\u001b[1mTuner: \u001b[0mStarting iteration 13/300 with hyperparameters: {'lr0': 0.00655, 'lrf': 0.01409, 'momentum': 0.86042, 'weight_decay': 0.00044, 'warmup_epochs': 2.95403, 'warmup_momentum': 0.72731, 'box': 7.3637, 'cls': 0.56015, 'dfl': 1.15707, 'hsv_h': 0.01677, 'hsv_s': 0.68597, 'hsv_v': 0.42293, 'degrees': 0.0, 'translate': 0.11181, 'scale': 0.36684, 'shear': 0.0, 'perspective': 0.0, 'flipud': 0.0, 'fliplr': 0.45957, 'bgr': 0.0, 'mosaic': 1.0, 'mixup': 0.0, 'copy_paste': 0.0}\n",
      "Saved runs\\detect\\tune\\tune_scatter_plots.png\n",
      "Saved runs\\detect\\tune\\tune_fitness.png\n",
      "\n",
      "\u001b[34m\u001b[1mTuner: \u001b[0m13/300 iterations complete  (5018.88s)\n",
      "\u001b[34m\u001b[1mTuner: \u001b[0mResults saved to \u001b[1mruns\\detect\\tune\u001b[0m\n",
      "\u001b[34m\u001b[1mTuner: \u001b[0mBest fitness=0.65509 observed at iteration 13\n",
      "\u001b[34m\u001b[1mTuner: \u001b[0mBest fitness metrics are {'metrics/precision(B)': 0.90204, 'metrics/recall(B)': 0.83592, 'metrics/mAP50(B)': 0.92983, 'metrics/mAP50-95(B)': 0.62457, 'val/box_loss': 1.16033, 'val/cls_loss': 0.73755, 'val/dfl_loss': 0.88543, 'fitness': 0.65509}\n",
      "\u001b[34m\u001b[1mTuner: \u001b[0mBest fitness model is runs\\detect\\train15\n",
      "\u001b[34m\u001b[1mTuner: \u001b[0mBest fitness hyperparameters are printed below.\n",
      "\n",
      "Printing '\u001b[1m\u001b[30mruns\\detect\\tune\\best_hyperparameters.yaml\u001b[0m'\n",
      "\n",
      "lr0: 0.00655\n",
      "lrf: 0.01409\n",
      "momentum: 0.86042\n",
      "weight_decay: 0.00044\n",
      "warmup_epochs: 2.95403\n",
      "warmup_momentum: 0.72731\n",
      "box: 7.3637\n",
      "cls: 0.56015\n",
      "dfl: 1.15707\n",
      "hsv_h: 0.01677\n",
      "hsv_s: 0.68597\n",
      "hsv_v: 0.42293\n",
      "degrees: 0.0\n",
      "translate: 0.11181\n",
      "scale: 0.36684\n",
      "shear: 0.0\n",
      "perspective: 0.0\n",
      "flipud: 0.0\n",
      "fliplr: 0.45957\n",
      "bgr: 0.0\n",
      "mosaic: 1.0\n",
      "mixup: 0.0\n",
      "copy_paste: 0.0\n",
      "\n",
      "\u001b[34m\u001b[1mTuner: \u001b[0mStarting iteration 14/300 with hyperparameters: {'lr0': 0.00676, 'lrf': 0.01371, 'momentum': 0.86042, 'weight_decay': 0.00045, 'warmup_epochs': 2.96667, 'warmup_momentum': 0.72731, 'box': 7.3637, 'cls': 0.57978, 'dfl': 1.05019, 'hsv_h': 0.01575, 'hsv_s': 0.68518, 'hsv_v': 0.43209, 'degrees': 0.0, 'translate': 0.10759, 'scale': 0.36684, 'shear': 0.0, 'perspective': 0.0, 'flipud': 0.0, 'fliplr': 0.47017, 'bgr': 0.0, 'mosaic': 0.99945, 'mixup': 0.0, 'copy_paste': 0.0}\n",
      "Saved runs\\detect\\tune\\tune_scatter_plots.png\n",
      "Saved runs\\detect\\tune\\tune_fitness.png\n",
      "\n",
      "\u001b[34m\u001b[1mTuner: \u001b[0m14/300 iterations complete  (5391.16s)\n",
      "\u001b[34m\u001b[1mTuner: \u001b[0mResults saved to \u001b[1mruns\\detect\\tune\u001b[0m\n",
      "\u001b[34m\u001b[1mTuner: \u001b[0mBest fitness=0.65509 observed at iteration 13\n",
      "\u001b[34m\u001b[1mTuner: \u001b[0mBest fitness metrics are {'metrics/precision(B)': 0.90204, 'metrics/recall(B)': 0.83592, 'metrics/mAP50(B)': 0.92983, 'metrics/mAP50-95(B)': 0.62457, 'val/box_loss': 1.16033, 'val/cls_loss': 0.73755, 'val/dfl_loss': 0.88543, 'fitness': 0.65509}\n",
      "\u001b[34m\u001b[1mTuner: \u001b[0mBest fitness model is runs\\detect\\train15\n",
      "\u001b[34m\u001b[1mTuner: \u001b[0mBest fitness hyperparameters are printed below.\n",
      "\n",
      "Printing '\u001b[1m\u001b[30mruns\\detect\\tune\\best_hyperparameters.yaml\u001b[0m'\n",
      "\n",
      "lr0: 0.00655\n",
      "lrf: 0.01409\n",
      "momentum: 0.86042\n",
      "weight_decay: 0.00044\n",
      "warmup_epochs: 2.95403\n",
      "warmup_momentum: 0.72731\n",
      "box: 7.3637\n",
      "cls: 0.56015\n",
      "dfl: 1.15707\n",
      "hsv_h: 0.01677\n",
      "hsv_s: 0.68597\n",
      "hsv_v: 0.42293\n",
      "degrees: 0.0\n",
      "translate: 0.11181\n",
      "scale: 0.36684\n",
      "shear: 0.0\n",
      "perspective: 0.0\n",
      "flipud: 0.0\n",
      "fliplr: 0.45957\n",
      "bgr: 0.0\n",
      "mosaic: 1.0\n",
      "mixup: 0.0\n",
      "copy_paste: 0.0\n",
      "\n",
      "\u001b[34m\u001b[1mTuner: \u001b[0mStarting iteration 15/300 with hyperparameters: {'lr0': 0.00531, 'lrf': 0.01108, 'momentum': 0.88337, 'weight_decay': 0.00046, 'warmup_epochs': 2.55799, 'warmup_momentum': 0.70474, 'box': 8.78634, 'cls': 0.61293, 'dfl': 1.25351, 'hsv_h': 0.01392, 'hsv_s': 0.77122, 'hsv_v': 0.7185, 'degrees': 0.0, 'translate': 0.11413, 'scale': 0.42103, 'shear': 0.0, 'perspective': 0.0, 'flipud': 0.0, 'fliplr': 0.2897, 'bgr': 0.0, 'mosaic': 0.91697, 'mixup': 0.0, 'copy_paste': 0.0}\n",
      "Saved runs\\detect\\tune\\tune_scatter_plots.png\n",
      "Saved runs\\detect\\tune\\tune_fitness.png\n",
      "\n",
      "\u001b[34m\u001b[1mTuner: \u001b[0m15/300 iterations complete  (5774.38s)\n",
      "\u001b[34m\u001b[1mTuner: \u001b[0mResults saved to \u001b[1mruns\\detect\\tune\u001b[0m\n",
      "\u001b[34m\u001b[1mTuner: \u001b[0mBest fitness=0.65509 observed at iteration 13\n",
      "\u001b[34m\u001b[1mTuner: \u001b[0mBest fitness metrics are {'metrics/precision(B)': 0.90204, 'metrics/recall(B)': 0.83592, 'metrics/mAP50(B)': 0.92983, 'metrics/mAP50-95(B)': 0.62457, 'val/box_loss': 1.16033, 'val/cls_loss': 0.73755, 'val/dfl_loss': 0.88543, 'fitness': 0.65509}\n",
      "\u001b[34m\u001b[1mTuner: \u001b[0mBest fitness model is runs\\detect\\train15\n",
      "\u001b[34m\u001b[1mTuner: \u001b[0mBest fitness hyperparameters are printed below.\n",
      "\n",
      "Printing '\u001b[1m\u001b[30mruns\\detect\\tune\\best_hyperparameters.yaml\u001b[0m'\n",
      "\n",
      "lr0: 0.00655\n",
      "lrf: 0.01409\n",
      "momentum: 0.86042\n",
      "weight_decay: 0.00044\n",
      "warmup_epochs: 2.95403\n",
      "warmup_momentum: 0.72731\n",
      "box: 7.3637\n",
      "cls: 0.56015\n",
      "dfl: 1.15707\n",
      "hsv_h: 0.01677\n",
      "hsv_s: 0.68597\n",
      "hsv_v: 0.42293\n",
      "degrees: 0.0\n",
      "translate: 0.11181\n",
      "scale: 0.36684\n",
      "shear: 0.0\n",
      "perspective: 0.0\n",
      "flipud: 0.0\n",
      "fliplr: 0.45957\n",
      "bgr: 0.0\n",
      "mosaic: 1.0\n",
      "mixup: 0.0\n",
      "copy_paste: 0.0\n",
      "\n",
      "\u001b[34m\u001b[1mTuner: \u001b[0mStarting iteration 16/300 with hyperparameters: {'lr0': 0.00492, 'lrf': 0.01222, 'momentum': 0.85123, 'weight_decay': 0.00045, 'warmup_epochs': 2.55799, 'warmup_momentum': 0.69414, 'box': 8.35819, 'cls': 0.62828, 'dfl': 1.28665, 'hsv_h': 0.01484, 'hsv_s': 0.67167, 'hsv_v': 0.64857, 'degrees': 0.0, 'translate': 0.11644, 'scale': 0.45209, 'shear': 0.0, 'perspective': 0.0, 'flipud': 0.0, 'fliplr': 0.28389, 'bgr': 0.0, 'mosaic': 0.82448, 'mixup': 0.0, 'copy_paste': 0.0}\n",
      "Saved runs\\detect\\tune\\tune_scatter_plots.png\n",
      "Saved runs\\detect\\tune\\tune_fitness.png\n",
      "\n",
      "\u001b[34m\u001b[1mTuner: \u001b[0m16/300 iterations complete  (6154.62s)\n",
      "\u001b[34m\u001b[1mTuner: \u001b[0mResults saved to \u001b[1mruns\\detect\\tune\u001b[0m\n",
      "\u001b[34m\u001b[1mTuner: \u001b[0mBest fitness=0.65798 observed at iteration 16\n",
      "\u001b[34m\u001b[1mTuner: \u001b[0mBest fitness metrics are {'metrics/precision(B)': 0.89174, 'metrics/recall(B)': 0.85129, 'metrics/mAP50(B)': 0.93149, 'metrics/mAP50-95(B)': 0.6276, 'val/box_loss': 1.3099, 'val/cls_loss': 0.81882, 'val/dfl_loss': 0.98132, 'fitness': 0.65798}\n",
      "\u001b[34m\u001b[1mTuner: \u001b[0mBest fitness model is runs\\detect\\train18\n",
      "\u001b[34m\u001b[1mTuner: \u001b[0mBest fitness hyperparameters are printed below.\n",
      "\n",
      "Printing '\u001b[1m\u001b[30mruns\\detect\\tune\\best_hyperparameters.yaml\u001b[0m'\n",
      "\n",
      "lr0: 0.00492\n",
      "lrf: 0.01222\n",
      "momentum: 0.85123\n",
      "weight_decay: 0.00045\n",
      "warmup_epochs: 2.55799\n",
      "warmup_momentum: 0.69414\n",
      "box: 8.35819\n",
      "cls: 0.62828\n",
      "dfl: 1.28665\n",
      "hsv_h: 0.01484\n",
      "hsv_s: 0.67167\n",
      "hsv_v: 0.64857\n",
      "degrees: 0.0\n",
      "translate: 0.11644\n",
      "scale: 0.45209\n",
      "shear: 0.0\n",
      "perspective: 0.0\n",
      "flipud: 0.0\n",
      "fliplr: 0.28389\n",
      "bgr: 0.0\n",
      "mosaic: 0.82448\n",
      "mixup: 0.0\n",
      "copy_paste: 0.0\n",
      "\n",
      "\u001b[34m\u001b[1mTuner: \u001b[0mStarting iteration 17/300 with hyperparameters: {'lr0': 0.0041, 'lrf': 0.01248, 'momentum': 0.85123, 'weight_decay': 0.00046, 'warmup_epochs': 2.38655, 'warmup_momentum': 0.6659, 'box': 9.17296, 'cls': 0.62828, 'dfl': 1.25464, 'hsv_h': 0.01454, 'hsv_s': 0.63475, 'hsv_v': 0.71498, 'degrees': 0.0, 'translate': 0.11042, 'scale': 0.43256, 'shear': 0.0, 'perspective': 0.0, 'flipud': 0.0, 'fliplr': 0.30204, 'bgr': 0.0, 'mosaic': 0.8628, 'mixup': 0.0, 'copy_paste': 0.0}\n",
      "Saved runs\\detect\\tune\\tune_scatter_plots.png\n",
      "Saved runs\\detect\\tune\\tune_fitness.png\n",
      "\n",
      "\u001b[34m\u001b[1mTuner: \u001b[0m17/300 iterations complete  (6534.50s)\n",
      "\u001b[34m\u001b[1mTuner: \u001b[0mResults saved to \u001b[1mruns\\detect\\tune\u001b[0m\n",
      "\u001b[34m\u001b[1mTuner: \u001b[0mBest fitness=0.65798 observed at iteration 16\n",
      "\u001b[34m\u001b[1mTuner: \u001b[0mBest fitness metrics are {'metrics/precision(B)': 0.89174, 'metrics/recall(B)': 0.85129, 'metrics/mAP50(B)': 0.93149, 'metrics/mAP50-95(B)': 0.6276, 'val/box_loss': 1.3099, 'val/cls_loss': 0.81882, 'val/dfl_loss': 0.98132, 'fitness': 0.65798}\n",
      "\u001b[34m\u001b[1mTuner: \u001b[0mBest fitness model is runs\\detect\\train18\n",
      "\u001b[34m\u001b[1mTuner: \u001b[0mBest fitness hyperparameters are printed below.\n",
      "\n",
      "Printing '\u001b[1m\u001b[30mruns\\detect\\tune\\best_hyperparameters.yaml\u001b[0m'\n",
      "\n",
      "lr0: 0.00492\n",
      "lrf: 0.01222\n",
      "momentum: 0.85123\n",
      "weight_decay: 0.00045\n",
      "warmup_epochs: 2.55799\n",
      "warmup_momentum: 0.69414\n",
      "box: 8.35819\n",
      "cls: 0.62828\n",
      "dfl: 1.28665\n",
      "hsv_h: 0.01484\n",
      "hsv_s: 0.67167\n",
      "hsv_v: 0.64857\n",
      "degrees: 0.0\n",
      "translate: 0.11644\n",
      "scale: 0.45209\n",
      "shear: 0.0\n",
      "perspective: 0.0\n",
      "flipud: 0.0\n",
      "fliplr: 0.28389\n",
      "bgr: 0.0\n",
      "mosaic: 0.82448\n",
      "mixup: 0.0\n",
      "copy_paste: 0.0\n",
      "\n",
      "\u001b[34m\u001b[1mTuner: \u001b[0mStarting iteration 18/300 with hyperparameters: {'lr0': 0.00531, 'lrf': 0.0108, 'momentum': 0.89094, 'weight_decay': 0.00048, 'warmup_epochs': 2.56589, 'warmup_momentum': 0.67892, 'box': 8.96919, 'cls': 0.61293, 'dfl': 1.26639, 'hsv_h': 0.01364, 'hsv_s': 0.77122, 'hsv_v': 0.76969, 'degrees': 0.0, 'translate': 0.11174, 'scale': 0.42844, 'shear': 0.0, 'perspective': 0.0, 'flipud': 0.0, 'fliplr': 0.28298, 'bgr': 0.0, 'mosaic': 0.91697, 'mixup': 0.0, 'copy_paste': 0.0}\n",
      "Saved runs\\detect\\tune\\tune_scatter_plots.png\n",
      "Saved runs\\detect\\tune\\tune_fitness.png\n",
      "\n",
      "\u001b[34m\u001b[1mTuner: \u001b[0m18/300 iterations complete  (6906.99s)\n",
      "\u001b[34m\u001b[1mTuner: \u001b[0mResults saved to \u001b[1mruns\\detect\\tune\u001b[0m\n",
      "\u001b[34m\u001b[1mTuner: \u001b[0mBest fitness=0.65798 observed at iteration 16\n",
      "\u001b[34m\u001b[1mTuner: \u001b[0mBest fitness metrics are {'metrics/precision(B)': 0.89174, 'metrics/recall(B)': 0.85129, 'metrics/mAP50(B)': 0.93149, 'metrics/mAP50-95(B)': 0.6276, 'val/box_loss': 1.3099, 'val/cls_loss': 0.81882, 'val/dfl_loss': 0.98132, 'fitness': 0.65798}\n",
      "\u001b[34m\u001b[1mTuner: \u001b[0mBest fitness model is runs\\detect\\train18\n",
      "\u001b[34m\u001b[1mTuner: \u001b[0mBest fitness hyperparameters are printed below.\n",
      "\n",
      "Printing '\u001b[1m\u001b[30mruns\\detect\\tune\\best_hyperparameters.yaml\u001b[0m'\n",
      "\n",
      "lr0: 0.00492\n",
      "lrf: 0.01222\n",
      "momentum: 0.85123\n",
      "weight_decay: 0.00045\n",
      "warmup_epochs: 2.55799\n",
      "warmup_momentum: 0.69414\n",
      "box: 8.35819\n",
      "cls: 0.62828\n",
      "dfl: 1.28665\n",
      "hsv_h: 0.01484\n",
      "hsv_s: 0.67167\n",
      "hsv_v: 0.64857\n",
      "degrees: 0.0\n",
      "translate: 0.11644\n",
      "scale: 0.45209\n",
      "shear: 0.0\n",
      "perspective: 0.0\n",
      "flipud: 0.0\n",
      "fliplr: 0.28389\n",
      "bgr: 0.0\n",
      "mosaic: 0.82448\n",
      "mixup: 0.0\n",
      "copy_paste: 0.0\n",
      "\n",
      "\u001b[34m\u001b[1mTuner: \u001b[0mStarting iteration 19/300 with hyperparameters: {'lr0': 0.00374, 'lrf': 0.01108, 'momentum': 0.88337, 'weight_decay': 0.00041, 'warmup_epochs': 1.49406, 'warmup_momentum': 0.69967, 'box': 10.4086, 'cls': 0.57888, 'dfl': 1.26994, 'hsv_h': 0.0148, 'hsv_s': 0.7518, 'hsv_v': 0.69313, 'degrees': 0.0, 'translate': 0.10334, 'scale': 0.40255, 'shear': 0.0, 'perspective': 0.0, 'flipud': 0.0, 'fliplr': 0.27207, 'bgr': 0.0, 'mosaic': 1.0, 'mixup': 0.0, 'copy_paste': 0.0}\n",
      "Saved runs\\detect\\tune\\tune_scatter_plots.png\n",
      "Saved runs\\detect\\tune\\tune_fitness.png\n",
      "\n",
      "\u001b[34m\u001b[1mTuner: \u001b[0m19/300 iterations complete  (7281.75s)\n",
      "\u001b[34m\u001b[1mTuner: \u001b[0mResults saved to \u001b[1mruns\\detect\\tune\u001b[0m\n",
      "\u001b[34m\u001b[1mTuner: \u001b[0mBest fitness=0.65798 observed at iteration 16\n",
      "\u001b[34m\u001b[1mTuner: \u001b[0mBest fitness metrics are {'metrics/precision(B)': 0.89174, 'metrics/recall(B)': 0.85129, 'metrics/mAP50(B)': 0.93149, 'metrics/mAP50-95(B)': 0.6276, 'val/box_loss': 1.3099, 'val/cls_loss': 0.81882, 'val/dfl_loss': 0.98132, 'fitness': 0.65798}\n",
      "\u001b[34m\u001b[1mTuner: \u001b[0mBest fitness model is runs\\detect\\train18\n",
      "\u001b[34m\u001b[1mTuner: \u001b[0mBest fitness hyperparameters are printed below.\n",
      "\n",
      "Printing '\u001b[1m\u001b[30mruns\\detect\\tune\\best_hyperparameters.yaml\u001b[0m'\n",
      "\n",
      "lr0: 0.00492\n",
      "lrf: 0.01222\n",
      "momentum: 0.85123\n",
      "weight_decay: 0.00045\n",
      "warmup_epochs: 2.55799\n",
      "warmup_momentum: 0.69414\n",
      "box: 8.35819\n",
      "cls: 0.62828\n",
      "dfl: 1.28665\n",
      "hsv_h: 0.01484\n",
      "hsv_s: 0.67167\n",
      "hsv_v: 0.64857\n",
      "degrees: 0.0\n",
      "translate: 0.11644\n",
      "scale: 0.45209\n",
      "shear: 0.0\n",
      "perspective: 0.0\n",
      "flipud: 0.0\n",
      "fliplr: 0.28389\n",
      "bgr: 0.0\n",
      "mosaic: 0.82448\n",
      "mixup: 0.0\n",
      "copy_paste: 0.0\n",
      "\n",
      "\u001b[34m\u001b[1mTuner: \u001b[0mStarting iteration 20/300 with hyperparameters: {'lr0': 0.00374, 'lrf': 0.00955, 'momentum': 0.91898, 'weight_decay': 0.00041, 'warmup_epochs': 1.55495, 'warmup_momentum': 0.72661, 'box': 10.4086, 'cls': 0.63969, 'dfl': 1.26994, 'hsv_h': 0.0148, 'hsv_s': 0.76656, 'hsv_v': 0.76199, 'degrees': 0.0, 'translate': 0.10334, 'scale': 0.37745, 'shear': 0.0, 'perspective': 0.0, 'flipud': 0.0, 'fliplr': 0.2706, 'bgr': 0.0, 'mosaic': 1.0, 'mixup': 0.0, 'copy_paste': 0.0}\n",
      "Saved runs\\detect\\tune\\tune_scatter_plots.png\n",
      "Saved runs\\detect\\tune\\tune_fitness.png\n",
      "\n",
      "\u001b[34m\u001b[1mTuner: \u001b[0m20/300 iterations complete  (7659.96s)\n",
      "\u001b[34m\u001b[1mTuner: \u001b[0mResults saved to \u001b[1mruns\\detect\\tune\u001b[0m\n",
      "\u001b[34m\u001b[1mTuner: \u001b[0mBest fitness=0.65798 observed at iteration 16\n",
      "\u001b[34m\u001b[1mTuner: \u001b[0mBest fitness metrics are {'metrics/precision(B)': 0.89174, 'metrics/recall(B)': 0.85129, 'metrics/mAP50(B)': 0.93149, 'metrics/mAP50-95(B)': 0.6276, 'val/box_loss': 1.3099, 'val/cls_loss': 0.81882, 'val/dfl_loss': 0.98132, 'fitness': 0.65798}\n",
      "\u001b[34m\u001b[1mTuner: \u001b[0mBest fitness model is runs\\detect\\train18\n",
      "\u001b[34m\u001b[1mTuner: \u001b[0mBest fitness hyperparameters are printed below.\n",
      "\n",
      "Printing '\u001b[1m\u001b[30mruns\\detect\\tune\\best_hyperparameters.yaml\u001b[0m'\n",
      "\n",
      "lr0: 0.00492\n",
      "lrf: 0.01222\n",
      "momentum: 0.85123\n",
      "weight_decay: 0.00045\n",
      "warmup_epochs: 2.55799\n",
      "warmup_momentum: 0.69414\n",
      "box: 8.35819\n",
      "cls: 0.62828\n",
      "dfl: 1.28665\n",
      "hsv_h: 0.01484\n",
      "hsv_s: 0.67167\n",
      "hsv_v: 0.64857\n",
      "degrees: 0.0\n",
      "translate: 0.11644\n",
      "scale: 0.45209\n",
      "shear: 0.0\n",
      "perspective: 0.0\n",
      "flipud: 0.0\n",
      "fliplr: 0.28389\n",
      "bgr: 0.0\n",
      "mosaic: 0.82448\n",
      "mixup: 0.0\n",
      "copy_paste: 0.0\n",
      "\n",
      "\u001b[34m\u001b[1mTuner: \u001b[0mStarting iteration 21/300 with hyperparameters: {'lr0': 0.00655, 'lrf': 0.01393, 'momentum': 0.85182, 'weight_decay': 0.00044, 'warmup_epochs': 2.99799, 'warmup_momentum': 0.73065, 'box': 7.09609, 'cls': 0.61397, 'dfl': 1.19256, 'hsv_h': 0.01621, 'hsv_s': 0.68704, 'hsv_v': 0.42437, 'degrees': 0.0, 'translate': 0.11329, 'scale': 0.36121, 'shear': 0.0, 'perspective': 0.0, 'flipud': 0.0, 'fliplr': 0.4778, 'bgr': 0.0, 'mosaic': 1.0, 'mixup': 0.0, 'copy_paste': 0.0}\n",
      "Saved runs\\detect\\tune\\tune_scatter_plots.png\n",
      "Saved runs\\detect\\tune\\tune_fitness.png\n",
      "\n",
      "\u001b[34m\u001b[1mTuner: \u001b[0m21/300 iterations complete  (8033.37s)\n",
      "\u001b[34m\u001b[1mTuner: \u001b[0mResults saved to \u001b[1mruns\\detect\\tune\u001b[0m\n",
      "\u001b[34m\u001b[1mTuner: \u001b[0mBest fitness=0.65798 observed at iteration 16\n",
      "\u001b[34m\u001b[1mTuner: \u001b[0mBest fitness metrics are {'metrics/precision(B)': 0.89174, 'metrics/recall(B)': 0.85129, 'metrics/mAP50(B)': 0.93149, 'metrics/mAP50-95(B)': 0.6276, 'val/box_loss': 1.3099, 'val/cls_loss': 0.81882, 'val/dfl_loss': 0.98132, 'fitness': 0.65798}\n",
      "\u001b[34m\u001b[1mTuner: \u001b[0mBest fitness model is runs\\detect\\train18\n",
      "\u001b[34m\u001b[1mTuner: \u001b[0mBest fitness hyperparameters are printed below.\n",
      "\n",
      "Printing '\u001b[1m\u001b[30mruns\\detect\\tune\\best_hyperparameters.yaml\u001b[0m'\n",
      "\n",
      "lr0: 0.00492\n",
      "lrf: 0.01222\n",
      "momentum: 0.85123\n",
      "weight_decay: 0.00045\n",
      "warmup_epochs: 2.55799\n",
      "warmup_momentum: 0.69414\n",
      "box: 8.35819\n",
      "cls: 0.62828\n",
      "dfl: 1.28665\n",
      "hsv_h: 0.01484\n",
      "hsv_s: 0.67167\n",
      "hsv_v: 0.64857\n",
      "degrees: 0.0\n",
      "translate: 0.11644\n",
      "scale: 0.45209\n",
      "shear: 0.0\n",
      "perspective: 0.0\n",
      "flipud: 0.0\n",
      "fliplr: 0.28389\n",
      "bgr: 0.0\n",
      "mosaic: 0.82448\n",
      "mixup: 0.0\n",
      "copy_paste: 0.0\n",
      "\n",
      "\u001b[34m\u001b[1mTuner: \u001b[0mStarting iteration 22/300 with hyperparameters: {'lr0': 0.00455, 'lrf': 0.01306, 'momentum': 0.88359, 'weight_decay': 0.00043, 'warmup_epochs': 1.99991, 'warmup_momentum': 0.57774, 'box': 10.33882, 'cls': 0.62828, 'dfl': 1.67638, 'hsv_h': 0.01484, 'hsv_s': 0.80615, 'hsv_v': 0.70657, 'degrees': 0.0, 'translate': 0.08812, 'scale': 0.45209, 'shear': 0.0, 'perspective': 0.0, 'flipud': 0.0, 'fliplr': 0.28389, 'bgr': 0.0, 'mosaic': 0.82448, 'mixup': 0.0, 'copy_paste': 0.0}\n",
      "Saved runs\\detect\\tune\\tune_scatter_plots.png\n",
      "Saved runs\\detect\\tune\\tune_fitness.png\n",
      "\n",
      "\u001b[34m\u001b[1mTuner: \u001b[0m22/300 iterations complete  (8410.24s)\n",
      "\u001b[34m\u001b[1mTuner: \u001b[0mResults saved to \u001b[1mruns\\detect\\tune\u001b[0m\n",
      "\u001b[34m\u001b[1mTuner: \u001b[0mBest fitness=0.65798 observed at iteration 16\n",
      "\u001b[34m\u001b[1mTuner: \u001b[0mBest fitness metrics are {'metrics/precision(B)': 0.89174, 'metrics/recall(B)': 0.85129, 'metrics/mAP50(B)': 0.93149, 'metrics/mAP50-95(B)': 0.6276, 'val/box_loss': 1.3099, 'val/cls_loss': 0.81882, 'val/dfl_loss': 0.98132, 'fitness': 0.65798}\n",
      "\u001b[34m\u001b[1mTuner: \u001b[0mBest fitness model is runs\\detect\\train18\n",
      "\u001b[34m\u001b[1mTuner: \u001b[0mBest fitness hyperparameters are printed below.\n",
      "\n",
      "Printing '\u001b[1m\u001b[30mruns\\detect\\tune\\best_hyperparameters.yaml\u001b[0m'\n",
      "\n",
      "lr0: 0.00492\n",
      "lrf: 0.01222\n",
      "momentum: 0.85123\n",
      "weight_decay: 0.00045\n",
      "warmup_epochs: 2.55799\n",
      "warmup_momentum: 0.69414\n",
      "box: 8.35819\n",
      "cls: 0.62828\n",
      "dfl: 1.28665\n",
      "hsv_h: 0.01484\n",
      "hsv_s: 0.67167\n",
      "hsv_v: 0.64857\n",
      "degrees: 0.0\n",
      "translate: 0.11644\n",
      "scale: 0.45209\n",
      "shear: 0.0\n",
      "perspective: 0.0\n",
      "flipud: 0.0\n",
      "fliplr: 0.28389\n",
      "bgr: 0.0\n",
      "mosaic: 0.82448\n",
      "mixup: 0.0\n",
      "copy_paste: 0.0\n",
      "\n",
      "\u001b[34m\u001b[1mTuner: \u001b[0mStarting iteration 23/300 with hyperparameters: {'lr0': 0.00369, 'lrf': 0.00942, 'momentum': 0.90446, 'weight_decay': 0.00047, 'warmup_epochs': 1.66895, 'warmup_momentum': 0.74311, 'box': 10.09004, 'cls': 0.62285, 'dfl': 1.10198, 'hsv_h': 0.01516, 'hsv_s': 0.76126, 'hsv_v': 0.69313, 'degrees': 0.0, 'translate': 0.10532, 'scale': 0.38305, 'shear': 0.0, 'perspective': 0.0, 'flipud': 0.0, 'fliplr': 0.24847, 'bgr': 0.0, 'mosaic': 0.81984, 'mixup': 0.0, 'copy_paste': 0.0}\n",
      "Saved runs\\detect\\tune\\tune_scatter_plots.png\n",
      "Saved runs\\detect\\tune\\tune_fitness.png\n",
      "\n",
      "\u001b[34m\u001b[1mTuner: \u001b[0m23/300 iterations complete  (8815.51s)\n",
      "\u001b[34m\u001b[1mTuner: \u001b[0mResults saved to \u001b[1mruns\\detect\\tune\u001b[0m\n",
      "\u001b[34m\u001b[1mTuner: \u001b[0mBest fitness=0.65798 observed at iteration 16\n",
      "\u001b[34m\u001b[1mTuner: \u001b[0mBest fitness metrics are {'metrics/precision(B)': 0.89174, 'metrics/recall(B)': 0.85129, 'metrics/mAP50(B)': 0.93149, 'metrics/mAP50-95(B)': 0.6276, 'val/box_loss': 1.3099, 'val/cls_loss': 0.81882, 'val/dfl_loss': 0.98132, 'fitness': 0.65798}\n",
      "\u001b[34m\u001b[1mTuner: \u001b[0mBest fitness model is runs\\detect\\train18\n",
      "\u001b[34m\u001b[1mTuner: \u001b[0mBest fitness hyperparameters are printed below.\n",
      "\n",
      "Printing '\u001b[1m\u001b[30mruns\\detect\\tune\\best_hyperparameters.yaml\u001b[0m'\n",
      "\n",
      "lr0: 0.00492\n",
      "lrf: 0.01222\n",
      "momentum: 0.85123\n",
      "weight_decay: 0.00045\n",
      "warmup_epochs: 2.55799\n",
      "warmup_momentum: 0.69414\n",
      "box: 8.35819\n",
      "cls: 0.62828\n",
      "dfl: 1.28665\n",
      "hsv_h: 0.01484\n",
      "hsv_s: 0.67167\n",
      "hsv_v: 0.64857\n",
      "degrees: 0.0\n",
      "translate: 0.11644\n",
      "scale: 0.45209\n",
      "shear: 0.0\n",
      "perspective: 0.0\n",
      "flipud: 0.0\n",
      "fliplr: 0.28389\n",
      "bgr: 0.0\n",
      "mosaic: 0.82448\n",
      "mixup: 0.0\n",
      "copy_paste: 0.0\n",
      "\n",
      "\u001b[34m\u001b[1mTuner: \u001b[0mStarting iteration 24/300 with hyperparameters: {'lr0': 0.0037, 'lrf': 0.01126, 'momentum': 0.89851, 'weight_decay': 0.00041, 'warmup_epochs': 1.27925, 'warmup_momentum': 0.74428, 'box': 11.46535, 'cls': 0.56389, 'dfl': 1.2472, 'hsv_h': 0.0148, 'hsv_s': 0.7518, 'hsv_v': 0.57636, 'degrees': 0.0, 'translate': 0.10939, 'scale': 0.39277, 'shear': 0.0, 'perspective': 0.0, 'flipud': 0.0, 'fliplr': 0.27207, 'bgr': 0.0, 'mosaic': 0.9895, 'mixup': 0.0, 'copy_paste': 0.0}\n",
      "Saved runs\\detect\\tune\\tune_scatter_plots.png\n",
      "Saved runs\\detect\\tune\\tune_fitness.png\n",
      "\n",
      "\u001b[34m\u001b[1mTuner: \u001b[0m24/300 iterations complete  (9198.28s)\n",
      "\u001b[34m\u001b[1mTuner: \u001b[0mResults saved to \u001b[1mruns\\detect\\tune\u001b[0m\n",
      "\u001b[34m\u001b[1mTuner: \u001b[0mBest fitness=0.65798 observed at iteration 16\n",
      "\u001b[34m\u001b[1mTuner: \u001b[0mBest fitness metrics are {'metrics/precision(B)': 0.89174, 'metrics/recall(B)': 0.85129, 'metrics/mAP50(B)': 0.93149, 'metrics/mAP50-95(B)': 0.6276, 'val/box_loss': 1.3099, 'val/cls_loss': 0.81882, 'val/dfl_loss': 0.98132, 'fitness': 0.65798}\n",
      "\u001b[34m\u001b[1mTuner: \u001b[0mBest fitness model is runs\\detect\\train18\n",
      "\u001b[34m\u001b[1mTuner: \u001b[0mBest fitness hyperparameters are printed below.\n",
      "\n",
      "Printing '\u001b[1m\u001b[30mruns\\detect\\tune\\best_hyperparameters.yaml\u001b[0m'\n",
      "\n",
      "lr0: 0.00492\n",
      "lrf: 0.01222\n",
      "momentum: 0.85123\n",
      "weight_decay: 0.00045\n",
      "warmup_epochs: 2.55799\n",
      "warmup_momentum: 0.69414\n",
      "box: 8.35819\n",
      "cls: 0.62828\n",
      "dfl: 1.28665\n",
      "hsv_h: 0.01484\n",
      "hsv_s: 0.67167\n",
      "hsv_v: 0.64857\n",
      "degrees: 0.0\n",
      "translate: 0.11644\n",
      "scale: 0.45209\n",
      "shear: 0.0\n",
      "perspective: 0.0\n",
      "flipud: 0.0\n",
      "fliplr: 0.28389\n",
      "bgr: 0.0\n",
      "mosaic: 0.82448\n",
      "mixup: 0.0\n",
      "copy_paste: 0.0\n",
      "\n",
      "\u001b[34m\u001b[1mTuner: \u001b[0mStarting iteration 25/300 with hyperparameters: {'lr0': 0.003, 'lrf': 0.01004, 'momentum': 0.94241, 'weight_decay': 0.0004, 'warmup_epochs': 1.86104, 'warmup_momentum': 0.69967, 'box': 10.26566, 'cls': 0.61282, 'dfl': 1.362, 'hsv_h': 0.0154, 'hsv_s': 0.62495, 'hsv_v': 0.8009, 'degrees': 0.0, 'translate': 0.09298, 'scale': 0.41915, 'shear': 0.0, 'perspective': 0.0, 'flipud': 0.0, 'fliplr': 0.27213, 'bgr': 0.0, 'mosaic': 0.81045, 'mixup': 0.0, 'copy_paste': 0.0}\n",
      "Saved runs\\detect\\tune\\tune_scatter_plots.png\n",
      "Saved runs\\detect\\tune\\tune_fitness.png\n",
      "\n",
      "\u001b[34m\u001b[1mTuner: \u001b[0m25/300 iterations complete  (9574.09s)\n",
      "\u001b[34m\u001b[1mTuner: \u001b[0mResults saved to \u001b[1mruns\\detect\\tune\u001b[0m\n",
      "\u001b[34m\u001b[1mTuner: \u001b[0mBest fitness=0.65798 observed at iteration 16\n",
      "\u001b[34m\u001b[1mTuner: \u001b[0mBest fitness metrics are {'metrics/precision(B)': 0.89174, 'metrics/recall(B)': 0.85129, 'metrics/mAP50(B)': 0.93149, 'metrics/mAP50-95(B)': 0.6276, 'val/box_loss': 1.3099, 'val/cls_loss': 0.81882, 'val/dfl_loss': 0.98132, 'fitness': 0.65798}\n",
      "\u001b[34m\u001b[1mTuner: \u001b[0mBest fitness model is runs\\detect\\train18\n",
      "\u001b[34m\u001b[1mTuner: \u001b[0mBest fitness hyperparameters are printed below.\n",
      "\n",
      "Printing '\u001b[1m\u001b[30mruns\\detect\\tune\\best_hyperparameters.yaml\u001b[0m'\n",
      "\n",
      "lr0: 0.00492\n",
      "lrf: 0.01222\n",
      "momentum: 0.85123\n",
      "weight_decay: 0.00045\n",
      "warmup_epochs: 2.55799\n",
      "warmup_momentum: 0.69414\n",
      "box: 8.35819\n",
      "cls: 0.62828\n",
      "dfl: 1.28665\n",
      "hsv_h: 0.01484\n",
      "hsv_s: 0.67167\n",
      "hsv_v: 0.64857\n",
      "degrees: 0.0\n",
      "translate: 0.11644\n",
      "scale: 0.45209\n",
      "shear: 0.0\n",
      "perspective: 0.0\n",
      "flipud: 0.0\n",
      "fliplr: 0.28389\n",
      "bgr: 0.0\n",
      "mosaic: 0.82448\n",
      "mixup: 0.0\n",
      "copy_paste: 0.0\n",
      "\n",
      "\u001b[34m\u001b[1mTuner: \u001b[0mStarting iteration 26/300 with hyperparameters: {'lr0': 0.00455, 'lrf': 0.01192, 'momentum': 0.7891, 'weight_decay': 0.00035, 'warmup_epochs': 1.90346, 'warmup_momentum': 0.64877, 'box': 5.26671, 'cls': 0.58047, 'dfl': 1.19725, 'hsv_h': 0.01638, 'hsv_s': 0.72166, 'hsv_v': 0.59295, 'degrees': 0.0, 'translate': 0.12015, 'scale': 0.40284, 'shear': 0.0, 'perspective': 0.0, 'flipud': 0.0, 'fliplr': 0.3341, 'bgr': 0.0, 'mosaic': 0.92252, 'mixup': 0.0, 'copy_paste': 0.0}\n",
      "Saved runs\\detect\\tune\\tune_scatter_plots.png\n",
      "Saved runs\\detect\\tune\\tune_fitness.png\n",
      "\n",
      "\u001b[34m\u001b[1mTuner: \u001b[0m26/300 iterations complete  (9951.87s)\n",
      "\u001b[34m\u001b[1mTuner: \u001b[0mResults saved to \u001b[1mruns\\detect\\tune\u001b[0m\n",
      "\u001b[34m\u001b[1mTuner: \u001b[0mBest fitness=0.65798 observed at iteration 16\n",
      "\u001b[34m\u001b[1mTuner: \u001b[0mBest fitness metrics are {'metrics/precision(B)': 0.89174, 'metrics/recall(B)': 0.85129, 'metrics/mAP50(B)': 0.93149, 'metrics/mAP50-95(B)': 0.6276, 'val/box_loss': 1.3099, 'val/cls_loss': 0.81882, 'val/dfl_loss': 0.98132, 'fitness': 0.65798}\n",
      "\u001b[34m\u001b[1mTuner: \u001b[0mBest fitness model is runs\\detect\\train18\n",
      "\u001b[34m\u001b[1mTuner: \u001b[0mBest fitness hyperparameters are printed below.\n",
      "\n",
      "Printing '\u001b[1m\u001b[30mruns\\detect\\tune\\best_hyperparameters.yaml\u001b[0m'\n",
      "\n",
      "lr0: 0.00492\n",
      "lrf: 0.01222\n",
      "momentum: 0.85123\n",
      "weight_decay: 0.00045\n",
      "warmup_epochs: 2.55799\n",
      "warmup_momentum: 0.69414\n",
      "box: 8.35819\n",
      "cls: 0.62828\n",
      "dfl: 1.28665\n",
      "hsv_h: 0.01484\n",
      "hsv_s: 0.67167\n",
      "hsv_v: 0.64857\n",
      "degrees: 0.0\n",
      "translate: 0.11644\n",
      "scale: 0.45209\n",
      "shear: 0.0\n",
      "perspective: 0.0\n",
      "flipud: 0.0\n",
      "fliplr: 0.28389\n",
      "bgr: 0.0\n",
      "mosaic: 0.82448\n",
      "mixup: 0.0\n",
      "copy_paste: 0.0\n",
      "\n",
      "\u001b[34m\u001b[1mTuner: \u001b[0mStarting iteration 27/300 with hyperparameters: {'lr0': 0.00492, 'lrf': 0.0121, 'momentum': 0.85452, 'weight_decay': 0.00042, 'warmup_epochs': 2.25247, 'warmup_momentum': 0.69414, 'box': 8.46565, 'cls': 0.67407, 'dfl': 1.42127, 'hsv_h': 0.01371, 'hsv_s': 0.67167, 'hsv_v': 0.64857, 'degrees': 0.0, 'translate': 0.11348, 'scale': 0.44198, 'shear': 0.0, 'perspective': 0.0, 'flipud': 0.0, 'fliplr': 0.26646, 'bgr': 0.0, 'mosaic': 0.82419, 'mixup': 0.0, 'copy_paste': 0.0}\n",
      "Saved runs\\detect\\tune\\tune_scatter_plots.png\n",
      "Saved runs\\detect\\tune\\tune_fitness.png\n",
      "\n",
      "\u001b[34m\u001b[1mTuner: \u001b[0m27/300 iterations complete  (10338.42s)\n",
      "\u001b[34m\u001b[1mTuner: \u001b[0mResults saved to \u001b[1mruns\\detect\\tune\u001b[0m\n",
      "\u001b[34m\u001b[1mTuner: \u001b[0mBest fitness=0.65798 observed at iteration 16\n",
      "\u001b[34m\u001b[1mTuner: \u001b[0mBest fitness metrics are {'metrics/precision(B)': 0.89174, 'metrics/recall(B)': 0.85129, 'metrics/mAP50(B)': 0.93149, 'metrics/mAP50-95(B)': 0.6276, 'val/box_loss': 1.3099, 'val/cls_loss': 0.81882, 'val/dfl_loss': 0.98132, 'fitness': 0.65798}\n",
      "\u001b[34m\u001b[1mTuner: \u001b[0mBest fitness model is runs\\detect\\train18\n",
      "\u001b[34m\u001b[1mTuner: \u001b[0mBest fitness hyperparameters are printed below.\n",
      "\n",
      "Printing '\u001b[1m\u001b[30mruns\\detect\\tune\\best_hyperparameters.yaml\u001b[0m'\n",
      "\n",
      "lr0: 0.00492\n",
      "lrf: 0.01222\n",
      "momentum: 0.85123\n",
      "weight_decay: 0.00045\n",
      "warmup_epochs: 2.55799\n",
      "warmup_momentum: 0.69414\n",
      "box: 8.35819\n",
      "cls: 0.62828\n",
      "dfl: 1.28665\n",
      "hsv_h: 0.01484\n",
      "hsv_s: 0.67167\n",
      "hsv_v: 0.64857\n",
      "degrees: 0.0\n",
      "translate: 0.11644\n",
      "scale: 0.45209\n",
      "shear: 0.0\n",
      "perspective: 0.0\n",
      "flipud: 0.0\n",
      "fliplr: 0.28389\n",
      "bgr: 0.0\n",
      "mosaic: 0.82448\n",
      "mixup: 0.0\n",
      "copy_paste: 0.0\n",
      "\n",
      "\u001b[34m\u001b[1mTuner: \u001b[0mStarting iteration 28/300 with hyperparameters: {'lr0': 0.00431, 'lrf': 0.01222, 'momentum': 0.87461, 'weight_decay': 0.00051, 'warmup_epochs': 2.2016, 'warmup_momentum': 0.70523, 'box': 8.93351, 'cls': 0.62828, 'dfl': 1.31871, 'hsv_h': 0.01669, 'hsv_s': 0.67167, 'hsv_v': 0.66882, 'degrees': 0.0, 'translate': 0.11702, 'scale': 0.45975, 'shear': 0.0, 'perspective': 0.0, 'flipud': 0.0, 'fliplr': 0.25145, 'bgr': 0.0, 'mosaic': 0.82434, 'mixup': 0.0, 'copy_paste': 0.0}\n",
      "Saved runs\\detect\\tune\\tune_scatter_plots.png\n",
      "Saved runs\\detect\\tune\\tune_fitness.png\n",
      "\n",
      "\u001b[34m\u001b[1mTuner: \u001b[0m28/300 iterations complete  (10717.72s)\n",
      "\u001b[34m\u001b[1mTuner: \u001b[0mResults saved to \u001b[1mruns\\detect\\tune\u001b[0m\n",
      "\u001b[34m\u001b[1mTuner: \u001b[0mBest fitness=0.65798 observed at iteration 16\n",
      "\u001b[34m\u001b[1mTuner: \u001b[0mBest fitness metrics are {'metrics/precision(B)': 0.89174, 'metrics/recall(B)': 0.85129, 'metrics/mAP50(B)': 0.93149, 'metrics/mAP50-95(B)': 0.6276, 'val/box_loss': 1.3099, 'val/cls_loss': 0.81882, 'val/dfl_loss': 0.98132, 'fitness': 0.65798}\n",
      "\u001b[34m\u001b[1mTuner: \u001b[0mBest fitness model is runs\\detect\\train18\n",
      "\u001b[34m\u001b[1mTuner: \u001b[0mBest fitness hyperparameters are printed below.\n",
      "\n",
      "Printing '\u001b[1m\u001b[30mruns\\detect\\tune\\best_hyperparameters.yaml\u001b[0m'\n",
      "\n",
      "lr0: 0.00492\n",
      "lrf: 0.01222\n",
      "momentum: 0.85123\n",
      "weight_decay: 0.00045\n",
      "warmup_epochs: 2.55799\n",
      "warmup_momentum: 0.69414\n",
      "box: 8.35819\n",
      "cls: 0.62828\n",
      "dfl: 1.28665\n",
      "hsv_h: 0.01484\n",
      "hsv_s: 0.67167\n",
      "hsv_v: 0.64857\n",
      "degrees: 0.0\n",
      "translate: 0.11644\n",
      "scale: 0.45209\n",
      "shear: 0.0\n",
      "perspective: 0.0\n",
      "flipud: 0.0\n",
      "fliplr: 0.28389\n",
      "bgr: 0.0\n",
      "mosaic: 0.82448\n",
      "mixup: 0.0\n",
      "copy_paste: 0.0\n",
      "\n",
      "\u001b[34m\u001b[1mTuner: \u001b[0mStarting iteration 29/300 with hyperparameters: {'lr0': 0.00374, 'lrf': 0.01153, 'momentum': 0.87994, 'weight_decay': 0.00036, 'warmup_epochs': 1.53866, 'warmup_momentum': 0.69967, 'box': 10.89865, 'cls': 0.63666, 'dfl': 1.23765, 'hsv_h': 0.01389, 'hsv_s': 0.74104, 'hsv_v': 0.6753, 'degrees': 0.0, 'translate': 0.11482, 'scale': 0.42855, 'shear': 0.0, 'perspective': 0.0, 'flipud': 0.0, 'fliplr': 0.27821, 'bgr': 0.0, 'mosaic': 1.0, 'mixup': 0.0, 'copy_paste': 0.0}\n",
      "Saved runs\\detect\\tune\\tune_scatter_plots.png\n",
      "Saved runs\\detect\\tune\\tune_fitness.png\n",
      "\n",
      "\u001b[34m\u001b[1mTuner: \u001b[0m29/300 iterations complete  (11098.00s)\n",
      "\u001b[34m\u001b[1mTuner: \u001b[0mResults saved to \u001b[1mruns\\detect\\tune\u001b[0m\n",
      "\u001b[34m\u001b[1mTuner: \u001b[0mBest fitness=0.65798 observed at iteration 16\n",
      "\u001b[34m\u001b[1mTuner: \u001b[0mBest fitness metrics are {'metrics/precision(B)': 0.89174, 'metrics/recall(B)': 0.85129, 'metrics/mAP50(B)': 0.93149, 'metrics/mAP50-95(B)': 0.6276, 'val/box_loss': 1.3099, 'val/cls_loss': 0.81882, 'val/dfl_loss': 0.98132, 'fitness': 0.65798}\n",
      "\u001b[34m\u001b[1mTuner: \u001b[0mBest fitness model is runs\\detect\\train18\n",
      "\u001b[34m\u001b[1mTuner: \u001b[0mBest fitness hyperparameters are printed below.\n",
      "\n",
      "Printing '\u001b[1m\u001b[30mruns\\detect\\tune\\best_hyperparameters.yaml\u001b[0m'\n",
      "\n",
      "lr0: 0.00492\n",
      "lrf: 0.01222\n",
      "momentum: 0.85123\n",
      "weight_decay: 0.00045\n",
      "warmup_epochs: 2.55799\n",
      "warmup_momentum: 0.69414\n",
      "box: 8.35819\n",
      "cls: 0.62828\n",
      "dfl: 1.28665\n",
      "hsv_h: 0.01484\n",
      "hsv_s: 0.67167\n",
      "hsv_v: 0.64857\n",
      "degrees: 0.0\n",
      "translate: 0.11644\n",
      "scale: 0.45209\n",
      "shear: 0.0\n",
      "perspective: 0.0\n",
      "flipud: 0.0\n",
      "fliplr: 0.28389\n",
      "bgr: 0.0\n",
      "mosaic: 0.82448\n",
      "mixup: 0.0\n",
      "copy_paste: 0.0\n",
      "\n",
      "\u001b[34m\u001b[1mTuner: \u001b[0mStarting iteration 30/300 with hyperparameters: {'lr0': 0.004, 'lrf': 0.01222, 'momentum': 0.8835, 'weight_decay': 0.0005, 'warmup_epochs': 2.37762, 'warmup_momentum': 0.65813, 'box': 8.6076, 'cls': 0.68053, 'dfl': 1.27937, 'hsv_h': 0.01709, 'hsv_s': 0.70182, 'hsv_v': 0.71715, 'degrees': 0.0, 'translate': 0.11702, 'scale': 0.42654, 'shear': 0.0, 'perspective': 0.0, 'flipud': 0.0, 'fliplr': 0.25145, 'bgr': 0.0, 'mosaic': 0.80428, 'mixup': 0.0, 'copy_paste': 0.0}\n",
      "Saved runs\\detect\\tune\\tune_scatter_plots.png\n",
      "Saved runs\\detect\\tune\\tune_fitness.png\n",
      "\n",
      "\u001b[34m\u001b[1mTuner: \u001b[0m30/300 iterations complete  (11476.23s)\n",
      "\u001b[34m\u001b[1mTuner: \u001b[0mResults saved to \u001b[1mruns\\detect\\tune\u001b[0m\n",
      "\u001b[34m\u001b[1mTuner: \u001b[0mBest fitness=0.65798 observed at iteration 16\n",
      "\u001b[34m\u001b[1mTuner: \u001b[0mBest fitness metrics are {'metrics/precision(B)': 0.89174, 'metrics/recall(B)': 0.85129, 'metrics/mAP50(B)': 0.93149, 'metrics/mAP50-95(B)': 0.6276, 'val/box_loss': 1.3099, 'val/cls_loss': 0.81882, 'val/dfl_loss': 0.98132, 'fitness': 0.65798}\n",
      "\u001b[34m\u001b[1mTuner: \u001b[0mBest fitness model is runs\\detect\\train18\n",
      "\u001b[34m\u001b[1mTuner: \u001b[0mBest fitness hyperparameters are printed below.\n",
      "\n",
      "Printing '\u001b[1m\u001b[30mruns\\detect\\tune\\best_hyperparameters.yaml\u001b[0m'\n",
      "\n",
      "lr0: 0.00492\n",
      "lrf: 0.01222\n",
      "momentum: 0.85123\n",
      "weight_decay: 0.00045\n",
      "warmup_epochs: 2.55799\n",
      "warmup_momentum: 0.69414\n",
      "box: 8.35819\n",
      "cls: 0.62828\n",
      "dfl: 1.28665\n",
      "hsv_h: 0.01484\n",
      "hsv_s: 0.67167\n",
      "hsv_v: 0.64857\n",
      "degrees: 0.0\n",
      "translate: 0.11644\n",
      "scale: 0.45209\n",
      "shear: 0.0\n",
      "perspective: 0.0\n",
      "flipud: 0.0\n",
      "fliplr: 0.28389\n",
      "bgr: 0.0\n",
      "mosaic: 0.82448\n",
      "mixup: 0.0\n",
      "copy_paste: 0.0\n",
      "\n",
      "\u001b[34m\u001b[1mTuner: \u001b[0mStarting iteration 31/300 with hyperparameters: {'lr0': 0.00376, 'lrf': 0.01191, 'momentum': 0.87672, 'weight_decay': 0.00047, 'warmup_epochs': 2.32713, 'warmup_momentum': 0.66777, 'box': 8.68533, 'cls': 0.68053, 'dfl': 1.19324, 'hsv_h': 0.01585, 'hsv_s': 0.70182, 'hsv_v': 0.68082, 'degrees': 0.0, 'translate': 0.12254, 'scale': 0.43627, 'shear': 0.0, 'perspective': 0.0, 'flipud': 0.0, 'fliplr': 0.27459, 'bgr': 0.0, 'mosaic': 0.83012, 'mixup': 0.0, 'copy_paste': 0.0}\n",
      "Saved runs\\detect\\tune\\tune_scatter_plots.png\n",
      "Saved runs\\detect\\tune\\tune_fitness.png\n",
      "\n",
      "\u001b[34m\u001b[1mTuner: \u001b[0m31/300 iterations complete  (11855.94s)\n",
      "\u001b[34m\u001b[1mTuner: \u001b[0mResults saved to \u001b[1mruns\\detect\\tune\u001b[0m\n",
      "\u001b[34m\u001b[1mTuner: \u001b[0mBest fitness=0.65798 observed at iteration 16\n",
      "\u001b[34m\u001b[1mTuner: \u001b[0mBest fitness metrics are {'metrics/precision(B)': 0.89174, 'metrics/recall(B)': 0.85129, 'metrics/mAP50(B)': 0.93149, 'metrics/mAP50-95(B)': 0.6276, 'val/box_loss': 1.3099, 'val/cls_loss': 0.81882, 'val/dfl_loss': 0.98132, 'fitness': 0.65798}\n",
      "\u001b[34m\u001b[1mTuner: \u001b[0mBest fitness model is runs\\detect\\train18\n",
      "\u001b[34m\u001b[1mTuner: \u001b[0mBest fitness hyperparameters are printed below.\n",
      "\n",
      "Printing '\u001b[1m\u001b[30mruns\\detect\\tune\\best_hyperparameters.yaml\u001b[0m'\n",
      "\n",
      "lr0: 0.00492\n",
      "lrf: 0.01222\n",
      "momentum: 0.85123\n",
      "weight_decay: 0.00045\n",
      "warmup_epochs: 2.55799\n",
      "warmup_momentum: 0.69414\n",
      "box: 8.35819\n",
      "cls: 0.62828\n",
      "dfl: 1.28665\n",
      "hsv_h: 0.01484\n",
      "hsv_s: 0.67167\n",
      "hsv_v: 0.64857\n",
      "degrees: 0.0\n",
      "translate: 0.11644\n",
      "scale: 0.45209\n",
      "shear: 0.0\n",
      "perspective: 0.0\n",
      "flipud: 0.0\n",
      "fliplr: 0.28389\n",
      "bgr: 0.0\n",
      "mosaic: 0.82448\n",
      "mixup: 0.0\n",
      "copy_paste: 0.0\n",
      "\n",
      "\u001b[34m\u001b[1mTuner: \u001b[0mStarting iteration 32/300 with hyperparameters: {'lr0': 0.00337, 'lrf': 0.01231, 'momentum': 0.90794, 'weight_decay': 0.00038, 'warmup_epochs': 1.3624, 'warmup_momentum': 0.71567, 'box': 10.90289, 'cls': 0.48274, 'dfl': 1.3388, 'hsv_h': 0.01752, 'hsv_s': 0.75347, 'hsv_v': 0.67203, 'degrees': 0.0, 'translate': 0.1029, 'scale': 0.37554, 'shear': 0.0, 'perspective': 0.0, 'flipud': 0.0, 'fliplr': 0.32034, 'bgr': 0.0, 'mosaic': 0.94781, 'mixup': 0.0, 'copy_paste': 0.0}\n",
      "Saved runs\\detect\\tune\\tune_scatter_plots.png\n",
      "Saved runs\\detect\\tune\\tune_fitness.png\n",
      "\n",
      "\u001b[34m\u001b[1mTuner: \u001b[0m32/300 iterations complete  (12239.38s)\n",
      "\u001b[34m\u001b[1mTuner: \u001b[0mResults saved to \u001b[1mruns\\detect\\tune\u001b[0m\n",
      "\u001b[34m\u001b[1mTuner: \u001b[0mBest fitness=0.65798 observed at iteration 16\n",
      "\u001b[34m\u001b[1mTuner: \u001b[0mBest fitness metrics are {'metrics/precision(B)': 0.89174, 'metrics/recall(B)': 0.85129, 'metrics/mAP50(B)': 0.93149, 'metrics/mAP50-95(B)': 0.6276, 'val/box_loss': 1.3099, 'val/cls_loss': 0.81882, 'val/dfl_loss': 0.98132, 'fitness': 0.65798}\n",
      "\u001b[34m\u001b[1mTuner: \u001b[0mBest fitness model is runs\\detect\\train18\n",
      "\u001b[34m\u001b[1mTuner: \u001b[0mBest fitness hyperparameters are printed below.\n",
      "\n",
      "Printing '\u001b[1m\u001b[30mruns\\detect\\tune\\best_hyperparameters.yaml\u001b[0m'\n",
      "\n",
      "lr0: 0.00492\n",
      "lrf: 0.01222\n",
      "momentum: 0.85123\n",
      "weight_decay: 0.00045\n",
      "warmup_epochs: 2.55799\n",
      "warmup_momentum: 0.69414\n",
      "box: 8.35819\n",
      "cls: 0.62828\n",
      "dfl: 1.28665\n",
      "hsv_h: 0.01484\n",
      "hsv_s: 0.67167\n",
      "hsv_v: 0.64857\n",
      "degrees: 0.0\n",
      "translate: 0.11644\n",
      "scale: 0.45209\n",
      "shear: 0.0\n",
      "perspective: 0.0\n",
      "flipud: 0.0\n",
      "fliplr: 0.28389\n",
      "bgr: 0.0\n",
      "mosaic: 0.82448\n",
      "mixup: 0.0\n",
      "copy_paste: 0.0\n",
      "\n",
      "\u001b[34m\u001b[1mTuner: \u001b[0mStarting iteration 33/300 with hyperparameters: {'lr0': 0.00424, 'lrf': 0.01337, 'momentum': 0.89883, 'weight_decay': 0.0005, 'warmup_epochs': 2.0292, 'warmup_momentum': 0.77459, 'box': 9.20854, 'cls': 0.59534, 'dfl': 1.44116, 'hsv_h': 0.01714, 'hsv_s': 0.67167, 'hsv_v': 0.67694, 'degrees': 0.0, 'translate': 0.11537, 'scale': 0.45975, 'shear': 0.0, 'perspective': 0.0, 'flipud': 0.0, 'fliplr': 0.26055, 'bgr': 0.0, 'mosaic': 0.76877, 'mixup': 0.0, 'copy_paste': 0.0}\n",
      "Saved runs\\detect\\tune\\tune_scatter_plots.png\n",
      "Saved runs\\detect\\tune\\tune_fitness.png\n",
      "\n",
      "\u001b[34m\u001b[1mTuner: \u001b[0m33/300 iterations complete  (12620.78s)\n",
      "\u001b[34m\u001b[1mTuner: \u001b[0mResults saved to \u001b[1mruns\\detect\\tune\u001b[0m\n",
      "\u001b[34m\u001b[1mTuner: \u001b[0mBest fitness=0.65798 observed at iteration 16\n",
      "\u001b[34m\u001b[1mTuner: \u001b[0mBest fitness metrics are {'metrics/precision(B)': 0.89174, 'metrics/recall(B)': 0.85129, 'metrics/mAP50(B)': 0.93149, 'metrics/mAP50-95(B)': 0.6276, 'val/box_loss': 1.3099, 'val/cls_loss': 0.81882, 'val/dfl_loss': 0.98132, 'fitness': 0.65798}\n",
      "\u001b[34m\u001b[1mTuner: \u001b[0mBest fitness model is runs\\detect\\train18\n",
      "\u001b[34m\u001b[1mTuner: \u001b[0mBest fitness hyperparameters are printed below.\n",
      "\n",
      "Printing '\u001b[1m\u001b[30mruns\\detect\\tune\\best_hyperparameters.yaml\u001b[0m'\n",
      "\n",
      "lr0: 0.00492\n",
      "lrf: 0.01222\n",
      "momentum: 0.85123\n",
      "weight_decay: 0.00045\n",
      "warmup_epochs: 2.55799\n",
      "warmup_momentum: 0.69414\n",
      "box: 8.35819\n",
      "cls: 0.62828\n",
      "dfl: 1.28665\n",
      "hsv_h: 0.01484\n",
      "hsv_s: 0.67167\n",
      "hsv_v: 0.64857\n",
      "degrees: 0.0\n",
      "translate: 0.11644\n",
      "scale: 0.45209\n",
      "shear: 0.0\n",
      "perspective: 0.0\n",
      "flipud: 0.0\n",
      "fliplr: 0.28389\n",
      "bgr: 0.0\n",
      "mosaic: 0.82448\n",
      "mixup: 0.0\n",
      "copy_paste: 0.0\n",
      "\n",
      "\u001b[34m\u001b[1mTuner: \u001b[0mStarting iteration 34/300 with hyperparameters: {'lr0': 0.00503, 'lrf': 0.01222, 'momentum': 0.85123, 'weight_decay': 0.00045, 'warmup_epochs': 2.60335, 'warmup_momentum': 0.68958, 'box': 8.43476, 'cls': 0.62828, 'dfl': 1.28665, 'hsv_h': 0.01506, 'hsv_s': 0.66208, 'hsv_v': 0.64699, 'degrees': 0.0, 'translate': 0.11874, 'scale': 0.45209, 'shear': 0.0, 'perspective': 0.0, 'flipud': 0.0, 'fliplr': 0.28218, 'bgr': 0.0, 'mosaic': 0.84849, 'mixup': 0.0, 'copy_paste': 0.0}\n",
      "Saved runs\\detect\\tune\\tune_scatter_plots.png\n",
      "Saved runs\\detect\\tune\\tune_fitness.png\n",
      "\n",
      "\u001b[34m\u001b[1mTuner: \u001b[0m34/300 iterations complete  (12994.16s)\n",
      "\u001b[34m\u001b[1mTuner: \u001b[0mResults saved to \u001b[1mruns\\detect\\tune\u001b[0m\n",
      "\u001b[34m\u001b[1mTuner: \u001b[0mBest fitness=0.65798 observed at iteration 16\n",
      "\u001b[34m\u001b[1mTuner: \u001b[0mBest fitness metrics are {'metrics/precision(B)': 0.89174, 'metrics/recall(B)': 0.85129, 'metrics/mAP50(B)': 0.93149, 'metrics/mAP50-95(B)': 0.6276, 'val/box_loss': 1.3099, 'val/cls_loss': 0.81882, 'val/dfl_loss': 0.98132, 'fitness': 0.65798}\n",
      "\u001b[34m\u001b[1mTuner: \u001b[0mBest fitness model is runs\\detect\\train18\n",
      "\u001b[34m\u001b[1mTuner: \u001b[0mBest fitness hyperparameters are printed below.\n",
      "\n",
      "Printing '\u001b[1m\u001b[30mruns\\detect\\tune\\best_hyperparameters.yaml\u001b[0m'\n",
      "\n",
      "lr0: 0.00492\n",
      "lrf: 0.01222\n",
      "momentum: 0.85123\n",
      "weight_decay: 0.00045\n",
      "warmup_epochs: 2.55799\n",
      "warmup_momentum: 0.69414\n",
      "box: 8.35819\n",
      "cls: 0.62828\n",
      "dfl: 1.28665\n",
      "hsv_h: 0.01484\n",
      "hsv_s: 0.67167\n",
      "hsv_v: 0.64857\n",
      "degrees: 0.0\n",
      "translate: 0.11644\n",
      "scale: 0.45209\n",
      "shear: 0.0\n",
      "perspective: 0.0\n",
      "flipud: 0.0\n",
      "fliplr: 0.28389\n",
      "bgr: 0.0\n",
      "mosaic: 0.82448\n",
      "mixup: 0.0\n",
      "copy_paste: 0.0\n",
      "\n",
      "\u001b[34m\u001b[1mTuner: \u001b[0mStarting iteration 35/300 with hyperparameters: {'lr0': 0.00409, 'lrf': 0.01243, 'momentum': 0.84585, 'weight_decay': 0.00051, 'warmup_epochs': 3.05725, 'warmup_momentum': 0.70523, 'box': 11.52792, 'cls': 0.6241, 'dfl': 1.49565, 'hsv_h': 0.01811, 'hsv_s': 0.67345, 'hsv_v': 0.45512, 'degrees': 0.0, 'translate': 0.11064, 'scale': 0.39279, 'shear': 0.0, 'perspective': 0.0, 'flipud': 0.0, 'fliplr': 0.24357, 'bgr': 0.0, 'mosaic': 0.82434, 'mixup': 0.0, 'copy_paste': 0.0}\n",
      "Saved runs\\detect\\tune\\tune_scatter_plots.png\n",
      "Saved runs\\detect\\tune\\tune_fitness.png\n",
      "\n",
      "\u001b[34m\u001b[1mTuner: \u001b[0m35/300 iterations complete  (13383.79s)\n",
      "\u001b[34m\u001b[1mTuner: \u001b[0mResults saved to \u001b[1mruns\\detect\\tune\u001b[0m\n",
      "\u001b[34m\u001b[1mTuner: \u001b[0mBest fitness=0.65958 observed at iteration 35\n",
      "\u001b[34m\u001b[1mTuner: \u001b[0mBest fitness metrics are {'metrics/precision(B)': 0.88689, 'metrics/recall(B)': 0.84528, 'metrics/mAP50(B)': 0.92985, 'metrics/mAP50-95(B)': 0.62955, 'val/box_loss': 1.80751, 'val/cls_loss': 0.8051, 'val/dfl_loss': 1.13748, 'fitness': 0.65958}\n",
      "\u001b[34m\u001b[1mTuner: \u001b[0mBest fitness model is runs\\detect\\train37\n",
      "\u001b[34m\u001b[1mTuner: \u001b[0mBest fitness hyperparameters are printed below.\n",
      "\n",
      "Printing '\u001b[1m\u001b[30mruns\\detect\\tune\\best_hyperparameters.yaml\u001b[0m'\n",
      "\n",
      "lr0: 0.00409\n",
      "lrf: 0.01243\n",
      "momentum: 0.84585\n",
      "weight_decay: 0.00051\n",
      "warmup_epochs: 3.05725\n",
      "warmup_momentum: 0.70523\n",
      "box: 11.52792\n",
      "cls: 0.6241\n",
      "dfl: 1.49565\n",
      "hsv_h: 0.01811\n",
      "hsv_s: 0.67345\n",
      "hsv_v: 0.45512\n",
      "degrees: 0.0\n",
      "translate: 0.11064\n",
      "scale: 0.39279\n",
      "shear: 0.0\n",
      "perspective: 0.0\n",
      "flipud: 0.0\n",
      "fliplr: 0.24357\n",
      "bgr: 0.0\n",
      "mosaic: 0.82434\n",
      "mixup: 0.0\n",
      "copy_paste: 0.0\n",
      "\n",
      "\u001b[34m\u001b[1mTuner: \u001b[0mStarting iteration 36/300 with hyperparameters: {'lr0': 0.00478, 'lrf': 0.01108, 'momentum': 0.85494, 'weight_decay': 0.00049, 'warmup_epochs': 2.45713, 'warmup_momentum': 0.78875, 'box': 8.2913, 'cls': 0.57357, 'dfl': 1.2218, 'hsv_h': 0.01484, 'hsv_s': 0.67167, 'hsv_v': 0.64794, 'degrees': 0.0, 'translate': 0.11811, 'scale': 0.45209, 'shear': 0.0, 'perspective': 0.0, 'flipud': 0.0, 'fliplr': 0.28878, 'bgr': 0.0, 'mosaic': 0.82448, 'mixup': 0.0, 'copy_paste': 0.0}\n",
      "Saved runs\\detect\\tune\\tune_scatter_plots.png\n",
      "Saved runs\\detect\\tune\\tune_fitness.png\n",
      "\n",
      "\u001b[34m\u001b[1mTuner: \u001b[0m36/300 iterations complete  (13766.60s)\n",
      "\u001b[34m\u001b[1mTuner: \u001b[0mResults saved to \u001b[1mruns\\detect\\tune\u001b[0m\n",
      "\u001b[34m\u001b[1mTuner: \u001b[0mBest fitness=0.65958 observed at iteration 35\n",
      "\u001b[34m\u001b[1mTuner: \u001b[0mBest fitness metrics are {'metrics/precision(B)': 0.88689, 'metrics/recall(B)': 0.84528, 'metrics/mAP50(B)': 0.92985, 'metrics/mAP50-95(B)': 0.62955, 'val/box_loss': 1.80751, 'val/cls_loss': 0.8051, 'val/dfl_loss': 1.13748, 'fitness': 0.65958}\n",
      "\u001b[34m\u001b[1mTuner: \u001b[0mBest fitness model is runs\\detect\\train37\n",
      "\u001b[34m\u001b[1mTuner: \u001b[0mBest fitness hyperparameters are printed below.\n",
      "\n",
      "Printing '\u001b[1m\u001b[30mruns\\detect\\tune\\best_hyperparameters.yaml\u001b[0m'\n",
      "\n",
      "lr0: 0.00409\n",
      "lrf: 0.01243\n",
      "momentum: 0.84585\n",
      "weight_decay: 0.00051\n",
      "warmup_epochs: 3.05725\n",
      "warmup_momentum: 0.70523\n",
      "box: 11.52792\n",
      "cls: 0.6241\n",
      "dfl: 1.49565\n",
      "hsv_h: 0.01811\n",
      "hsv_s: 0.67345\n",
      "hsv_v: 0.45512\n",
      "degrees: 0.0\n",
      "translate: 0.11064\n",
      "scale: 0.39279\n",
      "shear: 0.0\n",
      "perspective: 0.0\n",
      "flipud: 0.0\n",
      "fliplr: 0.24357\n",
      "bgr: 0.0\n",
      "mosaic: 0.82434\n",
      "mixup: 0.0\n",
      "copy_paste: 0.0\n",
      "\n",
      "\u001b[34m\u001b[1mTuner: \u001b[0mStarting iteration 37/300 with hyperparameters: {'lr0': 0.00416, 'lrf': 0.01243, 'momentum': 0.85685, 'weight_decay': 0.00049, 'warmup_epochs': 3.05243, 'warmup_momentum': 0.72705, 'box': 11.52792, 'cls': 0.57384, 'dfl': 1.49565, 'hsv_h': 0.01827, 'hsv_s': 0.66901, 'hsv_v': 0.48608, 'degrees': 0.0, 'translate': 0.11298, 'scale': 0.37917, 'shear': 0.0, 'perspective': 0.0, 'flipud': 0.0, 'fliplr': 0.24357, 'bgr': 0.0, 'mosaic': 0.89311, 'mixup': 0.0, 'copy_paste': 0.0}\n",
      "Saved runs\\detect\\tune\\tune_scatter_plots.png\n",
      "Saved runs\\detect\\tune\\tune_fitness.png\n",
      "\n",
      "\u001b[34m\u001b[1mTuner: \u001b[0m37/300 iterations complete  (14144.98s)\n",
      "\u001b[34m\u001b[1mTuner: \u001b[0mResults saved to \u001b[1mruns\\detect\\tune\u001b[0m\n",
      "\u001b[34m\u001b[1mTuner: \u001b[0mBest fitness=0.65987 observed at iteration 37\n",
      "\u001b[34m\u001b[1mTuner: \u001b[0mBest fitness metrics are {'metrics/precision(B)': 0.89365, 'metrics/recall(B)': 0.83893, 'metrics/mAP50(B)': 0.93107, 'metrics/mAP50-95(B)': 0.62974, 'val/box_loss': 1.7935, 'val/cls_loss': 0.73751, 'val/dfl_loss': 1.11739, 'fitness': 0.65987}\n",
      "\u001b[34m\u001b[1mTuner: \u001b[0mBest fitness model is runs\\detect\\train39\n",
      "\u001b[34m\u001b[1mTuner: \u001b[0mBest fitness hyperparameters are printed below.\n",
      "\n",
      "Printing '\u001b[1m\u001b[30mruns\\detect\\tune\\best_hyperparameters.yaml\u001b[0m'\n",
      "\n",
      "lr0: 0.00416\n",
      "lrf: 0.01243\n",
      "momentum: 0.85685\n",
      "weight_decay: 0.00049\n",
      "warmup_epochs: 3.05243\n",
      "warmup_momentum: 0.72705\n",
      "box: 11.52792\n",
      "cls: 0.57384\n",
      "dfl: 1.49565\n",
      "hsv_h: 0.01827\n",
      "hsv_s: 0.66901\n",
      "hsv_v: 0.48608\n",
      "degrees: 0.0\n",
      "translate: 0.11298\n",
      "scale: 0.37917\n",
      "shear: 0.0\n",
      "perspective: 0.0\n",
      "flipud: 0.0\n",
      "fliplr: 0.24357\n",
      "bgr: 0.0\n",
      "mosaic: 0.89311\n",
      "mixup: 0.0\n",
      "copy_paste: 0.0\n",
      "\n",
      "\u001b[34m\u001b[1mTuner: \u001b[0mStarting iteration 38/300 with hyperparameters: {'lr0': 0.00397, 'lrf': 0.00762, 'momentum': 0.83397, 'weight_decay': 0.00052, 'warmup_epochs': 2.20825, 'warmup_momentum': 0.88105, 'box': 10.44587, 'cls': 0.64356, 'dfl': 1.49565, 'hsv_h': 0.01168, 'hsv_s': 0.64175, 'hsv_v': 0.38752, 'degrees': 0.0, 'translate': 0.11854, 'scale': 0.33352, 'shear': 0.0, 'perspective': 0.0, 'flipud': 0.0, 'fliplr': 0.3383, 'bgr': 0.0, 'mosaic': 0.82434, 'mixup': 0.0, 'copy_paste': 0.0}\n",
      "Saved runs\\detect\\tune\\tune_scatter_plots.png\n",
      "Saved runs\\detect\\tune\\tune_fitness.png\n",
      "\n",
      "\u001b[34m\u001b[1mTuner: \u001b[0m38/300 iterations complete  (14523.10s)\n",
      "\u001b[34m\u001b[1mTuner: \u001b[0mResults saved to \u001b[1mruns\\detect\\tune\u001b[0m\n",
      "\u001b[34m\u001b[1mTuner: \u001b[0mBest fitness=0.65987 observed at iteration 37\n",
      "\u001b[34m\u001b[1mTuner: \u001b[0mBest fitness metrics are {'metrics/precision(B)': 0.89365, 'metrics/recall(B)': 0.83893, 'metrics/mAP50(B)': 0.93107, 'metrics/mAP50-95(B)': 0.62974, 'val/box_loss': 1.7935, 'val/cls_loss': 0.73751, 'val/dfl_loss': 1.11739, 'fitness': 0.65987}\n",
      "\u001b[34m\u001b[1mTuner: \u001b[0mBest fitness model is runs\\detect\\train39\n",
      "\u001b[34m\u001b[1mTuner: \u001b[0mBest fitness hyperparameters are printed below.\n",
      "\n",
      "Printing '\u001b[1m\u001b[30mruns\\detect\\tune\\best_hyperparameters.yaml\u001b[0m'\n",
      "\n",
      "lr0: 0.00416\n",
      "lrf: 0.01243\n",
      "momentum: 0.85685\n",
      "weight_decay: 0.00049\n",
      "warmup_epochs: 3.05243\n",
      "warmup_momentum: 0.72705\n",
      "box: 11.52792\n",
      "cls: 0.57384\n",
      "dfl: 1.49565\n",
      "hsv_h: 0.01827\n",
      "hsv_s: 0.66901\n",
      "hsv_v: 0.48608\n",
      "degrees: 0.0\n",
      "translate: 0.11298\n",
      "scale: 0.37917\n",
      "shear: 0.0\n",
      "perspective: 0.0\n",
      "flipud: 0.0\n",
      "fliplr: 0.24357\n",
      "bgr: 0.0\n",
      "mosaic: 0.89311\n",
      "mixup: 0.0\n",
      "copy_paste: 0.0\n",
      "\n",
      "\u001b[34m\u001b[1mTuner: \u001b[0mStarting iteration 39/300 with hyperparameters: {'lr0': 0.0046, 'lrf': 0.01282, 'momentum': 0.8497, 'weight_decay': 0.00053, 'warmup_epochs': 2.9011, 'warmup_momentum': 0.72705, 'box': 11.01756, 'cls': 0.58328, 'dfl': 1.73868, 'hsv_h': 0.01827, 'hsv_s': 0.62186, 'hsv_v': 0.48608, 'degrees': 0.0, 'translate': 0.11396, 'scale': 0.36307, 'shear': 0.0, 'perspective': 0.0, 'flipud': 0.0, 'fliplr': 0.21684, 'bgr': 0.0, 'mosaic': 0.88903, 'mixup': 0.0, 'copy_paste': 0.0}\n",
      "Saved runs\\detect\\tune\\tune_scatter_plots.png\n",
      "Saved runs\\detect\\tune\\tune_fitness.png\n",
      "\n",
      "\u001b[34m\u001b[1mTuner: \u001b[0m39/300 iterations complete  (14904.93s)\n",
      "\u001b[34m\u001b[1mTuner: \u001b[0mResults saved to \u001b[1mruns\\detect\\tune\u001b[0m\n",
      "\u001b[34m\u001b[1mTuner: \u001b[0mBest fitness=0.65987 observed at iteration 37\n",
      "\u001b[34m\u001b[1mTuner: \u001b[0mBest fitness metrics are {'metrics/precision(B)': 0.89365, 'metrics/recall(B)': 0.83893, 'metrics/mAP50(B)': 0.93107, 'metrics/mAP50-95(B)': 0.62974, 'val/box_loss': 1.7935, 'val/cls_loss': 0.73751, 'val/dfl_loss': 1.11739, 'fitness': 0.65987}\n",
      "\u001b[34m\u001b[1mTuner: \u001b[0mBest fitness model is runs\\detect\\train39\n",
      "\u001b[34m\u001b[1mTuner: \u001b[0mBest fitness hyperparameters are printed below.\n",
      "\n",
      "Printing '\u001b[1m\u001b[30mruns\\detect\\tune\\best_hyperparameters.yaml\u001b[0m'\n",
      "\n",
      "lr0: 0.00416\n",
      "lrf: 0.01243\n",
      "momentum: 0.85685\n",
      "weight_decay: 0.00049\n",
      "warmup_epochs: 3.05243\n",
      "warmup_momentum: 0.72705\n",
      "box: 11.52792\n",
      "cls: 0.57384\n",
      "dfl: 1.49565\n",
      "hsv_h: 0.01827\n",
      "hsv_s: 0.66901\n",
      "hsv_v: 0.48608\n",
      "degrees: 0.0\n",
      "translate: 0.11298\n",
      "scale: 0.37917\n",
      "shear: 0.0\n",
      "perspective: 0.0\n",
      "flipud: 0.0\n",
      "fliplr: 0.24357\n",
      "bgr: 0.0\n",
      "mosaic: 0.89311\n",
      "mixup: 0.0\n",
      "copy_paste: 0.0\n",
      "\n",
      "\u001b[34m\u001b[1mTuner: \u001b[0mStarting iteration 40/300 with hyperparameters: {'lr0': 0.00411, 'lrf': 0.01211, 'momentum': 0.82296, 'weight_decay': 0.00044, 'warmup_epochs': 2.61602, 'warmup_momentum': 0.74629, 'box': 11.59484, 'cls': 0.60812, 'dfl': 1.40803, 'hsv_h': 0.01811, 'hsv_s': 0.67345, 'hsv_v': 0.45512, 'degrees': 0.0, 'translate': 0.11472, 'scale': 0.39279, 'shear': 0.0, 'perspective': 0.0, 'flipud': 0.0, 'fliplr': 0.24357, 'bgr': 0.0, 'mosaic': 0.89402, 'mixup': 0.0, 'copy_paste': 0.0}\n",
      "Saved runs\\detect\\tune\\tune_scatter_plots.png\n",
      "Saved runs\\detect\\tune\\tune_fitness.png\n",
      "\n",
      "\u001b[34m\u001b[1mTuner: \u001b[0m40/300 iterations complete  (15287.70s)\n",
      "\u001b[34m\u001b[1mTuner: \u001b[0mResults saved to \u001b[1mruns\\detect\\tune\u001b[0m\n",
      "\u001b[34m\u001b[1mTuner: \u001b[0mBest fitness=0.66006 observed at iteration 40\n",
      "\u001b[34m\u001b[1mTuner: \u001b[0mBest fitness metrics are {'metrics/precision(B)': 0.89627, 'metrics/recall(B)': 0.84846, 'metrics/mAP50(B)': 0.93276, 'metrics/mAP50-95(B)': 0.62976, 'val/box_loss': 1.8083, 'val/cls_loss': 0.78002, 'val/dfl_loss': 1.06708, 'fitness': 0.66006}\n",
      "\u001b[34m\u001b[1mTuner: \u001b[0mBest fitness model is runs\\detect\\train42\n",
      "\u001b[34m\u001b[1mTuner: \u001b[0mBest fitness hyperparameters are printed below.\n",
      "\n",
      "Printing '\u001b[1m\u001b[30mruns\\detect\\tune\\best_hyperparameters.yaml\u001b[0m'\n",
      "\n",
      "lr0: 0.00411\n",
      "lrf: 0.01211\n",
      "momentum: 0.82296\n",
      "weight_decay: 0.00044\n",
      "warmup_epochs: 2.61602\n",
      "warmup_momentum: 0.74629\n",
      "box: 11.59484\n",
      "cls: 0.60812\n",
      "dfl: 1.40803\n",
      "hsv_h: 0.01811\n",
      "hsv_s: 0.67345\n",
      "hsv_v: 0.45512\n",
      "degrees: 0.0\n",
      "translate: 0.11472\n",
      "scale: 0.39279\n",
      "shear: 0.0\n",
      "perspective: 0.0\n",
      "flipud: 0.0\n",
      "fliplr: 0.24357\n",
      "bgr: 0.0\n",
      "mosaic: 0.89402\n",
      "mixup: 0.0\n",
      "copy_paste: 0.0\n",
      "\n",
      "\u001b[34m\u001b[1mTuner: \u001b[0mStarting iteration 41/300 with hyperparameters: {'lr0': 0.00349, 'lrf': 0.01243, 'momentum': 0.85685, 'weight_decay': 0.00053, 'warmup_epochs': 2.97034, 'warmup_momentum': 0.94361, 'box': 11.47378, 'cls': 0.44919, 'dfl': 1.43451, 'hsv_h': 0.01827, 'hsv_s': 0.61508, 'hsv_v': 0.54655, 'degrees': 0.0, 'translate': 0.13005, 'scale': 0.36067, 'shear': 0.0, 'perspective': 0.0, 'flipud': 0.0, 'fliplr': 0.10667, 'bgr': 0.0, 'mosaic': 0.61197, 'mixup': 0.0, 'copy_paste': 0.0}\n",
      "Saved runs\\detect\\tune\\tune_scatter_plots.png\n",
      "Saved runs\\detect\\tune\\tune_fitness.png\n",
      "\n",
      "\u001b[34m\u001b[1mTuner: \u001b[0m41/300 iterations complete  (15674.59s)\n",
      "\u001b[34m\u001b[1mTuner: \u001b[0mResults saved to \u001b[1mruns\\detect\\tune\u001b[0m\n",
      "\u001b[34m\u001b[1mTuner: \u001b[0mBest fitness=0.66006 observed at iteration 40\n",
      "\u001b[34m\u001b[1mTuner: \u001b[0mBest fitness metrics are {'metrics/precision(B)': 0.89627, 'metrics/recall(B)': 0.84846, 'metrics/mAP50(B)': 0.93276, 'metrics/mAP50-95(B)': 0.62976, 'val/box_loss': 1.8083, 'val/cls_loss': 0.78002, 'val/dfl_loss': 1.06708, 'fitness': 0.66006}\n",
      "\u001b[34m\u001b[1mTuner: \u001b[0mBest fitness model is runs\\detect\\train42\n",
      "\u001b[34m\u001b[1mTuner: \u001b[0mBest fitness hyperparameters are printed below.\n",
      "\n",
      "Printing '\u001b[1m\u001b[30mruns\\detect\\tune\\best_hyperparameters.yaml\u001b[0m'\n",
      "\n",
      "lr0: 0.00411\n",
      "lrf: 0.01211\n",
      "momentum: 0.82296\n",
      "weight_decay: 0.00044\n",
      "warmup_epochs: 2.61602\n",
      "warmup_momentum: 0.74629\n",
      "box: 11.59484\n",
      "cls: 0.60812\n",
      "dfl: 1.40803\n",
      "hsv_h: 0.01811\n",
      "hsv_s: 0.67345\n",
      "hsv_v: 0.45512\n",
      "degrees: 0.0\n",
      "translate: 0.11472\n",
      "scale: 0.39279\n",
      "shear: 0.0\n",
      "perspective: 0.0\n",
      "flipud: 0.0\n",
      "fliplr: 0.24357\n",
      "bgr: 0.0\n",
      "mosaic: 0.89402\n",
      "mixup: 0.0\n",
      "copy_paste: 0.0\n",
      "\n",
      "\u001b[34m\u001b[1mTuner: \u001b[0mStarting iteration 42/300 with hyperparameters: {'lr0': 0.00406, 'lrf': 0.0139, 'momentum': 0.80863, 'weight_decay': 0.00041, 'warmup_epochs': 2.77864, 'warmup_momentum': 0.65431, 'box': 10.30962, 'cls': 0.60812, 'dfl': 1.42566, 'hsv_h': 0.02005, 'hsv_s': 0.67345, 'hsv_v': 0.45512, 'degrees': 0.0, 'translate': 0.10851, 'scale': 0.43659, 'shear': 0.0, 'perspective': 0.0, 'flipud': 0.0, 'fliplr': 0.21305, 'bgr': 0.0, 'mosaic': 0.77997, 'mixup': 0.0, 'copy_paste': 0.0}\n",
      "Saved runs\\detect\\tune\\tune_scatter_plots.png\n",
      "Saved runs\\detect\\tune\\tune_fitness.png\n",
      "\n",
      "\u001b[34m\u001b[1mTuner: \u001b[0m42/300 iterations complete  (16048.34s)\n",
      "\u001b[34m\u001b[1mTuner: \u001b[0mResults saved to \u001b[1mruns\\detect\\tune\u001b[0m\n",
      "\u001b[34m\u001b[1mTuner: \u001b[0mBest fitness=0.66006 observed at iteration 40\n",
      "\u001b[34m\u001b[1mTuner: \u001b[0mBest fitness metrics are {'metrics/precision(B)': 0.89627, 'metrics/recall(B)': 0.84846, 'metrics/mAP50(B)': 0.93276, 'metrics/mAP50-95(B)': 0.62976, 'val/box_loss': 1.8083, 'val/cls_loss': 0.78002, 'val/dfl_loss': 1.06708, 'fitness': 0.66006}\n",
      "\u001b[34m\u001b[1mTuner: \u001b[0mBest fitness model is runs\\detect\\train42\n",
      "\u001b[34m\u001b[1mTuner: \u001b[0mBest fitness hyperparameters are printed below.\n",
      "\n",
      "Printing '\u001b[1m\u001b[30mruns\\detect\\tune\\best_hyperparameters.yaml\u001b[0m'\n",
      "\n",
      "lr0: 0.00411\n",
      "lrf: 0.01211\n",
      "momentum: 0.82296\n",
      "weight_decay: 0.00044\n",
      "warmup_epochs: 2.61602\n",
      "warmup_momentum: 0.74629\n",
      "box: 11.59484\n",
      "cls: 0.60812\n",
      "dfl: 1.40803\n",
      "hsv_h: 0.01811\n",
      "hsv_s: 0.67345\n",
      "hsv_v: 0.45512\n",
      "degrees: 0.0\n",
      "translate: 0.11472\n",
      "scale: 0.39279\n",
      "shear: 0.0\n",
      "perspective: 0.0\n",
      "flipud: 0.0\n",
      "fliplr: 0.24357\n",
      "bgr: 0.0\n",
      "mosaic: 0.89402\n",
      "mixup: 0.0\n",
      "copy_paste: 0.0\n",
      "\n",
      "\u001b[34m\u001b[1mTuner: \u001b[0mStarting iteration 43/300 with hyperparameters: {'lr0': 0.0041, 'lrf': 0.0124, 'momentum': 0.85702, 'weight_decay': 0.00049, 'warmup_epochs': 3.05243, 'warmup_momentum': 0.72157, 'box': 11.47331, 'cls': 0.57384, 'dfl': 1.39854, 'hsv_h': 0.01827, 'hsv_s': 0.65733, 'hsv_v': 0.49103, 'degrees': 0.0, 'translate': 0.10868, 'scale': 0.38883, 'shear': 0.0, 'perspective': 0.0, 'flipud': 0.0, 'fliplr': 0.24894, 'bgr': 0.0, 'mosaic': 0.89844, 'mixup': 0.0, 'copy_paste': 0.0}\n",
      "Saved runs\\detect\\tune\\tune_scatter_plots.png\n",
      "Saved runs\\detect\\tune\\tune_fitness.png\n",
      "\n",
      "\u001b[34m\u001b[1mTuner: \u001b[0m43/300 iterations complete  (16429.36s)\n",
      "\u001b[34m\u001b[1mTuner: \u001b[0mResults saved to \u001b[1mruns\\detect\\tune\u001b[0m\n",
      "\u001b[34m\u001b[1mTuner: \u001b[0mBest fitness=0.66176 observed at iteration 43\n",
      "\u001b[34m\u001b[1mTuner: \u001b[0mBest fitness metrics are {'metrics/precision(B)': 0.89646, 'metrics/recall(B)': 0.85025, 'metrics/mAP50(B)': 0.93596, 'metrics/mAP50-95(B)': 0.6313, 'val/box_loss': 1.78017, 'val/cls_loss': 0.73179, 'val/dfl_loss': 1.05057, 'fitness': 0.66176}\n",
      "\u001b[34m\u001b[1mTuner: \u001b[0mBest fitness model is runs\\detect\\train45\n",
      "\u001b[34m\u001b[1mTuner: \u001b[0mBest fitness hyperparameters are printed below.\n",
      "\n",
      "Printing '\u001b[1m\u001b[30mruns\\detect\\tune\\best_hyperparameters.yaml\u001b[0m'\n",
      "\n",
      "lr0: 0.0041\n",
      "lrf: 0.0124\n",
      "momentum: 0.85702\n",
      "weight_decay: 0.00049\n",
      "warmup_epochs: 3.05243\n",
      "warmup_momentum: 0.72157\n",
      "box: 11.47331\n",
      "cls: 0.57384\n",
      "dfl: 1.39854\n",
      "hsv_h: 0.01827\n",
      "hsv_s: 0.65733\n",
      "hsv_v: 0.49103\n",
      "degrees: 0.0\n",
      "translate: 0.10868\n",
      "scale: 0.38883\n",
      "shear: 0.0\n",
      "perspective: 0.0\n",
      "flipud: 0.0\n",
      "fliplr: 0.24894\n",
      "bgr: 0.0\n",
      "mosaic: 0.89844\n",
      "mixup: 0.0\n",
      "copy_paste: 0.0\n",
      "\n",
      "\u001b[34m\u001b[1mTuner: \u001b[0mStarting iteration 44/300 with hyperparameters: {'lr0': 0.00267, 'lrf': 0.01001, 'momentum': 0.80961, 'weight_decay': 0.00047, 'warmup_epochs': 3.61455, 'warmup_momentum': 0.82066, 'box': 9.72935, 'cls': 0.48996, 'dfl': 1.21146, 'hsv_h': 0.01811, 'hsv_s': 0.46157, 'hsv_v': 0.39727, 'degrees': 0.0, 'translate': 0.08747, 'scale': 0.3922, 'shear': 0.0, 'perspective': 0.0, 'flipud': 0.0, 'fliplr': 0.24357, 'bgr': 0.0, 'mosaic': 0.7645, 'mixup': 0.0, 'copy_paste': 0.0}\n",
      "Saved runs\\detect\\tune\\tune_scatter_plots.png\n",
      "Saved runs\\detect\\tune\\tune_fitness.png\n",
      "\n",
      "\u001b[34m\u001b[1mTuner: \u001b[0m44/300 iterations complete  (16804.05s)\n",
      "\u001b[34m\u001b[1mTuner: \u001b[0mResults saved to \u001b[1mruns\\detect\\tune\u001b[0m\n",
      "\u001b[34m\u001b[1mTuner: \u001b[0mBest fitness=0.66176 observed at iteration 43\n",
      "\u001b[34m\u001b[1mTuner: \u001b[0mBest fitness metrics are {'metrics/precision(B)': 0.89646, 'metrics/recall(B)': 0.85025, 'metrics/mAP50(B)': 0.93596, 'metrics/mAP50-95(B)': 0.6313, 'val/box_loss': 1.78017, 'val/cls_loss': 0.73179, 'val/dfl_loss': 1.05057, 'fitness': 0.66176}\n",
      "\u001b[34m\u001b[1mTuner: \u001b[0mBest fitness model is runs\\detect\\train45\n",
      "\u001b[34m\u001b[1mTuner: \u001b[0mBest fitness hyperparameters are printed below.\n",
      "\n",
      "Printing '\u001b[1m\u001b[30mruns\\detect\\tune\\best_hyperparameters.yaml\u001b[0m'\n",
      "\n",
      "lr0: 0.0041\n",
      "lrf: 0.0124\n",
      "momentum: 0.85702\n",
      "weight_decay: 0.00049\n",
      "warmup_epochs: 3.05243\n",
      "warmup_momentum: 0.72157\n",
      "box: 11.47331\n",
      "cls: 0.57384\n",
      "dfl: 1.39854\n",
      "hsv_h: 0.01827\n",
      "hsv_s: 0.65733\n",
      "hsv_v: 0.49103\n",
      "degrees: 0.0\n",
      "translate: 0.10868\n",
      "scale: 0.38883\n",
      "shear: 0.0\n",
      "perspective: 0.0\n",
      "flipud: 0.0\n",
      "fliplr: 0.24894\n",
      "bgr: 0.0\n",
      "mosaic: 0.89844\n",
      "mixup: 0.0\n",
      "copy_paste: 0.0\n",
      "\n",
      "\u001b[34m\u001b[1mTuner: \u001b[0mStarting iteration 45/300 with hyperparameters: {'lr0': 0.0041, 'lrf': 0.01154, 'momentum': 0.85022, 'weight_decay': 0.00045, 'warmup_epochs': 3.17675, 'warmup_momentum': 0.66796, 'box': 10.48049, 'cls': 0.57384, 'dfl': 1.37857, 'hsv_h': 0.01864, 'hsv_s': 0.66121, 'hsv_v': 0.53361, 'degrees': 0.0, 'translate': 0.11122, 'scale': 0.40505, 'shear': 0.0, 'perspective': 0.0, 'flipud': 0.0, 'fliplr': 0.22442, 'bgr': 0.0, 'mosaic': 0.84523, 'mixup': 0.0, 'copy_paste': 0.0}\n",
      "Saved runs\\detect\\tune\\tune_scatter_plots.png\n",
      "Saved runs\\detect\\tune\\tune_fitness.png\n",
      "\n",
      "\u001b[34m\u001b[1mTuner: \u001b[0m45/300 iterations complete  (17184.86s)\n",
      "\u001b[34m\u001b[1mTuner: \u001b[0mResults saved to \u001b[1mruns\\detect\\tune\u001b[0m\n",
      "\u001b[34m\u001b[1mTuner: \u001b[0mBest fitness=0.66176 observed at iteration 43\n",
      "\u001b[34m\u001b[1mTuner: \u001b[0mBest fitness metrics are {'metrics/precision(B)': 0.89646, 'metrics/recall(B)': 0.85025, 'metrics/mAP50(B)': 0.93596, 'metrics/mAP50-95(B)': 0.6313, 'val/box_loss': 1.78017, 'val/cls_loss': 0.73179, 'val/dfl_loss': 1.05057, 'fitness': 0.66176}\n",
      "\u001b[34m\u001b[1mTuner: \u001b[0mBest fitness model is runs\\detect\\train45\n",
      "\u001b[34m\u001b[1mTuner: \u001b[0mBest fitness hyperparameters are printed below.\n",
      "\n",
      "Printing '\u001b[1m\u001b[30mruns\\detect\\tune\\best_hyperparameters.yaml\u001b[0m'\n",
      "\n",
      "lr0: 0.0041\n",
      "lrf: 0.0124\n",
      "momentum: 0.85702\n",
      "weight_decay: 0.00049\n",
      "warmup_epochs: 3.05243\n",
      "warmup_momentum: 0.72157\n",
      "box: 11.47331\n",
      "cls: 0.57384\n",
      "dfl: 1.39854\n",
      "hsv_h: 0.01827\n",
      "hsv_s: 0.65733\n",
      "hsv_v: 0.49103\n",
      "degrees: 0.0\n",
      "translate: 0.10868\n",
      "scale: 0.38883\n",
      "shear: 0.0\n",
      "perspective: 0.0\n",
      "flipud: 0.0\n",
      "fliplr: 0.24894\n",
      "bgr: 0.0\n",
      "mosaic: 0.89844\n",
      "mixup: 0.0\n",
      "copy_paste: 0.0\n",
      "\n",
      "\u001b[34m\u001b[1mTuner: \u001b[0mStarting iteration 46/300 with hyperparameters: {'lr0': 0.00445, 'lrf': 0.01177, 'momentum': 0.82039, 'weight_decay': 0.00069, 'warmup_epochs': 3.05243, 'warmup_momentum': 0.5442, 'box': 10.25023, 'cls': 0.56554, 'dfl': 1.39716, 'hsv_h': 0.01999, 'hsv_s': 0.65733, 'hsv_v': 0.49103, 'degrees': 0.0, 'translate': 0.13117, 'scale': 0.32656, 'shear': 0.0, 'perspective': 0.0, 'flipud': 0.0, 'fliplr': 0.28481, 'bgr': 0.0, 'mosaic': 0.88676, 'mixup': 0.0, 'copy_paste': 0.0}\n",
      "Saved runs\\detect\\tune\\tune_scatter_plots.png\n",
      "Saved runs\\detect\\tune\\tune_fitness.png\n",
      "\n",
      "\u001b[34m\u001b[1mTuner: \u001b[0m46/300 iterations complete  (17554.63s)\n",
      "\u001b[34m\u001b[1mTuner: \u001b[0mResults saved to \u001b[1mruns\\detect\\tune\u001b[0m\n",
      "\u001b[34m\u001b[1mTuner: \u001b[0mBest fitness=0.66176 observed at iteration 43\n",
      "\u001b[34m\u001b[1mTuner: \u001b[0mBest fitness metrics are {'metrics/precision(B)': 0.89646, 'metrics/recall(B)': 0.85025, 'metrics/mAP50(B)': 0.93596, 'metrics/mAP50-95(B)': 0.6313, 'val/box_loss': 1.78017, 'val/cls_loss': 0.73179, 'val/dfl_loss': 1.05057, 'fitness': 0.66176}\n",
      "\u001b[34m\u001b[1mTuner: \u001b[0mBest fitness model is runs\\detect\\train45\n",
      "\u001b[34m\u001b[1mTuner: \u001b[0mBest fitness hyperparameters are printed below.\n",
      "\n",
      "Printing '\u001b[1m\u001b[30mruns\\detect\\tune\\best_hyperparameters.yaml\u001b[0m'\n",
      "\n",
      "lr0: 0.0041\n",
      "lrf: 0.0124\n",
      "momentum: 0.85702\n",
      "weight_decay: 0.00049\n",
      "warmup_epochs: 3.05243\n",
      "warmup_momentum: 0.72157\n",
      "box: 11.47331\n",
      "cls: 0.57384\n",
      "dfl: 1.39854\n",
      "hsv_h: 0.01827\n",
      "hsv_s: 0.65733\n",
      "hsv_v: 0.49103\n",
      "degrees: 0.0\n",
      "translate: 0.10868\n",
      "scale: 0.38883\n",
      "shear: 0.0\n",
      "perspective: 0.0\n",
      "flipud: 0.0\n",
      "fliplr: 0.24894\n",
      "bgr: 0.0\n",
      "mosaic: 0.89844\n",
      "mixup: 0.0\n",
      "copy_paste: 0.0\n",
      "\n",
      "\u001b[34m\u001b[1mTuner: \u001b[0mStarting iteration 47/300 with hyperparameters: {'lr0': 0.00397, 'lrf': 0.01261, 'momentum': 0.82177, 'weight_decay': 0.00043, 'warmup_epochs': 2.67065, 'warmup_momentum': 0.74006, 'box': 11.58841, 'cls': 0.62307, 'dfl': 1.3969, 'hsv_h': 0.0182, 'hsv_s': 0.69044, 'hsv_v': 0.45512, 'degrees': 0.0, 'translate': 0.11357, 'scale': 0.39021, 'shear': 0.0, 'perspective': 0.0, 'flipud': 0.0, 'fliplr': 0.24357, 'bgr': 0.0, 'mosaic': 0.91479, 'mixup': 0.0, 'copy_paste': 0.0}\n",
      "Saved runs\\detect\\tune\\tune_scatter_plots.png\n",
      "Saved runs\\detect\\tune\\tune_fitness.png\n",
      "\n",
      "\u001b[34m\u001b[1mTuner: \u001b[0m47/300 iterations complete  (17930.00s)\n",
      "\u001b[34m\u001b[1mTuner: \u001b[0mResults saved to \u001b[1mruns\\detect\\tune\u001b[0m\n",
      "\u001b[34m\u001b[1mTuner: \u001b[0mBest fitness=0.66176 observed at iteration 43\n",
      "\u001b[34m\u001b[1mTuner: \u001b[0mBest fitness metrics are {'metrics/precision(B)': 0.89646, 'metrics/recall(B)': 0.85025, 'metrics/mAP50(B)': 0.93596, 'metrics/mAP50-95(B)': 0.6313, 'val/box_loss': 1.78017, 'val/cls_loss': 0.73179, 'val/dfl_loss': 1.05057, 'fitness': 0.66176}\n",
      "\u001b[34m\u001b[1mTuner: \u001b[0mBest fitness model is runs\\detect\\train45\n",
      "\u001b[34m\u001b[1mTuner: \u001b[0mBest fitness hyperparameters are printed below.\n",
      "\n",
      "Printing '\u001b[1m\u001b[30mruns\\detect\\tune\\best_hyperparameters.yaml\u001b[0m'\n",
      "\n",
      "lr0: 0.0041\n",
      "lrf: 0.0124\n",
      "momentum: 0.85702\n",
      "weight_decay: 0.00049\n",
      "warmup_epochs: 3.05243\n",
      "warmup_momentum: 0.72157\n",
      "box: 11.47331\n",
      "cls: 0.57384\n",
      "dfl: 1.39854\n",
      "hsv_h: 0.01827\n",
      "hsv_s: 0.65733\n",
      "hsv_v: 0.49103\n",
      "degrees: 0.0\n",
      "translate: 0.10868\n",
      "scale: 0.38883\n",
      "shear: 0.0\n",
      "perspective: 0.0\n",
      "flipud: 0.0\n",
      "fliplr: 0.24894\n",
      "bgr: 0.0\n",
      "mosaic: 0.89844\n",
      "mixup: 0.0\n",
      "copy_paste: 0.0\n",
      "\n",
      "\u001b[34m\u001b[1mTuner: \u001b[0mStarting iteration 48/300 with hyperparameters: {'lr0': 0.00418, 'lrf': 0.01611, 'momentum': 0.85702, 'weight_decay': 0.00047, 'warmup_epochs': 3.43527, 'warmup_momentum': 0.71038, 'box': 11.47331, 'cls': 0.54892, 'dfl': 1.27224, 'hsv_h': 0.01626, 'hsv_s': 0.71195, 'hsv_v': 0.53667, 'degrees': 0.0, 'translate': 0.10026, 'scale': 0.35636, 'shear': 0.0, 'perspective': 0.0, 'flipud': 0.0, 'fliplr': 0.24894, 'bgr': 0.0, 'mosaic': 0.89876, 'mixup': 0.0, 'copy_paste': 0.0}\n",
      "Saved runs\\detect\\tune\\tune_scatter_plots.png\n",
      "Saved runs\\detect\\tune\\tune_fitness.png\n",
      "\n",
      "\u001b[34m\u001b[1mTuner: \u001b[0m48/300 iterations complete  (18305.56s)\n",
      "\u001b[34m\u001b[1mTuner: \u001b[0mResults saved to \u001b[1mruns\\detect\\tune\u001b[0m\n",
      "\u001b[34m\u001b[1mTuner: \u001b[0mBest fitness=0.66176 observed at iteration 43\n",
      "\u001b[34m\u001b[1mTuner: \u001b[0mBest fitness metrics are {'metrics/precision(B)': 0.89646, 'metrics/recall(B)': 0.85025, 'metrics/mAP50(B)': 0.93596, 'metrics/mAP50-95(B)': 0.6313, 'val/box_loss': 1.78017, 'val/cls_loss': 0.73179, 'val/dfl_loss': 1.05057, 'fitness': 0.66176}\n",
      "\u001b[34m\u001b[1mTuner: \u001b[0mBest fitness model is runs\\detect\\train45\n",
      "\u001b[34m\u001b[1mTuner: \u001b[0mBest fitness hyperparameters are printed below.\n",
      "\n",
      "Printing '\u001b[1m\u001b[30mruns\\detect\\tune\\best_hyperparameters.yaml\u001b[0m'\n",
      "\n",
      "lr0: 0.0041\n",
      "lrf: 0.0124\n",
      "momentum: 0.85702\n",
      "weight_decay: 0.00049\n",
      "warmup_epochs: 3.05243\n",
      "warmup_momentum: 0.72157\n",
      "box: 11.47331\n",
      "cls: 0.57384\n",
      "dfl: 1.39854\n",
      "hsv_h: 0.01827\n",
      "hsv_s: 0.65733\n",
      "hsv_v: 0.49103\n",
      "degrees: 0.0\n",
      "translate: 0.10868\n",
      "scale: 0.38883\n",
      "shear: 0.0\n",
      "perspective: 0.0\n",
      "flipud: 0.0\n",
      "fliplr: 0.24894\n",
      "bgr: 0.0\n",
      "mosaic: 0.89844\n",
      "mixup: 0.0\n",
      "copy_paste: 0.0\n",
      "\n",
      "\u001b[34m\u001b[1mTuner: \u001b[0mStarting iteration 49/300 with hyperparameters: {'lr0': 0.00455, 'lrf': 0.0124, 'momentum': 0.86183, 'weight_decay': 0.00049, 'warmup_epochs': 3.25069, 'warmup_momentum': 0.77175, 'box': 12.04391, 'cls': 0.55238, 'dfl': 1.53993, 'hsv_h': 0.01827, 'hsv_s': 0.55164, 'hsv_v': 0.4698, 'degrees': 0.0, 'translate': 0.10272, 'scale': 0.40784, 'shear': 0.0, 'perspective': 0.0, 'flipud': 0.0, 'fliplr': 0.26134, 'bgr': 0.0, 'mosaic': 0.93051, 'mixup': 0.0, 'copy_paste': 0.0}\n",
      "Saved runs\\detect\\tune\\tune_scatter_plots.png\n",
      "Saved runs\\detect\\tune\\tune_fitness.png\n",
      "\n",
      "\u001b[34m\u001b[1mTuner: \u001b[0m49/300 iterations complete  (18689.63s)\n",
      "\u001b[34m\u001b[1mTuner: \u001b[0mResults saved to \u001b[1mruns\\detect\\tune\u001b[0m\n",
      "\u001b[34m\u001b[1mTuner: \u001b[0mBest fitness=0.66176 observed at iteration 43\n",
      "\u001b[34m\u001b[1mTuner: \u001b[0mBest fitness metrics are {'metrics/precision(B)': 0.89646, 'metrics/recall(B)': 0.85025, 'metrics/mAP50(B)': 0.93596, 'metrics/mAP50-95(B)': 0.6313, 'val/box_loss': 1.78017, 'val/cls_loss': 0.73179, 'val/dfl_loss': 1.05057, 'fitness': 0.66176}\n",
      "\u001b[34m\u001b[1mTuner: \u001b[0mBest fitness model is runs\\detect\\train45\n",
      "\u001b[34m\u001b[1mTuner: \u001b[0mBest fitness hyperparameters are printed below.\n",
      "\n",
      "Printing '\u001b[1m\u001b[30mruns\\detect\\tune\\best_hyperparameters.yaml\u001b[0m'\n",
      "\n",
      "lr0: 0.0041\n",
      "lrf: 0.0124\n",
      "momentum: 0.85702\n",
      "weight_decay: 0.00049\n",
      "warmup_epochs: 3.05243\n",
      "warmup_momentum: 0.72157\n",
      "box: 11.47331\n",
      "cls: 0.57384\n",
      "dfl: 1.39854\n",
      "hsv_h: 0.01827\n",
      "hsv_s: 0.65733\n",
      "hsv_v: 0.49103\n",
      "degrees: 0.0\n",
      "translate: 0.10868\n",
      "scale: 0.38883\n",
      "shear: 0.0\n",
      "perspective: 0.0\n",
      "flipud: 0.0\n",
      "fliplr: 0.24894\n",
      "bgr: 0.0\n",
      "mosaic: 0.89844\n",
      "mixup: 0.0\n",
      "copy_paste: 0.0\n",
      "\n",
      "\u001b[34m\u001b[1mTuner: \u001b[0mStarting iteration 50/300 with hyperparameters: {'lr0': 0.00458, 'lrf': 0.01265, 'momentum': 0.88609, 'weight_decay': 0.00049, 'warmup_epochs': 3.35291, 'warmup_momentum': 0.95, 'box': 13.19913, 'cls': 0.75987, 'dfl': 1.60991, 'hsv_h': 0.01827, 'hsv_s': 0.55752, 'hsv_v': 0.49103, 'degrees': 0.0, 'translate': 0.10868, 'scale': 0.27913, 'shear': 0.0, 'perspective': 0.0, 'flipud': 0.0, 'fliplr': 0.24894, 'bgr': 0.0, 'mosaic': 0.96553, 'mixup': 0.0, 'copy_paste': 0.0}\n",
      "Saved runs\\detect\\tune\\tune_scatter_plots.png\n",
      "Saved runs\\detect\\tune\\tune_fitness.png\n",
      "\n",
      "\u001b[34m\u001b[1mTuner: \u001b[0m50/300 iterations complete  (19064.30s)\n",
      "\u001b[34m\u001b[1mTuner: \u001b[0mResults saved to \u001b[1mruns\\detect\\tune\u001b[0m\n",
      "\u001b[34m\u001b[1mTuner: \u001b[0mBest fitness=0.66176 observed at iteration 43\n",
      "\u001b[34m\u001b[1mTuner: \u001b[0mBest fitness metrics are {'metrics/precision(B)': 0.89646, 'metrics/recall(B)': 0.85025, 'metrics/mAP50(B)': 0.93596, 'metrics/mAP50-95(B)': 0.6313, 'val/box_loss': 1.78017, 'val/cls_loss': 0.73179, 'val/dfl_loss': 1.05057, 'fitness': 0.66176}\n",
      "\u001b[34m\u001b[1mTuner: \u001b[0mBest fitness model is runs\\detect\\train45\n",
      "\u001b[34m\u001b[1mTuner: \u001b[0mBest fitness hyperparameters are printed below.\n",
      "\n",
      "Printing '\u001b[1m\u001b[30mruns\\detect\\tune\\best_hyperparameters.yaml\u001b[0m'\n",
      "\n",
      "lr0: 0.0041\n",
      "lrf: 0.0124\n",
      "momentum: 0.85702\n",
      "weight_decay: 0.00049\n",
      "warmup_epochs: 3.05243\n",
      "warmup_momentum: 0.72157\n",
      "box: 11.47331\n",
      "cls: 0.57384\n",
      "dfl: 1.39854\n",
      "hsv_h: 0.01827\n",
      "hsv_s: 0.65733\n",
      "hsv_v: 0.49103\n",
      "degrees: 0.0\n",
      "translate: 0.10868\n",
      "scale: 0.38883\n",
      "shear: 0.0\n",
      "perspective: 0.0\n",
      "flipud: 0.0\n",
      "fliplr: 0.24894\n",
      "bgr: 0.0\n",
      "mosaic: 0.89844\n",
      "mixup: 0.0\n",
      "copy_paste: 0.0\n",
      "\n",
      "\u001b[34m\u001b[1mTuner: \u001b[0mStarting iteration 51/300 with hyperparameters: {'lr0': 0.0041, 'lrf': 0.01254, 'momentum': 0.85313, 'weight_decay': 0.00049, 'warmup_epochs': 3.02328, 'warmup_momentum': 0.71232, 'box': 11.68472, 'cls': 0.57384, 'dfl': 1.47585, 'hsv_h': 0.01827, 'hsv_s': 0.66257, 'hsv_v': 0.48166, 'degrees': 0.0, 'translate': 0.11298, 'scale': 0.38113, 'shear': 0.0, 'perspective': 0.0, 'flipud': 0.0, 'fliplr': 0.24466, 'bgr': 0.0, 'mosaic': 0.90273, 'mixup': 0.0, 'copy_paste': 0.0}\n",
      "Saved runs\\detect\\tune\\tune_scatter_plots.png\n",
      "Saved runs\\detect\\tune\\tune_fitness.png\n",
      "\n",
      "\u001b[34m\u001b[1mTuner: \u001b[0m51/300 iterations complete  (19441.79s)\n",
      "\u001b[34m\u001b[1mTuner: \u001b[0mResults saved to \u001b[1mruns\\detect\\tune\u001b[0m\n",
      "\u001b[34m\u001b[1mTuner: \u001b[0mBest fitness=0.66176 observed at iteration 43\n",
      "\u001b[34m\u001b[1mTuner: \u001b[0mBest fitness metrics are {'metrics/precision(B)': 0.89646, 'metrics/recall(B)': 0.85025, 'metrics/mAP50(B)': 0.93596, 'metrics/mAP50-95(B)': 0.6313, 'val/box_loss': 1.78017, 'val/cls_loss': 0.73179, 'val/dfl_loss': 1.05057, 'fitness': 0.66176}\n",
      "\u001b[34m\u001b[1mTuner: \u001b[0mBest fitness model is runs\\detect\\train45\n",
      "\u001b[34m\u001b[1mTuner: \u001b[0mBest fitness hyperparameters are printed below.\n",
      "\n",
      "Printing '\u001b[1m\u001b[30mruns\\detect\\tune\\best_hyperparameters.yaml\u001b[0m'\n",
      "\n",
      "lr0: 0.0041\n",
      "lrf: 0.0124\n",
      "momentum: 0.85702\n",
      "weight_decay: 0.00049\n",
      "warmup_epochs: 3.05243\n",
      "warmup_momentum: 0.72157\n",
      "box: 11.47331\n",
      "cls: 0.57384\n",
      "dfl: 1.39854\n",
      "hsv_h: 0.01827\n",
      "hsv_s: 0.65733\n",
      "hsv_v: 0.49103\n",
      "degrees: 0.0\n",
      "translate: 0.10868\n",
      "scale: 0.38883\n",
      "shear: 0.0\n",
      "perspective: 0.0\n",
      "flipud: 0.0\n",
      "fliplr: 0.24894\n",
      "bgr: 0.0\n",
      "mosaic: 0.89844\n",
      "mixup: 0.0\n",
      "copy_paste: 0.0\n",
      "\n",
      "\u001b[34m\u001b[1mTuner: \u001b[0mStarting iteration 52/300 with hyperparameters: {'lr0': 0.00278, 'lrf': 0.01002, 'momentum': 0.80863, 'weight_decay': 0.0005, 'warmup_epochs': 3.6488, 'warmup_momentum': 0.81889, 'box': 9.6573, 'cls': 0.51573, 'dfl': 1.21146, 'hsv_h': 0.01811, 'hsv_s': 0.45684, 'hsv_v': 0.40343, 'degrees': 0.0, 'translate': 0.09227, 'scale': 0.3922, 'shear': 0.0, 'perspective': 0.0, 'flipud': 0.0, 'fliplr': 0.24265, 'bgr': 0.0, 'mosaic': 0.7645, 'mixup': 0.0, 'copy_paste': 0.0}\n",
      "Saved runs\\detect\\tune\\tune_scatter_plots.png\n",
      "Saved runs\\detect\\tune\\tune_fitness.png\n",
      "\n",
      "\u001b[34m\u001b[1mTuner: \u001b[0m52/300 iterations complete  (19817.10s)\n",
      "\u001b[34m\u001b[1mTuner: \u001b[0mResults saved to \u001b[1mruns\\detect\\tune\u001b[0m\n",
      "\u001b[34m\u001b[1mTuner: \u001b[0mBest fitness=0.66176 observed at iteration 43\n",
      "\u001b[34m\u001b[1mTuner: \u001b[0mBest fitness metrics are {'metrics/precision(B)': 0.89646, 'metrics/recall(B)': 0.85025, 'metrics/mAP50(B)': 0.93596, 'metrics/mAP50-95(B)': 0.6313, 'val/box_loss': 1.78017, 'val/cls_loss': 0.73179, 'val/dfl_loss': 1.05057, 'fitness': 0.66176}\n",
      "\u001b[34m\u001b[1mTuner: \u001b[0mBest fitness model is runs\\detect\\train45\n",
      "\u001b[34m\u001b[1mTuner: \u001b[0mBest fitness hyperparameters are printed below.\n",
      "\n",
      "Printing '\u001b[1m\u001b[30mruns\\detect\\tune\\best_hyperparameters.yaml\u001b[0m'\n",
      "\n",
      "lr0: 0.0041\n",
      "lrf: 0.0124\n",
      "momentum: 0.85702\n",
      "weight_decay: 0.00049\n",
      "warmup_epochs: 3.05243\n",
      "warmup_momentum: 0.72157\n",
      "box: 11.47331\n",
      "cls: 0.57384\n",
      "dfl: 1.39854\n",
      "hsv_h: 0.01827\n",
      "hsv_s: 0.65733\n",
      "hsv_v: 0.49103\n",
      "degrees: 0.0\n",
      "translate: 0.10868\n",
      "scale: 0.38883\n",
      "shear: 0.0\n",
      "perspective: 0.0\n",
      "flipud: 0.0\n",
      "fliplr: 0.24894\n",
      "bgr: 0.0\n",
      "mosaic: 0.89844\n",
      "mixup: 0.0\n",
      "copy_paste: 0.0\n",
      "\n",
      "\u001b[34m\u001b[1mTuner: \u001b[0mStarting iteration 53/300 with hyperparameters: {'lr0': 0.0043, 'lrf': 0.01249, 'momentum': 0.84104, 'weight_decay': 0.00055, 'warmup_epochs': 3.05243, 'warmup_momentum': 0.7646, 'box': 11.41178, 'cls': 0.64632, 'dfl': 1.43227, 'hsv_h': 0.01827, 'hsv_s': 0.64966, 'hsv_v': 0.46651, 'degrees': 0.0, 'translate': 0.10868, 'scale': 0.37702, 'shear': 0.0, 'perspective': 0.0, 'flipud': 0.0, 'fliplr': 0.24205, 'bgr': 0.0, 'mosaic': 0.91735, 'mixup': 0.0, 'copy_paste': 0.0}\n",
      "Saved runs\\detect\\tune\\tune_scatter_plots.png\n",
      "Saved runs\\detect\\tune\\tune_fitness.png\n",
      "\n",
      "\u001b[34m\u001b[1mTuner: \u001b[0m53/300 iterations complete  (20195.36s)\n",
      "\u001b[34m\u001b[1mTuner: \u001b[0mResults saved to \u001b[1mruns\\detect\\tune\u001b[0m\n",
      "\u001b[34m\u001b[1mTuner: \u001b[0mBest fitness=0.66176 observed at iteration 43\n",
      "\u001b[34m\u001b[1mTuner: \u001b[0mBest fitness metrics are {'metrics/precision(B)': 0.89646, 'metrics/recall(B)': 0.85025, 'metrics/mAP50(B)': 0.93596, 'metrics/mAP50-95(B)': 0.6313, 'val/box_loss': 1.78017, 'val/cls_loss': 0.73179, 'val/dfl_loss': 1.05057, 'fitness': 0.66176}\n",
      "\u001b[34m\u001b[1mTuner: \u001b[0mBest fitness model is runs\\detect\\train45\n",
      "\u001b[34m\u001b[1mTuner: \u001b[0mBest fitness hyperparameters are printed below.\n",
      "\n",
      "Printing '\u001b[1m\u001b[30mruns\\detect\\tune\\best_hyperparameters.yaml\u001b[0m'\n",
      "\n",
      "lr0: 0.0041\n",
      "lrf: 0.0124\n",
      "momentum: 0.85702\n",
      "weight_decay: 0.00049\n",
      "warmup_epochs: 3.05243\n",
      "warmup_momentum: 0.72157\n",
      "box: 11.47331\n",
      "cls: 0.57384\n",
      "dfl: 1.39854\n",
      "hsv_h: 0.01827\n",
      "hsv_s: 0.65733\n",
      "hsv_v: 0.49103\n",
      "degrees: 0.0\n",
      "translate: 0.10868\n",
      "scale: 0.38883\n",
      "shear: 0.0\n",
      "perspective: 0.0\n",
      "flipud: 0.0\n",
      "fliplr: 0.24894\n",
      "bgr: 0.0\n",
      "mosaic: 0.89844\n",
      "mixup: 0.0\n",
      "copy_paste: 0.0\n",
      "\n",
      "\u001b[34m\u001b[1mTuner: \u001b[0mStarting iteration 54/300 with hyperparameters: {'lr0': 0.00404, 'lrf': 0.0124, 'momentum': 0.82441, 'weight_decay': 0.00053, 'warmup_epochs': 2.8664, 'warmup_momentum': 0.74385, 'box': 11.47331, 'cls': 0.58958, 'dfl': 1.44362, 'hsv_h': 0.0163, 'hsv_s': 0.68087, 'hsv_v': 0.48777, 'degrees': 0.0, 'translate': 0.11562, 'scale': 0.40775, 'shear': 0.0, 'perspective': 0.0, 'flipud': 0.0, 'fliplr': 0.25729, 'bgr': 0.0, 'mosaic': 0.9865, 'mixup': 0.0, 'copy_paste': 0.0}\n",
      "Saved runs\\detect\\tune\\tune_scatter_plots.png\n",
      "Saved runs\\detect\\tune\\tune_fitness.png\n",
      "\n",
      "\u001b[34m\u001b[1mTuner: \u001b[0m54/300 iterations complete  (20607.74s)\n",
      "\u001b[34m\u001b[1mTuner: \u001b[0mResults saved to \u001b[1mruns\\detect\\tune\u001b[0m\n",
      "\u001b[34m\u001b[1mTuner: \u001b[0mBest fitness=0.66176 observed at iteration 43\n",
      "\u001b[34m\u001b[1mTuner: \u001b[0mBest fitness metrics are {'metrics/precision(B)': 0.89646, 'metrics/recall(B)': 0.85025, 'metrics/mAP50(B)': 0.93596, 'metrics/mAP50-95(B)': 0.6313, 'val/box_loss': 1.78017, 'val/cls_loss': 0.73179, 'val/dfl_loss': 1.05057, 'fitness': 0.66176}\n",
      "\u001b[34m\u001b[1mTuner: \u001b[0mBest fitness model is runs\\detect\\train45\n",
      "\u001b[34m\u001b[1mTuner: \u001b[0mBest fitness hyperparameters are printed below.\n",
      "\n",
      "Printing '\u001b[1m\u001b[30mruns\\detect\\tune\\best_hyperparameters.yaml\u001b[0m'\n",
      "\n",
      "lr0: 0.0041\n",
      "lrf: 0.0124\n",
      "momentum: 0.85702\n",
      "weight_decay: 0.00049\n",
      "warmup_epochs: 3.05243\n",
      "warmup_momentum: 0.72157\n",
      "box: 11.47331\n",
      "cls: 0.57384\n",
      "dfl: 1.39854\n",
      "hsv_h: 0.01827\n",
      "hsv_s: 0.65733\n",
      "hsv_v: 0.49103\n",
      "degrees: 0.0\n",
      "translate: 0.10868\n",
      "scale: 0.38883\n",
      "shear: 0.0\n",
      "perspective: 0.0\n",
      "flipud: 0.0\n",
      "fliplr: 0.24894\n",
      "bgr: 0.0\n",
      "mosaic: 0.89844\n",
      "mixup: 0.0\n",
      "copy_paste: 0.0\n",
      "\n",
      "\u001b[34m\u001b[1mTuner: \u001b[0mStarting iteration 55/300 with hyperparameters: {'lr0': 0.0041, 'lrf': 0.01022, 'momentum': 0.85702, 'weight_decay': 0.00053, 'warmup_epochs': 2.71983, 'warmup_momentum': 0.67668, 'box': 12.09585, 'cls': 0.57384, 'dfl': 1.85662, 'hsv_h': 0.01116, 'hsv_s': 0.65733, 'hsv_v': 0.31761, 'degrees': 0.0, 'translate': 0.10868, 'scale': 0.38883, 'shear': 0.0, 'perspective': 0.0, 'flipud': 0.0, 'fliplr': 0.24894, 'bgr': 0.0, 'mosaic': 0.93895, 'mixup': 0.0, 'copy_paste': 0.0}\n",
      "Saved runs\\detect\\tune\\tune_scatter_plots.png\n",
      "Saved runs\\detect\\tune\\tune_fitness.png\n",
      "\n",
      "\u001b[34m\u001b[1mTuner: \u001b[0m55/300 iterations complete  (20990.39s)\n",
      "\u001b[34m\u001b[1mTuner: \u001b[0mResults saved to \u001b[1mruns\\detect\\tune\u001b[0m\n",
      "\u001b[34m\u001b[1mTuner: \u001b[0mBest fitness=0.66176 observed at iteration 43\n",
      "\u001b[34m\u001b[1mTuner: \u001b[0mBest fitness metrics are {'metrics/precision(B)': 0.89646, 'metrics/recall(B)': 0.85025, 'metrics/mAP50(B)': 0.93596, 'metrics/mAP50-95(B)': 0.6313, 'val/box_loss': 1.78017, 'val/cls_loss': 0.73179, 'val/dfl_loss': 1.05057, 'fitness': 0.66176}\n",
      "\u001b[34m\u001b[1mTuner: \u001b[0mBest fitness model is runs\\detect\\train45\n",
      "\u001b[34m\u001b[1mTuner: \u001b[0mBest fitness hyperparameters are printed below.\n",
      "\n",
      "Printing '\u001b[1m\u001b[30mruns\\detect\\tune\\best_hyperparameters.yaml\u001b[0m'\n",
      "\n",
      "lr0: 0.0041\n",
      "lrf: 0.0124\n",
      "momentum: 0.85702\n",
      "weight_decay: 0.00049\n",
      "warmup_epochs: 3.05243\n",
      "warmup_momentum: 0.72157\n",
      "box: 11.47331\n",
      "cls: 0.57384\n",
      "dfl: 1.39854\n",
      "hsv_h: 0.01827\n",
      "hsv_s: 0.65733\n",
      "hsv_v: 0.49103\n",
      "degrees: 0.0\n",
      "translate: 0.10868\n",
      "scale: 0.38883\n",
      "shear: 0.0\n",
      "perspective: 0.0\n",
      "flipud: 0.0\n",
      "fliplr: 0.24894\n",
      "bgr: 0.0\n",
      "mosaic: 0.89844\n",
      "mixup: 0.0\n",
      "copy_paste: 0.0\n",
      "\n",
      "\u001b[34m\u001b[1mTuner: \u001b[0mStarting iteration 56/300 with hyperparameters: {'lr0': 0.00407, 'lrf': 0.01233, 'momentum': 0.85927, 'weight_decay': 0.00049, 'warmup_epochs': 3.05243, 'warmup_momentum': 0.69675, 'box': 11.41834, 'cls': 0.60689, 'dfl': 1.52686, 'hsv_h': 0.01783, 'hsv_s': 0.60661, 'hsv_v': 0.49103, 'degrees': 0.0, 'translate': 0.1082, 'scale': 0.39239, 'shear': 0.0, 'perspective': 0.0, 'flipud': 0.0, 'fliplr': 0.23872, 'bgr': 0.0, 'mosaic': 0.87027, 'mixup': 0.0, 'copy_paste': 0.0}\n",
      "Saved runs\\detect\\tune\\tune_scatter_plots.png\n",
      "Saved runs\\detect\\tune\\tune_fitness.png\n",
      "\n",
      "\u001b[34m\u001b[1mTuner: \u001b[0m56/300 iterations complete  (21362.10s)\n",
      "\u001b[34m\u001b[1mTuner: \u001b[0mResults saved to \u001b[1mruns\\detect\\tune\u001b[0m\n",
      "\u001b[34m\u001b[1mTuner: \u001b[0mBest fitness=0.66176 observed at iteration 43\n",
      "\u001b[34m\u001b[1mTuner: \u001b[0mBest fitness metrics are {'metrics/precision(B)': 0.89646, 'metrics/recall(B)': 0.85025, 'metrics/mAP50(B)': 0.93596, 'metrics/mAP50-95(B)': 0.6313, 'val/box_loss': 1.78017, 'val/cls_loss': 0.73179, 'val/dfl_loss': 1.05057, 'fitness': 0.66176}\n",
      "\u001b[34m\u001b[1mTuner: \u001b[0mBest fitness model is runs\\detect\\train45\n",
      "\u001b[34m\u001b[1mTuner: \u001b[0mBest fitness hyperparameters are printed below.\n",
      "\n",
      "Printing '\u001b[1m\u001b[30mruns\\detect\\tune\\best_hyperparameters.yaml\u001b[0m'\n",
      "\n",
      "lr0: 0.0041\n",
      "lrf: 0.0124\n",
      "momentum: 0.85702\n",
      "weight_decay: 0.00049\n",
      "warmup_epochs: 3.05243\n",
      "warmup_momentum: 0.72157\n",
      "box: 11.47331\n",
      "cls: 0.57384\n",
      "dfl: 1.39854\n",
      "hsv_h: 0.01827\n",
      "hsv_s: 0.65733\n",
      "hsv_v: 0.49103\n",
      "degrees: 0.0\n",
      "translate: 0.10868\n",
      "scale: 0.38883\n",
      "shear: 0.0\n",
      "perspective: 0.0\n",
      "flipud: 0.0\n",
      "fliplr: 0.24894\n",
      "bgr: 0.0\n",
      "mosaic: 0.89844\n",
      "mixup: 0.0\n",
      "copy_paste: 0.0\n",
      "\n",
      "\u001b[34m\u001b[1mTuner: \u001b[0mStarting iteration 57/300 with hyperparameters: {'lr0': 0.00411, 'lrf': 0.01257, 'momentum': 0.81311, 'weight_decay': 0.00052, 'warmup_epochs': 2.32012, 'warmup_momentum': 0.76768, 'box': 11.93423, 'cls': 0.65292, 'dfl': 1.32839, 'hsv_h': 0.0205, 'hsv_s': 0.68476, 'hsv_v': 0.45512, 'degrees': 0.0, 'translate': 0.12539, 'scale': 0.30146, 'shear': 0.0, 'perspective': 0.0, 'flipud': 0.0, 'fliplr': 0.23344, 'bgr': 0.0, 'mosaic': 0.96106, 'mixup': 0.0, 'copy_paste': 0.0}\n",
      "Saved runs\\detect\\tune\\tune_scatter_plots.png\n",
      "Saved runs\\detect\\tune\\tune_fitness.png\n",
      "\n",
      "\u001b[34m\u001b[1mTuner: \u001b[0m57/300 iterations complete  (21749.82s)\n",
      "\u001b[34m\u001b[1mTuner: \u001b[0mResults saved to \u001b[1mruns\\detect\\tune\u001b[0m\n",
      "\u001b[34m\u001b[1mTuner: \u001b[0mBest fitness=0.66176 observed at iteration 43\n",
      "\u001b[34m\u001b[1mTuner: \u001b[0mBest fitness metrics are {'metrics/precision(B)': 0.89646, 'metrics/recall(B)': 0.85025, 'metrics/mAP50(B)': 0.93596, 'metrics/mAP50-95(B)': 0.6313, 'val/box_loss': 1.78017, 'val/cls_loss': 0.73179, 'val/dfl_loss': 1.05057, 'fitness': 0.66176}\n",
      "\u001b[34m\u001b[1mTuner: \u001b[0mBest fitness model is runs\\detect\\train45\n",
      "\u001b[34m\u001b[1mTuner: \u001b[0mBest fitness hyperparameters are printed below.\n",
      "\n",
      "Printing '\u001b[1m\u001b[30mruns\\detect\\tune\\best_hyperparameters.yaml\u001b[0m'\n",
      "\n",
      "lr0: 0.0041\n",
      "lrf: 0.0124\n",
      "momentum: 0.85702\n",
      "weight_decay: 0.00049\n",
      "warmup_epochs: 3.05243\n",
      "warmup_momentum: 0.72157\n",
      "box: 11.47331\n",
      "cls: 0.57384\n",
      "dfl: 1.39854\n",
      "hsv_h: 0.01827\n",
      "hsv_s: 0.65733\n",
      "hsv_v: 0.49103\n",
      "degrees: 0.0\n",
      "translate: 0.10868\n",
      "scale: 0.38883\n",
      "shear: 0.0\n",
      "perspective: 0.0\n",
      "flipud: 0.0\n",
      "fliplr: 0.24894\n",
      "bgr: 0.0\n",
      "mosaic: 0.89844\n",
      "mixup: 0.0\n",
      "copy_paste: 0.0\n",
      "\n",
      "\u001b[34m\u001b[1mTuner: \u001b[0mStarting iteration 58/300 with hyperparameters: {'lr0': 0.00384, 'lrf': 0.00927, 'momentum': 0.89042, 'weight_decay': 0.00049, 'warmup_epochs': 3.23262, 'warmup_momentum': 0.64736, 'box': 11.43195, 'cls': 0.57384, 'dfl': 1.39854, 'hsv_h': 0.02016, 'hsv_s': 0.74483, 'hsv_v': 0.55931, 'degrees': 0.0, 'translate': 0.08811, 'scale': 0.49938, 'shear': 0.0, 'perspective': 0.0, 'flipud': 0.0, 'fliplr': 0.24613, 'bgr': 0.0, 'mosaic': 1.0, 'mixup': 0.0, 'copy_paste': 0.0}\n",
      "Saved runs\\detect\\tune\\tune_scatter_plots.png\n",
      "Saved runs\\detect\\tune\\tune_fitness.png\n",
      "\n",
      "\u001b[34m\u001b[1mTuner: \u001b[0m58/300 iterations complete  (22131.41s)\n",
      "\u001b[34m\u001b[1mTuner: \u001b[0mResults saved to \u001b[1mruns\\detect\\tune\u001b[0m\n",
      "\u001b[34m\u001b[1mTuner: \u001b[0mBest fitness=0.66176 observed at iteration 43\n",
      "\u001b[34m\u001b[1mTuner: \u001b[0mBest fitness metrics are {'metrics/precision(B)': 0.89646, 'metrics/recall(B)': 0.85025, 'metrics/mAP50(B)': 0.93596, 'metrics/mAP50-95(B)': 0.6313, 'val/box_loss': 1.78017, 'val/cls_loss': 0.73179, 'val/dfl_loss': 1.05057, 'fitness': 0.66176}\n",
      "\u001b[34m\u001b[1mTuner: \u001b[0mBest fitness model is runs\\detect\\train45\n",
      "\u001b[34m\u001b[1mTuner: \u001b[0mBest fitness hyperparameters are printed below.\n",
      "\n",
      "Printing '\u001b[1m\u001b[30mruns\\detect\\tune\\best_hyperparameters.yaml\u001b[0m'\n",
      "\n",
      "lr0: 0.0041\n",
      "lrf: 0.0124\n",
      "momentum: 0.85702\n",
      "weight_decay: 0.00049\n",
      "warmup_epochs: 3.05243\n",
      "warmup_momentum: 0.72157\n",
      "box: 11.47331\n",
      "cls: 0.57384\n",
      "dfl: 1.39854\n",
      "hsv_h: 0.01827\n",
      "hsv_s: 0.65733\n",
      "hsv_v: 0.49103\n",
      "degrees: 0.0\n",
      "translate: 0.10868\n",
      "scale: 0.38883\n",
      "shear: 0.0\n",
      "perspective: 0.0\n",
      "flipud: 0.0\n",
      "fliplr: 0.24894\n",
      "bgr: 0.0\n",
      "mosaic: 0.89844\n",
      "mixup: 0.0\n",
      "copy_paste: 0.0\n",
      "\n",
      "\u001b[34m\u001b[1mTuner: \u001b[0mStarting iteration 59/300 with hyperparameters: {'lr0': 0.00373, 'lrf': 0.0124, 'momentum': 0.81817, 'weight_decay': 0.00043, 'warmup_epochs': 2.55621, 'warmup_momentum': 0.72157, 'box': 10.25972, 'cls': 0.57384, 'dfl': 1.43364, 'hsv_h': 0.01877, 'hsv_s': 0.5492, 'hsv_v': 0.55781, 'degrees': 0.0, 'translate': 0.10868, 'scale': 0.58462, 'shear': 0.0, 'perspective': 0.0, 'flipud': 0.0, 'fliplr': 0.28148, 'bgr': 0.0, 'mosaic': 0.89844, 'mixup': 0.0, 'copy_paste': 0.0}\n",
      "Saved runs\\detect\\tune\\tune_scatter_plots.png\n",
      "Saved runs\\detect\\tune\\tune_fitness.png\n",
      "\n",
      "\u001b[34m\u001b[1mTuner: \u001b[0m59/300 iterations complete  (22513.90s)\n",
      "\u001b[34m\u001b[1mTuner: \u001b[0mResults saved to \u001b[1mruns\\detect\\tune\u001b[0m\n",
      "\u001b[34m\u001b[1mTuner: \u001b[0mBest fitness=0.66176 observed at iteration 43\n",
      "\u001b[34m\u001b[1mTuner: \u001b[0mBest fitness metrics are {'metrics/precision(B)': 0.89646, 'metrics/recall(B)': 0.85025, 'metrics/mAP50(B)': 0.93596, 'metrics/mAP50-95(B)': 0.6313, 'val/box_loss': 1.78017, 'val/cls_loss': 0.73179, 'val/dfl_loss': 1.05057, 'fitness': 0.66176}\n",
      "\u001b[34m\u001b[1mTuner: \u001b[0mBest fitness model is runs\\detect\\train45\n",
      "\u001b[34m\u001b[1mTuner: \u001b[0mBest fitness hyperparameters are printed below.\n",
      "\n",
      "Printing '\u001b[1m\u001b[30mruns\\detect\\tune\\best_hyperparameters.yaml\u001b[0m'\n",
      "\n",
      "lr0: 0.0041\n",
      "lrf: 0.0124\n",
      "momentum: 0.85702\n",
      "weight_decay: 0.00049\n",
      "warmup_epochs: 3.05243\n",
      "warmup_momentum: 0.72157\n",
      "box: 11.47331\n",
      "cls: 0.57384\n",
      "dfl: 1.39854\n",
      "hsv_h: 0.01827\n",
      "hsv_s: 0.65733\n",
      "hsv_v: 0.49103\n",
      "degrees: 0.0\n",
      "translate: 0.10868\n",
      "scale: 0.38883\n",
      "shear: 0.0\n",
      "perspective: 0.0\n",
      "flipud: 0.0\n",
      "fliplr: 0.24894\n",
      "bgr: 0.0\n",
      "mosaic: 0.89844\n",
      "mixup: 0.0\n",
      "copy_paste: 0.0\n",
      "\n",
      "\u001b[34m\u001b[1mTuner: \u001b[0mStarting iteration 60/300 with hyperparameters: {'lr0': 0.00267, 'lrf': 0.01065, 'momentum': 0.80961, 'weight_decay': 0.00047, 'warmup_epochs': 3.20074, 'warmup_momentum': 0.91401, 'box': 8.37088, 'cls': 0.48996, 'dfl': 1.30091, 'hsv_h': 0.01991, 'hsv_s': 0.4682, 'hsv_v': 0.45379, 'degrees': 0.0, 'translate': 0.08747, 'scale': 0.36779, 'shear': 0.0, 'perspective': 0.0, 'flipud': 0.0, 'fliplr': 0.24357, 'bgr': 0.0, 'mosaic': 0.74554, 'mixup': 0.0, 'copy_paste': 0.0}\n",
      "Saved runs\\detect\\tune\\tune_scatter_plots.png\n",
      "Saved runs\\detect\\tune\\tune_fitness.png\n",
      "\n",
      "\u001b[34m\u001b[1mTuner: \u001b[0m60/300 iterations complete  (22902.75s)\n",
      "\u001b[34m\u001b[1mTuner: \u001b[0mResults saved to \u001b[1mruns\\detect\\tune\u001b[0m\n",
      "\u001b[34m\u001b[1mTuner: \u001b[0mBest fitness=0.66176 observed at iteration 43\n",
      "\u001b[34m\u001b[1mTuner: \u001b[0mBest fitness metrics are {'metrics/precision(B)': 0.89646, 'metrics/recall(B)': 0.85025, 'metrics/mAP50(B)': 0.93596, 'metrics/mAP50-95(B)': 0.6313, 'val/box_loss': 1.78017, 'val/cls_loss': 0.73179, 'val/dfl_loss': 1.05057, 'fitness': 0.66176}\n",
      "\u001b[34m\u001b[1mTuner: \u001b[0mBest fitness model is runs\\detect\\train45\n",
      "\u001b[34m\u001b[1mTuner: \u001b[0mBest fitness hyperparameters are printed below.\n",
      "\n",
      "Printing '\u001b[1m\u001b[30mruns\\detect\\tune\\best_hyperparameters.yaml\u001b[0m'\n",
      "\n",
      "lr0: 0.0041\n",
      "lrf: 0.0124\n",
      "momentum: 0.85702\n",
      "weight_decay: 0.00049\n",
      "warmup_epochs: 3.05243\n",
      "warmup_momentum: 0.72157\n",
      "box: 11.47331\n",
      "cls: 0.57384\n",
      "dfl: 1.39854\n",
      "hsv_h: 0.01827\n",
      "hsv_s: 0.65733\n",
      "hsv_v: 0.49103\n",
      "degrees: 0.0\n",
      "translate: 0.10868\n",
      "scale: 0.38883\n",
      "shear: 0.0\n",
      "perspective: 0.0\n",
      "flipud: 0.0\n",
      "fliplr: 0.24894\n",
      "bgr: 0.0\n",
      "mosaic: 0.89844\n",
      "mixup: 0.0\n",
      "copy_paste: 0.0\n",
      "\n",
      "\u001b[34m\u001b[1mTuner: \u001b[0mStarting iteration 61/300 with hyperparameters: {'lr0': 0.00284, 'lrf': 0.01076, 'momentum': 0.82954, 'weight_decay': 0.00048, 'warmup_epochs': 3.18861, 'warmup_momentum': 0.91149, 'box': 7.86059, 'cls': 0.49189, 'dfl': 1.21933, 'hsv_h': 0.01978, 'hsv_s': 0.4682, 'hsv_v': 0.45379, 'degrees': 0.0, 'translate': 0.08853, 'scale': 0.36779, 'shear': 0.0, 'perspective': 0.0, 'flipud': 0.0, 'fliplr': 0.2656, 'bgr': 0.0, 'mosaic': 0.69888, 'mixup': 0.0, 'copy_paste': 0.0}\n",
      "Saved runs\\detect\\tune\\tune_scatter_plots.png\n",
      "Saved runs\\detect\\tune\\tune_fitness.png\n",
      "\n",
      "\u001b[34m\u001b[1mTuner: \u001b[0m61/300 iterations complete  (23279.36s)\n",
      "\u001b[34m\u001b[1mTuner: \u001b[0mResults saved to \u001b[1mruns\\detect\\tune\u001b[0m\n",
      "\u001b[34m\u001b[1mTuner: \u001b[0mBest fitness=0.66243 observed at iteration 61\n",
      "\u001b[34m\u001b[1mTuner: \u001b[0mBest fitness metrics are {'metrics/precision(B)': 0.89527, 'metrics/recall(B)': 0.85588, 'metrics/mAP50(B)': 0.93542, 'metrics/mAP50-95(B)': 0.6321, 'val/box_loss': 1.23118, 'val/cls_loss': 0.62475, 'val/dfl_loss': 0.92279, 'fitness': 0.66243}\n",
      "\u001b[34m\u001b[1mTuner: \u001b[0mBest fitness model is runs\\detect\\train64\n",
      "\u001b[34m\u001b[1mTuner: \u001b[0mBest fitness hyperparameters are printed below.\n",
      "\n",
      "Printing '\u001b[1m\u001b[30mruns\\detect\\tune\\best_hyperparameters.yaml\u001b[0m'\n",
      "\n",
      "lr0: 0.00284\n",
      "lrf: 0.01076\n",
      "momentum: 0.82954\n",
      "weight_decay: 0.00048\n",
      "warmup_epochs: 3.18861\n",
      "warmup_momentum: 0.91149\n",
      "box: 7.86059\n",
      "cls: 0.49189\n",
      "dfl: 1.21933\n",
      "hsv_h: 0.01978\n",
      "hsv_s: 0.4682\n",
      "hsv_v: 0.45379\n",
      "degrees: 0.0\n",
      "translate: 0.08853\n",
      "scale: 0.36779\n",
      "shear: 0.0\n",
      "perspective: 0.0\n",
      "flipud: 0.0\n",
      "fliplr: 0.2656\n",
      "bgr: 0.0\n",
      "mosaic: 0.69888\n",
      "mixup: 0.0\n",
      "copy_paste: 0.0\n",
      "\n",
      "\u001b[34m\u001b[1mTuner: \u001b[0mStarting iteration 62/300 with hyperparameters: {'lr0': 0.00267, 'lrf': 0.01092, 'momentum': 0.82305, 'weight_decay': 0.00045, 'warmup_epochs': 3.20074, 'warmup_momentum': 0.91401, 'box': 8.37088, 'cls': 0.49028, 'dfl': 1.32832, 'hsv_h': 0.02002, 'hsv_s': 0.4682, 'hsv_v': 0.47293, 'degrees': 0.0, 'translate': 0.08747, 'scale': 0.37405, 'shear': 0.0, 'perspective': 0.0, 'flipud': 0.0, 'fliplr': 0.24357, 'bgr': 0.0, 'mosaic': 0.74554, 'mixup': 0.0, 'copy_paste': 0.0}\n",
      "Saved runs\\detect\\tune\\tune_scatter_plots.png\n",
      "Saved runs\\detect\\tune\\tune_fitness.png\n",
      "\n",
      "\u001b[34m\u001b[1mTuner: \u001b[0m62/300 iterations complete  (23653.32s)\n",
      "\u001b[34m\u001b[1mTuner: \u001b[0mResults saved to \u001b[1mruns\\detect\\tune\u001b[0m\n",
      "\u001b[34m\u001b[1mTuner: \u001b[0mBest fitness=0.66243 observed at iteration 61\n",
      "\u001b[34m\u001b[1mTuner: \u001b[0mBest fitness metrics are {'metrics/precision(B)': 0.89527, 'metrics/recall(B)': 0.85588, 'metrics/mAP50(B)': 0.93542, 'metrics/mAP50-95(B)': 0.6321, 'val/box_loss': 1.23118, 'val/cls_loss': 0.62475, 'val/dfl_loss': 0.92279, 'fitness': 0.66243}\n",
      "\u001b[34m\u001b[1mTuner: \u001b[0mBest fitness model is runs\\detect\\train64\n",
      "\u001b[34m\u001b[1mTuner: \u001b[0mBest fitness hyperparameters are printed below.\n",
      "\n",
      "Printing '\u001b[1m\u001b[30mruns\\detect\\tune\\best_hyperparameters.yaml\u001b[0m'\n",
      "\n",
      "lr0: 0.00284\n",
      "lrf: 0.01076\n",
      "momentum: 0.82954\n",
      "weight_decay: 0.00048\n",
      "warmup_epochs: 3.18861\n",
      "warmup_momentum: 0.91149\n",
      "box: 7.86059\n",
      "cls: 0.49189\n",
      "dfl: 1.21933\n",
      "hsv_h: 0.01978\n",
      "hsv_s: 0.4682\n",
      "hsv_v: 0.45379\n",
      "degrees: 0.0\n",
      "translate: 0.08853\n",
      "scale: 0.36779\n",
      "shear: 0.0\n",
      "perspective: 0.0\n",
      "flipud: 0.0\n",
      "fliplr: 0.2656\n",
      "bgr: 0.0\n",
      "mosaic: 0.69888\n",
      "mixup: 0.0\n",
      "copy_paste: 0.0\n",
      "\n",
      "\u001b[34m\u001b[1mTuner: \u001b[0mStarting iteration 63/300 with hyperparameters: {'lr0': 0.0041, 'lrf': 0.01302, 'momentum': 0.80233, 'weight_decay': 0.00044, 'warmup_epochs': 3.06198, 'warmup_momentum': 0.76853, 'box': 11.41876, 'cls': 0.60178, 'dfl': 1.39854, 'hsv_h': 0.02123, 'hsv_s': 0.65733, 'hsv_v': 0.4672, 'degrees': 0.0, 'translate': 0.10868, 'scale': 0.45792, 'shear': 0.0, 'perspective': 0.0, 'flipud': 0.0, 'fliplr': 0.24894, 'bgr': 0.0, 'mosaic': 0.89844, 'mixup': 0.0, 'copy_paste': 0.0}\n",
      "Saved runs\\detect\\tune\\tune_scatter_plots.png\n",
      "Saved runs\\detect\\tune\\tune_fitness.png\n",
      "\n",
      "\u001b[34m\u001b[1mTuner: \u001b[0m63/300 iterations complete  (24028.43s)\n",
      "\u001b[34m\u001b[1mTuner: \u001b[0mResults saved to \u001b[1mruns\\detect\\tune\u001b[0m\n",
      "\u001b[34m\u001b[1mTuner: \u001b[0mBest fitness=0.66243 observed at iteration 61\n",
      "\u001b[34m\u001b[1mTuner: \u001b[0mBest fitness metrics are {'metrics/precision(B)': 0.89527, 'metrics/recall(B)': 0.85588, 'metrics/mAP50(B)': 0.93542, 'metrics/mAP50-95(B)': 0.6321, 'val/box_loss': 1.23118, 'val/cls_loss': 0.62475, 'val/dfl_loss': 0.92279, 'fitness': 0.66243}\n",
      "\u001b[34m\u001b[1mTuner: \u001b[0mBest fitness model is runs\\detect\\train64\n",
      "\u001b[34m\u001b[1mTuner: \u001b[0mBest fitness hyperparameters are printed below.\n",
      "\n",
      "Printing '\u001b[1m\u001b[30mruns\\detect\\tune\\best_hyperparameters.yaml\u001b[0m'\n",
      "\n",
      "lr0: 0.00284\n",
      "lrf: 0.01076\n",
      "momentum: 0.82954\n",
      "weight_decay: 0.00048\n",
      "warmup_epochs: 3.18861\n",
      "warmup_momentum: 0.91149\n",
      "box: 7.86059\n",
      "cls: 0.49189\n",
      "dfl: 1.21933\n",
      "hsv_h: 0.01978\n",
      "hsv_s: 0.4682\n",
      "hsv_v: 0.45379\n",
      "degrees: 0.0\n",
      "translate: 0.08853\n",
      "scale: 0.36779\n",
      "shear: 0.0\n",
      "perspective: 0.0\n",
      "flipud: 0.0\n",
      "fliplr: 0.2656\n",
      "bgr: 0.0\n",
      "mosaic: 0.69888\n",
      "mixup: 0.0\n",
      "copy_paste: 0.0\n",
      "\n",
      "\u001b[34m\u001b[1mTuner: \u001b[0mStarting iteration 64/300 with hyperparameters: {'lr0': 0.0033, 'lrf': 0.01065, 'momentum': 0.80961, 'weight_decay': 0.00053, 'warmup_epochs': 2.16693, 'warmup_momentum': 0.94119, 'box': 8.06759, 'cls': 0.43917, 'dfl': 1.21684, 'hsv_h': 0.01778, 'hsv_s': 0.45298, 'hsv_v': 0.47591, 'degrees': 0.0, 'translate': 0.10867, 'scale': 0.4251, 'shear': 0.0, 'perspective': 0.0, 'flipud': 0.0, 'fliplr': 0.30715, 'bgr': 0.0, 'mosaic': 0.85031, 'mixup': 0.0, 'copy_paste': 0.0}\n",
      "Saved runs\\detect\\tune\\tune_scatter_plots.png\n",
      "Saved runs\\detect\\tune\\tune_fitness.png\n",
      "\n",
      "\u001b[34m\u001b[1mTuner: \u001b[0m64/300 iterations complete  (24403.75s)\n",
      "\u001b[34m\u001b[1mTuner: \u001b[0mResults saved to \u001b[1mruns\\detect\\tune\u001b[0m\n",
      "\u001b[34m\u001b[1mTuner: \u001b[0mBest fitness=0.66243 observed at iteration 61\n",
      "\u001b[34m\u001b[1mTuner: \u001b[0mBest fitness metrics are {'metrics/precision(B)': 0.89527, 'metrics/recall(B)': 0.85588, 'metrics/mAP50(B)': 0.93542, 'metrics/mAP50-95(B)': 0.6321, 'val/box_loss': 1.23118, 'val/cls_loss': 0.62475, 'val/dfl_loss': 0.92279, 'fitness': 0.66243}\n",
      "\u001b[34m\u001b[1mTuner: \u001b[0mBest fitness model is runs\\detect\\train64\n",
      "\u001b[34m\u001b[1mTuner: \u001b[0mBest fitness hyperparameters are printed below.\n",
      "\n",
      "Printing '\u001b[1m\u001b[30mruns\\detect\\tune\\best_hyperparameters.yaml\u001b[0m'\n",
      "\n",
      "lr0: 0.00284\n",
      "lrf: 0.01076\n",
      "momentum: 0.82954\n",
      "weight_decay: 0.00048\n",
      "warmup_epochs: 3.18861\n",
      "warmup_momentum: 0.91149\n",
      "box: 7.86059\n",
      "cls: 0.49189\n",
      "dfl: 1.21933\n",
      "hsv_h: 0.01978\n",
      "hsv_s: 0.4682\n",
      "hsv_v: 0.45379\n",
      "degrees: 0.0\n",
      "translate: 0.08853\n",
      "scale: 0.36779\n",
      "shear: 0.0\n",
      "perspective: 0.0\n",
      "flipud: 0.0\n",
      "fliplr: 0.2656\n",
      "bgr: 0.0\n",
      "mosaic: 0.69888\n",
      "mixup: 0.0\n",
      "copy_paste: 0.0\n",
      "\n",
      "\u001b[34m\u001b[1mTuner: \u001b[0mStarting iteration 65/300 with hyperparameters: {'lr0': 0.00451, 'lrf': 0.01317, 'momentum': 0.90339, 'weight_decay': 0.00055, 'warmup_epochs': 1.86772, 'warmup_momentum': 0.64803, 'box': 11.47331, 'cls': 0.49872, 'dfl': 1.20747, 'hsv_h': 0.01827, 'hsv_s': 0.7159, 'hsv_v': 0.56062, 'degrees': 0.0, 'translate': 0.10875, 'scale': 0.3466, 'shear': 0.0, 'perspective': 0.0, 'flipud': 0.0, 'fliplr': 0.21451, 'bgr': 0.0, 'mosaic': 0.81725, 'mixup': 0.0, 'copy_paste': 0.0}\n",
      "Saved runs\\detect\\tune\\tune_scatter_plots.png\n",
      "Saved runs\\detect\\tune\\tune_fitness.png\n",
      "\n",
      "\u001b[34m\u001b[1mTuner: \u001b[0m65/300 iterations complete  (24795.13s)\n",
      "\u001b[34m\u001b[1mTuner: \u001b[0mResults saved to \u001b[1mruns\\detect\\tune\u001b[0m\n",
      "\u001b[34m\u001b[1mTuner: \u001b[0mBest fitness=0.66243 observed at iteration 61\n",
      "\u001b[34m\u001b[1mTuner: \u001b[0mBest fitness metrics are {'metrics/precision(B)': 0.89527, 'metrics/recall(B)': 0.85588, 'metrics/mAP50(B)': 0.93542, 'metrics/mAP50-95(B)': 0.6321, 'val/box_loss': 1.23118, 'val/cls_loss': 0.62475, 'val/dfl_loss': 0.92279, 'fitness': 0.66243}\n",
      "\u001b[34m\u001b[1mTuner: \u001b[0mBest fitness model is runs\\detect\\train64\n",
      "\u001b[34m\u001b[1mTuner: \u001b[0mBest fitness hyperparameters are printed below.\n",
      "\n",
      "Printing '\u001b[1m\u001b[30mruns\\detect\\tune\\best_hyperparameters.yaml\u001b[0m'\n",
      "\n",
      "lr0: 0.00284\n",
      "lrf: 0.01076\n",
      "momentum: 0.82954\n",
      "weight_decay: 0.00048\n",
      "warmup_epochs: 3.18861\n",
      "warmup_momentum: 0.91149\n",
      "box: 7.86059\n",
      "cls: 0.49189\n",
      "dfl: 1.21933\n",
      "hsv_h: 0.01978\n",
      "hsv_s: 0.4682\n",
      "hsv_v: 0.45379\n",
      "degrees: 0.0\n",
      "translate: 0.08853\n",
      "scale: 0.36779\n",
      "shear: 0.0\n",
      "perspective: 0.0\n",
      "flipud: 0.0\n",
      "fliplr: 0.2656\n",
      "bgr: 0.0\n",
      "mosaic: 0.69888\n",
      "mixup: 0.0\n",
      "copy_paste: 0.0\n",
      "\n",
      "\u001b[34m\u001b[1mTuner: \u001b[0mStarting iteration 66/300 with hyperparameters: {'lr0': 0.0035, 'lrf': 0.0134, 'momentum': 0.85881, 'weight_decay': 0.00047, 'warmup_epochs': 3.05243, 'warmup_momentum': 0.73303, 'box': 11.50491, 'cls': 0.58535, 'dfl': 1.48495, 'hsv_h': 0.01843, 'hsv_s': 0.72862, 'hsv_v': 0.45732, 'degrees': 0.0, 'translate': 0.12195, 'scale': 0.33171, 'shear': 0.0, 'perspective': 0.0, 'flipud': 0.0, 'fliplr': 0.27903, 'bgr': 0.0, 'mosaic': 0.6326, 'mixup': 0.0, 'copy_paste': 0.0}\n",
      "Saved runs\\detect\\tune\\tune_scatter_plots.png\n",
      "Saved runs\\detect\\tune\\tune_fitness.png\n",
      "\n",
      "\u001b[34m\u001b[1mTuner: \u001b[0m66/300 iterations complete  (25171.48s)\n",
      "\u001b[34m\u001b[1mTuner: \u001b[0mResults saved to \u001b[1mruns\\detect\\tune\u001b[0m\n",
      "\u001b[34m\u001b[1mTuner: \u001b[0mBest fitness=0.66243 observed at iteration 61\n",
      "\u001b[34m\u001b[1mTuner: \u001b[0mBest fitness metrics are {'metrics/precision(B)': 0.89527, 'metrics/recall(B)': 0.85588, 'metrics/mAP50(B)': 0.93542, 'metrics/mAP50-95(B)': 0.6321, 'val/box_loss': 1.23118, 'val/cls_loss': 0.62475, 'val/dfl_loss': 0.92279, 'fitness': 0.66243}\n",
      "\u001b[34m\u001b[1mTuner: \u001b[0mBest fitness model is runs\\detect\\train64\n",
      "\u001b[34m\u001b[1mTuner: \u001b[0mBest fitness hyperparameters are printed below.\n",
      "\n",
      "Printing '\u001b[1m\u001b[30mruns\\detect\\tune\\best_hyperparameters.yaml\u001b[0m'\n",
      "\n",
      "lr0: 0.00284\n",
      "lrf: 0.01076\n",
      "momentum: 0.82954\n",
      "weight_decay: 0.00048\n",
      "warmup_epochs: 3.18861\n",
      "warmup_momentum: 0.91149\n",
      "box: 7.86059\n",
      "cls: 0.49189\n",
      "dfl: 1.21933\n",
      "hsv_h: 0.01978\n",
      "hsv_s: 0.4682\n",
      "hsv_v: 0.45379\n",
      "degrees: 0.0\n",
      "translate: 0.08853\n",
      "scale: 0.36779\n",
      "shear: 0.0\n",
      "perspective: 0.0\n",
      "flipud: 0.0\n",
      "fliplr: 0.2656\n",
      "bgr: 0.0\n",
      "mosaic: 0.69888\n",
      "mixup: 0.0\n",
      "copy_paste: 0.0\n",
      "\n",
      "\u001b[34m\u001b[1mTuner: \u001b[0mStarting iteration 67/300 with hyperparameters: {'lr0': 0.00276, 'lrf': 0.01076, 'momentum': 0.84501, 'weight_decay': 0.00048, 'warmup_epochs': 3.18861, 'warmup_momentum': 0.95, 'box': 6.87116, 'cls': 0.50832, 'dfl': 1.1334, 'hsv_h': 0.02086, 'hsv_s': 0.52763, 'hsv_v': 0.48757, 'degrees': 0.0, 'translate': 0.1115, 'scale': 0.37641, 'shear': 0.0, 'perspective': 0.0, 'flipud': 0.0, 'fliplr': 0.2656, 'bgr': 0.0, 'mosaic': 0.71793, 'mixup': 0.0, 'copy_paste': 0.0}\n"
     ]
    }
   ],
   "source": [
    "from ultralytics import YOLO\n",
    "\n",
    "# Carregar o modelo YOLO11 pré-treinado\n",
    "model = YOLO('yolo11n.pt')\n",
    "\n",
    "model.tune(data='C:\\\\Users\\\\píchau\\\\Documents\\\\TCC\\\\dataset_preprocessed.yaml', epochs=30, iterations=300, optimizer=\"AdamW\", plots=False, save=False, val=False)"
   ]
  },
  {
   "cell_type": "code",
   "execution_count": null,
   "metadata": {},
   "outputs": [
    {
     "name": "stdout",
     "output_type": "stream",
     "text": [
      "New https://pypi.org/project/ultralytics/8.3.43 available  Update with 'pip install -U ultralytics'\n",
      "Ultralytics 8.3.15  Python-3.12.2 torch-2.5.0+cu118 CUDA:0 (NVIDIA GeForce RTX 4060, 8188MiB)\n",
      "\u001b[34m\u001b[1mengine\\trainer: \u001b[0mtask=detect, mode=train, model=C:\\Users\\pchau\\Documents\\TCC\\yolov8-env\\runs\\detect\\tune\\weights\\best.pt, data=C:\\Users\\pchau\\Documents\\TCC\\dataset_preprocessed.yaml, epochs=1000, time=None, patience=100, batch=16, imgsz=640, save=True, save_period=-1, cache=False, device=None, workers=8, project=None, name=train2, exist_ok=False, pretrained=True, optimizer=auto, verbose=True, seed=0, deterministic=True, single_cls=False, rect=False, cos_lr=False, close_mosaic=10, resume=False, amp=True, fraction=1.0, profile=False, freeze=None, multi_scale=False, overlap_mask=True, mask_ratio=4, dropout=0.0, val=True, split=val, save_json=False, save_hybrid=False, conf=None, iou=0.7, max_det=300, half=False, dnn=False, plots=True, source=None, vid_stride=1, stream_buffer=False, visualize=False, augment=False, agnostic_nms=False, classes=None, retina_masks=False, embed=None, show=False, save_frames=False, save_txt=False, save_conf=False, save_crop=False, show_labels=True, show_conf=True, show_boxes=True, line_width=None, format=torchscript, keras=False, optimize=False, int8=False, dynamic=False, simplify=True, opset=None, workspace=4, nms=False, lr0=0.01, lrf=0.01, momentum=0.937, weight_decay=0.0005, warmup_epochs=3.0, warmup_momentum=0.8, warmup_bias_lr=0.1, box=7.5, cls=0.5, dfl=1.5, pose=12.0, kobj=1.0, label_smoothing=0.0, nbs=64, hsv_h=0.015, hsv_s=0.7, hsv_v=0.4, degrees=0.0, translate=0.1, scale=0.5, shear=0.0, perspective=0.0, flipud=0.0, fliplr=0.5, bgr=0.0, mosaic=1.0, mixup=0.0, copy_paste=0.0, copy_paste_mode=flip, auto_augment=randaugment, erasing=0.4, crop_fraction=1.0, cfg=None, tracker=botsort.yaml, save_dir=runs\\detect\\train2\n",
      "\n",
      "                   from  n    params  module                                       arguments                     \n",
      "  0                  -1  1       464  ultralytics.nn.modules.conv.Conv             [3, 16, 3, 2]                 \n",
      "  1                  -1  1      4672  ultralytics.nn.modules.conv.Conv             [16, 32, 3, 2]                \n",
      "  2                  -1  1      6640  ultralytics.nn.modules.block.C3k2            [32, 64, 1, False, 0.25]      \n",
      "  3                  -1  1     36992  ultralytics.nn.modules.conv.Conv             [64, 64, 3, 2]                \n",
      "  4                  -1  1     26080  ultralytics.nn.modules.block.C3k2            [64, 128, 1, False, 0.25]     \n",
      "  5                  -1  1    147712  ultralytics.nn.modules.conv.Conv             [128, 128, 3, 2]              \n",
      "  6                  -1  1     87040  ultralytics.nn.modules.block.C3k2            [128, 128, 1, True]           \n",
      "  7                  -1  1    295424  ultralytics.nn.modules.conv.Conv             [128, 256, 3, 2]              \n",
      "  8                  -1  1    346112  ultralytics.nn.modules.block.C3k2            [256, 256, 1, True]           \n",
      "  9                  -1  1    164608  ultralytics.nn.modules.block.SPPF            [256, 256, 5]                 \n",
      " 10                  -1  1    249728  ultralytics.nn.modules.block.C2PSA           [256, 256, 1]                 \n",
      " 11                  -1  1         0  torch.nn.modules.upsampling.Upsample         [None, 2, 'nearest']          \n",
      " 12             [-1, 6]  1         0  ultralytics.nn.modules.conv.Concat           [1]                           \n",
      " 13                  -1  1    111296  ultralytics.nn.modules.block.C3k2            [384, 128, 1, False]          \n",
      " 14                  -1  1         0  torch.nn.modules.upsampling.Upsample         [None, 2, 'nearest']          \n",
      " 15             [-1, 4]  1         0  ultralytics.nn.modules.conv.Concat           [1]                           \n",
      " 16                  -1  1     32096  ultralytics.nn.modules.block.C3k2            [256, 64, 1, False]           \n",
      " 17                  -1  1     36992  ultralytics.nn.modules.conv.Conv             [64, 64, 3, 2]                \n",
      " 18            [-1, 13]  1         0  ultralytics.nn.modules.conv.Concat           [1]                           \n",
      " 19                  -1  1     86720  ultralytics.nn.modules.block.C3k2            [192, 128, 1, False]          \n",
      " 20                  -1  1    147712  ultralytics.nn.modules.conv.Conv             [128, 128, 3, 2]              \n",
      " 21            [-1, 10]  1         0  ultralytics.nn.modules.conv.Concat           [1]                           \n",
      " 22                  -1  1    378880  ultralytics.nn.modules.block.C3k2            [384, 256, 1, True]           \n",
      " 23        [16, 19, 22]  1    430867  ultralytics.nn.modules.head.Detect           [1, [64, 128, 256]]           \n",
      "YOLO11n summary: 319 layers, 2,590,035 parameters, 2,590,019 gradients, 6.4 GFLOPs\n",
      "\n",
      "Transferred 499/499 items from pretrained weights\n",
      "Freezing layer 'model.23.dfl.conv.weight'\n",
      "\u001b[34m\u001b[1mAMP: \u001b[0mrunning Automatic Mixed Precision (AMP) checks with YOLO11n...\n",
      "\u001b[34m\u001b[1mAMP: \u001b[0mchecks passed \n"
     ]
    },
    {
     "name": "stderr",
     "output_type": "stream",
     "text": [
      "\u001b[34m\u001b[1mtrain: \u001b[0mScanning C:\\Users\\píchau\\Documents\\TCC\\dataset\\labels\\train_preprocessed... 1170 images, 1 backgrounds, 0 corrupt: 100%|██████████| 1170/1170 [00:06<00:00, 180.00it/s]\n"
     ]
    },
    {
     "name": "stdout",
     "output_type": "stream",
     "text": [
      "\u001b[34m\u001b[1mtrain: \u001b[0mNew cache created: C:\\Users\\pchau\\Documents\\TCC\\dataset\\labels\\train_preprocessed.cache\n"
     ]
    },
    {
     "name": "stderr",
     "output_type": "stream",
     "text": [
      "\u001b[34m\u001b[1mval: \u001b[0mScanning C:\\Users\\píchau\\Documents\\TCC\\dataset\\labels\\val_preprocessed... 250 images, 0 backgrounds, 0 corrupt: 100%|██████████| 250/250 [00:01<00:00, 143.61it/s]\n"
     ]
    },
    {
     "name": "stdout",
     "output_type": "stream",
     "text": [
      "\u001b[34m\u001b[1mval: \u001b[0mNew cache created: C:\\Users\\pchau\\Documents\\TCC\\dataset\\labels\\val_preprocessed.cache\n",
      "Plotting labels to runs\\detect\\train2\\labels.jpg... \n",
      "\u001b[34m\u001b[1moptimizer:\u001b[0m 'optimizer=auto' found, ignoring 'lr0=0.01' and 'momentum=0.937' and determining best 'optimizer', 'lr0' and 'momentum' automatically... \n",
      "\u001b[34m\u001b[1moptimizer:\u001b[0m SGD(lr=0.01, momentum=0.9) with parameter groups 81 weight(decay=0.0), 88 weight(decay=0.0005), 87 bias(decay=0.0)\n",
      "Image sizes 640 train, 640 val\n",
      "Using 8 dataloader workers\n",
      "Logging results to \u001b[1mruns\\detect\\train2\u001b[0m\n",
      "Starting training for 1000 epochs...\n",
      "\n",
      "      Epoch    GPU_mem   box_loss   cls_loss   dfl_loss  Instances       Size\n"
     ]
    },
    {
     "name": "stderr",
     "output_type": "stream",
     "text": [
      "     1/1000      3.19G      1.308     0.8679      1.201         78        640: 100%|██████████| 74/74 [00:11<00:00,  6.19it/s]\n",
      "                 Class     Images  Instances      Box(P          R      mAP50  mAP50-95): 100%|██████████| 8/8 [00:01<00:00,  5.23it/s]\n"
     ]
    },
    {
     "name": "stdout",
     "output_type": "stream",
     "text": [
      "                   all        250       2831       0.85      0.799      0.887      0.571\n",
      "\n",
      "      Epoch    GPU_mem   box_loss   cls_loss   dfl_loss  Instances       Size\n"
     ]
    },
    {
     "name": "stderr",
     "output_type": "stream",
     "text": [
      "     2/1000      3.25G      1.291      0.833      1.198         85        640: 100%|██████████| 74/74 [00:10<00:00,  7.19it/s]\n",
      "                 Class     Images  Instances      Box(P          R      mAP50  mAP50-95): 100%|██████████| 8/8 [00:01<00:00,  6.11it/s]"
     ]
    },
    {
     "name": "stdout",
     "output_type": "stream",
     "text": [
      "                   all        250       2831      0.887      0.791      0.897      0.582\n"
     ]
    },
    {
     "name": "stderr",
     "output_type": "stream",
     "text": [
      "\n"
     ]
    },
    {
     "name": "stdout",
     "output_type": "stream",
     "text": [
      "\n",
      "      Epoch    GPU_mem   box_loss   cls_loss   dfl_loss  Instances       Size\n"
     ]
    },
    {
     "name": "stderr",
     "output_type": "stream",
     "text": [
      "     3/1000      2.99G      1.268     0.8245      1.188         23        640: 100%|██████████| 74/74 [00:09<00:00,  7.79it/s]\n",
      "                 Class     Images  Instances      Box(P          R      mAP50  mAP50-95): 100%|██████████| 8/8 [00:01<00:00,  5.91it/s]\n"
     ]
    },
    {
     "name": "stdout",
     "output_type": "stream",
     "text": [
      "                   all        250       2831      0.871      0.775       0.88      0.574\n",
      "\n",
      "      Epoch    GPU_mem   box_loss   cls_loss   dfl_loss  Instances       Size\n"
     ]
    },
    {
     "name": "stderr",
     "output_type": "stream",
     "text": [
      "     4/1000      3.11G      1.286     0.8458      1.183         59        640: 100%|██████████| 74/74 [00:09<00:00,  7.87it/s]\n",
      "                 Class     Images  Instances      Box(P          R      mAP50  mAP50-95): 100%|██████████| 8/8 [00:01<00:00,  6.15it/s]"
     ]
    },
    {
     "name": "stdout",
     "output_type": "stream",
     "text": [
      "                   all        250       2831      0.894        0.8      0.904      0.598\n"
     ]
    },
    {
     "name": "stderr",
     "output_type": "stream",
     "text": [
      "\n"
     ]
    },
    {
     "name": "stdout",
     "output_type": "stream",
     "text": [
      "\n",
      "      Epoch    GPU_mem   box_loss   cls_loss   dfl_loss  Instances       Size\n"
     ]
    },
    {
     "name": "stderr",
     "output_type": "stream",
     "text": [
      "     5/1000      2.91G      1.265     0.8271      1.179         20        640: 100%|██████████| 74/74 [00:09<00:00,  7.82it/s]\n",
      "                 Class     Images  Instances      Box(P          R      mAP50  mAP50-95): 100%|██████████| 8/8 [00:01<00:00,  6.10it/s]"
     ]
    },
    {
     "name": "stdout",
     "output_type": "stream",
     "text": [
      "                   all        250       2831      0.885      0.802      0.907        0.6\n"
     ]
    },
    {
     "name": "stderr",
     "output_type": "stream",
     "text": [
      "\n"
     ]
    },
    {
     "name": "stdout",
     "output_type": "stream",
     "text": [
      "\n",
      "      Epoch    GPU_mem   box_loss   cls_loss   dfl_loss  Instances       Size\n"
     ]
    },
    {
     "name": "stderr",
     "output_type": "stream",
     "text": [
      "     6/1000      2.93G      1.285     0.8265      1.181         62        640: 100%|██████████| 74/74 [00:09<00:00,  7.86it/s]\n",
      "                 Class     Images  Instances      Box(P          R      mAP50  mAP50-95): 100%|██████████| 8/8 [00:01<00:00,  6.23it/s]"
     ]
    },
    {
     "name": "stdout",
     "output_type": "stream",
     "text": [
      "                   all        250       2831      0.884      0.819      0.913      0.599\n"
     ]
    },
    {
     "name": "stderr",
     "output_type": "stream",
     "text": [
      "\n"
     ]
    },
    {
     "name": "stdout",
     "output_type": "stream",
     "text": [
      "\n",
      "      Epoch    GPU_mem   box_loss   cls_loss   dfl_loss  Instances       Size\n"
     ]
    },
    {
     "name": "stderr",
     "output_type": "stream",
     "text": [
      "     7/1000      2.94G      1.275     0.8064      1.179         27        640: 100%|██████████| 74/74 [00:09<00:00,  7.83it/s]\n",
      "                 Class     Images  Instances      Box(P          R      mAP50  mAP50-95): 100%|██████████| 8/8 [00:01<00:00,  6.06it/s]"
     ]
    },
    {
     "name": "stdout",
     "output_type": "stream",
     "text": [
      "                   all        250       2831      0.861      0.785      0.886      0.583\n"
     ]
    },
    {
     "name": "stderr",
     "output_type": "stream",
     "text": [
      "\n"
     ]
    },
    {
     "name": "stdout",
     "output_type": "stream",
     "text": [
      "\n",
      "      Epoch    GPU_mem   box_loss   cls_loss   dfl_loss  Instances       Size\n"
     ]
    },
    {
     "name": "stderr",
     "output_type": "stream",
     "text": [
      "     8/1000       2.8G      1.288     0.8297      1.185         16        640: 100%|██████████| 74/74 [00:09<00:00,  7.72it/s]\n",
      "                 Class     Images  Instances      Box(P          R      mAP50  mAP50-95): 100%|██████████| 8/8 [00:01<00:00,  6.07it/s]"
     ]
    },
    {
     "name": "stdout",
     "output_type": "stream",
     "text": [
      "                   all        250       2831      0.872      0.808      0.907      0.589\n"
     ]
    },
    {
     "name": "stderr",
     "output_type": "stream",
     "text": [
      "\n"
     ]
    },
    {
     "name": "stdout",
     "output_type": "stream",
     "text": [
      "\n",
      "      Epoch    GPU_mem   box_loss   cls_loss   dfl_loss  Instances       Size\n"
     ]
    },
    {
     "name": "stderr",
     "output_type": "stream",
     "text": [
      "     9/1000      2.91G       1.28     0.8145      1.182         21        640: 100%|██████████| 74/74 [00:09<00:00,  7.82it/s]\n",
      "                 Class     Images  Instances      Box(P          R      mAP50  mAP50-95): 100%|██████████| 8/8 [00:01<00:00,  5.97it/s]"
     ]
    },
    {
     "name": "stdout",
     "output_type": "stream",
     "text": [
      "                   all        250       2831      0.869      0.798      0.895      0.582\n"
     ]
    },
    {
     "name": "stderr",
     "output_type": "stream",
     "text": [
      "\n"
     ]
    },
    {
     "name": "stdout",
     "output_type": "stream",
     "text": [
      "\n",
      "      Epoch    GPU_mem   box_loss   cls_loss   dfl_loss  Instances       Size\n"
     ]
    },
    {
     "name": "stderr",
     "output_type": "stream",
     "text": [
      "    10/1000      3.01G      1.281     0.8212      1.181         15        640: 100%|██████████| 74/74 [00:09<00:00,  7.79it/s]\n",
      "                 Class     Images  Instances      Box(P          R      mAP50  mAP50-95): 100%|██████████| 8/8 [00:01<00:00,  6.04it/s]"
     ]
    },
    {
     "name": "stdout",
     "output_type": "stream",
     "text": [
      "                   all        250       2831      0.876      0.803      0.907      0.597\n"
     ]
    },
    {
     "name": "stderr",
     "output_type": "stream",
     "text": [
      "\n"
     ]
    },
    {
     "name": "stdout",
     "output_type": "stream",
     "text": [
      "\n",
      "      Epoch    GPU_mem   box_loss   cls_loss   dfl_loss  Instances       Size\n"
     ]
    },
    {
     "name": "stderr",
     "output_type": "stream",
     "text": [
      "    11/1000      3.09G      1.279     0.8076      1.178         33        640: 100%|██████████| 74/74 [00:09<00:00,  7.60it/s]\n",
      "                 Class     Images  Instances      Box(P          R      mAP50  mAP50-95): 100%|██████████| 8/8 [00:01<00:00,  6.08it/s]"
     ]
    },
    {
     "name": "stdout",
     "output_type": "stream",
     "text": [
      "                   all        250       2831      0.885      0.807      0.905      0.596\n"
     ]
    },
    {
     "name": "stderr",
     "output_type": "stream",
     "text": [
      "\n"
     ]
    },
    {
     "name": "stdout",
     "output_type": "stream",
     "text": [
      "\n",
      "      Epoch    GPU_mem   box_loss   cls_loss   dfl_loss  Instances       Size\n"
     ]
    },
    {
     "name": "stderr",
     "output_type": "stream",
     "text": [
      "    12/1000       2.8G      1.269     0.8034      1.173         53        640: 100%|██████████| 74/74 [00:09<00:00,  7.83it/s]\n",
      "                 Class     Images  Instances      Box(P          R      mAP50  mAP50-95): 100%|██████████| 8/8 [00:01<00:00,  6.15it/s]"
     ]
    },
    {
     "name": "stdout",
     "output_type": "stream",
     "text": [
      "                   all        250       2831      0.879      0.804      0.906      0.592\n"
     ]
    },
    {
     "name": "stderr",
     "output_type": "stream",
     "text": [
      "\n"
     ]
    },
    {
     "name": "stdout",
     "output_type": "stream",
     "text": [
      "\n",
      "      Epoch    GPU_mem   box_loss   cls_loss   dfl_loss  Instances       Size\n"
     ]
    },
    {
     "name": "stderr",
     "output_type": "stream",
     "text": [
      "    13/1000      2.91G      1.269     0.7975       1.18         24        640: 100%|██████████| 74/74 [00:09<00:00,  7.83it/s]\n",
      "                 Class     Images  Instances      Box(P          R      mAP50  mAP50-95): 100%|██████████| 8/8 [00:01<00:00,  6.21it/s]"
     ]
    },
    {
     "name": "stdout",
     "output_type": "stream",
     "text": [
      "                   all        250       2831      0.872      0.804      0.898      0.579\n"
     ]
    },
    {
     "name": "stderr",
     "output_type": "stream",
     "text": [
      "\n"
     ]
    },
    {
     "name": "stdout",
     "output_type": "stream",
     "text": [
      "\n",
      "      Epoch    GPU_mem   box_loss   cls_loss   dfl_loss  Instances       Size\n"
     ]
    },
    {
     "name": "stderr",
     "output_type": "stream",
     "text": [
      "    14/1000      2.75G      1.276     0.8111      1.186         15        640: 100%|██████████| 74/74 [00:09<00:00,  7.92it/s]\n",
      "                 Class     Images  Instances      Box(P          R      mAP50  mAP50-95): 100%|██████████| 8/8 [00:01<00:00,  6.01it/s]"
     ]
    },
    {
     "name": "stdout",
     "output_type": "stream",
     "text": [
      "                   all        250       2831      0.867      0.808      0.903      0.587\n"
     ]
    },
    {
     "name": "stderr",
     "output_type": "stream",
     "text": [
      "\n"
     ]
    },
    {
     "name": "stdout",
     "output_type": "stream",
     "text": [
      "\n",
      "      Epoch    GPU_mem   box_loss   cls_loss   dfl_loss  Instances       Size\n"
     ]
    },
    {
     "name": "stderr",
     "output_type": "stream",
     "text": [
      "    15/1000         3G      1.275     0.8075      1.179         20        640: 100%|██████████| 74/74 [00:09<00:00,  7.83it/s]\n",
      "                 Class     Images  Instances      Box(P          R      mAP50  mAP50-95): 100%|██████████| 8/8 [00:01<00:00,  6.13it/s]"
     ]
    },
    {
     "name": "stdout",
     "output_type": "stream",
     "text": [
      "                   all        250       2831      0.885      0.814      0.913      0.601\n"
     ]
    },
    {
     "name": "stderr",
     "output_type": "stream",
     "text": [
      "\n"
     ]
    },
    {
     "name": "stdout",
     "output_type": "stream",
     "text": [
      "\n",
      "      Epoch    GPU_mem   box_loss   cls_loss   dfl_loss  Instances       Size\n"
     ]
    },
    {
     "name": "stderr",
     "output_type": "stream",
     "text": [
      "    16/1000      3.14G      1.273      0.797      1.178         28        640: 100%|██████████| 74/74 [00:09<00:00,  7.76it/s]\n",
      "                 Class     Images  Instances      Box(P          R      mAP50  mAP50-95): 100%|██████████| 8/8 [00:01<00:00,  6.04it/s]"
     ]
    },
    {
     "name": "stdout",
     "output_type": "stream",
     "text": [
      "                   all        250       2831      0.876      0.816      0.907      0.595\n"
     ]
    },
    {
     "name": "stderr",
     "output_type": "stream",
     "text": [
      "\n"
     ]
    },
    {
     "name": "stdout",
     "output_type": "stream",
     "text": [
      "\n",
      "      Epoch    GPU_mem   box_loss   cls_loss   dfl_loss  Instances       Size\n"
     ]
    },
    {
     "name": "stderr",
     "output_type": "stream",
     "text": [
      "    17/1000      3.11G      1.254     0.7876      1.174         30        640: 100%|██████████| 74/74 [00:09<00:00,  7.85it/s]\n",
      "                 Class     Images  Instances      Box(P          R      mAP50  mAP50-95): 100%|██████████| 8/8 [00:01<00:00,  6.02it/s]"
     ]
    },
    {
     "name": "stdout",
     "output_type": "stream",
     "text": [
      "                   all        250       2831      0.874       0.83      0.914        0.6\n"
     ]
    },
    {
     "name": "stderr",
     "output_type": "stream",
     "text": [
      "\n"
     ]
    },
    {
     "name": "stdout",
     "output_type": "stream",
     "text": [
      "\n",
      "      Epoch    GPU_mem   box_loss   cls_loss   dfl_loss  Instances       Size\n"
     ]
    },
    {
     "name": "stderr",
     "output_type": "stream",
     "text": [
      "    18/1000      2.78G      1.271     0.8035      1.176         21        640: 100%|██████████| 74/74 [00:09<00:00,  7.82it/s]\n",
      "                 Class     Images  Instances      Box(P          R      mAP50  mAP50-95): 100%|██████████| 8/8 [00:01<00:00,  6.10it/s]"
     ]
    },
    {
     "name": "stdout",
     "output_type": "stream",
     "text": [
      "                   all        250       2831      0.879      0.814      0.911       0.59\n"
     ]
    },
    {
     "name": "stderr",
     "output_type": "stream",
     "text": [
      "\n"
     ]
    },
    {
     "name": "stdout",
     "output_type": "stream",
     "text": [
      "\n",
      "      Epoch    GPU_mem   box_loss   cls_loss   dfl_loss  Instances       Size\n"
     ]
    },
    {
     "name": "stderr",
     "output_type": "stream",
     "text": [
      "    19/1000      2.78G      1.261     0.7923      1.174         30        640: 100%|██████████| 74/74 [00:09<00:00,  7.75it/s]\n",
      "                 Class     Images  Instances      Box(P          R      mAP50  mAP50-95): 100%|██████████| 8/8 [00:01<00:00,  6.09it/s]"
     ]
    },
    {
     "name": "stdout",
     "output_type": "stream",
     "text": [
      "                   all        250       2831      0.891      0.819      0.917      0.603\n"
     ]
    },
    {
     "name": "stderr",
     "output_type": "stream",
     "text": [
      "\n"
     ]
    },
    {
     "name": "stdout",
     "output_type": "stream",
     "text": [
      "\n",
      "      Epoch    GPU_mem   box_loss   cls_loss   dfl_loss  Instances       Size\n"
     ]
    },
    {
     "name": "stderr",
     "output_type": "stream",
     "text": [
      "    20/1000       2.9G      1.266     0.7939      1.185         28        640: 100%|██████████| 74/74 [00:09<00:00,  7.91it/s]\n",
      "                 Class     Images  Instances      Box(P          R      mAP50  mAP50-95): 100%|██████████| 8/8 [00:01<00:00,  6.17it/s]"
     ]
    },
    {
     "name": "stdout",
     "output_type": "stream",
     "text": [
      "                   all        250       2831      0.876      0.813       0.91      0.591\n"
     ]
    },
    {
     "name": "stderr",
     "output_type": "stream",
     "text": [
      "\n"
     ]
    },
    {
     "name": "stdout",
     "output_type": "stream",
     "text": [
      "\n",
      "      Epoch    GPU_mem   box_loss   cls_loss   dfl_loss  Instances       Size\n"
     ]
    },
    {
     "name": "stderr",
     "output_type": "stream",
     "text": [
      "    21/1000         3G      1.271     0.7974      1.179         52        640: 100%|██████████| 74/74 [00:09<00:00,  7.89it/s]\n",
      "                 Class     Images  Instances      Box(P          R      mAP50  mAP50-95): 100%|██████████| 8/8 [00:01<00:00,  6.15it/s]"
     ]
    },
    {
     "name": "stdout",
     "output_type": "stream",
     "text": [
      "                   all        250       2831      0.887      0.819      0.913      0.601\n"
     ]
    },
    {
     "name": "stderr",
     "output_type": "stream",
     "text": [
      "\n"
     ]
    },
    {
     "name": "stdout",
     "output_type": "stream",
     "text": [
      "\n",
      "      Epoch    GPU_mem   box_loss   cls_loss   dfl_loss  Instances       Size\n"
     ]
    },
    {
     "name": "stderr",
     "output_type": "stream",
     "text": [
      "    22/1000      2.82G      1.263     0.7959      1.168         61        640: 100%|██████████| 74/74 [00:09<00:00,  7.78it/s]\n",
      "                 Class     Images  Instances      Box(P          R      mAP50  mAP50-95): 100%|██████████| 8/8 [00:01<00:00,  6.19it/s]"
     ]
    },
    {
     "name": "stdout",
     "output_type": "stream",
     "text": [
      "                   all        250       2831      0.873      0.803      0.903      0.601\n"
     ]
    },
    {
     "name": "stderr",
     "output_type": "stream",
     "text": [
      "\n"
     ]
    },
    {
     "name": "stdout",
     "output_type": "stream",
     "text": [
      "\n",
      "      Epoch    GPU_mem   box_loss   cls_loss   dfl_loss  Instances       Size\n"
     ]
    },
    {
     "name": "stderr",
     "output_type": "stream",
     "text": [
      "    23/1000      3.28G      1.258     0.7811      1.173         39        640: 100%|██████████| 74/74 [00:09<00:00,  7.86it/s]\n",
      "                 Class     Images  Instances      Box(P          R      mAP50  mAP50-95): 100%|██████████| 8/8 [00:01<00:00,  6.19it/s]"
     ]
    },
    {
     "name": "stdout",
     "output_type": "stream",
     "text": [
      "                   all        250       2831      0.886      0.832      0.921      0.611\n"
     ]
    },
    {
     "name": "stderr",
     "output_type": "stream",
     "text": [
      "\n"
     ]
    },
    {
     "name": "stdout",
     "output_type": "stream",
     "text": [
      "\n",
      "      Epoch    GPU_mem   box_loss   cls_loss   dfl_loss  Instances       Size\n"
     ]
    },
    {
     "name": "stderr",
     "output_type": "stream",
     "text": [
      "    24/1000      2.82G      1.265     0.7984      1.177         41        640: 100%|██████████| 74/74 [00:09<00:00,  7.94it/s]\n",
      "                 Class     Images  Instances      Box(P          R      mAP50  mAP50-95): 100%|██████████| 8/8 [00:01<00:00,  6.24it/s]"
     ]
    },
    {
     "name": "stdout",
     "output_type": "stream",
     "text": [
      "                   all        250       2831      0.891       0.81      0.915      0.602\n"
     ]
    },
    {
     "name": "stderr",
     "output_type": "stream",
     "text": [
      "\n"
     ]
    },
    {
     "name": "stdout",
     "output_type": "stream",
     "text": [
      "\n",
      "      Epoch    GPU_mem   box_loss   cls_loss   dfl_loss  Instances       Size\n"
     ]
    },
    {
     "name": "stderr",
     "output_type": "stream",
     "text": [
      "    25/1000      2.77G      1.248     0.7768      1.173         26        640: 100%|██████████| 74/74 [00:09<00:00,  7.74it/s]\n",
      "                 Class     Images  Instances      Box(P          R      mAP50  mAP50-95): 100%|██████████| 8/8 [00:01<00:00,  6.15it/s]"
     ]
    },
    {
     "name": "stdout",
     "output_type": "stream",
     "text": [
      "                   all        250       2831      0.879      0.826      0.914      0.596\n"
     ]
    },
    {
     "name": "stderr",
     "output_type": "stream",
     "text": [
      "\n"
     ]
    },
    {
     "name": "stdout",
     "output_type": "stream",
     "text": [
      "\n",
      "      Epoch    GPU_mem   box_loss   cls_loss   dfl_loss  Instances       Size\n"
     ]
    },
    {
     "name": "stderr",
     "output_type": "stream",
     "text": [
      "    26/1000      2.82G       1.26     0.7867      1.175         38        640: 100%|██████████| 74/74 [00:09<00:00,  7.92it/s]\n",
      "                 Class     Images  Instances      Box(P          R      mAP50  mAP50-95): 100%|██████████| 8/8 [00:01<00:00,  6.21it/s]"
     ]
    },
    {
     "name": "stdout",
     "output_type": "stream",
     "text": [
      "                   all        250       2831      0.875      0.817      0.915        0.6\n"
     ]
    },
    {
     "name": "stderr",
     "output_type": "stream",
     "text": [
      "\n"
     ]
    },
    {
     "name": "stdout",
     "output_type": "stream",
     "text": [
      "\n",
      "      Epoch    GPU_mem   box_loss   cls_loss   dfl_loss  Instances       Size\n"
     ]
    },
    {
     "name": "stderr",
     "output_type": "stream",
     "text": [
      "    27/1000      2.82G       1.25     0.7885      1.165         34        640: 100%|██████████| 74/74 [00:09<00:00,  7.86it/s]\n",
      "                 Class     Images  Instances      Box(P          R      mAP50  mAP50-95): 100%|██████████| 8/8 [00:01<00:00,  6.15it/s]"
     ]
    },
    {
     "name": "stdout",
     "output_type": "stream",
     "text": [
      "                   all        250       2831      0.881      0.808      0.909      0.598\n"
     ]
    },
    {
     "name": "stderr",
     "output_type": "stream",
     "text": [
      "\n"
     ]
    },
    {
     "name": "stdout",
     "output_type": "stream",
     "text": [
      "\n",
      "      Epoch    GPU_mem   box_loss   cls_loss   dfl_loss  Instances       Size\n"
     ]
    },
    {
     "name": "stderr",
     "output_type": "stream",
     "text": [
      "    28/1000      2.71G      1.268     0.7806      1.178         16        640: 100%|██████████| 74/74 [00:09<00:00,  7.90it/s]\n",
      "                 Class     Images  Instances      Box(P          R      mAP50  mAP50-95): 100%|██████████| 8/8 [00:01<00:00,  6.05it/s]"
     ]
    },
    {
     "name": "stdout",
     "output_type": "stream",
     "text": [
      "                   all        250       2831      0.873      0.805      0.906      0.588\n"
     ]
    },
    {
     "name": "stderr",
     "output_type": "stream",
     "text": [
      "\n"
     ]
    },
    {
     "name": "stdout",
     "output_type": "stream",
     "text": [
      "\n",
      "      Epoch    GPU_mem   box_loss   cls_loss   dfl_loss  Instances       Size\n"
     ]
    },
    {
     "name": "stderr",
     "output_type": "stream",
     "text": [
      "    29/1000      3.23G      1.247     0.7824      1.169         39        640: 100%|██████████| 74/74 [00:09<00:00,  7.61it/s]\n",
      "                 Class     Images  Instances      Box(P          R      mAP50  mAP50-95): 100%|██████████| 8/8 [00:01<00:00,  6.33it/s]"
     ]
    },
    {
     "name": "stdout",
     "output_type": "stream",
     "text": [
      "                   all        250       2831      0.875       0.83      0.917      0.606\n"
     ]
    },
    {
     "name": "stderr",
     "output_type": "stream",
     "text": [
      "\n"
     ]
    },
    {
     "name": "stdout",
     "output_type": "stream",
     "text": [
      "\n",
      "      Epoch    GPU_mem   box_loss   cls_loss   dfl_loss  Instances       Size\n"
     ]
    },
    {
     "name": "stderr",
     "output_type": "stream",
     "text": [
      "    30/1000      3.31G      1.259     0.7746       1.16         49        640: 100%|██████████| 74/74 [00:09<00:00,  7.84it/s]\n",
      "                 Class     Images  Instances      Box(P          R      mAP50  mAP50-95): 100%|██████████| 8/8 [00:01<00:00,  6.30it/s]"
     ]
    },
    {
     "name": "stdout",
     "output_type": "stream",
     "text": [
      "                   all        250       2831      0.887      0.824      0.919      0.602\n"
     ]
    },
    {
     "name": "stderr",
     "output_type": "stream",
     "text": [
      "\n"
     ]
    },
    {
     "name": "stdout",
     "output_type": "stream",
     "text": [
      "\n",
      "      Epoch    GPU_mem   box_loss   cls_loss   dfl_loss  Instances       Size\n"
     ]
    },
    {
     "name": "stderr",
     "output_type": "stream",
     "text": [
      "    31/1000      3.05G      1.256     0.7793      1.174         14        640: 100%|██████████| 74/74 [00:09<00:00,  7.81it/s]\n",
      "                 Class     Images  Instances      Box(P          R      mAP50  mAP50-95): 100%|██████████| 8/8 [00:01<00:00,  6.08it/s]"
     ]
    },
    {
     "name": "stdout",
     "output_type": "stream",
     "text": [
      "                   all        250       2831      0.894      0.804      0.911      0.597\n"
     ]
    },
    {
     "name": "stderr",
     "output_type": "stream",
     "text": [
      "\n"
     ]
    },
    {
     "name": "stdout",
     "output_type": "stream",
     "text": [
      "\n",
      "      Epoch    GPU_mem   box_loss   cls_loss   dfl_loss  Instances       Size\n"
     ]
    },
    {
     "name": "stderr",
     "output_type": "stream",
     "text": [
      "    32/1000      2.78G      1.243     0.7691      1.168         23        640: 100%|██████████| 74/74 [00:09<00:00,  7.85it/s]\n",
      "                 Class     Images  Instances      Box(P          R      mAP50  mAP50-95): 100%|██████████| 8/8 [00:01<00:00,  6.11it/s]"
     ]
    },
    {
     "name": "stdout",
     "output_type": "stream",
     "text": [
      "                   all        250       2831      0.882      0.803      0.905      0.588\n"
     ]
    },
    {
     "name": "stderr",
     "output_type": "stream",
     "text": [
      "\n"
     ]
    },
    {
     "name": "stdout",
     "output_type": "stream",
     "text": [
      "\n",
      "      Epoch    GPU_mem   box_loss   cls_loss   dfl_loss  Instances       Size\n"
     ]
    },
    {
     "name": "stderr",
     "output_type": "stream",
     "text": [
      "    33/1000      3.01G      1.252     0.7726      1.165         24        640: 100%|██████████| 74/74 [00:09<00:00,  7.59it/s]\n",
      "                 Class     Images  Instances      Box(P          R      mAP50  mAP50-95): 100%|██████████| 8/8 [00:01<00:00,  6.14it/s]"
     ]
    },
    {
     "name": "stdout",
     "output_type": "stream",
     "text": [
      "                   all        250       2831      0.891      0.829       0.92      0.608\n"
     ]
    },
    {
     "name": "stderr",
     "output_type": "stream",
     "text": [
      "\n"
     ]
    },
    {
     "name": "stdout",
     "output_type": "stream",
     "text": [
      "\n",
      "      Epoch    GPU_mem   box_loss   cls_loss   dfl_loss  Instances       Size\n"
     ]
    },
    {
     "name": "stderr",
     "output_type": "stream",
     "text": [
      "    34/1000      2.85G       1.24      0.765      1.161         43        640: 100%|██████████| 74/74 [00:09<00:00,  7.85it/s]\n",
      "                 Class     Images  Instances      Box(P          R      mAP50  mAP50-95): 100%|██████████| 8/8 [00:01<00:00,  6.15it/s]"
     ]
    },
    {
     "name": "stdout",
     "output_type": "stream",
     "text": [
      "                   all        250       2831      0.894      0.815      0.915      0.604\n"
     ]
    },
    {
     "name": "stderr",
     "output_type": "stream",
     "text": [
      "\n"
     ]
    },
    {
     "name": "stdout",
     "output_type": "stream",
     "text": [
      "\n",
      "      Epoch    GPU_mem   box_loss   cls_loss   dfl_loss  Instances       Size\n"
     ]
    },
    {
     "name": "stderr",
     "output_type": "stream",
     "text": [
      "    35/1000      2.76G      1.237      0.769      1.159         27        640: 100%|██████████| 74/74 [00:09<00:00,  7.89it/s]\n",
      "                 Class     Images  Instances      Box(P          R      mAP50  mAP50-95): 100%|██████████| 8/8 [00:01<00:00,  6.23it/s]"
     ]
    },
    {
     "name": "stdout",
     "output_type": "stream",
     "text": [
      "                   all        250       2831      0.891      0.833      0.919      0.611\n"
     ]
    },
    {
     "name": "stderr",
     "output_type": "stream",
     "text": [
      "\n"
     ]
    },
    {
     "name": "stdout",
     "output_type": "stream",
     "text": [
      "\n",
      "      Epoch    GPU_mem   box_loss   cls_loss   dfl_loss  Instances       Size\n"
     ]
    },
    {
     "name": "stderr",
     "output_type": "stream",
     "text": [
      "    36/1000      2.85G      1.252     0.7694      1.167         24        640: 100%|██████████| 74/74 [00:09<00:00,  7.87it/s]\n",
      "                 Class     Images  Instances      Box(P          R      mAP50  mAP50-95): 100%|██████████| 8/8 [00:01<00:00,  6.01it/s]\n"
     ]
    },
    {
     "name": "stdout",
     "output_type": "stream",
     "text": [
      "                   all        250       2831      0.896      0.823      0.918      0.606\n",
      "\n",
      "      Epoch    GPU_mem   box_loss   cls_loss   dfl_loss  Instances       Size\n"
     ]
    },
    {
     "name": "stderr",
     "output_type": "stream",
     "text": [
      "    37/1000      2.94G      1.248     0.7675      1.168          8        640: 100%|██████████| 74/74 [00:09<00:00,  7.87it/s]\n",
      "                 Class     Images  Instances      Box(P          R      mAP50  mAP50-95): 100%|██████████| 8/8 [00:01<00:00,  6.21it/s]"
     ]
    },
    {
     "name": "stdout",
     "output_type": "stream",
     "text": [
      "                   all        250       2831      0.889      0.828      0.917      0.595\n"
     ]
    },
    {
     "name": "stderr",
     "output_type": "stream",
     "text": [
      "\n"
     ]
    },
    {
     "name": "stdout",
     "output_type": "stream",
     "text": [
      "\n",
      "      Epoch    GPU_mem   box_loss   cls_loss   dfl_loss  Instances       Size\n"
     ]
    },
    {
     "name": "stderr",
     "output_type": "stream",
     "text": [
      "    38/1000      3.11G      1.236      0.775      1.166          7        640: 100%|██████████| 74/74 [00:09<00:00,  7.79it/s]\n",
      "                 Class     Images  Instances      Box(P          R      mAP50  mAP50-95): 100%|██████████| 8/8 [00:01<00:00,  6.02it/s]\n"
     ]
    },
    {
     "name": "stdout",
     "output_type": "stream",
     "text": [
      "                   all        250       2831       0.89      0.811      0.912      0.605\n",
      "\n",
      "      Epoch    GPU_mem   box_loss   cls_loss   dfl_loss  Instances       Size\n"
     ]
    },
    {
     "name": "stderr",
     "output_type": "stream",
     "text": [
      "    39/1000      3.06G      1.252     0.7687      1.167         65        640: 100%|██████████| 74/74 [00:09<00:00,  7.84it/s]\n",
      "                 Class     Images  Instances      Box(P          R      mAP50  mAP50-95): 100%|██████████| 8/8 [00:01<00:00,  6.13it/s]"
     ]
    },
    {
     "name": "stdout",
     "output_type": "stream",
     "text": [
      "                   all        250       2831      0.877      0.839      0.921      0.603\n"
     ]
    },
    {
     "name": "stderr",
     "output_type": "stream",
     "text": [
      "\n"
     ]
    },
    {
     "name": "stdout",
     "output_type": "stream",
     "text": [
      "\n",
      "      Epoch    GPU_mem   box_loss   cls_loss   dfl_loss  Instances       Size\n"
     ]
    },
    {
     "name": "stderr",
     "output_type": "stream",
     "text": [
      "    40/1000      2.91G      1.232     0.7559      1.159         38        640: 100%|██████████| 74/74 [00:09<00:00,  7.84it/s]\n",
      "                 Class     Images  Instances      Box(P          R      mAP50  mAP50-95): 100%|██████████| 8/8 [00:01<00:00,  6.17it/s]"
     ]
    },
    {
     "name": "stdout",
     "output_type": "stream",
     "text": [
      "                   all        250       2831      0.896      0.821       0.92      0.605\n"
     ]
    },
    {
     "name": "stderr",
     "output_type": "stream",
     "text": [
      "\n"
     ]
    },
    {
     "name": "stdout",
     "output_type": "stream",
     "text": [
      "\n",
      "      Epoch    GPU_mem   box_loss   cls_loss   dfl_loss  Instances       Size\n"
     ]
    },
    {
     "name": "stderr",
     "output_type": "stream",
     "text": [
      "    41/1000      2.91G      1.241      0.761       1.16         51        640: 100%|██████████| 74/74 [00:09<00:00,  7.89it/s]\n",
      "                 Class     Images  Instances      Box(P          R      mAP50  mAP50-95): 100%|██████████| 8/8 [00:01<00:00,  6.18it/s]"
     ]
    },
    {
     "name": "stdout",
     "output_type": "stream",
     "text": [
      "                   all        250       2831      0.875      0.819      0.912      0.596\n"
     ]
    },
    {
     "name": "stderr",
     "output_type": "stream",
     "text": [
      "\n"
     ]
    },
    {
     "name": "stdout",
     "output_type": "stream",
     "text": [
      "\n",
      "      Epoch    GPU_mem   box_loss   cls_loss   dfl_loss  Instances       Size\n"
     ]
    },
    {
     "name": "stderr",
     "output_type": "stream",
     "text": [
      "    42/1000      3.06G      1.233     0.7602      1.156         24        640: 100%|██████████| 74/74 [00:09<00:00,  7.76it/s]\n",
      "                 Class     Images  Instances      Box(P          R      mAP50  mAP50-95): 100%|██████████| 8/8 [00:01<00:00,  6.34it/s]"
     ]
    },
    {
     "name": "stdout",
     "output_type": "stream",
     "text": [
      "                   all        250       2831      0.875      0.789      0.897       0.59\n"
     ]
    },
    {
     "name": "stderr",
     "output_type": "stream",
     "text": [
      "\n"
     ]
    },
    {
     "name": "stdout",
     "output_type": "stream",
     "text": [
      "\n",
      "      Epoch    GPU_mem   box_loss   cls_loss   dfl_loss  Instances       Size\n"
     ]
    },
    {
     "name": "stderr",
     "output_type": "stream",
     "text": [
      "    43/1000      2.73G      1.246     0.7576      1.164         31        640: 100%|██████████| 74/74 [00:09<00:00,  7.86it/s]\n",
      "                 Class     Images  Instances      Box(P          R      mAP50  mAP50-95): 100%|██████████| 8/8 [00:01<00:00,  6.10it/s]"
     ]
    },
    {
     "name": "stdout",
     "output_type": "stream",
     "text": [
      "                   all        250       2831      0.885      0.829      0.918      0.605\n"
     ]
    },
    {
     "name": "stderr",
     "output_type": "stream",
     "text": [
      "\n"
     ]
    },
    {
     "name": "stdout",
     "output_type": "stream",
     "text": [
      "\n",
      "      Epoch    GPU_mem   box_loss   cls_loss   dfl_loss  Instances       Size\n"
     ]
    },
    {
     "name": "stderr",
     "output_type": "stream",
     "text": [
      "    44/1000      2.77G      1.243     0.7612      1.154         42        640: 100%|██████████| 74/74 [00:09<00:00,  7.80it/s]\n",
      "                 Class     Images  Instances      Box(P          R      mAP50  mAP50-95): 100%|██████████| 8/8 [00:01<00:00,  6.17it/s]"
     ]
    },
    {
     "name": "stdout",
     "output_type": "stream",
     "text": [
      "                   all        250       2831      0.884       0.83      0.918      0.606\n"
     ]
    },
    {
     "name": "stderr",
     "output_type": "stream",
     "text": [
      "\n"
     ]
    },
    {
     "name": "stdout",
     "output_type": "stream",
     "text": [
      "\n",
      "      Epoch    GPU_mem   box_loss   cls_loss   dfl_loss  Instances       Size\n"
     ]
    },
    {
     "name": "stderr",
     "output_type": "stream",
     "text": [
      "    45/1000      2.79G      1.242     0.7521      1.161         59        640: 100%|██████████| 74/74 [00:09<00:00,  7.90it/s]\n",
      "                 Class     Images  Instances      Box(P          R      mAP50  mAP50-95): 100%|██████████| 8/8 [00:01<00:00,  6.13it/s]"
     ]
    },
    {
     "name": "stdout",
     "output_type": "stream",
     "text": [
      "                   all        250       2831      0.868      0.811      0.901       0.59\n"
     ]
    },
    {
     "name": "stderr",
     "output_type": "stream",
     "text": [
      "\n"
     ]
    },
    {
     "name": "stdout",
     "output_type": "stream",
     "text": [
      "\n",
      "      Epoch    GPU_mem   box_loss   cls_loss   dfl_loss  Instances       Size\n"
     ]
    },
    {
     "name": "stderr",
     "output_type": "stream",
     "text": [
      "    46/1000      3.13G      1.237     0.7549      1.157         45        640: 100%|██████████| 74/74 [00:09<00:00,  7.63it/s]\n",
      "                 Class     Images  Instances      Box(P          R      mAP50  mAP50-95): 100%|██████████| 8/8 [00:01<00:00,  6.15it/s]"
     ]
    },
    {
     "name": "stdout",
     "output_type": "stream",
     "text": [
      "                   all        250       2831      0.884      0.803      0.905      0.599\n"
     ]
    },
    {
     "name": "stderr",
     "output_type": "stream",
     "text": [
      "\n"
     ]
    },
    {
     "name": "stdout",
     "output_type": "stream",
     "text": [
      "\n",
      "      Epoch    GPU_mem   box_loss   cls_loss   dfl_loss  Instances       Size\n"
     ]
    },
    {
     "name": "stderr",
     "output_type": "stream",
     "text": [
      "    47/1000      2.71G       1.23     0.7511      1.156         21        640: 100%|██████████| 74/74 [00:09<00:00,  7.70it/s]\n",
      "                 Class     Images  Instances      Box(P          R      mAP50  mAP50-95): 100%|██████████| 8/8 [00:01<00:00,  6.17it/s]"
     ]
    },
    {
     "name": "stdout",
     "output_type": "stream",
     "text": [
      "                   all        250       2831      0.877      0.836       0.92      0.604\n"
     ]
    },
    {
     "name": "stderr",
     "output_type": "stream",
     "text": [
      "\n"
     ]
    },
    {
     "name": "stdout",
     "output_type": "stream",
     "text": [
      "\n",
      "      Epoch    GPU_mem   box_loss   cls_loss   dfl_loss  Instances       Size\n"
     ]
    },
    {
     "name": "stderr",
     "output_type": "stream",
     "text": [
      "    48/1000      2.86G      1.225     0.7521      1.153         13        640: 100%|██████████| 74/74 [00:10<00:00,  7.34it/s]\n",
      "                 Class     Images  Instances      Box(P          R      mAP50  mAP50-95): 100%|██████████| 8/8 [00:01<00:00,  5.78it/s]"
     ]
    },
    {
     "name": "stdout",
     "output_type": "stream",
     "text": [
      "                   all        250       2831      0.856      0.817      0.898       0.57\n"
     ]
    },
    {
     "name": "stderr",
     "output_type": "stream",
     "text": [
      "\n"
     ]
    },
    {
     "name": "stdout",
     "output_type": "stream",
     "text": [
      "\n",
      "      Epoch    GPU_mem   box_loss   cls_loss   dfl_loss  Instances       Size\n"
     ]
    },
    {
     "name": "stderr",
     "output_type": "stream",
     "text": [
      "    49/1000      2.79G       1.24     0.7613      1.156         17        640: 100%|██████████| 74/74 [00:09<00:00,  7.69it/s]\n",
      "                 Class     Images  Instances      Box(P          R      mAP50  mAP50-95): 100%|██████████| 8/8 [00:01<00:00,  6.10it/s]"
     ]
    },
    {
     "name": "stdout",
     "output_type": "stream",
     "text": [
      "                   all        250       2831      0.887       0.82      0.918      0.605\n"
     ]
    },
    {
     "name": "stderr",
     "output_type": "stream",
     "text": [
      "\n"
     ]
    },
    {
     "name": "stdout",
     "output_type": "stream",
     "text": [
      "\n",
      "      Epoch    GPU_mem   box_loss   cls_loss   dfl_loss  Instances       Size\n"
     ]
    },
    {
     "name": "stderr",
     "output_type": "stream",
     "text": [
      "    50/1000      3.19G       1.24     0.7572      1.155         42        640: 100%|██████████| 74/74 [00:09<00:00,  7.68it/s]\n",
      "                 Class     Images  Instances      Box(P          R      mAP50  mAP50-95): 100%|██████████| 8/8 [00:01<00:00,  6.22it/s]"
     ]
    },
    {
     "name": "stdout",
     "output_type": "stream",
     "text": [
      "                   all        250       2831      0.878      0.832      0.918      0.609\n"
     ]
    },
    {
     "name": "stderr",
     "output_type": "stream",
     "text": [
      "\n"
     ]
    },
    {
     "name": "stdout",
     "output_type": "stream",
     "text": [
      "\n",
      "      Epoch    GPU_mem   box_loss   cls_loss   dfl_loss  Instances       Size\n"
     ]
    },
    {
     "name": "stderr",
     "output_type": "stream",
     "text": [
      "    51/1000      2.89G      1.231      0.754       1.15         41        640: 100%|██████████| 74/74 [00:09<00:00,  7.79it/s]\n",
      "                 Class     Images  Instances      Box(P          R      mAP50  mAP50-95): 100%|██████████| 8/8 [00:01<00:00,  6.08it/s]"
     ]
    },
    {
     "name": "stdout",
     "output_type": "stream",
     "text": [
      "                   all        250       2831      0.894      0.827       0.92      0.608\n"
     ]
    },
    {
     "name": "stderr",
     "output_type": "stream",
     "text": [
      "\n"
     ]
    },
    {
     "name": "stdout",
     "output_type": "stream",
     "text": [
      "\n",
      "      Epoch    GPU_mem   box_loss   cls_loss   dfl_loss  Instances       Size\n"
     ]
    },
    {
     "name": "stderr",
     "output_type": "stream",
     "text": [
      "    52/1000      2.69G      1.231     0.7507      1.155         32        640: 100%|██████████| 74/74 [00:09<00:00,  7.77it/s]\n",
      "                 Class     Images  Instances      Box(P          R      mAP50  mAP50-95): 100%|██████████| 8/8 [00:01<00:00,  6.10it/s]"
     ]
    },
    {
     "name": "stdout",
     "output_type": "stream",
     "text": [
      "                   all        250       2831      0.891      0.838      0.925      0.614\n"
     ]
    },
    {
     "name": "stderr",
     "output_type": "stream",
     "text": [
      "\n"
     ]
    },
    {
     "name": "stdout",
     "output_type": "stream",
     "text": [
      "\n",
      "      Epoch    GPU_mem   box_loss   cls_loss   dfl_loss  Instances       Size\n"
     ]
    },
    {
     "name": "stderr",
     "output_type": "stream",
     "text": [
      "    53/1000      2.86G      1.226     0.7482      1.151         19        640: 100%|██████████| 74/74 [00:09<00:00,  7.83it/s]\n",
      "                 Class     Images  Instances      Box(P          R      mAP50  mAP50-95): 100%|██████████| 8/8 [00:01<00:00,  6.11it/s]"
     ]
    },
    {
     "name": "stdout",
     "output_type": "stream",
     "text": [
      "                   all        250       2831      0.861      0.813      0.901       0.58\n"
     ]
    },
    {
     "name": "stderr",
     "output_type": "stream",
     "text": [
      "\n"
     ]
    },
    {
     "name": "stdout",
     "output_type": "stream",
     "text": [
      "\n",
      "      Epoch    GPU_mem   box_loss   cls_loss   dfl_loss  Instances       Size\n"
     ]
    },
    {
     "name": "stderr",
     "output_type": "stream",
     "text": [
      "    54/1000      2.82G      1.227      0.743      1.155         20        640: 100%|██████████| 74/74 [00:09<00:00,  7.81it/s]\n",
      "                 Class     Images  Instances      Box(P          R      mAP50  mAP50-95): 100%|██████████| 8/8 [00:01<00:00,  5.99it/s]"
     ]
    },
    {
     "name": "stdout",
     "output_type": "stream",
     "text": [
      "                   all        250       2831      0.883       0.84      0.924      0.613\n"
     ]
    },
    {
     "name": "stderr",
     "output_type": "stream",
     "text": [
      "\n"
     ]
    },
    {
     "name": "stdout",
     "output_type": "stream",
     "text": [
      "\n",
      "      Epoch    GPU_mem   box_loss   cls_loss   dfl_loss  Instances       Size\n"
     ]
    },
    {
     "name": "stderr",
     "output_type": "stream",
     "text": [
      "    55/1000      2.89G      1.229     0.7505       1.15         25        640: 100%|██████████| 74/74 [00:09<00:00,  7.79it/s]\n",
      "                 Class     Images  Instances      Box(P          R      mAP50  mAP50-95): 100%|██████████| 8/8 [00:01<00:00,  6.17it/s]"
     ]
    },
    {
     "name": "stdout",
     "output_type": "stream",
     "text": [
      "                   all        250       2831      0.882      0.833      0.916      0.607\n"
     ]
    },
    {
     "name": "stderr",
     "output_type": "stream",
     "text": [
      "\n"
     ]
    },
    {
     "name": "stdout",
     "output_type": "stream",
     "text": [
      "\n",
      "      Epoch    GPU_mem   box_loss   cls_loss   dfl_loss  Instances       Size\n"
     ]
    },
    {
     "name": "stderr",
     "output_type": "stream",
     "text": [
      "    56/1000      2.77G      1.228     0.7454      1.151         25        640: 100%|██████████| 74/74 [00:09<00:00,  7.80it/s]\n",
      "                 Class     Images  Instances      Box(P          R      mAP50  mAP50-95): 100%|██████████| 8/8 [00:01<00:00,  6.18it/s]"
     ]
    },
    {
     "name": "stdout",
     "output_type": "stream",
     "text": [
      "                   all        250       2831      0.873      0.841      0.919      0.611\n"
     ]
    },
    {
     "name": "stderr",
     "output_type": "stream",
     "text": [
      "\n"
     ]
    },
    {
     "name": "stdout",
     "output_type": "stream",
     "text": [
      "\n",
      "      Epoch    GPU_mem   box_loss   cls_loss   dfl_loss  Instances       Size\n"
     ]
    },
    {
     "name": "stderr",
     "output_type": "stream",
     "text": [
      "    57/1000      2.98G      1.218     0.7478      1.157         19        640: 100%|██████████| 74/74 [00:09<00:00,  7.85it/s]\n",
      "                 Class     Images  Instances      Box(P          R      mAP50  mAP50-95): 100%|██████████| 8/8 [00:01<00:00,  6.14it/s]"
     ]
    },
    {
     "name": "stdout",
     "output_type": "stream",
     "text": [
      "                   all        250       2831       0.88      0.825      0.915      0.603\n"
     ]
    },
    {
     "name": "stderr",
     "output_type": "stream",
     "text": [
      "\n"
     ]
    },
    {
     "name": "stdout",
     "output_type": "stream",
     "text": [
      "\n",
      "      Epoch    GPU_mem   box_loss   cls_loss   dfl_loss  Instances       Size\n"
     ]
    },
    {
     "name": "stderr",
     "output_type": "stream",
     "text": [
      "    58/1000      2.78G      1.236     0.7464      1.154         63        640: 100%|██████████| 74/74 [00:09<00:00,  7.79it/s]\n",
      "                 Class     Images  Instances      Box(P          R      mAP50  mAP50-95): 100%|██████████| 8/8 [00:01<00:00,  6.25it/s]"
     ]
    },
    {
     "name": "stdout",
     "output_type": "stream",
     "text": [
      "                   all        250       2831      0.887      0.832      0.919      0.609\n"
     ]
    },
    {
     "name": "stderr",
     "output_type": "stream",
     "text": [
      "\n"
     ]
    },
    {
     "name": "stdout",
     "output_type": "stream",
     "text": [
      "\n",
      "      Epoch    GPU_mem   box_loss   cls_loss   dfl_loss  Instances       Size\n"
     ]
    },
    {
     "name": "stderr",
     "output_type": "stream",
     "text": [
      "    59/1000      2.92G      1.222     0.7425       1.15         34        640: 100%|██████████| 74/74 [00:09<00:00,  7.82it/s]\n",
      "                 Class     Images  Instances      Box(P          R      mAP50  mAP50-95): 100%|██████████| 8/8 [00:01<00:00,  6.24it/s]"
     ]
    },
    {
     "name": "stdout",
     "output_type": "stream",
     "text": [
      "                   all        250       2831      0.877       0.83      0.917       0.61\n"
     ]
    },
    {
     "name": "stderr",
     "output_type": "stream",
     "text": [
      "\n"
     ]
    },
    {
     "name": "stdout",
     "output_type": "stream",
     "text": [
      "\n",
      "      Epoch    GPU_mem   box_loss   cls_loss   dfl_loss  Instances       Size\n"
     ]
    },
    {
     "name": "stderr",
     "output_type": "stream",
     "text": [
      "    60/1000      2.85G      1.229     0.7479      1.154         11        640: 100%|██████████| 74/74 [00:09<00:00,  7.86it/s]\n",
      "                 Class     Images  Instances      Box(P          R      mAP50  mAP50-95): 100%|██████████| 8/8 [00:01<00:00,  6.27it/s]"
     ]
    },
    {
     "name": "stdout",
     "output_type": "stream",
     "text": [
      "                   all        250       2831      0.892       0.82      0.919      0.612\n"
     ]
    },
    {
     "name": "stderr",
     "output_type": "stream",
     "text": [
      "\n"
     ]
    },
    {
     "name": "stdout",
     "output_type": "stream",
     "text": [
      "\n",
      "      Epoch    GPU_mem   box_loss   cls_loss   dfl_loss  Instances       Size\n"
     ]
    },
    {
     "name": "stderr",
     "output_type": "stream",
     "text": [
      "    61/1000      3.18G      1.233     0.7352       1.15         21        640: 100%|██████████| 74/74 [00:09<00:00,  7.91it/s]\n",
      "                 Class     Images  Instances      Box(P          R      mAP50  mAP50-95): 100%|██████████| 8/8 [00:01<00:00,  6.36it/s]"
     ]
    },
    {
     "name": "stdout",
     "output_type": "stream",
     "text": [
      "                   all        250       2831      0.885      0.837      0.924      0.604\n"
     ]
    },
    {
     "name": "stderr",
     "output_type": "stream",
     "text": [
      "\n"
     ]
    },
    {
     "name": "stdout",
     "output_type": "stream",
     "text": [
      "\n",
      "      Epoch    GPU_mem   box_loss   cls_loss   dfl_loss  Instances       Size\n"
     ]
    },
    {
     "name": "stderr",
     "output_type": "stream",
     "text": [
      "    62/1000      3.31G      1.226      0.738      1.153         46        640: 100%|██████████| 74/74 [00:09<00:00,  7.81it/s]\n",
      "                 Class     Images  Instances      Box(P          R      mAP50  mAP50-95): 100%|██████████| 8/8 [00:01<00:00,  6.08it/s]"
     ]
    },
    {
     "name": "stdout",
     "output_type": "stream",
     "text": [
      "                   all        250       2831      0.871      0.855      0.928       0.61\n"
     ]
    },
    {
     "name": "stderr",
     "output_type": "stream",
     "text": [
      "\n"
     ]
    },
    {
     "name": "stdout",
     "output_type": "stream",
     "text": [
      "\n",
      "      Epoch    GPU_mem   box_loss   cls_loss   dfl_loss  Instances       Size\n"
     ]
    },
    {
     "name": "stderr",
     "output_type": "stream",
     "text": [
      "    63/1000      3.34G      1.231     0.7386      1.148         19        640: 100%|██████████| 74/74 [00:09<00:00,  7.74it/s]\n",
      "                 Class     Images  Instances      Box(P          R      mAP50  mAP50-95): 100%|██████████| 8/8 [00:01<00:00,  5.83it/s]"
     ]
    },
    {
     "name": "stdout",
     "output_type": "stream",
     "text": [
      "                   all        250       2831      0.887      0.818      0.918      0.613\n"
     ]
    },
    {
     "name": "stderr",
     "output_type": "stream",
     "text": [
      "\n"
     ]
    },
    {
     "name": "stdout",
     "output_type": "stream",
     "text": [
      "\n",
      "      Epoch    GPU_mem   box_loss   cls_loss   dfl_loss  Instances       Size\n"
     ]
    },
    {
     "name": "stderr",
     "output_type": "stream",
     "text": [
      "    64/1000      2.81G      1.239     0.7493      1.154         35        640: 100%|██████████| 74/74 [00:10<00:00,  7.11it/s]\n",
      "                 Class     Images  Instances      Box(P          R      mAP50  mAP50-95): 100%|██████████| 8/8 [00:01<00:00,  5.83it/s]"
     ]
    },
    {
     "name": "stdout",
     "output_type": "stream",
     "text": [
      "                   all        250       2831      0.889      0.813      0.915      0.601\n"
     ]
    },
    {
     "name": "stderr",
     "output_type": "stream",
     "text": [
      "\n"
     ]
    },
    {
     "name": "stdout",
     "output_type": "stream",
     "text": [
      "\n",
      "      Epoch    GPU_mem   box_loss   cls_loss   dfl_loss  Instances       Size\n"
     ]
    },
    {
     "name": "stderr",
     "output_type": "stream",
     "text": [
      "    65/1000      2.82G      1.227     0.7369      1.149         35        640: 100%|██████████| 74/74 [00:10<00:00,  7.16it/s]\n",
      "                 Class     Images  Instances      Box(P          R      mAP50  mAP50-95): 100%|██████████| 8/8 [00:01<00:00,  5.87it/s]"
     ]
    },
    {
     "name": "stdout",
     "output_type": "stream",
     "text": [
      "                   all        250       2831      0.872      0.845      0.923      0.609\n"
     ]
    },
    {
     "name": "stderr",
     "output_type": "stream",
     "text": [
      "\n"
     ]
    },
    {
     "name": "stdout",
     "output_type": "stream",
     "text": [
      "\n",
      "      Epoch    GPU_mem   box_loss   cls_loss   dfl_loss  Instances       Size\n"
     ]
    },
    {
     "name": "stderr",
     "output_type": "stream",
     "text": [
      "    66/1000      2.91G      1.223     0.7331      1.145         35        640: 100%|██████████| 74/74 [00:09<00:00,  7.87it/s]\n",
      "                 Class     Images  Instances      Box(P          R      mAP50  mAP50-95): 100%|██████████| 8/8 [00:01<00:00,  6.32it/s]"
     ]
    },
    {
     "name": "stdout",
     "output_type": "stream",
     "text": [
      "                   all        250       2831      0.892      0.832      0.923      0.608\n"
     ]
    },
    {
     "name": "stderr",
     "output_type": "stream",
     "text": [
      "\n"
     ]
    },
    {
     "name": "stdout",
     "output_type": "stream",
     "text": [
      "\n",
      "      Epoch    GPU_mem   box_loss   cls_loss   dfl_loss  Instances       Size\n"
     ]
    },
    {
     "name": "stderr",
     "output_type": "stream",
     "text": [
      "    67/1000      2.95G      1.225     0.7335      1.149         10        640: 100%|██████████| 74/74 [00:09<00:00,  7.92it/s]\n",
      "                 Class     Images  Instances      Box(P          R      mAP50  mAP50-95): 100%|██████████| 8/8 [00:01<00:00,  6.24it/s]\n"
     ]
    },
    {
     "name": "stdout",
     "output_type": "stream",
     "text": [
      "                   all        250       2831      0.882      0.841      0.924      0.612\n",
      "\n",
      "      Epoch    GPU_mem   box_loss   cls_loss   dfl_loss  Instances       Size\n"
     ]
    },
    {
     "name": "stderr",
     "output_type": "stream",
     "text": [
      "    68/1000      3.07G      1.232     0.7476      1.154         27        640: 100%|██████████| 74/74 [00:09<00:00,  7.83it/s]\n",
      "                 Class     Images  Instances      Box(P          R      mAP50  mAP50-95): 100%|██████████| 8/8 [00:01<00:00,  6.18it/s]"
     ]
    },
    {
     "name": "stdout",
     "output_type": "stream",
     "text": [
      "                   all        250       2831      0.887       0.83      0.919      0.612\n"
     ]
    },
    {
     "name": "stderr",
     "output_type": "stream",
     "text": [
      "\n"
     ]
    },
    {
     "name": "stdout",
     "output_type": "stream",
     "text": [
      "\n",
      "      Epoch    GPU_mem   box_loss   cls_loss   dfl_loss  Instances       Size\n"
     ]
    },
    {
     "name": "stderr",
     "output_type": "stream",
     "text": [
      "    69/1000      3.05G      1.219     0.7391       1.15         31        640: 100%|██████████| 74/74 [00:09<00:00,  7.90it/s]\n",
      "                 Class     Images  Instances      Box(P          R      mAP50  mAP50-95): 100%|██████████| 8/8 [00:01<00:00,  6.19it/s]"
     ]
    },
    {
     "name": "stdout",
     "output_type": "stream",
     "text": [
      "                   all        250       2831      0.886      0.841      0.925      0.618\n"
     ]
    },
    {
     "name": "stderr",
     "output_type": "stream",
     "text": [
      "\n"
     ]
    },
    {
     "name": "stdout",
     "output_type": "stream",
     "text": [
      "\n",
      "      Epoch    GPU_mem   box_loss   cls_loss   dfl_loss  Instances       Size\n"
     ]
    },
    {
     "name": "stderr",
     "output_type": "stream",
     "text": [
      "    70/1000       3.1G      1.227     0.7378      1.149         31        640: 100%|██████████| 74/74 [00:09<00:00,  7.88it/s]\n",
      "                 Class     Images  Instances      Box(P          R      mAP50  mAP50-95): 100%|██████████| 8/8 [00:01<00:00,  6.17it/s]"
     ]
    },
    {
     "name": "stdout",
     "output_type": "stream",
     "text": [
      "                   all        250       2831      0.884       0.84      0.925      0.613\n"
     ]
    },
    {
     "name": "stderr",
     "output_type": "stream",
     "text": [
      "\n"
     ]
    },
    {
     "name": "stdout",
     "output_type": "stream",
     "text": [
      "\n",
      "      Epoch    GPU_mem   box_loss   cls_loss   dfl_loss  Instances       Size\n"
     ]
    },
    {
     "name": "stderr",
     "output_type": "stream",
     "text": [
      "    71/1000      2.75G      1.229     0.7332      1.149         12        640: 100%|██████████| 74/74 [00:09<00:00,  7.78it/s]\n",
      "                 Class     Images  Instances      Box(P          R      mAP50  mAP50-95): 100%|██████████| 8/8 [00:01<00:00,  6.24it/s]"
     ]
    },
    {
     "name": "stdout",
     "output_type": "stream",
     "text": [
      "                   all        250       2831      0.891      0.834      0.924      0.617\n"
     ]
    },
    {
     "name": "stderr",
     "output_type": "stream",
     "text": [
      "\n"
     ]
    },
    {
     "name": "stdout",
     "output_type": "stream",
     "text": [
      "\n",
      "      Epoch    GPU_mem   box_loss   cls_loss   dfl_loss  Instances       Size\n"
     ]
    },
    {
     "name": "stderr",
     "output_type": "stream",
     "text": [
      "    72/1000      3.29G      1.216     0.7278      1.142         43        640: 100%|██████████| 74/74 [00:09<00:00,  7.89it/s]\n",
      "                 Class     Images  Instances      Box(P          R      mAP50  mAP50-95): 100%|██████████| 8/8 [00:01<00:00,  6.24it/s]"
     ]
    },
    {
     "name": "stdout",
     "output_type": "stream",
     "text": [
      "                   all        250       2831      0.907       0.84      0.927      0.617\n"
     ]
    },
    {
     "name": "stderr",
     "output_type": "stream",
     "text": [
      "\n"
     ]
    },
    {
     "name": "stdout",
     "output_type": "stream",
     "text": [
      "\n",
      "      Epoch    GPU_mem   box_loss   cls_loss   dfl_loss  Instances       Size\n"
     ]
    },
    {
     "name": "stderr",
     "output_type": "stream",
     "text": [
      "    73/1000      2.84G      1.208     0.7252      1.135         60        640: 100%|██████████| 74/74 [00:09<00:00,  7.90it/s]\n",
      "                 Class     Images  Instances      Box(P          R      mAP50  mAP50-95): 100%|██████████| 8/8 [00:01<00:00,  6.27it/s]"
     ]
    },
    {
     "name": "stdout",
     "output_type": "stream",
     "text": [
      "                   all        250       2831      0.886      0.827      0.918      0.613\n"
     ]
    },
    {
     "name": "stderr",
     "output_type": "stream",
     "text": [
      "\n"
     ]
    },
    {
     "name": "stdout",
     "output_type": "stream",
     "text": [
      "\n",
      "      Epoch    GPU_mem   box_loss   cls_loss   dfl_loss  Instances       Size\n"
     ]
    },
    {
     "name": "stderr",
     "output_type": "stream",
     "text": [
      "    74/1000      2.99G       1.21     0.7249      1.142         32        640: 100%|██████████| 74/74 [00:09<00:00,  7.92it/s]\n",
      "                 Class     Images  Instances      Box(P          R      mAP50  mAP50-95): 100%|██████████| 8/8 [00:01<00:00,  6.34it/s]"
     ]
    },
    {
     "name": "stdout",
     "output_type": "stream",
     "text": [
      "                   all        250       2831      0.887      0.841      0.927      0.614\n"
     ]
    },
    {
     "name": "stderr",
     "output_type": "stream",
     "text": [
      "\n"
     ]
    },
    {
     "name": "stdout",
     "output_type": "stream",
     "text": [
      "\n",
      "      Epoch    GPU_mem   box_loss   cls_loss   dfl_loss  Instances       Size\n"
     ]
    },
    {
     "name": "stderr",
     "output_type": "stream",
     "text": [
      "    75/1000      3.29G       1.22     0.7289      1.144          8        640: 100%|██████████| 74/74 [00:09<00:00,  7.55it/s]\n",
      "                 Class     Images  Instances      Box(P          R      mAP50  mAP50-95): 100%|██████████| 8/8 [00:01<00:00,  5.82it/s]"
     ]
    },
    {
     "name": "stdout",
     "output_type": "stream",
     "text": [
      "                   all        250       2831      0.905      0.827      0.928      0.617\n"
     ]
    },
    {
     "name": "stderr",
     "output_type": "stream",
     "text": [
      "\n"
     ]
    },
    {
     "name": "stdout",
     "output_type": "stream",
     "text": [
      "\n",
      "      Epoch    GPU_mem   box_loss   cls_loss   dfl_loss  Instances       Size\n"
     ]
    },
    {
     "name": "stderr",
     "output_type": "stream",
     "text": [
      "    76/1000      2.86G       1.22     0.7309      1.148         75        640: 100%|██████████| 74/74 [00:09<00:00,  7.94it/s]\n",
      "                 Class     Images  Instances      Box(P          R      mAP50  mAP50-95): 100%|██████████| 8/8 [00:01<00:00,  6.14it/s]"
     ]
    },
    {
     "name": "stdout",
     "output_type": "stream",
     "text": [
      "                   all        250       2831      0.889      0.836      0.926      0.616\n"
     ]
    },
    {
     "name": "stderr",
     "output_type": "stream",
     "text": [
      "\n"
     ]
    },
    {
     "name": "stdout",
     "output_type": "stream",
     "text": [
      "\n",
      "      Epoch    GPU_mem   box_loss   cls_loss   dfl_loss  Instances       Size\n"
     ]
    },
    {
     "name": "stderr",
     "output_type": "stream",
     "text": [
      "    77/1000      3.23G      1.222     0.7359      1.147         38        640: 100%|██████████| 74/74 [00:09<00:00,  7.92it/s]\n",
      "                 Class     Images  Instances      Box(P          R      mAP50  mAP50-95): 100%|██████████| 8/8 [00:01<00:00,  6.31it/s]"
     ]
    },
    {
     "name": "stdout",
     "output_type": "stream",
     "text": [
      "                   all        250       2831      0.884      0.836      0.923       0.61\n"
     ]
    },
    {
     "name": "stderr",
     "output_type": "stream",
     "text": [
      "\n"
     ]
    },
    {
     "name": "stdout",
     "output_type": "stream",
     "text": [
      "\n",
      "      Epoch    GPU_mem   box_loss   cls_loss   dfl_loss  Instances       Size\n"
     ]
    },
    {
     "name": "stderr",
     "output_type": "stream",
     "text": [
      "    78/1000      2.89G      1.212      0.729      1.144         23        640: 100%|██████████| 74/74 [00:09<00:00,  7.91it/s]\n",
      "                 Class     Images  Instances      Box(P          R      mAP50  mAP50-95): 100%|██████████| 8/8 [00:01<00:00,  6.15it/s]"
     ]
    },
    {
     "name": "stdout",
     "output_type": "stream",
     "text": [
      "                   all        250       2831      0.898      0.842      0.932      0.619\n"
     ]
    },
    {
     "name": "stderr",
     "output_type": "stream",
     "text": [
      "\n"
     ]
    },
    {
     "name": "stdout",
     "output_type": "stream",
     "text": [
      "\n",
      "      Epoch    GPU_mem   box_loss   cls_loss   dfl_loss  Instances       Size\n"
     ]
    },
    {
     "name": "stderr",
     "output_type": "stream",
     "text": [
      "    79/1000      2.74G      1.214     0.7313      1.154         18        640: 100%|██████████| 74/74 [00:09<00:00,  7.72it/s]\n",
      "                 Class     Images  Instances      Box(P          R      mAP50  mAP50-95): 100%|██████████| 8/8 [00:01<00:00,  6.30it/s]"
     ]
    },
    {
     "name": "stdout",
     "output_type": "stream",
     "text": [
      "                   all        250       2831      0.897      0.836      0.926      0.615\n"
     ]
    },
    {
     "name": "stderr",
     "output_type": "stream",
     "text": [
      "\n"
     ]
    },
    {
     "name": "stdout",
     "output_type": "stream",
     "text": [
      "\n",
      "      Epoch    GPU_mem   box_loss   cls_loss   dfl_loss  Instances       Size\n"
     ]
    },
    {
     "name": "stderr",
     "output_type": "stream",
     "text": [
      "    80/1000      2.78G      1.206     0.7251      1.143          9        640: 100%|██████████| 74/74 [00:09<00:00,  7.81it/s]\n",
      "                 Class     Images  Instances      Box(P          R      mAP50  mAP50-95): 100%|██████████| 8/8 [00:01<00:00,  6.21it/s]"
     ]
    },
    {
     "name": "stdout",
     "output_type": "stream",
     "text": [
      "                   all        250       2831      0.883      0.852       0.93      0.616\n"
     ]
    },
    {
     "name": "stderr",
     "output_type": "stream",
     "text": [
      "\n"
     ]
    },
    {
     "name": "stdout",
     "output_type": "stream",
     "text": [
      "\n",
      "      Epoch    GPU_mem   box_loss   cls_loss   dfl_loss  Instances       Size\n"
     ]
    },
    {
     "name": "stderr",
     "output_type": "stream",
     "text": [
      "    81/1000         3G      1.223     0.7291      1.148         34        640: 100%|██████████| 74/74 [00:09<00:00,  7.84it/s]\n",
      "                 Class     Images  Instances      Box(P          R      mAP50  mAP50-95): 100%|██████████| 8/8 [00:01<00:00,  6.25it/s]"
     ]
    },
    {
     "name": "stdout",
     "output_type": "stream",
     "text": [
      "                   all        250       2831      0.871      0.845      0.923      0.609\n"
     ]
    },
    {
     "name": "stderr",
     "output_type": "stream",
     "text": [
      "\n"
     ]
    },
    {
     "name": "stdout",
     "output_type": "stream",
     "text": [
      "\n",
      "      Epoch    GPU_mem   box_loss   cls_loss   dfl_loss  Instances       Size\n"
     ]
    },
    {
     "name": "stderr",
     "output_type": "stream",
     "text": [
      "    82/1000       3.1G      1.217      0.728      1.147         24        640: 100%|██████████| 74/74 [00:09<00:00,  7.86it/s]\n",
      "                 Class     Images  Instances      Box(P          R      mAP50  mAP50-95): 100%|██████████| 8/8 [00:01<00:00,  6.23it/s]"
     ]
    },
    {
     "name": "stdout",
     "output_type": "stream",
     "text": [
      "                   all        250       2831      0.889      0.844      0.925      0.622\n"
     ]
    },
    {
     "name": "stderr",
     "output_type": "stream",
     "text": [
      "\n"
     ]
    },
    {
     "name": "stdout",
     "output_type": "stream",
     "text": [
      "\n",
      "      Epoch    GPU_mem   box_loss   cls_loss   dfl_loss  Instances       Size\n"
     ]
    },
    {
     "name": "stderr",
     "output_type": "stream",
     "text": [
      "    83/1000      2.72G      1.213     0.7263      1.141         12        640: 100%|██████████| 74/74 [00:09<00:00,  7.97it/s]\n",
      "                 Class     Images  Instances      Box(P          R      mAP50  mAP50-95): 100%|██████████| 8/8 [00:01<00:00,  6.25it/s]"
     ]
    },
    {
     "name": "stdout",
     "output_type": "stream",
     "text": [
      "                   all        250       2831      0.888      0.827      0.918      0.612\n"
     ]
    },
    {
     "name": "stderr",
     "output_type": "stream",
     "text": [
      "\n"
     ]
    },
    {
     "name": "stdout",
     "output_type": "stream",
     "text": [
      "\n",
      "      Epoch    GPU_mem   box_loss   cls_loss   dfl_loss  Instances       Size\n"
     ]
    },
    {
     "name": "stderr",
     "output_type": "stream",
     "text": [
      "    84/1000      2.93G       1.22     0.7219      1.141         27        640: 100%|██████████| 74/74 [00:09<00:00,  7.89it/s]\n",
      "                 Class     Images  Instances      Box(P          R      mAP50  mAP50-95): 100%|██████████| 8/8 [00:01<00:00,  6.15it/s]"
     ]
    },
    {
     "name": "stdout",
     "output_type": "stream",
     "text": [
      "                   all        250       2831      0.887      0.836      0.924      0.616\n"
     ]
    },
    {
     "name": "stderr",
     "output_type": "stream",
     "text": [
      "\n"
     ]
    },
    {
     "name": "stdout",
     "output_type": "stream",
     "text": [
      "\n",
      "      Epoch    GPU_mem   box_loss   cls_loss   dfl_loss  Instances       Size\n"
     ]
    },
    {
     "name": "stderr",
     "output_type": "stream",
     "text": [
      "    85/1000       3.1G      1.207     0.7254      1.144         20        640: 100%|██████████| 74/74 [00:09<00:00,  7.82it/s]\n",
      "                 Class     Images  Instances      Box(P          R      mAP50  mAP50-95): 100%|██████████| 8/8 [00:01<00:00,  6.15it/s]"
     ]
    },
    {
     "name": "stdout",
     "output_type": "stream",
     "text": [
      "                   all        250       2831      0.878      0.843      0.927      0.617\n"
     ]
    },
    {
     "name": "stderr",
     "output_type": "stream",
     "text": [
      "\n"
     ]
    },
    {
     "name": "stdout",
     "output_type": "stream",
     "text": [
      "\n",
      "      Epoch    GPU_mem   box_loss   cls_loss   dfl_loss  Instances       Size\n"
     ]
    },
    {
     "name": "stderr",
     "output_type": "stream",
     "text": [
      "    86/1000      2.92G      1.207     0.7142      1.142         23        640: 100%|██████████| 74/74 [00:09<00:00,  7.86it/s]\n",
      "                 Class     Images  Instances      Box(P          R      mAP50  mAP50-95): 100%|██████████| 8/8 [00:01<00:00,  6.21it/s]"
     ]
    },
    {
     "name": "stdout",
     "output_type": "stream",
     "text": [
      "                   all        250       2831      0.874       0.82      0.911      0.585\n"
     ]
    },
    {
     "name": "stderr",
     "output_type": "stream",
     "text": [
      "\n"
     ]
    },
    {
     "name": "stdout",
     "output_type": "stream",
     "text": [
      "\n",
      "      Epoch    GPU_mem   box_loss   cls_loss   dfl_loss  Instances       Size\n"
     ]
    },
    {
     "name": "stderr",
     "output_type": "stream",
     "text": [
      "    87/1000      3.24G      1.205     0.7196      1.138         19        640: 100%|██████████| 74/74 [00:09<00:00,  7.71it/s]\n",
      "                 Class     Images  Instances      Box(P          R      mAP50  mAP50-95): 100%|██████████| 8/8 [00:01<00:00,  6.36it/s]"
     ]
    },
    {
     "name": "stdout",
     "output_type": "stream",
     "text": [
      "                   all        250       2831      0.894      0.816      0.922      0.611\n"
     ]
    },
    {
     "name": "stderr",
     "output_type": "stream",
     "text": [
      "\n"
     ]
    },
    {
     "name": "stdout",
     "output_type": "stream",
     "text": [
      "\n",
      "      Epoch    GPU_mem   box_loss   cls_loss   dfl_loss  Instances       Size\n"
     ]
    },
    {
     "name": "stderr",
     "output_type": "stream",
     "text": [
      "    88/1000       2.8G      1.208     0.7164      1.139         22        640: 100%|██████████| 74/74 [00:09<00:00,  7.83it/s]\n",
      "                 Class     Images  Instances      Box(P          R      mAP50  mAP50-95): 100%|██████████| 8/8 [00:01<00:00,  6.26it/s]"
     ]
    },
    {
     "name": "stdout",
     "output_type": "stream",
     "text": [
      "                   all        250       2831      0.892      0.844      0.925      0.616\n"
     ]
    },
    {
     "name": "stderr",
     "output_type": "stream",
     "text": [
      "\n"
     ]
    },
    {
     "name": "stdout",
     "output_type": "stream",
     "text": [
      "\n",
      "      Epoch    GPU_mem   box_loss   cls_loss   dfl_loss  Instances       Size\n"
     ]
    },
    {
     "name": "stderr",
     "output_type": "stream",
     "text": [
      "    89/1000      2.74G      1.217     0.7193      1.144         17        640: 100%|██████████| 74/74 [00:09<00:00,  7.94it/s]\n",
      "                 Class     Images  Instances      Box(P          R      mAP50  mAP50-95): 100%|██████████| 8/8 [00:01<00:00,  6.33it/s]"
     ]
    },
    {
     "name": "stdout",
     "output_type": "stream",
     "text": [
      "                   all        250       2831      0.875       0.84      0.921      0.611\n"
     ]
    },
    {
     "name": "stderr",
     "output_type": "stream",
     "text": [
      "\n"
     ]
    },
    {
     "name": "stdout",
     "output_type": "stream",
     "text": [
      "\n",
      "      Epoch    GPU_mem   box_loss   cls_loss   dfl_loss  Instances       Size\n"
     ]
    },
    {
     "name": "stderr",
     "output_type": "stream",
     "text": [
      "    90/1000      3.12G      1.214     0.7262      1.142         16        640: 100%|██████████| 74/74 [00:09<00:00,  7.81it/s]\n",
      "                 Class     Images  Instances      Box(P          R      mAP50  mAP50-95): 100%|██████████| 8/8 [00:01<00:00,  6.03it/s]"
     ]
    },
    {
     "name": "stdout",
     "output_type": "stream",
     "text": [
      "                   all        250       2831      0.893      0.835      0.927      0.619\n"
     ]
    },
    {
     "name": "stderr",
     "output_type": "stream",
     "text": [
      "\n"
     ]
    },
    {
     "name": "stdout",
     "output_type": "stream",
     "text": [
      "\n",
      "      Epoch    GPU_mem   box_loss   cls_loss   dfl_loss  Instances       Size\n"
     ]
    },
    {
     "name": "stderr",
     "output_type": "stream",
     "text": [
      "    91/1000      2.69G      1.207     0.7226      1.145         13        640: 100%|██████████| 74/74 [00:09<00:00,  7.90it/s]\n",
      "                 Class     Images  Instances      Box(P          R      mAP50  mAP50-95): 100%|██████████| 8/8 [00:01<00:00,  6.02it/s]"
     ]
    },
    {
     "name": "stdout",
     "output_type": "stream",
     "text": [
      "                   all        250       2831      0.886      0.843      0.926      0.616\n"
     ]
    },
    {
     "name": "stderr",
     "output_type": "stream",
     "text": [
      "\n"
     ]
    },
    {
     "name": "stdout",
     "output_type": "stream",
     "text": [
      "\n",
      "      Epoch    GPU_mem   box_loss   cls_loss   dfl_loss  Instances       Size\n"
     ]
    },
    {
     "name": "stderr",
     "output_type": "stream",
     "text": [
      "    92/1000      2.79G      1.205       0.71      1.139         22        640: 100%|██████████| 74/74 [00:09<00:00,  7.87it/s]\n",
      "                 Class     Images  Instances      Box(P          R      mAP50  mAP50-95): 100%|██████████| 8/8 [00:01<00:00,  6.12it/s]"
     ]
    },
    {
     "name": "stdout",
     "output_type": "stream",
     "text": [
      "                   all        250       2831      0.882      0.845      0.929      0.612\n"
     ]
    },
    {
     "name": "stderr",
     "output_type": "stream",
     "text": [
      "\n"
     ]
    },
    {
     "name": "stdout",
     "output_type": "stream",
     "text": [
      "\n",
      "      Epoch    GPU_mem   box_loss   cls_loss   dfl_loss  Instances       Size\n"
     ]
    },
    {
     "name": "stderr",
     "output_type": "stream",
     "text": [
      "    93/1000      3.06G      1.204     0.7144      1.132         24        640: 100%|██████████| 74/74 [00:09<00:00,  7.82it/s]\n",
      "                 Class     Images  Instances      Box(P          R      mAP50  mAP50-95): 100%|██████████| 8/8 [00:01<00:00,  6.13it/s]"
     ]
    },
    {
     "name": "stdout",
     "output_type": "stream",
     "text": [
      "                   all        250       2831      0.867      0.839      0.919      0.604\n"
     ]
    },
    {
     "name": "stderr",
     "output_type": "stream",
     "text": [
      "\n"
     ]
    },
    {
     "name": "stdout",
     "output_type": "stream",
     "text": [
      "\n",
      "      Epoch    GPU_mem   box_loss   cls_loss   dfl_loss  Instances       Size\n"
     ]
    },
    {
     "name": "stderr",
     "output_type": "stream",
     "text": [
      "    94/1000      3.16G      1.204     0.7165      1.135         32        640: 100%|██████████| 74/74 [00:09<00:00,  7.62it/s]\n",
      "                 Class     Images  Instances      Box(P          R      mAP50  mAP50-95): 100%|██████████| 8/8 [00:01<00:00,  5.98it/s]"
     ]
    },
    {
     "name": "stdout",
     "output_type": "stream",
     "text": [
      "                   all        250       2831      0.876      0.833      0.921      0.615\n"
     ]
    },
    {
     "name": "stderr",
     "output_type": "stream",
     "text": [
      "\n"
     ]
    },
    {
     "name": "stdout",
     "output_type": "stream",
     "text": [
      "\n",
      "      Epoch    GPU_mem   box_loss   cls_loss   dfl_loss  Instances       Size\n"
     ]
    },
    {
     "name": "stderr",
     "output_type": "stream",
     "text": [
      "    95/1000      3.31G      1.202     0.7171      1.134         35        640: 100%|██████████| 74/74 [00:09<00:00,  7.79it/s]\n",
      "                 Class     Images  Instances      Box(P          R      mAP50  mAP50-95): 100%|██████████| 8/8 [00:01<00:00,  6.18it/s]"
     ]
    },
    {
     "name": "stdout",
     "output_type": "stream",
     "text": [
      "                   all        250       2831       0.88      0.835       0.92      0.607\n"
     ]
    },
    {
     "name": "stderr",
     "output_type": "stream",
     "text": [
      "\n"
     ]
    },
    {
     "name": "stdout",
     "output_type": "stream",
     "text": [
      "\n",
      "      Epoch    GPU_mem   box_loss   cls_loss   dfl_loss  Instances       Size\n"
     ]
    },
    {
     "name": "stderr",
     "output_type": "stream",
     "text": [
      "    96/1000      2.77G      1.212     0.7197      1.137         42        640: 100%|██████████| 74/74 [00:09<00:00,  7.66it/s]\n",
      "                 Class     Images  Instances      Box(P          R      mAP50  mAP50-95): 100%|██████████| 8/8 [00:01<00:00,  6.15it/s]\n"
     ]
    },
    {
     "name": "stdout",
     "output_type": "stream",
     "text": [
      "                   all        250       2831      0.881      0.839      0.919      0.616\n",
      "\n",
      "      Epoch    GPU_mem   box_loss   cls_loss   dfl_loss  Instances       Size\n"
     ]
    },
    {
     "name": "stderr",
     "output_type": "stream",
     "text": [
      "    97/1000      3.35G      1.205     0.7153      1.133         39        640: 100%|██████████| 74/74 [00:09<00:00,  7.86it/s]\n",
      "                 Class     Images  Instances      Box(P          R      mAP50  mAP50-95): 100%|██████████| 8/8 [00:01<00:00,  6.20it/s]"
     ]
    },
    {
     "name": "stdout",
     "output_type": "stream",
     "text": [
      "                   all        250       2831      0.904      0.815      0.921      0.614\n"
     ]
    },
    {
     "name": "stderr",
     "output_type": "stream",
     "text": [
      "\n"
     ]
    },
    {
     "name": "stdout",
     "output_type": "stream",
     "text": [
      "\n",
      "      Epoch    GPU_mem   box_loss   cls_loss   dfl_loss  Instances       Size\n"
     ]
    },
    {
     "name": "stderr",
     "output_type": "stream",
     "text": [
      "    98/1000      2.69G      1.209     0.7243      1.137         25        640: 100%|██████████| 74/74 [00:09<00:00,  7.73it/s]\n",
      "                 Class     Images  Instances      Box(P          R      mAP50  mAP50-95): 100%|██████████| 8/8 [00:01<00:00,  6.04it/s]"
     ]
    },
    {
     "name": "stdout",
     "output_type": "stream",
     "text": [
      "                   all        250       2831      0.891       0.84      0.929      0.619\n"
     ]
    },
    {
     "name": "stderr",
     "output_type": "stream",
     "text": [
      "\n"
     ]
    },
    {
     "name": "stdout",
     "output_type": "stream",
     "text": [
      "\n",
      "      Epoch    GPU_mem   box_loss   cls_loss   dfl_loss  Instances       Size\n"
     ]
    },
    {
     "name": "stderr",
     "output_type": "stream",
     "text": [
      "    99/1000      3.11G      1.181      0.703      1.129         55        640: 100%|██████████| 74/74 [00:09<00:00,  7.62it/s]\n",
      "                 Class     Images  Instances      Box(P          R      mAP50  mAP50-95): 100%|██████████| 8/8 [00:01<00:00,  6.21it/s]"
     ]
    },
    {
     "name": "stdout",
     "output_type": "stream",
     "text": [
      "                   all        250       2831       0.89      0.829      0.921      0.608\n"
     ]
    },
    {
     "name": "stderr",
     "output_type": "stream",
     "text": [
      "\n"
     ]
    },
    {
     "name": "stdout",
     "output_type": "stream",
     "text": [
      "\n",
      "      Epoch    GPU_mem   box_loss   cls_loss   dfl_loss  Instances       Size\n"
     ]
    },
    {
     "name": "stderr",
     "output_type": "stream",
     "text": [
      "   100/1000      2.67G      1.204     0.7105      1.136         40        640: 100%|██████████| 74/74 [00:09<00:00,  7.72it/s]\n",
      "                 Class     Images  Instances      Box(P          R      mAP50  mAP50-95): 100%|██████████| 8/8 [00:01<00:00,  6.17it/s]"
     ]
    },
    {
     "name": "stdout",
     "output_type": "stream",
     "text": [
      "                   all        250       2831      0.894      0.836      0.927      0.616\n"
     ]
    },
    {
     "name": "stderr",
     "output_type": "stream",
     "text": [
      "\n"
     ]
    },
    {
     "name": "stdout",
     "output_type": "stream",
     "text": [
      "\n",
      "      Epoch    GPU_mem   box_loss   cls_loss   dfl_loss  Instances       Size\n"
     ]
    },
    {
     "name": "stderr",
     "output_type": "stream",
     "text": [
      "   101/1000      2.98G      1.186     0.7006       1.13         24        640: 100%|██████████| 74/74 [00:09<00:00,  7.77it/s]\n",
      "                 Class     Images  Instances      Box(P          R      mAP50  mAP50-95): 100%|██████████| 8/8 [00:01<00:00,  5.97it/s]"
     ]
    },
    {
     "name": "stdout",
     "output_type": "stream",
     "text": [
      "                   all        250       2831      0.898      0.838       0.93      0.615\n"
     ]
    },
    {
     "name": "stderr",
     "output_type": "stream",
     "text": [
      "\n"
     ]
    },
    {
     "name": "stdout",
     "output_type": "stream",
     "text": [
      "\n",
      "      Epoch    GPU_mem   box_loss   cls_loss   dfl_loss  Instances       Size\n"
     ]
    },
    {
     "name": "stderr",
     "output_type": "stream",
     "text": [
      "   102/1000      2.87G      1.193     0.7064      1.131         56        640: 100%|██████████| 74/74 [00:09<00:00,  7.80it/s]\n",
      "                 Class     Images  Instances      Box(P          R      mAP50  mAP50-95): 100%|██████████| 8/8 [00:01<00:00,  5.80it/s]"
     ]
    },
    {
     "name": "stdout",
     "output_type": "stream",
     "text": [
      "                   all        250       2831       0.89      0.842      0.925      0.617\n"
     ]
    },
    {
     "name": "stderr",
     "output_type": "stream",
     "text": [
      "\n"
     ]
    },
    {
     "name": "stdout",
     "output_type": "stream",
     "text": [
      "\n",
      "      Epoch    GPU_mem   box_loss   cls_loss   dfl_loss  Instances       Size\n"
     ]
    },
    {
     "name": "stderr",
     "output_type": "stream",
     "text": [
      "   103/1000      2.85G      1.212     0.7157      1.136         32        640: 100%|██████████| 74/74 [00:09<00:00,  7.74it/s]\n",
      "                 Class     Images  Instances      Box(P          R      mAP50  mAP50-95): 100%|██████████| 8/8 [00:01<00:00,  6.09it/s]"
     ]
    },
    {
     "name": "stdout",
     "output_type": "stream",
     "text": [
      "                   all        250       2831      0.886      0.835      0.924      0.608\n"
     ]
    },
    {
     "name": "stderr",
     "output_type": "stream",
     "text": [
      "\n"
     ]
    },
    {
     "name": "stdout",
     "output_type": "stream",
     "text": [
      "\n",
      "      Epoch    GPU_mem   box_loss   cls_loss   dfl_loss  Instances       Size\n"
     ]
    },
    {
     "name": "stderr",
     "output_type": "stream",
     "text": [
      "   104/1000      3.05G       1.21     0.7168      1.142         28        640: 100%|██████████| 74/74 [00:09<00:00,  7.73it/s]\n",
      "                 Class     Images  Instances      Box(P          R      mAP50  mAP50-95): 100%|██████████| 8/8 [00:01<00:00,  6.22it/s]"
     ]
    },
    {
     "name": "stdout",
     "output_type": "stream",
     "text": [
      "                   all        250       2831      0.887      0.824      0.918       0.61\n"
     ]
    },
    {
     "name": "stderr",
     "output_type": "stream",
     "text": [
      "\n"
     ]
    },
    {
     "name": "stdout",
     "output_type": "stream",
     "text": [
      "\n",
      "      Epoch    GPU_mem   box_loss   cls_loss   dfl_loss  Instances       Size\n"
     ]
    },
    {
     "name": "stderr",
     "output_type": "stream",
     "text": [
      "   105/1000      2.93G      1.208      0.715      1.141         12        640: 100%|██████████| 74/74 [00:09<00:00,  7.73it/s]\n",
      "                 Class     Images  Instances      Box(P          R      mAP50  mAP50-95): 100%|██████████| 8/8 [00:01<00:00,  6.06it/s]"
     ]
    },
    {
     "name": "stdout",
     "output_type": "stream",
     "text": [
      "                   all        250       2831      0.898      0.833      0.924      0.615\n"
     ]
    },
    {
     "name": "stderr",
     "output_type": "stream",
     "text": [
      "\n"
     ]
    },
    {
     "name": "stdout",
     "output_type": "stream",
     "text": [
      "\n",
      "      Epoch    GPU_mem   box_loss   cls_loss   dfl_loss  Instances       Size\n"
     ]
    },
    {
     "name": "stderr",
     "output_type": "stream",
     "text": [
      "   106/1000      2.92G      1.213     0.7135       1.14         21        640: 100%|██████████| 74/74 [00:09<00:00,  7.71it/s]\n",
      "                 Class     Images  Instances      Box(P          R      mAP50  mAP50-95): 100%|██████████| 8/8 [00:01<00:00,  6.15it/s]"
     ]
    },
    {
     "name": "stdout",
     "output_type": "stream",
     "text": [
      "                   all        250       2831      0.889      0.846      0.927      0.623\n"
     ]
    },
    {
     "name": "stderr",
     "output_type": "stream",
     "text": [
      "\n"
     ]
    },
    {
     "name": "stdout",
     "output_type": "stream",
     "text": [
      "\n",
      "      Epoch    GPU_mem   box_loss   cls_loss   dfl_loss  Instances       Size\n"
     ]
    },
    {
     "name": "stderr",
     "output_type": "stream",
     "text": [
      "   107/1000      3.33G      1.196     0.7122      1.135         52        640: 100%|██████████| 74/74 [00:09<00:00,  7.76it/s]\n",
      "                 Class     Images  Instances      Box(P          R      mAP50  mAP50-95): 100%|██████████| 8/8 [00:01<00:00,  6.13it/s]"
     ]
    },
    {
     "name": "stdout",
     "output_type": "stream",
     "text": [
      "                   all        250       2831      0.904      0.822       0.92      0.613\n"
     ]
    },
    {
     "name": "stderr",
     "output_type": "stream",
     "text": [
      "\n"
     ]
    },
    {
     "name": "stdout",
     "output_type": "stream",
     "text": [
      "\n",
      "      Epoch    GPU_mem   box_loss   cls_loss   dfl_loss  Instances       Size\n"
     ]
    },
    {
     "name": "stderr",
     "output_type": "stream",
     "text": [
      "   108/1000      2.86G      1.201     0.7111      1.141         11        640: 100%|██████████| 74/74 [00:09<00:00,  7.75it/s]\n",
      "                 Class     Images  Instances      Box(P          R      mAP50  mAP50-95): 100%|██████████| 8/8 [00:01<00:00,  6.17it/s]"
     ]
    },
    {
     "name": "stdout",
     "output_type": "stream",
     "text": [
      "                   all        250       2831      0.883      0.854      0.929      0.609\n"
     ]
    },
    {
     "name": "stderr",
     "output_type": "stream",
     "text": [
      "\n"
     ]
    },
    {
     "name": "stdout",
     "output_type": "stream",
     "text": [
      "\n",
      "      Epoch    GPU_mem   box_loss   cls_loss   dfl_loss  Instances       Size\n"
     ]
    },
    {
     "name": "stderr",
     "output_type": "stream",
     "text": [
      "   109/1000      3.08G      1.203     0.7085      1.141         32        640: 100%|██████████| 74/74 [00:09<00:00,  7.76it/s]\n",
      "                 Class     Images  Instances      Box(P          R      mAP50  mAP50-95): 100%|██████████| 8/8 [00:01<00:00,  5.96it/s]"
     ]
    },
    {
     "name": "stdout",
     "output_type": "stream",
     "text": [
      "                   all        250       2831      0.893      0.842      0.927      0.624\n"
     ]
    },
    {
     "name": "stderr",
     "output_type": "stream",
     "text": [
      "\n"
     ]
    },
    {
     "name": "stdout",
     "output_type": "stream",
     "text": [
      "\n",
      "      Epoch    GPU_mem   box_loss   cls_loss   dfl_loss  Instances       Size\n"
     ]
    },
    {
     "name": "stderr",
     "output_type": "stream",
     "text": [
      "   110/1000      2.84G      1.198     0.7092      1.137         40        640: 100%|██████████| 74/74 [00:09<00:00,  7.89it/s]\n",
      "                 Class     Images  Instances      Box(P          R      mAP50  mAP50-95): 100%|██████████| 8/8 [00:01<00:00,  6.29it/s]"
     ]
    },
    {
     "name": "stdout",
     "output_type": "stream",
     "text": [
      "                   all        250       2831      0.868      0.839      0.915      0.608\n"
     ]
    },
    {
     "name": "stderr",
     "output_type": "stream",
     "text": [
      "\n"
     ]
    },
    {
     "name": "stdout",
     "output_type": "stream",
     "text": [
      "\n",
      "      Epoch    GPU_mem   box_loss   cls_loss   dfl_loss  Instances       Size\n"
     ]
    },
    {
     "name": "stderr",
     "output_type": "stream",
     "text": [
      "   111/1000      2.94G      1.209     0.7043       1.14         20        640: 100%|██████████| 74/74 [00:09<00:00,  7.76it/s]\n",
      "                 Class     Images  Instances      Box(P          R      mAP50  mAP50-95): 100%|██████████| 8/8 [00:01<00:00,  6.09it/s]"
     ]
    },
    {
     "name": "stdout",
     "output_type": "stream",
     "text": [
      "                   all        250       2831      0.886      0.834      0.927      0.615\n"
     ]
    },
    {
     "name": "stderr",
     "output_type": "stream",
     "text": [
      "\n"
     ]
    },
    {
     "name": "stdout",
     "output_type": "stream",
     "text": [
      "\n",
      "      Epoch    GPU_mem   box_loss   cls_loss   dfl_loss  Instances       Size\n"
     ]
    },
    {
     "name": "stderr",
     "output_type": "stream",
     "text": [
      "   112/1000      3.01G      1.203     0.7151      1.136         35        640: 100%|██████████| 74/74 [00:09<00:00,  7.86it/s]\n",
      "                 Class     Images  Instances      Box(P          R      mAP50  mAP50-95): 100%|██████████| 8/8 [00:01<00:00,  6.16it/s]"
     ]
    },
    {
     "name": "stdout",
     "output_type": "stream",
     "text": [
      "                   all        250       2831      0.893      0.841      0.929      0.623\n"
     ]
    },
    {
     "name": "stderr",
     "output_type": "stream",
     "text": [
      "\n"
     ]
    },
    {
     "name": "stdout",
     "output_type": "stream",
     "text": [
      "\n",
      "      Epoch    GPU_mem   box_loss   cls_loss   dfl_loss  Instances       Size\n"
     ]
    },
    {
     "name": "stderr",
     "output_type": "stream",
     "text": [
      "   113/1000       2.7G        1.2     0.7029      1.129         12        640: 100%|██████████| 74/74 [00:09<00:00,  7.77it/s]\n",
      "                 Class     Images  Instances      Box(P          R      mAP50  mAP50-95): 100%|██████████| 8/8 [00:01<00:00,  6.04it/s]"
     ]
    },
    {
     "name": "stdout",
     "output_type": "stream",
     "text": [
      "                   all        250       2831      0.878      0.839      0.927      0.616\n"
     ]
    },
    {
     "name": "stderr",
     "output_type": "stream",
     "text": [
      "\n"
     ]
    },
    {
     "name": "stdout",
     "output_type": "stream",
     "text": [
      "\n",
      "      Epoch    GPU_mem   box_loss   cls_loss   dfl_loss  Instances       Size\n"
     ]
    },
    {
     "name": "stderr",
     "output_type": "stream",
     "text": [
      "   114/1000      2.86G      1.193     0.7089      1.132         44        640: 100%|██████████| 74/74 [00:09<00:00,  7.94it/s]\n",
      "                 Class     Images  Instances      Box(P          R      mAP50  mAP50-95): 100%|██████████| 8/8 [00:01<00:00,  6.19it/s]"
     ]
    },
    {
     "name": "stdout",
     "output_type": "stream",
     "text": [
      "                   all        250       2831      0.878      0.857      0.932      0.621\n"
     ]
    },
    {
     "name": "stderr",
     "output_type": "stream",
     "text": [
      "\n"
     ]
    },
    {
     "name": "stdout",
     "output_type": "stream",
     "text": [
      "\n",
      "      Epoch    GPU_mem   box_loss   cls_loss   dfl_loss  Instances       Size\n"
     ]
    },
    {
     "name": "stderr",
     "output_type": "stream",
     "text": [
      "   115/1000      2.81G        1.2     0.7019      1.139         40        640: 100%|██████████| 74/74 [00:09<00:00,  7.80it/s]\n",
      "                 Class     Images  Instances      Box(P          R      mAP50  mAP50-95): 100%|██████████| 8/8 [00:01<00:00,  6.04it/s]"
     ]
    },
    {
     "name": "stdout",
     "output_type": "stream",
     "text": [
      "                   all        250       2831      0.881      0.865      0.933      0.628\n"
     ]
    },
    {
     "name": "stderr",
     "output_type": "stream",
     "text": [
      "\n"
     ]
    },
    {
     "name": "stdout",
     "output_type": "stream",
     "text": [
      "\n",
      "      Epoch    GPU_mem   box_loss   cls_loss   dfl_loss  Instances       Size\n"
     ]
    },
    {
     "name": "stderr",
     "output_type": "stream",
     "text": [
      "   116/1000      3.03G      1.192     0.7011      1.133         25        640: 100%|██████████| 74/74 [00:09<00:00,  7.83it/s]\n",
      "                 Class     Images  Instances      Box(P          R      mAP50  mAP50-95): 100%|██████████| 8/8 [00:01<00:00,  6.40it/s]"
     ]
    },
    {
     "name": "stdout",
     "output_type": "stream",
     "text": [
      "                   all        250       2831      0.881      0.823      0.914      0.608\n"
     ]
    },
    {
     "name": "stderr",
     "output_type": "stream",
     "text": [
      "\n"
     ]
    },
    {
     "name": "stdout",
     "output_type": "stream",
     "text": [
      "\n",
      "      Epoch    GPU_mem   box_loss   cls_loss   dfl_loss  Instances       Size\n"
     ]
    },
    {
     "name": "stderr",
     "output_type": "stream",
     "text": [
      "   117/1000      2.89G      1.196     0.7015      1.131         17        640: 100%|██████████| 74/74 [00:09<00:00,  7.80it/s]\n",
      "                 Class     Images  Instances      Box(P          R      mAP50  mAP50-95): 100%|██████████| 8/8 [00:01<00:00,  6.22it/s]"
     ]
    },
    {
     "name": "stdout",
     "output_type": "stream",
     "text": [
      "                   all        250       2831      0.902      0.829      0.926      0.622\n"
     ]
    },
    {
     "name": "stderr",
     "output_type": "stream",
     "text": [
      "\n"
     ]
    },
    {
     "name": "stdout",
     "output_type": "stream",
     "text": [
      "\n",
      "      Epoch    GPU_mem   box_loss   cls_loss   dfl_loss  Instances       Size\n"
     ]
    },
    {
     "name": "stderr",
     "output_type": "stream",
     "text": [
      "   118/1000      2.95G      1.192     0.7024      1.136         40        640: 100%|██████████| 74/74 [00:09<00:00,  7.93it/s]\n",
      "                 Class     Images  Instances      Box(P          R      mAP50  mAP50-95): 100%|██████████| 8/8 [00:01<00:00,  6.15it/s]"
     ]
    },
    {
     "name": "stdout",
     "output_type": "stream",
     "text": [
      "                   all        250       2831      0.907      0.832       0.93      0.624\n"
     ]
    },
    {
     "name": "stderr",
     "output_type": "stream",
     "text": [
      "\n"
     ]
    },
    {
     "name": "stdout",
     "output_type": "stream",
     "text": [
      "\n",
      "      Epoch    GPU_mem   box_loss   cls_loss   dfl_loss  Instances       Size\n"
     ]
    },
    {
     "name": "stderr",
     "output_type": "stream",
     "text": [
      "   119/1000      2.85G      1.189     0.7017      1.133         31        640: 100%|██████████| 74/74 [00:09<00:00,  7.94it/s]\n",
      "                 Class     Images  Instances      Box(P          R      mAP50  mAP50-95): 100%|██████████| 8/8 [00:01<00:00,  6.21it/s]"
     ]
    },
    {
     "name": "stdout",
     "output_type": "stream",
     "text": [
      "                   all        250       2831      0.873      0.818      0.911      0.586\n"
     ]
    },
    {
     "name": "stderr",
     "output_type": "stream",
     "text": [
      "\n"
     ]
    },
    {
     "name": "stdout",
     "output_type": "stream",
     "text": [
      "\n",
      "      Epoch    GPU_mem   box_loss   cls_loss   dfl_loss  Instances       Size\n"
     ]
    },
    {
     "name": "stderr",
     "output_type": "stream",
     "text": [
      "   120/1000      2.99G        1.2      0.709      1.138         45        640: 100%|██████████| 74/74 [00:09<00:00,  7.82it/s]\n",
      "                 Class     Images  Instances      Box(P          R      mAP50  mAP50-95): 100%|██████████| 8/8 [00:01<00:00,  6.15it/s]"
     ]
    },
    {
     "name": "stdout",
     "output_type": "stream",
     "text": [
      "                   all        250       2831      0.893      0.838      0.932      0.619\n"
     ]
    },
    {
     "name": "stderr",
     "output_type": "stream",
     "text": [
      "\n"
     ]
    },
    {
     "name": "stdout",
     "output_type": "stream",
     "text": [
      "\n",
      "      Epoch    GPU_mem   box_loss   cls_loss   dfl_loss  Instances       Size\n"
     ]
    },
    {
     "name": "stderr",
     "output_type": "stream",
     "text": [
      "   121/1000      3.04G      1.188     0.7096      1.131          5        640: 100%|██████████| 74/74 [00:09<00:00,  7.89it/s]\n",
      "                 Class     Images  Instances      Box(P          R      mAP50  mAP50-95): 100%|██████████| 8/8 [00:01<00:00,  6.17it/s]"
     ]
    },
    {
     "name": "stdout",
     "output_type": "stream",
     "text": [
      "                   all        250       2831      0.896      0.825      0.921      0.617\n"
     ]
    },
    {
     "name": "stderr",
     "output_type": "stream",
     "text": [
      "\n"
     ]
    },
    {
     "name": "stdout",
     "output_type": "stream",
     "text": [
      "\n",
      "      Epoch    GPU_mem   box_loss   cls_loss   dfl_loss  Instances       Size\n"
     ]
    },
    {
     "name": "stderr",
     "output_type": "stream",
     "text": [
      "   122/1000      2.74G      1.183     0.7012      1.134         30        640: 100%|██████████| 74/74 [00:09<00:00,  7.94it/s]\n",
      "                 Class     Images  Instances      Box(P          R      mAP50  mAP50-95): 100%|██████████| 8/8 [00:01<00:00,  6.07it/s]"
     ]
    },
    {
     "name": "stdout",
     "output_type": "stream",
     "text": [
      "                   all        250       2831        0.9      0.839       0.93      0.621\n"
     ]
    },
    {
     "name": "stderr",
     "output_type": "stream",
     "text": [
      "\n"
     ]
    },
    {
     "name": "stdout",
     "output_type": "stream",
     "text": [
      "\n",
      "      Epoch    GPU_mem   box_loss   cls_loss   dfl_loss  Instances       Size\n"
     ]
    },
    {
     "name": "stderr",
     "output_type": "stream",
     "text": [
      "   123/1000      3.08G      1.186     0.7037      1.129         69        640: 100%|██████████| 74/74 [00:09<00:00,  7.99it/s]\n",
      "                 Class     Images  Instances      Box(P          R      mAP50  mAP50-95): 100%|██████████| 8/8 [00:01<00:00,  6.15it/s]"
     ]
    },
    {
     "name": "stdout",
     "output_type": "stream",
     "text": [
      "                   all        250       2831      0.893      0.846      0.929      0.621\n"
     ]
    },
    {
     "name": "stderr",
     "output_type": "stream",
     "text": [
      "\n"
     ]
    },
    {
     "name": "stdout",
     "output_type": "stream",
     "text": [
      "\n",
      "      Epoch    GPU_mem   box_loss   cls_loss   dfl_loss  Instances       Size\n"
     ]
    },
    {
     "name": "stderr",
     "output_type": "stream",
     "text": [
      "   124/1000      2.83G      1.195     0.6988      1.136         31        640: 100%|██████████| 74/74 [00:09<00:00,  7.79it/s]\n",
      "                 Class     Images  Instances      Box(P          R      mAP50  mAP50-95): 100%|██████████| 8/8 [00:01<00:00,  6.36it/s]"
     ]
    },
    {
     "name": "stdout",
     "output_type": "stream",
     "text": [
      "                   all        250       2831      0.888      0.846      0.931      0.623\n"
     ]
    },
    {
     "name": "stderr",
     "output_type": "stream",
     "text": [
      "\n"
     ]
    },
    {
     "name": "stdout",
     "output_type": "stream",
     "text": [
      "\n",
      "      Epoch    GPU_mem   box_loss   cls_loss   dfl_loss  Instances       Size\n"
     ]
    },
    {
     "name": "stderr",
     "output_type": "stream",
     "text": [
      "   125/1000      2.88G      1.188     0.7001      1.134         31        640: 100%|██████████| 74/74 [00:09<00:00,  7.96it/s]\n",
      "                 Class     Images  Instances      Box(P          R      mAP50  mAP50-95): 100%|██████████| 8/8 [00:01<00:00,  6.26it/s]"
     ]
    },
    {
     "name": "stdout",
     "output_type": "stream",
     "text": [
      "                   all        250       2831      0.896      0.841      0.933      0.624\n"
     ]
    },
    {
     "name": "stderr",
     "output_type": "stream",
     "text": [
      "\n"
     ]
    },
    {
     "name": "stdout",
     "output_type": "stream",
     "text": [
      "\n",
      "      Epoch    GPU_mem   box_loss   cls_loss   dfl_loss  Instances       Size\n"
     ]
    },
    {
     "name": "stderr",
     "output_type": "stream",
     "text": [
      "   126/1000      2.75G      1.195     0.6936      1.134         63        640: 100%|██████████| 74/74 [00:09<00:00,  7.87it/s]\n",
      "                 Class     Images  Instances      Box(P          R      mAP50  mAP50-95): 100%|██████████| 8/8 [00:01<00:00,  6.05it/s]"
     ]
    },
    {
     "name": "stdout",
     "output_type": "stream",
     "text": [
      "                   all        250       2831      0.895       0.84      0.928      0.623\n"
     ]
    },
    {
     "name": "stderr",
     "output_type": "stream",
     "text": [
      "\n"
     ]
    },
    {
     "name": "stdout",
     "output_type": "stream",
     "text": [
      "\n",
      "      Epoch    GPU_mem   box_loss   cls_loss   dfl_loss  Instances       Size\n"
     ]
    },
    {
     "name": "stderr",
     "output_type": "stream",
     "text": [
      "   127/1000      3.14G       1.19     0.6926      1.127         44        640: 100%|██████████| 74/74 [00:09<00:00,  7.92it/s]\n",
      "                 Class     Images  Instances      Box(P          R      mAP50  mAP50-95): 100%|██████████| 8/8 [00:01<00:00,  6.33it/s]"
     ]
    },
    {
     "name": "stdout",
     "output_type": "stream",
     "text": [
      "                   all        250       2831      0.896       0.83      0.924      0.618\n"
     ]
    },
    {
     "name": "stderr",
     "output_type": "stream",
     "text": [
      "\n"
     ]
    },
    {
     "name": "stdout",
     "output_type": "stream",
     "text": [
      "\n",
      "      Epoch    GPU_mem   box_loss   cls_loss   dfl_loss  Instances       Size\n"
     ]
    },
    {
     "name": "stderr",
     "output_type": "stream",
     "text": [
      "   128/1000      3.32G      1.194     0.6951      1.135         33        640: 100%|██████████| 74/74 [00:09<00:00,  7.71it/s]\n",
      "                 Class     Images  Instances      Box(P          R      mAP50  mAP50-95): 100%|██████████| 8/8 [00:01<00:00,  6.43it/s]"
     ]
    },
    {
     "name": "stdout",
     "output_type": "stream",
     "text": [
      "                   all        250       2831      0.885      0.829       0.92      0.608\n"
     ]
    },
    {
     "name": "stderr",
     "output_type": "stream",
     "text": [
      "\n"
     ]
    },
    {
     "name": "stdout",
     "output_type": "stream",
     "text": [
      "\n",
      "      Epoch    GPU_mem   box_loss   cls_loss   dfl_loss  Instances       Size\n"
     ]
    },
    {
     "name": "stderr",
     "output_type": "stream",
     "text": [
      "   129/1000      2.84G        1.2     0.6946      1.133          8        640: 100%|██████████| 74/74 [00:09<00:00,  7.89it/s]\n",
      "                 Class     Images  Instances      Box(P          R      mAP50  mAP50-95): 100%|██████████| 8/8 [00:01<00:00,  6.12it/s]"
     ]
    },
    {
     "name": "stdout",
     "output_type": "stream",
     "text": [
      "                   all        250       2831      0.888      0.858      0.933      0.625\n"
     ]
    },
    {
     "name": "stderr",
     "output_type": "stream",
     "text": [
      "\n"
     ]
    },
    {
     "name": "stdout",
     "output_type": "stream",
     "text": [
      "\n",
      "      Epoch    GPU_mem   box_loss   cls_loss   dfl_loss  Instances       Size\n"
     ]
    },
    {
     "name": "stderr",
     "output_type": "stream",
     "text": [
      "   130/1000      3.14G      1.187     0.6992      1.128          8        640: 100%|██████████| 74/74 [00:09<00:00,  7.89it/s]\n",
      "                 Class     Images  Instances      Box(P          R      mAP50  mAP50-95): 100%|██████████| 8/8 [00:01<00:00,  6.22it/s]"
     ]
    },
    {
     "name": "stdout",
     "output_type": "stream",
     "text": [
      "                   all        250       2831      0.888      0.852      0.931      0.621\n"
     ]
    },
    {
     "name": "stderr",
     "output_type": "stream",
     "text": [
      "\n"
     ]
    },
    {
     "name": "stdout",
     "output_type": "stream",
     "text": [
      "\n",
      "      Epoch    GPU_mem   box_loss   cls_loss   dfl_loss  Instances       Size\n"
     ]
    },
    {
     "name": "stderr",
     "output_type": "stream",
     "text": [
      "   131/1000      2.94G      1.193     0.6967       1.13         37        640: 100%|██████████| 74/74 [00:09<00:00,  7.96it/s]\n",
      "                 Class     Images  Instances      Box(P          R      mAP50  mAP50-95): 100%|██████████| 8/8 [00:01<00:00,  6.11it/s]"
     ]
    },
    {
     "name": "stdout",
     "output_type": "stream",
     "text": [
      "                   all        250       2831      0.896      0.836       0.93      0.618\n"
     ]
    },
    {
     "name": "stderr",
     "output_type": "stream",
     "text": [
      "\n"
     ]
    },
    {
     "name": "stdout",
     "output_type": "stream",
     "text": [
      "\n",
      "      Epoch    GPU_mem   box_loss   cls_loss   dfl_loss  Instances       Size\n"
     ]
    },
    {
     "name": "stderr",
     "output_type": "stream",
     "text": [
      "   132/1000      3.01G      1.177     0.6885      1.128         33        640: 100%|██████████| 74/74 [00:09<00:00,  7.82it/s]\n",
      "                 Class     Images  Instances      Box(P          R      mAP50  mAP50-95): 100%|██████████| 8/8 [00:01<00:00,  6.27it/s]"
     ]
    },
    {
     "name": "stdout",
     "output_type": "stream",
     "text": [
      "                   all        250       2831      0.897      0.839      0.929      0.621\n"
     ]
    },
    {
     "name": "stderr",
     "output_type": "stream",
     "text": [
      "\n"
     ]
    },
    {
     "name": "stdout",
     "output_type": "stream",
     "text": [
      "\n",
      "      Epoch    GPU_mem   box_loss   cls_loss   dfl_loss  Instances       Size\n"
     ]
    },
    {
     "name": "stderr",
     "output_type": "stream",
     "text": [
      "   133/1000      2.96G      1.178     0.6983      1.132         10        640: 100%|██████████| 74/74 [00:09<00:00,  7.98it/s]\n",
      "                 Class     Images  Instances      Box(P          R      mAP50  mAP50-95): 100%|██████████| 8/8 [00:01<00:00,  6.27it/s]"
     ]
    },
    {
     "name": "stdout",
     "output_type": "stream",
     "text": [
      "                   all        250       2831      0.891      0.842      0.931      0.621\n"
     ]
    },
    {
     "name": "stderr",
     "output_type": "stream",
     "text": [
      "\n"
     ]
    },
    {
     "name": "stdout",
     "output_type": "stream",
     "text": [
      "\n",
      "      Epoch    GPU_mem   box_loss   cls_loss   dfl_loss  Instances       Size\n"
     ]
    },
    {
     "name": "stderr",
     "output_type": "stream",
     "text": [
      "   134/1000      2.86G      1.197     0.7002      1.131         30        640: 100%|██████████| 74/74 [00:09<00:00,  7.87it/s]\n",
      "                 Class     Images  Instances      Box(P          R      mAP50  mAP50-95): 100%|██████████| 8/8 [00:01<00:00,  6.04it/s]"
     ]
    },
    {
     "name": "stdout",
     "output_type": "stream",
     "text": [
      "                   all        250       2831      0.895       0.84       0.93      0.621\n"
     ]
    },
    {
     "name": "stderr",
     "output_type": "stream",
     "text": [
      "\n"
     ]
    },
    {
     "name": "stdout",
     "output_type": "stream",
     "text": [
      "\n",
      "      Epoch    GPU_mem   box_loss   cls_loss   dfl_loss  Instances       Size\n"
     ]
    },
    {
     "name": "stderr",
     "output_type": "stream",
     "text": [
      "   135/1000      3.02G      1.187     0.6948      1.135         44        640: 100%|██████████| 74/74 [00:09<00:00,  7.93it/s]\n",
      "                 Class     Images  Instances      Box(P          R      mAP50  mAP50-95): 100%|██████████| 8/8 [00:01<00:00,  6.26it/s]"
     ]
    },
    {
     "name": "stdout",
     "output_type": "stream",
     "text": [
      "                   all        250       2831      0.891      0.853      0.933      0.619\n"
     ]
    },
    {
     "name": "stderr",
     "output_type": "stream",
     "text": [
      "\n"
     ]
    },
    {
     "name": "stdout",
     "output_type": "stream",
     "text": [
      "\n",
      "      Epoch    GPU_mem   box_loss   cls_loss   dfl_loss  Instances       Size\n"
     ]
    },
    {
     "name": "stderr",
     "output_type": "stream",
     "text": [
      "   136/1000      2.76G      1.187     0.6899       1.13         29        640: 100%|██████████| 74/74 [00:09<00:00,  7.94it/s]\n",
      "                 Class     Images  Instances      Box(P          R      mAP50  mAP50-95): 100%|██████████| 8/8 [00:01<00:00,  6.20it/s]"
     ]
    },
    {
     "name": "stdout",
     "output_type": "stream",
     "text": [
      "                   all        250       2831      0.898       0.85      0.932      0.619\n"
     ]
    },
    {
     "name": "stderr",
     "output_type": "stream",
     "text": [
      "\n"
     ]
    },
    {
     "name": "stdout",
     "output_type": "stream",
     "text": [
      "\n",
      "      Epoch    GPU_mem   box_loss   cls_loss   dfl_loss  Instances       Size\n"
     ]
    },
    {
     "name": "stderr",
     "output_type": "stream",
     "text": [
      "   137/1000      3.18G      1.186     0.6916      1.131         23        640: 100%|██████████| 74/74 [00:09<00:00,  7.65it/s]\n",
      "                 Class     Images  Instances      Box(P          R      mAP50  mAP50-95): 100%|██████████| 8/8 [00:01<00:00,  6.23it/s]"
     ]
    },
    {
     "name": "stdout",
     "output_type": "stream",
     "text": [
      "                   all        250       2831      0.882      0.851      0.929      0.622\n"
     ]
    },
    {
     "name": "stderr",
     "output_type": "stream",
     "text": [
      "\n"
     ]
    },
    {
     "name": "stdout",
     "output_type": "stream",
     "text": [
      "\n",
      "      Epoch    GPU_mem   box_loss   cls_loss   dfl_loss  Instances       Size\n"
     ]
    },
    {
     "name": "stderr",
     "output_type": "stream",
     "text": [
      "   138/1000      2.81G      1.174     0.6919       1.12         20        640: 100%|██████████| 74/74 [00:09<00:00,  7.99it/s]\n",
      "                 Class     Images  Instances      Box(P          R      mAP50  mAP50-95): 100%|██████████| 8/8 [00:01<00:00,  6.13it/s]"
     ]
    },
    {
     "name": "stdout",
     "output_type": "stream",
     "text": [
      "                   all        250       2831      0.906      0.828      0.924      0.624\n"
     ]
    },
    {
     "name": "stderr",
     "output_type": "stream",
     "text": [
      "\n"
     ]
    },
    {
     "name": "stdout",
     "output_type": "stream",
     "text": [
      "\n",
      "      Epoch    GPU_mem   box_loss   cls_loss   dfl_loss  Instances       Size\n"
     ]
    },
    {
     "name": "stderr",
     "output_type": "stream",
     "text": [
      "   139/1000      3.27G      1.171      0.684      1.125         10        640: 100%|██████████| 74/74 [00:09<00:00,  7.90it/s]\n",
      "                 Class     Images  Instances      Box(P          R      mAP50  mAP50-95): 100%|██████████| 8/8 [00:01<00:00,  6.21it/s]"
     ]
    },
    {
     "name": "stdout",
     "output_type": "stream",
     "text": [
      "                   all        250       2831      0.878      0.858      0.929      0.615\n"
     ]
    },
    {
     "name": "stderr",
     "output_type": "stream",
     "text": [
      "\n"
     ]
    },
    {
     "name": "stdout",
     "output_type": "stream",
     "text": [
      "\n",
      "      Epoch    GPU_mem   box_loss   cls_loss   dfl_loss  Instances       Size\n"
     ]
    },
    {
     "name": "stderr",
     "output_type": "stream",
     "text": [
      "   140/1000      2.75G      1.183     0.6929      1.125         40        640: 100%|██████████| 74/74 [00:09<00:00,  7.87it/s]\n",
      "                 Class     Images  Instances      Box(P          R      mAP50  mAP50-95): 100%|██████████| 8/8 [00:01<00:00,  6.24it/s]"
     ]
    },
    {
     "name": "stdout",
     "output_type": "stream",
     "text": [
      "                   all        250       2831      0.878      0.857      0.931      0.621\n"
     ]
    },
    {
     "name": "stderr",
     "output_type": "stream",
     "text": [
      "\n"
     ]
    },
    {
     "name": "stdout",
     "output_type": "stream",
     "text": [
      "\n",
      "      Epoch    GPU_mem   box_loss   cls_loss   dfl_loss  Instances       Size\n"
     ]
    },
    {
     "name": "stderr",
     "output_type": "stream",
     "text": [
      "   141/1000      2.76G      1.182     0.6928      1.126         22        640: 100%|██████████| 74/74 [00:09<00:00,  7.69it/s]\n",
      "                 Class     Images  Instances      Box(P          R      mAP50  mAP50-95): 100%|██████████| 8/8 [00:01<00:00,  6.13it/s]"
     ]
    },
    {
     "name": "stdout",
     "output_type": "stream",
     "text": [
      "                   all        250       2831       0.86      0.851      0.922      0.605\n"
     ]
    },
    {
     "name": "stderr",
     "output_type": "stream",
     "text": [
      "\n"
     ]
    },
    {
     "name": "stdout",
     "output_type": "stream",
     "text": [
      "\n",
      "      Epoch    GPU_mem   box_loss   cls_loss   dfl_loss  Instances       Size\n"
     ]
    },
    {
     "name": "stderr",
     "output_type": "stream",
     "text": [
      "   142/1000      2.96G       1.17     0.6894      1.129         19        640: 100%|██████████| 74/74 [00:09<00:00,  7.89it/s]\n",
      "                 Class     Images  Instances      Box(P          R      mAP50  mAP50-95): 100%|██████████| 8/8 [00:01<00:00,  6.15it/s]\n"
     ]
    },
    {
     "name": "stdout",
     "output_type": "stream",
     "text": [
      "                   all        250       2831      0.891       0.84      0.928       0.62\n",
      "\n",
      "      Epoch    GPU_mem   box_loss   cls_loss   dfl_loss  Instances       Size\n"
     ]
    },
    {
     "name": "stderr",
     "output_type": "stream",
     "text": [
      "   143/1000      2.71G      1.184     0.6854      1.127         55        640: 100%|██████████| 74/74 [00:09<00:00,  7.95it/s]\n",
      "                 Class     Images  Instances      Box(P          R      mAP50  mAP50-95): 100%|██████████| 8/8 [00:01<00:00,  6.09it/s]"
     ]
    },
    {
     "name": "stdout",
     "output_type": "stream",
     "text": [
      "                   all        250       2831      0.889      0.856      0.934      0.623\n"
     ]
    },
    {
     "name": "stderr",
     "output_type": "stream",
     "text": [
      "\n"
     ]
    },
    {
     "name": "stdout",
     "output_type": "stream",
     "text": [
      "\n",
      "      Epoch    GPU_mem   box_loss   cls_loss   dfl_loss  Instances       Size\n"
     ]
    },
    {
     "name": "stderr",
     "output_type": "stream",
     "text": [
      "   144/1000      2.84G      1.189     0.6947      1.134         43        640: 100%|██████████| 74/74 [00:09<00:00,  7.82it/s]\n",
      "                 Class     Images  Instances      Box(P          R      mAP50  mAP50-95): 100%|██████████| 8/8 [00:01<00:00,  6.30it/s]"
     ]
    },
    {
     "name": "stdout",
     "output_type": "stream",
     "text": [
      "                   all        250       2831      0.877      0.852      0.929      0.623\n"
     ]
    },
    {
     "name": "stderr",
     "output_type": "stream",
     "text": [
      "\n"
     ]
    },
    {
     "name": "stdout",
     "output_type": "stream",
     "text": [
      "\n",
      "      Epoch    GPU_mem   box_loss   cls_loss   dfl_loss  Instances       Size\n"
     ]
    },
    {
     "name": "stderr",
     "output_type": "stream",
     "text": [
      "   145/1000      2.84G      1.172      0.674      1.124         30        640: 100%|██████████| 74/74 [00:09<00:00,  7.90it/s]\n",
      "                 Class     Images  Instances      Box(P          R      mAP50  mAP50-95): 100%|██████████| 8/8 [00:01<00:00,  6.15it/s]"
     ]
    },
    {
     "name": "stdout",
     "output_type": "stream",
     "text": [
      "                   all        250       2831      0.904      0.831      0.929      0.623\n"
     ]
    },
    {
     "name": "stderr",
     "output_type": "stream",
     "text": [
      "\n"
     ]
    },
    {
     "name": "stdout",
     "output_type": "stream",
     "text": [
      "\n",
      "      Epoch    GPU_mem   box_loss   cls_loss   dfl_loss  Instances       Size\n"
     ]
    },
    {
     "name": "stderr",
     "output_type": "stream",
     "text": [
      "   146/1000      2.93G        1.2     0.6935      1.132         39        640: 100%|██████████| 74/74 [00:09<00:00,  7.70it/s]\n",
      "                 Class     Images  Instances      Box(P          R      mAP50  mAP50-95): 100%|██████████| 8/8 [00:01<00:00,  6.10it/s]"
     ]
    },
    {
     "name": "stdout",
     "output_type": "stream",
     "text": [
      "                   all        250       2831      0.886      0.861      0.935       0.63\n"
     ]
    },
    {
     "name": "stderr",
     "output_type": "stream",
     "text": [
      "\n"
     ]
    },
    {
     "name": "stdout",
     "output_type": "stream",
     "text": [
      "\n",
      "      Epoch    GPU_mem   box_loss   cls_loss   dfl_loss  Instances       Size\n"
     ]
    },
    {
     "name": "stderr",
     "output_type": "stream",
     "text": [
      "   147/1000      2.81G      1.191     0.6944      1.134         20        640: 100%|██████████| 74/74 [00:09<00:00,  7.89it/s]\n",
      "                 Class     Images  Instances      Box(P          R      mAP50  mAP50-95): 100%|██████████| 8/8 [00:01<00:00,  6.26it/s]"
     ]
    },
    {
     "name": "stdout",
     "output_type": "stream",
     "text": [
      "                   all        250       2831      0.895      0.852      0.932      0.626\n"
     ]
    },
    {
     "name": "stderr",
     "output_type": "stream",
     "text": [
      "\n"
     ]
    },
    {
     "name": "stdout",
     "output_type": "stream",
     "text": [
      "\n",
      "      Epoch    GPU_mem   box_loss   cls_loss   dfl_loss  Instances       Size\n"
     ]
    },
    {
     "name": "stderr",
     "output_type": "stream",
     "text": [
      "   148/1000      3.09G      1.197     0.7046      1.134          8        640: 100%|██████████| 74/74 [00:09<00:00,  7.84it/s]\n",
      "                 Class     Images  Instances      Box(P          R      mAP50  mAP50-95): 100%|██████████| 8/8 [00:01<00:00,  6.11it/s]"
     ]
    },
    {
     "name": "stdout",
     "output_type": "stream",
     "text": [
      "                   all        250       2831      0.886      0.848      0.931      0.619\n"
     ]
    },
    {
     "name": "stderr",
     "output_type": "stream",
     "text": [
      "\n"
     ]
    },
    {
     "name": "stdout",
     "output_type": "stream",
     "text": [
      "\n",
      "      Epoch    GPU_mem   box_loss   cls_loss   dfl_loss  Instances       Size\n"
     ]
    },
    {
     "name": "stderr",
     "output_type": "stream",
     "text": [
      "   149/1000       2.8G      1.178     0.6877      1.119         23        640: 100%|██████████| 74/74 [00:09<00:00,  7.71it/s]\n",
      "                 Class     Images  Instances      Box(P          R      mAP50  mAP50-95): 100%|██████████| 8/8 [00:01<00:00,  6.09it/s]"
     ]
    },
    {
     "name": "stdout",
     "output_type": "stream",
     "text": [
      "                   all        250       2831      0.898      0.845      0.932      0.625\n"
     ]
    },
    {
     "name": "stderr",
     "output_type": "stream",
     "text": [
      "\n"
     ]
    },
    {
     "name": "stdout",
     "output_type": "stream",
     "text": [
      "\n",
      "      Epoch    GPU_mem   box_loss   cls_loss   dfl_loss  Instances       Size\n"
     ]
    },
    {
     "name": "stderr",
     "output_type": "stream",
     "text": [
      "   150/1000      2.95G      1.192     0.6934       1.13         53        640: 100%|██████████| 74/74 [00:09<00:00,  7.76it/s]\n",
      "                 Class     Images  Instances      Box(P          R      mAP50  mAP50-95): 100%|██████████| 8/8 [00:01<00:00,  6.06it/s]"
     ]
    },
    {
     "name": "stdout",
     "output_type": "stream",
     "text": [
      "                   all        250       2831      0.883      0.851      0.933      0.621\n"
     ]
    },
    {
     "name": "stderr",
     "output_type": "stream",
     "text": [
      "\n"
     ]
    },
    {
     "name": "stdout",
     "output_type": "stream",
     "text": [
      "\n",
      "      Epoch    GPU_mem   box_loss   cls_loss   dfl_loss  Instances       Size\n"
     ]
    },
    {
     "name": "stderr",
     "output_type": "stream",
     "text": [
      "   151/1000      2.89G      1.171      0.682       1.12         48        640: 100%|██████████| 74/74 [00:09<00:00,  7.78it/s]\n",
      "                 Class     Images  Instances      Box(P          R      mAP50  mAP50-95): 100%|██████████| 8/8 [00:01<00:00,  5.88it/s]"
     ]
    },
    {
     "name": "stdout",
     "output_type": "stream",
     "text": [
      "                   all        250       2831      0.888      0.851      0.931      0.626\n"
     ]
    },
    {
     "name": "stderr",
     "output_type": "stream",
     "text": [
      "\n"
     ]
    },
    {
     "name": "stdout",
     "output_type": "stream",
     "text": [
      "\n",
      "      Epoch    GPU_mem   box_loss   cls_loss   dfl_loss  Instances       Size\n"
     ]
    },
    {
     "name": "stderr",
     "output_type": "stream",
     "text": [
      "   152/1000      2.86G      1.189     0.6844      1.126         14        640: 100%|██████████| 74/74 [00:09<00:00,  7.76it/s]\n",
      "                 Class     Images  Instances      Box(P          R      mAP50  mAP50-95): 100%|██████████| 8/8 [00:01<00:00,  5.96it/s]"
     ]
    },
    {
     "name": "stdout",
     "output_type": "stream",
     "text": [
      "                   all        250       2831      0.892      0.841      0.929      0.623\n"
     ]
    },
    {
     "name": "stderr",
     "output_type": "stream",
     "text": [
      "\n"
     ]
    },
    {
     "name": "stdout",
     "output_type": "stream",
     "text": [
      "\n",
      "      Epoch    GPU_mem   box_loss   cls_loss   dfl_loss  Instances       Size\n"
     ]
    },
    {
     "name": "stderr",
     "output_type": "stream",
     "text": [
      "   153/1000      2.94G      1.172     0.6816      1.116         38        640: 100%|██████████| 74/74 [00:09<00:00,  7.73it/s]\n",
      "                 Class     Images  Instances      Box(P          R      mAP50  mAP50-95): 100%|██████████| 8/8 [00:01<00:00,  6.15it/s]"
     ]
    },
    {
     "name": "stdout",
     "output_type": "stream",
     "text": [
      "                   all        250       2831        0.9      0.853      0.932      0.625\n"
     ]
    },
    {
     "name": "stderr",
     "output_type": "stream",
     "text": [
      "\n"
     ]
    },
    {
     "name": "stdout",
     "output_type": "stream",
     "text": [
      "\n",
      "      Epoch    GPU_mem   box_loss   cls_loss   dfl_loss  Instances       Size\n"
     ]
    },
    {
     "name": "stderr",
     "output_type": "stream",
     "text": [
      "   154/1000      2.88G      1.181     0.6781      1.123         36        640: 100%|██████████| 74/74 [00:09<00:00,  7.71it/s]\n",
      "                 Class     Images  Instances      Box(P          R      mAP50  mAP50-95): 100%|██████████| 8/8 [00:01<00:00,  6.09it/s]"
     ]
    },
    {
     "name": "stdout",
     "output_type": "stream",
     "text": [
      "                   all        250       2831      0.886      0.854      0.932      0.627\n"
     ]
    },
    {
     "name": "stderr",
     "output_type": "stream",
     "text": [
      "\n"
     ]
    },
    {
     "name": "stdout",
     "output_type": "stream",
     "text": [
      "\n",
      "      Epoch    GPU_mem   box_loss   cls_loss   dfl_loss  Instances       Size\n"
     ]
    },
    {
     "name": "stderr",
     "output_type": "stream",
     "text": [
      "   155/1000      2.74G       1.17     0.6794      1.119         24        640: 100%|██████████| 74/74 [00:09<00:00,  7.80it/s]\n",
      "                 Class     Images  Instances      Box(P          R      mAP50  mAP50-95): 100%|██████████| 8/8 [00:01<00:00,  6.25it/s]"
     ]
    },
    {
     "name": "stdout",
     "output_type": "stream",
     "text": [
      "                   all        250       2831      0.881       0.86      0.933      0.627\n"
     ]
    },
    {
     "name": "stderr",
     "output_type": "stream",
     "text": [
      "\n"
     ]
    },
    {
     "name": "stdout",
     "output_type": "stream",
     "text": [
      "\n",
      "      Epoch    GPU_mem   box_loss   cls_loss   dfl_loss  Instances       Size\n"
     ]
    },
    {
     "name": "stderr",
     "output_type": "stream",
     "text": [
      "   156/1000      2.82G      1.178     0.6859      1.128         18        640: 100%|██████████| 74/74 [00:09<00:00,  7.77it/s]\n",
      "                 Class     Images  Instances      Box(P          R      mAP50  mAP50-95): 100%|██████████| 8/8 [00:01<00:00,  6.20it/s]"
     ]
    },
    {
     "name": "stdout",
     "output_type": "stream",
     "text": [
      "                   all        250       2831      0.885      0.843      0.931      0.624\n"
     ]
    },
    {
     "name": "stderr",
     "output_type": "stream",
     "text": [
      "\n"
     ]
    },
    {
     "name": "stdout",
     "output_type": "stream",
     "text": [
      "\n",
      "      Epoch    GPU_mem   box_loss   cls_loss   dfl_loss  Instances       Size\n"
     ]
    },
    {
     "name": "stderr",
     "output_type": "stream",
     "text": [
      "   157/1000      3.02G      1.183     0.6961      1.126         13        640: 100%|██████████| 74/74 [00:09<00:00,  7.89it/s]\n",
      "                 Class     Images  Instances      Box(P          R      mAP50  mAP50-95): 100%|██████████| 8/8 [00:01<00:00,  6.21it/s]"
     ]
    },
    {
     "name": "stdout",
     "output_type": "stream",
     "text": [
      "                   all        250       2831      0.885       0.85      0.931      0.622\n"
     ]
    },
    {
     "name": "stderr",
     "output_type": "stream",
     "text": [
      "\n"
     ]
    },
    {
     "name": "stdout",
     "output_type": "stream",
     "text": [
      "\n",
      "      Epoch    GPU_mem   box_loss   cls_loss   dfl_loss  Instances       Size\n"
     ]
    },
    {
     "name": "stderr",
     "output_type": "stream",
     "text": [
      "   158/1000      2.82G      1.171     0.6846      1.117         32        640: 100%|██████████| 74/74 [00:09<00:00,  7.75it/s]\n",
      "                 Class     Images  Instances      Box(P          R      mAP50  mAP50-95): 100%|██████████| 8/8 [00:01<00:00,  6.04it/s]\n"
     ]
    },
    {
     "name": "stdout",
     "output_type": "stream",
     "text": [
      "                   all        250       2831        0.9      0.849      0.933      0.625\n",
      "\n",
      "      Epoch    GPU_mem   box_loss   cls_loss   dfl_loss  Instances       Size\n"
     ]
    },
    {
     "name": "stderr",
     "output_type": "stream",
     "text": [
      "   159/1000      2.85G      1.169     0.6801      1.125         28        640: 100%|██████████| 74/74 [00:09<00:00,  7.79it/s]\n",
      "                 Class     Images  Instances      Box(P          R      mAP50  mAP50-95): 100%|██████████| 8/8 [00:01<00:00,  6.04it/s]"
     ]
    },
    {
     "name": "stdout",
     "output_type": "stream",
     "text": [
      "                   all        250       2831        0.9      0.837      0.927      0.624\n"
     ]
    },
    {
     "name": "stderr",
     "output_type": "stream",
     "text": [
      "\n"
     ]
    },
    {
     "name": "stdout",
     "output_type": "stream",
     "text": [
      "\n",
      "      Epoch    GPU_mem   box_loss   cls_loss   dfl_loss  Instances       Size\n"
     ]
    },
    {
     "name": "stderr",
     "output_type": "stream",
     "text": [
      "   160/1000      3.22G      1.185     0.6865      1.117         23        640: 100%|██████████| 74/74 [00:09<00:00,  7.79it/s]\n",
      "                 Class     Images  Instances      Box(P          R      mAP50  mAP50-95): 100%|██████████| 8/8 [00:01<00:00,  6.27it/s]"
     ]
    },
    {
     "name": "stdout",
     "output_type": "stream",
     "text": [
      "                   all        250       2831      0.886      0.847       0.93      0.622\n"
     ]
    },
    {
     "name": "stderr",
     "output_type": "stream",
     "text": [
      "\n"
     ]
    },
    {
     "name": "stdout",
     "output_type": "stream",
     "text": [
      "\n",
      "      Epoch    GPU_mem   box_loss   cls_loss   dfl_loss  Instances       Size\n"
     ]
    },
    {
     "name": "stderr",
     "output_type": "stream",
     "text": [
      "   161/1000      2.66G      1.167     0.6774      1.121         39        640: 100%|██████████| 74/74 [00:09<00:00,  7.89it/s]\n",
      "                 Class     Images  Instances      Box(P          R      mAP50  mAP50-95): 100%|██████████| 8/8 [00:01<00:00,  6.23it/s]"
     ]
    },
    {
     "name": "stdout",
     "output_type": "stream",
     "text": [
      "                   all        250       2831      0.896      0.845      0.936      0.629\n"
     ]
    },
    {
     "name": "stderr",
     "output_type": "stream",
     "text": [
      "\n"
     ]
    },
    {
     "name": "stdout",
     "output_type": "stream",
     "text": [
      "\n",
      "      Epoch    GPU_mem   box_loss   cls_loss   dfl_loss  Instances       Size\n"
     ]
    },
    {
     "name": "stderr",
     "output_type": "stream",
     "text": [
      "   162/1000      2.94G      1.189      0.689       1.13         19        640: 100%|██████████| 74/74 [00:09<00:00,  7.75it/s]\n",
      "                 Class     Images  Instances      Box(P          R      mAP50  mAP50-95): 100%|██████████| 8/8 [00:01<00:00,  6.27it/s]"
     ]
    },
    {
     "name": "stdout",
     "output_type": "stream",
     "text": [
      "                   all        250       2831      0.885      0.842      0.925       0.62\n"
     ]
    },
    {
     "name": "stderr",
     "output_type": "stream",
     "text": [
      "\n"
     ]
    },
    {
     "name": "stdout",
     "output_type": "stream",
     "text": [
      "\n",
      "      Epoch    GPU_mem   box_loss   cls_loss   dfl_loss  Instances       Size\n"
     ]
    },
    {
     "name": "stderr",
     "output_type": "stream",
     "text": [
      "   163/1000      3.06G      1.175     0.6887      1.122         15        640: 100%|██████████| 74/74 [00:09<00:00,  7.87it/s]\n",
      "                 Class     Images  Instances      Box(P          R      mAP50  mAP50-95): 100%|██████████| 8/8 [00:01<00:00,  6.32it/s]"
     ]
    },
    {
     "name": "stdout",
     "output_type": "stream",
     "text": [
      "                   all        250       2831      0.893      0.849      0.931      0.625\n"
     ]
    },
    {
     "name": "stderr",
     "output_type": "stream",
     "text": [
      "\n"
     ]
    },
    {
     "name": "stdout",
     "output_type": "stream",
     "text": [
      "\n",
      "      Epoch    GPU_mem   box_loss   cls_loss   dfl_loss  Instances       Size\n"
     ]
    },
    {
     "name": "stderr",
     "output_type": "stream",
     "text": [
      "   164/1000      2.75G      1.179      0.678      1.123         28        640: 100%|██████████| 74/74 [00:09<00:00,  7.75it/s]\n",
      "                 Class     Images  Instances      Box(P          R      mAP50  mAP50-95): 100%|██████████| 8/8 [00:01<00:00,  6.16it/s]"
     ]
    },
    {
     "name": "stdout",
     "output_type": "stream",
     "text": [
      "                   all        250       2831      0.901      0.844      0.934      0.618\n"
     ]
    },
    {
     "name": "stderr",
     "output_type": "stream",
     "text": [
      "\n"
     ]
    },
    {
     "name": "stdout",
     "output_type": "stream",
     "text": [
      "\n",
      "      Epoch    GPU_mem   box_loss   cls_loss   dfl_loss  Instances       Size\n"
     ]
    },
    {
     "name": "stderr",
     "output_type": "stream",
     "text": [
      "   165/1000         3G      1.171     0.6819      1.127         27        640: 100%|██████████| 74/74 [00:09<00:00,  7.84it/s]\n",
      "                 Class     Images  Instances      Box(P          R      mAP50  mAP50-95): 100%|██████████| 8/8 [00:01<00:00,  6.07it/s]"
     ]
    },
    {
     "name": "stdout",
     "output_type": "stream",
     "text": [
      "                   all        250       2831      0.894      0.846      0.934      0.616\n"
     ]
    },
    {
     "name": "stderr",
     "output_type": "stream",
     "text": [
      "\n"
     ]
    },
    {
     "name": "stdout",
     "output_type": "stream",
     "text": [
      "\n",
      "      Epoch    GPU_mem   box_loss   cls_loss   dfl_loss  Instances       Size\n"
     ]
    },
    {
     "name": "stderr",
     "output_type": "stream",
     "text": [
      "   166/1000       2.8G      1.175     0.6741      1.125         15        640: 100%|██████████| 74/74 [00:09<00:00,  7.88it/s]\n",
      "                 Class     Images  Instances      Box(P          R      mAP50  mAP50-95): 100%|██████████| 8/8 [00:01<00:00,  6.15it/s]"
     ]
    },
    {
     "name": "stdout",
     "output_type": "stream",
     "text": [
      "                   all        250       2831      0.891      0.847      0.933      0.623\n"
     ]
    },
    {
     "name": "stderr",
     "output_type": "stream",
     "text": [
      "\n"
     ]
    },
    {
     "name": "stdout",
     "output_type": "stream",
     "text": [
      "\n",
      "      Epoch    GPU_mem   box_loss   cls_loss   dfl_loss  Instances       Size\n"
     ]
    },
    {
     "name": "stderr",
     "output_type": "stream",
     "text": [
      "   167/1000      2.79G      1.168     0.6829      1.125         26        640: 100%|██████████| 74/74 [00:09<00:00,  7.73it/s]\n",
      "                 Class     Images  Instances      Box(P          R      mAP50  mAP50-95): 100%|██████████| 8/8 [00:01<00:00,  6.15it/s]"
     ]
    },
    {
     "name": "stdout",
     "output_type": "stream",
     "text": [
      "                   all        250       2831      0.874      0.854       0.93      0.621\n"
     ]
    },
    {
     "name": "stderr",
     "output_type": "stream",
     "text": [
      "\n"
     ]
    },
    {
     "name": "stdout",
     "output_type": "stream",
     "text": [
      "\n",
      "      Epoch    GPU_mem   box_loss   cls_loss   dfl_loss  Instances       Size\n"
     ]
    },
    {
     "name": "stderr",
     "output_type": "stream",
     "text": [
      "   168/1000      3.17G      1.171      0.679      1.118         16        640: 100%|██████████| 74/74 [00:09<00:00,  7.85it/s]\n",
      "                 Class     Images  Instances      Box(P          R      mAP50  mAP50-95): 100%|██████████| 8/8 [00:01<00:00,  6.06it/s]"
     ]
    },
    {
     "name": "stdout",
     "output_type": "stream",
     "text": [
      "                   all        250       2831      0.881      0.852      0.933      0.624\n"
     ]
    },
    {
     "name": "stderr",
     "output_type": "stream",
     "text": [
      "\n"
     ]
    },
    {
     "name": "stdout",
     "output_type": "stream",
     "text": [
      "\n",
      "      Epoch    GPU_mem   box_loss   cls_loss   dfl_loss  Instances       Size\n"
     ]
    },
    {
     "name": "stderr",
     "output_type": "stream",
     "text": [
      "   169/1000      3.06G      1.166     0.6724      1.118         23        640: 100%|██████████| 74/74 [00:09<00:00,  7.78it/s]\n",
      "                 Class     Images  Instances      Box(P          R      mAP50  mAP50-95): 100%|██████████| 8/8 [00:01<00:00,  5.89it/s]"
     ]
    },
    {
     "name": "stdout",
     "output_type": "stream",
     "text": [
      "                   all        250       2831      0.892      0.842      0.931      0.622\n"
     ]
    },
    {
     "name": "stderr",
     "output_type": "stream",
     "text": [
      "\n"
     ]
    },
    {
     "name": "stdout",
     "output_type": "stream",
     "text": [
      "\n",
      "      Epoch    GPU_mem   box_loss   cls_loss   dfl_loss  Instances       Size\n"
     ]
    },
    {
     "name": "stderr",
     "output_type": "stream",
     "text": [
      "   170/1000      2.74G      1.172     0.6801      1.114         58        640: 100%|██████████| 74/74 [00:09<00:00,  7.86it/s]\n",
      "                 Class     Images  Instances      Box(P          R      mAP50  mAP50-95): 100%|██████████| 8/8 [00:01<00:00,  5.89it/s]"
     ]
    },
    {
     "name": "stdout",
     "output_type": "stream",
     "text": [
      "                   all        250       2831      0.902      0.846      0.932      0.628\n"
     ]
    },
    {
     "name": "stderr",
     "output_type": "stream",
     "text": [
      "\n"
     ]
    },
    {
     "name": "stdout",
     "output_type": "stream",
     "text": [
      "\n",
      "      Epoch    GPU_mem   box_loss   cls_loss   dfl_loss  Instances       Size\n"
     ]
    },
    {
     "name": "stderr",
     "output_type": "stream",
     "text": [
      "   171/1000      2.95G      1.163      0.672      1.119         22        640: 100%|██████████| 74/74 [00:09<00:00,  7.78it/s]\n",
      "                 Class     Images  Instances      Box(P          R      mAP50  mAP50-95): 100%|██████████| 8/8 [00:01<00:00,  6.25it/s]"
     ]
    },
    {
     "name": "stdout",
     "output_type": "stream",
     "text": [
      "                   all        250       2831      0.893      0.853      0.934       0.63\n"
     ]
    },
    {
     "name": "stderr",
     "output_type": "stream",
     "text": [
      "\n"
     ]
    },
    {
     "name": "stdout",
     "output_type": "stream",
     "text": [
      "\n",
      "      Epoch    GPU_mem   box_loss   cls_loss   dfl_loss  Instances       Size\n"
     ]
    },
    {
     "name": "stderr",
     "output_type": "stream",
     "text": [
      "   172/1000      2.87G      1.169      0.674      1.118         65        640: 100%|██████████| 74/74 [00:09<00:00,  7.84it/s]\n",
      "                 Class     Images  Instances      Box(P          R      mAP50  mAP50-95): 100%|██████████| 8/8 [00:01<00:00,  6.17it/s]"
     ]
    },
    {
     "name": "stdout",
     "output_type": "stream",
     "text": [
      "                   all        250       2831      0.901      0.847      0.936      0.628\n"
     ]
    },
    {
     "name": "stderr",
     "output_type": "stream",
     "text": [
      "\n"
     ]
    },
    {
     "name": "stdout",
     "output_type": "stream",
     "text": [
      "\n",
      "      Epoch    GPU_mem   box_loss   cls_loss   dfl_loss  Instances       Size\n"
     ]
    },
    {
     "name": "stderr",
     "output_type": "stream",
     "text": [
      "   173/1000       2.9G      1.186     0.6799      1.133         22        640: 100%|██████████| 74/74 [00:09<00:00,  7.97it/s]\n",
      "                 Class     Images  Instances      Box(P          R      mAP50  mAP50-95): 100%|██████████| 8/8 [00:01<00:00,  6.42it/s]"
     ]
    },
    {
     "name": "stdout",
     "output_type": "stream",
     "text": [
      "                   all        250       2831      0.895      0.846      0.932      0.618\n"
     ]
    },
    {
     "name": "stderr",
     "output_type": "stream",
     "text": [
      "\n"
     ]
    },
    {
     "name": "stdout",
     "output_type": "stream",
     "text": [
      "\n",
      "      Epoch    GPU_mem   box_loss   cls_loss   dfl_loss  Instances       Size\n"
     ]
    },
    {
     "name": "stderr",
     "output_type": "stream",
     "text": [
      "   174/1000      3.08G      1.171     0.6695      1.111         29        640: 100%|██████████| 74/74 [00:09<00:00,  7.82it/s]\n",
      "                 Class     Images  Instances      Box(P          R      mAP50  mAP50-95): 100%|██████████| 8/8 [00:01<00:00,  6.03it/s]"
     ]
    },
    {
     "name": "stdout",
     "output_type": "stream",
     "text": [
      "                   all        250       2831      0.883      0.866      0.937      0.629\n"
     ]
    },
    {
     "name": "stderr",
     "output_type": "stream",
     "text": [
      "\n"
     ]
    },
    {
     "name": "stdout",
     "output_type": "stream",
     "text": [
      "\n",
      "      Epoch    GPU_mem   box_loss   cls_loss   dfl_loss  Instances       Size\n"
     ]
    },
    {
     "name": "stderr",
     "output_type": "stream",
     "text": [
      "   175/1000      2.84G      1.176       0.68      1.119         31        640: 100%|██████████| 74/74 [00:09<00:00,  7.79it/s]\n",
      "                 Class     Images  Instances      Box(P          R      mAP50  mAP50-95): 100%|██████████| 8/8 [00:01<00:00,  6.33it/s]"
     ]
    },
    {
     "name": "stdout",
     "output_type": "stream",
     "text": [
      "                   all        250       2831      0.893      0.857      0.936      0.625\n"
     ]
    },
    {
     "name": "stderr",
     "output_type": "stream",
     "text": [
      "\n"
     ]
    },
    {
     "name": "stdout",
     "output_type": "stream",
     "text": [
      "\n",
      "      Epoch    GPU_mem   box_loss   cls_loss   dfl_loss  Instances       Size\n"
     ]
    },
    {
     "name": "stderr",
     "output_type": "stream",
     "text": [
      "   176/1000      3.01G      1.175     0.6705      1.118         16        640: 100%|██████████| 74/74 [00:09<00:00,  7.89it/s]\n",
      "                 Class     Images  Instances      Box(P          R      mAP50  mAP50-95): 100%|██████████| 8/8 [00:01<00:00,  6.25it/s]"
     ]
    },
    {
     "name": "stdout",
     "output_type": "stream",
     "text": [
      "                   all        250       2831      0.888      0.858      0.937      0.629\n"
     ]
    },
    {
     "name": "stderr",
     "output_type": "stream",
     "text": [
      "\n"
     ]
    },
    {
     "name": "stdout",
     "output_type": "stream",
     "text": [
      "\n",
      "      Epoch    GPU_mem   box_loss   cls_loss   dfl_loss  Instances       Size\n"
     ]
    },
    {
     "name": "stderr",
     "output_type": "stream",
     "text": [
      "   177/1000      2.91G      1.178     0.6768      1.124        107        640: 100%|██████████| 74/74 [00:09<00:00,  7.95it/s]\n",
      "                 Class     Images  Instances      Box(P          R      mAP50  mAP50-95): 100%|██████████| 8/8 [00:01<00:00,  6.28it/s]"
     ]
    },
    {
     "name": "stdout",
     "output_type": "stream",
     "text": [
      "                   all        250       2831      0.887      0.847      0.928      0.619\n"
     ]
    },
    {
     "name": "stderr",
     "output_type": "stream",
     "text": [
      "\n"
     ]
    },
    {
     "name": "stdout",
     "output_type": "stream",
     "text": [
      "\n",
      "      Epoch    GPU_mem   box_loss   cls_loss   dfl_loss  Instances       Size\n"
     ]
    },
    {
     "name": "stderr",
     "output_type": "stream",
     "text": [
      "   178/1000      2.79G      1.161     0.6649       1.12         20        640: 100%|██████████| 74/74 [00:09<00:00,  7.76it/s]\n",
      "                 Class     Images  Instances      Box(P          R      mAP50  mAP50-95): 100%|██████████| 8/8 [00:01<00:00,  6.37it/s]"
     ]
    },
    {
     "name": "stdout",
     "output_type": "stream",
     "text": [
      "                   all        250       2831      0.895      0.849      0.935       0.63\n"
     ]
    },
    {
     "name": "stderr",
     "output_type": "stream",
     "text": [
      "\n"
     ]
    },
    {
     "name": "stdout",
     "output_type": "stream",
     "text": [
      "\n",
      "      Epoch    GPU_mem   box_loss   cls_loss   dfl_loss  Instances       Size\n"
     ]
    },
    {
     "name": "stderr",
     "output_type": "stream",
     "text": [
      "   179/1000      3.03G      1.159     0.6729      1.114         15        640: 100%|██████████| 74/74 [00:09<00:00,  7.88it/s]\n",
      "                 Class     Images  Instances      Box(P          R      mAP50  mAP50-95): 100%|██████████| 8/8 [00:01<00:00,  6.21it/s]"
     ]
    },
    {
     "name": "stdout",
     "output_type": "stream",
     "text": [
      "                   all        250       2831      0.892      0.857      0.936      0.628\n"
     ]
    },
    {
     "name": "stderr",
     "output_type": "stream",
     "text": [
      "\n"
     ]
    },
    {
     "name": "stdout",
     "output_type": "stream",
     "text": [
      "\n",
      "      Epoch    GPU_mem   box_loss   cls_loss   dfl_loss  Instances       Size\n"
     ]
    },
    {
     "name": "stderr",
     "output_type": "stream",
     "text": [
      "   180/1000      2.85G      1.159     0.6642      1.107         13        640: 100%|██████████| 74/74 [00:09<00:00,  7.94it/s]\n",
      "                 Class     Images  Instances      Box(P          R      mAP50  mAP50-95): 100%|██████████| 8/8 [00:01<00:00,  6.21it/s]"
     ]
    },
    {
     "name": "stdout",
     "output_type": "stream",
     "text": [
      "                   all        250       2831      0.868      0.857      0.924      0.608\n"
     ]
    },
    {
     "name": "stderr",
     "output_type": "stream",
     "text": [
      "\n"
     ]
    },
    {
     "name": "stdout",
     "output_type": "stream",
     "text": [
      "\n",
      "      Epoch    GPU_mem   box_loss   cls_loss   dfl_loss  Instances       Size\n"
     ]
    },
    {
     "name": "stderr",
     "output_type": "stream",
     "text": [
      "   181/1000      2.88G       1.17     0.6749      1.115          7        640: 100%|██████████| 74/74 [00:09<00:00,  7.67it/s]\n",
      "                 Class     Images  Instances      Box(P          R      mAP50  mAP50-95): 100%|██████████| 8/8 [00:01<00:00,  6.25it/s]"
     ]
    },
    {
     "name": "stdout",
     "output_type": "stream",
     "text": [
      "                   all        250       2831      0.896      0.841       0.93      0.621\n"
     ]
    },
    {
     "name": "stderr",
     "output_type": "stream",
     "text": [
      "\n"
     ]
    },
    {
     "name": "stdout",
     "output_type": "stream",
     "text": [
      "\n",
      "      Epoch    GPU_mem   box_loss   cls_loss   dfl_loss  Instances       Size\n"
     ]
    },
    {
     "name": "stderr",
     "output_type": "stream",
     "text": [
      "   182/1000      2.96G      1.167      0.665      1.111         33        640: 100%|██████████| 74/74 [00:09<00:00,  7.88it/s]\n",
      "                 Class     Images  Instances      Box(P          R      mAP50  mAP50-95): 100%|██████████| 8/8 [00:01<00:00,  6.27it/s]"
     ]
    },
    {
     "name": "stdout",
     "output_type": "stream",
     "text": [
      "                   all        250       2831      0.881      0.851      0.934      0.626\n"
     ]
    },
    {
     "name": "stderr",
     "output_type": "stream",
     "text": [
      "\n"
     ]
    },
    {
     "name": "stdout",
     "output_type": "stream",
     "text": [
      "\n",
      "      Epoch    GPU_mem   box_loss   cls_loss   dfl_loss  Instances       Size\n"
     ]
    },
    {
     "name": "stderr",
     "output_type": "stream",
     "text": [
      "   183/1000      2.64G      1.167     0.6707      1.115         35        640: 100%|██████████| 74/74 [00:09<00:00,  7.97it/s]\n",
      "                 Class     Images  Instances      Box(P          R      mAP50  mAP50-95): 100%|██████████| 8/8 [00:01<00:00,  6.25it/s]"
     ]
    },
    {
     "name": "stdout",
     "output_type": "stream",
     "text": [
      "                   all        250       2831      0.896      0.851      0.936       0.63\n"
     ]
    },
    {
     "name": "stderr",
     "output_type": "stream",
     "text": [
      "\n"
     ]
    },
    {
     "name": "stdout",
     "output_type": "stream",
     "text": [
      "\n",
      "      Epoch    GPU_mem   box_loss   cls_loss   dfl_loss  Instances       Size\n"
     ]
    },
    {
     "name": "stderr",
     "output_type": "stream",
     "text": [
      "   184/1000      2.85G      1.165     0.6685      1.117         21        640: 100%|██████████| 74/74 [00:09<00:00,  7.86it/s]\n",
      "                 Class     Images  Instances      Box(P          R      mAP50  mAP50-95): 100%|██████████| 8/8 [00:01<00:00,  6.40it/s]"
     ]
    },
    {
     "name": "stdout",
     "output_type": "stream",
     "text": [
      "                   all        250       2831      0.896       0.84      0.933      0.627\n"
     ]
    },
    {
     "name": "stderr",
     "output_type": "stream",
     "text": [
      "\n"
     ]
    },
    {
     "name": "stdout",
     "output_type": "stream",
     "text": [
      "\n",
      "      Epoch    GPU_mem   box_loss   cls_loss   dfl_loss  Instances       Size\n"
     ]
    },
    {
     "name": "stderr",
     "output_type": "stream",
     "text": [
      "   185/1000      2.93G      1.162     0.6691       1.11         60        640: 100%|██████████| 74/74 [00:09<00:00,  7.90it/s]\n",
      "                 Class     Images  Instances      Box(P          R      mAP50  mAP50-95): 100%|██████████| 8/8 [00:01<00:00,  6.34it/s]"
     ]
    },
    {
     "name": "stdout",
     "output_type": "stream",
     "text": [
      "                   all        250       2831      0.907      0.832      0.931      0.623\n"
     ]
    },
    {
     "name": "stderr",
     "output_type": "stream",
     "text": [
      "\n"
     ]
    },
    {
     "name": "stdout",
     "output_type": "stream",
     "text": [
      "\n",
      "      Epoch    GPU_mem   box_loss   cls_loss   dfl_loss  Instances       Size\n"
     ]
    },
    {
     "name": "stderr",
     "output_type": "stream",
     "text": [
      "   186/1000      2.82G       1.17     0.6738      1.119         19        640: 100%|██████████| 74/74 [00:09<00:00,  7.68it/s]\n",
      "                 Class     Images  Instances      Box(P          R      mAP50  mAP50-95): 100%|██████████| 8/8 [00:01<00:00,  5.87it/s]"
     ]
    },
    {
     "name": "stdout",
     "output_type": "stream",
     "text": [
      "                   all        250       2831      0.886      0.857      0.934      0.626\n"
     ]
    },
    {
     "name": "stderr",
     "output_type": "stream",
     "text": [
      "\n"
     ]
    },
    {
     "name": "stdout",
     "output_type": "stream",
     "text": [
      "\n",
      "      Epoch    GPU_mem   box_loss   cls_loss   dfl_loss  Instances       Size\n"
     ]
    },
    {
     "name": "stderr",
     "output_type": "stream",
     "text": [
      "   187/1000      3.07G      1.165     0.6701      1.112         20        640: 100%|██████████| 74/74 [00:09<00:00,  7.91it/s]\n",
      "                 Class     Images  Instances      Box(P          R      mAP50  mAP50-95): 100%|██████████| 8/8 [00:01<00:00,  6.07it/s]"
     ]
    },
    {
     "name": "stdout",
     "output_type": "stream",
     "text": [
      "                   all        250       2831      0.895       0.84      0.929      0.622\n"
     ]
    },
    {
     "name": "stderr",
     "output_type": "stream",
     "text": [
      "\n"
     ]
    },
    {
     "name": "stdout",
     "output_type": "stream",
     "text": [
      "\n",
      "      Epoch    GPU_mem   box_loss   cls_loss   dfl_loss  Instances       Size\n"
     ]
    },
    {
     "name": "stderr",
     "output_type": "stream",
     "text": [
      "   188/1000      2.96G      1.169     0.6829       1.12          4        640: 100%|██████████| 74/74 [00:09<00:00,  7.84it/s]\n",
      "                 Class     Images  Instances      Box(P          R      mAP50  mAP50-95): 100%|██████████| 8/8 [00:01<00:00,  6.32it/s]"
     ]
    },
    {
     "name": "stdout",
     "output_type": "stream",
     "text": [
      "                   all        250       2831      0.894      0.851      0.935      0.624\n"
     ]
    },
    {
     "name": "stderr",
     "output_type": "stream",
     "text": [
      "\n"
     ]
    },
    {
     "name": "stdout",
     "output_type": "stream",
     "text": [
      "\n",
      "      Epoch    GPU_mem   box_loss   cls_loss   dfl_loss  Instances       Size\n"
     ]
    },
    {
     "name": "stderr",
     "output_type": "stream",
     "text": [
      "   189/1000      3.08G      1.171     0.6689      1.123         21        640: 100%|██████████| 74/74 [00:09<00:00,  7.90it/s]\n",
      "                 Class     Images  Instances      Box(P          R      mAP50  mAP50-95): 100%|██████████| 8/8 [00:01<00:00,  6.17it/s]"
     ]
    },
    {
     "name": "stdout",
     "output_type": "stream",
     "text": [
      "                   all        250       2831      0.898      0.856      0.938       0.63\n"
     ]
    },
    {
     "name": "stderr",
     "output_type": "stream",
     "text": [
      "\n"
     ]
    },
    {
     "name": "stdout",
     "output_type": "stream",
     "text": [
      "\n",
      "      Epoch    GPU_mem   box_loss   cls_loss   dfl_loss  Instances       Size\n"
     ]
    },
    {
     "name": "stderr",
     "output_type": "stream",
     "text": [
      "   190/1000      2.84G       1.17     0.6672       1.11         40        640: 100%|██████████| 74/74 [00:09<00:00,  7.61it/s]\n",
      "                 Class     Images  Instances      Box(P          R      mAP50  mAP50-95): 100%|██████████| 8/8 [00:01<00:00,  6.31it/s]"
     ]
    },
    {
     "name": "stdout",
     "output_type": "stream",
     "text": [
      "                   all        250       2831      0.894      0.849      0.935      0.628\n"
     ]
    },
    {
     "name": "stderr",
     "output_type": "stream",
     "text": [
      "\n"
     ]
    },
    {
     "name": "stdout",
     "output_type": "stream",
     "text": [
      "\n",
      "      Epoch    GPU_mem   box_loss   cls_loss   dfl_loss  Instances       Size\n"
     ]
    },
    {
     "name": "stderr",
     "output_type": "stream",
     "text": [
      "   191/1000      2.82G      1.167     0.6599      1.112         41        640: 100%|██████████| 74/74 [00:09<00:00,  7.88it/s]\n",
      "                 Class     Images  Instances      Box(P          R      mAP50  mAP50-95): 100%|██████████| 8/8 [00:01<00:00,  6.25it/s]"
     ]
    },
    {
     "name": "stdout",
     "output_type": "stream",
     "text": [
      "                   all        250       2831      0.889      0.846      0.929       0.62\n"
     ]
    },
    {
     "name": "stderr",
     "output_type": "stream",
     "text": [
      "\n"
     ]
    },
    {
     "name": "stdout",
     "output_type": "stream",
     "text": [
      "\n",
      "      Epoch    GPU_mem   box_loss   cls_loss   dfl_loss  Instances       Size\n"
     ]
    },
    {
     "name": "stderr",
     "output_type": "stream",
     "text": [
      "   192/1000      2.92G      1.164     0.6635      1.113         25        640: 100%|██████████| 74/74 [00:09<00:00,  7.87it/s]\n",
      "                 Class     Images  Instances      Box(P          R      mAP50  mAP50-95): 100%|██████████| 8/8 [00:01<00:00,  6.20it/s]"
     ]
    },
    {
     "name": "stdout",
     "output_type": "stream",
     "text": [
      "                   all        250       2831      0.884      0.856      0.931      0.621\n"
     ]
    },
    {
     "name": "stderr",
     "output_type": "stream",
     "text": [
      "\n"
     ]
    },
    {
     "name": "stdout",
     "output_type": "stream",
     "text": [
      "\n",
      "      Epoch    GPU_mem   box_loss   cls_loss   dfl_loss  Instances       Size\n"
     ]
    },
    {
     "name": "stderr",
     "output_type": "stream",
     "text": [
      "   193/1000      2.82G      1.165     0.6652      1.116         14        640: 100%|██████████| 74/74 [00:09<00:00,  7.88it/s]\n",
      "                 Class     Images  Instances      Box(P          R      mAP50  mAP50-95): 100%|██████████| 8/8 [00:01<00:00,  6.25it/s]"
     ]
    },
    {
     "name": "stdout",
     "output_type": "stream",
     "text": [
      "                   all        250       2831      0.898      0.831       0.93      0.623\n"
     ]
    },
    {
     "name": "stderr",
     "output_type": "stream",
     "text": [
      "\n"
     ]
    },
    {
     "name": "stdout",
     "output_type": "stream",
     "text": [
      "\n",
      "      Epoch    GPU_mem   box_loss   cls_loss   dfl_loss  Instances       Size\n"
     ]
    },
    {
     "name": "stderr",
     "output_type": "stream",
     "text": [
      "   194/1000      3.04G      1.157     0.6585      1.111         41        640: 100%|██████████| 74/74 [00:09<00:00,  7.90it/s]\n",
      "                 Class     Images  Instances      Box(P          R      mAP50  mAP50-95): 100%|██████████| 8/8 [00:01<00:00,  6.17it/s]"
     ]
    },
    {
     "name": "stdout",
     "output_type": "stream",
     "text": [
      "                   all        250       2831      0.895      0.841      0.932      0.624\n"
     ]
    },
    {
     "name": "stderr",
     "output_type": "stream",
     "text": [
      "\n"
     ]
    },
    {
     "name": "stdout",
     "output_type": "stream",
     "text": [
      "\n",
      "      Epoch    GPU_mem   box_loss   cls_loss   dfl_loss  Instances       Size\n"
     ]
    },
    {
     "name": "stderr",
     "output_type": "stream",
     "text": [
      "   195/1000      3.01G      1.167     0.6638      1.113         11        640: 100%|██████████| 74/74 [00:09<00:00,  7.78it/s]\n",
      "                 Class     Images  Instances      Box(P          R      mAP50  mAP50-95): 100%|██████████| 8/8 [00:01<00:00,  6.12it/s]"
     ]
    },
    {
     "name": "stdout",
     "output_type": "stream",
     "text": [
      "                   all        250       2831      0.894      0.844      0.934      0.622\n"
     ]
    },
    {
     "name": "stderr",
     "output_type": "stream",
     "text": [
      "\n"
     ]
    },
    {
     "name": "stdout",
     "output_type": "stream",
     "text": [
      "\n",
      "      Epoch    GPU_mem   box_loss   cls_loss   dfl_loss  Instances       Size\n"
     ]
    },
    {
     "name": "stderr",
     "output_type": "stream",
     "text": [
      "   196/1000      2.75G      1.147     0.6578      1.104         12        640: 100%|██████████| 74/74 [00:09<00:00,  7.85it/s]\n",
      "                 Class     Images  Instances      Box(P          R      mAP50  mAP50-95): 100%|██████████| 8/8 [00:01<00:00,  6.26it/s]"
     ]
    },
    {
     "name": "stdout",
     "output_type": "stream",
     "text": [
      "                   all        250       2831      0.908      0.847      0.937      0.631\n"
     ]
    },
    {
     "name": "stderr",
     "output_type": "stream",
     "text": [
      "\n"
     ]
    },
    {
     "name": "stdout",
     "output_type": "stream",
     "text": [
      "\n",
      "      Epoch    GPU_mem   box_loss   cls_loss   dfl_loss  Instances       Size\n"
     ]
    },
    {
     "name": "stderr",
     "output_type": "stream",
     "text": [
      "   197/1000      3.03G      1.174     0.6667      1.119         30        640: 100%|██████████| 74/74 [00:09<00:00,  7.89it/s]\n",
      "                 Class     Images  Instances      Box(P          R      mAP50  mAP50-95): 100%|██████████| 8/8 [00:01<00:00,  6.21it/s]"
     ]
    },
    {
     "name": "stdout",
     "output_type": "stream",
     "text": [
      "                   all        250       2831      0.892      0.858      0.934      0.629\n"
     ]
    },
    {
     "name": "stderr",
     "output_type": "stream",
     "text": [
      "\n"
     ]
    },
    {
     "name": "stdout",
     "output_type": "stream",
     "text": [
      "\n",
      "      Epoch    GPU_mem   box_loss   cls_loss   dfl_loss  Instances       Size\n"
     ]
    },
    {
     "name": "stderr",
     "output_type": "stream",
     "text": [
      "   198/1000      2.74G      1.165     0.6604      1.107         62        640: 100%|██████████| 74/74 [00:09<00:00,  7.86it/s]\n",
      "                 Class     Images  Instances      Box(P          R      mAP50  mAP50-95): 100%|██████████| 8/8 [00:01<00:00,  6.31it/s]"
     ]
    },
    {
     "name": "stdout",
     "output_type": "stream",
     "text": [
      "                   all        250       2831      0.894      0.852      0.936      0.626\n"
     ]
    },
    {
     "name": "stderr",
     "output_type": "stream",
     "text": [
      "\n"
     ]
    },
    {
     "name": "stdout",
     "output_type": "stream",
     "text": [
      "\n",
      "      Epoch    GPU_mem   box_loss   cls_loss   dfl_loss  Instances       Size\n"
     ]
    },
    {
     "name": "stderr",
     "output_type": "stream",
     "text": [
      "   199/1000       3.7G      1.165      0.663       1.11         58        640: 100%|██████████| 74/74 [00:09<00:00,  7.69it/s]\n",
      "                 Class     Images  Instances      Box(P          R      mAP50  mAP50-95): 100%|██████████| 8/8 [00:01<00:00,  6.13it/s]"
     ]
    },
    {
     "name": "stdout",
     "output_type": "stream",
     "text": [
      "                   all        250       2831      0.899      0.849      0.938      0.632\n"
     ]
    },
    {
     "name": "stderr",
     "output_type": "stream",
     "text": [
      "\n"
     ]
    },
    {
     "name": "stdout",
     "output_type": "stream",
     "text": [
      "\n",
      "      Epoch    GPU_mem   box_loss   cls_loss   dfl_loss  Instances       Size\n"
     ]
    },
    {
     "name": "stderr",
     "output_type": "stream",
     "text": [
      "   200/1000      2.81G      1.162     0.6675       1.11         24        640: 100%|██████████| 74/74 [00:09<00:00,  7.66it/s]\n",
      "                 Class     Images  Instances      Box(P          R      mAP50  mAP50-95): 100%|██████████| 8/8 [00:01<00:00,  6.07it/s]"
     ]
    },
    {
     "name": "stdout",
     "output_type": "stream",
     "text": [
      "                   all        250       2831      0.891      0.852      0.934      0.625\n"
     ]
    },
    {
     "name": "stderr",
     "output_type": "stream",
     "text": [
      "\n"
     ]
    },
    {
     "name": "stdout",
     "output_type": "stream",
     "text": [
      "\n",
      "      Epoch    GPU_mem   box_loss   cls_loss   dfl_loss  Instances       Size\n"
     ]
    },
    {
     "name": "stderr",
     "output_type": "stream",
     "text": [
      "   201/1000      3.02G      1.159      0.666      1.105         29        640: 100%|██████████| 74/74 [00:09<00:00,  7.74it/s]\n",
      "                 Class     Images  Instances      Box(P          R      mAP50  mAP50-95): 100%|██████████| 8/8 [00:01<00:00,  6.15it/s]"
     ]
    },
    {
     "name": "stdout",
     "output_type": "stream",
     "text": [
      "                   all        250       2831       0.88      0.865      0.934      0.629\n"
     ]
    },
    {
     "name": "stderr",
     "output_type": "stream",
     "text": [
      "\n"
     ]
    },
    {
     "name": "stdout",
     "output_type": "stream",
     "text": [
      "\n",
      "      Epoch    GPU_mem   box_loss   cls_loss   dfl_loss  Instances       Size\n"
     ]
    },
    {
     "name": "stderr",
     "output_type": "stream",
     "text": [
      "   202/1000      3.06G      1.157     0.6651      1.105         49        640: 100%|██████████| 74/74 [00:09<00:00,  7.80it/s]\n",
      "                 Class     Images  Instances      Box(P          R      mAP50  mAP50-95): 100%|██████████| 8/8 [00:01<00:00,  6.20it/s]"
     ]
    },
    {
     "name": "stdout",
     "output_type": "stream",
     "text": [
      "                   all        250       2831      0.897      0.852      0.937       0.63\n"
     ]
    },
    {
     "name": "stderr",
     "output_type": "stream",
     "text": [
      "\n"
     ]
    },
    {
     "name": "stdout",
     "output_type": "stream",
     "text": [
      "\n",
      "      Epoch    GPU_mem   box_loss   cls_loss   dfl_loss  Instances       Size\n"
     ]
    },
    {
     "name": "stderr",
     "output_type": "stream",
     "text": [
      "   203/1000       3.2G      1.152     0.6591      1.104         18        640: 100%|██████████| 74/74 [00:09<00:00,  7.74it/s]\n",
      "                 Class     Images  Instances      Box(P          R      mAP50  mAP50-95): 100%|██████████| 8/8 [00:01<00:00,  6.26it/s]"
     ]
    },
    {
     "name": "stdout",
     "output_type": "stream",
     "text": [
      "                   all        250       2831      0.909      0.836      0.933      0.629\n"
     ]
    },
    {
     "name": "stderr",
     "output_type": "stream",
     "text": [
      "\n"
     ]
    },
    {
     "name": "stdout",
     "output_type": "stream",
     "text": [
      "\n",
      "      Epoch    GPU_mem   box_loss   cls_loss   dfl_loss  Instances       Size\n"
     ]
    },
    {
     "name": "stderr",
     "output_type": "stream",
     "text": [
      "   204/1000      3.11G      1.149     0.6507      1.103         44        640: 100%|██████████| 74/74 [00:09<00:00,  7.76it/s]\n",
      "                 Class     Images  Instances      Box(P          R      mAP50  mAP50-95): 100%|██████████| 8/8 [00:01<00:00,  6.16it/s]"
     ]
    },
    {
     "name": "stdout",
     "output_type": "stream",
     "text": [
      "                   all        250       2831      0.869      0.865      0.931      0.624\n"
     ]
    },
    {
     "name": "stderr",
     "output_type": "stream",
     "text": [
      "\n"
     ]
    },
    {
     "name": "stdout",
     "output_type": "stream",
     "text": [
      "\n",
      "      Epoch    GPU_mem   box_loss   cls_loss   dfl_loss  Instances       Size\n"
     ]
    },
    {
     "name": "stderr",
     "output_type": "stream",
     "text": [
      "   205/1000         3G      1.152     0.6572      1.113         18        640: 100%|██████████| 74/74 [00:09<00:00,  7.78it/s]\n",
      "                 Class     Images  Instances      Box(P          R      mAP50  mAP50-95): 100%|██████████| 8/8 [00:01<00:00,  6.05it/s]"
     ]
    },
    {
     "name": "stdout",
     "output_type": "stream",
     "text": [
      "                   all        250       2831      0.888       0.85      0.933      0.629\n"
     ]
    },
    {
     "name": "stderr",
     "output_type": "stream",
     "text": [
      "\n"
     ]
    },
    {
     "name": "stdout",
     "output_type": "stream",
     "text": [
      "\n",
      "      Epoch    GPU_mem   box_loss   cls_loss   dfl_loss  Instances       Size\n"
     ]
    },
    {
     "name": "stderr",
     "output_type": "stream",
     "text": [
      "   206/1000       3.1G      1.157     0.6481      1.103         16        640: 100%|██████████| 74/74 [00:09<00:00,  7.82it/s]\n",
      "                 Class     Images  Instances      Box(P          R      mAP50  mAP50-95): 100%|██████████| 8/8 [00:01<00:00,  6.15it/s]"
     ]
    },
    {
     "name": "stdout",
     "output_type": "stream",
     "text": [
      "                   all        250       2831      0.895      0.858      0.934      0.629\n"
     ]
    },
    {
     "name": "stderr",
     "output_type": "stream",
     "text": [
      "\n"
     ]
    },
    {
     "name": "stdout",
     "output_type": "stream",
     "text": [
      "\n",
      "      Epoch    GPU_mem   box_loss   cls_loss   dfl_loss  Instances       Size\n"
     ]
    },
    {
     "name": "stderr",
     "output_type": "stream",
     "text": [
      "   207/1000      2.95G      1.149      0.656      1.102         15        640: 100%|██████████| 74/74 [00:09<00:00,  7.77it/s]\n",
      "                 Class     Images  Instances      Box(P          R      mAP50  mAP50-95): 100%|██████████| 8/8 [00:01<00:00,  6.06it/s]"
     ]
    },
    {
     "name": "stdout",
     "output_type": "stream",
     "text": [
      "                   all        250       2831      0.899      0.853      0.937      0.632\n"
     ]
    },
    {
     "name": "stderr",
     "output_type": "stream",
     "text": [
      "\n"
     ]
    },
    {
     "name": "stdout",
     "output_type": "stream",
     "text": [
      "\n",
      "      Epoch    GPU_mem   box_loss   cls_loss   dfl_loss  Instances       Size\n"
     ]
    },
    {
     "name": "stderr",
     "output_type": "stream",
     "text": [
      "   208/1000      2.76G      1.152     0.6574      1.108         31        640: 100%|██████████| 74/74 [00:09<00:00,  7.76it/s]\n",
      "                 Class     Images  Instances      Box(P          R      mAP50  mAP50-95): 100%|██████████| 8/8 [00:01<00:00,  6.02it/s]"
     ]
    },
    {
     "name": "stdout",
     "output_type": "stream",
     "text": [
      "                   all        250       2831      0.897      0.853      0.938      0.627\n"
     ]
    },
    {
     "name": "stderr",
     "output_type": "stream",
     "text": [
      "\n"
     ]
    },
    {
     "name": "stdout",
     "output_type": "stream",
     "text": [
      "\n",
      "      Epoch    GPU_mem   box_loss   cls_loss   dfl_loss  Instances       Size\n"
     ]
    },
    {
     "name": "stderr",
     "output_type": "stream",
     "text": [
      "   209/1000      3.06G      1.164     0.6629      1.119         10        640: 100%|██████████| 74/74 [00:09<00:00,  7.87it/s]\n",
      "                 Class     Images  Instances      Box(P          R      mAP50  mAP50-95): 100%|██████████| 8/8 [00:01<00:00,  6.16it/s]"
     ]
    },
    {
     "name": "stdout",
     "output_type": "stream",
     "text": [
      "                   all        250       2831       0.89      0.858      0.933      0.628\n"
     ]
    },
    {
     "name": "stderr",
     "output_type": "stream",
     "text": [
      "\n"
     ]
    },
    {
     "name": "stdout",
     "output_type": "stream",
     "text": [
      "\n",
      "      Epoch    GPU_mem   box_loss   cls_loss   dfl_loss  Instances       Size\n"
     ]
    },
    {
     "name": "stderr",
     "output_type": "stream",
     "text": [
      "   210/1000      3.15G      1.151     0.6575      1.109         30        640: 100%|██████████| 74/74 [00:09<00:00,  7.72it/s]\n",
      "                 Class     Images  Instances      Box(P          R      mAP50  mAP50-95): 100%|██████████| 8/8 [00:01<00:00,  6.21it/s]"
     ]
    },
    {
     "name": "stdout",
     "output_type": "stream",
     "text": [
      "                   all        250       2831      0.902      0.849      0.937       0.63\n"
     ]
    },
    {
     "name": "stderr",
     "output_type": "stream",
     "text": [
      "\n"
     ]
    },
    {
     "name": "stdout",
     "output_type": "stream",
     "text": [
      "\n",
      "      Epoch    GPU_mem   box_loss   cls_loss   dfl_loss  Instances       Size\n"
     ]
    },
    {
     "name": "stderr",
     "output_type": "stream",
     "text": [
      "   211/1000       3.1G      1.161     0.6571      1.113         26        640: 100%|██████████| 74/74 [00:09<00:00,  7.89it/s]\n",
      "                 Class     Images  Instances      Box(P          R      mAP50  mAP50-95): 100%|██████████| 8/8 [00:01<00:00,  6.25it/s]"
     ]
    },
    {
     "name": "stdout",
     "output_type": "stream",
     "text": [
      "                   all        250       2831      0.914       0.85      0.937      0.631\n"
     ]
    },
    {
     "name": "stderr",
     "output_type": "stream",
     "text": [
      "\n"
     ]
    },
    {
     "name": "stdout",
     "output_type": "stream",
     "text": [
      "\n",
      "      Epoch    GPU_mem   box_loss   cls_loss   dfl_loss  Instances       Size\n"
     ]
    },
    {
     "name": "stderr",
     "output_type": "stream",
     "text": [
      "   212/1000      2.98G      1.167     0.6693      1.117         18        640: 100%|██████████| 74/74 [00:09<00:00,  7.78it/s]\n",
      "                 Class     Images  Instances      Box(P          R      mAP50  mAP50-95): 100%|██████████| 8/8 [00:01<00:00,  6.34it/s]"
     ]
    },
    {
     "name": "stdout",
     "output_type": "stream",
     "text": [
      "                   all        250       2831      0.901      0.863      0.939      0.632\n"
     ]
    },
    {
     "name": "stderr",
     "output_type": "stream",
     "text": [
      "\n"
     ]
    },
    {
     "name": "stdout",
     "output_type": "stream",
     "text": [
      "\n",
      "      Epoch    GPU_mem   box_loss   cls_loss   dfl_loss  Instances       Size\n"
     ]
    },
    {
     "name": "stderr",
     "output_type": "stream",
     "text": [
      "   213/1000      3.01G      1.156     0.6531      1.104         14        640: 100%|██████████| 74/74 [00:09<00:00,  7.89it/s]\n",
      "                 Class     Images  Instances      Box(P          R      mAP50  mAP50-95): 100%|██████████| 8/8 [00:01<00:00,  6.15it/s]"
     ]
    },
    {
     "name": "stdout",
     "output_type": "stream",
     "text": [
      "                   all        250       2831      0.903      0.853      0.937      0.627\n"
     ]
    },
    {
     "name": "stderr",
     "output_type": "stream",
     "text": [
      "\n"
     ]
    },
    {
     "name": "stdout",
     "output_type": "stream",
     "text": [
      "\n",
      "      Epoch    GPU_mem   box_loss   cls_loss   dfl_loss  Instances       Size\n"
     ]
    },
    {
     "name": "stderr",
     "output_type": "stream",
     "text": [
      "   214/1000       2.9G      1.148     0.6536      1.101         43        640: 100%|██████████| 74/74 [00:09<00:00,  7.76it/s]\n",
      "                 Class     Images  Instances      Box(P          R      mAP50  mAP50-95): 100%|██████████| 8/8 [00:01<00:00,  6.24it/s]"
     ]
    },
    {
     "name": "stdout",
     "output_type": "stream",
     "text": [
      "                   all        250       2831       0.89      0.874       0.94      0.626\n"
     ]
    },
    {
     "name": "stderr",
     "output_type": "stream",
     "text": [
      "\n"
     ]
    },
    {
     "name": "stdout",
     "output_type": "stream",
     "text": [
      "\n",
      "      Epoch    GPU_mem   box_loss   cls_loss   dfl_loss  Instances       Size\n"
     ]
    },
    {
     "name": "stderr",
     "output_type": "stream",
     "text": [
      "   215/1000      2.95G      1.143     0.6537      1.097         33        640: 100%|██████████| 74/74 [00:09<00:00,  7.89it/s]\n",
      "                 Class     Images  Instances      Box(P          R      mAP50  mAP50-95): 100%|██████████| 8/8 [00:01<00:00,  6.22it/s]"
     ]
    },
    {
     "name": "stdout",
     "output_type": "stream",
     "text": [
      "                   all        250       2831       0.89      0.862      0.937      0.627\n"
     ]
    },
    {
     "name": "stderr",
     "output_type": "stream",
     "text": [
      "\n"
     ]
    },
    {
     "name": "stdout",
     "output_type": "stream",
     "text": [
      "\n",
      "      Epoch    GPU_mem   box_loss   cls_loss   dfl_loss  Instances       Size\n"
     ]
    },
    {
     "name": "stderr",
     "output_type": "stream",
     "text": [
      "   216/1000      3.15G      1.152     0.6569      1.107         13        640: 100%|██████████| 74/74 [00:09<00:00,  7.90it/s]\n",
      "                 Class     Images  Instances      Box(P          R      mAP50  mAP50-95): 100%|██████████| 8/8 [00:01<00:00,  6.41it/s]"
     ]
    },
    {
     "name": "stdout",
     "output_type": "stream",
     "text": [
      "                   all        250       2831      0.902      0.853      0.937       0.63\n"
     ]
    },
    {
     "name": "stderr",
     "output_type": "stream",
     "text": [
      "\n"
     ]
    },
    {
     "name": "stdout",
     "output_type": "stream",
     "text": [
      "\n",
      "      Epoch    GPU_mem   box_loss   cls_loss   dfl_loss  Instances       Size\n"
     ]
    },
    {
     "name": "stderr",
     "output_type": "stream",
     "text": [
      "   217/1000      2.81G      1.166     0.6575      1.108         21        640: 100%|██████████| 74/74 [00:09<00:00,  7.71it/s]\n",
      "                 Class     Images  Instances      Box(P          R      mAP50  mAP50-95): 100%|██████████| 8/8 [00:01<00:00,  6.28it/s]"
     ]
    },
    {
     "name": "stdout",
     "output_type": "stream",
     "text": [
      "                   all        250       2831      0.903      0.843      0.933      0.629\n"
     ]
    },
    {
     "name": "stderr",
     "output_type": "stream",
     "text": [
      "\n"
     ]
    },
    {
     "name": "stdout",
     "output_type": "stream",
     "text": [
      "\n",
      "      Epoch    GPU_mem   box_loss   cls_loss   dfl_loss  Instances       Size\n"
     ]
    },
    {
     "name": "stderr",
     "output_type": "stream",
     "text": [
      "   218/1000      2.96G      1.144     0.6573        1.1         36        640: 100%|██████████| 74/74 [00:09<00:00,  7.89it/s]\n",
      "                 Class     Images  Instances      Box(P          R      mAP50  mAP50-95): 100%|██████████| 8/8 [00:01<00:00,  6.16it/s]"
     ]
    },
    {
     "name": "stdout",
     "output_type": "stream",
     "text": [
      "                   all        250       2831      0.888      0.848      0.932      0.627\n"
     ]
    },
    {
     "name": "stderr",
     "output_type": "stream",
     "text": [
      "\n"
     ]
    },
    {
     "name": "stdout",
     "output_type": "stream",
     "text": [
      "\n",
      "      Epoch    GPU_mem   box_loss   cls_loss   dfl_loss  Instances       Size\n"
     ]
    },
    {
     "name": "stderr",
     "output_type": "stream",
     "text": [
      "   219/1000      3.09G      1.154     0.6602       1.11         17        640: 100%|██████████| 74/74 [00:09<00:00,  7.76it/s]\n",
      "                 Class     Images  Instances      Box(P          R      mAP50  mAP50-95): 100%|██████████| 8/8 [00:01<00:00,  6.29it/s]"
     ]
    },
    {
     "name": "stdout",
     "output_type": "stream",
     "text": [
      "                   all        250       2831       0.89      0.864      0.937      0.629\n"
     ]
    },
    {
     "name": "stderr",
     "output_type": "stream",
     "text": [
      "\n"
     ]
    },
    {
     "name": "stdout",
     "output_type": "stream",
     "text": [
      "\n",
      "      Epoch    GPU_mem   box_loss   cls_loss   dfl_loss  Instances       Size\n"
     ]
    },
    {
     "name": "stderr",
     "output_type": "stream",
     "text": [
      "   220/1000      3.04G      1.146     0.6469        1.1         21        640: 100%|██████████| 74/74 [00:09<00:00,  7.92it/s]\n",
      "                 Class     Images  Instances      Box(P          R      mAP50  mAP50-95): 100%|██████████| 8/8 [00:01<00:00,  6.15it/s]"
     ]
    },
    {
     "name": "stdout",
     "output_type": "stream",
     "text": [
      "                   all        250       2831       0.89      0.859      0.936      0.628\n"
     ]
    },
    {
     "name": "stderr",
     "output_type": "stream",
     "text": [
      "\n"
     ]
    },
    {
     "name": "stdout",
     "output_type": "stream",
     "text": [
      "\n",
      "      Epoch    GPU_mem   box_loss   cls_loss   dfl_loss  Instances       Size\n"
     ]
    },
    {
     "name": "stderr",
     "output_type": "stream",
     "text": [
      "   221/1000      3.25G      1.144     0.6519      1.106          9        640: 100%|██████████| 74/74 [00:09<00:00,  7.92it/s]\n",
      "                 Class     Images  Instances      Box(P          R      mAP50  mAP50-95): 100%|██████████| 8/8 [00:01<00:00,  6.21it/s]"
     ]
    },
    {
     "name": "stdout",
     "output_type": "stream",
     "text": [
      "                   all        250       2831        0.9      0.846      0.936      0.629\n"
     ]
    },
    {
     "name": "stderr",
     "output_type": "stream",
     "text": [
      "\n"
     ]
    },
    {
     "name": "stdout",
     "output_type": "stream",
     "text": [
      "\n",
      "      Epoch    GPU_mem   box_loss   cls_loss   dfl_loss  Instances       Size\n"
     ]
    },
    {
     "name": "stderr",
     "output_type": "stream",
     "text": [
      "   222/1000      2.82G      1.151     0.6559      1.112         20        640: 100%|██████████| 74/74 [00:09<00:00,  7.80it/s]\n",
      "                 Class     Images  Instances      Box(P          R      mAP50  mAP50-95): 100%|██████████| 8/8 [00:01<00:00,  6.27it/s]"
     ]
    },
    {
     "name": "stdout",
     "output_type": "stream",
     "text": [
      "                   all        250       2831      0.894      0.861      0.938      0.632\n"
     ]
    },
    {
     "name": "stderr",
     "output_type": "stream",
     "text": [
      "\n"
     ]
    },
    {
     "name": "stdout",
     "output_type": "stream",
     "text": [
      "\n",
      "      Epoch    GPU_mem   box_loss   cls_loss   dfl_loss  Instances       Size\n"
     ]
    },
    {
     "name": "stderr",
     "output_type": "stream",
     "text": [
      "   223/1000      3.06G      1.149     0.6537      1.112         20        640: 100%|██████████| 74/74 [00:09<00:00,  7.96it/s]\n",
      "                 Class     Images  Instances      Box(P          R      mAP50  mAP50-95): 100%|██████████| 8/8 [00:01<00:00,  6.26it/s]"
     ]
    },
    {
     "name": "stdout",
     "output_type": "stream",
     "text": [
      "                   all        250       2831      0.891      0.851      0.932      0.631\n"
     ]
    },
    {
     "name": "stderr",
     "output_type": "stream",
     "text": [
      "\n"
     ]
    },
    {
     "name": "stdout",
     "output_type": "stream",
     "text": [
      "\n",
      "      Epoch    GPU_mem   box_loss   cls_loss   dfl_loss  Instances       Size\n"
     ]
    },
    {
     "name": "stderr",
     "output_type": "stream",
     "text": [
      "   224/1000      3.12G      1.148     0.6501      1.099         12        640: 100%|██████████| 74/74 [00:09<00:00,  7.84it/s]\n",
      "                 Class     Images  Instances      Box(P          R      mAP50  mAP50-95): 100%|██████████| 8/8 [00:01<00:00,  6.34it/s]"
     ]
    },
    {
     "name": "stdout",
     "output_type": "stream",
     "text": [
      "                   all        250       2831      0.898      0.857      0.937       0.63\n"
     ]
    },
    {
     "name": "stderr",
     "output_type": "stream",
     "text": [
      "\n"
     ]
    },
    {
     "name": "stdout",
     "output_type": "stream",
     "text": [
      "\n",
      "      Epoch    GPU_mem   box_loss   cls_loss   dfl_loss  Instances       Size\n"
     ]
    },
    {
     "name": "stderr",
     "output_type": "stream",
     "text": [
      "   225/1000      3.33G      1.143     0.6485      1.098         25        640: 100%|██████████| 74/74 [00:09<00:00,  7.79it/s]\n",
      "                 Class     Images  Instances      Box(P          R      mAP50  mAP50-95): 100%|██████████| 8/8 [00:01<00:00,  6.34it/s]"
     ]
    },
    {
     "name": "stdout",
     "output_type": "stream",
     "text": [
      "                   all        250       2831      0.894      0.856      0.937      0.629\n"
     ]
    },
    {
     "name": "stderr",
     "output_type": "stream",
     "text": [
      "\n"
     ]
    },
    {
     "name": "stdout",
     "output_type": "stream",
     "text": [
      "\n",
      "      Epoch    GPU_mem   box_loss   cls_loss   dfl_loss  Instances       Size\n"
     ]
    },
    {
     "name": "stderr",
     "output_type": "stream",
     "text": [
      "   226/1000      2.95G      1.154     0.6629      1.111         44        640: 100%|██████████| 74/74 [00:09<00:00,  7.90it/s]\n",
      "                 Class     Images  Instances      Box(P          R      mAP50  mAP50-95): 100%|██████████| 8/8 [00:01<00:00,  6.32it/s]"
     ]
    },
    {
     "name": "stdout",
     "output_type": "stream",
     "text": [
      "                   all        250       2831       0.87      0.866      0.933      0.629\n"
     ]
    },
    {
     "name": "stderr",
     "output_type": "stream",
     "text": [
      "\n"
     ]
    },
    {
     "name": "stdout",
     "output_type": "stream",
     "text": [
      "\n",
      "      Epoch    GPU_mem   box_loss   cls_loss   dfl_loss  Instances       Size\n"
     ]
    },
    {
     "name": "stderr",
     "output_type": "stream",
     "text": [
      "   227/1000      3.16G      1.141     0.6484      1.099         10        640: 100%|██████████| 74/74 [00:09<00:00,  7.89it/s]\n",
      "                 Class     Images  Instances      Box(P          R      mAP50  mAP50-95): 100%|██████████| 8/8 [00:01<00:00,  6.16it/s]"
     ]
    },
    {
     "name": "stdout",
     "output_type": "stream",
     "text": [
      "                   all        250       2831      0.885      0.862      0.933      0.631\n"
     ]
    },
    {
     "name": "stderr",
     "output_type": "stream",
     "text": [
      "\n"
     ]
    },
    {
     "name": "stdout",
     "output_type": "stream",
     "text": [
      "\n",
      "      Epoch    GPU_mem   box_loss   cls_loss   dfl_loss  Instances       Size\n"
     ]
    },
    {
     "name": "stderr",
     "output_type": "stream",
     "text": [
      "   228/1000      3.07G      1.154     0.6628      1.107         18        640: 100%|██████████| 74/74 [00:09<00:00,  7.79it/s]\n",
      "                 Class     Images  Instances      Box(P          R      mAP50  mAP50-95): 100%|██████████| 8/8 [00:01<00:00,  6.10it/s]"
     ]
    },
    {
     "name": "stdout",
     "output_type": "stream",
     "text": [
      "                   all        250       2831      0.887      0.858      0.936      0.628\n"
     ]
    },
    {
     "name": "stderr",
     "output_type": "stream",
     "text": [
      "\n"
     ]
    },
    {
     "name": "stdout",
     "output_type": "stream",
     "text": [
      "\n",
      "      Epoch    GPU_mem   box_loss   cls_loss   dfl_loss  Instances       Size\n"
     ]
    },
    {
     "name": "stderr",
     "output_type": "stream",
     "text": [
      "   229/1000       3.1G       1.15     0.6471      1.102         25        640: 100%|██████████| 74/74 [00:09<00:00,  7.97it/s]\n",
      "                 Class     Images  Instances      Box(P          R      mAP50  mAP50-95): 100%|██████████| 8/8 [00:01<00:00,  6.25it/s]"
     ]
    },
    {
     "name": "stdout",
     "output_type": "stream",
     "text": [
      "                   all        250       2831       0.89      0.868       0.94      0.629\n"
     ]
    },
    {
     "name": "stderr",
     "output_type": "stream",
     "text": [
      "\n"
     ]
    },
    {
     "name": "stdout",
     "output_type": "stream",
     "text": [
      "\n",
      "      Epoch    GPU_mem   box_loss   cls_loss   dfl_loss  Instances       Size\n"
     ]
    },
    {
     "name": "stderr",
     "output_type": "stream",
     "text": [
      "   230/1000       2.9G      1.152     0.6499      1.108         13        640: 100%|██████████| 74/74 [00:09<00:00,  7.92it/s]\n",
      "                 Class     Images  Instances      Box(P          R      mAP50  mAP50-95): 100%|██████████| 8/8 [00:01<00:00,  6.20it/s]"
     ]
    },
    {
     "name": "stdout",
     "output_type": "stream",
     "text": [
      "                   all        250       2831       0.87      0.868      0.932      0.621\n"
     ]
    },
    {
     "name": "stderr",
     "output_type": "stream",
     "text": [
      "\n"
     ]
    },
    {
     "name": "stdout",
     "output_type": "stream",
     "text": [
      "\n",
      "      Epoch    GPU_mem   box_loss   cls_loss   dfl_loss  Instances       Size\n"
     ]
    },
    {
     "name": "stderr",
     "output_type": "stream",
     "text": [
      "   231/1000      2.67G      1.139     0.6383      1.099         15        640: 100%|██████████| 74/74 [00:09<00:00,  7.90it/s]\n",
      "                 Class     Images  Instances      Box(P          R      mAP50  mAP50-95): 100%|██████████| 8/8 [00:01<00:00,  6.38it/s]"
     ]
    },
    {
     "name": "stdout",
     "output_type": "stream",
     "text": [
      "                   all        250       2831      0.888       0.86      0.934      0.629\n"
     ]
    },
    {
     "name": "stderr",
     "output_type": "stream",
     "text": [
      "\n"
     ]
    },
    {
     "name": "stdout",
     "output_type": "stream",
     "text": [
      "\n",
      "      Epoch    GPU_mem   box_loss   cls_loss   dfl_loss  Instances       Size\n"
     ]
    },
    {
     "name": "stderr",
     "output_type": "stream",
     "text": [
      "   232/1000       2.8G      1.159     0.6602      1.112         27        640: 100%|██████████| 74/74 [00:09<00:00,  7.84it/s]\n",
      "                 Class     Images  Instances      Box(P          R      mAP50  mAP50-95): 100%|██████████| 8/8 [00:01<00:00,  6.37it/s]"
     ]
    },
    {
     "name": "stdout",
     "output_type": "stream",
     "text": [
      "                   all        250       2831      0.913      0.842      0.934      0.631\n"
     ]
    },
    {
     "name": "stderr",
     "output_type": "stream",
     "text": [
      "\n"
     ]
    },
    {
     "name": "stdout",
     "output_type": "stream",
     "text": [
      "\n",
      "      Epoch    GPU_mem   box_loss   cls_loss   dfl_loss  Instances       Size\n"
     ]
    },
    {
     "name": "stderr",
     "output_type": "stream",
     "text": [
      "   233/1000      2.88G      1.151     0.6478      1.103         31        640: 100%|██████████| 74/74 [00:09<00:00,  7.85it/s]\n",
      "                 Class     Images  Instances      Box(P          R      mAP50  mAP50-95): 100%|██████████| 8/8 [00:01<00:00,  6.20it/s]"
     ]
    },
    {
     "name": "stdout",
     "output_type": "stream",
     "text": [
      "                   all        250       2831      0.899      0.854      0.935      0.632\n"
     ]
    },
    {
     "name": "stderr",
     "output_type": "stream",
     "text": [
      "\n"
     ]
    },
    {
     "name": "stdout",
     "output_type": "stream",
     "text": [
      "\n",
      "      Epoch    GPU_mem   box_loss   cls_loss   dfl_loss  Instances       Size\n"
     ]
    },
    {
     "name": "stderr",
     "output_type": "stream",
     "text": [
      "   234/1000      3.08G      1.148     0.6509      1.103         38        640: 100%|██████████| 74/74 [00:09<00:00,  7.92it/s]\n",
      "                 Class     Images  Instances      Box(P          R      mAP50  mAP50-95): 100%|██████████| 8/8 [00:01<00:00,  6.16it/s]"
     ]
    },
    {
     "name": "stdout",
     "output_type": "stream",
     "text": [
      "                   all        250       2831      0.895      0.844      0.929       0.62\n"
     ]
    },
    {
     "name": "stderr",
     "output_type": "stream",
     "text": [
      "\n"
     ]
    },
    {
     "name": "stdout",
     "output_type": "stream",
     "text": [
      "\n",
      "      Epoch    GPU_mem   box_loss   cls_loss   dfl_loss  Instances       Size\n"
     ]
    },
    {
     "name": "stderr",
     "output_type": "stream",
     "text": [
      "   235/1000      3.01G      1.136      0.644      1.097         36        640: 100%|██████████| 74/74 [00:09<00:00,  7.90it/s]\n",
      "                 Class     Images  Instances      Box(P          R      mAP50  mAP50-95): 100%|██████████| 8/8 [00:01<00:00,  6.38it/s]"
     ]
    },
    {
     "name": "stdout",
     "output_type": "stream",
     "text": [
      "                   all        250       2831      0.901      0.851      0.934      0.629\n"
     ]
    },
    {
     "name": "stderr",
     "output_type": "stream",
     "text": [
      "\n"
     ]
    },
    {
     "name": "stdout",
     "output_type": "stream",
     "text": [
      "\n",
      "      Epoch    GPU_mem   box_loss   cls_loss   dfl_loss  Instances       Size\n"
     ]
    },
    {
     "name": "stderr",
     "output_type": "stream",
     "text": [
      "   236/1000      3.72G      1.147     0.6491      1.106         46        640: 100%|██████████| 74/74 [00:09<00:00,  7.85it/s]\n",
      "                 Class     Images  Instances      Box(P          R      mAP50  mAP50-95): 100%|██████████| 8/8 [00:01<00:00,  6.17it/s]"
     ]
    },
    {
     "name": "stdout",
     "output_type": "stream",
     "text": [
      "                   all        250       2831       0.89      0.864      0.938      0.629\n"
     ]
    },
    {
     "name": "stderr",
     "output_type": "stream",
     "text": [
      "\n"
     ]
    },
    {
     "name": "stdout",
     "output_type": "stream",
     "text": [
      "\n",
      "      Epoch    GPU_mem   box_loss   cls_loss   dfl_loss  Instances       Size\n"
     ]
    },
    {
     "name": "stderr",
     "output_type": "stream",
     "text": [
      "   237/1000       2.8G      1.147     0.6431      1.104         23        640: 100%|██████████| 74/74 [00:09<00:00,  7.71it/s]\n",
      "                 Class     Images  Instances      Box(P          R      mAP50  mAP50-95): 100%|██████████| 8/8 [00:01<00:00,  6.24it/s]"
     ]
    },
    {
     "name": "stdout",
     "output_type": "stream",
     "text": [
      "                   all        250       2831      0.893      0.858      0.936      0.628\n"
     ]
    },
    {
     "name": "stderr",
     "output_type": "stream",
     "text": [
      "\n"
     ]
    },
    {
     "name": "stdout",
     "output_type": "stream",
     "text": [
      "\n",
      "      Epoch    GPU_mem   box_loss   cls_loss   dfl_loss  Instances       Size\n"
     ]
    },
    {
     "name": "stderr",
     "output_type": "stream",
     "text": [
      "   238/1000      3.15G       1.15     0.6507      1.106         14        640: 100%|██████████| 74/74 [00:09<00:00,  7.83it/s]\n",
      "                 Class     Images  Instances      Box(P          R      mAP50  mAP50-95): 100%|██████████| 8/8 [00:01<00:00,  6.31it/s]"
     ]
    },
    {
     "name": "stdout",
     "output_type": "stream",
     "text": [
      "                   all        250       2831      0.895      0.859      0.934      0.625\n"
     ]
    },
    {
     "name": "stderr",
     "output_type": "stream",
     "text": [
      "\n"
     ]
    },
    {
     "name": "stdout",
     "output_type": "stream",
     "text": [
      "\n",
      "      Epoch    GPU_mem   box_loss   cls_loss   dfl_loss  Instances       Size\n"
     ]
    },
    {
     "name": "stderr",
     "output_type": "stream",
     "text": [
      "   239/1000       2.9G      1.159     0.6499      1.104         33        640: 100%|██████████| 74/74 [00:09<00:00,  7.89it/s]\n",
      "                 Class     Images  Instances      Box(P          R      mAP50  mAP50-95): 100%|██████████| 8/8 [00:01<00:00,  6.25it/s]"
     ]
    },
    {
     "name": "stdout",
     "output_type": "stream",
     "text": [
      "                   all        250       2831      0.896      0.852      0.934       0.63\n"
     ]
    },
    {
     "name": "stderr",
     "output_type": "stream",
     "text": [
      "\n"
     ]
    },
    {
     "name": "stdout",
     "output_type": "stream",
     "text": [
      "\n",
      "      Epoch    GPU_mem   box_loss   cls_loss   dfl_loss  Instances       Size\n"
     ]
    },
    {
     "name": "stderr",
     "output_type": "stream",
     "text": [
      "   240/1000      3.03G       1.15     0.6508      1.102         36        640: 100%|██████████| 74/74 [00:09<00:00,  7.87it/s]\n",
      "                 Class     Images  Instances      Box(P          R      mAP50  mAP50-95): 100%|██████████| 8/8 [00:01<00:00,  6.28it/s]"
     ]
    },
    {
     "name": "stdout",
     "output_type": "stream",
     "text": [
      "                   all        250       2831      0.893      0.857      0.936      0.628\n"
     ]
    },
    {
     "name": "stderr",
     "output_type": "stream",
     "text": [
      "\n"
     ]
    },
    {
     "name": "stdout",
     "output_type": "stream",
     "text": [
      "\n",
      "      Epoch    GPU_mem   box_loss   cls_loss   dfl_loss  Instances       Size\n"
     ]
    },
    {
     "name": "stderr",
     "output_type": "stream",
     "text": [
      "   241/1000      2.86G      1.146     0.6413      1.103         54        640: 100%|██████████| 74/74 [00:09<00:00,  7.93it/s]\n",
      "                 Class     Images  Instances      Box(P          R      mAP50  mAP50-95): 100%|██████████| 8/8 [00:01<00:00,  6.26it/s]"
     ]
    },
    {
     "name": "stdout",
     "output_type": "stream",
     "text": [
      "                   all        250       2831      0.904      0.852      0.939      0.635\n"
     ]
    },
    {
     "name": "stderr",
     "output_type": "stream",
     "text": [
      "\n"
     ]
    },
    {
     "name": "stdout",
     "output_type": "stream",
     "text": [
      "\n",
      "      Epoch    GPU_mem   box_loss   cls_loss   dfl_loss  Instances       Size\n"
     ]
    },
    {
     "name": "stderr",
     "output_type": "stream",
     "text": [
      "   242/1000         3G      1.137     0.6373      1.096         31        640: 100%|██████████| 74/74 [00:09<00:00,  7.68it/s]\n",
      "                 Class     Images  Instances      Box(P          R      mAP50  mAP50-95): 100%|██████████| 8/8 [00:01<00:00,  6.38it/s]"
     ]
    },
    {
     "name": "stdout",
     "output_type": "stream",
     "text": [
      "                   all        250       2831      0.893      0.858      0.935      0.629\n"
     ]
    },
    {
     "name": "stderr",
     "output_type": "stream",
     "text": [
      "\n"
     ]
    },
    {
     "name": "stdout",
     "output_type": "stream",
     "text": [
      "\n",
      "      Epoch    GPU_mem   box_loss   cls_loss   dfl_loss  Instances       Size\n"
     ]
    },
    {
     "name": "stderr",
     "output_type": "stream",
     "text": [
      "   243/1000      2.78G      1.146     0.6425        1.1          4        640: 100%|██████████| 74/74 [00:09<00:00,  7.83it/s]\n",
      "                 Class     Images  Instances      Box(P          R      mAP50  mAP50-95): 100%|██████████| 8/8 [00:01<00:00,  6.32it/s]"
     ]
    },
    {
     "name": "stdout",
     "output_type": "stream",
     "text": [
      "                   all        250       2831      0.891      0.851      0.935      0.629\n"
     ]
    },
    {
     "name": "stderr",
     "output_type": "stream",
     "text": [
      "\n"
     ]
    },
    {
     "name": "stdout",
     "output_type": "stream",
     "text": [
      "\n",
      "      Epoch    GPU_mem   box_loss   cls_loss   dfl_loss  Instances       Size\n"
     ]
    },
    {
     "name": "stderr",
     "output_type": "stream",
     "text": [
      "   244/1000      2.79G      1.139      0.642      1.095         28        640: 100%|██████████| 74/74 [00:09<00:00,  7.91it/s]\n",
      "                 Class     Images  Instances      Box(P          R      mAP50  mAP50-95): 100%|██████████| 8/8 [00:01<00:00,  6.19it/s]"
     ]
    },
    {
     "name": "stdout",
     "output_type": "stream",
     "text": [
      "                   all        250       2831      0.889      0.859      0.935      0.628\n"
     ]
    },
    {
     "name": "stderr",
     "output_type": "stream",
     "text": [
      "\n"
     ]
    },
    {
     "name": "stdout",
     "output_type": "stream",
     "text": [
      "\n",
      "      Epoch    GPU_mem   box_loss   cls_loss   dfl_loss  Instances       Size\n"
     ]
    },
    {
     "name": "stderr",
     "output_type": "stream",
     "text": [
      "   245/1000      2.99G      1.138     0.6382        1.1         45        640: 100%|██████████| 74/74 [00:09<00:00,  7.84it/s]\n",
      "                 Class     Images  Instances      Box(P          R      mAP50  mAP50-95): 100%|██████████| 8/8 [00:01<00:00,  6.26it/s]"
     ]
    },
    {
     "name": "stdout",
     "output_type": "stream",
     "text": [
      "                   all        250       2831      0.888      0.857      0.934      0.626\n"
     ]
    },
    {
     "name": "stderr",
     "output_type": "stream",
     "text": [
      "\n"
     ]
    },
    {
     "name": "stdout",
     "output_type": "stream",
     "text": [
      "\n",
      "      Epoch    GPU_mem   box_loss   cls_loss   dfl_loss  Instances       Size\n"
     ]
    },
    {
     "name": "stderr",
     "output_type": "stream",
     "text": [
      "   246/1000      3.07G       1.14     0.6436      1.094         49        640: 100%|██████████| 74/74 [00:09<00:00,  7.87it/s]\n",
      "                 Class     Images  Instances      Box(P          R      mAP50  mAP50-95): 100%|██████████| 8/8 [00:01<00:00,  6.38it/s]"
     ]
    },
    {
     "name": "stdout",
     "output_type": "stream",
     "text": [
      "                   all        250       2831      0.899      0.856      0.937       0.63\n"
     ]
    },
    {
     "name": "stderr",
     "output_type": "stream",
     "text": [
      "\n"
     ]
    },
    {
     "name": "stdout",
     "output_type": "stream",
     "text": [
      "\n",
      "      Epoch    GPU_mem   box_loss   cls_loss   dfl_loss  Instances       Size\n"
     ]
    },
    {
     "name": "stderr",
     "output_type": "stream",
     "text": [
      "   247/1000      2.94G      1.147     0.6445      1.102         12        640: 100%|██████████| 74/74 [00:09<00:00,  7.90it/s]\n",
      "                 Class     Images  Instances      Box(P          R      mAP50  mAP50-95): 100%|██████████| 8/8 [00:01<00:00,  6.26it/s]"
     ]
    },
    {
     "name": "stdout",
     "output_type": "stream",
     "text": [
      "                   all        250       2831      0.908      0.851      0.936      0.633\n"
     ]
    },
    {
     "name": "stderr",
     "output_type": "stream",
     "text": [
      "\n"
     ]
    },
    {
     "name": "stdout",
     "output_type": "stream",
     "text": [
      "\n",
      "      Epoch    GPU_mem   box_loss   cls_loss   dfl_loss  Instances       Size\n"
     ]
    },
    {
     "name": "stderr",
     "output_type": "stream",
     "text": [
      "   248/1000      2.93G      1.132     0.6318      1.096         36        640: 100%|██████████| 74/74 [00:09<00:00,  7.67it/s]\n",
      "                 Class     Images  Instances      Box(P          R      mAP50  mAP50-95): 100%|██████████| 8/8 [00:01<00:00,  6.07it/s]"
     ]
    },
    {
     "name": "stdout",
     "output_type": "stream",
     "text": [
      "                   all        250       2831      0.891      0.858      0.936      0.631\n"
     ]
    },
    {
     "name": "stderr",
     "output_type": "stream",
     "text": [
      "\n"
     ]
    },
    {
     "name": "stdout",
     "output_type": "stream",
     "text": [
      "\n",
      "      Epoch    GPU_mem   box_loss   cls_loss   dfl_loss  Instances       Size\n"
     ]
    },
    {
     "name": "stderr",
     "output_type": "stream",
     "text": [
      "   249/1000      2.83G       1.14     0.6409      1.098         20        640: 100%|██████████| 74/74 [00:09<00:00,  7.74it/s]\n",
      "                 Class     Images  Instances      Box(P          R      mAP50  mAP50-95): 100%|██████████| 8/8 [00:01<00:00,  6.14it/s]"
     ]
    },
    {
     "name": "stdout",
     "output_type": "stream",
     "text": [
      "                   all        250       2831        0.9      0.854      0.939      0.631\n"
     ]
    },
    {
     "name": "stderr",
     "output_type": "stream",
     "text": [
      "\n"
     ]
    },
    {
     "name": "stdout",
     "output_type": "stream",
     "text": [
      "\n",
      "      Epoch    GPU_mem   box_loss   cls_loss   dfl_loss  Instances       Size\n"
     ]
    },
    {
     "name": "stderr",
     "output_type": "stream",
     "text": [
      "   250/1000      2.93G      1.138     0.6461      1.098         23        640: 100%|██████████| 74/74 [00:09<00:00,  7.73it/s]\n",
      "                 Class     Images  Instances      Box(P          R      mAP50  mAP50-95): 100%|██████████| 8/8 [00:01<00:00,  6.13it/s]"
     ]
    },
    {
     "name": "stdout",
     "output_type": "stream",
     "text": [
      "                   all        250       2831      0.896      0.852      0.934       0.63\n"
     ]
    },
    {
     "name": "stderr",
     "output_type": "stream",
     "text": [
      "\n"
     ]
    },
    {
     "name": "stdout",
     "output_type": "stream",
     "text": [
      "\n",
      "      Epoch    GPU_mem   box_loss   cls_loss   dfl_loss  Instances       Size\n"
     ]
    },
    {
     "name": "stderr",
     "output_type": "stream",
     "text": [
      "   251/1000      3.46G      1.147     0.6497      1.099         16        640: 100%|██████████| 74/74 [00:09<00:00,  7.78it/s]\n",
      "                 Class     Images  Instances      Box(P          R      mAP50  mAP50-95): 100%|██████████| 8/8 [00:01<00:00,  6.16it/s]"
     ]
    },
    {
     "name": "stdout",
     "output_type": "stream",
     "text": [
      "                   all        250       2831      0.895      0.851      0.935      0.632\n"
     ]
    },
    {
     "name": "stderr",
     "output_type": "stream",
     "text": [
      "\n"
     ]
    },
    {
     "name": "stdout",
     "output_type": "stream",
     "text": [
      "\n",
      "      Epoch    GPU_mem   box_loss   cls_loss   dfl_loss  Instances       Size\n"
     ]
    },
    {
     "name": "stderr",
     "output_type": "stream",
     "text": [
      "   252/1000      3.21G      1.155     0.6483      1.101         28        640: 100%|██████████| 74/74 [00:09<00:00,  7.76it/s]\n",
      "                 Class     Images  Instances      Box(P          R      mAP50  mAP50-95): 100%|██████████| 8/8 [00:01<00:00,  6.20it/s]"
     ]
    },
    {
     "name": "stdout",
     "output_type": "stream",
     "text": [
      "                   all        250       2831      0.879      0.867      0.936       0.63\n"
     ]
    },
    {
     "name": "stderr",
     "output_type": "stream",
     "text": [
      "\n"
     ]
    },
    {
     "name": "stdout",
     "output_type": "stream",
     "text": [
      "\n",
      "      Epoch    GPU_mem   box_loss   cls_loss   dfl_loss  Instances       Size\n"
     ]
    },
    {
     "name": "stderr",
     "output_type": "stream",
     "text": [
      "   253/1000      3.06G      1.143     0.6456        1.1         35        640: 100%|██████████| 74/74 [00:09<00:00,  7.75it/s]\n",
      "                 Class     Images  Instances      Box(P          R      mAP50  mAP50-95): 100%|██████████| 8/8 [00:01<00:00,  6.10it/s]"
     ]
    },
    {
     "name": "stdout",
     "output_type": "stream",
     "text": [
      "                   all        250       2831       0.91      0.852      0.942      0.635\n"
     ]
    },
    {
     "name": "stderr",
     "output_type": "stream",
     "text": [
      "\n"
     ]
    },
    {
     "name": "stdout",
     "output_type": "stream",
     "text": [
      "\n",
      "      Epoch    GPU_mem   box_loss   cls_loss   dfl_loss  Instances       Size\n"
     ]
    },
    {
     "name": "stderr",
     "output_type": "stream",
     "text": [
      "   254/1000      2.62G      1.138     0.6457      1.098         27        640: 100%|██████████| 74/74 [00:09<00:00,  7.77it/s]\n",
      "                 Class     Images  Instances      Box(P          R      mAP50  mAP50-95): 100%|██████████| 8/8 [00:01<00:00,  6.02it/s]"
     ]
    },
    {
     "name": "stdout",
     "output_type": "stream",
     "text": [
      "                   all        250       2831      0.892      0.855      0.937      0.632\n"
     ]
    },
    {
     "name": "stderr",
     "output_type": "stream",
     "text": [
      "\n"
     ]
    },
    {
     "name": "stdout",
     "output_type": "stream",
     "text": [
      "\n",
      "      Epoch    GPU_mem   box_loss   cls_loss   dfl_loss  Instances       Size\n"
     ]
    },
    {
     "name": "stderr",
     "output_type": "stream",
     "text": [
      "   255/1000      2.85G      1.144     0.6417      1.096         32        640: 100%|██████████| 74/74 [00:09<00:00,  7.73it/s]\n",
      "                 Class     Images  Instances      Box(P          R      mAP50  mAP50-95): 100%|██████████| 8/8 [00:01<00:00,  6.17it/s]"
     ]
    },
    {
     "name": "stdout",
     "output_type": "stream",
     "text": [
      "                   all        250       2831      0.904       0.86      0.939      0.638\n"
     ]
    },
    {
     "name": "stderr",
     "output_type": "stream",
     "text": [
      "\n"
     ]
    },
    {
     "name": "stdout",
     "output_type": "stream",
     "text": [
      "\n",
      "      Epoch    GPU_mem   box_loss   cls_loss   dfl_loss  Instances       Size\n"
     ]
    },
    {
     "name": "stderr",
     "output_type": "stream",
     "text": [
      "   256/1000      3.15G       1.14     0.6374      1.097         24        640: 100%|██████████| 74/74 [00:09<00:00,  7.79it/s]\n",
      "                 Class     Images  Instances      Box(P          R      mAP50  mAP50-95): 100%|██████████| 8/8 [00:01<00:00,  6.12it/s]"
     ]
    },
    {
     "name": "stdout",
     "output_type": "stream",
     "text": [
      "                   all        250       2831      0.896      0.866       0.94      0.633\n"
     ]
    },
    {
     "name": "stderr",
     "output_type": "stream",
     "text": [
      "\n"
     ]
    },
    {
     "name": "stdout",
     "output_type": "stream",
     "text": [
      "\n",
      "      Epoch    GPU_mem   box_loss   cls_loss   dfl_loss  Instances       Size\n"
     ]
    },
    {
     "name": "stderr",
     "output_type": "stream",
     "text": [
      "   257/1000      2.95G      1.139      0.634      1.099         53        640: 100%|██████████| 74/74 [00:10<00:00,  6.92it/s]\n",
      "                 Class     Images  Instances      Box(P          R      mAP50  mAP50-95): 100%|██████████| 8/8 [00:01<00:00,  4.85it/s]"
     ]
    },
    {
     "name": "stdout",
     "output_type": "stream",
     "text": [
      "                   all        250       2831      0.891      0.869      0.939      0.632\n"
     ]
    },
    {
     "name": "stderr",
     "output_type": "stream",
     "text": [
      "\n"
     ]
    },
    {
     "name": "stdout",
     "output_type": "stream",
     "text": [
      "\n",
      "      Epoch    GPU_mem   box_loss   cls_loss   dfl_loss  Instances       Size\n"
     ]
    },
    {
     "name": "stderr",
     "output_type": "stream",
     "text": [
      "   258/1000      3.13G      1.134      0.639      1.092         37        640: 100%|██████████| 74/74 [00:19<00:00,  3.84it/s]\n",
      "                 Class     Images  Instances      Box(P          R      mAP50  mAP50-95): 100%|██████████| 8/8 [00:02<00:00,  2.93it/s]"
     ]
    },
    {
     "name": "stdout",
     "output_type": "stream",
     "text": [
      "                   all        250       2831      0.895      0.857      0.936      0.626\n"
     ]
    },
    {
     "name": "stderr",
     "output_type": "stream",
     "text": [
      "\n"
     ]
    },
    {
     "name": "stdout",
     "output_type": "stream",
     "text": [
      "\n",
      "      Epoch    GPU_mem   box_loss   cls_loss   dfl_loss  Instances       Size\n"
     ]
    },
    {
     "name": "stderr",
     "output_type": "stream",
     "text": [
      "   259/1000      2.71G      1.132     0.6346        1.1         20        640: 100%|██████████| 74/74 [00:17<00:00,  4.16it/s]\n",
      "                 Class     Images  Instances      Box(P          R      mAP50  mAP50-95): 100%|██████████| 8/8 [00:01<00:00,  6.39it/s]"
     ]
    },
    {
     "name": "stdout",
     "output_type": "stream",
     "text": [
      "                   all        250       2831      0.897      0.859      0.939      0.631\n"
     ]
    },
    {
     "name": "stderr",
     "output_type": "stream",
     "text": [
      "\n"
     ]
    },
    {
     "name": "stdout",
     "output_type": "stream",
     "text": [
      "\n",
      "      Epoch    GPU_mem   box_loss   cls_loss   dfl_loss  Instances       Size\n"
     ]
    },
    {
     "name": "stderr",
     "output_type": "stream",
     "text": [
      "   260/1000      2.69G      1.146     0.6416      1.095         17        640: 100%|██████████| 74/74 [00:09<00:00,  8.03it/s]\n",
      "                 Class     Images  Instances      Box(P          R      mAP50  mAP50-95): 100%|██████████| 8/8 [00:01<00:00,  6.53it/s]"
     ]
    },
    {
     "name": "stdout",
     "output_type": "stream",
     "text": [
      "                   all        250       2831      0.907      0.847      0.937       0.63\n"
     ]
    },
    {
     "name": "stderr",
     "output_type": "stream",
     "text": [
      "\n"
     ]
    },
    {
     "name": "stdout",
     "output_type": "stream",
     "text": [
      "\n",
      "      Epoch    GPU_mem   box_loss   cls_loss   dfl_loss  Instances       Size\n"
     ]
    },
    {
     "name": "stderr",
     "output_type": "stream",
     "text": [
      "   261/1000      2.95G      1.136     0.6393      1.095         27        640: 100%|██████████| 74/74 [00:09<00:00,  8.12it/s]\n",
      "                 Class     Images  Instances      Box(P          R      mAP50  mAP50-95): 100%|██████████| 8/8 [00:01<00:00,  6.48it/s]"
     ]
    },
    {
     "name": "stdout",
     "output_type": "stream",
     "text": [
      "                   all        250       2831      0.896      0.845      0.935      0.627\n"
     ]
    },
    {
     "name": "stderr",
     "output_type": "stream",
     "text": [
      "\n"
     ]
    },
    {
     "name": "stdout",
     "output_type": "stream",
     "text": [
      "\n",
      "      Epoch    GPU_mem   box_loss   cls_loss   dfl_loss  Instances       Size\n"
     ]
    },
    {
     "name": "stderr",
     "output_type": "stream",
     "text": [
      "   262/1000      3.03G      1.143     0.6391      1.098         76        640: 100%|██████████| 74/74 [00:09<00:00,  8.20it/s]\n",
      "                 Class     Images  Instances      Box(P          R      mAP50  mAP50-95): 100%|██████████| 8/8 [00:01<00:00,  6.44it/s]"
     ]
    },
    {
     "name": "stdout",
     "output_type": "stream",
     "text": [
      "                   all        250       2831      0.897       0.85      0.935       0.63\n"
     ]
    },
    {
     "name": "stderr",
     "output_type": "stream",
     "text": [
      "\n"
     ]
    },
    {
     "name": "stdout",
     "output_type": "stream",
     "text": [
      "\n",
      "      Epoch    GPU_mem   box_loss   cls_loss   dfl_loss  Instances       Size\n"
     ]
    },
    {
     "name": "stderr",
     "output_type": "stream",
     "text": [
      "   263/1000      3.09G      1.148     0.6444      1.103        107        640: 100%|██████████| 74/74 [00:09<00:00,  8.13it/s]\n",
      "                 Class     Images  Instances      Box(P          R      mAP50  mAP50-95): 100%|██████████| 8/8 [00:01<00:00,  6.45it/s]"
     ]
    },
    {
     "name": "stdout",
     "output_type": "stream",
     "text": [
      "                   all        250       2831      0.891       0.86      0.936       0.63\n"
     ]
    },
    {
     "name": "stderr",
     "output_type": "stream",
     "text": [
      "\n"
     ]
    },
    {
     "name": "stdout",
     "output_type": "stream",
     "text": [
      "\n",
      "      Epoch    GPU_mem   box_loss   cls_loss   dfl_loss  Instances       Size\n"
     ]
    },
    {
     "name": "stderr",
     "output_type": "stream",
     "text": [
      "   264/1000      3.17G      1.138     0.6455      1.097          4        640: 100%|██████████| 74/74 [00:09<00:00,  8.18it/s]\n",
      "                 Class     Images  Instances      Box(P          R      mAP50  mAP50-95): 100%|██████████| 8/8 [00:01<00:00,  6.53it/s]"
     ]
    },
    {
     "name": "stdout",
     "output_type": "stream",
     "text": [
      "                   all        250       2831      0.906      0.842      0.935      0.632\n"
     ]
    },
    {
     "name": "stderr",
     "output_type": "stream",
     "text": [
      "\n"
     ]
    },
    {
     "name": "stdout",
     "output_type": "stream",
     "text": [
      "\n",
      "      Epoch    GPU_mem   box_loss   cls_loss   dfl_loss  Instances       Size\n"
     ]
    },
    {
     "name": "stderr",
     "output_type": "stream",
     "text": [
      "   265/1000      2.85G      1.131     0.6366      1.094         16        640: 100%|██████████| 74/74 [00:14<00:00,  5.18it/s]\n",
      "                 Class     Images  Instances      Box(P          R      mAP50  mAP50-95): 100%|██████████| 8/8 [00:02<00:00,  2.73it/s]"
     ]
    },
    {
     "name": "stdout",
     "output_type": "stream",
     "text": [
      "                   all        250       2831      0.907      0.835       0.93      0.634\n"
     ]
    },
    {
     "name": "stderr",
     "output_type": "stream",
     "text": [
      "\n"
     ]
    },
    {
     "name": "stdout",
     "output_type": "stream",
     "text": [
      "\n",
      "      Epoch    GPU_mem   box_loss   cls_loss   dfl_loss  Instances       Size\n"
     ]
    },
    {
     "name": "stderr",
     "output_type": "stream",
     "text": [
      "   266/1000       2.9G      1.124     0.6344      1.092         28        640: 100%|██████████| 74/74 [00:11<00:00,  6.63it/s]\n",
      "                 Class     Images  Instances      Box(P          R      mAP50  mAP50-95): 100%|██████████| 8/8 [00:02<00:00,  3.46it/s]"
     ]
    },
    {
     "name": "stdout",
     "output_type": "stream",
     "text": [
      "                   all        250       2831      0.889      0.858      0.935      0.635\n"
     ]
    },
    {
     "name": "stderr",
     "output_type": "stream",
     "text": [
      "\n"
     ]
    },
    {
     "name": "stdout",
     "output_type": "stream",
     "text": [
      "\n",
      "      Epoch    GPU_mem   box_loss   cls_loss   dfl_loss  Instances       Size\n"
     ]
    },
    {
     "name": "stderr",
     "output_type": "stream",
     "text": [
      "   267/1000      2.64G       1.14     0.6393      1.091         77        640: 100%|██████████| 74/74 [00:19<00:00,  3.73it/s]\n",
      "                 Class     Images  Instances      Box(P          R      mAP50  mAP50-95): 100%|██████████| 8/8 [00:03<00:00,  2.55it/s]"
     ]
    },
    {
     "name": "stdout",
     "output_type": "stream",
     "text": [
      "                   all        250       2831      0.886      0.851      0.931      0.628\n"
     ]
    },
    {
     "name": "stderr",
     "output_type": "stream",
     "text": [
      "\n"
     ]
    },
    {
     "name": "stdout",
     "output_type": "stream",
     "text": [
      "\n",
      "      Epoch    GPU_mem   box_loss   cls_loss   dfl_loss  Instances       Size\n"
     ]
    },
    {
     "name": "stderr",
     "output_type": "stream",
     "text": [
      "   268/1000      2.92G      1.132     0.6316       1.09         36        640: 100%|██████████| 74/74 [00:18<00:00,  3.95it/s]\n",
      "                 Class     Images  Instances      Box(P          R      mAP50  mAP50-95): 100%|██████████| 8/8 [00:02<00:00,  2.89it/s]"
     ]
    },
    {
     "name": "stdout",
     "output_type": "stream",
     "text": [
      "                   all        250       2831      0.886      0.862      0.936      0.632\n"
     ]
    },
    {
     "name": "stderr",
     "output_type": "stream",
     "text": [
      "\n"
     ]
    },
    {
     "name": "stdout",
     "output_type": "stream",
     "text": [
      "\n",
      "      Epoch    GPU_mem   box_loss   cls_loss   dfl_loss  Instances       Size\n"
     ]
    },
    {
     "name": "stderr",
     "output_type": "stream",
     "text": [
      "   269/1000      3.13G      1.125      0.638       1.09         16        640: 100%|██████████| 74/74 [00:16<00:00,  4.56it/s]\n",
      "                 Class     Images  Instances      Box(P          R      mAP50  mAP50-95): 100%|██████████| 8/8 [00:01<00:00,  5.67it/s]"
     ]
    },
    {
     "name": "stdout",
     "output_type": "stream",
     "text": [
      "                   all        250       2831      0.901      0.855      0.938      0.633\n"
     ]
    },
    {
     "name": "stderr",
     "output_type": "stream",
     "text": [
      "\n"
     ]
    },
    {
     "name": "stdout",
     "output_type": "stream",
     "text": [
      "\n",
      "      Epoch    GPU_mem   box_loss   cls_loss   dfl_loss  Instances       Size\n"
     ]
    },
    {
     "name": "stderr",
     "output_type": "stream",
     "text": [
      "   270/1000      3.08G      1.132     0.6342      1.088         10        640: 100%|██████████| 74/74 [00:09<00:00,  7.51it/s]\n",
      "                 Class     Images  Instances      Box(P          R      mAP50  mAP50-95): 100%|██████████| 8/8 [00:01<00:00,  5.30it/s]"
     ]
    },
    {
     "name": "stdout",
     "output_type": "stream",
     "text": [
      "                   all        250       2831      0.884       0.87      0.936       0.63\n"
     ]
    },
    {
     "name": "stderr",
     "output_type": "stream",
     "text": [
      "\n"
     ]
    },
    {
     "name": "stdout",
     "output_type": "stream",
     "text": [
      "\n",
      "      Epoch    GPU_mem   box_loss   cls_loss   dfl_loss  Instances       Size\n"
     ]
    },
    {
     "name": "stderr",
     "output_type": "stream",
     "text": [
      "   271/1000       2.8G      1.143     0.6393      1.105         11        640: 100%|██████████| 74/74 [00:09<00:00,  7.90it/s]\n",
      "                 Class     Images  Instances      Box(P          R      mAP50  mAP50-95): 100%|██████████| 8/8 [00:01<00:00,  6.23it/s]"
     ]
    },
    {
     "name": "stdout",
     "output_type": "stream",
     "text": [
      "                   all        250       2831       0.89      0.864      0.938      0.632\n"
     ]
    },
    {
     "name": "stderr",
     "output_type": "stream",
     "text": [
      "\n"
     ]
    },
    {
     "name": "stdout",
     "output_type": "stream",
     "text": [
      "\n",
      "      Epoch    GPU_mem   box_loss   cls_loss   dfl_loss  Instances       Size\n"
     ]
    },
    {
     "name": "stderr",
     "output_type": "stream",
     "text": [
      "   272/1000      2.78G      1.138     0.6384      1.096         18        640: 100%|██████████| 74/74 [00:09<00:00,  7.90it/s]\n",
      "                 Class     Images  Instances      Box(P          R      mAP50  mAP50-95): 100%|██████████| 8/8 [00:01<00:00,  6.13it/s]"
     ]
    },
    {
     "name": "stdout",
     "output_type": "stream",
     "text": [
      "                   all        250       2831      0.875      0.869      0.937      0.632\n"
     ]
    },
    {
     "name": "stderr",
     "output_type": "stream",
     "text": [
      "\n"
     ]
    },
    {
     "name": "stdout",
     "output_type": "stream",
     "text": [
      "\n",
      "      Epoch    GPU_mem   box_loss   cls_loss   dfl_loss  Instances       Size\n"
     ]
    },
    {
     "name": "stderr",
     "output_type": "stream",
     "text": [
      "   273/1000      2.96G      1.135     0.6303      1.093         21        640: 100%|██████████| 74/74 [00:09<00:00,  7.81it/s]\n",
      "                 Class     Images  Instances      Box(P          R      mAP50  mAP50-95): 100%|██████████| 8/8 [00:01<00:00,  5.48it/s]"
     ]
    },
    {
     "name": "stdout",
     "output_type": "stream",
     "text": [
      "                   all        250       2831      0.874      0.868      0.937       0.63\n"
     ]
    },
    {
     "name": "stderr",
     "output_type": "stream",
     "text": [
      "\n"
     ]
    },
    {
     "name": "stdout",
     "output_type": "stream",
     "text": [
      "\n",
      "      Epoch    GPU_mem   box_loss   cls_loss   dfl_loss  Instances       Size\n"
     ]
    },
    {
     "name": "stderr",
     "output_type": "stream",
     "text": [
      "   274/1000      3.07G      1.127     0.6341      1.088         21        640: 100%|██████████| 74/74 [00:09<00:00,  7.72it/s]\n",
      "                 Class     Images  Instances      Box(P          R      mAP50  mAP50-95): 100%|██████████| 8/8 [00:01<00:00,  6.27it/s]"
     ]
    },
    {
     "name": "stdout",
     "output_type": "stream",
     "text": [
      "                   all        250       2831      0.897      0.852      0.936      0.635\n"
     ]
    },
    {
     "name": "stderr",
     "output_type": "stream",
     "text": [
      "\n"
     ]
    },
    {
     "name": "stdout",
     "output_type": "stream",
     "text": [
      "\n",
      "      Epoch    GPU_mem   box_loss   cls_loss   dfl_loss  Instances       Size\n"
     ]
    },
    {
     "name": "stderr",
     "output_type": "stream",
     "text": [
      "   275/1000      3.07G      1.135     0.6363      1.098         72        640: 100%|██████████| 74/74 [00:09<00:00,  7.84it/s]\n",
      "                 Class     Images  Instances      Box(P          R      mAP50  mAP50-95): 100%|██████████| 8/8 [00:01<00:00,  6.30it/s]"
     ]
    },
    {
     "name": "stdout",
     "output_type": "stream",
     "text": [
      "                   all        250       2831      0.903      0.852      0.935      0.632\n"
     ]
    },
    {
     "name": "stderr",
     "output_type": "stream",
     "text": [
      "\n"
     ]
    },
    {
     "name": "stdout",
     "output_type": "stream",
     "text": [
      "\n",
      "      Epoch    GPU_mem   box_loss   cls_loss   dfl_loss  Instances       Size\n"
     ]
    },
    {
     "name": "stderr",
     "output_type": "stream",
     "text": [
      "   276/1000      2.94G      1.133     0.6366      1.093         10        640: 100%|██████████| 74/74 [00:09<00:00,  7.86it/s]\n",
      "                 Class     Images  Instances      Box(P          R      mAP50  mAP50-95): 100%|██████████| 8/8 [00:01<00:00,  6.24it/s]"
     ]
    },
    {
     "name": "stdout",
     "output_type": "stream",
     "text": [
      "                   all        250       2831      0.893      0.862      0.935      0.634\n"
     ]
    },
    {
     "name": "stderr",
     "output_type": "stream",
     "text": [
      "\n"
     ]
    },
    {
     "name": "stdout",
     "output_type": "stream",
     "text": [
      "\n",
      "      Epoch    GPU_mem   box_loss   cls_loss   dfl_loss  Instances       Size\n"
     ]
    },
    {
     "name": "stderr",
     "output_type": "stream",
     "text": [
      "   277/1000      3.08G      1.131     0.6341      1.086         21        640: 100%|██████████| 74/74 [00:09<00:00,  7.86it/s]\n",
      "                 Class     Images  Instances      Box(P          R      mAP50  mAP50-95): 100%|██████████| 8/8 [00:01<00:00,  6.36it/s]"
     ]
    },
    {
     "name": "stdout",
     "output_type": "stream",
     "text": [
      "                   all        250       2831      0.892      0.864      0.937      0.635\n"
     ]
    },
    {
     "name": "stderr",
     "output_type": "stream",
     "text": [
      "\n"
     ]
    },
    {
     "name": "stdout",
     "output_type": "stream",
     "text": [
      "\n",
      "      Epoch    GPU_mem   box_loss   cls_loss   dfl_loss  Instances       Size\n"
     ]
    },
    {
     "name": "stderr",
     "output_type": "stream",
     "text": [
      "   278/1000      2.69G      1.122     0.6372      1.093         10        640: 100%|██████████| 74/74 [00:09<00:00,  7.66it/s]\n",
      "                 Class     Images  Instances      Box(P          R      mAP50  mAP50-95): 100%|██████████| 8/8 [00:01<00:00,  6.18it/s]"
     ]
    },
    {
     "name": "stdout",
     "output_type": "stream",
     "text": [
      "                   all        250       2831      0.898      0.859      0.938      0.635\n"
     ]
    },
    {
     "name": "stderr",
     "output_type": "stream",
     "text": [
      "\n"
     ]
    },
    {
     "name": "stdout",
     "output_type": "stream",
     "text": [
      "\n",
      "      Epoch    GPU_mem   box_loss   cls_loss   dfl_loss  Instances       Size\n"
     ]
    },
    {
     "name": "stderr",
     "output_type": "stream",
     "text": [
      "   279/1000      3.25G      1.123     0.6226      1.088         34        640: 100%|██████████| 74/74 [00:09<00:00,  7.91it/s]\n",
      "                 Class     Images  Instances      Box(P          R      mAP50  mAP50-95): 100%|██████████| 8/8 [00:01<00:00,  6.03it/s]"
     ]
    },
    {
     "name": "stdout",
     "output_type": "stream",
     "text": [
      "                   all        250       2831      0.904      0.859      0.941      0.635\n"
     ]
    },
    {
     "name": "stderr",
     "output_type": "stream",
     "text": [
      "\n"
     ]
    },
    {
     "name": "stdout",
     "output_type": "stream",
     "text": [
      "\n",
      "      Epoch    GPU_mem   box_loss   cls_loss   dfl_loss  Instances       Size\n"
     ]
    },
    {
     "name": "stderr",
     "output_type": "stream",
     "text": [
      "   280/1000      2.98G      1.132     0.6324      1.088         36        640: 100%|██████████| 74/74 [00:09<00:00,  7.85it/s]\n",
      "                 Class     Images  Instances      Box(P          R      mAP50  mAP50-95): 100%|██████████| 8/8 [00:01<00:00,  6.17it/s]"
     ]
    },
    {
     "name": "stdout",
     "output_type": "stream",
     "text": [
      "                   all        250       2831      0.908      0.855      0.939      0.635\n"
     ]
    },
    {
     "name": "stderr",
     "output_type": "stream",
     "text": [
      "\n"
     ]
    },
    {
     "name": "stdout",
     "output_type": "stream",
     "text": [
      "\n",
      "      Epoch    GPU_mem   box_loss   cls_loss   dfl_loss  Instances       Size\n"
     ]
    },
    {
     "name": "stderr",
     "output_type": "stream",
     "text": [
      "   281/1000      3.21G      1.139     0.6365      1.093         21        640: 100%|██████████| 74/74 [00:09<00:00,  7.79it/s]\n",
      "                 Class     Images  Instances      Box(P          R      mAP50  mAP50-95): 100%|██████████| 8/8 [00:01<00:00,  6.30it/s]"
     ]
    },
    {
     "name": "stdout",
     "output_type": "stream",
     "text": [
      "                   all        250       2831      0.895      0.865      0.939      0.634\n"
     ]
    },
    {
     "name": "stderr",
     "output_type": "stream",
     "text": [
      "\n"
     ]
    },
    {
     "name": "stdout",
     "output_type": "stream",
     "text": [
      "\n",
      "      Epoch    GPU_mem   box_loss   cls_loss   dfl_loss  Instances       Size\n"
     ]
    },
    {
     "name": "stderr",
     "output_type": "stream",
     "text": [
      "   282/1000      2.92G      1.121     0.6298      1.089          8        640: 100%|██████████| 74/74 [00:09<00:00,  7.80it/s]\n",
      "                 Class     Images  Instances      Box(P          R      mAP50  mAP50-95): 100%|██████████| 8/8 [00:01<00:00,  6.21it/s]"
     ]
    },
    {
     "name": "stdout",
     "output_type": "stream",
     "text": [
      "                   all        250       2831      0.909      0.851      0.939      0.635\n"
     ]
    },
    {
     "name": "stderr",
     "output_type": "stream",
     "text": [
      "\n"
     ]
    },
    {
     "name": "stdout",
     "output_type": "stream",
     "text": [
      "\n",
      "      Epoch    GPU_mem   box_loss   cls_loss   dfl_loss  Instances       Size\n"
     ]
    },
    {
     "name": "stderr",
     "output_type": "stream",
     "text": [
      "   283/1000      3.18G      1.142     0.6366      1.095         38        640: 100%|██████████| 74/74 [00:09<00:00,  7.87it/s]\n",
      "                 Class     Images  Instances      Box(P          R      mAP50  mAP50-95): 100%|██████████| 8/8 [00:01<00:00,  6.23it/s]"
     ]
    },
    {
     "name": "stdout",
     "output_type": "stream",
     "text": [
      "                   all        250       2831      0.899      0.857      0.937      0.635\n"
     ]
    },
    {
     "name": "stderr",
     "output_type": "stream",
     "text": [
      "\n"
     ]
    },
    {
     "name": "stdout",
     "output_type": "stream",
     "text": [
      "\n",
      "      Epoch    GPU_mem   box_loss   cls_loss   dfl_loss  Instances       Size\n"
     ]
    },
    {
     "name": "stderr",
     "output_type": "stream",
     "text": [
      "   284/1000      2.79G      1.129     0.6304      1.092         17        640: 100%|██████████| 74/74 [00:09<00:00,  7.86it/s]\n",
      "                 Class     Images  Instances      Box(P          R      mAP50  mAP50-95): 100%|██████████| 8/8 [00:01<00:00,  5.99it/s]"
     ]
    },
    {
     "name": "stdout",
     "output_type": "stream",
     "text": [
      "                   all        250       2831      0.883      0.869      0.937      0.632\n"
     ]
    },
    {
     "name": "stderr",
     "output_type": "stream",
     "text": [
      "\n"
     ]
    },
    {
     "name": "stdout",
     "output_type": "stream",
     "text": [
      "\n",
      "      Epoch    GPU_mem   box_loss   cls_loss   dfl_loss  Instances       Size\n"
     ]
    },
    {
     "name": "stderr",
     "output_type": "stream",
     "text": [
      "   285/1000      3.06G      1.135     0.6342      1.097         48        640: 100%|██████████| 74/74 [00:09<00:00,  7.90it/s]\n",
      "                 Class     Images  Instances      Box(P          R      mAP50  mAP50-95): 100%|██████████| 8/8 [00:01<00:00,  6.08it/s]"
     ]
    },
    {
     "name": "stdout",
     "output_type": "stream",
     "text": [
      "                   all        250       2831      0.898      0.856      0.938      0.632\n"
     ]
    },
    {
     "name": "stderr",
     "output_type": "stream",
     "text": [
      "\n"
     ]
    },
    {
     "name": "stdout",
     "output_type": "stream",
     "text": [
      "\n",
      "      Epoch    GPU_mem   box_loss   cls_loss   dfl_loss  Instances       Size\n"
     ]
    },
    {
     "name": "stderr",
     "output_type": "stream",
     "text": [
      "   286/1000      2.79G      1.122     0.6242      1.088         38        640: 100%|██████████| 74/74 [00:09<00:00,  7.65it/s]\n",
      "                 Class     Images  Instances      Box(P          R      mAP50  mAP50-95): 100%|██████████| 8/8 [00:01<00:00,  6.17it/s]"
     ]
    },
    {
     "name": "stdout",
     "output_type": "stream",
     "text": [
      "                   all        250       2831      0.909      0.852      0.939      0.635\n"
     ]
    },
    {
     "name": "stderr",
     "output_type": "stream",
     "text": [
      "\n"
     ]
    },
    {
     "name": "stdout",
     "output_type": "stream",
     "text": [
      "\n",
      "      Epoch    GPU_mem   box_loss   cls_loss   dfl_loss  Instances       Size\n"
     ]
    },
    {
     "name": "stderr",
     "output_type": "stream",
     "text": [
      "   287/1000      3.03G      1.132     0.6329      1.092         44        640: 100%|██████████| 74/74 [00:09<00:00,  7.87it/s]\n",
      "                 Class     Images  Instances      Box(P          R      mAP50  mAP50-95): 100%|██████████| 8/8 [00:01<00:00,  6.29it/s]"
     ]
    },
    {
     "name": "stdout",
     "output_type": "stream",
     "text": [
      "                   all        250       2831      0.892      0.863      0.937      0.634\n"
     ]
    },
    {
     "name": "stderr",
     "output_type": "stream",
     "text": [
      "\n"
     ]
    },
    {
     "name": "stdout",
     "output_type": "stream",
     "text": [
      "\n",
      "      Epoch    GPU_mem   box_loss   cls_loss   dfl_loss  Instances       Size\n"
     ]
    },
    {
     "name": "stderr",
     "output_type": "stream",
     "text": [
      "   288/1000      2.71G      1.121     0.6283       1.09         16        640: 100%|██████████| 74/74 [00:09<00:00,  7.88it/s]\n",
      "                 Class     Images  Instances      Box(P          R      mAP50  mAP50-95): 100%|██████████| 8/8 [00:01<00:00,  6.17it/s]"
     ]
    },
    {
     "name": "stdout",
     "output_type": "stream",
     "text": [
      "                   all        250       2831      0.899      0.854      0.937      0.631\n"
     ]
    },
    {
     "name": "stderr",
     "output_type": "stream",
     "text": [
      "\n"
     ]
    },
    {
     "name": "stdout",
     "output_type": "stream",
     "text": [
      "\n",
      "      Epoch    GPU_mem   box_loss   cls_loss   dfl_loss  Instances       Size\n"
     ]
    },
    {
     "name": "stderr",
     "output_type": "stream",
     "text": [
      "   289/1000      2.79G      1.117     0.6268      1.086         20        640: 100%|██████████| 74/74 [00:09<00:00,  7.84it/s]\n",
      "                 Class     Images  Instances      Box(P          R      mAP50  mAP50-95): 100%|██████████| 8/8 [00:01<00:00,  6.27it/s]"
     ]
    },
    {
     "name": "stdout",
     "output_type": "stream",
     "text": [
      "                   all        250       2831      0.878      0.873      0.938      0.633\n"
     ]
    },
    {
     "name": "stderr",
     "output_type": "stream",
     "text": [
      "\n"
     ]
    },
    {
     "name": "stdout",
     "output_type": "stream",
     "text": [
      "\n",
      "      Epoch    GPU_mem   box_loss   cls_loss   dfl_loss  Instances       Size\n"
     ]
    },
    {
     "name": "stderr",
     "output_type": "stream",
     "text": [
      "   290/1000      2.96G      1.124     0.6281       1.09         35        640: 100%|██████████| 74/74 [00:09<00:00,  7.92it/s]\n",
      "                 Class     Images  Instances      Box(P          R      mAP50  mAP50-95): 100%|██████████| 8/8 [00:01<00:00,  6.23it/s]"
     ]
    },
    {
     "name": "stdout",
     "output_type": "stream",
     "text": [
      "                   all        250       2831      0.896      0.861      0.937      0.635\n"
     ]
    },
    {
     "name": "stderr",
     "output_type": "stream",
     "text": [
      "\n"
     ]
    },
    {
     "name": "stdout",
     "output_type": "stream",
     "text": [
      "\n",
      "      Epoch    GPU_mem   box_loss   cls_loss   dfl_loss  Instances       Size\n"
     ]
    },
    {
     "name": "stderr",
     "output_type": "stream",
     "text": [
      "   291/1000      2.86G       1.13     0.6278      1.092         43        640: 100%|██████████| 74/74 [00:09<00:00,  7.56it/s]\n",
      "                 Class     Images  Instances      Box(P          R      mAP50  mAP50-95): 100%|██████████| 8/8 [00:01<00:00,  6.23it/s]"
     ]
    },
    {
     "name": "stdout",
     "output_type": "stream",
     "text": [
      "                   all        250       2831       0.89      0.856      0.934      0.629\n"
     ]
    },
    {
     "name": "stderr",
     "output_type": "stream",
     "text": [
      "\n"
     ]
    },
    {
     "name": "stdout",
     "output_type": "stream",
     "text": [
      "\n",
      "      Epoch    GPU_mem   box_loss   cls_loss   dfl_loss  Instances       Size\n"
     ]
    },
    {
     "name": "stderr",
     "output_type": "stream",
     "text": [
      "   292/1000      2.99G      1.114     0.6256      1.081         25        640: 100%|██████████| 74/74 [00:09<00:00,  7.82it/s]\n",
      "                 Class     Images  Instances      Box(P          R      mAP50  mAP50-95): 100%|██████████| 8/8 [00:01<00:00,  6.19it/s]"
     ]
    },
    {
     "name": "stdout",
     "output_type": "stream",
     "text": [
      "                   all        250       2831      0.895      0.857      0.936       0.63\n"
     ]
    },
    {
     "name": "stderr",
     "output_type": "stream",
     "text": [
      "\n"
     ]
    },
    {
     "name": "stdout",
     "output_type": "stream",
     "text": [
      "\n",
      "      Epoch    GPU_mem   box_loss   cls_loss   dfl_loss  Instances       Size\n"
     ]
    },
    {
     "name": "stderr",
     "output_type": "stream",
     "text": [
      "   293/1000      2.67G      1.124     0.6281      1.087         38        640: 100%|██████████| 74/74 [00:09<00:00,  7.88it/s]\n",
      "                 Class     Images  Instances      Box(P          R      mAP50  mAP50-95): 100%|██████████| 8/8 [00:01<00:00,  6.15it/s]"
     ]
    },
    {
     "name": "stdout",
     "output_type": "stream",
     "text": [
      "                   all        250       2831      0.908      0.851      0.937      0.631\n"
     ]
    },
    {
     "name": "stderr",
     "output_type": "stream",
     "text": [
      "\n"
     ]
    },
    {
     "name": "stdout",
     "output_type": "stream",
     "text": [
      "\n",
      "      Epoch    GPU_mem   box_loss   cls_loss   dfl_loss  Instances       Size\n"
     ]
    },
    {
     "name": "stderr",
     "output_type": "stream",
     "text": [
      "   294/1000      2.98G      1.123     0.6315      1.088         44        640: 100%|██████████| 74/74 [00:09<00:00,  7.83it/s]\n",
      "                 Class     Images  Instances      Box(P          R      mAP50  mAP50-95): 100%|██████████| 8/8 [00:01<00:00,  6.07it/s]"
     ]
    },
    {
     "name": "stdout",
     "output_type": "stream",
     "text": [
      "                   all        250       2831      0.888      0.865      0.938      0.633\n"
     ]
    },
    {
     "name": "stderr",
     "output_type": "stream",
     "text": [
      "\n"
     ]
    },
    {
     "name": "stdout",
     "output_type": "stream",
     "text": [
      "\n",
      "      Epoch    GPU_mem   box_loss   cls_loss   dfl_loss  Instances       Size\n"
     ]
    },
    {
     "name": "stderr",
     "output_type": "stream",
     "text": [
      "   295/1000      2.88G      1.119     0.6216      1.086          8        640: 100%|██████████| 74/74 [00:09<00:00,  7.84it/s]\n",
      "                 Class     Images  Instances      Box(P          R      mAP50  mAP50-95): 100%|██████████| 8/8 [00:01<00:00,  6.04it/s]"
     ]
    },
    {
     "name": "stdout",
     "output_type": "stream",
     "text": [
      "                   all        250       2831       0.89       0.86      0.934      0.632\n"
     ]
    },
    {
     "name": "stderr",
     "output_type": "stream",
     "text": [
      "\n"
     ]
    },
    {
     "name": "stdout",
     "output_type": "stream",
     "text": [
      "\n",
      "      Epoch    GPU_mem   box_loss   cls_loss   dfl_loss  Instances       Size\n"
     ]
    },
    {
     "name": "stderr",
     "output_type": "stream",
     "text": [
      "   296/1000      3.28G      1.126     0.6231      1.087         49        640: 100%|██████████| 74/74 [00:09<00:00,  7.74it/s]\n",
      "                 Class     Images  Instances      Box(P          R      mAP50  mAP50-95): 100%|██████████| 8/8 [00:01<00:00,  5.94it/s]"
     ]
    },
    {
     "name": "stdout",
     "output_type": "stream",
     "text": [
      "                   all        250       2831      0.898      0.869       0.94      0.635\n"
     ]
    },
    {
     "name": "stderr",
     "output_type": "stream",
     "text": [
      "\n"
     ]
    },
    {
     "name": "stdout",
     "output_type": "stream",
     "text": [
      "\n",
      "      Epoch    GPU_mem   box_loss   cls_loss   dfl_loss  Instances       Size\n"
     ]
    },
    {
     "name": "stderr",
     "output_type": "stream",
     "text": [
      "   297/1000      2.97G      1.119     0.6261      1.091         40        640: 100%|██████████| 74/74 [00:09<00:00,  7.77it/s]\n",
      "                 Class     Images  Instances      Box(P          R      mAP50  mAP50-95): 100%|██████████| 8/8 [00:01<00:00,  6.18it/s]"
     ]
    },
    {
     "name": "stdout",
     "output_type": "stream",
     "text": [
      "                   all        250       2831      0.903      0.856      0.939      0.633\n"
     ]
    },
    {
     "name": "stderr",
     "output_type": "stream",
     "text": [
      "\n"
     ]
    },
    {
     "name": "stdout",
     "output_type": "stream",
     "text": [
      "\n",
      "      Epoch    GPU_mem   box_loss   cls_loss   dfl_loss  Instances       Size\n"
     ]
    },
    {
     "name": "stderr",
     "output_type": "stream",
     "text": [
      "   298/1000      2.81G      1.124     0.6273      1.091         31        640: 100%|██████████| 74/74 [00:09<00:00,  7.75it/s]\n",
      "                 Class     Images  Instances      Box(P          R      mAP50  mAP50-95): 100%|██████████| 8/8 [00:01<00:00,  5.98it/s]"
     ]
    },
    {
     "name": "stdout",
     "output_type": "stream",
     "text": [
      "                   all        250       2831      0.899      0.857      0.936      0.632\n"
     ]
    },
    {
     "name": "stderr",
     "output_type": "stream",
     "text": [
      "\n"
     ]
    },
    {
     "name": "stdout",
     "output_type": "stream",
     "text": [
      "\n",
      "      Epoch    GPU_mem   box_loss   cls_loss   dfl_loss  Instances       Size\n"
     ]
    },
    {
     "name": "stderr",
     "output_type": "stream",
     "text": [
      "   299/1000      2.67G      1.121     0.6269      1.092         17        640: 100%|██████████| 74/74 [00:09<00:00,  7.79it/s]\n",
      "                 Class     Images  Instances      Box(P          R      mAP50  mAP50-95): 100%|██████████| 8/8 [00:01<00:00,  6.21it/s]"
     ]
    },
    {
     "name": "stdout",
     "output_type": "stream",
     "text": [
      "                   all        250       2831      0.897      0.859      0.936      0.631\n"
     ]
    },
    {
     "name": "stderr",
     "output_type": "stream",
     "text": [
      "\n"
     ]
    },
    {
     "name": "stdout",
     "output_type": "stream",
     "text": [
      "\n",
      "      Epoch    GPU_mem   box_loss   cls_loss   dfl_loss  Instances       Size\n"
     ]
    },
    {
     "name": "stderr",
     "output_type": "stream",
     "text": [
      "   300/1000      2.93G       1.13     0.6305      1.088         53        640: 100%|██████████| 74/74 [00:09<00:00,  7.77it/s]\n",
      "                 Class     Images  Instances      Box(P          R      mAP50  mAP50-95): 100%|██████████| 8/8 [00:01<00:00,  5.69it/s]"
     ]
    },
    {
     "name": "stdout",
     "output_type": "stream",
     "text": [
      "                   all        250       2831      0.894      0.862      0.937       0.63\n"
     ]
    },
    {
     "name": "stderr",
     "output_type": "stream",
     "text": [
      "\n"
     ]
    },
    {
     "name": "stdout",
     "output_type": "stream",
     "text": [
      "\n",
      "      Epoch    GPU_mem   box_loss   cls_loss   dfl_loss  Instances       Size\n"
     ]
    },
    {
     "name": "stderr",
     "output_type": "stream",
     "text": [
      "   301/1000      2.92G       1.13     0.6253       1.09         34        640: 100%|██████████| 74/74 [00:16<00:00,  4.54it/s]\n",
      "                 Class     Images  Instances      Box(P          R      mAP50  mAP50-95): 100%|██████████| 8/8 [00:02<00:00,  2.86it/s]"
     ]
    },
    {
     "name": "stdout",
     "output_type": "stream",
     "text": [
      "                   all        250       2831      0.896      0.859      0.936      0.629\n"
     ]
    },
    {
     "name": "stderr",
     "output_type": "stream",
     "text": [
      "\n"
     ]
    },
    {
     "name": "stdout",
     "output_type": "stream",
     "text": [
      "\n",
      "      Epoch    GPU_mem   box_loss   cls_loss   dfl_loss  Instances       Size\n"
     ]
    },
    {
     "name": "stderr",
     "output_type": "stream",
     "text": [
      "   302/1000      2.94G      1.127     0.6305      1.092         50        640: 100%|██████████| 74/74 [00:19<00:00,  3.71it/s]\n",
      "                 Class     Images  Instances      Box(P          R      mAP50  mAP50-95): 100%|██████████| 8/8 [00:02<00:00,  2.86it/s]"
     ]
    },
    {
     "name": "stdout",
     "output_type": "stream",
     "text": [
      "                   all        250       2831      0.895      0.864      0.938      0.633\n"
     ]
    },
    {
     "name": "stderr",
     "output_type": "stream",
     "text": [
      "\n"
     ]
    },
    {
     "name": "stdout",
     "output_type": "stream",
     "text": [
      "\n",
      "      Epoch    GPU_mem   box_loss   cls_loss   dfl_loss  Instances       Size\n"
     ]
    },
    {
     "name": "stderr",
     "output_type": "stream",
     "text": [
      "   303/1000      3.16G      1.123     0.6316      1.091         43        640: 100%|██████████| 74/74 [00:19<00:00,  3.71it/s]\n",
      "                 Class     Images  Instances      Box(P          R      mAP50  mAP50-95): 100%|██████████| 8/8 [00:02<00:00,  2.76it/s]"
     ]
    },
    {
     "name": "stdout",
     "output_type": "stream",
     "text": [
      "                   all        250       2831      0.882      0.873      0.937      0.632\n"
     ]
    },
    {
     "name": "stderr",
     "output_type": "stream",
     "text": [
      "\n"
     ]
    },
    {
     "name": "stdout",
     "output_type": "stream",
     "text": [
      "\n",
      "      Epoch    GPU_mem   box_loss   cls_loss   dfl_loss  Instances       Size\n"
     ]
    },
    {
     "name": "stderr",
     "output_type": "stream",
     "text": [
      "   304/1000      2.68G      1.123     0.6173      1.089         23        640: 100%|██████████| 74/74 [00:19<00:00,  3.79it/s]\n",
      "                 Class     Images  Instances      Box(P          R      mAP50  mAP50-95): 100%|██████████| 8/8 [00:02<00:00,  2.82it/s]"
     ]
    },
    {
     "name": "stdout",
     "output_type": "stream",
     "text": [
      "                   all        250       2831       0.89      0.865      0.936       0.63\n"
     ]
    },
    {
     "name": "stderr",
     "output_type": "stream",
     "text": [
      "\n"
     ]
    },
    {
     "name": "stdout",
     "output_type": "stream",
     "text": [
      "\n",
      "      Epoch    GPU_mem   box_loss   cls_loss   dfl_loss  Instances       Size\n"
     ]
    },
    {
     "name": "stderr",
     "output_type": "stream",
     "text": [
      "   305/1000      2.95G       1.12     0.6327      1.086         35        640: 100%|██████████| 74/74 [00:19<00:00,  3.72it/s]\n",
      "                 Class     Images  Instances      Box(P          R      mAP50  mAP50-95): 100%|██████████| 8/8 [00:02<00:00,  2.82it/s]"
     ]
    },
    {
     "name": "stdout",
     "output_type": "stream",
     "text": [
      "                   all        250       2831      0.886      0.869      0.938      0.635\n"
     ]
    },
    {
     "name": "stderr",
     "output_type": "stream",
     "text": [
      "\n"
     ]
    },
    {
     "name": "stdout",
     "output_type": "stream",
     "text": [
      "\n",
      "      Epoch    GPU_mem   box_loss   cls_loss   dfl_loss  Instances       Size\n"
     ]
    },
    {
     "name": "stderr",
     "output_type": "stream",
     "text": [
      "   306/1000      2.81G      1.122     0.6246      1.086         37        640: 100%|██████████| 74/74 [00:20<00:00,  3.67it/s]\n",
      "                 Class     Images  Instances      Box(P          R      mAP50  mAP50-95): 100%|██████████| 8/8 [00:02<00:00,  2.91it/s]"
     ]
    },
    {
     "name": "stdout",
     "output_type": "stream",
     "text": [
      "                   all        250       2831      0.893      0.855      0.937      0.633\n"
     ]
    },
    {
     "name": "stderr",
     "output_type": "stream",
     "text": [
      "\n"
     ]
    },
    {
     "name": "stdout",
     "output_type": "stream",
     "text": [
      "\n",
      "      Epoch    GPU_mem   box_loss   cls_loss   dfl_loss  Instances       Size\n"
     ]
    },
    {
     "name": "stderr",
     "output_type": "stream",
     "text": [
      "   307/1000      2.66G      1.114     0.6245      1.086         15        640: 100%|██████████| 74/74 [00:19<00:00,  3.78it/s]\n",
      "                 Class     Images  Instances      Box(P          R      mAP50  mAP50-95): 100%|██████████| 8/8 [00:02<00:00,  2.89it/s]"
     ]
    },
    {
     "name": "stdout",
     "output_type": "stream",
     "text": [
      "                   all        250       2831      0.905      0.853      0.938      0.633\n"
     ]
    },
    {
     "name": "stderr",
     "output_type": "stream",
     "text": [
      "\n"
     ]
    },
    {
     "name": "stdout",
     "output_type": "stream",
     "text": [
      "\n",
      "      Epoch    GPU_mem   box_loss   cls_loss   dfl_loss  Instances       Size\n"
     ]
    },
    {
     "name": "stderr",
     "output_type": "stream",
     "text": [
      "   308/1000      2.66G      1.126     0.6248      1.086         51        640: 100%|██████████| 74/74 [00:19<00:00,  3.77it/s]\n",
      "                 Class     Images  Instances      Box(P          R      mAP50  mAP50-95): 100%|██████████| 8/8 [00:02<00:00,  2.88it/s]"
     ]
    },
    {
     "name": "stdout",
     "output_type": "stream",
     "text": [
      "                   all        250       2831      0.902      0.855      0.938       0.63\n"
     ]
    },
    {
     "name": "stderr",
     "output_type": "stream",
     "text": [
      "\n"
     ]
    },
    {
     "name": "stdout",
     "output_type": "stream",
     "text": [
      "\n",
      "      Epoch    GPU_mem   box_loss   cls_loss   dfl_loss  Instances       Size\n"
     ]
    },
    {
     "name": "stderr",
     "output_type": "stream",
     "text": [
      "   309/1000      3.25G      1.112     0.6149      1.085         17        640: 100%|██████████| 74/74 [00:17<00:00,  4.28it/s]\n",
      "                 Class     Images  Instances      Box(P          R      mAP50  mAP50-95): 100%|██████████| 8/8 [00:01<00:00,  6.29it/s]"
     ]
    },
    {
     "name": "stdout",
     "output_type": "stream",
     "text": [
      "                   all        250       2831      0.913      0.843      0.935      0.631\n"
     ]
    },
    {
     "name": "stderr",
     "output_type": "stream",
     "text": [
      "\n"
     ]
    },
    {
     "name": "stdout",
     "output_type": "stream",
     "text": [
      "\n",
      "      Epoch    GPU_mem   box_loss   cls_loss   dfl_loss  Instances       Size\n"
     ]
    },
    {
     "name": "stderr",
     "output_type": "stream",
     "text": [
      "   310/1000       2.8G      1.106     0.6196      1.078         18        640: 100%|██████████| 74/74 [00:09<00:00,  8.13it/s]\n",
      "                 Class     Images  Instances      Box(P          R      mAP50  mAP50-95): 100%|██████████| 8/8 [00:01<00:00,  6.47it/s]"
     ]
    },
    {
     "name": "stdout",
     "output_type": "stream",
     "text": [
      "                   all        250       2831      0.901      0.846      0.934      0.634\n"
     ]
    },
    {
     "name": "stderr",
     "output_type": "stream",
     "text": [
      "\n"
     ]
    },
    {
     "name": "stdout",
     "output_type": "stream",
     "text": [
      "\n",
      "      Epoch    GPU_mem   box_loss   cls_loss   dfl_loss  Instances       Size\n"
     ]
    },
    {
     "name": "stderr",
     "output_type": "stream",
     "text": [
      "   311/1000      2.89G      1.117     0.6203      1.084         34        640: 100%|██████████| 74/74 [00:09<00:00,  8.21it/s]\n",
      "                 Class     Images  Instances      Box(P          R      mAP50  mAP50-95): 100%|██████████| 8/8 [00:01<00:00,  6.47it/s]"
     ]
    },
    {
     "name": "stdout",
     "output_type": "stream",
     "text": [
      "                   all        250       2831       0.91      0.839      0.934      0.633\n"
     ]
    },
    {
     "name": "stderr",
     "output_type": "stream",
     "text": [
      "\n"
     ]
    },
    {
     "name": "stdout",
     "output_type": "stream",
     "text": [
      "\n",
      "      Epoch    GPU_mem   box_loss   cls_loss   dfl_loss  Instances       Size\n"
     ]
    },
    {
     "name": "stderr",
     "output_type": "stream",
     "text": [
      "   312/1000      3.05G      1.119     0.6189      1.086         17        640: 100%|██████████| 74/74 [00:08<00:00,  8.23it/s]\n",
      "                 Class     Images  Instances      Box(P          R      mAP50  mAP50-95): 100%|██████████| 8/8 [00:01<00:00,  6.53it/s]"
     ]
    },
    {
     "name": "stdout",
     "output_type": "stream",
     "text": [
      "                   all        250       2831      0.903      0.845      0.933      0.631\n"
     ]
    },
    {
     "name": "stderr",
     "output_type": "stream",
     "text": [
      "\n"
     ]
    },
    {
     "name": "stdout",
     "output_type": "stream",
     "text": [
      "\n",
      "      Epoch    GPU_mem   box_loss   cls_loss   dfl_loss  Instances       Size\n"
     ]
    },
    {
     "name": "stderr",
     "output_type": "stream",
     "text": [
      "   313/1000      3.31G      1.116     0.6243      1.079         16        640: 100%|██████████| 74/74 [00:08<00:00,  8.23it/s]\n",
      "                 Class     Images  Instances      Box(P          R      mAP50  mAP50-95): 100%|██████████| 8/8 [00:01<00:00,  6.55it/s]"
     ]
    },
    {
     "name": "stdout",
     "output_type": "stream",
     "text": [
      "                   all        250       2831      0.881      0.867      0.937      0.633\n"
     ]
    },
    {
     "name": "stderr",
     "output_type": "stream",
     "text": [
      "\n"
     ]
    },
    {
     "name": "stdout",
     "output_type": "stream",
     "text": [
      "\n",
      "      Epoch    GPU_mem   box_loss   cls_loss   dfl_loss  Instances       Size\n"
     ]
    },
    {
     "name": "stderr",
     "output_type": "stream",
     "text": [
      "   314/1000      3.17G      1.113     0.6199      1.076         27        640: 100%|██████████| 74/74 [00:09<00:00,  8.11it/s]\n",
      "                 Class     Images  Instances      Box(P          R      mAP50  mAP50-95): 100%|██████████| 8/8 [00:01<00:00,  6.47it/s]"
     ]
    },
    {
     "name": "stdout",
     "output_type": "stream",
     "text": [
      "                   all        250       2831      0.894      0.856      0.938      0.634\n"
     ]
    },
    {
     "name": "stderr",
     "output_type": "stream",
     "text": [
      "\n"
     ]
    },
    {
     "name": "stdout",
     "output_type": "stream",
     "text": [
      "\n",
      "      Epoch    GPU_mem   box_loss   cls_loss   dfl_loss  Instances       Size\n"
     ]
    },
    {
     "name": "stderr",
     "output_type": "stream",
     "text": [
      "   315/1000      3.11G       1.12     0.6277      1.087         17        640: 100%|██████████| 74/74 [00:08<00:00,  8.25it/s]\n",
      "                 Class     Images  Instances      Box(P          R      mAP50  mAP50-95): 100%|██████████| 8/8 [00:01<00:00,  6.42it/s]"
     ]
    },
    {
     "name": "stdout",
     "output_type": "stream",
     "text": [
      "                   all        250       2831      0.888      0.872      0.938       0.63\n"
     ]
    },
    {
     "name": "stderr",
     "output_type": "stream",
     "text": [
      "\n"
     ]
    },
    {
     "name": "stdout",
     "output_type": "stream",
     "text": [
      "\n",
      "      Epoch    GPU_mem   box_loss   cls_loss   dfl_loss  Instances       Size\n"
     ]
    },
    {
     "name": "stderr",
     "output_type": "stream",
     "text": [
      "   316/1000      2.79G      1.109     0.6199      1.079         22        640: 100%|██████████| 74/74 [00:09<00:00,  8.22it/s]\n",
      "                 Class     Images  Instances      Box(P          R      mAP50  mAP50-95): 100%|██████████| 8/8 [00:01<00:00,  6.45it/s]"
     ]
    },
    {
     "name": "stdout",
     "output_type": "stream",
     "text": [
      "                   all        250       2831      0.899       0.86      0.938      0.634\n"
     ]
    },
    {
     "name": "stderr",
     "output_type": "stream",
     "text": [
      "\n"
     ]
    },
    {
     "name": "stdout",
     "output_type": "stream",
     "text": [
      "\n",
      "      Epoch    GPU_mem   box_loss   cls_loss   dfl_loss  Instances       Size\n"
     ]
    },
    {
     "name": "stderr",
     "output_type": "stream",
     "text": [
      "   317/1000      2.73G      1.126     0.6252      1.094         12        640: 100%|██████████| 74/74 [00:09<00:00,  8.16it/s]\n",
      "                 Class     Images  Instances      Box(P          R      mAP50  mAP50-95): 100%|██████████| 8/8 [00:01<00:00,  6.17it/s]"
     ]
    },
    {
     "name": "stdout",
     "output_type": "stream",
     "text": [
      "                   all        250       2831       0.89       0.86      0.937      0.632\n"
     ]
    },
    {
     "name": "stderr",
     "output_type": "stream",
     "text": [
      "\n"
     ]
    },
    {
     "name": "stdout",
     "output_type": "stream",
     "text": [
      "\n",
      "      Epoch    GPU_mem   box_loss   cls_loss   dfl_loss  Instances       Size\n"
     ]
    },
    {
     "name": "stderr",
     "output_type": "stream",
     "text": [
      "   318/1000      2.81G      1.118     0.6164      1.081         27        640: 100%|██████████| 74/74 [00:09<00:00,  8.21it/s]\n",
      "                 Class     Images  Instances      Box(P          R      mAP50  mAP50-95): 100%|██████████| 8/8 [00:01<00:00,  6.38it/s]"
     ]
    },
    {
     "name": "stdout",
     "output_type": "stream",
     "text": [
      "                   all        250       2831      0.886      0.871      0.937      0.634\n"
     ]
    },
    {
     "name": "stderr",
     "output_type": "stream",
     "text": [
      "\n"
     ]
    },
    {
     "name": "stdout",
     "output_type": "stream",
     "text": [
      "\n",
      "      Epoch    GPU_mem   box_loss   cls_loss   dfl_loss  Instances       Size\n"
     ]
    },
    {
     "name": "stderr",
     "output_type": "stream",
     "text": [
      "   319/1000       2.8G      1.124      0.622      1.086         29        640: 100%|██████████| 74/74 [00:08<00:00,  8.24it/s]\n",
      "                 Class     Images  Instances      Box(P          R      mAP50  mAP50-95): 100%|██████████| 8/8 [00:01<00:00,  6.15it/s]"
     ]
    },
    {
     "name": "stdout",
     "output_type": "stream",
     "text": [
      "                   all        250       2831      0.899      0.854      0.937      0.633\n"
     ]
    },
    {
     "name": "stderr",
     "output_type": "stream",
     "text": [
      "\n"
     ]
    },
    {
     "name": "stdout",
     "output_type": "stream",
     "text": [
      "\n",
      "      Epoch    GPU_mem   box_loss   cls_loss   dfl_loss  Instances       Size\n"
     ]
    },
    {
     "name": "stderr",
     "output_type": "stream",
     "text": [
      "   320/1000      2.84G      1.127     0.6195      1.091         24        640: 100%|██████████| 74/74 [00:09<00:00,  8.22it/s]\n",
      "                 Class     Images  Instances      Box(P          R      mAP50  mAP50-95): 100%|██████████| 8/8 [00:01<00:00,  6.42it/s]"
     ]
    },
    {
     "name": "stdout",
     "output_type": "stream",
     "text": [
      "                   all        250       2831      0.896      0.859      0.936      0.635\n"
     ]
    },
    {
     "name": "stderr",
     "output_type": "stream",
     "text": [
      "\n"
     ]
    },
    {
     "name": "stdout",
     "output_type": "stream",
     "text": [
      "\n",
      "      Epoch    GPU_mem   box_loss   cls_loss   dfl_loss  Instances       Size\n"
     ]
    },
    {
     "name": "stderr",
     "output_type": "stream",
     "text": [
      "   321/1000      2.66G      1.126     0.6213      1.088         21        640: 100%|██████████| 74/74 [00:09<00:00,  8.10it/s]\n",
      "                 Class     Images  Instances      Box(P          R      mAP50  mAP50-95): 100%|██████████| 8/8 [00:01<00:00,  6.18it/s]"
     ]
    },
    {
     "name": "stdout",
     "output_type": "stream",
     "text": [
      "                   all        250       2831      0.894      0.869      0.938      0.636\n"
     ]
    },
    {
     "name": "stderr",
     "output_type": "stream",
     "text": [
      "\n"
     ]
    },
    {
     "name": "stdout",
     "output_type": "stream",
     "text": [
      "\n",
      "      Epoch    GPU_mem   box_loss   cls_loss   dfl_loss  Instances       Size\n"
     ]
    },
    {
     "name": "stderr",
     "output_type": "stream",
     "text": [
      "   322/1000      2.92G      1.105     0.6186       1.08         21        640: 100%|██████████| 74/74 [00:08<00:00,  8.24it/s]\n",
      "                 Class     Images  Instances      Box(P          R      mAP50  mAP50-95): 100%|██████████| 8/8 [00:01<00:00,  6.36it/s]"
     ]
    },
    {
     "name": "stdout",
     "output_type": "stream",
     "text": [
      "                   all        250       2831      0.886      0.858      0.936      0.632\n"
     ]
    },
    {
     "name": "stderr",
     "output_type": "stream",
     "text": [
      "\n"
     ]
    },
    {
     "name": "stdout",
     "output_type": "stream",
     "text": [
      "\n",
      "      Epoch    GPU_mem   box_loss   cls_loss   dfl_loss  Instances       Size\n"
     ]
    },
    {
     "name": "stderr",
     "output_type": "stream",
     "text": [
      "   323/1000      2.99G      1.116     0.6173      1.086         25        640: 100%|██████████| 74/74 [00:09<00:00,  8.20it/s]\n",
      "                 Class     Images  Instances      Box(P          R      mAP50  mAP50-95): 100%|██████████| 8/8 [00:01<00:00,  6.48it/s]"
     ]
    },
    {
     "name": "stdout",
     "output_type": "stream",
     "text": [
      "                   all        250       2831      0.904      0.852      0.936      0.633\n"
     ]
    },
    {
     "name": "stderr",
     "output_type": "stream",
     "text": [
      "\n"
     ]
    },
    {
     "name": "stdout",
     "output_type": "stream",
     "text": [
      "\n",
      "      Epoch    GPU_mem   box_loss   cls_loss   dfl_loss  Instances       Size\n"
     ]
    },
    {
     "name": "stderr",
     "output_type": "stream",
     "text": [
      "   324/1000      2.79G      1.118     0.6163      1.078         51        640: 100%|██████████| 74/74 [00:08<00:00,  8.23it/s]\n",
      "                 Class     Images  Instances      Box(P          R      mAP50  mAP50-95): 100%|██████████| 8/8 [00:01<00:00,  6.53it/s]"
     ]
    },
    {
     "name": "stdout",
     "output_type": "stream",
     "text": [
      "                   all        250       2831      0.896      0.854      0.937      0.632\n"
     ]
    },
    {
     "name": "stderr",
     "output_type": "stream",
     "text": [
      "\n"
     ]
    },
    {
     "name": "stdout",
     "output_type": "stream",
     "text": [
      "\n",
      "      Epoch    GPU_mem   box_loss   cls_loss   dfl_loss  Instances       Size\n"
     ]
    },
    {
     "name": "stderr",
     "output_type": "stream",
     "text": [
      "   325/1000      3.15G      1.114     0.6185       1.08         18        640: 100%|██████████| 74/74 [00:09<00:00,  8.09it/s]\n",
      "                 Class     Images  Instances      Box(P          R      mAP50  mAP50-95): 100%|██████████| 8/8 [00:01<00:00,  6.48it/s]"
     ]
    },
    {
     "name": "stdout",
     "output_type": "stream",
     "text": [
      "                   all        250       2831      0.882      0.865      0.936      0.632\n"
     ]
    },
    {
     "name": "stderr",
     "output_type": "stream",
     "text": [
      "\n"
     ]
    },
    {
     "name": "stdout",
     "output_type": "stream",
     "text": [
      "\n",
      "      Epoch    GPU_mem   box_loss   cls_loss   dfl_loss  Instances       Size\n"
     ]
    },
    {
     "name": "stderr",
     "output_type": "stream",
     "text": [
      "   326/1000      3.18G      1.102     0.6095      1.071         25        640: 100%|██████████| 74/74 [00:09<00:00,  8.20it/s]\n",
      "                 Class     Images  Instances      Box(P          R      mAP50  mAP50-95): 100%|██████████| 8/8 [00:01<00:00,  6.49it/s]"
     ]
    },
    {
     "name": "stdout",
     "output_type": "stream",
     "text": [
      "                   all        250       2831      0.894      0.862      0.938      0.633\n"
     ]
    },
    {
     "name": "stderr",
     "output_type": "stream",
     "text": [
      "\n"
     ]
    },
    {
     "name": "stdout",
     "output_type": "stream",
     "text": [
      "\n",
      "      Epoch    GPU_mem   box_loss   cls_loss   dfl_loss  Instances       Size\n"
     ]
    },
    {
     "name": "stderr",
     "output_type": "stream",
     "text": [
      "   327/1000      3.27G      1.112     0.6157       1.08         28        640: 100%|██████████| 74/74 [00:09<00:00,  8.21it/s]\n",
      "                 Class     Images  Instances      Box(P          R      mAP50  mAP50-95): 100%|██████████| 8/8 [00:01<00:00,  6.51it/s]"
     ]
    },
    {
     "name": "stdout",
     "output_type": "stream",
     "text": [
      "                   all        250       2831      0.891      0.863      0.936      0.635\n"
     ]
    },
    {
     "name": "stderr",
     "output_type": "stream",
     "text": [
      "\n"
     ]
    },
    {
     "name": "stdout",
     "output_type": "stream",
     "text": [
      "\n",
      "      Epoch    GPU_mem   box_loss   cls_loss   dfl_loss  Instances       Size\n"
     ]
    },
    {
     "name": "stderr",
     "output_type": "stream",
     "text": [
      "   328/1000      3.02G      1.109      0.611      1.079         43        640: 100%|██████████| 74/74 [00:09<00:00,  8.19it/s]\n",
      "                 Class     Images  Instances      Box(P          R      mAP50  mAP50-95): 100%|██████████| 8/8 [00:01<00:00,  6.53it/s]"
     ]
    },
    {
     "name": "stdout",
     "output_type": "stream",
     "text": [
      "                   all        250       2831      0.892      0.861      0.935      0.633\n"
     ]
    },
    {
     "name": "stderr",
     "output_type": "stream",
     "text": [
      "\n"
     ]
    },
    {
     "name": "stdout",
     "output_type": "stream",
     "text": [
      "\n",
      "      Epoch    GPU_mem   box_loss   cls_loss   dfl_loss  Instances       Size\n"
     ]
    },
    {
     "name": "stderr",
     "output_type": "stream",
     "text": [
      "   329/1000       2.8G      1.116     0.6196      1.079         25        640: 100%|██████████| 74/74 [00:09<00:00,  8.10it/s]\n",
      "                 Class     Images  Instances      Box(P          R      mAP50  mAP50-95): 100%|██████████| 8/8 [00:01<00:00,  6.38it/s]"
     ]
    },
    {
     "name": "stdout",
     "output_type": "stream",
     "text": [
      "                   all        250       2831      0.902      0.858      0.936      0.632\n"
     ]
    },
    {
     "name": "stderr",
     "output_type": "stream",
     "text": [
      "\n"
     ]
    },
    {
     "name": "stdout",
     "output_type": "stream",
     "text": [
      "\n",
      "      Epoch    GPU_mem   box_loss   cls_loss   dfl_loss  Instances       Size\n"
     ]
    },
    {
     "name": "stderr",
     "output_type": "stream",
     "text": [
      "   330/1000      2.96G      1.113     0.6189      1.079         42        640: 100%|██████████| 74/74 [00:09<00:00,  8.18it/s]\n",
      "                 Class     Images  Instances      Box(P          R      mAP50  mAP50-95): 100%|██████████| 8/8 [00:01<00:00,  6.46it/s]"
     ]
    },
    {
     "name": "stdout",
     "output_type": "stream",
     "text": [
      "                   all        250       2831      0.896      0.862      0.936       0.63\n"
     ]
    },
    {
     "name": "stderr",
     "output_type": "stream",
     "text": [
      "\n"
     ]
    },
    {
     "name": "stdout",
     "output_type": "stream",
     "text": [
      "\n",
      "      Epoch    GPU_mem   box_loss   cls_loss   dfl_loss  Instances       Size\n"
     ]
    },
    {
     "name": "stderr",
     "output_type": "stream",
     "text": [
      "   331/1000      3.13G      1.111     0.6147      1.078         18        640: 100%|██████████| 74/74 [00:09<00:00,  8.19it/s]\n",
      "                 Class     Images  Instances      Box(P          R      mAP50  mAP50-95): 100%|██████████| 8/8 [00:01<00:00,  6.38it/s]"
     ]
    },
    {
     "name": "stdout",
     "output_type": "stream",
     "text": [
      "                   all        250       2831      0.893      0.863      0.937      0.631\n"
     ]
    },
    {
     "name": "stderr",
     "output_type": "stream",
     "text": [
      "\n"
     ]
    },
    {
     "name": "stdout",
     "output_type": "stream",
     "text": [
      "\n",
      "      Epoch    GPU_mem   box_loss   cls_loss   dfl_loss  Instances       Size\n"
     ]
    },
    {
     "name": "stderr",
     "output_type": "stream",
     "text": [
      "   332/1000       3.1G      1.103     0.6129      1.073         27        640: 100%|██████████| 74/74 [00:09<00:00,  8.14it/s]\n",
      "                 Class     Images  Instances      Box(P          R      mAP50  mAP50-95): 100%|██████████| 8/8 [00:01<00:00,  6.45it/s]"
     ]
    },
    {
     "name": "stdout",
     "output_type": "stream",
     "text": [
      "                   all        250       2831      0.883       0.87      0.936      0.634\n"
     ]
    },
    {
     "name": "stderr",
     "output_type": "stream",
     "text": [
      "\n"
     ]
    },
    {
     "name": "stdout",
     "output_type": "stream",
     "text": [
      "\n",
      "      Epoch    GPU_mem   box_loss   cls_loss   dfl_loss  Instances       Size\n"
     ]
    },
    {
     "name": "stderr",
     "output_type": "stream",
     "text": [
      "   333/1000      3.07G      1.112     0.6163      1.078         50        640: 100%|██████████| 74/74 [00:09<00:00,  8.19it/s]\n",
      "                 Class     Images  Instances      Box(P          R      mAP50  mAP50-95): 100%|██████████| 8/8 [00:01<00:00,  6.56it/s]"
     ]
    },
    {
     "name": "stdout",
     "output_type": "stream",
     "text": [
      "                   all        250       2831      0.895      0.855      0.937      0.633\n"
     ]
    },
    {
     "name": "stderr",
     "output_type": "stream",
     "text": [
      "\n"
     ]
    },
    {
     "name": "stdout",
     "output_type": "stream",
     "text": [
      "\n",
      "      Epoch    GPU_mem   box_loss   cls_loss   dfl_loss  Instances       Size\n"
     ]
    },
    {
     "name": "stderr",
     "output_type": "stream",
     "text": [
      "   334/1000      2.89G      1.097     0.6011      1.075         42        640: 100%|██████████| 74/74 [00:09<00:00,  8.03it/s]\n",
      "                 Class     Images  Instances      Box(P          R      mAP50  mAP50-95): 100%|██████████| 8/8 [00:01<00:00,  6.56it/s]"
     ]
    },
    {
     "name": "stdout",
     "output_type": "stream",
     "text": [
      "                   all        250       2831      0.889      0.862      0.937      0.633\n"
     ]
    },
    {
     "name": "stderr",
     "output_type": "stream",
     "text": [
      "\n"
     ]
    },
    {
     "name": "stdout",
     "output_type": "stream",
     "text": [
      "\n",
      "      Epoch    GPU_mem   box_loss   cls_loss   dfl_loss  Instances       Size\n"
     ]
    },
    {
     "name": "stderr",
     "output_type": "stream",
     "text": [
      "   335/1000      2.95G      1.118     0.6165      1.086         20        640: 100%|██████████| 74/74 [00:09<00:00,  8.19it/s]\n",
      "                 Class     Images  Instances      Box(P          R      mAP50  mAP50-95): 100%|██████████| 8/8 [00:01<00:00,  6.33it/s]"
     ]
    },
    {
     "name": "stdout",
     "output_type": "stream",
     "text": [
      "                   all        250       2831      0.906      0.853      0.938      0.636\n"
     ]
    },
    {
     "name": "stderr",
     "output_type": "stream",
     "text": [
      "\n"
     ]
    },
    {
     "name": "stdout",
     "output_type": "stream",
     "text": [
      "\n",
      "      Epoch    GPU_mem   box_loss   cls_loss   dfl_loss  Instances       Size\n"
     ]
    },
    {
     "name": "stderr",
     "output_type": "stream",
     "text": [
      "   336/1000      3.06G      1.102     0.6074      1.081         19        640: 100%|██████████| 74/74 [00:09<00:00,  8.16it/s]\n",
      "                 Class     Images  Instances      Box(P          R      mAP50  mAP50-95): 100%|██████████| 8/8 [00:01<00:00,  6.42it/s]"
     ]
    },
    {
     "name": "stdout",
     "output_type": "stream",
     "text": [
      "                   all        250       2831      0.902      0.862       0.94      0.634\n"
     ]
    },
    {
     "name": "stderr",
     "output_type": "stream",
     "text": [
      "\n"
     ]
    },
    {
     "name": "stdout",
     "output_type": "stream",
     "text": [
      "\n",
      "      Epoch    GPU_mem   box_loss   cls_loss   dfl_loss  Instances       Size\n"
     ]
    },
    {
     "name": "stderr",
     "output_type": "stream",
     "text": [
      "   337/1000      3.21G      1.103     0.6053       1.07         30        640: 100%|██████████| 74/74 [00:09<00:00,  8.13it/s]\n",
      "                 Class     Images  Instances      Box(P          R      mAP50  mAP50-95): 100%|██████████| 8/8 [00:01<00:00,  6.38it/s]"
     ]
    },
    {
     "name": "stdout",
     "output_type": "stream",
     "text": [
      "                   all        250       2831      0.894      0.867      0.937      0.632\n"
     ]
    },
    {
     "name": "stderr",
     "output_type": "stream",
     "text": [
      "\n"
     ]
    },
    {
     "name": "stdout",
     "output_type": "stream",
     "text": [
      "\n",
      "      Epoch    GPU_mem   box_loss   cls_loss   dfl_loss  Instances       Size\n"
     ]
    },
    {
     "name": "stderr",
     "output_type": "stream",
     "text": [
      "   338/1000      2.78G      1.098     0.6134      1.078         11        640: 100%|██████████| 74/74 [00:09<00:00,  8.20it/s]\n",
      "                 Class     Images  Instances      Box(P          R      mAP50  mAP50-95): 100%|██████████| 8/8 [00:01<00:00,  6.44it/s]"
     ]
    },
    {
     "name": "stdout",
     "output_type": "stream",
     "text": [
      "                   all        250       2831      0.905      0.853      0.938      0.634\n"
     ]
    },
    {
     "name": "stderr",
     "output_type": "stream",
     "text": [
      "\n"
     ]
    },
    {
     "name": "stdout",
     "output_type": "stream",
     "text": [
      "\n",
      "      Epoch    GPU_mem   box_loss   cls_loss   dfl_loss  Instances       Size\n"
     ]
    },
    {
     "name": "stderr",
     "output_type": "stream",
     "text": [
      "   339/1000       3.3G      1.118     0.6064       1.08         30        640: 100%|██████████| 74/74 [00:09<00:00,  8.00it/s]\n",
      "                 Class     Images  Instances      Box(P          R      mAP50  mAP50-95): 100%|██████████| 8/8 [00:01<00:00,  6.38it/s]"
     ]
    },
    {
     "name": "stdout",
     "output_type": "stream",
     "text": [
      "                   all        250       2831      0.894      0.864      0.937      0.631\n"
     ]
    },
    {
     "name": "stderr",
     "output_type": "stream",
     "text": [
      "\n"
     ]
    },
    {
     "name": "stdout",
     "output_type": "stream",
     "text": [
      "\n",
      "      Epoch    GPU_mem   box_loss   cls_loss   dfl_loss  Instances       Size\n"
     ]
    },
    {
     "name": "stderr",
     "output_type": "stream",
     "text": [
      "   340/1000      3.14G      1.116     0.6348       1.08          3        640: 100%|██████████| 74/74 [00:09<00:00,  8.19it/s]\n",
      "                 Class     Images  Instances      Box(P          R      mAP50  mAP50-95): 100%|██████████| 8/8 [00:01<00:00,  6.56it/s]"
     ]
    },
    {
     "name": "stdout",
     "output_type": "stream",
     "text": [
      "                   all        250       2831      0.902      0.854      0.936      0.633\n"
     ]
    },
    {
     "name": "stderr",
     "output_type": "stream",
     "text": [
      "\n"
     ]
    },
    {
     "name": "stdout",
     "output_type": "stream",
     "text": [
      "\n",
      "      Epoch    GPU_mem   box_loss   cls_loss   dfl_loss  Instances       Size\n"
     ]
    },
    {
     "name": "stderr",
     "output_type": "stream",
     "text": [
      "   341/1000      3.19G      1.129     0.6187      1.085         17        640: 100%|██████████| 74/74 [00:09<00:00,  8.17it/s]\n",
      "                 Class     Images  Instances      Box(P          R      mAP50  mAP50-95): 100%|██████████| 8/8 [00:01<00:00,  6.57it/s]"
     ]
    },
    {
     "name": "stdout",
     "output_type": "stream",
     "text": [
      "                   all        250       2831      0.906      0.852      0.937      0.633\n"
     ]
    },
    {
     "name": "stderr",
     "output_type": "stream",
     "text": [
      "\n"
     ]
    },
    {
     "name": "stdout",
     "output_type": "stream",
     "text": [
      "\n",
      "      Epoch    GPU_mem   box_loss   cls_loss   dfl_loss  Instances       Size\n"
     ]
    },
    {
     "name": "stderr",
     "output_type": "stream",
     "text": [
      "   342/1000      3.18G      1.116     0.6154      1.077         54        640: 100%|██████████| 74/74 [00:09<00:00,  8.09it/s]\n",
      "                 Class     Images  Instances      Box(P          R      mAP50  mAP50-95): 100%|██████████| 8/8 [00:01<00:00,  6.55it/s]"
     ]
    },
    {
     "name": "stdout",
     "output_type": "stream",
     "text": [
      "                   all        250       2831      0.909      0.851      0.937      0.633\n"
     ]
    },
    {
     "name": "stderr",
     "output_type": "stream",
     "text": [
      "\n"
     ]
    },
    {
     "name": "stdout",
     "output_type": "stream",
     "text": [
      "\n",
      "      Epoch    GPU_mem   box_loss   cls_loss   dfl_loss  Instances       Size\n"
     ]
    },
    {
     "name": "stderr",
     "output_type": "stream",
     "text": [
      "   343/1000      2.77G      1.101     0.6044      1.075         44        640: 100%|██████████| 74/74 [00:09<00:00,  8.13it/s]\n",
      "                 Class     Images  Instances      Box(P          R      mAP50  mAP50-95): 100%|██████████| 8/8 [00:01<00:00,  6.46it/s]"
     ]
    },
    {
     "name": "stdout",
     "output_type": "stream",
     "text": [
      "                   all        250       2831      0.901      0.851      0.935      0.631\n"
     ]
    },
    {
     "name": "stderr",
     "output_type": "stream",
     "text": [
      "\n"
     ]
    },
    {
     "name": "stdout",
     "output_type": "stream",
     "text": [
      "\n",
      "      Epoch    GPU_mem   box_loss   cls_loss   dfl_loss  Instances       Size\n"
     ]
    },
    {
     "name": "stderr",
     "output_type": "stream",
     "text": [
      "   344/1000      2.76G      1.106     0.6095       1.08         24        640: 100%|██████████| 74/74 [00:09<00:00,  8.21it/s]\n",
      "                 Class     Images  Instances      Box(P          R      mAP50  mAP50-95): 100%|██████████| 8/8 [00:01<00:00,  6.51it/s]"
     ]
    },
    {
     "name": "stdout",
     "output_type": "stream",
     "text": [
      "                   all        250       2831      0.887      0.866      0.937      0.634\n"
     ]
    },
    {
     "name": "stderr",
     "output_type": "stream",
     "text": [
      "\n"
     ]
    },
    {
     "name": "stdout",
     "output_type": "stream",
     "text": [
      "\n",
      "      Epoch    GPU_mem   box_loss   cls_loss   dfl_loss  Instances       Size\n"
     ]
    },
    {
     "name": "stderr",
     "output_type": "stream",
     "text": [
      "   345/1000      3.28G        1.1     0.6101      1.074         45        640: 100%|██████████| 74/74 [00:09<00:00,  8.08it/s]\n",
      "                 Class     Images  Instances      Box(P          R      mAP50  mAP50-95): 100%|██████████| 8/8 [00:01<00:00,  6.42it/s]"
     ]
    },
    {
     "name": "stdout",
     "output_type": "stream",
     "text": [
      "                   all        250       2831      0.902      0.855      0.937      0.633\n"
     ]
    },
    {
     "name": "stderr",
     "output_type": "stream",
     "text": [
      "\n"
     ]
    },
    {
     "name": "stdout",
     "output_type": "stream",
     "text": [
      "\n",
      "      Epoch    GPU_mem   box_loss   cls_loss   dfl_loss  Instances       Size\n"
     ]
    },
    {
     "name": "stderr",
     "output_type": "stream",
     "text": [
      "   346/1000      3.17G      1.108     0.6127      1.078         23        640: 100%|██████████| 74/74 [00:09<00:00,  8.00it/s]\n",
      "                 Class     Images  Instances      Box(P          R      mAP50  mAP50-95): 100%|██████████| 8/8 [00:01<00:00,  6.19it/s]"
     ]
    },
    {
     "name": "stdout",
     "output_type": "stream",
     "text": [
      "                   all        250       2831      0.899      0.856      0.938      0.634\n"
     ]
    },
    {
     "name": "stderr",
     "output_type": "stream",
     "text": [
      "\n"
     ]
    },
    {
     "name": "stdout",
     "output_type": "stream",
     "text": [
      "\n",
      "      Epoch    GPU_mem   box_loss   cls_loss   dfl_loss  Instances       Size\n"
     ]
    },
    {
     "name": "stderr",
     "output_type": "stream",
     "text": [
      "   347/1000      2.91G        1.1     0.6111       1.08         11        640: 100%|██████████| 74/74 [00:09<00:00,  8.06it/s]\n",
      "                 Class     Images  Instances      Box(P          R      mAP50  mAP50-95): 100%|██████████| 8/8 [00:01<00:00,  6.17it/s]"
     ]
    },
    {
     "name": "stdout",
     "output_type": "stream",
     "text": [
      "                   all        250       2831      0.893      0.862      0.939      0.634\n"
     ]
    },
    {
     "name": "stderr",
     "output_type": "stream",
     "text": [
      "\n"
     ]
    },
    {
     "name": "stdout",
     "output_type": "stream",
     "text": [
      "\n",
      "      Epoch    GPU_mem   box_loss   cls_loss   dfl_loss  Instances       Size\n"
     ]
    },
    {
     "name": "stderr",
     "output_type": "stream",
     "text": [
      "   348/1000       2.9G      1.113      0.616      1.086         10        640: 100%|██████████| 74/74 [00:09<00:00,  8.06it/s]\n",
      "                 Class     Images  Instances      Box(P          R      mAP50  mAP50-95): 100%|██████████| 8/8 [00:01<00:00,  6.19it/s]"
     ]
    },
    {
     "name": "stdout",
     "output_type": "stream",
     "text": [
      "                   all        250       2831      0.896       0.86      0.938      0.632\n"
     ]
    },
    {
     "name": "stderr",
     "output_type": "stream",
     "text": [
      "\n"
     ]
    },
    {
     "name": "stdout",
     "output_type": "stream",
     "text": [
      "\n",
      "      Epoch    GPU_mem   box_loss   cls_loss   dfl_loss  Instances       Size\n"
     ]
    },
    {
     "name": "stderr",
     "output_type": "stream",
     "text": [
      "   349/1000       2.8G      1.105     0.6104      1.074         33        640: 100%|██████████| 74/74 [00:09<00:00,  8.01it/s]\n",
      "                 Class     Images  Instances      Box(P          R      mAP50  mAP50-95): 100%|██████████| 8/8 [00:01<00:00,  6.31it/s]"
     ]
    },
    {
     "name": "stdout",
     "output_type": "stream",
     "text": [
      "                   all        250       2831      0.905      0.859       0.94      0.634\n"
     ]
    },
    {
     "name": "stderr",
     "output_type": "stream",
     "text": [
      "\n"
     ]
    },
    {
     "name": "stdout",
     "output_type": "stream",
     "text": [
      "\n",
      "      Epoch    GPU_mem   box_loss   cls_loss   dfl_loss  Instances       Size\n"
     ]
    },
    {
     "name": "stderr",
     "output_type": "stream",
     "text": [
      "   350/1000      2.96G       1.11     0.6104      1.075         26        640: 100%|██████████| 74/74 [00:09<00:00,  8.05it/s]\n",
      "                 Class     Images  Instances      Box(P          R      mAP50  mAP50-95): 100%|██████████| 8/8 [00:01<00:00,  6.18it/s]"
     ]
    },
    {
     "name": "stdout",
     "output_type": "stream",
     "text": [
      "                   all        250       2831      0.896      0.859      0.937      0.633\n"
     ]
    },
    {
     "name": "stderr",
     "output_type": "stream",
     "text": [
      "\n"
     ]
    },
    {
     "name": "stdout",
     "output_type": "stream",
     "text": [
      "\n",
      "      Epoch    GPU_mem   box_loss   cls_loss   dfl_loss  Instances       Size\n"
     ]
    },
    {
     "name": "stderr",
     "output_type": "stream",
     "text": [
      "   351/1000       3.1G      1.116     0.6141       1.08         30        640: 100%|██████████| 74/74 [00:09<00:00,  7.99it/s]\n",
      "                 Class     Images  Instances      Box(P          R      mAP50  mAP50-95): 100%|██████████| 8/8 [00:01<00:00,  6.10it/s]"
     ]
    },
    {
     "name": "stdout",
     "output_type": "stream",
     "text": [
      "                   all        250       2831      0.894      0.864      0.938      0.633\n"
     ]
    },
    {
     "name": "stderr",
     "output_type": "stream",
     "text": [
      "\n"
     ]
    },
    {
     "name": "stdout",
     "output_type": "stream",
     "text": [
      "\n",
      "      Epoch    GPU_mem   box_loss   cls_loss   dfl_loss  Instances       Size\n"
     ]
    },
    {
     "name": "stderr",
     "output_type": "stream",
     "text": [
      "   352/1000      2.97G      1.105     0.6113      1.075         48        640: 100%|██████████| 74/74 [00:09<00:00,  7.97it/s]\n",
      "                 Class     Images  Instances      Box(P          R      mAP50  mAP50-95): 100%|██████████| 8/8 [00:01<00:00,  6.38it/s]"
     ]
    },
    {
     "name": "stdout",
     "output_type": "stream",
     "text": [
      "                   all        250       2831      0.894       0.86      0.937      0.634\n"
     ]
    },
    {
     "name": "stderr",
     "output_type": "stream",
     "text": [
      "\n"
     ]
    },
    {
     "name": "stdout",
     "output_type": "stream",
     "text": [
      "\n",
      "      Epoch    GPU_mem   box_loss   cls_loss   dfl_loss  Instances       Size\n"
     ]
    },
    {
     "name": "stderr",
     "output_type": "stream",
     "text": [
      "   353/1000      2.83G        1.1     0.6042      1.073         27        640: 100%|██████████| 74/74 [00:09<00:00,  8.02it/s]\n",
      "                 Class     Images  Instances      Box(P          R      mAP50  mAP50-95): 100%|██████████| 8/8 [00:01<00:00,  6.15it/s]"
     ]
    },
    {
     "name": "stdout",
     "output_type": "stream",
     "text": [
      "                   all        250       2831      0.891      0.862      0.935      0.636\n"
     ]
    },
    {
     "name": "stderr",
     "output_type": "stream",
     "text": [
      "\n"
     ]
    },
    {
     "name": "stdout",
     "output_type": "stream",
     "text": [
      "\n",
      "      Epoch    GPU_mem   box_loss   cls_loss   dfl_loss  Instances       Size\n"
     ]
    },
    {
     "name": "stderr",
     "output_type": "stream",
     "text": [
      "   354/1000      2.79G       1.11     0.6089      1.071         93        640: 100%|██████████| 74/74 [00:09<00:00,  8.10it/s]\n",
      "                 Class     Images  Instances      Box(P          R      mAP50  mAP50-95): 100%|██████████| 8/8 [00:01<00:00,  6.08it/s]"
     ]
    },
    {
     "name": "stdout",
     "output_type": "stream",
     "text": [
      "                   all        250       2831      0.895      0.862      0.937      0.636\n"
     ]
    },
    {
     "name": "stderr",
     "output_type": "stream",
     "text": [
      "\n"
     ]
    },
    {
     "name": "stdout",
     "output_type": "stream",
     "text": [
      "\n",
      "      Epoch    GPU_mem   box_loss   cls_loss   dfl_loss  Instances       Size\n"
     ]
    },
    {
     "name": "stderr",
     "output_type": "stream",
     "text": [
      "   355/1000      2.78G      1.108      0.605      1.076         17        640: 100%|██████████| 74/74 [00:09<00:00,  8.06it/s]\n",
      "                 Class     Images  Instances      Box(P          R      mAP50  mAP50-95): 100%|██████████| 8/8 [00:01<00:00,  6.24it/s]"
     ]
    },
    {
     "name": "stdout",
     "output_type": "stream",
     "text": [
      "                   all        250       2831      0.901       0.86      0.939      0.634\n",
      "\u001b[34m\u001b[1mEarlyStopping: \u001b[0mTraining stopped early as no improvement observed in last 100 epochs. Best results observed at epoch 255, best model saved as best.pt.\n",
      "To update EarlyStopping(patience=100) pass a new patience value, i.e. `patience=300` or use `patience=0` to disable EarlyStopping.\n"
     ]
    },
    {
     "name": "stderr",
     "output_type": "stream",
     "text": [
      "\n"
     ]
    },
    {
     "name": "stdout",
     "output_type": "stream",
     "text": [
      "\n",
      "355 epochs completed in 1.135 hours.\n",
      "Optimizer stripped from runs\\detect\\train2\\weights\\last.pt, 5.5MB\n",
      "Optimizer stripped from runs\\detect\\train2\\weights\\best.pt, 5.5MB\n",
      "\n",
      "Validating runs\\detect\\train2\\weights\\best.pt...\n",
      "Ultralytics 8.3.15  Python-3.12.2 torch-2.5.0+cu118 CUDA:0 (NVIDIA GeForce RTX 4060, 8188MiB)\n",
      "YOLO11n summary (fused): 238 layers, 2,582,347 parameters, 0 gradients, 6.3 GFLOPs\n"
     ]
    },
    {
     "name": "stderr",
     "output_type": "stream",
     "text": [
      "                 Class     Images  Instances      Box(P          R      mAP50  mAP50-95): 100%|██████████| 8/8 [00:02<00:00,  3.37it/s]\n"
     ]
    },
    {
     "name": "stdout",
     "output_type": "stream",
     "text": [
      "                   all        250       2831      0.904       0.86      0.939      0.637\n",
      "Speed: 0.3ms preprocess, 1.6ms inference, 0.0ms loss, 1.0ms postprocess per image\n",
      "Results saved to \u001b[1mruns\\detect\\train2\u001b[0m\n"
     ]
    },
    {
     "data": {
      "text/plain": [
       "ultralytics.utils.metrics.DetMetrics object with attributes:\n",
       "\n",
       "ap_class_index: array([0])\n",
       "box: ultralytics.utils.metrics.Metric object\n",
       "confusion_matrix: <ultralytics.utils.metrics.ConfusionMatrix object at 0x000001E34DD31280>\n",
       "curves: ['Precision-Recall(B)', 'F1-Confidence(B)', 'Precision-Confidence(B)', 'Recall-Confidence(B)']\n",
       "curves_results: [[array([          0,    0.001001,    0.002002,    0.003003,    0.004004,    0.005005,    0.006006,    0.007007,    0.008008,    0.009009,     0.01001,    0.011011,    0.012012,    0.013013,    0.014014,    0.015015,    0.016016,    0.017017,    0.018018,    0.019019,     0.02002,    0.021021,    0.022022,    0.023023,\n",
       "          0.024024,    0.025025,    0.026026,    0.027027,    0.028028,    0.029029,     0.03003,    0.031031,    0.032032,    0.033033,    0.034034,    0.035035,    0.036036,    0.037037,    0.038038,    0.039039,     0.04004,    0.041041,    0.042042,    0.043043,    0.044044,    0.045045,    0.046046,    0.047047,\n",
       "          0.048048,    0.049049,     0.05005,    0.051051,    0.052052,    0.053053,    0.054054,    0.055055,    0.056056,    0.057057,    0.058058,    0.059059,     0.06006,    0.061061,    0.062062,    0.063063,    0.064064,    0.065065,    0.066066,    0.067067,    0.068068,    0.069069,     0.07007,    0.071071,\n",
       "          0.072072,    0.073073,    0.074074,    0.075075,    0.076076,    0.077077,    0.078078,    0.079079,     0.08008,    0.081081,    0.082082,    0.083083,    0.084084,    0.085085,    0.086086,    0.087087,    0.088088,    0.089089,     0.09009,    0.091091,    0.092092,    0.093093,    0.094094,    0.095095,\n",
       "          0.096096,    0.097097,    0.098098,    0.099099,      0.1001,      0.1011,      0.1021,      0.1031,      0.1041,     0.10511,     0.10611,     0.10711,     0.10811,     0.10911,     0.11011,     0.11111,     0.11211,     0.11311,     0.11411,     0.11512,     0.11612,     0.11712,     0.11812,     0.11912,\n",
       "           0.12012,     0.12112,     0.12212,     0.12312,     0.12412,     0.12513,     0.12613,     0.12713,     0.12813,     0.12913,     0.13013,     0.13113,     0.13213,     0.13313,     0.13413,     0.13514,     0.13614,     0.13714,     0.13814,     0.13914,     0.14014,     0.14114,     0.14214,     0.14314,\n",
       "           0.14414,     0.14515,     0.14615,     0.14715,     0.14815,     0.14915,     0.15015,     0.15115,     0.15215,     0.15315,     0.15415,     0.15516,     0.15616,     0.15716,     0.15816,     0.15916,     0.16016,     0.16116,     0.16216,     0.16316,     0.16416,     0.16517,     0.16617,     0.16717,\n",
       "           0.16817,     0.16917,     0.17017,     0.17117,     0.17217,     0.17317,     0.17417,     0.17518,     0.17618,     0.17718,     0.17818,     0.17918,     0.18018,     0.18118,     0.18218,     0.18318,     0.18418,     0.18519,     0.18619,     0.18719,     0.18819,     0.18919,     0.19019,     0.19119,\n",
       "           0.19219,     0.19319,     0.19419,      0.1952,      0.1962,      0.1972,      0.1982,      0.1992,      0.2002,      0.2012,      0.2022,      0.2032,      0.2042,     0.20521,     0.20621,     0.20721,     0.20821,     0.20921,     0.21021,     0.21121,     0.21221,     0.21321,     0.21421,     0.21522,\n",
       "           0.21622,     0.21722,     0.21822,     0.21922,     0.22022,     0.22122,     0.22222,     0.22322,     0.22422,     0.22523,     0.22623,     0.22723,     0.22823,     0.22923,     0.23023,     0.23123,     0.23223,     0.23323,     0.23423,     0.23524,     0.23624,     0.23724,     0.23824,     0.23924,\n",
       "           0.24024,     0.24124,     0.24224,     0.24324,     0.24424,     0.24525,     0.24625,     0.24725,     0.24825,     0.24925,     0.25025,     0.25125,     0.25225,     0.25325,     0.25425,     0.25526,     0.25626,     0.25726,     0.25826,     0.25926,     0.26026,     0.26126,     0.26226,     0.26326,\n",
       "           0.26426,     0.26527,     0.26627,     0.26727,     0.26827,     0.26927,     0.27027,     0.27127,     0.27227,     0.27327,     0.27427,     0.27528,     0.27628,     0.27728,     0.27828,     0.27928,     0.28028,     0.28128,     0.28228,     0.28328,     0.28428,     0.28529,     0.28629,     0.28729,\n",
       "           0.28829,     0.28929,     0.29029,     0.29129,     0.29229,     0.29329,     0.29429,      0.2953,      0.2963,      0.2973,      0.2983,      0.2993,      0.3003,      0.3013,      0.3023,      0.3033,      0.3043,     0.30531,     0.30631,     0.30731,     0.30831,     0.30931,     0.31031,     0.31131,\n",
       "           0.31231,     0.31331,     0.31431,     0.31532,     0.31632,     0.31732,     0.31832,     0.31932,     0.32032,     0.32132,     0.32232,     0.32332,     0.32432,     0.32533,     0.32633,     0.32733,     0.32833,     0.32933,     0.33033,     0.33133,     0.33233,     0.33333,     0.33433,     0.33534,\n",
       "           0.33634,     0.33734,     0.33834,     0.33934,     0.34034,     0.34134,     0.34234,     0.34334,     0.34434,     0.34535,     0.34635,     0.34735,     0.34835,     0.34935,     0.35035,     0.35135,     0.35235,     0.35335,     0.35435,     0.35536,     0.35636,     0.35736,     0.35836,     0.35936,\n",
       "           0.36036,     0.36136,     0.36236,     0.36336,     0.36436,     0.36537,     0.36637,     0.36737,     0.36837,     0.36937,     0.37037,     0.37137,     0.37237,     0.37337,     0.37437,     0.37538,     0.37638,     0.37738,     0.37838,     0.37938,     0.38038,     0.38138,     0.38238,     0.38338,\n",
       "           0.38438,     0.38539,     0.38639,     0.38739,     0.38839,     0.38939,     0.39039,     0.39139,     0.39239,     0.39339,     0.39439,      0.3954,      0.3964,      0.3974,      0.3984,      0.3994,      0.4004,      0.4014,      0.4024,      0.4034,      0.4044,     0.40541,     0.40641,     0.40741,\n",
       "           0.40841,     0.40941,     0.41041,     0.41141,     0.41241,     0.41341,     0.41441,     0.41542,     0.41642,     0.41742,     0.41842,     0.41942,     0.42042,     0.42142,     0.42242,     0.42342,     0.42442,     0.42543,     0.42643,     0.42743,     0.42843,     0.42943,     0.43043,     0.43143,\n",
       "           0.43243,     0.43343,     0.43443,     0.43544,     0.43644,     0.43744,     0.43844,     0.43944,     0.44044,     0.44144,     0.44244,     0.44344,     0.44444,     0.44545,     0.44645,     0.44745,     0.44845,     0.44945,     0.45045,     0.45145,     0.45245,     0.45345,     0.45445,     0.45546,\n",
       "           0.45646,     0.45746,     0.45846,     0.45946,     0.46046,     0.46146,     0.46246,     0.46346,     0.46446,     0.46547,     0.46647,     0.46747,     0.46847,     0.46947,     0.47047,     0.47147,     0.47247,     0.47347,     0.47447,     0.47548,     0.47648,     0.47748,     0.47848,     0.47948,\n",
       "           0.48048,     0.48148,     0.48248,     0.48348,     0.48448,     0.48549,     0.48649,     0.48749,     0.48849,     0.48949,     0.49049,     0.49149,     0.49249,     0.49349,     0.49449,      0.4955,      0.4965,      0.4975,      0.4985,      0.4995,      0.5005,      0.5015,      0.5025,      0.5035,\n",
       "            0.5045,     0.50551,     0.50651,     0.50751,     0.50851,     0.50951,     0.51051,     0.51151,     0.51251,     0.51351,     0.51451,     0.51552,     0.51652,     0.51752,     0.51852,     0.51952,     0.52052,     0.52152,     0.52252,     0.52352,     0.52452,     0.52553,     0.52653,     0.52753,\n",
       "           0.52853,     0.52953,     0.53053,     0.53153,     0.53253,     0.53353,     0.53453,     0.53554,     0.53654,     0.53754,     0.53854,     0.53954,     0.54054,     0.54154,     0.54254,     0.54354,     0.54454,     0.54555,     0.54655,     0.54755,     0.54855,     0.54955,     0.55055,     0.55155,\n",
       "           0.55255,     0.55355,     0.55455,     0.55556,     0.55656,     0.55756,     0.55856,     0.55956,     0.56056,     0.56156,     0.56256,     0.56356,     0.56456,     0.56557,     0.56657,     0.56757,     0.56857,     0.56957,     0.57057,     0.57157,     0.57257,     0.57357,     0.57457,     0.57558,\n",
       "           0.57658,     0.57758,     0.57858,     0.57958,     0.58058,     0.58158,     0.58258,     0.58358,     0.58458,     0.58559,     0.58659,     0.58759,     0.58859,     0.58959,     0.59059,     0.59159,     0.59259,     0.59359,     0.59459,      0.5956,      0.5966,      0.5976,      0.5986,      0.5996,\n",
       "            0.6006,      0.6016,      0.6026,      0.6036,      0.6046,     0.60561,     0.60661,     0.60761,     0.60861,     0.60961,     0.61061,     0.61161,     0.61261,     0.61361,     0.61461,     0.61562,     0.61662,     0.61762,     0.61862,     0.61962,     0.62062,     0.62162,     0.62262,     0.62362,\n",
       "           0.62462,     0.62563,     0.62663,     0.62763,     0.62863,     0.62963,     0.63063,     0.63163,     0.63263,     0.63363,     0.63463,     0.63564,     0.63664,     0.63764,     0.63864,     0.63964,     0.64064,     0.64164,     0.64264,     0.64364,     0.64464,     0.64565,     0.64665,     0.64765,\n",
       "           0.64865,     0.64965,     0.65065,     0.65165,     0.65265,     0.65365,     0.65465,     0.65566,     0.65666,     0.65766,     0.65866,     0.65966,     0.66066,     0.66166,     0.66266,     0.66366,     0.66466,     0.66567,     0.66667,     0.66767,     0.66867,     0.66967,     0.67067,     0.67167,\n",
       "           0.67267,     0.67367,     0.67467,     0.67568,     0.67668,     0.67768,     0.67868,     0.67968,     0.68068,     0.68168,     0.68268,     0.68368,     0.68468,     0.68569,     0.68669,     0.68769,     0.68869,     0.68969,     0.69069,     0.69169,     0.69269,     0.69369,     0.69469,      0.6957,\n",
       "            0.6967,      0.6977,      0.6987,      0.6997,      0.7007,      0.7017,      0.7027,      0.7037,      0.7047,     0.70571,     0.70671,     0.70771,     0.70871,     0.70971,     0.71071,     0.71171,     0.71271,     0.71371,     0.71471,     0.71572,     0.71672,     0.71772,     0.71872,     0.71972,\n",
       "           0.72072,     0.72172,     0.72272,     0.72372,     0.72472,     0.72573,     0.72673,     0.72773,     0.72873,     0.72973,     0.73073,     0.73173,     0.73273,     0.73373,     0.73473,     0.73574,     0.73674,     0.73774,     0.73874,     0.73974,     0.74074,     0.74174,     0.74274,     0.74374,\n",
       "           0.74474,     0.74575,     0.74675,     0.74775,     0.74875,     0.74975,     0.75075,     0.75175,     0.75275,     0.75375,     0.75475,     0.75576,     0.75676,     0.75776,     0.75876,     0.75976,     0.76076,     0.76176,     0.76276,     0.76376,     0.76476,     0.76577,     0.76677,     0.76777,\n",
       "           0.76877,     0.76977,     0.77077,     0.77177,     0.77277,     0.77377,     0.77477,     0.77578,     0.77678,     0.77778,     0.77878,     0.77978,     0.78078,     0.78178,     0.78278,     0.78378,     0.78478,     0.78579,     0.78679,     0.78779,     0.78879,     0.78979,     0.79079,     0.79179,\n",
       "           0.79279,     0.79379,     0.79479,      0.7958,      0.7968,      0.7978,      0.7988,      0.7998,      0.8008,      0.8018,      0.8028,      0.8038,      0.8048,     0.80581,     0.80681,     0.80781,     0.80881,     0.80981,     0.81081,     0.81181,     0.81281,     0.81381,     0.81481,     0.81582,\n",
       "           0.81682,     0.81782,     0.81882,     0.81982,     0.82082,     0.82182,     0.82282,     0.82382,     0.82482,     0.82583,     0.82683,     0.82783,     0.82883,     0.82983,     0.83083,     0.83183,     0.83283,     0.83383,     0.83483,     0.83584,     0.83684,     0.83784,     0.83884,     0.83984,\n",
       "           0.84084,     0.84184,     0.84284,     0.84384,     0.84484,     0.84585,     0.84685,     0.84785,     0.84885,     0.84985,     0.85085,     0.85185,     0.85285,     0.85385,     0.85485,     0.85586,     0.85686,     0.85786,     0.85886,     0.85986,     0.86086,     0.86186,     0.86286,     0.86386,\n",
       "           0.86486,     0.86587,     0.86687,     0.86787,     0.86887,     0.86987,     0.87087,     0.87187,     0.87287,     0.87387,     0.87487,     0.87588,     0.87688,     0.87788,     0.87888,     0.87988,     0.88088,     0.88188,     0.88288,     0.88388,     0.88488,     0.88589,     0.88689,     0.88789,\n",
       "           0.88889,     0.88989,     0.89089,     0.89189,     0.89289,     0.89389,     0.89489,      0.8959,      0.8969,      0.8979,      0.8989,      0.8999,      0.9009,      0.9019,      0.9029,      0.9039,      0.9049,     0.90591,     0.90691,     0.90791,     0.90891,     0.90991,     0.91091,     0.91191,\n",
       "           0.91291,     0.91391,     0.91491,     0.91592,     0.91692,     0.91792,     0.91892,     0.91992,     0.92092,     0.92192,     0.92292,     0.92392,     0.92492,     0.92593,     0.92693,     0.92793,     0.92893,     0.92993,     0.93093,     0.93193,     0.93293,     0.93393,     0.93493,     0.93594,\n",
       "           0.93694,     0.93794,     0.93894,     0.93994,     0.94094,     0.94194,     0.94294,     0.94394,     0.94494,     0.94595,     0.94695,     0.94795,     0.94895,     0.94995,     0.95095,     0.95195,     0.95295,     0.95395,     0.95495,     0.95596,     0.95696,     0.95796,     0.95896,     0.95996,\n",
       "           0.96096,     0.96196,     0.96296,     0.96396,     0.96496,     0.96597,     0.96697,     0.96797,     0.96897,     0.96997,     0.97097,     0.97197,     0.97297,     0.97397,     0.97497,     0.97598,     0.97698,     0.97798,     0.97898,     0.97998,     0.98098,     0.98198,     0.98298,     0.98398,\n",
       "           0.98498,     0.98599,     0.98699,     0.98799,     0.98899,     0.98999,     0.99099,     0.99199,     0.99299,     0.99399,     0.99499,       0.996,       0.997,       0.998,       0.999,           1]), array([[          1,           1,           1,           1,           1,           1,           1,           1,           1,           1,           1,           1,           1,           1,           1,           1,           1,           1,           1,           1,           1,           1,           1,\n",
       "                  1,           1,           1,           1,           1,           1,           1,           1,           1,           1,           1,           1,           1,           1,           1,           1,           1,           1,           1,           1,           1,           1,     0.99846,\n",
       "            0.99846,     0.99846,     0.99846,     0.99846,     0.99846,     0.99846,     0.99846,     0.99846,     0.99846,     0.99846,     0.99846,     0.99846,     0.99846,     0.99846,     0.99846,     0.99846,     0.99846,     0.99846,     0.99846,     0.99846,     0.99846,     0.99846,     0.99846,\n",
       "            0.99846,     0.99846,     0.99846,     0.99846,     0.99846,     0.99846,     0.99846,     0.99846,     0.99846,     0.99846,     0.99846,     0.99846,     0.99846,     0.99846,     0.99846,     0.99846,     0.99846,     0.99846,     0.99846,     0.99846,     0.99846,     0.99846,     0.99846,\n",
       "            0.99846,     0.99846,     0.99846,     0.99846,     0.99846,     0.99846,     0.99846,     0.99846,     0.99846,     0.99846,     0.99846,     0.99846,     0.99846,     0.99846,     0.99846,     0.99846,     0.99846,     0.99846,     0.99846,     0.99846,     0.99846,     0.99846,     0.99846,\n",
       "            0.99846,     0.99846,     0.99846,     0.99846,     0.99846,     0.99846,     0.99846,     0.99846,     0.99846,     0.99846,     0.99846,     0.99846,     0.99846,     0.99846,     0.99846,     0.99846,     0.99846,     0.99846,     0.99846,     0.99846,     0.99846,     0.99846,     0.99846,\n",
       "            0.99846,     0.99846,     0.99846,     0.99846,     0.99846,     0.99846,     0.99846,     0.99846,     0.99846,     0.99846,     0.99846,     0.99846,     0.99846,     0.99846,     0.99846,     0.99846,     0.99846,     0.99846,     0.99846,     0.99846,     0.99846,     0.99846,     0.99846,\n",
       "            0.99846,     0.99846,     0.99846,     0.99846,     0.99846,     0.99846,     0.99846,     0.99846,     0.99846,     0.99846,     0.99846,     0.99846,     0.99846,     0.99846,     0.99846,     0.99846,     0.99846,     0.99846,     0.99846,     0.99846,     0.99846,     0.99846,     0.99846,\n",
       "            0.99846,     0.99846,     0.99846,     0.99846,     0.99846,     0.99846,     0.99846,     0.99846,     0.99846,     0.99846,     0.99846,     0.99846,     0.99846,     0.99846,     0.99846,     0.99846,     0.99846,     0.99846,     0.99846,     0.99846,     0.99846,     0.99846,     0.99846,\n",
       "            0.99846,     0.99846,     0.99846,     0.99846,     0.99846,     0.99846,     0.99846,     0.99846,     0.99846,     0.99846,     0.99846,     0.99846,     0.99846,     0.99846,     0.99846,     0.99846,     0.99846,     0.99846,     0.99846,     0.99846,     0.99846,     0.99846,     0.99807,\n",
       "            0.99807,     0.99807,     0.99807,     0.99807,     0.99807,     0.99807,     0.99807,     0.99807,     0.99807,     0.99807,     0.99807,     0.99807,     0.99807,     0.99807,     0.99807,     0.99807,     0.99807,     0.99807,     0.99807,     0.99807,     0.99807,     0.99807,     0.99807,\n",
       "            0.99807,     0.99807,     0.99807,     0.99807,     0.99807,     0.99807,     0.99807,     0.99807,     0.99807,     0.99807,     0.99807,     0.99807,     0.99807,     0.99807,     0.99807,     0.99807,     0.99807,     0.99807,     0.99807,     0.99807,     0.99807,     0.99807,     0.99807,\n",
       "            0.99807,     0.99807,     0.99807,     0.99807,     0.99807,     0.99807,     0.99807,     0.99807,     0.99807,     0.99807,     0.99807,     0.99807,     0.99807,     0.99807,     0.99807,     0.99807,     0.99807,     0.99807,     0.99807,     0.99807,     0.99807,     0.99807,     0.99807,\n",
       "            0.99807,     0.99807,     0.99807,     0.99807,     0.99807,     0.99807,     0.99807,     0.99807,     0.99807,     0.99807,     0.99807,     0.99807,     0.99807,     0.99807,     0.99807,     0.99807,     0.99807,     0.99807,     0.99807,     0.99807,     0.99807,     0.99807,     0.99807,\n",
       "            0.99807,     0.99807,     0.99807,     0.99807,     0.99807,     0.99807,     0.99807,     0.99807,     0.99807,     0.99807,     0.99807,     0.99807,     0.99807,     0.99807,     0.99807,     0.99807,     0.99807,     0.99807,     0.99807,     0.99807,     0.99807,     0.99807,     0.99807,\n",
       "            0.99807,     0.99807,     0.99807,     0.99807,     0.99807,     0.99807,     0.99807,     0.99807,     0.99807,     0.99807,     0.99807,     0.99807,     0.99807,     0.99807,     0.99807,     0.99807,     0.99807,     0.99807,     0.99807,     0.99807,     0.99753,     0.99753,     0.99753,\n",
       "            0.99753,     0.99753,     0.99753,     0.99753,     0.99753,     0.99753,     0.99753,     0.99753,     0.99753,     0.99753,     0.99753,     0.99753,     0.99753,     0.99753,     0.99753,     0.99753,     0.99753,     0.99753,     0.99753,     0.99753,     0.99753,     0.99753,     0.99753,\n",
       "            0.99753,     0.99753,     0.99753,     0.99753,     0.99753,     0.99753,     0.99753,     0.99753,     0.99753,     0.99753,     0.99753,     0.99753,     0.99753,     0.99753,     0.99753,     0.99753,     0.99753,     0.99753,     0.99753,     0.99753,     0.99753,     0.99753,     0.99753,\n",
       "            0.99753,     0.99753,     0.99753,     0.99753,     0.99753,     0.99753,     0.99753,     0.99753,     0.99753,     0.99753,     0.99753,     0.99753,     0.99753,     0.99753,     0.99679,     0.99679,     0.99679,     0.99679,     0.99679,     0.99679,     0.99679,     0.99679,     0.99679,\n",
       "            0.99679,     0.99679,     0.99603,     0.99603,     0.99603,     0.99603,     0.99564,     0.99564,     0.99564,     0.99564,     0.99564,     0.99564,     0.99564,     0.99564,     0.99564,     0.99564,     0.99564,     0.99564,     0.99564,     0.99564,     0.99564,     0.99564,     0.99564,\n",
       "            0.99564,     0.99564,     0.99564,     0.99564,     0.99564,     0.99564,     0.99564,     0.99564,     0.99564,     0.99564,     0.99564,     0.99564,     0.99564,     0.99564,     0.99564,     0.99564,     0.99564,     0.99564,     0.99564,     0.99564,     0.99564,     0.99564,     0.99564,\n",
       "            0.99564,     0.99504,     0.99504,     0.99504,     0.99504,     0.99504,     0.99504,     0.99504,     0.99504,     0.99504,     0.99504,     0.99504,     0.99504,     0.99464,     0.99464,     0.99464,     0.99464,     0.99464,     0.99464,     0.99464,     0.99464,     0.99464,     0.99464,\n",
       "            0.99464,     0.99464,     0.99464,     0.99464,     0.99464,     0.99464,     0.99464,     0.99464,     0.99464,     0.99464,     0.99464,     0.99464,     0.99464,     0.99464,     0.99464,     0.99464,     0.99464,     0.99464,     0.99464,     0.99406,     0.99406,     0.99406,     0.99406,\n",
       "            0.99406,     0.99406,     0.99406,     0.99366,     0.99366,     0.99366,     0.99366,     0.99366,     0.99366,     0.99366,     0.99366,     0.99366,     0.99366,     0.99366,     0.99366,     0.99366,     0.99366,     0.99366,     0.99366,     0.99366,     0.99366,     0.99366,     0.99366,\n",
       "            0.99366,     0.99366,     0.99305,     0.99254,     0.99254,     0.99254,     0.99254,     0.99254,     0.99254,     0.99254,     0.99254,     0.99254,     0.99198,     0.99198,     0.99198,     0.99198,     0.99154,     0.99154,     0.99154,     0.99154,     0.99154,     0.99154,     0.99154,\n",
       "            0.99154,     0.99154,     0.99154,     0.99154,     0.99102,     0.99102,     0.99102,     0.99102,     0.99102,     0.99102,     0.99049,     0.99049,     0.99049,     0.99049,     0.99012,     0.99012,     0.99012,     0.99012,     0.99012,     0.99012,     0.99012,     0.99012,     0.99012,\n",
       "            0.99012,     0.99012,     0.99012,     0.98957,     0.98957,     0.98857,     0.98857,     0.98857,     0.98857,     0.98857,     0.98857,     0.98857,     0.98857,     0.98829,     0.98829,     0.98829,     0.98829,     0.98829,     0.98829,     0.98829,     0.98829,     0.98829,     0.98829,\n",
       "            0.98829,     0.98829,     0.98829,     0.98829,     0.98829,     0.98778,     0.98778,      0.9867,     0.98617,     0.98588,     0.98588,     0.98588,     0.98588,     0.98588,     0.98588,     0.98588,     0.98588,     0.98588,     0.98588,     0.98588,     0.98538,     0.98538,     0.98496,\n",
       "            0.98496,     0.98496,     0.98496,     0.98496,     0.98448,     0.98398,     0.98398,     0.98355,     0.98355,     0.98355,     0.98323,     0.98323,     0.98323,     0.98323,     0.98323,     0.98323,     0.98323,     0.98323,     0.98323,     0.98286,     0.98286,     0.98286,     0.98286,\n",
       "            0.98286,     0.98204,     0.98204,     0.98204,     0.98204,     0.98204,     0.98204,     0.98204,     0.98204,     0.98164,     0.98164,     0.98164,     0.98164,     0.98128,     0.98128,     0.98128,     0.98128,     0.98128,     0.98082,     0.98038,     0.98038,     0.97995,     0.97995,\n",
       "            0.97966,     0.97966,     0.97966,     0.97966,     0.97966,     0.97966,     0.97966,     0.97825,     0.97825,     0.97752,     0.97752,     0.97752,     0.97752,     0.97752,     0.97752,     0.97752,     0.97706,     0.97665,     0.97665,     0.97583,     0.97583,     0.97583,     0.97583,\n",
       "            0.97492,     0.97454,     0.97454,     0.97371,     0.97371,     0.97371,     0.97326,     0.97295,     0.97295,     0.97295,     0.97295,     0.97251,     0.97213,     0.97213,     0.97175,     0.97175,     0.97136,     0.97136,     0.97095,     0.97055,     0.96977,     0.96977,     0.96977,\n",
       "            0.96939,     0.96939,      0.9691,      0.9691,      0.9691,      0.9691,     0.96874,     0.96874,     0.96788,     0.96664,     0.96664,     0.96635,     0.96635,     0.96635,     0.96596,     0.96555,     0.96533,     0.96533,     0.96533,     0.96533,     0.96533,     0.96416,     0.96416,\n",
       "            0.96416,     0.96346,     0.96346,     0.96346,     0.96305,     0.96272,     0.96272,     0.96205,     0.96205,     0.96205,     0.96205,      0.9604,     0.96002,     0.95842,     0.95813,     0.95813,     0.95813,     0.95701,     0.95701,     0.95669,     0.95669,     0.95605,     0.95605,\n",
       "            0.95605,     0.95605,     0.95572,     0.95535,     0.95468,     0.95468,     0.95431,     0.95392,     0.95198,     0.95165,     0.95129,     0.94932,     0.94783,     0.94783,     0.94752,       0.946,     0.94565,     0.94542,     0.94542,     0.94465,     0.94435,      0.9441,      0.9441,\n",
       "            0.94378,     0.94266,     0.94154,     0.94048,     0.93939,     0.93913,     0.93913,     0.93849,     0.93849,      0.9378,     0.93712,     0.93651,     0.93651,     0.93449,     0.93449,     0.93449,     0.93419,     0.93312,     0.93171,     0.93031,     0.92973,     0.92973,     0.92942,\n",
       "            0.92883,     0.92857,     0.92857,     0.92792,     0.92725,     0.92697,     0.92636,     0.92606,     0.92224,     0.92224,     0.92099,     0.92099,     0.92008,     0.91878,     0.91878,     0.91673,     0.91476,     0.91419,     0.91318,     0.91293,     0.91202,     0.91136,     0.90974,\n",
       "            0.90957,     0.90789,     0.90766,      0.9064,     0.90617,     0.90499,     0.90499,      0.9045,     0.90353,     0.90196,      0.9017,     0.90015,     0.89963,     0.89809,     0.89762,     0.89762,     0.89745,     0.89716,     0.89499,     0.89449,     0.89392,     0.88793,     0.88678,\n",
       "            0.88654,     0.88355,     0.88143,     0.87845,     0.87584,     0.87557,     0.87325,     0.87008,      0.8687,     0.86669,     0.86513,     0.86513,     0.86467,     0.86332,     0.86051,     0.85777,     0.85525,     0.85391,     0.85094,      0.8499,      0.8492,     0.84595,     0.84503,\n",
       "            0.84452,      0.8416,      0.8407,     0.83777,     0.83683,     0.83627,     0.83627,     0.83398,      0.8301,     0.82366,     0.81567,      0.8143,     0.81262,     0.80368,     0.79839,     0.79636,     0.79368,     0.79187,     0.79127,     0.78334,     0.78071,     0.77464,     0.77208,\n",
       "            0.76909,     0.76765,     0.76359,     0.76113,     0.75497,     0.75258,     0.74957,     0.74419,     0.73897,     0.73322,     0.72798,     0.71829,     0.71213,     0.70809,     0.70268,     0.69921,     0.69215,     0.68773,      0.6797,     0.67693,     0.66368,     0.65641,     0.65441,\n",
       "            0.64989,     0.64203,     0.64052,     0.63636,     0.63227,     0.62228,     0.61332,     0.59738,       0.594,     0.58742,     0.58124,     0.57728,     0.57559,     0.57089,     0.56832,      0.5534,     0.54765,     0.53186,     0.51011,     0.49564,     0.49501,     0.48337,     0.47327,\n",
       "            0.47158,     0.46246,     0.45423,     0.45388,     0.44926,     0.42502,     0.40779,     0.39861,     0.39052,      0.3879,     0.37444,     0.35473,     0.35178,     0.34709,     0.33087,     0.32191,     0.29771,     0.26973,     0.25552,     0.24745,     0.21963,     0.19852,      0.1697,\n",
       "            0.13878,      0.1249,     0.11102,    0.097147,    0.083268,     0.06939,    0.055512,    0.041634,    0.027756,    0.013878,           0]]), 'Recall', 'Precision'], [array([          0,    0.001001,    0.002002,    0.003003,    0.004004,    0.005005,    0.006006,    0.007007,    0.008008,    0.009009,     0.01001,    0.011011,    0.012012,    0.013013,    0.014014,    0.015015,    0.016016,    0.017017,    0.018018,    0.019019,     0.02002,    0.021021,    0.022022,    0.023023,\n",
       "          0.024024,    0.025025,    0.026026,    0.027027,    0.028028,    0.029029,     0.03003,    0.031031,    0.032032,    0.033033,    0.034034,    0.035035,    0.036036,    0.037037,    0.038038,    0.039039,     0.04004,    0.041041,    0.042042,    0.043043,    0.044044,    0.045045,    0.046046,    0.047047,\n",
       "          0.048048,    0.049049,     0.05005,    0.051051,    0.052052,    0.053053,    0.054054,    0.055055,    0.056056,    0.057057,    0.058058,    0.059059,     0.06006,    0.061061,    0.062062,    0.063063,    0.064064,    0.065065,    0.066066,    0.067067,    0.068068,    0.069069,     0.07007,    0.071071,\n",
       "          0.072072,    0.073073,    0.074074,    0.075075,    0.076076,    0.077077,    0.078078,    0.079079,     0.08008,    0.081081,    0.082082,    0.083083,    0.084084,    0.085085,    0.086086,    0.087087,    0.088088,    0.089089,     0.09009,    0.091091,    0.092092,    0.093093,    0.094094,    0.095095,\n",
       "          0.096096,    0.097097,    0.098098,    0.099099,      0.1001,      0.1011,      0.1021,      0.1031,      0.1041,     0.10511,     0.10611,     0.10711,     0.10811,     0.10911,     0.11011,     0.11111,     0.11211,     0.11311,     0.11411,     0.11512,     0.11612,     0.11712,     0.11812,     0.11912,\n",
       "           0.12012,     0.12112,     0.12212,     0.12312,     0.12412,     0.12513,     0.12613,     0.12713,     0.12813,     0.12913,     0.13013,     0.13113,     0.13213,     0.13313,     0.13413,     0.13514,     0.13614,     0.13714,     0.13814,     0.13914,     0.14014,     0.14114,     0.14214,     0.14314,\n",
       "           0.14414,     0.14515,     0.14615,     0.14715,     0.14815,     0.14915,     0.15015,     0.15115,     0.15215,     0.15315,     0.15415,     0.15516,     0.15616,     0.15716,     0.15816,     0.15916,     0.16016,     0.16116,     0.16216,     0.16316,     0.16416,     0.16517,     0.16617,     0.16717,\n",
       "           0.16817,     0.16917,     0.17017,     0.17117,     0.17217,     0.17317,     0.17417,     0.17518,     0.17618,     0.17718,     0.17818,     0.17918,     0.18018,     0.18118,     0.18218,     0.18318,     0.18418,     0.18519,     0.18619,     0.18719,     0.18819,     0.18919,     0.19019,     0.19119,\n",
       "           0.19219,     0.19319,     0.19419,      0.1952,      0.1962,      0.1972,      0.1982,      0.1992,      0.2002,      0.2012,      0.2022,      0.2032,      0.2042,     0.20521,     0.20621,     0.20721,     0.20821,     0.20921,     0.21021,     0.21121,     0.21221,     0.21321,     0.21421,     0.21522,\n",
       "           0.21622,     0.21722,     0.21822,     0.21922,     0.22022,     0.22122,     0.22222,     0.22322,     0.22422,     0.22523,     0.22623,     0.22723,     0.22823,     0.22923,     0.23023,     0.23123,     0.23223,     0.23323,     0.23423,     0.23524,     0.23624,     0.23724,     0.23824,     0.23924,\n",
       "           0.24024,     0.24124,     0.24224,     0.24324,     0.24424,     0.24525,     0.24625,     0.24725,     0.24825,     0.24925,     0.25025,     0.25125,     0.25225,     0.25325,     0.25425,     0.25526,     0.25626,     0.25726,     0.25826,     0.25926,     0.26026,     0.26126,     0.26226,     0.26326,\n",
       "           0.26426,     0.26527,     0.26627,     0.26727,     0.26827,     0.26927,     0.27027,     0.27127,     0.27227,     0.27327,     0.27427,     0.27528,     0.27628,     0.27728,     0.27828,     0.27928,     0.28028,     0.28128,     0.28228,     0.28328,     0.28428,     0.28529,     0.28629,     0.28729,\n",
       "           0.28829,     0.28929,     0.29029,     0.29129,     0.29229,     0.29329,     0.29429,      0.2953,      0.2963,      0.2973,      0.2983,      0.2993,      0.3003,      0.3013,      0.3023,      0.3033,      0.3043,     0.30531,     0.30631,     0.30731,     0.30831,     0.30931,     0.31031,     0.31131,\n",
       "           0.31231,     0.31331,     0.31431,     0.31532,     0.31632,     0.31732,     0.31832,     0.31932,     0.32032,     0.32132,     0.32232,     0.32332,     0.32432,     0.32533,     0.32633,     0.32733,     0.32833,     0.32933,     0.33033,     0.33133,     0.33233,     0.33333,     0.33433,     0.33534,\n",
       "           0.33634,     0.33734,     0.33834,     0.33934,     0.34034,     0.34134,     0.34234,     0.34334,     0.34434,     0.34535,     0.34635,     0.34735,     0.34835,     0.34935,     0.35035,     0.35135,     0.35235,     0.35335,     0.35435,     0.35536,     0.35636,     0.35736,     0.35836,     0.35936,\n",
       "           0.36036,     0.36136,     0.36236,     0.36336,     0.36436,     0.36537,     0.36637,     0.36737,     0.36837,     0.36937,     0.37037,     0.37137,     0.37237,     0.37337,     0.37437,     0.37538,     0.37638,     0.37738,     0.37838,     0.37938,     0.38038,     0.38138,     0.38238,     0.38338,\n",
       "           0.38438,     0.38539,     0.38639,     0.38739,     0.38839,     0.38939,     0.39039,     0.39139,     0.39239,     0.39339,     0.39439,      0.3954,      0.3964,      0.3974,      0.3984,      0.3994,      0.4004,      0.4014,      0.4024,      0.4034,      0.4044,     0.40541,     0.40641,     0.40741,\n",
       "           0.40841,     0.40941,     0.41041,     0.41141,     0.41241,     0.41341,     0.41441,     0.41542,     0.41642,     0.41742,     0.41842,     0.41942,     0.42042,     0.42142,     0.42242,     0.42342,     0.42442,     0.42543,     0.42643,     0.42743,     0.42843,     0.42943,     0.43043,     0.43143,\n",
       "           0.43243,     0.43343,     0.43443,     0.43544,     0.43644,     0.43744,     0.43844,     0.43944,     0.44044,     0.44144,     0.44244,     0.44344,     0.44444,     0.44545,     0.44645,     0.44745,     0.44845,     0.44945,     0.45045,     0.45145,     0.45245,     0.45345,     0.45445,     0.45546,\n",
       "           0.45646,     0.45746,     0.45846,     0.45946,     0.46046,     0.46146,     0.46246,     0.46346,     0.46446,     0.46547,     0.46647,     0.46747,     0.46847,     0.46947,     0.47047,     0.47147,     0.47247,     0.47347,     0.47447,     0.47548,     0.47648,     0.47748,     0.47848,     0.47948,\n",
       "           0.48048,     0.48148,     0.48248,     0.48348,     0.48448,     0.48549,     0.48649,     0.48749,     0.48849,     0.48949,     0.49049,     0.49149,     0.49249,     0.49349,     0.49449,      0.4955,      0.4965,      0.4975,      0.4985,      0.4995,      0.5005,      0.5015,      0.5025,      0.5035,\n",
       "            0.5045,     0.50551,     0.50651,     0.50751,     0.50851,     0.50951,     0.51051,     0.51151,     0.51251,     0.51351,     0.51451,     0.51552,     0.51652,     0.51752,     0.51852,     0.51952,     0.52052,     0.52152,     0.52252,     0.52352,     0.52452,     0.52553,     0.52653,     0.52753,\n",
       "           0.52853,     0.52953,     0.53053,     0.53153,     0.53253,     0.53353,     0.53453,     0.53554,     0.53654,     0.53754,     0.53854,     0.53954,     0.54054,     0.54154,     0.54254,     0.54354,     0.54454,     0.54555,     0.54655,     0.54755,     0.54855,     0.54955,     0.55055,     0.55155,\n",
       "           0.55255,     0.55355,     0.55455,     0.55556,     0.55656,     0.55756,     0.55856,     0.55956,     0.56056,     0.56156,     0.56256,     0.56356,     0.56456,     0.56557,     0.56657,     0.56757,     0.56857,     0.56957,     0.57057,     0.57157,     0.57257,     0.57357,     0.57457,     0.57558,\n",
       "           0.57658,     0.57758,     0.57858,     0.57958,     0.58058,     0.58158,     0.58258,     0.58358,     0.58458,     0.58559,     0.58659,     0.58759,     0.58859,     0.58959,     0.59059,     0.59159,     0.59259,     0.59359,     0.59459,      0.5956,      0.5966,      0.5976,      0.5986,      0.5996,\n",
       "            0.6006,      0.6016,      0.6026,      0.6036,      0.6046,     0.60561,     0.60661,     0.60761,     0.60861,     0.60961,     0.61061,     0.61161,     0.61261,     0.61361,     0.61461,     0.61562,     0.61662,     0.61762,     0.61862,     0.61962,     0.62062,     0.62162,     0.62262,     0.62362,\n",
       "           0.62462,     0.62563,     0.62663,     0.62763,     0.62863,     0.62963,     0.63063,     0.63163,     0.63263,     0.63363,     0.63463,     0.63564,     0.63664,     0.63764,     0.63864,     0.63964,     0.64064,     0.64164,     0.64264,     0.64364,     0.64464,     0.64565,     0.64665,     0.64765,\n",
       "           0.64865,     0.64965,     0.65065,     0.65165,     0.65265,     0.65365,     0.65465,     0.65566,     0.65666,     0.65766,     0.65866,     0.65966,     0.66066,     0.66166,     0.66266,     0.66366,     0.66466,     0.66567,     0.66667,     0.66767,     0.66867,     0.66967,     0.67067,     0.67167,\n",
       "           0.67267,     0.67367,     0.67467,     0.67568,     0.67668,     0.67768,     0.67868,     0.67968,     0.68068,     0.68168,     0.68268,     0.68368,     0.68468,     0.68569,     0.68669,     0.68769,     0.68869,     0.68969,     0.69069,     0.69169,     0.69269,     0.69369,     0.69469,      0.6957,\n",
       "            0.6967,      0.6977,      0.6987,      0.6997,      0.7007,      0.7017,      0.7027,      0.7037,      0.7047,     0.70571,     0.70671,     0.70771,     0.70871,     0.70971,     0.71071,     0.71171,     0.71271,     0.71371,     0.71471,     0.71572,     0.71672,     0.71772,     0.71872,     0.71972,\n",
       "           0.72072,     0.72172,     0.72272,     0.72372,     0.72472,     0.72573,     0.72673,     0.72773,     0.72873,     0.72973,     0.73073,     0.73173,     0.73273,     0.73373,     0.73473,     0.73574,     0.73674,     0.73774,     0.73874,     0.73974,     0.74074,     0.74174,     0.74274,     0.74374,\n",
       "           0.74474,     0.74575,     0.74675,     0.74775,     0.74875,     0.74975,     0.75075,     0.75175,     0.75275,     0.75375,     0.75475,     0.75576,     0.75676,     0.75776,     0.75876,     0.75976,     0.76076,     0.76176,     0.76276,     0.76376,     0.76476,     0.76577,     0.76677,     0.76777,\n",
       "           0.76877,     0.76977,     0.77077,     0.77177,     0.77277,     0.77377,     0.77477,     0.77578,     0.77678,     0.77778,     0.77878,     0.77978,     0.78078,     0.78178,     0.78278,     0.78378,     0.78478,     0.78579,     0.78679,     0.78779,     0.78879,     0.78979,     0.79079,     0.79179,\n",
       "           0.79279,     0.79379,     0.79479,      0.7958,      0.7968,      0.7978,      0.7988,      0.7998,      0.8008,      0.8018,      0.8028,      0.8038,      0.8048,     0.80581,     0.80681,     0.80781,     0.80881,     0.80981,     0.81081,     0.81181,     0.81281,     0.81381,     0.81481,     0.81582,\n",
       "           0.81682,     0.81782,     0.81882,     0.81982,     0.82082,     0.82182,     0.82282,     0.82382,     0.82482,     0.82583,     0.82683,     0.82783,     0.82883,     0.82983,     0.83083,     0.83183,     0.83283,     0.83383,     0.83483,     0.83584,     0.83684,     0.83784,     0.83884,     0.83984,\n",
       "           0.84084,     0.84184,     0.84284,     0.84384,     0.84484,     0.84585,     0.84685,     0.84785,     0.84885,     0.84985,     0.85085,     0.85185,     0.85285,     0.85385,     0.85485,     0.85586,     0.85686,     0.85786,     0.85886,     0.85986,     0.86086,     0.86186,     0.86286,     0.86386,\n",
       "           0.86486,     0.86587,     0.86687,     0.86787,     0.86887,     0.86987,     0.87087,     0.87187,     0.87287,     0.87387,     0.87487,     0.87588,     0.87688,     0.87788,     0.87888,     0.87988,     0.88088,     0.88188,     0.88288,     0.88388,     0.88488,     0.88589,     0.88689,     0.88789,\n",
       "           0.88889,     0.88989,     0.89089,     0.89189,     0.89289,     0.89389,     0.89489,      0.8959,      0.8969,      0.8979,      0.8989,      0.8999,      0.9009,      0.9019,      0.9029,      0.9039,      0.9049,     0.90591,     0.90691,     0.90791,     0.90891,     0.90991,     0.91091,     0.91191,\n",
       "           0.91291,     0.91391,     0.91491,     0.91592,     0.91692,     0.91792,     0.91892,     0.91992,     0.92092,     0.92192,     0.92292,     0.92392,     0.92492,     0.92593,     0.92693,     0.92793,     0.92893,     0.92993,     0.93093,     0.93193,     0.93293,     0.93393,     0.93493,     0.93594,\n",
       "           0.93694,     0.93794,     0.93894,     0.93994,     0.94094,     0.94194,     0.94294,     0.94394,     0.94494,     0.94595,     0.94695,     0.94795,     0.94895,     0.94995,     0.95095,     0.95195,     0.95295,     0.95395,     0.95495,     0.95596,     0.95696,     0.95796,     0.95896,     0.95996,\n",
       "           0.96096,     0.96196,     0.96296,     0.96396,     0.96496,     0.96597,     0.96697,     0.96797,     0.96897,     0.96997,     0.97097,     0.97197,     0.97297,     0.97397,     0.97497,     0.97598,     0.97698,     0.97798,     0.97898,     0.97998,     0.98098,     0.98198,     0.98298,     0.98398,\n",
       "           0.98498,     0.98599,     0.98699,     0.98799,     0.98899,     0.98999,     0.99099,     0.99199,     0.99299,     0.99399,     0.99499,       0.996,       0.997,       0.998,       0.999,           1]), array([[    0.25585,     0.25585,     0.32709,      0.3711,     0.40318,     0.42956,     0.45139,     0.46955,     0.48764,     0.50198,     0.51447,     0.52492,     0.53578,     0.54492,     0.55494,     0.56372,     0.57219,      0.5805,     0.58749,     0.59533,     0.60327,     0.60998,     0.61516,\n",
       "            0.62016,     0.62569,     0.63093,     0.63535,     0.64075,     0.64511,     0.64907,     0.65302,     0.65617,     0.66003,     0.66376,     0.66725,     0.67007,     0.67396,     0.67853,     0.68128,     0.68486,     0.68872,     0.69181,     0.69427,     0.69784,     0.70058,     0.70278,\n",
       "            0.70524,     0.70802,     0.70996,     0.71343,     0.71619,     0.71819,     0.71976,     0.72195,     0.72413,     0.72669,     0.72817,     0.72972,      0.7319,     0.73384,      0.7356,     0.73764,     0.73906,     0.74148,     0.74379,     0.74607,     0.74837,     0.75058,     0.75201,\n",
       "             0.7534,     0.75485,     0.75692,     0.75919,     0.76036,     0.76156,     0.76329,     0.76451,     0.76635,     0.76771,     0.77038,     0.77179,     0.77295,     0.77424,     0.77518,     0.77678,     0.77838,     0.77985,     0.78069,     0.78258,     0.78389,     0.78612,     0.78729,\n",
       "            0.78862,     0.78941,     0.79033,     0.79219,     0.79354,     0.79476,     0.79615,     0.79675,     0.79763,     0.79905,     0.79996,     0.80035,     0.80126,     0.80259,     0.80388,     0.80501,     0.80613,     0.80732,     0.80845,     0.80936,     0.81041,     0.81129,     0.81262,\n",
       "            0.81335,     0.81432,     0.81525,     0.81594,     0.81683,     0.81722,     0.81939,     0.81999,     0.82044,     0.82132,     0.82206,     0.82283,      0.8234,     0.82438,      0.8257,     0.82585,     0.82654,      0.8274,     0.82858,      0.8291,     0.82934,     0.83029,     0.83057,\n",
       "            0.83122,     0.83144,     0.83217,     0.83294,     0.83372,     0.83421,     0.83454,     0.83515,     0.83572,      0.8364,     0.83713,      0.8374,     0.83765,     0.83826,     0.83871,     0.83928,     0.83979,     0.84049,     0.84029,     0.84083,     0.84096,     0.84246,     0.84322,\n",
       "            0.84384,     0.84472,     0.84511,      0.8455,     0.84673,     0.84736,     0.84772,     0.84828,     0.84826,     0.84901,     0.84875,     0.84905,     0.84923,     0.84934,     0.84991,     0.85074,     0.85037,     0.85083,     0.85117,     0.85189,     0.85265,     0.85401,     0.85457,\n",
       "            0.85519,     0.85594,     0.85649,     0.85701,     0.85725,     0.85758,     0.85836,      0.8586,     0.85901,     0.85921,     0.85926,      0.8593,     0.86026,     0.86064,     0.86113,     0.86152,     0.86201,     0.86213,     0.86225,     0.86258,     0.86282,     0.86321,     0.86351,\n",
       "            0.86351,     0.86389,     0.86425,     0.86502,     0.86523,     0.86557,     0.86593,     0.86641,     0.86663,     0.86689,     0.86728,      0.8677,     0.86806,     0.86844,     0.86861,     0.86854,     0.86806,     0.86801,     0.86813,     0.86807,     0.86833,      0.8685,     0.86916,\n",
       "            0.86952,     0.86938,     0.86927,     0.86929,     0.86952,     0.86968,     0.86985,     0.87026,     0.87031,     0.87035,      0.8701,     0.86995,     0.86989,      0.8705,       0.871,     0.87127,     0.87143,     0.87144,     0.87156,     0.87135,     0.87228,     0.87266,     0.87235,\n",
       "            0.87272,     0.87289,     0.87309,     0.87353,     0.87377,     0.87358,     0.87394,     0.87445,      0.8746,     0.87438,     0.87471,     0.87481,     0.87511,     0.87529,      0.8756,     0.87555,     0.87533,     0.87467,     0.87536,     0.87524,     0.87553,     0.87574,     0.87588,\n",
       "             0.8759,     0.87583,     0.87602,     0.87615,     0.87602,     0.87591,     0.87584,     0.87577,     0.87626,     0.87676,     0.87716,     0.87738,     0.87734,     0.87742,     0.87769,     0.87755,     0.87734,     0.87758,       0.878,     0.87819,     0.87818,     0.87811,      0.8782,\n",
       "            0.87923,     0.87929,     0.87947,     0.87964,     0.87965,     0.87976,      0.8799,        0.88,     0.88038,     0.88064,     0.88041,     0.87995,     0.88014,     0.88062,     0.88106,     0.88094,     0.88191,     0.88256,     0.88288,     0.88274,     0.88268,     0.88238,     0.88226,\n",
       "            0.88217,     0.88235,     0.88245,     0.88268,     0.88275,     0.88247,     0.88204,     0.88214,     0.88194,     0.88168,     0.88146,     0.88139,     0.88118,     0.88135,     0.88147,     0.88116,     0.88104,     0.88085,     0.88099,     0.88134,     0.88122,     0.88102,     0.88099,\n",
       "              0.881,     0.88124,     0.88112,     0.88152,     0.88151,     0.88144,     0.88075,     0.88085,      0.8806,     0.88039,      0.8803,      0.8804,     0.88044,      0.8803,     0.87984,     0.87988,     0.87984,     0.88001,     0.87998,     0.87954,     0.87956,     0.87984,      0.8802,\n",
       "            0.87982,      0.8792,     0.87968,     0.87953,     0.87939,     0.87932,     0.87931,     0.87927,     0.87899,     0.87873,     0.87879,     0.87887,     0.87867,     0.87909,     0.87838,     0.87858,     0.87829,     0.87876,     0.87869,     0.87886,     0.87893,     0.87898,     0.87894,\n",
       "            0.87873,     0.87862,     0.87853,     0.87863,     0.87907,     0.87892,     0.87882,     0.87866,     0.87861,     0.87841,     0.87854,     0.87844,     0.87812,     0.87802,     0.87782,     0.87806,     0.87799,     0.87759,     0.87749,     0.87731,      0.8772,      0.8775,     0.87756,\n",
       "            0.87762,     0.87823,     0.87873,     0.87839,     0.87813,     0.87791,     0.87798,     0.87786,     0.87764,     0.87732,     0.87744,     0.87723,     0.87713,     0.87671,     0.87649,     0.87637,     0.87623,      0.8758,     0.87575,      0.8757,     0.87548,     0.87541,     0.87495,\n",
       "            0.87453,     0.87437,     0.87465,      0.8745,     0.87458,     0.87431,     0.87448,     0.87461,     0.87454,     0.87447,     0.87443,     0.87469,     0.87422,     0.87316,     0.87275,     0.87289,     0.87287,     0.87317,     0.87305,     0.87321,       0.873,     0.87257,     0.87235,\n",
       "             0.8718,     0.87166,     0.87175,     0.87166,     0.87139,     0.87075,     0.87094,     0.87064,     0.86999,     0.86994,     0.86967,     0.86978,     0.86965,     0.86982,     0.86945,     0.86968,     0.86956,     0.86964,     0.86944,     0.86949,     0.86955,     0.86971,     0.86922,\n",
       "            0.86878,     0.86856,     0.86813,     0.86807,     0.86763,     0.86736,     0.86723,     0.86725,     0.86703,     0.86685,     0.86677,      0.8667,     0.86614,      0.8658,     0.86559,     0.86549,     0.86566,      0.8658,     0.86536,     0.86508,     0.86443,      0.8647,     0.86472,\n",
       "            0.86464,     0.86468,     0.86496,      0.8648,     0.86474,      0.8643,     0.86417,      0.8639,     0.86402,     0.86397,     0.86414,      0.8639,     0.86367,     0.86361,     0.86262,     0.86245,     0.86217,     0.86167,     0.86117,     0.86096,     0.86084,     0.86049,     0.85982,\n",
       "            0.85953,     0.85941,      0.8595,     0.85939,     0.85924,     0.85879,     0.85828,     0.85805,     0.85782,     0.85715,     0.85711,     0.85728,     0.85741,     0.85651,     0.85602,     0.85611,     0.85599,     0.85554,     0.85548,     0.85553,     0.85541,     0.85552,     0.85523,\n",
       "            0.85549,     0.85533,      0.8551,     0.85522,     0.85475,     0.85396,     0.85328,     0.85321,      0.8527,     0.85201,     0.85195,     0.85143,     0.85075,        0.85,     0.84971,     0.84925,     0.84879,      0.8485,     0.84859,     0.84814,      0.8479,     0.84744,     0.84698,\n",
       "            0.84674,     0.84559,      0.8453,     0.84544,     0.84476,     0.84309,     0.84264,     0.84221,     0.84174,     0.84191,     0.84177,      0.8414,     0.84094,      0.8407,     0.84046,     0.83978,     0.83966,     0.83922,     0.83851,     0.83798,     0.83727,     0.83685,     0.83638,\n",
       "             0.8359,     0.83543,     0.83536,     0.83457,     0.83397,     0.83326,     0.83303,     0.83295,     0.83146,      0.8311,     0.83055,     0.83031,        0.83,     0.82857,     0.82808,     0.82743,     0.82603,     0.82587,      0.8253,     0.82479,     0.82431,     0.82422,     0.82384,\n",
       "            0.82311,     0.82286,     0.82214,     0.82147,     0.82089,     0.82033,     0.81904,     0.81879,     0.81854,     0.81781,     0.81689,     0.81622,     0.81548,     0.81508,     0.81483,     0.81361,     0.81276,       0.812,     0.81175,     0.81125,     0.81076,     0.81026,      0.8099,\n",
       "             0.8093,     0.80882,     0.80872,     0.80747,     0.80714,     0.80519,     0.80468,     0.80443,     0.80417,     0.80337,     0.80271,      0.8022,     0.80169,     0.80093,     0.80022,     0.79971,      0.7987,     0.79844,     0.79705,     0.79679,     0.79653,     0.79576,     0.79504,\n",
       "            0.79418,     0.79342,     0.79265,     0.79064,      0.7891,     0.78807,     0.78695,     0.78613,     0.78551,     0.78448,      0.7827,      0.7815,      0.7812,      0.7795,     0.77846,     0.77796,     0.77718,     0.77602,     0.77575,     0.77522,     0.77219,     0.77139,     0.77026,\n",
       "            0.76966,     0.76885,     0.76867,     0.76788,     0.76777,     0.76649,     0.76539,     0.76431,     0.76337,     0.76233,     0.76215,      0.7616,     0.76077,     0.75984,     0.75902,     0.75807,     0.75779,     0.75719,     0.75629,     0.75574,     0.75517,     0.75467,     0.75294,\n",
       "            0.75179,     0.75124,     0.74973,     0.74856,      0.7476,     0.74594,     0.74385,     0.74302,     0.74148,     0.74062,     0.74022,     0.73881,     0.73689,     0.73669,     0.73622,     0.73533,     0.73392,     0.73299,     0.73179,      0.7301,     0.72858,     0.72796,     0.72653,\n",
       "            0.72552,     0.72425,     0.72308,     0.72236,     0.72122,     0.72091,     0.71933,     0.71862,     0.71557,     0.71349,     0.71193,     0.71092,     0.71027,     0.70988,     0.70885,     0.70817,     0.70722,     0.70293,     0.70193,      0.6998,     0.69863,       0.698,     0.69665,\n",
       "              0.695,     0.69408,     0.69289,     0.69032,      0.6885,     0.68697,     0.68647,     0.68484,     0.68101,     0.67909,     0.67607,     0.67413,     0.67343,     0.66922,     0.66692,     0.66483,     0.66438,     0.66308,     0.66104,     0.65975,     0.65784,     0.65337,     0.65225,\n",
       "            0.64932,     0.64886,     0.64639,       0.644,     0.63922,     0.63681,     0.63427,     0.63253,     0.62863,     0.62655,     0.62227,     0.62119,     0.61821,     0.61681,     0.61446,     0.61101,     0.60827,     0.60397,     0.60033,     0.59862,     0.59663,     0.59243,     0.59123,\n",
       "            0.58819,     0.58223,     0.58002,     0.57751,     0.57597,      0.5721,     0.56677,     0.56374,     0.56007,     0.55726,     0.55379,     0.54933,     0.54538,     0.54482,     0.54068,     0.53402,     0.53057,     0.52481,     0.52132,     0.51845,     0.51509,     0.50999,     0.50494,\n",
       "            0.50247,     0.49848,     0.49086,     0.48681,     0.48429,     0.47905,     0.47494,     0.46832,     0.46206,     0.45888,     0.45616,     0.45107,     0.43996,     0.43217,     0.42605,     0.41591,     0.41055,     0.40298,     0.39656,     0.39062,     0.38463,     0.37999,     0.37122,\n",
       "            0.36556,     0.35414,     0.34884,     0.34302,     0.33324,      0.3278,     0.32431,     0.31381,     0.30724,     0.28932,     0.28203,     0.27415,     0.26407,     0.25172,     0.24247,     0.23257,     0.22646,     0.20961,     0.20276,     0.19414,     0.18776,     0.17488,     0.16954,\n",
       "            0.16059,     0.15156,     0.14122,     0.13384,     0.13011,     0.12202,     0.11071,     0.10182,    0.096682,    0.089588,     0.08182,     0.07592,    0.069985,    0.065996,    0.055335,    0.052626,    0.045197,     0.04246,    0.039715,    0.036962,     0.03616,    0.033485,    0.030715,\n",
       "            0.02725,    0.024462,    0.022358,    0.018532,    0.017821,    0.016017,    0.014591,     0.01255,    0.011034,   0.0096536,   0.0093667,   0.0069356,   0.0064561,   0.0048052,   0.0043246,   0.0036508,   0.0026725,    0.002492,   0.0023114,   0.0021307,   0.0019956,   0.0018642,   0.0017328,\n",
       "          0.0016014,   0.0014699,           0,           0,           0,           0,           0,           0,           0,           0,           0,           0,           0,           0,           0,           0,           0,           0,           0,           0,           0,           0,           0,\n",
       "                  0,           0,           0,           0,           0,           0,           0,           0,           0,           0,           0,           0,           0,           0,           0,           0,           0,           0,           0,           0,           0,           0,           0,\n",
       "                  0,           0,           0,           0,           0,           0,           0,           0,           0,           0,           0,           0,           0,           0,           0,           0,           0,           0,           0,           0,           0,           0,           0,\n",
       "                  0,           0,           0,           0,           0,           0,           0,           0,           0,           0,           0]]), 'Confidence', 'F1'], [array([          0,    0.001001,    0.002002,    0.003003,    0.004004,    0.005005,    0.006006,    0.007007,    0.008008,    0.009009,     0.01001,    0.011011,    0.012012,    0.013013,    0.014014,    0.015015,    0.016016,    0.017017,    0.018018,    0.019019,     0.02002,    0.021021,    0.022022,    0.023023,\n",
       "          0.024024,    0.025025,    0.026026,    0.027027,    0.028028,    0.029029,     0.03003,    0.031031,    0.032032,    0.033033,    0.034034,    0.035035,    0.036036,    0.037037,    0.038038,    0.039039,     0.04004,    0.041041,    0.042042,    0.043043,    0.044044,    0.045045,    0.046046,    0.047047,\n",
       "          0.048048,    0.049049,     0.05005,    0.051051,    0.052052,    0.053053,    0.054054,    0.055055,    0.056056,    0.057057,    0.058058,    0.059059,     0.06006,    0.061061,    0.062062,    0.063063,    0.064064,    0.065065,    0.066066,    0.067067,    0.068068,    0.069069,     0.07007,    0.071071,\n",
       "          0.072072,    0.073073,    0.074074,    0.075075,    0.076076,    0.077077,    0.078078,    0.079079,     0.08008,    0.081081,    0.082082,    0.083083,    0.084084,    0.085085,    0.086086,    0.087087,    0.088088,    0.089089,     0.09009,    0.091091,    0.092092,    0.093093,    0.094094,    0.095095,\n",
       "          0.096096,    0.097097,    0.098098,    0.099099,      0.1001,      0.1011,      0.1021,      0.1031,      0.1041,     0.10511,     0.10611,     0.10711,     0.10811,     0.10911,     0.11011,     0.11111,     0.11211,     0.11311,     0.11411,     0.11512,     0.11612,     0.11712,     0.11812,     0.11912,\n",
       "           0.12012,     0.12112,     0.12212,     0.12312,     0.12412,     0.12513,     0.12613,     0.12713,     0.12813,     0.12913,     0.13013,     0.13113,     0.13213,     0.13313,     0.13413,     0.13514,     0.13614,     0.13714,     0.13814,     0.13914,     0.14014,     0.14114,     0.14214,     0.14314,\n",
       "           0.14414,     0.14515,     0.14615,     0.14715,     0.14815,     0.14915,     0.15015,     0.15115,     0.15215,     0.15315,     0.15415,     0.15516,     0.15616,     0.15716,     0.15816,     0.15916,     0.16016,     0.16116,     0.16216,     0.16316,     0.16416,     0.16517,     0.16617,     0.16717,\n",
       "           0.16817,     0.16917,     0.17017,     0.17117,     0.17217,     0.17317,     0.17417,     0.17518,     0.17618,     0.17718,     0.17818,     0.17918,     0.18018,     0.18118,     0.18218,     0.18318,     0.18418,     0.18519,     0.18619,     0.18719,     0.18819,     0.18919,     0.19019,     0.19119,\n",
       "           0.19219,     0.19319,     0.19419,      0.1952,      0.1962,      0.1972,      0.1982,      0.1992,      0.2002,      0.2012,      0.2022,      0.2032,      0.2042,     0.20521,     0.20621,     0.20721,     0.20821,     0.20921,     0.21021,     0.21121,     0.21221,     0.21321,     0.21421,     0.21522,\n",
       "           0.21622,     0.21722,     0.21822,     0.21922,     0.22022,     0.22122,     0.22222,     0.22322,     0.22422,     0.22523,     0.22623,     0.22723,     0.22823,     0.22923,     0.23023,     0.23123,     0.23223,     0.23323,     0.23423,     0.23524,     0.23624,     0.23724,     0.23824,     0.23924,\n",
       "           0.24024,     0.24124,     0.24224,     0.24324,     0.24424,     0.24525,     0.24625,     0.24725,     0.24825,     0.24925,     0.25025,     0.25125,     0.25225,     0.25325,     0.25425,     0.25526,     0.25626,     0.25726,     0.25826,     0.25926,     0.26026,     0.26126,     0.26226,     0.26326,\n",
       "           0.26426,     0.26527,     0.26627,     0.26727,     0.26827,     0.26927,     0.27027,     0.27127,     0.27227,     0.27327,     0.27427,     0.27528,     0.27628,     0.27728,     0.27828,     0.27928,     0.28028,     0.28128,     0.28228,     0.28328,     0.28428,     0.28529,     0.28629,     0.28729,\n",
       "           0.28829,     0.28929,     0.29029,     0.29129,     0.29229,     0.29329,     0.29429,      0.2953,      0.2963,      0.2973,      0.2983,      0.2993,      0.3003,      0.3013,      0.3023,      0.3033,      0.3043,     0.30531,     0.30631,     0.30731,     0.30831,     0.30931,     0.31031,     0.31131,\n",
       "           0.31231,     0.31331,     0.31431,     0.31532,     0.31632,     0.31732,     0.31832,     0.31932,     0.32032,     0.32132,     0.32232,     0.32332,     0.32432,     0.32533,     0.32633,     0.32733,     0.32833,     0.32933,     0.33033,     0.33133,     0.33233,     0.33333,     0.33433,     0.33534,\n",
       "           0.33634,     0.33734,     0.33834,     0.33934,     0.34034,     0.34134,     0.34234,     0.34334,     0.34434,     0.34535,     0.34635,     0.34735,     0.34835,     0.34935,     0.35035,     0.35135,     0.35235,     0.35335,     0.35435,     0.35536,     0.35636,     0.35736,     0.35836,     0.35936,\n",
       "           0.36036,     0.36136,     0.36236,     0.36336,     0.36436,     0.36537,     0.36637,     0.36737,     0.36837,     0.36937,     0.37037,     0.37137,     0.37237,     0.37337,     0.37437,     0.37538,     0.37638,     0.37738,     0.37838,     0.37938,     0.38038,     0.38138,     0.38238,     0.38338,\n",
       "           0.38438,     0.38539,     0.38639,     0.38739,     0.38839,     0.38939,     0.39039,     0.39139,     0.39239,     0.39339,     0.39439,      0.3954,      0.3964,      0.3974,      0.3984,      0.3994,      0.4004,      0.4014,      0.4024,      0.4034,      0.4044,     0.40541,     0.40641,     0.40741,\n",
       "           0.40841,     0.40941,     0.41041,     0.41141,     0.41241,     0.41341,     0.41441,     0.41542,     0.41642,     0.41742,     0.41842,     0.41942,     0.42042,     0.42142,     0.42242,     0.42342,     0.42442,     0.42543,     0.42643,     0.42743,     0.42843,     0.42943,     0.43043,     0.43143,\n",
       "           0.43243,     0.43343,     0.43443,     0.43544,     0.43644,     0.43744,     0.43844,     0.43944,     0.44044,     0.44144,     0.44244,     0.44344,     0.44444,     0.44545,     0.44645,     0.44745,     0.44845,     0.44945,     0.45045,     0.45145,     0.45245,     0.45345,     0.45445,     0.45546,\n",
       "           0.45646,     0.45746,     0.45846,     0.45946,     0.46046,     0.46146,     0.46246,     0.46346,     0.46446,     0.46547,     0.46647,     0.46747,     0.46847,     0.46947,     0.47047,     0.47147,     0.47247,     0.47347,     0.47447,     0.47548,     0.47648,     0.47748,     0.47848,     0.47948,\n",
       "           0.48048,     0.48148,     0.48248,     0.48348,     0.48448,     0.48549,     0.48649,     0.48749,     0.48849,     0.48949,     0.49049,     0.49149,     0.49249,     0.49349,     0.49449,      0.4955,      0.4965,      0.4975,      0.4985,      0.4995,      0.5005,      0.5015,      0.5025,      0.5035,\n",
       "            0.5045,     0.50551,     0.50651,     0.50751,     0.50851,     0.50951,     0.51051,     0.51151,     0.51251,     0.51351,     0.51451,     0.51552,     0.51652,     0.51752,     0.51852,     0.51952,     0.52052,     0.52152,     0.52252,     0.52352,     0.52452,     0.52553,     0.52653,     0.52753,\n",
       "           0.52853,     0.52953,     0.53053,     0.53153,     0.53253,     0.53353,     0.53453,     0.53554,     0.53654,     0.53754,     0.53854,     0.53954,     0.54054,     0.54154,     0.54254,     0.54354,     0.54454,     0.54555,     0.54655,     0.54755,     0.54855,     0.54955,     0.55055,     0.55155,\n",
       "           0.55255,     0.55355,     0.55455,     0.55556,     0.55656,     0.55756,     0.55856,     0.55956,     0.56056,     0.56156,     0.56256,     0.56356,     0.56456,     0.56557,     0.56657,     0.56757,     0.56857,     0.56957,     0.57057,     0.57157,     0.57257,     0.57357,     0.57457,     0.57558,\n",
       "           0.57658,     0.57758,     0.57858,     0.57958,     0.58058,     0.58158,     0.58258,     0.58358,     0.58458,     0.58559,     0.58659,     0.58759,     0.58859,     0.58959,     0.59059,     0.59159,     0.59259,     0.59359,     0.59459,      0.5956,      0.5966,      0.5976,      0.5986,      0.5996,\n",
       "            0.6006,      0.6016,      0.6026,      0.6036,      0.6046,     0.60561,     0.60661,     0.60761,     0.60861,     0.60961,     0.61061,     0.61161,     0.61261,     0.61361,     0.61461,     0.61562,     0.61662,     0.61762,     0.61862,     0.61962,     0.62062,     0.62162,     0.62262,     0.62362,\n",
       "           0.62462,     0.62563,     0.62663,     0.62763,     0.62863,     0.62963,     0.63063,     0.63163,     0.63263,     0.63363,     0.63463,     0.63564,     0.63664,     0.63764,     0.63864,     0.63964,     0.64064,     0.64164,     0.64264,     0.64364,     0.64464,     0.64565,     0.64665,     0.64765,\n",
       "           0.64865,     0.64965,     0.65065,     0.65165,     0.65265,     0.65365,     0.65465,     0.65566,     0.65666,     0.65766,     0.65866,     0.65966,     0.66066,     0.66166,     0.66266,     0.66366,     0.66466,     0.66567,     0.66667,     0.66767,     0.66867,     0.66967,     0.67067,     0.67167,\n",
       "           0.67267,     0.67367,     0.67467,     0.67568,     0.67668,     0.67768,     0.67868,     0.67968,     0.68068,     0.68168,     0.68268,     0.68368,     0.68468,     0.68569,     0.68669,     0.68769,     0.68869,     0.68969,     0.69069,     0.69169,     0.69269,     0.69369,     0.69469,      0.6957,\n",
       "            0.6967,      0.6977,      0.6987,      0.6997,      0.7007,      0.7017,      0.7027,      0.7037,      0.7047,     0.70571,     0.70671,     0.70771,     0.70871,     0.70971,     0.71071,     0.71171,     0.71271,     0.71371,     0.71471,     0.71572,     0.71672,     0.71772,     0.71872,     0.71972,\n",
       "           0.72072,     0.72172,     0.72272,     0.72372,     0.72472,     0.72573,     0.72673,     0.72773,     0.72873,     0.72973,     0.73073,     0.73173,     0.73273,     0.73373,     0.73473,     0.73574,     0.73674,     0.73774,     0.73874,     0.73974,     0.74074,     0.74174,     0.74274,     0.74374,\n",
       "           0.74474,     0.74575,     0.74675,     0.74775,     0.74875,     0.74975,     0.75075,     0.75175,     0.75275,     0.75375,     0.75475,     0.75576,     0.75676,     0.75776,     0.75876,     0.75976,     0.76076,     0.76176,     0.76276,     0.76376,     0.76476,     0.76577,     0.76677,     0.76777,\n",
       "           0.76877,     0.76977,     0.77077,     0.77177,     0.77277,     0.77377,     0.77477,     0.77578,     0.77678,     0.77778,     0.77878,     0.77978,     0.78078,     0.78178,     0.78278,     0.78378,     0.78478,     0.78579,     0.78679,     0.78779,     0.78879,     0.78979,     0.79079,     0.79179,\n",
       "           0.79279,     0.79379,     0.79479,      0.7958,      0.7968,      0.7978,      0.7988,      0.7998,      0.8008,      0.8018,      0.8028,      0.8038,      0.8048,     0.80581,     0.80681,     0.80781,     0.80881,     0.80981,     0.81081,     0.81181,     0.81281,     0.81381,     0.81481,     0.81582,\n",
       "           0.81682,     0.81782,     0.81882,     0.81982,     0.82082,     0.82182,     0.82282,     0.82382,     0.82482,     0.82583,     0.82683,     0.82783,     0.82883,     0.82983,     0.83083,     0.83183,     0.83283,     0.83383,     0.83483,     0.83584,     0.83684,     0.83784,     0.83884,     0.83984,\n",
       "           0.84084,     0.84184,     0.84284,     0.84384,     0.84484,     0.84585,     0.84685,     0.84785,     0.84885,     0.84985,     0.85085,     0.85185,     0.85285,     0.85385,     0.85485,     0.85586,     0.85686,     0.85786,     0.85886,     0.85986,     0.86086,     0.86186,     0.86286,     0.86386,\n",
       "           0.86486,     0.86587,     0.86687,     0.86787,     0.86887,     0.86987,     0.87087,     0.87187,     0.87287,     0.87387,     0.87487,     0.87588,     0.87688,     0.87788,     0.87888,     0.87988,     0.88088,     0.88188,     0.88288,     0.88388,     0.88488,     0.88589,     0.88689,     0.88789,\n",
       "           0.88889,     0.88989,     0.89089,     0.89189,     0.89289,     0.89389,     0.89489,      0.8959,      0.8969,      0.8979,      0.8989,      0.8999,      0.9009,      0.9019,      0.9029,      0.9039,      0.9049,     0.90591,     0.90691,     0.90791,     0.90891,     0.90991,     0.91091,     0.91191,\n",
       "           0.91291,     0.91391,     0.91491,     0.91592,     0.91692,     0.91792,     0.91892,     0.91992,     0.92092,     0.92192,     0.92292,     0.92392,     0.92492,     0.92593,     0.92693,     0.92793,     0.92893,     0.92993,     0.93093,     0.93193,     0.93293,     0.93393,     0.93493,     0.93594,\n",
       "           0.93694,     0.93794,     0.93894,     0.93994,     0.94094,     0.94194,     0.94294,     0.94394,     0.94494,     0.94595,     0.94695,     0.94795,     0.94895,     0.94995,     0.95095,     0.95195,     0.95295,     0.95395,     0.95495,     0.95596,     0.95696,     0.95796,     0.95896,     0.95996,\n",
       "           0.96096,     0.96196,     0.96296,     0.96396,     0.96496,     0.96597,     0.96697,     0.96797,     0.96897,     0.96997,     0.97097,     0.97197,     0.97297,     0.97397,     0.97497,     0.97598,     0.97698,     0.97798,     0.97898,     0.97998,     0.98098,     0.98198,     0.98298,     0.98398,\n",
       "           0.98498,     0.98599,     0.98699,     0.98799,     0.98899,     0.98999,     0.99099,     0.99199,     0.99299,     0.99399,     0.99499,       0.996,       0.997,       0.998,       0.999,           1]), array([[    0.14692,     0.14692,     0.19599,     0.22851,     0.25345,     0.27477,     0.29295,     0.30854,     0.32439,     0.33733,     0.34885,     0.35876,     0.36904,     0.37788,     0.38769,     0.39661,     0.40517,     0.41367,     0.42088,     0.42912,     0.43748,     0.44457,     0.45025,\n",
       "            0.45602,     0.46219,     0.46817,     0.47323,      0.4795,     0.48459,     0.48906,     0.49356,     0.49764,     0.50229,     0.50662,      0.5108,     0.51422,     0.51881,     0.52425,     0.52765,     0.53205,     0.53674,      0.5405,     0.54362,     0.54824,     0.55174,     0.55471,\n",
       "            0.55778,     0.56127,     0.56396,     0.56847,     0.57224,     0.57505,     0.57759,     0.58067,     0.58376,     0.58723,     0.58943,     0.59147,     0.59462,     0.59732,     0.59979,     0.60265,     0.60456,     0.60794,     0.61106,     0.61428,     0.61741,     0.62043,     0.62299,\n",
       "             0.6249,      0.6269,     0.62992,     0.63322,     0.63517,     0.63701,     0.63958,     0.64213,     0.64472,     0.64682,     0.65078,     0.65313,     0.65531,     0.65734,      0.6587,     0.66118,     0.66368,       0.666,     0.66758,     0.67035,     0.67228,     0.67555,     0.67765,\n",
       "            0.67968,     0.68118,     0.68273,     0.68551,     0.68773,     0.68976,     0.69186,     0.69314,     0.69468,     0.69703,     0.69841,     0.69921,     0.70059,     0.70323,     0.70541,     0.70736,     0.70929,     0.71134,     0.71351,     0.71494,     0.71678,     0.71836,     0.72054,\n",
       "            0.72181,     0.72334,     0.72482,     0.72612,     0.72754,     0.72836,     0.73181,     0.73322,     0.73415,     0.73557,     0.73698,     0.73843,     0.73981,     0.74161,     0.74375,     0.74423,     0.74535,     0.74674,     0.74866,     0.74997,     0.75061,     0.75239,     0.75333,\n",
       "            0.75463,     0.75522,     0.75643,     0.75771,       0.759,     0.76005,     0.76106,     0.76232,     0.76377,     0.76491,     0.76613,     0.76706,     0.76761,     0.76901,        0.77,     0.77147,     0.77267,     0.77425,     0.77468,      0.7756,     0.77581,     0.77837,     0.77966,\n",
       "            0.78109,     0.78301,     0.78394,     0.78461,     0.78673,     0.78782,     0.78845,     0.78941,     0.78964,     0.79119,     0.79129,     0.79207,     0.79265,     0.79352,     0.79464,     0.79608,     0.79644,     0.79732,      0.7987,     0.79999,     0.80133,     0.80402,     0.80501,\n",
       "            0.80612,     0.80772,     0.80871,     0.80964,     0.81005,     0.81092,     0.81261,     0.81303,     0.81447,     0.81499,     0.81535,     0.81572,     0.81744,     0.81813,     0.81903,     0.81972,     0.82062,     0.82083,     0.82105,     0.82164,     0.82208,      0.8229,     0.82363,\n",
       "            0.82421,      0.8249,     0.82555,     0.82725,     0.82765,     0.82855,     0.82922,     0.83039,      0.8308,     0.83189,      0.8326,     0.83397,     0.83464,     0.83533,     0.83596,     0.83621,     0.83607,     0.83676,     0.83718,     0.83737,     0.83818,     0.83879,     0.84003,\n",
       "             0.8407,     0.84066,     0.84085,     0.84159,     0.84255,     0.84317,     0.84348,     0.84426,      0.8445,     0.84499,     0.84492,     0.84488,     0.84512,     0.84659,     0.84754,     0.84868,     0.84917,     0.84964,     0.85051,     0.85107,     0.85285,      0.8537,     0.85387,\n",
       "              0.855,     0.85563,     0.85603,     0.85694,     0.85765,     0.85795,     0.85865,     0.85963,     0.86026,     0.86049,     0.86112,     0.86132,     0.86224,     0.86275,     0.86384,     0.86443,     0.86511,     0.86495,     0.86643,     0.86651,     0.86742,     0.86811,     0.86846,\n",
       "            0.86868,     0.86938,     0.86976,     0.87007,     0.87004,     0.87023,     0.87027,     0.87064,      0.8716,     0.87259,     0.87381,     0.87452,     0.87467,     0.87495,     0.87584,     0.87581,     0.87576,     0.87631,     0.87787,     0.87825,     0.87857,     0.87879,     0.87897,\n",
       "            0.88115,     0.88186,     0.88224,     0.88259,     0.88295,     0.88389,     0.88453,     0.88497,     0.88588,      0.8864,     0.88677,     0.88682,      0.8872,     0.88855,     0.88948,     0.88956,     0.89154,     0.89288,     0.89389,     0.89418,     0.89424,     0.89441,     0.89438,\n",
       "            0.89496,     0.89543,     0.89563,     0.89653,     0.89714,     0.89739,     0.89731,     0.89762,     0.89759,     0.89754,      0.8975,     0.89796,     0.89829,     0.89898,     0.89927,     0.89985,     0.89991,     0.90009,     0.90057,     0.90131,     0.90137,     0.90179,     0.90255,\n",
       "            0.90291,     0.90352,      0.9035,      0.9044,     0.90449,     0.90447,     0.90435,     0.90499,     0.90495,     0.90491,     0.90536,     0.90584,     0.90606,     0.90614,     0.90637,     0.90669,     0.90677,     0.90712,     0.90747,     0.90757,     0.90777,     0.90877,     0.90954,\n",
       "             0.9095,      0.9094,     0.91083,     0.91104,     0.91144,     0.91229,     0.91248,      0.9128,     0.91287,     0.91283,       0.913,     0.91317,     0.91315,     0.91418,     0.91416,     0.91474,     0.91482,     0.91624,     0.91693,     0.91729,     0.91773,     0.91798,     0.91872,\n",
       "            0.91869,     0.91867,     0.91868,     0.91888,     0.91986,     0.92004,     0.92002,        0.92,     0.92033,     0.92052,     0.92098,     0.92096,     0.92092,      0.9209,     0.92087,     0.92188,     0.92223,     0.92218,     0.92216,     0.92247,     0.92255,     0.92321,     0.92334,\n",
       "            0.92348,     0.92484,     0.92593,     0.92634,     0.92665,     0.92662,     0.92689,     0.92695,     0.92692,     0.92759,     0.92792,     0.92789,     0.92857,     0.92851,     0.92848,     0.92855,     0.92879,     0.92873,     0.92907,     0.92941,     0.92938,     0.92972,     0.92966,\n",
       "             0.9296,     0.92983,     0.93092,     0.93148,     0.93167,     0.93196,     0.93234,     0.93277,     0.93276,     0.93275,     0.93309,     0.93417,     0.93448,     0.93435,     0.93431,     0.93468,     0.93506,     0.93578,     0.93577,     0.93629,     0.93648,     0.93643,      0.9364,\n",
       "            0.93724,     0.93786,     0.93805,     0.93812,     0.93845,     0.93838,       0.939,     0.93909,     0.93902,     0.93938,     0.93971,     0.94046,     0.94074,     0.94114,     0.94116,     0.94225,     0.94245,     0.94264,     0.94312,     0.94326,     0.94339,     0.94378,      0.9441,\n",
       "            0.94405,     0.94403,     0.94398,     0.94435,      0.9443,     0.94465,     0.94472,     0.94539,     0.94536,     0.94535,     0.94534,     0.94533,     0.94527,     0.94577,     0.94597,     0.94651,     0.94692,     0.94751,     0.94747,     0.94782,     0.94775,     0.94893,     0.94918,\n",
       "            0.94931,     0.94958,     0.95077,     0.95126,     0.95164,      0.9516,      0.9519,     0.95227,     0.95308,     0.95347,     0.95389,     0.95429,     0.95427,     0.95466,     0.95457,     0.95495,     0.95533,     0.95568,     0.95603,     0.95601,       0.956,     0.95597,     0.95592,\n",
       "            0.95629,     0.95639,     0.95669,     0.95668,     0.95667,     0.95663,     0.95699,     0.95697,     0.95695,     0.95689,     0.95709,     0.95751,     0.95812,     0.95805,     0.95813,     0.95834,     0.95841,     0.95838,     0.95878,     0.95907,     0.95918,        0.96,     0.96039,\n",
       "            0.96115,     0.96122,      0.9612,     0.96158,       0.962,     0.96194,     0.96189,      0.9623,     0.96267,     0.96262,     0.96304,     0.96342,     0.96337,     0.96373,     0.96413,      0.9641,     0.96407,     0.96462,     0.96485,     0.96529,     0.96527,     0.96524,     0.96521,\n",
       "            0.96519,     0.96511,     0.96552,     0.96594,     0.96591,     0.96623,     0.96623,      0.9666,     0.96682,     0.96728,     0.96787,     0.96871,     0.96868,     0.96867,     0.96865,     0.96905,     0.96904,     0.96901,     0.96897,     0.96938,     0.96933,     0.96975,     0.96972,\n",
       "            0.96969,     0.96966,      0.9701,     0.97074,     0.97135,     0.97131,     0.97158,     0.97174,     0.97211,     0.97209,     0.97251,      0.9725,     0.97293,     0.97285,     0.97283,      0.9734,     0.97363,     0.97426,     0.97451,     0.97448,     0.97446,     0.97491,     0.97582,\n",
       "            0.97579,     0.97577,     0.97574,     0.97581,     0.97661,     0.97705,     0.97747,     0.97745,     0.97744,     0.97741,     0.97737,     0.97734,      0.9773,     0.97824,     0.97822,     0.97961,     0.97957,     0.97954,     0.97953,     0.97951,     0.97949,     0.97947,     0.97994,\n",
       "            0.97991,     0.98021,     0.98038,     0.98033,      0.9808,     0.98122,      0.9812,     0.98119,     0.98118,     0.98148,     0.98162,      0.9816,     0.98158,     0.98155,     0.98202,       0.982,     0.98196,     0.98195,      0.9819,     0.98189,     0.98188,     0.98185,     0.98284,\n",
       "            0.98281,     0.98278,     0.98275,     0.98319,     0.98314,      0.9831,     0.98306,     0.98303,     0.98353,     0.98349,     0.98395,     0.98468,     0.98495,      0.9849,     0.98486,     0.98488,     0.98588,     0.98585,     0.98584,     0.98583,     0.98574,     0.98571,     0.98568,\n",
       "            0.98566,     0.98564,     0.98607,     0.98723,     0.98778,     0.98829,     0.98826,     0.98824,     0.98821,     0.98819,     0.98818,     0.98817,     0.98815,     0.98812,      0.9881,     0.98808,     0.98807,     0.98806,     0.98804,     0.98802,     0.98816,     0.98856,     0.98851,\n",
       "            0.98849,     0.98847,     0.98844,     0.98955,      0.9901,     0.99006,     0.99002,        0.99,     0.98997,     0.98995,     0.98994,     0.98991,     0.99046,     0.99045,     0.99045,     0.99102,     0.99099,     0.99097,     0.99095,     0.99151,     0.99149,     0.99147,     0.99145,\n",
       "            0.99143,     0.99141,     0.99138,     0.99137,     0.99196,     0.99196,     0.99193,     0.99253,     0.99248,     0.99245,     0.99284,     0.99366,     0.99365,     0.99364,     0.99363,     0.99362,     0.99361,     0.99355,     0.99353,      0.9935,     0.99349,     0.99348,     0.99346,\n",
       "            0.99343,     0.99342,     0.99406,     0.99402,       0.994,     0.99398,     0.99464,     0.99462,     0.99457,     0.99455,     0.99451,     0.99449,     0.99448,     0.99443,      0.9944,     0.99437,     0.99437,     0.99435,     0.99503,     0.99501,     0.99499,     0.99494,     0.99493,\n",
       "            0.99562,     0.99562,     0.99559,     0.99557,     0.99552,     0.99549,     0.99547,     0.99545,     0.99541,     0.99539,     0.99534,     0.99533,      0.9953,     0.99528,     0.99525,     0.99601,     0.99678,     0.99675,     0.99672,     0.99674,     0.99752,     0.99749,     0.99748,\n",
       "            0.99747,     0.99743,     0.99742,      0.9974,     0.99739,     0.99736,     0.99733,     0.99731,     0.99729,     0.99727,     0.99724,     0.99721,     0.99718,     0.99718,     0.99715,     0.99807,     0.99805,     0.99802,       0.998,     0.99799,     0.99797,     0.99794,     0.99791,\n",
       "             0.9979,     0.99788,     0.99783,     0.99781,      0.9978,     0.99776,     0.99774,      0.9977,     0.99766,     0.99763,     0.99762,     0.99758,      0.9975,     0.99745,      0.9974,     0.99732,     0.99727,     0.99721,     0.99715,      0.9971,     0.99704,       0.997,     0.99845,\n",
       "            0.99842,     0.99836,     0.99833,      0.9983,     0.99824,      0.9982,     0.99818,     0.99811,     0.99806,     0.99792,     0.99785,     0.99778,     0.99768,     0.99755,     0.99745,     0.99732,     0.99724,     0.99699,     0.99688,     0.99673,      0.9966,     0.99633,      0.9962,\n",
       "            0.99597,     0.99571,     0.99537,      0.9951,     0.99495,     0.99459,     0.99401,     0.99346,      0.9931,     0.99253,           1,           1,           1,           1,           1,           1,           1,           1,           1,           1,           1,           1,           1,\n",
       "                  1,           1,           1,           1,           1,           1,           1,           1,           1,           1,           1,           1,           1,           1,           1,           1,           1,           1,           1,           1,           1,           1,           1,\n",
       "                  1,           1,           1,           1,           1,           1,           1,           1,           1,           1,           1,           1,           1,           1,           1,           1,           1,           1,           1,           1,           1,           1,           1,\n",
       "                  1,           1,           1,           1,           1,           1,           1,           1,           1,           1,           1,           1,           1,           1,           1,           1,           1,           1,           1,           1,           1,           1,           1,\n",
       "                  1,           1,           1,           1,           1,           1,           1,           1,           1,           1,           1,           1,           1,           1,           1,           1,           1,           1,           1,           1,           1,           1,           1,\n",
       "                  1,           1,           1,           1,           1,           1,           1,           1,           1,           1,           1]]), 'Confidence', 'Precision'], [array([          0,    0.001001,    0.002002,    0.003003,    0.004004,    0.005005,    0.006006,    0.007007,    0.008008,    0.009009,     0.01001,    0.011011,    0.012012,    0.013013,    0.014014,    0.015015,    0.016016,    0.017017,    0.018018,    0.019019,     0.02002,    0.021021,    0.022022,    0.023023,\n",
       "          0.024024,    0.025025,    0.026026,    0.027027,    0.028028,    0.029029,     0.03003,    0.031031,    0.032032,    0.033033,    0.034034,    0.035035,    0.036036,    0.037037,    0.038038,    0.039039,     0.04004,    0.041041,    0.042042,    0.043043,    0.044044,    0.045045,    0.046046,    0.047047,\n",
       "          0.048048,    0.049049,     0.05005,    0.051051,    0.052052,    0.053053,    0.054054,    0.055055,    0.056056,    0.057057,    0.058058,    0.059059,     0.06006,    0.061061,    0.062062,    0.063063,    0.064064,    0.065065,    0.066066,    0.067067,    0.068068,    0.069069,     0.07007,    0.071071,\n",
       "          0.072072,    0.073073,    0.074074,    0.075075,    0.076076,    0.077077,    0.078078,    0.079079,     0.08008,    0.081081,    0.082082,    0.083083,    0.084084,    0.085085,    0.086086,    0.087087,    0.088088,    0.089089,     0.09009,    0.091091,    0.092092,    0.093093,    0.094094,    0.095095,\n",
       "          0.096096,    0.097097,    0.098098,    0.099099,      0.1001,      0.1011,      0.1021,      0.1031,      0.1041,     0.10511,     0.10611,     0.10711,     0.10811,     0.10911,     0.11011,     0.11111,     0.11211,     0.11311,     0.11411,     0.11512,     0.11612,     0.11712,     0.11812,     0.11912,\n",
       "           0.12012,     0.12112,     0.12212,     0.12312,     0.12412,     0.12513,     0.12613,     0.12713,     0.12813,     0.12913,     0.13013,     0.13113,     0.13213,     0.13313,     0.13413,     0.13514,     0.13614,     0.13714,     0.13814,     0.13914,     0.14014,     0.14114,     0.14214,     0.14314,\n",
       "           0.14414,     0.14515,     0.14615,     0.14715,     0.14815,     0.14915,     0.15015,     0.15115,     0.15215,     0.15315,     0.15415,     0.15516,     0.15616,     0.15716,     0.15816,     0.15916,     0.16016,     0.16116,     0.16216,     0.16316,     0.16416,     0.16517,     0.16617,     0.16717,\n",
       "           0.16817,     0.16917,     0.17017,     0.17117,     0.17217,     0.17317,     0.17417,     0.17518,     0.17618,     0.17718,     0.17818,     0.17918,     0.18018,     0.18118,     0.18218,     0.18318,     0.18418,     0.18519,     0.18619,     0.18719,     0.18819,     0.18919,     0.19019,     0.19119,\n",
       "           0.19219,     0.19319,     0.19419,      0.1952,      0.1962,      0.1972,      0.1982,      0.1992,      0.2002,      0.2012,      0.2022,      0.2032,      0.2042,     0.20521,     0.20621,     0.20721,     0.20821,     0.20921,     0.21021,     0.21121,     0.21221,     0.21321,     0.21421,     0.21522,\n",
       "           0.21622,     0.21722,     0.21822,     0.21922,     0.22022,     0.22122,     0.22222,     0.22322,     0.22422,     0.22523,     0.22623,     0.22723,     0.22823,     0.22923,     0.23023,     0.23123,     0.23223,     0.23323,     0.23423,     0.23524,     0.23624,     0.23724,     0.23824,     0.23924,\n",
       "           0.24024,     0.24124,     0.24224,     0.24324,     0.24424,     0.24525,     0.24625,     0.24725,     0.24825,     0.24925,     0.25025,     0.25125,     0.25225,     0.25325,     0.25425,     0.25526,     0.25626,     0.25726,     0.25826,     0.25926,     0.26026,     0.26126,     0.26226,     0.26326,\n",
       "           0.26426,     0.26527,     0.26627,     0.26727,     0.26827,     0.26927,     0.27027,     0.27127,     0.27227,     0.27327,     0.27427,     0.27528,     0.27628,     0.27728,     0.27828,     0.27928,     0.28028,     0.28128,     0.28228,     0.28328,     0.28428,     0.28529,     0.28629,     0.28729,\n",
       "           0.28829,     0.28929,     0.29029,     0.29129,     0.29229,     0.29329,     0.29429,      0.2953,      0.2963,      0.2973,      0.2983,      0.2993,      0.3003,      0.3013,      0.3023,      0.3033,      0.3043,     0.30531,     0.30631,     0.30731,     0.30831,     0.30931,     0.31031,     0.31131,\n",
       "           0.31231,     0.31331,     0.31431,     0.31532,     0.31632,     0.31732,     0.31832,     0.31932,     0.32032,     0.32132,     0.32232,     0.32332,     0.32432,     0.32533,     0.32633,     0.32733,     0.32833,     0.32933,     0.33033,     0.33133,     0.33233,     0.33333,     0.33433,     0.33534,\n",
       "           0.33634,     0.33734,     0.33834,     0.33934,     0.34034,     0.34134,     0.34234,     0.34334,     0.34434,     0.34535,     0.34635,     0.34735,     0.34835,     0.34935,     0.35035,     0.35135,     0.35235,     0.35335,     0.35435,     0.35536,     0.35636,     0.35736,     0.35836,     0.35936,\n",
       "           0.36036,     0.36136,     0.36236,     0.36336,     0.36436,     0.36537,     0.36637,     0.36737,     0.36837,     0.36937,     0.37037,     0.37137,     0.37237,     0.37337,     0.37437,     0.37538,     0.37638,     0.37738,     0.37838,     0.37938,     0.38038,     0.38138,     0.38238,     0.38338,\n",
       "           0.38438,     0.38539,     0.38639,     0.38739,     0.38839,     0.38939,     0.39039,     0.39139,     0.39239,     0.39339,     0.39439,      0.3954,      0.3964,      0.3974,      0.3984,      0.3994,      0.4004,      0.4014,      0.4024,      0.4034,      0.4044,     0.40541,     0.40641,     0.40741,\n",
       "           0.40841,     0.40941,     0.41041,     0.41141,     0.41241,     0.41341,     0.41441,     0.41542,     0.41642,     0.41742,     0.41842,     0.41942,     0.42042,     0.42142,     0.42242,     0.42342,     0.42442,     0.42543,     0.42643,     0.42743,     0.42843,     0.42943,     0.43043,     0.43143,\n",
       "           0.43243,     0.43343,     0.43443,     0.43544,     0.43644,     0.43744,     0.43844,     0.43944,     0.44044,     0.44144,     0.44244,     0.44344,     0.44444,     0.44545,     0.44645,     0.44745,     0.44845,     0.44945,     0.45045,     0.45145,     0.45245,     0.45345,     0.45445,     0.45546,\n",
       "           0.45646,     0.45746,     0.45846,     0.45946,     0.46046,     0.46146,     0.46246,     0.46346,     0.46446,     0.46547,     0.46647,     0.46747,     0.46847,     0.46947,     0.47047,     0.47147,     0.47247,     0.47347,     0.47447,     0.47548,     0.47648,     0.47748,     0.47848,     0.47948,\n",
       "           0.48048,     0.48148,     0.48248,     0.48348,     0.48448,     0.48549,     0.48649,     0.48749,     0.48849,     0.48949,     0.49049,     0.49149,     0.49249,     0.49349,     0.49449,      0.4955,      0.4965,      0.4975,      0.4985,      0.4995,      0.5005,      0.5015,      0.5025,      0.5035,\n",
       "            0.5045,     0.50551,     0.50651,     0.50751,     0.50851,     0.50951,     0.51051,     0.51151,     0.51251,     0.51351,     0.51451,     0.51552,     0.51652,     0.51752,     0.51852,     0.51952,     0.52052,     0.52152,     0.52252,     0.52352,     0.52452,     0.52553,     0.52653,     0.52753,\n",
       "           0.52853,     0.52953,     0.53053,     0.53153,     0.53253,     0.53353,     0.53453,     0.53554,     0.53654,     0.53754,     0.53854,     0.53954,     0.54054,     0.54154,     0.54254,     0.54354,     0.54454,     0.54555,     0.54655,     0.54755,     0.54855,     0.54955,     0.55055,     0.55155,\n",
       "           0.55255,     0.55355,     0.55455,     0.55556,     0.55656,     0.55756,     0.55856,     0.55956,     0.56056,     0.56156,     0.56256,     0.56356,     0.56456,     0.56557,     0.56657,     0.56757,     0.56857,     0.56957,     0.57057,     0.57157,     0.57257,     0.57357,     0.57457,     0.57558,\n",
       "           0.57658,     0.57758,     0.57858,     0.57958,     0.58058,     0.58158,     0.58258,     0.58358,     0.58458,     0.58559,     0.58659,     0.58759,     0.58859,     0.58959,     0.59059,     0.59159,     0.59259,     0.59359,     0.59459,      0.5956,      0.5966,      0.5976,      0.5986,      0.5996,\n",
       "            0.6006,      0.6016,      0.6026,      0.6036,      0.6046,     0.60561,     0.60661,     0.60761,     0.60861,     0.60961,     0.61061,     0.61161,     0.61261,     0.61361,     0.61461,     0.61562,     0.61662,     0.61762,     0.61862,     0.61962,     0.62062,     0.62162,     0.62262,     0.62362,\n",
       "           0.62462,     0.62563,     0.62663,     0.62763,     0.62863,     0.62963,     0.63063,     0.63163,     0.63263,     0.63363,     0.63463,     0.63564,     0.63664,     0.63764,     0.63864,     0.63964,     0.64064,     0.64164,     0.64264,     0.64364,     0.64464,     0.64565,     0.64665,     0.64765,\n",
       "           0.64865,     0.64965,     0.65065,     0.65165,     0.65265,     0.65365,     0.65465,     0.65566,     0.65666,     0.65766,     0.65866,     0.65966,     0.66066,     0.66166,     0.66266,     0.66366,     0.66466,     0.66567,     0.66667,     0.66767,     0.66867,     0.66967,     0.67067,     0.67167,\n",
       "           0.67267,     0.67367,     0.67467,     0.67568,     0.67668,     0.67768,     0.67868,     0.67968,     0.68068,     0.68168,     0.68268,     0.68368,     0.68468,     0.68569,     0.68669,     0.68769,     0.68869,     0.68969,     0.69069,     0.69169,     0.69269,     0.69369,     0.69469,      0.6957,\n",
       "            0.6967,      0.6977,      0.6987,      0.6997,      0.7007,      0.7017,      0.7027,      0.7037,      0.7047,     0.70571,     0.70671,     0.70771,     0.70871,     0.70971,     0.71071,     0.71171,     0.71271,     0.71371,     0.71471,     0.71572,     0.71672,     0.71772,     0.71872,     0.71972,\n",
       "           0.72072,     0.72172,     0.72272,     0.72372,     0.72472,     0.72573,     0.72673,     0.72773,     0.72873,     0.72973,     0.73073,     0.73173,     0.73273,     0.73373,     0.73473,     0.73574,     0.73674,     0.73774,     0.73874,     0.73974,     0.74074,     0.74174,     0.74274,     0.74374,\n",
       "           0.74474,     0.74575,     0.74675,     0.74775,     0.74875,     0.74975,     0.75075,     0.75175,     0.75275,     0.75375,     0.75475,     0.75576,     0.75676,     0.75776,     0.75876,     0.75976,     0.76076,     0.76176,     0.76276,     0.76376,     0.76476,     0.76577,     0.76677,     0.76777,\n",
       "           0.76877,     0.76977,     0.77077,     0.77177,     0.77277,     0.77377,     0.77477,     0.77578,     0.77678,     0.77778,     0.77878,     0.77978,     0.78078,     0.78178,     0.78278,     0.78378,     0.78478,     0.78579,     0.78679,     0.78779,     0.78879,     0.78979,     0.79079,     0.79179,\n",
       "           0.79279,     0.79379,     0.79479,      0.7958,      0.7968,      0.7978,      0.7988,      0.7998,      0.8008,      0.8018,      0.8028,      0.8038,      0.8048,     0.80581,     0.80681,     0.80781,     0.80881,     0.80981,     0.81081,     0.81181,     0.81281,     0.81381,     0.81481,     0.81582,\n",
       "           0.81682,     0.81782,     0.81882,     0.81982,     0.82082,     0.82182,     0.82282,     0.82382,     0.82482,     0.82583,     0.82683,     0.82783,     0.82883,     0.82983,     0.83083,     0.83183,     0.83283,     0.83383,     0.83483,     0.83584,     0.83684,     0.83784,     0.83884,     0.83984,\n",
       "           0.84084,     0.84184,     0.84284,     0.84384,     0.84484,     0.84585,     0.84685,     0.84785,     0.84885,     0.84985,     0.85085,     0.85185,     0.85285,     0.85385,     0.85485,     0.85586,     0.85686,     0.85786,     0.85886,     0.85986,     0.86086,     0.86186,     0.86286,     0.86386,\n",
       "           0.86486,     0.86587,     0.86687,     0.86787,     0.86887,     0.86987,     0.87087,     0.87187,     0.87287,     0.87387,     0.87487,     0.87588,     0.87688,     0.87788,     0.87888,     0.87988,     0.88088,     0.88188,     0.88288,     0.88388,     0.88488,     0.88589,     0.88689,     0.88789,\n",
       "           0.88889,     0.88989,     0.89089,     0.89189,     0.89289,     0.89389,     0.89489,      0.8959,      0.8969,      0.8979,      0.8989,      0.8999,      0.9009,      0.9019,      0.9029,      0.9039,      0.9049,     0.90591,     0.90691,     0.90791,     0.90891,     0.90991,     0.91091,     0.91191,\n",
       "           0.91291,     0.91391,     0.91491,     0.91592,     0.91692,     0.91792,     0.91892,     0.91992,     0.92092,     0.92192,     0.92292,     0.92392,     0.92492,     0.92593,     0.92693,     0.92793,     0.92893,     0.92993,     0.93093,     0.93193,     0.93293,     0.93393,     0.93493,     0.93594,\n",
       "           0.93694,     0.93794,     0.93894,     0.93994,     0.94094,     0.94194,     0.94294,     0.94394,     0.94494,     0.94595,     0.94695,     0.94795,     0.94895,     0.94995,     0.95095,     0.95195,     0.95295,     0.95395,     0.95495,     0.95596,     0.95696,     0.95796,     0.95896,     0.95996,\n",
       "           0.96096,     0.96196,     0.96296,     0.96396,     0.96496,     0.96597,     0.96697,     0.96797,     0.96897,     0.96997,     0.97097,     0.97197,     0.97297,     0.97397,     0.97497,     0.97598,     0.97698,     0.97798,     0.97898,     0.97998,     0.98098,     0.98198,     0.98298,     0.98398,\n",
       "           0.98498,     0.98599,     0.98699,     0.98799,     0.98899,     0.98999,     0.99099,     0.99199,     0.99299,     0.99399,     0.99499,       0.996,       0.997,       0.998,       0.999,           1]), array([[     0.9894,      0.9894,     0.98799,     0.98693,     0.98516,     0.98375,     0.98304,     0.98199,     0.98163,     0.98057,     0.97951,     0.97775,     0.97739,     0.97669,     0.97598,     0.97421,     0.97351,      0.9728,     0.97245,     0.97174,     0.97139,     0.97139,     0.97068,\n",
       "            0.96892,     0.96821,     0.96715,     0.96644,     0.96538,     0.96468,     0.96468,     0.96468,     0.96291,      0.9622,      0.9622,     0.96185,      0.9615,      0.9615,      0.9615,     0.96114,     0.96079,     0.96079,     0.96079,     0.96044,     0.95973,     0.95938,     0.95867,\n",
       "            0.95867,     0.95867,     0.95797,     0.95761,     0.95691,      0.9562,     0.95479,     0.95408,     0.95337,     0.95302,     0.95231,     0.95231,     0.95161,     0.95125,      0.9509,     0.95055,     0.95055,     0.95019,     0.95019,     0.94984,     0.94984,     0.94984,     0.94843,\n",
       "            0.94843,     0.94843,     0.94807,     0.94772,     0.94702,     0.94666,     0.94631,     0.94454,     0.94454,     0.94419,     0.94384,     0.94313,     0.94207,     0.94172,     0.94172,     0.94136,     0.94101,     0.94066,     0.93995,     0.93995,     0.93995,     0.93995,     0.93924,\n",
       "            0.93915,     0.93854,     0.93818,     0.93818,     0.93783,     0.93748,     0.93745,     0.93677,     0.93642,     0.93606,     0.93606,     0.93571,     0.93571,     0.93465,      0.9343,     0.93395,     0.93359,     0.93324,     0.93253,     0.93253,     0.93218,     0.93183,     0.93169,\n",
       "            0.93147,     0.93147,     0.93147,     0.93112,     0.93112,     0.93077,     0.93077,     0.93006,     0.92971,     0.92971,     0.92935,       0.929,     0.92829,     0.92794,     0.92794,     0.92759,     0.92759,     0.92759,     0.92759,     0.92688,     0.92653,     0.92617,     0.92547,\n",
       "            0.92511,     0.92476,     0.92476,     0.92476,     0.92476,     0.92441,     0.92372,     0.92335,     0.92264,     0.92264,     0.92264,     0.92194,     0.92175,     0.92123,     0.92088,     0.92017,     0.91967,     0.91911,     0.91805,     0.91805,     0.91805,     0.91805,     0.91805,\n",
       "            0.91755,     0.91699,     0.91664,     0.91664,     0.91664,     0.91664,     0.91664,     0.91664,     0.91628,     0.91593,     0.91522,     0.91487,     0.91452,     0.91361,     0.91346,     0.91346,     0.91214,     0.91205,     0.91101,     0.91099,     0.91099,     0.91063,     0.91063,\n",
       "            0.91063,     0.91028,     0.91028,     0.91028,     0.91028,     0.90993,     0.90957,     0.90957,     0.90869,     0.90851,     0.90816,     0.90781,     0.90781,     0.90781,     0.90781,     0.90781,     0.90781,     0.90781,     0.90781,     0.90781,     0.90781,     0.90766,     0.90745,\n",
       "            0.90675,     0.90675,     0.90675,     0.90639,     0.90639,     0.90604,     0.90604,     0.90569,     0.90569,     0.90498,     0.90498,     0.90427,     0.90427,     0.90427,     0.90392,     0.90347,     0.90259,     0.90169,     0.90145,      0.9011,     0.90074,     0.90039,     0.90039,\n",
       "            0.90039,     0.90012,     0.89968,     0.89888,     0.89827,     0.89792,     0.89792,     0.89792,     0.89776,     0.89728,     0.89682,     0.89656,     0.89615,      0.8958,      0.8958,     0.89509,      0.8949,     0.89438,     0.89368,     0.89262,     0.89262,     0.89248,     0.89165,\n",
       "             0.8912,     0.89085,     0.89085,     0.89078,      0.8905,     0.88979,     0.88979,     0.88979,     0.88943,     0.88873,     0.88873,     0.88873,     0.88838,     0.88819,     0.88767,     0.88697,      0.8858,     0.88461,     0.88448,     0.88414,     0.88379,      0.8835,     0.88343,\n",
       "            0.88324,     0.88237,     0.88237,     0.88232,     0.88208,     0.88167,     0.88148,     0.88096,     0.88096,     0.88096,     0.88053,     0.88025,     0.88004,      0.8799,     0.87955,      0.8793,     0.87893,     0.87884,     0.87813,     0.87813,     0.87778,     0.87743,     0.87743,\n",
       "            0.87732,     0.87672,     0.87672,     0.87672,     0.87637,     0.87566,     0.87531,     0.87508,     0.87496,     0.87496,     0.87414,     0.87319,     0.87319,     0.87284,      0.8728,     0.87248,     0.87248,     0.87248,     0.87213,     0.87158,     0.87142,     0.87066,     0.87046,\n",
       "            0.86975,     0.86966,     0.86966,     0.86924,     0.86881,     0.86804,     0.86729,     0.86718,     0.86683,     0.86638,     0.86598,     0.86542,     0.86471,      0.8644,     0.86436,     0.86323,     0.86295,     0.86242,     0.86224,     0.86224,     0.86195,     0.86118,     0.86043,\n",
       "            0.86012,     0.86004,     0.85983,     0.85977,     0.85967,     0.85954,     0.85834,     0.85797,     0.85753,     0.85717,     0.85659,     0.85636,     0.85623,      0.8559,     0.85483,     0.85462,     0.85447,     0.85447,     0.85412,     0.85319,     0.85306,      0.8527,      0.8527,\n",
       "            0.85201,     0.85094,     0.85058,     0.85013,     0.84952,     0.84866,     0.84846,     0.84811,     0.84752,     0.84708,     0.84705,     0.84705,      0.8467,      0.8466,     0.84528,     0.84517,     0.84458,     0.84422,     0.84352,     0.84352,     0.84327,     0.84316,     0.84246,\n",
       "             0.8421,     0.84192,     0.84175,     0.84175,     0.84175,     0.84133,     0.84115,     0.84088,     0.84052,     0.83999,     0.83985,     0.83967,     0.83913,     0.83895,     0.83861,     0.83822,      0.8378,     0.83712,     0.83694,     0.83636,      0.8361,      0.8361,      0.8361,\n",
       "             0.8361,      0.8361,      0.8361,     0.83515,     0.83444,     0.83407,     0.83398,      0.8337,     0.83334,     0.83221,     0.83218,     0.83181,      0.8311,     0.83038,     0.83002,     0.82974,      0.8293,     0.82858,     0.82822,     0.82786,      0.8275,     0.82709,     0.82633,\n",
       "            0.82561,     0.82515,      0.8248,     0.82409,     0.82409,     0.82338,     0.82338,     0.82328,     0.82316,     0.82304,      0.8227,     0.82232,     0.82126,     0.81949,     0.81879,     0.81877,     0.81844,     0.81842,     0.81821,     0.81809,     0.81758,     0.81686,      0.8165,\n",
       "            0.81491,      0.8142,      0.8142,     0.81399,     0.81328,     0.81221,     0.81208,     0.81148,     0.81042,     0.81005,     0.80934,     0.80898,     0.80855,     0.80855,     0.80789,     0.80749,     0.80714,     0.80714,     0.80643,     0.80643,     0.80643,     0.80642,     0.80535,\n",
       "            0.80463,     0.80427,     0.80355,     0.80319,     0.80248,     0.80176,     0.80148,     0.80104,     0.80068,     0.80039,     0.80027,     0.80015,     0.79923,      0.7983,      0.7978,     0.79724,     0.79724,     0.79706,     0.79635,     0.79563,     0.79456,      0.7942,     0.79407,\n",
       "            0.79383,     0.79371,     0.79336,     0.79275,     0.79238,     0.79167,     0.79124,     0.79053,     0.79018,     0.78983,     0.78983,     0.78914,     0.78878,     0.78842,     0.78682,     0.78628,     0.78557,      0.7845,     0.78343,     0.78309,     0.78291,     0.78234,     0.78127,\n",
       "            0.78056,     0.78029,     0.78024,     0.78006,     0.77982,      0.7791,     0.77803,     0.77767,     0.77731,     0.77624,     0.77605,     0.77605,     0.77586,     0.77444,     0.77358,     0.77358,     0.77335,     0.77264,     0.77228,     0.77217,      0.7719,     0.77154,     0.77083,\n",
       "            0.77075,     0.77046,     0.77009,     0.77005,     0.76902,     0.76777,      0.7667,     0.76634,     0.76527,      0.7642,     0.76384,     0.76277,      0.7617,     0.76028,     0.75957,     0.75885,     0.75814,     0.75733,     0.75733,     0.75634,     0.75598,     0.75527,     0.75455,\n",
       "            0.75419,     0.75241,      0.7517,     0.75168,     0.75062,     0.74779,     0.74709,     0.74618,     0.74532,     0.74532,     0.74474,     0.74367,     0.74296,     0.74259,     0.74223,     0.74095,     0.74076,     0.74009,     0.73902,     0.73795,     0.73688,     0.73599,     0.73527,\n",
       "            0.73456,     0.73384,     0.73348,      0.7319,     0.73064,     0.72957,     0.72907,     0.72884,     0.72636,     0.72582,     0.72476,     0.72439,     0.72368,     0.72155,     0.72084,     0.71953,     0.71729,     0.71671,     0.71571,     0.71496,     0.71425,     0.71388,     0.71282,\n",
       "            0.71175,     0.71139,     0.71032,     0.70929,       0.708,     0.70694,     0.70481,     0.70445,     0.70408,     0.70301,     0.70169,      0.7007,     0.69963,     0.69856,      0.6982,     0.69572,      0.6945,     0.69341,     0.69304,     0.69233,     0.69161,      0.6909,     0.69015,\n",
       "            0.68929,     0.68845,     0.68821,     0.68644,     0.68572,     0.68271,       0.682,     0.68164,     0.68127,     0.67997,     0.67896,     0.67824,     0.67753,     0.67646,     0.67521,      0.6745,     0.67308,     0.67272,     0.67076,      0.6704,     0.67004,     0.66897,     0.66749,\n",
       "             0.6663,     0.66524,     0.66417,     0.66116,     0.65903,     0.65761,     0.65606,     0.65494,     0.65387,     0.65245,     0.64979,     0.64783,      0.6473,       0.645,     0.64357,     0.64288,      0.6414,     0.63984,     0.63948,     0.63876,     0.63469,     0.63362,     0.63211,\n",
       "            0.63131,     0.63024,     0.62981,     0.62828,     0.62792,       0.626,     0.62454,     0.62312,     0.62188,     0.62051,     0.62027,     0.61955,     0.61846,     0.61724,     0.61617,     0.61493,     0.61456,     0.61378,      0.6126,     0.61189,     0.61109,     0.61028,     0.60804,\n",
       "            0.60655,     0.60584,     0.60389,     0.60197,     0.60051,     0.59839,     0.59573,     0.59466,     0.59271,     0.59162,      0.5911,     0.58933,     0.58668,     0.58644,     0.58585,     0.58452,     0.58275,     0.58158,     0.58008,     0.57778,     0.57588,     0.57511,     0.57333,\n",
       "            0.57209,     0.57051,     0.56907,     0.56818,     0.56658,      0.5662,     0.56426,      0.5632,     0.55948,     0.55695,     0.55493,     0.55345,     0.55265,     0.55219,     0.55095,     0.55013,     0.54899,     0.54386,     0.54266,     0.54013,     0.53874,     0.53799,     0.53639,\n",
       "            0.53444,     0.53337,     0.53178,     0.52876,     0.52664,     0.52486,     0.52409,     0.52219,     0.51777,     0.51556,      0.5121,     0.50988,     0.50908,      0.5043,      0.5017,     0.49934,     0.49884,     0.49738,     0.49492,     0.49348,     0.49135,     0.48639,     0.48515,\n",
       "            0.48176,     0.48125,     0.47854,     0.47593,     0.47074,     0.46814,      0.4654,     0.46353,     0.45936,     0.45715,     0.45262,     0.45149,     0.44834,     0.44688,     0.44442,     0.44068,     0.43768,     0.43324,     0.42952,     0.42776,      0.4256,     0.42134,     0.42013,\n",
       "            0.41706,      0.4111,      0.4089,     0.40641,     0.40489,     0.40108,     0.39587,     0.39292,     0.38937,     0.38666,     0.38333,     0.37907,     0.37533,      0.3748,      0.3709,     0.36453,     0.36132,     0.35601,     0.35281,     0.35019,     0.34712,     0.34251,     0.33797,\n",
       "            0.33577,     0.33222,     0.32549,     0.32194,     0.31974,     0.31519,     0.31164,     0.30597,     0.30066,     0.29797,     0.29568,     0.29142,     0.28222,     0.27584,     0.27088,     0.26274,     0.25848,     0.25251,     0.24749,     0.24289,     0.23828,     0.23473,       0.228,\n",
       "            0.22374,     0.21524,     0.21134,     0.20708,         0.2,      0.1961,     0.19361,     0.18617,     0.18156,     0.16918,     0.16422,      0.1589,     0.15217,     0.14403,     0.13801,     0.13163,     0.12773,     0.11712,     0.11286,     0.10754,     0.10364,    0.095852,    0.092655,\n",
       "           0.087339,    0.082023,       0.076,    0.071744,    0.069607,    0.064997,    0.058621,    0.053658,    0.050815,    0.046911,    0.042655,    0.039458,    0.036261,    0.034124,    0.028455,    0.027024,    0.023121,     0.02169,     0.02026,    0.018829,    0.018413,    0.017028,    0.015597,\n",
       "           0.013813,    0.012383,    0.011305,   0.0093527,   0.0089906,   0.0080731,   0.0073489,   0.0063149,   0.0055474,   0.0048502,   0.0047054,   0.0034799,   0.0032385,   0.0024084,    0.002167,   0.0018287,   0.0013381,   0.0012475,    0.001157,   0.0010665,  0.00099882,  0.00093298,  0.00086715,\n",
       "         0.00080132,  0.00073549,           0,           0,           0,           0,           0,           0,           0,           0,           0,           0,           0,           0,           0,           0,           0,           0,           0,           0,           0,           0,           0,\n",
       "                  0,           0,           0,           0,           0,           0,           0,           0,           0,           0,           0,           0,           0,           0,           0,           0,           0,           0,           0,           0,           0,           0,           0,\n",
       "                  0,           0,           0,           0,           0,           0,           0,           0,           0,           0,           0,           0,           0,           0,           0,           0,           0,           0,           0,           0,           0,           0,           0,\n",
       "                  0,           0,           0,           0,           0,           0,           0,           0,           0,           0,           0]]), 'Confidence', 'Recall']]\n",
       "fitness: 0.667596569448234\n",
       "keys: ['metrics/precision(B)', 'metrics/recall(B)', 'metrics/mAP50(B)', 'metrics/mAP50-95(B)']\n",
       "maps: array([    0.63746])\n",
       "names: {0: 'apple'}\n",
       "plot: True\n",
       "results_dict: {'metrics/precision(B)': 0.9044869970322981, 'metrics/recall(B)': 0.8596726201812743, 'metrics/mAP50(B)': 0.9388219714918004, 'metrics/mAP50-95(B)': 0.6374604136656156, 'fitness': 0.667596569448234}\n",
       "save_dir: WindowsPath('runs/detect/train2')\n",
       "speed: {'preprocess': 0.3486948013305664, 'inference': 1.5783462524414062, 'loss': 0.0, 'postprocess': 1.0214414596557617}\n",
       "task: 'detect'"
      ]
     },
     "execution_count": 1,
     "metadata": {},
     "output_type": "execute_result"
    }
   ],
   "source": [
    "from ultralytics import YOLO\n",
    "\n",
    "# Carregar o modelo YOLO11 afinado\n",
    "model = YOLO('C:\\\\Users\\\\píchau\\\\Documents\\\\TCC\\\\yolov8-env\\\\runs\\\\detect\\\\tune_no_prep\\\\weights\\\\best.pt')\n",
    "\n",
    "# Iniciar o treinamento\n",
    "model.train(data='C:\\\\Users\\\\píchau\\\\Documents\\\\TCC\\\\dataset_preprocessed.yaml', epochs=1000, imgsz=640, batch=16)"
   ]
  },
  {
   "cell_type": "markdown",
   "metadata": {},
   "source": [
    "# Testes"
   ]
  },
  {
   "cell_type": "code",
   "execution_count": 3,
   "metadata": {},
   "outputs": [
    {
     "name": "stdout",
     "output_type": "stream",
     "text": [
      "\n",
      "image 1/252 C:\\Users\\pchau\\Documents\\TCC\\dataset\\images\\test_preprocessed\\IMG_7105_0_4096.png: 640x640 5 apples, 24.1ms\n",
      "image 2/252 C:\\Users\\pchau\\Documents\\TCC\\dataset\\images\\test_preprocessed\\IMG_7105_1024_2048.png: 640x640 11 apples, 7.5ms\n",
      "image 3/252 C:\\Users\\pchau\\Documents\\TCC\\dataset\\images\\test_preprocessed\\IMG_7106_0_1024.png: 640x640 1 apple, 5.2ms\n",
      "image 4/252 C:\\Users\\pchau\\Documents\\TCC\\dataset\\images\\test_preprocessed\\IMG_7106_0_3072.png: 640x640 4 apples, 5.0ms\n",
      "image 5/252 C:\\Users\\pchau\\Documents\\TCC\\dataset\\images\\test_preprocessed\\IMG_7106_1024_3072.png: 640x640 13 apples, 5.6ms\n",
      "image 6/252 C:\\Users\\pchau\\Documents\\TCC\\dataset\\images\\test_preprocessed\\IMG_7106_2048_4096.png: 640x640 18 apples, 5.0ms\n",
      "image 7/252 C:\\Users\\pchau\\Documents\\TCC\\dataset\\images\\test_preprocessed\\IMG_7108_0_2048.png: 640x640 24 apples, 3.0ms\n",
      "image 8/252 C:\\Users\\pchau\\Documents\\TCC\\dataset\\images\\test_preprocessed\\IMG_7108_0_3072.png: 640x640 13 apples, 6.3ms\n",
      "image 9/252 C:\\Users\\pchau\\Documents\\TCC\\dataset\\images\\test_preprocessed\\IMG_7108_2048_4096.png: 640x640 21 apples, 8.3ms\n",
      "image 10/252 C:\\Users\\pchau\\Documents\\TCC\\dataset\\images\\test_preprocessed\\IMG_7109_1024_1024.png: 640x640 4 apples, 2.4ms\n",
      "image 11/252 C:\\Users\\pchau\\Documents\\TCC\\dataset\\images\\test_preprocessed\\IMG_7110_2048_1024.png: 640x640 6 apples, 1.6ms\n",
      "image 12/252 C:\\Users\\pchau\\Documents\\TCC\\dataset\\images\\test_preprocessed\\IMG_7111_0_0.png: 640x640 6 apples, 5.3ms\n",
      "image 13/252 C:\\Users\\pchau\\Documents\\TCC\\dataset\\images\\test_preprocessed\\IMG_7112_0_1024.png: 640x640 6 apples, 4.6ms\n",
      "image 14/252 C:\\Users\\pchau\\Documents\\TCC\\dataset\\images\\test_preprocessed\\IMG_7112_0_2048.png: 640x640 6 apples, 3.9ms\n",
      "image 15/252 C:\\Users\\pchau\\Documents\\TCC\\dataset\\images\\test_preprocessed\\IMG_7112_1024_3072.png: 640x640 16 apples, 4.2ms\n",
      "image 16/252 C:\\Users\\pchau\\Documents\\TCC\\dataset\\images\\test_preprocessed\\IMG_7112_2048_4096.png: 640x640 19 apples, 6.1ms\n",
      "image 17/252 C:\\Users\\pchau\\Documents\\TCC\\dataset\\images\\test_preprocessed\\IMG_7114_2048_4096.png: 640x640 11 apples, 10.1ms\n",
      "image 18/252 C:\\Users\\pchau\\Documents\\TCC\\dataset\\images\\test_preprocessed\\IMG_7115_1024_3072.png: 640x640 11 apples, 6.3ms\n",
      "image 19/252 C:\\Users\\pchau\\Documents\\TCC\\dataset\\images\\test_preprocessed\\IMG_7116_0_3072.png: 640x640 11 apples, 10.6ms\n",
      "image 20/252 C:\\Users\\pchau\\Documents\\TCC\\dataset\\images\\test_preprocessed\\IMG_7116_1024_1024.png: 640x640 3 apples, 6.0ms\n",
      "image 21/252 C:\\Users\\pchau\\Documents\\TCC\\dataset\\images\\test_preprocessed\\IMG_7116_2048_3072.png: 640x640 13 apples, 4.8ms\n",
      "image 22/252 C:\\Users\\pchau\\Documents\\TCC\\dataset\\images\\test_preprocessed\\IMG_7117_1024_1024.png: 640x640 6 apples, 7.5ms\n",
      "image 23/252 C:\\Users\\pchau\\Documents\\TCC\\dataset\\images\\test_preprocessed\\IMG_7117_1024_2048.png: 640x640 18 apples, 4.9ms\n",
      "image 24/252 C:\\Users\\pchau\\Documents\\TCC\\dataset\\images\\test_preprocessed\\IMG_7117_1024_3072.png: 640x640 17 apples, 6.6ms\n",
      "image 25/252 C:\\Users\\pchau\\Documents\\TCC\\dataset\\images\\test_preprocessed\\IMG_7118_0_3072.png: 640x640 11 apples, 8.8ms\n",
      "image 26/252 C:\\Users\\pchau\\Documents\\TCC\\dataset\\images\\test_preprocessed\\IMG_7118_0_4096.png: 640x640 18 apples, 7.8ms\n",
      "image 27/252 C:\\Users\\pchau\\Documents\\TCC\\dataset\\images\\test_preprocessed\\IMG_7119_1024_1024.png: 640x640 11 apples, 5.5ms\n",
      "image 28/252 C:\\Users\\pchau\\Documents\\TCC\\dataset\\images\\test_preprocessed\\IMG_7119_2048_1024.png: 640x640 9 apples, 7.0ms\n",
      "image 29/252 C:\\Users\\pchau\\Documents\\TCC\\dataset\\images\\test_preprocessed\\IMG_7120_0_0.png: 640x640 4 apples, 5.8ms\n",
      "image 30/252 C:\\Users\\pchau\\Documents\\TCC\\dataset\\images\\test_preprocessed\\IMG_7120_0_2048.png: 640x640 11 apples, 7.5ms\n",
      "image 31/252 C:\\Users\\pchau\\Documents\\TCC\\dataset\\images\\test_preprocessed\\IMG_7120_1024_1024.png: 640x640 7 apples, 6.3ms\n",
      "image 32/252 C:\\Users\\pchau\\Documents\\TCC\\dataset\\images\\test_preprocessed\\IMG_7120_2048_1024.png: 640x640 9 apples, 12.0ms\n",
      "image 33/252 C:\\Users\\pchau\\Documents\\TCC\\dataset\\images\\test_preprocessed\\IMG_7121_0_2048.png: 640x640 9 apples, 20.1ms\n",
      "image 34/252 C:\\Users\\pchau\\Documents\\TCC\\dataset\\images\\test_preprocessed\\IMG_7121_2048_3072.png: 640x640 8 apples, 12.8ms\n",
      "image 35/252 C:\\Users\\pchau\\Documents\\TCC\\dataset\\images\\test_preprocessed\\IMG_7122_0_1024.png: 640x640 8 apples, 9.4ms\n",
      "image 36/252 C:\\Users\\pchau\\Documents\\TCC\\dataset\\images\\test_preprocessed\\IMG_7122_1024_0.png: 640x640 7 apples, 4.9ms\n",
      "image 37/252 C:\\Users\\pchau\\Documents\\TCC\\dataset\\images\\test_preprocessed\\IMG_7123_2048_2048.png: 640x640 10 apples, 4.5ms\n",
      "image 38/252 C:\\Users\\pchau\\Documents\\TCC\\dataset\\images\\test_preprocessed\\IMG_7124_0_3072.png: 640x640 13 apples, 7.7ms\n",
      "image 39/252 C:\\Users\\pchau\\Documents\\TCC\\dataset\\images\\test_preprocessed\\IMG_7124_1024_0.png: 640x640 4 apples, 9.5ms\n",
      "image 40/252 C:\\Users\\pchau\\Documents\\TCC\\dataset\\images\\test_preprocessed\\IMG_7125_0_0.png: 640x640 4 apples, 4.8ms\n",
      "image 41/252 C:\\Users\\pchau\\Documents\\TCC\\dataset\\images\\test_preprocessed\\IMG_7125_2048_4096.png: 640x640 15 apples, 8.2ms\n",
      "image 42/252 C:\\Users\\pchau\\Documents\\TCC\\dataset\\images\\test_preprocessed\\IMG_7127_1024_4096.png: 640x640 15 apples, 2.0ms\n",
      "image 43/252 C:\\Users\\pchau\\Documents\\TCC\\dataset\\images\\test_preprocessed\\IMG_7127_2048_0.png: 640x640 3 apples, 8.0ms\n",
      "image 44/252 C:\\Users\\pchau\\Documents\\TCC\\dataset\\images\\test_preprocessed\\IMG_7128_2048_1024.png: 640x640 1 apple, 5.5ms\n",
      "image 45/252 C:\\Users\\pchau\\Documents\\TCC\\dataset\\images\\test_preprocessed\\IMG_7129_1024_2048.png: 640x640 2 apples, 3.5ms\n",
      "image 46/252 C:\\Users\\pchau\\Documents\\TCC\\dataset\\images\\test_preprocessed\\IMG_7130_1024_3072.png: 640x640 9 apples, 3.6ms\n",
      "image 47/252 C:\\Users\\pchau\\Documents\\TCC\\dataset\\images\\test_preprocessed\\IMG_7130_2048_4096.png: 640x640 15 apples, 4.6ms\n",
      "image 48/252 C:\\Users\\pchau\\Documents\\TCC\\dataset\\images\\test_preprocessed\\IMG_7131_0_4096.png: 640x640 17 apples, 5.8ms\n",
      "image 49/252 C:\\Users\\pchau\\Documents\\TCC\\dataset\\images\\test_preprocessed\\IMG_7131_2048_2048.png: 640x640 6 apples, 5.1ms\n",
      "image 50/252 C:\\Users\\pchau\\Documents\\TCC\\dataset\\images\\test_preprocessed\\IMG_7131_2048_3072.png: 640x640 19 apples, 4.7ms\n",
      "image 51/252 C:\\Users\\pchau\\Documents\\TCC\\dataset\\images\\test_preprocessed\\IMG_7132_1024_2048.png: 640x640 5 apples, 4.2ms\n",
      "image 52/252 C:\\Users\\pchau\\Documents\\TCC\\dataset\\images\\test_preprocessed\\IMG_7133_0_1024.png: 640x640 2 apples, 6.0ms\n",
      "image 53/252 C:\\Users\\pchau\\Documents\\TCC\\dataset\\images\\test_preprocessed\\IMG_7142_0_2048.png: 640x640 (no detections), 7.3ms\n",
      "image 54/252 C:\\Users\\pchau\\Documents\\TCC\\dataset\\images\\test_preprocessed\\IMG_7144_0_3072.png: 640x640 2 apples, 5.8ms\n",
      "image 55/252 C:\\Users\\pchau\\Documents\\TCC\\dataset\\images\\test_preprocessed\\IMG_7144_2048_3072.png: 640x640 46 apples, 5.2ms\n",
      "image 56/252 C:\\Users\\pchau\\Documents\\TCC\\dataset\\images\\test_preprocessed\\IMG_7145_1024_1024.png: 640x640 2 apples, 9.4ms\n",
      "image 57/252 C:\\Users\\pchau\\Documents\\TCC\\dataset\\images\\test_preprocessed\\IMG_7145_1024_3072.png: 640x640 40 apples, 5.7ms\n",
      "image 58/252 C:\\Users\\pchau\\Documents\\TCC\\dataset\\images\\test_preprocessed\\IMG_7145_2048_2048.png: 640x640 14 apples, 1.0ms\n",
      "image 59/252 C:\\Users\\pchau\\Documents\\TCC\\dataset\\images\\test_preprocessed\\IMG_7146_1024_3072.png: 640x640 28 apples, 5.1ms\n",
      "image 60/252 C:\\Users\\pchau\\Documents\\TCC\\dataset\\images\\test_preprocessed\\IMG_7146_1024_4096.png: 640x640 22 apples, 6.0ms\n",
      "image 61/252 C:\\Users\\pchau\\Documents\\TCC\\dataset\\images\\test_preprocessed\\IMG_7146_2048_1024.png: 640x640 6 apples, 7.0ms\n",
      "image 62/252 C:\\Users\\pchau\\Documents\\TCC\\dataset\\images\\test_preprocessed\\IMG_7147_0_1024.png: 640x640 6 apples, 8.5ms\n",
      "image 63/252 C:\\Users\\pchau\\Documents\\TCC\\dataset\\images\\test_preprocessed\\IMG_7147_1024_1024.png: 640x640 4 apples, 6.7ms\n",
      "image 64/252 C:\\Users\\pchau\\Documents\\TCC\\dataset\\images\\test_preprocessed\\IMG_7147_1024_3072.png: 640x640 29 apples, 5.6ms\n",
      "image 65/252 C:\\Users\\pchau\\Documents\\TCC\\dataset\\images\\test_preprocessed\\IMG_7147_2048_3072.png: 640x640 30 apples, 4.5ms\n",
      "image 66/252 C:\\Users\\pchau\\Documents\\TCC\\dataset\\images\\test_preprocessed\\IMG_7148_2048_1024.png: 640x640 19 apples, 7.6ms\n",
      "image 67/252 C:\\Users\\pchau\\Documents\\TCC\\dataset\\images\\test_preprocessed\\IMG_7149_0_3072.png: 640x640 34 apples, 7.1ms\n",
      "image 68/252 C:\\Users\\pchau\\Documents\\TCC\\dataset\\images\\test_preprocessed\\IMG_7149_1024_0.png: 640x640 12 apples, 4.9ms\n",
      "image 69/252 C:\\Users\\pchau\\Documents\\TCC\\dataset\\images\\test_preprocessed\\IMG_7149_2048_0.png: 640x640 9 apples, 5.3ms\n",
      "image 70/252 C:\\Users\\pchau\\Documents\\TCC\\dataset\\images\\test_preprocessed\\IMG_7149_2048_2048.png: 640x640 16 apples, 5.2ms\n",
      "image 71/252 C:\\Users\\pchau\\Documents\\TCC\\dataset\\images\\test_preprocessed\\IMG_7151_0_1024.png: 640x640 8 apples, 4.6ms\n",
      "image 72/252 C:\\Users\\pchau\\Documents\\TCC\\dataset\\images\\test_preprocessed\\IMG_7151_0_4096.png: 640x640 14 apples, 6.0ms\n",
      "image 73/252 C:\\Users\\pchau\\Documents\\TCC\\dataset\\images\\test_preprocessed\\IMG_7151_1024_3072.png: 640x640 18 apples, 6.6ms\n",
      "image 74/252 C:\\Users\\pchau\\Documents\\TCC\\dataset\\images\\test_preprocessed\\IMG_7151_2048_4096.png: 640x640 34 apples, 6.2ms\n",
      "image 75/252 C:\\Users\\pchau\\Documents\\TCC\\dataset\\images\\test_preprocessed\\IMG_7152_0_1024.png: 640x640 18 apples, 6.8ms\n",
      "image 76/252 C:\\Users\\pchau\\Documents\\TCC\\dataset\\images\\test_preprocessed\\IMG_7152_1024_1024.png: 640x640 8 apples, 4.2ms\n",
      "image 77/252 C:\\Users\\pchau\\Documents\\TCC\\dataset\\images\\test_preprocessed\\IMG_7152_2048_3072.png: 640x640 27 apples, 7.3ms\n",
      "image 78/252 C:\\Users\\pchau\\Documents\\TCC\\dataset\\images\\test_preprocessed\\IMG_7154_0_1024.png: 640x640 4 apples, 5.9ms\n",
      "image 79/252 C:\\Users\\pchau\\Documents\\TCC\\dataset\\images\\test_preprocessed\\IMG_7154_0_2048.png: 640x640 18 apples, 6.7ms\n",
      "image 80/252 C:\\Users\\pchau\\Documents\\TCC\\dataset\\images\\test_preprocessed\\IMG_7154_1024_4096.png: 640x640 18 apples, 8.4ms\n",
      "image 81/252 C:\\Users\\pchau\\Documents\\TCC\\dataset\\images\\test_preprocessed\\IMG_7154_2048_0.png: 640x640 6 apples, 7.3ms\n",
      "image 82/252 C:\\Users\\pchau\\Documents\\TCC\\dataset\\images\\test_preprocessed\\IMG_7154_2048_2048.png: 640x640 17 apples, 9.4ms\n",
      "image 83/252 C:\\Users\\pchau\\Documents\\TCC\\dataset\\images\\test_preprocessed\\IMG_7155_1024_3072.png: 640x640 25 apples, 9.2ms\n",
      "image 84/252 C:\\Users\\pchau\\Documents\\TCC\\dataset\\images\\test_preprocessed\\IMG_7155_1024_4096.png: 640x640 24 apples, 20.5ms\n",
      "image 85/252 C:\\Users\\pchau\\Documents\\TCC\\dataset\\images\\test_preprocessed\\IMG_7156_0_1024.png: 640x640 12 apples, 10.5ms\n",
      "image 86/252 C:\\Users\\pchau\\Documents\\TCC\\dataset\\images\\test_preprocessed\\IMG_7156_0_4096.png: 640x640 16 apples, 16.6ms\n",
      "image 87/252 C:\\Users\\pchau\\Documents\\TCC\\dataset\\images\\test_preprocessed\\IMG_7156_1024_1024.png: 640x640 10 apples, 12.8ms\n",
      "image 88/252 C:\\Users\\pchau\\Documents\\TCC\\dataset\\images\\test_preprocessed\\IMG_7156_1024_2048.png: 640x640 16 apples, 5.8ms\n",
      "image 89/252 C:\\Users\\pchau\\Documents\\TCC\\dataset\\images\\test_preprocessed\\IMG_7157_0_4096.png: 640x640 30 apples, 5.2ms\n",
      "image 90/252 C:\\Users\\pchau\\Documents\\TCC\\dataset\\images\\test_preprocessed\\IMG_7157_1024_2048.png: 640x640 24 apples, 15.0ms\n",
      "image 91/252 C:\\Users\\pchau\\Documents\\TCC\\dataset\\images\\test_preprocessed\\IMG_7158_2048_0.png: 640x640 7 apples, 6.1ms\n",
      "image 92/252 C:\\Users\\pchau\\Documents\\TCC\\dataset\\images\\test_preprocessed\\IMG_7159_1024_3072.png: 640x640 19 apples, 6.0ms\n",
      "image 93/252 C:\\Users\\pchau\\Documents\\TCC\\dataset\\images\\test_preprocessed\\IMG_7159_1024_4096.png: 640x640 23 apples, 9.0ms\n",
      "image 94/252 C:\\Users\\pchau\\Documents\\TCC\\dataset\\images\\test_preprocessed\\IMG_7159_2048_2048.png: 640x640 20 apples, 7.5ms\n",
      "image 95/252 C:\\Users\\pchau\\Documents\\TCC\\dataset\\images\\test_preprocessed\\IMG_7160_0_0.png: 640x640 7 apples, 7.1ms\n",
      "image 96/252 C:\\Users\\pchau\\Documents\\TCC\\dataset\\images\\test_preprocessed\\IMG_7160_1024_3072.png: 640x640 21 apples, 5.2ms\n",
      "image 97/252 C:\\Users\\pchau\\Documents\\TCC\\dataset\\images\\test_preprocessed\\IMG_7160_2048_0.png: 640x640 4 apples, 5.1ms\n",
      "image 98/252 C:\\Users\\pchau\\Documents\\TCC\\dataset\\images\\test_preprocessed\\IMG_7160_2048_2048.png: 640x640 10 apples, 5.0ms\n",
      "image 99/252 C:\\Users\\pchau\\Documents\\TCC\\dataset\\images\\test_preprocessed\\IMG_7160_2048_4096.png: 640x640 20 apples, 6.4ms\n",
      "image 100/252 C:\\Users\\pchau\\Documents\\TCC\\dataset\\images\\test_preprocessed\\IMG_7161_1024_2048.png: 640x640 15 apples, 6.4ms\n",
      "image 101/252 C:\\Users\\pchau\\Documents\\TCC\\dataset\\images\\test_preprocessed\\IMG_7162_0_2048.png: 640x640 10 apples, 5.2ms\n",
      "image 102/252 C:\\Users\\pchau\\Documents\\TCC\\dataset\\images\\test_preprocessed\\IMG_7162_1024_1024.png: 640x640 10 apples, 5.4ms\n",
      "image 103/252 C:\\Users\\pchau\\Documents\\TCC\\dataset\\images\\test_preprocessed\\IMG_7162_2048_2048.png: 640x640 27 apples, 6.9ms\n",
      "image 104/252 C:\\Users\\pchau\\Documents\\TCC\\dataset\\images\\test_preprocessed\\IMG_7163_0_2048.png: 640x640 14 apples, 3.5ms\n",
      "image 105/252 C:\\Users\\pchau\\Documents\\TCC\\dataset\\images\\test_preprocessed\\IMG_7164_0_2048.png: 640x640 17 apples, 7.5ms\n",
      "image 106/252 C:\\Users\\pchau\\Documents\\TCC\\dataset\\images\\test_preprocessed\\IMG_7165_2048_0.png: 640x640 1 apple, 5.6ms\n",
      "image 107/252 C:\\Users\\pchau\\Documents\\TCC\\dataset\\images\\test_preprocessed\\IMG_7165_2048_4096.png: 640x640 18 apples, 8.1ms\n",
      "image 108/252 C:\\Users\\pchau\\Documents\\TCC\\dataset\\images\\test_preprocessed\\IMG_7166_1024_0.png: 640x640 3 apples, 9.4ms\n",
      "image 109/252 C:\\Users\\pchau\\Documents\\TCC\\dataset\\images\\test_preprocessed\\IMG_7166_1024_3072.png: 640x640 28 apples, 2.7ms\n",
      "image 110/252 C:\\Users\\pchau\\Documents\\TCC\\dataset\\images\\test_preprocessed\\IMG_7167_0_4096.png: 640x640 22 apples, 6.6ms\n",
      "image 111/252 C:\\Users\\pchau\\Documents\\TCC\\dataset\\images\\test_preprocessed\\IMG_7167_2048_2048.png: 640x640 6 apples, 7.2ms\n",
      "image 112/252 C:\\Users\\pchau\\Documents\\TCC\\dataset\\images\\test_preprocessed\\IMG_7167_2048_3072.png: 640x640 15 apples, 4.7ms\n",
      "image 113/252 C:\\Users\\pchau\\Documents\\TCC\\dataset\\images\\test_preprocessed\\IMG_7168_2048_0.png: 640x640 9 apples, 5.6ms\n",
      "image 114/252 C:\\Users\\pchau\\Documents\\TCC\\dataset\\images\\test_preprocessed\\IMG_7169_0_4096.png: 640x640 9 apples, 8.9ms\n",
      "image 115/252 C:\\Users\\pchau\\Documents\\TCC\\dataset\\images\\test_preprocessed\\IMG_7169_1024_2048.png: 640x640 11 apples, 5.2ms\n",
      "image 116/252 C:\\Users\\pchau\\Documents\\TCC\\dataset\\images\\test_preprocessed\\IMG_7170_0_2048.png: 640x640 7 apples, 4.5ms\n",
      "image 117/252 C:\\Users\\pchau\\Documents\\TCC\\dataset\\images\\test_preprocessed\\IMG_7170_1024_4096.png: 640x640 22 apples, 6.0ms\n",
      "image 118/252 C:\\Users\\pchau\\Documents\\TCC\\dataset\\images\\test_preprocessed\\IMG_7170_2048_0.png: 640x640 8 apples, 7.9ms\n",
      "image 119/252 C:\\Users\\pchau\\Documents\\TCC\\dataset\\images\\test_preprocessed\\IMG_7171_1024_2048.png: 640x640 27 apples, 5.7ms\n",
      "image 120/252 C:\\Users\\pchau\\Documents\\TCC\\dataset\\images\\test_preprocessed\\IMG_7171_1024_4096.png: 640x640 26 apples, 6.4ms\n",
      "image 121/252 C:\\Users\\pchau\\Documents\\TCC\\dataset\\images\\test_preprocessed\\IMG_7171_2048_0.png: 640x640 6 apples, 7.4ms\n",
      "image 122/252 C:\\Users\\pchau\\Documents\\TCC\\dataset\\images\\test_preprocessed\\IMG_7172_0_3072.png: 640x640 23 apples, 9.4ms\n",
      "image 123/252 C:\\Users\\pchau\\Documents\\TCC\\dataset\\images\\test_preprocessed\\IMG_7173_0_2048.png: 640x640 23 apples, 6.0ms\n",
      "image 124/252 C:\\Users\\pchau\\Documents\\TCC\\dataset\\images\\test_preprocessed\\IMG_7173_2048_1024.png: 640x640 5 apples, 12.3ms\n",
      "image 125/252 C:\\Users\\pchau\\Documents\\TCC\\dataset\\images\\test_preprocessed\\IMG_7174_0_0.png: 640x640 4 apples, 13.8ms\n",
      "image 126/252 C:\\Users\\pchau\\Documents\\TCC\\dataset\\images\\test_preprocessed\\IMG_7174_0_1024.png: 640x640 12 apples, 15.5ms\n",
      "image 127/252 C:\\Users\\pchau\\Documents\\TCC\\dataset\\images\\test_preprocessed\\IMG_7174_0_2048.png: 640x640 26 apples, 19.5ms\n",
      "image 128/252 C:\\Users\\pchau\\Documents\\TCC\\dataset\\images\\test_preprocessed\\IMG_7174_1024_0.png: 640x640 8 apples, 4.6ms\n",
      "image 129/252 C:\\Users\\pchau\\Documents\\TCC\\dataset\\images\\test_preprocessed\\IMG_7447_1024_1024.png: 640x640 15 apples, 5.6ms\n",
      "image 130/252 C:\\Users\\pchau\\Documents\\TCC\\dataset\\images\\test_preprocessed\\IMG_7447_1024_3072.png: 640x640 17 apples, 5.8ms\n",
      "image 131/252 C:\\Users\\pchau\\Documents\\TCC\\dataset\\images\\test_preprocessed\\IMG_7448_0_0.png: 640x640 4 apples, 5.5ms\n",
      "image 132/252 C:\\Users\\pchau\\Documents\\TCC\\dataset\\images\\test_preprocessed\\IMG_7448_0_1024.png: 640x640 16 apples, 3.1ms\n",
      "image 133/252 C:\\Users\\pchau\\Documents\\TCC\\dataset\\images\\test_preprocessed\\IMG_7448_0_3072.png: 640x640 7 apples, 4.7ms\n",
      "image 134/252 C:\\Users\\pchau\\Documents\\TCC\\dataset\\images\\test_preprocessed\\IMG_7448_1024_4096.png: 640x640 19 apples, 4.9ms\n",
      "image 135/252 C:\\Users\\pchau\\Documents\\TCC\\dataset\\images\\test_preprocessed\\IMG_7449_0_3072.png: 640x640 11 apples, 4.6ms\n",
      "image 136/252 C:\\Users\\pchau\\Documents\\TCC\\dataset\\images\\test_preprocessed\\IMG_7449_0_4096.png: 640x640 17 apples, 9.1ms\n",
      "image 137/252 C:\\Users\\pchau\\Documents\\TCC\\dataset\\images\\test_preprocessed\\IMG_7449_1024_0.png: 640x640 3 apples, 4.1ms\n",
      "image 138/252 C:\\Users\\pchau\\Documents\\TCC\\dataset\\images\\test_preprocessed\\IMG_7449_2048_2048.png: 640x640 15 apples, 4.9ms\n",
      "image 139/252 C:\\Users\\pchau\\Documents\\TCC\\dataset\\images\\test_preprocessed\\IMG_7450_1024_3072.png: 640x640 14 apples, 6.8ms\n",
      "image 140/252 C:\\Users\\pchau\\Documents\\TCC\\dataset\\images\\test_preprocessed\\IMG_7450_1024_4096.png: 640x640 10 apples, 4.4ms\n",
      "image 141/252 C:\\Users\\pchau\\Documents\\TCC\\dataset\\images\\test_preprocessed\\IMG_7450_2048_4096.png: 640x640 11 apples, 6.4ms\n",
      "image 142/252 C:\\Users\\pchau\\Documents\\TCC\\dataset\\images\\test_preprocessed\\IMG_7451_2048_1024.png: 640x640 12 apples, 5.4ms\n",
      "image 143/252 C:\\Users\\pchau\\Documents\\TCC\\dataset\\images\\test_preprocessed\\IMG_7451_2048_3072.png: 640x640 11 apples, 4.1ms\n",
      "image 144/252 C:\\Users\\pchau\\Documents\\TCC\\dataset\\images\\test_preprocessed\\IMG_7452_0_2048.png: 640x640 11 apples, 4.9ms\n",
      "image 145/252 C:\\Users\\pchau\\Documents\\TCC\\dataset\\images\\test_preprocessed\\IMG_7452_0_4096.png: 640x640 18 apples, 4.4ms\n",
      "image 146/252 C:\\Users\\pchau\\Documents\\TCC\\dataset\\images\\test_preprocessed\\IMG_7453_0_2048.png: 640x640 9 apples, 6.3ms\n",
      "image 147/252 C:\\Users\\pchau\\Documents\\TCC\\dataset\\images\\test_preprocessed\\IMG_7453_1024_3072.png: 640x640 12 apples, 7.0ms\n",
      "image 148/252 C:\\Users\\pchau\\Documents\\TCC\\dataset\\images\\test_preprocessed\\IMG_7453_1024_4096.png: 640x640 27 apples, 5.8ms\n",
      "image 149/252 C:\\Users\\pchau\\Documents\\TCC\\dataset\\images\\test_preprocessed\\IMG_7454_0_1024.png: 640x640 5 apples, 6.9ms\n",
      "image 150/252 C:\\Users\\pchau\\Documents\\TCC\\dataset\\images\\test_preprocessed\\IMG_7454_2048_0.png: 640x640 2 apples, 7.3ms\n",
      "image 151/252 C:\\Users\\pchau\\Documents\\TCC\\dataset\\images\\test_preprocessed\\IMG_7455_2048_1024.png: 640x640 4 apples, 4.5ms\n",
      "image 152/252 C:\\Users\\pchau\\Documents\\TCC\\dataset\\images\\test_preprocessed\\IMG_8070_0_3072.png: 640x640 11 apples, 5.2ms\n",
      "image 153/252 C:\\Users\\pchau\\Documents\\TCC\\dataset\\images\\test_preprocessed\\IMG_8070_1024_1024.png: 640x640 10 apples, 4.6ms\n",
      "image 154/252 C:\\Users\\pchau\\Documents\\TCC\\dataset\\images\\test_preprocessed\\IMG_8070_1024_3072.png: 640x640 15 apples, 7.0ms\n",
      "image 155/252 C:\\Users\\pchau\\Documents\\TCC\\dataset\\images\\test_preprocessed\\IMG_8071_0_1024.png: 640x640 3 apples, 8.2ms\n",
      "image 156/252 C:\\Users\\pchau\\Documents\\TCC\\dataset\\images\\test_preprocessed\\IMG_8071_0_3072.png: 640x640 20 apples, 7.3ms\n",
      "image 157/252 C:\\Users\\pchau\\Documents\\TCC\\dataset\\images\\test_preprocessed\\IMG_8071_1024_2048.png: 640x640 13 apples, 7.8ms\n",
      "image 158/252 C:\\Users\\pchau\\Documents\\TCC\\dataset\\images\\test_preprocessed\\IMG_8071_2048_0.png: 640x640 5 apples, 8.2ms\n",
      "image 159/252 C:\\Users\\pchau\\Documents\\TCC\\dataset\\images\\test_preprocessed\\IMG_8072_2048_4096.png: 640x640 5 apples, 16.7ms\n",
      "image 160/252 C:\\Users\\pchau\\Documents\\TCC\\dataset\\images\\test_preprocessed\\IMG_8074_1024_3072.png: 640x640 15 apples, 17.2ms\n",
      "image 161/252 C:\\Users\\pchau\\Documents\\TCC\\dataset\\images\\test_preprocessed\\IMG_8074_2048_2048.png: 640x640 15 apples, 20.6ms\n",
      "image 162/252 C:\\Users\\pchau\\Documents\\TCC\\dataset\\images\\test_preprocessed\\IMG_8075_2048_4096.png: 640x640 6 apples, 20.5ms\n",
      "image 163/252 C:\\Users\\pchau\\Documents\\TCC\\dataset\\images\\test_preprocessed\\IMG_8076_0_0.png: 640x640 4 apples, 19.5ms\n",
      "image 164/252 C:\\Users\\pchau\\Documents\\TCC\\dataset\\images\\test_preprocessed\\IMG_8076_0_3072.png: 640x640 16 apples, 8.5ms\n",
      "image 165/252 C:\\Users\\pchau\\Documents\\TCC\\dataset\\images\\test_preprocessed\\IMG_8076_0_4096.png: 640x640 12 apples, 5.2ms\n",
      "image 166/252 C:\\Users\\pchau\\Documents\\TCC\\dataset\\images\\test_preprocessed\\IMG_8077_2048_4096.png: 640x640 27 apples, 5.4ms\n",
      "image 167/252 C:\\Users\\pchau\\Documents\\TCC\\dataset\\images\\test_preprocessed\\IMG_8078_1024_4096.png: 640x640 17 apples, 4.8ms\n",
      "image 168/252 C:\\Users\\pchau\\Documents\\TCC\\dataset\\images\\test_preprocessed\\IMG_8078_2048_0.png: 640x640 6 apples, 2.1ms\n",
      "image 169/252 C:\\Users\\pchau\\Documents\\TCC\\dataset\\images\\test_preprocessed\\IMG_8078_2048_3072.png: 640x640 22 apples, 8.2ms\n",
      "image 170/252 C:\\Users\\pchau\\Documents\\TCC\\dataset\\images\\test_preprocessed\\IMG_8079_1024_3072.png: 640x640 24 apples, 4.8ms\n",
      "image 171/252 C:\\Users\\pchau\\Documents\\TCC\\dataset\\images\\test_preprocessed\\IMG_8080_0_1024.png: 640x640 7 apples, 4.6ms\n",
      "image 172/252 C:\\Users\\pchau\\Documents\\TCC\\dataset\\images\\test_preprocessed\\IMG_8080_0_2048.png: 640x640 5 apples, 5.0ms\n",
      "image 173/252 C:\\Users\\pchau\\Documents\\TCC\\dataset\\images\\test_preprocessed\\IMG_8080_1024_4096.png: 640x640 16 apples, 4.6ms\n",
      "image 174/252 C:\\Users\\pchau\\Documents\\TCC\\dataset\\images\\test_preprocessed\\IMG_8081_0_1024.png: 640x640 11 apples, 4.0ms\n",
      "image 175/252 C:\\Users\\pchau\\Documents\\TCC\\dataset\\images\\test_preprocessed\\IMG_8081_2048_3072.png: 640x640 19 apples, 6.2ms\n",
      "image 176/252 C:\\Users\\pchau\\Documents\\TCC\\dataset\\images\\test_preprocessed\\IMG_8082_0_0.png: 640x640 8 apples, 5.2ms\n",
      "image 177/252 C:\\Users\\pchau\\Documents\\TCC\\dataset\\images\\test_preprocessed\\IMG_8082_0_3072.png: 640x640 22 apples, 5.0ms\n",
      "image 178/252 C:\\Users\\pchau\\Documents\\TCC\\dataset\\images\\test_preprocessed\\IMG_8082_0_4096.png: 640x640 18 apples, 6.1ms\n",
      "image 179/252 C:\\Users\\pchau\\Documents\\TCC\\dataset\\images\\test_preprocessed\\IMG_8082_1024_1024.png: 640x640 6 apples, 5.6ms\n",
      "image 180/252 C:\\Users\\pchau\\Documents\\TCC\\dataset\\images\\test_preprocessed\\IMG_8082_1024_4096.png: 640x640 14 apples, 5.7ms\n",
      "image 181/252 C:\\Users\\pchau\\Documents\\TCC\\dataset\\images\\test_preprocessed\\IMG_8083_0_1024.png: 640x640 13 apples, 5.7ms\n",
      "image 182/252 C:\\Users\\pchau\\Documents\\TCC\\dataset\\images\\test_preprocessed\\IMG_8083_2048_4096.png: 640x640 6 apples, 6.6ms\n",
      "image 183/252 C:\\Users\\pchau\\Documents\\TCC\\dataset\\images\\test_preprocessed\\IMG_8084_0_3072.png: 640x640 28 apples, 6.4ms\n",
      "image 184/252 C:\\Users\\pchau\\Documents\\TCC\\dataset\\images\\test_preprocessed\\IMG_8084_1024_3072.png: 640x640 10 apples, 4.9ms\n",
      "image 185/252 C:\\Users\\pchau\\Documents\\TCC\\dataset\\images\\test_preprocessed\\IMG_8084_1024_4096.png: 640x640 6 apples, 9.1ms\n",
      "image 186/252 C:\\Users\\pchau\\Documents\\TCC\\dataset\\images\\test_preprocessed\\IMG_8085_0_1024.png: 640x640 8 apples, 5.4ms\n",
      "image 187/252 C:\\Users\\pchau\\Documents\\TCC\\dataset\\images\\test_preprocessed\\IMG_8085_0_4096.png: 640x640 9 apples, 8.8ms\n",
      "image 188/252 C:\\Users\\pchau\\Documents\\TCC\\dataset\\images\\test_preprocessed\\IMG_8085_1024_3072.png: 640x640 6 apples, 4.8ms\n",
      "image 189/252 C:\\Users\\pchau\\Documents\\TCC\\dataset\\images\\test_preprocessed\\IMG_8087_1024_1024.png: 640x640 4 apples, 4.8ms\n",
      "image 190/252 C:\\Users\\pchau\\Documents\\TCC\\dataset\\images\\test_preprocessed\\IMG_8088_0_1024.png: 640x640 7 apples, 7.2ms\n",
      "image 191/252 C:\\Users\\pchau\\Documents\\TCC\\dataset\\images\\test_preprocessed\\IMG_8088_1024_1024.png: 640x640 4 apples, 6.7ms\n",
      "image 192/252 C:\\Users\\pchau\\Documents\\TCC\\dataset\\images\\test_preprocessed\\IMG_8088_1024_2048.png: 640x640 6 apples, 6.2ms\n",
      "image 193/252 C:\\Users\\pchau\\Documents\\TCC\\dataset\\images\\test_preprocessed\\IMG_8089_1024_1024.png: 640x640 4 apples, 8.6ms\n",
      "image 194/252 C:\\Users\\pchau\\Documents\\TCC\\dataset\\images\\test_preprocessed\\IMG_8089_2048_4096.png: 640x640 11 apples, 6.7ms\n",
      "image 195/252 C:\\Users\\pchau\\Documents\\TCC\\dataset\\images\\test_preprocessed\\IMG_8090_1024_4096.png: 640x640 10 apples, 5.9ms\n",
      "image 196/252 C:\\Users\\pchau\\Documents\\TCC\\dataset\\images\\test_preprocessed\\IMG_8091_1024_1024.png: 640x640 4 apples, 7.2ms\n",
      "image 197/252 C:\\Users\\pchau\\Documents\\TCC\\dataset\\images\\test_preprocessed\\IMG_8091_1024_4096.png: 640x640 9 apples, 6.2ms\n",
      "image 198/252 C:\\Users\\pchau\\Documents\\TCC\\dataset\\images\\test_preprocessed\\IMG_8092_0_1024.png: 640x640 5 apples, 11.7ms\n",
      "image 199/252 C:\\Users\\pchau\\Documents\\TCC\\dataset\\images\\test_preprocessed\\IMG_8092_1024_2048.png: 640x640 3 apples, 6.6ms\n",
      "image 200/252 C:\\Users\\pchau\\Documents\\TCC\\dataset\\images\\test_preprocessed\\IMG_8093_0_3072.png: 640x640 9 apples, 7.5ms\n",
      "image 201/252 C:\\Users\\pchau\\Documents\\TCC\\dataset\\images\\test_preprocessed\\IMG_8093_0_4096.png: 640x640 10 apples, 6.8ms\n",
      "image 202/252 C:\\Users\\pchau\\Documents\\TCC\\dataset\\images\\test_preprocessed\\IMG_8094_1024_3072.png: 640x640 6 apples, 8.2ms\n",
      "image 203/252 C:\\Users\\pchau\\Documents\\TCC\\dataset\\images\\test_preprocessed\\IMG_8096_1024_3072.png: 640x640 24 apples, 9.8ms\n",
      "image 204/252 C:\\Users\\pchau\\Documents\\TCC\\dataset\\images\\test_preprocessed\\IMG_8106_2048_2048.png: 640x640 2 apples, 13.3ms\n",
      "image 205/252 C:\\Users\\pchau\\Documents\\TCC\\dataset\\images\\test_preprocessed\\IMG_8107_2048_3072.png: 640x640 10 apples, 16.7ms\n",
      "image 206/252 C:\\Users\\pchau\\Documents\\TCC\\dataset\\images\\test_preprocessed\\IMG_8108_0_3072.png: 640x640 3 apples, 13.9ms\n",
      "image 207/252 C:\\Users\\pchau\\Documents\\TCC\\dataset\\images\\test_preprocessed\\IMG_8108_2048_3072.png: 640x640 11 apples, 13.8ms\n",
      "image 208/252 C:\\Users\\pchau\\Documents\\TCC\\dataset\\images\\test_preprocessed\\IMG_8111_2048_1024.png: 640x640 1 apple, 8.9ms\n",
      "image 209/252 C:\\Users\\pchau\\Documents\\TCC\\dataset\\images\\test_preprocessed\\IMG_8112_0_0.png: 640x640 1 apple, 13.2ms\n",
      "image 210/252 C:\\Users\\pchau\\Documents\\TCC\\dataset\\images\\test_preprocessed\\IMG_8113_0_3072.png: 640x640 11 apples, 13.6ms\n",
      "image 211/252 C:\\Users\\pchau\\Documents\\TCC\\dataset\\images\\test_preprocessed\\IMG_8113_1024_3072.png: 640x640 3 apples, 17.1ms\n",
      "image 212/252 C:\\Users\\pchau\\Documents\\TCC\\dataset\\images\\test_preprocessed\\IMG_8113_2048_1024.png: 640x640 9 apples, 21.1ms\n",
      "image 213/252 C:\\Users\\pchau\\Documents\\TCC\\dataset\\images\\test_preprocessed\\IMG_8114_0_1024.png: 640x640 5 apples, 12.5ms\n",
      "image 214/252 C:\\Users\\pchau\\Documents\\TCC\\dataset\\images\\test_preprocessed\\IMG_8114_1024_3072.png: 640x640 4 apples, 14.3ms\n",
      "image 215/252 C:\\Users\\pchau\\Documents\\TCC\\dataset\\images\\test_preprocessed\\IMG_8115_0_1024.png: 640x640 3 apples, 15.0ms\n",
      "image 216/252 C:\\Users\\pchau\\Documents\\TCC\\dataset\\images\\test_preprocessed\\IMG_8115_1024_4096.png: 640x640 6 apples, 13.3ms\n",
      "image 217/252 C:\\Users\\pchau\\Documents\\TCC\\dataset\\images\\test_preprocessed\\IMG_8116_0_0.png: 640x640 5 apples, 13.3ms\n",
      "image 218/252 C:\\Users\\pchau\\Documents\\TCC\\dataset\\images\\test_preprocessed\\IMG_8116_2048_3072.png: 640x640 24 apples, 13.6ms\n",
      "image 219/252 C:\\Users\\pchau\\Documents\\TCC\\dataset\\images\\test_preprocessed\\IMG_8117_1024_1024.png: 640x640 6 apples, 19.1ms\n",
      "image 220/252 C:\\Users\\pchau\\Documents\\TCC\\dataset\\images\\test_preprocessed\\IMG_8117_2048_2048.png: 640x640 9 apples, 12.8ms\n",
      "image 221/252 C:\\Users\\pchau\\Documents\\TCC\\dataset\\images\\test_preprocessed\\IMG_8118_0_2048.png: 640x640 24 apples, 16.6ms\n",
      "image 222/252 C:\\Users\\pchau\\Documents\\TCC\\dataset\\images\\test_preprocessed\\IMG_8118_1024_0.png: 640x640 4 apples, 17.0ms\n",
      "image 223/252 C:\\Users\\pchau\\Documents\\TCC\\dataset\\images\\test_preprocessed\\IMG_8118_1024_1024.png: 640x640 9 apples, 16.4ms\n",
      "image 224/252 C:\\Users\\pchau\\Documents\\TCC\\dataset\\images\\test_preprocessed\\IMG_8118_1024_2048.png: 640x640 13 apples, 15.2ms\n",
      "image 225/252 C:\\Users\\pchau\\Documents\\TCC\\dataset\\images\\test_preprocessed\\IMG_8119_1024_4096.png: 640x640 21 apples, 13.2ms\n",
      "image 226/252 C:\\Users\\pchau\\Documents\\TCC\\dataset\\images\\test_preprocessed\\IMG_8119_2048_2048.png: 640x640 10 apples, 11.1ms\n",
      "image 227/252 C:\\Users\\pchau\\Documents\\TCC\\dataset\\images\\test_preprocessed\\IMG_8120_0_1024.png: 640x640 18 apples, 12.6ms\n",
      "image 228/252 C:\\Users\\pchau\\Documents\\TCC\\dataset\\images\\test_preprocessed\\IMG_8121_0_1024.png: 640x640 8 apples, 19.6ms\n",
      "image 229/252 C:\\Users\\pchau\\Documents\\TCC\\dataset\\images\\test_preprocessed\\IMG_8121_0_4096.png: 640x640 21 apples, 19.4ms\n",
      "image 230/252 C:\\Users\\pchau\\Documents\\TCC\\dataset\\images\\test_preprocessed\\IMG_8121_1024_0.png: 640x640 6 apples, 15.2ms\n",
      "image 231/252 C:\\Users\\pchau\\Documents\\TCC\\dataset\\images\\test_preprocessed\\IMG_8122_1024_0.png: 640x640 2 apples, 14.6ms\n",
      "image 232/252 C:\\Users\\pchau\\Documents\\TCC\\dataset\\images\\test_preprocessed\\IMG_8122_2048_0.png: 640x640 3 apples, 16.4ms\n",
      "image 233/252 C:\\Users\\pchau\\Documents\\TCC\\dataset\\images\\test_preprocessed\\IMG_8122_2048_1024.png: 640x640 4 apples, 12.8ms\n",
      "image 234/252 C:\\Users\\pchau\\Documents\\TCC\\dataset\\images\\test_preprocessed\\IMG_8122_2048_2048.png: 640x640 8 apples, 16.7ms\n",
      "image 235/252 C:\\Users\\pchau\\Documents\\TCC\\dataset\\images\\test_preprocessed\\IMG_8124_0_2048.png: 640x640 16 apples, 16.8ms\n",
      "image 236/252 C:\\Users\\pchau\\Documents\\TCC\\dataset\\images\\test_preprocessed\\IMG_8126_2048_0.png: 640x640 4 apples, 14.4ms\n",
      "image 237/252 C:\\Users\\pchau\\Documents\\TCC\\dataset\\images\\test_preprocessed\\IMG_8126_2048_3072.png: 640x640 22 apples, 16.3ms\n",
      "image 238/252 C:\\Users\\pchau\\Documents\\TCC\\dataset\\images\\test_preprocessed\\IMG_8127_2048_4096.png: 640x640 9 apples, 17.7ms\n",
      "image 239/252 C:\\Users\\pchau\\Documents\\TCC\\dataset\\images\\test_preprocessed\\IMG_8128_2048_2048.png: 640x640 10 apples, 16.5ms\n",
      "image 240/252 C:\\Users\\pchau\\Documents\\TCC\\dataset\\images\\test_preprocessed\\IMG_8129_0_0.png: 640x640 3 apples, 13.1ms\n",
      "image 241/252 C:\\Users\\pchau\\Documents\\TCC\\dataset\\images\\test_preprocessed\\IMG_8129_0_1024.png: 640x640 7 apples, 15.2ms\n",
      "image 242/252 C:\\Users\\pchau\\Documents\\TCC\\dataset\\images\\test_preprocessed\\IMG_8129_1024_0.png: 640x640 3 apples, 12.8ms\n",
      "image 243/252 C:\\Users\\pchau\\Documents\\TCC\\dataset\\images\\test_preprocessed\\IMG_8129_1024_2048.png: 640x640 14 apples, 13.5ms\n",
      "image 244/252 C:\\Users\\pchau\\Documents\\TCC\\dataset\\images\\test_preprocessed\\IMG_8129_1024_3072.png: 640x640 14 apples, 10.3ms\n",
      "image 245/252 C:\\Users\\pchau\\Documents\\TCC\\dataset\\images\\test_preprocessed\\IMG_8129_1024_4096.png: 640x640 10 apples, 16.7ms\n",
      "image 246/252 C:\\Users\\pchau\\Documents\\TCC\\dataset\\images\\test_preprocessed\\IMG_8130_0_2048.png: 640x640 14 apples, 13.5ms\n",
      "image 247/252 C:\\Users\\pchau\\Documents\\TCC\\dataset\\images\\test_preprocessed\\IMG_8131_0_1024.png: 640x640 5 apples, 15.6ms\n",
      "image 248/252 C:\\Users\\pchau\\Documents\\TCC\\dataset\\images\\test_preprocessed\\IMG_8131_1024_3072.png: 640x640 10 apples, 13.9ms\n",
      "image 249/252 C:\\Users\\pchau\\Documents\\TCC\\dataset\\images\\test_preprocessed\\IMG_8131_1024_4096.png: 640x640 7 apples, 13.7ms\n",
      "image 250/252 C:\\Users\\pchau\\Documents\\TCC\\dataset\\images\\test_preprocessed\\IMG_8132_0_2048.png: 640x640 8 apples, 16.2ms\n",
      "image 251/252 C:\\Users\\pchau\\Documents\\TCC\\dataset\\images\\test_preprocessed\\IMG_8132_1024_0.png: 640x640 4 apples, 17.2ms\n",
      "image 252/252 C:\\Users\\pchau\\Documents\\TCC\\dataset\\images\\test_preprocessed\\IMG_8132_2048_0.png: 640x640 2 apples, 22.5ms\n",
      "Speed: 3.6ms preprocess, 8.6ms inference, 1.6ms postprocess per image at shape (1, 3, 640, 640)\n",
      "Results saved to \u001b[1mruns\\detect\\predict3\u001b[0m\n",
      "251 labels saved to runs\\detect\\predict3\\labels\n"
     ]
    }
   ],
   "source": [
    "from ultralytics import YOLO\n",
    "\n",
    "# Carregar o modelo treinado\n",
    "model = YOLO('C:\\\\Users\\\\píchau\\\\Documents\\\\TCC\\\\yolov8-env\\\\runs\\\\detect\\\\train_clahe_gauss\\\\weights\\\\best.pt')  # Altere para o caminho do seu modelo\n",
    "\n",
    "# Executar a inferência nas imagens de teste\n",
    "results = model.predict(source='C:\\\\Users\\\\píchau\\\\Documents\\\\TCC\\\\dataset\\\\images\\\\test_preprocessed',  # Altere para o diretório das imagens de teste\n",
    "                        conf=0.3,  # Confiança mínima para detectar objetos\n",
    "                        save=True,  # Salvar resultados em arquivos\n",
    "                        save_txt=True,  # Salvar resultados em arquivos TXT\n",
    "                        show=False)  # Mostrar resultados na tela"
   ]
  }
 ],
 "metadata": {
  "kernelspec": {
   "display_name": "yolov8-env",
   "language": "python",
   "name": "python3"
  },
  "language_info": {
   "codemirror_mode": {
    "name": "ipython",
    "version": 3
   },
   "file_extension": ".py",
   "mimetype": "text/x-python",
   "name": "python",
   "nbconvert_exporter": "python",
   "pygments_lexer": "ipython3",
   "version": "3.12.2"
  }
 },
 "nbformat": 4,
 "nbformat_minor": 2
}
